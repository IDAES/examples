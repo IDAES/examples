{
 "cells": [
  {
   "cell_type": "code",
   "execution_count": null,
   "metadata": {},
   "outputs": [],
   "source": [
    "###############################################################################\n",
    "# The Institute for the Design of Advanced Energy Systems Integrated Platform\n",
    "# Framework (IDAES IP) was produced under the DOE Institute for the\n",
    "# Design of Advanced Energy Systems (IDAES).\n",
    "#\n",
    "# Copyright (c) 2018-2023 by the software owners: The Regents of the\n",
    "# University of California, through Lawrence Berkeley National Laboratory,\n",
    "# National Technology & Engineering Solutions of Sandia, LLC, Carnegie Mellon\n",
    "# University, West Virginia University Research Corporation, et al.\n",
    "# All rights reserved.  Please see the files COPYRIGHT.md and LICENSE.md\n",
    "# for full copyright and license information.\n",
    "###############################################################################"
   ]
  },
  {
   "cell_type": "markdown",
   "metadata": {},
   "source": [
    "# SOC Flowsheet --- PID Control\n",
    "Author: Douglas Allan\n",
    "Maintainer: Douglas Allan  \n",
    "Updated: 2024-26-03\n",
    "\n",
    "ADD MORE LATER"
   ]
  },
  {
   "cell_type": "code",
   "execution_count": null,
   "metadata": {},
   "outputs": [],
   "source": [
    "import os\n",
    "import time\n",
    "from enum import Enum\n",
    "import pandas as pd\n",
    "import numpy as np\n",
    "\n",
    "import pyomo.environ as pyo\n",
    "from pyomo.common.fileutils import this_file_dir\n",
    "from pyomo.common.collections import ComponentSet, ComponentMap\n",
    "from pyomo.util.calc_var_value import calculate_variable_from_constraint\n",
    "\n",
    "import idaes\n",
    "import idaes.core.util.scaling as iscale\n",
    "from pyomo.dae import ContinuousSet, DerivativeVar\n",
    "from idaes.core.solvers import petsc\n",
    "import idaes.logger as idaeslog\n",
    "import idaes.core.util.model_serializer as ms\n",
    "from idaes.core.util.model_statistics import degrees_of_freedom as dof\n",
    "from soec_dynamic_flowsheet_mk2 import SoecStandaloneFlowsheet\n",
    "import matplotlib.pyplot as plt\n",
    "import matplotlib.ticker as mtick\n",
    "from idaes.models.control.controller import ControllerType, ControllerMVBoundType, ControllerAntiwindupType\n",
    "from save_results import save_results\n",
    "from idaes.models.properties import iapws95\n",
    "from idaes.core.util.model_statistics import degrees_of_freedom as dof"
   ]
  }
 ],
 "metadata": {
  "kernelspec": {
   "display_name": "Python 3 (ipykernel)",
   "language": "python",
   "name": "python3"
  },
  "language_info": {
   "codemirror_mode": {
    "name": "ipython",
    "version": 3
   },
   "file_extension": ".py",
   "mimetype": "text/x-python",
   "name": "python",
   "nbconvert_exporter": "python",
   "pygments_lexer": "ipython3",
   "version": "3.10.14"
  }
 },
 "nbformat": 4,
 "nbformat_minor": 4
}
