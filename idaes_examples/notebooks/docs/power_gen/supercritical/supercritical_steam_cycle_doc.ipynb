{
  "cells": [
    {
      "cell_type": "markdown",
      "metadata": {},
      "source": [
        "# Supercritical Steam Cycle Example\n",
        "Maintainer: Andrew Lee  \n",
        "Author: Andrew Lee  \n",
        "\n",
        "This example uses Jupyter Lab or Jupyter notebook, and demonstrates a supercritical pulverized coal (SCPC) steam cycle model.  See the ```supercritical_steam_cycle.py``` to see more information on how to assemble a power plant model flowsheet. Code comments in that file will guide you through the process."
      ]
    },
    {
      "cell_type": "markdown",
      "metadata": {},
      "source": [
        "## Model Description\n",
        "\n",
        "The example model doesn't represent any particular power plant, but should be a reasonable approximation of a typical plant.  The gross power output is about 620 MW.  The process flow diagram (PFD) can be shown using the code below. The initial PFD contains spaces for model results, to be filled in later.\n",
        "\n",
        "To get a more detailed look at the model structure, you may find it useful to review ```supercritical_steam_cycle.py``` first. Although there is no detailed boiler model, there are constraints in the model to complete the steam loop through the boiler and calculate boiler heat input to the steam cycle.  The efficiency calculation for the steam cycle doesn't account for heat loss in the boiler, which would be a result of a more detailed boiler model."
      ]
    },
    {
      "cell_type": "code",
      "execution_count": 1,
      "metadata": {},
      "outputs": [],
      "source": [
        "# pkg_resources is used here to get the svg information from the\n",
        "# installed IDAES package\n",
        "\n",
        "import pkg_resources\n",
        "from IPython.display import SVG, display\n",
        "\n",
        "# Get the contents of the PFD (which is an svg file)\n",
        "init_pfd = pkg_resources.resource_string(\n",
        "    \"idaes.models_extra.power_generation.flowsheets.supercritical_steam_cycle\",\n",
        "    \"supercritical_steam_cycle.svg\",\n",
        ")\n",
        "\n",
        "# Make the svg contents into an SVG object and display it.\n",
        "display(SVG(init_pfd))"
      ]
    },
    {
      "cell_type": "markdown",
      "metadata": {},
      "source": [
        "## Initialize the steam cycle flowsheet\n",
        "\n",
        "This example is part of the ```idaes``` package, which you should have installed.  To run the example, the example flowsheet is imported from the ```idaes``` package. When you write your own model, you can import and run it in whatever way is appropriate for you.  The Pyomo environment is also imported as ```pyo```, providing easy access to Pyomo functions and classes.\n",
        "\n",
        "The supercritical flowsheet example main function returns a Pyomo concrete mode (m) and a solver object (solver).  The model is also initialized by the ```main()``` function."
      ]
    },
    {
      "cell_type": "code",
      "execution_count": 2,
      "metadata": {},
      "outputs": [],
      "source": [
        "import pyomo.environ as pyo\n",
        "from idaes.models_extra.power_generation.flowsheets.supercritical_steam_cycle import (\n",
        "    main,\n",
        "    pfd_result,\n",
        ")\n",
        "from idaes.core.util.tables import create_stream_table_dataframe\n",
        "\n",
        "m, solver = main()"
      ]
    },
    {
      "cell_type": "markdown",
      "metadata": {},
      "source": [
        "Inside the model, there is a subblock ```fs```.  This is an IDAES flowsheet model, which contains the supercritical steam cycle model. In the flowsheet, the model called ```turb``` is a multistage turbine model.  The turbine model contains an expression for total power, ```power```.  In this case the model is steady-state, but all IDAES models allow for dynamic simulation, and contain time indexes.  Power is indexed by time, and only the \"0\" time point exists.  By convention, in the IDAES framework, power going into a model is positive, so power produced by the turbine is negative.  \n",
        "\n",
        "The property package used for this model uses SI (mks) units of measure, so the power is in Watts. Here a function is defined which can be used to report power output in MW."
      ]
    },
    {
      "cell_type": "code",
      "execution_count": 3,
      "metadata": {},
      "outputs": [],
      "source": [
        "# Define a function to report gross power output in MW\n",
        "def gross_power_mw(model):\n",
        "    # pyo.value(m.fs.turb.power[0]) is the power consumed in Watts\n",
        "    return -pyo.value(model.fs.turb.power[0]) / 1e6\n",
        "\n",
        "\n",
        "# Show the gross power\n",
        "gross_power_mw(m)"
      ]
    },
    {
      "cell_type": "markdown",
      "metadata": {},
      "source": [
        "## Change the model inputs\n",
        "\n",
        "The turbine in this example simulates partial arc admission with four arcs, so there are four throttle valves.  For this example, we will close one of the valves to 25% open, and observe the result."
      ]
    },
    {
      "cell_type": "code",
      "execution_count": 4,
      "metadata": {},
      "outputs": [],
      "source": [
        "m.fs.turb.throttle_valve[1].valve_opening[:].value = 0.25"
      ]
    },
    {
      "cell_type": "markdown",
      "metadata": {},
      "source": [
        "Next, we re-solve the model using the solver created by the ```supercritical_steam_cycle.py``` script."
      ]
    },
    {
      "cell_type": "code",
      "execution_count": null,
      "metadata": {
        "scrolled": true
      },
      "outputs": [],
      "source": [
        "solver.solve(m, tee=True)"
      ]
    },
    {
      "cell_type": "markdown",
      "metadata": {},
      "source": [
        "Now we can check the gross power output again."
      ]
    },
    {
      "cell_type": "code",
      "execution_count": null,
      "metadata": {},
      "outputs": [],
      "source": [
        "gross_power_mw(m)"
      ]
    },
    {
      "cell_type": "markdown",
      "metadata": {},
      "source": [
        "## Creating a PFD with results and a stream table\n",
        "\n",
        "A more detailed look at the model results can be obtained by creating a stream table and putting key results on the PFD.  Of course, any unit model or stream result can be obtained from the model."
      ]
    },
    {
      "cell_type": "code",
      "execution_count": 7,
      "metadata": {},
      "outputs": [],
      "source": [
        "# Create a Pandas dataframe with stream results\n",
        "df = create_stream_table_dataframe(streams=m._streams, orient=\"index\")\n",
        "\n",
        "# Create a new PFD with simulation results\n",
        "res_pfd = pfd_result(m, df, svg=init_pfd)"
      ]
    },
    {
      "cell_type": "code",
      "execution_count": 8,
      "metadata": {},
      "outputs": [],
      "source": [
        "# Display PFD with results.\n",
        "display(SVG(res_pfd))"
      ]
    },
    {
      "cell_type": "code",
      "execution_count": 9,
      "metadata": {
        "scrolled": true
      },
      "outputs": [],
      "source": [
        "# Display the stream table.\n",
        "df"
      ]
    },
    {
      "cell_type": "code",
      "execution_count": null,
      "metadata": {},
      "outputs": [],
      "source": []
    }
  ],
  "metadata": {
    "kernelspec": {
      "display_name": "Python 3 (ipykernel)",
      "language": "python",
      "name": "python3"
    },
    "language_info": {
      "codemirror_mode": {
        "name": "ipython",
        "version": 3
      },
      "file_extension": ".py",
      "mimetype": "text/x-python",
      "name": "python",
      "nbconvert_exporter": "python",
      "pygments_lexer": "ipython3",
      "version": "3.7.11"
    }
  },
  "nbformat": 4,
  "nbformat_minor": 3
}