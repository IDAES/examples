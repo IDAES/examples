{
  "cells": [
    {
      "cell_type": "markdown",
      "metadata": {},
      "source": [
        "# Supercritical Power Plant Flowsheet Example\n",
        "Maintainer: Andrew Lee  \n",
        "Author: John Eslick  \n",
        "\n",
        "\n",
        "## 1. Introduction\n",
        "\n",
        "\n",
        "This example is to demonstrate a supercritical pulverized coal power plant model. The power plant consists of two major sub-systems (or flowsheets), a boiler heat exchanger network and a steam cycle. This jupyter notebook provides the workflow to import the steam cycle flowsheet, import the boiler heat exchanger network, connect and run both the flowsheets, and display the main results."
      ]
    },
    {
      "cell_type": "markdown",
      "metadata": {},
      "source": [
        "## 2. Model Description\n",
        "\n",
        "The case study demonstrated here is for a ~620MW gross power output. The process flow diagram is shown in section 3 of this jupyter notebook. Figure 1 shows the boiler heat exchanger network, while, figure 2 shows the steam cycle system. \n",
        "\n",
        "The streams connecting both the flowsheets are:    \n",
        "&emsp; a) The main steam: that connects the boiler attemperator to the throttle valves of the high pressure turbine \n",
        "&emsp; b) The cold reheat: that connects the final stage of the high pressure turbine to the boiler reheater    \n",
        "&emsp; c) The hot reheat: that connects the boiler reheater to the intermediate pressure turbine  \n",
        "&emsp; d) The main feed water: that connects the last feed water heater to the boiler economizer    \n",
        "  \n",
        "To get a more detailed description of the power plant flowsheet, review the ```SCPC_full_plant.py``` file. For details in terms of specific power plant units (for example dimensions, parameters, and variables), more information can be found at ```supercritical_steam_cycle.py``` and ```boiler_subflowsheet.py```.\n"
      ]
    },
    {
      "cell_type": "markdown",
      "metadata": {},
      "source": [
        "## 3. Process Flow Diagram (PFD)"
      ]
    },
    {
      "cell_type": "code",
      "execution_count": 1,
      "metadata": {},
      "outputs": [],
      "source": [
        "from IPython.display import SVG, display\n",
        "\n",
        "display(\n",
        "    \"Boiler subsystem PFD\",\n",
        "    SVG(filename=\"Boiler_scpc_PFD.svg\"),\n",
        "    \"Steam Cycle subsystem PFD\",\n",
        "    SVG(filename=\"supercritical_steam_cycle.svg\"),\n",
        ")"
      ]
    },
    {
      "cell_type": "markdown",
      "metadata": {},
      "source": [
        "## 4. Run power plant model example\n",
        "\n",
        "This example runs the main ``SCPC_full_plant.py`` script, which, imports two flowsheets (steam cycle and boiler heat exchanger network), builds arcs to connect both flowsheets, and run the full power plant model."
      ]
    },
    {
      "cell_type": "code",
      "execution_count": 2,
      "metadata": {
        "scrolled": true
      },
      "outputs": [],
      "source": [
        "# import SCPC power plant\n",
        "# initialize steam cycle, initialize boiler heat exchanger network, connect both flowsheets,\n",
        "# and run SCPC plant.\n",
        "from idaes.models_extra.power_generation.flowsheets.supercritical_power_plant.SCPC_full_plant import (\n",
        "    main,\n",
        ")\n",
        "\n",
        "m, res = main()"
      ]
    },
    {
      "cell_type": "markdown",
      "metadata": {},
      "source": [
        "## 5. Creating a PFD with results and a stream table\n",
        "\n",
        "The steam cycle results can be displayed on the PFD and as a stream table, by running the following cells."
      ]
    },
    {
      "cell_type": "code",
      "execution_count": 3,
      "metadata": {},
      "outputs": [],
      "source": [
        "import pkg_resources\n",
        "import pyomo.environ as pyo\n",
        "from idaes.models_extra.power_generation.flowsheets.supercritical_steam_cycle import (\n",
        "    pfd_result,\n",
        ")\n",
        "from idaes.core.util.tables import create_stream_table_dataframe\n",
        "\n",
        "# Create stream results as Pandas dataframe\n",
        "df = create_stream_table_dataframe(streams=m._streams, orient=\"index\")\n",
        "# Create a new PFD with simulation results\n",
        "init_pfd = pkg_resources.resource_string(\n",
        "    \"idaes.models_extra.power_generation.flowsheets.supercritical_steam_cycle\",\n",
        "    \"supercritical_steam_cycle.svg\",\n",
        ")\n",
        "res_pfd = pfd_result(m, df, svg=init_pfd)\n",
        "# Display PFD with results.\n",
        "display(SVG(res_pfd))"
      ]
    },
    {
      "cell_type": "code",
      "execution_count": 4,
      "metadata": {
        "scrolled": true
      },
      "outputs": [],
      "source": [
        "# Display the stream table.\n",
        "df"
      ]
    },
    {
      "cell_type": "code",
      "execution_count": null,
      "metadata": {},
      "outputs": [],
      "source": []
    }
  ],
  "metadata": {
    "kernelspec": {
      "display_name": "Python 3 (ipykernel)",
      "language": "python",
      "name": "python3"
    },
    "language_info": {
      "codemirror_mode": {
        "name": "ipython",
        "version": 3
      },
      "file_extension": ".py",
      "mimetype": "text/x-python",
      "name": "python",
      "nbconvert_exporter": "python",
      "pygments_lexer": "ipython3",
      "version": "3.9.12"
    }
  },
  "nbformat": 4,
  "nbformat_minor": 3
}