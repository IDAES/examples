{
 "cells": [
  {
   "cell_type": "code",
   "execution_count": 1,
   "metadata": {
    "pycharm": {
     "is_executing": true
    },
    "tags": [
     "header",
     "hide-cell"
    ]
   },
   "outputs": [],
   "source": [
    "###############################################################################\n",
    "# The Institute for the Design of Advanced Energy Systems Integrated Platform\n",
    "# Framework (IDAES IP) was produced under the DOE Institute for the\n",
    "# Design of Advanced Energy Systems (IDAES).\n",
    "#\n",
    "# Copyright (c) 2018-2025 by the software owners: The Regents of the\n",
    "# University of California, through Lawrence Berkeley National Laboratory,\n",
    "# National Technology & Engineering Solutions of Sandia, LLC, Carnegie Mellon\n",
    "# University, West Virginia University Research Corporation, et al.\n",
    "# All rights reserved.  Please see the files COPYRIGHT.md and LICENSE.md\n",
    "# for full copyright and license information.\n",
    "#\n",
    "###############################################################################"
   ]
  },
  {
   "cell_type": "markdown",
   "metadata": {},
   "source": [
    "# PETSc Time-stepping Solver -- PID Control and Steam Example\n",
    "Author: John Eslick  \n",
    "Maintainer: John Eslick  \n",
    "Updated: 2023-06-01\n",
    "\n",
    "This example provides an overview of the PETSc time-stepping solver utilities in IDAES, which can be used to solve systems of differential algebraic equations (DAEs). PETSc is a solver suite developed primarily by Argonne National Lab (https://petsc.org/release/). IDAES provides a wrapper for PETSc (https://github.com/IDAES/idaes-ext/tree/main/petsc) that uses the AMPL solver interface (https://ampl.com/resources/learn-more/hooking-your-solver-to-ampl/) and utility functions that allow Pyomo and Pyomo.DAE (https://pyomo.readthedocs.io/en/stable/modeling_extensions/dae.html) problems to be solved using PETSc.\n",
    "\n",
    "This demonstration uses the IDAES PID controller model and a flowsheet arranged like so:\n",
    "\n",
    "```\n",
    "             \n",
    "->--|><|------[]------|><|-->-\n",
    "   valve_1   tank   valve_2   \n",
    "```\n",
    "\n",
    "where the tank pressure is controlled by the opening of valve_1."
   ]
  },
  {
   "cell_type": "markdown",
   "metadata": {},
   "source": [
    "## Prerequisites\n",
    "\n",
    "The PETSc solver is an extra download for IDAES, which can be downloaded using the command ```idaes get-extensions --extra petsc```, if it is not installed already. See the IDAES solver documentation for more information (https://idaes-pse.readthedocs.io/en/stable/reference_guides/core/solvers.html).\n",
    "\n",
    "You may want to review the [\"PETSc Time-stepping Solver -- Chemical Akzo Nobel Example\"](petsc_chem_example_doc.md) notebook first."
   ]
  },
  {
   "cell_type": "markdown",
   "metadata": {},
   "source": [
    "## Imports"
   ]
  },
  {
   "cell_type": "code",
   "execution_count": 2,
   "metadata": {},
   "outputs": [],
   "source": [
    "import numpy as np\n",
    "import matplotlib.pyplot as plt\n",
    "\n",
    "import pyomo.environ as pyo\n",
    "import pyomo.dae as pyodae\n",
    "import idaes.core.solvers.petsc as petsc  # petsc utilities module\n",
    "import idaes_examples.mod.dae.petsc.pid_steam_tank as pid\n",
    "from idaes.core.util.math import smooth_max, smooth_min"
   ]
  },
  {
   "cell_type": "markdown",
   "metadata": {},
   "source": [
    "## Model Set Up"
   ]
  },
  {
   "cell_type": "code",
   "execution_count": 3,
   "metadata": {},
   "outputs": [],
   "source": [
    "# to see the model code uncomment the line below\n",
    "# ??pid"
   ]
  },
  {
   "cell_type": "code",
   "execution_count": 4,
   "metadata": {},
   "outputs": [
    {
     "name": "stdout",
     "output_type": "stream",
     "text": [
      "2025-03-17 17:30:28 [INFO] idaes.init.fs.valve_1: Initialization Complete: optimal - Optimal Solution Found\n"
     ]
    },
    {
     "name": "stdout",
     "output_type": "stream",
     "text": [
      "2025-03-17 17:30:28 [INFO] idaes.init.fs.tank.control_volume: Initialization Complete\n"
     ]
    },
    {
     "name": "stdout",
     "output_type": "stream",
     "text": [
      "2025-03-17 17:30:28 [INFO] idaes.init.fs.tank: Initialization Complete: optimal - Optimal Solution Found\n"
     ]
    },
    {
     "name": "stdout",
     "output_type": "stream",
     "text": [
      "2025-03-17 17:30:28 [INFO] idaes.init.fs.valve_2: Initialization Complete: optimal - Optimal Solution Found\n"
     ]
    }
   ],
   "source": [
    "m = pid.create_model(\n",
    "    time_set=[0, 12],\n",
    "    nfe=1,\n",
    "    calc_integ=True,\n",
    ")"
   ]
  },
  {
   "cell_type": "markdown",
   "metadata": {},
   "source": [
    "## Solve"
   ]
  },
  {
   "cell_type": "code",
   "execution_count": 5,
   "metadata": {},
   "outputs": [
    {
     "ename": "RuntimeError",
     "evalue": "No PETSc executable found.",
     "output_type": "error",
     "traceback": [
      "\u001b[31m---------------------------------------------------------------------------\u001b[39m",
      "\u001b[31mRuntimeError\u001b[39m                              Traceback (most recent call last)",
      "\u001b[36mCell\u001b[39m\u001b[36m \u001b[39m\u001b[32mIn[5]\u001b[39m\u001b[32m, line 1\u001b[39m\n\u001b[32m----> \u001b[39m\u001b[32m1\u001b[39m result = \u001b[43mpetsc\u001b[49m\u001b[43m.\u001b[49m\u001b[43mpetsc_dae_by_time_element\u001b[49m\u001b[43m(\u001b[49m\n\u001b[32m      2\u001b[39m \u001b[43m    \u001b[49m\u001b[43mm\u001b[49m\u001b[43m,\u001b[49m\n\u001b[32m      3\u001b[39m \u001b[43m    \u001b[49m\u001b[43mtime\u001b[49m\u001b[43m=\u001b[49m\u001b[43mm\u001b[49m\u001b[43m.\u001b[49m\u001b[43mfs\u001b[49m\u001b[43m.\u001b[49m\u001b[43mtime\u001b[49m\u001b[43m,\u001b[49m\n\u001b[32m      4\u001b[39m \u001b[43m    \u001b[49m\u001b[43mts_options\u001b[49m\u001b[43m=\u001b[49m\u001b[43m{\u001b[49m\n\u001b[32m      5\u001b[39m \u001b[43m        \u001b[49m\u001b[33;43m\"\u001b[39;49m\u001b[33;43m--ts_type\u001b[39;49m\u001b[33;43m\"\u001b[39;49m\u001b[43m:\u001b[49m\u001b[43m \u001b[49m\u001b[33;43m\"\u001b[39;49m\u001b[33;43mbeuler\u001b[39;49m\u001b[33;43m\"\u001b[39;49m\u001b[43m,\u001b[49m\n\u001b[32m      6\u001b[39m \u001b[43m        \u001b[49m\u001b[33;43m\"\u001b[39;49m\u001b[33;43m--ts_dt\u001b[39;49m\u001b[33;43m\"\u001b[39;49m\u001b[43m:\u001b[49m\u001b[43m \u001b[49m\u001b[32;43m0.1\u001b[39;49m\u001b[43m,\u001b[49m\n\u001b[32m      7\u001b[39m \u001b[43m        \u001b[49m\u001b[33;43m\"\u001b[39;49m\u001b[33;43m--ts_monitor\u001b[39;49m\u001b[33;43m\"\u001b[39;49m\u001b[43m:\u001b[49m\u001b[43m \u001b[49m\u001b[33;43m\"\u001b[39;49m\u001b[33;43m\"\u001b[39;49m\u001b[43m,\u001b[49m\u001b[43m  \u001b[49m\u001b[38;5;66;43;03m# set initial step to 0.1\u001b[39;49;00m\n\u001b[32m      8\u001b[39m \u001b[43m        \u001b[49m\u001b[33;43m\"\u001b[39;49m\u001b[33;43m--ts_save_trajectory\u001b[39;49m\u001b[33;43m\"\u001b[39;49m\u001b[43m:\u001b[49m\u001b[43m \u001b[49m\u001b[32;43m1\u001b[39;49m\u001b[43m,\u001b[49m\n\u001b[32m      9\u001b[39m \u001b[43m    \u001b[49m\u001b[43m}\u001b[49m\u001b[43m,\u001b[49m\n\u001b[32m     10\u001b[39m \u001b[43m)\u001b[49m\n\u001b[32m     11\u001b[39m tj = result.trajectory  \u001b[38;5;66;03m# trajectroy data\u001b[39;00m\n\u001b[32m     12\u001b[39m res = result.results  \u001b[38;5;66;03m# solver status list\u001b[39;00m\n",
      "\u001b[36mFile \u001b[39m\u001b[32m~/miniforge3/envs/idaes_examples_py3.11/lib/python3.11/site-packages/idaes/core/solvers/petsc.py:592\u001b[39m, in \u001b[36mpetsc_dae_by_time_element\u001b[39m\u001b[34m(m, time, timevar, initial_constraints, initial_variables, detect_initial, skip_initial, initial_solver, initial_solver_options, ts_options, keepfiles, symbolic_solver_labels, between, interpolate, calculate_derivatives, previous_trajectory, representative_time, snes_options)\u001b[39m\n\u001b[32m    590\u001b[39m             _sub_problem_scaling_suffix(m, t_block)\n\u001b[32m    591\u001b[39m             \u001b[38;5;28;01mwith\u001b[39;00m idaeslog.solver_log(solve_log, idaeslog.INFO) \u001b[38;5;28;01mas\u001b[39;00m slc:\n\u001b[32m--> \u001b[39m\u001b[32m592\u001b[39m                 res = \u001b[43minitial_solver_obj\u001b[49m\u001b[43m.\u001b[49m\u001b[43msolve\u001b[49m\u001b[43m(\u001b[49m\n\u001b[32m    593\u001b[39m \u001b[43m                    \u001b[49m\u001b[43mt_block\u001b[49m\u001b[43m,\u001b[49m\n\u001b[32m    594\u001b[39m \u001b[43m                    \u001b[49m\u001b[43mtee\u001b[49m\u001b[43m=\u001b[49m\u001b[43mslc\u001b[49m\u001b[43m.\u001b[49m\u001b[43mtee\u001b[49m\u001b[43m,\u001b[49m\n\u001b[32m    595\u001b[39m \u001b[43m                    \u001b[49m\u001b[43msymbolic_solver_labels\u001b[49m\u001b[43m=\u001b[49m\u001b[43msymbolic_solver_labels\u001b[49m\u001b[43m,\u001b[49m\n\u001b[32m    596\u001b[39m \u001b[43m                \u001b[49m\u001b[43m)\u001b[49m\n\u001b[32m    597\u001b[39m             res_list.append(res)\n\u001b[32m    599\u001b[39m tprev = t0\n",
      "\u001b[36mFile \u001b[39m\u001b[32m~/miniforge3/envs/idaes_examples_py3.11/lib/python3.11/site-packages/pyomo/opt/base/solvers.py:534\u001b[39m, in \u001b[36mOptSolver.solve\u001b[39m\u001b[34m(self, *args, **kwds)\u001b[39m\n\u001b[32m    531\u001b[39m \u001b[38;5;28;01mdef\u001b[39;00m\u001b[38;5;250m \u001b[39m\u001b[34msolve\u001b[39m(\u001b[38;5;28mself\u001b[39m, *args, **kwds):\n\u001b[32m    532\u001b[39m \u001b[38;5;250m    \u001b[39m\u001b[33;03m\"\"\"Solve the problem\"\"\"\u001b[39;00m\n\u001b[32m--> \u001b[39m\u001b[32m534\u001b[39m     \u001b[38;5;28;43mself\u001b[39;49m\u001b[43m.\u001b[49m\u001b[43mavailable\u001b[49m\u001b[43m(\u001b[49m\u001b[43mexception_flag\u001b[49m\u001b[43m=\u001b[49m\u001b[38;5;28;43;01mTrue\u001b[39;49;00m\u001b[43m)\u001b[49m\n\u001b[32m    535\u001b[39m     \u001b[38;5;66;03m#\u001b[39;00m\n\u001b[32m    536\u001b[39m     \u001b[38;5;66;03m# If the inputs are models, then validate that they have been\u001b[39;00m\n\u001b[32m    537\u001b[39m     \u001b[38;5;66;03m# constructed! Collect suffix names to try and import from solution.\u001b[39;00m\n\u001b[32m    538\u001b[39m     \u001b[38;5;66;03m#\u001b[39;00m\n\u001b[32m    539\u001b[39m     \u001b[38;5;28;01mfrom\u001b[39;00m\u001b[38;5;250m \u001b[39m\u001b[34;01mpyomo\u001b[39;00m\u001b[34;01m.\u001b[39;00m\u001b[34;01mcore\u001b[39;00m\u001b[34;01m.\u001b[39;00m\u001b[34;01mbase\u001b[39;00m\u001b[34;01m.\u001b[39;00m\u001b[34;01mblock\u001b[39;00m\u001b[38;5;250m \u001b[39m\u001b[38;5;28;01mimport\u001b[39;00m BlockData\n",
      "\u001b[36mFile \u001b[39m\u001b[32m~/miniforge3/envs/idaes_examples_py3.11/lib/python3.11/site-packages/pyomo/solvers/plugins/solvers/ASL.py:119\u001b[39m, in \u001b[36mASL.available\u001b[39m\u001b[34m(self, exception_flag)\u001b[39m\n\u001b[32m    118\u001b[39m \u001b[38;5;28;01mdef\u001b[39;00m\u001b[38;5;250m \u001b[39m\u001b[34mavailable\u001b[39m(\u001b[38;5;28mself\u001b[39m, exception_flag=\u001b[38;5;28;01mTrue\u001b[39;00m):\n\u001b[32m--> \u001b[39m\u001b[32m119\u001b[39m     \u001b[38;5;28;01mif\u001b[39;00m \u001b[38;5;129;01mnot\u001b[39;00m \u001b[38;5;28;43msuper\u001b[39;49m\u001b[43m(\u001b[49m\u001b[43m)\u001b[49m\u001b[43m.\u001b[49m\u001b[43mavailable\u001b[49m\u001b[43m(\u001b[49m\u001b[43mexception_flag\u001b[49m\u001b[43m)\u001b[49m:\n\u001b[32m    120\u001b[39m         \u001b[38;5;28;01mreturn\u001b[39;00m \u001b[38;5;28;01mFalse\u001b[39;00m\n\u001b[32m    121\u001b[39m     \u001b[38;5;28;01mreturn\u001b[39;00m \u001b[38;5;28mself\u001b[39m.version() \u001b[38;5;129;01mis\u001b[39;00m \u001b[38;5;129;01mnot\u001b[39;00m \u001b[38;5;28;01mNone\u001b[39;00m\n",
      "\u001b[36mFile \u001b[39m\u001b[32m~/miniforge3/envs/idaes_examples_py3.11/lib/python3.11/site-packages/pyomo/opt/solver/shellcmd.py:134\u001b[39m, in \u001b[36mSystemCallSolver.available\u001b[39m\u001b[34m(self, exception_flag)\u001b[39m\n\u001b[32m    132\u001b[39m     cm = nullcontext() \u001b[38;5;28;01mif\u001b[39;00m exception_flag \u001b[38;5;28;01melse\u001b[39;00m LoggingIntercept()\n\u001b[32m    133\u001b[39m     \u001b[38;5;28;01mwith\u001b[39;00m cm:\n\u001b[32m--> \u001b[39m\u001b[32m134\u001b[39m         ans = \u001b[38;5;28;43mself\u001b[39;49m\u001b[43m.\u001b[49m\u001b[43mexecutable\u001b[49m\u001b[43m(\u001b[49m\u001b[43m)\u001b[49m\n\u001b[32m    135\u001b[39m \u001b[38;5;28;01mexcept\u001b[39;00m \u001b[38;5;167;01mNotImplementedError\u001b[39;00m:\n\u001b[32m    136\u001b[39m     ans = \u001b[38;5;28;01mNone\u001b[39;00m\n",
      "\u001b[36mFile \u001b[39m\u001b[32m~/miniforge3/envs/idaes_examples_py3.11/lib/python3.11/site-packages/pyomo/opt/solver/shellcmd.py:205\u001b[39m, in \u001b[36mSystemCallSolver.executable\u001b[39m\u001b[34m(self)\u001b[39m\n\u001b[32m    198\u001b[39m \u001b[38;5;28;01mdef\u001b[39;00m\u001b[38;5;250m \u001b[39m\u001b[34mexecutable\u001b[39m(\u001b[38;5;28mself\u001b[39m):\n\u001b[32m    199\u001b[39m \u001b[38;5;250m    \u001b[39m\u001b[33;03m\"\"\"\u001b[39;00m\n\u001b[32m    200\u001b[39m \u001b[33;03m    Returns the executable used by this solver.\u001b[39;00m\n\u001b[32m    201\u001b[39m \u001b[33;03m    \"\"\"\u001b[39;00m\n\u001b[32m    202\u001b[39m     \u001b[38;5;28;01mreturn\u001b[39;00m (\n\u001b[32m    203\u001b[39m         \u001b[38;5;28mself\u001b[39m._user_executable\n\u001b[32m    204\u001b[39m         \u001b[38;5;28;01mif\u001b[39;00m (\u001b[38;5;28mself\u001b[39m._user_executable \u001b[38;5;129;01mis\u001b[39;00m \u001b[38;5;129;01mnot\u001b[39;00m \u001b[38;5;28;01mNone\u001b[39;00m)\n\u001b[32m--> \u001b[39m\u001b[32m205\u001b[39m         \u001b[38;5;28;01melse\u001b[39;00m \u001b[38;5;28;43mself\u001b[39;49m\u001b[43m.\u001b[49m\u001b[43m_default_executable\u001b[49m\u001b[43m(\u001b[49m\u001b[43m)\u001b[49m\n\u001b[32m    206\u001b[39m     )\n",
      "\u001b[36mFile \u001b[39m\u001b[32m~/miniforge3/envs/idaes_examples_py3.11/lib/python3.11/site-packages/idaes/core/solvers/petsc.py:124\u001b[39m, in \u001b[36mPetsc._default_executable\u001b[39m\u001b[34m(self)\u001b[39m\n\u001b[32m    122\u001b[39m executable = Executable(\u001b[33m\"\u001b[39m\u001b[33mpetsc\u001b[39m\u001b[33m\"\u001b[39m)\n\u001b[32m    123\u001b[39m \u001b[38;5;28;01mif\u001b[39;00m \u001b[38;5;129;01mnot\u001b[39;00m executable:\n\u001b[32m--> \u001b[39m\u001b[32m124\u001b[39m     \u001b[38;5;28;01mraise\u001b[39;00m \u001b[38;5;167;01mRuntimeError\u001b[39;00m(\u001b[33m\"\u001b[39m\u001b[33mNo PETSc executable found.\u001b[39m\u001b[33m\"\u001b[39m)\n\u001b[32m    125\u001b[39m \u001b[38;5;28;01mreturn\u001b[39;00m executable.path()\n",
      "\u001b[31mRuntimeError\u001b[39m: No PETSc executable found."
     ]
    }
   ],
   "source": [
    "result = petsc.petsc_dae_by_time_element(\n",
    "    m,\n",
    "    time=m.fs.time,\n",
    "    ts_options={\n",
    "        \"--ts_type\": \"beuler\",\n",
    "        \"--ts_dt\": 0.1,\n",
    "        \"--ts_monitor\": \"\",  # set initial step to 0.1\n",
    "        \"--ts_save_trajectory\": 1,\n",
    "    },\n",
    ")\n",
    "tj = result.trajectory  # trajectroy data\n",
    "res = result.results  # solver status list"
   ]
  },
  {
   "cell_type": "markdown",
   "metadata": {},
   "source": [
    "## Plot Trajectory\n",
    "\n",
    "At the initial conditions the valve is fully open.  At t=0, the controller is activated and the controller adjusts the opening of valve 1 to keep the tank pressure at the setpoint of 300 kPa."
   ]
  },
  {
   "cell_type": "code",
   "execution_count": 6,
   "metadata": {},
   "outputs": [],
   "source": [
    "a = plt.plot(tj.time, tj.get_vec(m.fs.valve_1.valve_opening[12]))\n",
    "a = plt.ylabel(\"valve 1 fraction open\")\n",
    "a = plt.xlabel(\"time (s)\")"
   ]
  },
  {
   "cell_type": "code",
   "execution_count": 7,
   "metadata": {},
   "outputs": [],
   "source": [
    "a = plt.plot(tj.time, tj.get_vec(m.fs.tank.control_volume.properties_out[12].pressure))\n",
    "a = plt.ylabel(\"tank pressure (Pa)\")\n",
    "a = plt.xlabel(\"time (s)\")"
   ]
  },
  {
   "cell_type": "markdown",
   "metadata": {},
   "source": [
    "## Model a ramp in inlet pressure\n",
    "\n",
    "Next we show how to add an explicit time variable and ramp the inlet pressure from 500 kPa to 600 kPa between 10 and 12 seconds."
   ]
  },
  {
   "cell_type": "code",
   "execution_count": 8,
   "metadata": {},
   "outputs": [],
   "source": [
    "# Create a new copy of the model that runs to 24 seconds, and add a constraint.\n",
    "\n",
    "m = pid.create_model(\n",
    "    time_set=[0, 24],\n",
    "    nfe=1,\n",
    "    calc_integ=True,\n",
    ")\n",
    "# time_var will be an explicit time variable we can use in constraints.\n",
    "m.fs.time_var = pyo.Var(m.fs.time)\n",
    "\n",
    "# We'll add a constraint to calculate the inlet pressure based on time,\n",
    "# so we need to unfix pressure.\n",
    "m.fs.valve_1.control_volume.properties_in[0].pressure.unfix()\n",
    "m.fs.valve_1.control_volume.properties_in[24].pressure.unfix()\n",
    "\n",
    "# The solver will directly set the time variable for the DAE solve, but\n",
    "# solving the initial conditions is just a system of nonlinear equations,\n",
    "# so we need to fix the initial time.\n",
    "m.fs.time_var[0].fix(m.fs.time.first())\n",
    "\n",
    "\n",
    "# We could break up the time domain and solve this in pieces, but creative use\n",
    "# of min and max will let us create the ramping function we want.\n",
    "# From 10s to 12s ramp inlet pressure from 500,000 Pa to 600,000 Pa\n",
    "@m.fs.Constraint(m.fs.time)\n",
    "def inlet_pressure_eqn(b, t):\n",
    "    return b.valve_1.control_volume.properties_in[t].pressure == smooth_min(\n",
    "        600000, smooth_max(500000, 50000 * (b.time_var[t] - 10) + 500000)\n",
    "    )"
   ]
  },
  {
   "cell_type": "code",
   "execution_count": 9,
   "metadata": {},
   "outputs": [],
   "source": [
    "# Solve the new problem.  Notice the new argument specifying the explicit time variable.\n",
    "result = petsc.petsc_dae_by_time_element(\n",
    "    m,\n",
    "    time=m.fs.time,\n",
    "    timevar=m.fs.time_var,\n",
    "    ts_options={\n",
    "        \"--ts_type\": \"beuler\",\n",
    "        \"--ts_dt\": 0.1,\n",
    "        \"--ts_monitor\": \"\",  # set initial step to 0.1\n",
    "        \"--ts_save_trajectory\": 1,\n",
    "    },\n",
    ")\n",
    "tj = result.trajectory  # trajectroy data\n",
    "res = result.results  # solver status list"
   ]
  },
  {
   "cell_type": "code",
   "execution_count": 10,
   "metadata": {},
   "outputs": [],
   "source": [
    "a = plt.plot(\n",
    "    tj.time, tj.get_vec(m.fs.valve_1.control_volume.properties_in[24].pressure)\n",
    ")\n",
    "a = plt.ylabel(\"inlet pressure (Pa)\")\n",
    "a = plt.xlabel(\"time (s)\")"
   ]
  },
  {
   "cell_type": "code",
   "execution_count": 11,
   "metadata": {},
   "outputs": [],
   "source": [
    "a = plt.plot(tj.time, tj.get_vec(m.fs.valve_1.valve_opening[24]))\n",
    "a = plt.ylabel(\"valve 1 fraction open\")\n",
    "a = plt.xlabel(\"time (s)\")"
   ]
  },
  {
   "cell_type": "code",
   "execution_count": 12,
   "metadata": {},
   "outputs": [],
   "source": [
    "a = plt.plot(tj.time, tj.get_vec(m.fs.tank.control_volume.properties_out[24].pressure))\n",
    "a = plt.ylabel(\"tank pressure (Pa)\")\n",
    "a = plt.xlabel(\"time (s)\")"
   ]
  },
  {
   "cell_type": "markdown",
   "metadata": {},
   "source": [
    "## Model a ramp in inlet pressure (again)\n",
    "\n",
    "Here we repeat the ramp from the previous simulation in a different way.  In this case we do the integration in three parts. 1) Constant pressure at 500 kPa to 10 s 2) ramp from 500 to 600 kPa from 10 to 12 s. 3) Constant pressure at 600 kPa from 12 to 24 s."
   ]
  },
  {
   "cell_type": "code",
   "execution_count": 13,
   "metadata": {},
   "outputs": [],
   "source": [
    "# Create a new copy of the model that runs to 24 seconds, and add a constraint.\n",
    "\n",
    "m = pid.create_model(\n",
    "    time_set=[0, 10, 12, 24],\n",
    "    nfe=3,\n",
    "    calc_integ=True,\n",
    ")\n",
    "# time_var will be an explicit time variable we can use in constraints.\n",
    "m.fs.time_var = pyo.Var(m.fs.time)\n",
    "\n",
    "# We'll add a constraint to calculate the inlet pressure from 10 to 12s.  The rest of the\n",
    "# time pressure will be fixed. For the time section from 10 to 12s, the constraints are\n",
    "# defined by time 12; this means the pressure at time 12 should be unfixed and the\n",
    "# pressure constraint should be active.  At all other times, pressure should be fixed and\n",
    "# the pressure constraint should be deactivated.\n",
    "m.fs.valve_1.control_volume.properties_in[0].pressure.fix(500000)\n",
    "m.fs.valve_1.control_volume.properties_in[10].pressure.fix(500000)\n",
    "m.fs.valve_1.control_volume.properties_in[12].pressure.set_value(600000)\n",
    "m.fs.valve_1.control_volume.properties_in[12].pressure.unfix()\n",
    "m.fs.valve_1.control_volume.properties_in[24].pressure.fix(600000)\n",
    "\n",
    "\n",
    "@m.fs.Constraint(m.fs.time)\n",
    "def inlet_pressure_eqn(b, t):\n",
    "    return (\n",
    "        b.valve_1.control_volume.properties_in[t].pressure\n",
    "        == 50000 * (b.time_var[t] - 10) + 500000\n",
    "    )\n",
    "\n",
    "\n",
    "m.fs.inlet_pressure_eqn.deactivate()\n",
    "m.fs.inlet_pressure_eqn[12].activate()"
   ]
  },
  {
   "cell_type": "code",
   "execution_count": 14,
   "metadata": {},
   "outputs": [],
   "source": [
    "# Solve the new problem.  Notice the argument specifying the explicit time variable.\n",
    "result = petsc.petsc_dae_by_time_element(\n",
    "    m,\n",
    "    time=m.fs.time,\n",
    "    timevar=m.fs.time_var,\n",
    "    ts_options={\n",
    "        \"--ts_type\": \"beuler\",\n",
    "        \"--ts_dt\": 0.1,\n",
    "        \"--ts_monitor\": \"\",  # set initial step to 0.1\n",
    "        \"--ts_save_trajectory\": 1,\n",
    "    },\n",
    ")\n",
    "tj = result.trajectory  # trajectroy data\n",
    "res = result.results  # solver status list"
   ]
  },
  {
   "cell_type": "code",
   "execution_count": 15,
   "metadata": {},
   "outputs": [],
   "source": [
    "a = plt.plot(\n",
    "    tj.time, tj.get_vec(m.fs.valve_1.control_volume.properties_in[24].pressure)\n",
    ")\n",
    "a = plt.ylabel(\"inlet pressure (Pa)\")\n",
    "a = plt.xlabel(\"time (s)\")"
   ]
  },
  {
   "cell_type": "code",
   "execution_count": 16,
   "metadata": {},
   "outputs": [],
   "source": [
    "a = plt.plot(tj.time, tj.get_vec(m.fs.valve_1.valve_opening[24]))\n",
    "a = plt.ylabel(\"valve 1 fraction open\")\n",
    "a = plt.xlabel(\"time (s)\")"
   ]
  },
  {
   "cell_type": "code",
   "execution_count": 17,
   "metadata": {},
   "outputs": [],
   "source": [
    "a = plt.plot(tj.time, tj.get_vec(m.fs.tank.control_volume.properties_out[24].pressure))\n",
    "a = plt.ylabel(\"tank pressure (Pa)\")\n",
    "a = plt.xlabel(\"time (s)\")"
   ]
  },
  {
   "cell_type": "code",
   "execution_count": null,
   "metadata": {},
   "outputs": [],
   "source": []
  }
 ],
 "metadata": {
  "idaes": {
   "skip": [
    "test"
   ]
  },
  "kernelspec": {
   "display_name": "Python 3 (ipykernel)",
   "language": "python",
   "name": "python3"
  },
  "language_info": {
   "codemirror_mode": {
    "name": "ipython",
    "version": 3
   },
   "file_extension": ".py",
   "mimetype": "text/x-python",
   "name": "python",
   "nbconvert_exporter": "python",
   "pygments_lexer": "ipython3",
   "version": "3.11.11"
  }
 },
 "nbformat": 4,
 "nbformat_minor": 3
}