{
 "cells": [
  {
   "cell_type": "code",
   "execution_count": 1,
   "id": "2ed54281",
   "metadata": {
    "pycharm": {
     "is_executing": true
    },
    "tags": [
     "header",
     "hide-cell"
    ]
   },
   "outputs": [],
   "source": [
    "###############################################################################\n",
    "# The Institute for the Design of Advanced Energy Systems Integrated Platform\n",
    "# Framework (IDAES IP) was produced under the DOE Institute for the\n",
    "# Design of Advanced Energy Systems (IDAES).\n",
    "#\n",
    "# Copyright (c) 2018-2023 by the software owners: The Regents of the\n",
    "# University of California, through Lawrence Berkeley National Laboratory,\n",
    "# National Technology & Engineering Solutions of Sandia, LLC, Carnegie Mellon\n",
    "# University, West Virginia University Research Corporation, et al.\n",
    "# All rights reserved.  Please see the files COPYRIGHT.md and LICENSE.md\n",
    "# for full copyright and license information.\n",
    "###############################################################################"
   ]
  },
  {
   "cell_type": "markdown",
   "id": "5b2afef3-35bb-4424-8138-d9357d7c5195",
   "metadata": {},
   "source": [
    "# PETSc Time-stepping Solver -- PID Control and Steam Example\n",
    "\n",
    "This example provides an overview of the PETSc time-stepping solver utilities in IDAES, which can be used to solve systems of differential algebraic equations (DAEs). PETSc is a solver suite developed primarily by Argonne National Lab (https://petsc.org/release/). IDAES provides a wrapper for PETSc (https://github.com/IDAES/idaes-ext/tree/main/petsc) that uses the AMPL solver interface (https://ampl.com/resources/learn-more/hooking-your-solver-to-ampl/) and utility functions that allow Pyomo and Pyomo.DAE (https://pyomo.readthedocs.io/en/stable/modeling_extensions/dae.html) problems to be solved using PETSc.\n",
    "\n",
    "This demonstration uses the IDAES PID controller model and a flowsheet arranged like so:\n",
    "\n",
    "```\n",
    "             \n",
    "->--|><|------[]------|><|-->-\n",
    "   valve_1   tank   valve_2   \n",
    "```\n",
    "\n",
    "where the tank pressure is controlled by the opening of valve_1. "
   ]
  },
  {
   "cell_type": "markdown",
   "id": "a6d59fd5-b7b5-4e06-9615-99f0538aa627",
   "metadata": {},
   "source": [
    "## Prerequisites\n",
    "\n",
    "The PETSc solver is an extra download for IDAES, which can be downloaded using the command ```idaes get-extensions --extra petsc```, if it is not installed already. See the IDAES solver documentation for more information (https://idaes-pse.readthedocs.io/en/stable/reference_guides/core/solvers.html).\n",
    "\n",
    "You may want to review the [\"PETSc Time-stepping Solver -- Chemical Akzo Nobel Example\"](petsc_chem_example.ipynb) notebook first."
   ]
  },
  {
   "cell_type": "markdown",
   "id": "be323115-6144-4a3f-b246-9476e2e8c3bf",
   "metadata": {},
   "source": [
    "## Imports"
   ]
  },
  {
   "cell_type": "code",
   "execution_count": 2,
   "id": "470b725b-a7fe-4974-ba3e-de6bde4adc17",
   "metadata": {},
   "outputs": [],
   "source": [
    "import numpy as np\n",
    "import matplotlib.pyplot as plt\n",
    "\n",
    "import pyomo.environ as pyo\n",
    "import pyomo.dae as pyodae\n",
    "import idaes.core.solvers.petsc as petsc  # petsc utilities module\n",
    "import idaes_examples.mod.dae.petsc.pid_steam_tank as pid\n",
    "from idaes.core.util.math import smooth_max, smooth_min"
   ]
  },
  {
   "cell_type": "markdown",
   "id": "dc39a221-e5d4-44ef-b279-fac77538d5ff",
   "metadata": {},
   "source": [
    "## Model Set Up"
   ]
  },
  {
   "cell_type": "code",
   "execution_count": 3,
   "id": "05e801a9-bc57-4566-9036-0ad6ce76fc17",
   "metadata": {},
   "outputs": [],
   "source": [
    "# to see the model code uncomment the line below\n",
    "# ??pid"
   ]
  },
  {
   "cell_type": "code",
   "execution_count": 4,
   "id": "c15552d1-b386-4c28-a1c5-02fb9139332d",
   "metadata": {},
   "outputs": [],
   "source": [
    "m = pid.create_model(\n",
    "    time_set=[0, 12],\n",
    "    nfe=1,\n",
    "    calc_integ=True,\n",
    ")"
   ]
  },
  {
   "cell_type": "markdown",
   "id": "52933202-3dbc-452f-b032-9730fb0bfb49",
   "metadata": {},
   "source": [
    "## Solve"
   ]
  },
  {
   "cell_type": "code",
   "execution_count": 5,
   "id": "8916ff38-f545-4cd9-97ce-574c418aab0d",
   "metadata": {},
   "outputs": [],
   "source": [
    "result = petsc.petsc_dae_by_time_element(\n",
    "    m,\n",
    "    time=m.fs.time,\n",
    "    ts_options={\n",
    "        \"--ts_type\": \"beuler\",\n",
    "        \"--ts_dt\": 0.1,\n",
    "        \"--ts_monitor\": \"\",  # set initial step to 0.1\n",
    "        \"--ts_save_trajectory\": 1,\n",
    "    },\n",
    ")\n",
    "tj = result.trajectory  # trajectroy data\n",
    "res = result.results  # solver status list"
   ]
  },
  {
   "cell_type": "markdown",
   "id": "19a77e2b-d7bc-4e61-8231-ba1504d2c671",
   "metadata": {},
   "source": [
    "## Plot Trajectory\n",
    "\n",
    "At the initial conditions the valve is fully open.  At t=0, the controller is activated and the controller adjusts the opening of valve 1 to keep the tank pressure at the setpoint of 300 kPa."
   ]
  },
  {
   "cell_type": "code",
   "execution_count": 6,
   "id": "65c97bdb-f3e0-4613-8711-be547f42fe79",
   "metadata": {},
   "outputs": [],
   "source": [
    "a = plt.plot(tj.time, tj.get_vec(m.fs.valve_1.valve_opening[12]))\n",
    "a = plt.ylabel(\"valve 1 fraction open\")\n",
    "a = plt.xlabel(\"time (s)\")"
   ]
  },
  {
   "cell_type": "code",
   "execution_count": 7,
   "id": "3466a08e-4d16-4b22-9ab7-6439c721d40b",
   "metadata": {},
   "outputs": [],
   "source": [
    "a = plt.plot(tj.time, tj.get_vec(m.fs.tank.control_volume.properties_out[12].pressure))\n",
    "a = plt.ylabel(\"tank pressure (Pa)\")\n",
    "a = plt.xlabel(\"time (s)\")"
   ]
  },
  {
   "cell_type": "markdown",
   "id": "e0933779-f4b3-4933-83dc-0ec70645af45",
   "metadata": {},
   "source": [
    "## Model a ramp in inlet pressure\n",
    "\n",
    "Next we show how to add an explicit time variable and ramp the inlet pressure from 500 kPa to 600 kPa between 10 and 12 seconds."
   ]
  },
  {
   "cell_type": "code",
   "execution_count": 8,
   "id": "a4a63238-a4c6-4da3-af4c-56c0877363e7",
   "metadata": {},
   "outputs": [],
   "source": [
    "# Create a new copy of the model that runs to 24 seconds, and add a constraint.\n",
    "\n",
    "m = pid.create_model(\n",
    "    time_set=[0, 24],\n",
    "    nfe=1,\n",
    "    calc_integ=True,\n",
    ")\n",
    "# time_var will be an explicit time variable we can use in constraints.\n",
    "m.fs.time_var = pyo.Var(m.fs.time)\n",
    "\n",
    "# We'll add a constraint to calculate the inlet pressure based on time,\n",
    "# so we need to unfix pressure.\n",
    "m.fs.valve_1.control_volume.properties_in[0].pressure.unfix()\n",
    "m.fs.valve_1.control_volume.properties_in[24].pressure.unfix()\n",
    "\n",
    "# The solver will directly set the time variable for the DAE solve, but\n",
    "# solving the initial conditions is just a system of nonlinear equations,\n",
    "# so we need to fix the initial time.\n",
    "m.fs.time_var[0].fix(m.fs.time.first())\n",
    "\n",
    "# We could break up the time domain and solve this in pieces, but creative use\n",
    "# of min and max will let us create the ramping function we want.\n",
    "# From 10s to 12s ramp inlet pressure from 500,000 Pa to 600,000 Pa\n",
    "@m.fs.Constraint(m.fs.time)\n",
    "def inlet_pressure_eqn(b, t):\n",
    "    return b.valve_1.control_volume.properties_in[t].pressure == smooth_min(\n",
    "        600000, smooth_max(500000, 50000 * (b.time_var[t] - 10) + 500000)\n",
    "    )"
   ]
  },
  {
   "cell_type": "code",
   "execution_count": 9,
   "id": "78d0a0c1-fcbc-465a-a8b9-c2a7b5f1e98d",
   "metadata": {},
   "outputs": [],
   "source": [
    "# Solve the new problem.  Notice the new argument specifying the explicit time variable.\n",
    "result = petsc.petsc_dae_by_time_element(\n",
    "    m,\n",
    "    time=m.fs.time,\n",
    "    timevar=m.fs.time_var,\n",
    "    ts_options={\n",
    "        \"--ts_type\": \"beuler\",\n",
    "        \"--ts_dt\": 0.1,\n",
    "        \"--ts_monitor\": \"\",  # set initial step to 0.1\n",
    "        \"--ts_save_trajectory\": 1,\n",
    "    },\n",
    ")\n",
    "tj = result.trajectory  # trajectroy data\n",
    "res = result.results  # solver status list"
   ]
  },
  {
   "cell_type": "code",
   "execution_count": 10,
   "id": "bd0fd89a-93da-460e-9a5e-d5568dd4cbce",
   "metadata": {},
   "outputs": [],
   "source": [
    "a = plt.plot(\n",
    "    tj.time, tj.get_vec(m.fs.valve_1.control_volume.properties_in[24].pressure)\n",
    ")\n",
    "a = plt.ylabel(\"inlet pressure (Pa)\")\n",
    "a = plt.xlabel(\"time (s)\")"
   ]
  },
  {
   "cell_type": "code",
   "execution_count": 11,
   "id": "3f6429ec-1c35-4626-98c4-2577126d5778",
   "metadata": {},
   "outputs": [],
   "source": [
    "a = plt.plot(tj.time, tj.get_vec(m.fs.valve_1.valve_opening[24]))\n",
    "a = plt.ylabel(\"valve 1 fraction open\")\n",
    "a = plt.xlabel(\"time (s)\")"
   ]
  },
  {
   "cell_type": "code",
   "execution_count": 12,
   "id": "a581d1a7-1062-4b65-83b0-784f3d59e450",
   "metadata": {},
   "outputs": [],
   "source": [
    "a = plt.plot(tj.time, tj.get_vec(m.fs.tank.control_volume.properties_out[24].pressure))\n",
    "a = plt.ylabel(\"tank pressure (Pa)\")\n",
    "a = plt.xlabel(\"time (s)\")"
   ]
  },
  {
   "cell_type": "markdown",
   "id": "aa792db6-9edf-4c42-b77a-5b50672c4362",
   "metadata": {},
   "source": [
    "## Model a ramp in inlet pressure (again)\n",
    "\n",
    "Here we repeat the ramp from the previous simulation in a different way.  In this case we do the integration in three parts. 1) Constant pressure at 500 kPa to 10 s 2) ramp from 500 to 600 kPa from 10 to 12 s. 3) Constant pressure at 600 kPa from 12 to 24 s."
   ]
  },
  {
   "cell_type": "code",
   "execution_count": 13,
   "id": "e2fc8180-9ad7-4cf5-9aad-78b882730347",
   "metadata": {},
   "outputs": [],
   "source": [
    "# Create a new copy of the model that runs to 24 seconds, and add a constraint.\n",
    "\n",
    "m = pid.create_model(\n",
    "    time_set=[0, 10, 12, 24],\n",
    "    nfe=3,\n",
    "    calc_integ=True,\n",
    ")\n",
    "# time_var will be an explicit time variable we can use in constraints.\n",
    "m.fs.time_var = pyo.Var(m.fs.time)\n",
    "\n",
    "# We'll add a constraint to calculate the inlet pressure from 10 to 12s.  The rest of the\n",
    "# time pressure will be fixed. For the time section from 10 to 12s, the constraints are\n",
    "# defined by time 12; this means the pressure at time 12 should be unfixed and the\n",
    "# pressure constraint should be active.  At all other times, pressure should be fixed and\n",
    "# the pressure constraint should be deactivated.\n",
    "m.fs.valve_1.control_volume.properties_in[0].pressure.fix(500000)\n",
    "m.fs.valve_1.control_volume.properties_in[10].pressure.fix(500000)\n",
    "m.fs.valve_1.control_volume.properties_in[12].pressure.set_value(600000)\n",
    "m.fs.valve_1.control_volume.properties_in[12].pressure.unfix()\n",
    "m.fs.valve_1.control_volume.properties_in[24].pressure.fix(600000)\n",
    "\n",
    "\n",
    "@m.fs.Constraint(m.fs.time)\n",
    "def inlet_pressure_eqn(b, t):\n",
    "    return (\n",
    "        b.valve_1.control_volume.properties_in[t].pressure\n",
    "        == 50000 * (b.time_var[t] - 10) + 500000\n",
    "    )\n",
    "\n",
    "\n",
    "m.fs.inlet_pressure_eqn.deactivate()\n",
    "m.fs.inlet_pressure_eqn[12].activate()"
   ]
  },
  {
   "cell_type": "code",
   "execution_count": 14,
   "id": "9d5cd413-a0d8-4056-ba04-6e3ea9cd476a",
   "metadata": {},
   "outputs": [],
   "source": [
    "# Solve the new problem.  Notice the argument specifying the explicit time variable.\n",
    "result = petsc.petsc_dae_by_time_element(\n",
    "    m,\n",
    "    time=m.fs.time,\n",
    "    timevar=m.fs.time_var,\n",
    "    ts_options={\n",
    "        \"--ts_type\": \"beuler\",\n",
    "        \"--ts_dt\": 0.1,\n",
    "        \"--ts_monitor\": \"\",  # set initial step to 0.1\n",
    "        \"--ts_save_trajectory\": 1,\n",
    "    },\n",
    ")\n",
    "tj = result.trajectory  # trajectroy data\n",
    "res = result.results  # solver status list"
   ]
  },
  {
   "cell_type": "code",
   "execution_count": 15,
   "id": "738aefcb-d26f-4369-bd13-ea006221c28b",
   "metadata": {},
   "outputs": [],
   "source": [
    "a = plt.plot(\n",
    "    tj.time, tj.get_vec(m.fs.valve_1.control_volume.properties_in[24].pressure)\n",
    ")\n",
    "a = plt.ylabel(\"inlet pressure (Pa)\")\n",
    "a = plt.xlabel(\"time (s)\")"
   ]
  },
  {
   "cell_type": "code",
   "execution_count": 16,
   "id": "7a24867e-e729-42b6-ba7d-a592c37ee767",
   "metadata": {},
   "outputs": [],
   "source": [
    "a = plt.plot(tj.time, tj.get_vec(m.fs.valve_1.valve_opening[24]))\n",
    "a = plt.ylabel(\"valve 1 fraction open\")\n",
    "a = plt.xlabel(\"time (s)\")"
   ]
  },
  {
   "cell_type": "code",
   "execution_count": 17,
   "id": "55217faf-64f8-4749-be52-c5d539d71df8",
   "metadata": {},
   "outputs": [],
   "source": [
    "a = plt.plot(tj.time, tj.get_vec(m.fs.tank.control_volume.properties_out[24].pressure))\n",
    "a = plt.ylabel(\"tank pressure (Pa)\")\n",
    "a = plt.xlabel(\"time (s)\")"
   ]
  },
  {
   "cell_type": "code",
   "execution_count": null,
   "id": "e150cca6-fa55-4efb-a1ab-c999dff94dd3",
   "metadata": {},
   "outputs": [],
   "source": []
  }
 ],
 "metadata": {
  "idaes": {
   "skip": [
    "test"
   ]
  },
  "kernelspec": {
   "display_name": "Python 3 (ipykernel)",
   "language": "python",
   "name": "python3"
  },
  "language_info": {
   "codemirror_mode": {
    "name": "ipython",
    "version": 3
   },
   "file_extension": ".py",
   "mimetype": "text/x-python",
   "name": "python",
   "nbconvert_exporter": "python",
   "pygments_lexer": "ipython3",
   "version": "3.10.9"
  }
 },
 "nbformat": 4,
 "nbformat_minor": 5
}
