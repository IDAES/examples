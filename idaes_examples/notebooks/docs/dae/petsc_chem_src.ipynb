{
 "cells": [
  {
   "cell_type": "code",
   "execution_count": null,
   "id": "17aab68b",
   "metadata": {
    "tags": [
     "header",
     "hide-cell"
    ]
   },
   "outputs": [],
   "source": [
    "###############################################################################\n",
    "# The Institute for the Design of Advanced Energy Systems Integrated Platform\n",
    "# Framework (IDAES IP) was produced under the DOE Institute for the\n",
    "# Design of Advanced Energy Systems (IDAES).\n",
    "#\n",
    "# Copyright (c) 2018-2023 by the software owners: The Regents of the\n",
    "# University of California, through Lawrence Berkeley National Laboratory,\n",
    "# National Technology & Engineering Solutions of Sandia, LLC, Carnegie Mellon\n",
    "# University, West Virginia University Research Corporation, et al.\n",
    "# All rights reserved.  Please see the files COPYRIGHT.md and LICENSE.md\n",
    "# for full copyright and license information.\n",
    "###############################################################################"
   ]
  },
  {
   "cell_type": "markdown",
   "id": "5d861056-2b3c-4cc1-a005-e7b120e1e906",
   "metadata": {},
   "source": [
    "# PETSc Time-stepping Solver -- Chemical Akzo Nobel Example\n",
    "\n",
    "This example provides an overview of the PETSc time-stepping solver utilities in IDAES, which can be used to solve systems of differential algebraic equations (DAEs). PETSc is a solver suite developed primarily by Argonne National Lab (https://petsc.org/release/). IDAES provides a wrapper for PETSc (https://github.com/IDAES/idaes-ext/tree/main/petsc) that uses the AMPL solver interface (https://ampl.com/resources/learn-more/hooking-your-solver-to-ampl/) and utility functions that allow Pyomo and Pyomo.DAE (https://pyomo.readthedocs.io/en/stable/modeling_extensions/dae.html) problems to be solved using PETSc.\n",
    "\n",
    "This demonstration problem describes a set of chemical reactions in a reactor. A full description of the problem is available at https://archimede.dm.uniba.it/~testset/report/chemakzo.pdf. This is part of a test set which can be found at https://archimede.uniba.it/~testset/."
   ]
  },
  {
   "cell_type": "markdown",
   "id": "e814a2c6-79cd-4a09-8d77-a5e6a8a3ab51",
   "metadata": {},
   "source": [
    "## Prerequisites\n",
    "\n",
    "The PETSc solver is an extra download for IDAES, which can be downloaded using the command ```idaes get-extensions --extra petsc```, if it is not installed already. See the IDAES solver documentation for more information (https://idaes-pse.readthedocs.io/en/stable/reference_guides/core/solvers.html)."
   ]
  },
  {
   "cell_type": "markdown",
   "id": "74764b3d-1abd-4f5a-b506-806dc932d04d",
   "metadata": {},
   "source": [
    "## Imports\n",
    "\n",
    "Import the modules that will be used.  Numpy and matplotlib are used to make some plots, ```idaes.core.solvers.petsc``` contains the PETSc utilities, and ```idaes.core.solvers.features``` contains the example model used here."
   ]
  },
  {
   "cell_type": "code",
   "execution_count": 1,
   "id": "e95e1236-176d-4288-952d-7a4c68a62ff6",
   "metadata": {},
   "outputs": [],
   "source": [
    "import numpy as np\n",
    "import matplotlib.pyplot as plt\n",
    "\n",
    "import pyomo.environ as pyo\n",
    "import idaes.core.solvers.petsc as petsc  # petsc utilities module\n",
    "from idaes.core.solvers.features import dae  # DAE example/test problem"
   ]
  },
  {
   "cell_type": "markdown",
   "id": "537c2c91-e2ef-4453-951c-2a4bf63a9752",
   "metadata": {},
   "source": [
    "## Set Up the Model\n",
    "\n",
    "The model in this example is used for basic solver testing, so it is provided as part of an IDAES solver testing module. The model implementation is standard Pyomo.DAE, and nothing special needs to be done in the model to use the PETSc solver.  The IDAES utilities for the PETSc solver will take the discretized Pyomo model and integrate between discrete time points to fill in the solution. To integrate over the entire time domain (as we will do here), you can discretize time using one time element, in which case, the problem will just contain the initial and final points.  The intermediate solutions can be read from the trajectory data saved by the solver.  The trajectory data can be used for analysis, or interpolation can be used to initialize a Pyomo problem before solving the fully time discretized problem.  Integrating over the entire time domain is fastest with a coarsely discretized model (ideally just a single finite element in time) because the model is smaller and there are fewer calls to the integrator.  This can be a good way to start testing a new dynamic IDAES model."
   ]
  },
  {
   "cell_type": "code",
   "execution_count": 2,
   "id": "c81518f8-83b4-4de3-91bc-835c7320daf5",
   "metadata": {},
   "outputs": [],
   "source": [
    "# To see the example problem code, uncomment the line below and execute this cell.\n",
    "# ??dae"
   ]
  },
  {
   "cell_type": "code",
   "execution_count": 3,
   "id": "91ea3fc7-847c-4802-b865-d744ac3cb36d",
   "metadata": {},
   "outputs": [],
   "source": [
    "# Get the model and known solution for y variables at t=180 minutes.\n",
    "m, y1, y2, y3, y4, y5, y6 = dae(nfe=10)"
   ]
  },
  {
   "cell_type": "markdown",
   "id": "86d630c6-be5c-436a-8e52-0bac5cc15365",
   "metadata": {},
   "source": [
    "The variables y1 to y6 represent concentrations of chemical species.  The values returned by the function above are the correct solution at t = 180.  These values can be used to verify the solver results.  The Pyomo model is ``m``.  We are mainly interested in the y variables.  The variables y1 to y5 are differential variables and y6 is an algebraic variable.  Initial conditions are required for y1 through y5, and the initial values of the other variables can be calculated from there.  The variables y1 through y5 at t = 0 are: ``m.y[0, 1]`` to ``m.y[0, 5]`` and y6 is ``m.y6[0]``.  The variables at the final state are ``m.y[180, 1]`` to ``m.y[180, 5]`` and ``m.y6[180]``.  The variable y6 is indexed differently because we want to treat it differently than the differential variables."
   ]
  },
  {
   "cell_type": "code",
   "execution_count": 4,
   "id": "a3eeb424-8ccb-48ae-82ec-d35e73e765e5",
   "metadata": {},
   "outputs": [],
   "source": [
    "# See the initial conditions:\n",
    "print(\"at t = 0:\")\n",
    "print(f\"    y1 = {pyo.value(m.y[0, 1])}\")\n",
    "print(f\"    y2 = {pyo.value(m.y[0, 2])}\")\n",
    "print(f\"    y3 = {pyo.value(m.y[0, 3])}\")\n",
    "print(f\"    y4 = {pyo.value(m.y[0, 4])}\")\n",
    "print(f\"    y5 = {pyo.value(m.y[0, 5])}\")"
   ]
  },
  {
   "cell_type": "markdown",
   "id": "96289f7e-8629-46ca-b3c6-3338baf7faab",
   "metadata": {},
   "source": [
    "## Solve\n",
    "\n",
    "The ``petsc_dae_by_time_element()`` function is used to solve Pyomo.DAE discretized Pyomo problem with the PETSc time-stepping solver by integrating between discrete time points.  In this case there is only one time element."
   ]
  },
  {
   "cell_type": "code",
   "execution_count": 5,
   "id": "70f3153e-2320-4bcd-9761-962e30386e84",
   "metadata": {},
   "outputs": [],
   "source": [
    "# To see the docs, uncomment the line below and execute this cell.\n",
    "# ?petsc.petsc_dae_by_time_element"
   ]
  },
  {
   "cell_type": "code",
   "execution_count": 6,
   "id": "aaeba848-9fa4-4604-939e-ececd034af6d",
   "metadata": {},
   "outputs": [],
   "source": [
    "# The command below will solve the problem.  In this case, we want to read the saved\n",
    "# trajectory for each time element in the Pyomo.DAE problem (in this case there is\n",
    "# only 1) so we will need to provide solver options to save the trajectory to the PETSc\n",
    "# solver, a file name stub for variable information files, and a file stub for saving\n",
    "# the trajectory information.  The options shown below will delete the trajectory\n",
    "# information written by PETSc and resave it as json.  This allows us to cleanly read\n",
    "# the trajectory data for multiple time elements.\n",
    "\n",
    "result = petsc.petsc_dae_by_time_element(\n",
    "    m,\n",
    "    time=m.t,\n",
    "    between=[m.t.first(), m.t.last()],\n",
    "    ts_options={\n",
    "        \"--ts_type\": \"cn\",  # Crank–Nicolson\n",
    "        \"--ts_adapt_type\": \"basic\",\n",
    "        \"--ts_dt\": 0.01,\n",
    "        \"--ts_save_trajectory\": 1,\n",
    "    },\n",
    ")\n",
    "tj = result.trajectory\n",
    "res = result.results"
   ]
  },
  {
   "cell_type": "code",
   "execution_count": 7,
   "id": "012f55ae-b453-46e1-bee3-391f249783d1",
   "metadata": {},
   "outputs": [],
   "source": [
    "# Verify results\n",
    "assert abs(y1 - pyo.value(m.y[180, 1])) / y1 < 1e-3\n",
    "assert abs(y2 - pyo.value(m.y[180, 2])) / y2 < 1e-3\n",
    "assert abs(y3 - pyo.value(m.y[180, 3])) / y3 < 1e-3\n",
    "assert abs(y4 - pyo.value(m.y[180, 4])) / y4 < 1e-3\n",
    "assert abs(y5 - pyo.value(m.y[180, 5])) / y5 < 1e-3\n",
    "assert abs(y6 - pyo.value(m.y6[180])) / y6 < 1e-3"
   ]
  },
  {
   "cell_type": "markdown",
   "id": "6d25326f-d3b4-4980-83bf-014e9f535e7f",
   "metadata": {},
   "source": [
    "## Plot Results Stored in Model\n",
    "\n",
    "In the problem above we used the PETSc to integrate between the first and last time point.  By default, the PETSc DAE utility will interpolate from the PETSc trajectory to fill in the skipped points."
   ]
  },
  {
   "cell_type": "code",
   "execution_count": 8,
   "id": "352224cd-a552-45a4-8b83-ae0e03f34caa",
   "metadata": {},
   "outputs": [],
   "source": [
    "a = plt.plot(m.t, [pyo.value(m.y[t, 1]) for t in m.t], label=\"y1\")\n",
    "a = plt.plot(m.t, [pyo.value(m.y[t, 2]) for t in m.t], label=\"y2\")\n",
    "a = plt.plot(m.t, [pyo.value(m.y[t, 3]) for t in m.t], label=\"y3\")\n",
    "a = plt.plot(m.t, [pyo.value(m.y[t, 4]) for t in m.t], label=\"y4\")\n",
    "a = plt.plot(m.t, [pyo.value(m.y[t, 5]) for t in m.t], label=\"y5\")\n",
    "a = plt.plot(m.t, [pyo.value(m.y6[t]) for t in m.t], label=\"y6\")\n",
    "a = plt.legend()\n",
    "a = plt.ylabel(\"Concentration (mol/l)\")\n",
    "a = plt.xlabel(\"time (min)\")"
   ]
  },
  {
   "cell_type": "markdown",
   "id": "8e965652-1d89-4ecd-95c7-b5cb28b25542",
   "metadata": {},
   "source": [
    "## Plot Trajectory"
   ]
  },
  {
   "cell_type": "code",
   "execution_count": 9,
   "id": "f6109b35-8a75-4a1f-ba62-56f38470f8ff",
   "metadata": {},
   "outputs": [],
   "source": [
    "# First plot all y's on one plot\n",
    "\n",
    "a = plt.plot(tj.time, tj.get_vec(m.y[180, 1]), label=\"y1\")\n",
    "a = plt.plot(tj.time, tj.get_vec(m.y[180, 2]), label=\"y2\")\n",
    "a = plt.plot(tj.time, tj.get_vec(m.y[180, 3]), label=\"y3\")\n",
    "a = plt.plot(tj.time, tj.get_vec(m.y[180, 4]), label=\"y4\")\n",
    "a = plt.plot(tj.time, tj.get_vec(m.y[180, 5]), label=\"y5\")\n",
    "a = plt.plot(tj.time, tj.get_vec(m.y6[180]), label=\"y6\")\n",
    "a = plt.legend()\n",
    "a = plt.ylabel(\"Concentration (mol/l)\")\n",
    "a = plt.xlabel(\"time (min)\")"
   ]
  },
  {
   "cell_type": "code",
   "execution_count": 10,
   "id": "088424ce-31ab-41f4-a52d-bb3df94e73d6",
   "metadata": {},
   "outputs": [],
   "source": [
    "# 2 and 4 are pretty low concentration, so plot those so we can see better\n",
    "a = plt.plot(tj.time, tj.get_vec(m.y[180, 2]), label=\"y2\")\n",
    "a = plt.plot(tj.time, tj.get_vec(m.y[180, 4]), label=\"y4\")\n",
    "a = plt.legend()\n",
    "a = plt.ylabel(\"Concentration (mol/l)\")\n",
    "a = plt.xlabel(\"time (min)\")"
   ]
  },
  {
   "cell_type": "code",
   "execution_count": 11,
   "id": "17d31392-d419-4ce8-a380-780cf4e4cd71",
   "metadata": {},
   "outputs": [],
   "source": [
    "# 2 seems to have some fast dynamics so plot a shorter time\n",
    "a = plt.plot(tj.vecs[\"_time\"], tj.vecs[str(m.y[180, 2])], label=\"y2\")\n",
    "a = plt.legend()\n",
    "a = plt.ylabel(\"Concentration (mol/l)\")\n",
    "a = plt.xlabel(\"time (min)\")\n",
    "a = plt.xlim(0, 2)"
   ]
  },
  {
   "cell_type": "markdown",
   "id": "3e09e3f0-9181-4a18-807d-7859d01d9912",
   "metadata": {},
   "source": [
    "## Interpolate Trajectory\n",
    "\n",
    "For a number of reasons, such as initializating Pyomo problems or showing results at even time intervals it can be useful to show values at specific time points.  The PetscTrajectory class has a method to use linear interpolation to produce a new dictionary of trajectory data at specified time points. "
   ]
  },
  {
   "cell_type": "code",
   "execution_count": 12,
   "id": "2f725e3d-ae59-48be-9ec2-a854520f3d6e",
   "metadata": {},
   "outputs": [],
   "source": [
    "# This creates a new trajectory data set with data every minute.\n",
    "tji = tj.interpolate(np.linspace(0, 180, 181))"
   ]
  },
  {
   "cell_type": "code",
   "execution_count": 13,
   "id": "d8047434-5780-48e7-af0f-354c39790f34",
   "metadata": {},
   "outputs": [],
   "source": [
    "# The plot of this new data should look the same as the original, although some of the\n",
    "# fast dynamics of component 2 will be obscured.\n",
    "\n",
    "a = plt.plot(tji.time, tji.get_vec(m.y[180, 1]), label=\"y1\")\n",
    "a = plt.plot(tji.time, tji.get_vec(m.y[180, 2]), label=\"y2\")\n",
    "a = plt.plot(tji.time, tji.get_vec(m.y[180, 3]), label=\"y3\")\n",
    "a = plt.plot(tji.time, tji.get_vec(m.y[180, 4]), label=\"y4\")\n",
    "a = plt.plot(tji.time, tji.get_vec(m.y[180, 5]), label=\"y5\")\n",
    "a = plt.plot(tji.time, tji.get_vec(m.y6[180]), label=\"y6\")\n",
    "a = plt.legend()\n",
    "a = plt.ylabel(\"Concentration (mol/l)\")\n",
    "a = plt.xlabel(\"time (min)\")"
   ]
  },
  {
   "cell_type": "code",
   "execution_count": 14,
   "id": "492315c6-fe2c-489a-9cce-24dc7af91238",
   "metadata": {},
   "outputs": [],
   "source": [
    "a = plt.plot(tji.time, tji.get_vec(m.y[180, 2]), label=\"y2 interpolate dt=1\")\n",
    "a = plt.plot(tj.time, tj.get_vec(m.y[180, 2]), label=\"y2 original\")\n",
    "a = plt.legend()\n",
    "a = plt.ylabel(\"Concentration (mol/l)\")\n",
    "a = plt.xlabel(\"time (min)\")\n",
    "a = plt.xlim(0, 2)"
   ]
  },
  {
   "cell_type": "code",
   "execution_count": null,
   "id": "a63ab831-f026-4aa1-b5f5-590dca8eebba",
   "metadata": {},
   "outputs": [],
   "source": []
  }
 ],
 "metadata": {
  "kernelspec": {
   "display_name": "Python 3 (ipykernel)",
   "language": "python",
   "name": "python3"
  },
  "language_info": {
   "codemirror_mode": {
    "name": "ipython",
    "version": 3
   },
   "file_extension": ".py",
   "mimetype": "text/x-python",
   "name": "python",
   "nbconvert_exporter": "python",
   "pygments_lexer": "ipython3",
   "version": "3.10.9"
  }
 },
 "nbformat": 4,
 "nbformat_minor": 5
}
