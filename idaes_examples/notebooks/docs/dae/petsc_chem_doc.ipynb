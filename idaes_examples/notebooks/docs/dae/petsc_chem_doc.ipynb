{
 "cells": [
  {
   "cell_type": "code",
   "execution_count": 1,
   "metadata": {
    "tags": [
     "header",
     "hide-cell"
    ]
   },
   "outputs": [],
   "source": [
    "###############################################################################\n",
    "# The Institute for the Design of Advanced Energy Systems Integrated Platform\n",
    "# Framework (IDAES IP) was produced under the DOE Institute for the\n",
    "# Design of Advanced Energy Systems (IDAES).\n",
    "#\n",
    "# Copyright (c) 2018-2025 by the software owners: The Regents of the\n",
    "# University of California, through Lawrence Berkeley National Laboratory,\n",
    "# National Technology & Engineering Solutions of Sandia, LLC, Carnegie Mellon\n",
    "# University, West Virginia University Research Corporation, et al.\n",
    "# All rights reserved.  Please see the files COPYRIGHT.md and LICENSE.md\n",
    "# for full copyright and license information.\n",
    "#\n",
    "###############################################################################"
   ]
  },
  {
   "cell_type": "markdown",
   "metadata": {},
   "source": [
    "# PETSc Time-stepping Solver -- Chemical Akzo Nobel Example\n",
    "Author: John Eslick  \n",
    "Maintainer: John Eslick  \n",
    "Updated: 2023-06-01  \n",
    "\n",
    "This example provides an overview of the PETSc time-stepping solver utilities in IDAES, which can be used to solve systems of differential algebraic equations (DAEs). PETSc is a solver suite developed primarily by Argonne National Lab (https://petsc.org/release/). IDAES provides a wrapper for PETSc (https://github.com/IDAES/idaes-ext/tree/main/petsc) that uses the AMPL solver interface (https://ampl.com/resources/learn-more/hooking-your-solver-to-ampl/) and utility functions that allow Pyomo and Pyomo.DAE (https://pyomo.readthedocs.io/en/stable/modeling_extensions/dae.html) problems to be solved using PETSc.\n",
    "\n",
    "This demonstration problem describes a set of chemical reactions in a reactor. A full description of the problem is available at https://archimede.dm.uniba.it/~testset/report/chemakzo.pdf. This is part of a test set which can be found at https://archimede.uniba.it/~testset/."
   ]
  },
  {
   "cell_type": "markdown",
   "metadata": {},
   "source": [
    "## Prerequisites\n",
    "\n",
    "The PETSc solver is an extra download for IDAES, which can be downloaded using the command ```idaes get-extensions --extra petsc```, if it is not installed already. See the IDAES solver documentation for more information (https://idaes-pse.readthedocs.io/en/stable/reference_guides/core/solvers.html)."
   ]
  },
  {
   "cell_type": "markdown",
   "metadata": {},
   "source": [
    "## Imports\n",
    "\n",
    "Import the modules that will be used.  Numpy and matplotlib are used to make some plots, ```idaes.core.solvers.petsc``` contains the PETSc utilities, and ```idaes.core.solvers.features``` contains the example model used here."
   ]
  },
  {
   "cell_type": "code",
   "execution_count": 2,
   "metadata": {},
   "outputs": [],
   "source": [
    "import numpy as np\n",
    "import matplotlib.pyplot as plt\n",
    "\n",
    "import pyomo.environ as pyo\n",
    "import idaes.core.solvers.petsc as petsc  # petsc utilities module\n",
    "from idaes.core.solvers.features import dae  # DAE example/test problem"
   ]
  },
  {
   "cell_type": "markdown",
   "metadata": {},
   "source": [
    "## Set Up the Model\n",
    "\n",
    "The model in this example is used for basic solver testing, so it is provided as part of an IDAES solver testing module. The model implementation is standard Pyomo.DAE, and nothing special needs to be done in the model to use the PETSc solver.  The IDAES utilities for the PETSc solver will take the discretized Pyomo model and integrate between discrete time points to fill in the solution. To integrate over the entire time domain (as we will do here), you can discretize time using one time element, in which case, the problem will just contain the initial and final points.  The intermediate solutions can be read from the trajectory data saved by the solver.  The trajectory data can be used for analysis, or interpolation can be used to initialize a Pyomo problem before solving the fully time discretized problem.  Integrating over the entire time domain is fastest with a coarsely discretized model (ideally just a single finite element in time) because the model is smaller and there are fewer calls to the integrator.  This can be a good way to start testing a new dynamic IDAES model."
   ]
  },
  {
   "cell_type": "code",
   "execution_count": 3,
   "metadata": {},
   "outputs": [],
   "source": [
    "# To see the example problem code, uncomment the line below and execute this cell.\n",
    "# ??dae"
   ]
  },
  {
   "cell_type": "code",
   "execution_count": 4,
   "metadata": {},
   "outputs": [],
   "source": [
    "# Get the model and known solution for y variables at t=180 minutes.\n",
    "m, y1, y2, y3, y4, y5, y6 = dae(nfe=10)"
   ]
  },
  {
   "cell_type": "markdown",
   "metadata": {},
   "source": [
    "The variables y1 to y6 represent concentrations of chemical species.  The values returned by the function above are the correct solution at t = 180.  These values can be used to verify the solver results.  The Pyomo model is ``m``.  We are mainly interested in the y variables.  The variables y1 to y5 are differential variables and y6 is an algebraic variable.  Initial conditions are required for y1 through y5, and the initial values of the other variables can be calculated from there.  The variables y1 through y5 at t = 0 are: ``m.y[0, 1]`` to ``m.y[0, 5]`` and y6 is ``m.y6[0]``.  The variables at the final state are ``m.y[180, 1]`` to ``m.y[180, 5]`` and ``m.y6[180]``.  The variable y6 is indexed differently because we want to treat it differently than the differential variables."
   ]
  },
  {
   "cell_type": "code",
   "execution_count": 5,
   "metadata": {},
   "outputs": [
    {
     "name": "stdout",
     "output_type": "stream",
     "text": [
      "at t = 0:\n",
      "    y1 = 0.444\n",
      "    y2 = 0.00123\n",
      "    y3 = 0.0\n",
      "    y4 = 0.007\n",
      "    y5 = 0.0\n"
     ]
    }
   ],
   "source": [
    "# See the initial conditions:\n",
    "print(\"at t = 0:\")\n",
    "print(f\"    y1 = {pyo.value(m.y[0, 1])}\")\n",
    "print(f\"    y2 = {pyo.value(m.y[0, 2])}\")\n",
    "print(f\"    y3 = {pyo.value(m.y[0, 3])}\")\n",
    "print(f\"    y4 = {pyo.value(m.y[0, 4])}\")\n",
    "print(f\"    y5 = {pyo.value(m.y[0, 5])}\")"
   ]
  },
  {
   "cell_type": "markdown",
   "metadata": {},
   "source": [
    "## Solve\n",
    "\n",
    "The ``petsc_dae_by_time_element()`` function is used to solve Pyomo.DAE discretized Pyomo problem with the PETSc time-stepping solver by integrating between discrete time points.  In this case there is only one time element."
   ]
  },
  {
   "cell_type": "code",
   "execution_count": 6,
   "metadata": {},
   "outputs": [],
   "source": [
    "# To see the docs, uncomment the line below and execute this cell.\n",
    "# ?petsc.petsc_dae_by_time_element"
   ]
  },
  {
   "cell_type": "code",
   "execution_count": 7,
   "metadata": {},
   "outputs": [
    {
     "ename": "RuntimeError",
     "evalue": "No PETSc executable found.",
     "output_type": "error",
     "traceback": [
      "\u001b[31m---------------------------------------------------------------------------\u001b[39m",
      "\u001b[31mRuntimeError\u001b[39m                              Traceback (most recent call last)",
      "\u001b[36mCell\u001b[39m\u001b[36m \u001b[39m\u001b[32mIn[7]\u001b[39m\u001b[32m, line 9\u001b[39m\n\u001b[32m      1\u001b[39m \u001b[38;5;66;03m# The command below will solve the problem.  In this case, we want to read the saved\u001b[39;00m\n\u001b[32m      2\u001b[39m \u001b[38;5;66;03m# trajectory for each time element in the Pyomo.DAE problem (in this case there is\u001b[39;00m\n\u001b[32m      3\u001b[39m \u001b[38;5;66;03m# only 1) so we will need to provide solver options to save the trajectory to the PETSc\u001b[39;00m\n\u001b[32m   (...)\u001b[39m\u001b[32m      6\u001b[39m \u001b[38;5;66;03m# information written by PETSc and resave it as json.  This allows us to cleanly read\u001b[39;00m\n\u001b[32m      7\u001b[39m \u001b[38;5;66;03m# the trajectory data for multiple time elements.\u001b[39;00m\n\u001b[32m----> \u001b[39m\u001b[32m9\u001b[39m result = \u001b[43mpetsc\u001b[49m\u001b[43m.\u001b[49m\u001b[43mpetsc_dae_by_time_element\u001b[49m\u001b[43m(\u001b[49m\n\u001b[32m     10\u001b[39m \u001b[43m    \u001b[49m\u001b[43mm\u001b[49m\u001b[43m,\u001b[49m\n\u001b[32m     11\u001b[39m \u001b[43m    \u001b[49m\u001b[43mtime\u001b[49m\u001b[43m=\u001b[49m\u001b[43mm\u001b[49m\u001b[43m.\u001b[49m\u001b[43mt\u001b[49m\u001b[43m,\u001b[49m\n\u001b[32m     12\u001b[39m \u001b[43m    \u001b[49m\u001b[43mbetween\u001b[49m\u001b[43m=\u001b[49m\u001b[43m[\u001b[49m\u001b[43mm\u001b[49m\u001b[43m.\u001b[49m\u001b[43mt\u001b[49m\u001b[43m.\u001b[49m\u001b[43mfirst\u001b[49m\u001b[43m(\u001b[49m\u001b[43m)\u001b[49m\u001b[43m,\u001b[49m\u001b[43m \u001b[49m\u001b[43mm\u001b[49m\u001b[43m.\u001b[49m\u001b[43mt\u001b[49m\u001b[43m.\u001b[49m\u001b[43mlast\u001b[49m\u001b[43m(\u001b[49m\u001b[43m)\u001b[49m\u001b[43m]\u001b[49m\u001b[43m,\u001b[49m\n\u001b[32m     13\u001b[39m \u001b[43m    \u001b[49m\u001b[43mts_options\u001b[49m\u001b[43m=\u001b[49m\u001b[43m{\u001b[49m\n\u001b[32m     14\u001b[39m \u001b[43m        \u001b[49m\u001b[33;43m\"\u001b[39;49m\u001b[33;43m--ts_type\u001b[39;49m\u001b[33;43m\"\u001b[39;49m\u001b[43m:\u001b[49m\u001b[43m \u001b[49m\u001b[33;43m\"\u001b[39;49m\u001b[33;43mcn\u001b[39;49m\u001b[33;43m\"\u001b[39;49m\u001b[43m,\u001b[49m\u001b[43m  \u001b[49m\u001b[38;5;66;43;03m# Crank–Nicolson\u001b[39;49;00m\n\u001b[32m     15\u001b[39m \u001b[43m        \u001b[49m\u001b[33;43m\"\u001b[39;49m\u001b[33;43m--ts_adapt_type\u001b[39;49m\u001b[33;43m\"\u001b[39;49m\u001b[43m:\u001b[49m\u001b[43m \u001b[49m\u001b[33;43m\"\u001b[39;49m\u001b[33;43mbasic\u001b[39;49m\u001b[33;43m\"\u001b[39;49m\u001b[43m,\u001b[49m\n\u001b[32m     16\u001b[39m \u001b[43m        \u001b[49m\u001b[33;43m\"\u001b[39;49m\u001b[33;43m--ts_dt\u001b[39;49m\u001b[33;43m\"\u001b[39;49m\u001b[43m:\u001b[49m\u001b[43m \u001b[49m\u001b[32;43m0.01\u001b[39;49m\u001b[43m,\u001b[49m\n\u001b[32m     17\u001b[39m \u001b[43m        \u001b[49m\u001b[33;43m\"\u001b[39;49m\u001b[33;43m--ts_save_trajectory\u001b[39;49m\u001b[33;43m\"\u001b[39;49m\u001b[43m:\u001b[49m\u001b[43m \u001b[49m\u001b[32;43m1\u001b[39;49m\u001b[43m,\u001b[49m\n\u001b[32m     18\u001b[39m \u001b[43m    \u001b[49m\u001b[43m}\u001b[49m\u001b[43m,\u001b[49m\n\u001b[32m     19\u001b[39m \u001b[43m)\u001b[49m\n\u001b[32m     20\u001b[39m tj = result.trajectory\n\u001b[32m     21\u001b[39m res = result.results\n",
      "\u001b[36mFile \u001b[39m\u001b[32m~/miniforge3/envs/idaes_examples_py3.11/lib/python3.11/site-packages/idaes/core/solvers/petsc.py:592\u001b[39m, in \u001b[36mpetsc_dae_by_time_element\u001b[39m\u001b[34m(m, time, timevar, initial_constraints, initial_variables, detect_initial, skip_initial, initial_solver, initial_solver_options, ts_options, keepfiles, symbolic_solver_labels, between, interpolate, calculate_derivatives, previous_trajectory, representative_time, snes_options)\u001b[39m\n\u001b[32m    590\u001b[39m             _sub_problem_scaling_suffix(m, t_block)\n\u001b[32m    591\u001b[39m             \u001b[38;5;28;01mwith\u001b[39;00m idaeslog.solver_log(solve_log, idaeslog.INFO) \u001b[38;5;28;01mas\u001b[39;00m slc:\n\u001b[32m--> \u001b[39m\u001b[32m592\u001b[39m                 res = \u001b[43minitial_solver_obj\u001b[49m\u001b[43m.\u001b[49m\u001b[43msolve\u001b[49m\u001b[43m(\u001b[49m\n\u001b[32m    593\u001b[39m \u001b[43m                    \u001b[49m\u001b[43mt_block\u001b[49m\u001b[43m,\u001b[49m\n\u001b[32m    594\u001b[39m \u001b[43m                    \u001b[49m\u001b[43mtee\u001b[49m\u001b[43m=\u001b[49m\u001b[43mslc\u001b[49m\u001b[43m.\u001b[49m\u001b[43mtee\u001b[49m\u001b[43m,\u001b[49m\n\u001b[32m    595\u001b[39m \u001b[43m                    \u001b[49m\u001b[43msymbolic_solver_labels\u001b[49m\u001b[43m=\u001b[49m\u001b[43msymbolic_solver_labels\u001b[49m\u001b[43m,\u001b[49m\n\u001b[32m    596\u001b[39m \u001b[43m                \u001b[49m\u001b[43m)\u001b[49m\n\u001b[32m    597\u001b[39m             res_list.append(res)\n\u001b[32m    599\u001b[39m tprev = t0\n",
      "\u001b[36mFile \u001b[39m\u001b[32m~/miniforge3/envs/idaes_examples_py3.11/lib/python3.11/site-packages/pyomo/opt/base/solvers.py:534\u001b[39m, in \u001b[36mOptSolver.solve\u001b[39m\u001b[34m(self, *args, **kwds)\u001b[39m\n\u001b[32m    531\u001b[39m \u001b[38;5;28;01mdef\u001b[39;00m\u001b[38;5;250m \u001b[39m\u001b[34msolve\u001b[39m(\u001b[38;5;28mself\u001b[39m, *args, **kwds):\n\u001b[32m    532\u001b[39m \u001b[38;5;250m    \u001b[39m\u001b[33;03m\"\"\"Solve the problem\"\"\"\u001b[39;00m\n\u001b[32m--> \u001b[39m\u001b[32m534\u001b[39m     \u001b[38;5;28;43mself\u001b[39;49m\u001b[43m.\u001b[49m\u001b[43mavailable\u001b[49m\u001b[43m(\u001b[49m\u001b[43mexception_flag\u001b[49m\u001b[43m=\u001b[49m\u001b[38;5;28;43;01mTrue\u001b[39;49;00m\u001b[43m)\u001b[49m\n\u001b[32m    535\u001b[39m     \u001b[38;5;66;03m#\u001b[39;00m\n\u001b[32m    536\u001b[39m     \u001b[38;5;66;03m# If the inputs are models, then validate that they have been\u001b[39;00m\n\u001b[32m    537\u001b[39m     \u001b[38;5;66;03m# constructed! Collect suffix names to try and import from solution.\u001b[39;00m\n\u001b[32m    538\u001b[39m     \u001b[38;5;66;03m#\u001b[39;00m\n\u001b[32m    539\u001b[39m     \u001b[38;5;28;01mfrom\u001b[39;00m\u001b[38;5;250m \u001b[39m\u001b[34;01mpyomo\u001b[39;00m\u001b[34;01m.\u001b[39;00m\u001b[34;01mcore\u001b[39;00m\u001b[34;01m.\u001b[39;00m\u001b[34;01mbase\u001b[39;00m\u001b[34;01m.\u001b[39;00m\u001b[34;01mblock\u001b[39;00m\u001b[38;5;250m \u001b[39m\u001b[38;5;28;01mimport\u001b[39;00m BlockData\n",
      "\u001b[36mFile \u001b[39m\u001b[32m~/miniforge3/envs/idaes_examples_py3.11/lib/python3.11/site-packages/pyomo/solvers/plugins/solvers/ASL.py:119\u001b[39m, in \u001b[36mASL.available\u001b[39m\u001b[34m(self, exception_flag)\u001b[39m\n\u001b[32m    118\u001b[39m \u001b[38;5;28;01mdef\u001b[39;00m\u001b[38;5;250m \u001b[39m\u001b[34mavailable\u001b[39m(\u001b[38;5;28mself\u001b[39m, exception_flag=\u001b[38;5;28;01mTrue\u001b[39;00m):\n\u001b[32m--> \u001b[39m\u001b[32m119\u001b[39m     \u001b[38;5;28;01mif\u001b[39;00m \u001b[38;5;129;01mnot\u001b[39;00m \u001b[38;5;28;43msuper\u001b[39;49m\u001b[43m(\u001b[49m\u001b[43m)\u001b[49m\u001b[43m.\u001b[49m\u001b[43mavailable\u001b[49m\u001b[43m(\u001b[49m\u001b[43mexception_flag\u001b[49m\u001b[43m)\u001b[49m:\n\u001b[32m    120\u001b[39m         \u001b[38;5;28;01mreturn\u001b[39;00m \u001b[38;5;28;01mFalse\u001b[39;00m\n\u001b[32m    121\u001b[39m     \u001b[38;5;28;01mreturn\u001b[39;00m \u001b[38;5;28mself\u001b[39m.version() \u001b[38;5;129;01mis\u001b[39;00m \u001b[38;5;129;01mnot\u001b[39;00m \u001b[38;5;28;01mNone\u001b[39;00m\n",
      "\u001b[36mFile \u001b[39m\u001b[32m~/miniforge3/envs/idaes_examples_py3.11/lib/python3.11/site-packages/pyomo/opt/solver/shellcmd.py:134\u001b[39m, in \u001b[36mSystemCallSolver.available\u001b[39m\u001b[34m(self, exception_flag)\u001b[39m\n\u001b[32m    132\u001b[39m     cm = nullcontext() \u001b[38;5;28;01mif\u001b[39;00m exception_flag \u001b[38;5;28;01melse\u001b[39;00m LoggingIntercept()\n\u001b[32m    133\u001b[39m     \u001b[38;5;28;01mwith\u001b[39;00m cm:\n\u001b[32m--> \u001b[39m\u001b[32m134\u001b[39m         ans = \u001b[38;5;28;43mself\u001b[39;49m\u001b[43m.\u001b[49m\u001b[43mexecutable\u001b[49m\u001b[43m(\u001b[49m\u001b[43m)\u001b[49m\n\u001b[32m    135\u001b[39m \u001b[38;5;28;01mexcept\u001b[39;00m \u001b[38;5;167;01mNotImplementedError\u001b[39;00m:\n\u001b[32m    136\u001b[39m     ans = \u001b[38;5;28;01mNone\u001b[39;00m\n",
      "\u001b[36mFile \u001b[39m\u001b[32m~/miniforge3/envs/idaes_examples_py3.11/lib/python3.11/site-packages/pyomo/opt/solver/shellcmd.py:205\u001b[39m, in \u001b[36mSystemCallSolver.executable\u001b[39m\u001b[34m(self)\u001b[39m\n\u001b[32m    198\u001b[39m \u001b[38;5;28;01mdef\u001b[39;00m\u001b[38;5;250m \u001b[39m\u001b[34mexecutable\u001b[39m(\u001b[38;5;28mself\u001b[39m):\n\u001b[32m    199\u001b[39m \u001b[38;5;250m    \u001b[39m\u001b[33;03m\"\"\"\u001b[39;00m\n\u001b[32m    200\u001b[39m \u001b[33;03m    Returns the executable used by this solver.\u001b[39;00m\n\u001b[32m    201\u001b[39m \u001b[33;03m    \"\"\"\u001b[39;00m\n\u001b[32m    202\u001b[39m     \u001b[38;5;28;01mreturn\u001b[39;00m (\n\u001b[32m    203\u001b[39m         \u001b[38;5;28mself\u001b[39m._user_executable\n\u001b[32m    204\u001b[39m         \u001b[38;5;28;01mif\u001b[39;00m (\u001b[38;5;28mself\u001b[39m._user_executable \u001b[38;5;129;01mis\u001b[39;00m \u001b[38;5;129;01mnot\u001b[39;00m \u001b[38;5;28;01mNone\u001b[39;00m)\n\u001b[32m--> \u001b[39m\u001b[32m205\u001b[39m         \u001b[38;5;28;01melse\u001b[39;00m \u001b[38;5;28;43mself\u001b[39;49m\u001b[43m.\u001b[49m\u001b[43m_default_executable\u001b[49m\u001b[43m(\u001b[49m\u001b[43m)\u001b[49m\n\u001b[32m    206\u001b[39m     )\n",
      "\u001b[36mFile \u001b[39m\u001b[32m~/miniforge3/envs/idaes_examples_py3.11/lib/python3.11/site-packages/idaes/core/solvers/petsc.py:124\u001b[39m, in \u001b[36mPetsc._default_executable\u001b[39m\u001b[34m(self)\u001b[39m\n\u001b[32m    122\u001b[39m executable = Executable(\u001b[33m\"\u001b[39m\u001b[33mpetsc\u001b[39m\u001b[33m\"\u001b[39m)\n\u001b[32m    123\u001b[39m \u001b[38;5;28;01mif\u001b[39;00m \u001b[38;5;129;01mnot\u001b[39;00m executable:\n\u001b[32m--> \u001b[39m\u001b[32m124\u001b[39m     \u001b[38;5;28;01mraise\u001b[39;00m \u001b[38;5;167;01mRuntimeError\u001b[39;00m(\u001b[33m\"\u001b[39m\u001b[33mNo PETSc executable found.\u001b[39m\u001b[33m\"\u001b[39m)\n\u001b[32m    125\u001b[39m \u001b[38;5;28;01mreturn\u001b[39;00m executable.path()\n",
      "\u001b[31mRuntimeError\u001b[39m: No PETSc executable found."
     ]
    }
   ],
   "source": [
    "# The command below will solve the problem.  In this case, we want to read the saved\n",
    "# trajectory for each time element in the Pyomo.DAE problem (in this case there is\n",
    "# only 1) so we will need to provide solver options to save the trajectory to the PETSc\n",
    "# solver, a file name stub for variable information files, and a file stub for saving\n",
    "# the trajectory information.  The options shown below will delete the trajectory\n",
    "# information written by PETSc and resave it as json.  This allows us to cleanly read\n",
    "# the trajectory data for multiple time elements.\n",
    "\n",
    "result = petsc.petsc_dae_by_time_element(\n",
    "    m,\n",
    "    time=m.t,\n",
    "    between=[m.t.first(), m.t.last()],\n",
    "    ts_options={\n",
    "        \"--ts_type\": \"cn\",  # Crank–Nicolson\n",
    "        \"--ts_adapt_type\": \"basic\",\n",
    "        \"--ts_dt\": 0.01,\n",
    "        \"--ts_save_trajectory\": 1,\n",
    "    },\n",
    ")\n",
    "tj = result.trajectory\n",
    "res = result.results"
   ]
  },
  {
   "cell_type": "code",
   "execution_count": 7,
   "metadata": {},
   "outputs": [],
   "source": [
    "# Verify results\n",
    "assert abs(y1 - pyo.value(m.y[180, 1])) / y1 < 1e-3\n",
    "assert abs(y2 - pyo.value(m.y[180, 2])) / y2 < 1e-3\n",
    "assert abs(y3 - pyo.value(m.y[180, 3])) / y3 < 1e-3\n",
    "assert abs(y4 - pyo.value(m.y[180, 4])) / y4 < 1e-3\n",
    "assert abs(y5 - pyo.value(m.y[180, 5])) / y5 < 1e-3\n",
    "assert abs(y6 - pyo.value(m.y6[180])) / y6 < 1e-3"
   ]
  },
  {
   "cell_type": "markdown",
   "metadata": {},
   "source": [
    "## Plot Results Stored in Model\n",
    "\n",
    "In the problem above we used the PETSc to integrate between the first and last time point.  By default, the PETSc DAE utility will interpolate from the PETSc trajectory to fill in the skipped points."
   ]
  },
  {
   "cell_type": "code",
   "execution_count": 8,
   "metadata": {},
   "outputs": [],
   "source": [
    "a = plt.plot(m.t, [pyo.value(m.y[t, 1]) for t in m.t], label=\"y1\")\n",
    "a = plt.plot(m.t, [pyo.value(m.y[t, 2]) for t in m.t], label=\"y2\")\n",
    "a = plt.plot(m.t, [pyo.value(m.y[t, 3]) for t in m.t], label=\"y3\")\n",
    "a = plt.plot(m.t, [pyo.value(m.y[t, 4]) for t in m.t], label=\"y4\")\n",
    "a = plt.plot(m.t, [pyo.value(m.y[t, 5]) for t in m.t], label=\"y5\")\n",
    "a = plt.plot(m.t, [pyo.value(m.y6[t]) for t in m.t], label=\"y6\")\n",
    "a = plt.legend()\n",
    "a = plt.ylabel(\"Concentration (mol/l)\")\n",
    "a = plt.xlabel(\"time (min)\")"
   ]
  },
  {
   "cell_type": "markdown",
   "metadata": {},
   "source": [
    "## Plot Trajectory"
   ]
  },
  {
   "cell_type": "code",
   "execution_count": 9,
   "metadata": {},
   "outputs": [],
   "source": [
    "# First plot all y's on one plot\n",
    "\n",
    "a = plt.plot(tj.time, tj.get_vec(m.y[180, 1]), label=\"y1\")\n",
    "a = plt.plot(tj.time, tj.get_vec(m.y[180, 2]), label=\"y2\")\n",
    "a = plt.plot(tj.time, tj.get_vec(m.y[180, 3]), label=\"y3\")\n",
    "a = plt.plot(tj.time, tj.get_vec(m.y[180, 4]), label=\"y4\")\n",
    "a = plt.plot(tj.time, tj.get_vec(m.y[180, 5]), label=\"y5\")\n",
    "a = plt.plot(tj.time, tj.get_vec(m.y6[180]), label=\"y6\")\n",
    "a = plt.legend()\n",
    "a = plt.ylabel(\"Concentration (mol/l)\")\n",
    "a = plt.xlabel(\"time (min)\")"
   ]
  },
  {
   "cell_type": "code",
   "execution_count": 10,
   "metadata": {},
   "outputs": [],
   "source": [
    "# 2 and 4 are pretty low concentration, so plot those so we can see better\n",
    "a = plt.plot(tj.time, tj.get_vec(m.y[180, 2]), label=\"y2\")\n",
    "a = plt.plot(tj.time, tj.get_vec(m.y[180, 4]), label=\"y4\")\n",
    "a = plt.legend()\n",
    "a = plt.ylabel(\"Concentration (mol/l)\")\n",
    "a = plt.xlabel(\"time (min)\")"
   ]
  },
  {
   "cell_type": "code",
   "execution_count": 11,
   "metadata": {},
   "outputs": [],
   "source": [
    "# 2 seems to have some fast dynamics so plot a shorter time\n",
    "a = plt.plot(tj.vecs[\"_time\"], tj.vecs[str(m.y[180, 2])], label=\"y2\")\n",
    "a = plt.legend()\n",
    "a = plt.ylabel(\"Concentration (mol/l)\")\n",
    "a = plt.xlabel(\"time (min)\")\n",
    "a = plt.xlim(0, 2)"
   ]
  },
  {
   "cell_type": "markdown",
   "metadata": {},
   "source": [
    "## Interpolate Trajectory\n",
    "\n",
    "For a number of reasons, such as initializing Pyomo problems or showing results at even time intervals it can be useful to show values at specific time points.  The PetscTrajectory class has a method to use linear interpolation to produce a new dictionary of trajectory data at specified time points. "
   ]
  },
  {
   "cell_type": "code",
   "execution_count": 12,
   "metadata": {},
   "outputs": [],
   "source": [
    "# This creates a new trajectory data set with data every minute.\n",
    "tji = tj.interpolate(np.linspace(0, 180, 181))"
   ]
  },
  {
   "cell_type": "code",
   "execution_count": 13,
   "metadata": {},
   "outputs": [],
   "source": [
    "# The plot of this new data should look the same as the original, although some of the\n",
    "# fast dynamics of component 2 will be obscured.\n",
    "\n",
    "a = plt.plot(tji.time, tji.get_vec(m.y[180, 1]), label=\"y1\")\n",
    "a = plt.plot(tji.time, tji.get_vec(m.y[180, 2]), label=\"y2\")\n",
    "a = plt.plot(tji.time, tji.get_vec(m.y[180, 3]), label=\"y3\")\n",
    "a = plt.plot(tji.time, tji.get_vec(m.y[180, 4]), label=\"y4\")\n",
    "a = plt.plot(tji.time, tji.get_vec(m.y[180, 5]), label=\"y5\")\n",
    "a = plt.plot(tji.time, tji.get_vec(m.y6[180]), label=\"y6\")\n",
    "a = plt.legend()\n",
    "a = plt.ylabel(\"Concentration (mol/l)\")\n",
    "a = plt.xlabel(\"time (min)\")"
   ]
  },
  {
   "cell_type": "code",
   "execution_count": 14,
   "metadata": {},
   "outputs": [],
   "source": [
    "a = plt.plot(tji.time, tji.get_vec(m.y[180, 2]), label=\"y2 interpolate dt=1\")\n",
    "a = plt.plot(tj.time, tj.get_vec(m.y[180, 2]), label=\"y2 original\")\n",
    "a = plt.legend()\n",
    "a = plt.ylabel(\"Concentration (mol/l)\")\n",
    "a = plt.xlabel(\"time (min)\")\n",
    "a = plt.xlim(0, 2)"
   ]
  },
  {
   "cell_type": "code",
   "execution_count": null,
   "metadata": {},
   "outputs": [],
   "source": []
  }
 ],
 "metadata": {
  "kernelspec": {
   "display_name": "Python 3 (ipykernel)",
   "language": "python",
   "name": "python3"
  },
  "language_info": {
   "codemirror_mode": {
    "name": "ipython",
    "version": 3
   },
   "file_extension": ".py",
   "mimetype": "text/x-python",
   "name": "python",
   "nbconvert_exporter": "python",
   "pygments_lexer": "ipython3",
   "version": "3.11.11"
  }
 },
 "nbformat": 4,
 "nbformat_minor": 3
}