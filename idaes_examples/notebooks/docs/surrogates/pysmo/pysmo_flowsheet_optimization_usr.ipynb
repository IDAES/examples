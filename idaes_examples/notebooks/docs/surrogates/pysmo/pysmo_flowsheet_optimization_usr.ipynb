{
 "cells": [
  {
   "cell_type": "code",
   "execution_count": null,
   "metadata": {
    "tags": [
     "header",
     "hide-cell"
    ]
   },
   "outputs": [],
   "source": [
    "###############################################################################\n",
    "# The Institute for the Design of Advanced Energy Systems Integrated Platform\n",
    "# Framework (IDAES IP) was produced under the DOE Institute for the\n",
    "# Design of Advanced Energy Systems (IDAES).\n",
    "#\n",
    "# Copyright (c) 2018-2023 by the software owners: The Regents of the\n",
    "# University of California, through Lawrence Berkeley National Laboratory,\n",
    "# National Technology & Engineering Solutions of Sandia, LLC, Carnegie Mellon\n",
    "# University, West Virginia University Research Corporation, et al.\n",
    "# All rights reserved.  Please see the files COPYRIGHT.md and LICENSE.md\n",
    "# for full copyright and license information.\n",
    "###############################################################################"
   ]
  },
  {
   "cell_type": "markdown",
   "metadata": {},
   "source": [
    "# Autothermal Reformer Flowsheet Optimization with PySMO Surrogate Object"
   ]
  },
  {
   "cell_type": "markdown",
   "metadata": {},
   "source": [
    "## 1. Introduction\n",
    "\n",
    "This example demonstrates autothermal reformer optimization leveraging the PySMO Polynomial surrogate trainer. Other than the specific training method syntax, this workflow is identical for PySMO RBF and PySMO Kriging surrogate models. In this notebook, sampled simulation data will be used to train and validate a surrogate model. IDAES surrogate plotting tools will be utilized to visualize the surrogates on training and validation data. Once validated, integration of the surrogate into an IDAES flowsheet will be demonstrated."
   ]
  },
  {
   "cell_type": "markdown",
   "metadata": {},
   "source": [
    "# 2. Problem Statement \n",
    "\n",
    "Within the context of a larger NGFC system, the autothermal reformer generates syngas from air, steam and natural gas for use in a solid-oxide fuel cell (SOFC).\n",
    "\n",
    "## 2.1. Main Inputs: \n",
    "- Bypass fraction (dimensionless) - split fraction of natural gas to bypass AR unit and feed directly to the power island\n",
    "- NG-Steam Ratio (dimensionless) - proportion of natural relative to steam fed into AR unit operation\n",
    "\n",
    "## 2.2. Main Outputs:\n",
    "- Steam flowrate (kg/s) - inlet steam fed to AR unit\n",
    "- Reformer duty (kW) - required energy input to AR unit\n",
    "- Composition (dimensionless) - outlet mole fractions of components (Ar, C2H6, C3H8, C4H10, CH4, CO, CO2, H2, H2O, N2, O2)"
   ]
  },
  {
   "cell_type": "code",
   "execution_count": 1,
   "metadata": {},
   "outputs": [],
   "source": [
    "from IPython.display import Image\n",
    "from pathlib import Path\n",
    "\n",
    "\n",
    "def datafile_path(name):\n",
    "    return Path(\"..\") / name\n",
    "\n",
    "\n",
    "Image(datafile_path(\"AR_PFD.png\"))"
   ]
  },
  {
   "cell_type": "markdown",
   "metadata": {},
   "source": [
    "## 3. Training and Validating Surrogates"
   ]
  },
  {
   "cell_type": "markdown",
   "metadata": {},
   "source": [
    "First, let's import the required Python, Pyomo and IDAES modules:"
   ]
  },
  {
   "cell_type": "code",
   "execution_count": 2,
   "metadata": {},
   "outputs": [],
   "source": [
    "# Import statements\n",
    "import os\n",
    "import numpy as np\n",
    "import pandas as pd\n",
    "\n",
    "# Import Pyomo libraries\n",
    "from pyomo.environ import (\n",
    "    ConcreteModel,\n",
    "    SolverFactory,\n",
    "    value,\n",
    "    Var,\n",
    "    Constraint,\n",
    "    Set,\n",
    "    Objective,\n",
    "    maximize,\n",
    ")\n",
    "from pyomo.common.timing import TicTocTimer\n",
    "\n",
    "# Import IDAES libraries\n",
    "from idaes.core.surrogate.sampling.data_utils import split_training_validation\n",
    "from idaes.core.surrogate.pysmo_surrogate import PysmoPolyTrainer, PysmoSurrogate\n",
    "from idaes.core.surrogate.plotting.sm_plotter import (\n",
    "    surrogate_scatter2D,\n",
    "    surrogate_parity,\n",
    "    surrogate_residual,\n",
    ")\n",
    "from idaes.core.surrogate.surrogate_block import SurrogateBlock\n",
    "from idaes.core import FlowsheetBlock\n",
    "from idaes.core.util.convergence.convergence_base import _run_ipopt_with_stats"
   ]
  },
  {
   "cell_type": "markdown",
   "metadata": {},
   "source": [
    "## 3.1 Importing Training and Validation Datasets"
   ]
  },
  {
   "cell_type": "markdown",
   "metadata": {},
   "source": [
    "In this section, we read the dataset from the CSV file located in this directory. 2800 data points were simulated from a rigorous IDAES NGFC flowsheet using a grid sampling method. For simplicity and to reduce training runtime, this example randomly selects 100 data points to use for training/validation. The data is separated using an 80/20 split into training and validation data using the IDAES `split_training_validation()` method."
   ]
  },
  {
   "cell_type": "code",
   "execution_count": 3,
   "metadata": {},
   "outputs": [],
   "source": [
    "# Import Auto-reformer training data\n",
    "np.set_printoptions(precision=6, suppress=True)\n",
    "\n",
    "csv_data = pd.read_csv(datafile_path(\"reformer-data.csv\"))  # 2800 data points\n",
    "data = csv_data.sample(n=100)  # randomly sample points for training/validation\n",
    "input_data = data.iloc[:, :2]\n",
    "output_data = data.iloc[:, 2:]\n",
    "\n",
    "# Define labels, and split training and validation data\n",
    "# note that PySMO requires that labels are passed as string lists\n",
    "input_labels = list(input_data.columns)\n",
    "output_labels = list(output_data.columns)\n",
    "\n",
    "n_data = data[input_labels[0]].size\n",
    "data_training, data_validation = split_training_validation(\n",
    "    data, 0.8, seed=n_data\n",
    ")  # seed=100"
   ]
  },
  {
   "cell_type": "markdown",
   "metadata": {},
   "source": [
    "## 3.2 Training Surrogates with PySMO"
   ]
  },
  {
   "cell_type": "markdown",
   "metadata": {},
   "source": [
    "IDAES builds a model class for each type of PySMO surrogate model. In this case, we will call and build the Polynomial Regression class. Regression settings can be directly passed as class arguments, as shown below. In this example, allowed basis terms span a 6th order polynomial as well as a variable product, and data is internally cross-validated using 10 iterations of 80/20 splits to ensure a robust surrogate fit. Note that PySMO uses cross-validation of training data to adjust model coefficients and ensure a more accurate fit, while we separate the validation dataset pre-training in order to visualize the surrogate fits.\n",
    "\n",
    "Finally, after training the model we save the results and model expressions to a folder which contains a serialized JSON file. Serializing the model in this fashion enables importing a previously trained set of surrogate models into external flowsheets. This feature will be used later."
   ]
  },
  {
   "cell_type": "code",
   "execution_count": 4,
   "metadata": {
    "scrolled": false
   },
   "outputs": [],
   "source": [
    "# capture long output (not required to use surrogate API)\n",
    "from io import StringIO\n",
    "import sys\n",
    "\n",
    "stream = StringIO()\n",
    "oldstdout = sys.stdout\n",
    "sys.stdout = stream\n",
    "\n",
    "# Create PySMO trainer object\n",
    "trainer = PysmoPolyTrainer(\n",
    "    input_labels=input_labels,\n",
    "    output_labels=output_labels,\n",
    "    training_dataframe=data_training,\n",
    ")\n",
    "\n",
    "# Set PySMO options\n",
    "trainer.config.maximum_polynomial_order = 6\n",
    "trainer.config.multinomials = True\n",
    "trainer.config.training_split = 0.8\n",
    "trainer.config.number_of_crossvalidations = 10\n",
    "\n",
    "# Train surrogate (calls PySMO through IDAES Python wrapper)\n",
    "poly_train = trainer.train_surrogate()\n",
    "\n",
    "# create callable surrogate object\n",
    "xmin, xmax = [0.1, 0.8], [0.8, 1.2]\n",
    "input_bounds = {input_labels[i]: (xmin[i], xmax[i]) for i in range(len(input_labels))}\n",
    "poly_surr = PysmoSurrogate(poly_train, input_labels, output_labels, input_bounds)\n",
    "\n",
    "# save model to JSON\n",
    "model = poly_surr.save_to_file(\"pysmo_poly_surrogate.json\", overwrite=True)\n",
    "\n",
    "# revert back to normal output capture\n",
    "sys.stdout = oldstdout\n",
    "\n",
    "# display first 50 lines and last 50 lines of output\n",
    "celloutput = stream.getvalue().split(\"\\n\")\n",
    "for line in celloutput[:50]:\n",
    "    print(line)\n",
    "print(\".\")\n",
    "print(\".\")\n",
    "print(\".\")\n",
    "for line in celloutput[-50:]:\n",
    "    print(line)"
   ]
  },
  {
   "cell_type": "markdown",
   "metadata": {},
   "source": [
    "## 3.3 Visualizing surrogates"
   ]
  },
  {
   "cell_type": "markdown",
   "metadata": {},
   "source": [
    "Now that the surrogate models have been trained, the models can be visualized through scatter, parity and residual plots to confirm their validity in the chosen domain. The training data will be visualized first to confirm the surrogates are fit the data, and then the validation data will be visualized to confirm the surrogates accurately predict new output values."
   ]
  },
  {
   "cell_type": "code",
   "execution_count": 5,
   "metadata": {
    "scrolled": false
   },
   "outputs": [],
   "source": [
    "# visualize with IDAES surrogate plotting tools\n",
    "surrogate_scatter2D(poly_surr, data_training, filename=\"pysmo_poly_train_scatter2D.pdf\")\n",
    "surrogate_parity(poly_surr, data_training, filename=\"pysmo_poly_train_parity.pdf\")\n",
    "surrogate_residual(poly_surr, data_training, filename=\"pysmo_poly_train_residual.pdf\")"
   ]
  },
  {
   "cell_type": "markdown",
   "metadata": {},
   "source": [
    "## 3.4 Model Validation"
   ]
  },
  {
   "cell_type": "code",
   "execution_count": 6,
   "metadata": {
    "scrolled": false
   },
   "outputs": [],
   "source": [
    "# visualize with IDAES surrogate plotting tools\n",
    "surrogate_scatter2D(poly_surr, data_validation, filename=\"pysmo_poly_val_scatter2D.pdf\")\n",
    "surrogate_parity(poly_surr, data_validation, filename=\"pysmo_poly_val_parity.pdf\")\n",
    "surrogate_residual(poly_surr, data_validation, filename=\"pysmo_poly_val_residual.pdf\")"
   ]
  },
  {
   "cell_type": "markdown",
   "metadata": {},
   "source": [
    "# 4. IDAES Flowsheet Integration"
   ]
  },
  {
   "cell_type": "markdown",
   "metadata": {},
   "source": [
    "## 4.1 Build and Run IDAES Flowsheet"
   ]
  },
  {
   "cell_type": "markdown",
   "metadata": {},
   "source": [
    "Next, we will build an IDAES flowsheet and import the surrogate model object. Each output variable has a unique PySMO model expression, and the surrogate expressions may be added to the model via an indexed Constraint() component."
   ]
  },
  {
   "cell_type": "code",
   "execution_count": 7,
   "metadata": {
    "scrolled": false
   },
   "outputs": [],
   "source": [
    "# create the IDAES model and flowsheet\n",
    "m = ConcreteModel()\n",
    "m.fs = FlowsheetBlock(dynamic=False)\n",
    "\n",
    "# create flowsheet input variables\n",
    "m.fs.bypass_frac = Var(\n",
    "    initialize=0.80, bounds=[0.1, 0.8], doc=\"natural gas bypass fraction\"\n",
    ")\n",
    "m.fs.ng_steam_ratio = Var(\n",
    "    initialize=0.80, bounds=[0.8, 1.2], doc=\"natural gas to steam ratio\"\n",
    ")\n",
    "\n",
    "# create flowsheet output variables\n",
    "m.fs.steam_flowrate = Var(initialize=0.2, doc=\"steam flowrate\")\n",
    "m.fs.reformer_duty = Var(initialize=10000, doc=\"reformer heat duty\")\n",
    "m.fs.AR = Var(initialize=0, doc=\"AR fraction\")\n",
    "m.fs.C2H6 = Var(initialize=0, doc=\"C2H6 fraction\")\n",
    "m.fs.C3H8 = Var(initialize=0, doc=\"C3H8 fraction\")\n",
    "m.fs.C4H10 = Var(initialize=0, doc=\"C4H10 fraction\")\n",
    "m.fs.CH4 = Var(initialize=0, doc=\"CH4 fraction\")\n",
    "m.fs.CO = Var(initialize=0, doc=\"CO fraction\")\n",
    "m.fs.CO2 = Var(initialize=0, doc=\"CO2 fraction\")\n",
    "m.fs.H2 = Var(initialize=0, doc=\"H2 fraction\")\n",
    "m.fs.H2O = Var(initialize=0, doc=\"H2O fraction\")\n",
    "m.fs.N2 = Var(initialize=0, doc=\"N2 fraction\")\n",
    "m.fs.O2 = Var(initialize=0, doc=\"O2 fraction\")\n",
    "\n",
    "# create input and output variable object lists for flowsheet\n",
    "inputs = [m.fs.bypass_frac, m.fs.ng_steam_ratio]\n",
    "outputs = [\n",
    "    m.fs.steam_flowrate,\n",
    "    m.fs.reformer_duty,\n",
    "    m.fs.AR,\n",
    "    m.fs.C2H6,\n",
    "    m.fs.C4H10,\n",
    "    m.fs.C3H8,\n",
    "    m.fs.CH4,\n",
    "    m.fs.CO,\n",
    "    m.fs.CO2,\n",
    "    m.fs.H2,\n",
    "    m.fs.H2O,\n",
    "    m.fs.N2,\n",
    "    m.fs.O2,\n",
    "]\n",
    "\n",
    "# create the Pyomo/IDAES block that corresponds to the surrogate\n",
    "# PySMO\n",
    "\n",
    "# capture long output (not required to use surrogate API)\n",
    "stream = StringIO()\n",
    "oldstdout = sys.stdout\n",
    "sys.stdout = stream\n",
    "\n",
    "surrogate = PysmoSurrogate.load_from_file(\"pysmo_poly_surrogate.json\")\n",
    "m.fs.surrogate = SurrogateBlock(concrete=True)\n",
    "m.fs.surrogate.build_model(surrogate, input_vars=inputs, output_vars=outputs)\n",
    "\n",
    "# revert back to normal output capture - don't need to print PySMO load output\n",
    "sys.stdout = oldstdout\n",
    "\n",
    "# fix input values and solve flowsheet\n",
    "m.fs.bypass_frac.fix(0.5)\n",
    "m.fs.ng_steam_ratio.fix(1)\n",
    "\n",
    "solver = SolverFactory(\"ipopt\")\n",
    "status_obj, solved, iters, time, *_ = _run_ipopt_with_stats(m, solver)"
   ]
  },
  {
   "cell_type": "markdown",
   "metadata": {},
   "source": [
    "Let's print some model results:"
   ]
  },
  {
   "cell_type": "code",
   "execution_count": 8,
   "metadata": {},
   "outputs": [],
   "source": [
    "print(\"Model status: \", status_obj)\n",
    "print(\"Solution optimal: \", solved)\n",
    "print(\"IPOPT iterations: \", iters)\n",
    "print(\"IPOPT runtime: \", time)\n",
    "\n",
    "print()\n",
    "print(\"Steam flowrate = \", value(m.fs.steam_flowrate))\n",
    "print(\"Reformer duty = \", value(m.fs.reformer_duty))\n",
    "print(\"Mole Fraction Ar = \", value(m.fs.AR))\n",
    "print(\"Mole Fraction C2H6 = \", value(m.fs.C2H6))\n",
    "print(\"Mole Fraction C3H8 = \", value(m.fs.C3H8))\n",
    "print(\"Mole Fraction C4H10 = \", value(m.fs.C4H10))\n",
    "print(\"Mole Fraction CH4 = \", value(m.fs.CH4))\n",
    "print(\"Mole Fraction CO = \", value(m.fs.CO))\n",
    "print(\"Mole Fraction CO2 = \", value(m.fs.CO2))\n",
    "print(\"Mole Fraction H2 = \", value(m.fs.H2))\n",
    "print(\"Mole Fraction H2O = \", value(m.fs.H2O))\n",
    "print(\"Mole Fraction N2 = \", value(m.fs.N2))\n",
    "print(\"Mole Fraction O2 = \", value(m.fs.O2))"
   ]
  },
  {
   "cell_type": "markdown",
   "metadata": {},
   "source": [
    "## 4.2 Optimizing the Autothermal Reformer\n",
    "Extending this example, we will unfix the input variables and optimize hydrogen production. We will restrict nitrogen below 34 mol% of the product stream and leave all other variables unfixed.\n",
    "\n",
    "Above, variable values are called in reference to actual objects names; however, as shown below this may be done much more compactly by calling the list objects we created earlier."
   ]
  },
  {
   "cell_type": "code",
   "execution_count": 9,
   "metadata": {
    "scrolled": false
   },
   "outputs": [],
   "source": [
    "# unfix input values and add the objective/constraint to the model\n",
    "m.fs.bypass_frac.unfix()\n",
    "m.fs.ng_steam_ratio.unfix()\n",
    "m.fs.obj = Objective(expr=m.fs.H2, sense=maximize)\n",
    "m.fs.con = Constraint(expr=m.fs.N2 <= 0.34)\n",
    "\n",
    "# solve the model\n",
    "tmr = TicTocTimer()\n",
    "status = solver.solve(m, tee=True)\n",
    "solve_time = tmr.toc(\"solve\")\n",
    "\n",
    "# print and check results\n",
    "assert abs(value(m.fs.H2) - 0.33) <= 0.01\n",
    "assert value(m.fs.N2 <= 0.4 + 1e-8)\n",
    "print(\"Model status: \", status)\n",
    "print(\"Solve time: \", solve_time)\n",
    "for var in inputs:\n",
    "    print(var.name, \": \", value(var))\n",
    "for var in outputs:\n",
    "    print(var.name, \": \", value(var))"
   ]
  },
  {
   "cell_type": "code",
   "execution_count": null,
   "metadata": {},
   "outputs": [],
   "source": []
  }
 ],
 "metadata": {
  "kernelspec": {
   "display_name": "Python 3 (ipykernel)",
   "language": "python",
   "name": "python3"
  },
  "language_info": {
   "codemirror_mode": {
    "name": "ipython",
    "version": 3
   },
   "file_extension": ".py",
   "mimetype": "text/x-python",
   "name": "python",
   "nbconvert_exporter": "python",
   "pygments_lexer": "ipython3",
   "version": "3.8.12"
  }
 },
 "nbformat": 4,
 "nbformat_minor": 4
}
