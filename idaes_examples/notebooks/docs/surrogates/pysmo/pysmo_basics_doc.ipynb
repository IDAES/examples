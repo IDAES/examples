{
 "cells": [
  {
   "cell_type": "code",
   "execution_count": 1,
   "metadata": {
    "tags": [
     "header",
     "hide-cell"
    ]
   },
   "outputs": [],
   "source": [
    "###############################################################################\n",
    "# The Institute for the Design of Advanced Energy Systems Integrated Platform\n",
    "# Framework (IDAES IP) was produced under the DOE Institute for the\n",
    "# Design of Advanced Energy Systems (IDAES).\n",
    "#\n",
    "# Copyright (c) 2018-2025 by the software owners: The Regents of the\n",
    "# University of California, through Lawrence Berkeley National Laboratory,\n",
    "# National Technology & Engineering Solutions of Sandia, LLC, Carnegie Mellon\n",
    "# University, West Virginia University Research Corporation, et al.\n",
    "# All rights reserved.  Please see the files COPYRIGHT.md and LICENSE.md\n",
    "# for full copyright and license information.\n",
    "#\n",
    "###############################################################################"
   ]
  },
  {
   "cell_type": "markdown",
   "metadata": {},
   "source": [
    "# PySMO Tutorial\n",
    "Author: Mayo Amusat  \n",
    "Maintainer: Mayo Amusat  \n",
    "Updated: 2023-06-01  \n",
    "\n",
    "**Python-based Surrogate Modelling Objects** (PySMO) provides tools for generating different types of reduced order models. PySMO currently provides tools for sampling and surrogate model generation.\n",
    "\n",
    "## Installation\n",
    "\n",
    "**PySMO** is installed by default as part of IDAES. For instructions on installing IDAES, see the [online documentation](https://idaes-pse.readthedocs.io/en/stable/)."
   ]
  },
  {
   "cell_type": "markdown",
   "metadata": {},
   "source": [
    "## One-Shot Sampling with PySMO\n",
    "\n",
    "The PySMO package offers five common sampling methods for one-shot design:\n",
    "\n",
    "* Latin Hypercube Sampling (LHS)\n",
    "* Full-Factorial Sampling\n",
    "* Halton Sampling\n",
    "* Hammersley Sampling\n",
    "* Centroidal voronoi tessellation (CVT) sampling"
   ]
  },
  {
   "cell_type": "markdown",
   "metadata": {},
   "source": [
    "PySMO provides two modes for data sampling: creation and selection.\n",
    "- In creation mode, PySMO creates a specified number of sample points from the bounds provided by the user.\n",
    "- In selection mode, PySMO selects a specified number of data points from a user-supplied dataset or file."
   ]
  },
  {
   "cell_type": "markdown",
   "metadata": {},
   "source": [
    "### Generating samples: \n",
    "For demonstration purposes, let us consider a problem for which we need twenty-five (25) samples of temperature and pressure from within the ranges T = 273K - 373K, P = 1 MPa - 50 MPa. Let us generate these samples in PySMO."
   ]
  },
  {
   "cell_type": "markdown",
   "metadata": {},
   "source": [
    "#### Step 1: Import PySMO's sampling tool\n",
    "For this demonstration, we will attempt to generate the samples using the Hammersley sampling method."
   ]
  },
  {
   "cell_type": "code",
   "execution_count": 2,
   "metadata": {},
   "outputs": [],
   "source": [
    "from idaes.core.surrogate.pysmo.sampling import HammersleySampling"
   ]
  },
  {
   "cell_type": "markdown",
   "metadata": {},
   "source": [
    "#### Step 2: Specify sampling information and initialize class\n",
    "\n",
    "All the sampling tools (except full-factorial sampling) require the same keyword arguments:\n",
    "\n",
    "          -  data_input             : must be a list of lists containing the problem bounds (when creating points), \n",
    "                                      or an input dataset (when selecting points from a dataset)\n",
    "          -  number_of_samples      : number of samples to be created or selected.\n",
    "          -  sampling_type          : \"creation\" or \"selection\".\n",
    "\n",
    "For full factorial sampling, the user needs to enter a list of points in each dimension in place of the number of samples. Full-factorial sampling requires other inputs - details may be found in the [documentation](https://idaes-pse.readthedocs.io/en/stable/explanations/modeling_extensions/surrogate/sampling/pysmo_uniform.html)."
   ]
  },
  {
   "cell_type": "markdown",
   "metadata": {},
   "source": [
    "For our example, we will create the bounds and then initialize the class with the number of samples."
   ]
  },
  {
   "cell_type": "code",
   "execution_count": 3,
   "metadata": {},
   "outputs": [
    {
     "name": "stdout",
     "output_type": "stream",
     "text": [
      "Sampling type:  creation \n",
      "\n"
     ]
    }
   ],
   "source": [
    "bounds_info = [[273, 1], [373, 50]]\n",
    "init_data = HammersleySampling(\n",
    "    data_input=bounds_info, number_of_samples=25, sampling_type=\"creation\"\n",
    ")"
   ]
  },
  {
   "cell_type": "markdown",
   "metadata": {},
   "source": [
    "#### Step 3: Create the samples\n",
    "The samples are created by calling the ``sample_points`` method on the initialized class."
   ]
  },
  {
   "cell_type": "code",
   "execution_count": 4,
   "metadata": {},
   "outputs": [
    {
     "name": "stdout",
     "output_type": "stream",
     "text": [
      "[[273.        1.     ]\n",
      " [277.       25.5    ]\n",
      " [281.       13.25   ]\n",
      " [285.       37.75   ]\n",
      " [289.        7.125  ]\n",
      " [293.       31.625  ]\n",
      " [297.       19.375  ]\n",
      " [301.       43.875  ]\n",
      " [305.        4.0625 ]\n",
      " [309.       28.5625 ]\n",
      " [313.       16.3125 ]\n",
      " [317.       40.8125 ]\n",
      " [321.       10.1875 ]\n",
      " [325.       34.6875 ]\n",
      " [329.       22.4375 ]\n",
      " [333.       46.9375 ]\n",
      " [337.        2.53125]\n",
      " [341.       27.03125]\n",
      " [345.       14.78125]\n",
      " [349.       39.28125]\n",
      " [353.        8.65625]\n",
      " [357.       33.15625]\n",
      " [361.       20.90625]\n",
      " [365.       45.40625]\n",
      " [369.        5.59375]]\n"
     ]
    }
   ],
   "source": [
    "samples = init_data.sample_points()\n",
    "print(samples)"
   ]
  },
  {
   "cell_type": "markdown",
   "metadata": {},
   "source": [
    "Simple as that, the samples have been created!\n",
    "\n",
    "Now, let us visualize the samples in a 2-D plot."
   ]
  },
  {
   "cell_type": "markdown",
   "metadata": {},
   "source": [
    "#### Step 4: Visualize samples with matplotlib"
   ]
  },
  {
   "cell_type": "code",
   "execution_count": 5,
   "metadata": {},
   "outputs": [
    {
     "data": {
      "image/png": "[encoded data removed]",
      "text/plain": [
       "<Figure size 640x480 with 1 Axes>"
      ]
     },
     "metadata": {},
     "output_type": "display_data"
    }
   ],
   "source": [
    "from matplotlib import pyplot as plt\n",
    "\n",
    "plt.plot(samples[:, 0], samples[:, 1], \"o\")\n",
    "plt.xlabel(r\"Temperature\", fontsize=11)\n",
    "plt.xlabel(r\"Pressure\", fontsize=11)\n",
    "plt.xlim(272, 374)\n",
    "plt.ylim(0, 50)\n",
    "plt.show()"
   ]
  },
  {
   "cell_type": "markdown",
   "metadata": {},
   "source": [
    "## Generating surrogates with PySMO\n",
    "\n",
    "PySMO currently provides tools for generating three types of surrogates:\n",
    "\n",
    "- Polynomial surrogates\n",
    "- Radial basis function (RBF) surrogates, and\n",
    "- Kriging surrogates\n",
    "\n",
    "Details about thee various methods may be found in the [documentation](https://idaes-pse.readthedocs.io/en/stable/explanations/modeling_extensions/surrogate/api/pysmo/)."
   ]
  },
  {
   "cell_type": "markdown",
   "metadata": {},
   "source": [
    "### Generating polynomial models\n",
    "\n",
    "The ``PolynomialRegression`` class trains polynomial models from data.\n",
    "\n",
    "As an example, let us generate a surrogate for the Brainin function. \n",
    "\n",
    "The true Brainin function is given by the expression:\n",
    " \n",
    " \\begin{gather}\n",
    "\\hat{y}(x_{1},x_{2})=\\left(x_{2}-\\frac{5.1x_{1}^{2}}{4\\pi^{2}}+\\frac{5x_{1}}{\\pi}-6\\right)^{2}+10\\left[\\left(1-\\frac{1}{8\\pi}\\right)\\cos\\left(x_{1}\\right)+1\\right]+5x_{1}\\nonumber \\\\\n",
    "x_{1}\\in\\left[-5,10\\right];x_{2}\\in\\left[0,15\\right]\n",
    "\\end{gather}\n",
    "\n",
    "We have generated 30 points from the function and saved the information in a text file called \"brainin_30.txt\". We will use this data to train a simple polynomial model. The data is in XY format, with the outputs $y$ in the third column."
   ]
  },
  {
   "cell_type": "markdown",
   "metadata": {},
   "source": [
    "#### Step 1: Import and visualize the data"
   ]
  },
  {
   "cell_type": "code",
   "execution_count": 6,
   "metadata": {},
   "outputs": [
    {
     "name": "stdout",
     "output_type": "stream",
     "text": [
      "[[ 3.15107413e+00  4.17554078e+00  4.03815759e+00]\n",
      " [ 1.36776386e+00  1.26716420e+01  8.60127077e+01]\n",
      " [-4.92921716e+00  1.82353681e+00  2.41888089e+02]\n",
      " [ 5.06123627e+00  1.23877913e+01  1.37242426e+02]\n",
      " [-2.94940115e+00  8.62639994e+00  1.07587601e+01]\n",
      " [ 8.36982931e+00  3.13803183e+00  7.24964869e+00]\n",
      " [-2.22007671e+00  1.62565336e+00  7.71988248e+01]\n",
      " [-1.70453761e+00  1.46793568e+01  3.99820398e+01]\n",
      " [ 7.17524724e+00  2.57911519e+00  1.78453527e+01]\n",
      " [ 7.24337123e+00  4.11110621e+00  2.36937839e+01]\n",
      " [ 1.47556275e+00  1.41004473e+01  1.14292050e+02]\n",
      " [ 7.26474068e+00  5.04167925e+00  2.96703147e+01]\n",
      " [-2.36884319e+00  5.59248069e+00  2.71582680e+01]\n",
      " [-4.91467239e+00  3.78639530e+00  1.84993457e+02]\n",
      " [ 6.93493763e+00  2.28824569e-01  1.85302363e+01]\n",
      " [ 3.98265065e+00  9.05706809e+00  5.75698037e+01]\n",
      " [-3.42278472e+00  5.72915167e+00  5.30702398e+01]\n",
      " [-4.45285915e+00  1.33561735e+01  1.27882794e+01]\n",
      " [ 9.71381286e+00  8.99129832e-01  4.14567857e+00]\n",
      " [ 8.35818917e+00  8.65352249e+00  5.34055688e+01]\n",
      " [ 6.13719534e+00  9.45275905e+00  8.93001840e+01]\n",
      " [ 3.72763289e+00  3.06586980e-01  4.42072359e+00]\n",
      " [-1.84960133e+00  8.17027317e+00  8.83431235e+00]\n",
      " [ 6.53672757e+00  3.76042844e+00  2.62862798e+01]\n",
      " [-7.11564644e-01  1.27859263e+01  4.84986100e+01]\n",
      " [ 9.62509740e+00  1.32727994e+01  1.13457908e+02]\n",
      " [ 3.92617659e-01  8.98288419e+00  3.17439666e+01]\n",
      " [ 3.21934175e-01  5.10285323e+00  1.92673649e+01]\n",
      " [-2.32878516e+00  3.56541313e+00  5.02034858e+01]\n",
      " [-4.32706576e+00  7.58147144e+00  6.60457721e+01]] \n",
      "\n",
      "Dataset shape: (30, 3)\n"
     ]
    }
   ],
   "source": [
    "import numpy as np\n",
    "\n",
    "brainin_data = np.loadtxt(\"brainin_30.txt\")\n",
    "print(brainin_data, \"\\n\\nDataset shape:\", brainin_data.shape)"
   ]
  },
  {
   "cell_type": "markdown",
   "metadata": {},
   "source": [
    "Let us visualize the data:"
   ]
  },
  {
   "cell_type": "code",
   "execution_count": 7,
   "metadata": {},
   "outputs": [
    {
     "name": "stderr",
     "output_type": "stream",
     "text": [
      "/tmp/ipykernel_360653/142152307.py:6: UserWarning: No data for colormapping provided via 'c'. Parameters 'cmap' will be ignored\n",
      "  ax.scatter3D(\n"
     ]
    },
    {
     "data": {
      "text/plain": [
       "Text(0.5, 0, '$y$')"
      ]
     },
     "execution_count": 7,
     "metadata": {},
     "output_type": "execute_result"
    },
    {
     "data": {
      "image/png": "[encoded data removed]",
      "text/plain": [
       "<Figure size 600x400 with 1 Axes>"
      ]
     },
     "metadata": {},
     "output_type": "display_data"
    }
   ],
   "source": [
    "from mpl_toolkits.mplot3d import Axes3D\n",
    "from matplotlib import pyplot as plt\n",
    "\n",
    "fig1 = plt.figure(figsize=(6, 4), tight_layout=True)\n",
    "ax = fig1.add_subplot(111, projection=\"3d\")\n",
    "ax.scatter3D(\n",
    "    brainin_data[:, 0], brainin_data[:, 1], brainin_data[:, 2], cmap=brainin_data[:, 2]\n",
    ")\n",
    "ax.set_xlabel(r\"$x_{1}$\", fontsize=11)\n",
    "ax.set_ylabel(r\"$x_{2}$\", fontsize=11)\n",
    "ax.set_zlabel(r\"$y$\", fontsize=11)"
   ]
  },
  {
   "cell_type": "markdown",
   "metadata": {},
   "source": [
    "#### Step 2: Import the polynomial model tool"
   ]
  },
  {
   "cell_type": "code",
   "execution_count": 8,
   "metadata": {},
   "outputs": [],
   "source": [
    "from idaes.core.surrogate.pysmo.polynomial_regression import PolynomialRegression"
   ]
  },
  {
   "cell_type": "markdown",
   "metadata": {},
   "source": [
    "#### Step 3: Specify the regression settings and initialize the PolynomialRegression class\n",
    "    \n",
    "The PolynomialRegression class takes a keyword arguments:\n",
    "\n",
    "      -  original_data_input           : The dataset for regression training. training_data is expected to contain xy_data, \n",
    "                                         with the output values (y) in the last column.\n",
    "      -  regression_data_input         : same as above\n",
    "      -  maximum_polynomial_order      : maximum order of the polynomial to be generated  \n",
    "\n",
    "It also takes a number of optional arguments:\n",
    "\n",
    "      - multinomials                  : True/False option for specifying second-order bi-variate terms. default is False\n",
    "      - training_split                : The training/cross-validation split of training data. Must be between 0 and 1. \n",
    "                                        Default is 0.75\n",
    "      - fname                         : Filename for saving results (.pickle extension). \n",
    "      - overwrite                     : Option determining whether any existing file with the same name supplied in 'fname'  \n",
    "                                        should be overwritten."
   ]
  },
  {
   "cell_type": "markdown",
   "metadata": {},
   "source": [
    "For this example, let us consider a 4th order polynomial with interaction terms. We will split the data 80/20 between training and cross-validation."
   ]
  },
  {
   "cell_type": "code",
   "execution_count": 9,
   "metadata": {
    "scrolled": true
   },
   "outputs": [
    {
     "name": "stdout",
     "output_type": "stream",
     "text": [
      "\n",
      "===========================Polynomial Regression===============================================\n",
      "\n",
      "No iterations will be run.\n",
      "Default parameter estimation method is used.\n",
      "Parameter estimation method:  pyomo \n",
      "\n"
     ]
    }
   ],
   "source": [
    "poly_class = PolynomialRegression(\n",
    "    original_data_input=brainin_data,\n",
    "    regression_data_input=brainin_data,\n",
    "    maximum_polynomial_order=4,\n",
    "    multinomials=1,\n",
    "    training_split=0.8,\n",
    "    number_of_crossvalidations=10,\n",
    "    overwrite=True,\n",
    ")"
   ]
  },
  {
   "cell_type": "markdown",
   "metadata": {},
   "source": [
    "#### Step 4: Extract variable names\n",
    "Next, we extract Pyomo variable names from the dataset. This should be done always."
   ]
  },
  {
   "cell_type": "code",
   "execution_count": 10,
   "metadata": {},
   "outputs": [],
   "source": [
    "vars = poly_class.get_feature_vector()"
   ]
  },
  {
   "cell_type": "markdown",
   "metadata": {},
   "source": [
    "We can view the variables using Pyomo's pprint function:"
   ]
  },
  {
   "cell_type": "code",
   "execution_count": 11,
   "metadata": {},
   "outputs": [
    {
     "name": "stdout",
     "output_type": "stream",
     "text": [
      "IndexedParam : Size=2, Index={0, 1}, Domain=Any, Default=None, Mutable=True\n",
      "    Key : Value\n",
      "      0 :     0\n",
      "      1 :     0\n"
     ]
    }
   ],
   "source": [
    "vars.pprint()"
   ]
  },
  {
   "cell_type": "markdown",
   "metadata": {},
   "source": [
    "#### Step 5: Specify additional regression terms, if required.\n",
    "\n",
    "This is one of the unique features of PySMO -  it allows the user to specify additional regression features if they want.\n",
    "The additional features must be specified in terms of the Pyomo variables created when calling the ``get_feature_vector()`` \n",
    "\n",
    "For this example, let us create three additional features: $x_{1}^{2}x_{2}^{2}$, $exp(x_1)$ and $exp(x_2)$. We do this by calling the ``set_additional_terms`` function:"
   ]
  },
  {
   "cell_type": "code",
   "execution_count": 12,
   "metadata": {},
   "outputs": [],
   "source": [
    "from pyomo.environ import exp\n",
    "\n",
    "poly_class.set_additional_terms(\n",
    "    [vars[0] * vars[0] * vars[1] * vars[1], exp(vars[0]), exp(vars[1])]\n",
    ")"
   ]
  },
  {
   "cell_type": "markdown",
   "metadata": {},
   "source": [
    "That's it - those features will now exist in the model. \n",
    "\n",
    "Note that ``set_additional_terms`` an optional call - the regression process works just fine without it."
   ]
  },
  {
   "cell_type": "markdown",
   "metadata": {},
   "source": [
    "#### Step 6: Train the surrogate and view results\n",
    "Next, we train the polynomial surrogate by calling ``training``:"
   ]
  },
  {
   "cell_type": "code",
   "execution_count": 13,
   "metadata": {},
   "outputs": [
    {
     "name": "stdout",
     "output_type": "stream",
     "text": [
      "No iterations will be run.\n"
     ]
    },
    {
     "name": "stdout",
     "output_type": "stream",
     "text": [
      "\n",
      "Best surrogate model is of order 3  with a cross-val S.S. Error  of 19.737617\n",
      "\n",
      "------------------------------------------------------------\n",
      "The final coefficients of the regression terms are: \n",
      "\n",
      "k               | 57.607003\n",
      "(x_ 1 )^ 1      | -19.078561\n",
      "(x_ 2 )^ 1      | -17.191563\n",
      "(x_ 1 )^ 2      | 3.889924\n",
      "(x_ 2 )^ 2      | 1.163328\n",
      "(x_ 1 )^ 3      | -0.351928\n",
      "(x_ 2 )^ 3      | 0.018398\n",
      "x_ 1 .x_ 2      | 3.100135\n",
      "\n",
      "The coefficients of the extra terms in additional_regression_features are:\n",
      "\n",
      "Coeff. additional_regression_features[ 1 ]:  -0.017933\n",
      "Coeff. additional_regression_features[ 2 ]:  0.004746\n",
      "Coeff. additional_regression_features[ 3 ]:  -1.3e-05\n",
      "\n",
      "Regression model performance on training data:\n",
      "Order:  3  / MAE: 6.154513  / MSE: 65.995248  / R^2: 0.978531\n",
      "\n",
      "Results saved in  solution.pickle\n"
     ]
    },
    {
     "data": {
      "text/plain": [
       "\n",
       "========================================================================================================================\n",
       "Results of polynomial regression run:\n",
       "\n",
       "Polynomial order                   : 3\n",
       "Number of terms in polynomial model: 11\n",
       "\n",
       "Polynomial Expression:\n",
       "--------------------------\n",
       "\n",
       "57.60700349249289 - 19.078560846595344*IndexedParam[0] - 17.191563035875806*IndexedParam[1] + 3.8899241750021663*IndexedParam[0]**2 + 1.1633280319958954*IndexedParam[1]**2 - 0.3519284134546862*IndexedParam[0]**3 + 0.018398180902055014*IndexedParam[1]**3 + 3.1001348356698335*(IndexedParam[1]*IndexedParam[0]) - 0.017933037213866673*(IndexedParam[0]*IndexedParam[0]*IndexedParam[1]*IndexedParam[1]) + 0.00474571104342994*exp(IndexedParam[0]) - 1.2975320261052192e-05*exp(IndexedParam[1])\n",
       "--------------------------\n",
       "\n",
       "Model training errors:\n",
       "-----------------------\n",
       "Mean Squared Error (MSE)         : 65.99524781717177\n",
       "Root Mean Squared Error (RMSE)   : 8.123745922736122\n",
       "Mean Absolute error (MSE)        : 6.154513199255071\n",
       "Goodness of fit (R2)             : 0.97853053384543\n",
       "\n",
       "========================================================================================================================"
      ]
     },
     "execution_count": 13,
     "metadata": {},
     "output_type": "execute_result"
    }
   ],
   "source": [
    "poly_class.training()"
   ]
  },
  {
   "cell_type": "markdown",
   "metadata": {},
   "source": [
    "The polynomial model seems to fit well based on the $R^2$. It should be noted that the metrics are only an indication of how well of how well the model fit the training data - the user needs to verify the model's performance on a test data set if possible.\n",
    "\n",
    "We can view the parity and residual plots for the fit:"
   ]
  },
  {
   "cell_type": "code",
   "execution_count": 14,
   "metadata": {},
   "outputs": [
    {
     "data": {
      "image/png": "[encoded data removed]",
      "text/plain": [
       "<Figure size 1600x900 with 2 Axes>"
      ]
     },
     "metadata": {},
     "output_type": "display_data"
    }
   ],
   "source": [
    "poly_class.parity_residual_plots()"
   ]
  },
  {
   "cell_type": "markdown",
   "metadata": {},
   "source": [
    "PySMO is also able to compute the confidence intervals on the regression coefficients obtained by calling ``confint_regression()``. This is left as an exercise for the user.\n",
    "\n",
    "#### Step 8 (Optional): Generate Pyomo expression \n",
    "\n",
    "If the user wishes, they can generate the Pyomo expression for the polynomial fit using PySMO's ``generate_expression``. To do this, the user must pass in a list of Pyomo variables corresponding to each variable in the input dataset. \n",
    "\n",
    "As a demonstration, let us create the variables $x_1$ and $x_2$ and generate the pyomo expression based on them:"
   ]
  },
  {
   "cell_type": "code",
   "execution_count": 15,
   "metadata": {},
   "outputs": [
    {
     "name": "stdout",
     "output_type": "stream",
     "text": [
      "57.60700349249289 - 19.078560846595344*x[1] - 17.191563035875806*x[2] + 3.8899241750021663*x[1]**2 + 1.1633280319958954*x[2]**2 - 0.3519284134546862*x[1]**3 + 0.018398180902055014*x[2]**3 + 3.1001348356698335*(x[2]*x[1]) - 0.017933037213866673*(x[1]*x[1]*x[2]*x[2]) + 0.00474571104342994*exp(x[1]) - 1.2975320261052192e-05*exp(x[2])\n"
     ]
    }
   ],
   "source": [
    "from pyomo.environ import Var, ConcreteModel\n",
    "\n",
    "m = ConcreteModel()\n",
    "m.x = Var([1, 2])\n",
    "print(poly_class.generate_expression([m.x[1], m.x[2]]))"
   ]
  },
  {
   "cell_type": "markdown",
   "metadata": {},
   "source": [
    "#### Step 9 (Optional): Predict output at any unsampled point\n",
    "\n",
    "Based on the model we trained, we can predict the surrogate value at any previously unsampled point. \n",
    "\n",
    "Let us evaluate the surrogate at three points:\n",
    "\n",
    "- $x_{1}=5$, $x_{2}=8$ (true function value: 57.9908)\n",
    "- $x_{1}=-3$, $x_{2}=10$ (true function value: 4.2461)\n",
    "- $x_{1}=-2$, $x_{2}=3$. (true function value: 50.8899)\n",
    "\n",
    "We will pass the points in as an array."
   ]
  },
  {
   "cell_type": "code",
   "execution_count": 16,
   "metadata": {},
   "outputs": [
    {
     "name": "stdout",
     "output_type": "stream",
     "text": [
      "[[57.7897913 ]\n",
      " [12.74008178]\n",
      " [54.28524655]]\n"
     ]
    }
   ],
   "source": [
    "unsampled_points = np.array([[5, 8], [-3, 10], [-2, 3]])\n",
    "ys = poly_class.predict_output(unsampled_points)\n",
    "print(ys)"
   ]
  },
  {
   "cell_type": "markdown",
   "metadata": {},
   "source": [
    "The model performs fairly well in predicting the value at two of our sampled points but is off on the value at [-3, 2]. For better model performance, additional training data is needed in this region. We will leave this to the user to try.\n",
    "\n",
    "Further information about using PySMO's polynomial regression tool can be found in the [documentation](https://idaes-pse.readthedocs.io/en/stable/explanations/modeling_extensions/surrogate/api/pysmo/pysmo_polyregression.html)."
   ]
  },
  {
   "cell_type": "markdown",
   "metadata": {},
   "source": [
    "### Generating RBF models\n",
    "\n",
    "The ``RadialBasisFunction`` class trains RBF models from data. For details about RBF models, the user should consult the documentation.\n",
    "\n",
    "As an example, we will again consider the Brainin function. The same dataset loaded previously will be used."
   ]
  },
  {
   "cell_type": "markdown",
   "metadata": {},
   "source": [
    "#### Step 1: Import the data and the RBF tool"
   ]
  },
  {
   "cell_type": "code",
   "execution_count": 17,
   "metadata": {},
   "outputs": [],
   "source": [
    "import numpy as np\n",
    "\n",
    "brainin_data = np.loadtxt(\"brainin_30.txt\")\n",
    "from idaes.core.surrogate.pysmo.radial_basis_function import RadialBasisFunctions"
   ]
  },
  {
   "cell_type": "markdown",
   "metadata": {},
   "source": [
    "#### Step 2: Specify the RBF settings and initialize the RadialBasisFunctions class\n",
    "    \n",
    "The RadialBasisFunctions class takes a number of keyword arguments:\n",
    "\n",
    "      -  XY_data                       : The dataset forRBF training. training_data is expected to contain xy_data, \n",
    "                                         with the output values (y) in the last column.\n",
    "\n",
    "\n",
    "It also takes a number of optional arguments:\n",
    "\n",
    "      -  regularization                : Boolean variable determining whether regularization is done. Default is True.\n",
    "      -  basis_function                : Basis function transformation to be applied to the training data. PySMO offers \n",
    "                                         six basis function types including the Gaussian and Spline transformations. User \n",
    "                                         should consult documentation for full list of options.   \n",
    "      -  fname                         : Filename for saving (.pickle extension)\n",
    "      - overwrite                      : Option determining whether any existing file with the same name supplied in 'fname'  \n",
    "                                         should be overwritten."
   ]
  },
  {
   "cell_type": "markdown",
   "metadata": {},
   "source": [
    "For this demonstration, we will train an RBF model with a Gaussian basis function:"
   ]
  },
  {
   "cell_type": "code",
   "execution_count": 18,
   "metadata": {},
   "outputs": [
    {
     "name": "stdout",
     "output_type": "stream",
     "text": [
      "Warning: solution.pickle already exists; previous file will be overwritten.\n",
      "\n",
      "Default parameter estimation method is used.\n",
      "\n",
      "Parameter estimation method:  algebraic\n",
      "Basis function:  gaussian\n",
      "Regularization done:  True\n"
     ]
    }
   ],
   "source": [
    "rbf_class = RadialBasisFunctions(\n",
    "    XY_data=brainin_data, basis_function=\"gaussian\", overwrite=True\n",
    ")"
   ]
  },
  {
   "cell_type": "markdown",
   "metadata": {},
   "source": [
    "#### Step 3: Extract variable names\n",
    "Next, we extract Pyomo variable names from the dataset."
   ]
  },
  {
   "cell_type": "code",
   "execution_count": 19,
   "metadata": {},
   "outputs": [],
   "source": [
    "vars = rbf_class.get_feature_vector()"
   ]
  },
  {
   "cell_type": "markdown",
   "metadata": {},
   "source": [
    "#### Step 4: Train the RBF surrogate\n",
    "Next, we train the RBF surrogate by calling ``training``:"
   ]
  },
  {
   "cell_type": "code",
   "execution_count": 20,
   "metadata": {},
   "outputs": [
    {
     "name": "stdout",
     "output_type": "stream",
     "text": [
      "===========================================================================================================\n",
      "0.001    |     1e-05    |     1.3301889998089138    |     5.157729967665246e+18    |     1145.246112980224    |     2999999.7995568505    |     6.66133770267774e-10\n",
      "0.001    |     2e-05    |     1.3231321486415055    |     5.157729967665246e+18    |     1145.246112980224    |     1500000.3997263806    |     3.330669961446332e-10\n",
      "0.001    |     5e-05    |     1.320488243926721    |     5.157729967665246e+18    |     1145.246112980224    |     600000.759879188    |     1.3322693168209288e-10\n"
     ]
    },
    {
     "name": "stdout",
     "output_type": "stream",
     "text": [
      "0.001    |     7.5e-05    |     1.3203184940698338    |     5.157729967665246e+18    |     1145.246112980224    |     400000.8399173096    |     8.88180284691197e-11\n",
      "0.001    |     0.0001    |     1.3203209127586129    |     5.157729967665246e+18    |     1145.246112980224    |     300000.8799380822    |     6.661357686301321e-11\n",
      "0.001    |     0.0002    |     1.3204538291266175    |     5.157729967665246e+18    |     1145.246112980224    |     150000.93996807796    |     3.330689945359521e-11\n",
      "0.001    |     0.0005    |     1.3206180157499612    |     5.157729967665246e+18    |     1145.246112980224    |     60000.97598693792    |     1.3322893008135921e-11\n",
      "0.001    |     0.00075    |     1.3206637488446704    |     5.157729967665246e+18    |     1145.246112980224    |     40000.983991246234    |     8.882002686948772e-12\n",
      "0.001    |     0.001    |     1.3206877851838226    |     5.157729967665246e+18    |     1145.246112980224    |     30000.98799345863    |     6.66155752636813e-12\n",
      "0.001    |     0.002    |     1.320724621157106    |     5.157729967665246e+18    |     1145.246112980224    |     15000.993996717698    |     3.3308897854839476e-12\n",
      "0.001    |     0.005    |     1.3207441010685657    |     5.157729967665246e+18    |     1145.246112980224    |     6000.997598684582    |     1.3324891409559796e-12\n",
      "0.001    |     0.0075    |     1.3207457685491917    |     5.157729967665246e+18    |     1145.246112980224    |     4000.99839912232    |     8.884001088387982e-13\n",
      "0.001    |     0.01    |     1.320744737958569    |     5.157729967665246e+18    |     1145.246112980224    |     3000.998799341891    |     6.663555927803635e-13\n",
      "0.001    |     0.02    |     1.3207338807217237    |     5.157729967665246e+18    |     1145.246112980224    |     1500.9993996709493    |     3.332888186926451e-13\n",
      "0.001    |     0.05    |     1.3206922424549334    |     5.157729967665246e+18    |     1145.246112980224    |     600.9997598683192    |     1.3344875423999962e-13\n",
      "0.001    |     0.075    |     1.3206569542287017    |     5.157729967665246e+18    |     1145.246112980224    |     400.99983991221217    |     8.903985102830795e-14\n",
      "0.001    |     0.1    |     1.320622227525565    |     5.157729967665246e+18    |     1145.246112980224    |     300.99987993415647    |     6.683539942246163e-14\n",
      "0.001    |     0.2    |     1.320490925394551    |     5.157729967665246e+18    |     1145.246112980224    |     150.9999399670778    |     3.3528722013693237e-14\n",
      "0.001    |     0.5    |     1.3201734897566475    |     5.157729967665246e+18    |     1145.246112980224    |     60.99997598683111    |     1.354471556843231e-14\n",
      "0.001    |     0.75    |     1.3199938819612358    |     5.157729967665246e+18    |     1145.246112980224    |     40.99998399122079    |     9.103825247263228e-15\n",
      "0.001    |     1    |     1.3198876280547236    |     5.157729967665246e+18    |     1145.246112980224    |     30.99998799341556    |     6.883380086678672e-15\n",
      "0.002    |     1e-05    |     1.3623878222762442    |     5.267415428535686e+18    |     1169.601177805221    |     2999996.197724369    |     6.661329705003036e-10\n",
      "0.002    |     2e-05    |     1.3439946308776922    |     5.267415428535686e+18    |     1169.601177805221    |     1499998.5987321674    |     3.330665962435847e-10\n",
      "0.002    |     5e-05    |     1.3272246485702754    |     5.267415428535686e+18    |     1169.601177805221    |     600000.0394937723    |     1.3322677172439786e-10\n",
      "0.002    |     7.5e-05    |     1.3235440099210103    |     5.267415428535686e+18    |     1169.601177805221    |     400000.3596555092    |     8.881792182957797e-11\n",
      "0.002    |     0.0001    |     1.3220037168858698    |     5.267415428535686e+18    |     1169.601177805221    |     300000.5197420093    |     6.661349688341851e-11\n",
      "0.002    |     0.0002    |     1.320488086827574    |     5.267415428535686e+18    |     1169.601177805221    |     150000.75986911857    |     3.3306859463592924e-11\n",
      "0.002    |     0.0005    |     1.3203538501482435    |     5.267415428535686e+18    |     1169.601177805221    |     60000.90394755304    |     1.3322877012179166e-11\n",
      "0.002    |     0.00075    |     1.3204389361297004    |     5.267415428535686e+18    |     1169.601177805221    |     40000.935965030905    |     8.881992022986763e-12\n",
      "0.002    |     0.001    |     1.3205000397653752    |     5.267415428535686e+18    |     1169.601177805221    |     30000.951973763542    |     6.661549528389164e-12\n",
      "0.002    |     0.002    |     1.3206158464557667    |     5.267415428535686e+18    |     1169.601177805221    |     15000.975986864521    |     3.3308857864932143e-12\n",
      "0.002    |     0.005    |     1.3206969267656237    |     5.267415428535686e+18    |     1169.601177805221    |     6000.990394744528    |     1.3324875413599564e-12\n",
      "0.002    |     0.0075    |     1.320713792901136    |     5.267415428535686e+18    |     1169.601177805221    |     4000.9935964959072    |     8.883990424415139e-13\n",
      "0.002    |     0.01    |     1.320720571503768    |     5.267415428535686e+18    |     1169.601177805221    |     3000.9951973718244    |     6.663547929823431e-13\n",
      "0.002    |     0.02    |     1.3207216922930962    |     5.267415428535686e+18    |     1169.601177805221    |     1500.9975986858778    |     3.3328841879362644e-13\n",
      "0.002    |     0.05    |     1.3206873938685024    |     5.267415428535686e+18    |     1169.601177805221    |     600.9990394743188    |     1.3344859428039842e-13\n",
      "0.002    |     0.075    |     1.3206537523643624    |     5.267415428535686e+18    |     1169.601177805221    |     400.99935964954386    |     8.903974438857351e-14\n",
      "0.002    |     0.1    |     1.3206198511578058    |     5.267415428535686e+18    |     1169.601177805221    |     300.9995197371585    |     6.683531944266152e-14\n",
      "0.002    |     0.2    |     1.3204897899439867    |     5.267415428535686e+18    |     1169.601177805221    |     150.99975986857828    |     3.352868202379306e-14\n",
      "0.002    |     0.5    |     1.3201731005146327    |     5.267415428535686e+18    |     1169.601177805221    |     60.99990394743119    |     1.3544699572472217e-14\n",
      "0.002    |     0.75    |     1.3199936589276795    |     5.267415428535686e+18    |     1169.601177805221    |     40.99993596495411    |     9.103814583289818e-15\n",
      "0.002    |     1    |     1.3198874884067833    |     5.267415428535686e+18    |     1169.601177805221    |     30.99995197371557    |     6.883372088698619e-15\n",
      "0.005    |     1e-05    |     1.398281393975959    |     4.737718716102057e+19    |     10519.848805628078    |     2999970.984013021    |     6.661273719317287e-10\n",
      "0.005    |     2e-05    |     1.3887224316240243    |     4.737718716102057e+19    |     10519.848805628078    |     1499985.9920165162    |     3.330637969903885e-10\n",
      "0.005    |     5e-05    |     1.3683630926273394    |     4.737718716102057e+19    |     10519.848805628078    |     599994.9967708938    |     1.3322565201498855e-10\n",
      "0.005    |     7.5e-05    |     1.3574022549715115    |     4.737718716102057e+19    |     10519.848805628078    |     399996.9978457238    |     8.881717535785234e-11\n",
      "0.005    |     0.0001    |     1.349656526521127    |     4.737718716102057e+19    |     10519.848805628078    |     299997.9983857735    |     6.661293702986926e-11\n",
      "0.005    |     0.0002    |     1.3338899892282914    |     4.737718716102057e+19    |     10519.848805628078    |     149999.49919096043    |     3.330657953680936e-11\n",
      "0.005    |     0.0005    |     1.32313146061549    |     4.737718716102057e+19    |     10519.848805628078    |     60000.399676413464    |     1.3322765041493204e-11\n",
      "0.005    |     0.00075    |     1.3213658709059986    |     4.737718716102057e+19    |     10519.848805628078    |     40000.59978412415    |     8.881917375830139e-12\n",
      "0.005    |     0.001    |     1.3207434325086527    |     4.737718716102057e+19    |     10519.848805628078    |     30000.69983809163    |     6.661493543023507e-12\n",
      "0.005    |     0.002    |     1.3203109441737066    |     4.737718716102057e+19    |     10519.848805628078    |     15000.849919033793    |     3.3308577938115465e-12\n",
      "0.005    |     0.005    |     1.3204473592563999    |     4.737718716102057e+19    |     10519.848805628078    |     6000.939967612918    |     1.3324763442874405e-12\n",
      "0.005    |     0.0075    |     1.3205266147948884    |     4.737718716102057e+19    |     10519.848805628078    |     4000.95997840818    |     8.883915777265062e-13\n",
      "0.005    |     0.01    |     1.320572251134835    |     4.737718716102057e+19    |     10519.848805628078    |     3000.9699838059914    |     6.66349194446079e-13\n",
      "0.005    |     0.02    |     1.3206416674457788    |     4.737718716102057e+19    |     10519.848805628078    |     1500.984991902906    |     3.3328561952548206e-13\n",
      "0.005    |     0.05    |     1.320654306255278    |     4.737718716102057e+19    |     10519.848805628078    |     600.9939967611572    |     1.334474745731467e-13\n",
      "0.005    |     0.075    |     1.3206317178276614    |     4.737718716102057e+19    |     10519.848805628078    |     400.9959978407689    |     8.903899791707224e-14\n",
      "0.005    |     0.1    |     1.3206034290426676    |     4.737718716102057e+19    |     10519.848805628078    |     300.9969983805781    |     6.683475958903575e-14\n",
      "0.005    |     0.2    |     1.3204818942961338    |     4.737718716102057e+19    |     10519.848805628078    |     150.99849919028682    |     3.35284020969799e-14\n",
      "0.005    |     0.5    |     1.3201703838941494    |     4.737718716102057e+19    |     10519.848805628078    |     60.99939967611469    |     1.354458760174697e-14\n",
      "0.005    |     0.75    |     1.3199921011576619    |     4.737718716102057e+19    |     10519.848805628078    |     40.99959978407637    |     9.103739936139637e-15\n",
      "0.005    |     1    |     1.3198865127506894    |     4.737718716102057e+19    |     10519.848805628078    |     30.999699838057264    |     6.883316103335982e-15\n",
      "0.0075    |     1e-05    |     1.4043005938705444    |     1.7372731761309476e+18    |     385.7521360408506    |     2999933.4645628347    |     6.66119040940235e-10\n",
      "0.0075    |     2e-05    |     1.3994032633189917    |     1.7372731761309476e+18    |     385.7521360408506    |     1499967.232282145    |     3.3305963149258154e-10\n",
      "0.0075    |     5e-05    |     1.3868056479481081    |     1.7372731761309476e+18    |     385.7521360408506    |     599987.4928880802    |     1.332239858182938e-10\n",
      "0.0075    |     7.5e-05    |     1.3783815287733572    |     1.7372731761309476e+18    |     385.7521360408506    |     399991.9952527292    |     8.881606455906726e-11\n",
      "0.0075    |     0.0001    |     1.3714017808043564    |     1.7372731761309476e+18    |     385.7521360408506    |     299994.24643613514    |     6.661210392969411e-11\n",
      "0.0075    |     0.0002    |     1.3527834516570942    |     1.7372731761309476e+18    |     385.7521360408506    |     149997.62321911624    |     3.330616298738237e-11\n",
      "0.0075    |     0.0005    |     1.3320471009304675    |     1.7372731761309476e+18    |     385.7521360408506    |     59999.64928707162    |     1.3322598421588254e-11\n",
      "0.0075    |     0.00075    |     1.3264972569268536    |     1.7372731761309476e+18    |     385.7521360408506    |     40000.09952468137    |     8.881806295919807e-12\n",
      "0.0075    |     0.001    |     1.3239147582316049    |     1.7372731761309476e+18    |     385.7521360408506    |     30000.324643486318    |     6.6614102330856e-12\n",
      "0.0075    |     0.002    |     1.3209497744222536    |     1.7372731761309476e+18    |     385.7521360408506    |     15000.66232173369    |     3.33081613884316e-12\n",
      "0.0075    |     0.005    |     1.3203066752602197    |     1.7372731761309476e+18    |     385.7521360408506    |     6000.864928690636    |     1.3324596822995884e-12\n",
      "0.0075    |     0.0075    |     1.3203572891448458    |     1.7372731761309476e+18    |     385.7521360408506    |     4000.9099524600265    |     8.883804697346124e-13\n",
      "0.0075    |     0.01    |     1.3204149453606102    |     1.7372731761309476e+18    |     385.7521360408506    |     3000.9324643450964    |     6.663408634522075e-13\n",
      "0.0075    |     0.02    |     1.3205391985944166    |     1.7372731761309476e+18    |     385.7521360408506    |     1500.9662321724334    |     3.332814540285408e-13\n",
      "0.0075    |     0.05    |     1.3206077953595614    |     1.7372731761309476e+18    |     385.7521360408506    |     600.9864928689656    |     1.334458083743696e-13\n",
      "0.0075    |     0.075    |     1.3206001441008735    |     1.7372731761309476e+18    |     385.7521360408506    |     400.9909952459681    |     8.90378871178861e-14\n",
      "0.0075    |     0.1    |     1.3205796752193628    |     1.7372731761309476e+18    |     385.7521360408506    |     300.9932464344763    |     6.683392648964588e-14\n",
      "0.0075    |     0.2    |     1.3204703143593972    |     1.7372731761309476e+18    |     385.7521360408506    |     150.99662321723713    |     3.352798554728523e-14\n",
      "0.0075    |     0.5    |     1.320166367422988    |     1.7372731761309476e+18    |     385.7521360408506    |     60.9986492868945    |     1.3544420981869032e-14\n",
      "0.0075    |     0.75    |     1.3199897942613736    |     1.7372731761309476e+18    |     385.7521360408506    |     40.99909952459634    |     9.103628856221033e-15\n",
      "0.0075    |     1    |     1.3198850669656137    |     1.7372731761309476e+18    |     385.7521360408506    |     30.9993246434473    |     6.8832327933970424e-15\n",
      "0.01    |     1e-05    |     1.406199206150202    |     9.15881273337224e+18    |     2033.664954963985    |     2999880.9389639026    |     6.661073779143717e-10\n",
      "0.01    |     2e-05    |     1.4035355143548909    |     9.15881273337224e+18    |     2033.664954963985    |     1499940.969350007    |     3.330537999501908e-10\n",
      "0.01    |     5e-05    |     1.395627182514651    |     9.15881273337224e+18    |     2033.664954963985    |     599976.9877232183    |     1.3322165320311236e-10\n",
      "0.01    |     7.5e-05    |     1.3897600752448445    |     9.15881273337224e+18    |     2033.664954963985    |     399984.99181388726    |     8.881450948325648e-11\n",
      "0.01    |     0.0001    |     1.384516426828877    |     9.15881273337224e+18    |     2033.664954963985    |     299988.99385887675    |     6.661093762325193e-11\n",
      "0.01    |     0.0002    |     1.3683402006562813    |     9.15881273337224e+18    |     2033.664954963985    |     149994.99692920924    |     3.330557983387755e-11\n",
      "0.01    |     0.0005    |     1.3439837129674972    |     9.15881273337224e+18    |     2033.664954963985    |     59998.59877129853    |     1.3322365160228451e-11\n",
      "0.01    |     0.00075    |     1.3350937119914852    |     9.15881273337224e+18    |     2033.664954963985    |     39999.399180849905    |     8.881650788350438e-12\n",
      "0.01    |     0.001    |     1.3301839804871247    |     9.15881273337224e+18    |     2033.664954963985    |     29999.799385623995    |     6.661293602411077e-12\n",
      "0.01    |     0.002    |     1.3231293127499324    |     9.15881273337224e+18    |     2033.664954963985    |     15000.399692799341    |     3.3307578235051907e-12\n",
      "0.01    |     0.005    |     1.3204830758443646    |     9.15881273337224e+18    |     2033.664954963985    |     6000.759877119514    |     1.332436356164982e-12\n",
      "0.01    |     0.0075    |     1.32031003716702    |     9.15881273337224e+18    |     2033.664954963985    |     4000.839918079025    |     8.883649189781518e-13\n",
      "0.01    |     0.01    |     1.3203089432056967    |     9.15881273337224e+18    |     2033.664954963985    |     3000.8799385588486    |     6.663292003847518e-13\n",
      "0.01    |     0.02    |     1.3204273423452233    |     9.15881273337224e+18    |     2033.664954963985    |     1500.9399692794002    |     3.3327562249483305e-13\n",
      "0.01    |     0.05    |     1.3205480387004707    |     9.15881273337224e+18    |     2033.664954963985    |     600.9759877117588    |     1.3344347576088794e-13\n",
      "0.01    |     0.075    |     1.3205583477737106    |     9.15881273337224e+18    |     2033.664954963985    |     400.98399180783207    |     8.903633204223206e-14\n",
      "0.01    |     0.1    |     1.320547778680883    |     9.15881273337224e+18    |     2033.664954963985    |     300.98799385587427    |     6.683276018290535e-14\n",
      "0.01    |     0.2    |     1.320454441184348    |     9.15881273337224e+18    |     2033.664954963985    |     150.9939969279356    |     3.352740239391485e-14\n",
      "0.01    |     0.5    |     1.3201607967208797    |     9.15881273337224e+18    |     2033.664954963985    |     60.99759877117423    |     1.3544187720520958e-14\n",
      "0.01    |     0.75    |     1.3199865871021212    |     9.15881273337224e+18    |     2033.664954963985    |     40.99839918078277    |     9.103473348655637e-15\n",
      "0.01    |     1    |     1.3198830550759415    |     9.15881273337224e+18    |     2033.664954963985    |     30.998799385587105    |     6.883116162722992e-15\n",
      "0.02    |     1e-05    |     1.3991967821727724    |     4.596172751931884e+18    |     1020.5553628699091    |     2999520.8077985262    |     6.660274127320345e-10\n",
      "0.02    |     2e-05    |     1.4033527820031186    |     4.596172751931884e+18    |     1020.5553628699091    |     1499760.9038967583    |     3.3301381738776355e-10\n",
      "0.02    |     5e-05    |     1.404054765908641    |     4.596172751931884e+18    |     1020.5553628699091    |     599904.9615311394    |     1.3320566017574796e-10\n",
      "0.02    |     7.5e-05    |     1.4028711082085463    |     4.596172751931884e+18    |     1020.5553628699091    |     399936.9743506041    |     8.880384746459227e-11\n",
      "0.02    |     0.0001    |     1.40140918974444    |     4.596172751931884e+18    |     1020.5553628699091    |     299952.98076160415    |     6.660294110929591e-11\n",
      "0.02    |     0.0002    |     1.3952513762990684    |     4.596172751931884e+18    |     1020.5553628699091    |     149976.99038130237    |     3.3301581577061505e-11\n",
      "0.02    |     0.0005    |     1.3796701173933874    |     4.596172751931884e+18    |     1020.5553628699091    |     59991.39615212076    |     1.3320765857498698e-11\n",
      "0.02    |     0.00075    |     1.3699232085654953    |     4.596172751931884e+18    |     1020.5553628699091    |     39994.5974347125    |     8.880584586526408e-12\n",
      "0.02    |     0.001    |     1.362292110296499    |     4.596172751931884e+18    |     1020.5553628699091    |     29996.198076027962    |     6.660493951044613e-12\n",
      "0.02    |     0.002    |     1.3439496124691088    |     4.596172751931884e+18    |     1020.5553628699091    |     14998.599038011469    |     3.3303579978242113e-12\n",
      "0.02    |     0.005    |     1.3272089427378742    |     4.596172751931884e+18    |     1020.5553628699091    |     6000.039615202918    |     1.3322764258922688e-12\n",
      "0.02    |     0.0075    |     1.3235324618626423    |     4.596172751931884e+18    |     1020.5553628699091    |     4000.3597434684316    |     8.882582987964475e-13\n",
      "0.02    |     0.01    |     1.3219923714906012    |     4.596172751931884e+18    |     1020.5553628699091    |     3000.519807601072    |     6.66249235248511e-13\n",
      "0.02    |     0.02    |     1.3204676186157391    |     4.596172751931884e+18    |     1020.5553628699091    |     1500.7599038004946    |     3.332356399267088e-13\n",
      "0.02    |     0.05    |     1.3202928659769575    |     4.596172751931884e+18    |     1020.5553628699091    |     600.9039615201903    |     1.3342748273363686e-13\n",
      "0.02    |     0.075    |     1.3203431410941726    |     4.596172751931884e+18    |     1020.5553628699091    |     400.9359743467913    |     8.902567002406576e-14\n",
      "0.02    |     0.1    |     1.3203699372606292    |     4.596172751931884e+18    |     1020.5553628699091    |     300.95198076008984    |     6.682476366927977e-14\n",
      "0.02    |     0.2    |     1.320356005679441    |     4.596172751931884e+18    |     1020.5553628699091    |     150.97599038004486    |     3.352340413710239e-14\n",
      "0.02    |     0.5    |     1.3201242272878078    |     4.596172751931884e+18    |     1020.5553628699091    |     60.990396152017844    |     1.3542588417795952e-14\n",
      "0.02    |     0.75    |     1.319965297334464    |     4.596172751931884e+18    |     1020.5553628699091    |     40.99359743467855    |     9.102407146838975e-15\n",
      "0.02    |     1    |     1.3198696409051942    |     4.596172751931884e+18    |     1020.5553628699091    |     30.99519807600895    |     6.882316511360498e-15\n",
      "0.05    |     1e-05    |     1.1802626763433055    |     1.7515416781593348e+19    |     3889.2037993661584    |     2997002.130677457    |     6.65468154065753e-10\n",
      "0.05    |     2e-05    |     1.2638668839596363    |     1.7515416781593348e+19    |     3889.2037993661584    |     1498501.5652596476    |     3.3273418803761946e-10\n",
      "0.05    |     5e-05    |     1.3399914336691139    |     1.7515416781593348e+19    |     3889.2037993661584    |     599401.2260877149    |     1.3309380843822602e-10\n",
      "0.05    |     7.5e-05    |     1.3607917455534582    |     1.7515416781593348e+19    |     3889.2037993661584    |     399601.1507253162    |     8.872927964039072e-11\n",
      "0.05    |     0.0001    |     1.371739914914181    |     1.7515416781593348e+19    |     3889.2037993661584    |     299701.11304101977    |     6.654701524078538e-11\n",
      "0.05    |     0.0002    |     1.3883571964181647    |     1.7515416781593348e+19    |     3889.2037993661584    |     149851.05651988334    |     3.327361864255603e-11\n",
      "0.05    |     0.0005    |     1.3960809195486918    |     1.7515416781593348e+19    |     3889.2037993661584    |     59941.022607974846    |     1.3309580683790145e-11\n",
      "0.05    |     0.00075    |     1.3958259187903233    |     1.7515416781593348e+19    |     3889.2037993661584    |     39961.015071849826    |     8.873127804032116e-12\n",
      "0.05    |     0.001    |     1.3944270862078145    |     1.7515416781593348e+19    |     3889.2037993661584    |     29971.011303897136    |     6.654901364177487e-12\n",
      "0.05    |     0.002    |     1.3868038656181922    |     1.7515416781593348e+19    |     3889.2037993661584    |     14986.00565194129    |     3.32756170438959e-12\n",
      "0.05    |     0.005    |     1.3676102367336342    |     1.7515416781593348e+19    |     3889.2037993661584    |     5995.002260777159    |     1.3311579085189338e-12\n",
      "0.05    |     0.0075    |     1.356910453232406    |     1.7515416781593348e+19    |     3889.2037993661584    |     3997.001507183075    |     8.875126205472205e-13\n",
      "0.05    |     0.01    |     1.3492964425395064    |     1.7515416781593348e+19    |     3889.2037993661584    |     2998.001130387282    |     6.656899765616413e-13\n",
      "0.05    |     0.02    |     1.3337278030826965    |     1.7515416781593348e+19    |     3889.2037993661584    |     1499.5005651935264    |     3.3295601058325773e-13\n",
      "0.05    |     0.05    |     1.3230623528240175    |     1.7515416781593348e+19    |     3889.2037993661584    |     600.4002260774154    |     1.3331563099625918e-13\n",
      "0.05    |     0.075    |     1.3212917568278915    |     1.7515416781593348e+19    |     3889.2037993661584    |     400.6001507182744    |     8.895110219914723e-14\n",
      "0.05    |     0.1    |     1.320649513717282    |     1.7515416781593348e+19    |     3889.2037993661584    |     300.7001130387049    |     6.676883780059148e-14\n",
      "0.05    |     0.2    |     1.320107992756552    |     1.7515416781593348e+19    |     3889.2037993661584    |     150.85005651935137    |     3.349544120275802e-14\n",
      "0.05    |     0.5    |     1.3199430633401976    |     1.7515416781593348e+19    |     3889.2037993661584    |     60.940022607740424    |     1.3531403244058199e-14\n",
      "0.05    |     0.75    |     1.3198490982380753    |     1.7515416781593348e+19    |     3889.2037993661584    |     40.96001507182699    |     9.094950364347151e-15\n",
      "0.05    |     1    |     1.3197937467706276    |     1.7515416781593348e+19    |     3889.2037993661584    |     30.970011303870226    |     6.876723924491618e-15\n",
      "0.075    |     1e-05    |     1.0289125856927244    |     2.5655434459999447e+18    |     569.6650808850611    |     2993261.3408441492    |     6.646375318651086e-10\n",
      "0.075    |     2e-05    |     1.0683357423022957    |     2.5655434459999447e+18    |     569.6650808850611    |     1496631.170356881    |     3.323188769403809e-10\n",
      "0.075    |     5e-05    |     1.1788194485860952    |     2.5655434459999447e+18    |     569.6650808850611    |     598653.068139632    |     1.3292768400222243e-10\n",
      "0.075    |     7.5e-05    |     1.2298615813471019    |     2.5655434459999447e+18    |     569.6650808850611    |     399102.3787592882    |     8.861853001624636e-11\n",
      "0.075    |     0.0001    |     1.2625315302909002    |     2.5655434459999447e+18    |     569.6650808850611    |     299327.0340661838    |     6.646395302260717e-11\n",
      "0.075    |     0.0002    |     1.3241269630073698    |     2.5655434459999447e+18    |     569.6650808850611    |     149664.01703276392    |     3.323208753353322e-11\n",
      "0.075    |     0.0005    |     1.369928705681422    |     2.5655434459999447e+18    |     569.6650808850611    |     59866.20681304865    |     1.3292968240163605e-11\n",
      "0.075    |     0.00075    |     1.380456714523796    |     2.5655434459999447e+18    |     569.6650808850611    |     39911.13787533464    |     8.862052841637134e-12\n",
      "0.075    |     0.001    |     1.3852806670847033    |     2.5655434459999447e+18    |     569.6650808850611    |     29933.60340651576    |     6.646595142382363e-12\n",
      "0.075    |     0.002    |     1.389766784950075    |     2.5655434459999447e+18    |     569.6650808850611    |     14967.301703250858    |     3.323408593492085e-12\n",
      "0.075    |     0.005    |     1.382950902139967    |     2.5655434459999447e+18    |     569.6650808850611    |     5987.5206812984825    |     1.3294966641593758e-12\n",
      "0.075    |     0.0075    |     1.3758254841268711    |     2.5655434459999447e+18    |     569.6650808850611    |     3992.0137875320675    |     8.864051243078358e-13\n",
      "0.075    |     0.01    |     1.3694975238618996    |     2.5655434459999447e+18    |     569.6650808850611    |     2994.260340649059    |     6.648593543821099e-13\n",
      "0.075    |     0.02    |     1.3518655278680658    |     2.5655434459999447e+18    |     569.6650808850611    |     1497.630170324489    |     3.325406994935085e-13\n",
      "0.075    |     0.05    |     1.3317271553627898    |     2.5655434459999447e+18    |     569.6650808850611    |     599.6520681297744    |     1.3314950656035372e-13\n",
      "0.075    |     0.075    |     1.3262949589526674    |     2.5655434459999447e+18    |     569.6650808850611    |     400.10137875318566    |     8.884035257521142e-14\n",
      "0.075    |     0.1    |     1.3237555826770926    |     2.5655434459999447e+18    |     569.6650808850611    |     300.3260340648898    |     6.668577558263996e-14\n",
      "0.075    |     0.2    |     1.3207755491672832    |     2.5655434459999447e+18    |     569.6650808850611    |     150.66301703244358    |     3.34539100937822e-14\n",
      "0.075    |     0.5    |     1.3198839335916897    |     2.5655434459999447e+18    |     569.6650808850611    |     60.865206812977554    |     1.3514790800467925e-14\n",
      "0.075    |     0.75    |     1.3197723726186084    |     2.5655434459999447e+18    |     569.6650808850611    |     40.910137875318284    |     9.083875401953608e-15\n",
      "0.075    |     1    |     1.3197346497546039    |     2.5655434459999447e+18    |     569.6650808850611    |     30.93260340648876    |     6.868417702696474e-15\n",
      "0.1    |     1e-05    |     1.0798981068166194    |     2.667779301865279e+21    |     592366.0011098518    |     2988038.7413794813    |     6.634778818302947e-10\n",
      "0.1    |     2e-05    |     1.03441114728845    |     2.667779301865279e+21    |     592366.0011098518    |     1494019.8706298168    |     3.3173905192414405e-10\n",
      "0.1    |     5e-05    |     1.0485665416885148    |     2.667779301865279e+21    |     592366.0011098518    |     597608.548229899    |     1.3269575399152945e-10\n",
      "0.1    |     7.5e-05    |     1.08598125409383    |     2.667779301865279e+21    |     592366.0011098518    |     398406.0321496369    |     8.846391000841544e-11\n",
      "0.1    |     0.0001    |     1.1199271289317363    |     2.667779301865279e+21    |     592366.0011098518    |     298804.7741134555    |     6.634798801773545e-11\n",
      "0.1    |     0.0002    |     1.2092033599798173    |     2.667779301865279e+21    |     592366.0011098518    |     149402.8870553795    |     3.317410503087082e-11\n",
      "0.1    |     0.0005    |     1.3058031834924426    |     2.667779301865279e+21    |     592366.0011098518    |     59761.754822120776    |     1.3269775239104392e-11\n",
      "0.1    |     0.00075    |     1.334757363394958    |     2.667779301865279e+21    |     592366.0011098518    |     39841.50321474247    |     8.846590840936857e-12\n",
      "0.1    |     0.001    |     1.3503821090956738    |     2.667779301865279e+21    |     592366.0011098518    |     29881.377411051322    |     6.634998641852646e-12\n",
      "0.1    |     0.002    |     1.3741948871332732    |     2.667779301865279e+21    |     592366.0011098518    |     14941.188705527115    |     3.317610343229108e-12\n",
      "0.1    |     0.005    |     1.3835828525726024    |     2.667779301865279e+21    |     592366.0011098518    |     5977.075482208369    |     1.3271773640540483e-12\n",
      "0.1    |     0.0075    |     1.3817104633773307    |     2.667779301865279e+21    |     592366.0011098518    |     3985.050321472293    |     8.848589242376843e-13\n",
      "0.1    |     0.01    |     1.378484030173926    |     2.667779301865279e+21    |     592366.0011098518    |     2989.0377411040545    |     6.636997043294578e-13\n",
      "0.1    |     0.02    |     1.365360961026242    |     2.667779301865279e+21    |     592366.0011098518    |     1495.0188705519927    |     3.3196087446718374e-13\n",
      "0.1    |     0.05    |     1.342872658496226    |     2.667779301865279e+21    |     592366.0011098518    |     598.6075482207931    |     1.3291757654982763e-13\n",
      "0.1    |     0.075    |     1.3344025162997275    |     2.667779301865279e+21    |     592366.0011098518    |     399.4050321471928    |     8.868573256819285e-14\n",
      "0.1    |     0.1    |     1.3296947739898701    |     2.667779301865279e+21    |     592366.0011098518    |     299.8037741103928    |     6.65698105773755e-14\n",
      "0.1    |     0.2    |     1.3228751118106665    |     2.667779301865279e+21    |     592366.0011098518    |     150.40188705519586    |     3.3395927591150145e-14\n",
      "0.1    |     0.5    |     1.3201305530113177    |     2.667779301865279e+21    |     592366.0011098518    |     60.76075482207833    |     1.3491597799415074e-14\n",
      "0.1    |     0.75    |     1.3198268366427475    |     2.667779301865279e+21    |     592366.0011098518    |     40.840503214718886    |     9.068413401251726e-15\n",
      "0.1    |     1    |     1.3197458467857652    |     2.667779301865279e+21    |     592366.0011098518    |     30.88037741103915    |     6.856821202170049e-15\n",
      "0.2    |     1e-05    |     1.0348780714189445    |     6.679884723262186e+17    |     148.32323643215042    |     2952676.8513839184    |     6.556259649368276e-10\n",
      "0.2    |     2e-05    |     1.0990542705423856    |     6.679884723262186e+17    |     148.32323643215042    |     1476338.9256587664    |     3.2781309348334595e-10\n",
      "0.2    |     5e-05    |     1.118668157565593    |     6.679884723262186e+17    |     148.32323643215042    |     590536.1702544192    |     1.3112537061808354e-10\n",
      "0.2    |     7.5e-05    |     1.1064632913469394    |     6.679884723262186e+17    |     148.32323643215042    |     393691.1135038526    |     8.741698776045861e-11\n",
      "0.2    |     0.0001    |     1.0918067697059484    |     6.679884723262186e+17    |     148.32323643215042    |     295268.5851280461    |     6.556279633152997e-11\n",
      "0.2    |     0.0002    |     1.0475901909840273    |     6.679884723262186e+17    |     148.32323643215042    |     147634.79256327386    |     3.2781509187901095e-11\n",
      "0.2    |     0.0005    |     1.023706037751357    |     6.679884723262186e+17    |     148.32323643215042    |     59054.517025191824    |     1.3112736901897254e-11\n",
      "0.2    |     0.00075    |     1.0428612641129864    |     6.679884723262186e+17    |     148.32323643215042    |     39370.01135012085    |     8.741898616131582e-12\n",
      "0.2    |     0.001    |     1.0675482361223787    |     6.679884723262186e+17    |     148.32323643215042    |     29527.75851260228    |     6.556479473252503e-12\n",
      "0.2    |     0.002    |     1.1502519607987045    |     6.679884723262186e+17    |     148.32323643215042    |     14764.379256294176    |     3.278350758927168e-12\n",
      "0.2    |     0.005    |     1.26134611726893    |     6.679884723262186e+17    |     148.32323643215042    |     5906.351702517757    |     1.3114735303338414e-12\n",
      "0.2    |     0.0075    |     1.2986164432111627    |     6.679884723262186e+17    |     148.32323643215042    |     3937.9011350116025    |     8.743897017574836e-13\n",
      "0.2    |     0.01    |     1.319365327804564    |     6.679884723262186e+17    |     148.32323643215042    |     2953.6758512586593    |     6.558477874693346e-13\n",
      "0.2    |     0.02    |     1.3511101649720025    |     6.679884723262186e+17    |     148.32323643215042    |     1477.3379256293263    |     3.2803491603712903e-13\n",
      "0.2    |     0.05    |     1.361365740618009    |     6.679884723262186e+17    |     148.32323643215042    |     591.5351702517387    |     1.3134719317780845e-13\n",
      "0.2    |     0.075    |     1.3577244256580787    |     6.679884723262186e+17    |     148.32323643215042    |     394.69011350115375    |     8.763881032017945e-14\n",
      "0.2    |     0.1    |     1.3532120690730098    |     6.679884723262186e+17    |     148.32323643215042    |     296.26758512586605    |     6.578461889136601e-14\n",
      "0.2    |     0.2    |     1.3396807959929744    |     6.679884723262186e+17    |     148.32323643215042    |     148.63379256293302    |     3.300333174814552e-14\n",
      "0.2    |     0.5    |     1.3258785979549308    |     6.679884723262186e+17    |     148.32323643215042    |     60.05351702517303    |     1.3334559462213187e-14\n",
      "0.2    |     0.75    |     1.3227927985529941    |     6.679884723262186e+17    |     148.32323643215042    |     40.36901135011532    |     8.963721176450461e-15\n",
      "0.2    |     1    |     1.321535717952325    |     6.679884723262186e+17    |     148.32323643215042    |     30.526758512586515    |     6.778302033569109e-15\n",
      "0.5    |     1e-05    |     0.24096794492337217    |     980292850693723.0    |     0.21766873874312043    |     2725466.739096163    |     6.051751853189209e-10\n",
      "0.5    |     2e-05    |     0.2449083880337301    |     980292850693723.0    |     0.21766873874312043    |     1362733.8714525797    |     3.0258770410464647e-10\n",
      "0.5    |     5e-05    |     0.26603719418924143    |     980292850693723.0    |     0.21766873874312043    |     545094.1490353391    |     1.21035214969498e-10\n",
      "0.5    |     7.5e-05    |     0.3041435170921793    |     980292850693723.0    |     0.21766873874312043    |     363396.43275823985    |     8.069021734296907e-11\n",
      "0.5    |     0.0001    |     0.34664559598668254    |     980292850693723.0    |     0.21766873874312043    |     272547.574594265    |     6.051771852405908e-11\n",
      "0.5    |     0.0002    |     0.48965105730970193    |     980292850693723.0    |     0.21766873874312043    |     136274.28731598076    |     3.0258970288517154e-11\n",
      "0.5    |     0.0005    |     0.7000258094502043    |     980292850693723.0    |     0.21766873874312043    |     54510.31493093597    |     1.2103721343178713e-11\n",
      "0.5    |     0.00075    |     0.7803152404537448    |     980292850693723.0    |     0.21766873874312043    |     36340.54328796344    |     8.06922157713684e-12\n",
      "0.5    |     0.001    |     0.8291864833507464    |     980292850693723.0    |     0.21766873874312043    |     27255.65746622313    |     6.0519716940594945e-12\n",
      "0.5    |     0.002    |     0.9148557625310191    |     980292850693723.0    |     0.21766873874312043    |     13628.328733300632    |     3.026096869374191e-12\n",
      "0.5    |     0.005    |     0.9605054768523503    |     980292850693723.0    |     0.21766873874312043    |     5451.931493366455    |     1.2105719745228904e-12\n",
      "0.5    |     0.0075    |     0.9664986040888477    |     980292850693723.0    |     0.21766873874312043    |     3634.9543289176677    |     8.071219978850558e-13\n",
      "0.5    |     0.01    |     0.971577059753968    |     980292850693723.0    |     0.21766873874312043    |     2726.4657466907856    |     6.05397009565586e-13\n",
      "0.5    |     0.02    |     1.0046221692212927    |     980292850693723.0    |     0.21766873874312043    |     1363.7328733473057    |     3.0280952708568026e-13\n",
      "0.5    |     0.05    |     1.1047795554227975    |     980292850693723.0    |     0.21766873874312043    |     546.0931493393776    |     1.2125703759732823e-13\n",
      "0.5    |     0.075    |     1.1581424516578147    |     980292850693723.0    |     0.21766873874312043    |     364.39543289298604    |     8.091203993320884e-14\n",
      "0.5    |     0.1    |     1.1943040342674953    |     980292850693723.0    |     0.21766873874312043    |     273.5465746697651    |     6.073954110114357e-14\n",
      "0.5    |     0.2    |     1.2650403625958075    |     980292850693723.0    |     0.21766873874312043    |     137.2732873349015    |     3.048079285303851e-14\n",
      "0.5    |     0.5    |     1.3129959855689668    |     980292850693723.0    |     0.21766873874312043    |     55.50931493396521    |     1.2325543904171445e-14\n",
      "0.5    |     0.75    |     1.3205631535380165    |     980292850693723.0    |     0.21766873874312043    |     37.33954328931077    |     8.291044137756114e-15\n",
      "0.5    |     1    |     1.3228809465642857    |     980292850693723.0    |     0.21766873874312043    |     28.254657466983346    |     6.273794254548403e-15\n",
      "0.75    |     1e-05    |     0.2224499701965531    |     3532632123678.7227    |     0.0007844019042477163    |     2442727.9074419998    |     5.423945531473073e-10\n",
      "0.75    |     2e-05    |     0.2053060605543837    |     3532632123678.7227    |     0.0007844019042477163    |     1221364.876010962    |     2.711974813631639e-10\n",
      "0.75    |     5e-05    |     0.20855337608222344    |     3532632123678.7227    |     0.0007844019042477163    |     488546.6517437474    |     1.0847914827388725e-10\n",
      "0.75    |     7.5e-05    |     0.21981047089574937    |     3532632123678.7227    |     0.0007844019042477163    |     325698.11617629393    |     7.231950953119213e-11\n",
      "0.75    |     0.0001    |     0.22929183435175596    |     3532632123678.7227    |     0.0007844019042477163    |     244273.84276198    |     5.4239688909603066e-11\n",
      "0.75    |     0.0002    |     0.25206556710851546    |     3532632123678.7227    |     0.0007844019042477163    |     122137.42560380595    |     2.7119956414757496e-11\n",
      "0.75    |     0.0005    |     0.29114658168989516    |     3532632123678.7227    |     0.0007844019042477163    |     48855.57125495263    |     1.0848116017692672e-11\n",
      "0.75    |     0.00075    |     0.3252398789514181    |     3532632123678.7227    |     0.0007844019042477163    |     32570.71432009598    |     7.2321513933317716e-12\n",
      "0.75    |     0.001    |     0.35990828966428157    |     3532632123678.7227    |     0.0007844019042477163    |     24428.28579637967    |     5.424169068652878e-12\n",
      "0.75    |     0.002    |     0.47580513929031976    |     3532632123678.7227    |     0.0007844019042477163    |     12214.642940416195    |     2.712195566005037e-12\n",
      "0.75    |     0.005    |     0.6515260879776209    |     3532632123678.7227    |     0.0007844019042477163    |     4886.457186300838    |     1.0850114554152496e-12\n",
      "0.75    |     0.0075    |     0.7197356993725887    |     3532632123678.7227    |     0.0007844019042477163    |     3257.971459035242    |     7.234149854785081e-13\n",
      "0.75    |     0.01    |     0.7617582568840177    |     3532632123678.7227    |     0.0007844019042477163    |     2443.7285948394738    |     5.426167503851329e-13\n",
      "0.75    |     0.02    |     0.8408992984214797    |     3532632123678.7227    |     0.0007844019042477163    |     1222.3642978419878    |     2.7141939758878747e-13\n",
      "0.75    |     0.05    |     0.9210906761308845    |     3532632123678.7227    |     0.0007844019042477163    |     489.54571923814456    |     1.0870098582097411e-13\n",
      "0.75    |     0.075    |     0.96244927086312    |     3532632123678.7227    |     0.0007844019042477163    |     326.697146173777    |     7.254133875229152e-14\n",
      "0.75    |     0.1    |     0.9968207350967746    |     3532632123678.7227    |     0.0007844019042477163    |     245.2728596359628    |     5.4461515216700016e-14\n",
      "0.75    |     0.2    |     1.0921914353907194    |     3532632123678.7227    |     0.0007844019042477163    |     123.1364298222042    |     2.7341779911750176e-14\n",
      "0.75    |     0.5    |     1.2113887072395224    |     3532632123678.7227    |     0.0007844019042477163    |     49.85457192989512    |     1.1069938727880118e-14\n",
      "0.75    |     0.75    |     1.2502765485666594    |     3532632123678.7227    |     0.0007844019042477163    |     33.56971462008021    |     7.453974020261758e-15\n",
      "0.75    |     1    |     1.2715113409155705    |     3532632123678.7227    |     0.0007844019042477163    |     25.42728596511644    |     5.645991666440073e-15\n",
      "1.0    |     1e-05    |     0.32017904466762515    |     63914577491.36427    |     1.4191887108020279e-05    |     2130369.1131594917    |     4.730369680759886e-10\n",
      "1.0    |     2e-05    |     0.3007402314260465    |     63914577491.36427    |     1.4191887108020279e-05    |     1065202.808990499    |     2.3652253688732894e-10\n",
      "1.0    |     5e-05    |     0.26987296047005466    |     63914577491.36427    |     1.4191887108020279e-05    |     426085.98427838425    |     9.461009404318693e-11\n",
      "1.0    |     7.5e-05    |     0.2559713871873844    |     63914577491.36427    |     1.4191887108020279e-05    |     284058.2874067469    |     6.307361020291211e-11\n",
      "1.0    |     0.0001    |     0.2465204142745105    |     63914577491.36427    |     1.4191887108020279e-05    |     213044.20226335054    |     4.730531572313413e-11\n",
      "1.0    |     0.0002    |     0.22985421062259584    |     63914577491.36427    |     1.4191887108020279e-05    |     106522.77866349614    |     2.3652808303852554e-11\n",
      "1.0    |     0.0005    |     0.2391940723762629    |     63914577491.36427    |     1.4191887108020279e-05    |     42609.75407313465    |     9.461266009121928e-12\n",
      "1.0    |     0.00075    |     0.2553997990178182    |     63914577491.36427    |     1.4191887108020279e-05    |     28406.842361022937    |     6.3075860892209815e-12\n",
      "1.0    |     0.001    |     0.2695794334088796    |     63914577491.36427    |     1.4191887108020279e-05    |     21305.38413787239    |     4.730745603669903e-12\n",
      "1.0    |     0.002    |     0.31063876807450047    |     63914577491.36427    |     1.4191887108020279e-05    |     10653.193844259604    |     2.3654842183383992e-12\n",
      "1.0    |     0.005    |     0.3936609595496581    |     63914577491.36427    |     1.4191887108020279e-05    |     4261.877963782244    |     9.463270087067252e-13\n",
      "1.0    |     0.0075    |     0.4469915900961414    |     63914577491.36427    |     1.4191887108020279e-05    |     2841.585372310787    |     6.309587013554967e-13\n",
      "1.0    |     0.01    |     0.4901673630039956    |     63914577491.36427    |     1.4191887108020279e-05    |     2131.439052904112    |     4.732745424238765e-13\n",
      "1.0    |     0.02    |     0.60175324469142    |     63914577491.36427    |     1.4191887108020279e-05    |     1066.2195442053296    |     2.3674829745641937e-13\n",
      "1.0    |     0.05    |     0.7405769938099307    |     63914577491.36427    |     1.4191887108020279e-05    |     427.08782194291774    |     9.483254669160729e-14\n",
      "1.0    |     0.075    |     0.797163463326217    |     63914577491.36427    |     1.4191887108020279e-05    |     285.05854859317225    |     6.329571280287377e-14\n",
      "1.0    |     0.1    |     0.8372760302121772    |     63914577491.36427    |     1.4191887108020279e-05    |     214.04391168158918    |     4.752729580594676e-14\n",
      "1.0    |     0.2    |     0.9403435142235637    |     63914577491.36427    |     1.4191887108020279e-05    |     107.52195601832739    |     2.3874670244856097e-14\n",
      "1.0    |     0.5    |     1.0888716539372494    |     63914577491.36427    |     1.4191887108020279e-05    |     43.60878244993882    |     9.683094870358305e-15\n",
      "1.0    |     0.75    |     1.1499813978771312    |     63914577491.36427    |     1.4191887108020279e-05    |     29.40585497293814    |     6.5294114499488166e-15\n",
      "1.0    |     1    |     1.1884279444711843    |     63914577491.36427    |     1.4191887108020279e-05    |     22.30439123207071    |     4.952569739218473e-15\n",
      "2.0    |     1e-05    |     0.37717527080114094    |     4995157.201110629    |     1.1091477072590349e-09    |     931785.0004887689    |     2.068978323085988e-10\n",
      "2.0    |     2e-05    |     0.36554739044363094    |     4995157.201110629    |     1.1091477072590349e-09    |     513815.87386685994    |     1.1409004271697663e-10\n",
      "2.0    |     5e-05    |     0.3556659370173608    |     4995157.201110629    |     1.1091477072590349e-09    |     219045.86744165132    |     4.8637953096542247e-11\n",
      "2.0    |     7.5e-05    |     0.3535036870210737    |     4995157.201110629    |     1.1091477072590349e-09    |     148197.11674354723    |     3.290637023834969e-11\n",
      "2.0    |     0.0001    |     0.35281735349796495    |     4995157.201110629    |     1.1091477072590349e-09    |     111978.62460516892    |     2.4864249460503123e-11\n",
      "2.0    |     0.0002    |     0.3534347525529885    |     4995157.201110629    |     1.1091477072590349e-09    |     56624.48346399062    |     1.2573161059845765e-11\n",
      "2.0    |     0.0005    |     0.35502424154537043    |     4995157.201110629    |     1.1091477072590349e-09    |     22805.49604335498    |     5.063837359066121e-12\n",
      "2.0    |     0.00075    |     0.3537163573870454    |     4995157.201110629    |     1.1091477072590349e-09    |     15227.1681485824    |     3.3811105356789993e-12\n",
      "2.0    |     0.001    |     0.35159094176904615    |     4995157.201110629    |     1.1091477072590349e-09    |     11429.335035838845    |     2.537822182588655e-12\n",
      "2.0    |     0.002    |     0.3437425980245005    |     4995157.201110629    |     1.1091477072590349e-09    |     5721.711678609094    |     1.270475209171694e-12\n",
      "2.0    |     0.005    |     0.3384378232843908    |     4995157.201110629    |     1.1091477072590349e-09    |     2290.8581499577735    |     5.08672692846662e-13\n",
      "2.0    |     0.0075    |     0.3434911844399528    |     4995157.201110629    |     1.1091477072590349e-09    |     1527.8054038403657    |     3.392409472980619e-13\n",
      "2.0    |     0.01    |     0.3514509386543829    |     4995157.201110629    |     1.1091477072590349e-09    |     1146.1915618887404    |     2.545056525279899e-13\n",
      "2.0    |     0.02    |     0.38795453127123614    |     4995157.201110629    |     1.1091477072590349e-09    |     573.6614252411312    |     1.2737842452839735e-13\n",
      "2.0    |     0.05    |     0.47107485080566847    |     4995157.201110629    |     1.1091477072590349e-09    |     230.08032761773353    |     5.108809544690141e-14\n",
      "2.0    |     0.075    |     0.5172647100633151    |     4995157.201110629    |     1.1091477072590349e-09    |     153.7225530556975    |     3.4133263561319513e-14\n",
      "2.0    |     0.1    |     0.5526131904880447    |     4995157.201110629    |     1.1091477072590349e-09    |     115.54279030330179    |     2.5655653224832383e-14\n",
      "2.0    |     0.2    |     0.646310472219547    |     4995157.201110629    |     1.1091477072590349e-09    |     58.27205179784526    |     1.293899471962351e-14\n",
      "2.0    |     0.5    |     0.797243980792505    |     4995157.201110629    |     1.1091477072590349e-09    |     23.908978317115814    |     5.308859644585121e-15\n",
      "2.0    |     0.75    |     0.8774340306364914    |     4995157.201110629    |     1.1091477072590349e-09    |     16.272675559455415    |     3.6132598156724904e-15\n",
      "2.0    |     1    |     0.9386486865700185    |     4995157.201110629    |     1.1091477072590349e-09    |     12.454515425128456    |     2.7654579571053563e-15\n",
      "5.0    |     1e-05    |     0.729096374445801    |     555.6368040064594    |     1.2337615462742134e-13    |     554.9108780960305    |     1.232149666954353e-13\n",
      "5.0    |     2e-05    |     0.7291162264236533    |     555.6368040064594    |     1.2337615462742134e-13    |     554.186849930652    |     1.2305420014749923e-13\n",
      "5.0    |     5e-05    |     0.7291757523892828    |     555.6368040064594    |     1.2337615462742134e-13    |     552.0260777777625    |     1.2257441234847787e-13\n",
      "5.0    |     7.5e-05    |     0.729225323038207    |     555.6368040064594    |     1.2337615462742134e-13    |     550.23828703392    |     1.2217744305907273e-13\n",
      "5.0    |     0.0001    |     0.7292748625029511    |     555.6368040064594    |     1.2337615462742134e-13    |     548.4620596604069    |     1.21783041353664e-13\n",
      "5.0    |     0.0002    |     0.7294727088701931    |     555.6368040064594    |     1.2337615462742134e-13    |     541.4705687792607    |     1.2023061852312293e-13\n",
      "5.0    |     0.0005    |     0.7300632679255016    |     555.6368040064594    |     1.2337615462742134e-13    |     521.5279990898956    |     1.1580247851525796e-13\n",
      "5.0    |     0.00075    |     0.7305520056062914    |     555.6368040064594    |     1.2337615462742134e-13    |     505.99987151524476    |     1.1235454156271913e-13\n",
      "5.0    |     0.001    |     0.7310376814323817    |     555.6368040064594    |     1.2337615462742134e-13    |     491.37136147683685    |     1.0910635983059899e-13\n",
      "5.0    |     0.002    |     0.7329502858896297    |     555.6368040064594    |     1.2337615462742134e-13    |     440.4522822110072    |     9.780005299187148e-14\n",
      "5.0    |     0.005    |     0.7384152522426068    |     555.6368040064594    |     1.2337615462742134e-13    |     336.0726653659441    |     7.462312220728331e-14\n",
      "5.0    |     0.0075    |     0.7426859104004216    |     555.6368040064594    |     1.2337615462742134e-13    |     280.7085388287946    |     6.23298166033225e-14\n",
      "5.0    |     0.01    |     0.7467295294070295    |     555.6368040064594    |     1.2337615462742134e-13    |     241.04573230445232    |     5.352290439840697e-14\n",
      "5.0    |     0.02    |     0.7610911745523715    |     555.6368040064594    |     1.2337615462742134e-13    |     154.16834802636362    |     3.423224992945864e-14\n",
      "5.0    |     0.05    |     0.7938460924485602    |     555.6368040064594    |     1.2337615462742134e-13    |     74.43525519938748    |     1.6527946833241876e-14\n",
      "5.0    |     0.075    |     0.8150678569112061    |     555.6368040064594    |     1.2337615462742134e-13    |     52.21726682813804    |     1.1594562383118853e-14\n",
      "5.0    |     0.1    |     0.8333792535955517    |     555.6368040064594    |     1.2337615462742134e-13    |     40.320705913772024    |     8.952995214921882e-15\n",
      "5.0    |     0.2    |     0.8919888448352014    |     555.6368040064594    |     1.2337615462742134e-13    |     21.382869766048398    |     4.747950869365613e-15\n",
      "5.0    |     0.5    |     1.012003022959394    |     555.6368040064594    |     1.2337615462742134e-13    |     9.33697797512213    |     2.073225585679712e-15\n",
      "5.0    |     0.75    |     1.0827038377848375    |     555.6368040064594    |     1.2337615462742134e-13    |     6.585973686347976    |     1.4623799252317884e-15\n",
      "5.0    |     1    |     1.138569367398157    |     555.6368040064594    |     1.2337615462742134e-13    |     5.200055382874517    |     1.1546442430786545e-15\n",
      "7.5    |     1e-05    |     1.1579727162941067    |     65.42062274366074    |     1.4526296331065668e-14    |     65.40750197167768    |     1.4523382934434376e-14\n",
      "7.5    |     2e-05    |     1.1579776842823726    |     65.42062274366074    |     1.4526296331065668e-14    |     65.39438654331282    |     1.452047072432468e-14\n",
      "7.5    |     5e-05    |     1.1579925874856085    |     65.42062274366074    |     1.4526296331065668e-14    |     65.35507228730187    |     1.4511741205880805e-14\n",
      "7.5    |     7.5e-05    |     1.1580050059490286    |     65.42062274366074    |     1.4526296331065668e-14    |     65.32234705876313    |     1.450447474543884e-14\n",
      "7.5    |     0.0001    |     1.1580174236191758    |     65.42062274366074    |     1.4526296331065668e-14    |     65.28965509555222    |     1.449721567138345e-14\n",
      "7.5    |     0.0002    |     1.1580670863672333    |     65.42062274366074    |     1.4526296331065668e-14    |     65.15921888360964    |     1.4468253014234742e-14\n",
      "7.5    |     0.0005    |     1.1582159984650569    |     65.42062274366074    |     1.4526296331065668e-14    |     64.77106671380928    |     1.4382065919040627e-14\n",
      "7.5    |     0.00075    |     1.1583400046414276    |     65.42062274366074    |     1.4526296331065668e-14    |     64.45117618545744    |     1.4311035953053484e-14\n",
      "7.5    |     0.001    |     1.1584639315271186    |     65.42062274366074    |     1.4526296331065668e-14    |     64.1344789297461    |     1.4240715036028216e-14\n",
      "7.5    |     0.002    |     1.158958846589758    |     65.42062274366074    |     1.4526296331065668e-14    |     62.89868505684164    |     1.3966313673750373e-14\n",
      "7.5    |     0.005    |     1.1604360020625986    |     65.42062274366074    |     1.4526296331065668e-14    |     59.46547650580331    |     1.3203988237409827e-14\n",
      "7.5    |     0.0075    |     1.1616583144933827    |     65.42062274366074    |     1.4526296331065668e-14    |     56.88254043457733    |     1.2630461217927842e-14\n",
      "7.5    |     0.01    |     1.162872831495904    |     65.42062274366074    |     1.4526296331065668e-14    |     54.518170529658406    |     1.2105465636493486e-14\n",
      "7.5    |     0.02    |     1.1676546346371226    |     65.42062274366074    |     1.4526296331065668e-14    |     46.77181528449076    |     1.0385429246471292e-14\n",
      "7.5    |     0.05    |     1.181322059520699    |     65.42062274366074    |     1.4526296331065668e-14    |     32.91391372384855    |     7.308356969348518e-15\n",
      "7.5    |     0.075    |     1.192025682675384    |     65.42062274366074    |     1.4526296331065668e-14    |     26.4842300611489    |     5.880680400671445e-15\n",
      "7.5    |     0.1    |     1.20219020027986    |     65.42062274366074    |     1.4526296331065668e-14    |     22.21088199657384    |     4.931806517965729e-15\n",
      "7.5    |     0.2    |     1.238514238689643    |     65.42062274366074    |     1.4526296331065668e-14    |     13.695471638717029    |     3.041005589280894e-15\n",
      "7.5    |     0.5    |     1.3202321940460673    |     65.42062274366074    |     1.4526296331065668e-14    |     6.759169742060504    |     1.5008371749970503e-15\n",
      "7.5    |     0.75    |     1.369207081107715    |     65.42062274366074    |     1.4526296331065668e-14    |     4.957375592564134    |     1.100758504915896e-15\n",
      "7.5    |     1    |     1.4074503211973002    |     65.42062274366074    |     1.4526296331065668e-14    |     4.014324376831696    |     8.913590702945164e-16\n",
      "10.0    |     1e-05    |     1.4570968886841436    |     19.175864900543594    |     4.257897345936977e-15    |     19.174489304841277    |     4.2575919023327196e-15\n",
      "10.0    |     2e-05    |     1.4570993187331152    |     19.175864900543594    |     4.257897345936977e-15    |     19.1731139173404    |     4.257286504958469e-15\n",
      "10.0    |     5e-05    |     1.4571066086154156    |     19.175864900543594    |     4.257897345936977e-15    |     19.16898900357348    |     4.256370590110743e-15\n",
      "10.0    |     7.5e-05    |     1.4571126832141401    |     19.175864900543594    |     4.257897345936977e-15    |     19.1655530055741    |     4.2556076452924475e-15\n",
      "10.0    |     0.0001    |     1.4571187575372517    |     19.175864900543594    |     4.257897345936977e-15    |     19.162118306915016    |     4.2548449889856545e-15\n",
      "10.0    |     0.0002    |     1.4571430520739155    |     19.175864900543594    |     4.257897345936977e-15    |     19.1483924909525    |     4.251797245602984e-15\n",
      "10.0    |     0.0005    |     1.4572159092372137    |     19.175864900543594    |     4.257897345936977e-15    |     19.10733923905199    |     4.242681592503847e-15\n",
      "10.0    |     0.00075    |     1.4572765932520457    |     19.175864900543594    |     4.257897345936977e-15    |     19.07326980753783    |     4.2351166590432654e-15\n",
      "10.0    |     0.001    |     1.4573372497498749    |     19.175864900543594    |     4.257897345936977e-15    |     19.03932834030532    |     4.227580139361047e-15\n",
      "10.0    |     0.002    |     1.457579600899744    |     19.175864900543594    |     4.257897345936977e-15    |     18.904827802739533    |     4.197715020635047e-15\n",
      "10.0    |     0.005    |     1.4583040248763588    |     19.175864900543594    |     4.257897345936977e-15    |     18.513096874683363    |     4.110733281477899e-15\n",
      "10.0    |     0.0075    |     1.4589047145245595    |     19.175864900543594    |     4.257897345936977e-15    |     18.19951378363078    |     4.0411038479139585e-15\n",
      "10.0    |     0.01    |     1.4595026976623577    |     19.175864900543594    |     4.257897345936977e-15    |     17.89696296052528    |     3.973924069927754e-15\n",
      "10.0    |     0.02    |     1.4618679084524944    |     19.175864900543594    |     4.257897345936977e-15    |     16.78620389115526    |     3.727286011202593e-15\n",
      "10.0    |     0.05    |     1.468716436218725    |     19.175864900543594    |     4.257897345936977e-15    |     14.185809264834273    |     3.149882413751975e-15\n",
      "10.0    |     0.075    |     1.4741565641494006    |     19.175864900543594    |     4.257897345936977e-15    |     12.59424951147126    |     2.7964851571019044e-15\n",
      "10.0    |     0.1    |     1.4793710196810035    |     19.175864900543594    |     4.257897345936977e-15    |     11.34551972268524    |     2.5192114444927947e-15\n",
      "10.0    |     0.2    |     1.4982457886579086    |     19.175864900543594    |     4.257897345936977e-15    |     8.230533331790692    |     1.827545521979766e-15\n",
      "10.0    |     0.5    |     1.5410098659533926    |     19.175864900543594    |     4.257897345936977e-15    |     4.798974397071007    |     1.065586374042972e-15\n",
      "10.0    |     0.75    |     1.5663574352182952    |     19.175864900543594    |     4.257897345936977e-15    |     3.7223151344244276    |     8.265199934297368e-16\n",
      "10.0    |     1    |     1.585871685281188    |     19.175864900543594    |     4.257897345936977e-15    |     3.121161313222283    |     6.930370307017337e-16\n",
      "20.0    |     1e-05    |     1.7286486756519488    |     2.142916234875077    |     4.758229887602721e-16    |     2.1428984173511356    |     4.758190324752078e-16\n",
      "20.0    |     2e-05    |     1.728648764407431    |     2.142916234875077    |     4.758229887602721e-16    |     2.142880600382718    |     4.758150763134945e-16\n",
      "20.0    |     5e-05    |     1.728649030664948    |     2.142916234875077    |     4.758229887602721e-16    |     2.1428271528103546    |     4.758032085684049e-16\n",
      "20.0    |     7.5e-05    |     1.7286492525359831    |     2.142916234875077    |     4.758229887602721e-16    |     2.1427826169852677    |     4.757933196287185e-16\n",
      "20.0    |     0.0001    |     1.7286494743977214    |     2.142916234875077    |     4.758229887602721e-16    |     2.1427380846311563    |     4.757834314597434e-16\n",
      "20.0    |     0.0002    |     1.7286503617517073    |     2.142916234875077    |     4.758229887602721e-16    |     2.142559989916349    |     4.757438864891548e-16\n",
      "20.0    |     0.0005    |     1.7286530229215007    |     2.142916234875077    |     4.758229887602721e-16    |     2.1420260386871077    |     4.756253254994087e-16\n",
      "20.0    |     0.00075    |     1.7286552395412749    |     2.142916234875077    |     4.758229887602721e-16    |     2.1415814604086196    |     4.755266092912035e-16\n",
      "20.0    |     0.001    |     1.7286574552328235    |     2.142916234875077    |     4.758229887602721e-16    |     2.141137228134383    |     4.754279699113757e-16\n",
      "20.0    |     0.002    |     1.728666308728265    |     2.142916234875077    |     4.758229887602721e-16    |     2.13936375101392    |     4.750341788848189e-16\n",
      "20.0    |     0.005    |     1.7286927805265957    |     2.142916234875077    |     4.758229887602721e-16    |     2.1340762407576848    |     4.738601157589361e-16\n",
      "20.0    |     0.0075    |     1.728714739279412    |     2.142916234875077    |     4.758229887602721e-16    |     2.129707326476959    |     4.72890021913521e-16\n",
      "20.0    |     0.01    |     1.7287366067447665    |     2.142916234875077    |     4.758229887602721e-16    |     2.1253719446187826    |     4.719273737616231e-16\n",
      "20.0    |     0.02    |     1.7288231748695113    |     2.142916234875077    |     4.758229887602721e-16    |     2.1083581370698807    |     4.681495495861567e-16\n",
      "20.0    |     0.05    |     1.7290745149199331    |     2.142916234875077    |     4.758229887602721e-16    |     2.0602694484403052    |     4.574717157180397e-16\n",
      "20.0    |     0.075    |     1.7292748667352156    |     2.142916234875077    |     4.758229887602721e-16    |     2.023271926743741    |     4.492566156297209e-16\n",
      "20.0    |     0.1    |     1.7294674543189976    |     2.142916234875077    |     4.758229887602721e-16    |     1.988769361423232    |     4.4159550714422835e-16\n",
      "20.0    |     0.2    |     1.730168466353089    |     2.142916234875077    |     4.758229887602721e-16    |     1.8712610423214961    |     4.155034188538789e-16\n",
      "20.0    |     0.5    |     1.73177251697718    |     2.142916234875077    |     4.758229887602721e-16    |     1.64227232787048    |     3.6465771022131223e-16\n",
      "20.0    |     0.75    |     1.732728835501288    |     2.142916234875077    |     4.758229887602721e-16    |     1.526875789694727    |     3.3903453149236083e-16\n",
      "20.0    |     1    |     1.7334658393718354    |     2.142916234875077    |     4.758229887602721e-16    |     1.446630124465455    |     3.212164144595808e-16\n",
      "50.0    |     1e-05    |     1.739141140397846    |     1.001361075024962    |     2.223468242912223e-16    |     1.0013610614050856    |     2.2234682126700225e-16\n",
      "50.0    |     2e-05    |     1.739141140461825    |     1.001361075024962    |     2.223468242912223e-16    |     1.0013610477854813    |     2.223468182428426e-16\n",
      "50.0    |     5e-05    |     1.7391411406537571    |     1.001361075024962    |     2.223468242912223e-16    |     1.0013610069283048    |     2.2234680917072697e-16\n",
      "50.0    |     7.5e-05    |     1.7391411408136916    |     1.001361075024962    |     2.223468242912223e-16    |     1.0013609728825315    |     2.223468016110467e-16\n",
      "50.0    |     0.0001    |     1.7391411409736184    |     1.001361075024962    |     2.223468242912223e-16    |     1.0013609388384612    |     2.2234679405174456e-16\n",
      "50.0    |     0.0002    |     1.739141141613244    |     1.001361075024962    |     2.223468242912223e-16    |     1.0013608026792107    |     2.2234676381831757e-16\n",
      "50.0    |     0.0005    |     1.7391411435313564    |     1.001361075024962    |     2.223468242912223e-16    |     1.00136039436488    |     2.223466731543233e-16\n",
      "50.0    |     0.00075    |     1.739141145128904    |     1.001361075024962    |     2.223468242912223e-16    |     1.0013600542900682    |     2.223465976425461e-16\n",
      "50.0    |     0.001    |     1.739141146725655    |     1.001361075024962    |     2.223468242912223e-16    |     1.00135971438524    |     2.223465221685128e-16\n",
      "50.0    |     0.002    |     1.7391411531046919    |     1.001361075024962    |     2.223468242912223e-16    |     1.0013583564632107    |     2.223462206492523e-16\n",
      "50.0    |     0.005    |     1.7391411721656662    |     1.001361075024962    |     2.223468242912223e-16    |     1.0013542989220954    |     2.2234531969413837e-16\n",
      "50.0    |     0.0075    |     1.7391411879631302    |     1.001361075024962    |     2.223468242912223e-16    |     1.0013509361089248    |     2.2234457299961647e-16\n",
      "50.0    |     0.01    |     1.7391412036824194    |     1.001361075024962    |     2.223468242912223e-16    |     1.0013475899545612    |     2.223438300040928e-16\n",
      "50.0    |     0.02    |     1.7391412657893077    |     1.001361075024962    |     2.223468242912223e-16    |     1.001334369473718    |     2.2234089446764705e-16\n",
      "50.0    |     0.05    |     1.7391414450146112    |     1.001361075024962    |     2.223468242912223e-16    |     1.001296219922522    |     2.2233242356562365e-16\n",
      "50.0    |     0.075    |     1.7391415867303397    |     1.001361075024962    |     2.223468242912223e-16    |     1.001266056190751    |     2.223257258717195e-16\n",
      "50.0    |     0.1    |     1.739141722006669    |     1.001361075024962    |     2.223468242912223e-16    |     1.0012372643858902    |     2.223193328067841e-16\n",
      "50.0    |     0.2    |     1.739142206764682    |     1.001361075024962    |     2.223468242912223e-16    |     1.0011341005544732    |     2.2229642583459456e-16\n",
      "50.0    |     0.5    |     1.7391432733304772    |     1.001361075024962    |     2.223468242912223e-16    |     1.0009071775605214    |     2.2224603880805413e-16\n",
      "50.0    |     0.75    |     1.7391438828572479    |     1.001361075024962    |     2.223468242912223e-16    |     1.0007775303834385    |     2.222172513518391e-16\n",
      "50.0    |     1    |     1.7391443400312512    |     1.001361075024962    |     2.223468242912223e-16    |     1.000680306025596    |     2.221956632077129e-16\n",
      "75.0    |     1e-05    |     1.7391475402804037    |     1.0000001490213473    |     2.220446380144175e-16    |     1.0000001490198573    |     2.2204463801408666e-16\n",
      "75.0    |     2e-05    |     1.7391475402804104    |     1.0000001490213473    |     2.220446380144175e-16    |     1.0000001490183668    |     2.220446380137557e-16\n",
      "75.0    |     5e-05    |     1.7391475402804306    |     1.0000001490213473    |     2.220446380144175e-16    |     1.0000001490138963    |     2.2204463801276305e-16\n",
      "75.0    |     7.5e-05    |     1.7391475402804475    |     1.0000001490213473    |     2.220446380144175e-16    |     1.0000001490101718    |     2.2204463801193603e-16\n",
      "75.0    |     0.0001    |     1.7391475402804637    |     1.0000001490213473    |     2.220446380144175e-16    |     1.0000001490064465    |     2.2204463801110886e-16\n",
      "75.0    |     0.0002    |     1.73914754028053    |     1.0000001490213473    |     2.220446380144175e-16    |     1.0000001489915489    |     2.220446380078009e-16\n",
      "75.0    |     0.0005    |     1.7391475402807286    |     1.0000001490213473    |     2.220446380144175e-16    |     1.0000001489468737    |     2.2204463799788104e-16\n",
      "75.0    |     0.00075    |     1.7391475402808942    |     1.0000001490213473    |     2.220446380144175e-16    |     1.000000148909665    |     2.2204463798961905e-16\n",
      "75.0    |     0.001    |     1.73914754028106    |     1.0000001490213473    |     2.220446380144175e-16    |     1.000000148872475    |     2.220446379813612e-16\n",
      "75.0    |     0.002    |     1.739147540281721    |     1.0000001490213473    |     2.220446380144175e-16    |     1.0000001487238992    |     2.2204463794837075e-16\n",
      "75.0    |     0.005    |     1.739147540283696    |     1.0000001490213473    |     2.220446380144175e-16    |     1.0000001482799472    |     2.220446378497936e-16\n",
      "75.0    |     0.0075    |     1.7391475402853334    |     1.0000001490213473    |     2.220446380144175e-16    |     1.0000001479120069    |     2.2204463776809444e-16\n",
      "75.0    |     0.01    |     1.7391475402869627    |     1.0000001490213473    |     2.220446380144175e-16    |     1.0000001475458882    |     2.2204463768679976e-16\n",
      "75.0    |     0.02    |     1.7391475402933994    |     1.0000001490213473    |     2.220446380144175e-16    |     1.0000001460993597    |     2.220446373656059e-16\n",
      "75.0    |     0.05    |     1.7391475403119734    |     1.0000001490213473    |     2.220446380144175e-16    |     1.0000001419250921    |     2.220446364387323e-16\n",
      "75.0    |     0.075    |     1.7391475403266607    |     1.0000001490213473    |     2.220446380144175e-16    |     1.000000138624508    |     2.2204463570585544e-16\n",
      "75.0    |     0.1    |     1.7391475403406798    |     1.0000001490213473    |     2.220446380144175e-16    |     1.0000001354739514    |     2.220446350062913e-16\n",
      "75.0    |     0.2    |     1.739147540390914    |     1.0000001490213473    |     2.220446380144175e-16    |     1.0000001241844543    |     2.220446324995194e-16\n",
      "75.0    |     0.5    |     1.7391475405014305    |     1.0000001490213473    |     2.220446380144175e-16    |     1.0000000993475624    |     2.2204462698462155e-16\n",
      "75.0    |     0.75    |     1.739147540564583    |     1.0000001490213473    |     2.220446380144175e-16    |     1.0000000851550528    |     2.2204462383325136e-16\n"
     ]
    },
    {
     "name": "stdout",
     "output_type": "stream",
     "text": [
      "75.0    |     1    |     1.7391475406119472    |     1.0000001490213473    |     2.220446380144175e-16    |     1.0000000745106707    |     2.2204462146972376e-16\n",
      "100.0    |     1e-05    |     1.7391475409434953    |     1.000000000000426    |     2.220446049251259e-16    |     1.000000000000426    |     2.220446049251259e-16\n",
      "100.0    |     2e-05    |     1.7391475409434949    |     1.000000000000426    |     2.220446049251259e-16    |     1.000000000000426    |     2.220446049251259e-16\n",
      "100.0    |     5e-05    |     1.739147540943495    |     1.000000000000426    |     2.220446049251259e-16    |     1.0000000000004259    |     2.2204460492512587e-16\n",
      "100.0    |     7.5e-05    |     1.7391475409434953    |     1.000000000000426    |     2.220446049251259e-16    |     1.0000000000004259    |     2.2204460492512587e-16\n",
      "100.0    |     0.0001    |     1.7391475409434953    |     1.000000000000426    |     2.220446049251259e-16    |     1.0000000000004259    |     2.2204460492512587e-16\n"
     ]
    },
    {
     "name": "stdout",
     "output_type": "stream",
     "text": [
      "100.0    |     0.0002    |     1.7391475409434953    |     1.000000000000426    |     2.220446049251259e-16    |     1.0000000000004259    |     2.2204460492512587e-16\n",
      "100.0    |     0.0005    |     1.7391475409434953    |     1.000000000000426    |     2.220446049251259e-16    |     1.0000000000004257    |     2.220446049251258e-16\n",
      "100.0    |     0.00075    |     1.739147540943495    |     1.000000000000426    |     2.220446049251259e-16    |     1.0000000000004259    |     2.2204460492512587e-16\n",
      "100.0    |     0.001    |     1.739147540943495    |     1.000000000000426    |     2.220446049251259e-16    |     1.0000000000004254    |     2.2204460492512577e-16\n",
      "100.0    |     0.002    |     1.7391475409434953    |     1.000000000000426    |     2.220446049251259e-16    |     1.0000000000004252    |     2.2204460492512572e-16\n",
      "100.0    |     0.005    |     1.739147540943495    |     1.000000000000426    |     2.220446049251259e-16    |     1.0000000000004237    |     2.220446049251254e-16\n",
      "100.0    |     0.0075    |     1.739147540943495    |     1.000000000000426    |     2.220446049251259e-16    |     1.0000000000004228    |     2.220446049251252e-16\n",
      "100.0    |     0.01    |     1.7391475409434949    |     1.000000000000426    |     2.220446049251259e-16    |     1.0000000000004219    |     2.22044604925125e-16\n",
      "100.0    |     0.02    |     1.739147540943495    |     1.000000000000426    |     2.220446049251259e-16    |     1.0000000000004174    |     2.22044604925124e-16\n",
      "100.0    |     0.05    |     1.7391475409434949    |     1.000000000000426    |     2.220446049251259e-16    |     1.0000000000004057    |     2.220446049251214e-16\n",
      "100.0    |     0.075    |     1.7391475409434953    |     1.000000000000426    |     2.220446049251259e-16    |     1.0000000000003963    |     2.220446049251193e-16\n",
      "100.0    |     0.1    |     1.739147540943495    |     1.000000000000426    |     2.220446049251259e-16    |     1.0000000000003872    |     2.220446049251173e-16\n",
      "100.0    |     0.2    |     1.7391475409434958    |     1.000000000000426    |     2.220446049251259e-16    |     1.0000000000003548    |     2.220446049251101e-16\n",
      "100.0    |     0.5    |     1.7391475409434956    |     1.000000000000426    |     2.220446049251259e-16    |     1.000000000000284    |     2.2204460492509437e-16\n",
      "100.0    |     0.75    |     1.7391475409434958    |     1.000000000000426    |     2.220446049251259e-16    |     1.0000000000002436    |     2.220446049250854e-16\n",
      "100.0    |     1    |     1.739147540943496    |     1.000000000000426    |     2.220446049251259e-16    |     1.000000000000213    |     2.220446049250786e-16\n",
      "200.0    |     1e-05    |     1.739147540943497    |     1.0000000000000004    |     2.220446049250314e-16    |     1.0000000000000002    |     2.2204460492503136e-16\n",
      "200.0    |     2e-05    |     1.739147540943497    |     1.0000000000000004    |     2.220446049250314e-16    |     1.0000000000000002    |     2.2204460492503136e-16\n",
      "200.0    |     5e-05    |     1.7391475409434973    |     1.0000000000000004    |     2.220446049250314e-16    |     1.0000000000000004    |     2.220446049250314e-16\n"
     ]
    },
    {
     "name": "stdout",
     "output_type": "stream",
     "text": [
      "200.0    |     7.5e-05    |     1.7391475409434973    |     1.0000000000000004    |     2.220446049250314e-16    |     1.0000000000000004    |     2.220446049250314e-16\n",
      "200.0    |     0.0001    |     1.739147540943497    |     1.0000000000000004    |     2.220446049250314e-16    |     1.0000000000000002    |     2.2204460492503136e-16\n",
      "200.0    |     0.0002    |     1.739147540943497    |     1.0000000000000004    |     2.220446049250314e-16    |     1.0000000000000002    |     2.2204460492503136e-16\n",
      "200.0    |     0.0005    |     1.7391475409434973    |     1.0000000000000004    |     2.220446049250314e-16    |     1.0000000000000004    |     2.220446049250314e-16\n",
      "200.0    |     0.00075    |     1.7391475409434969    |     1.0000000000000004    |     2.220446049250314e-16    |     1.0000000000000004    |     2.220446049250314e-16\n",
      "200.0    |     0.001    |     1.739147540943497    |     1.0000000000000004    |     2.220446049250314e-16    |     1.0000000000000007    |     2.2204460492503146e-16\n",
      "200.0    |     0.002    |     1.7391475409434973    |     1.0000000000000004    |     2.220446049250314e-16    |     1.0000000000000004    |     2.220446049250314e-16\n",
      "200.0    |     0.005    |     1.7391475409434969    |     1.0000000000000004    |     2.220446049250314e-16    |     1.0000000000000007    |     2.2204460492503146e-16\n",
      "200.0    |     0.0075    |     1.7391475409434973    |     1.0000000000000004    |     2.220446049250314e-16    |     1.0000000000000004    |     2.220446049250314e-16\n",
      "200.0    |     0.01    |     1.7391475409434967    |     1.0000000000000004    |     2.220446049250314e-16    |     1.0000000000000004    |     2.220446049250314e-16\n",
      "200.0    |     0.02    |     1.739147540943497    |     1.0000000000000004    |     2.220446049250314e-16    |     1.0000000000000004    |     2.220446049250314e-16\n",
      "200.0    |     0.05    |     1.739147540943497    |     1.0000000000000004    |     2.220446049250314e-16    |     1.0000000000000004    |     2.220446049250314e-16\n",
      "200.0    |     0.075    |     1.739147540943497    |     1.0000000000000004    |     2.220446049250314e-16    |     1.0    |     2.220446049250313e-16\n",
      "200.0    |     0.1    |     1.7391475409434973    |     1.0000000000000004    |     2.220446049250314e-16    |     1.0000000000000007    |     2.2204460492503146e-16\n",
      "200.0    |     0.2    |     1.739147540943497    |     1.0000000000000004    |     2.220446049250314e-16    |     1.0000000000000004    |     2.220446049250314e-16\n",
      "200.0    |     0.5    |     1.739147540943497    |     1.0000000000000004    |     2.220446049250314e-16    |     1.0    |     2.220446049250313e-16\n",
      "200.0    |     0.75    |     1.7391475409434967    |     1.0000000000000004    |     2.220446049250314e-16    |     1.0000000000000004    |     2.220446049250314e-16\n",
      "200.0    |     1    |     1.7391475409434969    |     1.0000000000000004    |     2.220446049250314e-16    |     1.0000000000000004    |     2.220446049250314e-16\n",
      "500.0    |     1e-05    |     1.739147540943497    |     1.0    |     2.220446049250313e-16    |     1.0    |     2.220446049250313e-16\n",
      "500.0    |     2e-05    |     1.739147540943497    |     1.0    |     2.220446049250313e-16    |     1.0    |     2.220446049250313e-16\n",
      "500.0    |     5e-05    |     1.739147540943497    |     1.0    |     2.220446049250313e-16    |     1.0    |     2.220446049250313e-16\n",
      "500.0    |     7.5e-05    |     1.739147540943497    |     1.0    |     2.220446049250313e-16    |     1.0    |     2.220446049250313e-16\n",
      "500.0    |     0.0001    |     1.739147540943497    |     1.0    |     2.220446049250313e-16    |     1.0    |     2.220446049250313e-16\n",
      "500.0    |     0.0002    |     1.739147540943497    |     1.0    |     2.220446049250313e-16    |     1.0    |     2.220446049250313e-16\n",
      "500.0    |     0.0005    |     1.739147540943497    |     1.0    |     2.220446049250313e-16    |     1.0    |     2.220446049250313e-16\n",
      "500.0    |     0.00075    |     1.739147540943497    |     1.0    |     2.220446049250313e-16    |     1.0    |     2.220446049250313e-16\n"
     ]
    },
    {
     "name": "stdout",
     "output_type": "stream",
     "text": [
      "500.0    |     0.001    |     1.739147540943497    |     1.0    |     2.220446049250313e-16    |     1.0    |     2.220446049250313e-16\n",
      "500.0    |     0.002    |     1.739147540943497    |     1.0    |     2.220446049250313e-16    |     1.0    |     2.220446049250313e-16\n",
      "500.0    |     0.005    |     1.739147540943497    |     1.0    |     2.220446049250313e-16    |     1.0    |     2.220446049250313e-16\n",
      "500.0    |     0.0075    |     1.739147540943497    |     1.0    |     2.220446049250313e-16    |     1.0    |     2.220446049250313e-16\n",
      "500.0    |     0.01    |     1.739147540943497    |     1.0    |     2.220446049250313e-16    |     1.0    |     2.220446049250313e-16\n",
      "500.0    |     0.02    |     1.739147540943497    |     1.0    |     2.220446049250313e-16    |     1.0    |     2.220446049250313e-16\n",
      "500.0    |     0.05    |     1.739147540943497    |     1.0    |     2.220446049250313e-16    |     1.0    |     2.220446049250313e-16\n",
      "500.0    |     0.075    |     1.739147540943497    |     1.0    |     2.220446049250313e-16    |     1.0    |     2.220446049250313e-16\n",
      "500.0    |     0.1    |     1.739147540943497    |     1.0    |     2.220446049250313e-16    |     1.0    |     2.220446049250313e-16\n",
      "500.0    |     0.2    |     1.739147540943497    |     1.0    |     2.220446049250313e-16    |     1.0    |     2.220446049250313e-16\n",
      "500.0    |     0.5    |     1.739147540943497    |     1.0    |     2.220446049250313e-16    |     1.0    |     2.220446049250313e-16\n",
      "500.0    |     0.75    |     1.739147540943497    |     1.0    |     2.220446049250313e-16    |     1.0    |     2.220446049250313e-16\n",
      "500.0    |     1    |     1.739147540943497    |     1.0    |     2.220446049250313e-16    |     1.0    |     2.220446049250313e-16\n",
      "1000.0    |     1e-05    |     1.739147540943497    |     1.0    |     2.220446049250313e-16    |     1.0    |     2.220446049250313e-16\n",
      "1000.0    |     2e-05    |     1.739147540943497    |     1.0    |     2.220446049250313e-16    |     1.0    |     2.220446049250313e-16\n",
      "1000.0    |     5e-05    |     1.739147540943497    |     1.0    |     2.220446049250313e-16    |     1.0    |     2.220446049250313e-16\n",
      "1000.0    |     7.5e-05    |     1.739147540943497    |     1.0    |     2.220446049250313e-16    |     1.0    |     2.220446049250313e-16\n",
      "1000.0    |     0.0001    |     1.739147540943497    |     1.0    |     2.220446049250313e-16    |     1.0    |     2.220446049250313e-16\n",
      "1000.0    |     0.0002    |     1.739147540943497    |     1.0    |     2.220446049250313e-16    |     1.0    |     2.220446049250313e-16\n",
      "1000.0    |     0.0005    |     1.739147540943497    |     1.0    |     2.220446049250313e-16    |     1.0    |     2.220446049250313e-16\n",
      "1000.0    |     0.00075    |     1.739147540943497    |     1.0    |     2.220446049250313e-16    |     1.0    |     2.220446049250313e-16\n",
      "1000.0    |     0.001    |     1.739147540943497    |     1.0    |     2.220446049250313e-16    |     1.0    |     2.220446049250313e-16\n",
      "1000.0    |     0.002    |     1.739147540943497    |     1.0    |     2.220446049250313e-16    |     1.0    |     2.220446049250313e-16\n",
      "1000.0    |     0.005    |     1.739147540943497    |     1.0    |     2.220446049250313e-16    |     1.0    |     2.220446049250313e-16\n",
      "1000.0    |     0.0075    |     1.739147540943497    |     1.0    |     2.220446049250313e-16    |     1.0    |     2.220446049250313e-16\n"
     ]
    },
    {
     "name": "stdout",
     "output_type": "stream",
     "text": [
      "1000.0    |     0.01    |     1.739147540943497    |     1.0    |     2.220446049250313e-16    |     1.0    |     2.220446049250313e-16\n",
      "1000.0    |     0.02    |     1.739147540943497    |     1.0    |     2.220446049250313e-16    |     1.0    |     2.220446049250313e-16\n",
      "1000.0    |     0.05    |     1.739147540943497    |     1.0    |     2.220446049250313e-16    |     1.0    |     2.220446049250313e-16\n",
      "1000.0    |     0.075    |     1.739147540943497    |     1.0    |     2.220446049250313e-16    |     1.0    |     2.220446049250313e-16\n",
      "1000.0    |     0.1    |     1.739147540943497    |     1.0    |     2.220446049250313e-16    |     1.0    |     2.220446049250313e-16\n",
      "1000.0    |     0.2    |     1.739147540943497    |     1.0    |     2.220446049250313e-16    |     1.0    |     2.220446049250313e-16\n",
      "1000.0    |     0.5    |     1.739147540943497    |     1.0    |     2.220446049250313e-16    |     1.0    |     2.220446049250313e-16\n",
      "1000.0    |     0.75    |     1.739147540943497    |     1.0    |     2.220446049250313e-16    |     1.0    |     2.220446049250313e-16\n",
      "1000.0    |     1    |     1.739147540943497    |     1.0    |     2.220446049250313e-16    |     1.0    |     2.220446049250313e-16\n",
      "\n",
      "Results saved in  solution.pickle\n"
     ]
    },
    {
     "data": {
      "text/plain": [
       "\n",
       "========================================================================================================================\n",
       "Results of radial basis function run:\n",
       "\n",
       "Basis function type               : gaussian\n",
       "Shape parameter                    : 0.75\n",
       "Regularization parameter           : 2e-05\n",
       "Number of terms in RBF model       : 31\n",
       "\n",
       "RBF Expression:\n",
       "--------------------------\n",
       "\n",
       "4.038157591240296 + 237.8499310618983*(-1551.5244569790484*exp(- (0.75*(((IndexedParam[0] + 4.929217157135412)/14.643030012320084 - 0.5518182560031254)**2 + ((IndexedParam[1] - 0.22882456869508516)/14.45053220191546 - 0.2731190901874679)**2)**0.5)**2) - 334.71891270994945*exp(- (0.75*(((IndexedParam[0] + 4.929217157135412)/14.643030012320084 - 0.4300326512391472)**2 + ((IndexedParam[1] - 0.22882456869508516)/14.45053220191546 - 0.8610629174234938)**2)**0.5)**2) + 235.58220304447389*exp(- (0.75*(((IndexedParam[0] + 4.929217157135412)/14.643030012320084)**2 + ((IndexedParam[1] - 0.22882456869508516)/14.45053220191546 - 0.11035664436222248)**2)**0.5)**2) + 27.886153320078392*exp(- (0.75*(((IndexedParam[0] + 4.929217157135412)/14.643030012320084 - 0.6822668136056202)**2 + ((IndexedParam[1] - 0.22882456869508516)/14.45053220191546 - 0.8414199967160326)**2)**0.5)**2) - 1415.9829577991513*exp(- (0.75*(((IndexedParam[0] + 4.929217157135412)/14.643030012320084 - 0.13520535030959882)**2 + ((IndexedParam[1] - 0.22882456869508516)/14.45053220191546 - 0.5811256814195772)**2)**0.5)**2) - 990.5466783129937*exp(- (0.75*(((IndexedParam[0] + 4.929217157135412)/14.643030012320084 - 0.908216841775921)**2 + ((IndexedParam[1] - 0.22882456869508516)/14.45053220191546 - 0.20132180755786522)**2)**0.5)**2) - 343.1090937504871*exp(- (0.75*(((IndexedParam[0] + 4.929217157135412)/14.643030012320084 - 0.18501228557936236)**2 + ((IndexedParam[1] - 0.22882456869508516)/14.45053220191546 - 0.09666279198240106)**2)**0.5)**2) - 723.9922784938293*exp(- (0.75*(((IndexedParam[0] + 4.929217157135412)/14.643030012320084 - 0.22021941796179972)**2 + ((IndexedParam[1] - 0.22882456869508516)/14.45053220191546 - 1.0)**2)**0.5)**2) - 8.525226892380312*exp(- (0.75*(((IndexedParam[0] + 4.929217157135412)/14.643030012320084 - 0.8266365897830592)**2 + ((IndexedParam[1] - 0.22882456869508516)/14.45053220191546 - 0.16264387978612238)**2)**0.5)**2) + 255.07386589846564*exp(- (0.75*(((IndexedParam[0] + 4.929217157135412)/14.643030012320084 - 0.831288905218487)**2 + ((IndexedParam[1] - 0.22882456869508516)/14.45053220191546 - 0.26866011456766936)**2)**0.5)**2) + 528.0399010835685*exp(- (0.75*(((IndexedParam[0] + 4.929217157135412)/14.643030012320084 - 0.43739443999592303)**2 + ((IndexedParam[1] - 0.22882456869508516)/14.45053220191546 - 0.9599385359524552)**2)**0.5)**2) + 432.74002294811885*exp(- (0.75*(((IndexedParam[0] + 4.929217157135412)/14.643030012320084 - 0.8327482651149929)**2 + ((IndexedParam[1] - 0.22882456869508516)/14.45053220191546 - 0.3330572615505772)**2)**0.5)**2) - 761.4482839023253*exp(- (0.75*(((IndexedParam[0] + 4.929217157135412)/14.643030012320084 - 0.17485274298531528)**2 + ((IndexedParam[1] - 0.22882456869508516)/14.45053220191546 - 0.3711736045917253)**2)**0.5)**2) + 854.4206928285184*exp(- (0.75*(((IndexedParam[0] + 4.929217157135412)/14.643030012320084 - 0.0009932894634358945)**2 + ((IndexedParam[1] - 0.22882456869508516)/14.45053220191546 - 0.2461895993357224)**2)**0.5)**2) + 158.48258716555927*exp(- (0.75*(((IndexedParam[0] + 4.929217157135412)/14.643030012320084 - 0.8102253955808789)**2 + ((IndexedParam[1] - 0.22882456869508516)/14.45053220191546)**2)**0.5)**2) - 2542.501840064855*exp(- (0.75*(((IndexedParam[0] + 4.929217157135412)/14.643030012320084 - 0.6086081776493459)**2 + ((IndexedParam[1] - 0.22882456869508516)/14.45053220191546 - 0.6109286075828757)**2)**0.5)**2) - 1366.5543839471993*exp(- (0.75*(((IndexedParam[0] + 4.929217157135412)/14.643030012320084 - 0.1028770983224648)**2 + ((IndexedParam[1] - 0.22882456869508516)/14.45053220191546 - 0.38063145554753214)**2)**0.5)**2) + 342.14065821289296*exp(- (0.75*(((IndexedParam[0] + 4.929217157135412)/14.643030012320084 - 0.0325313822086792)**2 + ((IndexedParam[1] - 0.22882456869508516)/14.45053220191546 - 0.9084335925839453)**2)**0.5)**2) + 107.60917336635657*exp(- (0.75*(((IndexedParam[0] + 4.929217157135412)/14.643030012320084 - 1.0)**2 + ((IndexedParam[1] - 0.22882456869508516)/14.45053220191546 - 0.046386199083146756)**2)**0.5)**2) + 49.67120678278616*exp(- (0.75*(((IndexedParam[0] + 4.929217157135412)/14.643030012320084 - 0.9074219145138307)**2 + ((IndexedParam[1] - 0.22882456869508516)/14.45053220191546 - 0.5830026053427076)**2)**0.5)**2) + 897.3018668200407*exp(- (0.75*(((IndexedParam[0] + 4.929217157135412)/14.643030012320084 - 0.7557460774371298)**2 + ((IndexedParam[1] - 0.22882456869508516)/14.45053220191546 - 0.6383110566137417)**2)**0.5)**2) - 8.627269388010859*exp(- (0.75*(((IndexedParam[0] + 4.929217157135412)/14.643030012320084 - 0.5911925356865033)**2 + ((IndexedParam[1] - 0.22882456869508516)/14.45053220191546 - 0.005381283583344741)**2)**0.5)**2) - 136.91234826302025*exp(- (0.75*(((IndexedParam[0] + 4.929217157135412)/14.643030012320084 - 0.21031274399063923)**2 + ((IndexedParam[1] - 0.22882456869508516)/14.45053220191546 - 0.5495609776179707)**2)**0.5)**2) + 735.7407100718409*exp(- (0.75*(((IndexedParam[0] + 4.929217157135412)/14.643030012320084 - 0.7830308832306688)**2 + ((IndexedParam[1] - 0.22882456869508516)/14.45053220191546 - 0.24439265066740792)**2)**0.5)**2) + 541.7309337858117*exp(- (0.75*(((IndexedParam[0] + 4.929217157135412)/14.643030012320084 - 0.28803140536417743)**2 + ((IndexedParam[1] - 0.22882456869508516)/14.45053220191546 - 0.8689715765112118)**2)**0.5)**2) - 45.92139975993581*exp(- (0.75*(((IndexedParam[0] + 4.929217157135412)/14.643030012320084 - 0.993941455353761)**2 + ((IndexedParam[1] - 0.22882456869508516)/14.45053220191546 - 0.9026639746834018)**2)**0.5)**2) + 1712.6788445330471*exp(- (0.75*(((IndexedParam[0] + 4.929217157135412)/14.643030012320084 - 0.36343808704287006)**2 + ((IndexedParam[1] - 0.22882456869508516)/14.45053220191546 - 0.6057949629205177)**2)**0.5)**2) + 3266.9168170510325*exp(- (0.75*(((IndexedParam[0] + 4.929217157135412)/14.643030012320084 - 0.3586109792561233)**2 + ((IndexedParam[1] - 0.22882456869508516)/14.45053220191546 - 0.3372905989731323)**2)**0.5)**2) - 827.2715689473107*exp(- (0.75*(((IndexedParam[0] + 4.929217157135412)/14.643030012320084 - 0.17758838147122427)**2 + ((IndexedParam[1] - 0.22882456869508516)/14.45053220191546 - 0.23089727866378493)**2)**0.5)**2) + 919.0325530451682*exp(- (0.75*(((IndexedParam[0] + 4.929217157135412)/14.643030012320084 - 0.04112204875223326)**2 + ((IndexedParam[1] - 0.22882456869508516)/14.45053220191546 - 0.5088149538788017)**2)**0.5)**2))\n",
       "--------------------------\n",
       "\n",
       "Model training errors:\n",
       "-----------------------\n",
       "Mean Squared Error (MSE)         : 0.00044438098273198273\n",
       "Root Mean Squared Error (RMSE)   : 0.02108034588738958\n",
       "Goodness of fit (R2)             : 0.9918215668808925\n",
       "\n",
       "========================================================================================================================"
      ]
     },
     "execution_count": 20,
     "metadata": {},
     "output_type": "execute_result"
    }
   ],
   "source": [
    "rbf_class.training()"
   ]
  },
  {
   "cell_type": "markdown",
   "metadata": {},
   "source": [
    "#### Step 5: View model metrics\n",
    "    \n",
    "We can view the Root Mean Square Error (RMSE) and $R^2$ values of the RBF fit based on the training data:"
   ]
  },
  {
   "cell_type": "code",
   "execution_count": 21,
   "metadata": {},
   "outputs": [
    {
     "name": "stdout",
     "output_type": "stream",
     "text": [
      "R2:  0.9918215668808925 \n",
      "RMSE:  0.02108034588738958\n"
     ]
    }
   ],
   "source": [
    "print(\"R2: \", rbf_class.R2, \"\\nRMSE: \", rbf_class.rmse)"
   ]
  },
  {
   "cell_type": "markdown",
   "metadata": {},
   "source": [
    "#### Step 6 (Optional): Generate Pyomo expression output at any unsampled point\n",
    "\n",
    "\n",
    "Based on the model we trained, we can predict the surrogate value at any previously unsampled point. We do this by calling the function ``predict_output``.\n",
    "\n",
    "Let us again evaluate the RBF surrogate at the same set of points we considered for the polynomial model:\n",
    "\n",
    "- $x_{1}=5$, $x_{2}=8$   (true function value: 57.9908)\n",
    "- $x_{1}=-3$, $x_{2}=10$ (true function value: 4.2461)\n",
    "- $x_{1}=-2$, $x_{2}=3$  (true function value: 50.8899)"
   ]
  },
  {
   "cell_type": "code",
   "execution_count": 22,
   "metadata": {},
   "outputs": [
    {
     "name": "stdout",
     "output_type": "stream",
     "text": [
      "[[61.06401281]\n",
      " [12.7142377 ]\n",
      " [50.9750144 ]]\n"
     ]
    }
   ],
   "source": [
    "unsampled_points = np.array([[5, 8], [-3, 10], [-2, 3]])\n",
    "ys = rbf_class.predict_output(unsampled_points)\n",
    "print(ys)"
   ]
  },
  {
   "cell_type": "markdown",
   "metadata": {},
   "source": [
    "The results from the RBF surrogate are similar to those obtained from the polynomial.\n",
    "\n",
    "\n",
    "For RBF models, the Pyomo expression is generated by calling ``generate_expression`` on the results object, while parity plots may be viewed with the ``parity_residual_plots`` method.\n",
    "\n",
    "Further information about using PySMO's RBF tool and features can be found in the [documentation](https://idaes-pse.readthedocs.io/en/stable/explanations/modeling_extensions/surrogate/api/pysmo/pysmo_radialbasisfunctions.html)."
   ]
  },
  {
   "cell_type": "markdown",
   "metadata": {},
   "source": [
    "### Training Kriging models\n",
    "\n",
    "The ``KrigingModel`` class trains Kriging from data. For details about Kriging models, users should consult the documentation.\n",
    "\n",
    "As an example, we will again consider the Brainin function. The same dataset loaded previously will be used."
   ]
  },
  {
   "cell_type": "markdown",
   "metadata": {},
   "source": [
    "#### Step 1: Load the data and import the Kriging tool"
   ]
  },
  {
   "cell_type": "code",
   "execution_count": 23,
   "metadata": {},
   "outputs": [],
   "source": [
    "import numpy as np\n",
    "\n",
    "brainin_data = np.loadtxt(\"brainin_30.txt\")\n",
    "from idaes.core.surrogate.pysmo.kriging import KrigingModel"
   ]
  },
  {
   "cell_type": "markdown",
   "metadata": {},
   "source": [
    "#### Step 2: Specify the Kriging settings and initialize the KrigingModel class\n",
    "    \n",
    "The KrigingModel class takes a number of keyword arguments:\n",
    "\n",
    "      -  XY_data                       : The dataset for Kriging training. training_data is expected to contain xy_data, \n",
    "                                         with the output values (y) in the last column.\n",
    "\n",
    "\n",
    "It also takes a number of optional arguments:\n",
    "\n",
    "      -  regularization                : Boolean variable determining whether regularization is done. Default is True.\n",
    "      -  numerical_gradients           : Boolean variable which determines whether numerical gradients are used when\n",
    "                                         solving the max. likelihood optimization problem. Default is True.\n",
    "      -  fname                         : Filename for saving (.pickle extension)\n",
    "      - overwrite                      : Option determining whether any existing file with the same name supplied in 'fname'  \n",
    "                                         should be overwritten."
   ]
  },
  {
   "cell_type": "markdown",
   "metadata": {},
   "source": [
    "\n",
    "For this demonstration, we will train a Kriging model with regularization:"
   ]
  },
  {
   "cell_type": "code",
   "execution_count": 24,
   "metadata": {},
   "outputs": [
    {
     "name": "stdout",
     "output_type": "stream",
     "text": [
      "Warning: solution.pickle already exists; previous file will be overwritten.\n",
      "\n"
     ]
    }
   ],
   "source": [
    "krg_class = KrigingModel(XY_data=brainin_data, overwrite=True)"
   ]
  },
  {
   "cell_type": "markdown",
   "metadata": {},
   "source": [
    "#### Step 3: Extract variable names (optional)\n",
    "Next, we extract Pyomo variable names from the dataset."
   ]
  },
  {
   "cell_type": "code",
   "execution_count": 25,
   "metadata": {},
   "outputs": [],
   "source": [
    "vars = krg_class.get_feature_vector()"
   ]
  },
  {
   "cell_type": "markdown",
   "metadata": {},
   "source": [
    "#### Step 4: Train the Kriging surrogate\n",
    "Next, we train the RBF surrogate by calling ``training``:"
   ]
  },
  {
   "cell_type": "code",
   "execution_count": 26,
   "metadata": {},
   "outputs": [
    {
     "name": "stdout",
     "output_type": "stream",
     "text": [
      "Optimizing kriging parameters using L-BFGS-B algorithm...\n"
     ]
    },
    {
     "name": "stdout",
     "output_type": "stream",
     "text": [
      "\n",
      "Final results\n",
      "================\n",
      "Theta: [6.01392028 0.22771839] \n",
      "Mean: [[386.90347574]] \n",
      "Regularization parameter: 1.000000000001e-06\n",
      "\n",
      "Results saved in  solution.pickle\n"
     ]
    },
    {
     "data": {
      "text/plain": [
       "\n",
       "========================================================================================================================\n",
       "Results of Kriging run:\n",
       "\n",
       "Kriging mean                     : [[386.90347574]]\n",
       "Kriging variance                 : [[70556.80108849]]\n",
       "Kriging weights                  : [6.01392028 0.22771839]\n",
       "Regularization parameter         : 1.000000000001e-06\n",
       "Number of terms in Kriging model : 31\n",
       "\n",
       "Kriging Expression:\n",
       "--------------------\n",
       "\n",
       "386.9034757421604 + (3473.6188375169877*exp(- (6.013920280600496*((IndexedParam[0] + 4.929217157135412)/14.643030012320084 - 0.5518182560031254)**2 + 0.22771839133441968*((IndexedParam[1] - 0.22882456869508516)/14.45053220191546 - 0.2731190901874679)**2)) - 142048.1264255196*exp(- (6.013920280600496*((IndexedParam[0] + 4.929217157135412)/14.643030012320084 - 0.4300326512391472)**2 + 0.22771839133441968*((IndexedParam[1] - 0.22882456869508516)/14.45053220191546 - 0.8610629174234938)**2)) + 89948.51272980124*exp(- (6.013920280600496*((IndexedParam[0] + 4.929217157135412)/14.643030012320084)**2 + 0.22771839133441968*((IndexedParam[1] - 0.22882456869508516)/14.45053220191546 - 0.11035664436222248)**2)) - 17389.307680525817*exp(- (6.013920280600496*((IndexedParam[0] + 4.929217157135412)/14.643030012320084 - 0.6822668136056202)**2 + 0.22771839133441968*((IndexedParam[1] - 0.22882456869508516)/14.45053220191546 - 0.8414199967160326)**2)) + 70994.41540519707*exp(- (6.013920280600496*((IndexedParam[0] + 4.929217157135412)/14.643030012320084 - 0.13520535030959882)**2 + 0.22771839133441968*((IndexedParam[1] - 0.22882456869508516)/14.45053220191546 - 0.5811256814195772)**2)) + 84412.48334978987*exp(- (6.013920280600496*((IndexedParam[0] + 4.929217157135412)/14.643030012320084 - 0.908216841775921)**2 + 0.22771839133441968*((IndexedParam[1] - 0.22882456869508516)/14.45053220191546 - 0.20132180755786522)**2)) + 12250.97852602601*exp(- (6.013920280600496*((IndexedParam[0] + 4.929217157135412)/14.643030012320084 - 0.18501228557936236)**2 + 0.22771839133441968*((IndexedParam[1] - 0.22882456869508516)/14.45053220191546 - 0.09666279198240106)**2)) + 10829.06845778972*exp(- (6.013920280600496*((IndexedParam[0] + 4.929217157135412)/14.643030012320084 - 0.22021941796179972)**2 + 0.22771839133441968*((IndexedParam[1] - 0.22882456869508516)/14.45053220191546 - 1.0)**2)) - 88695.55215699691*exp(- (6.013920280600496*((IndexedParam[0] + 4.929217157135412)/14.643030012320084 - 0.8266365897830592)**2 + 0.22771839133441968*((IndexedParam[1] - 0.22882456869508516)/14.45053220191546 - 0.16264387978612238)**2)) - 59748.16254133731*exp(- (6.013920280600496*((IndexedParam[0] + 4.929217157135412)/14.643030012320084 - 0.831288905218487)**2 + 0.22771839133441968*((IndexedParam[1] - 0.22882456869508516)/14.45053220191546 - 0.26866011456766936)**2)) + 108252.31525952369*exp(- (6.013920280600496*((IndexedParam[0] + 4.929217157135412)/14.643030012320084 - 0.43739443999592303)**2 + 0.22771839133441968*((IndexedParam[1] - 0.22882456869508516)/14.45053220191546 - 0.9599385359524552)**2)) - 49527.87472515367*exp(- (6.013920280600496*((IndexedParam[0] + 4.929217157135412)/14.643030012320084 - 0.8327482651149929)**2 + 0.22771839133441968*((IndexedParam[1] - 0.22882456869508516)/14.45053220191546 - 0.3330572615505772)**2)) + 142762.61227712035*exp(- (6.013920280600496*((IndexedParam[0] + 4.929217157135412)/14.643030012320084 - 0.17485274298531528)**2 + 0.22771839133441968*((IndexedParam[1] - 0.22882456869508516)/14.45053220191546 - 0.3711736045917253)**2)) - 121186.88497902453*exp(- (6.013920280600496*((IndexedParam[0] + 4.929217157135412)/14.643030012320084 - 0.0009932894634358945)**2 + 0.22771839133441968*((IndexedParam[1] - 0.22882456869508516)/14.45053220191546 - 0.2461895993357224)**2)) + 18640.5190643901*exp(- (6.013920280600496*((IndexedParam[0] + 4.929217157135412)/14.643030012320084 - 0.8102253955808789)**2 + 0.22771839133441968*((IndexedParam[1] - 0.22882456869508516)/14.45053220191546)**2)) - 20598.770821066108*exp(- (6.013920280600496*((IndexedParam[0] + 4.929217157135412)/14.643030012320084 - 0.6086081776493459)**2 + 0.22771839133441968*((IndexedParam[1] - 0.22882456869508516)/14.45053220191546 - 0.6109286075828757)**2)) - 147128.4743987471*exp(- (6.013920280600496*((IndexedParam[0] + 4.929217157135412)/14.643030012320084 - 0.1028770983224648)**2 + 0.22771839133441968*((IndexedParam[1] - 0.22882456869508516)/14.45053220191546 - 0.38063145554753214)**2)) - 20774.44542255439*exp(- (6.013920280600496*((IndexedParam[0] + 4.929217157135412)/14.643030012320084 - 0.0325313822086792)**2 + 0.22771839133441968*((IndexedParam[1] - 0.22882456869508516)/14.45053220191546 - 0.9084335925839453)**2)) - 12580.149634421337*exp(- (6.013920280600496*((IndexedParam[0] + 4.929217157135412)/14.643030012320084 - 1.0)**2 + 0.22771839133441968*((IndexedParam[1] - 0.22882456869508516)/14.45053220191546 - 0.046386199083146756)**2)) - 15671.779116195627*exp(- (6.013920280600496*((IndexedParam[0] + 4.929217157135412)/14.643030012320084 - 0.9074219145138307)**2 + 0.22771839133441968*((IndexedParam[1] - 0.22882456869508516)/14.45053220191546 - 0.5830026053427076)**2)) + 51583.75760432938*exp(- (6.013920280600496*((IndexedParam[0] + 4.929217157135412)/14.643030012320084 - 0.7557460774371298)**2 + 0.22771839133441968*((IndexedParam[1] - 0.22882456869508516)/14.45053220191546 - 0.6383110566137417)**2)) - 7788.303423967678*exp(- (6.013920280600496*((IndexedParam[0] + 4.929217157135412)/14.643030012320084 - 0.5911925356865033)**2 + 0.22771839133441968*((IndexedParam[1] - 0.22882456869508516)/14.45053220191546 - 0.005381283583344741)**2)) - 105298.9361291409*exp(- (6.013920280600496*((IndexedParam[0] + 4.929217157135412)/14.643030012320084 - 0.21031274399063923)**2 + 0.22771839133441968*((IndexedParam[1] - 0.22882456869508516)/14.45053220191546 - 0.5495609776179707)**2)) + 103837.49478091672*exp(- (6.013920280600496*((IndexedParam[0] + 4.929217157135412)/14.643030012320084 - 0.7830308832306688)**2 + 0.22771839133441968*((IndexedParam[1] - 0.22882456869508516)/14.45053220191546 - 0.24439265066740792)**2)) - 32915.049158302136*exp(- (6.013920280600496*((IndexedParam[0] + 4.929217157135412)/14.643030012320084 - 0.28803140536417743)**2 + 0.22771839133441968*((IndexedParam[1] - 0.22882456869508516)/14.45053220191546 - 0.8689715765112118)**2)) + 2455.866163903731*exp(- (6.013920280600496*((IndexedParam[0] + 4.929217157135412)/14.643030012320084 - 0.993941455353761)**2 + 0.22771839133441968*((IndexedParam[1] - 0.22882456869508516)/14.45053220191546 - 0.9026639746834018)**2)) + 99592.50938708556*exp(- (6.013920280600496*((IndexedParam[0] + 4.929217157135412)/14.643030012320084 - 0.36343808704287006)**2 + 0.22771839133441968*((IndexedParam[1] - 0.22882456869508516)/14.45053220191546 - 0.6057949629205177)**2)) - 18654.447378620505*exp(- (6.013920280600496*((IndexedParam[0] + 4.929217157135412)/14.643030012320084 - 0.3586109792561233)**2 + 0.22771839133441968*((IndexedParam[1] - 0.22882456869508516)/14.45053220191546 - 0.3372905989731323)**2)) - 47543.8977778852*exp(- (6.013920280600496*((IndexedParam[0] + 4.929217157135412)/14.643030012320084 - 0.17758838147122427)**2 + 0.22771839133441968*((IndexedParam[1] - 0.22882456869508516)/14.45053220191546 - 0.23089727866378493)**2)) + 108516.00992591679*exp(- (6.013920280600496*((IndexedParam[0] + 4.929217157135412)/14.643030012320084 - 0.04112204875223326)**2 + 0.22771839133441968*((IndexedParam[1] - 0.22882456869508516)/14.45053220191546 - 0.5088149538788017)**2)))\n",
       "--------------------------\n",
       "\n",
       "Model training errors:\n",
       "-----------------------\n",
       "Mean Squared Error (MSE)         : 0.005830984939233206\n",
       "Root Mean Squared Error (RMSE)   : 0.07636088618679858\n",
       "Goodness of fit (R2)             : 0.99999810307351\n",
       "\n",
       "========================================================================================================================"
      ]
     },
     "execution_count": 26,
     "metadata": {},
     "output_type": "execute_result"
    }
   ],
   "source": [
    "krg_class.training()"
   ]
  },
  {
   "cell_type": "markdown",
   "metadata": {},
   "source": [
    "The returned information correspond to the Kriging model parameters.\n",
    "\n",
    "As we can see, the optimization problem was solved using SciPy's L-BFGS algorithm which makes use of gradients. A different algorithm  (Basinhopping) is used when no numerical gradients are computed (when numerical_gradients is set to False). The user should try this."
   ]
  },
  {
   "cell_type": "markdown",
   "metadata": {},
   "source": [
    "#### Step 5: View model metrics\n",
    "    \n",
    "We can view the RMSE and $R^2$ values of the Kriging fit based on the training data:"
   ]
  },
  {
   "cell_type": "code",
   "execution_count": 27,
   "metadata": {},
   "outputs": [
    {
     "name": "stdout",
     "output_type": "stream",
     "text": [
      "R2:  0.99999810307351 \n",
      "RMSE:  0.07636088618679858\n"
     ]
    }
   ],
   "source": [
    "print(\"R2: \", krg_class.training_R2, \"\\nRMSE: \", krg_class.training_rmse)"
   ]
  },
  {
   "cell_type": "markdown",
   "metadata": {},
   "source": [
    "#### Step 6 (Optional): Generate Pyomo expression output at any unsampled point\n",
    "\n",
    "\n",
    "Again, based on the model we trained, we evaluate the surrogate at a set of  off-design points:\n",
    "\n",
    "- $x_{1}=5$, $x_{2}=8$   (true function value: 57.9908)\n",
    "- $x_{1}=-3$, $x_{2}=10$ (true function value: 4.2461)\n",
    "- $x_{1}=-2$, $x_{2}=3$  (true function value: 50.8899)\n",
    "\n",
    "We do this by calling the function ``predict_output``:"
   ]
  },
  {
   "cell_type": "code",
   "execution_count": 28,
   "metadata": {},
   "outputs": [
    {
     "name": "stdout",
     "output_type": "stream",
     "text": [
      "[[57.63168118]\n",
      " [ 4.44415424]\n",
      " [50.80252545]]\n"
     ]
    }
   ],
   "source": [
    "unsampled_points = np.array([[5, 8], [-3, 10], [-2, 3]])\n",
    "ys = krg_class.predict_output(unsampled_points)\n",
    "print(ys)"
   ]
  },
  {
   "cell_type": "markdown",
   "metadata": {},
   "source": [
    "The Kriging model performs very well, predicting all three points fairly accurately. \n",
    "\n",
    "For Kriging models, the Pyomo expression is generated by calling ``generate_expression`` on the results object: "
   ]
  },
  {
   "cell_type": "code",
   "execution_count": 29,
   "metadata": {},
   "outputs": [
    {
     "name": "stdout",
     "output_type": "stream",
     "text": [
      "3473.6188375169877*exp(- (6.013920280600496*((x[1] + 4.929217157135412)/14.643030012320084 - 0.5518182560031254)**2 + 0.22771839133441968*((x[2] - 0.22882456869508516)/14.45053220191546 - 0.2731190901874679)**2)) - 142048.1264255196*exp(- (6.013920280600496*((x[1] + 4.929217157135412)/14.643030012320084 - 0.4300326512391472)**2 + 0.22771839133441968*((x[2] - 0.22882456869508516)/14.45053220191546 - 0.8610629174234938)**2)) + 89948.51272980124*exp(- (6.013920280600496*((x[1] + 4.929217157135412)/14.643030012320084)**2 + 0.22771839133441968*((x[2] - 0.22882456869508516)/14.45053220191546 - 0.11035664436222248)**2)) - 17389.307680525817*exp(- (6.013920280600496*((x[1] + 4.929217157135412)/14.643030012320084 - 0.6822668136056202)**2 + 0.22771839133441968*((x[2] - 0.22882456869508516)/14.45053220191546 - 0.8414199967160326)**2)) + 70994.41540519707*exp(- (6.013920280600496*((x[1] + 4.929217157135412)/14.643030012320084 - 0.13520535030959882)**2 + 0.22771839133441968*((x[2] - 0.22882456869508516)/14.45053220191546 - 0.5811256814195772)**2)) + 84412.48334978987*exp(- (6.013920280600496*((x[1] + 4.929217157135412)/14.643030012320084 - 0.908216841775921)**2 + 0.22771839133441968*((x[2] - 0.22882456869508516)/14.45053220191546 - 0.20132180755786522)**2)) + 12250.97852602601*exp(- (6.013920280600496*((x[1] + 4.929217157135412)/14.643030012320084 - 0.18501228557936236)**2 + 0.22771839133441968*((x[2] - 0.22882456869508516)/14.45053220191546 - 0.09666279198240106)**2)) + 10829.06845778972*exp(- (6.013920280600496*((x[1] + 4.929217157135412)/14.643030012320084 - 0.22021941796179972)**2 + 0.22771839133441968*((x[2] - 0.22882456869508516)/14.45053220191546 - 1.0)**2)) - 88695.55215699691*exp(- (6.013920280600496*((x[1] + 4.929217157135412)/14.643030012320084 - 0.8266365897830592)**2 + 0.22771839133441968*((x[2] - 0.22882456869508516)/14.45053220191546 - 0.16264387978612238)**2)) - 59748.16254133731*exp(- (6.013920280600496*((x[1] + 4.929217157135412)/14.643030012320084 - 0.831288905218487)**2 + 0.22771839133441968*((x[2] - 0.22882456869508516)/14.45053220191546 - 0.26866011456766936)**2)) + 108252.31525952369*exp(- (6.013920280600496*((x[1] + 4.929217157135412)/14.643030012320084 - 0.43739443999592303)**2 + 0.22771839133441968*((x[2] - 0.22882456869508516)/14.45053220191546 - 0.9599385359524552)**2)) - 49527.87472515367*exp(- (6.013920280600496*((x[1] + 4.929217157135412)/14.643030012320084 - 0.8327482651149929)**2 + 0.22771839133441968*((x[2] - 0.22882456869508516)/14.45053220191546 - 0.3330572615505772)**2)) + 142762.61227712035*exp(- (6.013920280600496*((x[1] + 4.929217157135412)/14.643030012320084 - 0.17485274298531528)**2 + 0.22771839133441968*((x[2] - 0.22882456869508516)/14.45053220191546 - 0.3711736045917253)**2)) - 121186.88497902453*exp(- (6.013920280600496*((x[1] + 4.929217157135412)/14.643030012320084 - 0.0009932894634358945)**2 + 0.22771839133441968*((x[2] - 0.22882456869508516)/14.45053220191546 - 0.2461895993357224)**2)) + 18640.5190643901*exp(- (6.013920280600496*((x[1] + 4.929217157135412)/14.643030012320084 - 0.8102253955808789)**2 + 0.22771839133441968*((x[2] - 0.22882456869508516)/14.45053220191546)**2)) - 20598.770821066108*exp(- (6.013920280600496*((x[1] + 4.929217157135412)/14.643030012320084 - 0.6086081776493459)**2 + 0.22771839133441968*((x[2] - 0.22882456869508516)/14.45053220191546 - 0.6109286075828757)**2)) - 147128.4743987471*exp(- (6.013920280600496*((x[1] + 4.929217157135412)/14.643030012320084 - 0.1028770983224648)**2 + 0.22771839133441968*((x[2] - 0.22882456869508516)/14.45053220191546 - 0.38063145554753214)**2)) - 20774.44542255439*exp(- (6.013920280600496*((x[1] + 4.929217157135412)/14.643030012320084 - 0.0325313822086792)**2 + 0.22771839133441968*((x[2] - 0.22882456869508516)/14.45053220191546 - 0.9084335925839453)**2)) - 12580.149634421337*exp(- (6.013920280600496*((x[1] + 4.929217157135412)/14.643030012320084 - 1.0)**2 + 0.22771839133441968*((x[2] - 0.22882456869508516)/14.45053220191546 - 0.046386199083146756)**2)) - 15671.779116195627*exp(- (6.013920280600496*((x[1] + 4.929217157135412)/14.643030012320084 - 0.9074219145138307)**2 + 0.22771839133441968*((x[2] - 0.22882456869508516)/14.45053220191546 - 0.5830026053427076)**2)) + 51583.75760432938*exp(- (6.013920280600496*((x[1] + 4.929217157135412)/14.643030012320084 - 0.7557460774371298)**2 + 0.22771839133441968*((x[2] - 0.22882456869508516)/14.45053220191546 - 0.6383110566137417)**2)) - 7788.303423967678*exp(- (6.013920280600496*((x[1] + 4.929217157135412)/14.643030012320084 - 0.5911925356865033)**2 + 0.22771839133441968*((x[2] - 0.22882456869508516)/14.45053220191546 - 0.005381283583344741)**2)) - 105298.9361291409*exp(- (6.013920280600496*((x[1] + 4.929217157135412)/14.643030012320084 - 0.21031274399063923)**2 + 0.22771839133441968*((x[2] - 0.22882456869508516)/14.45053220191546 - 0.5495609776179707)**2)) + 103837.49478091672*exp(- (6.013920280600496*((x[1] + 4.929217157135412)/14.643030012320084 - 0.7830308832306688)**2 + 0.22771839133441968*((x[2] - 0.22882456869508516)/14.45053220191546 - 0.24439265066740792)**2)) - 32915.049158302136*exp(- (6.013920280600496*((x[1] + 4.929217157135412)/14.643030012320084 - 0.28803140536417743)**2 + 0.22771839133441968*((x[2] - 0.22882456869508516)/14.45053220191546 - 0.8689715765112118)**2)) + 2455.866163903731*exp(- (6.013920280600496*((x[1] + 4.929217157135412)/14.643030012320084 - 0.993941455353761)**2 + 0.22771839133441968*((x[2] - 0.22882456869508516)/14.45053220191546 - 0.9026639746834018)**2)) + 99592.50938708556*exp(- (6.013920280600496*((x[1] + 4.929217157135412)/14.643030012320084 - 0.36343808704287006)**2 + 0.22771839133441968*((x[2] - 0.22882456869508516)/14.45053220191546 - 0.6057949629205177)**2)) - 18654.447378620505*exp(- (6.013920280600496*((x[1] + 4.929217157135412)/14.643030012320084 - 0.3586109792561233)**2 + 0.22771839133441968*((x[2] - 0.22882456869508516)/14.45053220191546 - 0.3372905989731323)**2)) - 47543.8977778852*exp(- (6.013920280600496*((x[1] + 4.929217157135412)/14.643030012320084 - 0.17758838147122427)**2 + 0.22771839133441968*((x[2] - 0.22882456869508516)/14.45053220191546 - 0.23089727866378493)**2)) + 108516.00992591679*exp(- (6.013920280600496*((x[1] + 4.929217157135412)/14.643030012320084 - 0.04112204875223326)**2 + 0.22771839133441968*((x[2] - 0.22882456869508516)/14.45053220191546 - 0.5088149538788017)**2)) + 386.9034757421604\n"
     ]
    }
   ],
   "source": [
    "print(krg_class.generate_expression([m.x[1], m.x[2]]))"
   ]
  },
  {
   "cell_type": "markdown",
   "metadata": {},
   "source": [
    "As we can see, expressing a Kriging model algebraically is pretty complicated!\n",
    "\n",
    "Parity plots for the Kriging model may be viewed with the ``parity_residual_plots`` method.\n",
    "\n",
    "Further information about using PySMO's Kriging tool and features can be found in the [documentation](https://idaes-pse.readthedocs.io/en/stable/explanations/modeling_extensions/surrogate/api/pysmo/pysmo_kriging.html)."
   ]
  },
  {
   "cell_type": "markdown",
   "metadata": {},
   "source": [
    "## Summary\n",
    "\n",
    "PySMO allows IDAES users to sample design spaces and generate different types of surrogate models. Further information about PySMO's capabilities may be found in the documentation."
   ]
  }
 ],
 "metadata": {
  "kernelspec": {
   "display_name": "Python 3 (ipykernel)",
   "language": "python",
   "name": "python3"
  },
  "language_info": {
   "codemirror_mode": {
    "name": "ipython",
    "version": 3
   },
   "file_extension": ".py",
   "mimetype": "text/x-python",
   "name": "python",
   "nbconvert_exporter": "python",
   "pygments_lexer": "ipython3",
   "version": "3.11.11"
  }
 },
 "nbformat": 4,
 "nbformat_minor": 3
}