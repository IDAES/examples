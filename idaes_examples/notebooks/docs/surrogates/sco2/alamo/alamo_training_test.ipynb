{
  "cells": [
    {
      "cell_type": "code",
      "execution_count": null,
      "metadata": {
        "tags": [
          "header",
          "hide-cell"
        ]
      },
      "outputs": [],
      "source": [
        "###############################################################################\n",
        "# The Institute for the Design of Advanced Energy Systems Integrated Platform\n",
        "# Framework (IDAES IP) was produced under the DOE Institute for the\n",
        "# Design of Advanced Energy Systems (IDAES).\n",
        "#\n",
        "# Copyright (c) 2018-2025 by the software owners: The Regents of the\n",
        "# University of California, through Lawrence Berkeley National Laboratory,\n",
        "# National Technology & Engineering Solutions of Sandia, LLC, Carnegie Mellon\n",
        "# University, West Virginia University Research Corporation, et al.\n",
        "# All rights reserved.  Please see the files COPYRIGHT.md and LICENSE.md\n",
        "# for full copyright and license information.\n",
        "#\n",
        "###############################################################################"
      ]
    },
    {
      "cell_type": "code",
      "execution_count": null,
      "metadata": {},
      "outputs": [],
      "source": [
        "###############################################################################\n",
        "# The Institute for the Design of Advanced Energy Systems Integrated Platform\n",
        "# Framework (IDAES IP) was produced under the DOE Institute for the\n",
        "# Design of Advanced Energy Systems (IDAES).\n",
        "#\n",
        "# Copyright (c) 2018-2023 by the software owners: The Regents of the\n",
        "# University of California, through Lawrence Berkeley National Laboratory,\n",
        "# National Technology & Engineering Solutions of Sandia, LLC, Carnegie Mellon\n",
        "# University, West Virginia University Research Corporation, et al.\n",
        "# All rights reserved.  Please see the files COPYRIGHT.md and LICENSE.md\n",
        "# for full copyright and license information.\n",
        "###############################################################################"
      ]
    },
    {
      "cell_type": "markdown",
      "metadata": {},
      "source": [
        "# Supercritical CO2 Property Surrogate with ALAMO Surrogate Object - Training Surrogate (Part 1)\n",
        "\n",
        "Maintainer: Javal Vyas\n",
        "\n",
        "Author: Javal Vyas\n",
        "\n",
        "Updated: 2024-01-24\n",
        "\n",
        "## 1. Introduction\n",
        "This notebook demonstrates leveraging of the ALAMO surrogate trainer and IDAES Python wrapper to produce an surrogate based on supercritical CO2 data from simulation using REFPROP package.\n",
        "\n",
        "There are several reasons to build surrogate models for complex processes, even when higher fidelity models already exist (e.g., reduce model size, improve convergence reliability, replace models with externally compiled code and make them fully-equation oriented).\n",
        "\n",
        "In this example, we intend to make a surrogate for the physical properties of S-CO2 to be embedded in the property package. This property package will be used to get the physical properties of S-CO2 in the flowsheet simulation. To learn more about property package, see the [IDAES-PSE](https://github.com/IDAES/idaes-pse) Github Page or IDAES [Read-the-docs](https://idaes-pse.readthedocs.io/en/latest/). \n",
        "\n",
        "### 1.1 Need for ML Surrogate\n",
        "\n",
        "The properties predicted by the surrogate are enthalpy and entropy of the S-CO2 based on the \n",
        "pressure and temperature of the system. The analytical equation of getting the enthalpy and entropy from pressure and temperature are in the differential form and would make the problem a DAE system. To counter this problem and keep the problem algebraic, we will use the surrogates and relate enthalpy and entropy with the pressure and temperature as an algebraic equation.\n",
        "\n",
        "### 1.2 Supercritical CO2 cycle process\n",
        "\n",
        "The following flowsheet will be used to optimize the design for the cooling of the fusion reactor using supercritical CO2 cycle. We shall focus on training the surrogate for this notebook and move to constructing the flowsheet and the properties package in the subsequent notebooks. The take away from this flowsheet is that, 3 variables can be measured in any given unit which are flow, pressure and temperature and other properties can be calculated using them. Thus, surrogate should have pressure and temperature as the inputs.\n",
        "\n",
        "In this example, we will train a model using AlamoTrainer for our data and then demonstrate that we can solve an optimization problem with that surrogate model. "
      ]
    },
    {
      "cell_type": "code",
      "execution_count": 1,
      "metadata": {},
      "outputs": [],
      "source": [
        "from IPython.display import Image\n",
        "from pathlib import Path\n",
        "\n",
        "\n",
        "def datafile_path(name):\n",
        "    return Path(\"..\") / name\n",
        "\n",
        "\n",
        "Image(datafile_path(\"CO2_flowsheet.png\"))"
      ]
    },
    {
      "cell_type": "markdown",
      "metadata": {},
      "source": [
        "## 2. Training and Validating Surrogate\n",
        "\n",
        "First, let's import the required Python and IDAES modules:"
      ]
    },
    {
      "cell_type": "code",
      "execution_count": 2,
      "metadata": {},
      "outputs": [],
      "source": [
        "# Import statements\n",
        "import os\n",
        "import numpy as np\n",
        "import pandas as pd\n",
        "\n",
        "# Import IDAES libraries\n",
        "from idaes.core.surrogate.sampling.data_utils import split_training_validation\n",
        "from idaes.core.surrogate.alamopy import AlamoTrainer, AlamoSurrogate, alamo\n",
        "from idaes.core.surrogate.plotting.sm_plotter import (\n",
        "    surrogate_scatter2D,\n",
        "    surrogate_parity,\n",
        "    surrogate_residual,\n",
        ")"
      ]
    },
    {
      "cell_type": "markdown",
      "metadata": {},
      "source": [
        "### 2.1 Importing Training and Validation Datasets\n",
        "\n",
        "In this section, we read the dataset from the CSV file located in this directory. 500 data points were simulated for S-CO2 physical properties using REFPROP package. This example is trained on the entire dataset to have cover different ranges of pressure and temperature. The data is separated using an 80/20 split into training and validation data using the IDAES split_training_validation() method.\n",
        "\n",
        "We rename the column headers because they contained \".\", we change \".\" to \"_\" as ALAMO accepts alphanumerical characters or underscores as the labels for input/output. Further, the input variables are **pressure**, **temperature** , while the output variables are **enth_mol**, **entr_mol**, hence we create two new dataframes for the input and output variables."
      ]
    },
    {
      "cell_type": "code",
      "execution_count": 3,
      "metadata": {},
      "outputs": [],
      "source": [
        "# Import training data\n",
        "np.set_printoptions(precision=7, suppress=True)\n",
        "\n",
        "csv_data = pd.read_csv(datafile_path(\"500_Points_DataSet.csv\"))\n",
        "\n",
        "### ALAMO only accepts alphanumerical characters (A-Z, a-z, 0-9) or underscores as input/output labels\n",
        "cols = csv_data.columns\n",
        "cols = [item.replace(\".\", \"_\") for item in cols]\n",
        "csv_data.columns = cols\n",
        "\n",
        "data = csv_data.sample(n=500, random_state=0)\n",
        "\n",
        "input_data = data.iloc[:, :2]\n",
        "output_data = data.iloc[:, 2:4]\n",
        "\n",
        "# Define labels, and split training and validation data\n",
        "input_labels = input_data.columns\n",
        "output_labels = output_data.columns\n",
        "\n",
        "n_data = data[input_labels[0]].size\n",
        "data_training, data_validation = split_training_validation(data, 0.8, seed=n_data)"
      ]
    },
    {
      "cell_type": "markdown",
      "metadata": {},
      "source": [
        "### 2.2 Training Surrogate with ALAMO\n",
        "\n",
        "IDAES provides a Python wrapper for the ALAMO machine learning tool via an imported AlamoTrainer class. Regression settings can be directly set as config attributes, as shown below. In this example, allowed basis terms include constant and linear functions, monomial power order 2 and 3, variable product power order 1 and 2, and variable ratio power order 1 and 2. ALAMO seeks to minimize the number of basis terms; here, we restrict each surrogate expression to a maximum of 10 basis terms.\n",
        "\n",
        "Finally, after training the model we save the results and model expressions to a JSON file. Serializing the model in this fashion enables importing a previously trained set of surrogate models into external flowsheets. This feature will be used later."
      ]
    },
    {
      "cell_type": "code",
      "execution_count": 4,
      "metadata": {},
      "outputs": [],
      "source": [
        "# Create ALAMO trainer object\n",
        "has_alamo = alamo.available()\n",
        "if has_alamo:\n",
        "    trainer = AlamoTrainer(\n",
        "        input_labels=input_labels,\n",
        "        output_labels=output_labels,\n",
        "        training_dataframe=data_training,\n",
        "    )\n",
        "\n",
        "    # Set ALAMO options\n",
        "    trainer.config.constant = True\n",
        "    trainer.config.linfcns = True\n",
        "    trainer.config.multi2power = [1, 2]\n",
        "    trainer.config.monomialpower = [2, 3]\n",
        "    trainer.config.ratiopower = [1]\n",
        "    trainer.config.maxterms = [10] * len(output_labels)  # max terms for each surrogate\n",
        "    trainer.config.filename = os.path.join(os.getcwd(), \"alamo_run.alm\")\n",
        "    trainer.config.overwrite_files = True\n",
        "\n",
        "    # Train surrogate (calls ALAMO through IDAES ALAMOPy wrapper)\n",
        "    success, alm_surr, msg = trainer.train_surrogate()\n",
        "\n",
        "    # save model to JSON\n",
        "    model = alm_surr.save_to_file(\"alamo_surrogate.json\", overwrite=True)\n",
        "\n",
        "    # create callable surrogate object\n",
        "    surrogate_expressions = trainer._results[\"Model\"]\n",
        "    input_labels = trainer._input_labels\n",
        "    output_labels = trainer._output_labels\n",
        "    xmin, xmax = [7, 306], [40, 1000]\n",
        "    input_bounds = {\n",
        "        input_labels[i]: (xmin[i], xmax[i]) for i in range(len(input_labels))\n",
        "    }\n",
        "\n",
        "    alm_surr = AlamoSurrogate(\n",
        "        surrogate_expressions, input_labels, output_labels, input_bounds\n",
        "    )\n",
        "else:\n",
        "    print(\"Alamo not found.\")"
      ]
    },
    {
      "cell_type": "markdown",
      "metadata": {},
      "source": [
        "### 2.3 Visualizing Surrogates\n",
        "\n",
        "Now that the surrogate models have been trained, the models can be visualized through scatter, parity and residual plots to confirm their validity in the chosen domain. The training data will be visualized first to confirm the surrogates are fit the data, and then the validation data will be visualized to confirm the surrogates accurately predict new output values."
      ]
    },
    {
      "cell_type": "code",
      "execution_count": 5,
      "metadata": {},
      "outputs": [],
      "source": [
        "# visualize with IDAES surrogate plotting tools\n",
        "surrogate_scatter2D(alm_surr, data_training)\n",
        "surrogate_parity(alm_surr, data_training)\n",
        "surrogate_residual(alm_surr, data_training)"
      ]
    },
    {
      "cell_type": "markdown",
      "metadata": {},
      "source": [
        "### 2.4 Model Validation"
      ]
    },
    {
      "cell_type": "code",
      "execution_count": 6,
      "metadata": {},
      "outputs": [],
      "source": [
        "# visualize with IDAES surrogate plotting tools\n",
        "surrogate_scatter2D(alm_surr, data_validation)\n",
        "surrogate_parity(alm_surr, data_validation)\n",
        "surrogate_residual(alm_surr, data_validation)"
      ]
    },
    {
      "cell_type": "markdown",
      "metadata": {},
      "source": [
        "Now, the surrogate is trained and validated, we shall embed it in the property package, which is demonstrated in the [surrogate_embedding](./surrogate_embedding_test.ipynb) file."
      ]
    }
  ],
  "metadata": {
    "kernelspec": {
      "display_name": "Python 3",
      "language": "python",
      "name": "python3"
    },
    "language_info": {
      "codemirror_mode": {
        "name": "ipython",
        "version": 3
      },
      "file_extension": ".py",
      "mimetype": "text/x-python",
      "name": "python",
      "nbconvert_exporter": "python",
      "pygments_lexer": "ipython3",
      "version": "3.10.6"
    }
  },
  "nbformat": 4,
  "nbformat_minor": 3
}