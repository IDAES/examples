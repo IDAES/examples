{
 "cells": [
  {
   "cell_type": "code",
   "execution_count": 1,
   "metadata": {
    "tags": [
     "header",
     "hide-cell"
    ]
   },
   "outputs": [],
   "source": [
    "###############################################################################\n",
    "# The Institute for the Design of Advanced Energy Systems Integrated Platform\n",
    "# Framework (IDAES IP) was produced under the DOE Institute for the\n",
    "# Design of Advanced Energy Systems (IDAES).\n",
    "#\n",
    "# Copyright (c) 2018-2023 by the software owners: The Regents of the\n",
    "# University of California, through Lawrence Berkeley National Laboratory,\n",
    "# National Technology & Engineering Solutions of Sandia, LLC, Carnegie Mellon\n",
    "# University, West Virginia University Research Corporation, et al.\n",
    "# All rights reserved.  Please see the files COPYRIGHT.md and LICENSE.md\n",
    "# for full copyright and license information.\n",
    "###############################################################################"
   ]
  },
  {
   "cell_type": "markdown",
   "metadata": {},
   "source": [
    "\n",
    "# Flowsheet Plug Flow Reactor (PFR) Simulation and Optimization of Ethylene Glycol Production\n",
    "Author: Andrew Lee  \n",
    "Maintainer: Andrew Lee  \n",
    "\n",
    "\n",
    "## Learning Outcomes\n",
    "\n",
    "\n",
    "- Call and implement the IDAES PFR unit model\n",
    "- Construct a steady-state flowsheet using the IDAES unit model library\n",
    "- Connecting unit models in a flowsheet using Arcs\n",
    "- Fomulate and solve an optimization problem\n",
    "    - Defining an objective function\n",
    "    - Setting variable bounds\n",
    "    - Adding additional constraints \n",
    "\n",
    "\n",
    "## Problem Statement\n",
    "\n",
    "Following the previous example implementing a [Continuous Stirred Tank Reactor (CSTR) unit model](http://localhost:8888/notebooks/GitHub/examples-pse/src/Examples/UnitModels/Reactors/cstr_testing.ipynb), we can alter the flowsheet to use a plug flow reactor (PFR). As before, this example is adapted from Fogler, H.S., Elements of Chemical Reaction Engineering 5th ed., 2016, Prentice Hall,  p. 157-160 with the following chemical reaction, property packages and flowsheet. Unlike a CSTR which assumes well-mixed liquid behavior, the concentration profiles will vary spatially in one dimension. In actuality, following start-up flow reactor exhibit dynamic behavior as they approach a steady-state equilibrium; we will assume our system has already achieved steady-state behavior. The state variables chosen for the property package are **molar flows of each component by phase in each stream, temperature of each stream and pressure of each stream**. The components considered are: **ethylene oxide, water, sulfuric acid and ethylene glycol** and the process occurs in liquid phase only. Therefore, every stream has 4 flow variables, 1 temperature and 1 pressure variable.\n",
    "\n",
    "Chemical reaction:\n",
    "\n",
    "**C<sub>2</sub>H<sub>4</sub>O</sub> + H<sub>2</sub>O</sub> + H<sub>2</sub>S</sub>O<sub>4</sub> → C<sub>2</sub>H<sub>6</sub>O<sub>2</sub> + H<sub>2</sub>S</sub>O<sub>4</sub>**\n",
    "\n",
    "Property Packages:\n",
    "\n",
    "- egprod_ideal.py\n",
    "- egprod_reaction.py\n",
    "\n",
    "Flowsheet\n",
    "\n",
    "![](egprod_flowsheet.png)"
   ]
  },
  {
   "cell_type": "markdown",
   "metadata": {},
   "source": [
    "## Importing Required Pyomo and IDAES components\n",
    "\n",
    "\n",
    "To construct a flowsheet, we will need several components from the Pyomo and IDAES packages. Let us first import the following components from Pyomo:\n",
    "- Constraint (to write constraints)\n",
    "- Var (to declare variables)\n",
    "- ConcreteModel (to create the concrete model object)\n",
    "- Expression (to evaluate values as a function of variables defined in the model)\n",
    "- Objective (to define an objective function for optimization)\n",
    "- TransformationFactory (to apply certain transformations)\n",
    "- Arc (to connect two unit models)\n",
    "\n",
    "For further details on these components, please refer to the pyomo documentation: https://pyomo.readthedocs.io/en/stable/\n",
    "\n",
    "From idaes, we will be needing the `FlowsheetBlock` and the following unit models:\n",
    "- Mixer\n",
    "- Heater\n",
    "- PFR\n",
    "\n",
    "We will also be needing some utility tools to put together the flowsheet and calculate the degrees of freedom, tools for model expressions and calling variable values, and built-in functions to define property packages, add unit containers to objects and define our initialization scheme.\n"
   ]
  },
  {
   "cell_type": "code",
   "execution_count": 2,
   "metadata": {},
   "outputs": [],
   "source": [
    "from pyomo.environ import (\n",
    "    Constraint,\n",
    "    Var,\n",
    "    ConcreteModel,\n",
    "    Expression,\n",
    "    Objective,\n",
    "    TransformationFactory,\n",
    "    value,\n",
    "    units as pyunits,\n",
    ")\n",
    "from pyomo.network import Arc\n",
    "\n",
    "from idaes.core import FlowsheetBlock\n",
    "from idaes.models.properties.modular_properties import (\n",
    "    GenericParameterBlock,\n",
    "    GenericReactionParameterBlock,\n",
    ")\n",
    "from idaes.models.unit_models import Feed, Mixer, Heater, PFR, Product\n",
    "\n",
    "from idaes.core.solvers import get_solver\n",
    "from idaes.core.util.model_statistics import degrees_of_freedom\n",
    "from idaes.core.util.initialization import propagate_state"
   ]
  },
  {
   "cell_type": "markdown",
   "metadata": {},
   "source": [
    "## Importing Required Thermophysical and Reaction Packages\n",
    "\n",
    "The final step is to import the thermophysical and reaction packages. We have created a custom thermophysical package that support ideal vapor and liquid behavior for this system, and in this case we will restrict it to ideal liquid behavior only.\n",
    "\n",
    "The reaction package here assumes Arrhenius kinetic behavior for the PFR, for which $k_0$ and $E_a$ are known *a priori* (if unknown, they may be obtained using one of the parameter estimation tools within IDAES).\n",
    "\n",
    "$ r = -kVC_{EO} $, $ k = k_0 e^{(-E_a/RT)}$, with the variables as follows:\n",
    "\n",
    "$r$ - reaction rate extent in moles of ethylene oxide consumed per second; note that the traditional reaction rate would be given by $rate = r/V$ in moles per $m^3$ per second  \n",
    "$k$ - reaction rate constant per second  \n",
    "$V$ - volume of PFR in $m^3$, note that this is *liquid volume* and not the *total volume* of the reactor itself  \n",
    "$C_{EO}$ - bulk concentration of ethylene oxide in moles per $m^3$ (the limiting reagent, since we assume excess catalyst and water)  \n",
    "$k_0$ - pre-exponential Arrhenius factor per second  \n",
    "$E_a$ - reaction activation energy in kJ per mole of ethylene oxide consumed  \n",
    "$R$ - gas constant in J/mol-K  \n",
    "$T$ - reactor temperature in K\n",
    "\n",
    "These calculations are contained within the property, reaction and unit model packages, and do not need to be entered into the flowsheet. More information on property estimation may be found in the IDAES documentation on [Parameter Estimation](https://idaes-pse.readthedocs.io/en/stable/how_to_guides/workflow/data_rec_parmest.html).\n",
    "\n",
    "Let us import the following modules from the same directory as this Jupyter notebook:\n",
    "- egprod_ideal as thermo_props\n",
    "- egprod_reaction as reaction_props"
   ]
  },
  {
   "cell_type": "code",
   "execution_count": 3,
   "metadata": {},
   "outputs": [],
   "source": [
    "import egprod_ideal as thermo_props\n",
    "import egprod_reaction as reaction_props"
   ]
  },
  {
   "cell_type": "markdown",
   "metadata": {},
   "source": [
    "## Constructing the Flowsheet\n",
    "\n",
    "We have now imported all the components, unit models, and property modules we need to construct a flowsheet. Let us create a ConcreteModel and add the flowsheet block. "
   ]
  },
  {
   "cell_type": "code",
   "execution_count": 4,
   "metadata": {},
   "outputs": [],
   "source": [
    "m = ConcreteModel()\n",
    "m.fs = FlowsheetBlock(dynamic=False)"
   ]
  },
  {
   "cell_type": "markdown",
   "metadata": {},
   "source": [
    "We now need to add the property packages to the flowsheet. Unlike the basic [Flash unit model example](http://localhost:8888/notebooks/GitHub/examples-pse/src/Tutorials/Basics/flash_unit_solution_testing.ipynb), where we only had a thermophysical property package, for this flowsheet we will also need to add a reaction property package. We will use the [Modular Property Framework](https://idaes-pse.readthedocs.io/en/stable/explanations/components/property_package/index.html#generic-property-package-framework) and [Modular Reaction Framework](https://idaes-pse.readthedocs.io/en/stable/explanations/components/property_package/index.html#generic-reaction-package-framework). The get_prop method for the natural gas property module automatically returns the correct dictionary using a component list argument. The GenericParameterBlock and GenericReactionParameterBlock methods build states blocks from passed parameter data; the reaction block unpacks using **reaction_props.config_dict to allow for optional or empty keyword arguments:"
   ]
  },
  {
   "cell_type": "code",
   "execution_count": 5,
   "metadata": {
    "scrolled": true
   },
   "outputs": [],
   "source": [
    "m.fs.thermo_params = GenericParameterBlock(**thermo_props.config_dict)\n",
    "m.fs.reaction_params = GenericReactionParameterBlock(\n",
    "    property_package=m.fs.thermo_params, **reaction_props.config_dict\n",
    ")"
   ]
  },
  {
   "cell_type": "markdown",
   "metadata": {},
   "source": [
    "## Adding Unit Models\n",
    "\n",
    "Let us start adding the unit models we have imported to the flowsheet. Here, we are adding a `Mixer`, a `Heater` and a `PFR`. Note that all unit models need to be given a property package argument. In addition to that, there are several arguments depending on the unit model, please refer to the documentation for more details on [IDAES Unit Models](https://idaes-pse.readthedocs.io/en/stable/reference_guides/model_libraries/index.html). For example, the `Mixer` is given a `list` consisting of names to the two inlets."
   ]
  },
  {
   "cell_type": "code",
   "execution_count": 6,
   "metadata": {
    "scrolled": true
   },
   "outputs": [],
   "source": [
    "m.fs.OXIDE = Feed(property_package=m.fs.thermo_params)\n",
    "m.fs.ACID = Feed(property_package=m.fs.thermo_params)\n",
    "m.fs.PROD = Product(property_package=m.fs.thermo_params)\n",
    "m.fs.M101 = Mixer(\n",
    "    property_package=m.fs.thermo_params, inlet_list=[\"reagent_feed\", \"catalyst_feed\"]\n",
    ")\n",
    "m.fs.H101 = Heater(\n",
    "    property_package=m.fs.thermo_params,\n",
    "    has_pressure_change=False,\n",
    "    has_phase_equilibrium=False,\n",
    ")"
   ]
  },
  {
   "cell_type": "code",
   "execution_count": 7,
   "metadata": {},
   "outputs": [],
   "source": [
    "m.fs.R101 = PFR(\n",
    "    property_package=m.fs.thermo_params,\n",
    "    reaction_package=m.fs.reaction_params,\n",
    "    has_equilibrium_reactions=False,\n",
    "    has_heat_of_reaction=True,\n",
    "    has_heat_transfer=True,\n",
    "    has_pressure_change=False,\n",
    "    transformation_method=\"dae.finite_difference\",\n",
    "    transformation_scheme=\"BACKWARD\",\n",
    "    finite_elements=20,\n",
    ")"
   ]
  },
  {
   "cell_type": "markdown",
   "metadata": {},
   "source": [
    "## Connecting Unit Models Using Arcs\n",
    "\n",
    "We have now added all the unit models we need to the flowsheet. However, we have not yet specified how the units are to be connected. To do this, we will be using the `Arc` which is a pyomo component that takes in two arguments: `source` and `destination`. Let us connect the outlet of the `Mixer` to the inlet of the `Heater`, and the outlet of the `Heater` to the inlet of the `PFR`. Additionally, we will connect the `Feed` and `Product` blocks to the flowsheet:"
   ]
  },
  {
   "cell_type": "code",
   "execution_count": 8,
   "metadata": {},
   "outputs": [],
   "source": [
    "m.fs.s01 = Arc(source=m.fs.OXIDE.outlet, destination=m.fs.M101.reagent_feed)\n",
    "m.fs.s02 = Arc(source=m.fs.ACID.outlet, destination=m.fs.M101.catalyst_feed)\n",
    "m.fs.s03 = Arc(source=m.fs.M101.outlet, destination=m.fs.H101.inlet)\n",
    "m.fs.s04 = Arc(source=m.fs.H101.outlet, destination=m.fs.R101.inlet)\n",
    "m.fs.s05 = Arc(source=m.fs.R101.outlet, destination=m.fs.PROD.inlet)"
   ]
  },
  {
   "cell_type": "markdown",
   "metadata": {},
   "source": [
    "We have now connected the unit model block using the arcs. However, we also need to link the state variables on connected ports. Pyomo provides a convenient method `TransformationFactory` to write these equality constraints for us between two ports:"
   ]
  },
  {
   "cell_type": "code",
   "execution_count": 9,
   "metadata": {},
   "outputs": [],
   "source": [
    "TransformationFactory(\"network.expand_arcs\").apply_to(m)"
   ]
  },
  {
   "cell_type": "markdown",
   "metadata": {},
   "source": [
    "## Adding Expressions to Compute Operating Costs\n",
    "\n",
    "In this section, we will add a few Expressions that allows us to evaluate the performance. `Expressions` provide a convenient way of calculating certain values that are a function of the variables defined in the model. For more details on `Expressions`, please refer to the [Pyomo Expression documentation]( https://pyomo.readthedocs.io/en/stable/pyomo_modeling_components/Expressions.html).\n",
    "\n",
    "For this flowsheet, we are interested in computing ethylene glycol production in millions of pounds per year, as well as the total costs due to cooling and heating utilities."
   ]
  },
  {
   "cell_type": "markdown",
   "metadata": {},
   "source": [
    "Let us first add an `Expression` to convert the product flow from mol/s to MM lb/year of ethylene glycol. We see that the molecular weight exists in the thermophysical property package, so we may use that value for our calculations."
   ]
  },
  {
   "cell_type": "code",
   "execution_count": 10,
   "metadata": {},
   "outputs": [],
   "source": [
    "m.fs.eg_prod = Expression(\n",
    "    expr=pyunits.convert(\n",
    "        m.fs.PROD.inlet.flow_mol_phase_comp[0, \"Liq\", \"ethylene_glycol\"]\n",
    "        * m.fs.thermo_params.ethylene_glycol.mw,  # MW defined in properties as kg/mol\n",
    "        to_units=pyunits.Mlb / pyunits.yr,\n",
    "    )\n",
    ")  # converting kg/s to MM lb/year"
   ]
  },
  {
   "cell_type": "markdown",
   "metadata": {},
   "source": [
    "Now, let us add expressions to compute the reactor cooling cost (\\\\$/s) assuming a cost of 2.12E-5 \\\\$/kW, and the heating utility cost (\\\\$/s) assuming 2.2E-4 \\\\$/kW. To calculate cooling cost, it is important to note that the heat duty is not constant throughout the reactor's length and is expressed in terms of heat per length (J/m/s). This is why we utilize the trapezoid rule to calculate the total heat duty of the reactor:$Q=\\Delta x\\big(\\sum_{k=1}^{N-1}(Q_k)+\\frac{Q_N+Q_0}{2}\\big)$ \n",
    "where k is the subinterval in the length domain, N is the number of intervals, and $\\Delta x$ is the length of the interval.\n",
    "Note that the heat duty is in units of watt (J/s). The total operating cost will be the sum of the two, expressed in \\\\$/year, assuming 8000 operating hours per year (~10\\% downtime, which is fairly common for small scale chemical plants):"
   ]
  },
  {
   "cell_type": "code",
   "execution_count": 11,
   "metadata": {
    "scrolled": true
   },
   "outputs": [],
   "source": [
    "m.fs.cooling_cost = Expression(\n",
    "    expr=2.12e-8\n",
    "    * m.fs.R101.length\n",
    "    / m.fs.R101.config.finite_elements\n",
    "    * (\n",
    "        -sum(\n",
    "            m.fs.R101.heat_duty[0, k]\n",
    "            for k in m.fs.R101.control_volume.length_domain\n",
    "            if 0.0 <= k < 1.0\n",
    "        )\n",
    "    )\n",
    "    - (\n",
    "        value(m.fs.R101.heat_duty[0, m.fs.R101.control_volume.length_domain.at(1)])\n",
    "        - value(m.fs.R101.heat_duty[0, m.fs.R101.control_volume.length_domain.at(-1)])\n",
    "    )\n",
    "    / 2\n",
    ")  # the reaction is exothermic, so R101 duty is negative\n",
    "m.fs.heating_cost = Expression(\n",
    "    expr=2.2e-7 * m.fs.H101.heat_duty[0]\n",
    ")  # the stream must be heated to T_rxn, so H101 duty is positive\n",
    "m.fs.operating_cost = Expression(\n",
    "    expr=(3600 * 8000 * (m.fs.heating_cost + m.fs.cooling_cost))\n",
    ")"
   ]
  },
  {
   "cell_type": "markdown",
   "metadata": {},
   "source": [
    "## Fixing Feed Conditions\n",
    "\n",
    "Let us first check how many degrees of freedom exist for this flowsheet using the `degrees_of_freedom` tool we imported earlier. We expect each stream to have 6 degrees of freedom, the mixer to have 0 (after both streams are accounted for), the heater to have 1 (just the duty, since the inlet is also the outlet of M101), and the reactor to have 2 unit specifications and 1 specification for each finite element. Therefore, we have 35 degrees of freedom to specify: temperature, pressure and flow of all four components on both streams; outlet heater temperature; a reactor property such as conversion or heat duty at each finite element; reactor volume and reactor length."
   ]
  },
  {
   "cell_type": "code",
   "execution_count": 12,
   "metadata": {
    "scrolled": true
   },
   "outputs": [
    {
     "name": "stdout",
     "output_type": "stream",
     "text": [
      "35\n"
     ]
    }
   ],
   "source": [
    "print(degrees_of_freedom(m))"
   ]
  },
  {
   "cell_type": "code",
   "execution_count": 13,
   "metadata": {
    "tags": [
     "testing"
    ]
   },
   "outputs": [],
   "source": [
    "# Check the degrees of freedom\n",
    "assert degrees_of_freedom(m) == 35"
   ]
  },
  {
   "cell_type": "markdown",
   "metadata": {},
   "source": [
    "We will now be fixing the feed stream to the conditions shown in the flowsheet above. As mentioned in other tutorials, the IDAES framework expects a time index value for every referenced internal stream or unit variable, even in steady-state systems with a single time point $ t = 0 $ (`t = [0]` is the default when creating a `FlowsheetBlock` without passing a `time_set` argument). The non-present components in each stream are assigned a very small non-zero value to help with convergence and initializing. Based on stoichiometric ratios for the reaction, 80% conversion and 200 MM lb/year (46.4 mol/s) of ethylene glycol, we will initialize our simulation with the following calculated values:"
   ]
  },
  {
   "cell_type": "code",
   "execution_count": 14,
   "metadata": {},
   "outputs": [],
   "source": [
    "m.fs.OXIDE.outlet.flow_mol_phase_comp[0, \"Liq\", \"ethylene_oxide\"].fix(\n",
    "    58.0 * pyunits.mol / pyunits.s\n",
    ")\n",
    "m.fs.OXIDE.outlet.flow_mol_phase_comp[0, \"Liq\", \"water\"].fix(\n",
    "    39.6 * pyunits.mol / pyunits.s\n",
    ")  # calculated from 16.1 mol EO / cudm in stream\n",
    "m.fs.OXIDE.outlet.flow_mol_phase_comp[0, \"Liq\", \"sulfuric_acid\"].fix(\n",
    "    1e-5 * pyunits.mol / pyunits.s\n",
    ")\n",
    "m.fs.OXIDE.outlet.flow_mol_phase_comp[0, \"Liq\", \"ethylene_glycol\"].fix(\n",
    "    1e-5 * pyunits.mol / pyunits.s\n",
    ")\n",
    "m.fs.OXIDE.outlet.temperature.fix(298.15 * pyunits.K)\n",
    "m.fs.OXIDE.outlet.pressure.fix(1e5 * pyunits.Pa)\n",
    "\n",
    "m.fs.ACID.outlet.flow_mol_phase_comp[0, \"Liq\", \"ethylene_oxide\"].fix(\n",
    "    1e-5 * pyunits.mol / pyunits.s\n",
    ")\n",
    "m.fs.ACID.outlet.flow_mol_phase_comp[0, \"Liq\", \"water\"].fix(\n",
    "    200 * pyunits.mol / pyunits.s\n",
    ")\n",
    "m.fs.ACID.outlet.flow_mol_phase_comp[0, \"Liq\", \"sulfuric_acid\"].fix(\n",
    "    0.334 * pyunits.mol / pyunits.s\n",
    ")  # calculated from 0.9 wt% SA in stream\n",
    "m.fs.ACID.outlet.flow_mol_phase_comp[0, \"Liq\", \"ethylene_glycol\"].fix(\n",
    "    1e-5 * pyunits.mol / pyunits.s\n",
    ")\n",
    "m.fs.ACID.outlet.temperature.fix(298.15 * pyunits.K)\n",
    "m.fs.ACID.outlet.pressure.fix(1e5 * pyunits.Pa)"
   ]
  },
  {
   "cell_type": "markdown",
   "metadata": {},
   "source": [
    "## Fixing Unit Model Specifications\n",
    "\n",
    "Now that we have fixed our inlet feed conditions, we will now be fixing the operating conditions for the unit models in the flowsheet. Let us fix the outlet temperature of H101 to 328.15 K. "
   ]
  },
  {
   "cell_type": "code",
   "execution_count": 15,
   "metadata": {},
   "outputs": [],
   "source": [
    "m.fs.H101.outlet.temperature.fix(328.15 * pyunits.K)"
   ]
  },
  {
   "cell_type": "markdown",
   "metadata": {},
   "source": [
    "For the `PFR`, we have to define the conversion in terms of ethylene oxide. Note that the `PFR` reaction volume variable (m.fs.R101.volume) does not need to be defined here since it is internally defined by the `PFR` model. We'll estimate 50% conversion for our initial flowsheet:"
   ]
  },
  {
   "cell_type": "code",
   "execution_count": 16,
   "metadata": {},
   "outputs": [],
   "source": [
    "m.fs.R101.conversion = Var(\n",
    "    bounds=(0, 1), initialize=0.80, units=pyunits.dimensionless\n",
    ")  # fraction\n",
    "\n",
    "m.fs.R101.conv_constraint = Constraint(\n",
    "    expr=m.fs.R101.conversion\n",
    "    * m.fs.R101.inlet.flow_mol_phase_comp[0, \"Liq\", \"ethylene_oxide\"]\n",
    "    == (\n",
    "        m.fs.R101.inlet.flow_mol_phase_comp[0, \"Liq\", \"ethylene_oxide\"]\n",
    "        - m.fs.R101.outlet.flow_mol_phase_comp[0, \"Liq\", \"ethylene_oxide\"]\n",
    "    )\n",
    ")\n",
    "\n",
    "for x in m.fs.R101.control_volume.length_domain:\n",
    "    if x == 0:\n",
    "        continue\n",
    "    m.fs.R101.control_volume.properties[0, x].temperature.fix(\n",
    "        328.15 * pyunits.K\n",
    "    )  # equal inlet reactor temperature\n",
    "\n",
    "m.fs.R101.conversion.fix(0.5)\n",
    "\n",
    "m.fs.R101.length.fix(1 * pyunits.m)"
   ]
  },
  {
   "cell_type": "markdown",
   "metadata": {},
   "source": [
    "As we did not place a specification on reactor duty, the solver may try positive values to increase the reaction temperature and rate. To prevent the optimization from diverging, we need to set an upper bound restricting heat flow to cooling only:"
   ]
  },
  {
   "cell_type": "code",
   "execution_count": 17,
   "metadata": {},
   "outputs": [],
   "source": [
    "m.fs.R101.heat_duty.setub(\n",
    "    0 * pyunits.J / pyunits.m / pyunits.s\n",
    ")  # heat duty is only used for cooling"
   ]
  },
  {
   "cell_type": "markdown",
   "metadata": {},
   "source": [
    "For initialization, we solve a square problem (degrees of freedom = 0). Let's check the degrees of freedom below:"
   ]
  },
  {
   "cell_type": "code",
   "execution_count": 18,
   "metadata": {},
   "outputs": [
    {
     "name": "stdout",
     "output_type": "stream",
     "text": [
      "0\n"
     ]
    }
   ],
   "source": [
    "print(degrees_of_freedom(m))"
   ]
  },
  {
   "cell_type": "code",
   "execution_count": 19,
   "metadata": {
    "tags": [
     "testing"
    ]
   },
   "outputs": [],
   "source": [
    "# Check the degrees of freedom\n",
    "assert degrees_of_freedom(m) == 0"
   ]
  },
  {
   "cell_type": "markdown",
   "metadata": {},
   "source": [
    "Finally, we need to initialize the each unit operation in sequence to solve the flowsheet. As in best practice, unit operations are initialized or solved, and outlet properties are propagated to connected inlet streams via arc definitions as follows:"
   ]
  },
  {
   "cell_type": "code",
   "execution_count": 20,
   "metadata": {},
   "outputs": [
    {
     "name": "stdout",
     "output_type": "stream",
     "text": [
      "2024-05-20 14:15:05 [INFO] idaes.init.fs.OXIDE.properties: Starting initialization\n",
      "2024-05-20 14:15:05 [INFO] idaes.init.fs.OXIDE.properties: Property initialization: optimal - Optimal Solution Found.\n",
      "2024-05-20 14:15:05 [INFO] idaes.init.fs.OXIDE.properties: Property package initialization: optimal - Optimal Solution Found.\n",
      "2024-05-20 14:15:05 [INFO] idaes.init.fs.OXIDE: Initialization Complete.\n",
      "2024-05-20 14:15:05 [INFO] idaes.init.fs.ACID.properties: Starting initialization\n",
      "2024-05-20 14:15:05 [INFO] idaes.init.fs.ACID.properties: Property initialization: optimal - Optimal Solution Found.\n",
      "2024-05-20 14:15:05 [INFO] idaes.init.fs.ACID.properties: Property package initialization: optimal - Optimal Solution Found.\n",
      "2024-05-20 14:15:05 [INFO] idaes.init.fs.ACID: Initialization Complete.\n",
      "2024-05-20 14:15:05 [INFO] idaes.init.fs.M101.reagent_feed_state: Starting initialization\n",
      "2024-05-20 14:15:05 [INFO] idaes.init.fs.M101.reagent_feed_state: Property initialization: optimal - Optimal Solution Found.\n",
      "2024-05-20 14:15:05 [INFO] idaes.init.fs.M101.catalyst_feed_state: Starting initialization\n",
      "2024-05-20 14:15:05 [INFO] idaes.init.fs.M101.catalyst_feed_state: Property initialization: optimal - Optimal Solution Found.\n",
      "2024-05-20 14:15:05 [INFO] idaes.init.fs.M101.mixed_state: Starting initialization\n",
      "2024-05-20 14:15:06 [INFO] idaes.init.fs.M101.mixed_state: Property initialization: optimal - Optimal Solution Found.\n",
      "2024-05-20 14:15:06 [INFO] idaes.init.fs.M101.mixed_state: Property package initialization: optimal - Optimal Solution Found.\n",
      "2024-05-20 14:15:06 [INFO] idaes.init.fs.M101: Initialization Complete: optimal - Optimal Solution Found\n",
      "2024-05-20 14:15:06 [INFO] idaes.init.fs.H101.control_volume.properties_in: Starting initialization\n",
      "2024-05-20 14:15:06 [INFO] idaes.init.fs.H101.control_volume.properties_in: Property initialization: optimal - Optimal Solution Found.\n",
      "2024-05-20 14:15:06 [INFO] idaes.init.fs.H101.control_volume.properties_out: Starting initialization\n",
      "2024-05-20 14:15:06 [INFO] idaes.init.fs.H101.control_volume.properties_out: Property initialization: optimal - Optimal Solution Found.\n",
      "2024-05-20 14:15:06 [INFO] idaes.init.fs.H101.control_volume: Initialization Complete\n",
      "2024-05-20 14:15:06 [INFO] idaes.init.fs.H101: Initialization Complete: optimal - Optimal Solution Found\n",
      "2024-05-20 14:15:06 [INFO] idaes.init.fs.R101.control_volume.properties: Starting initialization\n",
      "2024-05-20 14:15:06 [INFO] idaes.init.fs.R101.control_volume.properties: Property initialization: optimal - Optimal Solution Found.\n",
      "2024-05-20 14:15:06 [INFO] idaes.init.fs.R101.control_volume.reactions: Initialization Complete.\n",
      "2024-05-20 14:15:06 [INFO] idaes.init.fs.R101.control_volume: Initialization Complete\n",
      "2024-05-20 14:15:06 [INFO] idaes.init.fs.R101: Initialization Complete: optimal - Optimal Solution Found\n",
      "2024-05-20 14:15:06 [INFO] idaes.init.fs.PROD.properties: Starting initialization\n",
      "2024-05-20 14:15:07 [INFO] idaes.init.fs.PROD.properties: Property initialization: optimal - Optimal Solution Found.\n",
      "2024-05-20 14:15:07 [INFO] idaes.init.fs.PROD.properties: Property package initialization: optimal - Optimal Solution Found.\n",
      "2024-05-20 14:15:07 [INFO] idaes.init.fs.PROD: Initialization Complete.\n"
     ]
    }
   ],
   "source": [
    "# Initialize and solve each unit operation\n",
    "m.fs.OXIDE.initialize()\n",
    "propagate_state(arc=m.fs.s01)\n",
    "\n",
    "m.fs.ACID.initialize()\n",
    "propagate_state(arc=m.fs.s01)\n",
    "\n",
    "m.fs.M101.initialize()\n",
    "propagate_state(arc=m.fs.s03)\n",
    "\n",
    "m.fs.H101.initialize()\n",
    "propagate_state(arc=m.fs.s04)\n",
    "\n",
    "m.fs.R101.initialize()\n",
    "propagate_state(arc=m.fs.s05)\n",
    "\n",
    "m.fs.PROD.initialize()\n",
    "\n",
    "# set solver\n",
    "solver = get_solver()"
   ]
  },
  {
   "cell_type": "code",
   "execution_count": 21,
   "metadata": {
    "scrolled": true
   },
   "outputs": [
    {
     "name": "stdout",
     "output_type": "stream",
     "text": [
      "Ipopt 3.13.2: nlp_scaling_method=gradient-based\n",
      "tol=1e-06\n",
      "max_iter=200\n",
      "\n",
      "\n",
      "******************************************************************************\n",
      "This program contains Ipopt, a library for large-scale nonlinear optimization.\n",
      " Ipopt is released as open source code under the Eclipse Public License (EPL).\n",
      "         For more information visit http://projects.coin-or.org/Ipopt\n",
      "\n",
      "This version of Ipopt was compiled from source code available at\n",
      "    https://github.com/IDAES/Ipopt as part of the Institute for the Design of\n",
      "    Advanced Energy Systems Process Systems Engineering Framework (IDAES PSE\n",
      "    Framework) Copyright (c) 2018-2019. See https://github.com/IDAES/idaes-pse.\n",
      "\n",
      "This version of Ipopt was compiled using HSL, a collection of Fortran codes\n",
      "    for large-scale scientific computation.  All technical papers, sales and\n",
      "    publicity material resulting from use of the HSL codes within IPOPT must\n",
      "    contain the following acknowledgement:\n",
      "        HSL, a collection of Fortran codes for large-scale scientific\n",
      "        computation. See http://www.hsl.rl.ac.uk.\n",
      "******************************************************************************\n",
      "\n",
      "This is Ipopt version 3.13.2, running with linear solver ma27.\n",
      "\n",
      "Number of nonzeros in equality constraint Jacobian...:     1923\n",
      "Number of nonzeros in inequality constraint Jacobian.:        0\n",
      "Number of nonzeros in Lagrangian Hessian.............:     1323\n",
      "\n",
      "Total number of variables............................:      608\n",
      "                     variables with only lower bounds:        0\n",
      "                variables with lower and upper bounds:      257\n",
      "                     variables with only upper bounds:       20\n",
      "Total number of equality constraints.................:      608\n",
      "Total number of inequality constraints...............:        0\n",
      "        inequality constraints with only lower bounds:        0\n",
      "   inequality constraints with lower and upper bounds:        0\n",
      "        inequality constraints with only upper bounds:        0\n",
      "\n",
      "iter    objective    inf_pr   inf_du lg(mu)  ||d||  lg(rg) alpha_du alpha_pr  ls\n",
      "   0  0.0000000e+00 1.24e+06 1.00e+00  -1.0 0.00e+00    -  0.00e+00 0.00e+00   0\n",
      "   1  0.0000000e+00 1.55e+07 2.12e+05  -1.0 1.11e+08    -  2.85e-01 9.90e-01f  1\n",
      "   2  0.0000000e+00 2.43e+05 5.35e+03  -1.0 1.11e+06    -  8.25e-01 9.90e-01h  1\n",
      "   3  0.0000000e+00 2.41e+03 5.68e+01  -1.0 1.11e+04    -  9.90e-01 9.90e-01h  1\n",
      "   4  0.0000000e+00 1.83e+01 3.21e+03  -1.0 1.10e+02    -  9.90e-01 9.92e-01h  1\n",
      "   5  0.0000000e+00 4.61e-07 4.87e+03  -1.0 8.35e-01    -  9.91e-01 1.00e+00h  1\n",
      "Cannot recompute multipliers for feasibility problem.  Error in eq_mult_calculator\n",
      "\n",
      "Number of Iterations....: 5\n",
      "\n",
      "                                   (scaled)                 (unscaled)\n",
      "Objective...............:   0.0000000000000000e+00    0.0000000000000000e+00\n",
      "Dual infeasibility......:   1.6686898166535613e+06    1.6686898166535613e+06\n",
      "Constraint violation....:   4.6147033572196960e-07    4.6147033572196960e-07\n",
      "Complementarity.........:   0.0000000000000000e+00    0.0000000000000000e+00\n",
      "Overall NLP error.......:   4.6147033572196960e-07    1.6686898166535613e+06\n",
      "\n",
      "\n",
      "Number of objective function evaluations             = 6\n",
      "Number of objective gradient evaluations             = 6\n",
      "Number of equality constraint evaluations            = 6\n",
      "Number of inequality constraint evaluations          = 0\n",
      "Number of equality constraint Jacobian evaluations   = 6\n",
      "Number of inequality constraint Jacobian evaluations = 0\n",
      "Number of Lagrangian Hessian evaluations             = 5\n",
      "Total CPU secs in IPOPT (w/o function evaluations)   =      0.008\n",
      "Total CPU secs in NLP function evaluations           =      0.001\n",
      "\n",
      "EXIT: Optimal Solution Found.\n"
     ]
    }
   ],
   "source": [
    "# Solve the model\n",
    "results = solver.solve(m, tee=True)"
   ]
  },
  {
   "cell_type": "code",
   "execution_count": 22,
   "metadata": {
    "tags": [
     "testing"
    ]
   },
   "outputs": [],
   "source": [
    "# Check solver solve status\n",
    "from pyomo.environ import TerminationCondition\n",
    "\n",
    "assert results.solver.termination_condition == TerminationCondition.optimal"
   ]
  },
  {
   "cell_type": "markdown",
   "metadata": {},
   "source": [
    "## Analyze the Results of the Square Problem\n",
    "\n",
    "\n",
    "What is the total operating cost? "
   ]
  },
  {
   "cell_type": "code",
   "execution_count": 23,
   "metadata": {},
   "outputs": [
    {
     "name": "stdout",
     "output_type": "stream",
     "text": [
      "operating cost = $6.589 million per year\n"
     ]
    }
   ],
   "source": [
    "print(f\"operating cost = ${value(m.fs.operating_cost)/1e6:0.3f} million per year\")"
   ]
  },
  {
   "cell_type": "code",
   "execution_count": 24,
   "metadata": {
    "tags": [
     "testing"
    ]
   },
   "outputs": [],
   "source": [
    "import pytest\n",
    "\n",
    "assert value(m.fs.operating_cost) / 1e6 == pytest.approx(6.589, rel=1e-3)"
   ]
  },
  {
   "cell_type": "markdown",
   "metadata": {},
   "source": [
    "For this operating cost, what conversion did we achieve of ethylene oxide to ethylene glycol? "
   ]
  },
  {
   "cell_type": "code",
   "execution_count": 25,
   "metadata": {},
   "outputs": [
    {
     "name": "stdout",
     "output_type": "stream",
     "text": [
      "\n",
      "====================================================================================\n",
      "Unit : fs.R101                                                             Time: 0.0\n",
      "------------------------------------------------------------------------------------\n",
      "    Unit Performance\n",
      "\n",
      "    Variables: \n",
      "\n",
      "    Key  : Value   : Units      : Fixed : Bounds\n",
      "    Area : 0.98560 : meter ** 2 : False : (None, None)\n",
      "\n",
      "------------------------------------------------------------------------------------\n",
      "    Stream Table\n",
      "                                                  Units         Inlet     Outlet  \n",
      "    Molar Flowrate ('Liq', 'ethylene_oxide')   mole / second     58.000     29.000\n",
      "    Molar Flowrate ('Liq', 'water')            mole / second     239.60     210.60\n",
      "    Molar Flowrate ('Liq', 'sulfuric_acid')    mole / second    0.33401    0.33401\n",
      "    Molar Flowrate ('Liq', 'ethylene_glycol')  mole / second 2.0000e-05     29.000\n",
      "    Temperature                                       kelvin     328.15     328.15\n",
      "    Pressure                                          pascal 1.0000e+05 1.0000e+05\n",
      "====================================================================================\n",
      "\n",
      "Conversion achieved = 50.0%\n",
      "\n",
      "Total heat duty required = -3.617 MJ\n",
      "\n",
      "Tube area required = 0.986 m^2\n",
      "\n",
      "Tube length required = 1.000 m\n",
      "\n",
      "Tube volume required = 0.986 m^3\n"
     ]
    }
   ],
   "source": [
    "m.fs.R101.report()\n",
    "\n",
    "print()\n",
    "print(f\"Conversion achieved = {value(m.fs.R101.conversion):.1%}\")\n",
    "print()\n",
    "print(\n",
    "    f\"Total heat duty required = \"\n",
    "    f\"\"\"{(value(m.fs.R101.length) / value(m.fs.R101.config.finite_elements) * \n",
    "    (value(sum(m.fs.R101.heat_duty[0, k] for k in  m.fs.R101.control_volume.length_domain if 0.0 <= k < 1.0))\n",
    "    + (value(m.fs.R101.heat_duty[0, m.fs.R101.control_volume.length_domain.at(1)])\n",
    "    + value(m.fs.R101.heat_duty[0, m.fs.R101.control_volume.length_domain.at(-1)]))/2))/1e6:0.3f}\"\"\"\n",
    "    f\" MJ\"\n",
    ")\n",
    "print()\n",
    "print(f\"Tube area required = {value(m.fs.R101.area):0.3f} m^2\")\n",
    "print()\n",
    "print(f\"Tube length required = {value(m.fs.R101.length):0.3f} m\")\n",
    "print()\n",
    "print(f\"Tube volume required = {value(m.fs.R101.volume):0.3f} m^3\")"
   ]
  },
  {
   "cell_type": "code",
   "execution_count": 26,
   "metadata": {
    "tags": [
     "testing"
    ]
   },
   "outputs": [],
   "source": [
    "assert value(m.fs.R101.conversion) == pytest.approx(0.5000, rel=1e-3)\n",
    "assert value(m.fs.R101.area) == pytest.approx(0.9856, rel=1e-3)\n",
    "assert (\n",
    "    value(m.fs.R101.length)\n",
    "    / value(m.fs.R101.config.finite_elements)\n",
    "    * value(\n",
    "        sum(\n",
    "            m.fs.R101.heat_duty[0, k]\n",
    "            for k in m.fs.R101.control_volume.length_domain\n",
    "            if 0.0 <= k < 1.0\n",
    "        )\n",
    "    )\n",
    "    + (\n",
    "        value(m.fs.R101.heat_duty[0, m.fs.R101.control_volume.length_domain.at(1)])\n",
    "        + value(m.fs.R101.heat_duty[0, m.fs.R101.control_volume.length_domain.at(-1)])\n",
    "    )\n",
    "    / 2\n",
    ") / 1e6 == pytest.approx(-4.882, rel=1e-3)\n",
    "assert value(m.fs.R101.outlet.temperature[0]) / 1e2 == pytest.approx(3.2815, rel=1e-3)"
   ]
  },
  {
   "cell_type": "markdown",
   "metadata": {},
   "source": [
    "## Optimizing Ethylene Glycol Production\n",
    "\n",
    "Now that the flowsheet has been squared and solved, we can run a small optimization problem to minimize our production costs. Suppose we require at least 200 million pounds/year of ethylene glycol produced and 90% conversion of ethylene oxide, allowing for variable reactor volume (considering operating/non-capital costs only) and reactor temperature (heater outlet)."
   ]
  },
  {
   "cell_type": "markdown",
   "metadata": {},
   "source": [
    "Let us declare our objective function for this problem. "
   ]
  },
  {
   "cell_type": "code",
   "execution_count": 27,
   "metadata": {},
   "outputs": [],
   "source": [
    "m.fs.objective = Objective(expr=m.fs.operating_cost)"
   ]
  },
  {
   "cell_type": "markdown",
   "metadata": {},
   "source": [
    "Now, we need to add the design constraints and unfix the decision variables as we had solved a square problem (degrees of freedom = 0) until now, as well as set bounds for the design variables:"
   ]
  },
  {
   "cell_type": "code",
   "execution_count": 28,
   "metadata": {},
   "outputs": [],
   "source": [
    "m.fs.eg_prod_con = Constraint(\n",
    "    expr=m.fs.eg_prod >= 200 * pyunits.Mlb / pyunits.yr\n",
    ")  # MM lb/year\n",
    "m.fs.R101.conversion.fix(0.90)\n",
    "\n",
    "m.fs.R101.volume.setlb(0 * pyunits.m**3)\n",
    "m.fs.R101.volume.setub(pyunits.convert(5000 * pyunits.gal, to_units=pyunits.m**3))\n",
    "\n",
    "m.fs.R101.length.unfix()\n",
    "m.fs.R101.length.setlb(0 * pyunits.m)\n",
    "m.fs.R101.length.setub(5 * pyunits.m)\n",
    "\n",
    "m.fs.H101.outlet.temperature.unfix()\n",
    "m.fs.H101.outlet.temperature[0].setlb(328.15 * pyunits.K)\n",
    "m.fs.H101.outlet.temperature[0].setub(\n",
    "    470.45 * pyunits.K\n",
    ")  # highest component boiling point (ethylene glycol)\n",
    "\n",
    "for x in m.fs.R101.control_volume.length_domain:\n",
    "    if x == 0:\n",
    "        continue\n",
    "    m.fs.R101.control_volume.properties[\n",
    "        0, x\n",
    "    ].temperature.unfix()  # allow for temperature change in each finite element"
   ]
  },
  {
   "cell_type": "code",
   "execution_count": 29,
   "metadata": {
    "tags": [
     "testing"
    ]
   },
   "outputs": [],
   "source": [
    "assert degrees_of_freedom(m) == 22  # 2 unit variables and 20 finite element variables"
   ]
  },
  {
   "cell_type": "markdown",
   "metadata": {},
   "source": [
    "\n",
    "We have now defined the optimization problem and we are now ready to solve this problem. \n",
    "\n",
    "\n"
   ]
  },
  {
   "cell_type": "code",
   "execution_count": 30,
   "metadata": {
    "scrolled": true
   },
   "outputs": [
    {
     "name": "stdout",
     "output_type": "stream",
     "text": [
      "Ipopt 3.13.2: nlp_scaling_method=gradient-based\n",
      "tol=1e-06\n",
      "max_iter=200\n",
      "\n",
      "\n",
      "******************************************************************************\n",
      "This program contains Ipopt, a library for large-scale nonlinear optimization.\n",
      " Ipopt is released as open source code under the Eclipse Public License (EPL).\n",
      "         For more information visit http://projects.coin-or.org/Ipopt\n",
      "\n",
      "This version of Ipopt was compiled from source code available at\n",
      "    https://github.com/IDAES/Ipopt as part of the Institute for the Design of\n",
      "    Advanced Energy Systems Process Systems Engineering Framework (IDAES PSE\n",
      "    Framework) Copyright (c) 2018-2019. See https://github.com/IDAES/idaes-pse.\n",
      "\n",
      "This version of Ipopt was compiled using HSL, a collection of Fortran codes\n",
      "    for large-scale scientific computation.  All technical papers, sales and\n",
      "    publicity material resulting from use of the HSL codes within IPOPT must\n",
      "    contain the following acknowledgement:\n",
      "        HSL, a collection of Fortran codes for large-scale scientific\n",
      "        computation. See http://www.hsl.rl.ac.uk.\n",
      "******************************************************************************\n",
      "\n",
      "This is Ipopt version 3.13.2, running with linear solver ma27.\n",
      "\n",
      "Number of nonzeros in equality constraint Jacobian...:     2067\n",
      "Number of nonzeros in inequality constraint Jacobian.:        1\n",
      "Number of nonzeros in Lagrangian Hessian.............:     1886\n",
      "\n",
      "Total number of variables............................:      631\n",
      "                     variables with only lower bounds:        0\n",
      "                variables with lower and upper bounds:      280\n",
      "                     variables with only upper bounds:       21\n",
      "Total number of equality constraints.................:      608\n",
      "Total number of inequality constraints...............:        1\n",
      "        inequality constraints with only lower bounds:        1\n",
      "   inequality constraints with lower and upper bounds:        0\n",
      "        inequality constraints with only upper bounds:        0\n",
      "\n",
      "iter    objective    inf_pr   inf_du lg(mu)  ||d||  lg(rg) alpha_du alpha_pr  ls\n",
      "   0  6.5890113e+06 3.50e+06 1.00e+02  -1.0 0.00e+00    -  0.00e+00 0.00e+00   0\n",
      "   1  6.7062650e+06 2.91e+06 8.32e+01  -1.0 2.08e+06    -  7.82e-02 1.70e-01h  1\n",
      "   2  8.4753804e+06 8.06e+04 2.56e+02  -1.0 2.00e+06    -  3.84e-01 9.90e-01H  1\n",
      "   3  8.5041953e+06 3.12e+03 7.64e+01  -1.0 3.91e+05    -  9.34e-01 9.91e-01h  1\n",
      "   4  8.3381636e+06 4.86e+04 1.44e+04  -1.0 2.06e+07    -  1.90e-01 7.05e-02f  4\n",
      "   5  8.3413021e+06 5.73e+00 1.76e+06  -1.0 1.24e+04  -4.0 4.88e-01 1.00e+00h  1\n",
      "   6  8.3407522e+06 1.49e-02 1.60e+04  -1.0 1.37e+03  -4.5 9.90e-01 1.00e+00h  1\n",
      "   7  8.3407580e+06 4.14e-07 1.58e+02  -1.0 2.07e+02  -5.0 9.90e-01 1.00e+00f  1\n",
      "   8  8.1632997e+06 5.70e+04 1.51e+02  -1.0 5.98e+07    -  4.19e-02 2.31e-02f  3\n",
      "   9  8.0620878e+06 8.17e+04 1.51e+02  -1.0 6.78e+08    -  4.18e-03 8.82e-04f  3\n",
      "iter    objective    inf_pr   inf_du lg(mu)  ||d||  lg(rg) alpha_du alpha_pr  ls\n",
      "  10  8.0790088e+06 1.82e+02 1.89e+05  -1.0 2.04e+04  -5.4 3.89e-01 1.00e+00h  1\n",
      "  11  8.0777533e+06 7.66e-02 1.62e+03  -1.0 2.09e+03  -5.9 1.00e+00 1.00e+00h  1\n",
      "  12  8.0775471e+06 5.88e-05 7.07e-01  -1.0 4.87e+02  -6.4 1.00e+00 1.00e+00f  1\n",
      "  13  8.0767398e+06 9.74e-04 1.03e-02  -3.8 1.48e+02  -6.9 1.00e+00 1.00e+00f  1\n",
      "  14  8.0742991e+06 8.88e-03 1.52e-03  -3.8 4.46e+02  -7.3 1.00e+00 1.00e+00f  1\n",
      "  15  8.0669748e+06 8.00e-02 1.78e-04  -3.8 1.34e+03  -7.8 1.00e+00 1.00e+00f  1\n",
      "  16  8.0633841e+06 8.60e-02 2.07e+03  -5.7 3.99e+03  -8.3 1.00e+00 1.65e-01f  1\n",
      "  17  8.0632366e+06 5.83e-02 1.09e+03  -5.7 1.14e+03  -8.8 1.00e+00 4.74e-01h  1\n",
      "  18  8.0624636e+06 5.24e-01 5.43e-02  -5.7 3.19e+03  -9.2 1.00e+00 1.00e+00f  1\n",
      "  19  8.0601485e+06 4.71e+00 1.34e-03  -5.7 9.56e+03  -9.7 1.00e+00 1.00e+00f  1\n",
      "iter    objective    inf_pr   inf_du lg(mu)  ||d||  lg(rg) alpha_du alpha_pr  ls\n",
      "  20  8.0532064e+06 4.24e+01 1.20e-02  -5.7 2.87e+04 -10.2 1.00e+00 1.00e+00f  1\n",
      "  21  8.0324020e+06 3.82e+02 1.04e-01  -5.7 8.62e+04 -10.7 1.00e+00 1.00e+00f  1\n",
      "  22  7.9701802e+06 3.45e+03 8.34e-01  -5.7 2.60e+05 -11.2 1.00e+00 1.00e+00f  1\n",
      "  23  7.8922689e+06 7.47e+03 1.67e+00  -5.7 7.91e+05 -11.6 1.00e+00 4.19e-01f  1\n",
      "  24  7.8922688e+06 7.47e+03 1.67e+00  -5.7 6.79e+05 -12.1 1.00e+00 1.46e-06h  2\n",
      "  25  7.7985022e+06 9.96e+04 2.01e+01  -5.7 2.01e+06 -12.6 1.00e+00 1.00e+00f  1\n",
      "  26  7.7060388e+06 1.87e+05 1.99e+01  -5.7 1.76e+07 -13.1 1.00e+00 7.81e-02f  1\n",
      "  27  7.7060362e+06 1.87e+05 1.99e+01  -5.7 2.96e+06 -12.6 1.00e+00 2.16e-05h  1\n",
      "  28  7.6629029e+06 1.88e+05 1.98e+01  -5.7 2.50e+07 -13.1 6.85e-01 2.99e-02f  1\n",
      "  29  7.6320707e+06 1.29e+05 1.45e+01  -5.7 2.92e+06 -12.7 1.00e+00 3.07e-01h  1\n",
      "iter    objective    inf_pr   inf_du lg(mu)  ||d||  lg(rg) alpha_du alpha_pr  ls\n",
      "  30  7.6318689e+06 1.29e+05 1.44e+01  -5.7 1.56e+07 -13.2 1.00e+00 4.21e-04h  1\n",
      "  31  7.5995354e+06 9.16e+04 9.56e+00  -5.7 2.81e+06 -12.7 1.00e+00 3.75e-01h  1\n",
      "  32  7.5987331e+06 9.14e+04 9.54e+00  -5.7 1.49e+07 -13.2 1.00e+00 2.11e-03h  1\n",
      "  33  7.5662181e+06 7.45e+04 5.70e+00  -5.7 2.73e+06 -12.8 1.00e+00 4.35e-01h  1\n",
      "  34  7.5652516e+06 7.43e+04 5.68e+00  -5.7 1.39e+07 -13.3 1.00e+00 3.28e-03h  1\n",
      "  35  7.5328904e+06 7.18e+04 2.96e+00  -5.7 2.65e+06 -12.8 1.00e+00 5.07e-01h  1\n",
      "  36  7.5323971e+06 7.16e+04 2.96e+00  -5.7 1.25e+07 -13.3 1.00e+00 2.25e-03h  1\n",
      "  37  7.4997231e+06 7.89e+04 1.21e+00  -5.7 2.54e+06 -12.9 1.00e+00 6.13e-01h  1\n",
      "  38  7.4995708e+06 7.88e+04 1.21e+00  -5.7 1.09e+07 -13.4 1.00e+00 9.50e-04h  1\n",
      "  39  7.4663333e+06 9.24e+04 1.24e+00  -5.7 2.41e+06 -12.9 1.00e+00 7.51e-01h  1\n",
      "iter    objective    inf_pr   inf_du lg(mu)  ||d||  lg(rg) alpha_du alpha_pr  ls\n",
      "  40  7.4662826e+06 9.24e+04 1.24e+00  -5.7 9.38e+06 -13.4 1.00e+00 4.25e-04h  1\n",
      "  41  7.4314438e+06 1.12e+05 1.34e+00  -5.7 2.26e+06 -13.0 1.00e+00 9.30e-01h  1\n",
      "  42  7.4314076e+06 1.12e+05 1.34e+00  -5.7 8.56e+06 -13.5 1.00e+00 3.73e-04h  1\n",
      "  43  7.3989205e+06 1.15e+05 1.16e+00  -5.7 2.45e+06 -13.0 1.00e+00 1.00e+00h  1\n",
      "  44  7.3930244e+06 1.17e+05 1.16e+00  -5.7 1.58e+07 -13.5 1.00e+00 2.51e-02h  1\n",
      "  45  7.3589148e+06 1.48e+05 1.35e+00  -5.7 3.32e+06 -13.1 1.00e+00 1.00e+00h  1\n",
      "  46  7.3243165e+06 2.28e+05 2.15e+00  -5.7 2.53e+07 -13.6 1.00e+00 1.03e-01h  1\n",
      "  47  7.2636674e+06 3.65e+05 6.79e+00  -5.7 5.90e+06 -13.2 1.00e+00 1.00e+00h  1\n",
      "  48  7.2517688e+06 7.53e+04 1.17e+00  -5.7 2.61e+06 -12.7 1.00e+00 9.04e-01h  1\n",
      "  49  7.1085647e+06 5.44e+05 1.14e+01  -5.7 1.22e+07 -13.2 1.00e+00 6.21e-01f  1\n",
      "iter    objective    inf_pr   inf_du lg(mu)  ||d||  lg(rg) alpha_du alpha_pr  ls\n",
      "  50  7.0618984e+06 1.18e+05 1.10e+00  -5.7 4.67e+06 -12.8 1.00e+00 1.00e+00h  1\n",
      "  51  6.4252245e+06 1.53e+06 9.14e+00  -5.7 2.47e+07 -13.3 1.00e+00 6.86e-01f  1\n",
      "  52  6.4252097e+06 1.53e+06 9.14e+00  -5.7 3.23e+08 -13.7 4.17e-02 1.69e-06h  1\n",
      "  53  5.7942297e+06 1.66e+05 8.10e+02  -5.7 3.24e+07 -13.3 8.57e-05 1.00e+00f  1\n",
      "  54  5.7889255e+06 1.65e+05 8.09e+02  -5.7 8.47e+07 -13.8 1.21e-01 1.54e-03f  1\n",
      "  55  5.0757844e+06 2.33e+05 7.26e+02  -5.7 2.54e+08 -14.3 2.12e-01 7.06e-02f  1\n",
      "  56  4.9573062e+06 2.34e+05 7.23e+02  -5.7 7.32e+08 -14.7 1.60e-01 3.97e-03f  1\n",
      "  57  4.9548257e+06 2.34e+05 7.23e+02  -5.7 3.95e+09    -  2.25e-02 1.62e-05f  1\n",
      "  58  4.8544637e+06 2.35e+05 7.22e+02  -5.7 2.32e+09    -  4.85e-02 1.15e-03f  1\n",
      "  59  4.7849161e+06 2.34e+05 7.21e+02  -5.7 1.53e+09    -  1.58e-02 1.26e-03f  1\n",
      "iter    objective    inf_pr   inf_du lg(mu)  ||d||  lg(rg) alpha_du alpha_pr  ls\n",
      "  60  4.5951938e+06 2.34e+05 7.18e+02  -5.7 1.17e+09    -  1.05e-02 4.72e-03f  1\n",
      "  61  4.5927372e+06 2.34e+05 7.17e+02  -5.7 2.27e+08 -15.2 4.75e-03 3.54e-04f  1\n",
      "  62  4.5520698e+06 2.33e+05 7.12e+02  -5.7 2.65e+08    -  8.03e-03 7.23e-03f  1\n",
      "  63  4.5378438e+06 2.32e+05 7.10e+02  -5.7 2.29e+08    -  6.07e-03 2.98e-03f  1\n",
      "  64  4.5086029e+06 2.30e+05 7.04e+02  -5.7 1.69e+08    -  7.78e-02 8.92e-03f  1\n",
      "  65  4.4857030e+06 2.30e+05 7.03e+02  -5.7 1.31e+09 -14.8 6.05e-09 6.24e-04f  1\n",
      "  66  4.4777329e+06 2.29e+05 6.99e+02  -5.7 4.81e+07 -13.5 2.28e-02 5.33e-03f  1\n",
      "  67  4.4610632e+06 2.21e+05 6.75e+02  -5.7 1.30e+07 -13.0 2.06e-01 3.47e-02h  1\n",
      "  68  4.4489784e+06 2.20e+05 6.72e+02  -5.7 9.26e+07 -13.5 1.17e-02 4.85e-03f  1\n",
      "  69  4.4487175e+06 2.19e+05 6.70e+02  -5.7 1.42e+06 -12.2 7.76e-01 2.48e-03h  1\n",
      "iter    objective    inf_pr   inf_du lg(mu)  ||d||  lg(rg) alpha_du alpha_pr  ls\n",
      "  70  4.4443745e+06 2.14e+05 6.54e+02  -5.7 3.43e+06 -12.7 6.70e-01 2.33e-02h  1\n",
      "  71  4.4231622e+06 2.01e+05 6.14e+02  -5.7 1.09e+07 -13.1 1.64e-01 6.19e-02h  1\n",
      "  72  4.4231616e+06 2.01e+05 6.14e+02  -5.7 1.47e+06 -11.8 9.27e-02 1.29e-04h  1\n",
      "  73  4.4225287e+06 1.55e+05 4.74e+02  -5.7 2.40e+06    -  9.20e-01 2.31e-01h  1\n",
      "  74  4.4220119e+06 1.57e+05 2.39e+02  -5.7 2.14e+06    -  2.55e-05 5.03e-01h  1\n",
      "  75  4.4215706e+06 5.20e+04 7.52e+01  -5.7 1.06e+06 -12.3 2.24e-01 6.64e-01h  1\n",
      "  76  4.4215368e+06 3.93e+04 4.73e+00  -5.7 9.27e+05 -12.8 1.65e-01 1.00e+00h  1\n",
      "  77  4.4215312e+06 1.77e+02 5.05e+00  -5.7 1.32e+05 -13.2 8.81e-01 1.00e+00h  1\n",
      "  78  4.4215310e+06 7.99e-01 1.09e-02  -5.7 7.99e+03 -13.7 1.00e+00 1.00e+00h  1\n",
      "  79  4.4215310e+06 1.36e+04 9.80e-03  -5.7 3.39e+06    -  1.00e+00 1.08e-01h  2\n",
      "iter    objective    inf_pr   inf_du lg(mu)  ||d||  lg(rg) alpha_du alpha_pr  ls\n",
      "  80  4.4215310e+06 9.90e+03 9.32e-04  -5.7 6.52e+05    -  1.00e+00 1.00e+00h  1\n",
      "  81  4.4215310e+06 4.34e+00 2.21e-05  -5.7 3.57e+04    -  1.00e+00 1.00e+00h  1\n",
      "  82  4.4215310e+06 2.75e+00 6.26e-08  -5.7 2.67e+04    -  1.00e+00 1.00e+00h  1\n",
      "  83  4.4215310e+06 1.10e-03 1.84e-11  -5.7 4.99e+02    -  1.00e+00 1.00e+00h  1\n",
      "  84  4.4215302e+06 3.05e-07 3.19e-10  -8.6 2.39e+01    -  1.00e+00 1.00e+00h  1\n",
      "\n",
      "Number of Iterations....: 84\n",
      "\n",
      "                                   (scaled)                 (unscaled)\n",
      "Objective...............:   2.0399399058705549e+02    4.4215302056112560e+06\n",
      "Dual infeasibility......:   3.1883161994853613e-10    6.9106135629265704e-06\n",
      "Constraint violation....:   3.0547380447387695e-07    3.0547380447387695e-07\n",
      "Complementarity.........:   2.5107403576252549e-09    5.4419810592164126e-05\n",
      "Overall NLP error.......:   3.0547380447387695e-07    5.4419810592164126e-05\n",
      "\n",
      "\n",
      "Number of objective function evaluations             = 103\n",
      "Number of objective gradient evaluations             = 85\n",
      "Number of equality constraint evaluations            = 103\n",
      "Number of inequality constraint evaluations          = 103\n",
      "Number of equality constraint Jacobian evaluations   = 85\n",
      "Number of inequality constraint Jacobian evaluations = 85\n",
      "Number of Lagrangian Hessian evaluations             = 84\n",
      "Total CPU secs in IPOPT (w/o function evaluations)   =      0.234\n",
      "Total CPU secs in NLP function evaluations           =      0.020\n",
      "\n",
      "EXIT: Optimal Solution Found.\n"
     ]
    }
   ],
   "source": [
    "results = solver.solve(m, tee=True)"
   ]
  },
  {
   "cell_type": "code",
   "execution_count": 31,
   "metadata": {
    "tags": [
     "testing"
    ]
   },
   "outputs": [],
   "source": [
    "# Check for solver solve status\n",
    "from pyomo.environ import TerminationCondition\n",
    "\n",
    "assert results.solver.termination_condition == TerminationCondition.optimal"
   ]
  },
  {
   "cell_type": "code",
   "execution_count": 32,
   "metadata": {},
   "outputs": [
    {
     "name": "stdout",
     "output_type": "stream",
     "text": [
      "operating cost = $4.422 million per year\n",
      "\n",
      "Heater results\n",
      "\n",
      "====================================================================================\n",
      "Unit : fs.H101                                                             Time: 0.0\n",
      "------------------------------------------------------------------------------------\n",
      "    Unit Performance\n",
      "\n",
      "    Variables: \n",
      "\n",
      "    Key       : Value      : Units : Fixed : Bounds\n",
      "    Heat Duty : 6.9784e+05 :  watt : False : (None, None)\n",
      "\n",
      "------------------------------------------------------------------------------------\n",
      "    Stream Table\n",
      "                                                  Units         Inlet     Outlet  \n",
      "    Molar Flowrate ('Liq', 'ethylene_oxide')   mole / second     58.000     58.000\n",
      "    Molar Flowrate ('Liq', 'water')            mole / second     239.60     239.60\n",
      "    Molar Flowrate ('Liq', 'sulfuric_acid')    mole / second    0.33401    0.33401\n",
      "    Molar Flowrate ('Liq', 'ethylene_glycol')  mole / second 2.0000e-05 2.0000e-05\n",
      "    Temperature                                       kelvin     298.15     328.15\n",
      "    Pressure                                          pascal 1.0000e+05 1.0000e+05\n",
      "====================================================================================\n",
      "\n",
      "PFR reactor results\n",
      "\n",
      "====================================================================================\n",
      "Unit : fs.R101                                                             Time: 0.0\n",
      "------------------------------------------------------------------------------------\n",
      "    Unit Performance\n",
      "\n",
      "    Variables: \n",
      "\n",
      "    Key  : Value  : Units      : Fixed : Bounds\n",
      "    Area : 2.9260 : meter ** 2 : False : (None, None)\n",
      "\n",
      "------------------------------------------------------------------------------------\n",
      "    Stream Table\n",
      "                                                  Units         Inlet     Outlet  \n",
      "    Molar Flowrate ('Liq', 'ethylene_oxide')   mole / second     58.000     5.8000\n",
      "    Molar Flowrate ('Liq', 'water')            mole / second     239.60     187.40\n",
      "    Molar Flowrate ('Liq', 'sulfuric_acid')    mole / second    0.33401    0.33401\n",
      "    Molar Flowrate ('Liq', 'ethylene_glycol')  mole / second 2.0000e-05     52.200\n",
      "    Temperature                                       kelvin     328.15     286.11\n",
      "    Pressure                                          pascal 1.0000e+05 1.0000e+05\n",
      "====================================================================================\n"
     ]
    }
   ],
   "source": [
    "print(f\"operating cost = ${value(m.fs.operating_cost)/1e6:0.3f} million per year\")\n",
    "\n",
    "print()\n",
    "print(\"Heater results\")\n",
    "\n",
    "m.fs.H101.report()\n",
    "\n",
    "print()\n",
    "print(\"PFR reactor results\")\n",
    "\n",
    "m.fs.R101.report()"
   ]
  },
  {
   "cell_type": "code",
   "execution_count": 33,
   "metadata": {
    "tags": [
     "testing"
    ]
   },
   "outputs": [],
   "source": [
    "assert value(m.fs.operating_cost) / 1e6 == pytest.approx(4.422, rel=1e-3)\n",
    "assert value(m.fs.R101.area) == pytest.approx(2.9260, rel=1e-3)"
   ]
  },
  {
   "cell_type": "markdown",
   "metadata": {},
   "source": [
    "Display optimal values for the decision variables and design variables:"
   ]
  },
  {
   "cell_type": "code",
   "execution_count": 34,
   "metadata": {},
   "outputs": [
    {
     "name": "stdout",
     "output_type": "stream",
     "text": [
      "Optimal Values\n",
      "\n",
      "H101 outlet temperature = 328.150 K\n",
      "\n",
      "Total heat duty required =  -3.790 MJ\n",
      "\n",
      "Tube area required = 2.926 m^2\n",
      "\n",
      "Tube length required = 4.982 m\n",
      "\n",
      "Assuming a 20% design factor for reactor volume,total CSTR volume required = 17.494 m^3 = 4621.519 gal\n",
      "\n",
      "Ethylene glycol produced = 225.415 MM lb/year\n",
      "\n",
      "Conversion achieved = 90.0%\n"
     ]
    }
   ],
   "source": [
    "print(\"Optimal Values\")\n",
    "print()\n",
    "\n",
    "print(f\"H101 outlet temperature = {value(m.fs.H101.outlet.temperature[0]):0.3f} K\")\n",
    "\n",
    "print()\n",
    "print(\n",
    "    \"Total heat duty required = \",\n",
    "    f\"\"\"{(value(m.fs.R101.length) / value(m.fs.R101.config.finite_elements) * (value(sum(m.fs.R101.heat_duty[0, k] for k in  m.fs.R101.control_volume.length_domain if 0.0 <= k < 1.0))\n",
    "    + (value(m.fs.R101.heat_duty[0, m.fs.R101.control_volume.length_domain.at(1)])\n",
    "    + value(m.fs.R101.heat_duty[0, m.fs.R101.control_volume.length_domain.at(-1)]))/2))/1e6:0.3f}\"\"\"\n",
    "    f\" MJ\",\n",
    ")\n",
    "print()\n",
    "print(f\"Tube area required = {value(m.fs.R101.area):0.3f} m^2\")\n",
    "\n",
    "print()\n",
    "print(f\"Tube length required = {value(m.fs.R101.length):0.3f} m\")\n",
    "\n",
    "print()\n",
    "print(\n",
    "    f\"Assuming a 20% design factor for reactor volume,\"\n",
    "    f\"total CSTR volume required = {value(1.2*m.fs.R101.volume):0.3f}\"\n",
    "    f\" m^3 = {value(pyunits.convert(1.2*m.fs.R101.volume, to_units=pyunits.gal)):0.3f} gal\"\n",
    ")\n",
    "\n",
    "print()\n",
    "print(f\"Ethylene glycol produced = {value(m.fs.eg_prod):0.3f} MM lb/year\")\n",
    "\n",
    "print()\n",
    "print(f\"Conversion achieved = {value(m.fs.R101.conversion):.1%}\")"
   ]
  },
  {
   "cell_type": "code",
   "execution_count": 35,
   "metadata": {
    "tags": [
     "testing"
    ]
   },
   "outputs": [],
   "source": [
    "assert value(m.fs.H101.outlet.temperature[0]) / 100 == pytest.approx(3.2815, rel=1e-3)\n",
    "assert (\n",
    "    value(m.fs.R101.length)\n",
    "    / value(m.fs.R101.config.finite_elements)\n",
    "    * (\n",
    "        value(\n",
    "            sum(\n",
    "                m.fs.R101.heat_duty[0, k]\n",
    "                for k in m.fs.R101.control_volume.length_domain\n",
    "                if 0.0 <= k < 1.0\n",
    "            )\n",
    "        )\n",
    "        + (\n",
    "            value(m.fs.R101.heat_duty[0, m.fs.R101.control_volume.length_domain.at(1)])\n",
    "            + value(\n",
    "                m.fs.R101.heat_duty[0, m.fs.R101.control_volume.length_domain.at(-1)]\n",
    "            )\n",
    "        )\n",
    "        / 2\n",
    "    )\n",
    ") / 1e6 == pytest.approx(-3.7892, rel=1e-3)\n",
    "assert value(m.fs.R101.area) == pytest.approx(2.926, rel=1e-3)\n",
    "assert value(m.fs.R101.control_volume.length) == pytest.approx(4.9788, rel=1e-3)\n",
    "assert value(m.fs.R101.volume * 1.2) == pytest.approx(17.494, rel=1e-3)\n",
    "assert value(m.fs.eg_prod) == pytest.approx(225.415, rel=1e-3)\n",
    "assert value(m.fs.R101.conversion) * 100 == pytest.approx(90.000, rel=1e-3)"
   ]
  },
  {
   "cell_type": "code",
   "execution_count": null,
   "metadata": {},
   "outputs": [],
   "source": []
  },
  {
   "cell_type": "code",
   "execution_count": null,
   "metadata": {},
   "outputs": [],
   "source": []
  }
 ],
 "metadata": {
  "celltoolbar": "Tags",
  "kernelspec": {
   "display_name": "Python 3 (ipykernel)",
   "language": "python",
   "name": "python3"
  },
  "language_info": {
   "codemirror_mode": {
    "name": "ipython",
    "version": 3
   },
   "file_extension": ".py",
   "mimetype": "text/x-python",
   "name": "python",
   "nbconvert_exporter": "python",
   "pygments_lexer": "ipython3",
   "version": "3.9.18"
  }
 },
 "nbformat": 4,
 "nbformat_minor": 4
}
