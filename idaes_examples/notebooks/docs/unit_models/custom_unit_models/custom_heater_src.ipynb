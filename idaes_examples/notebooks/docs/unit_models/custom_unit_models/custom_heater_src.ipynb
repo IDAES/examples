{
 "cells": [
  {
   "cell_type": "code",
   "execution_count": null,
   "id": "3e31c9f1",
   "metadata": {
    "tags": [
     "header",
     "hide-cell"
    ]
   },
   "outputs": [],
   "source": [
    "###############################################################################\n",
    "# The Institute for the Design of Advanced Energy Systems Integrated Platform\n",
    "# Framework (IDAES IP) was produced under the DOE Institute for the\n",
    "# Design of Advanced Energy Systems (IDAES).\n",
    "#\n",
    "# Copyright (c) 2018-2023 by the software owners: The Regents of the\n",
    "# University of California, through Lawrence Berkeley National Laboratory,\n",
    "# National Technology & Engineering Solutions of Sandia, LLC, Carnegie Mellon\n",
    "# University, West Virginia University Research Corporation, et al.\n",
    "# All rights reserved.  Please see the files COPYRIGHT.md and LICENSE.md\n",
    "# for full copyright and license information.\n",
    "###############################################################################"
   ]
  },
  {
   "cell_type": "markdown",
   "metadata": {},
   "source": [
    "# Custom Heater Unit Model"
   ]
  },
  {
   "cell_type": "code",
   "execution_count": 1,
   "metadata": {},
   "outputs": [],
   "source": [
    "import pyomo.environ as pe\n",
    "from pyomo.common.config import ConfigBlock, ConfigValue, In\n",
    "from idaes.core import (\n",
    "    ControlVolume0DBlock,\n",
    "    declare_process_block_class,\n",
    "    EnergyBalanceType,\n",
    "    MomentumBalanceType,\n",
    "    MaterialBalanceType,\n",
    "    UnitModelBlockData,\n",
    "    useDefault,\n",
    "    FlowsheetBlock,\n",
    ")\n",
    "from idaes.core.util.config import is_physical_parameter_block\n",
    "from idaes.core.util.misc import add_object_reference\n",
    "from idaes_examples.mod.methanol.methanol_param_VLE import PhysicalParameterBlock"
   ]
  },
  {
   "cell_type": "code",
   "execution_count": 2,
   "metadata": {},
   "outputs": [],
   "source": [
    "def make_control_volume(unit, name, config):\n",
    "    if config.dynamic is not False:\n",
    "        raise ValueError(\"IdealGasIsentropcCompressor does not support dynamics\")\n",
    "    if config.has_holdup is not False:\n",
    "        raise ValueError(\"IdealGasIsentropcCompressor does not support holdup\")\n",
    "\n",
    "    control_volume = ControlVolume0DBlock(\n",
    "        property_package=config.property_package,\n",
    "        property_package_args=config.property_package_args,\n",
    "    )\n",
    "\n",
    "    setattr(unit, name, control_volume)\n",
    "\n",
    "    control_volume.add_state_blocks(has_phase_equilibrium=config.has_phase_equilibrium)\n",
    "    control_volume.add_material_balances(\n",
    "        balance_type=config.material_balance_type,\n",
    "        has_phase_equilibrium=config.has_phase_equilibrium,\n",
    "    )\n",
    "    control_volume.add_total_enthalpy_balances(\n",
    "        has_heat_of_reaction=False, has_heat_transfer=True, has_work_transfer=False\n",
    "    )\n",
    "    control_volume.add_total_pressure_balances(has_pressure_change=False)"
   ]
  },
  {
   "cell_type": "code",
   "execution_count": 3,
   "metadata": {},
   "outputs": [],
   "source": [
    "def make_config_block(config):\n",
    "    config.declare(\n",
    "        \"material_balance_type\",\n",
    "        ConfigValue(\n",
    "            default=MaterialBalanceType.componentPhase, domain=In(MaterialBalanceType)\n",
    "        ),\n",
    "    )\n",
    "    config.declare(\n",
    "        \"energy_balance_type\",\n",
    "        ConfigValue(\n",
    "            default=EnergyBalanceType.enthalpyTotal,\n",
    "            domain=In([EnergyBalanceType.enthalpyTotal]),\n",
    "        ),\n",
    "    )\n",
    "    config.declare(\n",
    "        \"momentum_balance_type\",\n",
    "        ConfigValue(\n",
    "            default=MomentumBalanceType.pressureTotal,\n",
    "            domain=In([MomentumBalanceType.pressureTotal]),\n",
    "        ),\n",
    "    )\n",
    "    config.declare(\n",
    "        \"has_phase_equilibrium\", ConfigValue(default=False, domain=In([False]))\n",
    "    )\n",
    "    config.declare(\n",
    "        \"has_pressure_change\", ConfigValue(default=False, domain=In([False]))\n",
    "    )\n",
    "    config.declare(\n",
    "        \"property_package\",\n",
    "        ConfigValue(default=useDefault, domain=is_physical_parameter_block),\n",
    "    )\n",
    "    config.declare(\"property_package_args\", ConfigBlock(implicit=True))"
   ]
  },
  {
   "cell_type": "code",
   "execution_count": 4,
   "metadata": {},
   "outputs": [],
   "source": [
    "@declare_process_block_class(\"Heater\")\n",
    "class HeaterData(UnitModelBlockData):\n",
    "    CONFIG = UnitModelBlockData.CONFIG()\n",
    "    make_config_block(CONFIG)\n",
    "\n",
    "    def build(self):\n",
    "        super(HeaterData, self).build()\n",
    "\n",
    "        make_control_volume(self, \"control_volume\", self.config)\n",
    "\n",
    "        self.add_inlet_port()\n",
    "        self.add_outlet_port()\n",
    "\n",
    "        add_object_reference(self, \"heat\", self.control_volume.heat[0.0])"
   ]
  },
  {
   "cell_type": "code",
   "execution_count": 5,
   "metadata": {
    "scrolled": false
   },
   "outputs": [],
   "source": [
    "m = pe.ConcreteModel()\n",
    "m.fs = fs = FlowsheetBlock(dynamic=False)\n",
    "fs.properties = props = PhysicalParameterBlock(\n",
    "    Cp=0.038056, valid_phase=\"Vap\"\n",
    ")  # MJ/kmol-K\n",
    "\n",
    "fs.heater = Heater(property_package=props, has_phase_equilibrium=False)\n",
    "fs.heater.inlet.flow_mol.fix(1)  # kmol\n",
    "fs.heater.inlet.mole_frac_comp[0, \"CH3OH\"].fix(0.25)\n",
    "fs.heater.inlet.mole_frac_comp[0, \"CH4\"].fix(0.25)\n",
    "fs.heater.inlet.mole_frac_comp[0, \"H2\"].fix(0.25)\n",
    "fs.heater.inlet.mole_frac_comp[0, \"CO\"].fix(0.25)\n",
    "fs.heater.inlet.pressure.fix(0.1)  # MPa\n",
    "fs.heater.inlet.temperature.fix(3)  # hK [100K]\n",
    "fs.heater.heat.fix(5)  # MJ\n",
    "\n",
    "opt = pe.SolverFactory(\"ipopt\")\n",
    "res = opt.solve(m, tee=False)\n",
    "print(res.solver.termination_condition)\n",
    "fs.heater.outlet.display()"
   ]
  },
  {
   "cell_type": "code",
   "execution_count": 6,
   "metadata": {
    "tags": [
     "testing"
    ]
   },
   "outputs": [],
   "source": [
    "from pyomo.util.check_units import assert_units_consistent\n",
    "\n",
    "assert_units_consistent(m)"
   ]
  },
  {
   "cell_type": "code",
   "execution_count": 7,
   "metadata": {
    "tags": [
     "testing"
    ]
   },
   "outputs": [],
   "source": [
    "from pyomo.environ import TerminationCondition, value\n",
    "import pytest\n",
    "\n",
    "assert res.solver.termination_condition == TerminationCondition.optimal\n",
    "assert value(fs.heater.outlet.temperature[0]) == pytest.approx(4.3138, abs=1e-3)"
   ]
  },
  {
   "cell_type": "code",
   "execution_count": 8,
   "metadata": {
    "tags": [
     "testing"
    ]
   },
   "outputs": [],
   "source": [
    "assert True  # need one testing tag to activate notebook renaming"
   ]
  }
 ],
 "metadata": {
  "celltoolbar": "Tags",
  "kernelspec": {
   "display_name": "Python 3 (ipykernel)",
   "language": "python",
   "name": "python3"
  },
  "language_info": {
   "codemirror_mode": {
    "name": "ipython",
    "version": 3
   },
   "file_extension": ".py",
   "mimetype": "text/x-python",
   "name": "python",
   "nbconvert_exporter": "python",
   "pygments_lexer": "ipython3",
   "version": "3.9.12"
  }
 },
 "nbformat": 4,
 "nbformat_minor": 4
}
