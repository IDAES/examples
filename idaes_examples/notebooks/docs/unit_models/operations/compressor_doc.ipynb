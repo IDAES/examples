{
 "cells": [
  {
   "cell_type": "code",
   "execution_count": 1,
   "metadata": {
    "tags": [
     "header",
     "hide-cell"
    ]
   },
   "outputs": [],
   "source": [
    "###############################################################################\n",
    "# The Institute for the Design of Advanced Energy Systems Integrated Platform\n",
    "# Framework (IDAES IP) was produced under the DOE Institute for the\n",
    "# Design of Advanced Energy Systems (IDAES).\n",
    "#\n",
    "# Copyright (c) 2018-2023 by the software owners: The Regents of the\n",
    "# University of California, through Lawrence Berkeley National Laboratory,\n",
    "# National Technology & Engineering Solutions of Sandia, LLC, Carnegie Mellon\n",
    "# University, West Virginia University Research Corporation, et al.\n",
    "# All rights reserved.  Please see the files COPYRIGHT.md and LICENSE.md\n",
    "# for full copyright and license information.\n",
    "###############################################################################"
   ]
  },
  {
   "cell_type": "markdown",
   "metadata": {},
   "source": [
    "# Compressor Unit Model with Span-Wagner Property Package for supercritical CO2\n",
    "Author: Anuja Deshpande  \n",
    "Maintainer: Brandon Paul  \n",
    "Updated: 2023-06-01  \n",
    "\n",
    "\n",
    "\n",
    "![](compressor_2.svg)\n",
    "\n",
    "## Learning Outcomes\n",
    "\n",
    "- Demonstrate use of the compressor unit model in IDAES\n",
    "- Demonstarte use of the Span Wagner EOS for supercritical CO2 cycles\n",
    "- Demonstrate different simulation options available for the compressor unit model\n",
    "\n",
    "In this tutorial, we will simulate the main compressor for an indirect supercritical CO2 cycle using the Span-Wagner EOS as the property package. The input specifications for this tutorial are from the NETL report on indirect SCO2 cycles available [here](https://www.osti.gov/biblio/1490272). In this example, we will be compressing supercritical CO2 from 9.1 MPa to 34.5 MPa. \n",
    "\n",
    "It is assumed that the compressor operates at steady state.\n",
    "\n",
    "The inlet specifications are as follows:\n",
    "\n",
    "* Flow Rate = 91067 mol/s\n",
    "* Pressure = 9.1107 MPa\n",
    "* Temperature = 308.15 K \n",
    "\n",
    "We will simulate 2 different cases, depending on the compressor specifications fixed by the user:\n",
    "\n",
    "**Case 1**: In this case, we will fix the isentropic efficiency and the pressure change across the compressor. \n",
    "   * Pressure Change = 25.51 MPa\n",
    "   * Isentropic Efficiency = 0.85\n",
    "   \n",
    "**Case 2**: In this case, we will fix the isentropic efficiency and the pressure ratio instead of the pressure change across the compressor. \n",
    "   * Pressure Ratio = 3.8\n",
    "   * Isentropic Efficiency = 0.85\n",
    "\n",
    "IDAES documentation:https://idaes-pse.readthedocs.io/en/stable/"
   ]
  },
  {
   "cell_type": "markdown",
   "metadata": {},
   "source": [
    "## Setting up the problem in IDAES"
   ]
  },
  {
   "cell_type": "markdown",
   "metadata": {},
   "source": [
    "In the following cell, we will be importing the necessary components from Pyomo and IDAES."
   ]
  },
  {
   "cell_type": "code",
   "execution_count": 2,
   "metadata": {},
   "outputs": [],
   "source": [
    "# Import objects from pyomo package\n",
    "from pyomo.environ import ConcreteModel, SolverFactory, value, units\n",
    "\n",
    "# Import the main FlowsheetBlock from IDAES. The flowsheet block will contain the unit model\n",
    "from idaes.core import FlowsheetBlock\n",
    "\n",
    "# Import idaes logger to set output levels\n",
    "import idaes.logger as idaeslog\n",
    "\n",
    "# Create the ConcreteModel and the FlowsheetBlock, and attach the flowsheet block to it.\n",
    "m = ConcreteModel()\n",
    "\n",
    "m.fs = FlowsheetBlock(\n",
    "    dynamic=False\n",
    ")  # dynamic or ss flowsheet needs to be specified here\n",
    "\n",
    "\n",
    "# Import the SWCO2 property package to create a properties block for the flowsheet\n",
    "from idaes.models.properties.swco2 import SWCO2ParameterBlock, StateVars, htpx\n",
    "\n",
    "# Add properties parameter block to the flowsheet with specifications\n",
    "m.fs.properties = SWCO2ParameterBlock()"
   ]
  },
  {
   "cell_type": "markdown",
   "metadata": {},
   "source": [
    "## Case 1:  Fix pressure change and isentropic efficiency"
   ]
  },
  {
   "cell_type": "markdown",
   "metadata": {},
   "source": [
    "### Add Compressor Unit Model"
   ]
  },
  {
   "cell_type": "code",
   "execution_count": 3,
   "metadata": {},
   "outputs": [
    {
     "name": "stdout",
     "output_type": "stream",
     "text": [
      "The initial DOF is 5\n"
     ]
    }
   ],
   "source": [
    "# Import compressor unit model from the model library\n",
    "from idaes.models.unit_models.pressure_changer import (\n",
    "    PressureChanger,\n",
    "    ThermodynamicAssumption,\n",
    ")\n",
    "\n",
    "# Create an instance of the compressor unit, attaching it to the flowsheet\n",
    "# Specify that the property package to be used with the compressor is the one we created earlier.\n",
    "m.fs.compr_case_1 = PressureChanger(\n",
    "    dynamic=False,\n",
    "    property_package=m.fs.properties,\n",
    "    compressor=True,\n",
    "    thermodynamic_assumption=ThermodynamicAssumption.isentropic,\n",
    ")\n",
    "\n",
    "# Import the degrees_of_freedom function from the idaes.core.util.model_statistics package\n",
    "# DOF = Number of Model Variables - Number of Model Constraints\n",
    "from idaes.core.util.model_statistics import degrees_of_freedom\n",
    "\n",
    "# Call the degrees_of_freedom function, get intitial DOF\n",
    "DOF_initial = degrees_of_freedom(m)\n",
    "print(\"The initial DOF is {0}\".format(DOF_initial))"
   ]
  },
  {
   "cell_type": "markdown",
   "metadata": {},
   "source": [
    "### Fix Inlet Stream Conditions"
   ]
  },
  {
   "cell_type": "code",
   "execution_count": 4,
   "metadata": {},
   "outputs": [],
   "source": [
    "# Fix the stream inlet conditions\n",
    "m.fs.compr_case_1.inlet.flow_mol[0].fix(91067)  # mol/s\n",
    "\n",
    "# Use htpx method to obtain the molar enthalpy of inlet stream at the given temperature and pressure conditions\n",
    "m.fs.compr_case_1.inlet.enth_mol[0].fix(\n",
    "    value(htpx(T=308.15 * units.K, P=9.1107e06 * units.Pa))\n",
    ")  # T in K, P in Pa\n",
    "m.fs.compr_case_1.inlet.pressure[0].fix(9.1107e06)"
   ]
  },
  {
   "cell_type": "markdown",
   "metadata": {},
   "source": [
    "### Fix Pressure Change and Isentropic Efficiency"
   ]
  },
  {
   "cell_type": "code",
   "execution_count": 5,
   "metadata": {},
   "outputs": [
    {
     "name": "stdout",
     "output_type": "stream",
     "text": [
      "The final DOF is 0\n"
     ]
    }
   ],
   "source": [
    "# Fix compressor conditions\n",
    "m.fs.compr_case_1.deltaP.fix(2.5510e07)\n",
    "m.fs.compr_case_1.efficiency_isentropic.fix(0.85)\n",
    "\n",
    "# Call the degrees_of_freedom function, get final DOF\n",
    "DOF_final = degrees_of_freedom(m)\n",
    "print(\"The final DOF is {0}\".format(DOF_final))"
   ]
  },
  {
   "cell_type": "markdown",
   "metadata": {},
   "source": [
    "### Initialization"
   ]
  },
  {
   "cell_type": "code",
   "execution_count": 6,
   "metadata": {},
   "outputs": [
    {
     "name": "stdout",
     "output_type": "stream",
     "text": [
      "2023-11-02 10:26:30 [INFO] idaes.init.fs.compr_case_1: Initialization Complete: optimal - Optimal Solution Found\n"
     ]
    }
   ],
   "source": [
    "# Initialize the flowsheet, and set the output at INFO level\n",
    "m.fs.compr_case_1.initialize(outlvl=idaeslog.INFO)"
   ]
  },
  {
   "cell_type": "markdown",
   "metadata": {},
   "source": [
    "### Solve Model"
   ]
  },
  {
   "cell_type": "code",
   "execution_count": 7,
   "metadata": {},
   "outputs": [
    {
     "name": "stdout",
     "output_type": "stream",
     "text": [
      "Ipopt 3.13.2: \n",
      "\n",
      "******************************************************************************\n",
      "This program contains Ipopt, a library for large-scale nonlinear optimization.\n",
      " Ipopt is released as open source code under the Eclipse Public License (EPL).\n",
      "         For more information visit http://projects.coin-or.org/Ipopt\n",
      "\n",
      "This version of Ipopt was compiled from source code available at\n",
      "    https://github.com/IDAES/Ipopt as part of the Institute for the Design of\n",
      "    Advanced Energy Systems Process Systems Engineering Framework (IDAES PSE\n",
      "    Framework) Copyright (c) 2018-2019. See https://github.com/IDAES/idaes-pse.\n",
      "\n",
      "This version of Ipopt was compiled using HSL, a collection of Fortran codes\n",
      "    for large-scale scientific computation.  All technical papers, sales and\n",
      "    publicity material resulting from use of the HSL codes within IPOPT must\n",
      "    contain the following acknowledgement:\n",
      "        HSL, a collection of Fortran codes for large-scale scientific\n",
      "        computation. See http://www.hsl.rl.ac.uk.\n",
      "******************************************************************************\n",
      "\n",
      "This is Ipopt version 3.13.2, running with linear solver ma27.\n",
      "\n",
      "Number of nonzeros in equality constraint Jacobian...:       18\n",
      "Number of nonzeros in inequality constraint Jacobian.:        0\n",
      "Number of nonzeros in Lagrangian Hessian.............:        8\n",
      "\n",
      "Total number of variables............................:        9\n",
      "                     variables with only lower bounds:        0\n",
      "                variables with lower and upper bounds:        4\n",
      "                     variables with only upper bounds:        0\n",
      "Total number of equality constraints.................:        9\n",
      "Total number of inequality constraints...............:        0\n",
      "        inequality constraints with only lower bounds:        0\n",
      "   inequality constraints with lower and upper bounds:        0\n",
      "        inequality constraints with only upper bounds:        0\n",
      "\n",
      "iter    objective    inf_pr   inf_du lg(mu)  ||d||  lg(rg) alpha_du alpha_pr  ls\n",
      "   0  0.0000000e+00 2.38e-07 0.00e+00  -1.0 0.00e+00    -  0.00e+00 0.00e+00   0\n",
      "\n",
      "Number of Iterations....: 0\n",
      "\n",
      "                                   (scaled)                 (unscaled)\n",
      "Objective...............:   0.0000000000000000e+00    0.0000000000000000e+00\n",
      "Dual infeasibility......:   0.0000000000000000e+00    0.0000000000000000e+00\n",
      "Constraint violation....:   2.6180568054461275e-10    2.3841857910156250e-07\n",
      "Complementarity.........:   0.0000000000000000e+00    0.0000000000000000e+00\n",
      "Overall NLP error.......:   2.6180568054461275e-10    2.3841857910156250e-07\n",
      "\n",
      "\n",
      "Number of objective function evaluations             = 1\n",
      "Number of objective gradient evaluations             = 1\n",
      "Number of equality constraint evaluations            = 1\n",
      "Number of inequality constraint evaluations          = 0\n",
      "Number of equality constraint Jacobian evaluations   = 1\n",
      "Number of inequality constraint Jacobian evaluations = 0\n",
      "Number of Lagrangian Hessian evaluations             = 0\n",
      "Total CPU secs in IPOPT (w/o function evaluations)   =      0.003\n",
      "Total CPU secs in NLP function evaluations           =      0.000\n",
      "\n",
      "EXIT: Optimal Solution Found.\n"
     ]
    },
    {
     "name": "stdout",
     "output_type": "stream",
     "text": [
      "\b\b\b\b\b\b\b\b\b\b\b\b\b\b"
     ]
    }
   ],
   "source": [
    "# Solve the simulation using ipopt\n",
    "# Note: If the degrees of freedom = 0, we have a square problem\n",
    "opt = SolverFactory(\"ipopt\")\n",
    "solve_status = opt.solve(m, tee=True)"
   ]
  },
  {
   "cell_type": "markdown",
   "metadata": {},
   "source": [
    "### View Results"
   ]
  },
  {
   "cell_type": "code",
   "execution_count": 8,
   "metadata": {},
   "outputs": [
    {
     "name": "stdout",
     "output_type": "stream",
     "text": [
      "_pressure_outlet_ref : Size=1, Index=fs._time, ReferenceTo=fs.compr_case_1.control_volume.properties_out[...].component('pressure')\n",
      "    Key : Lower                  : Value      : Upper       : Fixed : Stale : Domain\n",
      "    0.0 : 1.0000000000000002e-06 : 34620700.0 : 500000000.0 : False : False : PositiveReals\n"
     ]
    }
   ],
   "source": [
    "# Display Outlet Pressure\n",
    "m.fs.compr_case_1.outlet.pressure.display()"
   ]
  },
  {
   "cell_type": "code",
   "execution_count": 9,
   "metadata": {},
   "outputs": [
    {
     "name": "stdout",
     "output_type": "stream",
     "text": [
      "\n",
      "====================================================================================\n",
      "Unit : fs.compr_case_1                                                     Time: 0.0\n",
      "------------------------------------------------------------------------------------\n",
      "    Unit Performance\n",
      "\n",
      "    Variables: \n",
      "\n",
      "    Key                   : Value      : Units         : Fixed : Bounds\n",
      "    Isentropic Efficiency :    0.85000 : dimensionless :  True : (None, None)\n",
      "          Mechanical Work : 1.5934e+08 :          watt : False : (None, None)\n",
      "          Pressure Change : 2.5510e+07 :        pascal :  True : (None, None)\n",
      "           Pressure Ratio :     3.8000 : dimensionless : False : (None, None)\n",
      "\n",
      "------------------------------------------------------------------------------------\n",
      "    Stream Table\n"
     ]
    },
    {
     "name": "stdout",
     "output_type": "stream",
     "text": [
      "                         Units           Inlet     Outlet  \n",
      "    Molar Flow          mole / second     91067.     91067.\n",
      "    Mass Flow       kilogram / second     4007.8     4007.8\n",
      "    T                          kelvin     308.15     348.81\n",
      "    P                          pascal 9.1107e+06 3.4621e+07\n",
      "    Vapor Fraction      dimensionless     0.0000     0.0000\n",
      "    Molar Enthalpy       joule / mole     13088.     14837.\n",
      "====================================================================================\n"
     ]
    }
   ],
   "source": [
    "# Display a readable report\n",
    "m.fs.compr_case_1.report()"
   ]
  },
  {
   "cell_type": "markdown",
   "metadata": {},
   "source": [
    "## Case 2: Fix pressure ratio and isentropic efficiency"
   ]
  },
  {
   "cell_type": "markdown",
   "metadata": {},
   "source": [
    "### Add Compressor Unit"
   ]
  },
  {
   "cell_type": "code",
   "execution_count": 10,
   "metadata": {},
   "outputs": [
    {
     "name": "stdout",
     "output_type": "stream",
     "text": [
      "The initial DOF is 5\n"
     ]
    }
   ],
   "source": [
    "# Create an instance of another compressor unit, attaching it to the flowsheet\n",
    "# Specify that the property package to be used with the turbine is the one we created earlier.\n",
    "m.fs.compr_case_2 = PressureChanger(\n",
    "    dynamic=False,\n",
    "    property_package=m.fs.properties,\n",
    "    compressor=True,\n",
    "    thermodynamic_assumption=ThermodynamicAssumption.isentropic,\n",
    ")\n",
    "\n",
    "# Call the degrees_of_freedom function, get intitial DOF\n",
    "DOF_initial = degrees_of_freedom(m.fs.compr_case_2)\n",
    "print(\"The initial DOF is {0}\".format(DOF_initial))"
   ]
  },
  {
   "cell_type": "markdown",
   "metadata": {},
   "source": [
    "### Fix Inlet Stream Conditions"
   ]
  },
  {
   "cell_type": "code",
   "execution_count": 11,
   "metadata": {},
   "outputs": [],
   "source": [
    "# Fix the stream inlet conditions\n",
    "m.fs.compr_case_2.inlet.flow_mol[0].fix(\n",
    "    91067\n",
    ")  # converting to mol/s as unit basis is mol/s\n",
    "\n",
    "# Use htpx method to obtain the molar enthalpy of inlet stream at the given temperature and pressure conditions\n",
    "m.fs.compr_case_2.inlet.enth_mol[0].fix(\n",
    "    value(htpx(T=308.15 * units.K, P=9.1107e06 * units.Pa))\n",
    ")\n",
    "m.fs.compr_case_2.inlet.pressure[0].fix(9.1107e06)"
   ]
  },
  {
   "cell_type": "markdown",
   "metadata": {},
   "source": [
    "### Fix Compressor Pressure Ratio and Isentropic Efficiency "
   ]
  },
  {
   "cell_type": "code",
   "execution_count": 12,
   "metadata": {},
   "outputs": [
    {
     "name": "stdout",
     "output_type": "stream",
     "text": [
      "The final DOF is 0\n"
     ]
    }
   ],
   "source": [
    "# Fix compressor pressure ratio\n",
    "m.fs.compr_case_2.ratioP.fix(3.8)\n",
    "\n",
    "# Fix compressor efficiency\n",
    "m.fs.compr_case_2.efficiency_isentropic.fix(0.85)\n",
    "\n",
    "# Call the degrees_of_freedom function, get final DOF\n",
    "DOF_final = degrees_of_freedom(m.fs.compr_case_2)\n",
    "print(\"The final DOF is {0}\".format(DOF_final))"
   ]
  },
  {
   "cell_type": "markdown",
   "metadata": {},
   "source": [
    "### Initialization"
   ]
  },
  {
   "cell_type": "code",
   "execution_count": 13,
   "metadata": {},
   "outputs": [
    {
     "name": "stdout",
     "output_type": "stream",
     "text": [
      "2023-11-02 10:26:30 [INFO] idaes.init.fs.compr_case_2: Initialization Complete: optimal - Optimal Solution Found\n"
     ]
    }
   ],
   "source": [
    "# Initialize the flowsheet, and set the output at INFO level\n",
    "m.fs.compr_case_2.initialize(outlvl=idaeslog.INFO)"
   ]
  },
  {
   "cell_type": "markdown",
   "metadata": {},
   "source": [
    "### Solve Model"
   ]
  },
  {
   "cell_type": "code",
   "execution_count": 14,
   "metadata": {},
   "outputs": [
    {
     "name": "stdout",
     "output_type": "stream",
     "text": [
      "Ipopt 3.13.2: \n",
      "\n",
      "******************************************************************************\n",
      "This program contains Ipopt, a library for large-scale nonlinear optimization.\n",
      " Ipopt is released as open source code under the Eclipse Public License (EPL).\n",
      "         For more information visit http://projects.coin-or.org/Ipopt\n",
      "\n",
      "This version of Ipopt was compiled from source code available at\n",
      "    https://github.com/IDAES/Ipopt as part of the Institute for the Design of\n",
      "    Advanced Energy Systems Process Systems Engineering Framework (IDAES PSE\n",
      "    Framework) Copyright (c) 2018-2019. See https://github.com/IDAES/idaes-pse.\n",
      "\n",
      "This version of Ipopt was compiled using HSL, a collection of Fortran codes\n",
      "    for large-scale scientific computation.  All technical papers, sales and\n",
      "    publicity material resulting from use of the HSL codes within IPOPT must\n",
      "    contain the following acknowledgement:\n",
      "        HSL, a collection of Fortran codes for large-scale scientific\n",
      "        computation. See http://www.hsl.rl.ac.uk.\n",
      "******************************************************************************\n",
      "\n",
      "This is Ipopt version 3.13.2, running with linear solver ma27.\n",
      "\n",
      "Number of nonzeros in equality constraint Jacobian...:       18\n",
      "Number of nonzeros in inequality constraint Jacobian.:        0\n",
      "Number of nonzeros in Lagrangian Hessian.............:        8\n",
      "\n",
      "Total number of variables............................:        9\n",
      "                     variables with only lower bounds:        0\n",
      "                variables with lower and upper bounds:        4\n",
      "                     variables with only upper bounds:        0\n",
      "Total number of equality constraints.................:        9\n",
      "Total number of inequality constraints...............:        0\n",
      "        inequality constraints with only lower bounds:        0\n",
      "   inequality constraints with lower and upper bounds:        0\n",
      "        inequality constraints with only upper bounds:        0\n",
      "\n",
      "iter    objective    inf_pr   inf_du lg(mu)  ||d||  lg(rg) alpha_du alpha_pr  ls\n",
      "   0  0.0000000e+00 2.38e-07 0.00e+00  -1.0 0.00e+00    -  0.00e+00 0.00e+00   0\n",
      "\n",
      "Number of Iterations....: 0\n",
      "\n",
      "                                   (scaled)                 (unscaled)\n",
      "Objective...............:   0.0000000000000000e+00    0.0000000000000000e+00\n",
      "Dual infeasibility......:   0.0000000000000000e+00    0.0000000000000000e+00\n",
      "Constraint violation....:   2.6180568054461275e-10    2.3841857910156250e-07\n",
      "Complementarity.........:   0.0000000000000000e+00    0.0000000000000000e+00\n",
      "Overall NLP error.......:   2.6180568054461275e-10    2.3841857910156250e-07\n",
      "\n",
      "\n",
      "Number of objective function evaluations             = 1\n",
      "Number of objective gradient evaluations             = 1\n",
      "Number of equality constraint evaluations            = 1\n",
      "Number of inequality constraint evaluations          = 0\n",
      "Number of equality constraint Jacobian evaluations   = 1\n",
      "Number of inequality constraint Jacobian evaluations = 0\n",
      "Number of Lagrangian Hessian evaluations             = 0\n",
      "Total CPU secs in IPOPT (w/o function evaluations)   =      0.003\n",
      "Total CPU secs in NLP function evaluations           =      0.000\n",
      "\n",
      "EXIT: Optimal Solution Found.\n",
      "\b\b\b\b\b\b\b\b\b\b\b\b\b\b"
     ]
    }
   ],
   "source": [
    "# Solve the simulation using ipopt\n",
    "# Note: If the degrees of freedom = 0, we have a square problem\n",
    "opt = SolverFactory(\"ipopt\")\n",
    "solve_status = opt.solve(m.fs.compr_case_2, tee=True)"
   ]
  },
  {
   "cell_type": "markdown",
   "metadata": {},
   "source": [
    "### View Results"
   ]
  },
  {
   "cell_type": "code",
   "execution_count": 15,
   "metadata": {},
   "outputs": [
    {
     "name": "stdout",
     "output_type": "stream",
     "text": [
      "pressure : Pressure\n",
      "    Size=1, Index=None, Units=Pa\n",
      "    Key  : Lower                  : Value      : Upper       : Fixed : Stale : Domain\n",
      "    None : 1.0000000000000002e-06 : 34620660.0 : 500000000.0 : False : False : PositiveReals\n"
     ]
    }
   ],
   "source": [
    "# Display compressor pressure increase\n",
    "m.fs.compr_case_2.outlet.pressure[0].display()"
   ]
  },
  {
   "cell_type": "code",
   "execution_count": 16,
   "metadata": {},
   "outputs": [
    {
     "name": "stdout",
     "output_type": "stream",
     "text": [
      "\n",
      "====================================================================================\n",
      "Unit : fs.compr_case_2                                                     Time: 0.0\n",
      "------------------------------------------------------------------------------------\n",
      "    Unit Performance\n",
      "\n",
      "    Variables: \n",
      "\n",
      "    Key                   : Value      : Units         : Fixed : Bounds\n",
      "    Isentropic Efficiency :    0.85000 : dimensionless :  True : (None, None)\n",
      "          Mechanical Work : 1.5934e+08 :          watt : False : (None, None)\n",
      "          Pressure Change : 2.5510e+07 :        pascal : False : (None, None)\n",
      "           Pressure Ratio :     3.8000 : dimensionless :  True : (None, None)\n",
      "\n",
      "------------------------------------------------------------------------------------\n",
      "    Stream Table\n",
      "                         Units           Inlet     Outlet  \n",
      "    Molar Flow          mole / second     91067.     91067.\n",
      "    Mass Flow       kilogram / second     4007.8     4007.8\n",
      "    T                          kelvin     308.15     348.81\n",
      "    P                          pascal 9.1107e+06 3.4621e+07\n",
      "    Vapor Fraction      dimensionless     0.0000     0.0000\n",
      "    Molar Enthalpy       joule / mole     13088.     14837.\n",
      "====================================================================================\n"
     ]
    }
   ],
   "source": [
    "# Display a readable report\n",
    "m.fs.compr_case_2.report()"
   ]
  }
 ],
 "metadata": {
  "kernelspec": {
   "display_name": "Python 3 (ipykernel)",
   "language": "python",
   "name": "python3"
  },
  "language_info": {
   "codemirror_mode": {
    "name": "ipython",
    "version": 3
   },
   "file_extension": ".py",
   "mimetype": "text/x-python",
   "name": "python",
   "nbconvert_exporter": "python",
   "pygments_lexer": "ipython3",
   "version": "3.11.5"
  }
 },
 "nbformat": 4,
 "nbformat_minor": 3
}