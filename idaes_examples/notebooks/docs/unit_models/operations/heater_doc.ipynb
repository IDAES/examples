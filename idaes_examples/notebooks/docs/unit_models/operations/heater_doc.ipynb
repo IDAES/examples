{
 "cells": [
  {
   "cell_type": "code",
   "execution_count": 1,
   "metadata": {
    "tags": [
     "header",
     "hide-cell"
    ]
   },
   "outputs": [],
   "source": [
    "###############################################################################\n",
    "# The Institute for the Design of Advanced Energy Systems Integrated Platform\n",
    "# Framework (IDAES IP) was produced under the DOE Institute for the\n",
    "# Design of Advanced Energy Systems (IDAES).\n",
    "#\n",
    "# Copyright (c) 2018-2025 by the software owners: The Regents of the\n",
    "# University of California, through Lawrence Berkeley National Laboratory,\n",
    "# National Technology & Engineering Solutions of Sandia, LLC, Carnegie Mellon\n",
    "# University, West Virginia University Research Corporation, et al.\n",
    "# All rights reserved.  Please see the files COPYRIGHT.md and LICENSE.md\n",
    "# for full copyright and license information.\n",
    "#\n",
    "###############################################################################"
   ]
  },
  {
   "cell_type": "markdown",
   "metadata": {},
   "source": [
    "# Heater Unit Model with Ideal Property Package\n",
    "Author: Anuja Deshpande  \n",
    "Maintainer: Brandon Paul  \n",
    "Updated: 2023-06-01  \n",
    "\n",
    "\n",
    "\n",
    "![](heater_2.svg)\n",
    "\n",
    "In this tutorial, we will heat a liquid mixture of benzene-toluene using a simple heater unit model, and an ideal property package with the phases specified to liquid apriori. The inlet specifications are as follows:\n",
    "\n",
    "* Flow Rate = 1 kmol/hr\n",
    "* Mole fraction (Benzene) = 0.4\n",
    "* Mole fraction (Toluene) = 0.6\n",
    "* Pressure = 101325 Pa\n",
    "* Temperature = 353 K\n",
    "\n",
    "In addition to the inlet specifications, there is one additional unit level specification that needs to be set:\n",
    "* Option 1: Specify the outlet temperature\n",
    "* Option 2: Specify the heat duty\n",
    "\n",
    "Therefore, in this tutorial, we will simulate the following cases:\n",
    "\n",
    "* Case 1: Compute the heat duty (J/s) required to heat the mixture to 363 K.\n",
    "* Case 2: Compute the outlet temperature of the mixture when fixing the heat duty to 2 J/s. \n",
    "\n",
    "IDAES documentation reference for heater model: https://idaes-pse.readthedocs.io/en/stable/reference_guides/model_libraries/generic/unit_models/heater.html"
   ]
  },
  {
   "cell_type": "markdown",
   "metadata": {},
   "source": [
    "## Setting up the problem in IDAES"
   ]
  },
  {
   "cell_type": "code",
   "execution_count": 2,
   "metadata": {},
   "outputs": [],
   "source": [
    "# Import objects from pyomo package\n",
    "from pyomo.environ import ConcreteModel, SolverFactory, value\n",
    "from pyomo.opt import TerminationCondition, SolverStatus\n",
    "\n",
    "# Import the main FlowsheetBlock from IDAES. The flowsheet block will contain the unit model\n",
    "from idaes.core import FlowsheetBlock\n",
    "\n",
    "# Import idaes logger to set output levels\n",
    "import idaes.logger as idaeslog\n",
    "\n",
    "# Create the ConcreteModel and the FlowsheetBlock, and attach the flowsheet block to it.\n",
    "m = ConcreteModel()\n",
    "\n",
    "m.fs = FlowsheetBlock(\n",
    "    dynamic=False\n",
    ")  # dynamic or ss flowsheet needs to be specified here\n",
    "\n",
    "\n",
    "# Import the BTX_ideal property package to create a properties block for the flowsheet\n",
    "from idaes.models.properties.activity_coeff_models import BTX_activity_coeff_VLE\n",
    "\n",
    "# Add properties parameter block to the flowsheet with specifications\n",
    "m.fs.properties = BTX_activity_coeff_VLE.BTXParameterBlock(\n",
    "    valid_phase=\"Liq\", activity_coeff_model=\"Ideal\"\n",
    ")"
   ]
  },
  {
   "cell_type": "code",
   "execution_count": 3,
   "metadata": {},
   "outputs": [
    {
     "name": "stdout",
     "output_type": "stream",
     "text": [
      "The initial DOF is 6\n"
     ]
    }
   ],
   "source": [
    "# Import heater unit model from the model library\n",
    "from idaes.models.unit_models.heater import Heater\n",
    "\n",
    "# Create an instance of the heater unit, attaching it to the flowsheet\n",
    "# Specify that the property package to be used with the heater is the one we created earlier.\n",
    "m.fs.heater = Heater(property_package=m.fs.properties)\n",
    "\n",
    "# Import the degrees_of_freedom function from the idaes.core.util.model_statistics package\n",
    "# DOF = Number of Model Variables - Number of Model Constraints\n",
    "from idaes.core.util.model_statistics import degrees_of_freedom\n",
    "\n",
    "\n",
    "# Call the degrees_of_freedom function, get initial DOF\n",
    "DOF_initial = degrees_of_freedom(m)\n",
    "print(\"The initial DOF is {0}\".format(DOF_initial))"
   ]
  },
  {
   "cell_type": "code",
   "execution_count": 4,
   "metadata": {},
   "outputs": [],
   "source": [
    "# Fix the BT stream inlet conditions\n",
    "m.fs.heater.inlet.flow_mol.fix(\n",
    "    1 * 1000 / 3600\n",
    ")  # converting to mol/s as unit basis is mol/s\n",
    "m.fs.heater.inlet.mole_frac_comp[0, \"benzene\"].fix(0.4)\n",
    "m.fs.heater.inlet.mole_frac_comp[0, \"toluene\"].fix(0.6)\n",
    "m.fs.heater.inlet.pressure.fix(101325)  # Pa\n",
    "m.fs.heater.inlet.temperature.fix(353)  # K"
   ]
  },
  {
   "cell_type": "markdown",
   "metadata": {},
   "source": [
    "## Case 1: Fix Outlet Temperature"
   ]
  },
  {
   "cell_type": "code",
   "execution_count": 5,
   "metadata": {},
   "outputs": [
    {
     "name": "stdout",
     "output_type": "stream",
     "text": [
      "The final DOF is 0\n"
     ]
    }
   ],
   "source": [
    "m.fs.heater.outlet.temperature.fix(363)\n",
    "# Call the degrees_of_freedom function, get final DOF\n",
    "DOF_final = degrees_of_freedom(m)\n",
    "print(\"The final DOF is {0}\".format(DOF_final))"
   ]
  },
  {
   "cell_type": "markdown",
   "metadata": {},
   "source": [
    "### Flowsheet Initialization\n",
    "\n",
    "IDAES includes pre-written initialization routines for all unit models.\n",
    "The output from initialization can be set to 7 different levels depending on the details required by the user.\n",
    "In general, when a particular output level is set, any information at that level and above gets picked up by logger. The default level taken by the logger is INFO. \n",
    "More information on these levels can be found in the IDAES documentation: \n",
    "https://idaes-pse.readthedocs.io/en/stable/reference_guides/logging.html"
   ]
  },
  {
   "cell_type": "code",
   "execution_count": 6,
   "metadata": {},
   "outputs": [],
   "source": [
    "# Initialize the flowsheet, and set the output at WARNING\n",
    "m.fs.heater.initialize(outlvl=idaeslog.WARNING)\n",
    "# From the output it can be inferred that since there are no errors or warnings encountered during initialization, nothing is displayed"
   ]
  },
  {
   "cell_type": "code",
   "execution_count": 7,
   "metadata": {},
   "outputs": [
    {
     "name": "stdout",
     "output_type": "stream",
     "text": [
      "2025-03-17 17:40:20 [INFO] idaes.init.fs.heater.control_volume.properties_in: Initialization Step 1 skipped.\n"
     ]
    },
    {
     "name": "stdout",
     "output_type": "stream",
     "text": [
      "2025-03-17 17:40:20 [INFO] idaes.init.fs.heater.control_volume.properties_in: Initialization Step 2 optimal - Optimal Solution Found.\n"
     ]
    },
    {
     "name": "stdout",
     "output_type": "stream",
     "text": [
      "2025-03-17 17:40:20 [INFO] idaes.init.fs.heater.control_volume.properties_in: Initialization Step 3 optimal - Optimal Solution Found.\n"
     ]
    },
    {
     "name": "stdout",
     "output_type": "stream",
     "text": [
      "2025-03-17 17:40:20 [INFO] idaes.init.fs.heater.control_volume.properties_in: Initialization Step 4 optimal - Optimal Solution Found.\n"
     ]
    },
    {
     "name": "stdout",
     "output_type": "stream",
     "text": [
      "2025-03-17 17:40:20 [INFO] idaes.init.fs.heater.control_volume.properties_in: Initialization Step 5 optimal - Optimal Solution Found.\n"
     ]
    },
    {
     "name": "stdout",
     "output_type": "stream",
     "text": [
      "2025-03-17 17:40:20 [INFO] idaes.init.fs.heater.control_volume.properties_out: Initialization Step 1 skipped.\n"
     ]
    },
    {
     "name": "stdout",
     "output_type": "stream",
     "text": [
      "2025-03-17 17:40:20 [INFO] idaes.init.fs.heater.control_volume.properties_out: Initialization Step 2 optimal - Optimal Solution Found.\n"
     ]
    },
    {
     "name": "stdout",
     "output_type": "stream",
     "text": [
      "2025-03-17 17:40:20 [INFO] idaes.init.fs.heater.control_volume.properties_out: Initialization Step 3 optimal - Optimal Solution Found.\n"
     ]
    },
    {
     "name": "stdout",
     "output_type": "stream",
     "text": [
      "2025-03-17 17:40:20 [INFO] idaes.init.fs.heater.control_volume.properties_out: Initialization Step 4 optimal - Optimal Solution Found.\n"
     ]
    },
    {
     "name": "stdout",
     "output_type": "stream",
     "text": [
      "2025-03-17 17:40:20 [INFO] idaes.init.fs.heater.control_volume.properties_out: Initialization Step 5 optimal - Optimal Solution Found.\n"
     ]
    },
    {
     "name": "stdout",
     "output_type": "stream",
     "text": [
      "2025-03-17 17:40:20 [INFO] idaes.init.fs.heater.control_volume.properties_out: State Released.\n"
     ]
    },
    {
     "name": "stdout",
     "output_type": "stream",
     "text": [
      "2025-03-17 17:40:20 [INFO] idaes.init.fs.heater.control_volume: Initialization Complete\n"
     ]
    },
    {
     "name": "stdout",
     "output_type": "stream",
     "text": [
      "2025-03-17 17:40:20 [INFO] idaes.init.fs.heater: Initialization Step 1 Complete.\n"
     ]
    },
    {
     "name": "stdout",
     "output_type": "stream",
     "text": [
      "2025-03-17 17:40:20 [INFO] idaes.init.fs.heater: Initialization Step 2 optimal - Optimal Solution Found.\n"
     ]
    },
    {
     "name": "stdout",
     "output_type": "stream",
     "text": [
      "2025-03-17 17:40:20 [INFO] idaes.init.fs.heater.control_volume.properties_in: State Released.\n"
     ]
    },
    {
     "name": "stdout",
     "output_type": "stream",
     "text": [
      "2025-03-17 17:40:20 [INFO] idaes.init.fs.heater: Initialization Complete: optimal - Optimal Solution Found\n"
     ]
    }
   ],
   "source": [
    "# Initialize the flowsheet, and set the output at INFO_HIGH\n",
    "m.fs.heater.initialize(outlvl=idaeslog.INFO_HIGH)\n",
    "# At INFO_HIGH level, details of all the initialization steps are displayed"
   ]
  },
  {
   "cell_type": "markdown",
   "metadata": {},
   "source": [
    "### Obtaining Simulation Results"
   ]
  },
  {
   "cell_type": "code",
   "execution_count": 8,
   "metadata": {},
   "outputs": [
    {
     "name": "stdout",
     "output_type": "stream",
     "text": [
      "Ipopt 3.13.2: \n",
      "\n",
      "******************************************************************************\n",
      "This program contains Ipopt, a library for large-scale nonlinear optimization.\n",
      " Ipopt is released as open source code under the Eclipse Public License (EPL).\n",
      "         For more information visit http://projects.coin-or.org/Ipopt\n",
      "\n",
      "This version of Ipopt was compiled from source code available at\n",
      "    https://github.com/IDAES/Ipopt as part of the Institute for the Design of\n",
      "    Advanced Energy Systems Process Systems Engineering Framework (IDAES PSE\n",
      "    Framework) Copyright (c) 2018-2019. See https://github.com/IDAES/idaes-pse.\n",
      "\n",
      "This version of Ipopt was compiled using HSL, a collection of Fortran codes\n",
      "    for large-scale scientific computation.  All technical papers, sales and\n",
      "    publicity material resulting from use of the HSL codes within IPOPT must\n",
      "    contain the following acknowledgement:\n",
      "        HSL, a collection of Fortran codes for large-scale scientific\n",
      "        computation. See http://www.hsl.rl.ac.uk.\n",
      "******************************************************************************\n",
      "\n",
      "This is Ipopt version 3.13.2, running with linear solver ma27.\n",
      "\n",
      "Number of nonzeros in equality constraint Jacobian...:       45\n",
      "Number of nonzeros in inequality constraint Jacobian.:        0\n",
      "Number of nonzeros in Lagrangian Hessian.............:       20\n",
      "\n",
      "Total number of variables............................:       17\n",
      "                     variables with only lower bounds:        2\n",
      "                variables with lower and upper bounds:        6\n",
      "                     variables with only upper bounds:        0\n",
      "Total number of equality constraints.................:       17\n",
      "Total number of inequality constraints...............:        0\n",
      "        inequality constraints with only lower bounds:        0\n",
      "   inequality constraints with lower and upper bounds:        0\n",
      "        inequality constraints with only upper bounds:        0\n",
      "\n",
      "iter    objective    inf_pr   inf_du lg(mu)  ||d||  lg(rg) alpha_du alpha_pr  ls\n",
      "   0  0.0000000e+00 0.00e+00 1.00e+00  -1.0 0.00e+00    -  0.00e+00 0.00e+00   0\n",
      "\n",
      "Number of Iterations....: 0\n",
      "\n",
      "                                   (scaled)                 (unscaled)\n",
      "Objective...............:   0.0000000000000000e+00    0.0000000000000000e+00\n",
      "Dual infeasibility......:   0.0000000000000000e+00    0.0000000000000000e+00\n",
      "Constraint violation....:   0.0000000000000000e+00    0.0000000000000000e+00\n",
      "Complementarity.........:   0.0000000000000000e+00    0.0000000000000000e+00\n",
      "Overall NLP error.......:   0.0000000000000000e+00    0.0000000000000000e+00\n",
      "\n",
      "\n",
      "Number of objective function evaluations             = 1\n",
      "Number of objective gradient evaluations             = 1\n",
      "Number of equality constraint evaluations            = 1\n",
      "Number of inequality constraint evaluations          = 0\n",
      "Number of equality constraint Jacobian evaluations   = 1\n",
      "Number of inequality constraint Jacobian evaluations = 0\n",
      "Number of Lagrangian Hessian evaluations             = 0\n",
      "Total CPU secs in IPOPT (w/o function evaluations)   =      0.000\n",
      "Total CPU secs in NLP function evaluations           =      0.000\n",
      "\n",
      "EXIT: Optimal Solution Found.\n",
      "\b\b\b\b\b\b\b\b\b\b\b\b\b\b"
     ]
    }
   ],
   "source": [
    "# Solve the simulation using ipopt\n",
    "# Note: If the degrees of freedom = 0, we have a square problem\n",
    "opt = SolverFactory(\"ipopt\")\n",
    "solve_status = opt.solve(m, tee=True)"
   ]
  },
  {
   "cell_type": "markdown",
   "metadata": {},
   "source": [
    "### View Results"
   ]
  },
  {
   "cell_type": "code",
   "execution_count": 9,
   "metadata": {},
   "outputs": [
    {
     "name": "stdout",
     "output_type": "stream",
     "text": [
      "heat_duty : Size=1, Index=fs._time, ReferenceTo=fs.heater.control_volume.heat\n",
      "    Key : Lower : Value              : Upper : Fixed : Stale : Domain\n",
      "    0.0 :  None : 459.10147722222246 :  None : False : False :  Reals\n"
     ]
    }
   ],
   "source": [
    "# Display Heat Duty only\n",
    "m.fs.heater.heat_duty.display()"
   ]
  },
  {
   "cell_type": "code",
   "execution_count": 10,
   "metadata": {},
   "outputs": [
    {
     "name": "stdout",
     "output_type": "stream",
     "text": [
      "\n",
      "====================================================================================\n",
      "Unit : fs.heater                                                           Time: 0.0\n",
      "------------------------------------------------------------------------------------\n",
      "    Unit Performance\n",
      "\n",
      "    Variables: \n",
      "\n",
      "    Key       : Value  : Units : Fixed : Bounds\n",
      "    Heat Duty : 459.10 :  watt : False : (None, None)\n",
      "\n",
      "------------------------------------------------------------------------------------\n",
      "    Stream Table\n",
      "                               Units         Inlet     Outlet  \n",
      "    flow_mol                mole / second    0.27778    0.27778\n",
      "    mole_frac_comp benzene  dimensionless    0.40000    0.40000\n",
      "    mole_frac_comp toluene  dimensionless    0.60000    0.60000\n",
      "    temperature                    kelvin     353.00     363.00\n",
      "    pressure                       pascal 1.0132e+05 1.0132e+05\n",
      "====================================================================================\n"
     ]
    }
   ],
   "source": [
    "# Display a readable report\n",
    "m.fs.heater.report()"
   ]
  },
  {
   "cell_type": "markdown",
   "metadata": {},
   "source": [
    "## Case 2: Fix Heat Duty"
   ]
  },
  {
   "cell_type": "code",
   "execution_count": 11,
   "metadata": {},
   "outputs": [
    {
     "name": "stdout",
     "output_type": "stream",
     "text": [
      "Ipopt 3.13.2: \n",
      "\n",
      "******************************************************************************\n",
      "This program contains Ipopt, a library for large-scale nonlinear optimization.\n",
      " Ipopt is released as open source code under the Eclipse Public License (EPL).\n",
      "         For more information visit http://projects.coin-or.org/Ipopt\n",
      "\n",
      "This version of Ipopt was compiled from source code available at\n",
      "    https://github.com/IDAES/Ipopt as part of the Institute for the Design of\n",
      "    Advanced Energy Systems Process Systems Engineering Framework (IDAES PSE\n",
      "    Framework) Copyright (c) 2018-2019. See https://github.com/IDAES/idaes-pse.\n",
      "\n",
      "This version of Ipopt was compiled using HSL, a collection of Fortran codes\n",
      "    for large-scale scientific computation.  All technical papers, sales and\n",
      "    publicity material resulting from use of the HSL codes within IPOPT must\n",
      "    contain the following acknowledgement:\n",
      "        HSL, a collection of Fortran codes for large-scale scientific\n",
      "        computation. See http://www.hsl.rl.ac.uk.\n",
      "******************************************************************************\n",
      "\n",
      "This is Ipopt version 3.13.2, running with linear solver ma27.\n",
      "\n",
      "Number of nonzeros in equality constraint Jacobian...:       46\n",
      "Number of nonzeros in inequality constraint Jacobian.:        0\n",
      "Number of nonzeros in Lagrangian Hessian.............:       21\n",
      "\n",
      "Total number of variables............................:       17\n",
      "                     variables with only lower bounds:        3\n",
      "                variables with lower and upper bounds:        6\n",
      "                     variables with only upper bounds:        0\n",
      "Total number of equality constraints.................:       17\n",
      "Total number of inequality constraints...............:        0\n",
      "        inequality constraints with only lower bounds:        0\n",
      "   inequality constraints with lower and upper bounds:        0\n",
      "        inequality constraints with only upper bounds:        0\n",
      "\n",
      "iter    objective    inf_pr   inf_du lg(mu)  ||d||  lg(rg) alpha_du alpha_pr  ls\n",
      "   0  0.0000000e+00 7.28e-12 1.00e+00  -1.0 0.00e+00    -  0.00e+00 0.00e+00   0\n",
      "\n",
      "Number of Iterations....: 0\n",
      "\n",
      "                                   (scaled)                 (unscaled)\n",
      "Objective...............:   0.0000000000000000e+00    0.0000000000000000e+00\n",
      "Dual infeasibility......:   0.0000000000000000e+00    0.0000000000000000e+00\n",
      "Constraint violation....:   4.7656100143311205e-12    7.2759576141834259e-12\n",
      "Complementarity.........:   0.0000000000000000e+00    0.0000000000000000e+00\n",
      "Overall NLP error.......:   4.7656100143311205e-12    7.2759576141834259e-12\n",
      "\n",
      "\n",
      "Number of objective function evaluations             = 1\n",
      "Number of objective gradient evaluations             = 1\n",
      "Number of equality constraint evaluations            = 1\n",
      "Number of inequality constraint evaluations          = 0\n",
      "Number of equality constraint Jacobian evaluations   = 1\n",
      "Number of inequality constraint Jacobian evaluations = 0\n",
      "Number of Lagrangian Hessian evaluations             = 0\n",
      "Total CPU secs in IPOPT (w/o function evaluations)   =      0.000\n",
      "Total CPU secs in NLP function evaluations           =      0.000\n",
      "\n",
      "EXIT: Optimal Solution Found.\n",
      "\b\b\b\b\b\b\b\b\b\b\b\b\b\b"
     ]
    }
   ],
   "source": [
    "# Fix heat duty and solve the model\n",
    "m.fs.heater.outlet.temperature.unfix()\n",
    "m.fs.heater.heat_duty.fix(459.10147722222354)\n",
    "solve_status = opt.solve(m, tee=True)"
   ]
  },
  {
   "cell_type": "code",
   "execution_count": 12,
   "metadata": {},
   "outputs": [
    {
     "name": "stdout",
     "output_type": "stream",
     "text": [
      "_temperature_outlet_ref : Size=1, Index=fs._time, ReferenceTo=fs.heater.control_volume.properties_out[...].component('temperature')\n",
      "    Key : Lower : Value : Upper : Fixed : Stale : Domain\n",
      "    0.0 :     0 : 363.0 :  None : False : False : NonNegativeReals\n"
     ]
    }
   ],
   "source": [
    "# Display outlet temperature only\n",
    "m.fs.heater.outlet.temperature.display()"
   ]
  },
  {
   "cell_type": "code",
   "execution_count": 13,
   "metadata": {},
   "outputs": [
    {
     "name": "stdout",
     "output_type": "stream",
     "text": [
      "\n",
      "====================================================================================\n",
      "Unit : fs.heater                                                           Time: 0.0\n",
      "------------------------------------------------------------------------------------\n",
      "    Unit Performance\n",
      "\n",
      "    Variables: \n",
      "\n",
      "    Key       : Value  : Units : Fixed : Bounds\n",
      "    Heat Duty : 459.10 :  watt :  True : (None, None)\n",
      "\n",
      "------------------------------------------------------------------------------------\n",
      "    Stream Table\n",
      "                               Units         Inlet     Outlet  \n",
      "    flow_mol                mole / second    0.27778    0.27778\n",
      "    mole_frac_comp benzene  dimensionless    0.40000    0.40000\n",
      "    mole_frac_comp toluene  dimensionless    0.60000    0.60000\n",
      "    temperature                    kelvin     353.00     363.00\n",
      "    pressure                       pascal 1.0132e+05 1.0132e+05\n",
      "====================================================================================\n"
     ]
    }
   ],
   "source": [
    "# Display a readable report\n",
    "m.fs.heater.report()"
   ]
  },
  {
   "cell_type": "markdown",
   "metadata": {},
   "source": [
    "## Plotting Q vs. Outlet Temperature"
   ]
  },
  {
   "cell_type": "code",
   "execution_count": 14,
   "metadata": {},
   "outputs": [],
   "source": [
    "# Heat Duty vs Outlet Temperature\n",
    "import matplotlib.pyplot as plt\n",
    "import numpy as np\n",
    "\n",
    "# Unfix the heat duty from case 2\n",
    "m.fs.heater.heat_duty.unfix()\n",
    "\n",
    "# Create a list of outlet temperatures for which corresponding heat duty values need to be obtained\n",
    "outlet_temp_fixed = [\n",
    "    91.256405 + 273.15,\n",
    "    90.828456 + 273.15,\n",
    "    86.535145 + 273.15,\n",
    "    89.383218 + 273.15,\n",
    "    93.973657 + 273.15,\n",
    "    85.377274 + 273.15,\n",
    "    92.399101 + 273.15,\n",
    "    94.151562 + 273.15,\n",
    "    87.564579 + 273.15,\n",
    "    88.767855 + 273.15,\n",
    "]\n",
    "\n",
    "# Fix the outlet temperature values and solve the model to obtain the heat duties\n",
    "heat_duty = []\n",
    "for temp in outlet_temp_fixed:\n",
    "    m.fs.heater.outlet.temperature.fix(temp)\n",
    "    solve_status = opt.solve(m)\n",
    "    if solve_status.solver.termination_condition == TerminationCondition.optimal:\n",
    "        heat_duty.append(m.fs.heater.heat_duty[0].value)"
   ]
  },
  {
   "cell_type": "code",
   "execution_count": 15,
   "metadata": {},
   "outputs": [
    {
     "data": {
      "image/png": "[encoded data removed]",
      "text/plain": [
       "<Figure size 640x480 with 1 Axes>"
      ]
     },
     "metadata": {},
     "output_type": "display_data"
    }
   ],
   "source": [
    "# Plotting the results\n",
    "\n",
    "plt.figure(\"Q vs. Temperature\")\n",
    "plt.plot(outlet_temp_fixed, heat_duty, \"bo\")\n",
    "plt.xlim(358.15, 368.15)\n",
    "plt.ylim(250, 700)\n",
    "plt.xlabel(\"Outlet Temperature (K)\")\n",
    "plt.ylabel(\"Heat Duty (W)\")\n",
    "plt.grid()"
   ]
  },
  {
   "cell_type": "code",
   "execution_count": null,
   "metadata": {},
   "outputs": [],
   "source": []
  }
 ],
 "metadata": {
  "celltoolbar": "Tags",
  "kernelspec": {
   "display_name": "Python 3 (ipykernel)",
   "language": "python",
   "name": "python3"
  },
  "language_info": {
   "codemirror_mode": {
    "name": "ipython",
    "version": 3
   },
   "file_extension": ".py",
   "mimetype": "text/x-python",
   "name": "python",
   "nbconvert_exporter": "python",
   "pygments_lexer": "ipython3",
   "version": "3.11.11"
  }
 },
 "nbformat": 4,
 "nbformat_minor": 3
}