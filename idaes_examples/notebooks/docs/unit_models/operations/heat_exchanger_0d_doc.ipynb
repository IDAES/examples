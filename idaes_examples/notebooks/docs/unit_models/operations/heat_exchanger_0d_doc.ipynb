{
 "cells": [
  {
   "cell_type": "code",
   "execution_count": 1,
   "metadata": {
    "tags": [
     "header",
     "hide-cell"
    ]
   },
   "outputs": [],
   "source": [
    "###############################################################################\n",
    "# The Institute for the Design of Advanced Energy Systems Integrated Platform\n",
    "# Framework (IDAES IP) was produced under the DOE Institute for the\n",
    "# Design of Advanced Energy Systems (IDAES).\n",
    "#\n",
    "# Copyright (c) 2018-2023 by the software owners: The Regents of the\n",
    "# University of California, through Lawrence Berkeley National Laboratory,\n",
    "# National Technology & Engineering Solutions of Sandia, LLC, Carnegie Mellon\n",
    "# University, West Virginia University Research Corporation, et al.\n",
    "# All rights reserved.  Please see the files COPYRIGHT.md and LICENSE.md\n",
    "# for full copyright and license information.\n",
    "###############################################################################"
   ]
  },
  {
   "cell_type": "markdown",
   "metadata": {},
   "source": [
    "# Heat Exchanger 0D Unit Model with Ideal & IAPWS Property Package\n",
    "Author: Anuja Deshpande  \n",
    "Maintainer: Brandon Paul  \n",
    "Updated: 2023-06-01  \n",
    "\n",
    "![](heat_exchanger_4.svg)\n",
    "\n",
    "**Problem Statement**: In this example, we will be heating a benzene-toluene mixture using steam. \n",
    "\n",
    "**Tube Side Inlet**\n",
    "\n",
    "Flow Rate = 250 mol/s\n",
    "\n",
    "Mole fraction (Benzene) = 0.4\n",
    "\n",
    "Mole fraction (Toluene) = 0.6\n",
    "\n",
    "Pressure = 101325 Pa\n",
    "\n",
    "Temperature = 350 K\n",
    "\n",
    "**Shell Side Inlet**\n",
    "\n",
    "Flow Rate = 100 mol/s\n",
    "\n",
    "Mole fraction (Steam) = 1\n",
    "\n",
    "Pressure = 101325 Pa\n",
    "\n",
    "Temperature = 450 K\n",
    "\n",
    "This example will demonstrate the simulation of the 0D heat exchanger by fixing any 2 of the following degrees of freedom:\n",
    "- heat transfer area\n",
    "- overall heat transfer coefficient\n",
    "- minimum approach temperature\n",
    "\n",
    "\n",
    "IDAES documentation reference for heat exchanger 0D model: https://idaes-pse.readthedocs.io/en/stable/reference_guides/model_libraries/generic/unit_models/heat_exchanger.html"
   ]
  },
  {
   "cell_type": "markdown",
   "metadata": {},
   "source": [
    "**Setting up the problem in IDAES**"
   ]
  },
  {
   "cell_type": "code",
   "execution_count": 2,
   "metadata": {
    "scrolled": true
   },
   "outputs": [],
   "source": [
    "# Import pyomo package\n",
    "from pyomo.environ import ConcreteModel, SolverFactory, Constraint, value, units\n",
    "\n",
    "# Import idaes logger to set output levels\n",
    "import idaes.logger as idaeslog\n",
    "\n",
    "# Import the main FlowsheetBlock from IDAES. The flowsheet block will contain the unit model\n",
    "from idaes.core import FlowsheetBlock\n",
    "\n",
    "# import the BTX property package to create a properties block for the flowsheet\n",
    "from idaes.models.properties.activity_coeff_models import BTX_activity_coeff_VLE\n",
    "\n",
    "# Import the IAPWS property package to create a properties block for the flowsheet\n",
    "from idaes.models.properties import iapws95\n",
    "\n",
    "from idaes.models.properties.iapws95 import htpx\n",
    "\n",
    "from idaes.models.properties.modular_properties import GenericParameterBlock\n",
    "\n",
    "from idaes.models.properties.modular_properties.examples.BT_ideal import configuration\n",
    "\n",
    "# Import the degrees_of_freedom function from the idaes.core.util.model_statistics package\n",
    "from idaes.core.util.model_statistics import degrees_of_freedom\n",
    "\n",
    "# Import a heat exchanger unit\n",
    "from idaes.models.unit_models.heat_exchanger import (\n",
    "    HeatExchanger,\n",
    "    delta_temperature_amtd_callback,\n",
    ")\n",
    "\n",
    "# Create the ConcreteModel and the FlowsheetBlock, and attach the flowsheet block to it.\n",
    "m = ConcreteModel()\n",
    "\n",
    "# Steady State Model\n",
    "m.fs = FlowsheetBlock(dynamic=False)\n",
    "\n",
    "# Setup property packages for shell and tube side\n",
    "# Steam property package\n",
    "m.fs.properties_shell = iapws95.Iapws95ParameterBlock()\n",
    "\n",
    "# BT ideal property package\n",
    "m.fs.properties_tube = GenericParameterBlock(**configuration)"
   ]
  },
  {
   "cell_type": "code",
   "execution_count": 3,
   "metadata": {},
   "outputs": [
    {
     "name": "stdout",
     "output_type": "stream",
     "text": [
      "The initial DOF is 10\n"
     ]
    }
   ],
   "source": [
    "# Create an instance of the heat exchanger unit, attaching it to the flowsheet\n",
    "# Specify that the property package to be used with the heater is the one we created earlier.\n",
    "m.fs.heat_exchanger = HeatExchanger(\n",
    "    delta_temperature_callback=delta_temperature_amtd_callback,\n",
    "    hot_side_name=\"shell\",\n",
    "    cold_side_name=\"tube\",\n",
    "    shell={\"property_package\": m.fs.properties_shell},\n",
    "    tube={\"property_package\": m.fs.properties_tube},\n",
    ")\n",
    "\n",
    "# Call the degrees_of_freedom function, get intitial DOF\n",
    "DOF_initial = degrees_of_freedom(m)\n",
    "print(\"The initial DOF is {0}\".format(DOF_initial))"
   ]
  },
  {
   "cell_type": "code",
   "execution_count": 4,
   "metadata": {},
   "outputs": [
    {
     "name": "stdout",
     "output_type": "stream",
     "text": [
      "The DOF is 7\n"
     ]
    }
   ],
   "source": [
    "h = htpx(450 * units.K, P=101325 * units.Pa)\n",
    "\n",
    "# Fix the inlet conditions\n",
    "m.fs.heat_exchanger.shell_inlet.flow_mol.fix(100)  # mol/s\n",
    "m.fs.heat_exchanger.shell_inlet.pressure.fix(101325)\n",
    "m.fs.heat_exchanger.shell_inlet.enth_mol.fix(h)  # J/mol\n",
    "\n",
    "DOF_initial = degrees_of_freedom(m)\n",
    "print(\"The DOF is {0}\".format(DOF_initial))"
   ]
  },
  {
   "cell_type": "code",
   "execution_count": 5,
   "metadata": {},
   "outputs": [
    {
     "name": "stdout",
     "output_type": "stream",
     "text": [
      "The DOF is 2\n"
     ]
    }
   ],
   "source": [
    "m.fs.heat_exchanger.tube_inlet.flow_mol.fix(250)  # mol/s\n",
    "m.fs.heat_exchanger.tube_inlet.mole_frac_comp[0, \"benzene\"].fix(0.4)\n",
    "m.fs.heat_exchanger.tube_inlet.mole_frac_comp[0, \"toluene\"].fix(0.6)\n",
    "m.fs.heat_exchanger.tube_inlet.pressure.fix(101325)  # Pa\n",
    "m.fs.heat_exchanger.tube_inlet.temperature[0].fix(350)  # K\n",
    "\n",
    "# Call the degrees_of_freedom function, get final DOF\n",
    "DOF_final = degrees_of_freedom(m)\n",
    "print(\"The DOF is {0}\".format(DOF_final))"
   ]
  },
  {
   "cell_type": "markdown",
   "metadata": {},
   "source": [
    "### Option 1: Fix overall HTC and the heat transfer area\n"
   ]
  },
  {
   "cell_type": "code",
   "execution_count": 6,
   "metadata": {},
   "outputs": [
    {
     "name": "stdout",
     "output_type": "stream",
     "text": [
      "The DOF is 0\n"
     ]
    }
   ],
   "source": [
    "m.fs.heat_exchanger.area.fix(50)  # m2\n",
    "m.fs.heat_exchanger.overall_heat_transfer_coefficient[0].fix(500)  # W/m2/K\n",
    "\n",
    "# Call the degrees_of_freedom function, get final DOF\n",
    "DOF_final = degrees_of_freedom(m)\n",
    "print(\"The DOF is {0}\".format(DOF_final))"
   ]
  },
  {
   "cell_type": "code",
   "execution_count": 7,
   "metadata": {},
   "outputs": [
    {
     "name": "stdout",
     "output_type": "stream",
     "text": [
      "2023-11-02 10:25:29 [INFO] idaes.init.fs.heat_exchanger.hot_side: Initialization Complete\n"
     ]
    },
    {
     "name": "stdout",
     "output_type": "stream",
     "text": [
      "2023-11-02 10:25:29 [INFO] idaes.init.fs.heat_exchanger.cold_side.properties_in: Starting initialization\n"
     ]
    },
    {
     "name": "stdout",
     "output_type": "stream",
     "text": [
      "2023-11-02 10:25:30 [INFO] idaes.init.fs.heat_exchanger.cold_side.properties_in: Dew and bubble point initialization: optimal - Optimal Solution Found.\n"
     ]
    },
    {
     "name": "stdout",
     "output_type": "stream",
     "text": [
      "2023-11-02 10:25:30 [INFO] idaes.init.fs.heat_exchanger.cold_side.properties_in: Equilibrium temperature initialization completed.\n"
     ]
    },
    {
     "name": "stdout",
     "output_type": "stream",
     "text": [
      "2023-11-02 10:25:30 [INFO] idaes.init.fs.heat_exchanger.cold_side.properties_in: State variable initialization completed.\n"
     ]
    },
    {
     "name": "stdout",
     "output_type": "stream",
     "text": [
      "2023-11-02 10:25:30 [INFO] idaes.init.fs.heat_exchanger.cold_side.properties_in: Phase equilibrium initialization: optimal - Optimal Solution Found.\n"
     ]
    },
    {
     "name": "stdout",
     "output_type": "stream",
     "text": [
      "2023-11-02 10:25:30 [INFO] idaes.init.fs.heat_exchanger.cold_side.properties_in: Property initialization: optimal - Optimal Solution Found.\n"
     ]
    },
    {
     "name": "stdout",
     "output_type": "stream",
     "text": [
      "2023-11-02 10:25:30 [INFO] idaes.init.fs.heat_exchanger.cold_side.properties_out: Starting initialization\n"
     ]
    },
    {
     "name": "stdout",
     "output_type": "stream",
     "text": [
      "2023-11-02 10:25:30 [INFO] idaes.init.fs.heat_exchanger.cold_side.properties_out: Dew and bubble point initialization: optimal - Optimal Solution Found.\n"
     ]
    },
    {
     "name": "stdout",
     "output_type": "stream",
     "text": [
      "2023-11-02 10:25:30 [INFO] idaes.init.fs.heat_exchanger.cold_side.properties_out: Equilibrium temperature initialization completed.\n"
     ]
    },
    {
     "name": "stdout",
     "output_type": "stream",
     "text": [
      "2023-11-02 10:25:30 [INFO] idaes.init.fs.heat_exchanger.cold_side.properties_out: State variable initialization completed.\n"
     ]
    },
    {
     "name": "stdout",
     "output_type": "stream",
     "text": [
      "2023-11-02 10:25:30 [INFO] idaes.init.fs.heat_exchanger.cold_side.properties_out: Phase equilibrium initialization: optimal - Optimal Solution Found.\n"
     ]
    },
    {
     "name": "stdout",
     "output_type": "stream",
     "text": [
      "2023-11-02 10:25:30 [INFO] idaes.init.fs.heat_exchanger.cold_side.properties_out: Property initialization: optimal - Optimal Solution Found.\n"
     ]
    },
    {
     "name": "stdout",
     "output_type": "stream",
     "text": [
      "2023-11-02 10:25:30 [INFO] idaes.init.fs.heat_exchanger.cold_side: Initialization Complete\n"
     ]
    },
    {
     "name": "stdout",
     "output_type": "stream",
     "text": [
      "2023-11-02 10:25:30 [INFO] idaes.init.fs.heat_exchanger: Initialization Completed, optimal - Optimal Solution Found\n"
     ]
    },
    {
     "name": "stdout",
     "output_type": "stream",
     "text": [
      "\n",
      "====================================================================================\n",
      "Unit : fs.heat_exchanger                                                   Time: 0.0\n",
      "------------------------------------------------------------------------------------\n",
      "    Unit Performance\n",
      "\n",
      "    Variables: \n",
      "\n",
      "    Key            : Value      : Units                           : Fixed : Bounds\n",
      "           HX Area :     50.000 :                      meter ** 2 :  True : (0, None)\n",
      "    HX Coefficient :     500.00 : kilogram / kelvin / second ** 3 :  True : (0, None)\n",
      "         Heat Duty : 1.2985e+06 :                            watt : False : (None, None)\n",
      "\n",
      "    Expressions: \n",
      "\n",
      "    Key             : Value  : Units\n",
      "    Delta T Driving : 51.940 : kelvin\n",
      "         Delta T In : 80.757 : kelvin\n",
      "        Delta T Out : 23.124 : kelvin\n",
      "\n",
      "------------------------------------------------------------------------------------\n",
      "    Stream Table\n",
      "                                      Units        shell Inlet shell Outlet tube Inlet tube Outlet\n",
      "    Molar Flow                       mole / second       100        100.00           -           -\n",
      "    Mass Flow                    kilogram / second    1.8015        1.8015           -           -\n",
      "    T                                       kelvin    450.00        373.12           -           -\n",
      "    P                                       pascal    101325    1.0132e+05           -           -\n",
      "    Vapor Fraction                   dimensionless    1.0000       0.74888           -           -\n",
      "    Molar Enthalpy                    joule / mole    50977.        37992.           -           -\n",
      "    Total Molar Flowrate             mole / second         -             -         250      250.00\n",
      "    Total Mole Fraction benzene      dimensionless         -             -     0.40000     0.40000\n",
      "    Total Mole Fraction toluene      dimensionless         -             -     0.60000     0.60000\n",
      "    Temperature                             kelvin         -             -         350      369.24\n",
      "    Pressure                                pascal         -             -  1.0132e+05  1.0132e+05\n",
      "====================================================================================\n"
     ]
    }
   ],
   "source": [
    "# Initialize the flowsheet, and set the output at WARNING\n",
    "m.fs.heat_exchanger.initialize(outlvl=idaeslog.INFO)\n",
    "\n",
    "# Solve the simulation using ipopt\n",
    "# Note: If the degrees of freedom = 0, we have a square problem\n",
    "opt = SolverFactory(\"ipopt\")\n",
    "solve_status = opt.solve(m)\n",
    "\n",
    "# Display a readable report\n",
    "m.fs.heat_exchanger.report()"
   ]
  },
  {
   "cell_type": "markdown",
   "metadata": {},
   "source": [
    "### Option 2: Unfix area and fix shell side outlet temperature\n",
    "\n",
    "In the previous example, we fixed the heat exchanger area and overall heat transfer coefficient. However, given that the models in IDAES are equation oriented, we can fix the outlet variables. For example, we can fix the outlet temperature for the shell side and solve for the heat exchanger area that will satisfy that condition. \n"
   ]
  },
  {
   "cell_type": "code",
   "execution_count": 8,
   "metadata": {},
   "outputs": [
    {
     "name": "stdout",
     "output_type": "stream",
     "text": [
      "0\n"
     ]
    }
   ],
   "source": [
    "m.fs.heat_exchanger.area.unfix()\n",
    "m.fs.heat_exchanger.shell_outlet.enth_mol.fix(htpx(360 * units.K, P=101325 * units.Pa))\n",
    "print(degrees_of_freedom(m))"
   ]
  },
  {
   "cell_type": "code",
   "execution_count": 9,
   "metadata": {},
   "outputs": [
    {
     "name": "stdout",
     "output_type": "stream",
     "text": [
      "\n",
      "Problem: \n",
      "- Lower bound: -inf\n",
      "  Upper bound: inf\n",
      "  Number of objectives: 1\n",
      "  Number of constraints: 44\n",
      "  Number of variables: 44\n",
      "  Sense: unknown\n",
      "Solver: \n",
      "- Status: ok\n",
      "  Message: Ipopt 3.13.2\\x3a Optimal Solution Found\n",
      "  Termination condition: optimal\n",
      "  Id: 0\n",
      "  Error rc: 0\n",
      "  Time: 0.05035805702209473\n",
      "Solution: \n",
      "- number of solutions: 0\n",
      "  number of solutions displayed: 0\n",
      "\n",
      "\n",
      "====================================================================================\n",
      "Unit : fs.heat_exchanger                                                   Time: 0.0\n",
      "------------------------------------------------------------------------------------\n",
      "    Unit Performance\n",
      "\n",
      "    Variables: \n",
      "\n",
      "    Key            : Value      : Units                           : Fixed : Bounds\n",
      "           HX Area :     200.26 :                      meter ** 2 : False : (0, None)\n",
      "    HX Coefficient :     500.00 : kilogram / kelvin / second ** 3 :  True : (0, None)\n",
      "         Heat Duty : 4.4423e+06 :                            watt : False : (None, None)\n",
      "\n",
      "    Expressions: \n",
      "\n",
      "    Key             : Value  : Units\n",
      "    Delta T Driving : 44.365 : kelvin\n",
      "         Delta T In : 78.730 : kelvin\n",
      "        Delta T Out : 10.000 : kelvin\n",
      "\n",
      "------------------------------------------------------------------------------------\n",
      "    Stream Table\n",
      "                                      Units        shell Inlet shell Outlet tube Inlet tube Outlet\n",
      "    Molar Flow                       mole / second       100        100.00           -           -\n",
      "    Mass Flow                    kilogram / second    1.8015        1.8015           -           -\n",
      "    T                                       kelvin    450.00        360.00           -           -\n",
      "    P                                       pascal    101325    1.0132e+05           -           -\n",
      "    Vapor Fraction                   dimensionless    1.0000        0.0000           -           -\n",
      "    Molar Enthalpy                    joule / mole    50977.        6554.3           -           -\n",
      "    Total Molar Flowrate             mole / second         -             -         250      250.00\n",
      "    Total Mole Fraction benzene      dimensionless         -             -     0.40000     0.40000\n",
      "    Total Mole Fraction toluene      dimensionless         -             -     0.60000     0.60000\n",
      "    Temperature                             kelvin         -             -         350      371.27\n",
      "    Pressure                                pascal         -             -  1.0132e+05  1.0132e+05\n",
      "====================================================================================\n"
     ]
    }
   ],
   "source": [
    "result = opt.solve(m)\n",
    "\n",
    "print(result)\n",
    "\n",
    "# Display a readable report\n",
    "m.fs.heat_exchanger.report()"
   ]
  },
  {
   "cell_type": "code",
   "execution_count": null,
   "metadata": {},
   "outputs": [],
   "source": []
  }
 ],
 "metadata": {
  "celltoolbar": "Tags",
  "kernelspec": {
   "display_name": "Python 3 (ipykernel)",
   "language": "python",
   "name": "python3"
  },
  "language_info": {
   "codemirror_mode": {
    "name": "ipython",
    "version": 3
   },
   "file_extension": ".py",
   "mimetype": "text/x-python",
   "name": "python",
   "nbconvert_exporter": "python",
   "pygments_lexer": "ipython3",
   "version": "3.11.5"
  }
 },
 "nbformat": 4,
 "nbformat_minor": 3
}