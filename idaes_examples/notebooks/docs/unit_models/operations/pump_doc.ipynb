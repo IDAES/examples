{
 "cells": [
  {
   "cell_type": "code",
   "execution_count": 1,
   "metadata": {
    "tags": [
     "header",
     "hide-cell"
    ]
   },
   "outputs": [],
   "source": [
    "###############################################################################\n",
    "# The Institute for the Design of Advanced Energy Systems Integrated Platform\n",
    "# Framework (IDAES IP) was produced under the DOE Institute for the\n",
    "# Design of Advanced Energy Systems (IDAES).\n",
    "#\n",
    "# Copyright (c) 2018-2023 by the software owners: The Regents of the\n",
    "# University of California, through Lawrence Berkeley National Laboratory,\n",
    "# National Technology & Engineering Solutions of Sandia, LLC, Carnegie Mellon\n",
    "# University, West Virginia University Research Corporation, et al.\n",
    "# All rights reserved.  Please see the files COPYRIGHT.md and LICENSE.md\n",
    "# for full copyright and license information.\n",
    "###############################################################################"
   ]
  },
  {
   "cell_type": "markdown",
   "metadata": {},
   "source": [
    "# Pump Unit Model with IAPWS Property Package\n",
    "Author: Anuja Deshpande  \n",
    "Maintainer: Brandon Paul  \n",
    "Updated: 2023-06-01  \n",
    "\n",
    "\n",
    "\n",
    "<img src=\"pump.svg\" alt=\"drawing\" width=\"200\"/>\n",
    "\n",
    "\n",
    "\n",
    "## Learning Outcomes\n",
    "\n",
    "- Demonstrate use of the Pump unit model in IDAES\n",
    "- Demonstrate different simulation options available\n",
    "\n",
    "\n",
    "## Problem Statement\n",
    "\n",
    "In this example, we will pump a stream of water at atmospheric pressure to a pressure of 201325 Pa using a simple pump unit model. We will be using the IAPWS property package for the water properties. It is assumed that the pump operates at steady state.\n",
    "\n",
    "The inlet specifications are as follows:\n",
    "\n",
    "* Flow Rate = 100 mol/s\n",
    "* Mole fraction (H2O) = 1\n",
    "* Pressure = 101325 Pa\n",
    "* Temperature = 298.15 K\n",
    "\n",
    "We will simulate 2 different cases, depending on the operating specifications by the user:\n",
    "\n",
    "**Case 1**:In this case, we will specify the pump efficiency and the pressure increase variable on the pump unit model.\n",
    "\n",
    "   * Pressure Increase = 100000 Pa\n",
    "   * Pump Efficiency = 0.8\n",
    "        \n",
    "**Case 2**: In this case, we will specify the pump efficiency but will specify the pressure of the outlet stream directly. \n",
    "   * Outlet Pressure = 201325 Pa\n",
    "   * Pump efficiency = 0.8\n",
    "\n",
    "IDAES documentation reference for pump model: https://idaes-pse.readthedocs.io/en/stable/"
   ]
  },
  {
   "cell_type": "markdown",
   "metadata": {},
   "source": [
    "## Setting up the problem in IDAES\n",
    "\n",
    "In the following cell, we will be importing the necessary components from Pyomo and IDAES."
   ]
  },
  {
   "cell_type": "code",
   "execution_count": 2,
   "metadata": {},
   "outputs": [],
   "source": [
    "# Import objects from pyomo package\n",
    "from pyomo.environ import ConcreteModel, SolverFactory, value, units\n",
    "\n",
    "# Import the main FlowsheetBlock from IDAES. The flowsheet block will contain the unit model\n",
    "from idaes.core import FlowsheetBlock\n",
    "\n",
    "# Import idaes logger to set output levels\n",
    "import idaes.logger as idaeslog\n",
    "\n",
    "# Create the ConcreteModel and the FlowsheetBlock, and attach the flowsheet block to it.\n",
    "m = ConcreteModel()\n",
    "\n",
    "m.fs = FlowsheetBlock(\n",
    "    dynamic=False\n",
    ")  # dynamic or ss flowsheet needs to be specified here\n",
    "\n",
    "\n",
    "# Import the IAPWS property package to create a properties block for the flowsheet\n",
    "from idaes.models.properties import iapws95\n",
    "from idaes.models.properties.helmholtz.helmholtz import PhaseType\n",
    "\n",
    "# Add properties parameter block to the flowsheet with specifications\n",
    "m.fs.properties = iapws95.Iapws95ParameterBlock(phase_presentation=PhaseType.L)"
   ]
  },
  {
   "cell_type": "markdown",
   "metadata": {},
   "source": [
    "## Case 1: Fix pressure change and pump efficiency \n"
   ]
  },
  {
   "cell_type": "markdown",
   "metadata": {},
   "source": [
    "### Add Pump Unit Model"
   ]
  },
  {
   "cell_type": "code",
   "execution_count": 3,
   "metadata": {},
   "outputs": [],
   "source": [
    "# Import pump unit model from the model library\n",
    "from idaes.models.unit_models.pressure_changer import Pump\n",
    "\n",
    "# Create an instance of the pump unit, attaching it to the flowsheet\n",
    "# Specify that the property package to be used with the pump is the one we created earlier.\n",
    "m.fs.pump_case_1 = Pump(property_package=m.fs.properties)"
   ]
  },
  {
   "cell_type": "code",
   "execution_count": 4,
   "metadata": {},
   "outputs": [
    {
     "name": "stdout",
     "output_type": "stream",
     "text": [
      "The initial DOF is 5\n"
     ]
    }
   ],
   "source": [
    "# Import the degrees_of_freedom function from the idaes.core.util.model_statistics package\n",
    "# DOF = Number of Model Variables - Number of Model Constraints\n",
    "from idaes.core.util.model_statistics import degrees_of_freedom\n",
    "\n",
    "# Call the degrees_of_freedom function, get intitial DOF\n",
    "DOF_initial = degrees_of_freedom(m)\n",
    "print(\"The initial DOF is {0}\".format(DOF_initial))"
   ]
  },
  {
   "cell_type": "markdown",
   "metadata": {},
   "source": [
    "### Fix Inlet Stream Conditions"
   ]
  },
  {
   "cell_type": "code",
   "execution_count": 5,
   "metadata": {},
   "outputs": [],
   "source": [
    "# Fix the stream inlet conditions\n",
    "m.fs.pump_case_1.inlet.flow_mol[0].fix(100)  # mol/s\n",
    "\n",
    "# Use the htpx method to obtain the molar enthalpy of inlet stream based on given conditions of temperature and pressure\n",
    "m.fs.pump_case_1.inlet.enth_mol[0].fix(\n",
    "    value(iapws95.htpx(T=298.15 * units.K, P=101325 * units.Pa))\n",
    ")  # J/mol\n",
    "m.fs.pump_case_1.inlet.pressure[0].fix(101325)  # Pa"
   ]
  },
  {
   "cell_type": "markdown",
   "metadata": {},
   "source": [
    "### Fix Pressure Change and Pump Efficiency"
   ]
  },
  {
   "cell_type": "code",
   "execution_count": 6,
   "metadata": {},
   "outputs": [
    {
     "name": "stdout",
     "output_type": "stream",
     "text": [
      "The final DOF is 0\n"
     ]
    }
   ],
   "source": [
    "# Fix pump conditions\n",
    "m.fs.pump_case_1.deltaP.fix(100000)\n",
    "m.fs.pump_case_1.efficiency_pump.fix(0.8)\n",
    "\n",
    "# Call the degrees_of_freedom function, get final DOF\n",
    "DOF_final = degrees_of_freedom(m)\n",
    "print(\"The final DOF is {0}\".format(DOF_final))"
   ]
  },
  {
   "cell_type": "markdown",
   "metadata": {},
   "source": [
    "### Initialization"
   ]
  },
  {
   "cell_type": "code",
   "execution_count": 7,
   "metadata": {},
   "outputs": [
    {
     "name": "stdout",
     "output_type": "stream",
     "text": [
      "2023-11-02 10:30:15 [INFO] idaes.init.fs.pump_case_1.control_volume: Initialization Complete\n"
     ]
    },
    {
     "name": "stdout",
     "output_type": "stream",
     "text": [
      "2023-11-02 10:30:15 [INFO] idaes.init.fs.pump_case_1: Initialization Complete: optimal - Optimal Solution Found\n"
     ]
    }
   ],
   "source": [
    "# Initialize the flowsheet, and set the logger level to INFO\n",
    "m.fs.pump_case_1.initialize(outlvl=idaeslog.INFO)"
   ]
  },
  {
   "cell_type": "markdown",
   "metadata": {},
   "source": [
    "### Solve Model"
   ]
  },
  {
   "cell_type": "code",
   "execution_count": 8,
   "metadata": {},
   "outputs": [
    {
     "name": "stdout",
     "output_type": "stream",
     "text": [
      "Ipopt 3.13.2: \n",
      "\n",
      "******************************************************************************\n",
      "This program contains Ipopt, a library for large-scale nonlinear optimization.\n",
      " Ipopt is released as open source code under the Eclipse Public License (EPL).\n",
      "         For more information visit http://projects.coin-or.org/Ipopt\n",
      "\n",
      "This version of Ipopt was compiled from source code available at\n",
      "    https://github.com/IDAES/Ipopt as part of the Institute for the Design of\n",
      "    Advanced Energy Systems Process Systems Engineering Framework (IDAES PSE\n",
      "    Framework) Copyright (c) 2018-2019. See https://github.com/IDAES/idaes-pse.\n",
      "\n",
      "This version of Ipopt was compiled using HSL, a collection of Fortran codes\n",
      "    for large-scale scientific computation.  All technical papers, sales and\n",
      "    publicity material resulting from use of the HSL codes within IPOPT must\n",
      "    contain the following acknowledgement:\n",
      "        HSL, a collection of Fortran codes for large-scale scientific\n",
      "        computation. See http://www.hsl.rl.ac.uk.\n",
      "******************************************************************************\n",
      "\n",
      "This is Ipopt version 3.13.2, running with linear solver ma27.\n",
      "\n",
      "Number of nonzeros in equality constraint Jacobian...:       14\n",
      "Number of nonzeros in inequality constraint Jacobian.:        0\n",
      "Number of nonzeros in Lagrangian Hessian.............:        6\n",
      "\n",
      "Total number of variables............................:        6\n",
      "                     variables with only lower bounds:        0\n",
      "                variables with lower and upper bounds:        2\n",
      "                     variables with only upper bounds:        0\n",
      "Total number of equality constraints.................:        6\n",
      "Total number of inequality constraints...............:        0\n",
      "        inequality constraints with only lower bounds:        0\n",
      "   inequality constraints with lower and upper bounds:        0\n",
      "        inequality constraints with only upper bounds:        0\n",
      "\n",
      "iter    objective    inf_pr   inf_du lg(mu)  ||d||  lg(rg) alpha_du alpha_pr  ls\n",
      "   0  0.0000000e+00 7.89e-07 0.00e+00  -1.0 0.00e+00    -  0.00e+00 0.00e+00   0\n",
      "   1  0.0000000e+00 6.55e-09 5.16e-07  -1.0 9.86e-07    -  9.90e-01 1.00e+00h  1\n",
      "\n",
      "Number of Iterations....: 1\n",
      "\n",
      "                                   (scaled)                 (unscaled)\n",
      "Objective...............:   0.0000000000000000e+00    0.0000000000000000e+00\n",
      "Dual infeasibility......:   0.0000000000000000e+00    0.0000000000000000e+00\n",
      "Constraint violation....:   3.4603063846230464e-10    6.5483618527650833e-09\n",
      "Complementarity.........:   0.0000000000000000e+00    0.0000000000000000e+00\n",
      "Overall NLP error.......:   3.4603063846230464e-10    6.5483618527650833e-09\n",
      "\n",
      "\n",
      "Number of objective function evaluations             = 2\n",
      "Number of objective gradient evaluations             = 2\n",
      "Number of equality constraint evaluations            = 2\n",
      "Number of inequality constraint evaluations          = 0\n",
      "Number of equality constraint Jacobian evaluations   = 2\n",
      "Number of inequality constraint Jacobian evaluations = 0\n",
      "Number of Lagrangian Hessian evaluations             = 1\n",
      "Total CPU secs in IPOPT (w/o function evaluations)   =      0.011\n",
      "Total CPU secs in NLP function evaluations           =      0.001\n",
      "\n",
      "EXIT: Optimal Solution Found.\n"
     ]
    },
    {
     "name": "stdout",
     "output_type": "stream",
     "text": [
      "\b\b\b\b\b\b\b\b\b\b\b\b\b\b"
     ]
    }
   ],
   "source": [
    "# Solve the simulation using ipopt\n",
    "# Note: If the degrees of freedom = 0, we have a square problem\n",
    "opt = SolverFactory(\"ipopt\")\n",
    "solve_status = opt.solve(m, tee=True)"
   ]
  },
  {
   "cell_type": "code",
   "execution_count": null,
   "metadata": {},
   "outputs": [],
   "source": []
  },
  {
   "cell_type": "markdown",
   "metadata": {},
   "source": [
    "### View Results"
   ]
  },
  {
   "cell_type": "code",
   "execution_count": 9,
   "metadata": {},
   "outputs": [
    {
     "name": "stdout",
     "output_type": "stream",
     "text": [
      "\n",
      "====================================================================================\n",
      "Unit : fs.pump_case_1                                                      Time: 0.0\n",
      "------------------------------------------------------------------------------------\n",
      "    Unit Performance\n",
      "\n",
      "    Variables: \n",
      "\n",
      "    Key             : Value      : Units         : Fixed : Bounds\n",
      "         Efficiency :    0.80000 : dimensionless :  True : (None, None)\n",
      "    Mechanical Work :     225.85 :          watt : False : (None, None)\n",
      "    Pressure Change : 1.0000e+05 :        pascal :  True : (None, None)\n",
      "     Pressure Ratio :     1.9869 : dimensionless : False : (None, None)\n",
      "\n",
      "------------------------------------------------------------------------------------\n",
      "    Stream Table\n"
     ]
    },
    {
     "name": "stdout",
     "output_type": "stream",
     "text": [
      "                         Units           Inlet     Outlet  \n",
      "    Molar Flow          mole / second     100.00     100.00\n",
      "    Mass Flow       kilogram / second     1.8015     1.8015\n",
      "    T                          kelvin     298.15     298.16\n",
      "    P                          pascal 1.0132e+05 2.0132e+05\n",
      "    Vapor Fraction      dimensionless     0.0000     0.0000\n",
      "    Molar Enthalpy       joule / mole     1890.2     1892.4\n",
      "====================================================================================\n"
     ]
    }
   ],
   "source": [
    "# Display a readable report\n",
    "m.fs.pump_case_1.report()"
   ]
  },
  {
   "cell_type": "markdown",
   "metadata": {},
   "source": [
    "## Case 2: Fix outlet pressure and pump efficiency\n"
   ]
  },
  {
   "cell_type": "markdown",
   "metadata": {},
   "source": [
    "### Add Pump Unit Model"
   ]
  },
  {
   "cell_type": "code",
   "execution_count": 10,
   "metadata": {},
   "outputs": [
    {
     "name": "stdout",
     "output_type": "stream",
     "text": [
      "The initial DOF is 5\n"
     ]
    }
   ],
   "source": [
    "# Create an instance of another pump unit, attaching it to the same flowsheet\n",
    "# Specify that the property package to be used with the pump is the one we created earlier.\n",
    "m.fs.pump_case_2 = Pump(property_package=m.fs.properties)\n",
    "\n",
    "# Call the degrees_of_freedom function, get intitial DOF\n",
    "DOF_initial = degrees_of_freedom(m.fs.pump_case_2)\n",
    "print(\"The initial DOF is {0}\".format(DOF_initial))"
   ]
  },
  {
   "cell_type": "markdown",
   "metadata": {},
   "source": [
    "### Fix Inlet Stream Conditions"
   ]
  },
  {
   "cell_type": "code",
   "execution_count": 11,
   "metadata": {},
   "outputs": [],
   "source": [
    "# Fix the stream inlet conditions\n",
    "m.fs.pump_case_2.inlet.flow_mol[0].fix(100)  # mol/s\n",
    "\n",
    "# Use the htpx method to obtain the molar enthalpy of inlet stream based on given conditions of temperature and pressure\n",
    "m.fs.pump_case_2.inlet.enth_mol[0].fix(\n",
    "    value(iapws95.htpx(T=298.15 * units.K, P=101325 * units.Pa))\n",
    ")  # J/mol\n",
    "m.fs.pump_case_2.inlet.pressure[0].fix(101325)  # Pa"
   ]
  },
  {
   "cell_type": "markdown",
   "metadata": {},
   "source": [
    "### Fix Outlet Pressure & Pump Efficiency"
   ]
  },
  {
   "cell_type": "code",
   "execution_count": 12,
   "metadata": {},
   "outputs": [],
   "source": [
    "# Fix outlet stream conditions\n",
    "m.fs.pump_case_2.outlet.pressure[0].fix(201325)\n",
    "\n",
    "# Fix pump efficiency\n",
    "m.fs.pump_case_2.efficiency_pump.fix(0.8)"
   ]
  },
  {
   "cell_type": "code",
   "execution_count": 13,
   "metadata": {},
   "outputs": [
    {
     "name": "stdout",
     "output_type": "stream",
     "text": [
      "The final degrees of freedom is: 0\n"
     ]
    }
   ],
   "source": [
    "DOF_final = degrees_of_freedom(m.fs.pump_case_2)\n",
    "print(\"The final degrees of freedom is: {0}\".format(DOF_final))"
   ]
  },
  {
   "cell_type": "markdown",
   "metadata": {},
   "source": [
    "### Initialization"
   ]
  },
  {
   "cell_type": "code",
   "execution_count": 14,
   "metadata": {},
   "outputs": [
    {
     "name": "stdout",
     "output_type": "stream",
     "text": [
      "2023-11-02 10:30:15 [INFO] idaes.init.fs.pump_case_2.control_volume: Initialization Complete\n"
     ]
    },
    {
     "name": "stdout",
     "output_type": "stream",
     "text": [
      "2023-11-02 10:30:15 [INFO] idaes.init.fs.pump_case_2: Initialization Complete: optimal - Optimal Solution Found\n"
     ]
    }
   ],
   "source": [
    "# Initialize the flowsheet, and set the logger level to INFO\n",
    "m.fs.pump_case_2.initialize(outlvl=idaeslog.INFO)"
   ]
  },
  {
   "cell_type": "markdown",
   "metadata": {},
   "source": [
    "### Solve Model"
   ]
  },
  {
   "cell_type": "code",
   "execution_count": 15,
   "metadata": {},
   "outputs": [
    {
     "name": "stdout",
     "output_type": "stream",
     "text": [
      "Ipopt 3.13.2: \n",
      "\n",
      "******************************************************************************\n",
      "This program contains Ipopt, a library for large-scale nonlinear optimization.\n",
      " Ipopt is released as open source code under the Eclipse Public License (EPL).\n",
      "         For more information visit http://projects.coin-or.org/Ipopt\n",
      "\n",
      "This version of Ipopt was compiled from source code available at\n",
      "    https://github.com/IDAES/Ipopt as part of the Institute for the Design of\n",
      "    Advanced Energy Systems Process Systems Engineering Framework (IDAES PSE\n",
      "    Framework) Copyright (c) 2018-2019. See https://github.com/IDAES/idaes-pse.\n",
      "\n",
      "This version of Ipopt was compiled using HSL, a collection of Fortran codes\n",
      "    for large-scale scientific computation.  All technical papers, sales and\n",
      "    publicity material resulting from use of the HSL codes within IPOPT must\n",
      "    contain the following acknowledgement:\n",
      "        HSL, a collection of Fortran codes for large-scale scientific\n",
      "        computation. See http://www.hsl.rl.ac.uk.\n",
      "******************************************************************************\n",
      "\n",
      "This is Ipopt version 3.13.2, running with linear solver ma27.\n",
      "\n",
      "Number of nonzeros in equality constraint Jacobian...:       11\n",
      "Number of nonzeros in inequality constraint Jacobian.:        0\n",
      "Number of nonzeros in Lagrangian Hessian.............:        3\n",
      "\n",
      "Total number of variables............................:        6\n",
      "                     variables with only lower bounds:        0\n",
      "                variables with lower and upper bounds:        1\n",
      "                     variables with only upper bounds:        0\n",
      "Total number of equality constraints.................:        6\n",
      "Total number of inequality constraints...............:        0\n",
      "        inequality constraints with only lower bounds:        0\n",
      "   inequality constraints with lower and upper bounds:        0\n",
      "        inequality constraints with only upper bounds:        0\n",
      "\n",
      "iter    objective    inf_pr   inf_du lg(mu)  ||d||  lg(rg) alpha_du alpha_pr  ls\n",
      "   0  0.0000000e+00 7.89e-07 0.00e+00  -1.0 0.00e+00    -  0.00e+00 0.00e+00   0\n",
      "   1  0.0000000e+00 6.55e-09 5.16e-07  -1.0 9.86e-07    -  9.90e-01 1.00e+00h  1\n",
      "\n",
      "Number of Iterations....: 1\n",
      "\n",
      "                                   (scaled)                 (unscaled)\n",
      "Objective...............:   0.0000000000000000e+00    0.0000000000000000e+00\n",
      "Dual infeasibility......:   0.0000000000000000e+00    0.0000000000000000e+00\n",
      "Constraint violation....:   3.4603063846230464e-10    6.5483618527650833e-09\n",
      "Complementarity.........:   0.0000000000000000e+00    0.0000000000000000e+00\n",
      "Overall NLP error.......:   3.4603063846230464e-10    6.5483618527650833e-09\n",
      "\n",
      "\n",
      "Number of objective function evaluations             = 2\n",
      "Number of objective gradient evaluations             = 2\n",
      "Number of equality constraint evaluations            = 2\n",
      "Number of inequality constraint evaluations          = 0\n",
      "Number of equality constraint Jacobian evaluations   = 2\n",
      "Number of inequality constraint Jacobian evaluations = 0\n",
      "Number of Lagrangian Hessian evaluations             = 1\n",
      "Total CPU secs in IPOPT (w/o function evaluations)   =      0.007\n",
      "Total CPU secs in NLP function evaluations           =      0.000\n",
      "\n",
      "EXIT: Optimal Solution Found.\n",
      "\b\b\b\b\b\b\b\b\b\b\b\b\b\b"
     ]
    }
   ],
   "source": [
    "# Solve the simulation using ipopt\n",
    "# Note: If the degrees of freedom = 0, we have a square problem\n",
    "opt = SolverFactory(\"ipopt\")\n",
    "solve_status = opt.solve(m.fs.pump_case_2, tee=True)"
   ]
  },
  {
   "cell_type": "markdown",
   "metadata": {},
   "source": [
    "### View Results"
   ]
  },
  {
   "cell_type": "code",
   "execution_count": 16,
   "metadata": {},
   "outputs": [
    {
     "name": "stdout",
     "output_type": "stream",
     "text": [
      "\n",
      "====================================================================================\n",
      "Unit : fs.pump_case_2                                                      Time: 0.0\n",
      "------------------------------------------------------------------------------------\n",
      "    Unit Performance\n",
      "\n",
      "    Variables: \n",
      "\n",
      "    Key             : Value      : Units         : Fixed : Bounds\n",
      "         Efficiency :    0.80000 : dimensionless :  True : (None, None)\n",
      "    Mechanical Work :     225.85 :          watt : False : (None, None)\n",
      "    Pressure Change : 1.0000e+05 :        pascal : False : (None, None)\n",
      "     Pressure Ratio :     1.9869 : dimensionless : False : (None, None)\n",
      "\n",
      "------------------------------------------------------------------------------------\n",
      "    Stream Table\n",
      "                         Units           Inlet     Outlet  \n",
      "    Molar Flow          mole / second     100.00     100.00\n",
      "    Mass Flow       kilogram / second     1.8015     1.8015\n",
      "    T                          kelvin     298.15     298.16\n",
      "    P                          pascal 1.0132e+05 2.0132e+05\n",
      "    Vapor Fraction      dimensionless     0.0000     0.0000\n",
      "    Molar Enthalpy       joule / mole     1890.2     1892.4\n",
      "====================================================================================\n"
     ]
    }
   ],
   "source": [
    "# Display a readable report\n",
    "m.fs.pump_case_2.report()"
   ]
  }
 ],
 "metadata": {
  "celltoolbar": "Tags",
  "kernelspec": {
   "display_name": "Python 3 (ipykernel)",
   "language": "python",
   "name": "python3"
  },
  "language_info": {
   "codemirror_mode": {
    "name": "ipython",
    "version": 3
   },
   "file_extension": ".py",
   "mimetype": "text/x-python",
   "name": "python",
   "nbconvert_exporter": "python",
   "pygments_lexer": "ipython3",
   "version": "3.11.5"
  }
 },
 "nbformat": 4,
 "nbformat_minor": 3
}