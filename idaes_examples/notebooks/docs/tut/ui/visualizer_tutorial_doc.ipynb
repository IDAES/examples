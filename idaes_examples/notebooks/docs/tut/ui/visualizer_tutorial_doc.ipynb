{
 "cells": [
  {
   "cell_type": "code",
   "execution_count": null,
   "metadata": {
    "tags": [
     "header",
     "hide-cell"
    ]
   },
   "outputs": [],
   "source": [
    "###############################################################################\n",
    "# The Institute for the Design of Advanced Energy Systems Integrated Platform\n",
    "# Framework (IDAES IP) was produced under the DOE Institute for the\n",
    "# Design of Advanced Energy Systems (IDAES).\n",
    "#\n",
    "# Copyright (c) 2018-2023 by the software owners: The Regents of the\n",
    "# University of California, through Lawrence Berkeley National Laboratory,\n",
    "# National Technology & Engineering Solutions of Sandia, LLC, Carnegie Mellon\n",
    "# University, West Virginia University Research Corporation, et al.\n",
    "# All rights reserved.  Please see the files COPYRIGHT.md and LICENSE.md\n",
    "# for full copyright and license information.\n",
    "###############################################################################"
   ]
  },
  {
   "cell_type": "markdown",
   "metadata": {},
   "source": [
    "![IDAES logo](idaes-logo-small.png)\n",
    "\n",
    "# Flowsheet Visualizer Tutorial\n",
    "> Author: Dan Gunter \\\n",
    "> Created: 2022-07-05\n",
    "\n",
    "## Outline\n",
    "\n",
    "- Introduction\n",
    "- Example flowsheet\n",
    "- Running the Flowsheet Visualizer\n",
    "- Running from a script\n",
    "- Further reading"
   ]
  },
  {
   "cell_type": "markdown",
   "metadata": {},
   "source": [
    "## Introduction\n",
    "The IDAES Flowsheet Visualizer (FV) is a Python tool that provides a web-based visualization of any existing IDAES model or flowsheet. The visualization shows a diagram of the\n",
    "flowsheet as well as a stream table. You can interact with the diagram and export\n",
    "it as an image for inclusion in presentations or publications.\n",
    "\n",
    "This tutorial will show the basic steps of running the FV on an example\n",
    "flowsheet, interacting with the resulting GUI, saving your work, and exporting\n",
    "the diagram as an image. It will also show how the Visualizer can be updated\n",
    "to reflect changes in the model components and/or variable values. The tutorial\n",
    "will also show how to run the Visualizer from a Python script."
   ]
  },
  {
   "cell_type": "markdown",
   "metadata": {},
   "source": [
    "## Example flowsheet\n",
    "This initial section creates an example flowsheet.\n",
    "\n",
    "### Setup\n",
    "Module imports and any additional housekeeping needed\n",
    "to initialize the code."
   ]
  },
  {
   "cell_type": "code",
   "execution_count": 1,
   "metadata": {},
   "outputs": [],
   "source": [
    "import idaes_examples.mod.tut.visualizer_tutorial as vistut\n",
    "\n",
    "vistut.quiet()  # turn off default logging and most warnings\n",
    "from idaes.core.util.model_statistics import degrees_of_freedom\n",
    "from IPython.display import Markdown"
   ]
  },
  {
   "cell_type": "markdown",
   "metadata": {},
   "source": [
    "### Create the flowsheet"
   ]
  },
  {
   "cell_type": "code",
   "execution_count": 2,
   "metadata": {},
   "outputs": [],
   "source": [
    "# use the pre-defined function to create the flowsheet\n",
    "model = vistut.create_model()\n",
    "\n",
    "# description of the flowsheet we created\n",
    "display(Markdown(vistut.function_markdown(vistut.create_model)))\n",
    "\n",
    "vistut.quiet()\n",
    "\n",
    "# initialize the flowsheet as a square problem (dof=0)\n",
    "vistut.initialize_model(model)\n",
    "\n",
    "# verify that there are zero degrees of freedom\n",
    "print(f\"DOF = {degrees_of_freedom(model)}\")"
   ]
  },
  {
   "cell_type": "markdown",
   "metadata": {},
   "source": [
    "## Running the Flowsheet Visualizer\n",
    "In most cases, you will run the FV by calling the `visualize()` method attached to your flowsheet.\n",
    "This function takes a number of optional arguments, which we will look at briefly later, and one required argument:\n",
    "the **title** to give the visualization. Unless you give more information, this title also is used as the filename in which to save its current state.\n",
    "\n",
    "In the following, we start the FV with the title \"Hydrodealkylation\". This will pop up a new browser tab (and save the status in a file called _Hydrodealkylation.json_).\n",
    "\n",
    "<div class=\"alert alert-block alert-info\">\n",
    "After the visualizer starts, we recommend making its tab into its own browser window and viewing it side-by-side with this notebook window.\n",
    "</div>"
   ]
  },
  {
   "cell_type": "markdown",
   "metadata": {},
   "source": [
    "### Optional arguments\n",
    "The optional (keyword) arguments are documented in the base function, which can be found in `idaes.core.ui.fsvis.visualize`:\n",
    "\n",
    "  * name: Name of flowsheet to display as the title of the visualization\n",
    "  * load_from_saved: If True load from saved file if any. Otherwise create\n",
    "    a new file or overwrite it (depending on 'overwrite' flag).\n",
    "  * save: Where to save the current flowsheet layout and values. If this argument is not specified,\n",
    "    \"``name``.json\" will be used (if this file already exists, a \"-`<version>`\" number will be added\n",
    "    between the name and the extension). If the value given is the boolean 'False', then nothing\n",
    "    will be saved. The boolean 'True' value is treated the same as unspecified.\n",
    "  * save_dir: If this argument is given, and ``save`` is not given or a relative path, then it will\n",
    "    be used as the directory to save the default or given file. The current working directory is\n",
    "    the default. If ``save`` is given and an absolute path, this argument is ignored.\n",
    "  * save_time_interval: The time interval that the UI application checks if any changes has occurred\n",
    "    in the graph for it to save the model. Default is 5 seconds\n",
    "  * overwrite: If True, and the file given by ``save`` exists, overwrite instead of creating a new\n",
    "    numbered file.\n",
    "  * browser: If true, open a browser\n",
    "  * port: Start listening on this port. If not given, find an open port.\n",
    "  * log_level: An IDAES logging level, which is a superset of the built-in `logging` module levels.\n",
    "    See the `idaes.logger` module for details\n",
    "  * quiet: If True, suppress printing any messages to standard output (console)\n",
    "  * loop_forever: If True, don't return but instead loop until a Control-C is received. Useful when\n",
    "    invoking this function at the end of a script."
   ]
  },
  {
   "cell_type": "markdown",
   "metadata": {},
   "source": [
    "## Interacting with the visualizer\n",
    "The first things you need to learn about the FV are how to manipulate the overall layout and control the view.\n",
    "The UI should initially look something like the screenshot below:\n",
    "![](\"fv1.png\") alt=\"Screenshot of Flowsheet Visualizer\">&nbsp;</img>\n",
    "\n",
    "<div class=\"alert alert-block alert-info\">\n",
    "    As you can see, the FV has two main panels. We will call the top panel the <b>diagram</b> and the bottom panel the <b>stream table</b>.\n",
    "</div>"
   ]
  },
  {
   "cell_type": "markdown",
   "metadata": {},
   "source": [
    "### View controls\n",
    "Before looking at the two panels in detail, it helps to know some basic controls for making them easier to view.\n",
    "\n",
    "| Control | Description | Illustration |\n",
    "|:----|:---------------------|:----:|\n",
    "| Panel height | Change the height of the  panels by grabbing the small handle in the lower right corner with your mouse. | <img src=\"fv2.png\"  alt=\"Handle used to resize panels\" width=\"150px\">&nbsp;</img> |\n",
    "| Diagram size | Zoom in/out on the diagram with the magnifying glass \"+\" and \"-\" buttons in the upper-right corner of the top panel. The button labeled with two crossing arrows fits the diagram into the current panel height and width. | <img src=\"fv3.png\" width=\"150px\" alt=\"Handle used to resize panels\"></img> |"
   ]
  },
  {
   "attachments": {},
   "cell_type": "markdown",
   "metadata": {},
   "source": [
    "### Rearranging the diagram\n",
    "The diagram shown in the top panel is interactive. You can move the units shown there into different positions. Whatever arrangement you end up with will be saved for next time. The arcs (i.e., lines representing streams) connecting the units will automatically re-route themselves as you move them. Below is a summary of the different actions you can take when rearranging the diagram.\n",
    "\n",
    "| &nbsp; | &nbsp; |\n",
    "|:--:|:--:|\n",
    "| ![](fvr1.png) &nbsp; | &nbsp; ![](fvr2.png) |\n",
    "| ![](fvr3.png) &nbsp; | &nbsp; ![](fvr4.png) |\n"
   ]
  },
  {
   "cell_type": "markdown",
   "metadata": {},
   "source": [
    "### Stream table\n",
    "The stream table panel shows the values of variables on all the streams between units, and also from units to outlets.\n",
    "\n",
    "### Stream table \"brushing\"\n",
    "Brushing refers to the ability to have actions in one visual area influence the display in another. It is commonly used in statistics to show how points in one scatterplot correspond to their points in another, for the same samples. Here, we use it to link the position of a stream in the diagram with its variable values in the stream table.\n",
    "#### Controls\n",
    "\n",
    "* Moving the mouse over an **arc** in the diagram &rarr; highlights the corresponding **column** in the stream table\n",
    "* Moving the mouse over a **column** in the stream table &rarr; highlights the corresponding **arc** in the diagram\n",
    "\n",
    "![Illustration of stream table brushing](fvb1.png)\n",
    " \n",
    "#### Example\n",
    "Stream table brushing is useful for answering questions like:\n",
    "> How much benzene are we losing in the F101 vapor outlet stream?\n",
    "\n",
    "To answer this question, we will use some interactive elements of the stream table.\n",
    "\n",
    "1. Find the inlet of F101 on the diagram. Mouse over this to see the values for that stream highlighted in the stream table below. This is stream `s05`. Look across at the row for Benzene vapor (`flow_mol_phase_comp('Vap', 'benzene')`) and see that the value is $0.35384$\n",
    "2. Find the vapor outlet of F101 by looking for the arc connecting to the splitter and compressor feedback loop. This is stream `s06`. Then look at the same row for the Benzene vapor mol fraction and see that the value is $0.14916$\n",
    "3. Thus the amount of benzene lost is (in mole fractions) about $0.2$\n",
    "\n"
   ]
  },
  {
   "cell_type": "markdown",
   "metadata": {},
   "source": [
    "### Showing and hiding streams\n",
    "For complex diagrams, there are a lot of streams and the stream table does not fit in the window. To avoid having to scroll back and forth, there is the ability to \"hide\" selected streams in the stream table. \n",
    "\n",
    "* Click on the \"Hide Fields\" menu and select which fields to hide\n",
    "* The mark will toggle between a check (shown) and open circle (hidden)\n",
    "\n",
    "For example, we can hide all the streams except the feeds and the flash inlets and outlets.\n",
    "\n",
    "![Illustration of stream table field hiding](fvst1.png)\n",
    "\n"
   ]
  },
  {
   "cell_type": "markdown",
   "metadata": {},
   "source": [
    "### Saving and loading\n",
    "The current layout and status can be saved to a file, and this file can then be loaded when the model is viewed again. The main benefit is that interactive layout of the diagram is saved for re-use.\n",
    "\n",
    "#### File name\n",
    "This file is named, by default, for the title of the visualizer (e.g., \"Hydrodealkylation\") with a \".json\" extension to indicate the data format and saved in the same directory as the Jupyter notebook. \n",
    "\n",
    "You can select a different filename and location when you start the visualization, e.g.\n",
    "\n",
    "    model.fs.visualize(\"The Title\", save=\"thefilename.json\", save_dir=\"/path/to/save/the/file\")\n",
    "\n",
    "#### Reloading\n",
    "To reload the saved layout, simply choose the same title (since the filename, by default, matches the title) or explicitly use the `save` and `save_dir` keywords for the `visualize()` function to select a previously saved file. This means you only need to manually lay out the diagram once. Of course, if you add new pieces to the flowsheet you will need to position them correctly (as discussed below)."
   ]
  },
  {
   "cell_type": "markdown",
   "metadata": {},
   "source": [
    "### Exporting\n",
    "\n",
    "#### Exporting the diagram as an image\n",
    "You can export an image of the flowsheet diagram in the [Scalable Vector Graphics (SVG)](https://www.w3.org/Graphics/SVG/) format, which can render without fuzziness at arbitrary sizes. Almost all presentation and drawing programs, including MS Word and Powerpoint, can use SVG images.\n",
    "\n",
    "From the top menu select _Export -> Flowsheet_. You will get a preview of the flowsheet that you can then download to a file.\n",
    "#### Exporting the stream table as CSV\n",
    "You can export the stream table as comma-separated values. From the top menu select _Export -> Stream Table_."
   ]
  },
  {
   "cell_type": "markdown",
   "metadata": {},
   "source": [
    "### Updating when the flowsheet changes\n",
    "The FV has a connection to the Python program that has the flowsheet (model) in memory. Therefore, when the underlying flowsheet changes, the visualization can be quickly updated to show the new state. This feature is particularly useful for interactive flowsheet creation and debugging in Jupyter Notebooks.\n",
    "\n",
    "To illustrate the feature, below is some IDAES modeling code that adds another Flash unit to the model, connecting the liquid outlet of the first flash unit to its inlet. There is a little more code that updates some of the output values of the model and sets initial values for this new unit, and then re-initializes the model.\n",
    "\n",
    "**After this code executes, the model will have a unit called \"F102\" connected to \"F101\".**"
   ]
  },
  {
   "cell_type": "code",
   "execution_count": 5,
   "metadata": {},
   "outputs": [],
   "source": [
    "# Add a second flash unit\n",
    "from idaes.models.unit_models import Flash\n",
    "from pyomo.network import Arc\n",
    "from pyomo.environ import Expression, TransformationFactory\n",
    "\n",
    "m = model  # alias\n",
    "m.fs.F102 = Flash(\n",
    "    property_package=m.fs.thermo_params,\n",
    "    has_heat_transfer=True,\n",
    "    has_pressure_change=True,\n",
    ")\n",
    "# connect to 1st flash unit\n",
    "m.fs.s10 = Arc(source=m.fs.F101.liq_outlet, destination=m.fs.F102.inlet)\n",
    "# update expressions for purity and cost\n",
    "m.fs.purity = Expression(\n",
    "    expr=m.fs.F102.vap_outlet.flow_mol_phase_comp[0, \"Vap\", \"benzene\"]\n",
    "    / (\n",
    "        m.fs.F102.vap_outlet.flow_mol_phase_comp[0, \"Vap\", \"benzene\"]\n",
    "        + m.fs.F102.vap_outlet.flow_mol_phase_comp[0, \"Vap\", \"toluene\"]\n",
    "    )\n",
    ")\n",
    "m.fs.heating_cost = Expression(\n",
    "    expr=2.2e-7 * m.fs.H101.heat_duty[0] + 1.9e-7 * m.fs.F102.heat_duty[0]\n",
    ")\n",
    "# fix unit output and pressure drop\n",
    "m.fs.F102.vap_outlet.temperature.fix(375)\n",
    "m.fs.F102.deltaP.fix(-200000)\n",
    "\n",
    "# expand arcs\n",
    "TransformationFactory(\"network.expand_arcs\").apply_to(m)\n",
    "# re-initialize\n",
    "_ = vistut.initialize_model(m)"
   ]
  },
  {
   "cell_type": "markdown",
   "metadata": {},
   "source": [
    "<div class=\"alert alert-block alert-info\">Since the FV is connected to the current state of the model in memory, simply hitting \"Refresh\" in the FV window will show the new flash unit in the diagram, and the new stream (liquid) in the stream table. We can then interactively rearrange the unit to be in the position we want in the diagram.</div>"
   ]
  },
  {
   "cell_type": "code",
   "execution_count": 6,
   "metadata": {},
   "outputs": [],
   "source": [
    "# v model.fs.visualize(\"Hydrodealkylation-new\")"
   ]
  },
  {
   "cell_type": "markdown",
   "metadata": {},
   "source": [
    "### Showing new values\n",
    "The previous step showed how a new unit in the flowsheet will be automatically added to the diagram. Similarly, if the values in the flowsheet change these will be reflected in the stream table. Below, we solve the initialized flowsheet.\n",
    "To make comparison a little easier, we will open a second UI window with the new values (the old values will not be updated unless we decide to hit the \"Refresh\" button)."
   ]
  },
  {
   "cell_type": "markdown",
   "metadata": {},
   "source": [
    "When we look at the stream table, we can see the values in the stream between the first and second flash unit changing.\n"
   ]
  },
  {
   "cell_type": "markdown",
   "metadata": {},
   "source": [
    "## Running from a script\n",
    "Finally, although all examples have been shown in a Jupyter Notebook, there is nothing preventing the use of the FV from within a plain Python script (or module).\n",
    "\n",
    "For example, the code to run this same tutorial as a Python script is also in a module.\n",
    "If you have installed the IDAES examples, then you can do the following to import and run the module:\n",
    "```\n",
    "from idaes_examples.mod.tut import visualizer_tutorial\n",
    "visualizer_tutorial.main()\n",
    "```\n",
    "\n"
   ]
  },
  {
   "cell_type": "markdown",
   "metadata": {},
   "source": [
    "# Further reading\n",
    "\n",
    "Reference documentation for the FV is available in the IDAES main documentation, online at https://idaes-pse.readthedocs.io/"
   ]
  },
  {
   "cell_type": "code",
   "execution_count": null,
   "metadata": {},
   "outputs": [],
   "source": []
  }
 ],
 "metadata": {
  "kernelspec": {
   "display_name": "Python 3 (ipykernel)",
   "language": "python",
   "name": "python3"
  },
  "language_info": {
   "codemirror_mode": {
    "name": "ipython",
    "version": 3
   },
   "file_extension": ".py",
   "mimetype": "text/x-python",
   "name": "python",
   "nbconvert_exporter": "python",
   "pygments_lexer": "ipython3",
   "version": "3.10.9"
  }
 },
 "nbformat": 4,
 "nbformat_minor": 3
}
