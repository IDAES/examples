{
  "cells": [
    {
      "cell_type": "code",
      "metadata": {
        "tags": [
          "header",
          "hide-cell"
        ],
        "ExecuteTime": {
          "end_time": "2025-06-06T16:45:45.923673Z",
          "start_time": "2025-06-06T16:45:45.919855Z"
        }
      },
      "source": [
        "###############################################################################\n",
        "# The Institute for the Design of Advanced Energy Systems Integrated Platform\n",
        "# Framework (IDAES IP) was produced under the DOE Institute for the\n",
        "# Design of Advanced Energy Systems (IDAES).\n",
        "#\n",
        "# Copyright (c) 2018-2023 by the software owners: The Regents of the\n",
        "# University of California, through Lawrence Berkeley National Laboratory,\n",
        "# National Technology & Engineering Solutions of Sandia, LLC, Carnegie Mellon\n",
        "# University, West Virginia University Research Corporation, et al.\n",
        "# All rights reserved.  Please see the files COPYRIGHT.md and LICENSE.md\n",
        "# for full copyright and license information.\n",
        "###############################################################################"
      ],
      "outputs": [],
      "execution_count": 1
    },
    {
      "metadata": {},
      "cell_type": "markdown",
      "source": [
        "# Flash Unit Model Tutorial\n",
        "\n",
        "Author: Jaffer Ghouse<br>\n",
        "Maintainer: Tanner Polley<br>\n",
        "Updated: 2025-06-03\n",
        "\n",
        "In this module, we will familiarize ourselves with the IDAES framework by creating and working with a flowsheet that contains a single flash tank. The flash tank will be used to perform separation of Benzene and Toluene.\n",
        "\n",
        "The general workflow of setting up an IDAES flowsheet is the following: <br>\n",
        "\n",
        "&nbsp;&nbsp;&nbsp;&nbsp; 1 Importing Modules <br>\n",
        "&nbsp;&nbsp;&nbsp;&nbsp; 2 Building a Model <br>\n",
        "&nbsp;&nbsp;&nbsp;&nbsp; 3 Scaling the Model <br>\n",
        "&nbsp;&nbsp;&nbsp;&nbsp; 4 Specifying the Model <br>\n",
        "&nbsp;&nbsp;&nbsp;&nbsp; 5 Initializing the Model <br>\n",
        "&nbsp;&nbsp;&nbsp;&nbsp; 6 Solving the Model <br>\n",
        "&nbsp;&nbsp;&nbsp;&nbsp; 7 Analyzing and Visualizing the Results <br>\n",
        "\n",
        "We will complete each of these steps as well as demonstrate analyses on this model through some examples and exercises.\n",
        "\n",
        "## Key links to documentation\n",
        "* Main IDAES online documentation page: https://idaes-pse.readthedocs.io/en/stable/\n",
        "* General Workflow: https://idaes-pse.readthedocs.io/en/stable/how_to_guides/workflow/general.html\n",
        "* Flash Unit Model Documentation: https://idaes-pse.readthedocs.io/en/stable/reference_guides/model_libraries/generic/unit_models/flash.html\n",
        "\n"
      ]
    },
    {
      "metadata": {},
      "cell_type": "markdown",
      "source": [
        "## 1 Import Modules\n",
        "\n",
        "In the next cell, we will perform the necessary imports to get us started. From `pyomo.environ` (a standard import for the Pyomo package), we are importing `ConcreteModel` (to create the Pyomo model that will contain the IDAES flowsheet) and `SolverFactory` (to create the object we will use to solve the equations). We will also import `Constraint` as we will be adding a constraint to the model later in the module. Lastly, we also import `value` from Pyomo. This is a function that can be used to return the current numerical value for variables and parameters in the model. These are all part of Pyomo.\n",
        "\n",
        "We will also import the main `FlowsheetBlock` from IDAES. The flowsheet block will contain our unit model. `%matplotinline` allows plots to be displayed within the jupyter cell block output rather than in a separate window.\n",
        "\n",
        "<div class=\"alert alert-block alert-info\">\n",
        "<b>Inline Exercise:</b>\n",
        "Execute the cell below to perform the imports. Let a workshop organizer know if you see any errors.\n",
        "</div>"
      ]
    },
    {
      "metadata": {
        "ExecuteTime": {
          "end_time": "2025-06-06T16:45:49.094293Z",
          "start_time": "2025-06-06T16:45:45.938076Z"
        }
      },
      "cell_type": "code",
      "source": [
        "from pyomo.environ import ConcreteModel, SolverFactory, Constraint, value\n",
        "from idaes.core import FlowsheetBlock\n",
        "\n",
        "# Import idaes logger to set output levels\n",
        "import idaes.logger as idaeslog\n",
        "\n",
        "%matplotlib inline"
      ],
      "outputs": [],
      "execution_count": 2
    },
    {
      "metadata": {},
      "cell_type": "markdown",
      "source": [
        "## 2 Create the Model and IDAES Flowsheet\n",
        "\n",
        "In the next cell, we will create the `ConcreteModel` object often named `m` (which comes from Pyomo) and then connect the `FlowsheetBlock` (which comes from IDAES) to `m`. We ensure `dynamic=False` since this is a steady-state problem. This creates our overall model and adds the flowsheet capabilities that IDAES provides to the Pyomo model.\n",
        "\n",
        "<div class=\"alert alert-block alert-info\">\n",
        "<b>Inline Exercise:</b>\n",
        "Execute the cell below to create the objects\n",
        "</div>"
      ]
    },
    {
      "metadata": {
        "ExecuteTime": {
          "end_time": "2025-06-06T16:45:49.521103Z",
          "start_time": "2025-06-06T16:45:49.517229Z"
        }
      },
      "cell_type": "code",
      "source": [
        "m = ConcreteModel()\n",
        "m.fs = FlowsheetBlock(dynamic=False)"
      ],
      "outputs": [],
      "execution_count": 3
    },
    {
      "metadata": {
        "tags": [
          "exercise"
        ]
      },
      "cell_type": "markdown",
      "source": [
        "At this point, we have a single Pyomo model that contains an (almost) empty flowsheet block. Lets use the `m.pprint()` to investigate the current contents of the model.\n",
        "\n",
        "<div class=\"alert alert-block alert-info\">\n",
        "<b>Inline Exercise:</b>\n",
        "Use the pprint method on the model, i.e. m.pprint(), to see what is currently contained in the model.\n",
        "</div>"
      ]
    },
    {
      "metadata": {
        "ExecuteTime": {
          "end_time": "2025-06-06T16:45:49.531374Z",
          "start_time": "2025-06-06T16:45:49.527521Z"
        },
        "tags": [
          "exercise"
        ]
      },
      "cell_type": "code",
      "source": "# Todo: call pprint on the model",
      "outputs": [],
      "execution_count": 4
    },
    {
      "metadata": {},
      "cell_type": "markdown",
      "source": [
        "### 2.1 Define Properties\n",
        "\n",
        "We need to define the property package for our flowsheet. In this example, we will be using the ideal property package that is available as part of the IDAES framework. This property package supports ideal gas - ideal liquid, ideal gas - NRTL, and ideal gas - Wilson models for VLE. More details on this property package can be found at: https://idaes-pse.readthedocs.io/en/stable/reference_guides/model_libraries/generic/property_models/activity_coefficient.html\n",
        "\n",
        "IDAES also supports creation of your own property packages that will be shown in a later module. More detials can be found here https://idaes-examples.readthedocs.io/en/latest/docs/properties/custom/index.html\n",
        "\n",
        "For this workshop, we will import the BTX_activity_coeff_VLE property parameter block to be used in the flowsheet. This properties block will be passed to our unit model to define the appropriate state variables and equations for performing thermodynamic calculations.\n",
        "\n",
        "<div class=\"alert alert-block alert-info\">\n",
        "<b>Inline Exercise:</b>\n",
        "Execute the following two cells to import and create the properties block.\n",
        "</div>"
      ]
    },
    {
      "metadata": {
        "ExecuteTime": {
          "end_time": "2025-06-06T16:45:49.649106Z",
          "start_time": "2025-06-06T16:45:49.626357Z"
        }
      },
      "cell_type": "code",
      "source": [
        "from idaes.models.properties.activity_coeff_models.BTX_activity_coeff_VLE import (\n",
        "    BTXParameterBlock,\n",
        ")"
      ],
      "outputs": [],
      "execution_count": 6
    },
    {
      "metadata": {
        "ExecuteTime": {
          "end_time": "2025-06-06T16:45:49.669359Z",
          "start_time": "2025-06-06T16:45:49.657658Z"
        }
      },
      "cell_type": "code",
      "source": [
        "m.fs.properties = BTXParameterBlock(\n",
        "    valid_phase=(\"Liq\", \"Vap\"), activity_coeff_model=\"Ideal\", state_vars=\"FTPz\"\n",
        ")"
      ],
      "outputs": [],
      "execution_count": 7
    },
    {
      "metadata": {},
      "cell_type": "markdown",
      "source": [
        "### 2.2 Adding Flash Unit\n",
        "\n",
        "Now that we have the flowsheet and the properties defined, we can create the flash unit and add it to the flowsheet.\n",
        "\n",
        "**The Unit Model Library within IDAES includes a large set of common unit operations (see the online documentation for details: https://idaes-pse.readthedocs.io/en/stable/reference_guides/model_libraries/generic/unit_models/index.html**\n",
        "\n",
        "IDAES also fully supports the development of customized unit models (which we will see in a later module). More details can be found here https://idaes-examples.readthedocs.io/en/latest/docs/unit_models/custom_unit_models/index.html.\n",
        "\n",
        "Some of the IDAES pre-written unit models:\n",
        "* Mixer / Splitter\n",
        "* Heater / Cooler\n",
        "* Heat Exchangers (simple and 1D discretized)\n",
        "* Flash\n",
        "* Reactors (kinetic, equilibrium, gibbs, stoichiometric conversion)\n",
        "* Pressure changing equipment (compressors, expanders, pumps)\n",
        "* Feed and Product (source / sink) components\n",
        "\n",
        "In this module, we will import the `Flash` unit model from `idaes.models.unit_models` and create an instance of the flash unit, attaching it to the flowsheet. Each IDAES unit model has several configurable options to customize the model behavior, but also includes defaults for these options. In this example, we will specify that the property package to be used with the Flash unit model is the one we created earlier by setting `property_package=m.fs.properties` within the `Flash` method.\n",
        "\n",
        "<div class=\"alert alert-block alert-info\">\n",
        "<b>Inline Exercise:</b>\n",
        "Execute the following two cells to import the Flash and create an instance of the unit model, attaching it to the flowsheet object.\n",
        "</div>"
      ]
    },
    {
      "metadata": {
        "ExecuteTime": {
          "end_time": "2025-06-06T16:45:49.749283Z",
          "start_time": "2025-06-06T16:45:49.678730Z"
        }
      },
      "cell_type": "code",
      "source": "from idaes.models.unit_models import Flash",
      "outputs": [],
      "execution_count": 8
    },
    {
      "metadata": {
        "ExecuteTime": {
          "end_time": "2025-06-06T16:45:49.772441Z",
          "start_time": "2025-06-06T16:45:49.758167Z"
        }
      },
      "cell_type": "code",
      "source": "m.fs.flash = Flash(property_package=m.fs.properties)",
      "outputs": [],
      "execution_count": 9
    },
    {
      "metadata": {},
      "cell_type": "markdown",
      "source": "At this point, we have created a flowsheet and a properties block. We have also created a flash unit and added it to the flowsheet. Under the hood, IDAES has created the required state variables and model equations. Everything is open. You can see these variables and equations by calling the Pyomo method `pprint` on the model, flowsheet, or flash tank objects. Note that this output is very exhaustive, and is not intended to provide any summary information about the model, but rather a complete picture of all of the variables and equations in the model."
    },
    {
      "metadata": {
        "ExecuteTime": {
          "end_time": "2025-06-06T16:45:49.783706Z",
          "start_time": "2025-06-06T16:45:49.781688Z"
        },
        "tags": [
          "noauto"
        ]
      },
      "cell_type": "code",
      "source": "m.pprint()",
      "outputs": [],
      "execution_count": 10
    },
    {
      "metadata": {},
      "cell_type": "markdown",
      "source": [
        "## 3 Scaling the Model\n",
        "\n",
        "Now that the model is built, with properties set and the unit model created and added to the flowsheet, the next step is to scale the model. Ensuring that a model is well scaled is important for increasing the efficiency and reliability of solvers, and users should consider model scaling as an integral part of the modeling process. IDAES provides a number of tool for assisting users with scaling their models, and details on these can be found at https://idaes-pse.readthedocs.io/en/stable/reference_guides/scaling/scaling.html#scaling-toolbox\n",
        "\n",
        "There are currently two primary methods in scaling the model: manual scaling of each relevant component, or utilizing the AutoScaler Class. The more careful and risk-free method of manually scaling each component is the recommended method for maximum control and assurance that the model will be well-scaled. This comes with the drawback of being more meticulous while the AutoScaler is much simpler to use since it scaled the whole model all at once, it is less precise by lacking direct control over the scaling factor for each component and relying on scaling factors to be estimated. Both methods will be shown below"
      ]
    },
    {
      "metadata": {},
      "cell_type": "markdown",
      "source": [
        "### 3.1 Manual Scaling\n",
        "The `set_scaling_factor` function is imported from `idaes.core.scaling.util` and is called with and used on each relevant component that needs to be well scaled. The component is the first argument and its scaling factor is the second argument.\n",
        "\n",
        "<div class=\"alert alert-block alert-info\">\n",
        "<b>Inline Exercise:</b>\n",
        "Execute the following two cells to import the `set_scaling_factor` and set the scaling factor for both temperature and pressure\n",
        "</div>\n",
        "\n",
        "Both `temperature` and `pressure` can be found at `m.fs.flash.inlet`."
      ]
    },
    {
      "metadata": {
        "ExecuteTime": {
          "end_time": "2025-06-06T16:45:49.795252Z",
          "start_time": "2025-06-06T16:45:49.792075Z"
        }
      },
      "cell_type": "code",
      "source": "from idaes.core.scaling.util import set_scaling_factor",
      "outputs": [],
      "execution_count": 11
    },
    {
      "metadata": {
        "ExecuteTime": {
          "end_time": "2025-06-06T16:45:49.809330Z",
          "start_time": "2025-06-06T16:45:49.806174Z"
        }
      },
      "cell_type": "code",
      "source": [
        "set_scaling_factor(m.fs.flash.inlet.temperature, 300)\n",
        "set_scaling_factor(m.fs.flash.inlet.pressure, 1e6)"
      ],
      "outputs": [],
      "execution_count": 12
    },
    {
      "metadata": {},
      "cell_type": "markdown",
      "source": [
        "### 3.2 Scaling with AutoScaler\n",
        "The `AutoScaler` class is imported from `idaes.core.scaling.autoscaling` and an instance of the class is created. This instance contains the method `scale_model` which is used to scale the whole model at once. This can be a useful option but is generally more risky than manually scaling the model components since it has less direct control and specification.\n",
        "\n",
        "<div class=\"alert alert-block alert-info\">\n",
        "<b>Inline Exercise:</b>\n",
        "Execute the following two cells to import the `AutoScaler` class and create an autoscaler instance that scaled the whole model at once\n",
        "</div>"
      ]
    },
    {
      "metadata": {
        "ExecuteTime": {
          "end_time": "2025-06-06T16:45:49.826276Z",
          "start_time": "2025-06-06T16:45:49.823030Z"
        }
      },
      "cell_type": "code",
      "source": "from idaes.core.scaling.autoscaling import AutoScaler",
      "outputs": [],
      "execution_count": 13
    },
    {
      "metadata": {
        "ExecuteTime": {
          "end_time": "2025-06-06T16:45:50.217776Z",
          "start_time": "2025-06-06T16:45:49.836920Z"
        }
      },
      "cell_type": "code",
      "source": [
        "autoscaler = AutoScaler()\n",
        "autoscaler.scale_model(m)"
      ],
      "outputs": [],
      "execution_count": 14
    },
    {
      "metadata": {},
      "cell_type": "markdown",
      "source": ""
    },
    {
      "metadata": {},
      "cell_type": "markdown",
      "source": [
        "## 4 Set Operating Conditions\n",
        "\n",
        "Now that we have created our unit model and scaled it, we can specify the necessary operating conditions. The inlet specifications for this flash tank are:\n",
        "\n",
        "Inlet Specifications:\n",
        "* Mole fraction (Benzene) = 0.5\n",
        "* Mole fraction (Toluene) = 0.5\n",
        "* Pressure = 101325 Pa\n",
        "* Temperature = 368 K\n",
        "\n",
        "\n"
      ]
    },
    {
      "metadata": {},
      "cell_type": "markdown",
      "source": [
        "### 4.1 Degrees of Freedom\n",
        "\n",
        "It is often very useful to first determine the degrees of freedom before we specify any conditions.\n",
        "\n",
        "The `idaes.core.util.model_statistics` package has a function `degrees_of_freedom`. To see how to use this function, we can make use of the Python function `help(func)`. This function prints the appropriate documentation string for the function.\n"
      ]
    },
    {
      "metadata": {
        "tags": [
          "exercise"
        ]
      },
      "cell_type": "markdown",
      "source": [
        "<div class=\"alert alert-block alert-info\">\n",
        "<b>Inline Exercise:</b>\n",
        "Import the degrees_of_freedom function and print the help for the function by calling the Python help function.\n",
        "</div>"
      ]
    },
    {
      "metadata": {
        "ExecuteTime": {
          "end_time": "2025-06-06T16:45:50.224457Z",
          "start_time": "2025-06-06T16:45:50.221905Z"
        },
        "tags": [
          "exercise"
        ]
      },
      "cell_type": "code",
      "source": [
        "# Todo: import the degrees_of_freedom function from the idaes.core.util.model_statistics package\n",
        "\n",
        "\n",
        "# Todo: Call the python help on the degrees_of_freedom function"
      ],
      "outputs": [],
      "execution_count": 15
    },
    {
      "metadata": {
        "tags": [
          "exercise"
        ]
      },
      "cell_type": "markdown",
      "source": [
        "<div class=\"alert alert-block alert-info\">\n",
        "<b>Inline Exercise:</b>\n",
        "Now print the degrees of freedom for your model. The result should be 7.\n",
        "</div>"
      ]
    },
    {
      "metadata": {
        "ExecuteTime": {
          "end_time": "2025-06-06T16:45:50.271361Z",
          "start_time": "2025-06-06T16:45:50.268763Z"
        },
        "tags": [
          "exercise"
        ]
      },
      "cell_type": "code",
      "source": "# Todo: print the degrees of freedom for your model",
      "outputs": [],
      "execution_count": 17
    },
    {
      "metadata": {},
      "cell_type": "markdown",
      "source": [
        "### 4.2 Specify Inlet Conditions\n",
        "\n",
        "To satisfy our degrees of freedom, we will first specify the inlet conditions. We can specify these values through the `inlet` port of the flash unit.\n",
        "\n",
        "**To see the list of naming conventions for variables within the IDAES framework, consult the online documentation at: https://idaes-pse.readthedocs.io/en/stable/explanations/conventions.html#standard-naming-format**\n",
        "\n",
        "As an  example, to fix the molar flow of the inlet to be 1.0, you can use the following notation:\n",
        "```python\n",
        "m.fs.flash.inlet.flow_mol.fix(1.0)\n",
        "```\n",
        "\n",
        "To specify variables that are indexed by components, you can use the following notation:\n",
        "```python\n",
        "m.fs.flash.inlet.mole_frac_comp[0, \"benzene\"].fix(0.5)\n",
        "```\n",
        "\n",
        "<div class=\"alert alert-block alert-warning\">\n",
        "<b>Note:</b>\n",
        "The \"0\" in the indexing of the component mole fraction is present because IDAES models support both dynamic and steady state simulation, and the \"0\" refers to a time point. Dynamic modeling is beyond the scope of this workshop. Since we are performing steady state modeling, there is only a single time point in the model.\n",
        "</div>\n",
        "\n",
        "In the next cell, we will specify the inlet conditions. To satisfy the remaining degrees of freedom, we will make two additional specifications on the flash tank itself. The names of the key variables within the Flash unit model can also be found in the online documentation: https://idaes-pse.readthedocs.io/en/stable/reference_guides/model_libraries/generic/unit_models/flash.html#variables.\n",
        "\n",
        "\n",
        "To specify the value of a variable on the unit itself, use the following notation.\n",
        "\n",
        "```python\n",
        "m.fs.flash.heat_duty.fix(0)\n",
        "```\n",
        "\n",
        "For this module, we will use the following specifications:\n",
        "* inlet overall molar flow = 1.0 (`flow_mol`)\n",
        "* inlet temperature = 368 K (`temperature`)\n",
        "* inlet pressure = 101325 Pa (`pressure`)\n",
        "* inlet mole fraction (benzene) = 0.5 (`mole_frac_comp[0, \"benzene\"]`)\n",
        "* inlet mole fraction (toluene) = 0.5 (`mole_frac_comp[0, \"toluene\"]`)\n",
        "* The heat duty on the flash set to 0 (`heat_duty`)\n",
        "* The pressure drop across the flash tank set to 0 (`deltaP`)\n",
        "\n"
      ]
    },
    {
      "metadata": {
        "tags": [
          "exercise"
        ]
      },
      "cell_type": "markdown",
      "source": [
        "<div class=\"alert alert-block alert-info\">\n",
        "<b>Inline Exercise:</b>\n",
        "Write the code below to specify the inlet conditions and unit specifications described above\n",
        "</div>"
      ]
    },
    {
      "metadata": {
        "ExecuteTime": {
          "end_time": "2025-06-06T16:45:50.360852Z",
          "start_time": "2025-06-06T16:45:50.357341Z"
        },
        "tags": [
          "exercise"
        ]
      },
      "cell_type": "code",
      "source": [
        "# Todo: Add inlet specifications given above\n",
        "\n",
        "\n",
        "# Todo: Add 2 flash unit specifications given above"
      ],
      "outputs": [],
      "execution_count": 20
    },
    {
      "metadata": {},
      "cell_type": "markdown",
      "source": [
        "Now that all the inlets have been specified, we can check the degrees of freedom again to ensure the system is square and has a degree of freedom of 0.\n",
        "\n"
      ]
    },
    {
      "metadata": {
        "tags": [
          "exercise"
        ]
      },
      "cell_type": "markdown",
      "source": [
        "<div class=\"alert alert-block alert-info\">\n",
        "<b>Inline Exercise:</b>\n",
        "Check the degrees of freedom again to ensure that the system is now square. You should see that the degrees of freedom is now 0.\n",
        "</div>"
      ]
    },
    {
      "metadata": {
        "tags": [
          "exercise"
        ]
      },
      "cell_type": "code",
      "outputs": [],
      "execution_count": 22,
      "source": "# Todo: print the degrees of freedom for your model"
    },
    {
      "metadata": {},
      "cell_type": "markdown",
      "source": [
        "## 5 Initializing the Model\n",
        "\n",
        "Now that all building steps are complete, the last step before solving the model is to initialize the model, or prepping the solve by giving it a good starting point. This is essentially giving the solver an initial guess for the iterative solver to reach convergence and is essential for both a fast and accurate solution. In IDAES, the current standard for initializing the model is by utilizing initializer instances. These initializer instances contain the initialize method that can be applied to any model type. For more information on initializing in IDAES, visit https://idaes-pse.readthedocs.io/en/stable/reference_guides/initialization/index.html. <br>\n",
        "\n",
        "For this tutorial, we will import the initializer class `BlockTriangularizationInitializer` class from the `default_initializer` method from the flash unit model. This is often the simplest way to obtain a compatible initializer for each unit model, but you can also directly important any initializer needed from this source `idaes.core.initialization`. Each initializer instance contains the `initialize()` method that requires an argument to be initialized and in this case its the flash unit model.\n"
      ]
    },
    {
      "metadata": {
        "tags": [
          "exercise"
        ]
      },
      "cell_type": "markdown",
      "source": [
        "<div class=\"alert alert-block alert-info\">\n",
        "<b>Inline Exercise:</b>\n",
        "Define the initializer instance, and initialize the flash unit model\n",
        "</div>"
      ]
    },
    {
      "metadata": {
        "ExecuteTime": {
          "end_time": "2025-06-06T16:45:50.499945Z",
          "start_time": "2025-06-06T16:45:50.497439Z"
        },
        "tags": [
          "exercise"
        ]
      },
      "cell_type": "code",
      "source": "# Todo: initialize the flash unit",
      "outputs": [],
      "execution_count": 25
    },
    {
      "metadata": {},
      "cell_type": "markdown",
      "source": "Another option for initializing is utilizing the default initializer that is attached to the unit model. Each unit model as a default initializer that is hypothetically the most compatible. It can be called with `m.fs.flash.initialize()`. While this is an option, it is generally preferred to import an initializer object and initialize the model with that to ensure more control over the initialization."
    },
    {
      "metadata": {},
      "cell_type": "markdown",
      "source": [
        "## 6 Solving the Model\n",
        "\n",
        "Now that the model has been defined and initialized, we can solve the model.\n",
        "\n"
      ]
    },
    {
      "metadata": {
        "tags": [
          "exercise"
        ]
      },
      "cell_type": "markdown",
      "source": [
        "<div class=\"alert alert-block alert-info\">\n",
        "<b>Inline Exercise:</b>\n",
        "Using the notation described in the previous model, create an instance of the \"ipopt\" solver and use it to solve the model. Set the tee option to True to see the log output.\n",
        "</div>"
      ]
    },
    {
      "metadata": {
        "ExecuteTime": {
          "end_time": "2025-06-06T17:04:32.219172Z",
          "start_time": "2025-06-06T17:04:32.216161Z"
        },
        "tags": [
          "exercise"
        ]
      },
      "cell_type": "code",
      "source": [
        "# Todo: create the ipopt solver\n",
        "\n",
        "# Todo: solve the model"
      ],
      "outputs": [],
      "execution_count": 36
    },
    {
      "metadata": {},
      "cell_type": "markdown",
      "source": [
        "## 7 Viewing the Results\n",
        "\n",
        "Once a model is solved, the values returned by the solver are loaded into the model object itself. We can access the value of any variable in the model with the `value` function. For example:\n",
        "```python\n",
        "print('Vap. Outlet Temperature = ', value(m.fs.flash.vap_outlet.temperature[0]))\n",
        "```\n",
        "\n",
        "You can also find more information about a variable or an entire port using the `display` method from Pyomo:\n",
        "```python\n",
        "m.fs.flash.vap_outlet.temperature.display()\n",
        "m.fs.flash.vap_outlet.display()\n",
        "```\n",
        "\n",
        "<div class=\"alert alert-block alert-info\">\n",
        "<b>Inline Exercise:</b>\n",
        "Execute the cells below to show the current value of the flash vapor outlet pressure. This cell also shows use of the display function to see the values of the variables in the vap_outlet and the liq_outlet.\n",
        "</div>"
      ]
    },
    {
      "metadata": {
        "ExecuteTime": {
          "end_time": "2025-06-06T17:04:35.556815Z",
          "start_time": "2025-06-06T17:04:35.551070Z"
        }
      },
      "cell_type": "code",
      "source": [
        "# Print the pressure of the flash vapor outlet\n",
        "print(\"Pressure =\", value(m.fs.flash.vap_outlet.pressure[0]))\n",
        "\n",
        "print()\n",
        "print(\"Output from display:\")\n",
        "# Call display on vap_outlet and liq_outlet of the flash\n",
        "m.fs.flash.vap_outlet.display()\n",
        "m.fs.flash.liq_outlet.display()"
      ],
      "outputs": [
        {
          "name": "stdout",
          "output_type": "stream",
          "text": [
            "Pressure = 101325.0\n",
            "\n",
            "Output from display:\n",
            "vap_outlet : Size=1\n",
            "    Key  : Name           : Value\n",
            "    None :       flow_mol : {0.0: 0.3961181748774193}\n",
            "         : mole_frac_comp : {(0.0, 'benzene'): 0.633976648508129, (0.0, 'toluene'): 0.366023351491871}\n",
            "         :       pressure : {0.0: 101325.0}\n",
            "         :    temperature : {0.0: 368.0}\n",
            "liq_outlet : Size=1\n",
            "    Key  : Name           : Value\n",
            "    None :       flow_mol : {0.0: 0.6038818251225807}\n",
            "         : mole_frac_comp : {(0.0, 'benzene'): 0.41211759772293044, (0.0, 'toluene'): 0.5878824022770694}\n",
            "         :       pressure : {0.0: 101325.0}\n",
            "         :    temperature : {0.0: 368.0}\n"
          ]
        }
      ],
      "execution_count": 39
    },
    {
      "metadata": {},
      "cell_type": "markdown",
      "source": [
        "The output from `display` is quite exhaustive and not really intended to provide quick summary information. Because Pyomo is built on Python, there are opportunities to format the output any way we like. Most IDAES models have a `report` method which provides a summary of the results for the model.\n",
        "\n",
        "<div class=\"alert alert-block alert-info\">\n",
        "<b>Inline Exercise:</b>\n",
        "Execute the cell below which uses the function above to print a summary of the key variables in the flash model, including the inlet, the vapor, and the liquid ports.\n",
        "</div>"
      ]
    },
    {
      "metadata": {
        "ExecuteTime": {
          "end_time": "2025-06-06T17:04:38.727731Z",
          "start_time": "2025-06-06T17:04:38.712131Z"
        }
      },
      "cell_type": "code",
      "source": "m.fs.flash.report()",
      "outputs": [
        {
          "name": "stdout",
          "output_type": "stream",
          "text": [
            "\n",
            "====================================================================================\n",
            "Unit : fs.flash                                                            Time: 0.0\n",
            "------------------------------------------------------------------------------------\n",
            "    Unit Performance\n",
            "\n",
            "    Variables: \n",
            "\n",
            "    Key             : Value  : Units  : Fixed : Bounds\n",
            "          Heat Duty : 0.0000 :   watt :  True : (None, None)\n",
            "    Pressure Change : 0.0000 : pascal :  True : (None, None)\n",
            "\n",
            "------------------------------------------------------------------------------------\n",
            "    Stream Table\n",
            "                               Units         Inlet    Vapor Outlet  Liquid Outlet\n",
            "    flow_mol                mole / second     1.0000      0.39612       0.60388  \n",
            "    mole_frac_comp benzene  dimensionless    0.50000      0.63398       0.41212  \n",
            "    mole_frac_comp toluene  dimensionless    0.50000      0.36602       0.58788  \n",
            "    temperature                    kelvin     368.00       368.00        368.00  \n",
            "    pressure                       pascal 1.0132e+05   1.0132e+05    1.0132e+05  \n",
            "====================================================================================\n"
          ]
        }
      ],
      "execution_count": 40
    },
    {
      "metadata": {},
      "cell_type": "markdown",
      "source": [
        "## Exercise: Studying Purity as a Function of Heat Duty\n",
        "\n",
        "Since the entire modeling framework is built upon Python, it includes a complete programming environment for whatever analysis we may want to perform. In this next exercise, we will make use of what we learned in this and the previous module to generate a figure showing some output variables as a function of the heat duty in the flash tank.\n",
        "\n",
        "First, let's import the matplotlib package for plotting as we did in the previous module.\n",
        "<div class=\"alert alert-block alert-info\">\n",
        "<b>Inline Exercise:</b>\n",
        "Execute the cell below to import matplotlib appropriately.\n",
        "</div>"
      ]
    },
    {
      "metadata": {
        "ExecuteTime": {
          "end_time": "2025-06-06T17:04:43.426680Z",
          "start_time": "2025-06-06T17:04:43.423025Z"
        }
      },
      "cell_type": "code",
      "source": "import matplotlib.pyplot as plt",
      "outputs": [],
      "execution_count": 42
    },
    {
      "metadata": {},
      "cell_type": "markdown",
      "source": [
        "Exercise specifications:\n",
        "* Generate a figure showing the flash tank heat duty (`m.fs.flash.heat_duty[0]`) vs. the vapor flowrate (`m.fs.flash.vap_outlet.flow_mol[0]`)\n",
        "* Specify the heat duty from -17000 to 25000 over 50 steps\n",
        "\n"
      ]
    },
    {
      "metadata": {
        "tags": [
          "exercise"
        ]
      },
      "cell_type": "markdown",
      "source": [
        "<div class=\"alert alert-block alert-info\">\n",
        "<b>Inline Exercise:</b>\n",
        "Using what you have learned so far, fill in the missing code below to generate the figure specified above. (Hint: import numpy and use the linspace function from the previous module)\n",
        "</div>"
      ]
    },
    {
      "metadata": {
        "tags": [
          "exercise"
        ]
      },
      "cell_type": "code",
      "source": [
        "# import the solve_successful checking function from workshop tools\n",
        "from idaes_examples.mod.tut.workshoptools import solve_successful\n",
        "\n",
        "# Todo: import numpy as np\n",
        "\n",
        "\n",
        "# create the empty lists to store the results that will be plotted\n",
        "Q = []\n",
        "V = []\n",
        "\n",
        "# re-initialize model\n",
        "UnitModelInitializer.initialize(m.fs.flash)\n",
        "\n",
        "# Todo: Write the for loop specification using numpy's linspace\n",
        "\n",
        "    # fix the heat duty\n",
        "    m.fs.flash.heat_duty.fix(duty)\n",
        "\n",
        "    # append the value of the duty to the Q list\n",
        "    Q.append(duty)\n",
        "\n",
        "    # print the current simulation\n",
        "    print(\"Simulating with Q = \", value(m.fs.flash.heat_duty[0]))\n",
        "\n",
        "    # Solve the model\n",
        "    status = solver.solve(m)\n",
        "\n",
        "    # append the value for vapor fraction if the solve was successful\n",
        "    if solve_successful(status):\n",
        "        V.append(value(m.fs.flash.vap_outlet.flow_mol[0]))\n",
        "        print('... solve successful.')\n",
        "    else:\n",
        "        V.append(0.0)\n",
        "        print('... solve failed.')\n",
        "\n",
        "# Create and show the figure\n",
        "plt.figure(\"Vapor Fraction\")\n",
        "plt.plot(Q, V)\n",
        "plt.grid()\n",
        "plt.xlabel(\"Heat Duty [J]\")\n",
        "plt.ylabel(\"Vapor Fraction [-]\")\n",
        "plt.show()"
      ],
      "outputs": [],
      "execution_count": null
    },
    {
      "metadata": {
        "tags": [
          "exercise"
        ]
      },
      "cell_type": "markdown",
      "source": [
        "<div class=\"alert alert-block alert-info\">\n",
        "<b>Inline Exercise:</b>\n",
        "Repeat the exercise above, but create a figure showing the heat duty vs. the mole fraction of Benzene in the vapor outlet. Remove any unnecessary printing to create cleaner results.\n",
        "</div>"
      ]
    },
    {
      "metadata": {
        "tags": [
          "exercise"
        ]
      },
      "cell_type": "code",
      "source": "# Todo: generate a figure of heat duty vs. mole fraction of Benzene in the vapor",
      "outputs": [],
      "execution_count": null
    },
    {
      "metadata": {},
      "cell_type": "markdown",
      "source": [
        "Recall that the IDAES framework is an equation-oriented modeling environment. This means that we can specify \"design\" problems natively. That is, there is no need to have our specifications on the inlet alone. We can put specifications on the outlet as long as we retain a well-posed, square system of equations.\n",
        "\n",
        "For example, we can remove the specification on heat duty and instead specify that we want the mole fraction of Benzene in the vapor outlet to be equal to 0.6. The mole fraction is not a native variable in the property block, so we cannot use \"fix\". We can, however, add a constraint to the model.\n",
        "\n",
        "Note that we have been executing a number of solves on the problem, and may not be sure of the current state. To help convergence, therefore, we will first call initialize, then add the new constraint and solve the problem. Note that the reference for the mole fraction of Benzene in the vapor outlet is `m.fs.flash.vap_outlet.mole_frac_comp[0, \"benzene\"]`.\n",
        "\n"
      ]
    },
    {
      "metadata": {
        "tags": [
          "exercise"
        ]
      },
      "cell_type": "markdown",
      "source": [
        "<div class=\"alert alert-block alert-info\">\n",
        "<b>Inline Exercise:</b>\n",
        "Fill in the missing code below and add a constraint on the mole fraction of Benzene (to a value of 0.6) to find the required heat duty.\n",
        "</div>\n"
      ]
    },
    {
      "metadata": {
        "ExecuteTime": {
          "end_time": "2025-06-06T17:05:05.363302Z",
          "start_time": "2025-06-06T17:05:04.960601Z"
        },
        "tags": [
          "exercise"
        ]
      },
      "cell_type": "code",
      "source": [
        "# re-initialize the model - this may or may not be required depending on current state but safe to initialize\n",
        "m.fs.flash.heat_duty.fix(0)\n",
        "m.fs.flash.initialize(outlvl=idaeslog.WARNING)\n",
        "\n",
        "# Unfix the heat_duty variable\n",
        "m.fs.flash.heat_duty.unfix()\n",
        "\n",
        "# Todo: Add a new constraint (benzene mole fraction to 0.6)\n",
        "\n",
        "# solve the problem\n",
        "status = solver.solve(m, tee=True)\n",
        "\n",
        "# Check stream condition\n",
        "m.fs.flash.report()"
      ],
      "outputs": [
        {
          "name": "stdout",
          "output_type": "stream",
          "text": [
            "WARNING: model contains export suffix 'scaling_factor' that contains 6\n",
            "component keys that are not exported as part of the NL file.  Skipping.\n",
            "Ipopt 3.13.2: \n",
            "\n",
            "******************************************************************************\n",
            "This program contains Ipopt, a library for large-scale nonlinear optimization.\n",
            " Ipopt is released as open source code under the Eclipse Public License (EPL).\n",
            "         For more information visit http://projects.coin-or.org/Ipopt\n",
            "\n",
            "This version of Ipopt was compiled from source code available at\n",
            "    https://github.com/IDAES/Ipopt as part of the Institute for the Design of\n",
            "    Advanced Energy Systems Process Systems Engineering Framework (IDAES PSE\n",
            "    Framework) Copyright (c) 2018-2019. See https://github.com/IDAES/idaes-pse.\n",
            "\n",
            "This version of Ipopt was compiled using HSL, a collection of Fortran codes\n",
            "    for large-scale scientific computation.  All technical papers, sales and\n",
            "    publicity material resulting from use of the HSL codes within IPOPT must\n",
            "    contain the following acknowledgement:\n",
            "        HSL, a collection of Fortran codes for large-scale scientific\n",
            "        computation. See http://www.hsl.rl.ac.uk.\n",
            "******************************************************************************\n",
            "\n",
            "This is Ipopt version 3.13.2, running with linear solver ma27.\n",
            "\n",
            "Number of nonzeros in equality constraint Jacobian...:      136\n",
            "Number of nonzeros in inequality constraint Jacobian.:        0\n",
            "Number of nonzeros in Lagrangian Hessian.............:       72\n",
            "\n",
            "Total number of variables............................:       42\n",
            "                     variables with only lower bounds:        3\n",
            "                variables with lower and upper bounds:       10\n",
            "                     variables with only upper bounds:        0\n",
            "Total number of equality constraints.................:       41\n",
            "Total number of inequality constraints...............:        0\n",
            "        inequality constraints with only lower bounds:        0\n",
            "   inequality constraints with lower and upper bounds:        0\n",
            "        inequality constraints with only upper bounds:        0\n",
            "\n",
            "iter    objective    inf_pr   inf_du lg(mu)  ||d||  lg(rg) alpha_du alpha_pr  ls\n",
            "   0  0.0000000e+00 3.07e-08 1.01e-04  -1.0 0.00e+00    -  0.00e+00 0.00e+00   0\n",
            "   1  0.0000000e+00 1.46e+00 2.42e-01  -1.0 4.86e+02    -  9.90e-01 1.00e+00f  1\n",
            "   2  0.0000000e+00 5.55e+01 5.60e-03  -1.0 3.00e+03    -  9.90e-01 1.00e+00h  1\n",
            "   3  0.0000000e+00 1.91e+00 4.24e-05  -1.0 5.68e+02    -  1.00e+00 1.00e+00h  1\n",
            "   4  0.0000000e+00 1.53e-05 1.90e-06  -2.5 1.35e+00    -  1.00e+00 1.00e+00h  1\n",
            "   5  0.0000000e+00 4.66e-10 1.50e-09  -3.8 8.72e-03    -  1.00e+00 1.00e+00h  1\n",
            "   6  0.0000000e+00 2.18e-11 1.84e-11  -5.7 1.92e-03    -  1.00e+00 1.00e+00h  1\n",
            "   7  0.0000000e+00 1.46e-11 2.51e-14  -8.6 2.10e-04    -  1.00e+00 1.00e+00H  1\n",
            "\n",
            "Number of Iterations....: 7\n",
            "\n",
            "                                   (scaled)                 (unscaled)\n",
            "Objective...............:   0.0000000000000000e+00    0.0000000000000000e+00\n",
            "Dual infeasibility......:   2.5059035640133008e-14    2.5059035640133008e-14\n",
            "Constraint violation....:   4.8801876740451558e-13    1.4551915228366852e-11\n",
            "Complementarity.........:   2.5059101787473095e-09    2.5059101787473095e-09\n",
            "Overall NLP error.......:   2.5059101787473095e-09    2.5059101787473095e-09\n",
            "\n",
            "\n",
            "Number of objective function evaluations             = 9\n",
            "Number of objective gradient evaluations             = 8\n",
            "Number of equality constraint evaluations            = 9\n",
            "Number of inequality constraint evaluations          = 0\n",
            "Number of equality constraint Jacobian evaluations   = 8\n",
            "Number of inequality constraint Jacobian evaluations = 0\n",
            "Number of Lagrangian Hessian evaluations             = 7\n",
            "Total CPU secs in IPOPT (w/o function evaluations)   =      0.002\n",
            "Total CPU secs in NLP function evaluations           =      0.000\n",
            "\n",
            "EXIT: Optimal Solution Found.\n",
            "\n",
            "====================================================================================\n",
            "Unit : fs.flash                                                            Time: 0.0\n",
            "------------------------------------------------------------------------------------\n",
            "    Unit Performance\n",
            "\n",
            "    Variables: \n",
            "\n",
            "    Key             : Value  : Units  : Fixed : Bounds\n",
            "          Heat Duty : 4059.3 :   watt : False : (None, None)\n",
            "    Pressure Change : 0.0000 : pascal :  True : (None, None)\n",
            "\n",
            "------------------------------------------------------------------------------------\n",
            "    Stream Table\n",
            "                               Units         Inlet    Vapor Outlet  Liquid Outlet\n",
            "    flow_mol                mole / second     1.0000      0.51773       0.48227  \n",
            "    mole_frac_comp benzene  dimensionless    0.50000      0.60690       0.38524  \n",
            "    mole_frac_comp toluene  dimensionless    0.50000      0.39310       0.61476  \n",
            "    temperature                    kelvin     368.00       368.85        368.85  \n",
            "    pressure                       pascal 1.0132e+05   1.0132e+05    1.0132e+05  \n",
            "====================================================================================\n"
          ]
        }
      ],
      "execution_count": 45
    }
  ],
  "metadata": {
    "celltoolbar": "Tags",
    "kernelspec": {
      "display_name": "Python 3 (ipykernel)",
      "language": "python",
      "name": "python3"
    },
    "language_info": {
      "codemirror_mode": {
        "name": "ipython",
        "version": 3
      },
      "file_extension": ".py",
      "mimetype": "text/x-python",
      "name": "python",
      "nbconvert_exporter": "python",
      "pygments_lexer": "ipython3",
      "version": "3.9.12"
    }
  },
  "nbformat": 4,
  "nbformat_minor": 3
}