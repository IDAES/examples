{
 "cells": [
  {
   "cell_type": "code",
   "metadata": {
    "tags": [
     "header",
     "hide-cell"
    ],
    "ExecuteTime": {
     "end_time": "2025-06-26T20:17:01.034501Z",
     "start_time": "2025-06-26T20:17:01.030269Z"
    }
   },
   "source": [
    "###############################################################################\n",
    "# The Institute for the Design of Advanced Energy Systems Integrated Platform\n",
    "# Framework (idaes IP) was produced under the DOE Institute for the\n",
    "# Design of Advanced Energy Systems (IDAES).\n",
    "#\n",
    "# Copyright (c) 2018-2023 by the software owners: The Regents of the\n",
    "# University of California, through Lawrence Berkeley National Laboratory,\n",
    "# National Technology & Engineering Solutions of Sandia, LLC, Carnegie Mellon\n",
    "# University, West Virginia University Research Corporation, et al.\n",
    "# All rights reserved.  Please see the files COPYRIGHT.md and LICENSE.md\n",
    "# for full copyright and license information.\n",
    "###############################################################################"
   ],
   "outputs": [],
   "execution_count": 1
  },
  {
   "cell_type": "markdown",
   "metadata": {},
   "source": [
    "\n",
    "# HDA Flowsheet Simulation and Optimization\n",
    "\n",
    "Author: Jaffer Ghouse<br>\n",
    "Maintainer: Tanner Polley<br>\n",
    "Updated: 2025-06-03\n",
    "\n",
    "## Learning outcomes\n",
    "\n",
    "\n",
    "- Construct a steady-state flowsheet using the IDAES unit model library\n",
    "- Connecting unit models in a flowsheet using Arcs\n",
    "- Using the SequentialDecomposition tool to initialize a flowsheet with recycle\n",
    "- Formulate and solve an optimization problem\n",
    "    - Defining an objective function\n",
    "    - Setting variable bounds\n",
    "    - Adding additional constraints\n",
    "\n",
    "\n",
    "The general workflow of setting up an IDAES flowsheet is the following:\n",
    "\n",
    "&nbsp;&nbsp;&nbsp;&nbsp; 1 Importing Modules <br>\n",
    "&nbsp;&nbsp;&nbsp;&nbsp; 2 Building a Model <br>\n",
    "&nbsp;&nbsp;&nbsp;&nbsp; 3 Scaling the Model <br>\n",
    "&nbsp;&nbsp;&nbsp;&nbsp; 4 Specifying the Model <br>\n",
    "&nbsp;&nbsp;&nbsp;&nbsp; 5 Initializing the Model <br>\n",
    "&nbsp;&nbsp;&nbsp;&nbsp; 6 Solving the Model <br>\n",
    "&nbsp;&nbsp;&nbsp;&nbsp; 7 Analyzing and Visualizing the Results <br>\n",
    "&nbsp;&nbsp;&nbsp;&nbsp; 8 Optimizing the Model <br>\n",
    "\n",
    "We will complete each of these steps as well as demonstrate analyses on this model through some examples and exercises.\n",
    "\n",
    "\n",
    "## Problem Statement\n",
    "\n",
    "Hydrodealkylation is a chemical reaction that often involves reacting\n",
    "an aromatic hydrocarbon in the presence of hydrogen gas to form a\n",
    "simpler aromatic hydrocarbon devoid of functional groups. In this\n",
    "example, toluene will be reacted with hydrogen gas at high temperatures\n",
    " to form benzene via the following reaction:\n",
    "\n",
    "**C<sub>6</sub>H<sub>5</sub>CH<sub>3</sub> + H<sub>2</sub> → C<sub>6</sub>H<sub>6</sub> + CH<sub>4</sub>**\n",
    "\n",
    "\n",
    "This reaction is often accompanied by an equilibrium side reaction\n",
    "which forms diphenyl, which we will neglect for this example.\n",
    "\n",
    "This example is based on the 1967 AIChE Student Contest problem as\n",
    "present by Douglas, J.M., Chemical  Design of Chemical Processes, 1988,\n",
    "McGraw-Hill.\n",
    "\n",
    "The flowsheet that we will be using for this module is shown below with the stream conditions. We will be processing toluene and hydrogen to produce at least 370 TPY of benzene. As shown in the flowsheet, there are two flash tanks, F101 to separate out the non-condensibles and F102 to further separate the benzene-toluene mixture to improve the benzene purity.  Note that typically a distillation column is required to obtain high purity benzene but that is beyond the scope of this workshop. The non-condensibles separated out in F101 will be partially recycled back to M101 and the rest will be either purged or combusted for power generation.We will assume ideal gas for this flowsheet. The properties required for this module are available in the same directory:\n",
    "\n",
    "- hda_ideal_VLE.py\n",
    "- hda_reaction.py\n",
    "\n",
    "The state variables chosen for the property package are **flows of component by phase, temperature and pressure**. The components considered are: **toluene, hydrogen, benzene and methane**. Therefore, every stream has 8 flow variables, 1 temperature and 1 pressure variable. \n",
    "\n",
    "![](HDA_flowsheet.png)\n",
    "\n"
   ]
  },
  {
   "cell_type": "markdown",
   "metadata": {},
   "source": [
    "## 1 Importing Modules\n",
    "### 1.1 Importing required Pyomo and IDAES components\n",
    "\n",
    "\n",
    "To construct a flowsheet, we will need several components from the Pyomo and IDAES package. Let us first import the following components from Pyomo:\n",
    "- Constraint (to write constraints)\n",
    "- Var (to declare variables)\n",
    "- ConcreteModel (to create the concrete model object)\n",
    "- Expression (to evaluate values as a function of variables defined in the model)\n",
    "- Objective (to define an objective function for optimization)\n",
    "- SolverFactory (to solve the problem)\n",
    "- TransformationFactory (to apply certain transformations)\n",
    "- Arc (to connect two unit models)\n",
    "- SequentialDecomposition (to initialize the flowsheet in a sequential mode)\n",
    "\n",
    "For further details on these components, please refer to the Pyomo documentation: https://Pyomo.readthedocs.io/en/stable/\n"
   ]
  },
  {
   "cell_type": "code",
   "metadata": {
    "ExecuteTime": {
     "end_time": "2025-06-26T20:17:01.631380Z",
     "start_time": "2025-06-26T20:17:01.240873Z"
    }
   },
   "source": [
    "from pyomo.environ import (\n",
    "    Constraint,\n",
    "    Var,\n",
    "    ConcreteModel,\n",
    "    Expression,\n",
    "    Objective,\n",
    "    SolverFactory,\n",
    "    TransformationFactory,\n",
    "    value,\n",
    ")\n",
    "from pyomo.network import Arc, SequentialDecomposition"
   ],
   "outputs": [],
   "execution_count": 2
  },
  {
   "cell_type": "markdown",
   "metadata": {},
   "source": [
    "From IDAES, we will be needing the FlowsheetBlock and the following unit models:\n",
    "- Feed\n",
    "- Mixer\n",
    "- Heater\n",
    "- StoichiometricReactor\n",
    "- <span style=\"color:blue\">**Flash**</span>\n",
    "- Separator (splitter) \n",
    "- PressureChanger\n",
    "- Product"
   ]
  },
  {
   "cell_type": "code",
   "metadata": {
    "ExecuteTime": {
     "end_time": "2025-06-26T20:17:03.331120Z",
     "start_time": "2025-06-26T20:17:01.647431Z"
    }
   },
   "source": [
    "from idaes.core import FlowsheetBlock"
   ],
   "outputs": [],
   "execution_count": 3
  },
  {
   "cell_type": "code",
   "metadata": {
    "ExecuteTime": {
     "end_time": "2025-06-26T20:17:03.461993Z",
     "start_time": "2025-06-26T20:17:03.340761Z"
    }
   },
   "source": [
    "from idaes.models.unit_models import (\n",
    "    PressureChanger,\n",
    "    IsentropicPressureChangerInitializer,\n",
    "    Mixer,\n",
    "    MixerInitializer,\n",
    "    Separator as Splitter,\n",
    "    SeparatorInitializer,\n",
    "    Heater,\n",
    "    StoichiometricReactor,\n",
    "    Feed,\n",
    "    Product,\n",
    ")"
   ],
   "outputs": [],
   "execution_count": 4
  },
  {
   "cell_type": "markdown",
   "metadata": {},
   "source": [
    "<div class=\"alert alert-block alert-info\">\n",
    "<b>Inline Exercise:</b>\n",
    "Now, import the remaining unit models highlighted in blue above and run the cell using `Shift+Enter` after typing in the code. \n",
    "</div>\n"
   ]
  },
  {
   "cell_type": "code",
   "metadata": {
    "tags": [
     "exercise"
    ],
    "ExecuteTime": {
     "end_time": "2025-06-26T20:17:03.473539Z",
     "start_time": "2025-06-26T20:17:03.471144Z"
    }
   },
   "source": [
    "# Todo: import flash model from idaes.models.unit_models"
   ],
   "outputs": [],
   "execution_count": 5
  },
  {
   "cell_type": "code",
   "metadata": {
    "tags": [
     "solution"
    ],
    "ExecuteTime": {
     "end_time": "2025-06-26T20:17:03.493114Z",
     "start_time": "2025-06-26T20:17:03.490661Z"
    }
   },
   "source": [
    "# Todo: import flash model from idaes.models.unit_models\n",
    "from idaes.models.unit_models import Flash"
   ],
   "outputs": [],
   "execution_count": 6
  },
  {
   "cell_type": "markdown",
   "metadata": {},
   "source": [
    "We will also be needing some utility tools to put together the flowsheet and calculate the degrees of freedom. "
   ]
  },
  {
   "cell_type": "code",
   "metadata": {
    "ExecuteTime": {
     "end_time": "2025-06-26T20:17:03.516199Z",
     "start_time": "2025-06-26T20:17:03.512942Z"
    }
   },
   "source": [
    "from idaes.models.unit_models.pressure_changer import ThermodynamicAssumption\n",
    "from idaes.core.util.model_statistics import degrees_of_freedom\n",
    "from idaes.core.scaling.util import set_scaling_factor\n",
    "from idaes.core.scaling.autoscaling import AutoScaler\n",
    "\n",
    "# Import idaes logger to set output levels\n",
    "import idaes.logger as idaeslog\n",
    "from idaes.core.solvers import get_solver\n",
    "from idaes.core.util.exceptions import InitializationError"
   ],
   "outputs": [],
   "execution_count": 7
  },
  {
   "cell_type": "markdown",
   "metadata": {},
   "source": [
    "### 1.2 Importing required thermo and reaction package\n",
    "\n",
    "The final set of imports are to import the thermo and reaction package for the HDA process. We have created a custom thermo package that assumes Ideal Gas with support for VLE. \n",
    "\n",
    "The reaction package here is very simple as we will be using only a StochiometricReactor and the reaction package consists of the stochiometric coefficients for the reaction and the parameter for the heat of reaction. \n",
    "\n",
    "Let us import the following modules and they are in the same directory as this jupyter notebook:\n",
    "      <ul>\n",
    "         <li>hda_ideal_VLE as thermo_props</li>\n",
    "         <li>hda_reaction as reaction_props </li>\n",
    "      </ul>\n",
    "</div>"
   ]
  },
  {
   "cell_type": "code",
   "metadata": {
    "ExecuteTime": {
     "end_time": "2025-06-26T20:17:03.551358Z",
     "start_time": "2025-06-26T20:17:03.543942Z"
    }
   },
   "source": [
    "from idaes_examples.mod.hda import hda_ideal_VLE as thermo_props\n",
    "from idaes_examples.mod.hda import hda_reaction as reaction_props"
   ],
   "outputs": [],
   "execution_count": 8
  },
  {
   "cell_type": "markdown",
   "metadata": {},
   "source": [
    "## 2 Constructing the Flowsheet\n",
    "\n",
    "We have now imported all the components, unit models, and property modules we need to construct a flowsheet. Let us create a ConcreteModel and add the flowsheet block."
   ]
  },
  {
   "cell_type": "code",
   "metadata": {
    "ExecuteTime": {
     "end_time": "2025-06-26T20:17:03.572038Z",
     "start_time": "2025-06-26T20:17:03.567506Z"
    }
   },
   "source": [
    "m = ConcreteModel()\n",
    "m.fs = FlowsheetBlock(dynamic=False)"
   ],
   "outputs": [],
   "execution_count": 9
  },
  {
   "cell_type": "markdown",
   "metadata": {},
   "source": [
    "We now need to add the property packages to the flowsheet. Unlike Module 1, where we only had a thermo property package, for this flowsheet we will also need to add a reaction property package. "
   ]
  },
  {
   "cell_type": "code",
   "metadata": {
    "ExecuteTime": {
     "end_time": "2025-06-26T20:17:03.606045Z",
     "start_time": "2025-06-26T20:17:03.591939Z"
    }
   },
   "source": [
    "m.fs.thermo_params = thermo_props.HDAParameterBlock()\n",
    "m.fs.reaction_params = reaction_props.HDAReactionParameterBlock(\n",
    "    property_package=m.fs.thermo_params\n",
    ")"
   ],
   "outputs": [],
   "execution_count": 10
  },
  {
   "cell_type": "markdown",
   "metadata": {},
   "source": [
    "### 2.1 Adding Unit Models\n",
    "\n",
    "Let us start adding the unit models we have imported to the flowsheet. Here, we are adding the Feed (assigned a name `I101` for Inlet), `Mixer` (assigned a name `M101`) and a `Heater` (assigned a name `H101`). Note that, all unit models need to be given a property package argument. In addition to that, there are several arguments depending on the unit model, please refer to the documentation for more details (https://idaes-pse.readthedocs.io/en/stable/reference_guides/model_libraries/generic/unit_models/index.html). For example, the `Mixer` unit model here must be specified the number of inlets that it will take in and the `Heater` can have specific settings enabled such as `has_pressure_change` or `has_phase_equilibrium`."
   ]
  },
  {
   "cell_type": "code",
   "metadata": {
    "ExecuteTime": {
     "end_time": "2025-06-26T20:17:03.643943Z",
     "start_time": "2025-06-26T20:17:03.617017Z"
    }
   },
   "source": [
    "m.fs.I101 = Feed(property_package=m.fs.thermo_params)\n",
    "\n",
    "m.fs.I102 = Feed(property_package=m.fs.thermo_params)\n",
    "\n",
    "m.fs.M101 = Mixer(\n",
    "    property_package=m.fs.thermo_params,\n",
    "    num_inlets=3,\n",
    ")\n",
    "\n",
    "m.fs.H101 = Heater(\n",
    "    property_package=m.fs.thermo_params,\n",
    "    has_pressure_change=False,\n",
    "    has_phase_equilibrium=True,\n",
    ")"
   ],
   "outputs": [],
   "execution_count": 11
  },
  {
   "cell_type": "markdown",
   "metadata": {
    "tags": [
     "exercise"
    ]
   },
   "source": [
    "<div class=\"alert alert-block alert-info\">\n",
    "<b>Inline Exercise:</b>\n",
    "Let us now add the StoichiometricReactor(assign the name R101) and pass the following arguments:\n",
    "      <ul>\n",
    "         <li>\"property_package\": m.fs.thermo_params</li>\n",
    "         <li>\"reaction_package\": m.fs.reaction_params </li>\n",
    "         <li>\"has_heat_of_reaction\": True </li>\n",
    "         <li>\"has_heat_transfer\": True</li>\n",
    "         <li>\"has_pressure_change\": False</li>\n",
    "      </ul>\n",
    "</div>"
   ]
  },
  {
   "cell_type": "code",
   "metadata": {
    "tags": [
     "exercise"
    ],
    "ExecuteTime": {
     "end_time": "2025-06-26T20:17:03.659010Z",
     "start_time": "2025-06-26T20:17:03.655218Z"
    }
   },
   "source": [
    "# Todo: Add reactor with the specifications above"
   ],
   "outputs": [],
   "execution_count": 12
  },
  {
   "cell_type": "code",
   "metadata": {
    "tags": [
     "solution"
    ],
    "ExecuteTime": {
     "end_time": "2025-06-26T20:17:03.684875Z",
     "start_time": "2025-06-26T20:17:03.673453Z"
    }
   },
   "source": [
    "# Todo: Add reactor with the specifications above\n",
    "m.fs.R101 = StoichiometricReactor(\n",
    "    property_package=m.fs.thermo_params,\n",
    "    reaction_package=m.fs.reaction_params,\n",
    "    has_heat_of_reaction=True,\n",
    "    has_heat_transfer=True,\n",
    "    has_pressure_change=False,\n",
    ")"
   ],
   "outputs": [],
   "execution_count": 13
  },
  {
   "cell_type": "markdown",
   "metadata": {},
   "source": [
    "Let us now add the Flash(assign the name F101) and pass the following arguments:\n",
    "      <ul>\n",
    "         <li>\"property_package\": m.fs.thermo_params</li>\n",
    "         <li>\"has_heat_transfer\": True</li>\n",
    "         <li>\"has_pressure_change\": False</li>\n",
    "      </ul>"
   ]
  },
  {
   "cell_type": "code",
   "metadata": {
    "ExecuteTime": {
     "end_time": "2025-06-26T20:17:03.716786Z",
     "start_time": "2025-06-26T20:17:03.705239Z"
    }
   },
   "source": [
    "m.fs.F101 = Flash(\n",
    "    property_package=m.fs.thermo_params,\n",
    "    has_heat_transfer=True,\n",
    "    has_pressure_change=True,\n",
    ")"
   ],
   "outputs": [],
   "execution_count": 14
  },
  {
   "cell_type": "markdown",
   "metadata": {},
   "source": [
    "Let us now add the Splitter(S101) with specific names for its output (purge and recycle), PressureChanger(C101) and the second Flash(F102)."
   ]
  },
  {
   "cell_type": "code",
   "metadata": {
    "ExecuteTime": {
     "end_time": "2025-06-26T20:17:03.746908Z",
     "start_time": "2025-06-26T20:17:03.723650Z"
    }
   },
   "source": [
    "m.fs.S101 = Splitter(\n",
    "    property_package=m.fs.thermo_params,\n",
    "    ideal_separation=False,\n",
    "    outlet_list=[\"purge\", \"recycle\"],\n",
    ")\n",
    "\n",
    "\n",
    "m.fs.C101 = PressureChanger(\n",
    "    property_package=m.fs.thermo_params,\n",
    "    compressor=True,\n",
    "    thermodynamic_assumption=ThermodynamicAssumption.isothermal,\n",
    ")\n",
    "\n",
    "m.fs.F102 = Flash(\n",
    "    property_package=m.fs.thermo_params,\n",
    "    has_heat_transfer=True,\n",
    "    has_pressure_change=True,\n",
    ")"
   ],
   "outputs": [],
   "execution_count": 15
  },
  {
   "cell_type": "markdown",
   "metadata": {},
   "source": [
    "Last, we will add the three Product blocks (P101, P102, P103). We use `Feed` blocks and `Product` blocks for convenience with reporting stream summaries and consistency"
   ]
  },
  {
   "cell_type": "code",
   "metadata": {
    "ExecuteTime": {
     "end_time": "2025-06-26T20:17:03.762882Z",
     "start_time": "2025-06-26T20:17:03.753179Z"
    }
   },
   "source": [
    "m.fs.P101 = Product(property_package=m.fs.thermo_params)\n",
    "\n",
    "m.fs.P102 = Product(property_package=m.fs.thermo_params)\n",
    "\n",
    "m.fs.P103 = Product(property_package=m.fs.thermo_params)"
   ],
   "outputs": [],
   "execution_count": 16
  },
  {
   "cell_type": "markdown",
   "metadata": {},
   "source": [
    "### 2.2 Connecting Unit Models using Arcs\n",
    "\n",
    "We have now added all the unit models we need to the flowsheet. However, we have not yet specified how the units are to be connected. To do this, we will be using the `Arc` which is a Pyomo component that takes in two arguments: `source` and `destination`. Let us connect the outlet of the inlets (I101, I102) to the inlet of the mixer (M101) and outlet of the mixer to the inlet of the heater(H101)."
   ]
  },
  {
   "cell_type": "markdown",
   "metadata": {},
   "source": [
    "![](HDA_flowsheet.png)"
   ]
  },
  {
   "cell_type": "code",
   "metadata": {
    "ExecuteTime": {
     "end_time": "2025-06-26T20:17:03.774984Z",
     "start_time": "2025-06-26T20:17:03.771782Z"
    }
   },
   "source": [
    "m.fs.s01 = Arc(source=m.fs.I101.outlet, destination=m.fs.M101.inlet_1)\n",
    "m.fs.s02 = Arc(source=m.fs.I102.outlet, destination=m.fs.M101.inlet_2)\n",
    "m.fs.s03 = Arc(source=m.fs.M101.outlet, destination=m.fs.H101.inlet)"
   ],
   "outputs": [],
   "execution_count": 17
  },
  {
   "cell_type": "markdown",
   "metadata": {
    "tags": [
     "exercise"
    ]
   },
   "source": [
    "<div class=\"alert alert-block alert-info\">\n",
    "<b>Inline Exercise:</b>\n",
    "Now, connect the H101 outlet to the R101 inlet using the cell above as a guide.\n",
    "</div>"
   ]
  },
  {
   "cell_type": "code",
   "metadata": {
    "tags": [
     "exercise"
    ],
    "ExecuteTime": {
     "end_time": "2025-06-26T20:17:03.788343Z",
     "start_time": "2025-06-26T20:17:03.786044Z"
    }
   },
   "source": [
    "# Todo: Connect the H101 outlet to R101 inlet"
   ],
   "outputs": [],
   "execution_count": 18
  },
  {
   "cell_type": "code",
   "metadata": {
    "tags": [
     "solution"
    ],
    "ExecuteTime": {
     "end_time": "2025-06-26T20:17:03.809066Z",
     "start_time": "2025-06-26T20:17:03.806273Z"
    }
   },
   "source": [
    "# Todo: Connect the H101 outlet to R101 inlet\n",
    "m.fs.s04 = Arc(source=m.fs.H101.outlet, destination=m.fs.R101.inlet)"
   ],
   "outputs": [],
   "execution_count": 19
  },
  {
   "cell_type": "markdown",
   "metadata": {},
   "source": [
    "We will now be connecting the rest of the flowsheet as shown below. Notice how the outlet names are different for the flash tanks F101 and F102 as they have a vapor and a liquid outlet. "
   ]
  },
  {
   "cell_type": "code",
   "metadata": {
    "ExecuteTime": {
     "end_time": "2025-06-26T20:17:03.832036Z",
     "start_time": "2025-06-26T20:17:03.827498Z"
    }
   },
   "source": [
    "m.fs.s05 = Arc(source=m.fs.R101.outlet, destination=m.fs.F101.inlet)\n",
    "m.fs.s06 = Arc(source=m.fs.F101.vap_outlet, destination=m.fs.S101.inlet)\n",
    "m.fs.s07 = Arc(source=m.fs.F101.liq_outlet, destination=m.fs.F102.inlet)\n",
    "m.fs.s08 = Arc(source=m.fs.S101.recycle, destination=m.fs.C101.inlet)\n",
    "m.fs.s09 = Arc(source=m.fs.C101.outlet, destination=m.fs.M101.inlet_3)"
   ],
   "outputs": [],
   "execution_count": 20
  },
  {
   "cell_type": "markdown",
   "metadata": {},
   "source": [
    "Last we will connect the outlet streams to the inlets of the Product blocks (P101, P102, P103)"
   ]
  },
  {
   "cell_type": "code",
   "metadata": {
    "ExecuteTime": {
     "end_time": "2025-06-26T20:17:03.870751Z",
     "start_time": "2025-06-26T20:17:03.867184Z"
    }
   },
   "source": [
    "m.fs.s10 = Arc(source=m.fs.F102.vap_outlet, destination=m.fs.P101.inlet)\n",
    "m.fs.s11 = Arc(source=m.fs.F102.liq_outlet, destination=m.fs.P102.inlet)\n",
    "m.fs.s12 = Arc(source=m.fs.S101.purge, destination=m.fs.P103.inlet)"
   ],
   "outputs": [],
   "execution_count": 21
  },
  {
   "cell_type": "markdown",
   "metadata": {},
   "source": [
    "We have now connected the unit model block using the arcs. However, each of these arcs link to ports on the two unit models that are connected. In this case, the ports consist of the state variables that need to be linked between the unit models. Pyomo provides a convenient method to write these equality constraints for us between two ports and this is done as follows:"
   ]
  },
  {
   "cell_type": "code",
   "metadata": {
    "ExecuteTime": {
     "end_time": "2025-06-26T20:17:03.930448Z",
     "start_time": "2025-06-26T20:17:03.908145Z"
    }
   },
   "source": [
    "TransformationFactory(\"network.expand_arcs\").apply_to(m)"
   ],
   "outputs": [],
   "execution_count": 22
  },
  {
   "cell_type": "markdown",
   "metadata": {},
   "source": [
    "### 2.3 Adding expressions to compute purity and operating costs\n",
    "\n",
    "In this section, we will add a few Expressions that allows us to evaluate the performance. Expressions provide a convenient way of calculating certain values that are a function of the variables defined in the model. For more details on Expressions, please refer to: https://pyomo.readthedocs.io/en/stable/explanation/modeling/network.html.\n",
    "\n",
    "For this flowsheet, we are interested in computing the purity of the product Benzene stream (i.e. the mole fraction) and the operating cost which is a sum of the cooling and heating cost. "
   ]
  },
  {
   "cell_type": "markdown",
   "metadata": {},
   "source": [
    "Let us first add an Expression to compute the mole fraction of benzene in the `vap_outlet` of F102 which is our product stream. Please note that the var flow_mol_phase_comp has the index - [time, phase, component]. As this is a steady-state flowsheet, the time index by default is 0. The valid phases are [\"Liq\", \"Vap\"]. Similarly the valid component list is [\"benzene\", \"toluene\", \"hydrogen\", \"methane\"]."
   ]
  },
  {
   "cell_type": "code",
   "metadata": {
    "ExecuteTime": {
     "end_time": "2025-06-26T20:17:03.948996Z",
     "start_time": "2025-06-26T20:17:03.945721Z"
    }
   },
   "source": [
    "m.fs.purity = Expression(\n",
    "    expr=m.fs.F102.vap_outlet.flow_mol_phase_comp[0, \"Vap\", \"benzene\"]\n",
    "    / (\n",
    "        m.fs.F102.vap_outlet.flow_mol_phase_comp[0, \"Vap\", \"benzene\"]\n",
    "        + m.fs.F102.vap_outlet.flow_mol_phase_comp[0, \"Vap\", \"toluene\"]\n",
    "    )\n",
    ")"
   ],
   "outputs": [],
   "execution_count": 23
  },
  {
   "cell_type": "markdown",
   "metadata": {},
   "source": [
    "Now, let us add an expression to compute the cooling cost assuming a cost of 0.212E-4 $/kW. Note that cooling utility is required for the reactor (R101) and the first flash (F101). "
   ]
  },
  {
   "cell_type": "code",
   "metadata": {
    "ExecuteTime": {
     "end_time": "2025-06-26T20:17:03.977346Z",
     "start_time": "2025-06-26T20:17:03.974044Z"
    }
   },
   "source": [
    "m.fs.cooling_cost = Expression(\n",
    "    expr=0.212e-7 * (-m.fs.F101.heat_duty[0]) + 0.212e-7 * (-m.fs.R101.heat_duty[0])\n",
    ")"
   ],
   "outputs": [],
   "execution_count": 24
  },
  {
   "cell_type": "markdown",
   "metadata": {},
   "source": [
    "\n",
    "Now, let us add an expression to compute the heating cost assuming the utility cost as follows:\n",
    "      <ul>\n",
    "         <li>2.2E-4 dollars/kW for H101</li>\n",
    "         <li>1.9E-4 dollars/kW for F102</li>\n",
    "      </ul>\n",
    "Note that the heat duty is in units of watt (J/s). "
   ]
  },
  {
   "cell_type": "code",
   "metadata": {
    "ExecuteTime": {
     "end_time": "2025-06-26T20:17:04.000678Z",
     "start_time": "2025-06-26T20:17:03.998071Z"
    }
   },
   "source": [
    "m.fs.heating_cost = Expression(\n",
    "    expr=2.2e-7 * m.fs.H101.heat_duty[0] + 1.9e-7 * m.fs.F102.heat_duty[0]\n",
    ")"
   ],
   "outputs": [],
   "execution_count": 25
  },
  {
   "cell_type": "markdown",
   "metadata": {},
   "source": [
    "Let us now add an expression to compute the total operating cost per year which is basically the sum of the cooling and heating cost we defined above. "
   ]
  },
  {
   "cell_type": "code",
   "metadata": {
    "ExecuteTime": {
     "end_time": "2025-06-26T20:17:04.039083Z",
     "start_time": "2025-06-26T20:17:04.036119Z"
    }
   },
   "source": [
    "m.fs.operating_cost = Expression(\n",
    "    expr=(3600 * 24 * 365 * (m.fs.heating_cost + m.fs.cooling_cost))\n",
    ")"
   ],
   "outputs": [],
   "execution_count": 26
  },
  {
   "cell_type": "markdown",
   "metadata": {},
   "source": [
    "## 3 Scaling the Model\n",
    "\n",
    "In this example, we will simply use the ``AutoScaler`` method to scale our model since this example is focused on introductory flowsheet building for a full process system.\n",
    "\n",
    "For more direct control, a manual, magnitude based approach can be used. If this method is chosen or appropriate, it is highly recommended to look at these documentation:\n",
    "- Scaling Toolbox https://idaes-pse.readthedocs.io/en/stable/reference_guides/scaling/scaling.html\n",
    "- Scaling Workshop https://idaes-examples.readthedocs.io/en/latest/docs/scaling/scaler_workshop_doc.html.\n",
    "\n",
    "In this example, we already imported the ``AutoScaler`` class in the beginning so we just create the ``autoscaler`` object and call the ``scale_model`` method on the model `m`."
   ]
  },
  {
   "cell_type": "code",
   "metadata": {
    "ExecuteTime": {
     "end_time": "2025-06-26T20:17:04.750407Z",
     "start_time": "2025-06-26T20:17:04.060666Z"
    }
   },
   "source": [
    "autoscaler = AutoScaler()\n",
    "autoscaler.scale_model(m)"
   ],
   "outputs": [
    {
     "name": "stdout",
     "output_type": "stream",
     "text": [
      "WARNING: model contains export suffix 'scaling_factor' that contains 2\n",
      "component keys that are not exported as part of the NL file.  Skipping.\n"
     ]
    }
   ],
   "execution_count": 27
  },
  {
   "cell_type": "markdown",
   "metadata": {},
   "source": [
    "## 4 Specifying the Model\n",
    "### 4.1 Fixing feed conditions\n",
    "\n",
    "Let us first check how many degrees of freedom exist for this flowsheet using the `degrees_of_freedom` tool we imported earlier. "
   ]
  },
  {
   "cell_type": "code",
   "metadata": {
    "ExecuteTime": {
     "end_time": "2025-06-26T20:17:04.782300Z",
     "start_time": "2025-06-26T20:17:04.758266Z"
    }
   },
   "source": [
    "print(degrees_of_freedom(m))"
   ],
   "outputs": [
    {
     "name": "stdout",
     "output_type": "stream",
     "text": [
      "29\n"
     ]
    }
   ],
   "execution_count": 28
  },
  {
   "cell_type": "code",
   "metadata": {
    "tags": [
     "testing"
    ],
    "ExecuteTime": {
     "end_time": "2025-06-26T20:17:04.810084Z",
     "start_time": "2025-06-26T20:17:04.786754Z"
    }
   },
   "source": [
    "# Check the degrees of freedom\n",
    "assert degrees_of_freedom(m) == 29"
   ],
   "outputs": [],
   "execution_count": 29
  },
  {
   "cell_type": "markdown",
   "metadata": {},
   "source": [
    "We will now be fixing the toluene feed (`I101`) stream to the conditions shown in the flowsheet above. Please note that though this is a pure toluene feed, the remaining components are still assigned a very small non-zero value to help with convergence and initializing."
   ]
  },
  {
   "cell_type": "code",
   "metadata": {
    "ExecuteTime": {
     "end_time": "2025-06-26T20:17:04.826906Z",
     "start_time": "2025-06-26T20:17:04.822382Z"
    }
   },
   "source": [
    "m.fs.I101.flow_mol_phase_comp[0, \"Vap\", \"benzene\"].fix(1e-5)\n",
    "m.fs.I101.flow_mol_phase_comp[0, \"Vap\", \"toluene\"].fix(1e-5)\n",
    "m.fs.I101.flow_mol_phase_comp[0, \"Vap\", \"hydrogen\"].fix(1e-5)\n",
    "m.fs.I101.flow_mol_phase_comp[0, \"Vap\", \"methane\"].fix(1e-5)\n",
    "m.fs.I101.flow_mol_phase_comp[0, \"Liq\", \"benzene\"].fix(1e-5)\n",
    "m.fs.I101.flow_mol_phase_comp[0, \"Liq\", \"toluene\"].fix(0.30)\n",
    "m.fs.I101.flow_mol_phase_comp[0, \"Liq\", \"hydrogen\"].fix(1e-5)\n",
    "m.fs.I101.flow_mol_phase_comp[0, \"Liq\", \"methane\"].fix(1e-5)\n",
    "m.fs.I101.temperature.fix(303.2)\n",
    "m.fs.I101.pressure.fix(350000)"
   ],
   "outputs": [],
   "execution_count": 30
  },
  {
   "cell_type": "markdown",
   "metadata": {},
   "source": [
    "\n",
    "Similarly, let us fix the hydrogen feed (`I102`) to the following conditions in the next cell:\n",
    "      <ul>\n",
    "         <li>F<sub>H2</sub> = 0.30 mol/s</li>\n",
    "         <li>F<sub>CH4</sub> = 0.02 mol/s</li>\n",
    "         <li>Remaining components = 1e-5 mol/s</li>\n",
    "         <li>T = 303.2 K</li>\n",
    "         <li>P = 350000 Pa</li>\n",
    "      </ul>\n",
    "\n"
   ]
  },
  {
   "cell_type": "code",
   "metadata": {
    "ExecuteTime": {
     "end_time": "2025-06-26T20:17:04.842149Z",
     "start_time": "2025-06-26T20:17:04.838049Z"
    }
   },
   "source": [
    "m.fs.I102.flow_mol_phase_comp[0, \"Vap\", \"benzene\"].fix(1e-5)\n",
    "m.fs.I102.flow_mol_phase_comp[0, \"Vap\", \"toluene\"].fix(1e-5)\n",
    "m.fs.I102.flow_mol_phase_comp[0, \"Vap\", \"hydrogen\"].fix(0.30)\n",
    "m.fs.I102.flow_mol_phase_comp[0, \"Vap\", \"methane\"].fix(0.02)\n",
    "m.fs.I102.flow_mol_phase_comp[0, \"Liq\", \"benzene\"].fix(1e-5)\n",
    "m.fs.I102.flow_mol_phase_comp[0, \"Liq\", \"toluene\"].fix(1e-5)\n",
    "m.fs.I102.flow_mol_phase_comp[0, \"Liq\", \"hydrogen\"].fix(1e-5)\n",
    "m.fs.I102.flow_mol_phase_comp[0, \"Liq\", \"methane\"].fix(1e-5)\n",
    "m.fs.I102.temperature.fix(303.2)\n",
    "m.fs.I102.pressure.fix(350000)"
   ],
   "outputs": [],
   "execution_count": 31
  },
  {
   "cell_type": "markdown",
   "metadata": {},
   "source": [
    "### 4.2 Fixing unit model specifications\n",
    "\n",
    "Now that we have fixed our inlet feed conditions, we will now be fixing the operating conditions for the unit models in the flowsheet. Let us set set the H101 outlet temperature to 600 K. "
   ]
  },
  {
   "cell_type": "code",
   "metadata": {
    "ExecuteTime": {
     "end_time": "2025-06-26T20:17:04.869153Z",
     "start_time": "2025-06-26T20:17:04.866639Z"
    }
   },
   "source": [
    "m.fs.H101.outlet.temperature.fix(600)"
   ],
   "outputs": [],
   "execution_count": 32
  },
  {
   "cell_type": "markdown",
   "metadata": {},
   "source": [
    "For the StoichiometricReactor, we have to define the conversion in terms of toluene. This requires us to create a new variable for specifying the conversion and adding a Constraint that defines the conversion with respect to toluene. The second degree of freedom for the reactor is to define the heat duty. In this case, let us assume the reactor to be adiabatic i.e. Q = 0. "
   ]
  },
  {
   "cell_type": "code",
   "metadata": {
    "ExecuteTime": {
     "end_time": "2025-06-26T20:17:04.897870Z",
     "start_time": "2025-06-26T20:17:04.892755Z"
    }
   },
   "source": [
    "m.fs.R101.conversion = Var(initialize=0.75, bounds=(0, 1))\n",
    "\n",
    "m.fs.R101.conv_constraint = Constraint(\n",
    "    expr=m.fs.R101.conversion * m.fs.R101.inlet.flow_mol_phase_comp[0, \"Vap\", \"toluene\"]\n",
    "    == (\n",
    "        m.fs.R101.inlet.flow_mol_phase_comp[0, \"Vap\", \"toluene\"]\n",
    "        - m.fs.R101.outlet.flow_mol_phase_comp[0, \"Vap\", \"toluene\"]\n",
    "    )\n",
    ")\n",
    "\n",
    "m.fs.R101.conversion.fix(0.75)\n",
    "m.fs.R101.heat_duty.fix(0)"
   ],
   "outputs": [],
   "execution_count": 33
  },
  {
   "cell_type": "markdown",
   "metadata": {},
   "source": [
    "The Flash conditions for F101 can be set as follows. "
   ]
  },
  {
   "cell_type": "code",
   "metadata": {
    "ExecuteTime": {
     "end_time": "2025-06-26T20:17:04.928993Z",
     "start_time": "2025-06-26T20:17:04.925962Z"
    }
   },
   "source": [
    "m.fs.F101.vap_outlet.temperature.fix(325.0)\n",
    "m.fs.F101.deltaP.fix(0)"
   ],
   "outputs": [],
   "execution_count": 34
  },
  {
   "cell_type": "markdown",
   "metadata": {
    "tags": [
     "exercise"
    ]
   },
   "source": [
    "<div class=\"alert alert-block alert-info\">\n",
    "<b>Inline Exercise:</b>\n",
    "Set the conditions for Flash F102 to the following conditions:\n",
    "      <ul>\n",
    "         <li>T = 375 K</li>\n",
    "         <li>deltaP = -200000</li>\n",
    "      </ul>\n",
    "\n",
    "Use Shift+Enter to run the cell once you have typed in your code. \n",
    "</div>"
   ]
  },
  {
   "cell_type": "code",
   "metadata": {
    "tags": [
     "exercise"
    ],
    "ExecuteTime": {
     "end_time": "2025-06-26T20:17:04.960513Z",
     "start_time": "2025-06-26T20:17:04.957441Z"
    }
   },
   "source": [
    "# Todo: Set conditions for Flash F102"
   ],
   "outputs": [],
   "execution_count": 35
  },
  {
   "cell_type": "code",
   "metadata": {
    "tags": [
     "solution"
    ],
    "ExecuteTime": {
     "end_time": "2025-06-26T20:17:04.983292Z",
     "start_time": "2025-06-26T20:17:04.979234Z"
    }
   },
   "source": [
    "m.fs.F102.vap_outlet.temperature.fix(375)\n",
    "m.fs.F102.deltaP.fix(-200000)"
   ],
   "outputs": [],
   "execution_count": 36
  },
  {
   "cell_type": "markdown",
   "metadata": {},
   "source": [
    "Let us fix the purge split fraction to 20% and the outlet pressure of the compressor is set to 350000 Pa. "
   ]
  },
  {
   "cell_type": "code",
   "metadata": {
    "ExecuteTime": {
     "end_time": "2025-06-26T20:17:05.010085Z",
     "start_time": "2025-06-26T20:17:05.007330Z"
    }
   },
   "source": [
    "m.fs.S101.split_fraction[0, \"purge\"].fix(0.2)\n",
    "m.fs.C101.outlet.pressure.fix(350000)"
   ],
   "outputs": [],
   "execution_count": 37
  },
  {
   "cell_type": "markdown",
   "metadata": {
    "tags": [
     "exercise"
    ]
   },
   "source": [
    "<div class=\"alert alert-block alert-info\">\n",
    "<b>Inline Exercise:</b>\n",
    "We have now defined all the feed conditions and the inputs required for the unit models. The system should now have 0 degrees of freedom i.e. should be a square problem. Please check that the degrees of freedom is 0. \n",
    "\n",
    "Use Shift+Enter to run the cell once you have typed in your code. \n",
    "</div>"
   ]
  },
  {
   "cell_type": "code",
   "metadata": {
    "tags": [
     "exercise"
    ],
    "ExecuteTime": {
     "end_time": "2025-06-26T20:17:05.029655Z",
     "start_time": "2025-06-26T20:17:05.025814Z"
    }
   },
   "source": [
    "# Todo: print the degrees of freedom"
   ],
   "outputs": [],
   "execution_count": 38
  },
  {
   "cell_type": "code",
   "metadata": {
    "tags": [
     "solution"
    ],
    "ExecuteTime": {
     "end_time": "2025-06-26T20:17:05.070096Z",
     "start_time": "2025-06-26T20:17:05.046307Z"
    }
   },
   "source": [
    "print(degrees_of_freedom(m))"
   ],
   "outputs": [
    {
     "name": "stdout",
     "output_type": "stream",
     "text": [
      "0\n"
     ]
    }
   ],
   "execution_count": 39
  },
  {
   "cell_type": "code",
   "metadata": {
    "tags": [
     "testing"
    ],
    "ExecuteTime": {
     "end_time": "2025-06-26T20:17:05.104838Z",
     "start_time": "2025-06-26T20:17:05.080097Z"
    }
   },
   "source": [
    "# Check the degrees of freedom\n",
    "assert degrees_of_freedom(m) == 0"
   ],
   "outputs": [],
   "execution_count": 40
  },
  {
   "cell_type": "code",
   "metadata": {
    "tags": [
     "noauto"
    ],
    "ExecuteTime": {
     "end_time": "2025-06-26T20:17:05.114892Z",
     "start_time": "2025-06-26T20:17:05.112840Z"
    }
   },
   "source": [],
   "outputs": [],
   "execution_count": null
  },
  {
   "cell_type": "markdown",
   "metadata": {},
   "source": [
    "## 5 Initializing the Model\n",
    "\n",
    "\n",
    "\n",
    "When a flowsheet contains a recycle loop, the outlet of a downstream unit becomes the inlet of an upstream unit, creating a cyclic dependency that prevents straightforward calculation of all stream conditions. The tear‐stream method is necessary because it “breaks” this loop: you select one recycle stream as the tear, assign it an initial guess, and then solve the rest of the flowsheet as if it were acyclic. Once the downstream units compute their outputs, you compare the calculated value of the torn stream to your initial guess and iteratively adjust until they coincide. Without tearing, the solver cannot establish a proper topological sequence or drive the recycle to convergence, making initialization—and ultimately steady‐state convergence—impossible.\n",
    "\n",
    "It is important to determine the tear stream for a flowsheet which will be demonstrated below.\n",
    "\n",
    "\n",
    "![](HDA_flowsheet.png)\n",
    "\n",
    "Currently, there are two methods of initializing a full flowsheet: using the sequential decomposition tool, or manually propagating through the flowsheet. Both methods will be shown.\n",
    "\n",
    "### 5.1 Sequential Decomposition\n",
    "\n",
    "This section will demonstrate how to use the built-in sequential decomposition tool to initialize our flowsheet. Sequential Decomposition is a tool from Pyomo where the documentation can be found here https://Pyomo.readthedocs.io/en/stable/explanation/modeling/network.html#sequential-decomposition\n"
   ]
  },
  {
   "cell_type": "markdown",
   "metadata": {},
   "source": [
    "Let us first create an object for the SequentialDecomposition and specify our options for this.  We can also create a graph for our flowsheet to determine the tear set and order."
   ]
  },
  {
   "cell_type": "code",
   "metadata": {
    "ExecuteTime": {
     "end_time": "2025-06-26T20:17:05.137429Z",
     "start_time": "2025-06-26T20:17:05.132086Z"
    }
   },
   "source": [
    "seq = SequentialDecomposition()\n",
    "seq.options.select_tear_method = \"heuristic\"\n",
    "seq.options.tear_method = \"Wegstein\"\n",
    "seq.options.iterLim = 3\n",
    "\n",
    "# Using the SD tool\n",
    "G = seq.create_graph(m)\n",
    "heuristic_tear_set = seq.tear_set_arcs(G, method=\"heuristic\")\n",
    "order = seq.calculation_order(G)"
   ],
   "outputs": [],
   "execution_count": 41
  },
  {
   "cell_type": "markdown",
   "metadata": {},
   "source": [
    "Which is the tear stream? Display tear set and order"
   ]
  },
  {
   "cell_type": "code",
   "metadata": {
    "ExecuteTime": {
     "end_time": "2025-06-26T20:17:05.151129Z",
     "start_time": "2025-06-26T20:17:05.147972Z"
    }
   },
   "source": [
    "for o in heuristic_tear_set:\n",
    "    print(o.name)"
   ],
   "outputs": [
    {
     "name": "stdout",
     "output_type": "stream",
     "text": [
      "fs.s03\n"
     ]
    }
   ],
   "execution_count": 42
  },
  {
   "cell_type": "markdown",
   "metadata": {},
   "source": [
    "What sequence did the SD tool determine to solve this flowsheet with the least number of tears? "
   ]
  },
  {
   "cell_type": "code",
   "metadata": {
    "scrolled": true,
    "ExecuteTime": {
     "end_time": "2025-06-26T20:17:05.173772Z",
     "start_time": "2025-06-26T20:17:05.170619Z"
    }
   },
   "source": [
    "for o in order:\n",
    "    print(o[0].name)"
   ],
   "outputs": [
    {
     "name": "stdout",
     "output_type": "stream",
     "text": [
      "fs.I101\n",
      "fs.R101\n",
      "fs.F101\n",
      "fs.S101\n",
      "fs.C101\n",
      "fs.M101\n"
     ]
    }
   ],
   "execution_count": 43
  },
  {
   "cell_type": "markdown",
   "metadata": {},
   "source": [
    " \n",
    "\n",
    "![](HDA_tear_stream.png) \n",
    "\n",
    "\n",
    "The SequentialDecomposition tool has determined that the tear stream is the mixer outlet. You can see this shown in the picture of the flowsheet above as the outlet of the mixer as the two lines crossing it identifying it as the tear stream. We will need to provide a reasonable guess for this."
   ]
  },
  {
   "cell_type": "code",
   "metadata": {
    "ExecuteTime": {
     "end_time": "2025-06-26T20:17:05.228588Z",
     "start_time": "2025-06-26T20:17:05.223424Z"
    }
   },
   "source": [
    "tear_guesses = {\n",
    "    \"flow_mol_phase_comp\": {\n",
    "        (0, \"Liq\", \"benzene\"): 1e-5,\n",
    "        (0, \"Liq\", \"toluene\"): 0.30,\n",
    "        (0, \"Liq\", \"methane\"): 1e-5,\n",
    "        (0, \"Liq\", \"hydrogen\"): 1e-5,\n",
    "        (0, \"Vap\", \"benzene\"): 1e-5,\n",
    "        (0, \"Vap\", \"toluene\"): 1e-5,\n",
    "        (0, \"Vap\", \"methane\"): 0.02,\n",
    "        (0, \"Vap\", \"hydrogen\"): 0.30,\n",
    "    },\n",
    "    \"temperature\": {0: 303},\n",
    "    \"pressure\": {0: 350000},\n",
    "}\n",
    "\n",
    "# Pass the tear_guess to the SD tool\n",
    "seq.set_guesses_for(m.fs.H101.inlet, tear_guesses)"
   ],
   "outputs": [],
   "execution_count": 44
  },
  {
   "cell_type": "markdown",
   "metadata": {},
   "source": [
    "Next, we need to tell the tool how to initialize a particular unit. We will be writing a python function which takes in a \"unit\" and calls the initialize method on that unit. "
   ]
  },
  {
   "cell_type": "code",
   "metadata": {
    "ExecuteTime": {
     "end_time": "2025-06-26T20:17:05.266556Z",
     "start_time": "2025-06-26T20:17:05.263086Z"
    }
   },
   "source": [
    "def function(unit):\n",
    "    try:\n",
    "        initializer = unit.default_initializer()\n",
    "        initializer.initialize(unit, output_level=idaeslog.INFO)\n",
    "    except InitializationError:\n",
    "        solver = get_solver()\n",
    "        solver.solve(unit)"
   ],
   "outputs": [],
   "execution_count": 45
  },
  {
   "cell_type": "markdown",
   "metadata": {},
   "source": [
    "We are now ready to initialize our flowsheet in a sequential mode. Note that we specifically set the iteration limit to be 5 as we are trying to use this tool only to get a good set of initial values such that IPOPT can then take over and solve this flowsheet for us. "
   ]
  },
  {
   "cell_type": "code",
   "metadata": {
    "ExecuteTime": {
     "end_time": "2025-06-26T20:17:05.283753Z",
     "start_time": "2025-06-26T20:17:05.281507Z"
    }
   },
   "source": [
    "# seq.run(m, function)"
   ],
   "outputs": [],
   "execution_count": 46
  },
  {
   "cell_type": "markdown",
   "metadata": {},
   "source": [
    "### 5.2 Manual Propagation Method\n",
    "\n",
    "This method uses a more direct approach to initialize the flowsheet, utilizing the updated initializer method and propagating manually through the flowsheet and solving for the tear stream directly.\n",
    "Lets first import a helper function that will help us manually propagate and step through the flowsheet"
   ]
  },
  {
   "cell_type": "code",
   "metadata": {
    "ExecuteTime": {
     "end_time": "2025-06-26T20:17:05.310090Z",
     "start_time": "2025-06-26T20:17:05.306928Z"
    }
   },
   "source": [
    "from idaes.core.util.initialization import propagate_state"
   ],
   "outputs": [],
   "execution_count": 47
  },
  {
   "cell_type": "markdown",
   "metadata": {},
   "source": [
    "Now we can setup our initial guesses for the tear stream which we know is the outlet of the `Mixer` or the inlet of the `Heater`. We can use the same initial guesses used in the first method. We also want to ensure that the degrees of freedom are consistent while we manually initialize the model.\n",
    "\n",
    "We will first ensure that are current degrees of freedom is still zero"
   ]
  },
  {
   "cell_type": "code",
   "metadata": {
    "ExecuteTime": {
     "end_time": "2025-06-26T20:17:05.352272Z",
     "start_time": "2025-06-26T20:17:05.329055Z"
    }
   },
   "source": [
    "print(f\"The DOF is {degrees_of_freedom(m)} initially\")"
   ],
   "outputs": [
    {
     "name": "stdout",
     "output_type": "stream",
     "text": [
      "The DOF is 0 initially\n"
     ]
    }
   ],
   "execution_count": 48
  },
  {
   "cell_type": "markdown",
   "metadata": {},
   "source": [
    "Now we can manually deactivate the tear stream, creating a separation between the `Mixer` and `Heater`. This should reduce the degrees of freedom by 10 since the inlet of the `Heater` now contains no values to solve the unit model. To deactivate a stream, simply use `m.fs.s03_expanded.deactivate()`. This expanded stream is just a different version of the `Arc` stream that is able to be deactivated."
   ]
  },
  {
   "cell_type": "code",
   "metadata": {
    "ExecuteTime": {
     "end_time": "2025-06-26T20:17:05.394094Z",
     "start_time": "2025-06-26T20:17:05.363031Z"
    }
   },
   "source": [
    "m.fs.s03_expanded.deactivate()\n",
    "\n",
    "print(f\"The DOF is {degrees_of_freedom(m)} after deactivating the tear stream\")"
   ],
   "outputs": [
    {
     "name": "stdout",
     "output_type": "stream",
     "text": [
      "The DOF is 10 after deactivating the tear stream\n"
     ]
    }
   ],
   "execution_count": 49
  },
  {
   "cell_type": "markdown",
   "metadata": {},
   "source": [
    "Now we can provide the `Heater` inlet 10 guess values to bring the degrees of freedom back to 0 and start the manual initialization process. We can run this convenient loop to assign each of these guesses to the inlet of the heater."
   ]
  },
  {
   "cell_type": "code",
   "metadata": {
    "ExecuteTime": {
     "end_time": "2025-06-26T20:17:05.473532Z",
     "start_time": "2025-06-26T20:17:05.422203Z"
    }
   },
   "source": [
    "tear_guesses = {\n",
    "    \"flow_mol_phase_comp\": {\n",
    "        (0, \"Liq\", \"benzene\"): 1e-5,\n",
    "        (0, \"Liq\", \"toluene\"): 0.30,\n",
    "        (0, \"Liq\", \"methane\"): 1e-5,\n",
    "        (0, \"Liq\", \"hydrogen\"): 1e-5,\n",
    "        (0, \"Vap\", \"benzene\"): 1e-5,\n",
    "        (0, \"Vap\", \"toluene\"): 1e-5,\n",
    "        (0, \"Vap\", \"methane\"): 0.5,\n",
    "        (0, \"Vap\", \"hydrogen\"): 0.5,\n",
    "    },\n",
    "    \"temperature\": {0: 303},\n",
    "    \"pressure\": {0: 350000},\n",
    "}\n",
    "\n",
    "for k, v in tear_guesses.items():\n",
    "    for k1, v1 in v.items():\n",
    "        getattr(m.fs.s03.destination, k)[k1].fix(v1)\n",
    "\n",
    "DOF_initial = degrees_of_freedom(m)\n",
    "print(f\"The DOF is {degrees_of_freedom(m)} after providing the initial guesses\")"
   ],
   "outputs": [
    {
     "name": "stdout",
     "output_type": "stream",
     "text": [
      "The DOF is 0 after providing the initial guesses\n"
     ]
    }
   ],
   "execution_count": 50
  },
  {
   "cell_type": "markdown",
   "metadata": {},
   "source": [
    "The next step is to manually initialize each unit model starting from the `Heater` and then propagate the connection between it and the next unit model. This manual process ensures a strict order to the user's specification if that is desired. The current standard for initializing a unit model is to use an initializer object most compatible for that unit model. This can most often be done by utilizing the `default_initializer()` method attached to the unit model and then to call the `initialize()` method with the unit model as the argument."
   ]
  },
  {
   "cell_type": "code",
   "metadata": {
    "ExecuteTime": {
     "end_time": "2025-06-26T20:17:07.120417Z",
     "start_time": "2025-06-26T20:17:05.497326Z"
    }
   },
   "source": [
    "m.fs.H101.default_initializer().initialize(m.fs.H101)  # Initialize Heater\n",
    "propagate_state(m.fs.s04)  # Establish connection between Heater and Reactor\n",
    "m.fs.R101.default_initializer().initialize(m.fs.R101)  # Initialize Reactor\n",
    "propagate_state(m.fs.s05)  # Establish connection between Reactor and First Flash Unit\n",
    "m.fs.F101.default_initializer().initialize(m.fs.F101)  # Initialize First Flash Unit\n",
    "propagate_state(m.fs.s06)  # Establish connection between First Flash Unit and Splitter\n",
    "propagate_state(\n",
    "    m.fs.s07\n",
    ")  # Establish connection between First Flash Unit and Second Flash Unit\n",
    "m.fs.S101.default_initializer().initialize(m.fs.S101)  # Initialize Splitter\n",
    "propagate_state(m.fs.s08)  # Establish connection between Splitter and Compressor\n",
    "m.fs.C101.default_initializer().initialize(m.fs.C101)  # Initialize Compressor\n",
    "propagate_state(m.fs.s09)  # Establish connection between Compressor and Mixer\n",
    "m.fs.I101.default_initializer().initialize(m.fs.I101)  # Initialize Toluene Inlet\n",
    "propagate_state(m.fs.s01)  # Establish connection between Toluene Inlet and Mixer\n",
    "m.fs.I102.default_initializer().initialize(m.fs.I102)  # Initialize Hydrogen Inlet\n",
    "propagate_state(m.fs.s02)  # Establish connection between Hydrogen Inlet and Mixer\n",
    "m.fs.M101.default_initializer().initialize(m.fs.M101)  # Initialize Mixer\n",
    "propagate_state(m.fs.s03)  # Establish connection between Mixer and Heater\n",
    "m.fs.F102.default_initializer().initialize(m.fs.F102)  # Initialize Second Flash Unit\n",
    "propagate_state(\n",
    "    m.fs.s10\n",
    ")  # Establish connection between Second Flash Unit and Benzene Product\n",
    "propagate_state(\n",
    "    m.fs.s11\n",
    ")  # Establish connection between Second Flash Unit and Toluene Product\n",
    "propagate_state(m.fs.s12)  # Establish connection between Splitter and Purge Product"
   ],
   "outputs": [
    {
     "name": "stdout",
     "output_type": "stream",
     "text": [
      "2025-06-26 13:17:05 [INFO] idaes.init.fs.H101.control_volume.properties_in: Initialization Complete\n",
      "2025-06-26 13:17:06 [INFO] idaes.init.fs.H101.control_volume.properties_out: Initialization Complete\n",
      "2025-06-26 13:17:06 [INFO] idaes.init.fs.R101.control_volume.properties_in: Initialization Complete\n",
      "2025-06-26 13:17:06 [INFO] idaes.init.fs.R101.control_volume.properties_out: Initialization Complete\n",
      "2025-06-26 13:17:06 [INFO] idaes.init.fs.F101.control_volume.properties_in: Initialization Complete\n",
      "2025-06-26 13:17:06 [INFO] idaes.init.fs.F101.control_volume.properties_out: Initialization Complete\n",
      "2025-06-26 13:17:06 [INFO] idaes.init.fs.S101.mixed_state: Initialization Complete\n",
      "2025-06-26 13:17:06 [INFO] idaes.init.fs.S101.purge_state: Initialization Complete\n",
      "2025-06-26 13:17:06 [INFO] idaes.init.fs.S101.recycle_state: Initialization Complete\n",
      "2025-06-26 13:17:06 [INFO] idaes.init.fs.S101: Initialization Step 2 Complete: optimal - <undefined>\n",
      "2025-06-26 13:17:06 [INFO] idaes.init.fs.C101.control_volume.properties_in: Initialization Complete\n",
      "2025-06-26 13:17:06 [INFO] idaes.init.fs.C101.control_volume.properties_out: Initialization Complete\n",
      "2025-06-26 13:17:06 [INFO] idaes.init.fs.I101.properties: Initialization Complete\n",
      "2025-06-26 13:17:06 [INFO] idaes.init.fs.I102.properties: Initialization Complete\n",
      "2025-06-26 13:17:06 [INFO] idaes.init.fs.M101.inlet_1_state: Initialization Complete\n",
      "2025-06-26 13:17:06 [INFO] idaes.init.fs.M101.inlet_2_state: Initialization Complete\n",
      "2025-06-26 13:17:06 [INFO] idaes.init.fs.M101.inlet_3_state: Initialization Complete\n",
      "2025-06-26 13:17:06 [INFO] idaes.init.fs.M101.mixed_state: Initialization Complete\n",
      "2025-06-26 13:17:06 [INFO] idaes.init.fs.M101: Initialization Complete: optimal - <undefined>\n",
      "2025-06-26 13:17:07 [INFO] idaes.init.fs.F102.control_volume.properties_in: Initialization Complete\n",
      "2025-06-26 13:17:07 [INFO] idaes.init.fs.F102.control_volume.properties_out: Initialization Complete\n"
     ]
    }
   ],
   "execution_count": 51
  },
  {
   "cell_type": "markdown",
   "metadata": {},
   "source": [
    "Now we solve the system to allow the outlet of the mixer to reach a converged congruence with the inlet of the heater."
   ]
  },
  {
   "cell_type": "code",
   "metadata": {
    "ExecuteTime": {
     "end_time": "2025-06-26T20:17:07.215113Z",
     "start_time": "2025-06-26T20:17:07.128960Z"
    }
   },
   "source": [
    "optarg = {\n",
    "    \"nlp_scaling_method\": \"user-scaling\",\n",
    "    \"OF_ma57_automatic_scaling\": \"yes\",\n",
    "    \"max_iter\": 300,\n",
    "    \"tol\": 1e-8,\n",
    "}\n",
    "solver = get_solver(options=optarg)\n",
    "results = solver.solve(m, tee=True)"
   ],
   "outputs": [
    {
     "name": "stdout",
     "output_type": "stream",
     "text": [
      "WARNING: model contains export suffix 'scaling_factor' that contains 40\n",
      "component keys that are not exported as part of the NL file.  Skipping.\n",
      "Ipopt 3.13.2: nlp_scaling_method=user-scaling\n",
      "tol=1e-08\n",
      "max_iter=300\n",
      "option_file_name=C:\\Users\\Tanner\\AppData\\Local\\Temp\\tmp1xkj7htw_ipopt.opt\n",
      "\n",
      "Using option file \"C:\\Users\\Tanner\\AppData\\Local\\Temp\\tmp1xkj7htw_ipopt.opt\".\n",
      "\n",
      "\n",
      "******************************************************************************\n",
      "This program contains Ipopt, a library for large-scale nonlinear optimization.\n",
      " Ipopt is released as open source code under the Eclipse Public License (EPL).\n",
      "         For more information visit http://projects.coin-or.org/Ipopt\n",
      "\n",
      "This version of Ipopt was compiled from source code available at\n",
      "    https://github.com/IDAES/Ipopt as part of the Institute for the Design of\n",
      "    Advanced Energy Systems Process Systems Engineering Framework (IDAES PSE\n",
      "    Framework) Copyright (c) 2018-2019. See https://github.com/IDAES/idaes-pse.\n",
      "\n",
      "This version of Ipopt was compiled using HSL, a collection of Fortran codes\n",
      "    for large-scale scientific computation.  All technical papers, sales and\n",
      "    publicity material resulting from use of the HSL codes within IPOPT must\n",
      "    contain the following acknowledgement:\n",
      "        HSL, a collection of Fortran codes for large-scale scientific\n",
      "        computation. See http://www.hsl.rl.ac.uk.\n",
      "******************************************************************************\n",
      "\n",
      "This is Ipopt version 3.13.2, running with linear solver ma27.\n",
      "\n",
      "Number of nonzeros in equality constraint Jacobian...:     1112\n",
      "Number of nonzeros in inequality constraint Jacobian.:        0\n",
      "Number of nonzeros in Lagrangian Hessian.............:      999\n",
      "\n",
      "Total number of variables............................:      380\n",
      "                     variables with only lower bounds:        0\n",
      "                variables with lower and upper bounds:      186\n",
      "                     variables with only upper bounds:        0\n",
      "Total number of equality constraints.................:      380\n",
      "Total number of inequality constraints...............:        0\n",
      "        inequality constraints with only lower bounds:        0\n",
      "   inequality constraints with lower and upper bounds:        0\n",
      "        inequality constraints with only upper bounds:        0\n",
      "\n",
      "iter    objective    inf_pr   inf_du lg(mu)  ||d||  lg(rg) alpha_du alpha_pr  ls\n",
      "   0  0.0000000e+00 8.67e+04 0.00e+00  -1.0 0.00e+00    -  0.00e+00 0.00e+00   0\n",
      "   1  0.0000000e+00 4.73e+04 4.13e+02  -1.0 2.97e+03    -  9.24e-01 1.40e-01h  1\n",
      "   2  0.0000000e+00 3.47e+04 1.79e+03  -1.0 4.13e+02    -  9.96e-01 4.70e-01h  1\n",
      "   3  0.0000000e+00 2.08e+04 1.61e+05  -1.0 2.22e+02    -  1.00e+00 5.03e-01h  1\n",
      "   4  0.0000000e+00 3.88e+03 2.20e+09  -1.0 1.09e+02    -  1.00e+00 9.80e-01h  1\n",
      "   5  0.0000000e+00 2.07e+03 3.77e+08  -1.0 1.71e+02    -  1.00e+00 4.67e-01h  2\n",
      "   6  0.0000000e+00 1.36e+02 2.14e+09  -1.0 9.39e+01    -  1.00e+00 9.62e-01h  1\n",
      "   7  0.0000000e+00 3.87e+01 6.04e+08  -1.0 4.82e+00    -  1.00e+00 1.00e+00h  1\n",
      "   8  0.0000000e+00 1.46e-02 3.71e+05  -1.0 5.17e-03    -  1.00e+00 1.00e+00h  1\n",
      "   9  0.0000000e+00 3.73e-08 7.83e-02  -1.0 5.17e-09    -  1.00e+00 1.00e+00h  1\n",
      "\n",
      "Number of Iterations....: 9\n",
      "\n",
      "                                   (scaled)                 (unscaled)\n",
      "Objective...............:   0.0000000000000000e+00    0.0000000000000000e+00\n",
      "Dual infeasibility......:   0.0000000000000000e+00    0.0000000000000000e+00\n",
      "Constraint violation....:   2.0579515874459978e-11    3.7252902984619141e-08\n",
      "Complementarity.........:   0.0000000000000000e+00    0.0000000000000000e+00\n",
      "Overall NLP error.......:   2.0579515874459978e-11    3.7252902984619141e-08\n",
      "\n",
      "\n",
      "Number of objective function evaluations             = 12\n",
      "Number of objective gradient evaluations             = 10\n",
      "Number of equality constraint evaluations            = 12\n",
      "Number of inequality constraint evaluations          = 0\n",
      "Number of equality constraint Jacobian evaluations   = 10\n",
      "Number of inequality constraint Jacobian evaluations = 0\n",
      "Number of Lagrangian Hessian evaluations             = 9\n",
      "Total CPU secs in IPOPT (w/o function evaluations)   =      0.010\n",
      "Total CPU secs in NLP function evaluations           =      0.000\n",
      "\n",
      "EXIT: Optimal Solution Found.\n"
     ]
    }
   ],
   "execution_count": 52
  },
  {
   "cell_type": "markdown",
   "metadata": {},
   "source": [
    "Now that the flowsheet is initialized, we can unfix the guesses for the `Heater` and reactive the tear stream to complete the final solve."
   ]
  },
  {
   "cell_type": "code",
   "metadata": {
    "ExecuteTime": {
     "end_time": "2025-06-26T20:17:07.250825Z",
     "start_time": "2025-06-26T20:17:07.225571Z"
    }
   },
   "source": [
    "for k, v in tear_guesses.items():\n",
    "    for k1, v1 in v.items():\n",
    "        getattr(m.fs.H101.inlet, k)[k1].unfix()\n",
    "\n",
    "m.fs.s03_expanded.activate()\n",
    "print(\n",
    "    f\"The DOF is {degrees_of_freedom(m)} after unfixing the values and reactivating the tear stream\"\n",
    ")"
   ],
   "outputs": [
    {
     "name": "stdout",
     "output_type": "stream",
     "text": [
      "The DOF is 0 after unfixing the values and reactivating the tear stream\n"
     ]
    }
   ],
   "execution_count": 53
  },
  {
   "cell_type": "markdown",
   "metadata": {},
   "source": [
    "## 6 Solving the Model"
   ]
  },
  {
   "cell_type": "markdown",
   "metadata": {
    "tags": []
   },
   "source": [
    "We have now initialized the flowsheet. Lets set up some solving options before simulating the flowsheet. We want to specify the scaling method, number of iterations, and tolerance. More specific or advanced options can be found at the documentation for IPOPT https://coin-or.github.io/Ipopt/OPTIONS.html"
   ]
  },
  {
   "cell_type": "code",
   "metadata": {
    "ExecuteTime": {
     "end_time": "2025-06-26T20:17:07.264286Z",
     "start_time": "2025-06-26T20:17:07.261233Z"
    }
   },
   "source": [
    "optarg = {\n",
    "    \"nlp_scaling_method\": \"user-scaling\",\n",
    "    \"OF_ma57_automatic_scaling\": \"yes\",\n",
    "    \"max_iter\": 1000,\n",
    "    \"tol\": 1e-8,\n",
    "}"
   ],
   "outputs": [],
   "execution_count": 54
  },
  {
   "cell_type": "markdown",
   "metadata": {
    "tags": [
     "exercise"
    ]
   },
   "source": [
    "<div class=\"alert alert-block alert-info\">\n",
    "<b>Inline Exercise:</b>\n",
    "Let us run the flowsheet in a simulation mode to look at the results. To do this, complete the last line of code where we pass the model to the solver. You will need to type the following:\n",
    "\n",
    "solver = get_solver(solver_options=optarg)<br>\n",
    "results = solver.solve(m, tee=True)\n",
    "\n",
    "Use Shift+Enter to run the cell once you have typed in your code.\n",
    "</div>\n"
   ]
  },
  {
   "cell_type": "code",
   "metadata": {
    "tags": [
     "exercise"
    ],
    "ExecuteTime": {
     "end_time": "2025-06-26T20:17:07.289757Z",
     "start_time": "2025-06-26T20:17:07.286635Z"
    }
   },
   "source": [
    "# Create the solver object\n",
    "\n",
    "# Solve the model"
   ],
   "outputs": [],
   "execution_count": 55
  },
  {
   "cell_type": "code",
   "metadata": {
    "tags": [
     "solution"
    ],
    "ExecuteTime": {
     "end_time": "2025-06-26T20:17:07.696793Z",
     "start_time": "2025-06-26T20:17:07.319999Z"
    }
   },
   "source": [
    "# Create the solver object\n",
    "solver = get_solver(solver_options=optarg)\n",
    "\n",
    "# Solve the model\n",
    "results = solver.solve(m, tee=True)"
   ],
   "outputs": [
    {
     "name": "stdout",
     "output_type": "stream",
     "text": [
      "WARNING: model contains export suffix 'scaling_factor' that contains 30\n",
      "component keys that are not exported as part of the NL file.  Skipping.\n",
      "Ipopt 3.13.2: nlp_scaling_method=user-scaling\n",
      "tol=1e-08\n",
      "max_iter=1000\n",
      "option_file_name=C:\\Users\\Tanner\\AppData\\Local\\Temp\\tmp4mgrdyp8_ipopt.opt\n",
      "\n",
      "Using option file \"C:\\Users\\Tanner\\AppData\\Local\\Temp\\tmp4mgrdyp8_ipopt.opt\".\n",
      "\n",
      "\n",
      "******************************************************************************\n",
      "This program contains Ipopt, a library for large-scale nonlinear optimization.\n",
      " Ipopt is released as open source code under the Eclipse Public License (EPL).\n",
      "         For more information visit http://projects.coin-or.org/Ipopt\n",
      "\n",
      "This version of Ipopt was compiled from source code available at\n",
      "    https://github.com/IDAES/Ipopt as part of the Institute for the Design of\n",
      "    Advanced Energy Systems Process Systems Engineering Framework (IDAES PSE\n",
      "    Framework) Copyright (c) 2018-2019. See https://github.com/IDAES/idaes-pse.\n",
      "\n",
      "This version of Ipopt was compiled using HSL, a collection of Fortran codes\n",
      "    for large-scale scientific computation.  All technical papers, sales and\n",
      "    publicity material resulting from use of the HSL codes within IPOPT must\n",
      "    contain the following acknowledgement:\n",
      "        HSL, a collection of Fortran codes for large-scale scientific\n",
      "        computation. See http://www.hsl.rl.ac.uk.\n",
      "******************************************************************************\n",
      "\n",
      "This is Ipopt version 3.13.2, running with linear solver ma27.\n",
      "\n",
      "Number of nonzeros in equality constraint Jacobian...:     1163\n",
      "Number of nonzeros in inequality constraint Jacobian.:        0\n",
      "Number of nonzeros in Lagrangian Hessian.............:     1062\n",
      "\n",
      "Total number of variables............................:      390\n",
      "                     variables with only lower bounds:        0\n",
      "                variables with lower and upper bounds:      196\n",
      "                     variables with only upper bounds:        0\n",
      "Total number of equality constraints.................:      390\n",
      "Total number of inequality constraints...............:        0\n",
      "        inequality constraints with only lower bounds:        0\n",
      "   inequality constraints with lower and upper bounds:        0\n",
      "        inequality constraints with only upper bounds:        0\n",
      "\n",
      "iter    objective    inf_pr   inf_du lg(mu)  ||d||  lg(rg) alpha_du alpha_pr  ls\n",
      "   0  0.0000000e+00 8.67e+04 0.00e+00  -1.0 0.00e+00    -  0.00e+00 0.00e+00   0\n",
      "   1  0.0000000e+00 7.60e+04 9.94e+02  -1.0 1.40e+04    -  2.13e-02 3.48e-02h  1\n",
      "   2  0.0000000e+00 5.95e+04 6.95e+03  -1.0 1.61e+04    -  3.13e-01 2.14e-02h  1\n",
      "   3  0.0000000e+00 5.61e+04 6.09e+05  -1.0 1.49e+04    -  2.24e-01 1.97e-03h  1\n",
      "   4  0.0000000e+00 5.61e+04 1.49e+08  -1.0 1.47e+04    -  2.03e-01 1.16e-05h  2\n",
      "   5r 0.0000000e+00 5.61e+04 1.00e+03   0.1 0.00e+00    -  0.00e+00 3.65e-07R  6\n",
      "   6r 0.0000000e+00 8.49e+04 9.54e+03   0.1 1.13e+03    -  2.61e-04 1.22e-03f  1\n",
      "   7r 0.0000000e+00 8.45e+04 1.07e+04   0.1 8.37e+02    -  1.35e-03 1.15e-03f  1\n",
      "   8r 0.0000000e+00 8.55e+04 9.03e+03   0.1 5.92e+02    -  3.94e-03 4.57e-03f  1\n",
      "   9r 0.0000000e+00 8.66e+04 1.26e+04   0.1 2.01e+02    -  1.12e-02 9.36e-03f  1\n",
      "iter    objective    inf_pr   inf_du lg(mu)  ||d||  lg(rg) alpha_du alpha_pr  ls\n",
      "  10r 0.0000000e+00 8.68e+04 1.27e+04   0.1 2.05e+02    -  3.33e-02 1.85e-02f  1\n",
      "  11r 0.0000000e+00 8.54e+04 1.53e+04   0.1 3.02e+02    -  5.49e-02 4.32e-02f  1\n",
      "  12r 0.0000000e+00 1.34e+05 3.94e+03   0.1 2.99e+02    -  1.78e-01 6.41e-02f  1\n",
      "  13r 0.0000000e+00 2.25e+05 1.12e+04   0.1 1.07e+01    -  2.06e-01 1.82e-01f  1\n",
      "  14r 0.0000000e+00 2.75e+05 7.72e+03   0.1 6.66e+00    -  4.10e-01 4.96e-01f  1\n",
      "  15r 0.0000000e+00 3.07e+06 5.98e+03   0.1 9.95e+00    -  2.39e-01 8.98e-01f  1\n",
      "  16r 0.0000000e+00 5.95e+05 2.87e+03   0.1 6.81e+00    -  6.20e-01 1.00e+00f  1\n",
      "  17r 0.0000000e+00 5.41e+05 3.10e+07   0.1 3.06e+00   2.0 6.95e-01 1.00e+00f  1\n",
      "  18r 0.0000000e+00 2.82e+06 1.25e+07   0.1 1.67e+01    -  5.36e-01 5.96e-01f  1\n",
      "  19r 0.0000000e+00 5.52e+04 2.79e+03   0.1 1.55e+01    -  1.00e+00 1.00e+00f  1\n",
      "iter    objective    inf_pr   inf_du lg(mu)  ||d||  lg(rg) alpha_du alpha_pr  ls\n",
      "  20r 0.0000000e+00 4.83e+04 1.35e+02   0.1 6.33e+00    -  1.00e+00 1.00e+00H  1\n",
      "  21r 0.0000000e+00 4.83e+04 3.81e+00   0.1 1.45e+00    -  1.00e+00 1.00e+00H  1\n",
      "  22r 0.0000000e+00 1.42e+05 9.56e+02  -1.3 1.01e+01    -  9.12e-01 5.38e-01f  1\n",
      "  23r 0.0000000e+00 7.36e+04 6.87e+02  -1.3 5.78e+01    -  1.00e+00 6.19e-01f  1\n",
      "  24r 0.0000000e+00 1.40e+04 1.55e+02  -1.3 3.64e+01    -  1.00e+00 9.27e-01f  1\n",
      "  25r 0.0000000e+00 7.49e+03 8.20e+02  -1.3 9.10e-03   1.5 5.98e-01 1.00e+00f  1\n",
      "  26r 0.0000000e+00 7.63e+03 2.36e+01  -1.3 6.03e-03   1.0 1.00e+00 1.00e+00h  1\n",
      "  27r 0.0000000e+00 7.80e+03 6.01e+01  -1.3 4.10e+00    -  1.00e+00 1.00e+00h  1\n",
      "  28r 0.0000000e+00 7.81e+03 6.15e-01  -1.3 1.56e-01    -  1.00e+00 1.00e+00h  1\n",
      "  29r 0.0000000e+00 1.93e+04 4.65e+02  -2.0 3.57e+00    -  8.79e-01 9.94e-01f  1\n",
      "iter    objective    inf_pr   inf_du lg(mu)  ||d||  lg(rg) alpha_du alpha_pr  ls\n",
      "  30r 0.0000000e+00 1.52e+04 1.38e+01  -2.0 1.98e-02   0.6 1.00e+00 1.00e+00h  1\n",
      "  31r 0.0000000e+00 9.33e+03 6.58e-01  -2.0 5.30e-02   0.1 1.00e+00 1.00e+00h  1\n",
      "  32r 0.0000000e+00 8.48e+03 6.52e-02  -2.0 1.58e-01  -0.4 1.00e+00 1.00e+00h  1\n",
      "  33r 0.0000000e+00 8.55e+03 3.58e+01  -3.0 4.72e-01  -0.9 8.63e-01 8.67e-01f  1\n",
      "  34r 0.0000000e+00 8.52e+03 1.66e+02  -3.0 2.21e+00  -1.3 1.00e+00 1.00e+00f  1\n",
      "  35r 0.0000000e+00 1.11e+05 4.09e+03  -3.0 5.09e+02    -  4.37e-01 1.06e-01f  1\n",
      "  36r 0.0000000e+00 8.12e+03 1.38e+03  -3.0 1.15e-02   0.9 8.34e-01 2.73e-01h  1\n",
      "  37r 0.0000000e+00 8.08e+03 3.10e+03  -3.0 4.55e+02    -  7.85e-01 1.99e-02f  1\n",
      "  38r 0.0000000e+00 3.10e+04 6.81e+02  -3.0 3.03e-02   0.4 6.77e-01 1.00e+00h  1\n",
      "  39r 0.0000000e+00 3.75e+04 1.12e+03  -3.0 4.46e+02    -  4.37e-01 1.48e-01f  1\n",
      "iter    objective    inf_pr   inf_du lg(mu)  ||d||  lg(rg) alpha_du alpha_pr  ls\n",
      "  40r 0.0000000e+00 7.80e+03 5.24e+02  -3.0 2.79e-02  -0.1 4.75e-01 1.00e+00h  1\n",
      "  41r 0.0000000e+00 2.73e+04 9.04e+02  -3.0 3.81e+02    -  7.50e-01 2.89e-01f  1\n",
      "  42r 0.0000000e+00 1.22e+05 1.82e+02  -3.0 2.70e+02    -  9.14e-01 1.00e+00f  1\n",
      "  43r 0.0000000e+00 1.32e+04 8.10e+00  -3.0 1.88e+00    -  1.00e+00 1.00e+00h  1\n",
      "  44r 0.0000000e+00 6.37e+03 6.48e-02  -3.0 6.26e-01    -  1.00e+00 1.00e+00h  1\n",
      "  45r 0.0000000e+00 6.37e+03 4.22e-05  -3.0 5.86e-02    -  1.00e+00 1.00e+00h  1\n",
      "  46r 0.0000000e+00 6.36e+03 5.53e+01  -6.8 1.94e+00    -  8.53e-01 8.35e-01f  1\n",
      "  47r 0.0000000e+00 5.83e+03 6.40e+02  -6.8 4.62e+04    -  6.58e-01 2.50e-02f  1\n",
      "  48r 0.0000000e+00 5.66e+03 6.33e+02  -6.8 4.64e+04    -  9.35e-06 7.76e-03f  1\n",
      "  49r 0.0000000e+00 5.66e+03 6.33e+02  -6.8 4.47e+04    -  2.09e-09 2.12e-05f  1\n",
      "iter    objective    inf_pr   inf_du lg(mu)  ||d||  lg(rg) alpha_du alpha_pr  ls\n",
      "  50r 0.0000000e+00 5.66e+03 6.33e+02  -6.8 4.67e+04    -  5.33e-07 1.85e-04f  1\n",
      "  51r 0.0000000e+00 5.66e+03 6.33e+02  -6.8 4.47e+04    -  1.89e-06 5.75e-05f  1\n",
      "  52r 0.0000000e+00 5.66e+03 6.33e+02  -6.8 4.62e+04    -  2.56e-06 2.01e-05f  1\n",
      "  53r 0.0000000e+00 5.66e+03 8.24e+02  -6.8 4.45e+04    -  7.89e-01 2.33e-06f  1\n",
      "  54r 0.0000000e+00 5.62e+03 8.31e+02  -6.8 2.03e+04    -  6.75e-01 2.38e-03f  1\n",
      "  55r 0.0000000e+00 3.80e+05 4.94e+02  -6.8 2.02e+04    -  8.17e-01 3.20e-01f  1\n",
      "  56r 0.0000000e+00 3.61e+05 4.70e+02  -6.8 8.06e+03    -  4.92e-01 4.86e-02f  1\n",
      "  57r 0.0000000e+00 3.06e+05 5.51e+02  -6.8 7.95e+03    -  1.00e+00 7.27e-01f  1\n",
      "  58r 0.0000000e+00 2.42e+05 3.80e+02  -6.8 5.98e+03    -  2.07e-02 3.59e-01h  1\n",
      "  59r 0.0000000e+00 2.42e+05 3.80e+02  -6.8 3.44e+03    -  0.00e+00 3.94e-07R  2\n",
      "iter    objective    inf_pr   inf_du lg(mu)  ||d||  lg(rg) alpha_du alpha_pr  ls\n",
      "  60r 0.0000000e+00 1.78e+05 6.03e+02  -6.8 4.37e-01  -0.5 4.32e-01 2.67e-01f  1\n",
      "  61r 0.0000000e+00 1.13e+05 5.24e+02  -6.8 1.69e+00  -1.0 1.04e-03 3.69e-01f  1\n",
      "  62r 0.0000000e+00 1.13e+05 4.74e+02  -6.8 5.74e-01  -1.5 1.85e-01 2.82e-03f  1\n",
      "  63r 0.0000000e+00 1.13e+05 6.65e+02  -6.8 1.14e+01  -2.0 1.45e-01 4.86e-06f  1\n",
      "  64r 0.0000000e+00 9.04e+04 1.05e+03  -6.8 9.82e+00  -2.4 4.47e-01 1.98e-01f  1\n",
      "  65r 0.0000000e+00 9.73e+04 2.23e+03  -6.8 4.15e+04    -  2.64e-02 2.25e-02f  1\n",
      "  66r 0.0000000e+00 9.70e+04 2.19e+03  -6.8 2.35e+01  -2.9 2.59e-08 3.35e-03f  1\n",
      "  67r 0.0000000e+00 9.67e+04 2.35e+03  -6.8 9.17e+00  -3.4 7.85e-03 3.49e-03f  1\n",
      "  68r 0.0000000e+00 9.64e+04 2.59e+03  -6.8 3.25e+00  -3.9 1.46e-02 2.50e-03f  1\n",
      "  69r 0.0000000e+00 9.46e+04 2.55e+03  -6.8 9.75e+00  -4.4 3.24e-03 1.89e-02f  1\n",
      "iter    objective    inf_pr   inf_du lg(mu)  ||d||  lg(rg) alpha_du alpha_pr  ls\n",
      "  70r 0.0000000e+00 9.44e+04 3.58e+03  -6.8 3.03e+04    -  2.51e-03 3.04e-03f  1\n",
      "  71r 0.0000000e+00 9.44e+04 3.58e+03  -6.8 2.23e+02  -4.8 2.06e-08 4.19e-06f  1\n",
      "  72r 0.0000000e+00 9.44e+04 3.58e+03  -6.8 1.58e+04    -  2.25e-07 5.97e-07f  1\n",
      "  73r 0.0000000e+00 9.44e+04 3.77e+03  -6.8 1.93e+03  -5.3 9.48e-04 5.00e-06f  1\n",
      "  74r 0.0000000e+00 9.39e+04 3.76e+03  -6.8 2.44e+03    -  3.17e-03 4.55e-03f  1\n",
      "  75r 0.0000000e+00 9.33e+04 5.36e+03  -6.8 2.41e+03    -  6.76e-02 7.47e-03f  1\n",
      "  76r 0.0000000e+00 8.99e+04 5.27e+03  -6.8 2.38e+03    -  3.77e-02 3.65e-02f  1\n",
      "  77r 0.0000000e+00 6.19e+04 5.51e+03  -6.8 2.21e+03    -  2.42e-01 3.97e-01f  1\n",
      "  78r 0.0000000e+00 1.88e+04 2.51e+03  -6.8 1.05e+03    -  6.24e-01 7.35e-01f  1\n",
      "  79r 0.0000000e+00 1.88e+04 1.05e+03  -6.8 5.33e+02    -  6.28e-01 6.39e-04f  1\n",
      "iter    objective    inf_pr   inf_du lg(mu)  ||d||  lg(rg) alpha_du alpha_pr  ls\n",
      "  80r 0.0000000e+00 1.81e+04 1.33e+03  -6.8 5.33e+02    -  1.61e-01 3.85e-02f  1\n",
      "  81r 0.0000000e+00 1.30e+04 8.88e+02  -6.8 5.12e+02    -  3.53e-01 2.85e-01f  1\n",
      "  82r 0.0000000e+00 9.29e+02 6.86e+02  -6.8 3.66e+02    -  1.77e-01 9.58e-01f  1\n",
      "  83r 0.0000000e+00 6.16e+00 5.32e+02  -6.8 2.15e+01    -  1.39e-01 9.98e-01f  1\n",
      "  84r 0.0000000e+00 6.02e+00 5.20e+02  -6.8 2.41e+00    -  1.22e-02 2.30e-02h  1\n",
      "  85r 0.0000000e+00 5.97e+00 8.56e+02  -6.8 8.89e-01    -  1.00e+00 8.65e-03f  1\n",
      "  86r 0.0000000e+00 1.86e-01 1.05e-02  -6.8 2.28e-01    -  1.00e+00 1.00e+00f  1\n",
      "  87r 0.0000000e+00 8.17e-02 1.14e-08  -6.8 2.65e-05    -  1.00e+00 1.00e+00h  1\n",
      "  88r 0.0000000e+00 8.17e-02 2.77e-01  -9.0 2.35e-03    -  1.00e+00 9.86e-01f  1\n",
      "  89r 0.0000000e+00 9.32e+04 1.22e+02  -9.0 8.44e+03    -  2.04e-01 3.79e-01f  1\n",
      "iter    objective    inf_pr   inf_du lg(mu)  ||d||  lg(rg) alpha_du alpha_pr  ls\n",
      "  90r 0.0000000e+00 6.57e+03 3.47e+01  -9.0 7.94e+02    -  1.00e+00 1.00e+00h  1\n",
      "  91r 0.0000000e+00 4.97e+03 6.57e+01  -9.0 9.04e+02    -  1.00e+00 4.54e-01h  2\n",
      "  92r 0.0000000e+00 3.57e+03 4.95e+01  -9.0 6.55e+02    -  1.00e+00 4.92e-01h  2\n",
      "  93r 0.0000000e+00 5.50e+03 1.48e+01  -9.0 3.71e+02    -  1.00e+00 1.00e+00h  1\n",
      "  94r 0.0000000e+00 6.99e+02 7.05e+00  -9.0 7.16e+00    -  1.00e+00 4.90e-01h  2\n",
      "  95r 0.0000000e+00 9.09e+03 2.36e+01  -9.0 3.44e+00    -  1.00e+00 1.00e+00h  1\n",
      "  96r 0.0000000e+00 3.02e+03 8.85e+00  -9.0 3.32e-02    -  1.00e+00 9.20e-01h  1\n",
      "  97r 0.0000000e+00 4.13e+01 1.81e-01  -9.0 7.94e-04    -  1.00e+00 1.00e+00h  1\n",
      "  98r 0.0000000e+00 9.18e-03 6.71e-05  -9.0 8.29e-06    -  1.00e+00 1.00e+00h  1\n",
      "  99r 0.0000000e+00 7.64e-06 7.98e-09  -9.0 5.10e-09    -  1.00e+00 1.00e+00h  1\n",
      "\n",
      "Number of Iterations....: 99\n",
      "\n",
      "                                   (scaled)                 (unscaled)\n",
      "Objective...............:   0.0000000000000000e+00    0.0000000000000000e+00\n",
      "Dual infeasibility......:   0.0000000000000000e+00    0.0000000000000000e+00\n",
      "Constraint violation....:   2.0579515874459978e-11    7.6442956924438477e-06\n",
      "Complementarity.........:   0.0000000000000000e+00    0.0000000000000000e+00\n",
      "Overall NLP error.......:   2.0579515874459978e-11    7.6442956924438477e-06\n",
      "\n",
      "\n",
      "Number of objective function evaluations             = 122\n",
      "Number of objective gradient evaluations             = 7\n",
      "Number of equality constraint evaluations            = 123\n",
      "Number of inequality constraint evaluations          = 0\n",
      "Number of equality constraint Jacobian evaluations   = 102\n",
      "Number of inequality constraint Jacobian evaluations = 0\n",
      "Number of Lagrangian Hessian evaluations             = 99\n",
      "Total CPU secs in IPOPT (w/o function evaluations)   =      0.200\n",
      "Total CPU secs in NLP function evaluations           =      0.008\n",
      "\n",
      "EXIT: Optimal Solution Found.\n"
     ]
    }
   ],
   "execution_count": 56
  },
  {
   "cell_type": "code",
   "metadata": {
    "tags": [
     "testing"
    ],
    "ExecuteTime": {
     "end_time": "2025-06-26T20:17:07.713878Z",
     "start_time": "2025-06-26T20:17:07.711084Z"
    }
   },
   "source": [
    "# Check solver solve status\n",
    "from pyomo.environ import TerminationCondition\n",
    "\n",
    "assert results.solver.termination_condition == TerminationCondition.optimal"
   ],
   "outputs": [],
   "execution_count": 57
  },
  {
   "cell_type": "markdown",
   "metadata": {},
   "source": [
    "## 7 Analyze the results\n",
    "\n",
    "\n"
   ]
  },
  {
   "cell_type": "markdown",
   "metadata": {},
   "source": [
    "If the IDAES UI package was installed with the `idaes-pse` installation or installed separately, you can run the flowsheet visualizer to see a full diagram of the full process that is generated and displayed on a browser window.\n"
   ]
  },
  {
   "cell_type": "code",
   "metadata": {
    "tags": [
     "noauto"
    ],
    "ExecuteTime": {
     "end_time": "2025-06-26T20:17:07.732008Z",
     "start_time": "2025-06-26T20:17:07.728387Z"
    }
   },
   "source": [
    "# m.fs.visualize(\"HDA-Flowsheet\")"
   ],
   "outputs": [],
   "execution_count": 58
  },
  {
   "cell_type": "markdown",
   "metadata": {},
   "source": [
    "Otherwise, we can run the `m.fs.report()` method to see a full summary of the solved flowsheet. It is recommended to adjust the width of the output as much as possible for the cleanest display."
   ]
  },
  {
   "cell_type": "code",
   "metadata": {
    "ExecuteTime": {
     "end_time": "2025-06-26T20:17:07.863289Z",
     "start_time": "2025-06-26T20:17:07.761385Z"
    }
   },
   "source": [
    "m.fs.report()"
   ],
   "outputs": [
    {
     "name": "stdout",
     "output_type": "stream",
     "text": [
      "\n",
      "====================================================================================\n",
      "Flowsheet : fs                                                             Time: 0.0\n",
      "------------------------------------------------------------------------------------\n",
      "    Stream Table\n",
      "                                                Units          s01        s02        s03        s04        s05        s06        s07        s08        s09        s10        s11        s12   \n",
      "    flow_mol_phase_comp ('Liq', 'benzene')   mole / second 1.0000e-05 1.0000e-05 2.0008e-05 1.2994e-07 1.2994e-07 1.0000e-08    0.20460 8.0000e-09 8.0000e-09 1.0000e-08   0.062620 2.0000e-09\n",
      "    flow_mol_phase_comp ('Liq', 'toluene')   mole / second    0.30000 1.0000e-05    0.30001 8.4151e-07 8.4151e-07 1.0000e-08   0.062520 8.0000e-09 8.0000e-09 1.0000e-08   0.032257 2.0000e-09\n",
      "    flow_mol_phase_comp ('Liq', 'methane')   mole / second 1.0000e-05 1.0000e-05 2.0008e-05 1.0000e-12 1.0000e-12 1.0000e-08 2.6712e-07 8.0000e-09 8.0000e-09 1.0000e-08 9.4877e-08 2.0000e-09\n",
      "    flow_mol_phase_comp ('Liq', 'hydrogen')  mole / second 1.0000e-05 1.0000e-05 2.0008e-05 1.0000e-12 1.0000e-12 1.0000e-08 2.6712e-07 8.0000e-09 8.0000e-09 1.0000e-08 9.4877e-08 2.0000e-09\n",
      "    flow_mol_phase_comp ('Vap', 'benzene')   mole / second 1.0000e-05 1.0000e-05    0.11934    0.11936    0.35374    0.14915 1.0000e-08    0.11932    0.11932    0.14198 1.0000e-08   0.029829\n",
      "    flow_mol_phase_comp ('Vap', 'toluene')   mole / second 1.0000e-05 1.0000e-05   0.012508    0.31252   0.078129   0.015610 1.0000e-08   0.012488   0.012488   0.030264 1.0000e-08  0.0031219\n",
      "    flow_mol_phase_comp ('Vap', 'methane')   mole / second 1.0000e-05   0.020000     1.0377     1.0377     1.2721     1.2721 1.0000e-08     1.0177     1.0177 1.8224e-07 1.0000e-08    0.25442\n",
      "    flow_mol_phase_comp ('Vap', 'hydrogen')  mole / second 1.0000e-05    0.30000    0.56258    0.56260    0.32821    0.32821 1.0000e-08    0.26257    0.26257 1.8224e-07 1.0000e-08   0.065642\n",
      "    temperature                                     kelvin     303.20     303.20     314.09     600.00     771.85     325.00     325.00     325.00     325.00     375.00     375.00     325.00\n",
      "    pressure                                        pascal 3.5000e+05 3.5000e+05 3.5000e+05 3.5000e+05 3.5000e+05 3.5000e+05 3.5000e+05 3.5000e+05 3.5000e+05 1.5000e+05 1.5000e+05 3.5000e+05\n",
      "====================================================================================\n"
     ]
    }
   ],
   "execution_count": 59
  },
  {
   "cell_type": "markdown",
   "metadata": {},
   "source": [
    "What is the total operating cost?"
   ]
  },
  {
   "cell_type": "code",
   "metadata": {
    "ExecuteTime": {
     "end_time": "2025-06-26T20:17:07.883053Z",
     "start_time": "2025-06-26T20:17:07.876775Z"
    }
   },
   "source": [
    "print(\"operating cost = $\", value(m.fs.operating_cost))"
   ],
   "outputs": [
    {
     "name": "stdout",
     "output_type": "stream",
     "text": [
      "operating cost = $ 419122.3387221198\n"
     ]
    }
   ],
   "execution_count": 60
  },
  {
   "cell_type": "code",
   "metadata": {
    "tags": [
     "testing"
    ],
    "ExecuteTime": {
     "end_time": "2025-06-26T20:17:08.014719Z",
     "start_time": "2025-06-26T20:17:07.926032Z"
    }
   },
   "source": [
    "import pytest\n",
    "\n",
    "assert value(m.fs.operating_cost) == pytest.approx(419122.3387, abs=1e-3)"
   ],
   "outputs": [],
   "execution_count": 61
  },
  {
   "cell_type": "markdown",
   "metadata": {},
   "source": [
    "For this operating cost, what is the amount of benzene we are able to produce and what purity we are able to achieve?  We can look at a specific unit models stream table with the same `report()` method."
   ]
  },
  {
   "cell_type": "code",
   "metadata": {
    "ExecuteTime": {
     "end_time": "2025-06-26T20:17:08.049906Z",
     "start_time": "2025-06-26T20:17:08.024951Z"
    }
   },
   "source": [
    "m.fs.F102.report()\n",
    "\n",
    "print()\n",
    "print(\"benzene purity = \", value(m.fs.purity))"
   ],
   "outputs": [
    {
     "name": "stdout",
     "output_type": "stream",
     "text": [
      "\n",
      "====================================================================================\n",
      "Unit : fs.F102                                                             Time: 0.0\n",
      "------------------------------------------------------------------------------------\n",
      "    Unit Performance\n",
      "\n",
      "    Variables: \n",
      "\n",
      "    Key             : Value       : Units  : Fixed : Bounds\n",
      "          Heat Duty :      7352.5 :   watt : False : (None, None)\n",
      "    Pressure Change : -2.0000e+05 : pascal :  True : (None, None)\n",
      "\n",
      "------------------------------------------------------------------------------------\n",
      "    Stream Table\n",
      "                                                Units         Inlet    Vapor Outlet  Liquid Outlet\n",
      "    flow_mol_phase_comp ('Liq', 'benzene')   mole / second    0.20460   1.0000e-08      0.062620  \n",
      "    flow_mol_phase_comp ('Liq', 'toluene')   mole / second   0.062520   1.0000e-08      0.032257  \n",
      "    flow_mol_phase_comp ('Liq', 'methane')   mole / second 2.6712e-07   1.0000e-08    9.4877e-08  \n",
      "    flow_mol_phase_comp ('Liq', 'hydrogen')  mole / second 2.6712e-07   1.0000e-08    9.4877e-08  \n",
      "    flow_mol_phase_comp ('Vap', 'benzene')   mole / second 1.0000e-08      0.14198    1.0000e-08  \n",
      "    flow_mol_phase_comp ('Vap', 'toluene')   mole / second 1.0000e-08     0.030264    1.0000e-08  \n",
      "    flow_mol_phase_comp ('Vap', 'methane')   mole / second 1.0000e-08   1.8224e-07    1.0000e-08  \n",
      "    flow_mol_phase_comp ('Vap', 'hydrogen')  mole / second 1.0000e-08   1.8224e-07    1.0000e-08  \n",
      "    temperature                                     kelvin     325.00       375.00        375.00  \n",
      "    pressure                                        pascal 3.5000e+05   1.5000e+05    1.5000e+05  \n",
      "====================================================================================\n",
      "\n",
      "benzene purity =  0.8242962943938487\n"
     ]
    }
   ],
   "execution_count": 62
  },
  {
   "cell_type": "code",
   "metadata": {
    "tags": [
     "testing"
    ],
    "ExecuteTime": {
     "end_time": "2025-06-26T20:17:08.063578Z",
     "start_time": "2025-06-26T20:17:08.060157Z"
    }
   },
   "source": [
    "assert value(m.fs.purity) == pytest.approx(0.82429, abs=1e-3)\n",
    "assert value(m.fs.F102.heat_duty[0]) == pytest.approx(7352.4828, abs=1e-3)\n",
    "assert value(m.fs.F102.vap_outlet.pressure[0]) == pytest.approx(1.5000e05, abs=1e-3)"
   ],
   "outputs": [],
   "execution_count": 63
  },
  {
   "cell_type": "markdown",
   "metadata": {},
   "source": [
    "Next, let's look at how much benzene we are losing with the light gases out of F101. IDAES has tools for creating stream tables based on the `Arcs` and/or `Ports` in a flowsheet. Let us create and print a simple stream table showing the stream leaving the reactor and the vapor stream from F101."
   ]
  },
  {
   "cell_type": "code",
   "metadata": {
    "ExecuteTime": {
     "end_time": "2025-06-26T20:17:08.106226Z",
     "start_time": "2025-06-26T20:17:08.088181Z"
    }
   },
   "source": [
    "from idaes.core.util.tables import (\n",
    "    create_stream_table_dataframe,\n",
    "    stream_table_dataframe_to_string,\n",
    ")\n",
    "\n",
    "st = create_stream_table_dataframe({\"Reactor\": m.fs.s05, \"Light Gases\": m.fs.s06})\n",
    "print(stream_table_dataframe_to_string(st))"
   ],
   "outputs": [
    {
     "name": "stdout",
     "output_type": "stream",
     "text": [
      "                                            Units        Reactor   Light Gases\n",
      "flow_mol_phase_comp ('Liq', 'benzene')   mole / second 1.2994e-07  1.0000e-08 \n",
      "flow_mol_phase_comp ('Liq', 'toluene')   mole / second 8.4151e-07  1.0000e-08 \n",
      "flow_mol_phase_comp ('Liq', 'methane')   mole / second 1.0000e-12  1.0000e-08 \n",
      "flow_mol_phase_comp ('Liq', 'hydrogen')  mole / second 1.0000e-12  1.0000e-08 \n",
      "flow_mol_phase_comp ('Vap', 'benzene')   mole / second    0.35374     0.14915 \n",
      "flow_mol_phase_comp ('Vap', 'toluene')   mole / second   0.078129    0.015610 \n",
      "flow_mol_phase_comp ('Vap', 'methane')   mole / second     1.2721      1.2721 \n",
      "flow_mol_phase_comp ('Vap', 'hydrogen')  mole / second    0.32821     0.32821 \n",
      "temperature                                     kelvin     771.85      325.00 \n",
      "pressure                                        pascal 3.5000e+05  3.5000e+05 \n"
     ]
    }
   ],
   "execution_count": 64
  },
  {
   "cell_type": "markdown",
   "metadata": {},
   "source": [
    "## 8 Optimization\n",
    "\n",
    "\n",
    "We saw from the results above that the total operating cost for the base case was $419,122 per year. We are producing 0.142 mol/s of benzene at a purity of 82\\%. However, we are losing around 42\\% of benzene in F101 vapor outlet stream. \n",
    "\n",
    "Let us try to minimize this cost such that:\n",
    "- we are producing at least 0.15 mol/s of benzene in F102 vapor outlet i.e. our product stream\n",
    "- purity of benzene i.e. the mole fraction of benzene in F102 vapor outlet is at least 80%\n",
    "- restricting the benzene loss in F101 vapor outlet to less than 20%\n",
    "\n",
    "For this problem, our decision variables are as follows:\n",
    "- H101 outlet temperature\n",
    "- R101 cooling duty provided\n",
    "- F101 outlet temperature\n",
    "- F102 outlet temperature\n",
    "- F102 deltaP in the flash tank\n"
   ]
  },
  {
   "cell_type": "markdown",
   "metadata": {},
   "source": [
    "Let us declare our objective function for this problem. "
   ]
  },
  {
   "cell_type": "code",
   "metadata": {
    "ExecuteTime": {
     "end_time": "2025-06-26T20:17:08.138832Z",
     "start_time": "2025-06-26T20:17:08.135122Z"
    }
   },
   "source": [
    "m.fs.objective = Objective(expr=m.fs.operating_cost)"
   ],
   "outputs": [],
   "execution_count": 65
  },
  {
   "cell_type": "markdown",
   "metadata": {},
   "source": [
    "Now, we need to unfix the decision variables as we had solved a square problem (degrees of freedom = 0) until now. "
   ]
  },
  {
   "cell_type": "code",
   "metadata": {
    "ExecuteTime": {
     "end_time": "2025-06-26T20:17:08.178125Z",
     "start_time": "2025-06-26T20:17:08.175210Z"
    }
   },
   "source": [
    "m.fs.H101.outlet.temperature.unfix()\n",
    "m.fs.R101.heat_duty.unfix()\n",
    "m.fs.F101.vap_outlet.temperature.unfix()\n",
    "m.fs.F102.vap_outlet.temperature.unfix()"
   ],
   "outputs": [],
   "execution_count": 66
  },
  {
   "cell_type": "markdown",
   "metadata": {
    "tags": [
     "exercise"
    ]
   },
   "source": [
    "<div class=\"alert alert-block alert-info\">\n",
    "<b>Inline Exercise:</b>\n",
    "Let us now unfix the remaining variable which is F102 pressure drop (F102.deltaP) \n",
    "\n",
    "Use Shift+Enter to run the cell once you have typed in your code. \n",
    "</div>\n",
    "\n"
   ]
  },
  {
   "cell_type": "code",
   "metadata": {
    "tags": [
     "exercise"
    ],
    "ExecuteTime": {
     "end_time": "2025-06-26T20:17:08.197104Z",
     "start_time": "2025-06-26T20:17:08.193860Z"
    }
   },
   "source": [
    "# Todo: Unfix deltaP for F102"
   ],
   "outputs": [],
   "execution_count": 67
  },
  {
   "cell_type": "code",
   "metadata": {
    "tags": [
     "solution"
    ],
    "ExecuteTime": {
     "end_time": "2025-06-26T20:17:08.224222Z",
     "start_time": "2025-06-26T20:17:08.221218Z"
    }
   },
   "source": [
    "# Todo: Unfix deltaP for F102\n",
    "m.fs.F102.deltaP.unfix()"
   ],
   "outputs": [],
   "execution_count": 68
  },
  {
   "cell_type": "code",
   "metadata": {
    "tags": [
     "testing"
    ],
    "ExecuteTime": {
     "end_time": "2025-06-26T20:17:08.275146Z",
     "start_time": "2025-06-26T20:17:08.249526Z"
    }
   },
   "source": [
    "assert degrees_of_freedom(m) == 5"
   ],
   "outputs": [],
   "execution_count": 69
  },
  {
   "cell_type": "markdown",
   "metadata": {},
   "source": [
    "Next, we need to set bounds on these decision variables to values shown below:\n",
    "\n",
    " - H101 outlet temperature [500, 600] K\n",
    " - R101 outlet temperature [600, 800] K\n",
    " - F101 outlet temperature [298, 450] K\n",
    " - F102 outlet temperature [298, 450] K\n",
    " - F102 outlet pressure [105000, 110000] Pa\n",
    "\n",
    "Let us first set the variable bound for the H101 outlet temperature as shown below:"
   ]
  },
  {
   "cell_type": "code",
   "metadata": {
    "ExecuteTime": {
     "end_time": "2025-06-26T20:17:08.291933Z",
     "start_time": "2025-06-26T20:17:08.289122Z"
    }
   },
   "source": [
    "m.fs.H101.outlet.temperature[0].setlb(500)\n",
    "m.fs.H101.outlet.temperature[0].setub(600)"
   ],
   "outputs": [],
   "execution_count": 70
  },
  {
   "cell_type": "markdown",
   "metadata": {
    "tags": [
     "exercise"
    ]
   },
   "source": [
    "<div class=\"alert alert-block alert-info\">\n",
    "<b>Inline Exercise:</b>\n",
    "Now, set the variable bound for the R101 outlet temperature.\n",
    "\n",
    "Use Shift+Enter to run the cell once you have typed in your code. \n",
    "</div>"
   ]
  },
  {
   "cell_type": "code",
   "metadata": {
    "tags": [
     "exercise"
    ],
    "ExecuteTime": {
     "end_time": "2025-06-26T20:17:08.321925Z",
     "start_time": "2025-06-26T20:17:08.318981Z"
    }
   },
   "source": [
    "# Todo: Set the bounds for reactor outlet temperature"
   ],
   "outputs": [],
   "execution_count": 71
  },
  {
   "cell_type": "code",
   "metadata": {
    "tags": [
     "solution"
    ],
    "ExecuteTime": {
     "end_time": "2025-06-26T20:17:08.350491Z",
     "start_time": "2025-06-26T20:17:08.346275Z"
    }
   },
   "source": [
    "# Todo: Set the bounds for reactor outlet temperature\n",
    "m.fs.R101.outlet.temperature[0].setlb(600)\n",
    "m.fs.R101.outlet.temperature[0].setub(800)"
   ],
   "outputs": [],
   "execution_count": 72
  },
  {
   "cell_type": "markdown",
   "metadata": {},
   "source": [
    "Let us fix the bounds for the rest of the decision variables. "
   ]
  },
  {
   "cell_type": "code",
   "metadata": {
    "ExecuteTime": {
     "end_time": "2025-06-26T20:17:08.380399Z",
     "start_time": "2025-06-26T20:17:08.376824Z"
    }
   },
   "source": [
    "m.fs.F101.vap_outlet.temperature[0].setlb(298.0)\n",
    "m.fs.F101.vap_outlet.temperature[0].setub(450.0)\n",
    "m.fs.F102.vap_outlet.temperature[0].setlb(298.0)\n",
    "m.fs.F102.vap_outlet.temperature[0].setub(450.0)\n",
    "m.fs.F102.vap_outlet.pressure[0].setlb(105000)\n",
    "m.fs.F102.vap_outlet.pressure[0].setub(110000)"
   ],
   "outputs": [],
   "execution_count": 73
  },
  {
   "cell_type": "markdown",
   "metadata": {},
   "source": [
    "Now, the only things left to define are our constraints on overhead loss in F101, product flow rate and purity in F102. Let us first look at defining a constraint for the overhead loss in F101 where we are restricting the benzene leaving the vapor stream to less than 20 \\% of the benzene available in the reactor outlet. "
   ]
  },
  {
   "cell_type": "code",
   "metadata": {
    "ExecuteTime": {
     "end_time": "2025-06-26T20:17:08.404523Z",
     "start_time": "2025-06-26T20:17:08.401091Z"
    }
   },
   "source": [
    "m.fs.overhead_loss = Constraint(\n",
    "    expr=m.fs.F101.vap_outlet.flow_mol_phase_comp[0, \"Vap\", \"benzene\"]\n",
    "    <= 0.20 * m.fs.R101.outlet.flow_mol_phase_comp[0, \"Vap\", \"benzene\"]\n",
    ")"
   ],
   "outputs": [],
   "execution_count": 74
  },
  {
   "cell_type": "markdown",
   "metadata": {
    "tags": [
     "exercise"
    ]
   },
   "source": [
    "<div class=\"alert alert-block alert-info\">\n",
    "<b>Inline Exercise:</b>\n",
    "Now, add the constraint such that we are producing at least 0.15 mol/s of benzene in the product stream which is the vapor outlet of F102. Let us name this constraint as m.fs.product_flow. \n",
    "\n",
    "Use Shift+Enter to run the cell once you have typed in your code. \n",
    "</div>"
   ]
  },
  {
   "cell_type": "code",
   "metadata": {
    "tags": [
     "exercise"
    ],
    "ExecuteTime": {
     "end_time": "2025-06-26T20:17:08.434557Z",
     "start_time": "2025-06-26T20:17:08.431016Z"
    }
   },
   "source": [
    "# Todo: Add minimum product flow constraint"
   ],
   "outputs": [],
   "execution_count": 75
  },
  {
   "cell_type": "code",
   "metadata": {
    "tags": [
     "solution"
    ],
    "ExecuteTime": {
     "end_time": "2025-06-26T20:17:08.462910Z",
     "start_time": "2025-06-26T20:17:08.459216Z"
    }
   },
   "source": [
    "# Todo: Add minimum product flow constraint\n",
    "m.fs.product_flow = Constraint(\n",
    "    expr=m.fs.F102.vap_outlet.flow_mol_phase_comp[0, \"Vap\", \"benzene\"] >= 0.15\n",
    ")"
   ],
   "outputs": [],
   "execution_count": 76
  },
  {
   "cell_type": "markdown",
   "metadata": {},
   "source": [
    "Let us add the final constraint on product purity or the mole fraction of benzene in the product stream such that it is at least greater than 80%. "
   ]
  },
  {
   "cell_type": "code",
   "metadata": {
    "ExecuteTime": {
     "end_time": "2025-06-26T20:17:08.495878Z",
     "start_time": "2025-06-26T20:17:08.492876Z"
    }
   },
   "source": [
    "m.fs.product_purity = Constraint(expr=m.fs.purity >= 0.80)"
   ],
   "outputs": [],
   "execution_count": 77
  },
  {
   "cell_type": "markdown",
   "metadata": {},
   "source": [
    "\n",
    "We have now defined the optimization problem and we are now ready to solve this problem. \n",
    "\n",
    "\n"
   ]
  },
  {
   "cell_type": "code",
   "metadata": {
    "ExecuteTime": {
     "end_time": "2025-06-26T20:17:08.669116Z",
     "start_time": "2025-06-26T20:17:08.518790Z"
    }
   },
   "source": [
    "results = solver.solve(m, tee=True)"
   ],
   "outputs": [
    {
     "name": "stdout",
     "output_type": "stream",
     "text": [
      "WARNING: model contains export suffix 'scaling_factor' that contains 25\n",
      "component keys that are not exported as part of the NL file.  Skipping.\n",
      "Ipopt 3.13.2: nlp_scaling_method=user-scaling\n",
      "tol=1e-08\n",
      "max_iter=1000\n",
      "option_file_name=C:\\Users\\Tanner\\AppData\\Local\\Temp\\tmp6z6_l7re_ipopt.opt\n",
      "\n",
      "Using option file \"C:\\Users\\Tanner\\AppData\\Local\\Temp\\tmp6z6_l7re_ipopt.opt\".\n",
      "\n",
      "\n",
      "******************************************************************************\n",
      "This program contains Ipopt, a library for large-scale nonlinear optimization.\n",
      " Ipopt is released as open source code under the Eclipse Public License (EPL).\n",
      "         For more information visit http://projects.coin-or.org/Ipopt\n",
      "\n",
      "This version of Ipopt was compiled from source code available at\n",
      "    https://github.com/IDAES/Ipopt as part of the Institute for the Design of\n",
      "    Advanced Energy Systems Process Systems Engineering Framework (IDAES PSE\n",
      "    Framework) Copyright (c) 2018-2019. See https://github.com/IDAES/idaes-pse.\n",
      "\n",
      "This version of Ipopt was compiled using HSL, a collection of Fortran codes\n",
      "    for large-scale scientific computation.  All technical papers, sales and\n",
      "    publicity material resulting from use of the HSL codes within IPOPT must\n",
      "    contain the following acknowledgement:\n",
      "        HSL, a collection of Fortran codes for large-scale scientific\n",
      "        computation. See http://www.hsl.rl.ac.uk.\n",
      "******************************************************************************\n",
      "\n",
      "This is Ipopt version 3.13.2, running with linear solver ma27.\n",
      "\n",
      "Number of nonzeros in equality constraint Jacobian...:     1191\n",
      "Number of nonzeros in inequality constraint Jacobian.:        5\n",
      "Number of nonzeros in Lagrangian Hessian.............:     1065\n",
      "\n",
      "Total number of variables............................:      395\n",
      "                     variables with only lower bounds:        0\n",
      "                variables with lower and upper bounds:      199\n",
      "                     variables with only upper bounds:        0\n",
      "Total number of equality constraints.................:      390\n",
      "Total number of inequality constraints...............:        3\n",
      "        inequality constraints with only lower bounds:        2\n",
      "   inequality constraints with lower and upper bounds:        0\n",
      "        inequality constraints with only upper bounds:        1\n",
      "\n",
      "iter    objective    inf_pr   inf_du lg(mu)  ||d||  lg(rg) alpha_du alpha_pr  ls\n",
      "   0  4.1912234e+05 2.99e+05 6.94e+00  -1.0 0.00e+00    -  0.00e+00 0.00e+00   0\n",
      "   1  4.1133558e+05 2.94e+05 6.94e+00  -1.0 6.60e+07    -  2.90e-06 1.05e-05f  1\n",
      "   2  3.2484037e+05 1.80e+06 6.94e+00  -1.0 2.33e+09    -  2.95e-07 4.87e-06f  1\n",
      "   3  3.0318192e+05 1.92e+06 6.94e+00  -1.0 6.90e+08    -  1.70e-05 4.13e-06f  1\n",
      "   4  3.0263181e+05 1.92e+06 2.20e+01  -1.0 1.43e+07    -  8.92e-05 1.73e-05f  1\n",
      "   5  3.0137102e+05 1.92e+06 4.38e+01  -1.0 8.74e+06    -  6.63e-05 1.11e-04f  1\n",
      "   6  3.0058759e+05 1.92e+06 1.37e+03  -1.0 2.21e+07    -  8.59e-06 2.17e-04f  1\n",
      "   7  3.0058113e+05 1.92e+06 7.51e+04  -1.0 3.24e+05    -  2.49e-01 1.77e-04f  1\n",
      "   8  3.0317331e+05 1.38e+06 2.08e+05  -1.0 4.00e+04    -  9.62e-01 2.82e-01h  1\n",
      "   9  3.0372038e+05 1.26e+06 1.91e+05  -1.0 2.87e+04    -  1.50e-01 8.31e-02h  1\n",
      "iter    objective    inf_pr   inf_du lg(mu)  ||d||  lg(rg) alpha_du alpha_pr  ls\n",
      "  10  3.0372988e+05 1.26e+06 9.32e+05  -1.0 2.63e+04    -  1.00e+00 1.51e-03h  1\n",
      "  11  3.0386427e+05 1.24e+06 1.90e+07  -1.0 2.63e+04    -  1.00e+00 2.03e-02h  2\n",
      "  12  3.0393928e+05 1.22e+06 7.46e+08  -1.0 2.58e+04    -  1.00e+00 1.15e-02h  2\n",
      "  13  3.0397909e+05 1.21e+06 4.87e+10  -1.0 2.55e+04    -  1.00e+00 6.13e-03h  2\n",
      "  14  3.0399961e+05 1.21e+06 5.05e+12  -1.0 2.53e+04    -  1.00e+00 3.17e-03h  2\n",
      "  15  3.0401009e+05 1.21e+06 7.59e+14  -1.0 2.52e+04    -  1.00e+00 1.62e-03h  2\n",
      "  16  3.0958447e+05 1.42e+06 9.07e+17  -1.0 2.51e+04    -  9.30e-01 9.31e-01h  1\n",
      "  17  3.1108598e+05 7.50e+05 1.56e+17  -1.0 1.79e+03    -  1.76e-01 4.75e-01h  1\n",
      "  18  3.1165423e+05 7.60e+03 1.25e+17  -1.0 9.40e+02    -  3.15e-02 9.90e-01H  1\n",
      "  19  3.1168549e+05 7.39e+03 1.21e+17  -1.0 3.08e+02    -  1.00e+00 2.76e-02h  1\n",
      "iter    objective    inf_pr   inf_du lg(mu)  ||d||  lg(rg) alpha_du alpha_pr  ls\n",
      "  20  3.0439929e+05 1.37e+03 1.61e+18  -1.0 1.81e+03    -  1.00e+00 9.75e-01f  1\n",
      "WARNING: Problem in step computation; switching to emergency mode.\n",
      "  21r 3.0439929e+05 1.37e+03 1.00e+03  -1.0 0.00e+00  20.0 0.00e+00 0.00e+00R  1\n",
      "  22r 3.0442914e+05 1.83e+03 4.00e+06  -1.0 6.01e+02    -  4.63e-02 7.04e-03f  1\n",
      "  23  3.0442888e+05 1.83e+03 3.42e+06  -1.0 8.14e+03    -  3.34e-01 2.84e-06f  2\n",
      "  24  3.1274487e+05 1.62e+03 7.05e+07  -1.0 2.05e+03    -  9.80e-01 1.00e+00h  1\n",
      "  25  3.1278608e+05 1.10e+02 5.31e+08  -1.0 1.68e+01    -  1.00e+00 1.00e+00h  1\n",
      "  26  3.1278641e+05 2.09e+01 1.01e+08  -1.0 1.92e-01    -  1.00e+00 5.00e-01h  2\n",
      "  27  3.1278657e+05 5.78e+00 2.78e+07  -1.0 9.59e-02    -  1.00e+00 5.00e-01h  2\n",
      "  28  3.1278674e+05 4.69e+00 2.27e+07  -1.0 4.80e-02    -  1.00e+00 1.00e+00h  1\n",
      "  29  3.1278674e+05 6.41e-05 2.50e+02  -1.0 1.25e-06    -  1.00e+00 1.00e+00h  1\n",
      "iter    objective    inf_pr   inf_du lg(mu)  ||d||  lg(rg) alpha_du alpha_pr  ls\n",
      "  30  3.1278634e+05 3.48e-05 1.57e+05  -3.8 1.36e+00    -  1.00e+00 1.00e+00f  1\n",
      "  31  3.1278634e+05 2.24e-08 7.47e-04  -3.8 3.85e-04    -  1.00e+00 1.00e+00f  1\n",
      "  32  3.1278634e+05 2.24e-08 3.58e-01  -8.6 2.04e-03    -  1.00e+00 1.00e+00f  1\n",
      "  33  3.1278634e+05 2.98e-08 4.40e-05  -8.6 8.66e-10    -  1.00e+00 1.00e+00h  1\n",
      "  34  3.1278634e+05 1.49e-08 4.40e-05  -9.0 2.17e-08    -  1.00e+00 1.00e+00h  1\n",
      "  35  3.1278634e+05 1.49e-08 4.40e-05  -9.0 2.91e-11    -  1.00e+00 1.00e+00h  1\n",
      "  36  3.1278634e+05 1.49e-08 4.40e-05  -9.0 8.46e-11    -  1.00e+00 1.00e+00h  1\n",
      "  37  3.1278634e+05 2.98e-08 4.40e-05  -9.0 1.06e-10    -  1.00e+00 1.00e+00h  1\n",
      "  38  3.1278634e+05 2.98e-08 4.40e-05  -9.0 4.00e-11    -  1.00e+00 2.50e-01h  3\n",
      "  39  3.1278634e+05 1.49e-08 1.82e-05  -9.0 3.37e-11    -  1.00e+00 1.00e+00H  1\n",
      "\n",
      "Number of Iterations....: 39\n",
      "\n",
      "                                   (scaled)                 (unscaled)\n",
      "Objective...............:   3.1278633834066644e+05    3.1278633834066644e+05\n",
      "Dual infeasibility......:   1.8179731622468097e-05    3.6359463244936194e-05\n",
      "Constraint violation....:   4.1159031748919956e-11    1.4901161193847656e-08\n",
      "Complementarity.........:   9.2191617461622095e-10    9.2191617461622095e-10\n",
      "Overall NLP error.......:   6.7531650843155892e-09    3.6359463244936194e-05\n",
      "\n",
      "\n",
      "Number of objective function evaluations             = 62\n",
      "Number of objective gradient evaluations             = 39\n",
      "Number of equality constraint evaluations            = 62\n",
      "Number of inequality constraint evaluations          = 62\n",
      "Number of equality constraint Jacobian evaluations   = 40\n",
      "Number of inequality constraint Jacobian evaluations = 40\n",
      "Number of Lagrangian Hessian evaluations             = 39\n",
      "Total CPU secs in IPOPT (w/o function evaluations)   =      0.054\n",
      "Total CPU secs in NLP function evaluations           =      0.008\n",
      "\n",
      "EXIT: Optimal Solution Found.\n"
     ]
    }
   ],
   "execution_count": 78
  },
  {
   "cell_type": "code",
   "metadata": {
    "tags": [
     "testing"
    ],
    "ExecuteTime": {
     "end_time": "2025-06-26T20:17:08.683743Z",
     "start_time": "2025-06-26T20:17:08.679403Z"
    }
   },
   "source": [
    "# Check for solver solve status\n",
    "from pyomo.environ import TerminationCondition\n",
    "\n",
    "assert results.solver.termination_condition == TerminationCondition.optimal"
   ],
   "outputs": [],
   "execution_count": 79
  },
  {
   "cell_type": "markdown",
   "metadata": {},
   "source": [
    "### 8.1 Optimization Results\n",
    "\n",
    "Display the results and product specifications"
   ]
  },
  {
   "cell_type": "code",
   "metadata": {
    "ExecuteTime": {
     "end_time": "2025-06-26T20:17:08.738912Z",
     "start_time": "2025-06-26T20:17:08.700529Z"
    }
   },
   "source": [
    "print(\"operating cost = $\", value(m.fs.operating_cost))\n",
    "\n",
    "print()\n",
    "print(\"Product flow rate and purity in F102\")\n",
    "\n",
    "m.fs.F102.report()\n",
    "\n",
    "print()\n",
    "print(\"benzene purity = \", value(m.fs.purity))\n",
    "\n",
    "print()\n",
    "print(\"Overhead loss in F101\")\n",
    "m.fs.F101.report()"
   ],
   "outputs": [
    {
     "name": "stdout",
     "output_type": "stream",
     "text": [
      "operating cost = $ 312786.3383406665\n",
      "\n",
      "Product flow rate and purity in F102\n",
      "\n",
      "====================================================================================\n",
      "Unit : fs.F102                                                             Time: 0.0\n",
      "------------------------------------------------------------------------------------\n",
      "    Unit Performance\n",
      "\n",
      "    Variables: \n",
      "\n",
      "    Key             : Value       : Units  : Fixed : Bounds\n",
      "          Heat Duty :      8377.0 :   watt : False : (None, None)\n",
      "    Pressure Change : -2.4500e+05 : pascal : False : (None, None)\n",
      "\n",
      "------------------------------------------------------------------------------------\n",
      "    Stream Table\n",
      "                                                Units         Inlet    Vapor Outlet  Liquid Outlet\n",
      "    flow_mol_phase_comp ('Liq', 'benzene')   mole / second    0.21743   1.0000e-08      0.067425  \n",
      "    flow_mol_phase_comp ('Liq', 'toluene')   mole / second   0.070695   1.0000e-08      0.037507  \n",
      "    flow_mol_phase_comp ('Liq', 'methane')   mole / second 2.8812e-07   1.0000e-08    1.0493e-07  \n",
      "    flow_mol_phase_comp ('Liq', 'hydrogen')  mole / second 2.8812e-07   1.0000e-08    1.0493e-07  \n",
      "    flow_mol_phase_comp ('Vap', 'benzene')   mole / second 1.0000e-08      0.15000    1.0000e-08  \n",
      "    flow_mol_phase_comp ('Vap', 'toluene')   mole / second 1.0000e-08     0.033189    1.0000e-08  \n",
      "    flow_mol_phase_comp ('Vap', 'methane')   mole / second 1.0000e-08   1.9319e-07    1.0000e-08  \n",
      "    flow_mol_phase_comp ('Vap', 'hydrogen')  mole / second 1.0000e-08   1.9319e-07    1.0000e-08  \n",
      "    temperature                                     kelvin     301.88       362.93        362.93  \n",
      "    pressure                                        pascal 3.5000e+05   1.0500e+05    1.0500e+05  \n",
      "====================================================================================\n",
      "\n",
      "benzene purity =  0.8188276578115862\n",
      "\n",
      "Overhead loss in F101\n",
      "\n",
      "====================================================================================\n",
      "Unit : fs.F101                                                             Time: 0.0\n",
      "------------------------------------------------------------------------------------\n",
      "    Unit Performance\n",
      "\n",
      "    Variables: \n",
      "\n",
      "    Key             : Value   : Units  : Fixed : Bounds\n",
      "          Heat Duty : -56353. :   watt : False : (None, None)\n",
      "    Pressure Change :  0.0000 : pascal :  True : (None, None)\n",
      "\n",
      "------------------------------------------------------------------------------------\n",
      "    Stream Table\n",
      "                                                Units         Inlet    Vapor Outlet  Liquid Outlet\n",
      "    flow_mol_phase_comp ('Liq', 'benzene')   mole / second 4.3534e-08   1.0000e-08       0.21743  \n",
      "    flow_mol_phase_comp ('Liq', 'toluene')   mole / second 7.5866e-07   1.0000e-08      0.070695  \n",
      "    flow_mol_phase_comp ('Liq', 'methane')   mole / second 1.0000e-12   1.0000e-08    2.8812e-07  \n",
      "    flow_mol_phase_comp ('Liq', 'hydrogen')  mole / second 1.0000e-12   1.0000e-08    2.8812e-07  \n",
      "    flow_mol_phase_comp ('Vap', 'benzene')   mole / second    0.27178     0.054356    1.0000e-08  \n",
      "    flow_mol_phase_comp ('Vap', 'toluene')   mole / second   0.076085    0.0053908    1.0000e-08  \n",
      "    flow_mol_phase_comp ('Vap', 'methane')   mole / second     1.2414       1.2414    1.0000e-08  \n",
      "    flow_mol_phase_comp ('Vap', 'hydrogen')  mole / second    0.35887      0.35887    1.0000e-08  \n",
      "    temperature                                     kelvin     696.11       301.88        301.88  \n",
      "    pressure                                        pascal 3.5000e+05   3.5000e+05    3.5000e+05  \n",
      "====================================================================================\n"
     ]
    }
   ],
   "execution_count": 80
  },
  {
   "cell_type": "code",
   "metadata": {
    "tags": [
     "testing"
    ],
    "ExecuteTime": {
     "end_time": "2025-06-26T20:17:08.756874Z",
     "start_time": "2025-06-26T20:17:08.753678Z"
    }
   },
   "source": [
    "assert value(m.fs.operating_cost) == pytest.approx(312786.338, abs=1e-3)\n",
    "assert value(m.fs.purity) == pytest.approx(0.818827, abs=1e-3)"
   ],
   "outputs": [],
   "execution_count": 81
  },
  {
   "cell_type": "markdown",
   "metadata": {},
   "source": [
    "Display optimal values for the decision variables"
   ]
  },
  {
   "cell_type": "code",
   "metadata": {
    "ExecuteTime": {
     "end_time": "2025-06-26T20:17:08.793956Z",
     "start_time": "2025-06-26T20:17:08.789446Z"
    }
   },
   "source": [
    "print(\n",
    "    f\"\"\"Optimal Values:\n",
    "\n",
    "H101 outlet temperature = {value(m.fs.H101.outlet.temperature[0]):.3f} K\n",
    "\n",
    "R101 outlet temperature = {value(m.fs.R101.outlet.temperature[0]):.3f} K\n",
    "\n",
    "F101 outlet temperature = {value(m.fs.F101.vap_outlet.temperature[0]):.3f} K\n",
    "\n",
    "F102 outlet temperature = {value(m.fs.F102.vap_outlet.temperature[0]):.3f} K\n",
    "F102 outlet pressure = {value(m.fs.F102.vap_outlet.pressure[0]):.3f} Pa\n",
    "\"\"\"\n",
    ")"
   ],
   "outputs": [
    {
     "name": "stdout",
     "output_type": "stream",
     "text": [
      "Optimal Values:\n",
      "\n",
      "H101 outlet temperature = 500.000 K\n",
      "\n",
      "R101 outlet temperature = 696.112 K\n",
      "\n",
      "F101 outlet temperature = 301.878 K\n",
      "\n",
      "F102 outlet temperature = 362.935 K\n",
      "F102 outlet pressure = 105000.000 Pa\n",
      "\n"
     ]
    }
   ],
   "execution_count": 82
  },
  {
   "cell_type": "code",
   "metadata": {
    "tags": [
     "testing"
    ],
    "ExecuteTime": {
     "end_time": "2025-06-26T20:17:08.825473Z",
     "start_time": "2025-06-26T20:17:08.820372Z"
    }
   },
   "source": [
    "assert value(m.fs.H101.outlet.temperature[0]) == pytest.approx(500, abs=1e-3)\n",
    "assert value(m.fs.R101.outlet.temperature[0]) == pytest.approx(696.112, abs=1e-3)\n",
    "assert value(m.fs.F101.vap_outlet.temperature[0]) == pytest.approx(301.878, abs=1e-3)\n",
    "assert value(m.fs.F102.vap_outlet.temperature[0]) == pytest.approx(362.935, abs=1e-3)\n",
    "assert value(m.fs.F102.vap_outlet.pressure[0]) == pytest.approx(105000, abs=1e-2)"
   ],
   "outputs": [],
   "execution_count": 83
  }
 ],
 "metadata": {
  "celltoolbar": "Tags",
  "kernelspec": {
   "display_name": "Python 3 (ipykernel)",
   "language": "python",
   "name": "python3"
  },
  "language_info": {
   "codemirror_mode": {
    "name": "ipython",
    "version": 3
   },
   "file_extension": ".py",
   "mimetype": "text/x-python",
   "name": "python",
   "nbconvert_exporter": "python",
   "pygments_lexer": "ipython3",
   "version": "3.12.3"
  }
 },
 "nbformat": 4,
 "nbformat_minor": 4
}
