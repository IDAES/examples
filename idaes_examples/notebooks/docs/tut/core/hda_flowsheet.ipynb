{
 "cells": [
  {
   "cell_type": "code",
   "metadata": {
    "tags": [
     "header",
     "hide-cell"
    ],
    "ExecuteTime": {
     "end_time": "2025-07-15T22:29:16.862036Z",
     "start_time": "2025-07-15T22:29:16.858494Z"
    }
   },
   "source": [
    "###############################################################################\n",
    "# The Institute for the Design of Advanced Energy Systems Integrated Platform\n",
    "# Framework (idaes IP) was produced under the DOE Institute for the\n",
    "# Design of Advanced Energy Systems (IDAES).\n",
    "#\n",
    "# Copyright (c) 2018-2023 by the software owners: The Regents of the\n",
    "# University of California, through Lawrence Berkeley National Laboratory,\n",
    "# National Technology & Engineering Solutions of Sandia, LLC, Carnegie Mellon\n",
    "# University, West Virginia University Research Corporation, et al.\n",
    "# All rights reserved.  Please see the files COPYRIGHT.md and LICENSE.md\n",
    "# for full copyright and license information.\n",
    "###############################################################################"
   ],
   "outputs": [],
   "execution_count": 1
  },
  {
   "cell_type": "markdown",
   "metadata": {},
   "source": [
    "\n",
    "# HDA Flowsheet Simulation and Optimization\n",
    "\n",
    "Author: Jaffer Ghouse<br>\n",
    "Maintainer: Tanner Polley<br>\n",
    "Updated: 2025-06-03\n",
    "\n",
    "## Learning outcomes\n",
    "\n",
    "\n",
    "- Construct a steady-state flowsheet using the IDAES unit model library\n",
    "- Connecting unit models in a flowsheet using Arcs\n",
    "- Using the SequentialDecomposition tool to initialize a flowsheet with recycle\n",
    "- Formulate and solve an optimization problem\n",
    "    - Defining an objective function\n",
    "    - Setting variable bounds\n",
    "    - Adding additional constraints\n",
    "\n",
    "\n",
    "The general workflow of setting up an IDAES flowsheet is the following:\n",
    "\n",
    "&nbsp;&nbsp;&nbsp;&nbsp; 1 Importing Modules <br>\n",
    "&nbsp;&nbsp;&nbsp;&nbsp; 2 Building a Model <br>\n",
    "&nbsp;&nbsp;&nbsp;&nbsp; 3 Scaling the Model <br>\n",
    "&nbsp;&nbsp;&nbsp;&nbsp; 4 Specifying the Model <br>\n",
    "&nbsp;&nbsp;&nbsp;&nbsp; 5 Initializing the Model <br>\n",
    "&nbsp;&nbsp;&nbsp;&nbsp; 6 Solving the Model <br>\n",
    "&nbsp;&nbsp;&nbsp;&nbsp; 7 Analyzing and Visualizing the Results <br>\n",
    "&nbsp;&nbsp;&nbsp;&nbsp; 8 Optimizing the Model <br>\n",
    "\n",
    "We will complete each of these steps as well as demonstrate analyses on this model through some examples and exercises.\n",
    "\n",
    "\n",
    "## Problem Statement\n",
    "\n",
    "Hydrodealkylation is a chemical reaction that often involves reacting\n",
    "an aromatic hydrocarbon in the presence of hydrogen gas to form a\n",
    "simpler aromatic hydrocarbon devoid of functional groups. In this\n",
    "example, toluene will be reacted with hydrogen gas at high temperatures\n",
    " to form benzene via the following reaction:\n",
    "\n",
    "**C<sub>6</sub>H<sub>5</sub>CH<sub>3</sub> + H<sub>2</sub> → C<sub>6</sub>H<sub>6</sub> + CH<sub>4</sub>**\n",
    "\n",
    "\n",
    "This reaction is often accompanied by an equilibrium side reaction\n",
    "which forms diphenyl, which we will neglect for this example.\n",
    "\n",
    "This example is based on the 1967 AIChE Student Contest problem as\n",
    "present by Douglas, J.M., Chemical  Design of Chemical Processes, 1988,\n",
    "McGraw-Hill.\n",
    "\n",
    "The flowsheet that we will be using for this module is shown below with the stream conditions. We will be processing toluene and hydrogen to produce at least 370 TPY of benzene. As shown in the flowsheet, there are two flash tanks, F101 to separate out the non-condensibles and F102 to further separate the benzene-toluene mixture to improve the benzene purity.  Note that typically a distillation column is required to obtain high purity benzene but that is beyond the scope of this workshop. The non-condensibles separated out in F101 will be partially recycled back to M101 and the rest will be either purged or combusted for power generation.We will assume ideal gas for this flowsheet. The properties required for this module are available in the same directory:\n",
    "\n",
    "- hda_ideal_VLE.py\n",
    "- hda_reaction.py\n",
    "\n",
    "The state variables chosen for the property package are **flows of component by phase, temperature and pressure**. The components considered are: **toluene, hydrogen, benzene and methane**. Therefore, every stream has 8 flow variables, 1 temperature and 1 pressure variable. \n",
    "\n",
    "![](HDA_flowsheet.png)\n",
    "\n"
   ]
  },
  {
   "cell_type": "markdown",
   "metadata": {},
   "source": [
    "## 1 Importing Modules\n",
    "### 1.1 Importing required Pyomo and IDAES components\n",
    "\n",
    "\n",
    "To construct a flowsheet, we will need several components from the Pyomo and IDAES package. Let us first import the following components from Pyomo:\n",
    "- Constraint (to write constraints)\n",
    "- Var (to declare variables)\n",
    "- ConcreteModel (to create the concrete model object)\n",
    "- Expression (to evaluate values as a function of variables defined in the model)\n",
    "- Objective (to define an objective function for optimization)\n",
    "- SolverFactory (to solve the problem)\n",
    "- TransformationFactory (to apply certain transformations)\n",
    "- Arc (to connect two unit models)\n",
    "- SequentialDecomposition (to initialize the flowsheet in a sequential mode)\n",
    "\n",
    "For further details on these components, please refer to the Pyomo documentation: https://Pyomo.readthedocs.io/en/stable/\n"
   ]
  },
  {
   "cell_type": "code",
   "metadata": {
    "ExecuteTime": {
     "end_time": "2025-07-15T22:29:17.440971Z",
     "start_time": "2025-07-15T22:29:17.070381Z"
    }
   },
   "source": [
    "from pyomo.environ import (\n",
    "    Constraint,\n",
    "    Var,\n",
    "    ConcreteModel,\n",
    "    Expression,\n",
    "    Objective,\n",
    "    SolverFactory,\n",
    "    TransformationFactory,\n",
    "    value,\n",
    ")\n",
    "from pyomo.network import Arc, SequentialDecomposition"
   ],
   "outputs": [],
   "execution_count": 2
  },
  {
   "cell_type": "markdown",
   "metadata": {},
   "source": [
    "From IDAES, we will be needing the FlowsheetBlock and the following unit models:\n",
    "- Feed\n",
    "- Mixer\n",
    "- Heater\n",
    "- StoichiometricReactor\n",
    "- <span style=\"color:blue\">**Flash**</span>\n",
    "- Separator (splitter) \n",
    "- PressureChanger\n",
    "- Product"
   ]
  },
  {
   "cell_type": "code",
   "metadata": {
    "ExecuteTime": {
     "end_time": "2025-07-15T22:29:18.862462Z",
     "start_time": "2025-07-15T22:29:17.454785Z"
    }
   },
   "source": [
    "from idaes.core import FlowsheetBlock"
   ],
   "outputs": [],
   "execution_count": 3
  },
  {
   "cell_type": "code",
   "metadata": {
    "ExecuteTime": {
     "end_time": "2025-07-15T22:29:18.975963Z",
     "start_time": "2025-07-15T22:29:18.870712Z"
    }
   },
   "source": [
    "from idaes.models.unit_models import (\n",
    "    PressureChanger,\n",
    "    IsentropicPressureChangerInitializer,\n",
    "    Mixer,\n",
    "    MixerInitializer,\n",
    "    Separator as Splitter,\n",
    "    SeparatorInitializer,\n",
    "    Heater,\n",
    "    StoichiometricReactor,\n",
    "    Feed,\n",
    "    Product,\n",
    ")"
   ],
   "outputs": [],
   "execution_count": 4
  },
  {
   "cell_type": "markdown",
   "metadata": {},
   "source": [
    "<div class=\"alert alert-block alert-info\">\n",
    "<b>Inline Exercise:</b>\n",
    "Now, import the remaining unit models highlighted in blue above and run the cell using `Shift+Enter` after typing in the code. \n",
    "</div>\n"
   ]
  },
  {
   "cell_type": "code",
   "metadata": {
    "tags": [
     "exercise"
    ],
    "ExecuteTime": {
     "end_time": "2025-07-15T22:29:18.986206Z",
     "start_time": "2025-07-15T22:29:18.983178Z"
    }
   },
   "source": [
    "# Todo: import flash model from idaes.models.unit_models"
   ],
   "outputs": [],
   "execution_count": 5
  },
  {
   "cell_type": "code",
   "metadata": {
    "tags": [
     "solution"
    ],
    "ExecuteTime": {
     "end_time": "2025-07-15T22:29:19.000804Z",
     "start_time": "2025-07-15T22:29:18.997523Z"
    }
   },
   "source": [
    "# Todo: import flash model from idaes.models.unit_models\n",
    "from idaes.models.unit_models import Flash"
   ],
   "outputs": [],
   "execution_count": 6
  },
  {
   "cell_type": "markdown",
   "metadata": {},
   "source": [
    "We will also be needing some utility tools to put together the flowsheet and calculate the degrees of freedom. "
   ]
  },
  {
   "cell_type": "code",
   "metadata": {
    "ExecuteTime": {
     "end_time": "2025-07-15T22:29:19.013373Z",
     "start_time": "2025-07-15T22:29:19.010633Z"
    }
   },
   "source": [
    "from idaes.models.unit_models.pressure_changer import ThermodynamicAssumption\n",
    "from idaes.core.util.model_statistics import degrees_of_freedom\n",
    "from idaes.core.scaling.util import set_scaling_factor\n",
    "from idaes.core.scaling.autoscaling import AutoScaler\n",
    "\n",
    "# Import idaes logger to set output levels\n",
    "import idaes.logger as idaeslog\n",
    "from idaes.core.solvers import get_solver\n",
    "from idaes.core.util.exceptions import InitializationError"
   ],
   "outputs": [],
   "execution_count": 7
  },
  {
   "cell_type": "markdown",
   "metadata": {},
   "source": [
    "### 1.2 Importing required thermo and reaction package\n",
    "\n",
    "The final set of imports are to import the thermo and reaction package for the HDA process. We have created a custom thermo package that assumes Ideal Gas with support for VLE. \n",
    "\n",
    "The reaction package here is very simple as we will be using only a StochiometricReactor and the reaction package consists of the stochiometric coefficients for the reaction and the parameter for the heat of reaction. \n",
    "\n",
    "Let us import the following modules and they are in the same directory as this jupyter notebook:\n",
    "      <ul>\n",
    "         <li>hda_ideal_VLE as thermo_props</li>\n",
    "         <li>hda_reaction as reaction_props </li>\n",
    "      </ul>\n",
    "</div>"
   ]
  },
  {
   "cell_type": "code",
   "metadata": {
    "ExecuteTime": {
     "end_time": "2025-07-15T22:29:19.029237Z",
     "start_time": "2025-07-15T22:29:19.021824Z"
    }
   },
   "source": [
    "from idaes_examples.mod.hda import hda_ideal_VLE as thermo_props\n",
    "from idaes_examples.mod.hda import hda_reaction as reaction_props"
   ],
   "outputs": [],
   "execution_count": 8
  },
  {
   "metadata": {
    "ExecuteTime": {
     "end_time": "2025-07-15T22:29:19.117688Z",
     "start_time": "2025-07-15T22:29:19.037801Z"
    }
   },
   "cell_type": "code",
   "source": [
    "from idaes.models.properties.modular_properties.base.generic_property import (\n",
    "    GenericParameterBlock,\n",
    ")\n",
    "from idaes.models.properties.modular_properties.base.generic_reaction import (\n",
    "    GenericReactionParameterBlock,\n",
    ")\n",
    "from idaes_examples.mod.hda.hda_ideal_VLE_modular import thermo_config\n",
    "from idaes_examples.mod.hda.hda_reaction_modular import reaction_config"
   ],
   "outputs": [],
   "execution_count": 9
  },
  {
   "cell_type": "markdown",
   "metadata": {},
   "source": [
    "## 2 Constructing the Flowsheet\n",
    "\n",
    "We have now imported all the components, unit models, and property modules we need to construct a flowsheet. Let us create a ConcreteModel and add the flowsheet block."
   ]
  },
  {
   "cell_type": "code",
   "metadata": {
    "ExecuteTime": {
     "end_time": "2025-07-15T22:29:19.131934Z",
     "start_time": "2025-07-15T22:29:19.127335Z"
    }
   },
   "source": [
    "m = ConcreteModel()\n",
    "m.fs = FlowsheetBlock(dynamic=False)"
   ],
   "outputs": [],
   "execution_count": 10
  },
  {
   "cell_type": "markdown",
   "metadata": {},
   "source": [
    "We now need to add the property packages to the flowsheet. Unlike Module 1, where we only had a thermo property package, for this flowsheet we will also need to add a reaction property package. "
   ]
  },
  {
   "cell_type": "code",
   "metadata": {
    "ExecuteTime": {
     "end_time": "2025-07-15T22:29:20.186702Z",
     "start_time": "2025-07-15T22:29:19.143102Z"
    }
   },
   "source": [
    "# m.fs.thermo_params = thermo_props.HDAParameterBlock()\n",
    "# m.fs.reaction_params = reaction_props.HDAReactionParameterBlock(\n",
    "#     property_package=m.fs.thermo_params\n",
    "# )\n",
    "\n",
    "m.fs.thermo_params = GenericParameterBlock(**thermo_config)\n",
    "# m.fs.reaction_params = GenericReactionParameterBlock(property_package=m.fs.thermo_params, **reaction_config)"
   ],
   "outputs": [
    {
     "name": "stdout",
     "output_type": "stream",
     "text": [
      "<pyomo.core.base.units_container.PyomoUnitsContainer object at 0x000001579EBE4740>\n",
      "<pyomo.core.base.units_container.PyomoUnitsContainer object at 0x000001579EBE4740>\n",
      "<pyomo.core.base.units_container.PyomoUnitsContainer object at 0x000001579EBE4740>\n",
      "<pyomo.core.base.units_container.PyomoUnitsContainer object at 0x000001579EBE4740>\n",
      "<pyomo.core.base.units_container.PyomoUnitsContainer object at 0x000001579EBE4740>\n",
      "<pyomo.core.base.units_container.PyomoUnitsContainer object at 0x000001579EBE4740>\n",
      "<pyomo.core.base.units_container.PyomoUnitsContainer object at 0x000001579EBE4740>\n",
      "<pyomo.core.base.units_container.PyomoUnitsContainer object at 0x000001579EBE4740>\n",
      "2025-07-15 16:29:19 [ERROR] idaes.core.base.process_block: Failure in build: fs.thermo_params\n",
      "Traceback (most recent call last):\n",
      "  File \"c:\\users\\tanner\\documents\\git\\idaes-pse\\idaes\\core\\base\\process_block.py\", line 41, in _rule_default\n",
      "    b.build()\n",
      "  File \"c:\\users\\tanner\\documents\\git\\idaes-pse\\idaes\\models\\properties\\modular_properties\\base\\generic_property.py\", line 470, in build\n",
      "    for p in self.phase_list:\n",
      "             ^^^^^^^^^^^^^^^\n",
      "  File \"C:\\ProgramData\\Miniconda3\\envs\\examples\\Lib\\site-packages\\pyomo\\core\\base\\block.py\", line 550, in __getattr__\n",
      "    raise AttributeError(\n",
      "AttributeError: '_ScalarGenericParameterBlock' object has no attribute 'phase_list'\n",
      "ERROR: Constructing component 'fs.thermo_params' from data=None failed:\n",
      "        AttributeError: '_ScalarGenericParameterBlock' object has no attribute\n",
      "        'phase_list'\n"
     ]
    },
    {
     "ename": "AttributeError",
     "evalue": "'_ScalarGenericParameterBlock' object has no attribute 'phase_list'",
     "output_type": "error",
     "traceback": [
      "\u001B[31m---------------------------------------------------------------------------\u001B[39m",
      "\u001B[31mAttributeError\u001B[39m                            Traceback (most recent call last)",
      "\u001B[36mCell\u001B[39m\u001B[36m \u001B[39m\u001B[32mIn[11]\u001B[39m\u001B[32m, line 6\u001B[39m\n\u001B[32m      1\u001B[39m \u001B[38;5;66;03m# m.fs.thermo_params = thermo_props.HDAParameterBlock()\u001B[39;00m\n\u001B[32m      2\u001B[39m \u001B[38;5;66;03m# m.fs.reaction_params = reaction_props.HDAReactionParameterBlock(\u001B[39;00m\n\u001B[32m      3\u001B[39m \u001B[38;5;66;03m#     property_package=m.fs.thermo_params\u001B[39;00m\n\u001B[32m      4\u001B[39m \u001B[38;5;66;03m# )\u001B[39;00m\n\u001B[32m----> \u001B[39m\u001B[32m6\u001B[39m \u001B[43mm\u001B[49m\u001B[43m.\u001B[49m\u001B[43mfs\u001B[49m\u001B[43m.\u001B[49m\u001B[43mthermo_params\u001B[49m = GenericParameterBlock(**thermo_config)\n\u001B[32m      7\u001B[39m \u001B[38;5;66;03m# m.fs.reaction_params = GenericReactionParameterBlock(property_package=m.fs.thermo_params, **reaction_config)\u001B[39;00m\n",
      "\u001B[36mFile \u001B[39m\u001B[32mC:\\ProgramData\\Miniconda3\\envs\\examples\\Lib\\site-packages\\pyomo\\core\\base\\block.py:571\u001B[39m, in \u001B[36mBlockData.__setattr__\u001B[39m\u001B[34m(self, name, val)\u001B[39m\n\u001B[32m    566\u001B[39m \u001B[38;5;28;01mif\u001B[39;00m name \u001B[38;5;129;01mnot\u001B[39;00m \u001B[38;5;129;01min\u001B[39;00m \u001B[38;5;28mself\u001B[39m.\u001B[34m__dict__\u001B[39m:\n\u001B[32m    567\u001B[39m     \u001B[38;5;28;01mif\u001B[39;00m \u001B[38;5;28misinstance\u001B[39m(val, Component):\n\u001B[32m    568\u001B[39m         \u001B[38;5;66;03m#\u001B[39;00m\n\u001B[32m    569\u001B[39m         \u001B[38;5;66;03m# Pyomo components are added with the add_component method.\u001B[39;00m\n\u001B[32m    570\u001B[39m         \u001B[38;5;66;03m#\u001B[39;00m\n\u001B[32m--> \u001B[39m\u001B[32m571\u001B[39m         \u001B[38;5;28;43mself\u001B[39;49m\u001B[43m.\u001B[49m\u001B[43madd_component\u001B[49m\u001B[43m(\u001B[49m\u001B[43mname\u001B[49m\u001B[43m,\u001B[49m\u001B[43m \u001B[49m\u001B[43mval\u001B[49m\u001B[43m)\u001B[49m\n\u001B[32m    572\u001B[39m     \u001B[38;5;28;01melse\u001B[39;00m:\n\u001B[32m    573\u001B[39m         \u001B[38;5;66;03m#\u001B[39;00m\n\u001B[32m    574\u001B[39m         \u001B[38;5;66;03m# Other Python objects are added with the standard __setattr__\u001B[39;00m\n\u001B[32m    575\u001B[39m         \u001B[38;5;66;03m# method.\u001B[39;00m\n\u001B[32m    576\u001B[39m         \u001B[38;5;66;03m#\u001B[39;00m\n\u001B[32m    577\u001B[39m         \u001B[38;5;28msuper\u001B[39m(BlockData, \u001B[38;5;28mself\u001B[39m).\u001B[34m__setattr__\u001B[39m(name, val)\n",
      "\u001B[36mFile \u001B[39m\u001B[32mC:\\ProgramData\\Miniconda3\\envs\\examples\\Lib\\site-packages\\pyomo\\core\\base\\block.py:1101\u001B[39m, in \u001B[36mBlockData.add_component\u001B[39m\u001B[34m(self, name, val)\u001B[39m\n\u001B[32m   1093\u001B[39m     logger.debug(\n\u001B[32m   1094\u001B[39m         \u001B[33m\"\u001B[39m\u001B[33mConstructing \u001B[39m\u001B[38;5;132;01m%s\u001B[39;00m\u001B[33m \u001B[39m\u001B[33m'\u001B[39m\u001B[38;5;132;01m%s\u001B[39;00m\u001B[33m'\u001B[39m\u001B[33m on \u001B[39m\u001B[38;5;132;01m%s\u001B[39;00m\u001B[33m from data=\u001B[39m\u001B[38;5;132;01m%s\u001B[39;00m\u001B[33m\"\u001B[39m,\n\u001B[32m   1095\u001B[39m         val.\u001B[34m__class__\u001B[39m.\u001B[34m__name__\u001B[39m,\n\u001B[32m   (...)\u001B[39m\u001B[32m   1098\u001B[39m         \u001B[38;5;28mstr\u001B[39m(data),\n\u001B[32m   1099\u001B[39m     )\n\u001B[32m   1100\u001B[39m \u001B[38;5;28;01mtry\u001B[39;00m:\n\u001B[32m-> \u001B[39m\u001B[32m1101\u001B[39m     \u001B[43mval\u001B[49m\u001B[43m.\u001B[49m\u001B[43mconstruct\u001B[49m\u001B[43m(\u001B[49m\u001B[43mdata\u001B[49m\u001B[43m)\u001B[49m\n\u001B[32m   1102\u001B[39m \u001B[38;5;28;01mexcept\u001B[39;00m:\n\u001B[32m   1103\u001B[39m     err = sys.exc_info()[\u001B[32m1\u001B[39m]\n",
      "\u001B[36mFile \u001B[39m\u001B[32mC:\\ProgramData\\Miniconda3\\envs\\examples\\Lib\\site-packages\\pyomo\\core\\base\\block.py:2233\u001B[39m, in \u001B[36mBlock.construct\u001B[39m\u001B[34m(self, data)\u001B[39m\n\u001B[32m   2231\u001B[39m                     obj.construct(data.get(name, \u001B[38;5;28;01mNone\u001B[39;00m))\n\u001B[32m   2232\u001B[39m         \u001B[38;5;66;03m# Trigger the (normal) initialization of the block\u001B[39;00m\n\u001B[32m-> \u001B[39m\u001B[32m2233\u001B[39m         \u001B[38;5;28;43mself\u001B[39;49m\u001B[43m.\u001B[49m\u001B[43m_getitem_when_not_present\u001B[49m\u001B[43m(\u001B[49m\u001B[43m_idx\u001B[49m\u001B[43m)\u001B[49m\n\u001B[32m   2234\u001B[39m \u001B[38;5;28;01mfinally\u001B[39;00m:\n\u001B[32m   2235\u001B[39m     \u001B[38;5;66;03m# We must allow that id(self) may no longer be in\u001B[39;00m\n\u001B[32m   2236\u001B[39m     \u001B[38;5;66;03m# _BlockConstruction.data, as _getitem_when_not_present will\u001B[39;00m\n\u001B[32m   2237\u001B[39m     \u001B[38;5;66;03m# have already removed the entry for scalar blocks (as the\u001B[39;00m\n\u001B[32m   2238\u001B[39m     \u001B[38;5;66;03m# BlockData and the Block component are the same object)\u001B[39;00m\n\u001B[32m   2239\u001B[39m     \u001B[38;5;28;01mif\u001B[39;00m data \u001B[38;5;129;01mis\u001B[39;00m \u001B[38;5;129;01mnot\u001B[39;00m \u001B[38;5;28;01mNone\u001B[39;00m:\n",
      "\u001B[36mFile \u001B[39m\u001B[32mC:\\ProgramData\\Miniconda3\\envs\\examples\\Lib\\site-packages\\pyomo\\core\\base\\block.py:2148\u001B[39m, in \u001B[36mBlock._getitem_when_not_present\u001B[39m\u001B[34m(self, idx)\u001B[39m\n\u001B[32m   2145\u001B[39m     data = \u001B[38;5;28;01mNone\u001B[39;00m\n\u001B[32m   2147\u001B[39m \u001B[38;5;28;01mtry\u001B[39;00m:\n\u001B[32m-> \u001B[39m\u001B[32m2148\u001B[39m     obj = \u001B[38;5;28;43mself\u001B[39;49m\u001B[43m.\u001B[49m\u001B[43m_rule\u001B[49m\u001B[43m(\u001B[49m\u001B[43m_block\u001B[49m\u001B[43m,\u001B[49m\u001B[43m \u001B[49m\u001B[43midx\u001B[49m\u001B[43m)\u001B[49m\n\u001B[32m   2149\u001B[39m     \u001B[38;5;66;03m# If the user returns a block, transfer over everything\u001B[39;00m\n\u001B[32m   2150\u001B[39m     \u001B[38;5;66;03m# they defined into the empty one we created.  We do\u001B[39;00m\n\u001B[32m   2151\u001B[39m     \u001B[38;5;66;03m# this inside the try block so that any abstract\u001B[39;00m\n\u001B[32m   2152\u001B[39m     \u001B[38;5;66;03m# components declared by the rule have the opportunity\u001B[39;00m\n\u001B[32m   2153\u001B[39m     \u001B[38;5;66;03m# to be initialized with data from\u001B[39;00m\n\u001B[32m   2154\u001B[39m     \u001B[38;5;66;03m# _BlockConstruction.data as they are transferred over.\u001B[39;00m\n\u001B[32m   2155\u001B[39m     \u001B[38;5;28;01mif\u001B[39;00m obj \u001B[38;5;129;01mis\u001B[39;00m \u001B[38;5;129;01mnot\u001B[39;00m _block \u001B[38;5;129;01mand\u001B[39;00m \u001B[38;5;28misinstance\u001B[39m(obj, BlockData):\n",
      "\u001B[36mFile \u001B[39m\u001B[32mC:\\ProgramData\\Miniconda3\\envs\\examples\\Lib\\site-packages\\pyomo\\core\\base\\initializer.py:351\u001B[39m, in \u001B[36mIndexedCallInitializer.__call__\u001B[39m\u001B[34m(self, parent, idx)\u001B[39m\n\u001B[32m    349\u001B[39m     \u001B[38;5;28;01mreturn\u001B[39;00m \u001B[38;5;28mself\u001B[39m._fcn(parent, *idx)\n\u001B[32m    350\u001B[39m \u001B[38;5;28;01melse\u001B[39;00m:\n\u001B[32m--> \u001B[39m\u001B[32m351\u001B[39m     \u001B[38;5;28;01mreturn\u001B[39;00m \u001B[38;5;28;43mself\u001B[39;49m\u001B[43m.\u001B[49m\u001B[43m_fcn\u001B[49m\u001B[43m(\u001B[49m\u001B[43mparent\u001B[49m\u001B[43m,\u001B[49m\u001B[43m \u001B[49m\u001B[43midx\u001B[49m\u001B[43m)\u001B[49m\n",
      "\u001B[36mFile \u001B[39m\u001B[32mc:\\users\\tanner\\documents\\git\\idaes-pse\\idaes\\core\\base\\process_block.py:41\u001B[39m, in \u001B[36m_rule_default\u001B[39m\u001B[34m(b, *args)\u001B[39m\n\u001B[32m     35\u001B[39m \u001B[38;5;250m\u001B[39m\u001B[33;03m\"\"\"\u001B[39;00m\n\u001B[32m     36\u001B[39m \u001B[33;03mDefault rule for ProcessBlock, which calls build(). A different rule can\u001B[39;00m\n\u001B[32m     37\u001B[39m \u001B[33;03mbe specified to add additional build steps, or to not call build at all\u001B[39;00m\n\u001B[32m     38\u001B[39m \u001B[33;03musing the normal rule argument to ProcessBlock init.\u001B[39;00m\n\u001B[32m     39\u001B[39m \u001B[33;03m\"\"\"\u001B[39;00m\n\u001B[32m     40\u001B[39m \u001B[38;5;28;01mtry\u001B[39;00m:\n\u001B[32m---> \u001B[39m\u001B[32m41\u001B[39m     \u001B[43mb\u001B[49m\u001B[43m.\u001B[49m\u001B[43mbuild\u001B[49m\u001B[43m(\u001B[49m\u001B[43m)\u001B[49m\n\u001B[32m     42\u001B[39m \u001B[38;5;28;01mexcept\u001B[39;00m \u001B[38;5;167;01mException\u001B[39;00m:\n\u001B[32m     43\u001B[39m     logging.getLogger(\u001B[34m__name__\u001B[39m).exception(\u001B[33mf\u001B[39m\u001B[33m\"\u001B[39m\u001B[33mFailure in build: \u001B[39m\u001B[38;5;132;01m{\u001B[39;00mb\u001B[38;5;132;01m}\u001B[39;00m\u001B[33m\"\u001B[39m)\n",
      "\u001B[36mFile \u001B[39m\u001B[32mc:\\users\\tanner\\documents\\git\\idaes-pse\\idaes\\models\\properties\\modular_properties\\base\\generic_property.py:470\u001B[39m, in \u001B[36mGenericParameterData.build\u001B[39m\u001B[34m(self)\u001B[39m\n\u001B[32m    468\u001B[39m \u001B[38;5;28;01mif\u001B[39;00m \u001B[38;5;129;01mnot\u001B[39;00m \u001B[38;5;28mself\u001B[39m._electrolyte:\n\u001B[32m    469\u001B[39m     pc_set = []\n\u001B[32m--> \u001B[39m\u001B[32m470\u001B[39m     \u001B[38;5;28;01mfor\u001B[39;00m p \u001B[38;5;129;01min\u001B[39;00m \u001B[38;5;28;43mself\u001B[39;49m\u001B[43m.\u001B[49m\u001B[43mphase_list\u001B[49m:\n\u001B[32m    471\u001B[39m         pobj = \u001B[38;5;28mself\u001B[39m.get_phase(p)\n\u001B[32m    472\u001B[39m         pc_list = \u001B[38;5;28mself\u001B[39m.get_phase(p).config.component_list\n",
      "\u001B[36mFile \u001B[39m\u001B[32mC:\\ProgramData\\Miniconda3\\envs\\examples\\Lib\\site-packages\\pyomo\\core\\base\\block.py:550\u001B[39m, in \u001B[36mBlockData.__getattr__\u001B[39m\u001B[34m(self, val)\u001B[39m\n\u001B[32m    547\u001B[39m     \u001B[38;5;28;01mreturn\u001B[39;00m _component_decorator(\u001B[38;5;28mself\u001B[39m, ModelComponentFactory.get_class(val))\n\u001B[32m    548\u001B[39m \u001B[38;5;66;03m# Since the base classes don't support getattr, we can just\u001B[39;00m\n\u001B[32m    549\u001B[39m \u001B[38;5;66;03m# throw the \"normal\" AttributeError\u001B[39;00m\n\u001B[32m--> \u001B[39m\u001B[32m550\u001B[39m \u001B[38;5;28;01mraise\u001B[39;00m \u001B[38;5;167;01mAttributeError\u001B[39;00m(\n\u001B[32m    551\u001B[39m     \u001B[33m\"\u001B[39m\u001B[33m'\u001B[39m\u001B[38;5;132;01m%s\u001B[39;00m\u001B[33m'\u001B[39m\u001B[33m object has no attribute \u001B[39m\u001B[33m'\u001B[39m\u001B[38;5;132;01m%s\u001B[39;00m\u001B[33m'\u001B[39m\u001B[33m\"\u001B[39m % (\u001B[38;5;28mself\u001B[39m.\u001B[34m__class__\u001B[39m.\u001B[34m__name__\u001B[39m, val)\n\u001B[32m    552\u001B[39m )\n",
      "\u001B[31mAttributeError\u001B[39m: '_ScalarGenericParameterBlock' object has no attribute 'phase_list'"
     ]
    }
   ],
   "execution_count": 11
  },
  {
   "cell_type": "markdown",
   "metadata": {},
   "source": [
    "### 2.1 Adding Unit Models\n",
    "\n",
    "Let us start adding the unit models we have imported to the flowsheet. Here, we are adding the Feed (assigned a name `I101` for Inlet), `Mixer` (assigned a name `M101`) and a `Heater` (assigned a name `H101`). Note that, all unit models need to be given a property package argument. In addition to that, there are several arguments depending on the unit model, please refer to the documentation for more details (https://idaes-pse.readthedocs.io/en/stable/reference_guides/model_libraries/generic/unit_models/index.html). For example, the `Mixer` unit model here must be specified the number of inlets that it will take in and the `Heater` can have specific settings enabled such as `has_pressure_change` or `has_phase_equilibrium`."
   ]
  },
  {
   "cell_type": "code",
   "metadata": {},
   "source": [
    "m.fs.I101 = Feed(property_package=m.fs.thermo_params)\n",
    "\n",
    "m.fs.I102 = Feed(property_package=m.fs.thermo_params)\n",
    "\n",
    "m.fs.M101 = Mixer(\n",
    "    property_package=m.fs.thermo_params,\n",
    "    num_inlets=3,\n",
    ")\n",
    "\n",
    "m.fs.H101 = Heater(\n",
    "    property_package=m.fs.thermo_params,\n",
    "    has_pressure_change=False,\n",
    "    has_phase_equilibrium=True,\n",
    ")"
   ],
   "outputs": [],
   "execution_count": null
  },
  {
   "cell_type": "markdown",
   "metadata": {
    "tags": [
     "exercise"
    ]
   },
   "source": [
    "<div class=\"alert alert-block alert-info\">\n",
    "<b>Inline Exercise:</b>\n",
    "Let us now add the StoichiometricReactor(assign the name R101) and pass the following arguments:\n",
    "      <ul>\n",
    "         <li>\"property_package\": m.fs.thermo_params</li>\n",
    "         <li>\"reaction_package\": m.fs.reaction_params </li>\n",
    "         <li>\"has_heat_of_reaction\": True </li>\n",
    "         <li>\"has_heat_transfer\": True</li>\n",
    "         <li>\"has_pressure_change\": False</li>\n",
    "      </ul>\n",
    "</div>"
   ]
  },
  {
   "cell_type": "code",
   "metadata": {
    "tags": [
     "exercise"
    ]
   },
   "source": [
    "# Todo: Add reactor with the specifications above"
   ],
   "outputs": [],
   "execution_count": null
  },
  {
   "cell_type": "code",
   "metadata": {
    "tags": [
     "solution"
    ]
   },
   "source": [
    "# Todo: Add reactor with the specifications above\n",
    "m.fs.R101 = StoichiometricReactor(\n",
    "    property_package=m.fs.thermo_params,\n",
    "    reaction_package=m.fs.reaction_params,\n",
    "    has_heat_of_reaction=True,\n",
    "    has_heat_transfer=True,\n",
    "    has_pressure_change=False,\n",
    ")"
   ],
   "outputs": [],
   "execution_count": null
  },
  {
   "cell_type": "markdown",
   "metadata": {},
   "source": [
    "Let us now add the Flash(assign the name F101) and pass the following arguments:\n",
    "      <ul>\n",
    "         <li>\"property_package\": m.fs.thermo_params</li>\n",
    "         <li>\"has_heat_transfer\": True</li>\n",
    "         <li>\"has_pressure_change\": False</li>\n",
    "      </ul>"
   ]
  },
  {
   "cell_type": "code",
   "metadata": {},
   "source": [
    "m.fs.F101 = Flash(\n",
    "    property_package=m.fs.thermo_params,\n",
    "    has_heat_transfer=True,\n",
    "    has_pressure_change=True,\n",
    ")"
   ],
   "outputs": [],
   "execution_count": null
  },
  {
   "cell_type": "markdown",
   "metadata": {},
   "source": [
    "Let us now add the Splitter(S101) with specific names for its output (purge and recycle), PressureChanger(C101) and the second Flash(F102)."
   ]
  },
  {
   "cell_type": "code",
   "metadata": {},
   "source": [
    "m.fs.S101 = Splitter(\n",
    "    property_package=m.fs.thermo_params,\n",
    "    ideal_separation=False,\n",
    "    outlet_list=[\"purge\", \"recycle\"],\n",
    ")\n",
    "\n",
    "\n",
    "m.fs.C101 = PressureChanger(\n",
    "    property_package=m.fs.thermo_params,\n",
    "    compressor=True,\n",
    "    thermodynamic_assumption=ThermodynamicAssumption.isothermal,\n",
    ")\n",
    "\n",
    "m.fs.F102 = Flash(\n",
    "    property_package=m.fs.thermo_params,\n",
    "    has_heat_transfer=True,\n",
    "    has_pressure_change=True,\n",
    ")"
   ],
   "outputs": [],
   "execution_count": null
  },
  {
   "cell_type": "markdown",
   "metadata": {},
   "source": [
    "Last, we will add the three Product blocks (P101, P102, P103). We use `Feed` blocks and `Product` blocks for convenience with reporting stream summaries and consistency"
   ]
  },
  {
   "cell_type": "code",
   "metadata": {},
   "source": [
    "m.fs.P101 = Product(property_package=m.fs.thermo_params)\n",
    "\n",
    "m.fs.P102 = Product(property_package=m.fs.thermo_params)\n",
    "\n",
    "m.fs.P103 = Product(property_package=m.fs.thermo_params)"
   ],
   "outputs": [],
   "execution_count": null
  },
  {
   "cell_type": "markdown",
   "metadata": {},
   "source": [
    "### 2.2 Connecting Unit Models using Arcs\n",
    "\n",
    "We have now added all the unit models we need to the flowsheet. However, we have not yet specified how the units are to be connected. To do this, we will be using the `Arc` which is a Pyomo component that takes in two arguments: `source` and `destination`. Let us connect the outlet of the inlets (I101, I102) to the inlet of the mixer (M101) and outlet of the mixer to the inlet of the heater(H101)."
   ]
  },
  {
   "cell_type": "markdown",
   "metadata": {},
   "source": [
    "![](HDA_flowsheet.png)"
   ]
  },
  {
   "cell_type": "code",
   "metadata": {},
   "source": [
    "m.fs.s01 = Arc(source=m.fs.I101.outlet, destination=m.fs.M101.inlet_1)\n",
    "m.fs.s02 = Arc(source=m.fs.I102.outlet, destination=m.fs.M101.inlet_2)\n",
    "m.fs.s03 = Arc(source=m.fs.M101.outlet, destination=m.fs.H101.inlet)"
   ],
   "outputs": [],
   "execution_count": null
  },
  {
   "cell_type": "markdown",
   "metadata": {
    "tags": [
     "exercise"
    ]
   },
   "source": [
    "<div class=\"alert alert-block alert-info\">\n",
    "<b>Inline Exercise:</b>\n",
    "Now, connect the H101 outlet to the R101 inlet using the cell above as a guide.\n",
    "</div>"
   ]
  },
  {
   "cell_type": "code",
   "metadata": {
    "tags": [
     "exercise"
    ]
   },
   "source": [
    "# Todo: Connect the H101 outlet to R101 inlet"
   ],
   "outputs": [],
   "execution_count": null
  },
  {
   "cell_type": "code",
   "metadata": {
    "tags": [
     "solution"
    ]
   },
   "source": [
    "# Todo: Connect the H101 outlet to R101 inlet\n",
    "m.fs.s04 = Arc(source=m.fs.H101.outlet, destination=m.fs.R101.inlet)"
   ],
   "outputs": [],
   "execution_count": null
  },
  {
   "cell_type": "markdown",
   "metadata": {},
   "source": [
    "We will now be connecting the rest of the flowsheet as shown below. Notice how the outlet names are different for the flash tanks F101 and F102 as they have a vapor and a liquid outlet. "
   ]
  },
  {
   "cell_type": "code",
   "metadata": {},
   "source": [
    "m.fs.s05 = Arc(source=m.fs.R101.outlet, destination=m.fs.F101.inlet)\n",
    "m.fs.s06 = Arc(source=m.fs.F101.vap_outlet, destination=m.fs.S101.inlet)\n",
    "m.fs.s07 = Arc(source=m.fs.F101.liq_outlet, destination=m.fs.F102.inlet)\n",
    "m.fs.s08 = Arc(source=m.fs.S101.recycle, destination=m.fs.C101.inlet)\n",
    "m.fs.s09 = Arc(source=m.fs.C101.outlet, destination=m.fs.M101.inlet_3)"
   ],
   "outputs": [],
   "execution_count": null
  },
  {
   "cell_type": "markdown",
   "metadata": {},
   "source": [
    "Last we will connect the outlet streams to the inlets of the Product blocks (P101, P102, P103)"
   ]
  },
  {
   "cell_type": "code",
   "metadata": {},
   "source": [
    "m.fs.s10 = Arc(source=m.fs.F102.vap_outlet, destination=m.fs.P101.inlet)\n",
    "m.fs.s11 = Arc(source=m.fs.F102.liq_outlet, destination=m.fs.P102.inlet)\n",
    "m.fs.s12 = Arc(source=m.fs.S101.purge, destination=m.fs.P103.inlet)"
   ],
   "outputs": [],
   "execution_count": null
  },
  {
   "cell_type": "markdown",
   "metadata": {},
   "source": [
    "We have now connected the unit model block using the arcs. However, each of these arcs link to ports on the two unit models that are connected. In this case, the ports consist of the state variables that need to be linked between the unit models. Pyomo provides a convenient method to write these equality constraints for us between two ports and this is done as follows:"
   ]
  },
  {
   "cell_type": "code",
   "metadata": {},
   "source": [
    "TransformationFactory(\"network.expand_arcs\").apply_to(m)"
   ],
   "outputs": [],
   "execution_count": null
  },
  {
   "cell_type": "markdown",
   "metadata": {},
   "source": [
    "### 2.3 Adding expressions to compute purity and operating costs\n",
    "\n",
    "In this section, we will add a few Expressions that allows us to evaluate the performance. Expressions provide a convenient way of calculating certain values that are a function of the variables defined in the model. For more details on Expressions, please refer to: https://pyomo.readthedocs.io/en/stable/explanation/modeling/network.html.\n",
    "\n",
    "For this flowsheet, we are interested in computing the purity of the product Benzene stream (i.e. the mole fraction) and the operating cost which is a sum of the cooling and heating cost. "
   ]
  },
  {
   "cell_type": "markdown",
   "metadata": {},
   "source": [
    "Let us first add an Expression to compute the mole fraction of benzene in the `vap_outlet` of F102 which is our product stream. Please note that the var flow_mol_phase_comp has the index - [time, phase, component]. As this is a steady-state flowsheet, the time index by default is 0. The valid phases are [\"Liq\", \"Vap\"]. Similarly the valid component list is [\"benzene\", \"toluene\", \"hydrogen\", \"methane\"]."
   ]
  },
  {
   "cell_type": "code",
   "metadata": {},
   "source": [
    "m.fs.purity = Expression(\n",
    "    expr=m.fs.F102.vap_outlet.flow_mol_phase_comp[0, \"Vap\", \"benzene\"]\n",
    "    / (\n",
    "        m.fs.F102.vap_outlet.flow_mol_phase_comp[0, \"Vap\", \"benzene\"]\n",
    "        + m.fs.F102.vap_outlet.flow_mol_phase_comp[0, \"Vap\", \"toluene\"]\n",
    "    )\n",
    ")"
   ],
   "outputs": [],
   "execution_count": null
  },
  {
   "cell_type": "markdown",
   "metadata": {},
   "source": [
    "Now, let us add an expression to compute the cooling cost assuming a cost of 0.212E-4 $/kW. Note that cooling utility is required for the reactor (R101) and the first flash (F101). "
   ]
  },
  {
   "cell_type": "code",
   "metadata": {},
   "source": [
    "m.fs.cooling_cost = Expression(\n",
    "    expr=0.212e-7 * (-m.fs.F101.heat_duty[0]) + 0.212e-7 * (-m.fs.R101.heat_duty[0])\n",
    ")"
   ],
   "outputs": [],
   "execution_count": null
  },
  {
   "cell_type": "markdown",
   "metadata": {},
   "source": [
    "\n",
    "Now, let us add an expression to compute the heating cost assuming the utility cost as follows:\n",
    "      <ul>\n",
    "         <li>2.2E-4 dollars/kW for H101</li>\n",
    "         <li>1.9E-4 dollars/kW for F102</li>\n",
    "      </ul>\n",
    "Note that the heat duty is in units of watt (J/s). "
   ]
  },
  {
   "cell_type": "code",
   "metadata": {},
   "source": [
    "m.fs.heating_cost = Expression(\n",
    "    expr=2.2e-7 * m.fs.H101.heat_duty[0] + 1.9e-7 * m.fs.F102.heat_duty[0]\n",
    ")"
   ],
   "outputs": [],
   "execution_count": null
  },
  {
   "cell_type": "markdown",
   "metadata": {},
   "source": [
    "Let us now add an expression to compute the total operating cost per year which is basically the sum of the cooling and heating cost we defined above. "
   ]
  },
  {
   "cell_type": "code",
   "metadata": {},
   "source": [
    "m.fs.operating_cost = Expression(\n",
    "    expr=(3600 * 24 * 365 * (m.fs.heating_cost + m.fs.cooling_cost))\n",
    ")"
   ],
   "outputs": [],
   "execution_count": null
  },
  {
   "cell_type": "markdown",
   "metadata": {},
   "source": [
    "## 3 Scaling the Model\n",
    "\n",
    "In this example, we will simply use the ``AutoScaler`` method to scale our model since this example is focused on introductory flowsheet building for a full process system.\n",
    "\n",
    "For more direct control, a manual, magnitude based approach can be used. If this method is chosen or appropriate, it is highly recommended to look at these documentation:\n",
    "- Scaling Toolbox https://idaes-pse.readthedocs.io/en/stable/reference_guides/scaling/scaling.html\n",
    "- Scaling Workshop https://idaes-examples.readthedocs.io/en/latest/docs/scaling/scaler_workshop_doc.html.\n",
    "\n",
    "In this example, we already imported the ``AutoScaler`` class in the beginning so we just create the ``autoscaler`` object and call the ``scale_model`` method on the model `m`."
   ]
  },
  {
   "cell_type": "code",
   "metadata": {},
   "source": [
    "autoscaler = AutoScaler()\n",
    "autoscaler.scale_model(m)"
   ],
   "outputs": [],
   "execution_count": null
  },
  {
   "cell_type": "markdown",
   "metadata": {},
   "source": [
    "## 4 Specifying the Model\n",
    "### 4.1 Fixing feed conditions\n",
    "\n",
    "Let us first check how many degrees of freedom exist for this flowsheet using the `degrees_of_freedom` tool we imported earlier. "
   ]
  },
  {
   "cell_type": "code",
   "metadata": {},
   "source": [
    "print(degrees_of_freedom(m))"
   ],
   "outputs": [],
   "execution_count": null
  },
  {
   "cell_type": "code",
   "metadata": {
    "tags": [
     "testing"
    ]
   },
   "source": [
    "# Check the degrees of freedom\n",
    "assert degrees_of_freedom(m) == 29"
   ],
   "outputs": [],
   "execution_count": null
  },
  {
   "cell_type": "markdown",
   "metadata": {},
   "source": [
    "We will now be fixing the toluene feed (`I101`) stream to the conditions shown in the flowsheet above. Please note that though this is a pure toluene feed, the remaining components are still assigned a very small non-zero value to help with convergence and initializing."
   ]
  },
  {
   "cell_type": "code",
   "metadata": {},
   "source": [
    "m.fs.I101.flow_mol_phase_comp[0, \"Vap\", \"benzene\"].fix(1e-5)\n",
    "m.fs.I101.flow_mol_phase_comp[0, \"Vap\", \"toluene\"].fix(1e-5)\n",
    "m.fs.I101.flow_mol_phase_comp[0, \"Vap\", \"hydrogen\"].fix(1e-5)\n",
    "m.fs.I101.flow_mol_phase_comp[0, \"Vap\", \"methane\"].fix(1e-5)\n",
    "m.fs.I101.flow_mol_phase_comp[0, \"Liq\", \"benzene\"].fix(1e-5)\n",
    "m.fs.I101.flow_mol_phase_comp[0, \"Liq\", \"toluene\"].fix(0.30)\n",
    "m.fs.I101.flow_mol_phase_comp[0, \"Liq\", \"hydrogen\"].fix(1e-5)\n",
    "m.fs.I101.flow_mol_phase_comp[0, \"Liq\", \"methane\"].fix(1e-5)\n",
    "m.fs.I101.temperature.fix(303.2)\n",
    "m.fs.I101.pressure.fix(350000)"
   ],
   "outputs": [],
   "execution_count": null
  },
  {
   "cell_type": "markdown",
   "metadata": {},
   "source": [
    "\n",
    "Similarly, let us fix the hydrogen feed (`I102`) to the following conditions in the next cell:\n",
    "      <ul>\n",
    "         <li>F<sub>H2</sub> = 0.30 mol/s</li>\n",
    "         <li>F<sub>CH4</sub> = 0.02 mol/s</li>\n",
    "         <li>Remaining components = 1e-5 mol/s</li>\n",
    "         <li>T = 303.2 K</li>\n",
    "         <li>P = 350000 Pa</li>\n",
    "      </ul>\n",
    "\n"
   ]
  },
  {
   "cell_type": "code",
   "metadata": {},
   "source": [
    "m.fs.I102.flow_mol_phase_comp[0, \"Vap\", \"benzene\"].fix(1e-5)\n",
    "m.fs.I102.flow_mol_phase_comp[0, \"Vap\", \"toluene\"].fix(1e-5)\n",
    "m.fs.I102.flow_mol_phase_comp[0, \"Vap\", \"hydrogen\"].fix(0.30)\n",
    "m.fs.I102.flow_mol_phase_comp[0, \"Vap\", \"methane\"].fix(0.02)\n",
    "m.fs.I102.flow_mol_phase_comp[0, \"Liq\", \"benzene\"].fix(1e-5)\n",
    "m.fs.I102.flow_mol_phase_comp[0, \"Liq\", \"toluene\"].fix(1e-5)\n",
    "m.fs.I102.flow_mol_phase_comp[0, \"Liq\", \"hydrogen\"].fix(1e-5)\n",
    "m.fs.I102.flow_mol_phase_comp[0, \"Liq\", \"methane\"].fix(1e-5)\n",
    "m.fs.I102.temperature.fix(303.2)\n",
    "m.fs.I102.pressure.fix(350000)"
   ],
   "outputs": [],
   "execution_count": null
  },
  {
   "cell_type": "markdown",
   "metadata": {},
   "source": [
    "### 4.2 Fixing unit model specifications\n",
    "\n",
    "Now that we have fixed our inlet feed conditions, we will now be fixing the operating conditions for the unit models in the flowsheet. Let us set set the H101 outlet temperature to 600 K. "
   ]
  },
  {
   "cell_type": "code",
   "metadata": {},
   "source": [
    "m.fs.H101.outlet.temperature.fix(600)"
   ],
   "outputs": [],
   "execution_count": null
  },
  {
   "cell_type": "markdown",
   "metadata": {},
   "source": [
    "For the StoichiometricReactor, we have to define the conversion in terms of toluene. This requires us to create a new variable for specifying the conversion and adding a Constraint that defines the conversion with respect to toluene. The second degree of freedom for the reactor is to define the heat duty. In this case, let us assume the reactor to be adiabatic i.e. Q = 0. "
   ]
  },
  {
   "cell_type": "code",
   "metadata": {},
   "source": [
    "m.fs.R101.conversion = Var(initialize=0.75, bounds=(0, 1))\n",
    "\n",
    "m.fs.R101.conv_constraint = Constraint(\n",
    "    expr=m.fs.R101.conversion * m.fs.R101.inlet.flow_mol_phase_comp[0, \"Vap\", \"toluene\"]\n",
    "    == (\n",
    "        m.fs.R101.inlet.flow_mol_phase_comp[0, \"Vap\", \"toluene\"]\n",
    "        - m.fs.R101.outlet.flow_mol_phase_comp[0, \"Vap\", \"toluene\"]\n",
    "    )\n",
    ")\n",
    "\n",
    "m.fs.R101.conversion.fix(0.75)\n",
    "m.fs.R101.heat_duty.fix(0)"
   ],
   "outputs": [],
   "execution_count": null
  },
  {
   "cell_type": "markdown",
   "metadata": {},
   "source": [
    "The Flash conditions for F101 can be set as follows. "
   ]
  },
  {
   "cell_type": "code",
   "metadata": {},
   "source": [
    "m.fs.F101.vap_outlet.temperature.fix(325.0)\n",
    "m.fs.F101.deltaP.fix(0)"
   ],
   "outputs": [],
   "execution_count": null
  },
  {
   "cell_type": "markdown",
   "metadata": {
    "tags": [
     "exercise"
    ]
   },
   "source": [
    "<div class=\"alert alert-block alert-info\">\n",
    "<b>Inline Exercise:</b>\n",
    "Set the conditions for Flash F102 to the following conditions:\n",
    "      <ul>\n",
    "         <li>T = 375 K</li>\n",
    "         <li>deltaP = -200000</li>\n",
    "      </ul>\n",
    "\n",
    "Use Shift+Enter to run the cell once you have typed in your code. \n",
    "</div>"
   ]
  },
  {
   "cell_type": "code",
   "metadata": {
    "tags": [
     "exercise"
    ]
   },
   "source": [
    "# Todo: Set conditions for Flash F102"
   ],
   "outputs": [],
   "execution_count": null
  },
  {
   "cell_type": "code",
   "metadata": {
    "tags": [
     "solution"
    ]
   },
   "source": [
    "m.fs.F102.vap_outlet.temperature.fix(375)\n",
    "m.fs.F102.deltaP.fix(-200000)"
   ],
   "outputs": [],
   "execution_count": null
  },
  {
   "cell_type": "markdown",
   "metadata": {},
   "source": [
    "Let us fix the purge split fraction to 20% and the outlet pressure of the compressor is set to 350000 Pa. "
   ]
  },
  {
   "cell_type": "code",
   "metadata": {},
   "source": [
    "m.fs.S101.split_fraction[0, \"purge\"].fix(0.2)\n",
    "m.fs.C101.outlet.pressure.fix(350000)"
   ],
   "outputs": [],
   "execution_count": null
  },
  {
   "cell_type": "markdown",
   "metadata": {
    "tags": [
     "exercise"
    ]
   },
   "source": [
    "<div class=\"alert alert-block alert-info\">\n",
    "<b>Inline Exercise:</b>\n",
    "We have now defined all the feed conditions and the inputs required for the unit models. The system should now have 0 degrees of freedom i.e. should be a square problem. Please check that the degrees of freedom is 0. \n",
    "\n",
    "Use Shift+Enter to run the cell once you have typed in your code. \n",
    "</div>"
   ]
  },
  {
   "cell_type": "code",
   "metadata": {
    "tags": [
     "exercise"
    ]
   },
   "source": [
    "# Todo: print the degrees of freedom"
   ],
   "outputs": [],
   "execution_count": null
  },
  {
   "cell_type": "code",
   "metadata": {
    "tags": [
     "solution"
    ]
   },
   "source": [
    "print(degrees_of_freedom(m))"
   ],
   "outputs": [],
   "execution_count": null
  },
  {
   "cell_type": "code",
   "metadata": {
    "tags": [
     "testing"
    ]
   },
   "source": [
    "# Check the degrees of freedom\n",
    "assert degrees_of_freedom(m) == 0"
   ],
   "outputs": [],
   "execution_count": null
  },
  {
   "cell_type": "code",
   "metadata": {
    "tags": [
     "noauto"
    ]
   },
   "source": [],
   "outputs": [],
   "execution_count": null
  },
  {
   "cell_type": "markdown",
   "metadata": {},
   "source": [
    "## 5 Initializing the Model\n",
    "\n",
    "\n",
    "\n",
    "When a flowsheet contains a recycle loop, the outlet of a downstream unit becomes the inlet of an upstream unit, creating a cyclic dependency that prevents straightforward calculation of all stream conditions. The tear‐stream method is necessary because it “breaks” this loop: you select one recycle stream as the tear, assign it an initial guess, and then solve the rest of the flowsheet as if it were acyclic. Once the downstream units compute their outputs, you compare the calculated value of the torn stream to your initial guess and iteratively adjust until they coincide. Without tearing, the solver cannot establish a proper topological sequence or drive the recycle to convergence, making initialization—and ultimately steady‐state convergence—impossible.\n",
    "\n",
    "It is important to determine the tear stream for a flowsheet which will be demonstrated below.\n",
    "\n",
    "\n",
    "![](HDA_flowsheet.png)\n",
    "\n",
    "Currently, there are two methods of initializing a full flowsheet: using the sequential decomposition tool, or manually propagating through the flowsheet. Both methods will be shown.\n",
    "\n",
    "### 5.1 Sequential Decomposition\n",
    "\n",
    "This section will demonstrate how to use the built-in sequential decomposition tool to initialize our flowsheet. Sequential Decomposition is a tool from Pyomo where the documentation can be found here https://Pyomo.readthedocs.io/en/stable/explanation/modeling/network.html#sequential-decomposition\n"
   ]
  },
  {
   "cell_type": "markdown",
   "metadata": {},
   "source": [
    "Let us first create an object for the SequentialDecomposition and specify our options for this.  We can also create a graph for our flowsheet to determine the tear set and order."
   ]
  },
  {
   "cell_type": "code",
   "metadata": {},
   "source": [
    "seq = SequentialDecomposition()\n",
    "seq.options.select_tear_method = \"heuristic\"\n",
    "seq.options.tear_method = \"Wegstein\"\n",
    "seq.options.iterLim = 3\n",
    "\n",
    "# Using the SD tool\n",
    "G = seq.create_graph(m)\n",
    "heuristic_tear_set = seq.tear_set_arcs(G, method=\"heuristic\")\n",
    "order = seq.calculation_order(G)"
   ],
   "outputs": [],
   "execution_count": null
  },
  {
   "cell_type": "markdown",
   "metadata": {},
   "source": [
    "Which is the tear stream? Display tear set and order"
   ]
  },
  {
   "cell_type": "code",
   "metadata": {},
   "source": [
    "for o in heuristic_tear_set:\n",
    "    print(o.name)"
   ],
   "outputs": [],
   "execution_count": null
  },
  {
   "cell_type": "markdown",
   "metadata": {},
   "source": [
    "What sequence did the SD tool determine to solve this flowsheet with the least number of tears? "
   ]
  },
  {
   "cell_type": "code",
   "metadata": {
    "scrolled": true
   },
   "source": [
    "for o in order:\n",
    "    print(o[0].name)"
   ],
   "outputs": [],
   "execution_count": null
  },
  {
   "cell_type": "markdown",
   "metadata": {},
   "source": [
    " \n",
    "\n",
    "![](HDA_tear_stream.png) \n",
    "\n",
    "\n",
    "The SequentialDecomposition tool has determined that the tear stream is the mixer outlet. You can see this shown in the picture of the flowsheet above as the outlet of the mixer as the two lines crossing it identifying it as the tear stream. We will need to provide a reasonable guess for this."
   ]
  },
  {
   "cell_type": "code",
   "metadata": {},
   "source": [
    "tear_guesses = {\n",
    "    \"flow_mol_phase_comp\": {\n",
    "        (0, \"Liq\", \"benzene\"): 1e-5,\n",
    "        (0, \"Liq\", \"toluene\"): 0.30,\n",
    "        (0, \"Liq\", \"methane\"): 1e-5,\n",
    "        (0, \"Liq\", \"hydrogen\"): 1e-5,\n",
    "        (0, \"Vap\", \"benzene\"): 1e-5,\n",
    "        (0, \"Vap\", \"toluene\"): 1e-5,\n",
    "        (0, \"Vap\", \"methane\"): 0.02,\n",
    "        (0, \"Vap\", \"hydrogen\"): 0.30,\n",
    "    },\n",
    "    \"temperature\": {0: 303},\n",
    "    \"pressure\": {0: 350000},\n",
    "}\n",
    "\n",
    "# Pass the tear_guess to the SD tool\n",
    "seq.set_guesses_for(m.fs.H101.inlet, tear_guesses)"
   ],
   "outputs": [],
   "execution_count": null
  },
  {
   "cell_type": "markdown",
   "metadata": {},
   "source": [
    "Next, we need to tell the tool how to initialize a particular unit. We will be writing a python function which takes in a \"unit\" and calls the initialize method on that unit. "
   ]
  },
  {
   "cell_type": "code",
   "metadata": {},
   "source": [
    "def function(unit):\n",
    "    try:\n",
    "        initializer = unit.default_initializer()\n",
    "        initializer.initialize(unit, output_level=idaeslog.INFO)\n",
    "    except InitializationError:\n",
    "        solver = get_solver()\n",
    "        solver.solve(unit)"
   ],
   "outputs": [],
   "execution_count": null
  },
  {
   "cell_type": "markdown",
   "metadata": {},
   "source": [
    "We are now ready to initialize our flowsheet in a sequential mode. Note that we specifically set the iteration limit to be 5 as we are trying to use this tool only to get a good set of initial values such that IPOPT can then take over and solve this flowsheet for us. "
   ]
  },
  {
   "cell_type": "code",
   "metadata": {},
   "source": [
    "# seq.run(m, function)"
   ],
   "outputs": [],
   "execution_count": null
  },
  {
   "cell_type": "markdown",
   "metadata": {},
   "source": [
    "### 5.2 Manual Propagation Method\n",
    "\n",
    "This method uses a more direct approach to initialize the flowsheet, utilizing the updated initializer method and propagating manually through the flowsheet and solving for the tear stream directly.\n",
    "Lets first import a helper function that will help us manually propagate and step through the flowsheet"
   ]
  },
  {
   "cell_type": "code",
   "metadata": {},
   "source": [
    "from idaes.core.util.initialization import propagate_state"
   ],
   "outputs": [],
   "execution_count": null
  },
  {
   "cell_type": "markdown",
   "metadata": {},
   "source": [
    "Now we can setup our initial guesses for the tear stream which we know is the outlet of the `Mixer` or the inlet of the `Heater`. We can use the same initial guesses used in the first method. We also want to ensure that the degrees of freedom are consistent while we manually initialize the model.\n",
    "\n",
    "We will first ensure that are current degrees of freedom is still zero"
   ]
  },
  {
   "cell_type": "code",
   "metadata": {},
   "source": [
    "print(f\"The DOF is {degrees_of_freedom(m)} initially\")"
   ],
   "outputs": [],
   "execution_count": null
  },
  {
   "cell_type": "markdown",
   "metadata": {},
   "source": [
    "Now we can manually deactivate the tear stream, creating a separation between the `Mixer` and `Heater`. This should reduce the degrees of freedom by 10 since the inlet of the `Heater` now contains no values to solve the unit model. To deactivate a stream, simply use `m.fs.s03_expanded.deactivate()`. This expanded stream is just a different version of the `Arc` stream that is able to be deactivated."
   ]
  },
  {
   "cell_type": "code",
   "metadata": {},
   "source": [
    "m.fs.s03_expanded.deactivate()\n",
    "\n",
    "print(f\"The DOF is {degrees_of_freedom(m)} after deactivating the tear stream\")"
   ],
   "outputs": [],
   "execution_count": null
  },
  {
   "cell_type": "markdown",
   "metadata": {},
   "source": [
    "Now we can provide the `Heater` inlet 10 guess values to bring the degrees of freedom back to 0 and start the manual initialization process. We can run this convenient loop to assign each of these guesses to the inlet of the heater."
   ]
  },
  {
   "cell_type": "code",
   "metadata": {},
   "source": [
    "tear_guesses = {\n",
    "    \"flow_mol_phase_comp\": {\n",
    "        (0, \"Liq\", \"benzene\"): 1e-5,\n",
    "        (0, \"Liq\", \"toluene\"): 0.30,\n",
    "        (0, \"Liq\", \"methane\"): 1e-5,\n",
    "        (0, \"Liq\", \"hydrogen\"): 1e-5,\n",
    "        (0, \"Vap\", \"benzene\"): 1e-5,\n",
    "        (0, \"Vap\", \"toluene\"): 1e-5,\n",
    "        (0, \"Vap\", \"methane\"): 0.5,\n",
    "        (0, \"Vap\", \"hydrogen\"): 0.5,\n",
    "    },\n",
    "    \"temperature\": {0: 303},\n",
    "    \"pressure\": {0: 350000},\n",
    "}\n",
    "\n",
    "for k, v in tear_guesses.items():\n",
    "    for k1, v1 in v.items():\n",
    "        getattr(m.fs.s03.destination, k)[k1].fix(v1)\n",
    "\n",
    "DOF_initial = degrees_of_freedom(m)\n",
    "print(f\"The DOF is {degrees_of_freedom(m)} after providing the initial guesses\")"
   ],
   "outputs": [],
   "execution_count": null
  },
  {
   "cell_type": "markdown",
   "metadata": {},
   "source": [
    "The next step is to manually initialize each unit model starting from the `Heater` and then propagate the connection between it and the next unit model. This manual process ensures a strict order to the user's specification if that is desired. The current standard for initializing a unit model is to use an initializer object most compatible for that unit model. This can most often be done by utilizing the `default_initializer()` method attached to the unit model and then to call the `initialize()` method with the unit model as the argument."
   ]
  },
  {
   "cell_type": "code",
   "metadata": {},
   "source": [
    "m.fs.H101.default_initializer().initialize(m.fs.H101)  # Initialize Heater\n",
    "propagate_state(m.fs.s04)  # Establish connection between Heater and Reactor\n",
    "m.fs.R101.default_initializer().initialize(m.fs.R101)  # Initialize Reactor\n",
    "propagate_state(m.fs.s05)  # Establish connection between Reactor and First Flash Unit\n",
    "m.fs.F101.default_initializer().initialize(m.fs.F101)  # Initialize First Flash Unit\n",
    "propagate_state(m.fs.s06)  # Establish connection between First Flash Unit and Splitter\n",
    "propagate_state(\n",
    "    m.fs.s07\n",
    ")  # Establish connection between First Flash Unit and Second Flash Unit\n",
    "m.fs.S101.default_initializer().initialize(m.fs.S101)  # Initialize Splitter\n",
    "propagate_state(m.fs.s08)  # Establish connection between Splitter and Compressor\n",
    "m.fs.C101.default_initializer().initialize(m.fs.C101)  # Initialize Compressor\n",
    "propagate_state(m.fs.s09)  # Establish connection between Compressor and Mixer\n",
    "m.fs.I101.default_initializer().initialize(m.fs.I101)  # Initialize Toluene Inlet\n",
    "propagate_state(m.fs.s01)  # Establish connection between Toluene Inlet and Mixer\n",
    "m.fs.I102.default_initializer().initialize(m.fs.I102)  # Initialize Hydrogen Inlet\n",
    "propagate_state(m.fs.s02)  # Establish connection between Hydrogen Inlet and Mixer\n",
    "m.fs.M101.default_initializer().initialize(m.fs.M101)  # Initialize Mixer\n",
    "propagate_state(m.fs.s03)  # Establish connection between Mixer and Heater\n",
    "m.fs.F102.default_initializer().initialize(m.fs.F102)  # Initialize Second Flash Unit\n",
    "propagate_state(\n",
    "    m.fs.s10\n",
    ")  # Establish connection between Second Flash Unit and Benzene Product\n",
    "propagate_state(\n",
    "    m.fs.s11\n",
    ")  # Establish connection between Second Flash Unit and Toluene Product\n",
    "propagate_state(m.fs.s12)  # Establish connection between Splitter and Purge Product"
   ],
   "outputs": [],
   "execution_count": null
  },
  {
   "cell_type": "markdown",
   "metadata": {},
   "source": [
    "Now we solve the system to allow the outlet of the mixer to reach a converged congruence with the inlet of the heater."
   ]
  },
  {
   "cell_type": "code",
   "metadata": {},
   "source": [
    "optarg = {\n",
    "    \"nlp_scaling_method\": \"user-scaling\",\n",
    "    \"OF_ma57_automatic_scaling\": \"yes\",\n",
    "    \"max_iter\": 300,\n",
    "    \"tol\": 1e-8,\n",
    "}\n",
    "solver = get_solver(options=optarg)\n",
    "results = solver.solve(m, tee=True)"
   ],
   "outputs": [],
   "execution_count": null
  },
  {
   "cell_type": "markdown",
   "metadata": {},
   "source": [
    "Now that the flowsheet is initialized, we can unfix the guesses for the `Heater` and reactive the tear stream to complete the final solve."
   ]
  },
  {
   "cell_type": "code",
   "metadata": {},
   "source": [
    "for k, v in tear_guesses.items():\n",
    "    for k1, v1 in v.items():\n",
    "        getattr(m.fs.H101.inlet, k)[k1].unfix()\n",
    "\n",
    "m.fs.s03_expanded.activate()\n",
    "print(\n",
    "    f\"The DOF is {degrees_of_freedom(m)} after unfixing the values and reactivating the tear stream\"\n",
    ")"
   ],
   "outputs": [],
   "execution_count": null
  },
  {
   "cell_type": "markdown",
   "metadata": {},
   "source": [
    "## 6 Solving the Model"
   ]
  },
  {
   "cell_type": "markdown",
   "metadata": {
    "tags": []
   },
   "source": [
    "We have now initialized the flowsheet. Lets set up some solving options before simulating the flowsheet. We want to specify the scaling method, number of iterations, and tolerance. More specific or advanced options can be found at the documentation for IPOPT https://coin-or.github.io/Ipopt/OPTIONS.html"
   ]
  },
  {
   "cell_type": "code",
   "metadata": {},
   "source": [
    "optarg = {\n",
    "    \"nlp_scaling_method\": \"user-scaling\",\n",
    "    \"OF_ma57_automatic_scaling\": \"yes\",\n",
    "    \"max_iter\": 1000,\n",
    "    \"tol\": 1e-8,\n",
    "}"
   ],
   "outputs": [],
   "execution_count": null
  },
  {
   "cell_type": "markdown",
   "metadata": {
    "tags": [
     "exercise"
    ]
   },
   "source": [
    "<div class=\"alert alert-block alert-info\">\n",
    "<b>Inline Exercise:</b>\n",
    "Let us run the flowsheet in a simulation mode to look at the results. To do this, complete the last line of code where we pass the model to the solver. You will need to type the following:\n",
    "\n",
    "solver = get_solver(solver_options=optarg)<br>\n",
    "results = solver.solve(m, tee=True)\n",
    "\n",
    "Use Shift+Enter to run the cell once you have typed in your code.\n",
    "</div>\n"
   ]
  },
  {
   "cell_type": "code",
   "metadata": {
    "tags": [
     "exercise"
    ]
   },
   "source": [
    "# Create the solver object\n",
    "\n",
    "# Solve the model"
   ],
   "outputs": [],
   "execution_count": null
  },
  {
   "cell_type": "code",
   "metadata": {
    "tags": [
     "solution"
    ]
   },
   "source": [
    "# Create the solver object\n",
    "solver = get_solver(solver_options=optarg)\n",
    "\n",
    "# Solve the model\n",
    "results = solver.solve(m, tee=True)"
   ],
   "outputs": [],
   "execution_count": null
  },
  {
   "cell_type": "code",
   "metadata": {
    "tags": [
     "testing"
    ]
   },
   "source": [
    "# Check solver solve status\n",
    "from pyomo.environ import TerminationCondition\n",
    "\n",
    "assert results.solver.termination_condition == TerminationCondition.optimal"
   ],
   "outputs": [],
   "execution_count": null
  },
  {
   "cell_type": "markdown",
   "metadata": {},
   "source": [
    "## 7 Analyze the results\n",
    "\n",
    "\n"
   ]
  },
  {
   "cell_type": "markdown",
   "metadata": {},
   "source": [
    "If the IDAES UI package was installed with the `idaes-pse` installation or installed separately, you can run the flowsheet visualizer to see a full diagram of the full process that is generated and displayed on a browser window.\n"
   ]
  },
  {
   "cell_type": "code",
   "metadata": {
    "tags": [
     "noauto"
    ]
   },
   "source": [
    "# m.fs.visualize(\"HDA-Flowsheet\")"
   ],
   "outputs": [],
   "execution_count": null
  },
  {
   "cell_type": "markdown",
   "metadata": {},
   "source": [
    "Otherwise, we can run the `m.fs.report()` method to see a full summary of the solved flowsheet. It is recommended to adjust the width of the output as much as possible for the cleanest display."
   ]
  },
  {
   "cell_type": "code",
   "metadata": {},
   "source": [
    "m.fs.report()"
   ],
   "outputs": [],
   "execution_count": null
  },
  {
   "cell_type": "markdown",
   "metadata": {},
   "source": [
    "What is the total operating cost?"
   ]
  },
  {
   "cell_type": "code",
   "metadata": {},
   "source": [
    "print(\"operating cost = $\", value(m.fs.operating_cost))"
   ],
   "outputs": [],
   "execution_count": null
  },
  {
   "cell_type": "code",
   "metadata": {
    "tags": [
     "testing"
    ]
   },
   "source": [
    "import pytest\n",
    "\n",
    "assert value(m.fs.operating_cost) == pytest.approx(419122.3387, abs=1e-3)"
   ],
   "outputs": [],
   "execution_count": null
  },
  {
   "cell_type": "markdown",
   "metadata": {},
   "source": [
    "For this operating cost, what is the amount of benzene we are able to produce and what purity we are able to achieve?  We can look at a specific unit models stream table with the same `report()` method."
   ]
  },
  {
   "cell_type": "code",
   "metadata": {},
   "source": [
    "m.fs.F102.report()\n",
    "\n",
    "print()\n",
    "print(\"benzene purity = \", value(m.fs.purity))"
   ],
   "outputs": [],
   "execution_count": null
  },
  {
   "cell_type": "code",
   "metadata": {
    "tags": [
     "testing"
    ]
   },
   "source": [
    "assert value(m.fs.purity) == pytest.approx(0.82429, abs=1e-3)\n",
    "assert value(m.fs.F102.heat_duty[0]) == pytest.approx(7352.4828, abs=1e-3)\n",
    "assert value(m.fs.F102.vap_outlet.pressure[0]) == pytest.approx(1.5000e05, abs=1e-3)"
   ],
   "outputs": [],
   "execution_count": null
  },
  {
   "cell_type": "markdown",
   "metadata": {},
   "source": [
    "Next, let's look at how much benzene we are losing with the light gases out of F101. IDAES has tools for creating stream tables based on the `Arcs` and/or `Ports` in a flowsheet. Let us create and print a simple stream table showing the stream leaving the reactor and the vapor stream from F101."
   ]
  },
  {
   "cell_type": "code",
   "metadata": {},
   "source": [
    "from idaes.core.util.tables import (\n",
    "    create_stream_table_dataframe,\n",
    "    stream_table_dataframe_to_string,\n",
    ")\n",
    "\n",
    "st = create_stream_table_dataframe({\"Reactor\": m.fs.s05, \"Light Gases\": m.fs.s06})\n",
    "print(stream_table_dataframe_to_string(st))"
   ],
   "outputs": [],
   "execution_count": null
  },
  {
   "cell_type": "markdown",
   "metadata": {},
   "source": [
    "## 8 Optimization\n",
    "\n",
    "\n",
    "We saw from the results above that the total operating cost for the base case was $419,122 per year. We are producing 0.142 mol/s of benzene at a purity of 82\\%. However, we are losing around 42\\% of benzene in F101 vapor outlet stream. \n",
    "\n",
    "Let us try to minimize this cost such that:\n",
    "- we are producing at least 0.15 mol/s of benzene in F102 vapor outlet i.e. our product stream\n",
    "- purity of benzene i.e. the mole fraction of benzene in F102 vapor outlet is at least 80%\n",
    "- restricting the benzene loss in F101 vapor outlet to less than 20%\n",
    "\n",
    "For this problem, our decision variables are as follows:\n",
    "- H101 outlet temperature\n",
    "- R101 cooling duty provided\n",
    "- F101 outlet temperature\n",
    "- F102 outlet temperature\n",
    "- F102 deltaP in the flash tank\n"
   ]
  },
  {
   "cell_type": "markdown",
   "metadata": {},
   "source": [
    "Let us declare our objective function for this problem. "
   ]
  },
  {
   "cell_type": "code",
   "metadata": {},
   "source": [
    "m.fs.objective = Objective(expr=m.fs.operating_cost)"
   ],
   "outputs": [],
   "execution_count": null
  },
  {
   "cell_type": "markdown",
   "metadata": {},
   "source": [
    "Now, we need to unfix the decision variables as we had solved a square problem (degrees of freedom = 0) until now. "
   ]
  },
  {
   "cell_type": "code",
   "metadata": {},
   "source": [
    "m.fs.H101.outlet.temperature.unfix()\n",
    "m.fs.R101.heat_duty.unfix()\n",
    "m.fs.F101.vap_outlet.temperature.unfix()\n",
    "m.fs.F102.vap_outlet.temperature.unfix()"
   ],
   "outputs": [],
   "execution_count": null
  },
  {
   "cell_type": "markdown",
   "metadata": {
    "tags": [
     "exercise"
    ]
   },
   "source": [
    "<div class=\"alert alert-block alert-info\">\n",
    "<b>Inline Exercise:</b>\n",
    "Let us now unfix the remaining variable which is F102 pressure drop (F102.deltaP) \n",
    "\n",
    "Use Shift+Enter to run the cell once you have typed in your code. \n",
    "</div>\n",
    "\n"
   ]
  },
  {
   "cell_type": "code",
   "metadata": {
    "tags": [
     "exercise"
    ]
   },
   "source": [
    "# Todo: Unfix deltaP for F102"
   ],
   "outputs": [],
   "execution_count": null
  },
  {
   "cell_type": "code",
   "metadata": {
    "tags": [
     "solution"
    ]
   },
   "source": [
    "# Todo: Unfix deltaP for F102\n",
    "m.fs.F102.deltaP.unfix()"
   ],
   "outputs": [],
   "execution_count": null
  },
  {
   "cell_type": "code",
   "metadata": {
    "tags": [
     "testing"
    ]
   },
   "source": [
    "assert degrees_of_freedom(m) == 5"
   ],
   "outputs": [],
   "execution_count": null
  },
  {
   "cell_type": "markdown",
   "metadata": {},
   "source": [
    "Next, we need to set bounds on these decision variables to values shown below:\n",
    "\n",
    " - H101 outlet temperature [500, 600] K\n",
    " - R101 outlet temperature [600, 800] K\n",
    " - F101 outlet temperature [298, 450] K\n",
    " - F102 outlet temperature [298, 450] K\n",
    " - F102 outlet pressure [105000, 110000] Pa\n",
    "\n",
    "Let us first set the variable bound for the H101 outlet temperature as shown below:"
   ]
  },
  {
   "cell_type": "code",
   "metadata": {},
   "source": [
    "m.fs.H101.outlet.temperature[0].setlb(500)\n",
    "m.fs.H101.outlet.temperature[0].setub(600)"
   ],
   "outputs": [],
   "execution_count": null
  },
  {
   "cell_type": "markdown",
   "metadata": {
    "tags": [
     "exercise"
    ]
   },
   "source": [
    "<div class=\"alert alert-block alert-info\">\n",
    "<b>Inline Exercise:</b>\n",
    "Now, set the variable bound for the R101 outlet temperature.\n",
    "\n",
    "Use Shift+Enter to run the cell once you have typed in your code. \n",
    "</div>"
   ]
  },
  {
   "cell_type": "code",
   "metadata": {
    "tags": [
     "exercise"
    ]
   },
   "source": [
    "# Todo: Set the bounds for reactor outlet temperature"
   ],
   "outputs": [],
   "execution_count": null
  },
  {
   "cell_type": "code",
   "metadata": {
    "tags": [
     "solution"
    ]
   },
   "source": [
    "# Todo: Set the bounds for reactor outlet temperature\n",
    "m.fs.R101.outlet.temperature[0].setlb(600)\n",
    "m.fs.R101.outlet.temperature[0].setub(800)"
   ],
   "outputs": [],
   "execution_count": null
  },
  {
   "cell_type": "markdown",
   "metadata": {},
   "source": [
    "Let us fix the bounds for the rest of the decision variables. "
   ]
  },
  {
   "cell_type": "code",
   "metadata": {},
   "source": [
    "m.fs.F101.vap_outlet.temperature[0].setlb(298.0)\n",
    "m.fs.F101.vap_outlet.temperature[0].setub(450.0)\n",
    "m.fs.F102.vap_outlet.temperature[0].setlb(298.0)\n",
    "m.fs.F102.vap_outlet.temperature[0].setub(450.0)\n",
    "m.fs.F102.vap_outlet.pressure[0].setlb(105000)\n",
    "m.fs.F102.vap_outlet.pressure[0].setub(110000)"
   ],
   "outputs": [],
   "execution_count": null
  },
  {
   "cell_type": "markdown",
   "metadata": {},
   "source": [
    "Now, the only things left to define are our constraints on overhead loss in F101, product flow rate and purity in F102. Let us first look at defining a constraint for the overhead loss in F101 where we are restricting the benzene leaving the vapor stream to less than 20 \\% of the benzene available in the reactor outlet. "
   ]
  },
  {
   "cell_type": "code",
   "metadata": {},
   "source": [
    "m.fs.overhead_loss = Constraint(\n",
    "    expr=m.fs.F101.vap_outlet.flow_mol_phase_comp[0, \"Vap\", \"benzene\"]\n",
    "    <= 0.20 * m.fs.R101.outlet.flow_mol_phase_comp[0, \"Vap\", \"benzene\"]\n",
    ")"
   ],
   "outputs": [],
   "execution_count": null
  },
  {
   "cell_type": "markdown",
   "metadata": {
    "tags": [
     "exercise"
    ]
   },
   "source": [
    "<div class=\"alert alert-block alert-info\">\n",
    "<b>Inline Exercise:</b>\n",
    "Now, add the constraint such that we are producing at least 0.15 mol/s of benzene in the product stream which is the vapor outlet of F102. Let us name this constraint as m.fs.product_flow. \n",
    "\n",
    "Use Shift+Enter to run the cell once you have typed in your code. \n",
    "</div>"
   ]
  },
  {
   "cell_type": "code",
   "metadata": {
    "tags": [
     "exercise"
    ]
   },
   "source": [
    "# Todo: Add minimum product flow constraint"
   ],
   "outputs": [],
   "execution_count": null
  },
  {
   "cell_type": "code",
   "metadata": {
    "tags": [
     "solution"
    ]
   },
   "source": [
    "# Todo: Add minimum product flow constraint\n",
    "m.fs.product_flow = Constraint(\n",
    "    expr=m.fs.F102.vap_outlet.flow_mol_phase_comp[0, \"Vap\", \"benzene\"] >= 0.15\n",
    ")"
   ],
   "outputs": [],
   "execution_count": null
  },
  {
   "cell_type": "markdown",
   "metadata": {},
   "source": [
    "Let us add the final constraint on product purity or the mole fraction of benzene in the product stream such that it is at least greater than 80%. "
   ]
  },
  {
   "cell_type": "code",
   "metadata": {},
   "source": [
    "m.fs.product_purity = Constraint(expr=m.fs.purity >= 0.80)"
   ],
   "outputs": [],
   "execution_count": null
  },
  {
   "cell_type": "markdown",
   "metadata": {},
   "source": [
    "\n",
    "We have now defined the optimization problem and we are now ready to solve this problem. \n",
    "\n",
    "\n"
   ]
  },
  {
   "cell_type": "code",
   "metadata": {},
   "source": [
    "results = solver.solve(m, tee=True)"
   ],
   "outputs": [],
   "execution_count": null
  },
  {
   "cell_type": "code",
   "metadata": {
    "tags": [
     "testing"
    ]
   },
   "source": [
    "# Check for solver solve status\n",
    "from pyomo.environ import TerminationCondition\n",
    "\n",
    "assert results.solver.termination_condition == TerminationCondition.optimal"
   ],
   "outputs": [],
   "execution_count": null
  },
  {
   "cell_type": "markdown",
   "metadata": {},
   "source": [
    "### 8.1 Optimization Results\n",
    "\n",
    "Display the results and product specifications"
   ]
  },
  {
   "cell_type": "code",
   "metadata": {},
   "source": [
    "print(\"operating cost = $\", value(m.fs.operating_cost))\n",
    "\n",
    "print()\n",
    "print(\"Product flow rate and purity in F102\")\n",
    "\n",
    "m.fs.F102.report()\n",
    "\n",
    "print()\n",
    "print(\"benzene purity = \", value(m.fs.purity))\n",
    "\n",
    "print()\n",
    "print(\"Overhead loss in F101\")\n",
    "m.fs.F101.report()"
   ],
   "outputs": [],
   "execution_count": null
  },
  {
   "cell_type": "code",
   "metadata": {
    "tags": [
     "testing"
    ]
   },
   "source": [
    "assert value(m.fs.operating_cost) == pytest.approx(312786.338, abs=1e-3)\n",
    "assert value(m.fs.purity) == pytest.approx(0.818827, abs=1e-3)"
   ],
   "outputs": [],
   "execution_count": null
  },
  {
   "cell_type": "markdown",
   "metadata": {},
   "source": [
    "Display optimal values for the decision variables"
   ]
  },
  {
   "cell_type": "code",
   "metadata": {},
   "source": [
    "print(\n",
    "    f\"\"\"Optimal Values:\n",
    "\n",
    "H101 outlet temperature = {value(m.fs.H101.outlet.temperature[0]):.3f} K\n",
    "\n",
    "R101 outlet temperature = {value(m.fs.R101.outlet.temperature[0]):.3f} K\n",
    "\n",
    "F101 outlet temperature = {value(m.fs.F101.vap_outlet.temperature[0]):.3f} K\n",
    "\n",
    "F102 outlet temperature = {value(m.fs.F102.vap_outlet.temperature[0]):.3f} K\n",
    "F102 outlet pressure = {value(m.fs.F102.vap_outlet.pressure[0]):.3f} Pa\n",
    "\"\"\"\n",
    ")"
   ],
   "outputs": [],
   "execution_count": null
  },
  {
   "cell_type": "code",
   "metadata": {
    "tags": [
     "testing"
    ]
   },
   "source": [
    "assert value(m.fs.H101.outlet.temperature[0]) == pytest.approx(500, abs=1e-3)\n",
    "assert value(m.fs.R101.outlet.temperature[0]) == pytest.approx(696.112, abs=1e-3)\n",
    "assert value(m.fs.F101.vap_outlet.temperature[0]) == pytest.approx(301.878, abs=1e-3)\n",
    "assert value(m.fs.F102.vap_outlet.temperature[0]) == pytest.approx(362.935, abs=1e-3)\n",
    "assert value(m.fs.F102.vap_outlet.pressure[0]) == pytest.approx(105000, abs=1e-2)"
   ],
   "outputs": [],
   "execution_count": null
  }
 ],
 "metadata": {
  "celltoolbar": "Tags",
  "kernelspec": {
   "display_name": "Python 3 (ipykernel)",
   "language": "python",
   "name": "python3"
  },
  "language_info": {
   "codemirror_mode": {
    "name": "ipython",
    "version": 3
   },
   "file_extension": ".py",
   "mimetype": "text/x-python",
   "name": "python",
   "nbconvert_exporter": "python",
   "pygments_lexer": "ipython3",
   "version": "3.12.3"
  }
 },
 "nbformat": 4,
 "nbformat_minor": 4
}
