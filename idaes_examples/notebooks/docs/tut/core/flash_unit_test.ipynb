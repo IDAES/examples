{
  "cells": [
    {
      "cell_type": "code",
      "metadata": {
        "tags": [
          "header",
          "hide-cell"
        ],
        "ExecuteTime": {
          "end_time": "2025-06-06T16:45:45.923673Z",
          "start_time": "2025-06-06T16:45:45.919855Z"
        }
      },
      "source": [
        "###############################################################################\n",
        "# The Institute for the Design of Advanced Energy Systems Integrated Platform\n",
        "# Framework (IDAES IP) was produced under the DOE Institute for the\n",
        "# Design of Advanced Energy Systems (IDAES).\n",
        "#\n",
        "# Copyright (c) 2018-2023 by the software owners: The Regents of the\n",
        "# University of California, through Lawrence Berkeley National Laboratory,\n",
        "# National Technology & Engineering Solutions of Sandia, LLC, Carnegie Mellon\n",
        "# University, West Virginia University Research Corporation, et al.\n",
        "# All rights reserved.  Please see the files COPYRIGHT.md and LICENSE.md\n",
        "# for full copyright and license information.\n",
        "###############################################################################"
      ],
      "outputs": [],
      "execution_count": 1
    },
    {
      "metadata": {},
      "cell_type": "markdown",
      "source": [
        "# Flash Unit Model Tutorial\n",
        "\n",
        "Author: Jaffer Ghouse<br>\n",
        "Maintainer: Tanner Polley<br>\n",
        "Updated: 2025-06-03\n",
        "\n",
        "In this module, we will familiarize ourselves with the IDAES framework by creating and working with a flowsheet that contains a single flash tank. The flash tank will be used to perform separation of Benzene and Toluene.\n",
        "\n",
        "The general workflow of setting up an IDAES flowsheet is the following:\n",
        "\n",
        "- 1 Importing Modules\n",
        "- 2 Building a Model\n",
        "- 3 Scaling the Model\n",
        "- 4 Specifying the Model\n",
        "- 5 Initializing the Model\n",
        "- 6 Solving the Model\n",
        "- 7 Analyzing and Visualizing the Results\n",
        "\n",
        "We will complete each of these steps as well as demonstrate analyses on this model through some examples and exercises\n",
        "\n",
        "## Key links to documentation\n",
        "* Main IDAES online documentation page: https://idaes-pse.readthedocs.io/en/stable/\n",
        "* General Workflow: https://idaes-pse.readthedocs.io/en/stable/how_to_guides/workflow/general.html\n",
        "* Flash Unit Model Documentation: https://idaes-pse.readthedocs.io/en/stable/reference_guides/model_libraries/generic/unit_models/flash.html\n",
        "\n"
      ]
    },
    {
      "metadata": {},
      "cell_type": "markdown",
      "source": [
        "## 1 Import Modules\n",
        "\n",
        "In the next cell, we will perform the necessary imports to get us started. From `pyomo.environ` (a standard import for the Pyomo package), we are importing `ConcreteModel` (to create the Pyomo model that will contain the IDAES flowsheet) and `SolverFactory` (to create the object we will use to solve the equations). We will also import `Constraint` as we will be adding a constraint to the model later in the module. Lastly, we also import `value` from Pyomo. This is a function that can be used to return the current numerical value for variables and parameters in the model. These are all part of Pyomo.\n",
        "\n",
        "We will also import the main `FlowsheetBlock` from IDAES. The flowsheet block will contain our unit model.\n",
        "\n",
        "<div class=\"alert alert-block alert-info\">\n",
        "<b>Inline Exercise:</b>\n",
        "Execute the cell below to perform the imports. Let a workshop organizer know if you see any errors.\n",
        "</div>"
      ]
    },
    {
      "metadata": {
        "ExecuteTime": {
          "end_time": "2025-06-06T16:45:49.094293Z",
          "start_time": "2025-06-06T16:45:45.938076Z"
        }
      },
      "cell_type": "code",
      "source": [
        "from pyomo.environ import ConcreteModel, SolverFactory, Constraint, value\n",
        "from idaes.core import FlowsheetBlock\n",
        "\n",
        "# Import idaes logger to set output levels\n",
        "import idaes.logger as idaeslog\n",
        "\n",
        "%matplotlib inline"
      ],
      "outputs": [],
      "execution_count": 2
    },
    {
      "metadata": {},
      "cell_type": "markdown",
      "source": [
        "## 2 Create the Model and IDAES Flowsheet\n",
        "\n",
        "In the next cell, we will create the `ConcreteModel` object often named `m` (which comes from Pyomo) and then connect the `FlowsheetBlock` (which comes from IDAES) to `m`. We ensure `dynamic=False` since this is a steady-state problem. This creates our overall model and adds the flowsheet capabilities that IDAES provides to the Pyomo model.\n",
        "\n",
        "<div class=\"alert alert-block alert-info\">\n",
        "<b>Inline Exercise:</b>\n",
        "Execute the cell below to create the objects\n",
        "</div>"
      ]
    },
    {
      "metadata": {
        "ExecuteTime": {
          "end_time": "2025-06-06T16:45:49.521103Z",
          "start_time": "2025-06-06T16:45:49.517229Z"
        }
      },
      "cell_type": "code",
      "source": [
        "m = ConcreteModel()\n",
        "m.fs = FlowsheetBlock(dynamic=False)"
      ],
      "outputs": [],
      "execution_count": 3
    },
    {
      "metadata": {
        "ExecuteTime": {
          "end_time": "2025-06-06T16:45:49.577500Z",
          "start_time": "2025-06-06T16:45:49.572256Z"
        },
        "tags": [
          "solution"
        ]
      },
      "cell_type": "code",
      "source": [
        "# Todo: call pprint on the model\n",
        "m.pprint()"
      ],
      "outputs": [
        {
          "name": "stdout",
          "output_type": "stream",
          "text": [
            "1 Block Declarations\n",
            "    fs : Size=1, Index=None, Active=True\n",
            "        1 Set Declarations\n",
            "            _time : Size=1, Index=None, Ordered=Insertion\n",
            "                Key  : Dimen : Domain : Size : Members\n",
            "                None :     1 :    Any :    1 :  {0.0,}\n",
            "\n",
            "        1 Declarations: _time\n",
            "\n",
            "1 Declarations: fs\n"
          ]
        }
      ],
      "execution_count": 5
    },
    {
      "metadata": {},
      "cell_type": "markdown",
      "source": [
        "### 2.1 Define Properties\n",
        "\n",
        "We need to define the property package for our flowsheet. In this example, we will be using the ideal property package that is available as part of the IDAES framework. This property package supports ideal gas - ideal liquid, ideal gas - NRTL, and ideal gas - Wilson models for VLE. More details on this property package can be found at: https://idaes-pse.readthedocs.io/en/stable/reference_guides/model_libraries/generic/property_models/activity_coefficient.html\n",
        "\n",
        "IDAES also supports creation of your own property packages that will be shown in a later module.\n",
        "\n",
        "For this workshop, we will import the BTX_activity_coeff_VLE property parameter block to be used in the flowsheet. This properties block will be passed to our unit model to define the appropriate state variables and equations for performing thermodynamic calculations.\n",
        "\n",
        "<div class=\"alert alert-block alert-info\">\n",
        "<b>Inline Exercise:</b>\n",
        "Execute the following two cells to import and create the properties block.\n",
        "</div>"
      ]
    },
    {
      "metadata": {
        "ExecuteTime": {
          "end_time": "2025-06-06T16:45:49.649106Z",
          "start_time": "2025-06-06T16:45:49.626357Z"
        }
      },
      "cell_type": "code",
      "source": [
        "from idaes.models.properties.activity_coeff_models.BTX_activity_coeff_VLE import (\n",
        "    BTXParameterBlock,\n",
        ")"
      ],
      "outputs": [],
      "execution_count": 6
    },
    {
      "metadata": {
        "ExecuteTime": {
          "end_time": "2025-06-06T16:45:49.669359Z",
          "start_time": "2025-06-06T16:45:49.657658Z"
        }
      },
      "cell_type": "code",
      "source": [
        "m.fs.properties = BTXParameterBlock(\n",
        "    valid_phase=(\"Liq\", \"Vap\"), activity_coeff_model=\"Ideal\", state_vars=\"FTPz\"\n",
        ")"
      ],
      "outputs": [],
      "execution_count": 7
    },
    {
      "metadata": {},
      "cell_type": "markdown",
      "source": [
        "### 2.2 Adding Flash Unit\n",
        "\n",
        "Now that we have the flowsheet and the properties defined, we can create the flash unit and add it to the flowsheet.\n",
        "\n",
        "**The Unit Model Library within IDAES includes a large set of common unit operations (see the online documentation for details: https://idaes-pse.readthedocs.io/en/stable/reference_guides/model_libraries/generic/unit_models/index.html**\n",
        "\n",
        "IDAES also fully supports the development of customized unit models (which we will see in a later module).\n",
        "\n",
        "Some of the IDAES pre-written unit models:\n",
        "* Mixer / Splitter\n",
        "* Heater / Cooler\n",
        "* Heat Exchangers (simple and 1D discretized)\n",
        "* Flash\n",
        "* Reactors (kinetic, equilibrium, gibbs, stoichiometric conversion)\n",
        "* Pressure changing equipment (compressors, expanders, pumps)\n",
        "* Feed and Product (source / sink) components\n",
        "\n",
        "In this module, we will import the `Flash` unit model from `idaes.models.unit_models` and create an instance of the flash unit, attaching it to the flowsheet. Each IDAES unit model has several configurable options to customize the model behavior, but also includes defaults for these options. In this example, we will specify that the property package to be used with the Flash unit model is the one we created earlier by setting `property_package=m.fs.properties` within the `Flash` method.\n",
        "\n",
        "<div class=\"alert alert-block alert-info\">\n",
        "<b>Inline Exercise:</b>\n",
        "Execute the following two cells to import the Flash and create an instance of the unit model, attaching it to the flowsheet object.\n",
        "</div>"
      ]
    },
    {
      "metadata": {
        "ExecuteTime": {
          "end_time": "2025-06-06T16:45:49.749283Z",
          "start_time": "2025-06-06T16:45:49.678730Z"
        }
      },
      "cell_type": "code",
      "source": "from idaes.models.unit_models import Flash",
      "outputs": [],
      "execution_count": 8
    },
    {
      "metadata": {
        "ExecuteTime": {
          "end_time": "2025-06-06T16:45:49.772441Z",
          "start_time": "2025-06-06T16:45:49.758167Z"
        }
      },
      "cell_type": "code",
      "source": "m.fs.flash = Flash(property_package=m.fs.properties)",
      "outputs": [],
      "execution_count": 9
    },
    {
      "metadata": {},
      "cell_type": "markdown",
      "source": "At this point, we have created a flowsheet and a properties block. We have also created a flash unit and added it to the flowsheet. Under the hood, IDAES has created the required state variables and model equations. Everything is open. You can see these variables and equations by calling the Pyomo method `pprint` on the model, flowsheet, or flash tank objects. Note that this output is very exhaustive, and is not intended to provide any summary information about the model, but rather a complete picture of all of the variables and equations in the model."
    },
    {
      "metadata": {},
      "cell_type": "markdown",
      "source": [
        "## 3 Scaling the Model\n",
        "\n",
        "Now that the model is built, with properties set and the unit model created and added to the flowsheet, the next step is to scale the model. Ensuring that a model is well scaled is important for increasing the efficiency and reliability of solvers, and users should consider model scaling as an integral part of the modeling process. IDAES provides a number of tool for assisting users with scaling their models, and details on these can be found at https://idaes-pse.readthedocs.io/en/stable/reference_guides/scaling/scaling.html#scaling-toolbox\n",
        "\n",
        "There are currently two primary methods in scaling the model: manual scaling of each relevant component, or utilizing the AutoScaler Class. The more careful and risk-free method of manually scaling each component is the recommended method for maximum control and assurance that the model will be well-scaled. This comes with the drawback of being more meticulous while the AutoScaler is much simpler to use since it scaled the whole model all at once, it is less precise by lacking direct control over the scaling factor for each component and relying on scaling factors to be estimated. Both methods will be shown below"
      ]
    },
    {
      "metadata": {},
      "cell_type": "markdown",
      "source": [
        "### 3.1 Manual Scaling\n",
        "The `set_scaling_factor` function is imported from `idaes.core.scaling.util` and is called with and used on each relevant component that needs to be well scaled. The component is the first argument and its scaling factor is the second argument.\n",
        "\n",
        "<div class=\"alert alert-block alert-info\">\n",
        "<b>Inline Exercise:</b>\n",
        "Execute the following two cells to import the `set_scaling_factor` and set the scaling factor for both temperature and pressure\n",
        "</div>\n",
        "\n",
        "Both `temperature` and `pressure` can be found at `m.fs.flash.inlet`."
      ]
    },
    {
      "metadata": {
        "ExecuteTime": {
          "end_time": "2025-06-06T16:45:49.795252Z",
          "start_time": "2025-06-06T16:45:49.792075Z"
        }
      },
      "cell_type": "code",
      "source": "from idaes.core.scaling.util import set_scaling_factor",
      "outputs": [],
      "execution_count": 11
    },
    {
      "metadata": {
        "ExecuteTime": {
          "end_time": "2025-06-06T16:45:49.809330Z",
          "start_time": "2025-06-06T16:45:49.806174Z"
        }
      },
      "cell_type": "code",
      "source": [
        "set_scaling_factor(m.fs.flash.inlet.temperature, 300)\n",
        "set_scaling_factor(m.fs.flash.inlet.pressure, 1e6)"
      ],
      "outputs": [],
      "execution_count": 12
    },
    {
      "metadata": {},
      "cell_type": "markdown",
      "source": [
        "### 3.2 Scaling with AutoScaler\n",
        "The `AutoScaler` class is imported from `idaes.core.scaling.autoscaling` and an instance of the class is created. This instance contains the method `scale_model` which is used to scale the whole model at once. This can be a useful option but is generally more risky than manually scaling the model components since it has less direct control and specification.\n",
        "\n",
        "<div class=\"alert alert-block alert-info\">\n",
        "<b>Inline Exercise:</b>\n",
        "Execute the following two cells to import the `AutoScaler` class and create an autoscaler instance that scaled the whole model at once\n",
        "</div>"
      ]
    },
    {
      "metadata": {
        "ExecuteTime": {
          "end_time": "2025-06-06T16:45:49.826276Z",
          "start_time": "2025-06-06T16:45:49.823030Z"
        }
      },
      "cell_type": "code",
      "source": "from idaes.core.scaling.autoscaling import AutoScaler",
      "outputs": [],
      "execution_count": 13
    },
    {
      "metadata": {
        "ExecuteTime": {
          "end_time": "2025-06-06T16:45:50.217776Z",
          "start_time": "2025-06-06T16:45:49.836920Z"
        }
      },
      "cell_type": "code",
      "source": [
        "autoscaler = AutoScaler()\n",
        "autoscaler.scale_model(m)"
      ],
      "outputs": [],
      "execution_count": 14
    },
    {
      "metadata": {},
      "cell_type": "markdown",
      "source": ""
    },
    {
      "metadata": {},
      "cell_type": "markdown",
      "source": [
        "## 4 Set Operating Conditions\n",
        "\n",
        "Now that we have created our unit model and scaled it, we can specify the necessary operating conditions. The inlet specifications for this flash tank are:\n",
        "\n",
        "Inlet Specifications:\n",
        "* Mole fraction (Benzene) = 0.5\n",
        "* Mole fraction (Toluene) = 0.5\n",
        "* Pressure = 101325 Pa\n",
        "* Temperature = 368 K\n",
        "\n",
        "\n"
      ]
    },
    {
      "metadata": {},
      "cell_type": "markdown",
      "source": [
        "### 4.1 Degrees of Freedom\n",
        "\n",
        "It is often very useful to first determine the degrees of freedom before we specify any conditions.\n",
        "\n",
        "The `idaes.core.util.model_statistics` package has a function `degrees_of_freedom`. To see how to use this function, we can make use of the Python function `help(func)`. This function prints the appropriate documentation string for the function.\n"
      ]
    },
    {
      "metadata": {
        "ExecuteTime": {
          "end_time": "2025-06-06T16:45:50.240605Z",
          "start_time": "2025-06-06T16:45:50.237594Z"
        },
        "tags": [
          "solution"
        ]
      },
      "cell_type": "code",
      "source": [
        "# Todo: import the degrees_of_freedom function from the idaes.core.util.model_statistics package\n",
        "from idaes.core.util.model_statistics import degrees_of_freedom\n",
        "\n",
        "# Todo: Call the python help on the degrees_of_freedom function\n",
        "help(degrees_of_freedom)"
      ],
      "outputs": [
        {
          "name": "stdout",
          "output_type": "stream",
          "text": [
            "Help on function degrees_of_freedom in module idaes.core.util.model_statistics:\n",
            "\n",
            "degrees_of_freedom(block)\n",
            "    Method to return the degrees of freedom of a model.\n",
            "\n",
            "    Args:\n",
            "        block : model to be studied\n",
            "\n",
            "    Returns:\n",
            "        Number of degrees of freedom in block.\n",
            "\n"
          ]
        }
      ],
      "execution_count": 16
    },
    {
      "metadata": {
        "ExecuteTime": {
          "end_time": "2025-06-06T16:45:50.297399Z",
          "start_time": "2025-06-06T16:45:50.291352Z"
        },
        "tags": [
          "solution"
        ]
      },
      "cell_type": "code",
      "source": [
        "# Todo: print the degrees of freedom for your model\n",
        "print(\"Degrees of Freedom =\", degrees_of_freedom(m))"
      ],
      "outputs": [
        {
          "name": "stdout",
          "output_type": "stream",
          "text": [
            "Degrees of Freedom = 7\n"
          ]
        }
      ],
      "execution_count": 18
    },
    {
      "metadata": {
        "ExecuteTime": {
          "end_time": "2025-06-06T16:45:50.334804Z",
          "start_time": "2025-06-06T16:45:50.327991Z"
        },
        "tags": [
          "testing"
        ]
      },
      "cell_type": "code",
      "source": [
        "# Check the degrees of freedom\n",
        "assert degrees_of_freedom(m) == 7"
      ],
      "outputs": [],
      "execution_count": 19
    },
    {
      "metadata": {},
      "cell_type": "markdown",
      "source": [
        "### 4.2 Specify Inlet Conditions\n",
        "\n",
        "To satisfy our degrees of freedom, we will first specify the inlet conditions. We can specify these values through the `inlet` port of the flash unit.\n",
        "\n",
        "**To see the list of naming conventions for variables within the IDAES framework, consult the online documentation at: https://idaes-pse.readthedocs.io/en/stable/explanations/conventions.html#standard-naming-format**\n",
        "\n",
        "As an  example, to fix the molar flow of the inlet to be 1.0, you can use the following notation:\n",
        "```python\n",
        "m.fs.flash.inlet.flow_mol.fix(1.0)\n",
        "```\n",
        "\n",
        "To specify variables that are indexed by components, you can use the following notation:\n",
        "```python\n",
        "m.fs.flash.inlet.mole_frac_comp[0, \"benzene\"].fix(0.5)\n",
        "```\n",
        "\n",
        "<div class=\"alert alert-block alert-warning\">\n",
        "<b>Note:</b>\n",
        "The \"0\" in the indexing of the component mole fraction is present because IDAES models support both dynamic and steady state simulation, and the \"0\" refers to a timestep. Dynamic modeling is beyond the scope of this workshop. Since we are performing steady state modeling, there is only a single timestep in the model.\n",
        "</div>\n",
        "\n",
        "In the next cell, we will specify the inlet conditions. To satisfy the remaining degrees of freedom, we will make two additional specifications on the flash tank itself. The names of the key variables within the Flash unit model can also be found in the online documentation: https://idaes-pse.readthedocs.io/en/stable/reference_guides/model_libraries/generic/unit_models/flash.html#variables.\n",
        "\n",
        "\n",
        "To specify the value of a variable on the unit itself, use the following notation.\n",
        "\n",
        "```python\n",
        "m.fs.flash.heat_duty.fix(0)\n",
        "```\n",
        "\n",
        "For this module, we will use the following specifications:\n",
        "* inlet overall molar flow = 1.0 (`flow_mol`)\n",
        "* inlet temperature = 368 K (`temperature`)\n",
        "* inlet pressure = 101325 Pa (`pressure`)\n",
        "* inlet mole fraction (benzene) = 0.5 (`mole_frac_comp[0, \"benzene\"]`)\n",
        "* inlet mole fraction (toluene) = 0.5 (`mole_frac_comp[0, \"toluene\"]`)\n",
        "* The heat duty on the flash set to 0 (`heat_duty`)\n",
        "* The pressure drop across the flash tank set to 0 (`deltaP`)\n",
        "\n"
      ]
    },
    {
      "metadata": {
        "ExecuteTime": {
          "end_time": "2025-06-06T16:45:50.396800Z",
          "start_time": "2025-06-06T16:45:50.392314Z"
        },
        "tags": [
          "solution"
        ]
      },
      "cell_type": "code",
      "source": [
        "# Todo: Add inlet specifications given above\n",
        "m.fs.flash.inlet.flow_mol.fix(1)\n",
        "m.fs.flash.inlet.temperature.fix(368)\n",
        "m.fs.flash.inlet.pressure.fix(101325)\n",
        "m.fs.flash.inlet.mole_frac_comp[0, \"benzene\"].fix(0.5)\n",
        "m.fs.flash.inlet.mole_frac_comp[0, \"toluene\"].fix(0.5)\n",
        "\n",
        "# Todo: Add 2 flash unit specifications given above\n",
        "m.fs.flash.heat_duty.fix(0)\n",
        "m.fs.flash.deltaP.fix(0)"
      ],
      "outputs": [],
      "execution_count": 21
    },
    {
      "metadata": {},
      "cell_type": "markdown",
      "source": [
        "Now that all the inlets have been specified, we can check the degrees of freedom again to ensure the system is square and has a degree of freedom of 0\n",
        "\n"
      ]
    },
    {
      "metadata": {
        "tags": [
          "solution"
        ]
      },
      "cell_type": "code",
      "outputs": [
        {
          "name": "stdout",
          "output_type": "stream",
          "text": [
            "Degrees of Freedom = 0\n"
          ]
        }
      ],
      "execution_count": 23,
      "source": [
        "# Todo: print the degrees of freedom for your model\n",
        "print(\"Degrees of Freedom =\", degrees_of_freedom(m))"
      ]
    },
    {
      "metadata": {
        "tags": [
          "testing"
        ]
      },
      "cell_type": "code",
      "outputs": [],
      "execution_count": 24,
      "source": [
        "# Check the degrees of freedom\n",
        "assert degrees_of_freedom(m) == 0"
      ]
    },
    {
      "metadata": {},
      "cell_type": "markdown",
      "source": [
        "## 5 Initializing the Model\n",
        "\n",
        "Now that all building steps are complete, the last step before solving the model is to initialize the model, or prepping the solve by giving it a good starting point. This is essentially giving the solver an initial guess for the iterative solver to reach convergence and is essential for both a fast and accurate solution. In IDAES, the current standard for initializing the model is by utilizing initializer instances. These initializer instances contain the initialize method that can be applied to any model type. For more information on initializing in IDAES, visit https://idaes-pse.readthedocs.io/en/stable/reference_guides/initialization/index.html. <br>\n",
        "\n",
        "For this tutorial, we will import the initializer class `BlockTriangularizationInitializer` class from the `default_initializer` method from the flash unit model. This is often the simplest way to obtain a compatible initializer for each unit model, but you can also directly important any initializer needed from this source `idaes.core.initialization`. Each initializer instance contains the `initialize()` method that requires an argument to be initialized and in this case its the flash unit model.\n"
      ]
    },
    {
      "metadata": {
        "ExecuteTime": {
          "end_time": "2025-06-06T16:51:40.247234Z",
          "start_time": "2025-06-06T16:51:39.730044Z"
        },
        "tags": [
          "solution"
        ]
      },
      "cell_type": "code",
      "source": [
        "# Todo: initialize the flash unit\n",
        "FlashInitializer = m.fs.flash.default_initializer()\n",
        "FlashInitializer.initialize(m.fs.flash)"
      ],
      "outputs": [
        {
          "name": "stdout",
          "output_type": "stream",
          "text": [
            "2025-06-06 10:51:39 [INFO] idaes.init.fs.flash.control_volume.properties_in: Initialization Step 1 optimal - <undefined>.\n",
            "2025-06-06 10:51:39 [INFO] idaes.init.fs.flash.control_volume.properties_in: Initialization Step 2 optimal - <undefined>.\n",
            "2025-06-06 10:51:39 [INFO] idaes.init.fs.flash.control_volume.properties_in: Initialization Step 3 optimal - <undefined>.\n",
            "2025-06-06 10:51:39 [INFO] idaes.init.fs.flash.control_volume.properties_in: Initialization Step 4 optimal - <undefined>.\n",
            "2025-06-06 10:51:39 [INFO] idaes.init.fs.flash.control_volume.properties_in: Initialization Step 5 optimal - <undefined>.\n",
            "2025-06-06 10:51:40 [INFO] idaes.init.fs.flash.control_volume.properties_out: Initialization Step 1 optimal - <undefined>.\n",
            "2025-06-06 10:51:40 [INFO] idaes.init.fs.flash.control_volume.properties_out: Initialization Step 2 optimal - <undefined>.\n",
            "2025-06-06 10:51:40 [INFO] idaes.init.fs.flash.control_volume.properties_out: Initialization Step 3 optimal - <undefined>.\n",
            "2025-06-06 10:51:40 [INFO] idaes.init.fs.flash.control_volume.properties_out: Initialization Step 4 optimal - <undefined>.\n",
            "2025-06-06 10:51:40 [INFO] idaes.init.fs.flash.control_volume.properties_out: Initialization Step 5 optimal - <undefined>.\n"
          ]
        },
        {
          "data": {
            "text/plain": [
              "<InitializationStatus.Ok: 1>"
            ]
          },
          "execution_count": 33,
          "metadata": {},
          "output_type": "execute_result"
        }
      ],
      "execution_count": 33
    },
    {
      "metadata": {},
      "cell_type": "markdown",
      "source": "Another option for initializing is utilizing the default initializer that is attached to the unit model. Each unit model as a default initializer that is hypothetically the most compatible. It can be called with `m.fs.flash.initialize()`. While this is an option, it is generally preferred to import an initializer object and initialize the model with that to ensure more control over the initialization."
    },
    {
      "metadata": {},
      "cell_type": "markdown",
      "source": [
        "## 6 Solving the Model\n",
        "\n",
        "Now that the model has been defined and initialized, we can solve the model.\n",
        "\n"
      ]
    },
    {
      "metadata": {
        "ExecuteTime": {
          "end_time": "2025-06-06T17:04:32.439966Z",
          "start_time": "2025-06-06T17:04:32.396984Z"
        },
        "tags": [
          "solution"
        ]
      },
      "cell_type": "code",
      "source": [
        "# Todo: create the ipopt solver\n",
        "solver = SolverFactory(\"ipopt\")\n",
        "\n",
        "# Todo: solve the model\n",
        "status = solver.solve(m, tee=True)"
      ],
      "outputs": [
        {
          "name": "stdout",
          "output_type": "stream",
          "text": [
            "WARNING: model contains export suffix 'scaling_factor' that contains 7\n",
            "component keys that are not exported as part of the NL file.  Skipping.\n",
            "Ipopt 3.13.2: \n",
            "\n",
            "******************************************************************************\n",
            "This program contains Ipopt, a library for large-scale nonlinear optimization.\n",
            " Ipopt is released as open source code under the Eclipse Public License (EPL).\n",
            "         For more information visit http://projects.coin-or.org/Ipopt\n",
            "\n",
            "This version of Ipopt was compiled from source code available at\n",
            "    https://github.com/IDAES/Ipopt as part of the Institute for the Design of\n",
            "    Advanced Energy Systems Process Systems Engineering Framework (IDAES PSE\n",
            "    Framework) Copyright (c) 2018-2019. See https://github.com/IDAES/idaes-pse.\n",
            "\n",
            "This version of Ipopt was compiled using HSL, a collection of Fortran codes\n",
            "    for large-scale scientific computation.  All technical papers, sales and\n",
            "    publicity material resulting from use of the HSL codes within IPOPT must\n",
            "    contain the following acknowledgement:\n",
            "        HSL, a collection of Fortran codes for large-scale scientific\n",
            "        computation. See http://www.hsl.rl.ac.uk.\n",
            "******************************************************************************\n",
            "\n",
            "This is Ipopt version 3.13.2, running with linear solver ma27.\n",
            "\n",
            "Number of nonzeros in equality constraint Jacobian...:      135\n",
            "Number of nonzeros in inequality constraint Jacobian.:        0\n",
            "Number of nonzeros in Lagrangian Hessian.............:       72\n",
            "\n",
            "Total number of variables............................:       41\n",
            "                     variables with only lower bounds:        3\n",
            "                variables with lower and upper bounds:       10\n",
            "                     variables with only upper bounds:        0\n",
            "Total number of equality constraints.................:       41\n",
            "Total number of inequality constraints...............:        0\n",
            "        inequality constraints with only lower bounds:        0\n",
            "   inequality constraints with lower and upper bounds:        0\n",
            "        inequality constraints with only upper bounds:        0\n",
            "\n",
            "iter    objective    inf_pr   inf_du lg(mu)  ||d||  lg(rg) alpha_du alpha_pr  ls\n",
            "   0  0.0000000e+00 6.22e-05 1.00e+00  -1.0 0.00e+00    -  0.00e+00 0.00e+00   0\n",
            "   1  0.0000000e+00 1.46e-11 1.00e-02  -1.0 6.22e-05    -  9.90e-01 1.00e+00h  1\n",
            "\n",
            "Number of Iterations....: 1\n",
            "\n",
            "                                   (scaled)                 (unscaled)\n",
            "Objective...............:   0.0000000000000000e+00    0.0000000000000000e+00\n",
            "Dual infeasibility......:   0.0000000000000000e+00    0.0000000000000000e+00\n",
            "Constraint violation....:   2.0417014662014577e-12    1.4551915228366852e-11\n",
            "Complementarity.........:   0.0000000000000000e+00    0.0000000000000000e+00\n",
            "Overall NLP error.......:   2.0417014662014577e-12    1.4551915228366852e-11\n",
            "\n",
            "\n",
            "Number of objective function evaluations             = 2\n",
            "Number of objective gradient evaluations             = 2\n",
            "Number of equality constraint evaluations            = 2\n",
            "Number of inequality constraint evaluations          = 0\n",
            "Number of equality constraint Jacobian evaluations   = 2\n",
            "Number of inequality constraint Jacobian evaluations = 0\n",
            "Number of Lagrangian Hessian evaluations             = 1\n",
            "Total CPU secs in IPOPT (w/o function evaluations)   =      0.002\n",
            "Total CPU secs in NLP function evaluations           =      0.000\n",
            "\n",
            "EXIT: Optimal Solution Found.\n"
          ]
        }
      ],
      "execution_count": 37
    },
    {
      "metadata": {
        "ExecuteTime": {
          "end_time": "2025-06-06T17:04:32.975773Z",
          "start_time": "2025-06-06T17:04:32.972754Z"
        },
        "tags": [
          "testing"
        ]
      },
      "cell_type": "code",
      "source": [
        "# Check for an optimal solution\n",
        "from pyomo.environ import TerminationCondition\n",
        "\n",
        "assert status.solver.termination_condition == TerminationCondition.optimal"
      ],
      "outputs": [],
      "execution_count": 38
    },
    {
      "metadata": {},
      "cell_type": "markdown",
      "source": [
        "## 7 Viewing the Results\n",
        "\n",
        "Once a model is solved, the values returned by the solver are loaded into the model object itself. We can access the value of any variable in the model with the `value` function. For example:\n",
        "```python\n",
        "print('Vap. Outlet Temperature = ', value(m.fs.flash.vap_outlet.temperature[0]))\n",
        "```\n",
        "\n",
        "You can also find more information about a variable or an entire port using the `display` method from Pyomo:\n",
        "```python\n",
        "m.fs.flash.vap_outlet.temperature.display()\n",
        "m.fs.flash.vap_outlet.display()\n",
        "```\n",
        "\n",
        "<div class=\"alert alert-block alert-info\">\n",
        "<b>Inline Exercise:</b>\n",
        "Execute the cells below to show the current value of the flash vapor outlet pressure. This cell also shows use of the display function to see the values of the variables in the vap_outlet and the liq_outlet.\n",
        "</div>"
      ]
    },
    {
      "metadata": {
        "ExecuteTime": {
          "end_time": "2025-06-06T17:04:35.556815Z",
          "start_time": "2025-06-06T17:04:35.551070Z"
        }
      },
      "cell_type": "code",
      "source": [
        "# Print the pressure of the flash vapor outlet\n",
        "print(\"Pressure =\", value(m.fs.flash.vap_outlet.pressure[0]))\n",
        "\n",
        "print()\n",
        "print(\"Output from display:\")\n",
        "# Call display on vap_outlet and liq_outlet of the flash\n",
        "m.fs.flash.vap_outlet.display()\n",
        "m.fs.flash.liq_outlet.display()"
      ],
      "outputs": [
        {
          "name": "stdout",
          "output_type": "stream",
          "text": [
            "Pressure = 101325.0\n",
            "\n",
            "Output from display:\n",
            "vap_outlet : Size=1\n",
            "    Key  : Name           : Value\n",
            "    None :       flow_mol : {0.0: 0.3961181748774193}\n",
            "         : mole_frac_comp : {(0.0, 'benzene'): 0.633976648508129, (0.0, 'toluene'): 0.366023351491871}\n",
            "         :       pressure : {0.0: 101325.0}\n",
            "         :    temperature : {0.0: 368.0}\n",
            "liq_outlet : Size=1\n",
            "    Key  : Name           : Value\n",
            "    None :       flow_mol : {0.0: 0.6038818251225807}\n",
            "         : mole_frac_comp : {(0.0, 'benzene'): 0.41211759772293044, (0.0, 'toluene'): 0.5878824022770694}\n",
            "         :       pressure : {0.0: 101325.0}\n",
            "         :    temperature : {0.0: 368.0}\n"
          ]
        }
      ],
      "execution_count": 39
    },
    {
      "metadata": {},
      "cell_type": "markdown",
      "source": [
        "The output from `display` is quite exhaustive and not really intended to provide quick summary information. Because Pyomo is built on Python, there are opportunities to format the output any way we like. Most IDAES models have a `report` method which provides a summary of the results for the model.\n",
        "\n",
        "<div class=\"alert alert-block alert-info\">\n",
        "<b>Inline Exercise:</b>\n",
        "Execute the cell below which uses the function above to print a summary of the key variables in the flash model, including the inlet, the vapor, and the liquid ports.\n",
        "</div>"
      ]
    },
    {
      "metadata": {
        "ExecuteTime": {
          "end_time": "2025-06-06T17:04:38.727731Z",
          "start_time": "2025-06-06T17:04:38.712131Z"
        }
      },
      "cell_type": "code",
      "source": "m.fs.flash.report()",
      "outputs": [
        {
          "name": "stdout",
          "output_type": "stream",
          "text": [
            "\n",
            "====================================================================================\n",
            "Unit : fs.flash                                                            Time: 0.0\n",
            "------------------------------------------------------------------------------------\n",
            "    Unit Performance\n",
            "\n",
            "    Variables: \n",
            "\n",
            "    Key             : Value  : Units  : Fixed : Bounds\n",
            "          Heat Duty : 0.0000 :   watt :  True : (None, None)\n",
            "    Pressure Change : 0.0000 : pascal :  True : (None, None)\n",
            "\n",
            "------------------------------------------------------------------------------------\n",
            "    Stream Table\n",
            "                               Units         Inlet    Vapor Outlet  Liquid Outlet\n",
            "    flow_mol                mole / second     1.0000      0.39612       0.60388  \n",
            "    mole_frac_comp benzene  dimensionless    0.50000      0.63398       0.41212  \n",
            "    mole_frac_comp toluene  dimensionless    0.50000      0.36602       0.58788  \n",
            "    temperature                    kelvin     368.00       368.00        368.00  \n",
            "    pressure                       pascal 1.0132e+05   1.0132e+05    1.0132e+05  \n",
            "====================================================================================\n"
          ]
        }
      ],
      "execution_count": 40
    },
    {
      "metadata": {
        "ExecuteTime": {
          "end_time": "2025-06-06T17:04:39.229802Z",
          "start_time": "2025-06-06T17:04:39.132903Z"
        },
        "tags": [
          "testing"
        ]
      },
      "cell_type": "code",
      "source": [
        "# Check optimal solution values\n",
        "import pytest\n",
        "\n",
        "assert value(m.fs.flash.liq_outlet.flow_mol[0]) == pytest.approx(0.6038, abs=1e-3)\n",
        "assert value(m.fs.flash.liq_outlet.mole_frac_comp[0, \"benzene\"]) == pytest.approx(\n",
        "    0.4121, abs=1e-3\n",
        ")\n",
        "assert value(m.fs.flash.liq_outlet.mole_frac_comp[0, \"toluene\"]) == pytest.approx(\n",
        "    0.5878, abs=1e-3\n",
        ")\n",
        "assert value(m.fs.flash.liq_outlet.temperature[0]) == pytest.approx(368, abs=1e-3)\n",
        "assert value(m.fs.flash.liq_outlet.pressure[0]) == pytest.approx(101325, abs=1e-3)\n",
        "\n",
        "assert value(m.fs.flash.vap_outlet.flow_mol[0]) == pytest.approx(0.3961, abs=1e-3)\n",
        "assert value(m.fs.flash.vap_outlet.mole_frac_comp[0, \"benzene\"]) == pytest.approx(\n",
        "    0.6339, abs=1e-3\n",
        ")\n",
        "assert value(m.fs.flash.vap_outlet.mole_frac_comp[0, \"toluene\"]) == pytest.approx(\n",
        "    0.3660, abs=1e-3\n",
        ")\n",
        "assert value(m.fs.flash.vap_outlet.temperature[0]) == pytest.approx(368, abs=1e-3)\n",
        "assert value(m.fs.flash.vap_outlet.pressure[0]) == pytest.approx(101325, abs=1e-3)"
      ],
      "outputs": [],
      "execution_count": 41
    },
    {
      "metadata": {},
      "cell_type": "markdown",
      "source": [
        "## Exercise: Studying Purity as a Function of Heat Duty\n",
        "\n",
        "Since the entire modeling framework is built upon Python, it includes a complete programming environment for whatever analysis we may want to perform. In this next exercise, we will make use of what we learned in this and the previous module to generate a figure showing some output variables as a function of the heat duty in the flash tank.\n",
        "\n",
        "First, let's import the matplotlib package for plotting as we did in the previous module.\n",
        "<div class=\"alert alert-block alert-info\">\n",
        "<b>Inline Exercise:</b>\n",
        "Execute the cell below to import matplotlib appropriately.\n",
        "</div>"
      ]
    },
    {
      "metadata": {
        "ExecuteTime": {
          "end_time": "2025-06-06T17:04:43.426680Z",
          "start_time": "2025-06-06T17:04:43.423025Z"
        }
      },
      "cell_type": "code",
      "source": "import matplotlib.pyplot as plt",
      "outputs": [],
      "execution_count": 42
    },
    {
      "metadata": {},
      "cell_type": "markdown",
      "source": [
        "Exercise specifications:\n",
        "* Generate a figure showing the flash tank heat duty (`m.fs.flash.heat_duty[0]`) vs. the vapor flowrate (`m.fs.flash.vap_outlet.flow_mol[0]`)\n",
        "* Specify the heat duty from -17000 to 25000 over 50 steps\n",
        "\n"
      ]
    },
    {
      "metadata": {
        "ExecuteTime": {
          "end_time": "2025-06-06T17:04:48.800601Z",
          "start_time": "2025-06-06T17:04:46.438264Z"
        },
        "tags": [
          "solution"
        ]
      },
      "cell_type": "code",
      "source": [
        "# import the solve_successful checking function from workshop tools\n",
        "from idaes_examples.mod.tut.workshoptools import solve_successful\n",
        "\n",
        "# Todo: import numpy\n",
        "import numpy as np\n",
        "\n",
        "# create the empty lists to store the results that will be plotted\n",
        "Q = []\n",
        "V = []\n",
        "\n",
        "# re-initialize model\n",
        "FlashInitializer.initialize(m.fs.flash)\n",
        "\n",
        "# Todo: Write the for loop specification using numpy's linspace\n",
        "for duty in np.linspace(-17000, 25000, 50):\n",
        "    # fix the heat duty\n",
        "    m.fs.flash.heat_duty.fix(duty)\n",
        "\n",
        "    # append the value of the duty to the Q list\n",
        "    Q.append(duty)\n",
        "\n",
        "    # print the current simulation\n",
        "    print(\"Simulating with Q = \", value(m.fs.flash.heat_duty[0]))\n",
        "\n",
        "    # Solve the model\n",
        "    status = solver.solve(m)\n",
        "\n",
        "    # append the value for vapor fraction if the solve was successful\n",
        "    if solve_successful(status):\n",
        "        V.append(value(m.fs.flash.vap_outlet.flow_mol[0]))\n",
        "        print(\"... solve successful.\")\n",
        "    else:\n",
        "        V.append(0.0)\n",
        "        print(\"... solve failed.\")\n",
        "\n",
        "# Create and show the figure\n",
        "plt.figure(\"Vapor Fraction\")\n",
        "plt.plot(Q, V)\n",
        "plt.grid()\n",
        "plt.xlabel(\"Heat Duty [J]\")\n",
        "plt.ylabel(\"Vapor Fraction [-]\")\n",
        "plt.show()"
      ],
      "outputs": [
        {
          "name": "stdout",
          "output_type": "stream",
          "text": [
            "2025-06-06 11:04:46 [INFO] idaes.init.fs.flash.control_volume.properties_in: Initialization Step 1 optimal - <undefined>.\n",
            "2025-06-06 11:04:46 [INFO] idaes.init.fs.flash.control_volume.properties_in: Initialization Step 2 optimal - <undefined>.\n",
            "2025-06-06 11:04:46 [INFO] idaes.init.fs.flash.control_volume.properties_in: Initialization Step 3 optimal - <undefined>.\n",
            "2025-06-06 11:04:46 [INFO] idaes.init.fs.flash.control_volume.properties_in: Initialization Step 4 optimal - <undefined>.\n",
            "2025-06-06 11:04:46 [INFO] idaes.init.fs.flash.control_volume.properties_in: Initialization Step 5 optimal - <undefined>.\n",
            "2025-06-06 11:04:46 [INFO] idaes.init.fs.flash.control_volume.properties_out: Initialization Step 1 optimal - <undefined>.\n",
            "2025-06-06 11:04:46 [INFO] idaes.init.fs.flash.control_volume.properties_out: Initialization Step 2 optimal - <undefined>.\n",
            "2025-06-06 11:04:46 [INFO] idaes.init.fs.flash.control_volume.properties_out: Initialization Step 3 optimal - <undefined>.\n",
            "2025-06-06 11:04:46 [INFO] idaes.init.fs.flash.control_volume.properties_out: Initialization Step 4 optimal - <undefined>.\n",
            "2025-06-06 11:04:46 [INFO] idaes.init.fs.flash.control_volume.properties_out: Initialization Step 5 optimal - <undefined>.\n",
            "Simulating with Q =  -17000.0\n",
            "WARNING: model contains export suffix 'scaling_factor' that contains 7\n",
            "component keys that are not exported as part of the NL file.  Skipping.\n",
            "... solve successful.\n",
            "Simulating with Q =  -16142.857142857143\n",
            "WARNING: model contains export suffix 'scaling_factor' that contains 7\n",
            "component keys that are not exported as part of the NL file.  Skipping.\n",
            "... solve successful.\n",
            "Simulating with Q =  -15285.714285714286\n",
            "WARNING: model contains export suffix 'scaling_factor' that contains 7\n",
            "component keys that are not exported as part of the NL file.  Skipping.\n",
            "... solve successful.\n",
            "Simulating with Q =  -14428.571428571428\n",
            "WARNING: model contains export suffix 'scaling_factor' that contains 7\n",
            "component keys that are not exported as part of the NL file.  Skipping.\n",
            "... solve successful.\n",
            "Simulating with Q =  -13571.428571428572\n",
            "WARNING: model contains export suffix 'scaling_factor' that contains 7\n",
            "component keys that are not exported as part of the NL file.  Skipping.\n",
            "... solve successful.\n",
            "Simulating with Q =  -12714.285714285714\n",
            "WARNING: model contains export suffix 'scaling_factor' that contains 7\n",
            "component keys that are not exported as part of the NL file.  Skipping.\n",
            "... solve successful.\n",
            "Simulating with Q =  -11857.142857142857\n",
            "WARNING: model contains export suffix 'scaling_factor' that contains 7\n",
            "component keys that are not exported as part of the NL file.  Skipping.\n",
            "... solve successful.\n",
            "Simulating with Q =  -11000.0\n",
            "WARNING: model contains export suffix 'scaling_factor' that contains 7\n",
            "component keys that are not exported as part of the NL file.  Skipping.\n",
            "... solve successful.\n",
            "Simulating with Q =  -10142.857142857143\n",
            "WARNING: model contains export suffix 'scaling_factor' that contains 7\n",
            "component keys that are not exported as part of the NL file.  Skipping.\n",
            "... solve successful.\n",
            "Simulating with Q =  -9285.714285714286\n",
            "WARNING: model contains export suffix 'scaling_factor' that contains 7\n",
            "component keys that are not exported as part of the NL file.  Skipping.\n",
            "... solve successful.\n",
            "Simulating with Q =  -8428.57142857143\n",
            "WARNING: model contains export suffix 'scaling_factor' that contains 7\n",
            "component keys that are not exported as part of the NL file.  Skipping.\n",
            "... solve successful.\n",
            "Simulating with Q =  -7571.4285714285725\n",
            "WARNING: model contains export suffix 'scaling_factor' that contains 7\n",
            "component keys that are not exported as part of the NL file.  Skipping.\n",
            "... solve successful.\n",
            "Simulating with Q =  -6714.285714285714\n",
            "WARNING: model contains export suffix 'scaling_factor' that contains 7\n",
            "component keys that are not exported as part of the NL file.  Skipping.\n",
            "... solve successful.\n",
            "Simulating with Q =  -5857.142857142857\n",
            "WARNING: model contains export suffix 'scaling_factor' that contains 7\n",
            "component keys that are not exported as part of the NL file.  Skipping.\n",
            "... solve successful.\n",
            "Simulating with Q =  -5000.0\n",
            "WARNING: model contains export suffix 'scaling_factor' that contains 7\n",
            "component keys that are not exported as part of the NL file.  Skipping.\n",
            "... solve successful.\n",
            "Simulating with Q =  -4142.857142857143\n",
            "WARNING: model contains export suffix 'scaling_factor' that contains 7\n",
            "component keys that are not exported as part of the NL file.  Skipping.\n",
            "... solve successful.\n",
            "Simulating with Q =  -3285.7142857142862\n",
            "WARNING: model contains export suffix 'scaling_factor' that contains 7\n",
            "component keys that are not exported as part of the NL file.  Skipping.\n",
            "... solve successful.\n",
            "Simulating with Q =  -2428.5714285714294\n",
            "WARNING: model contains export suffix 'scaling_factor' that contains 7\n",
            "component keys that are not exported as part of the NL file.  Skipping.\n",
            "... solve successful.\n",
            "Simulating with Q =  -1571.4285714285725\n",
            "WARNING: model contains export suffix 'scaling_factor' that contains 7\n",
            "component keys that are not exported as part of the NL file.  Skipping.\n",
            "... solve successful.\n",
            "Simulating with Q =  -714.2857142857156\n",
            "WARNING: model contains export suffix 'scaling_factor' that contains 7\n",
            "component keys that are not exported as part of the NL file.  Skipping.\n",
            "... solve successful.\n",
            "Simulating with Q =  142.8571428571413\n",
            "WARNING: model contains export suffix 'scaling_factor' that contains 7\n",
            "component keys that are not exported as part of the NL file.  Skipping.\n",
            "... solve successful.\n",
            "Simulating with Q =  1000.0\n",
            "WARNING: model contains export suffix 'scaling_factor' that contains 7\n",
            "component keys that are not exported as part of the NL file.  Skipping.\n",
            "... solve successful.\n",
            "Simulating with Q =  1857.142857142855\n",
            "WARNING: model contains export suffix 'scaling_factor' that contains 7\n",
            "component keys that are not exported as part of the NL file.  Skipping.\n",
            "... solve successful.\n",
            "Simulating with Q =  2714.2857142857138\n",
            "WARNING: model contains export suffix 'scaling_factor' that contains 7\n",
            "component keys that are not exported as part of the NL file.  Skipping.\n",
            "... solve successful.\n",
            "Simulating with Q =  3571.4285714285725\n",
            "WARNING: model contains export suffix 'scaling_factor' that contains 7\n",
            "component keys that are not exported as part of the NL file.  Skipping.\n",
            "... solve successful.\n",
            "Simulating with Q =  4428.5714285714275\n",
            "WARNING: model contains export suffix 'scaling_factor' that contains 7\n",
            "component keys that are not exported as part of the NL file.  Skipping.\n",
            "... solve successful.\n",
            "Simulating with Q =  5285.714285714286\n",
            "WARNING: model contains export suffix 'scaling_factor' that contains 7\n",
            "component keys that are not exported as part of the NL file.  Skipping.\n",
            "... solve successful.\n",
            "Simulating with Q =  6142.857142857141\n",
            "WARNING: model contains export suffix 'scaling_factor' that contains 7\n",
            "component keys that are not exported as part of the NL file.  Skipping.\n",
            "... solve successful.\n",
            "Simulating with Q =  7000.0\n",
            "WARNING: model contains export suffix 'scaling_factor' that contains 7\n",
            "component keys that are not exported as part of the NL file.  Skipping.\n",
            "... solve successful.\n",
            "Simulating with Q =  7857.142857142855\n",
            "WARNING: model contains export suffix 'scaling_factor' that contains 7\n",
            "component keys that are not exported as part of the NL file.  Skipping.\n",
            "... solve successful.\n",
            "Simulating with Q =  8714.285714285714\n",
            "WARNING: model contains export suffix 'scaling_factor' that contains 7\n",
            "component keys that are not exported as part of the NL file.  Skipping.\n",
            "... solve successful.\n",
            "Simulating with Q =  9571.428571428569\n",
            "WARNING: model contains export suffix 'scaling_factor' that contains 7\n",
            "component keys that are not exported as part of the NL file.  Skipping.\n",
            "... solve successful.\n",
            "Simulating with Q =  10428.571428571428\n",
            "WARNING: model contains export suffix 'scaling_factor' that contains 7\n",
            "component keys that are not exported as part of the NL file.  Skipping.\n",
            "... solve successful.\n",
            "Simulating with Q =  11285.714285714286\n",
            "WARNING: model contains export suffix 'scaling_factor' that contains 7\n",
            "component keys that are not exported as part of the NL file.  Skipping.\n",
            "... solve successful.\n",
            "Simulating with Q =  12142.857142857141\n",
            "WARNING: model contains export suffix 'scaling_factor' that contains 7\n",
            "component keys that are not exported as part of the NL file.  Skipping.\n",
            "... solve successful.\n",
            "Simulating with Q =  13000.0\n",
            "WARNING: model contains export suffix 'scaling_factor' that contains 7\n",
            "component keys that are not exported as part of the NL file.  Skipping.\n",
            "... solve successful.\n",
            "Simulating with Q =  13857.142857142855\n",
            "WARNING: model contains export suffix 'scaling_factor' that contains 7\n",
            "component keys that are not exported as part of the NL file.  Skipping.\n",
            "... solve successful.\n",
            "Simulating with Q =  14714.285714285714\n",
            "WARNING: model contains export suffix 'scaling_factor' that contains 7\n",
            "component keys that are not exported as part of the NL file.  Skipping.\n",
            "... solve successful.\n",
            "Simulating with Q =  15571.428571428569\n",
            "WARNING: model contains export suffix 'scaling_factor' that contains 7\n",
            "component keys that are not exported as part of the NL file.  Skipping.\n",
            "... solve successful.\n",
            "Simulating with Q =  16428.571428571428\n",
            "WARNING: model contains export suffix 'scaling_factor' that contains 7\n",
            "component keys that are not exported as part of the NL file.  Skipping.\n",
            "... solve successful.\n",
            "Simulating with Q =  17285.714285714283\n",
            "WARNING: model contains export suffix 'scaling_factor' that contains 7\n",
            "component keys that are not exported as part of the NL file.  Skipping.\n",
            "... solve successful.\n",
            "Simulating with Q =  18142.857142857145\n",
            "WARNING: model contains export suffix 'scaling_factor' that contains 7\n",
            "component keys that are not exported as part of the NL file.  Skipping.\n",
            "... solve successful.\n",
            "Simulating with Q =  19000.0\n",
            "WARNING: model contains export suffix 'scaling_factor' that contains 7\n",
            "component keys that are not exported as part of the NL file.  Skipping.\n",
            "... solve successful.\n",
            "Simulating with Q =  19857.142857142855\n",
            "WARNING: model contains export suffix 'scaling_factor' that contains 7\n",
            "component keys that are not exported as part of the NL file.  Skipping.\n",
            "... solve successful.\n",
            "Simulating with Q =  20714.28571428571\n",
            "WARNING: model contains export suffix 'scaling_factor' that contains 7\n",
            "component keys that are not exported as part of the NL file.  Skipping.\n",
            "... solve successful.\n",
            "Simulating with Q =  21571.428571428572\n",
            "WARNING: model contains export suffix 'scaling_factor' that contains 7\n",
            "component keys that are not exported as part of the NL file.  Skipping.\n",
            "... solve successful.\n",
            "Simulating with Q =  22428.571428571428\n",
            "WARNING: model contains export suffix 'scaling_factor' that contains 7\n",
            "component keys that are not exported as part of the NL file.  Skipping.\n",
            "... solve successful.\n",
            "Simulating with Q =  23285.714285714283\n",
            "WARNING: model contains export suffix 'scaling_factor' that contains 7\n",
            "component keys that are not exported as part of the NL file.  Skipping.\n",
            "... solve successful.\n",
            "Simulating with Q =  24142.857142857145\n",
            "WARNING: model contains export suffix 'scaling_factor' that contains 7\n",
            "component keys that are not exported as part of the NL file.  Skipping.\n",
            "... solve successful.\n",
            "Simulating with Q =  25000.0\n",
            "WARNING: model contains export suffix 'scaling_factor' that contains 7\n",
            "component keys that are not exported as part of the NL file.  Skipping.\n",
            "... solve successful.\n"
          ]
        },
        {
          "data": {
            "text/plain": [
              "<Figure size 640x480 with 1 Axes>"
            ],
            "image/png": "[encoded data removed]"
          },
          "metadata": {},
          "output_type": "display_data"
        }
      ],
      "execution_count": 43
    },
    {
      "metadata": {
        "ExecuteTime": {
          "end_time": "2025-06-06T17:05:02.101331Z",
          "start_time": "2025-06-06T17:05:00.157447Z"
        },
        "tags": [
          "solution"
        ]
      },
      "cell_type": "code",
      "source": [
        "# Todo: generate a figure of heat duty vs. mole fraction of Benzene in the vapor\n",
        "Q = []\n",
        "V = []\n",
        "\n",
        "for duty in np.linspace(-17000, 25000, 50):\n",
        "    # fix the heat duty\n",
        "    m.fs.flash.heat_duty.fix(duty)\n",
        "\n",
        "    # append the value of the duty to the Q list\n",
        "    Q.append(duty)\n",
        "\n",
        "    # print the current simulation\n",
        "    print(\"Simulating with Q = \", value(m.fs.flash.heat_duty[0]))\n",
        "\n",
        "    # solve the model\n",
        "    status = solver.solve(m)\n",
        "\n",
        "    # append the value for vapor fraction if the solve was successful\n",
        "    if solve_successful(status):\n",
        "        V.append(value(m.fs.flash.vap_outlet.mole_frac_comp[0, \"benzene\"]))\n",
        "        print(\"... solve successful.\")\n",
        "    else:\n",
        "        V.append(0.0)\n",
        "        print(\"... solve failed.\")\n",
        "\n",
        "plt.figure(\"Purity\")\n",
        "plt.plot(Q, V)\n",
        "plt.grid()\n",
        "plt.xlabel(\"Heat Duty [J]\")\n",
        "plt.ylabel(\"Vapor Benzene Mole Fraction [-]\")\n",
        "plt.show()"
      ],
      "outputs": [
        {
          "name": "stdout",
          "output_type": "stream",
          "text": [
            "Simulating with Q =  -17000.0\n",
            "WARNING: model contains export suffix 'scaling_factor' that contains 7\n",
            "component keys that are not exported as part of the NL file.  Skipping.\n",
            "... solve successful.\n",
            "Simulating with Q =  -16142.857142857143\n",
            "WARNING: model contains export suffix 'scaling_factor' that contains 7\n",
            "component keys that are not exported as part of the NL file.  Skipping.\n",
            "... solve successful.\n",
            "Simulating with Q =  -15285.714285714286\n",
            "WARNING: model contains export suffix 'scaling_factor' that contains 7\n",
            "component keys that are not exported as part of the NL file.  Skipping.\n",
            "... solve successful.\n",
            "Simulating with Q =  -14428.571428571428\n",
            "WARNING: model contains export suffix 'scaling_factor' that contains 7\n",
            "component keys that are not exported as part of the NL file.  Skipping.\n",
            "... solve successful.\n",
            "Simulating with Q =  -13571.428571428572\n",
            "WARNING: model contains export suffix 'scaling_factor' that contains 7\n",
            "component keys that are not exported as part of the NL file.  Skipping.\n",
            "... solve successful.\n",
            "Simulating with Q =  -12714.285714285714\n",
            "WARNING: model contains export suffix 'scaling_factor' that contains 7\n",
            "component keys that are not exported as part of the NL file.  Skipping.\n",
            "... solve successful.\n",
            "Simulating with Q =  -11857.142857142857\n",
            "WARNING: model contains export suffix 'scaling_factor' that contains 7\n",
            "component keys that are not exported as part of the NL file.  Skipping.\n",
            "... solve successful.\n",
            "Simulating with Q =  -11000.0\n",
            "WARNING: model contains export suffix 'scaling_factor' that contains 7\n",
            "component keys that are not exported as part of the NL file.  Skipping.\n",
            "... solve successful.\n",
            "Simulating with Q =  -10142.857142857143\n",
            "WARNING: model contains export suffix 'scaling_factor' that contains 7\n",
            "component keys that are not exported as part of the NL file.  Skipping.\n",
            "... solve successful.\n",
            "Simulating with Q =  -9285.714285714286\n",
            "WARNING: model contains export suffix 'scaling_factor' that contains 7\n",
            "component keys that are not exported as part of the NL file.  Skipping.\n",
            "... solve successful.\n",
            "Simulating with Q =  -8428.57142857143\n",
            "WARNING: model contains export suffix 'scaling_factor' that contains 7\n",
            "component keys that are not exported as part of the NL file.  Skipping.\n",
            "... solve successful.\n",
            "Simulating with Q =  -7571.4285714285725\n",
            "WARNING: model contains export suffix 'scaling_factor' that contains 7\n",
            "component keys that are not exported as part of the NL file.  Skipping.\n",
            "... solve successful.\n",
            "Simulating with Q =  -6714.285714285714\n",
            "WARNING: model contains export suffix 'scaling_factor' that contains 7\n",
            "component keys that are not exported as part of the NL file.  Skipping.\n",
            "... solve successful.\n",
            "Simulating with Q =  -5857.142857142857\n",
            "WARNING: model contains export suffix 'scaling_factor' that contains 7\n",
            "component keys that are not exported as part of the NL file.  Skipping.\n",
            "... solve successful.\n",
            "Simulating with Q =  -5000.0\n",
            "WARNING: model contains export suffix 'scaling_factor' that contains 7\n",
            "component keys that are not exported as part of the NL file.  Skipping.\n",
            "... solve successful.\n",
            "Simulating with Q =  -4142.857142857143\n",
            "WARNING: model contains export suffix 'scaling_factor' that contains 7\n",
            "component keys that are not exported as part of the NL file.  Skipping.\n",
            "... solve successful.\n",
            "Simulating with Q =  -3285.7142857142862\n",
            "WARNING: model contains export suffix 'scaling_factor' that contains 7\n",
            "component keys that are not exported as part of the NL file.  Skipping.\n",
            "... solve successful.\n",
            "Simulating with Q =  -2428.5714285714294\n",
            "WARNING: model contains export suffix 'scaling_factor' that contains 7\n",
            "component keys that are not exported as part of the NL file.  Skipping.\n",
            "... solve successful.\n",
            "Simulating with Q =  -1571.4285714285725\n",
            "WARNING: model contains export suffix 'scaling_factor' that contains 7\n",
            "component keys that are not exported as part of the NL file.  Skipping.\n",
            "... solve successful.\n",
            "Simulating with Q =  -714.2857142857156\n",
            "WARNING: model contains export suffix 'scaling_factor' that contains 7\n",
            "component keys that are not exported as part of the NL file.  Skipping.\n",
            "... solve successful.\n",
            "Simulating with Q =  142.8571428571413\n",
            "WARNING: model contains export suffix 'scaling_factor' that contains 7\n",
            "component keys that are not exported as part of the NL file.  Skipping.\n",
            "... solve successful.\n",
            "Simulating with Q =  1000.0\n",
            "WARNING: model contains export suffix 'scaling_factor' that contains 7\n",
            "component keys that are not exported as part of the NL file.  Skipping.\n",
            "... solve successful.\n",
            "Simulating with Q =  1857.142857142855\n",
            "WARNING: model contains export suffix 'scaling_factor' that contains 7\n",
            "component keys that are not exported as part of the NL file.  Skipping.\n",
            "... solve successful.\n",
            "Simulating with Q =  2714.2857142857138\n",
            "WARNING: model contains export suffix 'scaling_factor' that contains 7\n",
            "component keys that are not exported as part of the NL file.  Skipping.\n",
            "... solve successful.\n",
            "Simulating with Q =  3571.4285714285725\n",
            "WARNING: model contains export suffix 'scaling_factor' that contains 7\n",
            "component keys that are not exported as part of the NL file.  Skipping.\n",
            "... solve successful.\n",
            "Simulating with Q =  4428.5714285714275\n",
            "WARNING: model contains export suffix 'scaling_factor' that contains 7\n",
            "component keys that are not exported as part of the NL file.  Skipping.\n",
            "... solve successful.\n",
            "Simulating with Q =  5285.714285714286\n",
            "WARNING: model contains export suffix 'scaling_factor' that contains 7\n",
            "component keys that are not exported as part of the NL file.  Skipping.\n",
            "... solve successful.\n",
            "Simulating with Q =  6142.857142857141\n",
            "WARNING: model contains export suffix 'scaling_factor' that contains 7\n",
            "component keys that are not exported as part of the NL file.  Skipping.\n",
            "... solve successful.\n",
            "Simulating with Q =  7000.0\n",
            "WARNING: model contains export suffix 'scaling_factor' that contains 7\n",
            "component keys that are not exported as part of the NL file.  Skipping.\n",
            "... solve successful.\n",
            "Simulating with Q =  7857.142857142855\n",
            "WARNING: model contains export suffix 'scaling_factor' that contains 7\n",
            "component keys that are not exported as part of the NL file.  Skipping.\n",
            "... solve successful.\n",
            "Simulating with Q =  8714.285714285714\n",
            "WARNING: model contains export suffix 'scaling_factor' that contains 7\n",
            "component keys that are not exported as part of the NL file.  Skipping.\n",
            "... solve successful.\n",
            "Simulating with Q =  9571.428571428569\n",
            "WARNING: model contains export suffix 'scaling_factor' that contains 7\n",
            "component keys that are not exported as part of the NL file.  Skipping.\n",
            "... solve successful.\n",
            "Simulating with Q =  10428.571428571428\n",
            "WARNING: model contains export suffix 'scaling_factor' that contains 7\n",
            "component keys that are not exported as part of the NL file.  Skipping.\n",
            "... solve successful.\n",
            "Simulating with Q =  11285.714285714286\n",
            "WARNING: model contains export suffix 'scaling_factor' that contains 7\n",
            "component keys that are not exported as part of the NL file.  Skipping.\n",
            "... solve successful.\n",
            "Simulating with Q =  12142.857142857141\n",
            "WARNING: model contains export suffix 'scaling_factor' that contains 7\n",
            "component keys that are not exported as part of the NL file.  Skipping.\n",
            "... solve successful.\n",
            "Simulating with Q =  13000.0\n",
            "WARNING: model contains export suffix 'scaling_factor' that contains 7\n",
            "component keys that are not exported as part of the NL file.  Skipping.\n",
            "... solve successful.\n",
            "Simulating with Q =  13857.142857142855\n",
            "WARNING: model contains export suffix 'scaling_factor' that contains 7\n",
            "component keys that are not exported as part of the NL file.  Skipping.\n",
            "... solve successful.\n",
            "Simulating with Q =  14714.285714285714\n",
            "WARNING: model contains export suffix 'scaling_factor' that contains 7\n",
            "component keys that are not exported as part of the NL file.  Skipping.\n",
            "... solve successful.\n",
            "Simulating with Q =  15571.428571428569\n",
            "WARNING: model contains export suffix 'scaling_factor' that contains 7\n",
            "component keys that are not exported as part of the NL file.  Skipping.\n",
            "... solve successful.\n",
            "Simulating with Q =  16428.571428571428\n",
            "WARNING: model contains export suffix 'scaling_factor' that contains 7\n",
            "component keys that are not exported as part of the NL file.  Skipping.\n",
            "... solve successful.\n",
            "Simulating with Q =  17285.714285714283\n",
            "WARNING: model contains export suffix 'scaling_factor' that contains 7\n",
            "component keys that are not exported as part of the NL file.  Skipping.\n",
            "... solve successful.\n",
            "Simulating with Q =  18142.857142857145\n",
            "WARNING: model contains export suffix 'scaling_factor' that contains 7\n",
            "component keys that are not exported as part of the NL file.  Skipping.\n",
            "... solve successful.\n",
            "Simulating with Q =  19000.0\n",
            "WARNING: model contains export suffix 'scaling_factor' that contains 7\n",
            "component keys that are not exported as part of the NL file.  Skipping.\n",
            "... solve successful.\n",
            "Simulating with Q =  19857.142857142855\n",
            "WARNING: model contains export suffix 'scaling_factor' that contains 7\n",
            "component keys that are not exported as part of the NL file.  Skipping.\n",
            "... solve successful.\n",
            "Simulating with Q =  20714.28571428571\n",
            "WARNING: model contains export suffix 'scaling_factor' that contains 7\n",
            "component keys that are not exported as part of the NL file.  Skipping.\n",
            "... solve successful.\n",
            "Simulating with Q =  21571.428571428572\n",
            "WARNING: model contains export suffix 'scaling_factor' that contains 7\n",
            "component keys that are not exported as part of the NL file.  Skipping.\n",
            "... solve successful.\n",
            "Simulating with Q =  22428.571428571428\n",
            "WARNING: model contains export suffix 'scaling_factor' that contains 7\n",
            "component keys that are not exported as part of the NL file.  Skipping.\n",
            "... solve successful.\n",
            "Simulating with Q =  23285.714285714283\n",
            "WARNING: model contains export suffix 'scaling_factor' that contains 7\n",
            "component keys that are not exported as part of the NL file.  Skipping.\n",
            "... solve successful.\n",
            "Simulating with Q =  24142.857142857145\n",
            "WARNING: model contains export suffix 'scaling_factor' that contains 7\n",
            "component keys that are not exported as part of the NL file.  Skipping.\n",
            "... solve successful.\n",
            "Simulating with Q =  25000.0\n",
            "WARNING: model contains export suffix 'scaling_factor' that contains 7\n",
            "component keys that are not exported as part of the NL file.  Skipping.\n",
            "... solve successful.\n"
          ]
        },
        {
          "data": {
            "text/plain": [
              "<Figure size 640x480 with 1 Axes>"
            ],
            "image/png": "[encoded data removed]"
          },
          "metadata": {},
          "output_type": "display_data"
        }
      ],
      "execution_count": 44
    },
    {
      "metadata": {},
      "cell_type": "markdown",
      "source": [
        "Recall that the IDAES framework is an equation-oriented modeling environment. This means that we can specify \"design\" problems natively. That is, there is no need to have our specifications on the inlet alone. We can put specifications on the outlet as long as we retain a well-posed, square system of equations.\n",
        "\n",
        "For example, we can remove the specification on heat duty and instead specify that we want the mole fraction of Benzene in the vapor outlet to be equal to 0.6. The mole fraction is not a native variable in the property block, so we cannot use \"fix\". We can, however, add a constraint to the model.\n",
        "\n",
        "Note that we have been executing a number of solves on the problem, and may not be sure of the current state. To help convergence, therefore, we will first call initialize, then add the new constraint and solve the problem. Note that the reference for the mole fraction of Benzene in the vapor outlet is `m.fs.flash.vap_outlet.mole_frac_comp[0, \"benzene\"]`.\n",
        "\n"
      ]
    },
    {
      "metadata": {
        "ExecuteTime": {
          "end_time": "2025-06-06T17:05:05.768445Z",
          "start_time": "2025-06-06T17:05:05.378930Z"
        },
        "tags": [
          "solution"
        ]
      },
      "cell_type": "code",
      "source": [
        "# re-initialize the model - this may or may not be required depending on current state but safe to initialize\n",
        "m.fs.flash.heat_duty.fix(0)\n",
        "m.fs.flash.initialize(outlvl=idaeslog.WARNING)\n",
        "\n",
        "# Unfix the heat_duty variable\n",
        "m.fs.flash.heat_duty.unfix()\n",
        "\n",
        "# Todo: Add a new constraint (benzene mole fraction to 0.6)\n",
        "m.benz_purity_con = Constraint(\n",
        "    expr=m.fs.flash.vap_outlet.mole_frac_comp[0, \"benzene\"] == 0.6\n",
        ")\n",
        "\n",
        "# solve the problem\n",
        "status = solver.solve(m, tee=True)\n",
        "\n",
        "# Check stream condition\n",
        "m.fs.flash.report()"
      ],
      "outputs": [
        {
          "name": "stdout",
          "output_type": "stream",
          "text": [
            "WARNING: model contains export suffix 'scaling_factor' that contains 6\n",
            "component keys that are not exported as part of the NL file.  Skipping.\n",
            "Ipopt 3.13.2: \n",
            "\n",
            "******************************************************************************\n",
            "This program contains Ipopt, a library for large-scale nonlinear optimization.\n",
            " Ipopt is released as open source code under the Eclipse Public License (EPL).\n",
            "         For more information visit http://projects.coin-or.org/Ipopt\n",
            "\n",
            "This version of Ipopt was compiled from source code available at\n",
            "    https://github.com/IDAES/Ipopt as part of the Institute for the Design of\n",
            "    Advanced Energy Systems Process Systems Engineering Framework (IDAES PSE\n",
            "    Framework) Copyright (c) 2018-2019. See https://github.com/IDAES/idaes-pse.\n",
            "\n",
            "This version of Ipopt was compiled using HSL, a collection of Fortran codes\n",
            "    for large-scale scientific computation.  All technical papers, sales and\n",
            "    publicity material resulting from use of the HSL codes within IPOPT must\n",
            "    contain the following acknowledgement:\n",
            "        HSL, a collection of Fortran codes for large-scale scientific\n",
            "        computation. See http://www.hsl.rl.ac.uk.\n",
            "******************************************************************************\n",
            "\n",
            "This is Ipopt version 3.13.2, running with linear solver ma27.\n",
            "\n",
            "Number of nonzeros in equality constraint Jacobian...:      137\n",
            "Number of nonzeros in inequality constraint Jacobian.:        0\n",
            "Number of nonzeros in Lagrangian Hessian.............:       72\n",
            "\n",
            "Total number of variables............................:       42\n",
            "                     variables with only lower bounds:        3\n",
            "                variables with lower and upper bounds:       10\n",
            "                     variables with only upper bounds:        0\n",
            "Total number of equality constraints.................:       42\n",
            "Total number of inequality constraints...............:        0\n",
            "        inequality constraints with only lower bounds:        0\n",
            "   inequality constraints with lower and upper bounds:        0\n",
            "        inequality constraints with only upper bounds:        0\n",
            "\n",
            "iter    objective    inf_pr   inf_du lg(mu)  ||d||  lg(rg) alpha_du alpha_pr  ls\n",
            "   0  0.0000000e+00 3.40e-02 1.00e+00  -1.0 0.00e+00    -  0.00e+00 0.00e+00   0\n",
            "   1  0.0000000e+00 1.64e+02 7.01e-02  -1.0 5.15e+03    -  9.87e-01 1.00e+00h  1\n",
            "   2  0.0000000e+00 9.59e-02 2.03e-03  -1.0 7.07e+01    -  9.90e-01 1.00e+00h  1\n",
            "   3  0.0000000e+00 6.96e-08 2.50e-06  -1.0 4.13e-01    -  9.98e-01 1.00e+00h  1\n",
            "\n",
            "Number of Iterations....: 3\n",
            "\n",
            "                                   (scaled)                 (unscaled)\n",
            "Objective...............:   0.0000000000000000e+00    0.0000000000000000e+00\n",
            "Dual infeasibility......:   0.0000000000000000e+00    0.0000000000000000e+00\n",
            "Constraint violation....:   8.9151738215745240e-11    6.9550878833979368e-08\n",
            "Complementarity.........:   0.0000000000000000e+00    0.0000000000000000e+00\n",
            "Overall NLP error.......:   8.9151738215745240e-11    6.9550878833979368e-08\n",
            "\n",
            "\n",
            "Number of objective function evaluations             = 4\n",
            "Number of objective gradient evaluations             = 4\n",
            "Number of equality constraint evaluations            = 4\n",
            "Number of inequality constraint evaluations          = 0\n",
            "Number of equality constraint Jacobian evaluations   = 4\n",
            "Number of inequality constraint Jacobian evaluations = 0\n",
            "Number of Lagrangian Hessian evaluations             = 3\n",
            "Total CPU secs in IPOPT (w/o function evaluations)   =      0.001\n",
            "Total CPU secs in NLP function evaluations           =      0.000\n",
            "\n",
            "EXIT: Optimal Solution Found.\n",
            "\n",
            "====================================================================================\n",
            "Unit : fs.flash                                                            Time: 0.0\n",
            "------------------------------------------------------------------------------------\n",
            "    Unit Performance\n",
            "\n",
            "    Variables: \n",
            "\n",
            "    Key             : Value  : Units  : Fixed : Bounds\n",
            "          Heat Duty : 5083.6 :   watt : False : (None, None)\n",
            "    Pressure Change : 0.0000 : pascal :  True : (None, None)\n",
            "\n",
            "------------------------------------------------------------------------------------\n",
            "    Stream Table\n",
            "                               Units         Inlet    Vapor Outlet  Liquid Outlet\n",
            "    flow_mol                mole / second     1.0000      0.54833       0.45167  \n",
            "    mole_frac_comp benzene  dimensionless    0.50000      0.60000       0.37860  \n",
            "    mole_frac_comp toluene  dimensionless    0.50000      0.40000       0.62140  \n",
            "    temperature                    kelvin     368.00       369.07        369.07  \n",
            "    pressure                       pascal 1.0132e+05   1.0132e+05    1.0132e+05  \n",
            "====================================================================================\n"
          ]
        }
      ],
      "execution_count": 46
    },
    {
      "metadata": {
        "tags": [
          "testing"
        ]
      },
      "cell_type": "code",
      "source": [
        "# Check for solver status\n",
        "assert status.solver.termination_condition == TerminationCondition.optimal\n",
        "\n",
        "# Check for optimal values\n",
        "assert value(m.fs.flash.liq_outlet.flow_mol[0]) == pytest.approx(0.4516, abs=1e-3)\n",
        "assert value(m.fs.flash.liq_outlet.mole_frac_comp[0, \"benzene\"]) == pytest.approx(\n",
        "    0.3786, abs=1e-3\n",
        ")\n",
        "assert value(m.fs.flash.liq_outlet.mole_frac_comp[0, \"toluene\"]) == pytest.approx(\n",
        "    0.6214, abs=1e-3\n",
        ")\n",
        "assert value(m.fs.flash.liq_outlet.temperature[0]) == pytest.approx(369.07, abs=1e-2)\n",
        "assert value(m.fs.flash.liq_outlet.pressure[0]) == pytest.approx(101325, abs=1e-3)\n",
        "\n",
        "assert value(m.fs.flash.vap_outlet.flow_mol[0]) == pytest.approx(0.5483, abs=1e-3)\n",
        "assert value(m.fs.flash.vap_outlet.mole_frac_comp[0, \"benzene\"]) == pytest.approx(\n",
        "    0.6, abs=1e-3\n",
        ")\n",
        "assert value(m.fs.flash.vap_outlet.mole_frac_comp[0, \"toluene\"]) == pytest.approx(\n",
        "    0.4, abs=1e-3\n",
        ")\n",
        "assert value(m.fs.flash.vap_outlet.temperature[0]) == pytest.approx(369.07, abs=1e-2)\n",
        "assert value(m.fs.flash.vap_outlet.pressure[0]) == pytest.approx(101325, abs=1e-3)"
      ],
      "outputs": [],
      "execution_count": null
    }
  ],
  "metadata": {
    "celltoolbar": "Tags",
    "kernelspec": {
      "display_name": "Python 3 (ipykernel)",
      "language": "python",
      "name": "python3"
    },
    "language_info": {
      "codemirror_mode": {
        "name": "ipython",
        "version": 3
      },
      "file_extension": ".py",
      "mimetype": "text/x-python",
      "name": "python",
      "nbconvert_exporter": "python",
      "pygments_lexer": "ipython3",
      "version": "3.9.12"
    }
  },
  "nbformat": 4,
  "nbformat_minor": 3
}