{
  "cells": [
    {
      "cell_type": "code",
      "metadata": {
        "tags": [
          "header",
          "hide-cell"
        ],
        "ExecuteTime": {
          "end_time": "2025-06-24T19:31:51.625798Z",
          "start_time": "2025-06-24T19:31:51.621877Z"
        }
      },
      "source": [
        "###############################################################################\n",
        "# The Institute for the Design of Advanced Energy Systems Integrated Platform\n",
        "# Framework (idaes IP) was produced under the DOE Institute for the\n",
        "# Design of Advanced Energy Systems (IDAES).\n",
        "#\n",
        "# Copyright (c) 2018-2023 by the software owners: The Regents of the\n",
        "# University of California, through Lawrence Berkeley National Laboratory,\n",
        "# National Technology & Engineering Solutions of Sandia, LLC, Carnegie Mellon\n",
        "# University, West Virginia University Research Corporation, et al.\n",
        "# All rights reserved.  Please see the files COPYRIGHT.md and LICENSE.md\n",
        "# for full copyright and license information.\n",
        "###############################################################################"
      ],
      "outputs": [],
      "execution_count": 1
    },
    {
      "cell_type": "markdown",
      "metadata": {},
      "source": [
        "\n",
        "# HDA Flowsheet Simulation and Optimization\n",
        "\n",
        "Author: Jaffer Ghouse<br>\n",
        "Maintainer: Tanner Polley<br>\n",
        "Updated: 2025-06-03\n",
        "\n",
        "## Learning outcomes\n",
        "\n",
        "\n",
        "- Construct a steady-state flowsheet using the IDAES unit model library\n",
        "- Connecting unit models in a flowsheet using Arcs\n",
        "- Using the SequentialDecomposition tool to initialize a flowsheet with recycle\n",
        "- Formulate and solve an optimization problem\n",
        "    - Defining an objective function\n",
        "    - Setting variable bounds\n",
        "    - Adding additional constraints\n",
        "\n",
        "\n",
        "The general workflow of setting up an IDAES flowsheet is the following:\n",
        "\n",
        "&nbsp;&nbsp;&nbsp;&nbsp; 1 Importing Modules <br>\n",
        "&nbsp;&nbsp;&nbsp;&nbsp; 2 Building a Model <br>\n",
        "&nbsp;&nbsp;&nbsp;&nbsp; 3 Scaling the Model <br>\n",
        "&nbsp;&nbsp;&nbsp;&nbsp; 4 Specifying the Model <br>\n",
        "&nbsp;&nbsp;&nbsp;&nbsp; 5 Initializing the Model <br>\n",
        "&nbsp;&nbsp;&nbsp;&nbsp; 6 Solving the Model <br>\n",
        "&nbsp;&nbsp;&nbsp;&nbsp; 7 Analyzing and Visualizing the Results <br>\n",
        "&nbsp;&nbsp;&nbsp;&nbsp; 8 Optimizing the Model <br>\n",
        "\n",
        "We will complete each of these steps as well as demonstrate analyses on this model through some examples and exercises.\n",
        "\n",
        "\n",
        "## Problem Statement\n",
        "\n",
        "Hydrodealkylation is a chemical reaction that often involves reacting\n",
        "an aromatic hydrocarbon in the presence of hydrogen gas to form a\n",
        "simpler aromatic hydrocarbon devoid of functional groups. In this\n",
        "example, toluene will be reacted with hydrogen gas at high temperatures\n",
        " to form benzene via the following reaction:\n",
        "\n",
        "**C<sub>6</sub>H<sub>5</sub>CH<sub>3</sub> + H<sub>2</sub> \u2192 C<sub>6</sub>H<sub>6</sub> + CH<sub>4</sub>**\n",
        "\n",
        "\n",
        "This reaction is often accompanied by an equilibrium side reaction\n",
        "which forms diphenyl, which we will neglect for this example.\n",
        "\n",
        "This example is based on the 1967 AIChE Student Contest problem as\n",
        "present by Douglas, J.M., Chemical  Design of Chemical Processes, 1988,\n",
        "McGraw-Hill.\n",
        "\n",
        "The flowsheet that we will be using for this module is shown below with the stream conditions. We will be processing toluene and hydrogen to produce at least 370 TPY of benzene. As shown in the flowsheet, there are two flash tanks, F101 to separate out the non-condensibles and F102 to further separate the benzene-toluene mixture to improve the benzene purity.  Note that typically a distillation column is required to obtain high purity benzene but that is beyond the scope of this workshop. The non-condensibles separated out in F101 will be partially recycled back to M101 and the rest will be either purged or combusted for power generation.We will assume ideal gas for this flowsheet. The properties required for this module are available in the same directory:\n",
        "\n",
        "- hda_ideal_VLE.py\n",
        "- hda_reaction.py\n",
        "\n",
        "The state variables chosen for the property package are **flows of component by phase, temperature and pressure**. The components considered are: **toluene, hydrogen, benzene and methane**. Therefore, every stream has 8 flow variables, 1 temperature and 1 pressure variable. \n",
        "\n",
        "![](HDA_flowsheet.png)\n",
        "\n"
      ]
    },
    {
      "cell_type": "markdown",
      "metadata": {},
      "source": [
        "## 1 Importing Modules\n",
        "### 1.1 Importing required Pyomo and IDAES components\n",
        "\n",
        "\n",
        "To construct a flowsheet, we will need several components from the Pyomo and IDAES package. Let us first import the following components from Pyomo:\n",
        "- Constraint (to write constraints)\n",
        "- Var (to declare variables)\n",
        "- ConcreteModel (to create the concrete model object)\n",
        "- Expression (to evaluate values as a function of variables defined in the model)\n",
        "- Objective (to define an objective function for optimization)\n",
        "- SolverFactory (to solve the problem)\n",
        "- TransformationFactory (to apply certain transformations)\n",
        "- Arc (to connect two unit models)\n",
        "- SequentialDecomposition (to initialize the flowsheet in a sequential mode)\n",
        "\n",
        "For further details on these components, please refer to the Pyomo documentation: https://Pyomo.readthedocs.io/en/stable/\n"
      ]
    },
    {
      "cell_type": "code",
      "metadata": {
        "ExecuteTime": {
          "end_time": "2025-06-24T19:31:52.254163Z",
          "start_time": "2025-06-24T19:31:51.828427Z"
        }
      },
      "source": [
        "from pyomo.environ import (\n",
        "    Constraint,\n",
        "    Var,\n",
        "    ConcreteModel,\n",
        "    Expression,\n",
        "    Objective,\n",
        "    SolverFactory,\n",
        "    TransformationFactory,\n",
        "    value,\n",
        ")\n",
        "from pyomo.network import Arc, SequentialDecomposition"
      ],
      "outputs": [],
      "execution_count": 2
    },
    {
      "cell_type": "markdown",
      "metadata": {},
      "source": [
        "From IDAES, we will be needing the FlowsheetBlock and the following unit models:\n",
        "- Feed\n",
        "- Mixer\n",
        "- Heater\n",
        "- StoichiometricReactor\n",
        "- <span style=\"color:blue\">**Flash**</span>\n",
        "- Separator (splitter) \n",
        "- PressureChanger\n",
        "- Product"
      ]
    },
    {
      "cell_type": "code",
      "metadata": {
        "ExecuteTime": {
          "end_time": "2025-06-24T19:31:54.053674Z",
          "start_time": "2025-06-24T19:31:52.269805Z"
        }
      },
      "source": [
        "from idaes.core import FlowsheetBlock"
      ],
      "outputs": [],
      "execution_count": 3
    },
    {
      "cell_type": "code",
      "metadata": {
        "ExecuteTime": {
          "end_time": "2025-06-24T19:31:54.167306Z",
          "start_time": "2025-06-24T19:31:54.062903Z"
        }
      },
      "source": [
        "from idaes.models.unit_models import (\n",
        "    PressureChanger,\n",
        "    IsentropicPressureChangerInitializer,\n",
        "    Mixer,\n",
        "    MixerInitializer,\n",
        "    Separator as Splitter,\n",
        "    SeparatorInitializer,\n",
        "    Heater,\n",
        "    StoichiometricReactor,\n",
        "    Feed,\n",
        "    Product,\n",
        ")"
      ],
      "outputs": [],
      "execution_count": 4
    },
    {
      "cell_type": "markdown",
      "metadata": {},
      "source": [
        "<div class=\"alert alert-block alert-info\">\n",
        "<b>Inline Exercise:</b>\n",
        "Now, import the remaining unit models highlighted in blue above and run the cell using `Shift+Enter` after typing in the code. \n",
        "</div>\n"
      ]
    },
    {
      "cell_type": "code",
      "metadata": {
        "tags": [
          "solution"
        ],
        "ExecuteTime": {
          "end_time": "2025-06-24T19:31:54.191096Z",
          "start_time": "2025-06-24T19:31:54.188112Z"
        }
      },
      "source": [
        "# Todo: import flash model from idaes.models.unit_models\n",
        "from idaes.models.unit_models import Flash"
      ],
      "outputs": [],
      "execution_count": 6
    },
    {
      "cell_type": "markdown",
      "metadata": {},
      "source": [
        "We will also be needing some utility tools to put together the flowsheet and calculate the degrees of freedom. "
      ]
    },
    {
      "cell_type": "code",
      "metadata": {
        "ExecuteTime": {
          "end_time": "2025-06-24T19:31:54.207515Z",
          "start_time": "2025-06-24T19:31:54.204470Z"
        }
      },
      "source": [
        "from idaes.models.unit_models.pressure_changer import ThermodynamicAssumption\n",
        "from idaes.core.util.model_statistics import degrees_of_freedom\n",
        "from idaes.core.scaling.util import set_scaling_factor\n",
        "from idaes.core.scaling.autoscaling import AutoScaler\n",
        "\n",
        "# Import idaes logger to set output levels\n",
        "import idaes.logger as idaeslog\n",
        "from idaes.core.solvers import get_solver\n",
        "from idaes.core.util.exceptions import InitializationError"
      ],
      "outputs": [],
      "execution_count": 7
    },
    {
      "cell_type": "markdown",
      "metadata": {},
      "source": [
        "### 1.2 Importing required thermo and reaction package\n",
        "\n",
        "The final set of imports are to import the thermo and reaction package for the HDA process. We have created a custom thermo package that assumes Ideal Gas with support for VLE. \n",
        "\n",
        "The reaction package here is very simple as we will be using only a StochiometricReactor and the reaction package consists of the stochiometric coefficients for the reaction and the parameter for the heat of reaction. \n",
        "\n",
        "Let us import the following modules and they are in the same directory as this jupyter notebook:\n",
        "      <ul>\n",
        "         <li>hda_ideal_VLE as thermo_props</li>\n",
        "         <li>hda_reaction as reaction_props </li>\n",
        "      </ul>\n",
        "</div>"
      ]
    },
    {
      "cell_type": "code",
      "metadata": {
        "ExecuteTime": {
          "end_time": "2025-06-24T19:31:54.224870Z",
          "start_time": "2025-06-24T19:31:54.218012Z"
        }
      },
      "source": [
        "from idaes_examples.mod.hda import hda_ideal_VLE as thermo_props\n",
        "from idaes_examples.mod.hda import hda_reaction as reaction_props"
      ],
      "outputs": [],
      "execution_count": 8
    },
    {
      "cell_type": "markdown",
      "metadata": {},
      "source": [
        "## 2 Constructing the Flowsheet\n",
        "\n",
        "We have now imported all the components, unit models, and property modules we need to construct a flowsheet. Let us create a ConcreteModel and add the flowsheet block."
      ]
    },
    {
      "cell_type": "code",
      "metadata": {
        "ExecuteTime": {
          "end_time": "2025-06-24T19:31:54.238662Z",
          "start_time": "2025-06-24T19:31:54.233640Z"
        }
      },
      "source": [
        "m = ConcreteModel()\n",
        "m.fs = FlowsheetBlock(dynamic=False)"
      ],
      "outputs": [],
      "execution_count": 9
    },
    {
      "cell_type": "markdown",
      "metadata": {},
      "source": [
        "We now need to add the property packages to the flowsheet. Unlike Module 1, where we only had a thermo property package, for this flowsheet we will also need to add a reaction property package. "
      ]
    },
    {
      "cell_type": "code",
      "metadata": {
        "ExecuteTime": {
          "end_time": "2025-06-24T19:31:54.260417Z",
          "start_time": "2025-06-24T19:31:54.248422Z"
        }
      },
      "source": [
        "m.fs.thermo_params = thermo_props.HDAParameterBlock()\n",
        "m.fs.reaction_params = reaction_props.HDAReactionParameterBlock(\n",
        "    property_package=m.fs.thermo_params\n",
        ")"
      ],
      "outputs": [],
      "execution_count": 10
    },
    {
      "cell_type": "markdown",
      "metadata": {},
      "source": [
        "### 2.1 Adding Unit Models\n",
        "\n",
        "Let us start adding the unit models we have imported to the flowsheet. Here, we are adding the Feed (assigned a name `I101` for Inlet), `Mixer` (assigned a name `M101`) and a `Heater` (assigned a name `H101`). Note that, all unit models need to be given a property package argument. In addition to that, there are several arguments depending on the unit model, please refer to the documentation for more details (https://idaes-pse.readthedocs.io/en/stable/reference_guides/model_libraries/generic/unit_models/index.html). For example, the `Mixer` unit model here must be specified the number of inlets that it will take in and the `Heater` can have specific settings enabled such as `has_pressure_change` or `has_phase_equilibrium`."
      ]
    },
    {
      "cell_type": "code",
      "metadata": {
        "ExecuteTime": {
          "end_time": "2025-06-24T19:31:54.290806Z",
          "start_time": "2025-06-24T19:31:54.268045Z"
        }
      },
      "source": [
        "m.fs.I101 = Feed(property_package=m.fs.thermo_params)\n",
        "\n",
        "m.fs.I102 = Feed(property_package=m.fs.thermo_params)\n",
        "\n",
        "m.fs.M101 = Mixer(\n",
        "    property_package=m.fs.thermo_params,\n",
        "    num_inlets=3,\n",
        ")\n",
        "\n",
        "m.fs.H101 = Heater(\n",
        "    property_package=m.fs.thermo_params,\n",
        "    has_pressure_change=False,\n",
        "    has_phase_equilibrium=True,\n",
        ")"
      ],
      "outputs": [],
      "execution_count": 11
    },
    {
      "cell_type": "code",
      "metadata": {
        "tags": [
          "solution"
        ],
        "ExecuteTime": {
          "end_time": "2025-06-24T19:31:54.320004Z",
          "start_time": "2025-06-24T19:31:54.309474Z"
        }
      },
      "source": [
        "# Todo: Add reactor with the specifications above\n",
        "m.fs.R101 = StoichiometricReactor(\n",
        "    property_package=m.fs.thermo_params,\n",
        "    reaction_package=m.fs.reaction_params,\n",
        "    has_heat_of_reaction=True,\n",
        "    has_heat_transfer=True,\n",
        "    has_pressure_change=False,\n",
        ")"
      ],
      "outputs": [],
      "execution_count": 13
    },
    {
      "cell_type": "markdown",
      "metadata": {},
      "source": [
        "Let us now add the Flash(assign the name F101) and pass the following arguments:\n",
        "      <ul>\n",
        "         <li>\"property_package\": m.fs.thermo_params</li>\n",
        "         <li>\"has_heat_transfer\": True</li>\n",
        "         <li>\"has_pressure_change\": False</li>\n",
        "      </ul>"
      ]
    },
    {
      "cell_type": "code",
      "metadata": {
        "ExecuteTime": {
          "end_time": "2025-06-24T19:31:54.339399Z",
          "start_time": "2025-06-24T19:31:54.328449Z"
        }
      },
      "source": [
        "m.fs.F101 = Flash(\n",
        "    property_package=m.fs.thermo_params,\n",
        "    has_heat_transfer=True,\n",
        "    has_pressure_change=True,\n",
        ")"
      ],
      "outputs": [],
      "execution_count": 14
    },
    {
      "cell_type": "markdown",
      "metadata": {},
      "source": [
        "Let us now add the Splitter(S101) with specific names for its output (purge and recycle), PressureChanger(C101) and the second Flash(F102)."
      ]
    },
    {
      "cell_type": "code",
      "metadata": {
        "ExecuteTime": {
          "end_time": "2025-06-24T19:31:54.368435Z",
          "start_time": "2025-06-24T19:31:54.346808Z"
        }
      },
      "source": [
        "m.fs.S101 = Splitter(\n",
        "    property_package=m.fs.thermo_params,\n",
        "    ideal_separation=False,\n",
        "    outlet_list=[\"purge\", \"recycle\"],\n",
        ")\n",
        "\n",
        "\n",
        "m.fs.C101 = PressureChanger(\n",
        "    property_package=m.fs.thermo_params,\n",
        "    compressor=True,\n",
        "    thermodynamic_assumption=ThermodynamicAssumption.isothermal,\n",
        ")\n",
        "\n",
        "m.fs.F102 = Flash(\n",
        "    property_package=m.fs.thermo_params,\n",
        "    has_heat_transfer=True,\n",
        "    has_pressure_change=True,\n",
        ")"
      ],
      "outputs": [],
      "execution_count": 15
    },
    {
      "cell_type": "markdown",
      "metadata": {},
      "source": [
        "Last, we will add the three Product blocks (P101, P102, P103). We use `Feed` blocks and `Product` blocks for convenience with reporting stream summaries and consistency"
      ]
    },
    {
      "cell_type": "code",
      "metadata": {
        "ExecuteTime": {
          "end_time": "2025-06-24T19:31:54.383971Z",
          "start_time": "2025-06-24T19:31:54.375760Z"
        }
      },
      "source": [
        "m.fs.P101 = Product(property_package=m.fs.thermo_params)\n",
        "\n",
        "m.fs.P102 = Product(property_package=m.fs.thermo_params)\n",
        "\n",
        "m.fs.P103 = Product(property_package=m.fs.thermo_params)"
      ],
      "outputs": [],
      "execution_count": 16
    },
    {
      "cell_type": "markdown",
      "metadata": {},
      "source": [
        "### 2.2 Connecting Unit Models using Arcs\n",
        "\n",
        "We have now added all the unit models we need to the flowsheet. However, we have not yet specified how the units are to be connected. To do this, we will be using the `Arc` which is a Pyomo component that takes in two arguments: `source` and `destination`. Let us connect the outlet of the inlets (I101, I102) to the inlet of the mixer (M101) and outlet of the mixer to the inlet of the heater(H101)."
      ]
    },
    {
      "cell_type": "markdown",
      "metadata": {},
      "source": [
        "![](HDA_flowsheet.png)"
      ]
    },
    {
      "cell_type": "code",
      "metadata": {
        "ExecuteTime": {
          "end_time": "2025-06-24T19:31:54.394877Z",
          "start_time": "2025-06-24T19:31:54.391652Z"
        }
      },
      "source": [
        "m.fs.s01 = Arc(source=m.fs.I101.outlet, destination=m.fs.M101.inlet_1)\n",
        "m.fs.s02 = Arc(source=m.fs.I102.outlet, destination=m.fs.M101.inlet_2)\n",
        "m.fs.s03 = Arc(source=m.fs.M101.outlet, destination=m.fs.H101.inlet)"
      ],
      "outputs": [],
      "execution_count": 17
    },
    {
      "cell_type": "code",
      "metadata": {
        "tags": [
          "solution"
        ],
        "ExecuteTime": {
          "end_time": "2025-06-24T19:31:54.417559Z",
          "start_time": "2025-06-24T19:31:54.414462Z"
        }
      },
      "source": [
        "# Todo: Connect the H101 outlet to R101 inlet\n",
        "m.fs.s04 = Arc(source=m.fs.H101.outlet, destination=m.fs.R101.inlet)"
      ],
      "outputs": [],
      "execution_count": 19
    },
    {
      "cell_type": "markdown",
      "metadata": {},
      "source": [
        "We will now be connecting the rest of the flowsheet as shown below. Notice how the outlet names are different for the flash tanks F101 and F102 as they have a vapor and a liquid outlet. "
      ]
    },
    {
      "cell_type": "code",
      "metadata": {
        "ExecuteTime": {
          "end_time": "2025-06-24T19:31:54.434638Z",
          "start_time": "2025-06-24T19:31:54.429537Z"
        }
      },
      "source": [
        "m.fs.s05 = Arc(source=m.fs.R101.outlet, destination=m.fs.F101.inlet)\n",
        "m.fs.s06 = Arc(source=m.fs.F101.vap_outlet, destination=m.fs.S101.inlet)\n",
        "m.fs.s07 = Arc(source=m.fs.F101.liq_outlet, destination=m.fs.F102.inlet)\n",
        "m.fs.s08 = Arc(source=m.fs.S101.recycle, destination=m.fs.C101.inlet)\n",
        "m.fs.s09 = Arc(source=m.fs.C101.outlet, destination=m.fs.M101.inlet_3)"
      ],
      "outputs": [],
      "execution_count": 20
    },
    {
      "cell_type": "markdown",
      "metadata": {},
      "source": [
        "Last we will connect the outlet streams to the inlets of the Product blocks (P101, P102, P103)"
      ]
    },
    {
      "cell_type": "code",
      "metadata": {
        "ExecuteTime": {
          "end_time": "2025-06-24T19:31:54.448099Z",
          "start_time": "2025-06-24T19:31:54.444761Z"
        }
      },
      "source": [
        "m.fs.s10 = Arc(source=m.fs.F102.vap_outlet, destination=m.fs.P101.inlet)\n",
        "m.fs.s11 = Arc(source=m.fs.F102.liq_outlet, destination=m.fs.P102.inlet)\n",
        "m.fs.s12 = Arc(source=m.fs.S101.purge, destination=m.fs.P103.inlet)"
      ],
      "outputs": [],
      "execution_count": 21
    },
    {
      "cell_type": "markdown",
      "metadata": {},
      "source": [
        "We have now connected the unit model block using the arcs. However, each of these arcs link to ports on the two unit models that are connected. In this case, the ports consist of the state variables that need to be linked between the unit models. Pyomo provides a convenient method to write these equality constraints for us between two ports and this is done as follows:"
      ]
    },
    {
      "cell_type": "code",
      "metadata": {
        "ExecuteTime": {
          "end_time": "2025-06-24T19:31:54.480416Z",
          "start_time": "2025-06-24T19:31:54.459619Z"
        }
      },
      "source": [
        "TransformationFactory(\"network.expand_arcs\").apply_to(m)"
      ],
      "outputs": [],
      "execution_count": 22
    },
    {
      "cell_type": "markdown",
      "metadata": {},
      "source": [
        "### 2.3 Adding expressions to compute purity and operating costs\n",
        "\n",
        "In this section, we will add a few Expressions that allows us to evaluate the performance. Expressions provide a convenient way of calculating certain values that are a function of the variables defined in the model. For more details on Expressions, please refer to: https://pyomo.readthedocs.io/en/stable/explanation/modeling/network.html.\n",
        "\n",
        "For this flowsheet, we are interested in computing the purity of the product Benzene stream (i.e. the mole fraction) and the operating cost which is a sum of the cooling and heating cost. "
      ]
    },
    {
      "cell_type": "markdown",
      "metadata": {},
      "source": [
        "Let us first add an Expression to compute the mole fraction of benzene in the `vap_outlet` of F102 which is our product stream. Please note that the var flow_mol_phase_comp has the index - [time, phase, component]. As this is a steady-state flowsheet, the time index by default is 0. The valid phases are [\"Liq\", \"Vap\"]. Similarly the valid component list is [\"benzene\", \"toluene\", \"hydrogen\", \"methane\"]."
      ]
    },
    {
      "cell_type": "code",
      "metadata": {
        "ExecuteTime": {
          "end_time": "2025-06-24T19:31:54.491966Z",
          "start_time": "2025-06-24T19:31:54.488552Z"
        }
      },
      "source": [
        "m.fs.purity = Expression(\n",
        "    expr=m.fs.F102.vap_outlet.flow_mol_phase_comp[0, \"Vap\", \"benzene\"]\n",
        "    / (\n",
        "        m.fs.F102.vap_outlet.flow_mol_phase_comp[0, \"Vap\", \"benzene\"]\n",
        "        + m.fs.F102.vap_outlet.flow_mol_phase_comp[0, \"Vap\", \"toluene\"]\n",
        "    )\n",
        ")"
      ],
      "outputs": [],
      "execution_count": 23
    },
    {
      "cell_type": "markdown",
      "metadata": {},
      "source": [
        "Now, let us add an expression to compute the cooling cost assuming a cost of 0.212E-4 $/kW. Note that cooling utility is required for the reactor (R101) and the first flash (F101). "
      ]
    },
    {
      "cell_type": "code",
      "metadata": {
        "ExecuteTime": {
          "end_time": "2025-06-24T19:31:54.510661Z",
          "start_time": "2025-06-24T19:31:54.507100Z"
        }
      },
      "source": [
        "m.fs.cooling_cost = Expression(\n",
        "    expr=0.212e-7 * (-m.fs.F101.heat_duty[0]) + 0.212e-7 * (-m.fs.R101.heat_duty[0])\n",
        ")"
      ],
      "outputs": [],
      "execution_count": 24
    },
    {
      "cell_type": "markdown",
      "metadata": {},
      "source": [
        "\n",
        "Now, let us add an expression to compute the heating cost assuming the utility cost as follows:\n",
        "      <ul>\n",
        "         <li>2.2E-4 dollars/kW for H101</li>\n",
        "         <li>1.9E-4 dollars/kW for F102</li>\n",
        "      </ul>\n",
        "Note that the heat duty is in units of watt (J/s). "
      ]
    },
    {
      "cell_type": "code",
      "metadata": {
        "ExecuteTime": {
          "end_time": "2025-06-24T19:31:54.534099Z",
          "start_time": "2025-06-24T19:31:54.531585Z"
        }
      },
      "source": [
        "m.fs.heating_cost = Expression(\n",
        "    expr=2.2e-7 * m.fs.H101.heat_duty[0] + 1.9e-7 * m.fs.F102.heat_duty[0]\n",
        ")"
      ],
      "outputs": [],
      "execution_count": 25
    },
    {
      "cell_type": "markdown",
      "metadata": {},
      "source": [
        "Let us now add an expression to compute the total operating cost per year which is basically the sum of the cooling and heating cost we defined above. "
      ]
    },
    {
      "cell_type": "code",
      "metadata": {
        "ExecuteTime": {
          "end_time": "2025-06-24T19:31:54.557278Z",
          "start_time": "2025-06-24T19:31:54.554745Z"
        }
      },
      "source": [
        "m.fs.operating_cost = Expression(\n",
        "    expr=(3600 * 24 * 365 * (m.fs.heating_cost + m.fs.cooling_cost))\n",
        ")"
      ],
      "outputs": [],
      "execution_count": 26
    },
    {
      "cell_type": "markdown",
      "metadata": {},
      "source": [
        "## 3 Scaling the Model\n",
        "\n",
        "In this example, we will simply use the ``AutoScaler`` method to scale our model since this example is focused on introductory flowsheet building for a full process system.\n",
        "\n",
        "For more direct control, a manual, magnitude based approach can be used. If this method is chosen or appropriate, it is highly recommended to look at these documentation:\n",
        "- Scaling Toolbox https://idaes-pse.readthedocs.io/en/stable/reference_guides/scaling/scaling.html\n",
        "- Scaling Workshop https://idaes-examples.readthedocs.io/en/latest/docs/scaling/scaler_workshop_doc.html.\n",
        "\n",
        "In this example, we already imported the ``AutoScaler`` class in the beginning so we just create the ``autoscaler`` object and call the ``scale_model`` method on the model `m`."
      ]
    },
    {
      "cell_type": "code",
      "metadata": {
        "ExecuteTime": {
          "end_time": "2025-06-24T19:31:55.298145Z",
          "start_time": "2025-06-24T19:31:54.575470Z"
        }
      },
      "source": [
        "autoscaler = AutoScaler()\n",
        "autoscaler.scale_model(m)"
      ],
      "outputs": [
        {
          "name": "stdout",
          "output_type": "stream",
          "text": [
            "WARNING: model contains export suffix 'scaling_factor' that contains 2\n",
            "component keys that are not exported as part of the NL file.  Skipping.\n"
          ]
        }
      ],
      "execution_count": 27
    },
    {
      "cell_type": "markdown",
      "metadata": {},
      "source": [
        "## 4 Specifying the Model\n",
        "### 4.1 Fixing feed conditions\n",
        "\n",
        "Let us first check how many degrees of freedom exist for this flowsheet using the `degrees_of_freedom` tool we imported earlier. "
      ]
    },
    {
      "cell_type": "code",
      "metadata": {
        "ExecuteTime": {
          "end_time": "2025-06-24T19:31:55.328653Z",
          "start_time": "2025-06-24T19:31:55.306276Z"
        }
      },
      "source": [
        "print(degrees_of_freedom(m))"
      ],
      "outputs": [
        {
          "name": "stdout",
          "output_type": "stream",
          "text": [
            "29\n"
          ]
        }
      ],
      "execution_count": 28
    },
    {
      "cell_type": "code",
      "metadata": {
        "tags": [
          "testing"
        ],
        "ExecuteTime": {
          "end_time": "2025-06-24T19:31:55.360025Z",
          "start_time": "2025-06-24T19:31:55.338112Z"
        }
      },
      "source": [
        "# Check the degrees of freedom\n",
        "assert degrees_of_freedom(m) == 29"
      ],
      "outputs": [],
      "execution_count": 29
    },
    {
      "cell_type": "markdown",
      "metadata": {},
      "source": [
        "We will now be fixing the toluene feed (`I101`) stream to the conditions shown in the flowsheet above. Please note that though this is a pure toluene feed, the remaining components are still assigned a very small non-zero value to help with convergence and initializing."
      ]
    },
    {
      "cell_type": "code",
      "metadata": {
        "ExecuteTime": {
          "end_time": "2025-06-24T19:31:55.377191Z",
          "start_time": "2025-06-24T19:31:55.372584Z"
        }
      },
      "source": [
        "m.fs.I101.flow_mol_phase_comp[0, \"Vap\", \"benzene\"].fix(1e-5)\n",
        "m.fs.I101.flow_mol_phase_comp[0, \"Vap\", \"toluene\"].fix(1e-5)\n",
        "m.fs.I101.flow_mol_phase_comp[0, \"Vap\", \"hydrogen\"].fix(1e-5)\n",
        "m.fs.I101.flow_mol_phase_comp[0, \"Vap\", \"methane\"].fix(1e-5)\n",
        "m.fs.I101.flow_mol_phase_comp[0, \"Liq\", \"benzene\"].fix(1e-5)\n",
        "m.fs.I101.flow_mol_phase_comp[0, \"Liq\", \"toluene\"].fix(0.30)\n",
        "m.fs.I101.flow_mol_phase_comp[0, \"Liq\", \"hydrogen\"].fix(1e-5)\n",
        "m.fs.I101.flow_mol_phase_comp[0, \"Liq\", \"methane\"].fix(1e-5)\n",
        "m.fs.I101.temperature.fix(303.2)\n",
        "m.fs.I101.pressure.fix(350000)"
      ],
      "outputs": [],
      "execution_count": 30
    },
    {
      "cell_type": "markdown",
      "metadata": {},
      "source": [
        "\n",
        "Similarly, let us fix the hydrogen feed (`I102`) to the following conditions in the next cell:\n",
        "      <ul>\n",
        "         <li>F<sub>H2</sub> = 0.30 mol/s</li>\n",
        "         <li>F<sub>CH4</sub> = 0.02 mol/s</li>\n",
        "         <li>Remaining components = 1e-5 mol/s</li>\n",
        "         <li>T = 303.2 K</li>\n",
        "         <li>P = 350000 Pa</li>\n",
        "      </ul>\n",
        "\n"
      ]
    },
    {
      "cell_type": "code",
      "metadata": {
        "ExecuteTime": {
          "end_time": "2025-06-24T19:31:55.398733Z",
          "start_time": "2025-06-24T19:31:55.393659Z"
        }
      },
      "source": [
        "m.fs.I102.flow_mol_phase_comp[0, \"Vap\", \"benzene\"].fix(1e-5)\n",
        "m.fs.I102.flow_mol_phase_comp[0, \"Vap\", \"toluene\"].fix(1e-5)\n",
        "m.fs.I102.flow_mol_phase_comp[0, \"Vap\", \"hydrogen\"].fix(0.30)\n",
        "m.fs.I102.flow_mol_phase_comp[0, \"Vap\", \"methane\"].fix(0.02)\n",
        "m.fs.I102.flow_mol_phase_comp[0, \"Liq\", \"benzene\"].fix(1e-5)\n",
        "m.fs.I102.flow_mol_phase_comp[0, \"Liq\", \"toluene\"].fix(1e-5)\n",
        "m.fs.I102.flow_mol_phase_comp[0, \"Liq\", \"hydrogen\"].fix(1e-5)\n",
        "m.fs.I102.flow_mol_phase_comp[0, \"Liq\", \"methane\"].fix(1e-5)\n",
        "m.fs.I102.temperature.fix(303.2)\n",
        "m.fs.I102.pressure.fix(350000)"
      ],
      "outputs": [],
      "execution_count": 31
    },
    {
      "cell_type": "markdown",
      "metadata": {},
      "source": [
        "### 4.2 Fixing unit model specifications\n",
        "\n",
        "Now that we have fixed our inlet feed conditions, we will now be fixing the operating conditions for the unit models in the flowsheet. Let us set set the H101 outlet temperature to 600 K. "
      ]
    },
    {
      "cell_type": "code",
      "metadata": {
        "ExecuteTime": {
          "end_time": "2025-06-24T19:31:55.421506Z",
          "start_time": "2025-06-24T19:31:55.418367Z"
        }
      },
      "source": [
        "m.fs.H101.outlet.temperature.fix(600)"
      ],
      "outputs": [],
      "execution_count": 32
    },
    {
      "cell_type": "markdown",
      "metadata": {},
      "source": [
        "For the StoichiometricReactor, we have to define the conversion in terms of toluene. This requires us to create a new variable for specifying the conversion and adding a Constraint that defines the conversion with respect to toluene. The second degree of freedom for the reactor is to define the heat duty. In this case, let us assume the reactor to be adiabatic i.e. Q = 0. "
      ]
    },
    {
      "cell_type": "code",
      "metadata": {
        "ExecuteTime": {
          "end_time": "2025-06-24T19:31:55.453218Z",
          "start_time": "2025-06-24T19:31:55.448353Z"
        }
      },
      "source": [
        "m.fs.R101.conversion = Var(initialize=0.75, bounds=(0, 1))\n",
        "\n",
        "m.fs.R101.conv_constraint = Constraint(\n",
        "    expr=m.fs.R101.conversion * m.fs.R101.inlet.flow_mol_phase_comp[0, \"Vap\", \"toluene\"]\n",
        "    == (\n",
        "        m.fs.R101.inlet.flow_mol_phase_comp[0, \"Vap\", \"toluene\"]\n",
        "        - m.fs.R101.outlet.flow_mol_phase_comp[0, \"Vap\", \"toluene\"]\n",
        "    )\n",
        ")\n",
        "\n",
        "m.fs.R101.conversion.fix(0.75)\n",
        "m.fs.R101.heat_duty.fix(0)"
      ],
      "outputs": [],
      "execution_count": 33
    },
    {
      "cell_type": "markdown",
      "metadata": {},
      "source": [
        "The Flash conditions for F101 can be set as follows. "
      ]
    },
    {
      "cell_type": "code",
      "metadata": {
        "ExecuteTime": {
          "end_time": "2025-06-24T19:31:55.477166Z",
          "start_time": "2025-06-24T19:31:55.473650Z"
        }
      },
      "source": [
        "m.fs.F101.vap_outlet.temperature.fix(325.0)\n",
        "m.fs.F101.deltaP.fix(0)"
      ],
      "outputs": [],
      "execution_count": 34
    },
    {
      "cell_type": "code",
      "metadata": {
        "tags": [
          "solution"
        ],
        "ExecuteTime": {
          "end_time": "2025-06-24T19:31:55.544924Z",
          "start_time": "2025-06-24T19:31:55.541593Z"
        }
      },
      "source": [
        "m.fs.F102.vap_outlet.temperature.fix(375)\n",
        "m.fs.F102.deltaP.fix(-200000)"
      ],
      "outputs": [],
      "execution_count": 36
    },
    {
      "cell_type": "markdown",
      "metadata": {},
      "source": [
        "Let us fix the purge split fraction to 20% and the outlet pressure of the compressor is set to 350000 Pa. "
      ]
    },
    {
      "cell_type": "code",
      "metadata": {
        "ExecuteTime": {
          "end_time": "2025-06-24T19:31:55.563038Z",
          "start_time": "2025-06-24T19:31:55.560499Z"
        }
      },
      "source": [
        "m.fs.S101.split_fraction[0, \"purge\"].fix(0.2)\n",
        "m.fs.C101.outlet.pressure.fix(350000)"
      ],
      "outputs": [],
      "execution_count": 37
    },
    {
      "cell_type": "code",
      "metadata": {
        "tags": [
          "solution"
        ],
        "ExecuteTime": {
          "end_time": "2025-06-24T19:31:55.624668Z",
          "start_time": "2025-06-24T19:31:55.601688Z"
        }
      },
      "source": [
        "print(degrees_of_freedom(m))"
      ],
      "outputs": [
        {
          "name": "stdout",
          "output_type": "stream",
          "text": [
            "0\n"
          ]
        }
      ],
      "execution_count": 39
    },
    {
      "cell_type": "code",
      "metadata": {
        "tags": [
          "testing"
        ],
        "ExecuteTime": {
          "end_time": "2025-06-24T19:31:55.652507Z",
          "start_time": "2025-06-24T19:31:55.628692Z"
        }
      },
      "source": [
        "# Check the degrees of freedom\n",
        "assert degrees_of_freedom(m) == 0"
      ],
      "outputs": [],
      "execution_count": 40
    },
    {
      "cell_type": "markdown",
      "metadata": {},
      "source": [
        "## 5 Initializing the Model\n",
        "\n",
        "\n",
        "\n",
        "When a flowsheet contains a recycle loop, the outlet of a downstream unit becomes the inlet of an upstream unit, creating a cyclic dependency that prevents straightforward calculation of all stream conditions. The tear\u2010stream method is necessary because it \u201cbreaks\u201d this loop: you select one recycle stream as the tear, assign it an initial guess, and then solve the rest of the flowsheet as if it were acyclic. Once the downstream units compute their outputs, you compare the calculated value of the torn stream to your initial guess and iteratively adjust until they coincide. Without tearing, the solver cannot establish a proper topological sequence or drive the recycle to convergence, making initialization\u2014and ultimately steady\u2010state convergence\u2014impossible.\n",
        "\n",
        "It is important to determine the tear stream for a flowsheet which will be demonstrated below.\n",
        "\n",
        "\n",
        "![](HDA_flowsheet.png)\n",
        "\n",
        "Currently, there are two methods of initializing a full flowsheet: using the sequential decomposition tool, or manually propagating through the flowsheet. Both methods will be shown.\n",
        "\n",
        "### 5.1 Sequential Decomposition\n",
        "\n",
        "This section will demonstrate how to use the built-in sequential decomposition tool to initialize our flowsheet. Sequential Decomposition is a tool from Pyomo where the documentation can be found here https://Pyomo.readthedocs.io/en/stable/explanation/modeling/network.html#sequential-decomposition\n"
      ]
    },
    {
      "cell_type": "markdown",
      "metadata": {},
      "source": [
        "Let us first create an object for the SequentialDecomposition and specify our options for this.  We can also create a graph for our flowsheet to determine the tear set and order."
      ]
    },
    {
      "cell_type": "code",
      "metadata": {
        "ExecuteTime": {
          "end_time": "2025-06-24T19:31:55.683525Z",
          "start_time": "2025-06-24T19:31:55.678196Z"
        }
      },
      "source": [
        "seq = SequentialDecomposition()\n",
        "seq.options.select_tear_method = \"heuristic\"\n",
        "seq.options.tear_method = \"Wegstein\"\n",
        "seq.options.iterLim = 3\n",
        "\n",
        "# Using the SD tool\n",
        "G = seq.create_graph(m)\n",
        "heuristic_tear_set = seq.tear_set_arcs(G, method=\"heuristic\")\n",
        "order = seq.calculation_order(G)"
      ],
      "outputs": [],
      "execution_count": 41
    },
    {
      "cell_type": "markdown",
      "metadata": {},
      "source": [
        "Which is the tear stream? Display tear set and order"
      ]
    },
    {
      "cell_type": "code",
      "metadata": {
        "ExecuteTime": {
          "end_time": "2025-06-24T19:31:55.701611Z",
          "start_time": "2025-06-24T19:31:55.698137Z"
        }
      },
      "source": [
        "for o in heuristic_tear_set:\n",
        "    print(o.name)"
      ],
      "outputs": [
        {
          "name": "stdout",
          "output_type": "stream",
          "text": [
            "fs.s03\n"
          ]
        }
      ],
      "execution_count": 42
    },
    {
      "cell_type": "markdown",
      "metadata": {},
      "source": [
        "What sequence did the SD tool determine to solve this flowsheet with the least number of tears? "
      ]
    },
    {
      "cell_type": "code",
      "metadata": {
        "scrolled": true,
        "ExecuteTime": {
          "end_time": "2025-06-24T19:31:55.722499Z",
          "start_time": "2025-06-24T19:31:55.719447Z"
        }
      },
      "source": [
        "for o in order:\n",
        "    print(o[0].name)"
      ],
      "outputs": [
        {
          "name": "stdout",
          "output_type": "stream",
          "text": [
            "fs.I101\n",
            "fs.R101\n",
            "fs.F101\n",
            "fs.S101\n",
            "fs.C101\n",
            "fs.M101\n"
          ]
        }
      ],
      "execution_count": 43
    },
    {
      "cell_type": "markdown",
      "metadata": {},
      "source": [
        " \n",
        "\n",
        "![](HDA_tear_stream.png) \n",
        "\n",
        "\n",
        "The SequentialDecomposition tool has determined that the tear stream is the mixer outlet. You can see this shown in the picture of the flowsheet above as the outlet of the mixer as the two lines crossing it identifying it as the tear stream. We will need to provide a reasonable guess for this."
      ]
    },
    {
      "cell_type": "code",
      "metadata": {
        "ExecuteTime": {
          "end_time": "2025-06-24T19:31:55.752786Z",
          "start_time": "2025-06-24T19:31:55.746899Z"
        }
      },
      "source": [
        "tear_guesses = {\n",
        "    \"flow_mol_phase_comp\": {\n",
        "        (0, \"Liq\", \"benzene\"): 1e-5,\n",
        "        (0, \"Liq\", \"toluene\"): 0.30,\n",
        "        (0, \"Liq\", \"methane\"): 1e-5,\n",
        "        (0, \"Liq\", \"hydrogen\"): 1e-5,\n",
        "        (0, \"Vap\", \"benzene\"): 1e-5,\n",
        "        (0, \"Vap\", \"toluene\"): 1e-5,\n",
        "        (0, \"Vap\", \"methane\"): 0.02,\n",
        "        (0, \"Vap\", \"hydrogen\"): 0.30,\n",
        "    },\n",
        "    \"temperature\": {0: 303},\n",
        "    \"pressure\": {0: 350000},\n",
        "}\n",
        "\n",
        "# Pass the tear_guess to the SD tool\n",
        "seq.set_guesses_for(m.fs.H101.inlet, tear_guesses)"
      ],
      "outputs": [],
      "execution_count": 44
    },
    {
      "cell_type": "markdown",
      "metadata": {},
      "source": [
        "Next, we need to tell the tool how to initialize a particular unit. We will be writing a python function which takes in a \"unit\" and calls the initialize method on that unit. "
      ]
    },
    {
      "cell_type": "code",
      "metadata": {
        "ExecuteTime": {
          "end_time": "2025-06-24T19:31:55.778192Z",
          "start_time": "2025-06-24T19:31:55.774682Z"
        }
      },
      "source": [
        "def function(unit):\n",
        "    try:\n",
        "        initializer = unit.default_initializer()\n",
        "        initializer.initialize(unit, output_level=idaeslog.INFO)\n",
        "    except InitializationError:\n",
        "        solver = get_solver()\n",
        "        solver.solve(unit)"
      ],
      "outputs": [],
      "execution_count": 45
    },
    {
      "cell_type": "markdown",
      "metadata": {},
      "source": [
        "We are now ready to initialize our flowsheet in a sequential mode. Note that we specifically set the iteration limit to be 5 as we are trying to use this tool only to get a good set of initial values such that IPOPT can then take over and solve this flowsheet for us. "
      ]
    },
    {
      "cell_type": "code",
      "metadata": {
        "ExecuteTime": {
          "end_time": "2025-06-24T19:31:55.795822Z",
          "start_time": "2025-06-24T19:31:55.793437Z"
        }
      },
      "source": [
        "# seq.run(m, function)"
      ],
      "outputs": [],
      "execution_count": 46
    },
    {
      "cell_type": "markdown",
      "metadata": {},
      "source": [
        "### 5.2 Manual Propagation Method\n",
        "\n",
        "This method uses a more direct approach to initialize the flowsheet, utilizing the updated initializer method and propagating manually through the flowsheet and solving for the tear stream directly.\n",
        "Lets first import a helper function that will help us manually propagate and step through the flowsheet"
      ]
    },
    {
      "cell_type": "code",
      "metadata": {
        "ExecuteTime": {
          "end_time": "2025-06-24T19:31:55.816947Z",
          "start_time": "2025-06-24T19:31:55.814431Z"
        }
      },
      "source": [
        "from idaes.core.util.initialization import propagate_state"
      ],
      "outputs": [],
      "execution_count": 47
    },
    {
      "cell_type": "markdown",
      "metadata": {},
      "source": [
        "Now we can setup our initial guesses for the tear stream which we know is the outlet of the `Mixer` or the inlet of the `Heater`. We can use the same initial guesses used in the first method. We also want to ensure that the degrees of freedom are consistent while we manually initialize the model.\n",
        "\n",
        "We will first ensure that are current degrees of freedom is still zero"
      ]
    },
    {
      "cell_type": "code",
      "metadata": {
        "ExecuteTime": {
          "end_time": "2025-06-24T19:31:55.860044Z",
          "start_time": "2025-06-24T19:31:55.834336Z"
        }
      },
      "source": [
        "print(f\"The DOF is {degrees_of_freedom(m)} initially\")"
      ],
      "outputs": [
        {
          "name": "stdout",
          "output_type": "stream",
          "text": [
            "The DOF is 0 initially\n"
          ]
        }
      ],
      "execution_count": 48
    },
    {
      "cell_type": "markdown",
      "metadata": {},
      "source": [
        "Now we can manually deactivate the tear stream, creating a separation between the `Mixer` and `Heater`. This should reduce the degrees of freedom by 10 since the inlet of the `Heater` now contains no values to solve the unit model. To deactivate a stream, simply use `m.fs.s03_expanded.deactivate()`. This expanded stream is just a different version of the `Arc` stream that is able to be deactivated."
      ]
    },
    {
      "cell_type": "code",
      "metadata": {
        "ExecuteTime": {
          "end_time": "2025-06-24T19:31:55.885959Z",
          "start_time": "2025-06-24T19:31:55.864176Z"
        }
      },
      "source": [
        "m.fs.s03_expanded.deactivate()\n",
        "\n",
        "print(f\"The DOF is {degrees_of_freedom(m)} after deactivating the tear stream\")"
      ],
      "outputs": [
        {
          "name": "stdout",
          "output_type": "stream",
          "text": [
            "The DOF is 10 after deactivating the tear stream\n"
          ]
        }
      ],
      "execution_count": 49
    },
    {
      "cell_type": "markdown",
      "metadata": {},
      "source": [
        "Now we can provide the `Heater` inlet 10 guess values to bring the degrees of freedom back to 0 and start the manual initialization process. We can run this convenient loop to assign each of these guesses to the inlet of the heater."
      ]
    },
    {
      "cell_type": "code",
      "metadata": {
        "ExecuteTime": {
          "end_time": "2025-06-24T19:31:55.937458Z",
          "start_time": "2025-06-24T19:31:55.892147Z"
        }
      },
      "source": [
        "tear_guesses = {\n",
        "    \"flow_mol_phase_comp\": {\n",
        "        (0, \"Liq\", \"benzene\"): 1e-5,\n",
        "        (0, \"Liq\", \"toluene\"): 0.30,\n",
        "        (0, \"Liq\", \"methane\"): 1e-5,\n",
        "        (0, \"Liq\", \"hydrogen\"): 1e-5,\n",
        "        (0, \"Vap\", \"benzene\"): 1e-5,\n",
        "        (0, \"Vap\", \"toluene\"): 1e-5,\n",
        "        (0, \"Vap\", \"methane\"): 0.5,\n",
        "        (0, \"Vap\", \"hydrogen\"): 0.30,\n",
        "    },\n",
        "    \"temperature\": {0: 303},\n",
        "    \"pressure\": {0: 350000},\n",
        "}\n",
        "\n",
        "for k, v in tear_guesses.items():\n",
        "    for k1, v1 in v.items():\n",
        "        getattr(m.fs.s03.destination, k)[k1].fix(v1)\n",
        "\n",
        "DOF_initial = degrees_of_freedom(m)\n",
        "print(f\"The DOF is {degrees_of_freedom(m)} after providing the initial guesses\")"
      ],
      "outputs": [
        {
          "name": "stdout",
          "output_type": "stream",
          "text": [
            "The DOF is 0 after providing the initial guesses\n"
          ]
        }
      ],
      "execution_count": 50
    },
    {
      "cell_type": "markdown",
      "metadata": {},
      "source": [
        "The next step is to manually initialize each unit model starting from the `Heater` and then propagate the connection between it and the next unit model. This manual process ensures a strict order to the user's specification if that is desired. The current standard for initializing a unit model is to use an initializer object most compatible for that unit model. This can most often be done by utilizing the `default_initializer()` method attached to the unit model and then to call the `initialize()` method with the unit model as the argument."
      ]
    },
    {
      "cell_type": "code",
      "metadata": {
        "ExecuteTime": {
          "end_time": "2025-06-24T19:31:57.330990Z",
          "start_time": "2025-06-24T19:31:55.948780Z"
        }
      },
      "source": [
        "m.fs.H101.default_initializer().initialize(m.fs.H101)  # Initialize Heater\n",
        "propagate_state(m.fs.s04)  # Establish connection between Heater and Reactor\n",
        "m.fs.R101.default_initializer().initialize(m.fs.R101)  # Initialize Reactor\n",
        "propagate_state(m.fs.s05)  # Establish connection between Reactor and First Flash Unit\n",
        "m.fs.F101.default_initializer().initialize(m.fs.F101)  # Initialize First Flash Unit\n",
        "propagate_state(m.fs.s06)  # Establish connection between First Flash Unit and Splitter\n",
        "propagate_state(\n",
        "    m.fs.s07\n",
        ")  # Establish connection between First Flash Unit and Second Flash Unit\n",
        "m.fs.S101.default_initializer().initialize(m.fs.S101)  # Initialize Splitter\n",
        "propagate_state(m.fs.s08)  # Establish connection between Splitter and Compressor\n",
        "m.fs.C101.default_initializer().initialize(m.fs.C101)  # Initialize Compressor\n",
        "propagate_state(m.fs.s09)  # Establish connection between Compressor and Mixer\n",
        "m.fs.I101.default_initializer().initialize(m.fs.I101)  # Initialize Toluene Inlet\n",
        "propagate_state(m.fs.s01)  # Establish connection between Toluene Inlet and Mixer\n",
        "m.fs.I102.default_initializer().initialize(m.fs.I102)  # Initialize Hydrogen Inlet\n",
        "propagate_state(m.fs.s02)  # Establish connection between Hydrogen Inlet and Mixer\n",
        "m.fs.M101.default_initializer().initialize(m.fs.M101)  # Initialize Mixer\n",
        "propagate_state(m.fs.s03)  # Establish connection between Mixer and Heater\n",
        "m.fs.F102.default_initializer().initialize(m.fs.F102)  # Initialize Second Flash Unit\n",
        "propagate_state(\n",
        "    m.fs.s10\n",
        ")  # Establish connection between Second Flash Unit and Benzene Product\n",
        "propagate_state(\n",
        "    m.fs.s11\n",
        ")  # Establish connection between Second Flash Unit and Toluene Product\n",
        "propagate_state(m.fs.s12)  # Establish connection between Splitter and Purge Product"
      ],
      "outputs": [
        {
          "name": "stdout",
          "output_type": "stream",
          "text": [
            "2025-06-24 12:31:56 [INFO] idaes.init.fs.H101.control_volume.properties_in: Initialization Complete\n",
            "2025-06-24 12:31:56 [INFO] idaes.init.fs.H101.control_volume.properties_out: Initialization Complete\n",
            "2025-06-24 12:31:56 [INFO] idaes.init.fs.R101.control_volume.properties_in: Initialization Complete\n",
            "2025-06-24 12:31:56 [INFO] idaes.init.fs.R101.control_volume.properties_out: Initialization Complete\n",
            "2025-06-24 12:31:56 [INFO] idaes.init.fs.F101.control_volume.properties_in: Initialization Complete\n",
            "2025-06-24 12:31:56 [INFO] idaes.init.fs.F101.control_volume.properties_out: Initialization Complete\n",
            "2025-06-24 12:31:56 [INFO] idaes.init.fs.S101.mixed_state: Initialization Complete\n",
            "2025-06-24 12:31:56 [INFO] idaes.init.fs.S101.purge_state: Initialization Complete\n",
            "2025-06-24 12:31:56 [INFO] idaes.init.fs.S101.recycle_state: Initialization Complete\n",
            "2025-06-24 12:31:56 [INFO] idaes.init.fs.S101: Initialization Step 2 Complete: optimal - <undefined>\n",
            "2025-06-24 12:31:56 [INFO] idaes.init.fs.C101.control_volume.properties_in: Initialization Complete\n",
            "2025-06-24 12:31:57 [INFO] idaes.init.fs.C101.control_volume.properties_out: Initialization Complete\n",
            "2025-06-24 12:31:57 [INFO] idaes.init.fs.I101.properties: Initialization Complete\n",
            "2025-06-24 12:31:57 [INFO] idaes.init.fs.I102.properties: Initialization Complete\n",
            "2025-06-24 12:31:57 [INFO] idaes.init.fs.M101.inlet_1_state: Initialization Complete\n",
            "2025-06-24 12:31:57 [INFO] idaes.init.fs.M101.inlet_2_state: Initialization Complete\n",
            "2025-06-24 12:31:57 [INFO] idaes.init.fs.M101.inlet_3_state: Initialization Complete\n",
            "2025-06-24 12:31:57 [INFO] idaes.init.fs.M101.mixed_state: Initialization Complete\n",
            "2025-06-24 12:31:57 [INFO] idaes.init.fs.M101: Initialization Complete: optimal - <undefined>\n",
            "2025-06-24 12:31:57 [INFO] idaes.init.fs.F102.control_volume.properties_in: Initialization Complete\n",
            "2025-06-24 12:31:57 [INFO] idaes.init.fs.F102.control_volume.properties_out: Initialization Complete\n"
          ]
        }
      ],
      "execution_count": 51
    },
    {
      "cell_type": "markdown",
      "metadata": {},
      "source": [
        "Now we solve the system to allow the outlet of the mixer to reach a converged congruence with the inlet of the heater."
      ]
    },
    {
      "cell_type": "code",
      "metadata": {
        "ExecuteTime": {
          "end_time": "2025-06-24T19:31:57.422312Z",
          "start_time": "2025-06-24T19:31:57.340180Z"
        }
      },
      "source": [
        "optarg = {\n",
        "    \"nlp_scaling_method\": \"user-scaling\",\n",
        "    \"OF_ma57_automatic_scaling\": \"yes\",\n",
        "    \"max_iter\": 300,\n",
        "    \"tol\": 1e-8,\n",
        "}\n",
        "solver = get_solver(options=optarg)\n",
        "results = solver.solve(m, tee=True)"
      ],
      "outputs": [
        {
          "name": "stdout",
          "output_type": "stream",
          "text": [
            "WARNING: model contains export suffix 'scaling_factor' that contains 40\n",
            "component keys that are not exported as part of the NL file.  Skipping.\n",
            "Ipopt 3.13.2: nlp_scaling_method=user-scaling\n",
            "tol=1e-08\n",
            "max_iter=300\n",
            "option_file_name=C:\\Users\\Tanner\\AppData\\Local\\Temp\\tmpnmv6i5ck_ipopt.opt\n",
            "\n",
            "Using option file \"C:\\Users\\Tanner\\AppData\\Local\\Temp\\tmpnmv6i5ck_ipopt.opt\".\n",
            "\n",
            "\n",
            "******************************************************************************\n",
            "This program contains Ipopt, a library for large-scale nonlinear optimization.\n",
            " Ipopt is released as open source code under the Eclipse Public License (EPL).\n",
            "         For more information visit http://projects.coin-or.org/Ipopt\n",
            "\n",
            "This version of Ipopt was compiled from source code available at\n",
            "    https://github.com/IDAES/Ipopt as part of the Institute for the Design of\n",
            "    Advanced Energy Systems Process Systems Engineering Framework (IDAES PSE\n",
            "    Framework) Copyright (c) 2018-2019. See https://github.com/IDAES/idaes-pse.\n",
            "\n",
            "This version of Ipopt was compiled using HSL, a collection of Fortran codes\n",
            "    for large-scale scientific computation.  All technical papers, sales and\n",
            "    publicity material resulting from use of the HSL codes within IPOPT must\n",
            "    contain the following acknowledgement:\n",
            "        HSL, a collection of Fortran codes for large-scale scientific\n",
            "        computation. See http://www.hsl.rl.ac.uk.\n",
            "******************************************************************************\n",
            "\n",
            "This is Ipopt version 3.13.2, running with linear solver ma27.\n",
            "\n",
            "Number of nonzeros in equality constraint Jacobian...:     1112\n",
            "Number of nonzeros in inequality constraint Jacobian.:        0\n",
            "Number of nonzeros in Lagrangian Hessian.............:      999\n",
            "\n",
            "Total number of variables............................:      380\n",
            "                     variables with only lower bounds:        0\n",
            "                variables with lower and upper bounds:      186\n",
            "                     variables with only upper bounds:        0\n",
            "Total number of equality constraints.................:      380\n",
            "Total number of inequality constraints...............:        0\n",
            "        inequality constraints with only lower bounds:        0\n",
            "   inequality constraints with lower and upper bounds:        0\n",
            "        inequality constraints with only upper bounds:        0\n",
            "\n",
            "iter    objective    inf_pr   inf_du lg(mu)  ||d||  lg(rg) alpha_du alpha_pr  ls\n",
            "   0  0.0000000e+00 9.02e+04 0.00e+00  -1.0 0.00e+00    -  0.00e+00 0.00e+00   0\n",
            "   1  0.0000000e+00 7.56e+04 7.06e+02  -1.0 3.97e+03    -  8.60e-01 1.05e-01h  1\n",
            "   2  0.0000000e+00 5.55e+04 1.89e+03  -1.0 4.15e+02    -  9.93e-01 4.60e-01h  1\n",
            "   3  0.0000000e+00 3.34e+04 1.62e+05  -1.0 2.27e+02    -  1.00e+00 5.02e-01h  1\n",
            "   4  0.0000000e+00 6.61e+03 1.47e+09  -1.0 1.29e+02    -  1.00e+00 9.71e-01h  1\n",
            "   5  0.0000000e+00 3.60e+03 3.02e+08  -1.0 1.29e+02    -  1.00e+00 4.55e-01h  2\n",
            "   6  0.0000000e+00 1.87e+02 1.63e+09  -1.0 7.07e+01    -  1.00e+00 9.49e-01h  1\n",
            "   7  0.0000000e+00 5.61e+01 6.71e+08  -1.0 3.90e+00    -  1.00e+00 1.00e+00h  1\n",
            "   8  0.0000000e+00 2.83e-02 5.59e+05  -1.0 7.47e-04    -  1.00e+00 1.00e+00h  1\n",
            "   9  0.0000000e+00 5.22e-08 2.21e-01  -1.0 7.02e-09    -  1.00e+00 1.00e+00h  1\n",
            "\n",
            "Number of Iterations....: 9\n",
            "\n",
            "                                   (scaled)                 (unscaled)\n",
            "Objective...............:   0.0000000000000000e+00    0.0000000000000000e+00\n",
            "Dual infeasibility......:   0.0000000000000000e+00    0.0000000000000000e+00\n",
            "Constraint violation....:   2.0579515874459978e-11    5.2154064178466790e-08\n",
            "Complementarity.........:   0.0000000000000000e+00    0.0000000000000000e+00\n",
            "Overall NLP error.......:   2.0579515874459978e-11    5.2154064178466790e-08\n",
            "\n",
            "\n",
            "Number of objective function evaluations             = 12\n",
            "Number of objective gradient evaluations             = 10\n",
            "Number of equality constraint evaluations            = 12\n",
            "Number of inequality constraint evaluations          = 0\n",
            "Number of equality constraint Jacobian evaluations   = 10\n",
            "Number of inequality constraint Jacobian evaluations = 0\n",
            "Number of Lagrangian Hessian evaluations             = 9\n",
            "Total CPU secs in IPOPT (w/o function evaluations)   =      0.010\n",
            "Total CPU secs in NLP function evaluations           =      0.000\n",
            "\n",
            "EXIT: Optimal Solution Found.\n"
          ]
        }
      ],
      "execution_count": 52
    },
    {
      "cell_type": "markdown",
      "metadata": {},
      "source": [
        "Now that the flowsheet is initialized, we can unfix the guesses for the `Heater` and reactive the tear stream to complete the final solve."
      ]
    },
    {
      "cell_type": "code",
      "metadata": {
        "ExecuteTime": {
          "end_time": "2025-06-24T19:31:57.464844Z",
          "start_time": "2025-06-24T19:31:57.440973Z"
        }
      },
      "source": [
        "for k, v in tear_guesses.items():\n",
        "    for k1, v1 in v.items():\n",
        "        getattr(m.fs.H101.inlet, k)[k1].unfix()\n",
        "\n",
        "m.fs.s03_expanded.activate()\n",
        "print(\n",
        "    f\"The DOF is {degrees_of_freedom(m)} after unfixing the values and reactivating the tear stream\"\n",
        ")"
      ],
      "outputs": [
        {
          "name": "stdout",
          "output_type": "stream",
          "text": [
            "The DOF is 0 after unfixing the values and reactivating the tear stream\n"
          ]
        }
      ],
      "execution_count": 53
    },
    {
      "cell_type": "markdown",
      "metadata": {},
      "source": [
        "## 6 Solving the Model"
      ]
    },
    {
      "cell_type": "markdown",
      "metadata": {
        "tags": []
      },
      "source": [
        "We have now initialized the flowsheet. Lets set up some solving options before simulating the flowsheet. We want to specify the scaling method, number of iterations, and tolerance. More specific or advanced options can be found at the documentation for IPOPT https://coin-or.github.io/Ipopt/OPTIONS.html"
      ]
    },
    {
      "cell_type": "code",
      "metadata": {
        "ExecuteTime": {
          "end_time": "2025-06-24T19:31:57.483016Z",
          "start_time": "2025-06-24T19:31:57.480415Z"
        }
      },
      "source": [
        "optarg = {\n",
        "    \"nlp_scaling_method\": \"user-scaling\",\n",
        "    \"OF_ma57_automatic_scaling\": \"yes\",\n",
        "    \"max_iter\": 1000,\n",
        "    \"tol\": 1e-8,\n",
        "}"
      ],
      "outputs": [],
      "execution_count": 54
    },
    {
      "cell_type": "code",
      "metadata": {
        "tags": [
          "solution"
        ],
        "ExecuteTime": {
          "end_time": "2025-06-24T19:31:58.312733Z",
          "start_time": "2025-06-24T19:31:57.533935Z"
        }
      },
      "source": [
        "# Create the solver object\n",
        "solver = get_solver(solver_options=optarg)\n",
        "\n",
        "# Solve the model\n",
        "results = solver.solve(m, tee=True)"
      ],
      "outputs": [
        {
          "name": "stdout",
          "output_type": "stream",
          "text": [
            "WARNING: model contains export suffix 'scaling_factor' that contains 30\n",
            "component keys that are not exported as part of the NL file.  Skipping.\n",
            "Ipopt 3.13.2: nlp_scaling_method=user-scaling\n",
            "tol=1e-08\n",
            "max_iter=1000\n",
            "option_file_name=C:\\Users\\Tanner\\AppData\\Local\\Temp\\tmpp3_hscv2_ipopt.opt\n",
            "\n",
            "Using option file \"C:\\Users\\Tanner\\AppData\\Local\\Temp\\tmpp3_hscv2_ipopt.opt\".\n",
            "\n",
            "\n",
            "******************************************************************************\n",
            "This program contains Ipopt, a library for large-scale nonlinear optimization.\n",
            " Ipopt is released as open source code under the Eclipse Public License (EPL).\n",
            "         For more information visit http://projects.coin-or.org/Ipopt\n",
            "\n",
            "This version of Ipopt was compiled from source code available at\n",
            "    https://github.com/IDAES/Ipopt as part of the Institute for the Design of\n",
            "    Advanced Energy Systems Process Systems Engineering Framework (IDAES PSE\n",
            "    Framework) Copyright (c) 2018-2019. See https://github.com/IDAES/idaes-pse.\n",
            "\n",
            "This version of Ipopt was compiled using HSL, a collection of Fortran codes\n",
            "    for large-scale scientific computation.  All technical papers, sales and\n",
            "    publicity material resulting from use of the HSL codes within IPOPT must\n",
            "    contain the following acknowledgement:\n",
            "        HSL, a collection of Fortran codes for large-scale scientific\n",
            "        computation. See http://www.hsl.rl.ac.uk.\n",
            "******************************************************************************\n",
            "\n",
            "This is Ipopt version 3.13.2, running with linear solver ma27.\n",
            "\n",
            "Number of nonzeros in equality constraint Jacobian...:     1163\n",
            "Number of nonzeros in inequality constraint Jacobian.:        0\n",
            "Number of nonzeros in Lagrangian Hessian.............:     1062\n",
            "\n",
            "Total number of variables............................:      390\n",
            "                     variables with only lower bounds:        0\n",
            "                variables with lower and upper bounds:      196\n",
            "                     variables with only upper bounds:        0\n",
            "Total number of equality constraints.................:      390\n",
            "Total number of inequality constraints...............:        0\n",
            "        inequality constraints with only lower bounds:        0\n",
            "   inequality constraints with lower and upper bounds:        0\n",
            "        inequality constraints with only upper bounds:        0\n",
            "\n",
            "iter    objective    inf_pr   inf_du lg(mu)  ||d||  lg(rg) alpha_du alpha_pr  ls\n",
            "   0  0.0000000e+00 9.02e+04 0.00e+00  -1.0 0.00e+00    -  0.00e+00 0.00e+00   0\n",
            "   1  0.0000000e+00 8.91e+04 2.71e+01  -1.0 1.70e+04    -  1.08e-02 7.31e-03h  2\n",
            "   2  0.0000000e+00 8.84e+04 7.33e+01  -1.0 1.74e+04    -  5.47e-02 4.09e-03h  2\n",
            "   3  0.0000000e+00 9.12e+04 3.04e+04  -1.0 1.76e+04    -  3.32e-02 4.38e-03h  1\n",
            "   4  0.0000000e+00 9.21e+04 6.13e+05  -1.0 2.03e+04    -  3.78e-01 1.45e-04h  1\n",
            "   5r 0.0000000e+00 9.21e+04 9.99e+02   0.3 0.00e+00    -  0.00e+00 3.70e-07R  3\n",
            "   6r 0.0000000e+00 7.72e+04 2.04e+03   0.3 1.98e+03    -  5.27e-04 9.72e-04f  1\n",
            "   7r 0.0000000e+00 7.68e+04 2.22e+03   0.3 5.34e+02    -  3.37e-03 1.49e-03f  1\n",
            "   8r 0.0000000e+00 7.63e+04 1.62e+03   0.3 2.17e+02    -  5.38e-03 4.73e-03f  1\n",
            "   9r 0.0000000e+00 7.16e+04 3.37e+03   0.3 3.36e+02    -  2.94e-02 1.34e-02f  1\n",
            "iter    objective    inf_pr   inf_du lg(mu)  ||d||  lg(rg) alpha_du alpha_pr  ls\n",
            "  10r 0.0000000e+00 7.28e+04 2.13e+03   0.3 2.64e+02    -  3.03e-02 4.06e-02f  1\n",
            "  11r 0.0000000e+00 2.09e+05 3.66e+03   0.3 3.24e+02    -  7.43e-02 8.19e-02f  1\n",
            "  12r 0.0000000e+00 2.72e+05 4.43e+03   0.3 2.58e+02    -  2.52e-01 8.18e-02f  1\n",
            "  13r 0.0000000e+00 2.95e+05 5.68e+03   0.3 1.73e+01    -  5.54e-01 1.61e-01f  1\n",
            "  14r 0.0000000e+00 3.07e+05 2.91e+03   0.3 5.68e+00    -  1.32e-01 4.14e-01f  1\n",
            "  15r 0.0000000e+00 1.91e+05 1.13e+03   0.3 5.37e+00    -  7.87e-01 1.00e+00f  1\n",
            "  16r 0.0000000e+00 1.26e+05 1.43e+03   0.3 9.51e+00    -  8.13e-01 1.00e+00f  1\n",
            "  17r 0.0000000e+00 1.24e+05 8.01e+02   0.3 9.45e+00    -  5.18e-01 1.00e+00f  1\n",
            "  18r 0.0000000e+00 1.17e+05 8.20e+02   0.3 7.85e+00    -  7.45e-01 1.00e+00f  1\n",
            "  19r 0.0000000e+00 1.09e+05 4.13e+02   0.3 7.85e+00    -  7.01e-01 1.00e+00f  1\n",
            "iter    objective    inf_pr   inf_du lg(mu)  ||d||  lg(rg) alpha_du alpha_pr  ls\n",
            "  20r 0.0000000e+00 1.04e+05 4.11e+02   0.3 4.52e+00    -  1.00e+00 1.00e+00H  1\n",
            "  21r 0.0000000e+00 1.03e+05 4.83e+02   0.3 7.55e+00    -  1.00e+00 1.00e+00f  1\n",
            "  22r 0.0000000e+00 1.03e+05 1.06e+01   0.3 4.49e+00    -  1.00e+00 1.00e+00H  1\n",
            "  23r 0.0000000e+00 1.53e+05 2.66e+03  -1.1 2.86e+01    -  9.40e-01 4.09e-01f  1\n",
            "  24r 0.0000000e+00 1.29e+05 4.09e+03  -1.1 5.10e+01    -  1.00e+00 3.20e-01f  1\n",
            "  25r 0.0000000e+00 3.99e+04 4.33e+03  -1.1 3.47e+01    -  1.00e+00 8.31e-01f  1\n",
            "  26r 0.0000000e+00 3.75e+04 1.23e+04  -1.1 7.85e+00    -  1.00e+00 1.00e+00f  1\n",
            "  27r 0.0000000e+00 3.56e+04 6.29e+02  -1.1 7.19e-01    -  1.00e+00 1.00e+00h  1\n",
            "  28r 0.0000000e+00 3.56e+04 5.39e+00  -1.1 2.06e-01    -  1.00e+00 1.00e+00h  1\n",
            "  29r 0.0000000e+00 3.56e+04 5.66e+00  -1.1 1.26e-01    -  1.00e+00 1.00e+00H  1\n",
            "iter    objective    inf_pr   inf_du lg(mu)  ||d||  lg(rg) alpha_du alpha_pr  ls\n",
            "  30r 0.0000000e+00 3.56e+04 5.39e+00  -1.1 1.14e-01    -  1.00e+00 1.00e+00h  1\n",
            "  31r 0.0000000e+00 3.56e+04 5.66e+00  -1.1 1.13e-01    -  1.00e+00 1.00e+00H  1\n",
            "  32r 0.0000000e+00 3.56e+04 5.72e+00  -1.1 1.07e-01    -  1.00e+00 1.00e+00H  1\n",
            "  33r 0.0000000e+00 3.56e+04 5.70e+00  -1.1 1.68e-01    -  1.00e+00 1.00e+00H  1\n",
            "  34r 0.0000000e+00 3.56e+04 5.38e+00  -1.1 1.24e-01    -  1.00e+00 1.00e+00h  1\n",
            "  35r 0.0000000e+00 3.56e+04 5.71e+00  -1.1 1.24e-01    -  1.00e+00 1.00e+00H  1\n",
            "  36r 0.0000000e+00 3.56e+04 5.39e+00  -1.1 1.11e-01    -  1.00e+00 1.00e+00h  1\n",
            "  37r 0.0000000e+00 3.56e+04 5.71e+00  -1.1 1.10e-01    -  1.00e+00 1.00e+00H  1\n",
            "  38r 0.0000000e+00 3.56e+04 5.70e+00  -1.1 1.20e-01    -  1.00e+00 1.00e+00H  1\n",
            "  39r 0.0000000e+00 3.56e+04 5.70e+00  -1.1 1.63e-01    -  1.00e+00 1.00e+00H  1\n",
            "iter    objective    inf_pr   inf_du lg(mu)  ||d||  lg(rg) alpha_du alpha_pr  ls\n",
            "  40r 0.0000000e+00 3.56e+04 5.39e+00  -1.1 1.02e-01    -  1.00e+00 1.00e+00h  1\n",
            "  41r 0.0000000e+00 3.56e+04 5.71e+00  -1.1 1.03e-01    -  1.00e+00 1.00e+00H  1\n",
            "  42r 0.0000000e+00 3.56e+04 6.06e+00  -1.1 2.30e-01    -  1.00e+00 2.50e-01h  3\n",
            "  43r 0.0000000e+00 3.56e+04 5.71e+00  -1.1 1.09e-01    -  1.00e+00 1.00e+00H  1\n",
            "  44r 0.0000000e+00 3.56e+04 2.16e+00  -1.1 1.02e-01    -  1.00e+00 1.00e+00h  1\n",
            "  45r 0.0000000e+00 3.55e+04 6.30e+03  -1.8 3.41e+00    -  9.02e-01 8.42e-01f  1\n",
            "  46r 0.0000000e+00 3.43e+04 1.16e+04  -1.8 7.74e+01    -  1.00e+00 1.00e+00f  1\n",
            "  47r 0.0000000e+00 3.40e+04 5.59e+01  -1.8 2.22e+00    -  1.00e+00 1.00e+00h  1\n",
            "  48r 0.0000000e+00 3.40e+04 3.86e+00  -1.8 1.86e-01    -  1.00e+00 1.00e+00h  1\n",
            "  49r 0.0000000e+00 3.40e+04 3.07e+00  -1.8 2.31e-02    -  1.00e+00 1.00e+00h  1\n",
            "iter    objective    inf_pr   inf_du lg(mu)  ||d||  lg(rg) alpha_du alpha_pr  ls\n",
            "  50r 0.0000000e+00 3.40e+04 2.45e+00  -1.8 2.31e-02    -  1.00e+00 1.00e+00h  1\n",
            "  51r 0.0000000e+00 3.40e+04 3.07e+00  -1.8 2.31e-02    -  1.00e+00 1.00e+00h  1\n",
            "  52r 0.0000000e+00 3.40e+04 3.93e+00  -1.8 2.31e-02    -  1.00e+00 1.00e+00H  1\n",
            "  53r 0.0000000e+00 3.40e+04 3.07e+00  -1.8 3.71e-02    -  1.00e+00 1.00e+00h  1\n",
            "  54r 0.0000000e+00 3.40e+04 2.45e+00  -1.8 2.31e-02    -  1.00e+00 1.00e+00h  1\n",
            "  55r 0.0000000e+00 3.40e+04 2.17e+00  -1.8 2.31e-02    -  1.00e+00 5.00e-01h  2\n",
            "  56r 0.0000000e+00 3.40e+04 2.50e+00  -1.8 5.74e-03    -  1.00e+00 1.00e+00h  1\n",
            "  57r 0.0000000e+00 3.40e+04 2.31e+00  -1.8 1.07e-02    -  1.00e+00 1.00e+00h  1\n",
            "  58r 0.0000000e+00 3.40e+04 5.82e+00  -1.8 2.18e-02    -  1.00e+00 1.00e+00H  1\n",
            "  59r 0.0000000e+00 3.40e+04 4.11e+00  -1.8 2.35e-02    -  1.00e+00 5.00e-01h  2\n",
            "iter    objective    inf_pr   inf_du lg(mu)  ||d||  lg(rg) alpha_du alpha_pr  ls\n",
            "  60r 0.0000000e+00 3.40e+04 1.90e+00  -1.8 1.06e-02    -  1.00e+00 5.00e-01h  2\n",
            "  61r 0.0000000e+00 3.40e+04 5.61e+00  -1.8 1.60e-02    -  1.00e+00 1.00e+00H  1\n",
            "  62r 0.0000000e+00 3.40e+04 2.49e+00  -1.8 2.17e-02    -  1.00e+00 1.00e+00h  1\n",
            "  63r 0.0000000e+00 3.40e+04 2.12e+00  -1.8 2.35e-02    -  1.00e+00 5.00e-01h  2\n",
            "  64r 0.0000000e+00 3.40e+04 2.63e+00  -1.8 5.40e-03    -  1.00e+00 1.00e+00h  1\n",
            "  65r 0.0000000e+00 3.40e+04 1.77e+00  -1.8 1.36e-02    -  1.00e+00 5.00e-01h  2\n",
            "  66r 0.0000000e+00 3.40e+04 5.63e+00  -1.8 1.48e-02    -  1.00e+00 1.00e+00H  1\n",
            "  67r 0.0000000e+00 3.40e+04 3.98e+00  -1.8 2.18e-02    -  1.00e+00 5.00e-01h  2\n",
            "  68r 0.0000000e+00 3.40e+04 2.57e+00  -1.8 9.18e-03    -  1.00e+00 2.50e-01h  3\n",
            "  69r 0.0000000e+00 3.40e+04 1.30e+00  -1.8 7.86e-04    -  1.00e+00 1.00e+00h  1\n",
            "iter    objective    inf_pr   inf_du lg(mu)  ||d||  lg(rg) alpha_du alpha_pr  ls\n",
            "  70r 0.0000000e+00 3.40e+04 3.60e-01  -1.8 5.85e-04    -  1.00e+00 1.00e+00h  1\n",
            "  71r 0.0000000e+00 3.40e+04 3.41e+04  -2.7 2.65e+00    -  8.41e-01 6.77e-01f  1\n",
            "  72r 0.0000000e+00 3.91e+06 4.04e+04  -2.7 5.66e+02  -4.0 3.59e-01 4.72e-01f  1\n",
            "  73r 0.0000000e+00 3.90e+06 8.56e+04  -2.7 3.82e-01   1.8 1.00e+00 9.37e-04f  1\n",
            "  74r 0.0000000e+00 4.01e+06 8.32e+04  -2.7 4.46e+00   1.4 1.04e-01 1.40e-02f  1\n",
            "  75r 0.0000000e+00 3.81e+06 9.63e+04  -2.7 2.55e+02    -  1.25e-01 5.14e-02f  1\n",
            "  76r 0.0000000e+00 3.80e+06 9.22e+04  -2.7 8.19e-01   0.9 3.56e-02 1.71e-03f  1\n",
            "  77r 0.0000000e+00 3.78e+06 9.45e+04  -2.7 1.99e+01   0.4 8.56e-06 4.94e-03h  1\n",
            "  78r 0.0000000e+00 3.78e+06 7.94e+04  -2.7 6.37e+02    -  2.71e-03 1.29e-02f  1\n",
            "  79r 0.0000000e+00 3.77e+06 4.66e+04  -2.7 6.22e+02    -  9.55e-01 2.39e-03f  1\n",
            "iter    objective    inf_pr   inf_du lg(mu)  ||d||  lg(rg) alpha_du alpha_pr  ls\n",
            "  80r 0.0000000e+00 8.88e+05 9.38e+03  -2.7 2.39e+02    -  3.49e-01 7.80e-01f  1\n",
            "  81r 0.0000000e+00 9.86e+05 8.72e+03  -2.7 5.73e+00  -0.1 1.25e-02 3.76e-02h  1\n",
            "  82r 0.0000000e+00 2.09e+04 1.49e+04  -2.7 7.68e-02   0.4 5.14e-02 1.00e+00h  1\n",
            "  83r 0.0000000e+00 1.17e+04 5.00e+02  -2.7 2.84e-02   0.8 9.69e-01 1.00e+00h  1\n",
            "  84r 0.0000000e+00 1.17e+04 6.92e-01  -2.7 1.07e-02   1.2 1.00e+00 1.00e+00h  1\n",
            "  85r 0.0000000e+00 1.17e+04 1.03e+01  -2.7 4.00e-03   1.6 1.00e+00 1.00e+00h  1\n",
            "  86r 0.0000000e+00 1.17e+04 1.53e+00  -2.7 1.20e-02   1.2 1.00e+00 1.00e+00h  1\n",
            "  87r 0.0000000e+00 1.17e+04 1.74e-01  -2.7 3.60e-02   0.7 1.00e+00 1.00e+00f  1\n",
            "  88r 0.0000000e+00 1.74e+04 1.74e-01  -2.7 1.08e-01   0.2 1.00e+00 1.00e+00f  1\n",
            "  89r 0.0000000e+00 2.20e+04 1.74e-01  -2.7 3.23e-01  -0.3 1.00e+00 1.00e+00f  1\n",
            "iter    objective    inf_pr   inf_du lg(mu)  ||d||  lg(rg) alpha_du alpha_pr  ls\n",
            "  90r 0.0000000e+00 1.17e+04 1.74e-01  -2.7 1.21e-01   0.2 1.00e+00 1.00e+00f  1\n",
            "  91r 0.0000000e+00 1.17e+04 4.47e-01  -2.7 3.64e-01  -0.3 1.00e+00 1.00e+00f  1\n",
            "  92r 0.0000000e+00 1.17e+04 7.28e-01  -2.7 1.36e-01   0.1 1.00e+00 1.00e+00f  1\n",
            "  93r 0.0000000e+00 1.17e+04 9.61e-01  -2.7 5.11e-02   0.5 1.00e+00 1.00e+00f  1\n",
            "  94r 0.0000000e+00 1.17e+04 4.11e-01  -2.7 1.92e-02   1.0 1.00e+00 1.00e+00h  1\n",
            "  95r 0.0000000e+00 1.17e+04 1.35e+01  -2.7 7.19e-03   1.4 1.00e+00 1.00e+00h  1\n",
            "  96r 0.0000000e+00 1.17e+04 2.08e+00  -2.7 2.16e-02   0.9 1.00e+00 1.00e+00h  1\n",
            "  97r 0.0000000e+00 1.17e+04 1.22e+02  -2.7 5.10e+02    -  1.00e+00 6.37e-02f  1\n",
            "  98r 0.0000000e+00 1.17e+04 1.34e+03  -2.7 4.93e+01    -  1.00e+00 3.82e-03f  2\n",
            "  99r 0.0000000e+00 1.85e+05 9.95e-01  -2.7 4.80e+01    -  1.00e+00 1.00e+00f  1\n",
            "iter    objective    inf_pr   inf_du lg(mu)  ||d||  lg(rg) alpha_du alpha_pr  ls\n",
            " 100r 0.0000000e+00 1.17e+04 4.36e-02  -2.7 1.62e-02   0.4 1.00e+00 1.00e+00h  1\n",
            " 101r 0.0000000e+00 6.98e+05 2.63e+03  -4.1 2.34e+00    -  2.85e-01 5.08e-01f  1\n",
            " 102r 0.0000000e+00 1.12e+05 1.63e+03  -4.1 1.49e+03    -  1.00e+00 8.42e-01f  1\n",
            " 103r 0.0000000e+00 1.11e+04 4.24e+00  -4.1 2.35e+02    -  1.00e+00 1.00e+00f  1\n",
            " 104r 0.0000000e+00 1.11e+04 6.14e-02  -4.1 7.09e-03    -  1.00e+00 1.00e+00h  1\n",
            " 105r 0.0000000e+00 1.11e+04 1.78e-04  -4.1 9.78e-04    -  1.00e+00 1.00e+00h  1\n",
            " 106r 0.0000000e+00 1.11e+04 1.71e+02  -6.1 1.43e-01    -  1.00e+00 8.13e-01f  1\n",
            " 107r 0.0000000e+00 2.35e+05 9.95e+01  -6.1 1.78e+04    -  8.51e-01 5.59e-01f  1\n",
            " 108r 0.0000000e+00 2.35e+05 9.95e+01  -6.1 8.02e+03    -  4.26e-05 7.29e-04f  1\n",
            " 109r 0.0000000e+00 2.35e+05 9.94e+01  -6.1 7.83e+03    -  5.36e-07 5.23e-05f  1\n",
            "iter    objective    inf_pr   inf_du lg(mu)  ||d||  lg(rg) alpha_du alpha_pr  ls\n",
            " 110r 0.0000000e+00 2.35e+05 9.94e+01  -6.1 8.40e+03    -  2.21e-06 9.49e-05f  1\n",
            " 111r 0.0000000e+00 2.35e+05 9.94e+01  -6.1 7.83e+03    -  3.19e-06 8.46e-05f  1\n",
            " 112r 0.0000000e+00 2.35e+05 9.94e+01  -6.1 8.27e+03    -  3.80e-06 8.00e-05f  1\n",
            " 113r 0.0000000e+00 2.35e+05 9.94e+01  -6.1 7.82e+03    -  7.43e-06 7.33e-05f  1\n",
            " 114r 0.0000000e+00 2.35e+05 9.94e+01  -6.1 8.13e+03    -  8.98e-06 6.51e-05f  1\n",
            " 115r 0.0000000e+00 2.35e+05 9.94e+01  -6.1 7.80e+03    -  2.66e-05 5.51e-05f  1\n",
            " 116r 0.0000000e+00 2.35e+05 9.94e+01  -6.1 7.98e+03    -  3.50e-05 4.29e-05f  1\n",
            " 117r 0.0000000e+00 2.35e+05 3.58e+02  -6.1 7.72e+03    -  9.91e-01 2.92e-05f  1\n",
            " 118r 0.0000000e+00 2.34e+05 4.20e+02  -6.1 3.46e+03    -  1.00e+00 5.57e-03f  1\n",
            " 119r 0.0000000e+00 1.39e+05 2.81e+01  -6.1 3.44e+03    -  1.00e+00 9.44e-01f  1\n",
            "iter    objective    inf_pr   inf_du lg(mu)  ||d||  lg(rg) alpha_du alpha_pr  ls\n",
            " 120r 0.0000000e+00 3.14e+03 2.60e-02  -6.1 1.92e+02    -  1.00e+00 1.00e+00f  1\n",
            " 121r 0.0000000e+00 3.14e+03 4.00e-07  -6.1 1.07e-03    -  1.00e+00 1.00e+00h  1\n",
            " 122r 0.0000000e+00 3.14e+03 1.04e+01  -9.0 2.08e-02    -  1.00e+00 8.99e-01f  1\n",
            " 123r 0.0000000e+00 1.10e+05 1.51e+02  -9.0 2.47e+05    -  2.56e-01 1.28e-02f  1\n",
            " 124r 0.0000000e+00 7.70e+04 8.48e+01  -9.0 9.49e+03    -  2.62e-01 3.07e-01f  1\n",
            " 125r 0.0000000e+00 7.46e+04 4.12e+02  -9.0 7.79e+03    -  7.15e-01 6.30e-02h  1\n",
            " 126r 0.0000000e+00 1.65e+04 1.68e+02  -9.0 1.49e+02    -  1.00e+00 7.81e-01h  1\n",
            " 127r 0.0000000e+00 1.02e+05 1.29e+02  -9.0 1.47e+02    -  1.00e+00 1.00e+00h  1\n",
            " 128r 0.0000000e+00 6.41e+04 5.08e+02  -9.0 1.62e+00    -  2.39e-01 3.98e-01h  1\n",
            " 129r 0.0000000e+00 6.40e+04 9.17e+02  -9.0 2.61e+03    -  4.77e-03 3.44e-04h  1\n",
            "iter    objective    inf_pr   inf_du lg(mu)  ||d||  lg(rg) alpha_du alpha_pr  ls\n",
            " 130r 0.0000000e+00 6.40e+04 9.93e+02  -9.0 9.49e-01  -0.0 0.00e+00 5.66e-10R  8\n",
            " 131r 0.0000000e+00 6.38e+04 9.93e+02  -9.0 1.36e+02  -0.5 2.39e-05 2.74e-05f  1\n",
            " 132r 0.0000000e+00 5.87e+04 9.93e+02  -9.0 1.39e+02  -1.0 4.39e-06 7.26e-04f  4\n",
            " 133r 0.0000000e+00 5.85e+04 9.93e+02  -9.0 1.26e+02  -0.6 2.27e-04 2.23e-05f  1\n",
            " 134r 0.0000000e+00 5.85e+04 9.92e+02  -9.0 1.26e+02  -1.1 6.09e-03 1.14e-05f  1\n",
            " 135r 0.0000000e+00 5.35e+04 9.92e+02  -9.0 1.46e+02  -1.5 1.46e-04 8.05e-04f  4\n",
            " 136r 0.0000000e+00 5.15e+04 9.93e+02  -9.0 3.91e+02  -2.0 5.53e-05 2.98e-04f  3\n",
            " 137r 0.0000000e+00 5.13e+04 9.92e+02  -9.0 4.84e+01   1.1 6.44e-04 1.05e-04f  1\n",
            " 138r 0.0000000e+00 5.02e+04 9.92e+02  -9.0 7.37e+01   0.7 3.84e-04 2.74e-04f  4\n",
            " 139r 0.0000000e+00 4.90e+04 9.90e+02  -9.0 4.95e+01   1.1 1.55e-03 6.20e-04f  1\n",
            "iter    objective    inf_pr   inf_du lg(mu)  ||d||  lg(rg) alpha_du alpha_pr  ls\n",
            " 140r 0.0000000e+00 4.70e+04 9.89e+02  -9.0 6.84e+01   0.6 6.11e-03 6.06e-04f  1\n",
            " 141r 0.0000000e+00 4.44e+04 9.90e+02  -9.0 7.34e+01   0.1 7.57e-08 7.11e-04f  1\n",
            " 142r 0.0000000e+00 4.20e+04 9.90e+02  -9.0 7.37e+01  -0.4 2.38e-05 6.66e-04f  3\n",
            " 143r 0.0000000e+00 3.89e+04 9.90e+02  -9.0 7.14e+01  -0.8 5.18e-04 8.78e-04f  2\n",
            " 144r 0.0000000e+00 3.78e+04 9.90e+02  -9.0 6.30e+01  -0.4 4.35e-05 3.65e-04f  3\n",
            " 145r 0.0000000e+00 3.74e+04 9.87e+02  -9.0 1.40e+01   1.8 8.32e-03 6.67e-04f  1\n",
            " 146r 0.0000000e+00 3.58e+04 9.85e+02  -9.0 2.71e+01   1.3 2.99e-03 1.20e-03f  4\n",
            " 147r 0.0000000e+00 3.55e+04 9.85e+02  -9.0 3.70e+01   0.9 2.85e-04 1.69e-04f  7\n",
            " 148r 0.0000000e+00 3.55e+04 9.84e+02  -9.0 2.65e+01   1.3 3.70e-04 4.38e-05f  5\n",
            " 149r 0.0000000e+00 3.52e+04 9.84e+02  -9.0 1.53e+01   1.7 1.83e-03 3.61e-04f  1\n",
            "iter    objective    inf_pr   inf_du lg(mu)  ||d||  lg(rg) alpha_du alpha_pr  ls\n",
            " 150r 0.0000000e+00 3.46e+04 9.84e+02  -9.0 2.76e+01   1.2 7.93e-06 4.25e-04f  7\n",
            " 151r 0.0000000e+00 3.46e+04 9.84e+02  -9.0 1.64e+01   1.7 6.10e-03 1.54e-06f  1\n",
            " 152r 0.0000000e+00 3.41e+04 9.84e+02  -9.0 2.84e+01   1.2 1.34e-03 3.82e-04f  6\n",
            " 153r 0.0000000e+00 3.41e+04 1.01e+03  -9.0 1.74e+01   1.6 1.21e-03 4.89e-05f  8\n",
            " 154r 0.0000000e+00 3.39e+04 9.83e+02  -9.0 2.90e+01   1.1 2.96e-03 1.09e-04f  8\n",
            " 155r 0.0000000e+00 3.37e+04 9.83e+02  -9.0 1.85e+01   1.6 8.37e-03 2.27e-04f  1\n",
            " 156r 0.0000000e+00 3.34e+04 9.83e+02  -9.0 2.97e+01   1.1 8.17e-06 2.32e-04f  7\n",
            " 157r 0.0000000e+00 3.34e+04 1.05e+03  -9.0 1.96e+01   1.5 5.28e-03 7.90e-07f  1\n",
            " 158r 0.0000000e+00 3.32e+04 9.83e+02  -9.0 3.03e+01   1.0 3.24e-03 1.74e-04f  8\n",
            " 159r 0.0000000e+00 3.31e+04 9.84e+02  -9.0 2.06e+01   1.5 7.39e-04 4.56e-05f  7\n",
            "iter    objective    inf_pr   inf_du lg(mu)  ||d||  lg(rg) alpha_du alpha_pr  ls\n",
            " 160r 0.0000000e+00 3.30e+04 9.83e+02  -9.0 3.09e+01   1.0 4.54e-04 6.12e-05f  9\n",
            " 161r 0.0000000e+00 3.30e+04 9.83e+02  -9.0 2.17e+01   1.4 1.27e-02 7.17e-05f  9\n",
            " 162r 0.0000000e+00 3.28e+04 9.83e+02  -9.0 1.22e+01   1.8 1.44e-02 2.81e-04f  1\n",
            " 163r 0.0000000e+00 3.28e+04 9.83e+02  -9.0 2.28e+01   1.4 4.67e-05 1.13e-05f  1\n",
            " 164r 0.0000000e+00 3.25e+04 9.83e+02  -9.0 3.21e+01   0.9 8.20e-05 1.75e-04f  8\n",
            " 165r 0.0000000e+00 3.25e+04 2.03e+03  -9.0 6.17e+00   2.2 9.21e-03 1.93e-08f  1\n",
            " 166r 0.0000000e+00 3.20e+04 2.62e+03  -9.0 1.41e+01   1.7 4.97e-02 7.90e-04f  7\n",
            " 167r 0.0000000e+00 3.19e+04 2.48e+03  -9.0 2.43e+01   1.3 7.95e-03 1.13e-04f  9\n",
            " 168r 0.0000000e+00 3.17e+04 1.63e+03  -9.0 3.21e+01   0.8 1.65e-02 8.53e-05f  9\n",
            " 169r 0.0000000e+00 3.17e+04 9.82e+02  -9.0 3.57e+01   0.3 6.04e-03 3.82e-05f 10\n",
            "iter    objective    inf_pr   inf_du lg(mu)  ||d||  lg(rg) alpha_du alpha_pr  ls\n",
            " 170r 0.0000000e+00 3.16e+04 9.82e+02  -9.0 3.24e+01   0.7 3.86e-10 1.02e-05f  8\n",
            " 171r 0.0000000e+00 3.16e+04 1.06e+03  -9.0 8.15e+00   2.1 3.17e-03 7.52e-06f  1\n",
            " 172r 0.0000000e+00 2.65e+04 1.21e+03  -9.0 1.71e+01   1.6 5.83e-02 5.99e-03f  1\n",
            " 173r 0.0000000e+00 1.18e+04 1.95e+03  -9.0 2.13e+01   1.1 6.23e-03 2.79e-02f  1\n",
            " 174r 0.0000000e+00 1.18e+04 4.78e+03  -9.0 1.62e+00   0.6 4.40e-02 1.42e-04f  1\n",
            " 175r 0.0000000e+00 1.18e+04 4.78e+03  -9.0 9.50e-02   2.0 9.25e-04 7.42e-04f  1\n",
            " 176r 0.0000000e+00 1.17e+04 4.78e+03  -9.0 4.66e-02   2.4 5.68e-04 9.48e-04f  1\n",
            " 177r 0.0000000e+00 1.17e+04 4.77e+03  -9.0 7.17e-02   1.9 3.24e-03 4.50e-04f  1\n",
            " 178r 0.0000000e+00 1.17e+04 4.76e+03  -9.0 2.10e-01   1.4 6.16e-04 2.91e-03f  1\n",
            " 179r 0.0000000e+00 1.17e+04 4.74e+03  -9.0 5.51e-02   2.8 8.44e-04 4.72e-03f  1\n",
            "iter    objective    inf_pr   inf_du lg(mu)  ||d||  lg(rg) alpha_du alpha_pr  ls\n",
            " 180r 0.0000000e+00 1.16e+04 7.64e+03  -9.0 1.16e-02   3.2 1.15e-02 6.16e-02f  1\n",
            " 181r 0.0000000e+00 1.10e+04 7.13e+03  -9.0 3.63e-02   2.7 2.35e-04 6.49e-02f  1\n",
            " 182r 0.0000000e+00 9.87e+03 6.42e+03  -9.0 7.25e-03   3.1 5.46e-01 1.00e-01f  1\n",
            " 183r 0.0000000e+00 9.73e+03 6.33e+03  -9.0 6.49e-03   3.6 1.80e-03 1.41e-02f  1\n",
            " 184r 0.0000000e+00 9.62e+03 6.26e+03  -9.0 6.50e-03   3.1 4.24e-02 1.10e-02f  1\n",
            " 185r 0.0000000e+00 7.00e+03 4.55e+03  -9.0 6.45e-03   2.6 3.60e-04 2.73e-01f  1\n",
            " 186r 0.0000000e+00 6.97e+03 4.53e+03  -9.0 5.09e-03   3.0 1.18e-03 3.67e-03f  1\n",
            " 187r 0.0000000e+00 6.93e+03 4.50e+03  -9.0 4.62e-03   3.5 9.12e-03 5.95e-03f  1\n",
            " 188r 0.0000000e+00 6.88e+03 4.47e+03  -9.0 9.78e-03   3.0 2.63e-03 7.75e-03f  1\n",
            " 189r 0.0000000e+00 6.15e+03 4.01e+03  -9.0 4.56e-03   3.4 1.08e-02 1.03e-01f  1\n",
            "iter    objective    inf_pr   inf_du lg(mu)  ||d||  lg(rg) alpha_du alpha_pr  ls\n",
            " 190r 0.0000000e+00 6.15e+03 4.01e+03  -9.0 1.24e-02   2.9 1.78e-03 1.61e-04h  1\n",
            " 191r 0.0000000e+00 6.15e+03 4.01e+03  -9.0 8.77e-03   2.5 2.48e-01 3.54e-05h  1\n",
            " 192r 0.0000000e+00 6.14e+03 4.00e+03  -9.0 4.47e-02   2.0 6.49e-03 2.12e-03f  1\n",
            " 193r 0.0000000e+00 6.13e+03 3.99e+03  -9.0 4.89e-03   2.4 3.55e-01 1.55e-03f  1\n",
            " 194r 0.0000000e+00 6.02e+03 3.92e+03  -9.0 7.16e-03   1.9 7.71e-01 1.91e-02f  1\n",
            " 195r 0.0000000e+00 5.16e+03 3.36e+03  -9.0 4.03e-03   2.4 9.96e-01 1.42e-01f  1\n",
            " 196r 0.0000000e+00 4.55e+03 2.64e+03  -9.0 1.87e-02   1.9 5.20e-04 2.15e-01f  1\n",
            " 197r 0.0000000e+00 4.55e+03 2.64e+03  -9.0 4.46e-03   2.3 4.29e-03 5.76e-04h  1\n",
            " 198r 0.0000000e+00 4.51e+03 2.61e+03  -9.0 6.37e-03   1.8 8.65e-02 8.50e-03f  1\n",
            " 199r 0.0000000e+00 3.82e+03 2.24e+03  -9.0 9.97e-03   1.3 1.00e+00 1.43e-01f  1\n",
            "iter    objective    inf_pr   inf_du lg(mu)  ||d||  lg(rg) alpha_du alpha_pr  ls\n",
            " 200r 0.0000000e+00 2.28e+04 1.11e+03  -9.0 2.99e-02   0.9 1.00e+00 6.04e-01f  1\n",
            " 201r 0.0000000e+00 2.26e+04 1.11e+03  -9.0 8.97e-02   0.4 2.64e-05 9.38e-03h  1\n",
            " 202r 0.0000000e+00 2.25e+04 1.19e+03  -9.0 2.69e-01  -0.1 1.56e-02 3.25e-03h  1\n",
            " 203r 0.0000000e+00 2.15e+04 2.29e+03  -9.0 1.01e-01   0.3 5.21e-03 1.31e-01f  1\n",
            " 204r 0.0000000e+00 2.11e+04 2.25e+03  -9.0 8.35e-04   2.6 1.00e+00 1.69e-02h  1\n",
            " 205r 0.0000000e+00 1.69e+04 1.84e+03  -9.0 1.81e-03   2.1 2.01e-02 1.92e-01f  1\n",
            " 206r 0.0000000e+00 1.10e+04 1.29e+03  -9.0 5.32e-03   1.6 6.72e-03 2.90e-01f  1\n",
            " 207r 0.0000000e+00 1.05e+04 1.25e+03  -9.0 1.60e-02   1.1 7.06e-03 3.85e-02h  1\n",
            " 208r 0.0000000e+00 9.50e+03 1.49e+03  -9.0 4.79e-02   0.7 3.24e-01 4.74e-02h  1\n",
            " 209r 0.0000000e+00 8.97e+03 1.26e+03  -9.0 9.53e-04   2.9 1.95e-01 5.50e-02f  1\n",
            "iter    objective    inf_pr   inf_du lg(mu)  ||d||  lg(rg) alpha_du alpha_pr  ls\n",
            " 210r 0.0000000e+00 7.49e+03 1.11e+03  -9.0 8.42e-04   2.4 8.89e-03 1.56e-01f  1\n",
            " 211r 0.0000000e+00 6.41e+03 1.03e+03  -9.0 2.53e-03   1.9 2.59e-01 1.10e-01h  1\n",
            " 212r 0.0000000e+00 6.25e+03 9.97e+02  -9.0 9.47e-04   2.4 1.55e-01 2.46e-02h  1\n",
            " 213r 0.0000000e+00 6.20e+03 1.02e+03  -9.0 2.84e-03   1.9 3.65e-02 8.08e-03h  1\n",
            " 214r 0.0000000e+00 5.92e+03 9.77e+02  -9.0 1.07e-03   2.3 6.08e-02 4.16e-02h  1\n",
            " 215r 0.0000000e+00 2.22e+03 7.30e+02  -9.0 3.20e-03   1.8 1.25e-01 3.00e-01f  1\n",
            " 216r 0.0000000e+00 1.94e+03 6.47e+02  -9.0 1.20e-03   2.3 9.91e-02 1.06e-01f  1\n",
            " 217r 0.0000000e+00 6.72e+02 5.25e+02  -9.0 4.50e-04   2.7 1.64e-02 6.72e-01f  1\n",
            " 218r 0.0000000e+00 5.81e+02 4.55e+02  -9.0 1.35e-03   2.2 9.70e-03 8.26e-02f  1\n",
            " 219r 0.0000000e+00 5.71e+02 1.45e+03  -9.0 4.05e-03   1.7 4.53e-01 1.86e-02f  1\n",
            "iter    objective    inf_pr   inf_du lg(mu)  ||d||  lg(rg) alpha_du alpha_pr  ls\n",
            " 220r 0.0000000e+00 2.88e+02 3.97e+02  -9.0 1.21e-02   1.3 8.93e-01 4.98e-01h  1\n",
            " 221r 0.0000000e+00 2.84e+02 3.68e+02  -9.0 3.64e-02   0.8 3.94e-01 1.41e-02h  1\n",
            " 222r 0.0000000e+00 2.60e+02 3.31e+02  -9.0 1.09e-01   0.3 2.98e-01 8.74e-02h  1\n",
            " 223r 0.0000000e+00 2.58e+02 2.99e+02  -9.0 9.90e-03   1.6 7.50e-04 1.48e-02h  1\n",
            " 224r 0.0000000e+00 2.57e+02 6.28e+02  -9.0 1.92e-03   2.1 2.26e-01 1.81e-03h  1\n",
            " 225r 0.0000000e+00 2.57e+02 3.39e+02  -9.0 6.80e-02   2.5 1.38e-03 2.43e-05h  1\n",
            " 226r 0.0000000e+00 1.79e+02 5.12e+02  -9.0 2.16e-03   2.0 6.20e-01 1.47e-01f  1\n",
            " 227r 0.0000000e+00 1.77e+02 5.05e+02  -9.0 6.48e-03   1.5 2.81e-01 1.03e-02h  1\n",
            " 228r 0.0000000e+00 1.65e+02 3.97e+02  -9.0 1.94e-02   1.1 2.14e-01 6.66e-02f  1\n",
            " 229r 0.0000000e+00 1.53e+02 2.65e+02  -9.0 5.83e-02   0.6 2.73e-01 7.17e-02h  1\n",
            "iter    objective    inf_pr   inf_du lg(mu)  ||d||  lg(rg) alpha_du alpha_pr  ls\n",
            " 230r 0.0000000e+00 1.42e+02 2.46e+02  -9.0 1.75e-01   0.1 8.87e-02 8.18e-02h  1\n",
            " 231r 0.0000000e+00 1.42e+02 4.93e+02  -9.0 1.28e+05    -  5.16e-05 3.99e-07f  1\n",
            " 232r 0.0000000e+00 1.42e+02 4.93e+02  -9.0 5.25e-01  -0.4 1.92e-06 1.34e-06h  1\n",
            " 233r 0.0000000e+00 1.42e+02 4.45e+02  -9.0 1.57e+00  -0.8 3.69e-03 7.18e-04f  1\n",
            " 234r 0.0000000e+00 1.42e+02 5.41e+02  -9.0 2.69e+05    -  1.52e-04 3.85e-08f  1\n",
            " 235r 0.0000000e+00 1.35e+02 4.90e+02  -9.0 4.69e+00  -1.3 2.20e-02 4.92e-02f  1\n",
            " 236r 0.0000000e+00 1.34e+02 1.04e+03  -9.0 5.20e+00  -1.8 1.65e-01 8.17e-03f  1\n",
            " 237r 0.0000000e+00 1.34e+02 1.46e+03  -9.0 2.44e-01  -0.5 4.95e-03 6.83e-04h  1\n",
            " 238r 0.0000000e+00 1.33e+02 1.34e+03  -9.0 7.33e-01  -1.0 8.65e-02 2.12e-03f  1\n",
            " 239r 0.0000000e+00 1.30e+02 1.67e+03  -9.0 2.20e+00  -1.4 1.00e+00 2.18e-02f  1\n",
            "iter    objective    inf_pr   inf_du lg(mu)  ||d||  lg(rg) alpha_du alpha_pr  ls\n",
            " 240r 0.0000000e+00 1.50e+01 2.99e+02  -9.0 3.35e-02  -1.9 5.05e-01 8.07e-01h  1\n",
            " 241r 0.0000000e+00 1.41e+01 3.16e+02  -9.0 1.15e-01  -2.4 1.15e-01 5.72e-02h  1\n",
            " 242r 0.0000000e+00 1.41e+01 2.96e+02  -9.0 2.21e-01  -2.9 8.95e-01 1.86e-04h  1\n",
            " 243r 0.0000000e+00 1.36e+01 9.56e+02  -9.0 3.57e-01  -3.3 1.00e+00 3.35e-02f  1\n",
            " 244r 0.0000000e+00 1.78e+01 7.29e+02  -9.0 4.00e-01  -3.8 1.00e+00 4.13e-01h  1\n",
            " 245r 0.0000000e+00 2.17e+01 2.28e+02  -9.0 4.79e-02    -  1.00e+00 6.97e-01f  1\n",
            " 246r 0.0000000e+00 3.53e-01 7.74e+00  -9.0 3.37e-02    -  1.00e+00 9.87e-01h  1\n",
            " 247r 0.0000000e+00 2.49e-05 1.14e-04  -9.0 7.44e-06    -  1.00e+00 1.00e+00h  1\n",
            "\n",
            "Number of Iterations....: 247\n",
            "\n",
            "                                   (scaled)                 (unscaled)\n",
            "Objective...............:   0.0000000000000000e+00    0.0000000000000000e+00\n",
            "Dual infeasibility......:   0.0000000000000000e+00    0.0000000000000000e+00\n",
            "Constraint violation....:   5.2592245504893751e-10    2.4923690943978723e-05\n",
            "Complementarity.........:   0.0000000000000000e+00    0.0000000000000000e+00\n",
            "Overall NLP error.......:   5.2592245504893751e-10    2.4923690943978723e-05\n",
            "\n",
            "\n",
            "Number of objective function evaluations             = 506\n",
            "Number of objective gradient evaluations             = 7\n",
            "Number of equality constraint evaluations            = 507\n",
            "Number of inequality constraint evaluations          = 0\n",
            "Number of equality constraint Jacobian evaluations   = 250\n",
            "Number of inequality constraint Jacobian evaluations = 0\n",
            "Number of Lagrangian Hessian evaluations             = 247\n",
            "Total CPU secs in IPOPT (w/o function evaluations)   =      0.581\n",
            "Total CPU secs in NLP function evaluations           =      0.031\n",
            "\n",
            "EXIT: Optimal Solution Found.\n"
          ]
        }
      ],
      "execution_count": 56
    },
    {
      "cell_type": "code",
      "metadata": {
        "tags": [
          "testing"
        ],
        "ExecuteTime": {
          "end_time": "2025-06-24T19:31:58.324104Z",
          "start_time": "2025-06-24T19:31:58.321662Z"
        }
      },
      "source": [
        "# Check solver solve status\n",
        "from pyomo.environ import TerminationCondition\n",
        "\n",
        "assert results.solver.termination_condition == TerminationCondition.optimal"
      ],
      "outputs": [],
      "execution_count": 57
    },
    {
      "cell_type": "markdown",
      "metadata": {},
      "source": [
        "## 7 Analyze the results\n",
        "\n",
        "\n"
      ]
    },
    {
      "cell_type": "markdown",
      "metadata": {},
      "source": [
        "If the IDAES UI package was installed with the `idaes-pse` installation or installed separately, you can run the flowsheet visualizer to see a full diagram of the full process that is generated and displayed on a browser window.\n"
      ]
    },
    {
      "cell_type": "markdown",
      "metadata": {},
      "source": [
        "Otherwise, we can run the `m.fs.report()` method to see a full summary of the solved flowsheet. It is recommended to adjust the width of the output as much as possible for the cleanest display."
      ]
    },
    {
      "cell_type": "code",
      "metadata": {
        "ExecuteTime": {
          "end_time": "2025-06-24T19:31:58.418255Z",
          "start_time": "2025-06-24T19:31:58.357169Z"
        }
      },
      "source": [
        "m.fs.report()"
      ],
      "outputs": [
        {
          "name": "stdout",
          "output_type": "stream",
          "text": [
            "\n",
            "====================================================================================\n",
            "Flowsheet : fs                                                             Time: 0.0\n",
            "------------------------------------------------------------------------------------\n",
            "    Stream Table\n",
            "                                                Units          s01        s02        s03        s04        s05        s06        s07        s08        s09        s10        s11        s12   \n",
            "    flow_mol_phase_comp ('Liq', 'benzene')   mole / second 1.0000e-05 1.0000e-05 2.0008e-05 1.2994e-07 1.2994e-07 1.0000e-08    0.20460 8.0000e-09 8.0000e-09 1.0000e-08   0.062620 2.0000e-09\n",
            "    flow_mol_phase_comp ('Liq', 'toluene')   mole / second    0.30000 1.0000e-05    0.30001 8.4150e-07 8.4150e-07 1.0000e-08   0.062520 8.0000e-09 8.0000e-09 1.0000e-08   0.032257 2.0000e-09\n",
            "    flow_mol_phase_comp ('Liq', 'methane')   mole / second 1.0000e-05 1.0000e-05 2.0008e-05 1.0000e-12 1.0000e-12 1.0000e-08 2.6712e-07 8.0000e-09 8.0000e-09 1.0000e-08 9.4877e-08 2.0000e-09\n",
            "    flow_mol_phase_comp ('Liq', 'hydrogen')  mole / second 1.0000e-05 1.0000e-05 2.0008e-05 1.0000e-12 1.0000e-12 1.0000e-08 2.6712e-07 8.0000e-09 8.0000e-09 1.0000e-08 9.4877e-08 2.0000e-09\n",
            "    flow_mol_phase_comp ('Vap', 'benzene')   mole / second 1.0000e-05 1.0000e-05    0.11934    0.11936    0.35374    0.14915 1.0000e-08    0.11932    0.11932    0.14198 1.0000e-08   0.029829\n",
            "    flow_mol_phase_comp ('Vap', 'toluene')   mole / second 1.0000e-05 1.0000e-05   0.012508    0.31252   0.078129   0.015610 1.0000e-08   0.012488   0.012488   0.030264 1.0000e-08  0.0031219\n",
            "    flow_mol_phase_comp ('Vap', 'methane')   mole / second 1.0000e-05   0.020000     1.0377     1.0377     1.2721     1.2721 1.0000e-08     1.0177     1.0177 1.8224e-07 1.0000e-08    0.25442\n",
            "    flow_mol_phase_comp ('Vap', 'hydrogen')  mole / second 1.0000e-05    0.30000    0.56258    0.56260    0.32821    0.32821 1.0000e-08    0.26257    0.26257 1.8224e-07 1.0000e-08   0.065642\n",
            "    temperature                                     kelvin     303.20     303.20     314.09     600.00     771.85     325.00     325.00     325.00     325.00     375.00     375.00     325.00\n",
            "    pressure                                        pascal 3.5000e+05 3.5000e+05 3.5000e+05 3.5000e+05 3.5000e+05 3.5000e+05 3.5000e+05 3.5000e+05 3.5000e+05 1.5000e+05 1.5000e+05 3.5000e+05\n",
            "====================================================================================\n"
          ]
        }
      ],
      "execution_count": 59
    },
    {
      "cell_type": "markdown",
      "metadata": {},
      "source": [
        "What is the total operating cost?"
      ]
    },
    {
      "cell_type": "code",
      "metadata": {
        "ExecuteTime": {
          "end_time": "2025-06-24T19:31:58.432469Z",
          "start_time": "2025-06-24T19:31:58.429050Z"
        }
      },
      "source": [
        "print(\"operating cost = $\", value(m.fs.operating_cost))"
      ],
      "outputs": [
        {
          "name": "stdout",
          "output_type": "stream",
          "text": [
            "operating cost = $ 419122.33873277955\n"
          ]
        }
      ],
      "execution_count": 60
    },
    {
      "cell_type": "code",
      "metadata": {
        "tags": [
          "testing"
        ],
        "ExecuteTime": {
          "end_time": "2025-06-24T19:31:58.533714Z",
          "start_time": "2025-06-24T19:31:58.461636Z"
        }
      },
      "source": [
        "import pytest\n",
        "\n",
        "assert value(m.fs.operating_cost) == pytest.approx(419122.3387, abs=1e-3)"
      ],
      "outputs": [],
      "execution_count": 61
    },
    {
      "cell_type": "markdown",
      "metadata": {},
      "source": [
        "For this operating cost, what is the amount of benzene we are able to produce and what purity we are able to achieve?  We can look at a specific unit models stream table with the same `report()` method."
      ]
    },
    {
      "cell_type": "code",
      "metadata": {
        "ExecuteTime": {
          "end_time": "2025-06-24T19:31:58.563246Z",
          "start_time": "2025-06-24T19:31:58.542913Z"
        }
      },
      "source": [
        "m.fs.F102.report()\n",
        "\n",
        "print()\n",
        "print(\"benzene purity = \", value(m.fs.purity))"
      ],
      "outputs": [
        {
          "name": "stdout",
          "output_type": "stream",
          "text": [
            "\n",
            "====================================================================================\n",
            "Unit : fs.F102                                                             Time: 0.0\n",
            "------------------------------------------------------------------------------------\n",
            "    Unit Performance\n",
            "\n",
            "    Variables: \n",
            "\n",
            "    Key             : Value       : Units  : Fixed : Bounds\n",
            "          Heat Duty :      7352.5 :   watt : False : (None, None)\n",
            "    Pressure Change : -2.0000e+05 : pascal :  True : (None, None)\n",
            "\n",
            "------------------------------------------------------------------------------------\n",
            "    Stream Table\n",
            "                                                Units         Inlet    Vapor Outlet  Liquid Outlet\n",
            "    flow_mol_phase_comp ('Liq', 'benzene')   mole / second    0.20460   1.0000e-08      0.062620  \n",
            "    flow_mol_phase_comp ('Liq', 'toluene')   mole / second   0.062520   1.0000e-08      0.032257  \n",
            "    flow_mol_phase_comp ('Liq', 'methane')   mole / second 2.6712e-07   1.0000e-08    9.4877e-08  \n",
            "    flow_mol_phase_comp ('Liq', 'hydrogen')  mole / second 2.6712e-07   1.0000e-08    9.4877e-08  \n",
            "    flow_mol_phase_comp ('Vap', 'benzene')   mole / second 1.0000e-08      0.14198    1.0000e-08  \n",
            "    flow_mol_phase_comp ('Vap', 'toluene')   mole / second 1.0000e-08     0.030264    1.0000e-08  \n",
            "    flow_mol_phase_comp ('Vap', 'methane')   mole / second 1.0000e-08   1.8224e-07    1.0000e-08  \n",
            "    flow_mol_phase_comp ('Vap', 'hydrogen')  mole / second 1.0000e-08   1.8224e-07    1.0000e-08  \n",
            "    temperature                                     kelvin     325.00       375.00        375.00  \n",
            "    pressure                                        pascal 3.5000e+05   1.5000e+05    1.5000e+05  \n",
            "====================================================================================\n",
            "\n",
            "benzene purity =  0.824296294393142\n"
          ]
        }
      ],
      "execution_count": 62
    },
    {
      "cell_type": "code",
      "metadata": {
        "tags": [
          "testing"
        ],
        "ExecuteTime": {
          "end_time": "2025-06-24T19:31:58.576962Z",
          "start_time": "2025-06-24T19:31:58.573769Z"
        }
      },
      "source": [
        "assert value(m.fs.purity) == pytest.approx(0.82429, abs=1e-3)\n",
        "assert value(m.fs.F102.heat_duty[0]) == pytest.approx(7352.4828, abs=1e-3)\n",
        "assert value(m.fs.F102.vap_outlet.pressure[0]) == pytest.approx(1.5000e05, abs=1e-3)"
      ],
      "outputs": [],
      "execution_count": 63
    },
    {
      "cell_type": "markdown",
      "metadata": {},
      "source": [
        "Next, let's look at how much benzene we are losing with the light gases out of F101. IDAES has tools for creating stream tables based on the `Arcs` and/or `Ports` in a flowsheet. Let us create and print a simple stream table showing the stream leaving the reactor and the vapor stream from F101."
      ]
    },
    {
      "cell_type": "code",
      "metadata": {
        "ExecuteTime": {
          "end_time": "2025-06-24T19:31:58.605718Z",
          "start_time": "2025-06-24T19:31:58.589778Z"
        }
      },
      "source": [
        "from idaes.core.util.tables import (\n",
        "    create_stream_table_dataframe,\n",
        "    stream_table_dataframe_to_string,\n",
        ")\n",
        "\n",
        "st = create_stream_table_dataframe({\"Reactor\": m.fs.s05, \"Light Gases\": m.fs.s06})\n",
        "print(stream_table_dataframe_to_string(st))"
      ],
      "outputs": [
        {
          "name": "stdout",
          "output_type": "stream",
          "text": [
            "                                            Units        Reactor   Light Gases\n",
            "flow_mol_phase_comp ('Liq', 'benzene')   mole / second 1.2994e-07  1.0000e-08 \n",
            "flow_mol_phase_comp ('Liq', 'toluene')   mole / second 8.4150e-07  1.0000e-08 \n",
            "flow_mol_phase_comp ('Liq', 'methane')   mole / second 1.0000e-12  1.0000e-08 \n",
            "flow_mol_phase_comp ('Liq', 'hydrogen')  mole / second 1.0000e-12  1.0000e-08 \n",
            "flow_mol_phase_comp ('Vap', 'benzene')   mole / second    0.35374     0.14915 \n",
            "flow_mol_phase_comp ('Vap', 'toluene')   mole / second   0.078129    0.015610 \n",
            "flow_mol_phase_comp ('Vap', 'methane')   mole / second     1.2721      1.2721 \n",
            "flow_mol_phase_comp ('Vap', 'hydrogen')  mole / second    0.32821     0.32821 \n",
            "temperature                                     kelvin     771.85      325.00 \n",
            "pressure                                        pascal 3.5000e+05  3.5000e+05 \n"
          ]
        }
      ],
      "execution_count": 64
    },
    {
      "cell_type": "markdown",
      "metadata": {},
      "source": [
        "## 8 Optimization\n",
        "\n",
        "\n",
        "We saw from the results above that the total operating cost for the base case was $419,122 per year. We are producing 0.142 mol/s of benzene at a purity of 82\\%. However, we are losing around 42\\% of benzene in F101 vapor outlet stream. \n",
        "\n",
        "Let us try to minimize this cost such that:\n",
        "- we are producing at least 0.15 mol/s of benzene in F102 vapor outlet i.e. our product stream\n",
        "- purity of benzene i.e. the mole fraction of benzene in F102 vapor outlet is at least 80%\n",
        "- restricting the benzene loss in F101 vapor outlet to less than 20%\n",
        "\n",
        "For this problem, our decision variables are as follows:\n",
        "- H101 outlet temperature\n",
        "- R101 cooling duty provided\n",
        "- F101 outlet temperature\n",
        "- F102 outlet temperature\n",
        "- F102 deltaP in the flash tank\n"
      ]
    },
    {
      "cell_type": "markdown",
      "metadata": {},
      "source": [
        "Let us declare our objective function for this problem. "
      ]
    },
    {
      "cell_type": "code",
      "metadata": {
        "ExecuteTime": {
          "end_time": "2025-06-24T19:31:58.632091Z",
          "start_time": "2025-06-24T19:31:58.629265Z"
        }
      },
      "source": [
        "m.fs.objective = Objective(expr=m.fs.operating_cost)"
      ],
      "outputs": [],
      "execution_count": 65
    },
    {
      "cell_type": "markdown",
      "metadata": {},
      "source": [
        "Now, we need to unfix the decision variables as we had solved a square problem (degrees of freedom = 0) until now. "
      ]
    },
    {
      "cell_type": "code",
      "metadata": {
        "ExecuteTime": {
          "end_time": "2025-06-24T19:31:58.663762Z",
          "start_time": "2025-06-24T19:31:58.659017Z"
        }
      },
      "source": [
        "m.fs.H101.outlet.temperature.unfix()\n",
        "m.fs.R101.heat_duty.unfix()\n",
        "m.fs.F101.vap_outlet.temperature.unfix()\n",
        "m.fs.F102.vap_outlet.temperature.unfix()"
      ],
      "outputs": [],
      "execution_count": 66
    },
    {
      "cell_type": "code",
      "metadata": {
        "tags": [
          "solution"
        ],
        "ExecuteTime": {
          "end_time": "2025-06-24T19:31:58.721740Z",
          "start_time": "2025-06-24T19:31:58.718213Z"
        }
      },
      "source": [
        "# Todo: Unfix deltaP for F102\n",
        "m.fs.F102.deltaP.unfix()"
      ],
      "outputs": [],
      "execution_count": 68
    },
    {
      "cell_type": "code",
      "metadata": {
        "tags": [
          "testing"
        ],
        "ExecuteTime": {
          "end_time": "2025-06-24T19:31:58.762582Z",
          "start_time": "2025-06-24T19:31:58.737160Z"
        }
      },
      "source": [
        "assert degrees_of_freedom(m) == 5"
      ],
      "outputs": [],
      "execution_count": 69
    },
    {
      "cell_type": "markdown",
      "metadata": {},
      "source": [
        "Next, we need to set bounds on these decision variables to values shown below:\n",
        "\n",
        " - H101 outlet temperature [500, 600] K\n",
        " - R101 outlet temperature [600, 800] K\n",
        " - F101 outlet temperature [298, 450] K\n",
        " - F102 outlet temperature [298, 450] K\n",
        " - F102 outlet pressure [105000, 110000] Pa\n",
        "\n",
        "Let us first set the variable bound for the H101 outlet temperature as shown below:"
      ]
    },
    {
      "cell_type": "code",
      "metadata": {
        "ExecuteTime": {
          "end_time": "2025-06-24T19:31:58.775901Z",
          "start_time": "2025-06-24T19:31:58.772587Z"
        }
      },
      "source": [
        "m.fs.H101.outlet.temperature[0].setlb(500)\n",
        "m.fs.H101.outlet.temperature[0].setub(600)"
      ],
      "outputs": [],
      "execution_count": 70
    },
    {
      "cell_type": "code",
      "metadata": {
        "tags": [
          "solution"
        ],
        "ExecuteTime": {
          "end_time": "2025-06-24T19:31:58.829624Z",
          "start_time": "2025-06-24T19:31:58.825571Z"
        }
      },
      "source": [
        "# Todo: Set the bounds for reactor outlet temperature\n",
        "m.fs.R101.outlet.temperature[0].setlb(600)\n",
        "m.fs.R101.outlet.temperature[0].setub(800)"
      ],
      "outputs": [],
      "execution_count": 72
    },
    {
      "cell_type": "markdown",
      "metadata": {},
      "source": [
        "Let us fix the bounds for the rest of the decision variables. "
      ]
    },
    {
      "cell_type": "code",
      "metadata": {
        "ExecuteTime": {
          "end_time": "2025-06-24T19:31:58.844289Z",
          "start_time": "2025-06-24T19:31:58.839950Z"
        }
      },
      "source": [
        "m.fs.F101.vap_outlet.temperature[0].setlb(298.0)\n",
        "m.fs.F101.vap_outlet.temperature[0].setub(450.0)\n",
        "m.fs.F102.vap_outlet.temperature[0].setlb(298.0)\n",
        "m.fs.F102.vap_outlet.temperature[0].setub(450.0)\n",
        "m.fs.F102.vap_outlet.pressure[0].setlb(105000)\n",
        "m.fs.F102.vap_outlet.pressure[0].setub(110000)"
      ],
      "outputs": [],
      "execution_count": 73
    },
    {
      "cell_type": "markdown",
      "metadata": {},
      "source": [
        "Now, the only things left to define are our constraints on overhead loss in F101, product flow rate and purity in F102. Let us first look at defining a constraint for the overhead loss in F101 where we are restricting the benzene leaving the vapor stream to less than 20 \\% of the benzene available in the reactor outlet. "
      ]
    },
    {
      "cell_type": "code",
      "metadata": {
        "ExecuteTime": {
          "end_time": "2025-06-24T19:31:58.868128Z",
          "start_time": "2025-06-24T19:31:58.863842Z"
        }
      },
      "source": [
        "m.fs.overhead_loss = Constraint(\n",
        "    expr=m.fs.F101.vap_outlet.flow_mol_phase_comp[0, \"Vap\", \"benzene\"]\n",
        "    <= 0.20 * m.fs.R101.outlet.flow_mol_phase_comp[0, \"Vap\", \"benzene\"]\n",
        ")"
      ],
      "outputs": [],
      "execution_count": 74
    },
    {
      "cell_type": "code",
      "metadata": {
        "tags": [
          "solution"
        ],
        "ExecuteTime": {
          "end_time": "2025-06-24T19:31:58.919132Z",
          "start_time": "2025-06-24T19:31:58.916298Z"
        }
      },
      "source": [
        "# Todo: Add minimum product flow constraint\n",
        "m.fs.product_flow = Constraint(\n",
        "    expr=m.fs.F102.vap_outlet.flow_mol_phase_comp[0, \"Vap\", \"benzene\"] >= 0.15\n",
        ")"
      ],
      "outputs": [],
      "execution_count": 76
    },
    {
      "cell_type": "markdown",
      "metadata": {},
      "source": [
        "Let us add the final constraint on product purity or the mole fraction of benzene in the product stream such that it is at least greater than 80%. "
      ]
    },
    {
      "cell_type": "code",
      "metadata": {
        "ExecuteTime": {
          "end_time": "2025-06-24T19:31:59.013818Z",
          "start_time": "2025-06-24T19:31:58.944881Z"
        }
      },
      "source": [
        "m.fs.product_purity = Constraint(expr=m.fs.purity >= 0.80)"
      ],
      "outputs": [],
      "execution_count": 77
    },
    {
      "cell_type": "markdown",
      "metadata": {},
      "source": [
        "\n",
        "We have now defined the optimization problem and we are now ready to solve this problem. \n",
        "\n",
        "\n"
      ]
    },
    {
      "cell_type": "code",
      "metadata": {
        "ExecuteTime": {
          "end_time": "2025-06-24T19:31:59.200536Z",
          "start_time": "2025-06-24T19:31:59.023996Z"
        }
      },
      "source": [
        "results = solver.solve(m, tee=True)"
      ],
      "outputs": [
        {
          "name": "stdout",
          "output_type": "stream",
          "text": [
            "WARNING: model contains export suffix 'scaling_factor' that contains 25\n",
            "component keys that are not exported as part of the NL file.  Skipping.\n",
            "Ipopt 3.13.2: nlp_scaling_method=user-scaling\n",
            "tol=1e-08\n",
            "max_iter=1000\n",
            "option_file_name=C:\\Users\\Tanner\\AppData\\Local\\Temp\\tmpxvrqimad_ipopt.opt\n",
            "\n",
            "Using option file \"C:\\Users\\Tanner\\AppData\\Local\\Temp\\tmpxvrqimad_ipopt.opt\".\n",
            "\n",
            "\n",
            "******************************************************************************\n",
            "This program contains Ipopt, a library for large-scale nonlinear optimization.\n",
            " Ipopt is released as open source code under the Eclipse Public License (EPL).\n",
            "         For more information visit http://projects.coin-or.org/Ipopt\n",
            "\n",
            "This version of Ipopt was compiled from source code available at\n",
            "    https://github.com/IDAES/Ipopt as part of the Institute for the Design of\n",
            "    Advanced Energy Systems Process Systems Engineering Framework (IDAES PSE\n",
            "    Framework) Copyright (c) 2018-2019. See https://github.com/IDAES/idaes-pse.\n",
            "\n",
            "This version of Ipopt was compiled using HSL, a collection of Fortran codes\n",
            "    for large-scale scientific computation.  All technical papers, sales and\n",
            "    publicity material resulting from use of the HSL codes within IPOPT must\n",
            "    contain the following acknowledgement:\n",
            "        HSL, a collection of Fortran codes for large-scale scientific\n",
            "        computation. See http://www.hsl.rl.ac.uk.\n",
            "******************************************************************************\n",
            "\n",
            "This is Ipopt version 3.13.2, running with linear solver ma27.\n",
            "\n",
            "Number of nonzeros in equality constraint Jacobian...:     1191\n",
            "Number of nonzeros in inequality constraint Jacobian.:        5\n",
            "Number of nonzeros in Lagrangian Hessian.............:     1065\n",
            "\n",
            "Total number of variables............................:      395\n",
            "                     variables with only lower bounds:        0\n",
            "                variables with lower and upper bounds:      199\n",
            "                     variables with only upper bounds:        0\n",
            "Total number of equality constraints.................:      390\n",
            "Total number of inequality constraints...............:        3\n",
            "        inequality constraints with only lower bounds:        2\n",
            "   inequality constraints with lower and upper bounds:        0\n",
            "        inequality constraints with only upper bounds:        1\n",
            "\n",
            "iter    objective    inf_pr   inf_du lg(mu)  ||d||  lg(rg) alpha_du alpha_pr  ls\n",
            "   0  4.1912234e+05 2.99e+05 6.94e+00  -1.0 0.00e+00    -  0.00e+00 0.00e+00   0\n",
            "   1  4.1133558e+05 2.94e+05 6.94e+00  -1.0 6.60e+07    -  2.90e-06 1.05e-05f  1\n",
            "   2  3.2484037e+05 1.80e+06 6.94e+00  -1.0 2.33e+09    -  2.95e-07 4.87e-06f  1\n",
            "   3  3.0318192e+05 1.92e+06 6.94e+00  -1.0 6.90e+08    -  1.70e-05 4.13e-06f  1\n",
            "   4  3.0263181e+05 1.92e+06 2.20e+01  -1.0 1.43e+07    -  8.92e-05 1.73e-05f  1\n",
            "   5  3.0137102e+05 1.92e+06 4.38e+01  -1.0 8.74e+06    -  6.63e-05 1.11e-04f  1\n",
            "   6  3.0058759e+05 1.92e+06 1.37e+03  -1.0 2.21e+07    -  8.59e-06 2.17e-04f  1\n",
            "   7  3.0058113e+05 1.92e+06 7.51e+04  -1.0 3.24e+05    -  2.49e-01 1.77e-04f  1\n",
            "   8  3.0317331e+05 1.38e+06 2.08e+05  -1.0 4.00e+04    -  9.62e-01 2.82e-01h  1\n",
            "   9  3.0372038e+05 1.26e+06 1.91e+05  -1.0 2.87e+04    -  1.50e-01 8.31e-02h  1\n",
            "iter    objective    inf_pr   inf_du lg(mu)  ||d||  lg(rg) alpha_du alpha_pr  ls\n",
            "  10  3.0372988e+05 1.26e+06 9.32e+05  -1.0 2.63e+04    -  1.00e+00 1.51e-03h  1\n",
            "  11  3.0386427e+05 1.24e+06 1.90e+07  -1.0 2.63e+04    -  1.00e+00 2.03e-02h  2\n",
            "  12  3.0393928e+05 1.22e+06 7.46e+08  -1.0 2.58e+04    -  1.00e+00 1.15e-02h  2\n",
            "  13  3.0397909e+05 1.21e+06 4.87e+10  -1.0 2.55e+04    -  1.00e+00 6.13e-03h  2\n",
            "  14  3.0399961e+05 1.21e+06 5.05e+12  -1.0 2.53e+04    -  1.00e+00 3.17e-03h  2\n",
            "  15  3.0401009e+05 1.21e+06 7.59e+14  -1.0 2.52e+04    -  1.00e+00 1.62e-03h  2\n",
            "  16  3.0401541e+05 1.21e+06 4.04e+16  -1.0 2.52e+04    -  1.00e+00 8.25e-04h  2\n",
            "  17  3.0413501e+05 1.11e+06 3.40e+17  -1.0 2.52e+04    -  1.00e+00 8.05e-02h  2\n",
            "  18  3.0413796e+05 1.11e+06 1.91e+19  -1.0 2.31e+04    -  2.08e-01 2.47e-04h  1\n",
            "  19  3.0413716e+05 1.11e+06 3.11e+19  -1.0 2.31e+04    -  1.94e-01 6.23e-04h  1\n",
            "iter    objective    inf_pr   inf_du lg(mu)  ||d||  lg(rg) alpha_du alpha_pr  ls\n",
            "  20  3.0412039e+05 1.11e+06 3.28e+20  -1.0 2.31e+04    -  6.31e-02 9.34e-04f  1\n",
            "WARNING: Problem in step computation; switching to emergency mode.\n",
            "  21r 3.0412039e+05 1.11e+06 1.00e+03  -0.5 0.00e+00  20.0 0.00e+00 0.00e+00R  1\n",
            "  22r 3.0411991e+05 1.10e+06 9.79e+03  -0.5 8.29e+03    -  4.94e-04 1.78e-03f  1\n",
            "  23  3.0411969e+05 1.10e+06 2.08e+08  -1.0 2.63e+04    -  4.13e-01 2.94e-06f  2\n",
            "  24  3.0412005e+05 1.10e+06 3.70e+12  -1.0 2.31e+04    -  9.90e-01 5.51e-05h  1\n",
            "  25r 3.0412005e+05 1.10e+06 1.00e+03  -0.8 0.00e+00    -  0.00e+00 2.98e-07R  4\n",
            "  26r 3.0412670e+05 1.07e+06 1.86e+04  -0.8 4.27e+03    -  3.64e-03 3.00e-03f  1\n",
            "  27r 3.0413244e+05 1.02e+06 3.29e+04  -0.8 3.84e+03    -  5.44e-03 4.09e-03f  1\n",
            "  28r 3.0414225e+05 9.31e+05 4.35e+04  -0.8 3.83e+03    -  1.10e-02 1.01e-02f  1\n",
            "  29r 3.0415161e+05 7.83e+05 4.28e+04  -0.8 3.79e+03    -  3.09e-02 1.95e-02f  1\n",
            "iter    objective    inf_pr   inf_du lg(mu)  ||d||  lg(rg) alpha_du alpha_pr  ls\n",
            "  30r 3.0415279e+05 4.89e+05 4.69e+04  -0.8 3.71e+03    -  6.61e-02 5.71e-02f  1\n",
            "  31r 3.0413354e+05 2.21e+05 3.33e+04  -0.8 3.50e+03    -  2.36e-01 1.25e-01f  1\n",
            "  32r 3.0412669e+05 1.70e+05 5.24e+04  -0.8 3.06e+03    -  3.06e-01 1.13e-01f  1\n",
            "  33r 3.0410330e+05 3.57e+04 4.67e+04  -0.8 2.72e+03    -  1.13e-01 7.83e-01f  1\n",
            "  34  3.0392384e+05 3.57e+04 9.72e+01  -1.0 4.10e+06    -  3.52e-04 3.56e-06f  1\n",
            "  35  3.0389448e+05 3.57e+04 2.86e+03  -1.0 4.92e+05    -  1.02e-02 2.63e-04f  1\n",
            "  36  3.0397678e+05 3.53e+04 2.73e+05  -1.0 2.87e+04    -  9.90e-01 1.03e-02h  1\n",
            "  37  3.0835668e+05 7.78e+05 1.52e+05  -1.0 1.94e+04    -  1.00e+00 4.98e-01h  1\n",
            "  38  3.1273940e+05 2.54e+05 4.38e+08  -1.0 9.74e+03    -  1.00e+00 9.90e-01h  1\n",
            "  39  3.1276293e+05 1.32e+05 1.16e+08  -1.0 9.61e+02    -  1.00e+00 4.97e-01h  2\n",
            "iter    objective    inf_pr   inf_du lg(mu)  ||d||  lg(rg) alpha_du alpha_pr  ls\n",
            "  40  3.1278677e+05 1.26e+02 1.07e+08  -1.0 4.99e+02    -  1.00e+00 9.99e-01H  1\n",
            "  41  3.1278674e+05 2.93e+01 1.13e+05  -1.0 3.90e+01    -  1.00e+00 1.00e+00h  1\n",
            "  42  3.1278674e+05 1.61e-05 6.30e-01  -1.0 3.33e-02    -  1.00e+00 1.00e+00h  1\n",
            "  43  3.1278634e+05 3.48e-05 1.58e+05  -5.7 1.36e+00    -  1.00e+00 1.00e+00f  1\n",
            "  44  3.1278634e+05 1.49e-08 6.71e-02  -5.7 3.26e-05    -  1.00e+00 1.00e+00f  1\n",
            "  45  3.1278634e+05 2.98e-08 4.40e-05  -5.7 1.43e-07    -  1.00e+00 1.00e+00h  1\n",
            "  46  3.1278634e+05 1.49e-08 6.20e-05  -8.6 2.50e-05    -  1.00e+00 1.00e+00h  1\n",
            "  47  3.1278634e+05 1.49e-08 4.40e-05  -9.0 2.17e-08    -  1.00e+00 1.00e+00h  1\n",
            "  48  3.1278634e+05 1.49e-08 4.40e-05  -9.0 4.23e-11    -  1.00e+00 1.00e+00h  1\n",
            "  49  3.1278634e+05 1.49e-08 4.40e-05  -9.0 9.56e-11    -  1.00e+00 1.00e+00h  1\n",
            "Scaling factors are invalid - setting them all to 1.\n",
            "MA27BD returned iflag=-4 and requires more memory.\n",
            " Increase liw from 21555 to 43110 and la from 24590 to 51336 and factorize again.\n",
            "iter    objective    inf_pr   inf_du lg(mu)  ||d||  lg(rg) alpha_du alpha_pr  ls\n",
            "  50  3.1278634e+05 1.49e-08 4.40e-05  -9.0 8.99e-11    -  1.00e+00 1.00e+00h  1\n",
            "  51  3.1278634e+05 1.49e-08 4.40e-05  -9.0 3.71e-11    -  1.00e+00 1.00e+00h  1\n",
            "  52  3.1278634e+05 9.67e-08 4.40e-05  -9.0 5.47e-11    -  1.00e+00 2.50e-01h  3\n",
            "  53  3.1278634e+05 2.98e-08 4.40e-05  -9.0 4.20e-11    -  1.00e+00 1.00e+00s 22\n",
            "\n",
            "Number of Iterations....: 53\n",
            "\n",
            "                                   (scaled)                 (unscaled)\n",
            "Objective...............:   3.1278633834066684e+05    3.1278633834066684e+05\n",
            "Dual infeasibility......:   4.3988857412862944e-05    3.8344676702058576e-05\n",
            "Constraint violation....:   2.0579515874459978e-11    2.9802322387695312e-08\n",
            "Complementarity.........:   9.2191617461622116e-10    9.2191617461622116e-10\n",
            "Overall NLP error.......:   1.6340396115112548e-08    3.8344676702058576e-05\n",
            "\n",
            "\n",
            "Number of objective function evaluations             = 105\n",
            "Number of objective gradient evaluations             = 47\n",
            "Number of equality constraint evaluations            = 105\n",
            "Number of inequality constraint evaluations          = 105\n",
            "Number of equality constraint Jacobian evaluations   = 56\n",
            "Number of inequality constraint Jacobian evaluations = 56\n",
            "Number of Lagrangian Hessian evaluations             = 54\n",
            "Total CPU secs in IPOPT (w/o function evaluations)   =      0.093\n",
            "Total CPU secs in NLP function evaluations           =      0.004\n",
            "\n",
            "EXIT: Solved To Acceptable Level.\n"
          ]
        }
      ],
      "execution_count": 78
    },
    {
      "cell_type": "code",
      "metadata": {
        "tags": [
          "testing"
        ],
        "ExecuteTime": {
          "end_time": "2025-06-24T19:31:59.213739Z",
          "start_time": "2025-06-24T19:31:59.210358Z"
        }
      },
      "source": [
        "# Check for solver solve status\n",
        "from pyomo.environ import TerminationCondition\n",
        "\n",
        "assert results.solver.termination_condition == TerminationCondition.optimal"
      ],
      "outputs": [],
      "execution_count": 79
    },
    {
      "cell_type": "markdown",
      "metadata": {},
      "source": [
        "### 8.1 Optimization Results\n",
        "\n",
        "Display the results and product specifications"
      ]
    },
    {
      "cell_type": "code",
      "metadata": {
        "ExecuteTime": {
          "end_time": "2025-06-24T19:31:59.272458Z",
          "start_time": "2025-06-24T19:31:59.235423Z"
        }
      },
      "source": [
        "print(\"operating cost = $\", value(m.fs.operating_cost))\n",
        "\n",
        "print()\n",
        "print(\"Product flow rate and purity in F102\")\n",
        "\n",
        "m.fs.F102.report()\n",
        "\n",
        "print()\n",
        "print(\"benzene purity = \", value(m.fs.purity))\n",
        "\n",
        "print()\n",
        "print(\"Overhead loss in F101\")\n",
        "m.fs.F101.report()"
      ],
      "outputs": [
        {
          "name": "stdout",
          "output_type": "stream",
          "text": [
            "operating cost = $ 312786.3383406669\n",
            "\n",
            "Product flow rate and purity in F102\n",
            "\n",
            "====================================================================================\n",
            "Unit : fs.F102                                                             Time: 0.0\n",
            "------------------------------------------------------------------------------------\n",
            "    Unit Performance\n",
            "\n",
            "    Variables: \n",
            "\n",
            "    Key             : Value       : Units  : Fixed : Bounds\n",
            "          Heat Duty :      8377.0 :   watt : False : (None, None)\n",
            "    Pressure Change : -2.4500e+05 : pascal : False : (None, None)\n",
            "\n",
            "------------------------------------------------------------------------------------\n",
            "    Stream Table\n",
            "                                                Units         Inlet    Vapor Outlet  Liquid Outlet\n",
            "    flow_mol_phase_comp ('Liq', 'benzene')   mole / second    0.21743   1.0000e-08      0.067425  \n",
            "    flow_mol_phase_comp ('Liq', 'toluene')   mole / second   0.070695   1.0000e-08      0.037507  \n",
            "    flow_mol_phase_comp ('Liq', 'methane')   mole / second 2.8812e-07   1.0000e-08    1.0493e-07  \n",
            "    flow_mol_phase_comp ('Liq', 'hydrogen')  mole / second 2.8812e-07   1.0000e-08    1.0493e-07  \n",
            "    flow_mol_phase_comp ('Vap', 'benzene')   mole / second 1.0000e-08      0.15000    1.0000e-08  \n",
            "    flow_mol_phase_comp ('Vap', 'toluene')   mole / second 1.0000e-08     0.033189    1.0000e-08  \n",
            "    flow_mol_phase_comp ('Vap', 'methane')   mole / second 1.0000e-08   1.9319e-07    1.0000e-08  \n",
            "    flow_mol_phase_comp ('Vap', 'hydrogen')  mole / second 1.0000e-08   1.9319e-07    1.0000e-08  \n",
            "    temperature                                     kelvin     301.88       362.93        362.93  \n",
            "    pressure                                        pascal 3.5000e+05   1.0500e+05    1.0500e+05  \n",
            "====================================================================================\n",
            "\n",
            "benzene purity =  0.8188276578115892\n",
            "\n",
            "Overhead loss in F101\n",
            "\n",
            "====================================================================================\n",
            "Unit : fs.F101                                                             Time: 0.0\n",
            "------------------------------------------------------------------------------------\n",
            "    Unit Performance\n",
            "\n",
            "    Variables: \n",
            "\n",
            "    Key             : Value   : Units  : Fixed : Bounds\n",
            "          Heat Duty : -56353. :   watt : False : (None, None)\n",
            "    Pressure Change :  0.0000 : pascal :  True : (None, None)\n",
            "\n",
            "------------------------------------------------------------------------------------\n",
            "    Stream Table\n",
            "                                                Units         Inlet    Vapor Outlet  Liquid Outlet\n",
            "    flow_mol_phase_comp ('Liq', 'benzene')   mole / second 4.3534e-08   1.0000e-08       0.21743  \n",
            "    flow_mol_phase_comp ('Liq', 'toluene')   mole / second 7.5866e-07   1.0000e-08      0.070695  \n",
            "    flow_mol_phase_comp ('Liq', 'methane')   mole / second 1.0000e-12   1.0000e-08    2.8812e-07  \n",
            "    flow_mol_phase_comp ('Liq', 'hydrogen')  mole / second 1.0000e-12   1.0000e-08    2.8812e-07  \n",
            "    flow_mol_phase_comp ('Vap', 'benzene')   mole / second    0.27178     0.054356    1.0000e-08  \n",
            "    flow_mol_phase_comp ('Vap', 'toluene')   mole / second   0.076085    0.0053908    1.0000e-08  \n",
            "    flow_mol_phase_comp ('Vap', 'methane')   mole / second     1.2414       1.2414    1.0000e-08  \n",
            "    flow_mol_phase_comp ('Vap', 'hydrogen')  mole / second    0.35887      0.35887    1.0000e-08  \n",
            "    temperature                                     kelvin     696.11       301.88        301.88  \n",
            "    pressure                                        pascal 3.5000e+05   3.5000e+05    3.5000e+05  \n",
            "====================================================================================\n"
          ]
        }
      ],
      "execution_count": 80
    },
    {
      "cell_type": "code",
      "metadata": {
        "tags": [
          "testing"
        ],
        "ExecuteTime": {
          "end_time": "2025-06-24T19:31:59.287634Z",
          "start_time": "2025-06-24T19:31:59.283037Z"
        }
      },
      "source": [
        "assert value(m.fs.operating_cost) == pytest.approx(312786.338, abs=1e-3)\n",
        "assert value(m.fs.purity) == pytest.approx(0.818827, abs=1e-3)"
      ],
      "outputs": [],
      "execution_count": 81
    },
    {
      "cell_type": "markdown",
      "metadata": {},
      "source": [
        "Display optimal values for the decision variables"
      ]
    },
    {
      "cell_type": "code",
      "metadata": {
        "ExecuteTime": {
          "end_time": "2025-06-24T19:31:59.312310Z",
          "start_time": "2025-06-24T19:31:59.308432Z"
        }
      },
      "source": [
        "print(\n",
        "    f\"\"\"Optimal Values:\n",
        "\n",
        "H101 outlet temperature = {value(m.fs.H101.outlet.temperature[0]):.3f} K\n",
        "\n",
        "R101 outlet temperature = {value(m.fs.R101.outlet.temperature[0]):.3f} K\n",
        "\n",
        "F101 outlet temperature = {value(m.fs.F101.vap_outlet.temperature[0]):.3f} K\n",
        "\n",
        "F102 outlet temperature = {value(m.fs.F102.vap_outlet.temperature[0]):.3f} K\n",
        "F102 outlet pressure = {value(m.fs.F102.vap_outlet.pressure[0]):.3f} Pa\n",
        "\"\"\"\n",
        ")"
      ],
      "outputs": [
        {
          "name": "stdout",
          "output_type": "stream",
          "text": [
            "Optimal Values:\n",
            "\n",
            "H101 outlet temperature = 500.000 K\n",
            "\n",
            "R101 outlet temperature = 696.112 K\n",
            "\n",
            "F101 outlet temperature = 301.878 K\n",
            "\n",
            "F102 outlet temperature = 362.935 K\n",
            "F102 outlet pressure = 105000.000 Pa\n",
            "\n"
          ]
        }
      ],
      "execution_count": 82
    },
    {
      "cell_type": "code",
      "metadata": {
        "tags": [
          "testing"
        ],
        "ExecuteTime": {
          "end_time": "2025-06-24T19:31:59.345387Z",
          "start_time": "2025-06-24T19:31:59.340713Z"
        }
      },
      "source": [
        "assert value(m.fs.H101.outlet.temperature[0]) == pytest.approx(500, abs=1e-3)\n",
        "assert value(m.fs.R101.outlet.temperature[0]) == pytest.approx(696.112, abs=1e-3)\n",
        "assert value(m.fs.F101.vap_outlet.temperature[0]) == pytest.approx(301.878, abs=1e-3)\n",
        "assert value(m.fs.F102.vap_outlet.temperature[0]) == pytest.approx(362.935, abs=1e-3)\n",
        "assert value(m.fs.F102.vap_outlet.pressure[0]) == pytest.approx(105000, abs=1e-2)"
      ],
      "outputs": [],
      "execution_count": 83
    }
  ],
  "metadata": {
    "celltoolbar": "Tags",
    "kernelspec": {
      "display_name": "Python 3 (ipykernel)",
      "language": "python",
      "name": "python3"
    },
    "language_info": {
      "codemirror_mode": {
        "name": "ipython",
        "version": 3
      },
      "file_extension": ".py",
      "mimetype": "text/x-python",
      "name": "python",
      "nbconvert_exporter": "python",
      "pygments_lexer": "ipython3",
      "version": "3.12.3"
    }
  },
  "nbformat": 4,
  "nbformat_minor": 3
}