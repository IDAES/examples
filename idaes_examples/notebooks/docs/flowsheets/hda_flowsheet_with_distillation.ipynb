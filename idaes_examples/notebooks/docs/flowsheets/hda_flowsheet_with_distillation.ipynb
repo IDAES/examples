{
 "cells": [
  {
   "cell_type": "code",
   "execution_count": 1,
   "metadata": {
    "tags": [
     "header",
     "hide-cell"
    ]
   },
   "outputs": [],
   "source": [
    "###############################################################################\n",
    "# The Institute for the Design of Advanced Energy Systems Integrated Platform\n",
    "# Framework (IDAES IP) was produced under the DOE Institute for the\n",
    "# Design of Advanced Energy Systems (IDAES).\n",
    "#\n",
    "# Copyright (c) 2018-2023 by the software owners: The Regents of the\n",
    "# University of California, through Lawrence Berkeley National Laboratory,\n",
    "# National Technology & Engineering Solutions of Sandia, LLC, Carnegie Mellon\n",
    "# University, West Virginia University Research Corporation, et al.\n",
    "# All rights reserved.  Please see the files COPYRIGHT.md and LICENSE.md\n",
    "# for full copyright and license information.\n",
    "###############################################################################"
   ]
  },
  {
   "cell_type": "markdown",
   "metadata": {},
   "source": [
    "\n",
    "# HDA Flowsheet Simulation and Optimization\n",
    "Maintainer: Brandon Paul  \n",
    "Author: Brandon Paul  \n",
    "Updated: 2023-06-01  \n",
    "\n",
    "\n",
    "## Note\n",
    "\n",
    "This tutorial will be similar to the HDA flowsheet tutorial in the Tutorials section, except that we use a distillation column instead of a second flash (F102) to produce benzene and toluene products.\n",
    "\n",
    "\n",
    "## Learning outcomes\n",
    "\n",
    "\n",
    "- Construct a steady-state flowsheet using the IDAES unit model library\n",
    "- Connecting unit models in a  flowsheet using Arcs\n",
    "- Using the SequentialDecomposition tool to initialize a flowsheet with recycle\n",
    "- Fomulate and solve an optimization problem\n",
    "    - Defining an objective function\n",
    "    - Setting variable bounds\n",
    "    - Adding additional constraints \n",
    "\n",
    "\n",
    "## Problem Statement\n",
    "\n",
    "Hydrodealkylation is a chemical reaction that often involves reacting\n",
    "an aromatic hydrocarbon in the presence of hydrogen gas to form a\n",
    "simpler aromatic hydrocarbon devoid of functional groups. In this\n",
    "example, toluene will be reacted with hydrogen gas at high temperatures\n",
    " to form benzene via the following reaction:\n",
    "\n",
    "**C<sub>6</sub>H<sub>5</sub>CH<sub>3</sub> + H<sub>2</sub> → C<sub>6</sub>H<sub>6</sub> + CH<sub>4</sub>**\n",
    "\n",
    "\n",
    "This reaction is often accompanied by an equilibrium side reaction\n",
    "which forms diphenyl, which we will neglect for this example.\n",
    "\n",
    "This example is based on the 1967 AIChE Student Contest problem as\n",
    "present by Douglas, J.M., Chemical  Design of Chemical Processes, 1988,\n",
    "McGraw-Hill.\n",
    "\n",
    "The flowsheet that we will be using for this module is shown below with the stream conditions. We will be processing toluene and hydrogen to produce at least 370 TPY of benzene. As shown in the flowsheet, we use a flash tank, F101, to separate out the non-condensibles, and a distillation column, D101, to further separate the benzene-toluene mixture to improve the benzene purity.  The non-condensibles separated out in F101 will be partially recycled back to M101 and the rest will be purged. We will assume ideal gas behavior for this flowsheet. The properties required for this module are defined in\n",
    "\n",
    "- `hda_ideal_VLE.py`\n",
    "- `idaes.models.properties.activity_coeff_models.BTX_activity_coeff_VLE`\n",
    "- `hda_reaction.py`\n",
    "\n",
    "We will be using two thermodynamic packages: one (first in the list above) containing all four components (i.e., toluene, hydrogen, benzene, and methane) and the other (second in the list above) containing benzene and toluene only. The latter is needed to simplify the VLE calculations in the distillation column model. \n",
    "\n",
    "![](HDA_flowsheet_distillation.png)\n",
    "\n"
   ]
  },
  {
   "cell_type": "markdown",
   "metadata": {},
   "source": [
    "## Translator block\n",
    "\n",
    "Benzene and toluene are separated by distillation, so the process involves phase equilibrium and two-phase flow conditions. However, the presence of hydrogen and methane complicates the calculations. This is because, hydrogen and methane are non-condensable under all conditions of interest; ergo, a vapor phase will always be present, and the mixture bubble point is extremely low. To simplify the phase equilibrium calculations, hydrogen and methane will be considered completely as non-condensable and insoluble in the liquid outlet from the flash F101.\n",
    "\n",
    "Since no hydrogen and methane will be present in the unit operations following the flash, a different component list can be used to simplify the property calculations. IDAES supports the definition of multiple property packages within a single flowsheet via `Translator` blocks. `Translator` blocks convert between different property calculations, component lists, and equations of state. "
   ]
  },
  {
   "cell_type": "markdown",
   "metadata": {},
   "source": [
    "## Importing required pyomo and idaes components\n",
    "\n",
    "\n",
    "To construct a flowsheet, we will need several components from the pyomo and idaes package. Let us first import the following components from Pyomo:\n",
    "- Constraint (to write constraints)\n",
    "- Var (to declare variables)\n",
    "- ConcreteModel (to create the concrete model object)\n",
    "- Expression (to evaluate values as a function of variables defined in the model)\n",
    "- Objective (to define an objective function for optimization)\n",
    "- SolverFactory (to solve the problem)\n",
    "- TransformationFactory (to apply certain transformations)\n",
    "- Arc (to connect two unit models)\n",
    "- SequentialDecomposition (to initialize the flowsheet in a sequential mode)\n",
    "\n",
    "For further details on these components, please refer to the pyomo documentation: https://pyomo.readthedocs.io/en/stable/\n"
   ]
  },
  {
   "cell_type": "code",
   "execution_count": 2,
   "metadata": {},
   "outputs": [],
   "source": [
    "from pyomo.environ import (\n",
    "    Constraint,\n",
    "    Var,\n",
    "    ConcreteModel,\n",
    "    Expression,\n",
    "    Objective,\n",
    "    TransformationFactory,\n",
    "    value,\n",
    ")"
   ]
  },
  {
   "cell_type": "markdown",
   "metadata": {},
   "source": [
    "<div class=\"alert alert-block alert-info\">\n",
    "<b>Inline Exercise:</b>\n",
    "Import `Arc` and `SequentialDecomposition` tools from `pyomo.network`\n",
    "</div>"
   ]
  },
  {
   "cell_type": "code",
   "execution_count": 3,
   "metadata": {
    "tags": [
     "exercise"
    ]
   },
   "outputs": [],
   "source": [
    "# Todo: Import the above mentioned tools from pyomo.network"
   ]
  },
  {
   "cell_type": "code",
   "execution_count": 4,
   "metadata": {
    "tags": [
     "solution"
    ]
   },
   "outputs": [],
   "source": [
    "# Todo: Import the above mentioned tools from pyomo.network\n",
    "from pyomo.network import Arc, SequentialDecomposition"
   ]
  },
  {
   "cell_type": "markdown",
   "metadata": {},
   "source": [
    "From IDAES, we will be needing the FlowsheetBlock and the following unit models:\n",
    "- Mixer\n",
    "- Heater\n",
    "- CSTR\n",
    "- Flash\n",
    "- Separator (splitter) \n",
    "- PressureChanger\n",
    "- Translator (to switch from one property package to another)\n",
    "- TrayColumn (distillation column)\n",
    "- CondenserType (Type of the overhead condenser: complete or partial)\n",
    "- TemperatureSpec (Temperature specification inside the condenser)"
   ]
  },
  {
   "cell_type": "code",
   "execution_count": 5,
   "metadata": {},
   "outputs": [],
   "source": [
    "from idaes.core import FlowsheetBlock"
   ]
  },
  {
   "cell_type": "code",
   "execution_count": 6,
   "metadata": {},
   "outputs": [],
   "source": [
    "from idaes.models.unit_models import (\n",
    "    PressureChanger,\n",
    "    Mixer,\n",
    "    Separator as Splitter,\n",
    "    Heater,\n",
    "    CSTR,\n",
    "    Flash,\n",
    "    Translator,\n",
    ")\n",
    "\n",
    "from idaes.models_extra.column_models import TrayColumn\n",
    "from idaes.models_extra.column_models.condenser import CondenserType, TemperatureSpec"
   ]
  },
  {
   "cell_type": "markdown",
   "metadata": {},
   "source": [
    "We will also be needing some utility tools to put together the flowsheet and calculate the degrees of freedom. "
   ]
  },
  {
   "cell_type": "code",
   "execution_count": 7,
   "metadata": {},
   "outputs": [],
   "source": [
    "# Utility tools to put together the flowsheet and calculate the degrees of freedom\n",
    "from idaes.models.unit_models.pressure_changer import ThermodynamicAssumption\n",
    "from idaes.core.util.model_statistics import degrees_of_freedom\n",
    "from idaes.core.util.initialization import propagate_state\n",
    "from idaes.core.solvers import get_solver\n",
    "import idaes.core.util.scaling as iscale\n",
    "\n",
    "# Import idaes logger to set output levels\n",
    "import idaes.logger as idaeslog"
   ]
  },
  {
   "cell_type": "markdown",
   "metadata": {},
   "source": [
    "## Importing required thermo and reaction packages\n",
    "\n",
    "Finally, we import the thermophysical (`ideal_VLE.py` and `BTXParameterBlock`) packages and reaction package (`reaction.py`) for the HDA process. We have created custom thermophysical packages that assume ideal gas behavior with support for VLE. The reaction package consists of the stochiometric coefficients for the reaction, heat of reaction, and kinetic information (Arrhenius constant and activation energy). "
   ]
  },
  {
   "cell_type": "code",
   "execution_count": 8,
   "metadata": {},
   "outputs": [],
   "source": [
    "from idaes_examples.mod.hda import hda_reaction as reaction_props\n",
    "from idaes.models.properties.activity_coeff_models.BTX_activity_coeff_VLE import (\n",
    "    BTXParameterBlock,\n",
    ")\n",
    "\n",
    "from idaes_examples.mod.hda.hda_ideal_VLE import HDAParameterBlock"
   ]
  },
  {
   "cell_type": "markdown",
   "metadata": {},
   "source": [
    "## Constructing the Flowsheet\n",
    "\n",
    "We have now imported all the components, unit models, and property modules we need to construct a flowsheet. Let us create a ConcreteModel and add the flowsheet block to it. "
   ]
  },
  {
   "cell_type": "code",
   "execution_count": 9,
   "metadata": {},
   "outputs": [],
   "source": [
    "# Create a Pyomo Concrete Model to contain the problem\n",
    "m = ConcreteModel()\n",
    "\n",
    "# Add a steady state flowsheet block to the model\n",
    "m.fs = FlowsheetBlock(dynamic=False)"
   ]
  },
  {
   "cell_type": "markdown",
   "metadata": {},
   "source": [
    "We will now add the thermophysical and reaction packages to the flowsheet."
   ]
  },
  {
   "cell_type": "code",
   "execution_count": 10,
   "metadata": {},
   "outputs": [
    {
     "name": "stdout",
     "output_type": "stream",
     "text": [
      "WARNING: Params with units must be mutable.  Converting Param\n",
      "'fs.BTHM_params.pressure_crit' to mutable.\n",
      "WARNING: Params with units must be mutable.  Converting Param\n",
      "'fs.BTHM_params.temperature_crit' to mutable.\n"
     ]
    },
    {
     "name": "stdout",
     "output_type": "stream",
     "text": [
      "WARNING: Params with units must be mutable.  Converting Param\n",
      "'fs.BTHM_params.mw_comp' to mutable.\n",
      "WARNING: Params with units must be mutable.  Converting Param\n",
      "'fs.BTHM_params.dens_liq_param_1' to mutable.\n",
      "WARNING: Params with units must be mutable.  Converting Param\n",
      "'fs.BTHM_params.dens_liq_param_2' to mutable.\n",
      "WARNING: Params with units must be mutable.  Converting Param\n",
      "'fs.BTHM_params.dens_liq_param_3' to mutable.\n",
      "WARNING: Params with units must be mutable.  Converting Param\n",
      "'fs.BTHM_params.dens_liq_param_4' to mutable.\n",
      "WARNING: Params with units must be mutable.  Converting Param\n",
      "'fs.BTHM_params.temperature_boil' to mutable.\n",
      "WARNING: Params with units must be mutable.  Converting Param\n",
      "'fs.BTHM_params.cp_ig_1' to mutable.\n",
      "WARNING: Params with units must be mutable.  Converting Param\n",
      "'fs.BTHM_params.cp_ig_2' to mutable.\n",
      "WARNING: Params with units must be mutable.  Converting Param\n",
      "'fs.BTHM_params.cp_ig_3' to mutable.\n",
      "WARNING: Params with units must be mutable.  Converting Param\n",
      "'fs.BTHM_params.cp_ig_4' to mutable.\n",
      "WARNING: Params with units must be mutable.  Converting Param\n",
      "'fs.BTHM_params.cp_ig_5' to mutable.\n",
      "WARNING: Params with units must be mutable.  Converting Param\n",
      "'fs.BTHM_params.pressure_sat_coeff_A' to mutable.\n",
      "WARNING: Params with units must be mutable.  Converting Param\n",
      "'fs.BTHM_params.pressure_sat_coeff_B' to mutable.\n",
      "WARNING: Params with units must be mutable.  Converting Param\n",
      "'fs.BTHM_params.pressure_sat_coeff_C' to mutable.\n",
      "WARNING: Params with units must be mutable.  Converting Param\n",
      "'fs.BTHM_params.dh_vap' to mutable.\n",
      "WARNING: Params with units must be mutable.  Converting Param\n",
      "'fs.BT_params.pressure_critical' to mutable.\n",
      "WARNING: Params with units must be mutable.  Converting Param\n",
      "'fs.BT_params.temperature_critical' to mutable.\n",
      "WARNING: Params with units must be mutable.  Converting Param\n",
      "'fs.BT_params.mw_comp' to mutable.\n",
      "WARNING: Params with units must be mutable.  Converting Param\n",
      "'fs.BT_params.dh_form' to mutable.\n",
      "WARNING: Params with units must be mutable.  Converting Param\n",
      "'fs.BT_params.ds_form' to mutable.\n"
     ]
    }
   ],
   "source": [
    "# Property package for benzene, toluene, hydrogen, methane mixture\n",
    "m.fs.BTHM_params = HDAParameterBlock()\n",
    "\n",
    "# Property package for the benzene-toluene mixture\n",
    "m.fs.BT_params = BTXParameterBlock(\n",
    "    valid_phase=(\"Liq\", \"Vap\"), activity_coeff_model=\"Ideal\"\n",
    ")\n",
    "\n",
    "# Reaction package for the HDA reaction\n",
    "m.fs.reaction_params = reaction_props.HDAReactionParameterBlock(\n",
    "    property_package=m.fs.BTHM_params\n",
    ")"
   ]
  },
  {
   "cell_type": "markdown",
   "metadata": {},
   "source": [
    "## Adding Unit Models\n",
    "\n",
    "Let us start adding the unit models we have imported to the flowsheet. Here, we are adding the Mixer (assigned a name M101) and a Heater (assigned a name H101). Note that, all unit models need to be given a property package argument. In addition, the Mixer unit model needs a `list` consisting of the inlets (toluene feed, hydrogen feed and vapor recycle streams in this case). "
   ]
  },
  {
   "cell_type": "code",
   "execution_count": 11,
   "metadata": {},
   "outputs": [],
   "source": [
    "# Adding the mixer M101 to the flowsheet\n",
    "m.fs.M101 = Mixer(\n",
    "    property_package=m.fs.BTHM_params,\n",
    "    inlet_list=[\"toluene_feed\", \"hydrogen_feed\", \"vapor_recycle\"],\n",
    ")\n",
    "\n",
    "# Adding the heater H101 to the flowsheet\n",
    "m.fs.H101 = Heater(property_package=m.fs.BTHM_params, has_phase_equilibrium=True)"
   ]
  },
  {
   "cell_type": "markdown",
   "metadata": {},
   "source": [
    "<div class=\"alert alert-block alert-info\">\n",
    "<b>Inline Exercise:</b>\n",
    "Let us now add the CSTR (assign the name R101) and pass the following arguments:\n",
    "      <ul>\n",
    "         <li>\"property_package\": m.fs.BTHM_params</li>\n",
    "         <li>\"reaction_package\": m.fs.reaction_params </li>\n",
    "         <li>\"has_heat_of_reaction\": True </li>\n",
    "         <li>\"has_heat_transfer\": True</li>\n",
    "      </ul>\n",
    "</div>"
   ]
  },
  {
   "cell_type": "code",
   "execution_count": 12,
   "metadata": {
    "tags": [
     "exercise"
    ]
   },
   "outputs": [],
   "source": [
    "# Todo: Add reactor with the specifications above"
   ]
  },
  {
   "cell_type": "code",
   "execution_count": 13,
   "metadata": {
    "tags": [
     "solution"
    ]
   },
   "outputs": [],
   "source": [
    "# Todo: Add reactor with the specifications above\n",
    "m.fs.R101 = CSTR(\n",
    "    property_package=m.fs.BTHM_params,\n",
    "    reaction_package=m.fs.reaction_params,\n",
    "    has_heat_of_reaction=True,\n",
    "    has_heat_transfer=True,\n",
    ")"
   ]
  },
  {
   "cell_type": "markdown",
   "metadata": {},
   "source": [
    "Let us now add the Flash (assign the name F101), Splitter (assign the name S101) and PressureChanger (assign the name C101)"
   ]
  },
  {
   "cell_type": "code",
   "execution_count": 14,
   "metadata": {},
   "outputs": [],
   "source": [
    "# Adding the flash tank F101 to the flowsheet\n",
    "m.fs.F101 = Flash(\n",
    "    property_package=m.fs.BTHM_params, has_heat_transfer=True, has_pressure_change=True\n",
    ")\n",
    "\n",
    "# Adding the splitter S101 to the flowsheet\n",
    "m.fs.S101 = Splitter(\n",
    "    property_package=m.fs.BTHM_params, outlet_list=[\"purge\", \"recycle\"]\n",
    ")\n",
    "\n",
    "# Adding the compressor C101 to the flowsheet\n",
    "m.fs.C101 = PressureChanger(\n",
    "    property_package=m.fs.BTHM_params,\n",
    "    compressor=True,\n",
    "    thermodynamic_assumption=ThermodynamicAssumption.isothermal,\n",
    ")"
   ]
  },
  {
   "cell_type": "markdown",
   "metadata": {},
   "source": [
    "## Remark\n",
    "\n",
    "Currently, the `SequentialDecomposition()` tool, which we will later be using to initialize the flowsheet, does not support the distillation column model. Thus, we will first simulate the flowsheet without the distillation column. After it converges, we will then add the distillation column, initialize it, and simulate the entire flowsheet."
   ]
  },
  {
   "cell_type": "markdown",
   "metadata": {},
   "source": [
    "As mentioned above, we use the `m.fs.BTHM_params` package, which contains all the four species, for the reactor loop, and the simpler `m.fs.BT_params` for unit operations following the flash (i.e., heater H102 and the distillation column D101). We define a `Translator` block to link the source property package and the package it is to be translated to in the following manner:"
   ]
  },
  {
   "cell_type": "code",
   "execution_count": 15,
   "metadata": {},
   "outputs": [],
   "source": [
    "# Add translator block to convert between property packages\n",
    "m.fs.translator = Translator(\n",
    "    inlet_property_package=m.fs.BTHM_params, outlet_property_package=m.fs.BT_params\n",
    ")"
   ]
  },
  {
   "cell_type": "markdown",
   "metadata": {},
   "source": [
    "### Translator block constraints\n",
    "\n",
    "The `Translator` block needs to know how to translate between the two property packages. This must be custom coded for each application because of the generality of the IDAES framework.\n",
    "\n",
    "For this process, five constraints are required based on the state variables used in the outgoing process.\n",
    "\n",
    "- Since we assumed that only benzene and toluene are present in the liquid phase, the total molar flowrate must be the sum of molar flowrates of benzene and toluene, respectively.\n",
    "- Temperature of the inlet and outlet streams must be the same.\n",
    "- Pressure of the inlet and outgoing streams must be the same\n",
    "- The mole fraction of benzene in the outgoing stream is the ratio of the molar flowrate of liquid benzene in the inlet to the sum of molar flowrates of liquid benzene and toluene in the inlet.\n",
    "- The mole fraction of toluene in the outgoing stream is the ratio of the molar flowrate of liquid toluene in the inlet to the sum of molar flowrates of liquid benzene and toluene in the inlet."
   ]
  },
  {
   "cell_type": "code",
   "execution_count": 16,
   "metadata": {},
   "outputs": [],
   "source": [
    "# Add constraint: Total flow = benzene flow + toluene flow (molar)\n",
    "m.fs.translator.eq_total_flow = Constraint(\n",
    "    expr=m.fs.translator.outlet.flow_mol[0]\n",
    "    == m.fs.translator.inlet.flow_mol_phase_comp[0, \"Liq\", \"benzene\"]\n",
    "    + m.fs.translator.inlet.flow_mol_phase_comp[0, \"Liq\", \"toluene\"]\n",
    ")\n",
    "\n",
    "# Add constraint: Outlet temperature = Inlet temperature\n",
    "m.fs.translator.eq_temperature = Constraint(\n",
    "    expr=m.fs.translator.outlet.temperature[0] == m.fs.translator.inlet.temperature[0]\n",
    ")"
   ]
  },
  {
   "cell_type": "markdown",
   "metadata": {},
   "source": [
    "In the above, note that the variable flow_mol_phase_comp has the index - [time, phase, component]. As this is a steady-state flowsheet, the time index by default is 0. The valid phases are [\"Liq\", \"Vap\"]. Similarly the valid component list is [\"benzene\", \"toluene\", \"hydrogen\", \"methane\"]."
   ]
  },
  {
   "cell_type": "markdown",
   "metadata": {},
   "source": [
    "<div class=\"alert alert-block alert-info\">\n",
    "<b>Inline Exercise:</b>\n",
    "Add the constraint to ensure that the outlet pressure is the same as the inlet pressure\n",
    "</div>"
   ]
  },
  {
   "cell_type": "code",
   "execution_count": 17,
   "metadata": {
    "tags": [
     "exercise"
    ]
   },
   "outputs": [],
   "source": [
    "# Todo: Add constraint: Outlet pressure = Inlet pressure"
   ]
  },
  {
   "cell_type": "code",
   "execution_count": 18,
   "metadata": {
    "tags": [
     "solution"
    ]
   },
   "outputs": [],
   "source": [
    "# Todo: Add constraint: Outlet pressure = Inlet pressure\n",
    "m.fs.translator.eq_pressure = Constraint(\n",
    "    expr=m.fs.translator.outlet.pressure[0] == m.fs.translator.inlet.pressure[0]\n",
    ")"
   ]
  },
  {
   "cell_type": "code",
   "execution_count": 19,
   "metadata": {},
   "outputs": [],
   "source": [
    "# Remaining constraints on the translator block\n",
    "\n",
    "# Add constraint: Benzene mole fraction definition\n",
    "m.fs.translator.eq_mole_frac_benzene = Constraint(\n",
    "    expr=m.fs.translator.outlet.mole_frac_comp[0, \"benzene\"]\n",
    "    == m.fs.translator.inlet.flow_mol_phase_comp[0, \"Liq\", \"benzene\"]\n",
    "    / (\n",
    "        m.fs.translator.inlet.flow_mol_phase_comp[0, \"Liq\", \"benzene\"]\n",
    "        + m.fs.translator.inlet.flow_mol_phase_comp[0, \"Liq\", \"toluene\"]\n",
    "    )\n",
    ")\n",
    "\n",
    "# Add constraint: Toluene mole fraction definition\n",
    "m.fs.translator.eq_mole_frac_toluene = Constraint(\n",
    "    expr=m.fs.translator.outlet.mole_frac_comp[0, \"toluene\"]\n",
    "    == m.fs.translator.inlet.flow_mol_phase_comp[0, \"Liq\", \"toluene\"]\n",
    "    / (\n",
    "        m.fs.translator.inlet.flow_mol_phase_comp[0, \"Liq\", \"benzene\"]\n",
    "        + m.fs.translator.inlet.flow_mol_phase_comp[0, \"Liq\", \"toluene\"]\n",
    "    )\n",
    ")"
   ]
  },
  {
   "cell_type": "markdown",
   "metadata": {},
   "source": [
    "<div class=\"alert alert-block alert-info\">\n",
    "<b>Inline Exercise:</b>\n",
    "Finally, let us add the Heater H102 in the same way as H101 but pass the m.fs.BT_params thermodynamic package. We will add the distillation column after converging the flowsheet.\n",
    "</div>"
   ]
  },
  {
   "cell_type": "code",
   "execution_count": 20,
   "metadata": {
    "tags": [
     "exercise"
    ]
   },
   "outputs": [],
   "source": [
    "# Todo: Add the Heater H102 to the flowsheet"
   ]
  },
  {
   "cell_type": "code",
   "execution_count": 21,
   "metadata": {
    "tags": [
     "solution"
    ]
   },
   "outputs": [],
   "source": [
    "# Todo: Add the Heater H102 to the flowsheet\n",
    "m.fs.H102 = Heater(\n",
    "    property_package=m.fs.BT_params,\n",
    "    has_pressure_change=True,\n",
    "    has_phase_equilibrium=True,\n",
    ")"
   ]
  },
  {
   "cell_type": "markdown",
   "metadata": {},
   "source": [
    "## Connecting Unit Models using Arcs\n",
    "\n",
    "We have now added the initial set of unit models to the flowsheet. However, we have not yet specified how the units are connected. To do this, we will be using the `Arc` which is a pyomo component that takes in two arguments: `source` and `destination`. Let us connect the outlet of the mixer (M101) to the inlet of the heater (H101). "
   ]
  },
  {
   "cell_type": "code",
   "execution_count": 22,
   "metadata": {},
   "outputs": [],
   "source": [
    "m.fs.s03 = Arc(source=m.fs.M101.outlet, destination=m.fs.H101.inlet)"
   ]
  },
  {
   "cell_type": "markdown",
   "metadata": {},
   "source": [
    "\n",
    "![](HDA_flowsheet_distillation.png) \n",
    "\n",
    "<div class=\"alert alert-block alert-info\">\n",
    "<b>Inline Exercise:</b>\n",
    "Now, connect the H101 outlet to the R101 inlet using the cell above as a guide. \n",
    "</div>\n",
    "\n"
   ]
  },
  {
   "cell_type": "code",
   "execution_count": 23,
   "metadata": {
    "tags": [
     "exercise"
    ]
   },
   "outputs": [],
   "source": [
    "# Todo: Connect the H101 outlet to R101 inlet"
   ]
  },
  {
   "cell_type": "code",
   "execution_count": 24,
   "metadata": {
    "tags": [
     "solution"
    ]
   },
   "outputs": [],
   "source": [
    "# Todo: Connect the H101 outlet to R101 inlet\n",
    "m.fs.s04 = Arc(source=m.fs.H101.outlet, destination=m.fs.R101.inlet)"
   ]
  },
  {
   "cell_type": "markdown",
   "metadata": {},
   "source": [
    "We will now be connecting the rest of the units as shown below. Notice how the outlet names are different for the flash tank as it has a vapor and a liquid outlet. "
   ]
  },
  {
   "cell_type": "code",
   "execution_count": 25,
   "metadata": {},
   "outputs": [],
   "source": [
    "m.fs.s05 = Arc(source=m.fs.R101.outlet, destination=m.fs.F101.inlet)\n",
    "m.fs.s06 = Arc(source=m.fs.F101.vap_outlet, destination=m.fs.S101.inlet)\n",
    "m.fs.s08 = Arc(source=m.fs.S101.recycle, destination=m.fs.C101.inlet)\n",
    "m.fs.s09 = Arc(source=m.fs.C101.outlet, destination=m.fs.M101.vapor_recycle)\n",
    "m.fs.s10a = Arc(source=m.fs.F101.liq_outlet, destination=m.fs.translator.inlet)\n",
    "m.fs.s10b = Arc(source=m.fs.translator.outlet, destination=m.fs.H102.inlet)"
   ]
  },
  {
   "cell_type": "markdown",
   "metadata": {},
   "source": [
    "We have now connected the unit model block using the arcs. However, each of these arcs link to ports on the two unit models that are connected. In this case, the ports consist of the state variables that need to be linked between the unit models. Pyomo provides a convenient method to write these equality constraints for us between two ports and this is done as follows:"
   ]
  },
  {
   "cell_type": "code",
   "execution_count": 26,
   "metadata": {},
   "outputs": [],
   "source": [
    "TransformationFactory(\"network.expand_arcs\").apply_to(m)"
   ]
  },
  {
   "cell_type": "markdown",
   "metadata": {},
   "source": [
    "### Appending additional constraints to the model\n",
    "\n",
    "Now, we will see how we can add additional constraints to the model using `Constraint` from Pyomo.\n",
    "\n",
    "Consider the reactor R101. By default, the conversion of a component is not calculated when we simulate the flowsheet. If we are interested either in specifying or constraining the conversion value, we can add the following constraint to calculate the conversion:\n",
    "$$ \\text{Conversion of toluene} = \\frac{\\text{molar flow of toluene in the inlet} - \\text{molar flow of toluene in the outlet}}{\\text{molar flow of toluene in the inlet}} $$ \n",
    "\n",
    "We add the constraint to the model as shown below."
   ]
  },
  {
   "cell_type": "code",
   "execution_count": 27,
   "metadata": {},
   "outputs": [],
   "source": [
    "# Define the conversion variables using 'Var'\n",
    "m.fs.R101.conversion = Var(initialize=0.75, bounds=(0, 1))\n",
    "\n",
    "# Append the constraint to the model\n",
    "m.fs.R101.conv_constraint = Constraint(\n",
    "    expr=m.fs.R101.conversion * m.fs.R101.inlet.flow_mol_phase_comp[0, \"Vap\", \"toluene\"]\n",
    "    == (\n",
    "        m.fs.R101.inlet.flow_mol_phase_comp[0, \"Vap\", \"toluene\"]\n",
    "        - m.fs.R101.outlet.flow_mol_phase_comp[0, \"Vap\", \"toluene\"]\n",
    "    )\n",
    ")"
   ]
  },
  {
   "cell_type": "markdown",
   "metadata": {},
   "source": [
    "## Fixing feed conditions and Initializing the flowsheet\n",
    "\n",
    "Let us first check how many degrees of freedom exist for this flowsheet using the `degrees_of_freedom` tool we imported earlier. "
   ]
  },
  {
   "cell_type": "code",
   "execution_count": 28,
   "metadata": {},
   "outputs": [
    {
     "name": "stdout",
     "output_type": "stream",
     "text": [
      "29\n"
     ]
    }
   ],
   "source": [
    "print(degrees_of_freedom(m))"
   ]
  },
  {
   "cell_type": "code",
   "execution_count": 29,
   "metadata": {
    "tags": [
     "testing"
    ]
   },
   "outputs": [],
   "source": [
    "# Check the degrees of freedom\n",
    "assert degrees_of_freedom(m) == 29"
   ]
  },
  {
   "cell_type": "markdown",
   "metadata": {},
   "source": [
    "We will now be fixing the toluene feed stream to the conditions shown in the flowsheet above. Please note that though this is a pure toluene feed, the remaining components are still assigned a very small non-zero value to help with convergence and initializing. "
   ]
  },
  {
   "cell_type": "code",
   "execution_count": 30,
   "metadata": {},
   "outputs": [],
   "source": [
    "m.fs.M101.toluene_feed.flow_mol_phase_comp[0, \"Vap\", \"benzene\"].fix(1e-5)\n",
    "m.fs.M101.toluene_feed.flow_mol_phase_comp[0, \"Vap\", \"toluene\"].fix(1e-5)\n",
    "m.fs.M101.toluene_feed.flow_mol_phase_comp[0, \"Vap\", \"hydrogen\"].fix(1e-5)\n",
    "m.fs.M101.toluene_feed.flow_mol_phase_comp[0, \"Vap\", \"methane\"].fix(1e-5)\n",
    "m.fs.M101.toluene_feed.flow_mol_phase_comp[0, \"Liq\", \"benzene\"].fix(1e-5)\n",
    "m.fs.M101.toluene_feed.flow_mol_phase_comp[0, \"Liq\", \"toluene\"].fix(0.30)\n",
    "m.fs.M101.toluene_feed.flow_mol_phase_comp[0, \"Liq\", \"hydrogen\"].fix(1e-5)\n",
    "m.fs.M101.toluene_feed.flow_mol_phase_comp[0, \"Liq\", \"methane\"].fix(1e-5)\n",
    "m.fs.M101.toluene_feed.temperature.fix(303.2)\n",
    "m.fs.M101.toluene_feed.pressure.fix(350000)"
   ]
  },
  {
   "cell_type": "markdown",
   "metadata": {},
   "source": [
    "Similarly, let us fix the hydrogen feed to the following conditions in the next cell:\n",
    "      <ul>\n",
    "         <li>F<sub>H2</sub> = 0.30 mol/s</li>\n",
    "         <li>F<sub>CH4</sub> = 0.02 mol/s</li>\n",
    "         <li>Remaining components = 1e-5 mol/s</li>\n",
    "         <li>T = 303.2 K</li>\n",
    "         <li>P = 350000 Pa</li>\n",
    "      </ul>"
   ]
  },
  {
   "cell_type": "code",
   "execution_count": 31,
   "metadata": {},
   "outputs": [],
   "source": [
    "m.fs.M101.hydrogen_feed.flow_mol_phase_comp[0, \"Vap\", \"benzene\"].fix(1e-5)\n",
    "m.fs.M101.hydrogen_feed.flow_mol_phase_comp[0, \"Vap\", \"toluene\"].fix(1e-5)\n",
    "m.fs.M101.hydrogen_feed.flow_mol_phase_comp[0, \"Vap\", \"hydrogen\"].fix(0.30)\n",
    "m.fs.M101.hydrogen_feed.flow_mol_phase_comp[0, \"Vap\", \"methane\"].fix(0.02)\n",
    "m.fs.M101.hydrogen_feed.flow_mol_phase_comp[0, \"Liq\", \"benzene\"].fix(1e-5)\n",
    "m.fs.M101.hydrogen_feed.flow_mol_phase_comp[0, \"Liq\", \"toluene\"].fix(1e-5)\n",
    "m.fs.M101.hydrogen_feed.flow_mol_phase_comp[0, \"Liq\", \"hydrogen\"].fix(1e-5)\n",
    "m.fs.M101.hydrogen_feed.flow_mol_phase_comp[0, \"Liq\", \"methane\"].fix(1e-5)\n",
    "m.fs.M101.hydrogen_feed.temperature.fix(303.2)\n",
    "m.fs.M101.hydrogen_feed.pressure.fix(350000)"
   ]
  },
  {
   "cell_type": "markdown",
   "metadata": {},
   "source": [
    "### Fixing unit model specifications\n",
    "\n",
    "Now that we have fixed our inlet feed conditions, we will now be fixing the operating conditions for the unit models in the flowsheet. Let us set the H101 outlet temperature to 600 K. "
   ]
  },
  {
   "cell_type": "code",
   "execution_count": 32,
   "metadata": {},
   "outputs": [],
   "source": [
    "# Fix the temperature of the outlet from the heater H101\n",
    "m.fs.H101.outlet.temperature.fix(600)"
   ]
  },
  {
   "cell_type": "markdown",
   "metadata": {},
   "source": [
    "<div class=\"alert alert-block alert-info\">\n",
    "<b>Inline Exercise:</b>\n",
    "Set the conditions for the reactor R101 to the following conditions:\n",
    "      <ul>\n",
    "         <li>`conversion` = 0.75 </li>\n",
    "         <li>`heat_duty` = 0</li>\n",
    "      </ul>\n",
    "\n",
    "Use Shift+Enter to run the cell once you have typed in your code. \n",
    "</div>"
   ]
  },
  {
   "cell_type": "code",
   "execution_count": 33,
   "metadata": {
    "tags": [
     "exercise"
    ]
   },
   "outputs": [],
   "source": [
    "# Todo: Fix the 'conversion' of the reactor R101\n",
    "\n",
    "\n",
    "# Todo: Fix the 'heat_duty' of the reactor R101"
   ]
  },
  {
   "cell_type": "code",
   "execution_count": 34,
   "metadata": {
    "tags": [
     "solution"
    ]
   },
   "outputs": [],
   "source": [
    "# Todo: Fix the 'conversion' of the reactor R101\n",
    "m.fs.R101.conversion.fix(0.75)\n",
    "\n",
    "# Todo: Fix the 'heat_duty' of the reactor R101\n",
    "m.fs.R101.heat_duty.fix(0)"
   ]
  },
  {
   "cell_type": "markdown",
   "metadata": {},
   "source": [
    "The Flash conditions for F101 can be set as follows. "
   ]
  },
  {
   "cell_type": "code",
   "execution_count": 35,
   "metadata": {},
   "outputs": [],
   "source": [
    "# Fix the temperature of the vapor outlet from F101\n",
    "m.fs.F101.vap_outlet.temperature.fix(325.0)\n",
    "\n",
    "# Fix the pressure drop in the flash F101\n",
    "m.fs.F101.deltaP.fix(0)"
   ]
  },
  {
   "cell_type": "markdown",
   "metadata": {},
   "source": [
    "Let us fix the split fraction of the purge stream from the splitter S101 and the outlet pressure from the compressor C101"
   ]
  },
  {
   "cell_type": "code",
   "execution_count": 36,
   "metadata": {},
   "outputs": [],
   "source": [
    "# Fix the split fraction of the 'purge' stream from S101\n",
    "m.fs.S101.split_fraction[0, \"purge\"].fix(0.2)\n",
    "\n",
    "# Fix the pressure of the outlet from the compressor C101\n",
    "m.fs.C101.outlet.pressure.fix(350000)"
   ]
  },
  {
   "cell_type": "markdown",
   "metadata": {},
   "source": [
    "Finally, let us fix the temperature of the outlet from H102 and the pressure drop in H102 as the following"
   ]
  },
  {
   "cell_type": "code",
   "execution_count": 37,
   "metadata": {},
   "outputs": [],
   "source": [
    "# Fix the temperature of the outlet from the heater H102\n",
    "m.fs.H102.outlet.temperature.fix(375)\n",
    "\n",
    "# Fix the pressure drop in the heater H102\n",
    "m.fs.H102.deltaP.fix(-200000)"
   ]
  },
  {
   "cell_type": "markdown",
   "metadata": {},
   "source": [
    "To avoid convergence issues associated with poorly scaled variables and/or constraints, we scale the variables and constraints corresponding to the heaters H101 and H102, flash F101 and the reactor R101. Scaling factors for the flow rates, temperature, pressure, etc. have been defined in the property package: `ideal_VLE.py` file. Here, we set scaling factors only for the heat duty of the heater, the reaction extent, heat duty and volume of the reactor."
   ]
  },
  {
   "cell_type": "code",
   "execution_count": 38,
   "metadata": {},
   "outputs": [
    {
     "name": "stdout",
     "output_type": "stream",
     "text": [
      "2024-06-13 01:09:57 [WARNING] idaes.core.util.scaling: Missing scaling factor for fs.H102.control_volume.properties_in[0.0].flow_mol_phase\n",
      "2024-06-13 01:09:57 [WARNING] idaes.core.util.scaling: Missing scaling factor for fs.H102.control_volume.properties_in[0.0].enth_mol_phase_comp[Liq,benzene]\n",
      "2024-06-13 01:09:57 [WARNING] idaes.core.util.scaling: Missing scaling factor for fs.H102.control_volume.properties_in[0.0].enth_mol_phase_comp[Liq,toluene]\n",
      "2024-06-13 01:09:57 [WARNING] idaes.core.util.scaling: Missing scaling factor for fs.H102.control_volume.properties_in[0.0].enth_mol_phase_comp[Vap,benzene]\n",
      "2024-06-13 01:09:57 [WARNING] idaes.core.util.scaling: Missing scaling factor for fs.H102.control_volume.properties_in[0.0].enth_mol_phase_comp[Vap,toluene]\n",
      "2024-06-13 01:09:57 [WARNING] idaes.core.util.scaling: Missing scaling factor for fs.H102.control_volume.properties_in[0.0].eq_comp[benzene]\n",
      "2024-06-13 01:09:57 [WARNING] idaes.core.util.scaling: Missing scaling factor for fs.H102.control_volume.properties_in[0.0].eq_comp[toluene]\n",
      "2024-06-13 01:09:57 [WARNING] idaes.core.util.scaling: Missing scaling factor for fs.H102.control_volume.properties_in[0.0].eq_phase_equilibrium[benzene]\n",
      "2024-06-13 01:09:57 [WARNING] idaes.core.util.scaling: Missing scaling factor for fs.H102.control_volume.properties_in[0.0].eq_phase_equilibrium[toluene]\n",
      "2024-06-13 01:09:57 [WARNING] idaes.core.util.scaling: Missing scaling factor for fs.H102.control_volume.properties_in[0.0].eq_P_vap[benzene]\n",
      "2024-06-13 01:09:57 [WARNING] idaes.core.util.scaling: Missing scaling factor for fs.H102.control_volume.properties_in[0.0].eq_P_vap[toluene]\n",
      "2024-06-13 01:09:57 [WARNING] idaes.core.util.scaling: Missing scaling factor for fs.H102.control_volume.properties_out[0.0].flow_mol_phase\n",
      "2024-06-13 01:09:57 [WARNING] idaes.core.util.scaling: Missing scaling factor for fs.H102.control_volume.properties_out[0.0].enth_mol_phase_comp[Liq,benzene]\n",
      "2024-06-13 01:09:57 [WARNING] idaes.core.util.scaling: Missing scaling factor for fs.H102.control_volume.properties_out[0.0].enth_mol_phase_comp[Liq,toluene]\n",
      "2024-06-13 01:09:57 [WARNING] idaes.core.util.scaling: Missing scaling factor for fs.H102.control_volume.properties_out[0.0].enth_mol_phase_comp[Vap,benzene]\n",
      "2024-06-13 01:09:57 [WARNING] idaes.core.util.scaling: Missing scaling factor for fs.H102.control_volume.properties_out[0.0].enth_mol_phase_comp[Vap,toluene]\n",
      "2024-06-13 01:09:57 [WARNING] idaes.core.util.scaling: Missing scaling factor for fs.H102.control_volume.properties_out[0.0].eq_comp[benzene]\n",
      "2024-06-13 01:09:57 [WARNING] idaes.core.util.scaling: Missing scaling factor for fs.H102.control_volume.properties_out[0.0].eq_comp[toluene]\n",
      "2024-06-13 01:09:57 [WARNING] idaes.core.util.scaling: Missing scaling factor for fs.H102.control_volume.properties_out[0.0].eq_phase_equilibrium[benzene]\n",
      "2024-06-13 01:09:57 [WARNING] idaes.core.util.scaling: Missing scaling factor for fs.H102.control_volume.properties_out[0.0].eq_phase_equilibrium[toluene]\n",
      "2024-06-13 01:09:57 [WARNING] idaes.core.util.scaling: Missing scaling factor for fs.H102.control_volume.properties_out[0.0].eq_P_vap[benzene]\n",
      "2024-06-13 01:09:57 [WARNING] idaes.core.util.scaling: Missing scaling factor for fs.H102.control_volume.properties_out[0.0].eq_P_vap[toluene]\n",
      "2024-06-13 01:09:57 [WARNING] idaes.core.util.scaling: Missing scaling factor for fs.H102.control_volume.properties_in[0.0].material_flow_terms[Liq,benzene]\n",
      "2024-06-13 01:09:57 [WARNING] idaes.core.util.scaling: Missing scaling factor for fs.H102.control_volume.properties_in[0.0].material_flow_terms[Vap,benzene]\n",
      "2024-06-13 01:09:57 [WARNING] idaes.core.util.scaling: Missing scaling factor for fs.H102.control_volume.properties_in[0.0].material_flow_terms[Liq,toluene]\n",
      "2024-06-13 01:09:57 [WARNING] idaes.core.util.scaling: Missing scaling factor for fs.H102.control_volume.properties_in[0.0].material_flow_terms[Vap,toluene]\n",
      "2024-06-13 01:09:57 [WARNING] idaes.core.util.scaling: Missing scaling factor for fs.H102.control_volume.properties_in[0.0].enthalpy_flow_terms[Liq], enthalpy_flow_terms\n",
      "2024-06-13 01:09:57 [WARNING] idaes.core.util.scaling: Missing scaling factor for fs.H102.control_volume.properties_in[0.0].enthalpy_flow_terms[Vap], enthalpy_flow_terms\n"
     ]
    }
   ],
   "source": [
    "# Set scaling factors for heat duty, reaction extent and volume\n",
    "iscale.set_scaling_factor(m.fs.H101.control_volume.heat, 1e-2)\n",
    "iscale.set_scaling_factor(m.fs.R101.control_volume.heat, 1e-2)\n",
    "iscale.set_scaling_factor(m.fs.R101.control_volume.rate_reaction_extent, 1)\n",
    "iscale.set_scaling_factor(m.fs.R101.control_volume.volume, 1)\n",
    "iscale.set_scaling_factor(m.fs.F101.control_volume.heat, 1e-2)\n",
    "iscale.set_scaling_factor(m.fs.H102.control_volume.heat, 1e-2)\n",
    "\n",
    "# Set the scaling factors for the remaining variables and all constraints\n",
    "iscale.calculate_scaling_factors(m.fs.H101)\n",
    "iscale.calculate_scaling_factors(m.fs.R101)\n",
    "iscale.calculate_scaling_factors(m.fs.F101)\n",
    "iscale.calculate_scaling_factors(m.fs.H102)"
   ]
  },
  {
   "cell_type": "markdown",
   "metadata": {},
   "source": [
    "<div class=\"alert alert-block alert-info\">\n",
    "<b>Inline Exercise:</b>\n",
    "We have now defined all the feed conditions and the inputs required for the unit models. The system should now have 0 degrees of freedom i.e. should be a square problem. Please check that the degrees of freedom is 0. \n",
    "\n",
    "Use Shift+Enter to run the cell once you have typed in your code. \n",
    "</div>"
   ]
  },
  {
   "cell_type": "code",
   "execution_count": 39,
   "metadata": {
    "tags": [
     "exercise"
    ]
   },
   "outputs": [],
   "source": [
    "# Todo: Check the degrees of freedom"
   ]
  },
  {
   "cell_type": "code",
   "execution_count": 40,
   "metadata": {
    "tags": [
     "solution"
    ]
   },
   "outputs": [
    {
     "name": "stdout",
     "output_type": "stream",
     "text": [
      "0\n"
     ]
    }
   ],
   "source": [
    "# Todo: Check the degrees of freedom\n",
    "print(degrees_of_freedom(m))"
   ]
  },
  {
   "cell_type": "code",
   "execution_count": 41,
   "metadata": {
    "tags": [
     "testing"
    ]
   },
   "outputs": [],
   "source": [
    "# Check the degrees of freedom\n",
    "assert degrees_of_freedom(m) == 0"
   ]
  },
  {
   "cell_type": "markdown",
   "metadata": {},
   "source": [
    "### Initialization\n",
    "\n",
    "This subsection will demonstrate how to use the built-in sequential decomposition tool to initialize our flowsheet.\n",
    "\n",
    "Let us first create an object for the `SequentialDecomposition` and specify our options for this. "
   ]
  },
  {
   "cell_type": "code",
   "execution_count": 42,
   "metadata": {},
   "outputs": [],
   "source": [
    "seq = SequentialDecomposition()\n",
    "seq.options.select_tear_method = \"heuristic\"\n",
    "seq.options.tear_method = \"Wegstein\"\n",
    "seq.options.iterLim = 3\n",
    "\n",
    "# Using the SD tool\n",
    "G = seq.create_graph(m)\n",
    "heuristic_tear_set = seq.tear_set_arcs(G, method=\"heuristic\")\n",
    "order = seq.calculation_order(G)"
   ]
  },
  {
   "cell_type": "markdown",
   "metadata": {},
   "source": [
    "Which is the tear stream? Display tear set and order"
   ]
  },
  {
   "cell_type": "code",
   "execution_count": 43,
   "metadata": {},
   "outputs": [
    {
     "name": "stdout",
     "output_type": "stream",
     "text": [
      "fs.s03\n"
     ]
    }
   ],
   "source": [
    "for o in heuristic_tear_set:\n",
    "    print(o.name)"
   ]
  },
  {
   "cell_type": "markdown",
   "metadata": {},
   "source": [
    "What sequence did the SD tool determine to solve this flowsheet with the least number of tears? "
   ]
  },
  {
   "cell_type": "code",
   "execution_count": 44,
   "metadata": {},
   "outputs": [
    {
     "name": "stdout",
     "output_type": "stream",
     "text": [
      "fs.H101\n",
      "fs.R101\n",
      "fs.F101\n",
      "fs.S101\n",
      "fs.C101\n",
      "fs.M101\n"
     ]
    }
   ],
   "source": [
    "for o in order:\n",
    "    print(o[0].name)"
   ]
  },
  {
   "cell_type": "markdown",
   "metadata": {},
   "source": [
    "The SequentialDecomposition tool has determined that the tear stream is the mixer outlet (s03 in the Figure above). We will need to provide a reasonable guess for this.\n",
    "\n",
    "For the initial guess, we assume that the flowrate of the recycle stream (s09) is zero. Consequently, the flow rate of the stream s03 is simply the sum of the flowrates of the toluene feed and hydrogen feed streams. Further, since the temperature and the pressure of both the toluene and hydrogen feed streams are the same, we specify their values as the initial guess for the temperature and pressure of the stream s03."
   ]
  },
  {
   "cell_type": "code",
   "execution_count": 45,
   "metadata": {},
   "outputs": [],
   "source": [
    "tear_guesses = {\n",
    "    \"flow_mol_phase_comp\": {\n",
    "        (0, \"Vap\", \"benzene\"): 1e-5,\n",
    "        (0, \"Vap\", \"toluene\"): 1e-5,\n",
    "        (0, \"Vap\", \"hydrogen\"): 0.30,\n",
    "        (0, \"Vap\", \"methane\"): 0.02,\n",
    "        (0, \"Liq\", \"benzene\"): 1e-5,\n",
    "        (0, \"Liq\", \"toluene\"): 0.30,\n",
    "        (0, \"Liq\", \"hydrogen\"): 1e-5,\n",
    "        (0, \"Liq\", \"methane\"): 1e-5,\n",
    "    },\n",
    "    \"temperature\": {0: 303},\n",
    "    \"pressure\": {0: 350000},\n",
    "}\n",
    "\n",
    "# Pass the tear_guess to the SD tool\n",
    "seq.set_guesses_for(m.fs.H101.inlet, tear_guesses)"
   ]
  },
  {
   "cell_type": "markdown",
   "metadata": {},
   "source": [
    "Next, we need to tell the tool how to initialize a particular unit. We will be writing a python function which takes in a \"unit\" and calls the initialize method on that unit. For the initialization, we will import a Block Triangularization Initializer which decomposes the model into a set of subproblems. These subproblems are solved using a block triangularization transformation before applying a simple Newton or user-selected solver. Methods such as block triangularization often solve faster and yield more reliable behavior than heuristic methods, but sometime struggle to decompose models with strongly coupled equations (e.g. column models, systems with counter-current flow, vapor-liquid equilibrium)."
   ]
  },
  {
   "cell_type": "code",
   "execution_count": 46,
   "metadata": {},
   "outputs": [],
   "source": [
    "def function(unit):\n",
    "    print(unit.name)\n",
    "    # if unit.name != 'fs.translator':\n",
    "    initializer = unit.default_initializer()\n",
    "    initializer.initialize(unit, output_level=idaeslog.DEBUG)\n",
    "    # else:\n",
    "    #     unit.initialize(unit)"
   ]
  },
  {
   "cell_type": "markdown",
   "metadata": {},
   "source": [
    "We are now ready to initialize our flowsheet in a sequential mode. Note that we specifically set the iteration limit to be 3 as we are trying to use this tool only to get a good set of initial values such that IPOPT can then take over and solve this flowsheet for us. "
   ]
  },
  {
   "cell_type": "code",
   "execution_count": 47,
   "metadata": {
    "scrolled": false
   },
   "outputs": [
    {
     "name": "stdout",
     "output_type": "stream",
     "text": [
      "fs.H101\n",
      "2024-06-13 01:09:58 [INFO] idaes.init.fs.H101: Step 1: preparation complete.\n"
     ]
    },
    {
     "name": "stdout",
     "output_type": "stream",
     "text": [
      "2024-06-13 01:09:58 [INFO] idaes.init.fs.H101.control_volume.properties_in: Initialization Step 1 - Dew and bubble points calculation completed.\n",
      "2024-06-13 01:09:58 [INFO] idaes.init.fs.H101.control_volume.properties_in: Initialization Step 2 - Equilibrium temperature  calculation completed.\n",
      "2024-06-13 01:09:58 [INFO] idaes.init.fs.H101.control_volume.properties_in: Initialization Complete\n",
      "2024-06-13 01:09:59 [INFO] idaes.init.fs.H101.control_volume.properties_out: Initialization Step 1 - Dew and bubble points calculation completed.\n",
      "2024-06-13 01:09:59 [INFO] idaes.init.fs.H101.control_volume.properties_out: Initialization Step 2 - Equilibrium temperature  calculation completed.\n",
      "2024-06-13 01:09:59 [INFO] idaes.init.fs.H101.control_volume.properties_out: Initialization Complete\n",
      "2024-06-13 01:09:59 [INFO] idaes.init.fs.H101.control_volume: Control volume properties initialization complete\n",
      "2024-06-13 01:09:59 [INFO] idaes.init.fs.H101.control_volume: Control volume reactions initialization complete\n",
      "2024-06-13 01:09:59 [DEBUG] idaes.solve.fs.H101: WARNING: model contains export suffix 'scaling_factor' that contains 3\n",
      "2024-06-13 01:09:59 [DEBUG] idaes.solve.fs.H101: component keys that are not exported as part of the NL file.  Skipping.\n",
      "2024-06-13 01:09:59 [DEBUG] idaes.solve.fs.H101: WARNING: model contains export suffix 'scaling_factor' that contains 50 keys\n",
      "2024-06-13 01:09:59 [DEBUG] idaes.solve.fs.H101: that are not Var, Constraint, Objective, or the model.  Skipping.\n",
      "2024-06-13 01:09:59 [DEBUG] idaes.solve.fs.H101: Ipopt 3.13.2: nlp_scaling_method=gradient-based\n",
      "2024-06-13 01:09:59 [DEBUG] idaes.solve.fs.H101: tol=1e-06\n",
      "2024-06-13 01:09:59 [DEBUG] idaes.solve.fs.H101: max_iter=200\n",
      "2024-06-13 01:09:59 [DEBUG] idaes.solve.fs.H101: \n",
      "2024-06-13 01:09:59 [DEBUG] idaes.solve.fs.H101: \n",
      "2024-06-13 01:09:59 [DEBUG] idaes.solve.fs.H101: ******************************************************************************\n",
      "2024-06-13 01:09:59 [DEBUG] idaes.solve.fs.H101: This program contains Ipopt, a library for large-scale nonlinear optimization.\n",
      "2024-06-13 01:09:59 [DEBUG] idaes.solve.fs.H101:  Ipopt is released as open source code under the Eclipse Public License (EPL).\n",
      "2024-06-13 01:09:59 [DEBUG] idaes.solve.fs.H101:          For more information visit http://projects.coin-or.org/Ipopt\n",
      "2024-06-13 01:09:59 [DEBUG] idaes.solve.fs.H101: \n",
      "2024-06-13 01:09:59 [DEBUG] idaes.solve.fs.H101: This version of Ipopt was compiled from source code available at\n",
      "2024-06-13 01:09:59 [DEBUG] idaes.solve.fs.H101:     https://github.com/IDAES/Ipopt as part of the Institute for the Design of\n",
      "2024-06-13 01:09:59 [DEBUG] idaes.solve.fs.H101:     Advanced Energy Systems Process Systems Engineering Framework (IDAES PSE\n",
      "2024-06-13 01:09:59 [DEBUG] idaes.solve.fs.H101:     Framework) Copyright (c) 2018-2019. See https://github.com/IDAES/idaes-pse.\n",
      "2024-06-13 01:09:59 [DEBUG] idaes.solve.fs.H101: \n",
      "2024-06-13 01:09:59 [DEBUG] idaes.solve.fs.H101: This version of Ipopt was compiled using HSL, a collection of Fortran codes\n",
      "2024-06-13 01:09:59 [DEBUG] idaes.solve.fs.H101:     for large-scale scientific computation.  All technical papers, sales and\n",
      "2024-06-13 01:09:59 [DEBUG] idaes.solve.fs.H101:     publicity material resulting from use of the HSL codes within IPOPT must\n",
      "2024-06-13 01:09:59 [DEBUG] idaes.solve.fs.H101:     contain the following acknowledgement:\n",
      "2024-06-13 01:09:59 [DEBUG] idaes.solve.fs.H101:         HSL, a collection of Fortran codes for large-scale scientific\n",
      "2024-06-13 01:09:59 [DEBUG] idaes.solve.fs.H101:         computation. See http://www.hsl.rl.ac.uk.\n",
      "2024-06-13 01:09:59 [DEBUG] idaes.solve.fs.H101: ******************************************************************************\n",
      "2024-06-13 01:09:59 [DEBUG] idaes.solve.fs.H101: \n",
      "2024-06-13 01:09:59 [DEBUG] idaes.solve.fs.H101: This is Ipopt version 3.13.2, running with linear solver ma27.\n",
      "2024-06-13 01:09:59 [DEBUG] idaes.solve.fs.H101: \n",
      "2024-06-13 01:09:59 [DEBUG] idaes.solve.fs.H101: Number of nonzeros in equality constraint Jacobian...:      124\n",
      "2024-06-13 01:09:59 [DEBUG] idaes.solve.fs.H101: Number of nonzeros in inequality constraint Jacobian.:        0\n",
      "2024-06-13 01:09:59 [DEBUG] idaes.solve.fs.H101: Number of nonzeros in Lagrangian Hessian.............:      115\n",
      "2024-06-13 01:09:59 [DEBUG] idaes.solve.fs.H101: \n",
      "2024-06-13 01:09:59 [DEBUG] idaes.solve.fs.H101: Total number of variables............................:       41\n",
      "2024-06-13 01:09:59 [DEBUG] idaes.solve.fs.H101:                      variables with only lower bounds:        0\n",
      "2024-06-13 01:09:59 [DEBUG] idaes.solve.fs.H101:                 variables with lower and upper bounds:        9\n",
      "2024-06-13 01:09:59 [DEBUG] idaes.solve.fs.H101:                      variables with only upper bounds:        0\n",
      "2024-06-13 01:09:59 [DEBUG] idaes.solve.fs.H101: Total number of equality constraints.................:       41\n",
      "2024-06-13 01:09:59 [DEBUG] idaes.solve.fs.H101: Total number of inequality constraints...............:        0\n",
      "2024-06-13 01:09:59 [DEBUG] idaes.solve.fs.H101:         inequality constraints with only lower bounds:        0\n",
      "2024-06-13 01:09:59 [DEBUG] idaes.solve.fs.H101:    inequality constraints with lower and upper bounds:        0\n",
      "2024-06-13 01:09:59 [DEBUG] idaes.solve.fs.H101:         inequality constraints with only upper bounds:        0\n",
      "2024-06-13 01:09:59 [DEBUG] idaes.solve.fs.H101: \n",
      "2024-06-13 01:09:59 [DEBUG] idaes.solve.fs.H101: iter    objective    inf_pr   inf_du lg(mu)  ||d||  lg(rg) alpha_du alpha_pr  ls\n",
      "2024-06-13 01:09:59 [DEBUG] idaes.solve.fs.H101:    0  0.0000000e+00 1.66e+04 0.00e+00  -1.0 0.00e+00    -  0.00e+00 0.00e+00   0\n",
      "2024-06-13 01:09:59 [DEBUG] idaes.solve.fs.H101:    1  0.0000000e+00 5.90e+04 1.16e+16  -1.0 3.45e+07    -  5.25e-03 5.07e-01h  1\n",
      "2024-06-13 01:09:59 [DEBUG] idaes.solve.fs.H101:    2  0.0000000e+00 3.89e+04 7.07e+15  -1.0 4.34e+06    -  9.71e-03 3.83e-01h  1\n",
      "2024-06-13 01:09:59 [DEBUG] idaes.solve.fs.H101:    3  0.0000000e+00 2.01e+04 3.95e+15  -1.0 3.47e+06    -  6.91e-01 3.84e-01h  1\n",
      "2024-06-13 01:09:59 [DEBUG] idaes.solve.fs.H101:    4  0.0000000e+00 1.18e+04 2.12e+15  -1.0 2.76e+06    -  8.09e-01 4.07e-01h  1\n",
      "2024-06-13 01:09:59 [DEBUG] idaes.solve.fs.H101:    5  0.0000000e+00 1.97e+04 2.46e+15  -1.0 2.25e+06    -  1.00e+00 5.63e-01h  1\n",
      "2024-06-13 01:09:59 [DEBUG] idaes.solve.fs.H101:    6  0.0000000e+00 7.96e+03 1.26e+15  -1.0 1.52e+06    -  1.00e+00 4.49e-01h  2\n",
      "2024-06-13 01:09:59 [DEBUG] idaes.solve.fs.H101:    7  0.0000000e+00 5.68e+03 5.63e+14  -1.0 9.98e+05    -  1.00e+00 5.88e-01h  1\n",
      "2024-06-13 01:09:59 [DEBUG] idaes.solve.fs.H101:    8  0.0000000e+00 2.65e+03 2.63e+14  -1.0 4.87e+05    -  1.00e+00 4.93e-01h  2\n",
      "2024-06-13 01:09:59 [DEBUG] idaes.solve.fs.H101:    9  0.0000000e+00 1.31e+03 1.04e+14  -1.0 2.61e+05    -  1.00e+00 5.80e-01h  1\n",
      "2024-06-13 01:09:59 [DEBUG] idaes.solve.fs.H101: iter    objective    inf_pr   inf_du lg(mu)  ||d||  lg(rg) alpha_du alpha_pr  ls\n",
      "2024-06-13 01:09:59 [DEBUG] idaes.solve.fs.H101:   10  0.0000000e+00 6.44e+02 5.19e+13  -1.0 1.14e+05    -  1.00e+00 4.96e-01h  2\n",
      "2024-06-13 01:09:59 [DEBUG] idaes.solve.fs.H101:   11  0.0000000e+00 1.65e+02 3.72e+12  -1.0 5.83e+04    -  1.00e+00 8.79e-01h  1\n",
      "2024-06-13 01:09:59 [DEBUG] idaes.solve.fs.H101:   12  0.0000000e+00 4.22e+01 2.84e+12  -1.0 7.28e+03    -  5.83e-02 5.00e-01f  2\n",
      "2024-06-13 01:09:59 [DEBUG] idaes.solve.fs.H101:   13  0.0000000e+00 3.88e+01 1.27e+12  -1.0 3.65e+03    -  1.00e+00 1.00e+00h  1\n",
      "2024-06-13 01:09:59 [DEBUG] idaes.solve.fs.H101:   14  0.0000000e+00 6.72e-02 2.24e+09  -1.0 9.33e-01    -  1.00e+00 1.00e+00h  1\n",
      "2024-06-13 01:09:59 [DEBUG] idaes.solve.fs.H101:   15  0.0000000e+00 3.44e-08 1.07e+03  -1.0 5.57e-08    -  1.00e+00 1.00e+00h  1\n",
      "2024-06-13 01:09:59 [DEBUG] idaes.solve.fs.H101: \n",
      "2024-06-13 01:09:59 [DEBUG] idaes.solve.fs.H101: Number of Iterations....: 15\n",
      "2024-06-13 01:09:59 [DEBUG] idaes.solve.fs.H101: \n",
      "2024-06-13 01:09:59 [DEBUG] idaes.solve.fs.H101:                                    (scaled)                 (unscaled)\n",
      "2024-06-13 01:09:59 [DEBUG] idaes.solve.fs.H101: Objective...............:   0.0000000000000000e+00    0.0000000000000000e+00\n",
      "2024-06-13 01:09:59 [DEBUG] idaes.solve.fs.H101: Dual infeasibility......:   0.0000000000000000e+00    0.0000000000000000e+00\n",
      "2024-06-13 01:09:59 [DEBUG] idaes.solve.fs.H101: Constraint violation....:   9.0662840779005547e-11    3.4449046282247764e-08\n",
      "2024-06-13 01:09:59 [DEBUG] idaes.solve.fs.H101: Complementarity.........:   0.0000000000000000e+00    0.0000000000000000e+00\n",
      "2024-06-13 01:09:59 [DEBUG] idaes.solve.fs.H101: Overall NLP error.......:   9.0662840779005547e-11    3.4449046282247764e-08\n",
      "2024-06-13 01:09:59 [DEBUG] idaes.solve.fs.H101: \n",
      "2024-06-13 01:09:59 [DEBUG] idaes.solve.fs.H101: \n",
      "2024-06-13 01:09:59 [DEBUG] idaes.solve.fs.H101: Number of objective function evaluations             = 28\n",
      "2024-06-13 01:09:59 [DEBUG] idaes.solve.fs.H101: Number of objective gradient evaluations             = 16\n",
      "2024-06-13 01:09:59 [DEBUG] idaes.solve.fs.H101: Number of equality constraint evaluations            = 28\n",
      "2024-06-13 01:09:59 [DEBUG] idaes.solve.fs.H101: Number of inequality constraint evaluations          = 0\n",
      "2024-06-13 01:09:59 [DEBUG] idaes.solve.fs.H101: Number of equality constraint Jacobian evaluations   = 16\n",
      "2024-06-13 01:09:59 [DEBUG] idaes.solve.fs.H101: Number of inequality constraint Jacobian evaluations = 0\n",
      "2024-06-13 01:09:59 [DEBUG] idaes.solve.fs.H101: Number of Lagrangian Hessian evaluations             = 15\n",
      "2024-06-13 01:09:59 [DEBUG] idaes.solve.fs.H101: Total CPU secs in IPOPT (w/o function evaluations)   =      0.007\n",
      "2024-06-13 01:09:59 [DEBUG] idaes.solve.fs.H101: Total CPU secs in NLP function evaluations           =      0.000\n",
      "2024-06-13 01:09:59 [DEBUG] idaes.solve.fs.H101: \n",
      "2024-06-13 01:09:59 [DEBUG] idaes.solve.fs.H101: EXIT: Optimal Solution Found.\n",
      "2024-06-13 01:09:59 [INFO] idaes.init.fs.H101: Control volume initialization optimal - Optimal Solution Found.\n",
      "2024-06-13 01:09:59 [INFO] idaes.init.fs.H101: Step 2: sub-model initialization complete.\n",
      "2024-06-13 01:09:59 [INFO] idaes.init.fs.H101: Step 3: full model initialization optimal - Optimal Solution Found.\n",
      "2024-06-13 01:09:59 [INFO] idaes.init.fs.H101: Step 4: clean up completed.\n",
      "fs.R101\n",
      "2024-06-13 01:09:59 [INFO] idaes.init.fs.R101: Step 1: preparation complete.\n",
      "2024-06-13 01:09:59 [INFO] idaes.init.fs.R101.control_volume.properties_in: Initialization Step 1 - Dew and bubble points calculation completed.\n",
      "2024-06-13 01:09:59 [INFO] idaes.init.fs.R101.control_volume.properties_in: Initialization Step 2 - Equilibrium temperature  calculation completed.\n",
      "2024-06-13 01:09:59 [INFO] idaes.init.fs.R101.control_volume.properties_in: Initialization Complete\n",
      "2024-06-13 01:09:59 [INFO] idaes.init.fs.R101.control_volume.properties_out: Initialization Step 1 - Dew and bubble points calculation completed.\n",
      "2024-06-13 01:09:59 [INFO] idaes.init.fs.R101.control_volume.properties_out: Initialization Step 2 - Equilibrium temperature  calculation completed.\n",
      "2024-06-13 01:09:59 [INFO] idaes.init.fs.R101.control_volume.properties_out: Initialization Complete\n",
      "2024-06-13 01:09:59 [INFO] idaes.init.fs.R101.control_volume: Control volume properties initialization complete\n",
      "2024-06-13 01:09:59 [INFO] idaes.init.fs.R101.control_volume: Control volume reactions initialization complete\n",
      "2024-06-13 01:09:59 [DEBUG] idaes.solve.fs.R101: WARNING: model contains export suffix 'scaling_factor' that contains 3\n",
      "2024-06-13 01:09:59 [DEBUG] idaes.solve.fs.R101: component keys that are not exported as part of the NL file.  Skipping.\n",
      "2024-06-13 01:09:59 [DEBUG] idaes.solve.fs.R101: WARNING: model contains export suffix 'scaling_factor' that contains 50 keys\n",
      "2024-06-13 01:09:59 [DEBUG] idaes.solve.fs.R101: that are not Var, Constraint, Objective, or the model.  Skipping.\n",
      "2024-06-13 01:10:00 [DEBUG] idaes.solve.fs.R101: Ipopt 3.13.2: nlp_scaling_method=gradient-based\n",
      "2024-06-13 01:10:00 [DEBUG] idaes.solve.fs.R101: tol=1e-06\n",
      "2024-06-13 01:10:00 [DEBUG] idaes.solve.fs.R101: max_iter=200\n",
      "2024-06-13 01:10:00 [DEBUG] idaes.solve.fs.R101: \n",
      "2024-06-13 01:10:00 [DEBUG] idaes.solve.fs.R101: \n",
      "2024-06-13 01:10:00 [DEBUG] idaes.solve.fs.R101: ******************************************************************************\n",
      "2024-06-13 01:10:00 [DEBUG] idaes.solve.fs.R101: This program contains Ipopt, a library for large-scale nonlinear optimization.\n",
      "2024-06-13 01:10:00 [DEBUG] idaes.solve.fs.R101:  Ipopt is released as open source code under the Eclipse Public License (EPL).\n",
      "2024-06-13 01:10:00 [DEBUG] idaes.solve.fs.R101:          For more information visit http://projects.coin-or.org/Ipopt\n",
      "2024-06-13 01:10:00 [DEBUG] idaes.solve.fs.R101: \n",
      "2024-06-13 01:10:00 [DEBUG] idaes.solve.fs.R101: This version of Ipopt was compiled from source code available at\n",
      "2024-06-13 01:10:00 [DEBUG] idaes.solve.fs.R101:     https://github.com/IDAES/Ipopt as part of the Institute for the Design of\n",
      "2024-06-13 01:10:00 [DEBUG] idaes.solve.fs.R101:     Advanced Energy Systems Process Systems Engineering Framework (IDAES PSE\n",
      "2024-06-13 01:10:00 [DEBUG] idaes.solve.fs.R101:     Framework) Copyright (c) 2018-2019. See https://github.com/IDAES/idaes-pse.\n",
      "2024-06-13 01:10:00 [DEBUG] idaes.solve.fs.R101: \n",
      "2024-06-13 01:10:00 [DEBUG] idaes.solve.fs.R101: This version of Ipopt was compiled using HSL, a collection of Fortran codes\n",
      "2024-06-13 01:10:00 [DEBUG] idaes.solve.fs.R101:     for large-scale scientific computation.  All technical papers, sales and\n",
      "2024-06-13 01:10:00 [DEBUG] idaes.solve.fs.R101:     publicity material resulting from use of the HSL codes within IPOPT must\n",
      "2024-06-13 01:10:00 [DEBUG] idaes.solve.fs.R101:     contain the following acknowledgement:\n",
      "2024-06-13 01:10:00 [DEBUG] idaes.solve.fs.R101:         HSL, a collection of Fortran codes for large-scale scientific\n",
      "2024-06-13 01:10:00 [DEBUG] idaes.solve.fs.R101:         computation. See http://www.hsl.rl.ac.uk.\n",
      "2024-06-13 01:10:00 [DEBUG] idaes.solve.fs.R101: ******************************************************************************\n",
      "2024-06-13 01:10:00 [DEBUG] idaes.solve.fs.R101: \n",
      "2024-06-13 01:10:00 [DEBUG] idaes.solve.fs.R101: This is Ipopt version 3.13.2, running with linear solver ma27.\n",
      "2024-06-13 01:10:00 [DEBUG] idaes.solve.fs.R101: \n",
      "2024-06-13 01:10:00 [DEBUG] idaes.solve.fs.R101: Number of nonzeros in equality constraint Jacobian...:      105\n",
      "2024-06-13 01:10:00 [DEBUG] idaes.solve.fs.R101: Number of nonzeros in inequality constraint Jacobian.:        0\n",
      "2024-06-13 01:10:00 [DEBUG] idaes.solve.fs.R101: Number of nonzeros in Lagrangian Hessian.............:       73\n",
      "2024-06-13 01:10:00 [DEBUG] idaes.solve.fs.R101: \n",
      "2024-06-13 01:10:00 [DEBUG] idaes.solve.fs.R101: Total number of variables............................:       42\n",
      "2024-06-13 01:10:00 [DEBUG] idaes.solve.fs.R101:                      variables with only lower bounds:        0\n",
      "2024-06-13 01:10:00 [DEBUG] idaes.solve.fs.R101:                 variables with lower and upper bounds:       10\n",
      "2024-06-13 01:10:00 [DEBUG] idaes.solve.fs.R101:                      variables with only upper bounds:        0\n",
      "2024-06-13 01:10:00 [DEBUG] idaes.solve.fs.R101: Total number of equality constraints.................:       42\n",
      "2024-06-13 01:10:00 [DEBUG] idaes.solve.fs.R101: Total number of inequality constraints...............:        0\n",
      "2024-06-13 01:10:00 [DEBUG] idaes.solve.fs.R101:         inequality constraints with only lower bounds:        0\n",
      "2024-06-13 01:10:00 [DEBUG] idaes.solve.fs.R101:    inequality constraints with lower and upper bounds:        0\n",
      "2024-06-13 01:10:00 [DEBUG] idaes.solve.fs.R101:         inequality constraints with only upper bounds:        0\n",
      "2024-06-13 01:10:00 [DEBUG] idaes.solve.fs.R101: \n",
      "2024-06-13 01:10:00 [DEBUG] idaes.solve.fs.R101: iter    objective    inf_pr   inf_du lg(mu)  ||d||  lg(rg) alpha_du alpha_pr  ls\n",
      "2024-06-13 01:10:00 [DEBUG] idaes.solve.fs.R101:    0  0.0000000e+00 4.44e+05 0.00e+00  -1.0 0.00e+00    -  0.00e+00 0.00e+00   0\n",
      "2024-06-13 01:10:00 [DEBUG] idaes.solve.fs.R101:    1  0.0000000e+00 3.99e+05 1.43e+06  -1.0 1.55e+05  -2.0 8.39e-03 4.95e-01h  2\n",
      "2024-06-13 01:10:00 [DEBUG] idaes.solve.fs.R101:    2  0.0000000e+00 4.10e+05 1.33e+06  -1.0 1.72e+05    -  1.36e-01 6.19e-02h  5\n",
      "2024-06-13 01:10:00 [DEBUG] idaes.solve.fs.R101:    3  0.0000000e+00 4.07e+05 1.29e+06  -1.0 1.61e+05    -  1.87e-01 3.09e-02h  6\n",
      "2024-06-13 01:10:00 [DEBUG] idaes.solve.fs.R101:    4  0.0000000e+00 4.04e+05 1.25e+06  -1.0 1.56e+05    -  3.71e-01 3.09e-02h  6\n",
      "2024-06-13 01:10:00 [DEBUG] idaes.solve.fs.R101:    5  0.0000000e+00 4.01e+05 1.21e+06  -1.0 1.52e+05    -  3.96e-01 3.09e-02h  6\n",
      "2024-06-13 01:10:00 [DEBUG] idaes.solve.fs.R101:    6  0.0000000e+00 3.99e+05 1.17e+06  -1.0 1.47e+05    -  9.91e-01 3.09e-02h  6\n",
      "2024-06-13 01:10:00 [DEBUG] idaes.solve.fs.R101:    7  0.0000000e+00 3.97e+05 1.13e+06  -1.0 1.42e+05    -  4.02e-01 3.09e-02h  6\n",
      "2024-06-13 01:10:00 [DEBUG] idaes.solve.fs.R101:    8  0.0000000e+00 3.95e+05 1.10e+06  -1.0 1.38e+05    -  1.00e+00 3.09e-02h  6\n",
      "2024-06-13 01:10:00 [DEBUG] idaes.solve.fs.R101:    9  0.0000000e+00 3.94e+05 1.06e+06  -1.0 1.34e+05    -  3.96e-01 3.09e-02h  6\n",
      "2024-06-13 01:10:00 [DEBUG] idaes.solve.fs.R101: iter    objective    inf_pr   inf_du lg(mu)  ||d||  lg(rg) alpha_du alpha_pr  ls\n",
      "2024-06-13 01:10:00 [DEBUG] idaes.solve.fs.R101:   10  0.0000000e+00 3.93e+05 1.03e+06  -1.0 1.29e+05    -  1.00e+00 3.09e-02h  6\n",
      "2024-06-13 01:10:00 [DEBUG] idaes.solve.fs.R101:   11  0.0000000e+00 1.45e+07 8.57e+07  -1.0 1.25e+05    -  4.60e-01 9.90e-01w  1\n",
      "2024-06-13 01:10:00 [DEBUG] idaes.solve.fs.R101:   12  0.0000000e+00 4.90e+07 4.57e+08  -1.0 1.25e+05    -  9.92e-01 9.90e-01w  1\n",
      "2024-06-13 01:10:00 [DEBUG] idaes.solve.fs.R101:   13  0.0000000e+00 1.73e+10 1.08e+13  -1.0 1.17e+07    -  5.79e-01 9.91e-01w  1\n",
      "2024-06-13 01:10:00 [DEBUG] idaes.solve.fs.R101:   14  0.0000000e+00 3.92e+05 9.94e+05  -1.0 2.09e+07    -  4.60e-01 3.09e-02h  5\n",
      "2024-06-13 01:10:00 [DEBUG] idaes.solve.fs.R101:   15  0.0000000e+00 3.91e+05 9.61e+05  -1.0 1.22e+05    -  1.00e+00 3.09e-02h  6\n",
      "2024-06-13 01:10:00 [DEBUG] idaes.solve.fs.R101:   16  0.0000000e+00 3.91e+05 9.30e+05  -1.0 1.18e+05    -  5.23e-01 3.09e-02h  6\n",
      "2024-06-13 01:10:00 [DEBUG] idaes.solve.fs.R101:   17  0.0000000e+00 3.91e+05 9.00e+05  -1.0 1.14e+05    -  1.00e+00 3.09e-02h  6\n",
      "2024-06-13 01:10:00 [DEBUG] idaes.solve.fs.R101:   18  0.0000000e+00 3.91e+05 8.70e+05  -1.0 1.11e+05    -  5.87e-01 3.09e-02h  6\n",
      "2024-06-13 01:10:00 [DEBUG] idaes.solve.fs.R101:   19  0.0000000e+00 3.91e+05 8.42e+05  -1.0 1.07e+05    -  1.00e+00 3.09e-02h  6\n",
      "2024-06-13 01:10:00 [DEBUG] idaes.solve.fs.R101: iter    objective    inf_pr   inf_du lg(mu)  ||d||  lg(rg) alpha_du alpha_pr  ls\n",
      "2024-06-13 01:10:00 [DEBUG] idaes.solve.fs.R101:   20  0.0000000e+00 3.91e+05 8.14e+05  -1.0 1.04e+05    -  6.52e-01 3.09e-02h  6\n",
      "2024-06-13 01:10:00 [DEBUG] idaes.solve.fs.R101:   21  0.0000000e+00 3.92e+05 7.87e+05  -1.0 1.01e+05    -  1.00e+00 3.09e-02h  6\n",
      "2024-06-13 01:10:00 [DEBUG] idaes.solve.fs.R101:   22  0.0000000e+00 3.92e+05 7.61e+05  -1.0 9.76e+04    -  7.18e-01 3.09e-02h  6\n",
      "2024-06-13 01:10:00 [DEBUG] idaes.solve.fs.R101:   23  0.0000000e+00 3.93e+05 7.36e+05  -1.0 9.46e+04    -  1.00e+00 3.09e-02h  6\n",
      "2024-06-13 01:10:00 [DEBUG] idaes.solve.fs.R101:   24  0.0000000e+00 1.58e+07 1.18e+08  -1.0 9.16e+04    -  7.85e-01 9.90e-01w  1\n",
      "2024-06-13 01:10:00 [DEBUG] idaes.solve.fs.R101:   25  0.0000000e+00 3.07e+07 4.42e+08  -1.0 2.41e+05    -  1.00e+00 9.90e-01w  1\n",
      "2024-06-13 01:10:00 [DEBUG] idaes.solve.fs.R101:   26  0.0000000e+00 4.25e+11 2.09e+16  -1.0 1.77e+08    -  1.00e+00 9.91e-01w  1\n",
      "2024-06-13 01:10:00 [DEBUG] idaes.solve.fs.R101:   27  0.0000000e+00 3.94e+05 7.12e+05  -1.0 1.94e+08    -  7.85e-01 3.09e-02h  5\n",
      "2024-06-13 01:10:00 [DEBUG] idaes.solve.fs.R101:   28  0.0000000e+00 3.95e+05 6.88e+05  -1.0 8.88e+04    -  1.00e+00 3.09e-02h  6\n",
      "2024-06-13 01:10:00 [DEBUG] idaes.solve.fs.R101:   29  0.0000000e+00 3.95e+05 6.65e+05  -1.0 8.61e+04    -  8.54e-01 3.09e-02h  6\n",
      "2024-06-13 01:10:00 [DEBUG] idaes.solve.fs.R101: iter    objective    inf_pr   inf_du lg(mu)  ||d||  lg(rg) alpha_du alpha_pr  ls\n",
      "2024-06-13 01:10:00 [DEBUG] idaes.solve.fs.R101:   30  0.0000000e+00 3.96e+05 6.43e+05  -1.0 8.34e+04    -  1.00e+00 3.09e-02h  6\n",
      "2024-06-13 01:10:00 [DEBUG] idaes.solve.fs.R101:   31  0.0000000e+00 3.97e+05 6.21e+05  -1.0 8.08e+04    -  9.25e-01 3.09e-02h  6\n",
      "2024-06-13 01:10:00 [DEBUG] idaes.solve.fs.R101:   32  0.0000000e+00 3.99e+05 6.01e+05  -1.0 7.83e+04    -  1.00e+00 3.09e-02h  6\n",
      "2024-06-13 01:10:00 [DEBUG] idaes.solve.fs.R101:   33  0.0000000e+00 4.00e+05 5.80e+05  -1.0 7.59e+04    -  9.97e-01 3.09e-02h  6\n",
      "2024-06-13 01:10:00 [DEBUG] idaes.solve.fs.R101:   34  0.0000000e+00 4.01e+05 5.61e+05  -1.0 7.35e+04    -  1.00e+00 3.09e-02h  6\n",
      "2024-06-13 01:10:00 [DEBUG] idaes.solve.fs.R101:   35  0.0000000e+00 4.02e+05 5.42e+05  -1.0 7.13e+04    -  1.00e+00 3.09e-02h  6\n",
      "2024-06-13 01:10:00 [DEBUG] idaes.solve.fs.R101:   36  0.0000000e+00 4.03e+05 5.23e+05  -1.0 6.91e+04    -  1.00e+00 3.09e-02h  6\n",
      "2024-06-13 01:10:00 [DEBUG] idaes.solve.fs.R101:   37  0.0000000e+00 1.60e+07 1.53e+08  -1.0 6.69e+04    -  1.00e+00 9.90e-01w  1\n",
      "2024-06-13 01:10:00 [DEBUG] idaes.solve.fs.R101:   38  0.0000000e+00 3.98e+08 3.52e+09  -1.0 1.25e+07    -  1.00e+00 9.90e-01w  1\n",
      "2024-06-13 01:10:00 [DEBUG] idaes.solve.fs.R101:   39  0.0000000e+00 2.61e+12 3.16e+18  -1.0 1.01e+09    -  1.00e+00 9.91e-01w  1\n",
      "2024-06-13 01:10:00 [DEBUG] idaes.solve.fs.R101: iter    objective    inf_pr   inf_du lg(mu)  ||d||  lg(rg) alpha_du alpha_pr  ls\n",
      "2024-06-13 01:10:00 [DEBUG] idaes.solve.fs.R101:   40  0.0000000e+00 4.04e+05 5.05e+05  -1.0 1.02e+09    -  1.00e+00 3.09e-02h  5\n",
      "2024-06-13 01:10:00 [DEBUG] idaes.solve.fs.R101:   41  0.0000000e+00 4.05e+05 4.88e+05  -1.0 6.49e+04    -  1.00e+00 3.09e-02h  6\n",
      "2024-06-13 01:10:00 [DEBUG] idaes.solve.fs.R101:   42  0.0000000e+00 4.06e+05 4.71e+05  -1.0 6.28e+04    -  1.00e+00 3.09e-02h  6\n",
      "2024-06-13 01:10:00 [DEBUG] idaes.solve.fs.R101:   43  0.0000000e+00 4.07e+05 4.55e+05  -1.0 6.09e+04    -  1.00e+00 3.09e-02h  6\n",
      "2024-06-13 01:10:00 [DEBUG] idaes.solve.fs.R101:   44  0.0000000e+00 4.08e+05 4.39e+05  -1.0 5.93e+04    -  1.00e+00 3.09e-02h  6\n",
      "2024-06-13 01:10:00 [DEBUG] idaes.solve.fs.R101:   45  0.0000000e+00 4.08e+05 4.24e+05  -1.0 5.96e+04    -  1.00e+00 3.09e-02h  6\n",
      "2024-06-13 01:10:00 [DEBUG] idaes.solve.fs.R101:   46  0.0000000e+00 4.09e+05 4.09e+05  -1.0 6.00e+04    -  1.00e+00 3.09e-02h  6\n",
      "2024-06-13 01:10:00 [DEBUG] idaes.solve.fs.R101:   47  0.0000000e+00 4.10e+05 3.95e+05  -1.0 6.03e+04    -  1.00e+00 3.09e-02h  6\n",
      "2024-06-13 01:10:00 [DEBUG] idaes.solve.fs.R101:   48  0.0000000e+00 4.10e+05 3.81e+05  -1.0 6.06e+04    -  1.00e+00 3.09e-02h  6\n",
      "2024-06-13 01:10:00 [DEBUG] idaes.solve.fs.R101:   49  0.0000000e+00 4.11e+05 3.68e+05  -1.0 6.09e+04    -  1.00e+00 3.09e-02h  6\n",
      "2024-06-13 01:10:00 [DEBUG] idaes.solve.fs.R101: iter    objective    inf_pr   inf_du lg(mu)  ||d||  lg(rg) alpha_du alpha_pr  ls\n",
      "2024-06-13 01:10:00 [DEBUG] idaes.solve.fs.R101:   50  0.0000000e+00 1.50e+07 1.87e+08  -1.0 6.12e+04    -  1.00e+00 9.90e-01w  1\n",
      "2024-06-13 01:10:00 [DEBUG] idaes.solve.fs.R101:   51  0.0000000e+00 8.27e+07 1.65e+08  -1.0 5.19e+05    -  1.00e+00 9.90e-01w  1\n",
      "2024-06-13 01:10:00 [DEBUG] idaes.solve.fs.R101:   52  0.0000000e+00 2.14e+10 2.58e+15  -1.0 8.59e+06    -  1.00e+00 9.91e-01w  1\n",
      "2024-06-13 01:10:00 [DEBUG] idaes.solve.fs.R101:   53  0.0000000e+00 4.11e+05 3.55e+05  -1.0 8.09e+06    -  1.00e+00 3.09e-02h  5\n",
      "2024-06-13 01:10:00 [DEBUG] idaes.solve.fs.R101:   54  0.0000000e+00 4.11e+05 3.42e+05  -1.0 6.15e+04    -  1.00e+00 3.09e-02h  6\n",
      "2024-06-13 01:10:00 [DEBUG] idaes.solve.fs.R101:   55  0.0000000e+00 4.12e+05 3.30e+05  -1.0 6.17e+04    -  1.00e+00 3.09e-02h  6\n",
      "2024-06-13 01:10:00 [DEBUG] idaes.solve.fs.R101:   56  0.0000000e+00 4.12e+05 3.18e+05  -1.0 6.19e+04    -  1.00e+00 3.09e-02h  6\n",
      "2024-06-13 01:10:00 [DEBUG] idaes.solve.fs.R101:   57  0.0000000e+00 4.11e+05 3.07e+05  -1.0 6.21e+04    -  1.00e+00 3.09e-02h  6\n",
      "2024-06-13 01:10:00 [DEBUG] idaes.solve.fs.R101:   58  0.0000000e+00 4.11e+05 2.96e+05  -1.0 6.22e+04    -  1.00e+00 3.09e-02h  6\n",
      "2024-06-13 01:10:00 [DEBUG] idaes.solve.fs.R101:   59  0.0000000e+00 4.11e+05 2.85e+05  -1.0 6.24e+04    -  1.00e+00 3.09e-02h  6\n",
      "2024-06-13 01:10:00 [DEBUG] idaes.solve.fs.R101: iter    objective    inf_pr   inf_du lg(mu)  ||d||  lg(rg) alpha_du alpha_pr  ls\n",
      "2024-06-13 01:10:00 [DEBUG] idaes.solve.fs.R101:   60  0.0000000e+00 4.10e+05 2.75e+05  -1.0 6.25e+04    -  1.00e+00 3.09e-02h  6\n",
      "2024-06-13 01:10:00 [DEBUG] idaes.solve.fs.R101:   61  0.0000000e+00 4.10e+05 2.65e+05  -1.0 6.26e+04    -  1.00e+00 3.09e-02h  6\n",
      "2024-06-13 01:10:00 [DEBUG] idaes.solve.fs.R101:   62  0.0000000e+00 4.09e+05 2.55e+05  -1.0 6.26e+04    -  1.00e+00 3.09e-02h  6\n",
      "2024-06-13 01:10:00 [DEBUG] idaes.solve.fs.R101:   63  0.0000000e+00 1.32e+07 2.15e+08  -1.0 6.26e+04    -  1.00e+00 9.90e-01w  1\n",
      "2024-06-13 01:10:00 [DEBUG] idaes.solve.fs.R101:   64  0.0000000e+00 1.04e+07 2.72e+08  -1.0 6.52e+04    -  1.00e+00 9.90e-01w  1\n",
      "2024-06-13 01:10:00 [DEBUG] idaes.solve.fs.R101:   65  0.0000000e+00 2.57e+08 3.28e+11  -1.0 1.18e+05    -  1.00e+00 9.92e-01w  1\n",
      "2024-06-13 01:10:00 [DEBUG] idaes.solve.fs.R101:   66  0.0000000e+00 4.08e+05 2.46e+05  -1.0 1.03e+05    -  1.00e+00 3.09e-02h  5\n",
      "2024-06-13 01:10:00 [DEBUG] idaes.solve.fs.R101:   67  0.0000000e+00 4.07e+05 2.37e+05  -1.0 6.27e+04    -  1.00e+00 3.09e-02h  6\n",
      "2024-06-13 01:10:00 [DEBUG] idaes.solve.fs.R101:   68  0.0000000e+00 4.06e+05 2.28e+05  -1.0 6.26e+04    -  1.00e+00 3.09e-02h  6\n",
      "2024-06-13 01:10:00 [DEBUG] idaes.solve.fs.R101:   69  0.0000000e+00 4.04e+05 2.20e+05  -1.0 6.26e+04    -  1.00e+00 3.09e-02h  6\n",
      "2024-06-13 01:10:00 [DEBUG] idaes.solve.fs.R101: iter    objective    inf_pr   inf_du lg(mu)  ||d||  lg(rg) alpha_du alpha_pr  ls\n",
      "2024-06-13 01:10:00 [DEBUG] idaes.solve.fs.R101:   70  0.0000000e+00 4.03e+05 2.11e+05  -1.0 6.25e+04    -  1.00e+00 3.09e-02h  6\n",
      "2024-06-13 01:10:00 [DEBUG] idaes.solve.fs.R101:   71  0.0000000e+00 4.01e+05 2.04e+05  -1.0 6.24e+04    -  1.00e+00 3.09e-02h  6\n",
      "2024-06-13 01:10:00 [DEBUG] idaes.solve.fs.R101:   72  0.0000000e+00 3.99e+05 1.96e+05  -1.0 6.23e+04    -  1.00e+00 3.09e-02h  6\n",
      "2024-06-13 01:10:00 [DEBUG] idaes.solve.fs.R101:   73  0.0000000e+00 3.98e+05 1.89e+05  -1.0 6.21e+04    -  1.00e+00 3.09e-02h  6\n",
      "2024-06-13 01:10:00 [DEBUG] idaes.solve.fs.R101:   74  0.0000000e+00 3.96e+05 1.81e+05  -1.0 6.20e+04    -  1.00e+00 3.09e-02h  6\n",
      "2024-06-13 01:10:00 [DEBUG] idaes.solve.fs.R101:   75  0.0000000e+00 3.93e+05 1.75e+05  -1.0 6.18e+04    -  1.00e+00 3.09e-02h  6\n",
      "2024-06-13 01:10:00 [DEBUG] idaes.solve.fs.R101:   76  0.0000000e+00 1.09e+07 2.33e+08  -1.0 6.15e+04    -  1.00e+00 9.90e-01w  1\n",
      "2024-06-13 01:10:00 [DEBUG] idaes.solve.fs.R101:   77  0.0000000e+00 2.79e+06 2.21e+08  -1.0 4.91e+04    -  1.00e+00 9.90e-01w  1\n",
      "2024-06-13 01:10:00 [DEBUG] idaes.solve.fs.R101:   78  0.0000000e+00 5.28e+05 3.98e+08  -1.0 1.70e+04    -  1.00e+00 9.93e-01w  1\n",
      "2024-06-13 01:10:00 [DEBUG] idaes.solve.fs.R101:   79  0.0000000e+00 3.91e+05 1.68e+05  -1.0 1.00e+05    -  1.00e+00 3.09e-02h  5\n",
      "2024-06-13 01:10:00 [DEBUG] idaes.solve.fs.R101: iter    objective    inf_pr   inf_du lg(mu)  ||d||  lg(rg) alpha_du alpha_pr  ls\n",
      "2024-06-13 01:10:00 [DEBUG] idaes.solve.fs.R101:   80  0.0000000e+00 3.89e+05 1.61e+05  -1.0 6.13e+04    -  1.00e+00 3.09e-02h  6\n",
      "2024-06-13 01:10:00 [DEBUG] idaes.solve.fs.R101:   81  0.0000000e+00 3.86e+05 1.55e+05  -1.0 6.10e+04    -  1.00e+00 3.09e-02h  6\n",
      "2024-06-13 01:10:00 [DEBUG] idaes.solve.fs.R101:   82  0.0000000e+00 3.83e+05 1.49e+05  -1.0 6.07e+04    -  1.00e+00 3.09e-02h  6\n",
      "2024-06-13 01:10:00 [DEBUG] idaes.solve.fs.R101:   83  0.0000000e+00 3.80e+05 1.44e+05  -1.0 6.04e+04    -  1.00e+00 3.09e-02h  6\n",
      "2024-06-13 01:10:00 [DEBUG] idaes.solve.fs.R101:   84  0.0000000e+00 3.77e+05 1.38e+05  -1.0 6.00e+04    -  1.00e+00 3.09e-02h  6\n",
      "2024-06-13 01:10:00 [DEBUG] idaes.solve.fs.R101:   85  0.0000000e+00 3.74e+05 1.33e+05  -1.0 5.97e+04    -  1.00e+00 3.09e-02h  6\n",
      "2024-06-13 01:10:00 [DEBUG] idaes.solve.fs.R101:   86  0.0000000e+00 3.71e+05 1.27e+05  -1.0 5.93e+04    -  1.00e+00 3.09e-02h  6\n",
      "2024-06-13 01:10:00 [DEBUG] idaes.solve.fs.R101:   87  0.0000000e+00 3.68e+05 1.22e+05  -1.0 5.89e+04    -  1.00e+00 3.09e-02h  6\n",
      "2024-06-13 01:10:00 [DEBUG] idaes.solve.fs.R101:   88  0.0000000e+00 3.64e+05 1.18e+05  -1.0 5.84e+04    -  1.00e+00 3.09e-02h  6\n",
      "2024-06-13 01:10:00 [DEBUG] idaes.solve.fs.R101:   89  0.0000000e+00 8.43e+06 2.37e+08  -1.0 5.80e+04    -  1.00e+00 9.90e-01w  1\n",
      "2024-06-13 01:10:00 [DEBUG] idaes.solve.fs.R101: iter    objective    inf_pr   inf_du lg(mu)  ||d||  lg(rg) alpha_du alpha_pr  ls\n",
      "2024-06-13 01:10:00 [DEBUG] idaes.solve.fs.R101:   90  0.0000000e+00 1.32e+06 1.64e+08  -1.0 3.53e+04    -  1.00e+00 9.90e-01w  1\n",
      "2024-06-13 01:10:00 [DEBUG] idaes.solve.fs.R101:   91  0.0000000e+00 8.50e+03 3.52e+08  -1.0 2.15e+04    -  1.00e+00 9.94e-01w  1\n",
      "2024-06-13 01:10:00 [DEBUG] idaes.solve.fs.R101:   92  0.0000000e+00 1.42e+01 4.42e+06  -1.0 9.58e+04    -  1.00e+00 1.00e+00h  1\n",
      "2024-06-13 01:10:00 [DEBUG] idaes.solve.fs.R101:   93  0.0000000e+00 3.15e-05 2.86e-02  -1.0 3.96e+02    -  1.00e+00 1.00e+00h  1\n",
      "2024-06-13 01:10:00 [DEBUG] idaes.solve.fs.R101:   94  0.0000000e+00 3.73e-08 1.36e-09  -5.7 1.17e-08    -  1.00e+00 1.00e+00h  1\n",
      "2024-06-13 01:10:00 [DEBUG] idaes.solve.fs.R101: \n",
      "2024-06-13 01:10:00 [DEBUG] idaes.solve.fs.R101: Number of Iterations....: 94\n",
      "2024-06-13 01:10:00 [DEBUG] idaes.solve.fs.R101: \n",
      "2024-06-13 01:10:00 [DEBUG] idaes.solve.fs.R101:                                    (scaled)                 (unscaled)\n",
      "2024-06-13 01:10:00 [DEBUG] idaes.solve.fs.R101: Objective...............:   0.0000000000000000e+00    0.0000000000000000e+00\n",
      "2024-06-13 01:10:00 [DEBUG] idaes.solve.fs.R101: Dual infeasibility......:   0.0000000000000000e+00    0.0000000000000000e+00\n",
      "2024-06-13 01:10:00 [DEBUG] idaes.solve.fs.R101: Constraint violation....:   4.0017766878008842e-11    3.7252902984619141e-08\n",
      "2024-06-13 01:10:00 [DEBUG] idaes.solve.fs.R101: Complementarity.........:   0.0000000000000000e+00    0.0000000000000000e+00\n",
      "2024-06-13 01:10:00 [DEBUG] idaes.solve.fs.R101: Overall NLP error.......:   4.0017766878008842e-11    3.7252902984619141e-08\n",
      "2024-06-13 01:10:00 [DEBUG] idaes.solve.fs.R101: \n",
      "2024-06-13 01:10:00 [DEBUG] idaes.solve.fs.R101: \n",
      "2024-06-13 01:10:00 [DEBUG] idaes.solve.fs.R101: Number of objective function evaluations             = 505\n",
      "2024-06-13 01:10:00 [DEBUG] idaes.solve.fs.R101: Number of objective gradient evaluations             = 95\n",
      "2024-06-13 01:10:00 [DEBUG] idaes.solve.fs.R101: Number of equality constraint evaluations            = 509\n",
      "2024-06-13 01:10:00 [DEBUG] idaes.solve.fs.R101: Number of inequality constraint evaluations          = 0\n",
      "2024-06-13 01:10:00 [DEBUG] idaes.solve.fs.R101: Number of equality constraint Jacobian evaluations   = 95\n",
      "2024-06-13 01:10:00 [DEBUG] idaes.solve.fs.R101: Number of inequality constraint Jacobian evaluations = 0\n",
      "2024-06-13 01:10:00 [DEBUG] idaes.solve.fs.R101: Number of Lagrangian Hessian evaluations             = 94\n",
      "2024-06-13 01:10:00 [DEBUG] idaes.solve.fs.R101: Total CPU secs in IPOPT (w/o function evaluations)   =      0.038\n",
      "2024-06-13 01:10:00 [DEBUG] idaes.solve.fs.R101: Total CPU secs in NLP function evaluations           =      0.003\n",
      "2024-06-13 01:10:00 [DEBUG] idaes.solve.fs.R101: \n",
      "2024-06-13 01:10:00 [DEBUG] idaes.solve.fs.R101: EXIT: Optimal Solution Found.\n",
      "2024-06-13 01:10:00 [INFO] idaes.init.fs.R101: Control volume initialization optimal - Optimal Solution Found.\n",
      "2024-06-13 01:10:00 [INFO] idaes.init.fs.R101: Step 2: sub-model initialization complete.\n",
      "2024-06-13 01:10:00 [INFO] idaes.init.fs.R101: Step 3: full model initialization optimal - Optimal Solution Found.\n",
      "2024-06-13 01:10:00 [INFO] idaes.init.fs.R101: Step 4: clean up completed.\n",
      "fs.F101\n",
      "2024-06-13 01:10:00 [INFO] idaes.init.fs.F101: Step 1: preparation complete.\n",
      "2024-06-13 01:10:00 [INFO] idaes.init.fs.F101.control_volume.properties_in: Initialization Step 1 - Dew and bubble points calculation completed.\n",
      "2024-06-13 01:10:00 [INFO] idaes.init.fs.F101.control_volume.properties_in: Initialization Step 2 - Equilibrium temperature  calculation completed.\n",
      "2024-06-13 01:10:00 [INFO] idaes.init.fs.F101.control_volume.properties_in: Initialization Complete\n",
      "2024-06-13 01:10:00 [INFO] idaes.init.fs.F101.control_volume.properties_out: Initialization Step 1 - Dew and bubble points calculation completed.\n",
      "2024-06-13 01:10:00 [INFO] idaes.init.fs.F101.control_volume.properties_out: Initialization Step 2 - Equilibrium temperature  calculation completed.\n",
      "2024-06-13 01:10:00 [INFO] idaes.init.fs.F101.control_volume.properties_out: Initialization Complete\n",
      "2024-06-13 01:10:00 [INFO] idaes.init.fs.F101.control_volume: Control volume properties initialization complete\n",
      "2024-06-13 01:10:00 [INFO] idaes.init.fs.F101.control_volume: Control volume reactions initialization complete\n",
      "2024-06-13 01:10:00 [DEBUG] idaes.solve.fs.F101: WARNING: model contains export suffix 'scaling_factor' that contains 4\n",
      "2024-06-13 01:10:00 [DEBUG] idaes.solve.fs.F101: component keys that are not exported as part of the NL file.  Skipping.\n",
      "2024-06-13 01:10:00 [DEBUG] idaes.solve.fs.F101: WARNING: model contains export suffix 'scaling_factor' that contains 50 keys\n",
      "2024-06-13 01:10:00 [DEBUG] idaes.solve.fs.F101: that are not Var, Constraint, Objective, or the model.  Skipping.\n",
      "2024-06-13 01:10:00 [DEBUG] idaes.solve.fs.F101: Ipopt 3.13.2: nlp_scaling_method=gradient-based\n",
      "2024-06-13 01:10:00 [DEBUG] idaes.solve.fs.F101: tol=1e-06\n",
      "2024-06-13 01:10:00 [DEBUG] idaes.solve.fs.F101: max_iter=200\n",
      "2024-06-13 01:10:00 [DEBUG] idaes.solve.fs.F101: \n",
      "2024-06-13 01:10:00 [DEBUG] idaes.solve.fs.F101: \n",
      "2024-06-13 01:10:00 [DEBUG] idaes.solve.fs.F101: ******************************************************************************\n",
      "2024-06-13 01:10:00 [DEBUG] idaes.solve.fs.F101: This program contains Ipopt, a library for large-scale nonlinear optimization.\n",
      "2024-06-13 01:10:00 [DEBUG] idaes.solve.fs.F101:  Ipopt is released as open source code under the Eclipse Public License (EPL).\n",
      "2024-06-13 01:10:00 [DEBUG] idaes.solve.fs.F101:          For more information visit http://projects.coin-or.org/Ipopt\n",
      "2024-06-13 01:10:00 [DEBUG] idaes.solve.fs.F101: \n",
      "2024-06-13 01:10:00 [DEBUG] idaes.solve.fs.F101: This version of Ipopt was compiled from source code available at\n",
      "2024-06-13 01:10:00 [DEBUG] idaes.solve.fs.F101:     https://github.com/IDAES/Ipopt as part of the Institute for the Design of\n",
      "2024-06-13 01:10:00 [DEBUG] idaes.solve.fs.F101:     Advanced Energy Systems Process Systems Engineering Framework (IDAES PSE\n",
      "2024-06-13 01:10:00 [DEBUG] idaes.solve.fs.F101:     Framework) Copyright (c) 2018-2019. See https://github.com/IDAES/idaes-pse.\n",
      "2024-06-13 01:10:00 [DEBUG] idaes.solve.fs.F101: \n",
      "2024-06-13 01:10:00 [DEBUG] idaes.solve.fs.F101: This version of Ipopt was compiled using HSL, a collection of Fortran codes\n",
      "2024-06-13 01:10:00 [DEBUG] idaes.solve.fs.F101:     for large-scale scientific computation.  All technical papers, sales and\n",
      "2024-06-13 01:10:00 [DEBUG] idaes.solve.fs.F101:     publicity material resulting from use of the HSL codes within IPOPT must\n",
      "2024-06-13 01:10:00 [DEBUG] idaes.solve.fs.F101:     contain the following acknowledgement:\n",
      "2024-06-13 01:10:00 [DEBUG] idaes.solve.fs.F101:         HSL, a collection of Fortran codes for large-scale scientific\n",
      "2024-06-13 01:10:00 [DEBUG] idaes.solve.fs.F101:         computation. See http://www.hsl.rl.ac.uk.\n",
      "2024-06-13 01:10:00 [DEBUG] idaes.solve.fs.F101: ******************************************************************************\n",
      "2024-06-13 01:10:00 [DEBUG] idaes.solve.fs.F101: \n",
      "2024-06-13 01:10:00 [DEBUG] idaes.solve.fs.F101: This is Ipopt version 3.13.2, running with linear solver ma27.\n",
      "2024-06-13 01:10:00 [DEBUG] idaes.solve.fs.F101: \n",
      "2024-06-13 01:10:00 [DEBUG] idaes.solve.fs.F101: Number of nonzeros in equality constraint Jacobian...:      124\n",
      "2024-06-13 01:10:00 [DEBUG] idaes.solve.fs.F101: Number of nonzeros in inequality constraint Jacobian.:        0\n",
      "2024-06-13 01:10:00 [DEBUG] idaes.solve.fs.F101: Number of nonzeros in Lagrangian Hessian.............:      115\n",
      "2024-06-13 01:10:00 [DEBUG] idaes.solve.fs.F101: \n",
      "2024-06-13 01:10:00 [DEBUG] idaes.solve.fs.F101: Total number of variables............................:       41\n",
      "2024-06-13 01:10:00 [DEBUG] idaes.solve.fs.F101:                      variables with only lower bounds:        0\n",
      "2024-06-13 01:10:00 [DEBUG] idaes.solve.fs.F101:                 variables with lower and upper bounds:        9\n",
      "2024-06-13 01:10:00 [DEBUG] idaes.solve.fs.F101:                      variables with only upper bounds:        0\n",
      "2024-06-13 01:10:00 [DEBUG] idaes.solve.fs.F101: Total number of equality constraints.................:       41\n",
      "2024-06-13 01:10:00 [DEBUG] idaes.solve.fs.F101: Total number of inequality constraints...............:        0\n",
      "2024-06-13 01:10:00 [DEBUG] idaes.solve.fs.F101:         inequality constraints with only lower bounds:        0\n",
      "2024-06-13 01:10:00 [DEBUG] idaes.solve.fs.F101:    inequality constraints with lower and upper bounds:        0\n",
      "2024-06-13 01:10:00 [DEBUG] idaes.solve.fs.F101:         inequality constraints with only upper bounds:        0\n",
      "2024-06-13 01:10:00 [DEBUG] idaes.solve.fs.F101: \n",
      "2024-06-13 01:10:00 [DEBUG] idaes.solve.fs.F101: iter    objective    inf_pr   inf_du lg(mu)  ||d||  lg(rg) alpha_du alpha_pr  ls\n",
      "2024-06-13 01:10:00 [DEBUG] idaes.solve.fs.F101:    0  0.0000000e+00 2.20e+04 0.00e+00  -1.0 0.00e+00    -  0.00e+00 0.00e+00   0\n",
      "2024-06-13 01:10:00 [DEBUG] idaes.solve.fs.F101:    1  0.0000000e+00 5.00e+04 3.21e+16  -1.0 2.49e+05    -  5.25e-03 1.68e-01h  1\n",
      "2024-06-13 01:10:00 [DEBUG] idaes.solve.fs.F101:    2  0.0000000e+00 4.98e+04 3.21e+16  -1.0 2.99e+05    -  5.54e-02 3.87e-03h  1\n",
      "2024-06-13 01:10:00 [DEBUG] idaes.solve.fs.F101:    3  0.0000000e+00 4.98e+04 3.21e+16  -1.0 2.69e+05    -  1.74e-01 4.65e-05h  1\n",
      "2024-06-13 01:10:00 [DEBUG] idaes.solve.fs.F101:    4r 0.0000000e+00 4.98e+04 9.99e+02   2.1 0.00e+00    -  0.00e+00 2.33e-07R  2\n",
      "2024-06-13 01:10:00 [DEBUG] idaes.solve.fs.F101:    5r 0.0000000e+00 4.85e+04 9.98e+02   2.1 1.48e+04    -  5.69e-03 9.34e-04f  1\n",
      "2024-06-13 01:10:00 [DEBUG] idaes.solve.fs.F101:    6r 0.0000000e+00 4.74e+04 9.97e+02   2.1 1.41e+04    -  4.47e-05 6.93e-04f  1\n",
      "2024-06-13 01:10:00 [DEBUG] idaes.solve.fs.F101:    7r 0.0000000e+00 4.68e+04 9.97e+02   2.1 1.42e+04    -  8.93e-05 1.18e-04f  1\n",
      "2024-06-13 01:10:00 [DEBUG] idaes.solve.fs.F101:    8r 0.0000000e+00 4.26e+04 9.95e+02   2.1 3.12e+04    -  5.93e-03 2.38e-03f  1\n",
      "2024-06-13 01:10:00 [DEBUG] idaes.solve.fs.F101:    9r 0.0000000e+00 4.18e+04 1.96e+03   2.1 1.82e+04    -  2.97e-03 2.84e-04f  1\n",
      "2024-06-13 01:10:00 [DEBUG] idaes.solve.fs.F101: iter    objective    inf_pr   inf_du lg(mu)  ||d||  lg(rg) alpha_du alpha_pr  ls\n",
      "2024-06-13 01:10:00 [DEBUG] idaes.solve.fs.F101:   10r 0.0000000e+00 1.14e+04 9.87e+02   2.1 1.38e+04    -  5.82e-03 7.14e-03f  1\n",
      "2024-06-13 01:10:00 [DEBUG] idaes.solve.fs.F101:   11r 0.0000000e+00 3.86e+03 1.82e+04   2.1 1.50e+04    -  6.75e-02 9.39e-03f  1\n",
      "2024-06-13 01:10:00 [DEBUG] idaes.solve.fs.F101:   12r 0.0000000e+00 7.66e+03 1.57e+04   2.1 1.49e+04    -  1.38e-01 6.19e-02f  1\n",
      "2024-06-13 01:10:00 [DEBUG] idaes.solve.fs.F101:   13r 0.0000000e+00 5.52e+03 4.41e+05   2.1 1.66e+04    -  9.89e-01 2.17e-01f  1\n",
      "2024-06-13 01:10:00 [DEBUG] idaes.solve.fs.F101:   14r 0.0000000e+00 5.08e+03 2.74e+05   2.1 8.92e+03    -  4.09e-01 7.03e-01f  1\n",
      "2024-06-13 01:10:00 [DEBUG] idaes.solve.fs.F101:   15r 0.0000000e+00 8.49e+02 1.61e+04   2.1 2.45e+03    -  1.00e+00 1.00e+00h  1\n",
      "2024-06-13 01:10:00 [DEBUG] idaes.solve.fs.F101:   16r 0.0000000e+00 2.02e+02 1.51e+03   1.4 8.14e+02    -  1.00e+00 1.00e+00f  1\n",
      "2024-06-13 01:10:00 [DEBUG] idaes.solve.fs.F101:   17r 0.0000000e+00 1.98e+03 1.02e+04   0.0 1.42e+04    -  4.35e-01 7.76e-01f  1\n",
      "2024-06-13 01:10:00 [DEBUG] idaes.solve.fs.F101:   18r 0.0000000e+00 2.09e+03 7.83e+04   0.0 1.17e+04  -4.0 6.75e-01 2.96e-01f  1\n",
      "2024-06-13 01:10:00 [DEBUG] idaes.solve.fs.F101:   19r 0.0000000e+00 2.07e+03 1.41e+05   0.0 5.29e+04  -4.5 5.18e-01 2.62e-02f  1\n",
      "2024-06-13 01:10:00 [DEBUG] idaes.solve.fs.F101: iter    objective    inf_pr   inf_du lg(mu)  ||d||  lg(rg) alpha_du alpha_pr  ls\n",
      "2024-06-13 01:10:00 [DEBUG] idaes.solve.fs.F101:   20r 0.0000000e+00 2.04e+03 1.09e+05   0.0 1.34e+04  -4.1 4.62e-01 1.46e-02f  1\n",
      "2024-06-13 01:10:00 [DEBUG] idaes.solve.fs.F101:   21r 0.0000000e+00 2.75e+03 1.17e+05   0.0 7.40e+04  -4.5 1.78e-01 1.00e-01f  1\n",
      "2024-06-13 01:10:00 [DEBUG] idaes.solve.fs.F101:   22r 0.0000000e+00 2.64e+03 1.02e+05   0.0 7.71e+03    -  1.00e+00 4.01e-02f  1\n",
      "2024-06-13 01:10:00 [DEBUG] idaes.solve.fs.F101:   23r 0.0000000e+00 1.74e+03 4.79e+04   0.0 5.82e+03    -  1.00e+00 3.42e-01h  1\n",
      "2024-06-13 01:10:00 [DEBUG] idaes.solve.fs.F101:   24r 0.0000000e+00 5.73e+00 1.94e+03   0.0 3.01e+03    -  1.00e+00 1.00e+00h  1\n",
      "2024-06-13 01:10:00 [DEBUG] idaes.solve.fs.F101:   25r 0.0000000e+00 4.01e+00 1.48e+00   0.0 6.91e+02    -  1.00e+00 1.00e+00h  1\n",
      "2024-06-13 01:10:00 [DEBUG] idaes.solve.fs.F101:   26r 0.0000000e+00 4.01e+00 4.91e+00  -2.1 6.47e+01    -  9.99e-01 9.50e-01f  1\n",
      "2024-06-13 01:10:00 [DEBUG] idaes.solve.fs.F101:   27r 0.0000000e+00 2.05e+02 1.02e+04  -2.1 4.37e+04    -  4.46e-01 2.68e-01f  1\n",
      "2024-06-13 01:10:00 [DEBUG] idaes.solve.fs.F101:   28r 0.0000000e+00 1.97e+02 1.52e+04  -2.1 2.89e+04    -  1.00e+00 3.71e-02f  1\n",
      "2024-06-13 01:10:00 [DEBUG] idaes.solve.fs.F101:   29r 0.0000000e+00 1.25e+01 2.46e+03  -2.1 9.65e+03    -  3.66e-01 1.00e+00f  1\n",
      "2024-06-13 01:10:00 [DEBUG] idaes.solve.fs.F101: iter    objective    inf_pr   inf_du lg(mu)  ||d||  lg(rg) alpha_du alpha_pr  ls\n",
      "2024-06-13 01:10:00 [DEBUG] idaes.solve.fs.F101:   30r 0.0000000e+00 7.76e+00 5.94e+01  -2.1 3.00e+04    -  1.00e+00 1.00e+00f  1\n",
      "2024-06-13 01:10:00 [DEBUG] idaes.solve.fs.F101:   31r 0.0000000e+00 2.81e+00 1.71e-01  -2.1 3.41e+03    -  1.00e+00 1.00e+00h  1\n",
      "2024-06-13 01:10:00 [DEBUG] idaes.solve.fs.F101:   32r 0.0000000e+00 2.81e+00 1.47e-01  -3.1 6.74e+02    -  1.00e+00 1.00e+00f  1\n",
      "2024-06-13 01:10:00 [DEBUG] idaes.solve.fs.F101:   33r 0.0000000e+00 7.73e+02 3.66e+03  -3.1 7.64e+04    -  5.69e-01 3.40e-01f  1\n",
      "2024-06-13 01:10:00 [DEBUG] idaes.solve.fs.F101:   34r 0.0000000e+00 7.72e+02 3.48e+03  -3.1 2.11e+04    -  4.18e-02 4.79e-04f  1\n",
      "2024-06-13 01:10:00 [DEBUG] idaes.solve.fs.F101:   35r 0.0000000e+00 7.72e+02 1.42e+03  -3.1 7.24e+04    -  1.00e+00 1.08e-04f  1\n",
      "2024-06-13 01:10:00 [DEBUG] idaes.solve.fs.F101:   36r 0.0000000e+00 2.71e+02 6.02e+02  -3.1 2.85e+04    -  6.11e-01 6.68e-01f  1\n",
      "2024-06-13 01:10:00 [DEBUG] idaes.solve.fs.F101:   37r 0.0000000e+00 2.70e+02 8.30e+02  -3.1 3.57e+04    -  1.00e+00 1.56e-03f  1\n",
      "2024-06-13 01:10:00 [DEBUG] idaes.solve.fs.F101:   38r 0.0000000e+00 1.10e+01 6.83e+02  -3.1 4.56e+03    -  2.52e-01 1.00e+00f  1\n",
      "2024-06-13 01:10:00 [DEBUG] idaes.solve.fs.F101:   39r 0.0000000e+00 1.07e+01 7.31e+02  -3.1 2.35e+04    -  1.00e+00 2.27e-02h  1\n",
      "2024-06-13 01:10:00 [DEBUG] idaes.solve.fs.F101: iter    objective    inf_pr   inf_du lg(mu)  ||d||  lg(rg) alpha_du alpha_pr  ls\n",
      "2024-06-13 01:10:00 [DEBUG] idaes.solve.fs.F101:   40r 0.0000000e+00 1.67e+00 3.76e+02  -3.1 9.28e+03    -  1.47e-01 1.00e+00h  1\n",
      "2024-06-13 01:10:00 [DEBUG] idaes.solve.fs.F101:   41r 0.0000000e+00 1.67e+00 3.75e+02  -3.1 1.18e+04    -  1.00e+00 1.83e-02h  1\n",
      "2024-06-13 01:10:00 [DEBUG] idaes.solve.fs.F101:   42r 0.0000000e+00 1.67e+00 3.82e-01  -3.1 1.14e+04    -  9.39e-01 1.00e+00h  1\n",
      "2024-06-13 01:10:00 [DEBUG] idaes.solve.fs.F101:   43r 0.0000000e+00 1.67e+00 3.32e+00  -3.1 1.00e+02    -  1.00e+00 4.92e-03h  1\n",
      "2024-06-13 01:10:00 [DEBUG] idaes.solve.fs.F101:   44r 0.0000000e+00 1.67e+00 7.40e-08  -3.1 9.81e+01    -  1.00e+00 1.00e+00f  1\n",
      "2024-06-13 01:10:00 [DEBUG] idaes.solve.fs.F101:   45r 0.0000000e+00 1.67e+00 3.60e+02  -7.0 8.72e+01    -  1.00e+00 7.43e-01f  1\n",
      "2024-06-13 01:10:00 [DEBUG] idaes.solve.fs.F101:   46r 0.0000000e+00 1.67e+00 1.47e+03  -7.0 1.00e+03  -5.0 6.36e-01 1.55e-01f  1\n",
      "2024-06-13 01:10:00 [DEBUG] idaes.solve.fs.F101:   47r 0.0000000e+00 4.55e+00 3.82e+02  -7.0 3.02e+03  -5.5 6.84e-01 7.42e-01f  1\n",
      "2024-06-13 01:10:00 [DEBUG] idaes.solve.fs.F101:   48r 0.0000000e+00 6.37e+01 8.58e+01  -7.0 9.03e+03  -6.0 1.00e+00 9.37e-01f  1\n",
      "2024-06-13 01:10:00 [DEBUG] idaes.solve.fs.F101:   49r 0.0000000e+00 5.82e+02 8.81e+01  -7.0 5.56e+06    -  1.69e-02 4.47e-03f  1\n",
      "2024-06-13 01:10:00 [DEBUG] idaes.solve.fs.F101: iter    objective    inf_pr   inf_du lg(mu)  ||d||  lg(rg) alpha_du alpha_pr  ls\n",
      "2024-06-13 01:10:00 [DEBUG] idaes.solve.fs.F101:   50r 0.0000000e+00 5.82e+02 8.81e+01  -7.0 5.14e+06    -  1.48e-01 4.01e-05f  1\n",
      "2024-06-13 01:10:00 [DEBUG] idaes.solve.fs.F101:   51r 0.0000000e+00 8.70e+02 8.92e+01  -7.0 5.13e+06    -  2.67e-02 4.18e-03f  1\n",
      "2024-06-13 01:10:00 [DEBUG] idaes.solve.fs.F101:   52r 0.0000000e+00 7.39e+03 1.23e+03  -7.0 4.93e+06    -  8.78e-01 2.22e-02f  1\n",
      "2024-06-13 01:10:00 [DEBUG] idaes.solve.fs.F101:   53r 0.0000000e+00 7.39e+03 9.78e+02  -7.0 1.80e+05    -  9.26e-01 6.00e-08h  1\n",
      "2024-06-13 01:10:00 [DEBUG] idaes.solve.fs.F101:   54r 0.0000000e+00 1.77e+02 3.42e+01  -7.0 6.99e+02    -  6.79e-01 1.00e+00h  1\n",
      "2024-06-13 01:10:00 [DEBUG] idaes.solve.fs.F101:   55r 0.0000000e+00 1.10e-01 4.85e-03  -7.0 6.08e+00    -  1.00e+00 1.00e+00h  1\n",
      "2024-06-13 01:10:00 [DEBUG] idaes.solve.fs.F101:   56r 0.0000000e+00 4.32e-08 3.89e-09  -7.0 3.12e-04    -  1.00e+00 1.00e+00h  1\n",
      "2024-06-13 01:10:00 [DEBUG] idaes.solve.fs.F101: \n",
      "2024-06-13 01:10:00 [DEBUG] idaes.solve.fs.F101: Number of Iterations....: 56\n",
      "2024-06-13 01:10:00 [DEBUG] idaes.solve.fs.F101: \n",
      "2024-06-13 01:10:00 [DEBUG] idaes.solve.fs.F101:                                    (scaled)                 (unscaled)\n",
      "2024-06-13 01:10:00 [DEBUG] idaes.solve.fs.F101: Objective...............:   0.0000000000000000e+00    0.0000000000000000e+00\n",
      "2024-06-13 01:10:00 [DEBUG] idaes.solve.fs.F101: Dual infeasibility......:   0.0000000000000000e+00    0.0000000000000000e+00\n",
      "2024-06-13 01:10:00 [DEBUG] idaes.solve.fs.F101: Constraint violation....:   1.1357172033153226e-10    4.3153704609721899e-08\n",
      "2024-06-13 01:10:00 [DEBUG] idaes.solve.fs.F101: Complementarity.........:   0.0000000000000000e+00    0.0000000000000000e+00\n",
      "2024-06-13 01:10:00 [DEBUG] idaes.solve.fs.F101: Overall NLP error.......:   1.1357172033153226e-10    4.3153704609721899e-08\n",
      "2024-06-13 01:10:00 [DEBUG] idaes.solve.fs.F101: \n",
      "2024-06-13 01:10:00 [DEBUG] idaes.solve.fs.F101: \n",
      "2024-06-13 01:10:00 [DEBUG] idaes.solve.fs.F101: Number of objective function evaluations             = 59\n",
      "2024-06-13 01:10:00 [DEBUG] idaes.solve.fs.F101: Number of objective gradient evaluations             = 6\n",
      "2024-06-13 01:10:00 [DEBUG] idaes.solve.fs.F101: Number of equality constraint evaluations            = 59\n",
      "2024-06-13 01:10:00 [DEBUG] idaes.solve.fs.F101: Number of inequality constraint evaluations          = 0\n",
      "2024-06-13 01:10:00 [DEBUG] idaes.solve.fs.F101: Number of equality constraint Jacobian evaluations   = 58\n",
      "2024-06-13 01:10:00 [DEBUG] idaes.solve.fs.F101: Number of inequality constraint Jacobian evaluations = 0\n",
      "2024-06-13 01:10:00 [DEBUG] idaes.solve.fs.F101: Number of Lagrangian Hessian evaluations             = 56\n",
      "2024-06-13 01:10:00 [DEBUG] idaes.solve.fs.F101: Total CPU secs in IPOPT (w/o function evaluations)   =      0.033\n",
      "2024-06-13 01:10:00 [DEBUG] idaes.solve.fs.F101: Total CPU secs in NLP function evaluations           =      0.000\n",
      "2024-06-13 01:10:00 [DEBUG] idaes.solve.fs.F101: \n",
      "2024-06-13 01:10:00 [DEBUG] idaes.solve.fs.F101: EXIT: Optimal Solution Found.\n",
      "2024-06-13 01:10:00 [INFO] idaes.init.fs.F101: Control volume initialization optimal - Optimal Solution Found.\n",
      "2024-06-13 01:10:00 [INFO] idaes.init.fs.F101: Step 2: sub-model initialization complete.\n",
      "2024-06-13 01:10:00 [INFO] idaes.init.fs.F101: Step 3: full model initialization optimal - Optimal Solution Found.\n",
      "2024-06-13 01:10:00 [INFO] idaes.init.fs.F101: Step 4: clean up completed.\n",
      "fs.S101\n",
      "2024-06-13 01:10:00 [INFO] idaes.init.fs.S101.mixed_state: Initialization Step 1 - Dew and bubble points calculation completed.\n",
      "2024-06-13 01:10:00 [INFO] idaes.init.fs.S101.mixed_state: Initialization Step 2 - Equilibrium temperature  calculation completed.\n",
      "2024-06-13 01:10:00 [INFO] idaes.init.fs.S101.mixed_state: Initialization Complete\n",
      "2024-06-13 01:10:00 [INFO] idaes.init.fs.S101.purge_state: Initialization Step 1 - Dew and bubble points calculation completed.\n",
      "2024-06-13 01:10:00 [INFO] idaes.init.fs.S101.purge_state: Initialization Step 2 - Equilibrium temperature  calculation completed.\n",
      "2024-06-13 01:10:00 [INFO] idaes.init.fs.S101.purge_state: Initialization Complete\n",
      "2024-06-13 01:10:00 [INFO] idaes.init.fs.S101.recycle_state: Initialization Step 1 - Dew and bubble points calculation completed.\n",
      "2024-06-13 01:10:00 [INFO] idaes.init.fs.S101.recycle_state: Initialization Step 2 - Equilibrium temperature  calculation completed.\n",
      "2024-06-13 01:10:00 [INFO] idaes.init.fs.S101.recycle_state: Initialization Complete\n",
      "2024-06-13 01:10:01 [DEBUG] idaes.solve.fs.S101: Ipopt 3.13.2: nlp_scaling_method=gradient-based\n",
      "2024-06-13 01:10:01 [DEBUG] idaes.solve.fs.S101: tol=1e-06\n",
      "2024-06-13 01:10:01 [DEBUG] idaes.solve.fs.S101: max_iter=200\n",
      "2024-06-13 01:10:01 [DEBUG] idaes.solve.fs.S101: \n",
      "2024-06-13 01:10:01 [DEBUG] idaes.solve.fs.S101: \n",
      "2024-06-13 01:10:01 [DEBUG] idaes.solve.fs.S101: ******************************************************************************\n",
      "2024-06-13 01:10:01 [DEBUG] idaes.solve.fs.S101: This program contains Ipopt, a library for large-scale nonlinear optimization.\n",
      "2024-06-13 01:10:01 [DEBUG] idaes.solve.fs.S101:  Ipopt is released as open source code under the Eclipse Public License (EPL).\n",
      "2024-06-13 01:10:01 [DEBUG] idaes.solve.fs.S101:          For more information visit http://projects.coin-or.org/Ipopt\n",
      "2024-06-13 01:10:01 [DEBUG] idaes.solve.fs.S101: \n",
      "2024-06-13 01:10:01 [DEBUG] idaes.solve.fs.S101: This version of Ipopt was compiled from source code available at\n",
      "2024-06-13 01:10:01 [DEBUG] idaes.solve.fs.S101:     https://github.com/IDAES/Ipopt as part of the Institute for the Design of\n",
      "2024-06-13 01:10:01 [DEBUG] idaes.solve.fs.S101:     Advanced Energy Systems Process Systems Engineering Framework (IDAES PSE\n",
      "2024-06-13 01:10:01 [DEBUG] idaes.solve.fs.S101:     Framework) Copyright (c) 2018-2019. See https://github.com/IDAES/idaes-pse.\n",
      "2024-06-13 01:10:01 [DEBUG] idaes.solve.fs.S101: \n",
      "2024-06-13 01:10:01 [DEBUG] idaes.solve.fs.S101: This version of Ipopt was compiled using HSL, a collection of Fortran codes\n",
      "2024-06-13 01:10:01 [DEBUG] idaes.solve.fs.S101:     for large-scale scientific computation.  All technical papers, sales and\n",
      "2024-06-13 01:10:01 [DEBUG] idaes.solve.fs.S101:     publicity material resulting from use of the HSL codes within IPOPT must\n",
      "2024-06-13 01:10:01 [DEBUG] idaes.solve.fs.S101:     contain the following acknowledgement:\n",
      "2024-06-13 01:10:01 [DEBUG] idaes.solve.fs.S101:         HSL, a collection of Fortran codes for large-scale scientific\n",
      "2024-06-13 01:10:01 [DEBUG] idaes.solve.fs.S101:         computation. See http://www.hsl.rl.ac.uk.\n",
      "2024-06-13 01:10:01 [DEBUG] idaes.solve.fs.S101: ******************************************************************************\n",
      "2024-06-13 01:10:01 [DEBUG] idaes.solve.fs.S101: \n",
      "2024-06-13 01:10:01 [DEBUG] idaes.solve.fs.S101: This is Ipopt version 3.13.2, running with linear solver ma27.\n",
      "2024-06-13 01:10:01 [DEBUG] idaes.solve.fs.S101: \n",
      "2024-06-13 01:10:01 [DEBUG] idaes.solve.fs.S101: Number of nonzeros in equality constraint Jacobian...:       29\n",
      "2024-06-13 01:10:01 [DEBUG] idaes.solve.fs.S101: Number of nonzeros in inequality constraint Jacobian.:        0\n",
      "2024-06-13 01:10:01 [DEBUG] idaes.solve.fs.S101: Number of nonzeros in Lagrangian Hessian.............:        0\n",
      "2024-06-13 01:10:01 [DEBUG] idaes.solve.fs.S101: \n",
      "2024-06-13 01:10:01 [DEBUG] idaes.solve.fs.S101: Total number of variables............................:       21\n",
      "2024-06-13 01:10:01 [DEBUG] idaes.solve.fs.S101:                      variables with only lower bounds:        0\n",
      "2024-06-13 01:10:01 [DEBUG] idaes.solve.fs.S101:                 variables with lower and upper bounds:       20\n",
      "2024-06-13 01:10:01 [DEBUG] idaes.solve.fs.S101:                      variables with only upper bounds:        0\n",
      "2024-06-13 01:10:01 [DEBUG] idaes.solve.fs.S101: Total number of equality constraints.................:       21\n",
      "2024-06-13 01:10:01 [DEBUG] idaes.solve.fs.S101: Total number of inequality constraints...............:        0\n",
      "2024-06-13 01:10:01 [DEBUG] idaes.solve.fs.S101:         inequality constraints with only lower bounds:        0\n",
      "2024-06-13 01:10:01 [DEBUG] idaes.solve.fs.S101:    inequality constraints with lower and upper bounds:        0\n",
      "2024-06-13 01:10:01 [DEBUG] idaes.solve.fs.S101:         inequality constraints with only upper bounds:        0\n",
      "2024-06-13 01:10:01 [DEBUG] idaes.solve.fs.S101: \n",
      "2024-06-13 01:10:01 [DEBUG] idaes.solve.fs.S101: iter    objective    inf_pr   inf_du lg(mu)  ||d||  lg(rg) alpha_du alpha_pr  ls\n",
      "2024-06-13 01:10:01 [DEBUG] idaes.solve.fs.S101:    0  0.0000000e+00 3.00e-01 0.00e+00  -1.0 0.00e+00    -  0.00e+00 0.00e+00   0\n",
      "2024-06-13 01:10:01 [DEBUG] idaes.solve.fs.S101:    1  0.0000000e+00 3.00e-03 1.14e-05  -1.0 3.00e-01    -  9.90e-01 9.90e-01h  1\n",
      "2024-06-13 01:10:01 [DEBUG] idaes.solve.fs.S101:    2  0.0000000e+00 2.96e-05 1.04e-01  -1.0 3.00e-03    -  9.90e-01 9.90e-01h  1\n",
      "2024-06-13 01:10:01 [DEBUG] idaes.solve.fs.S101:    3  0.0000000e+00 6.16e-23 8.47e+02  -1.0 2.96e-05    -  9.92e-01 1.00e+00h  1\n",
      "2024-06-13 01:10:01 [DEBUG] idaes.solve.fs.S101: \n",
      "2024-06-13 01:10:01 [DEBUG] idaes.solve.fs.S101: Number of Iterations....: 3\n",
      "2024-06-13 01:10:01 [DEBUG] idaes.solve.fs.S101: \n",
      "2024-06-13 01:10:01 [DEBUG] idaes.solve.fs.S101:                                    (scaled)                 (unscaled)\n",
      "2024-06-13 01:10:01 [DEBUG] idaes.solve.fs.S101: Objective...............:   0.0000000000000000e+00    0.0000000000000000e+00\n",
      "2024-06-13 01:10:01 [DEBUG] idaes.solve.fs.S101: Dual infeasibility......:   0.0000000000000000e+00    0.0000000000000000e+00\n",
      "2024-06-13 01:10:01 [DEBUG] idaes.solve.fs.S101: Constraint violation....:   6.1624955635200562e-23    6.1624955635200562e-23\n",
      "2024-06-13 01:10:01 [DEBUG] idaes.solve.fs.S101: Complementarity.........:   0.0000000000000000e+00    0.0000000000000000e+00\n",
      "2024-06-13 01:10:01 [DEBUG] idaes.solve.fs.S101: Overall NLP error.......:   6.1624955635200562e-23    6.1624955635200562e-23\n",
      "2024-06-13 01:10:01 [DEBUG] idaes.solve.fs.S101: \n",
      "2024-06-13 01:10:01 [DEBUG] idaes.solve.fs.S101: \n",
      "2024-06-13 01:10:01 [DEBUG] idaes.solve.fs.S101: Number of objective function evaluations             = 4\n",
      "2024-06-13 01:10:01 [DEBUG] idaes.solve.fs.S101: Number of objective gradient evaluations             = 4\n",
      "2024-06-13 01:10:01 [DEBUG] idaes.solve.fs.S101: Number of equality constraint evaluations            = 4\n",
      "2024-06-13 01:10:01 [DEBUG] idaes.solve.fs.S101: Number of inequality constraint evaluations          = 0\n",
      "2024-06-13 01:10:01 [DEBUG] idaes.solve.fs.S101: Number of equality constraint Jacobian evaluations   = 4\n",
      "2024-06-13 01:10:01 [DEBUG] idaes.solve.fs.S101: Number of inequality constraint Jacobian evaluations = 0\n",
      "2024-06-13 01:10:01 [DEBUG] idaes.solve.fs.S101: Number of Lagrangian Hessian evaluations             = 3\n",
      "2024-06-13 01:10:01 [DEBUG] idaes.solve.fs.S101: Total CPU secs in IPOPT (w/o function evaluations)   =      0.000\n",
      "2024-06-13 01:10:01 [DEBUG] idaes.solve.fs.S101: Total CPU secs in NLP function evaluations           =      0.000\n",
      "2024-06-13 01:10:01 [DEBUG] idaes.solve.fs.S101: \n",
      "2024-06-13 01:10:01 [DEBUG] idaes.solve.fs.S101: EXIT: Optimal Solution Found.\n",
      "2024-06-13 01:10:01 [INFO] idaes.init.fs.S101: Initialization Step 2 Complete: optimal - Optimal Solution Found\n",
      "fs.translator\n",
      "fs.C101\n",
      "2024-06-13 01:10:01 [INFO] idaes.init.fs.C101: Step 1: preparation complete.\n",
      "2024-06-13 01:10:01 [INFO] idaes.init.fs.C101.control_volume.properties_in: Initialization Step 1 - Dew and bubble points calculation completed.\n",
      "2024-06-13 01:10:01 [INFO] idaes.init.fs.C101.control_volume.properties_in: Initialization Step 2 - Equilibrium temperature  calculation completed.\n",
      "2024-06-13 01:10:01 [INFO] idaes.init.fs.C101.control_volume.properties_in: Initialization Complete\n",
      "2024-06-13 01:10:01 [INFO] idaes.init.fs.C101.control_volume.properties_out: Initialization Step 1 - Dew and bubble points calculation completed.\n",
      "2024-06-13 01:10:01 [INFO] idaes.init.fs.C101.control_volume.properties_out: Initialization Step 2 - Equilibrium temperature  calculation completed.\n",
      "2024-06-13 01:10:01 [INFO] idaes.init.fs.C101.control_volume.properties_out: Initialization Complete\n",
      "2024-06-13 01:10:01 [INFO] idaes.init.fs.C101.control_volume: Control volume properties initialization complete\n",
      "2024-06-13 01:10:01 [INFO] idaes.init.fs.C101.control_volume: Control volume reactions initialization complete\n",
      "2024-06-13 01:10:02 [DEBUG] idaes.solve.fs.C101: Ipopt 3.13.2: nlp_scaling_method=gradient-based\n",
      "2024-06-13 01:10:02 [DEBUG] idaes.solve.fs.C101: tol=1e-06\n",
      "2024-06-13 01:10:02 [DEBUG] idaes.solve.fs.C101: max_iter=200\n",
      "2024-06-13 01:10:02 [DEBUG] idaes.solve.fs.C101: \n",
      "2024-06-13 01:10:02 [DEBUG] idaes.solve.fs.C101: \n",
      "2024-06-13 01:10:02 [DEBUG] idaes.solve.fs.C101: ******************************************************************************\n",
      "2024-06-13 01:10:02 [DEBUG] idaes.solve.fs.C101: This program contains Ipopt, a library for large-scale nonlinear optimization.\n",
      "2024-06-13 01:10:02 [DEBUG] idaes.solve.fs.C101:  Ipopt is released as open source code under the Eclipse Public License (EPL).\n",
      "2024-06-13 01:10:02 [DEBUG] idaes.solve.fs.C101:          For more information visit http://projects.coin-or.org/Ipopt\n",
      "2024-06-13 01:10:02 [DEBUG] idaes.solve.fs.C101: \n",
      "2024-06-13 01:10:02 [DEBUG] idaes.solve.fs.C101: This version of Ipopt was compiled from source code available at\n",
      "2024-06-13 01:10:02 [DEBUG] idaes.solve.fs.C101:     https://github.com/IDAES/Ipopt as part of the Institute for the Design of\n",
      "2024-06-13 01:10:02 [DEBUG] idaes.solve.fs.C101:     Advanced Energy Systems Process Systems Engineering Framework (IDAES PSE\n",
      "2024-06-13 01:10:02 [DEBUG] idaes.solve.fs.C101:     Framework) Copyright (c) 2018-2019. See https://github.com/IDAES/idaes-pse.\n",
      "2024-06-13 01:10:02 [DEBUG] idaes.solve.fs.C101: \n",
      "2024-06-13 01:10:02 [DEBUG] idaes.solve.fs.C101: This version of Ipopt was compiled using HSL, a collection of Fortran codes\n",
      "2024-06-13 01:10:02 [DEBUG] idaes.solve.fs.C101:     for large-scale scientific computation.  All technical papers, sales and\n",
      "2024-06-13 01:10:02 [DEBUG] idaes.solve.fs.C101:     publicity material resulting from use of the HSL codes within IPOPT must\n",
      "2024-06-13 01:10:02 [DEBUG] idaes.solve.fs.C101:     contain the following acknowledgement:\n",
      "2024-06-13 01:10:02 [DEBUG] idaes.solve.fs.C101:         HSL, a collection of Fortran codes for large-scale scientific\n",
      "2024-06-13 01:10:02 [DEBUG] idaes.solve.fs.C101:         computation. See http://www.hsl.rl.ac.uk.\n",
      "2024-06-13 01:10:02 [DEBUG] idaes.solve.fs.C101: ******************************************************************************\n",
      "2024-06-13 01:10:02 [DEBUG] idaes.solve.fs.C101: \n",
      "2024-06-13 01:10:02 [DEBUG] idaes.solve.fs.C101: This is Ipopt version 3.13.2, running with linear solver ma27.\n",
      "2024-06-13 01:10:02 [DEBUG] idaes.solve.fs.C101: \n",
      "2024-06-13 01:10:02 [DEBUG] idaes.solve.fs.C101: Number of nonzeros in equality constraint Jacobian...:       74\n",
      "2024-06-13 01:10:02 [DEBUG] idaes.solve.fs.C101: Number of nonzeros in inequality constraint Jacobian.:        0\n",
      "2024-06-13 01:10:02 [DEBUG] idaes.solve.fs.C101: Number of nonzeros in Lagrangian Hessian.............:       63\n",
      "2024-06-13 01:10:02 [DEBUG] idaes.solve.fs.C101: \n",
      "2024-06-13 01:10:02 [DEBUG] idaes.solve.fs.C101: Total number of variables............................:       32\n",
      "2024-06-13 01:10:02 [DEBUG] idaes.solve.fs.C101:                      variables with only lower bounds:        0\n",
      "2024-06-13 01:10:02 [DEBUG] idaes.solve.fs.C101:                 variables with lower and upper bounds:        9\n",
      "2024-06-13 01:10:02 [DEBUG] idaes.solve.fs.C101:                      variables with only upper bounds:        0\n",
      "2024-06-13 01:10:02 [DEBUG] idaes.solve.fs.C101: Total number of equality constraints.................:       32\n",
      "2024-06-13 01:10:02 [DEBUG] idaes.solve.fs.C101: Total number of inequality constraints...............:        0\n",
      "2024-06-13 01:10:02 [DEBUG] idaes.solve.fs.C101:         inequality constraints with only lower bounds:        0\n",
      "2024-06-13 01:10:02 [DEBUG] idaes.solve.fs.C101:    inequality constraints with lower and upper bounds:        0\n",
      "2024-06-13 01:10:02 [DEBUG] idaes.solve.fs.C101:         inequality constraints with only upper bounds:        0\n",
      "2024-06-13 01:10:02 [DEBUG] idaes.solve.fs.C101: \n",
      "2024-06-13 01:10:02 [DEBUG] idaes.solve.fs.C101: iter    objective    inf_pr   inf_du lg(mu)  ||d||  lg(rg) alpha_du alpha_pr  ls\n",
      "2024-06-13 01:10:02 [DEBUG] idaes.solve.fs.C101:    0  0.0000000e+00 4.44e+05 0.00e+00  -1.0 0.00e+00    -  0.00e+00 0.00e+00   0\n",
      "2024-06-13 01:10:02 [DEBUG] idaes.solve.fs.C101:    1  0.0000000e+00 8.29e+04 7.10e+00  -1.0 7.05e+03    -  1.10e-01 9.90e-01h  1\n",
      "2024-06-13 01:10:02 [DEBUG] idaes.solve.fs.C101:    2  0.0000000e+00 8.37e+02 7.14e-02  -1.0 1.34e+04    -  9.91e-01 9.90e-01h  1\n",
      "2024-06-13 01:10:02 [DEBUG] idaes.solve.fs.C101:    3  0.0000000e+00 8.07e+00 1.93e+01  -1.0 1.96e+02    -  1.00e+00 9.90e-01h  1\n",
      "2024-06-13 01:10:02 [DEBUG] idaes.solve.fs.C101:    4  0.0000000e+00 3.14e-06 2.99e-11  -1.0 1.90e+00    -  1.00e+00 1.00e+00h  1\n",
      "2024-06-13 01:10:02 [DEBUG] idaes.solve.fs.C101: \n",
      "2024-06-13 01:10:02 [DEBUG] idaes.solve.fs.C101: Number of Iterations....: 4\n",
      "2024-06-13 01:10:02 [DEBUG] idaes.solve.fs.C101: \n",
      "2024-06-13 01:10:02 [DEBUG] idaes.solve.fs.C101:                                    (scaled)                 (unscaled)\n",
      "2024-06-13 01:10:02 [DEBUG] idaes.solve.fs.C101: Objective...............:   0.0000000000000000e+00    0.0000000000000000e+00\n",
      "2024-06-13 01:10:02 [DEBUG] idaes.solve.fs.C101: Dual infeasibility......:   0.0000000000000000e+00    0.0000000000000000e+00\n",
      "2024-06-13 01:10:02 [DEBUG] idaes.solve.fs.C101: Constraint violation....:   1.7402657822100996e-08    3.1382212850594726e-06\n",
      "2024-06-13 01:10:02 [DEBUG] idaes.solve.fs.C101: Complementarity.........:   0.0000000000000000e+00    0.0000000000000000e+00\n",
      "2024-06-13 01:10:02 [DEBUG] idaes.solve.fs.C101: Overall NLP error.......:   1.7402657822100996e-08    3.1382212850594726e-06\n",
      "2024-06-13 01:10:02 [DEBUG] idaes.solve.fs.C101: \n",
      "2024-06-13 01:10:02 [DEBUG] idaes.solve.fs.C101: \n",
      "2024-06-13 01:10:02 [DEBUG] idaes.solve.fs.C101: Number of objective function evaluations             = 5\n",
      "2024-06-13 01:10:02 [DEBUG] idaes.solve.fs.C101: Number of objective gradient evaluations             = 5\n",
      "2024-06-13 01:10:02 [DEBUG] idaes.solve.fs.C101: Number of equality constraint evaluations            = 5\n",
      "2024-06-13 01:10:02 [DEBUG] idaes.solve.fs.C101: Number of inequality constraint evaluations          = 0\n",
      "2024-06-13 01:10:02 [DEBUG] idaes.solve.fs.C101: Number of equality constraint Jacobian evaluations   = 5\n",
      "2024-06-13 01:10:02 [DEBUG] idaes.solve.fs.C101: Number of inequality constraint Jacobian evaluations = 0\n",
      "2024-06-13 01:10:02 [DEBUG] idaes.solve.fs.C101: Number of Lagrangian Hessian evaluations             = 4\n",
      "2024-06-13 01:10:02 [DEBUG] idaes.solve.fs.C101: Total CPU secs in IPOPT (w/o function evaluations)   =      0.000\n",
      "2024-06-13 01:10:02 [DEBUG] idaes.solve.fs.C101: Total CPU secs in NLP function evaluations           =      0.000\n",
      "2024-06-13 01:10:02 [DEBUG] idaes.solve.fs.C101: \n",
      "2024-06-13 01:10:02 [DEBUG] idaes.solve.fs.C101: EXIT: Optimal Solution Found.\n",
      "2024-06-13 01:10:02 [INFO] idaes.init.fs.C101: Control volume initialization optimal - Optimal Solution Found.\n",
      "2024-06-13 01:10:02 [INFO] idaes.init.fs.C101: Step 2: sub-model initialization complete.\n",
      "2024-06-13 01:10:02 [INFO] idaes.init.fs.C101: Step 3: full model initialization optimal - Optimal Solution Found.\n",
      "2024-06-13 01:10:02 [INFO] idaes.init.fs.C101: Step 4: clean up completed.\n",
      "fs.H102\n",
      "2024-06-13 01:10:02 [INFO] idaes.init.fs.H102: Step 1: preparation complete.\n",
      "2024-06-13 01:10:02 [INFO] idaes.init.fs.H102.control_volume.properties_in: Initialization Step 1 optimal - Optimal Solution Found.\n",
      "2024-06-13 01:10:02 [INFO] idaes.init.fs.H102.control_volume.properties_in: Initialization Step 2 optimal - Optimal Solution Found.\n",
      "2024-06-13 01:10:02 [INFO] idaes.init.fs.H102.control_volume.properties_in: Initialization Step 3 optimal - Optimal Solution Found.\n",
      "2024-06-13 01:10:03 [INFO] idaes.init.fs.H102.control_volume.properties_in: Initialization Step 4 optimal - Optimal Solution Found.\n",
      "2024-06-13 01:10:03 [INFO] idaes.init.fs.H102.control_volume.properties_in: Initialization Step 5 optimal - Optimal Solution Found.\n",
      "2024-06-13 01:10:03 [INFO] idaes.init.fs.H102.control_volume.properties_out: Initialization Step 1 optimal - Optimal Solution Found.\n",
      "2024-06-13 01:10:03 [INFO] idaes.init.fs.H102.control_volume.properties_out: Initialization Step 2 optimal - Optimal Solution Found.\n",
      "2024-06-13 01:10:03 [INFO] idaes.init.fs.H102.control_volume.properties_out: Initialization Step 3 optimal - Optimal Solution Found.\n",
      "2024-06-13 01:10:03 [INFO] idaes.init.fs.H102.control_volume.properties_out: Initialization Step 4 optimal - Optimal Solution Found.\n",
      "2024-06-13 01:10:04 [INFO] idaes.init.fs.H102.control_volume.properties_out: Initialization Step 5 optimal - Optimal Solution Found.\n",
      "2024-06-13 01:10:04 [INFO] idaes.init.fs.H102.control_volume: Control volume properties initialization complete\n",
      "2024-06-13 01:10:04 [INFO] idaes.init.fs.H102.control_volume: Control volume reactions initialization complete\n",
      "2024-06-13 01:10:04 [DEBUG] idaes.solve.fs.H102: WARNING: model contains export suffix 'scaling_factor' that contains 7\n",
      "2024-06-13 01:10:04 [DEBUG] idaes.solve.fs.H102: component keys that are not exported as part of the NL file.  Skipping.\n",
      "2024-06-13 01:10:04 [DEBUG] idaes.solve.fs.H102: Ipopt 3.13.2: nlp_scaling_method=gradient-based\n",
      "2024-06-13 01:10:04 [DEBUG] idaes.solve.fs.H102: tol=1e-06\n",
      "2024-06-13 01:10:04 [DEBUG] idaes.solve.fs.H102: max_iter=200\n",
      "2024-06-13 01:10:04 [DEBUG] idaes.solve.fs.H102: \n",
      "2024-06-13 01:10:04 [DEBUG] idaes.solve.fs.H102: \n",
      "2024-06-13 01:10:04 [DEBUG] idaes.solve.fs.H102: ******************************************************************************\n",
      "2024-06-13 01:10:04 [DEBUG] idaes.solve.fs.H102: This program contains Ipopt, a library for large-scale nonlinear optimization.\n",
      "2024-06-13 01:10:04 [DEBUG] idaes.solve.fs.H102:  Ipopt is released as open source code under the Eclipse Public License (EPL).\n",
      "2024-06-13 01:10:04 [DEBUG] idaes.solve.fs.H102:          For more information visit http://projects.coin-or.org/Ipopt\n",
      "2024-06-13 01:10:04 [DEBUG] idaes.solve.fs.H102: \n",
      "2024-06-13 01:10:04 [DEBUG] idaes.solve.fs.H102: This version of Ipopt was compiled from source code available at\n",
      "2024-06-13 01:10:04 [DEBUG] idaes.solve.fs.H102:     https://github.com/IDAES/Ipopt as part of the Institute for the Design of\n",
      "2024-06-13 01:10:04 [DEBUG] idaes.solve.fs.H102:     Advanced Energy Systems Process Systems Engineering Framework (IDAES PSE\n",
      "2024-06-13 01:10:04 [DEBUG] idaes.solve.fs.H102:     Framework) Copyright (c) 2018-2019. See https://github.com/IDAES/idaes-pse.\n",
      "2024-06-13 01:10:04 [DEBUG] idaes.solve.fs.H102: \n",
      "2024-06-13 01:10:04 [DEBUG] idaes.solve.fs.H102: This version of Ipopt was compiled using HSL, a collection of Fortran codes\n",
      "2024-06-13 01:10:04 [DEBUG] idaes.solve.fs.H102:     for large-scale scientific computation.  All technical papers, sales and\n",
      "2024-06-13 01:10:04 [DEBUG] idaes.solve.fs.H102:     publicity material resulting from use of the HSL codes within IPOPT must\n",
      "2024-06-13 01:10:04 [DEBUG] idaes.solve.fs.H102:     contain the following acknowledgement:\n",
      "2024-06-13 01:10:04 [DEBUG] idaes.solve.fs.H102:         HSL, a collection of Fortran codes for large-scale scientific\n",
      "2024-06-13 01:10:04 [DEBUG] idaes.solve.fs.H102:         computation. See http://www.hsl.rl.ac.uk.\n",
      "2024-06-13 01:10:04 [DEBUG] idaes.solve.fs.H102: ******************************************************************************\n",
      "2024-06-13 01:10:04 [DEBUG] idaes.solve.fs.H102: \n",
      "2024-06-13 01:10:04 [DEBUG] idaes.solve.fs.H102: This is Ipopt version 3.13.2, running with linear solver ma27.\n",
      "2024-06-13 01:10:04 [DEBUG] idaes.solve.fs.H102: \n",
      "2024-06-13 01:10:04 [DEBUG] idaes.solve.fs.H102: Number of nonzeros in equality constraint Jacobian...:      131\n",
      "2024-06-13 01:10:04 [DEBUG] idaes.solve.fs.H102: Number of nonzeros in inequality constraint Jacobian.:        0\n",
      "2024-06-13 01:10:04 [DEBUG] idaes.solve.fs.H102: Number of nonzeros in Lagrangian Hessian.............:       70\n",
      "2024-06-13 01:10:04 [DEBUG] idaes.solve.fs.H102: \n",
      "2024-06-13 01:10:04 [DEBUG] idaes.solve.fs.H102: Total number of variables............................:       41\n",
      "2024-06-13 01:10:04 [DEBUG] idaes.solve.fs.H102:                      variables with only lower bounds:        2\n",
      "2024-06-13 01:10:04 [DEBUG] idaes.solve.fs.H102:                 variables with lower and upper bounds:       10\n",
      "2024-06-13 01:10:04 [DEBUG] idaes.solve.fs.H102:                      variables with only upper bounds:        0\n",
      "2024-06-13 01:10:04 [DEBUG] idaes.solve.fs.H102: Total number of equality constraints.................:       41\n",
      "2024-06-13 01:10:04 [DEBUG] idaes.solve.fs.H102: Total number of inequality constraints...............:        0\n",
      "2024-06-13 01:10:04 [DEBUG] idaes.solve.fs.H102:         inequality constraints with only lower bounds:        0\n",
      "2024-06-13 01:10:04 [DEBUG] idaes.solve.fs.H102:    inequality constraints with lower and upper bounds:        0\n",
      "2024-06-13 01:10:04 [DEBUG] idaes.solve.fs.H102:         inequality constraints with only upper bounds:        0\n",
      "2024-06-13 01:10:04 [DEBUG] idaes.solve.fs.H102: \n",
      "2024-06-13 01:10:04 [DEBUG] idaes.solve.fs.H102: iter    objective    inf_pr   inf_du lg(mu)  ||d||  lg(rg) alpha_du alpha_pr  ls\n",
      "2024-06-13 01:10:04 [DEBUG] idaes.solve.fs.H102:    0  0.0000000e+00 6.31e+02 1.00e+00  -1.0 0.00e+00    -  0.00e+00 0.00e+00   0\n",
      "2024-06-13 01:10:04 [DEBUG] idaes.solve.fs.H102:    1  0.0000000e+00 1.17e+03 8.86e-01  -1.0 6.87e+04    -  6.69e-01 1.00e+00h  1\n",
      "2024-06-13 01:10:04 [DEBUG] idaes.solve.fs.H102:    2  0.0000000e+00 1.09e+04 1.39e+00  -1.0 7.42e+04    -  8.60e-01 1.00e+00H  1\n",
      "2024-06-13 01:10:04 [DEBUG] idaes.solve.fs.H102:    3  0.0000000e+00 4.84e+01 1.74e-01  -1.0 7.48e+03    -  9.90e-01 1.00e+00h  1\n",
      "2024-06-13 01:10:04 [DEBUG] idaes.solve.fs.H102:    4  0.0000000e+00 1.23e-01 4.13e-03  -1.0 1.49e+03    -  1.00e+00 1.00e+00h  1\n",
      "2024-06-13 01:10:04 [DEBUG] idaes.solve.fs.H102:    5  0.0000000e+00 9.81e-09 9.64e-06  -2.5 6.44e-02    -  1.00e+00 1.00e+00h  1\n",
      "2024-06-13 01:10:04 [DEBUG] idaes.solve.fs.H102: \n",
      "2024-06-13 01:10:04 [DEBUG] idaes.solve.fs.H102: Number of Iterations....: 5\n",
      "2024-06-13 01:10:04 [DEBUG] idaes.solve.fs.H102: \n",
      "2024-06-13 01:10:04 [DEBUG] idaes.solve.fs.H102:                                    (scaled)                 (unscaled)\n",
      "2024-06-13 01:10:04 [DEBUG] idaes.solve.fs.H102: Objective...............:   0.0000000000000000e+00    0.0000000000000000e+00\n",
      "2024-06-13 01:10:04 [DEBUG] idaes.solve.fs.H102: Dual infeasibility......:   0.0000000000000000e+00    0.0000000000000000e+00\n",
      "2024-06-13 01:10:04 [DEBUG] idaes.solve.fs.H102: Constraint violation....:   1.9138878976013418e-10    9.8116288427263498e-09\n",
      "2024-06-13 01:10:04 [DEBUG] idaes.solve.fs.H102: Complementarity.........:   0.0000000000000000e+00    0.0000000000000000e+00\n",
      "2024-06-13 01:10:04 [DEBUG] idaes.solve.fs.H102: Overall NLP error.......:   1.9138878976013418e-10    9.8116288427263498e-09\n",
      "2024-06-13 01:10:04 [DEBUG] idaes.solve.fs.H102: \n",
      "2024-06-13 01:10:04 [DEBUG] idaes.solve.fs.H102: \n",
      "2024-06-13 01:10:04 [DEBUG] idaes.solve.fs.H102: Number of objective function evaluations             = 7\n",
      "2024-06-13 01:10:04 [DEBUG] idaes.solve.fs.H102: Number of objective gradient evaluations             = 6\n",
      "2024-06-13 01:10:04 [DEBUG] idaes.solve.fs.H102: Number of equality constraint evaluations            = 7\n",
      "2024-06-13 01:10:04 [DEBUG] idaes.solve.fs.H102: Number of inequality constraint evaluations          = 0\n",
      "2024-06-13 01:10:04 [DEBUG] idaes.solve.fs.H102: Number of equality constraint Jacobian evaluations   = 6\n",
      "2024-06-13 01:10:04 [DEBUG] idaes.solve.fs.H102: Number of inequality constraint Jacobian evaluations = 0\n",
      "2024-06-13 01:10:04 [DEBUG] idaes.solve.fs.H102: Number of Lagrangian Hessian evaluations             = 5\n",
      "2024-06-13 01:10:04 [DEBUG] idaes.solve.fs.H102: Total CPU secs in IPOPT (w/o function evaluations)   =      0.000\n",
      "2024-06-13 01:10:04 [DEBUG] idaes.solve.fs.H102: Total CPU secs in NLP function evaluations           =      0.000\n",
      "2024-06-13 01:10:04 [DEBUG] idaes.solve.fs.H102: \n",
      "2024-06-13 01:10:04 [DEBUG] idaes.solve.fs.H102: EXIT: Optimal Solution Found.\n",
      "2024-06-13 01:10:04 [INFO] idaes.init.fs.H102: Control volume initialization optimal - Optimal Solution Found.\n",
      "2024-06-13 01:10:04 [INFO] idaes.init.fs.H102: Step 2: sub-model initialization complete.\n",
      "2024-06-13 01:10:04 [INFO] idaes.init.fs.H102: Step 3: full model initialization optimal - Optimal Solution Found.\n",
      "2024-06-13 01:10:04 [INFO] idaes.init.fs.H102: Step 4: clean up completed.\n",
      "fs.M101\n",
      "2024-06-13 01:10:04 [INFO] idaes.init.fs.M101.toluene_feed_state: Initialization Step 1 - Dew and bubble points calculation completed.\n",
      "2024-06-13 01:10:04 [INFO] idaes.init.fs.M101.toluene_feed_state: Initialization Step 2 - Equilibrium temperature  calculation completed.\n",
      "2024-06-13 01:10:04 [DEBUG] idaes.solve.fs.M101.toluene_feed_state: Ipopt 3.13.2: nlp_scaling_method=gradient-based\n",
      "2024-06-13 01:10:04 [DEBUG] idaes.solve.fs.M101.toluene_feed_state: tol=1e-06\n",
      "2024-06-13 01:10:04 [DEBUG] idaes.solve.fs.M101.toluene_feed_state: max_iter=200\n",
      "2024-06-13 01:10:04 [DEBUG] idaes.solve.fs.M101.toluene_feed_state: \n",
      "2024-06-13 01:10:04 [DEBUG] idaes.solve.fs.M101.toluene_feed_state: \n",
      "2024-06-13 01:10:04 [DEBUG] idaes.solve.fs.M101.toluene_feed_state: ******************************************************************************\n",
      "2024-06-13 01:10:04 [DEBUG] idaes.solve.fs.M101.toluene_feed_state: This program contains Ipopt, a library for large-scale nonlinear optimization.\n",
      "2024-06-13 01:10:04 [DEBUG] idaes.solve.fs.M101.toluene_feed_state:  Ipopt is released as open source code under the Eclipse Public License (EPL).\n",
      "2024-06-13 01:10:04 [DEBUG] idaes.solve.fs.M101.toluene_feed_state:          For more information visit http://projects.coin-or.org/Ipopt\n",
      "2024-06-13 01:10:04 [DEBUG] idaes.solve.fs.M101.toluene_feed_state: \n",
      "2024-06-13 01:10:04 [DEBUG] idaes.solve.fs.M101.toluene_feed_state: This version of Ipopt was compiled from source code available at\n",
      "2024-06-13 01:10:04 [DEBUG] idaes.solve.fs.M101.toluene_feed_state:     https://github.com/IDAES/Ipopt as part of the Institute for the Design of\n",
      "2024-06-13 01:10:04 [DEBUG] idaes.solve.fs.M101.toluene_feed_state:     Advanced Energy Systems Process Systems Engineering Framework (IDAES PSE\n",
      "2024-06-13 01:10:04 [DEBUG] idaes.solve.fs.M101.toluene_feed_state:     Framework) Copyright (c) 2018-2019. See https://github.com/IDAES/idaes-pse.\n",
      "2024-06-13 01:10:04 [DEBUG] idaes.solve.fs.M101.toluene_feed_state: \n",
      "2024-06-13 01:10:04 [DEBUG] idaes.solve.fs.M101.toluene_feed_state: This version of Ipopt was compiled using HSL, a collection of Fortran codes\n",
      "2024-06-13 01:10:04 [DEBUG] idaes.solve.fs.M101.toluene_feed_state:     for large-scale scientific computation.  All technical papers, sales and\n",
      "2024-06-13 01:10:04 [DEBUG] idaes.solve.fs.M101.toluene_feed_state:     publicity material resulting from use of the HSL codes within IPOPT must\n",
      "2024-06-13 01:10:04 [DEBUG] idaes.solve.fs.M101.toluene_feed_state:     contain the following acknowledgement:\n",
      "2024-06-13 01:10:04 [DEBUG] idaes.solve.fs.M101.toluene_feed_state:         HSL, a collection of Fortran codes for large-scale scientific\n",
      "2024-06-13 01:10:04 [DEBUG] idaes.solve.fs.M101.toluene_feed_state:         computation. See http://www.hsl.rl.ac.uk.\n",
      "2024-06-13 01:10:04 [DEBUG] idaes.solve.fs.M101.toluene_feed_state: ******************************************************************************\n",
      "2024-06-13 01:10:04 [DEBUG] idaes.solve.fs.M101.toluene_feed_state: \n",
      "2024-06-13 01:10:04 [DEBUG] idaes.solve.fs.M101.toluene_feed_state: This is Ipopt version 3.13.2, running with linear solver ma27.\n",
      "2024-06-13 01:10:04 [DEBUG] idaes.solve.fs.M101.toluene_feed_state: \n",
      "2024-06-13 01:10:04 [DEBUG] idaes.solve.fs.M101.toluene_feed_state: Number of nonzeros in equality constraint Jacobian...:       18\n",
      "2024-06-13 01:10:04 [DEBUG] idaes.solve.fs.M101.toluene_feed_state: Number of nonzeros in inequality constraint Jacobian.:        0\n",
      "2024-06-13 01:10:04 [DEBUG] idaes.solve.fs.M101.toluene_feed_state: Number of nonzeros in Lagrangian Hessian.............:        0\n",
      "2024-06-13 01:10:04 [DEBUG] idaes.solve.fs.M101.toluene_feed_state: \n",
      "2024-06-13 01:10:04 [DEBUG] idaes.solve.fs.M101.toluene_feed_state: Total number of variables............................:       10\n",
      "2024-06-13 01:10:04 [DEBUG] idaes.solve.fs.M101.toluene_feed_state:                      variables with only lower bounds:        0\n",
      "2024-06-13 01:10:04 [DEBUG] idaes.solve.fs.M101.toluene_feed_state:                 variables with lower and upper bounds:        0\n",
      "2024-06-13 01:10:04 [DEBUG] idaes.solve.fs.M101.toluene_feed_state:                      variables with only upper bounds:        0\n",
      "2024-06-13 01:10:04 [DEBUG] idaes.solve.fs.M101.toluene_feed_state: Total number of equality constraints.................:       10\n",
      "2024-06-13 01:10:04 [DEBUG] idaes.solve.fs.M101.toluene_feed_state: Total number of inequality constraints...............:        0\n",
      "2024-06-13 01:10:04 [DEBUG] idaes.solve.fs.M101.toluene_feed_state:         inequality constraints with only lower bounds:        0\n",
      "2024-06-13 01:10:04 [DEBUG] idaes.solve.fs.M101.toluene_feed_state:    inequality constraints with lower and upper bounds:        0\n",
      "2024-06-13 01:10:04 [DEBUG] idaes.solve.fs.M101.toluene_feed_state:         inequality constraints with only upper bounds:        0\n",
      "2024-06-13 01:10:04 [DEBUG] idaes.solve.fs.M101.toluene_feed_state: \n",
      "2024-06-13 01:10:04 [DEBUG] idaes.solve.fs.M101.toluene_feed_state: iter    objective    inf_pr   inf_du lg(mu)  ||d||  lg(rg) alpha_du alpha_pr  ls\n",
      "2024-06-13 01:10:04 [DEBUG] idaes.solve.fs.M101.toluene_feed_state:    0  0.0000000e+00 7.00e+08 0.00e+00  -1.0 0.00e+00    -  0.00e+00 0.00e+00   0\n",
      "2024-06-13 01:10:04 [DEBUG] idaes.solve.fs.M101.toluene_feed_state:    1  0.0000000e+00 1.05e-07 0.00e+00  -1.0 7.00e+05    -  1.00e+00 1.00e+00h  1\n",
      "2024-06-13 01:10:04 [DEBUG] idaes.solve.fs.M101.toluene_feed_state: \n",
      "2024-06-13 01:10:04 [DEBUG] idaes.solve.fs.M101.toluene_feed_state: Number of Iterations....: 1\n",
      "2024-06-13 01:10:04 [DEBUG] idaes.solve.fs.M101.toluene_feed_state: \n",
      "2024-06-13 01:10:04 [DEBUG] idaes.solve.fs.M101.toluene_feed_state:                                    (scaled)                 (unscaled)\n",
      "2024-06-13 01:10:04 [DEBUG] idaes.solve.fs.M101.toluene_feed_state: Objective...............:   0.0000000000000000e+00    0.0000000000000000e+00\n",
      "2024-06-13 01:10:04 [DEBUG] idaes.solve.fs.M101.toluene_feed_state: Dual infeasibility......:   0.0000000000000000e+00    0.0000000000000000e+00\n",
      "2024-06-13 01:10:04 [DEBUG] idaes.solve.fs.M101.toluene_feed_state: Constraint violation....:   1.0512303560972215e-08    1.0512303560972215e-07\n",
      "2024-06-13 01:10:04 [DEBUG] idaes.solve.fs.M101.toluene_feed_state: Complementarity.........:   0.0000000000000000e+00    0.0000000000000000e+00\n",
      "2024-06-13 01:10:04 [DEBUG] idaes.solve.fs.M101.toluene_feed_state: Overall NLP error.......:   1.0512303560972215e-08    1.0512303560972215e-07\n",
      "2024-06-13 01:10:04 [DEBUG] idaes.solve.fs.M101.toluene_feed_state: \n",
      "2024-06-13 01:10:04 [DEBUG] idaes.solve.fs.M101.toluene_feed_state: \n",
      "2024-06-13 01:10:04 [DEBUG] idaes.solve.fs.M101.toluene_feed_state: Number of objective function evaluations             = 2\n",
      "2024-06-13 01:10:04 [DEBUG] idaes.solve.fs.M101.toluene_feed_state: Number of objective gradient evaluations             = 2\n",
      "2024-06-13 01:10:04 [DEBUG] idaes.solve.fs.M101.toluene_feed_state: Number of equality constraint evaluations            = 2\n",
      "2024-06-13 01:10:04 [DEBUG] idaes.solve.fs.M101.toluene_feed_state: Number of inequality constraint evaluations          = 0\n",
      "2024-06-13 01:10:04 [DEBUG] idaes.solve.fs.M101.toluene_feed_state: Number of equality constraint Jacobian evaluations   = 2\n",
      "2024-06-13 01:10:04 [DEBUG] idaes.solve.fs.M101.toluene_feed_state: Number of inequality constraint Jacobian evaluations = 0\n",
      "2024-06-13 01:10:04 [DEBUG] idaes.solve.fs.M101.toluene_feed_state: Number of Lagrangian Hessian evaluations             = 1\n",
      "2024-06-13 01:10:04 [DEBUG] idaes.solve.fs.M101.toluene_feed_state: Total CPU secs in IPOPT (w/o function evaluations)   =      0.000\n",
      "2024-06-13 01:10:04 [DEBUG] idaes.solve.fs.M101.toluene_feed_state: Total CPU secs in NLP function evaluations           =      0.000\n",
      "2024-06-13 01:10:04 [DEBUG] idaes.solve.fs.M101.toluene_feed_state: \n",
      "2024-06-13 01:10:04 [DEBUG] idaes.solve.fs.M101.toluene_feed_state: EXIT: Optimal Solution Found.\n",
      "2024-06-13 01:10:04 [INFO] idaes.init.fs.M101.toluene_feed_state: Initialization Complete\n",
      "2024-06-13 01:10:04 [INFO] idaes.init.fs.M101.hydrogen_feed_state: Initialization Step 1 - Dew and bubble points calculation completed.\n",
      "2024-06-13 01:10:04 [INFO] idaes.init.fs.M101.hydrogen_feed_state: Initialization Step 2 - Equilibrium temperature  calculation completed.\n",
      "2024-06-13 01:10:04 [DEBUG] idaes.solve.fs.M101.hydrogen_feed_state: Ipopt 3.13.2: nlp_scaling_method=gradient-based\n",
      "2024-06-13 01:10:04 [DEBUG] idaes.solve.fs.M101.hydrogen_feed_state: tol=1e-06\n",
      "2024-06-13 01:10:04 [DEBUG] idaes.solve.fs.M101.hydrogen_feed_state: max_iter=200\n",
      "2024-06-13 01:10:04 [DEBUG] idaes.solve.fs.M101.hydrogen_feed_state: \n",
      "2024-06-13 01:10:04 [DEBUG] idaes.solve.fs.M101.hydrogen_feed_state: \n",
      "2024-06-13 01:10:04 [DEBUG] idaes.solve.fs.M101.hydrogen_feed_state: ******************************************************************************\n",
      "2024-06-13 01:10:04 [DEBUG] idaes.solve.fs.M101.hydrogen_feed_state: This program contains Ipopt, a library for large-scale nonlinear optimization.\n",
      "2024-06-13 01:10:04 [DEBUG] idaes.solve.fs.M101.hydrogen_feed_state:  Ipopt is released as open source code under the Eclipse Public License (EPL).\n",
      "2024-06-13 01:10:04 [DEBUG] idaes.solve.fs.M101.hydrogen_feed_state:          For more information visit http://projects.coin-or.org/Ipopt\n",
      "2024-06-13 01:10:04 [DEBUG] idaes.solve.fs.M101.hydrogen_feed_state: \n",
      "2024-06-13 01:10:04 [DEBUG] idaes.solve.fs.M101.hydrogen_feed_state: This version of Ipopt was compiled from source code available at\n",
      "2024-06-13 01:10:04 [DEBUG] idaes.solve.fs.M101.hydrogen_feed_state:     https://github.com/IDAES/Ipopt as part of the Institute for the Design of\n",
      "2024-06-13 01:10:04 [DEBUG] idaes.solve.fs.M101.hydrogen_feed_state:     Advanced Energy Systems Process Systems Engineering Framework (IDAES PSE\n",
      "2024-06-13 01:10:04 [DEBUG] idaes.solve.fs.M101.hydrogen_feed_state:     Framework) Copyright (c) 2018-2019. See https://github.com/IDAES/idaes-pse.\n",
      "2024-06-13 01:10:04 [DEBUG] idaes.solve.fs.M101.hydrogen_feed_state: \n",
      "2024-06-13 01:10:04 [DEBUG] idaes.solve.fs.M101.hydrogen_feed_state: This version of Ipopt was compiled using HSL, a collection of Fortran codes\n",
      "2024-06-13 01:10:04 [DEBUG] idaes.solve.fs.M101.hydrogen_feed_state:     for large-scale scientific computation.  All technical papers, sales and\n",
      "2024-06-13 01:10:04 [DEBUG] idaes.solve.fs.M101.hydrogen_feed_state:     publicity material resulting from use of the HSL codes within IPOPT must\n",
      "2024-06-13 01:10:04 [DEBUG] idaes.solve.fs.M101.hydrogen_feed_state:     contain the following acknowledgement:\n",
      "2024-06-13 01:10:04 [DEBUG] idaes.solve.fs.M101.hydrogen_feed_state:         HSL, a collection of Fortran codes for large-scale scientific\n",
      "2024-06-13 01:10:04 [DEBUG] idaes.solve.fs.M101.hydrogen_feed_state:         computation. See http://www.hsl.rl.ac.uk.\n",
      "2024-06-13 01:10:04 [DEBUG] idaes.solve.fs.M101.hydrogen_feed_state: ******************************************************************************\n",
      "2024-06-13 01:10:04 [DEBUG] idaes.solve.fs.M101.hydrogen_feed_state: \n",
      "2024-06-13 01:10:04 [DEBUG] idaes.solve.fs.M101.hydrogen_feed_state: This is Ipopt version 3.13.2, running with linear solver ma27.\n",
      "2024-06-13 01:10:04 [DEBUG] idaes.solve.fs.M101.hydrogen_feed_state: \n",
      "2024-06-13 01:10:04 [DEBUG] idaes.solve.fs.M101.hydrogen_feed_state: Number of nonzeros in equality constraint Jacobian...:       18\n",
      "2024-06-13 01:10:04 [DEBUG] idaes.solve.fs.M101.hydrogen_feed_state: Number of nonzeros in inequality constraint Jacobian.:        0\n",
      "2024-06-13 01:10:04 [DEBUG] idaes.solve.fs.M101.hydrogen_feed_state: Number of nonzeros in Lagrangian Hessian.............:        0\n",
      "2024-06-13 01:10:04 [DEBUG] idaes.solve.fs.M101.hydrogen_feed_state: \n",
      "2024-06-13 01:10:04 [DEBUG] idaes.solve.fs.M101.hydrogen_feed_state: Total number of variables............................:       10\n",
      "2024-06-13 01:10:04 [DEBUG] idaes.solve.fs.M101.hydrogen_feed_state:                      variables with only lower bounds:        0\n",
      "2024-06-13 01:10:04 [DEBUG] idaes.solve.fs.M101.hydrogen_feed_state:                 variables with lower and upper bounds:        0\n",
      "2024-06-13 01:10:04 [DEBUG] idaes.solve.fs.M101.hydrogen_feed_state:                      variables with only upper bounds:        0\n",
      "2024-06-13 01:10:04 [DEBUG] idaes.solve.fs.M101.hydrogen_feed_state: Total number of equality constraints.................:       10\n",
      "2024-06-13 01:10:04 [DEBUG] idaes.solve.fs.M101.hydrogen_feed_state: Total number of inequality constraints...............:        0\n",
      "2024-06-13 01:10:04 [DEBUG] idaes.solve.fs.M101.hydrogen_feed_state:         inequality constraints with only lower bounds:        0\n",
      "2024-06-13 01:10:04 [DEBUG] idaes.solve.fs.M101.hydrogen_feed_state:    inequality constraints with lower and upper bounds:        0\n",
      "2024-06-13 01:10:04 [DEBUG] idaes.solve.fs.M101.hydrogen_feed_state:         inequality constraints with only upper bounds:        0\n",
      "2024-06-13 01:10:04 [DEBUG] idaes.solve.fs.M101.hydrogen_feed_state: \n",
      "2024-06-13 01:10:04 [DEBUG] idaes.solve.fs.M101.hydrogen_feed_state: iter    objective    inf_pr   inf_du lg(mu)  ||d||  lg(rg) alpha_du alpha_pr  ls\n",
      "2024-06-13 01:10:04 [DEBUG] idaes.solve.fs.M101.hydrogen_feed_state:    0  0.0000000e+00 7.00e+08 0.00e+00  -1.0 0.00e+00    -  0.00e+00 0.00e+00   0\n",
      "2024-06-13 01:10:04 [DEBUG] idaes.solve.fs.M101.hydrogen_feed_state:    1  0.0000000e+00 1.05e-07 0.00e+00  -1.0 7.00e+05    -  1.00e+00 1.00e+00h  1\n",
      "2024-06-13 01:10:04 [DEBUG] idaes.solve.fs.M101.hydrogen_feed_state: \n",
      "2024-06-13 01:10:04 [DEBUG] idaes.solve.fs.M101.hydrogen_feed_state: Number of Iterations....: 1\n",
      "2024-06-13 01:10:04 [DEBUG] idaes.solve.fs.M101.hydrogen_feed_state: \n",
      "2024-06-13 01:10:04 [DEBUG] idaes.solve.fs.M101.hydrogen_feed_state:                                    (scaled)                 (unscaled)\n",
      "2024-06-13 01:10:04 [DEBUG] idaes.solve.fs.M101.hydrogen_feed_state: Objective...............:   0.0000000000000000e+00    0.0000000000000000e+00\n",
      "2024-06-13 01:10:04 [DEBUG] idaes.solve.fs.M101.hydrogen_feed_state: Dual infeasibility......:   0.0000000000000000e+00    0.0000000000000000e+00\n",
      "2024-06-13 01:10:04 [DEBUG] idaes.solve.fs.M101.hydrogen_feed_state: Constraint violation....:   1.0512303560972215e-08    1.0512303560972215e-07\n",
      "2024-06-13 01:10:04 [DEBUG] idaes.solve.fs.M101.hydrogen_feed_state: Complementarity.........:   0.0000000000000000e+00    0.0000000000000000e+00\n",
      "2024-06-13 01:10:04 [DEBUG] idaes.solve.fs.M101.hydrogen_feed_state: Overall NLP error.......:   1.0512303560972215e-08    1.0512303560972215e-07\n",
      "2024-06-13 01:10:04 [DEBUG] idaes.solve.fs.M101.hydrogen_feed_state: \n",
      "2024-06-13 01:10:04 [DEBUG] idaes.solve.fs.M101.hydrogen_feed_state: \n",
      "2024-06-13 01:10:04 [DEBUG] idaes.solve.fs.M101.hydrogen_feed_state: Number of objective function evaluations             = 2\n",
      "2024-06-13 01:10:04 [DEBUG] idaes.solve.fs.M101.hydrogen_feed_state: Number of objective gradient evaluations             = 2\n",
      "2024-06-13 01:10:04 [DEBUG] idaes.solve.fs.M101.hydrogen_feed_state: Number of equality constraint evaluations            = 2\n",
      "2024-06-13 01:10:04 [DEBUG] idaes.solve.fs.M101.hydrogen_feed_state: Number of inequality constraint evaluations          = 0\n",
      "2024-06-13 01:10:04 [DEBUG] idaes.solve.fs.M101.hydrogen_feed_state: Number of equality constraint Jacobian evaluations   = 2\n",
      "2024-06-13 01:10:04 [DEBUG] idaes.solve.fs.M101.hydrogen_feed_state: Number of inequality constraint Jacobian evaluations = 0\n",
      "2024-06-13 01:10:04 [DEBUG] idaes.solve.fs.M101.hydrogen_feed_state: Number of Lagrangian Hessian evaluations             = 1\n",
      "2024-06-13 01:10:04 [DEBUG] idaes.solve.fs.M101.hydrogen_feed_state: Total CPU secs in IPOPT (w/o function evaluations)   =      0.004\n",
      "2024-06-13 01:10:04 [DEBUG] idaes.solve.fs.M101.hydrogen_feed_state: Total CPU secs in NLP function evaluations           =      0.000\n",
      "2024-06-13 01:10:04 [DEBUG] idaes.solve.fs.M101.hydrogen_feed_state: \n",
      "2024-06-13 01:10:04 [DEBUG] idaes.solve.fs.M101.hydrogen_feed_state: EXIT: Optimal Solution Found.\n",
      "2024-06-13 01:10:04 [INFO] idaes.init.fs.M101.hydrogen_feed_state: Initialization Complete\n",
      "2024-06-13 01:10:04 [INFO] idaes.init.fs.M101.vapor_recycle_state: Initialization Step 1 - Dew and bubble points calculation completed.\n",
      "2024-06-13 01:10:04 [INFO] idaes.init.fs.M101.vapor_recycle_state: Initialization Step 2 - Equilibrium temperature  calculation completed.\n",
      "2024-06-13 01:10:05 [DEBUG] idaes.solve.fs.M101.vapor_recycle_state: Ipopt 3.13.2: nlp_scaling_method=gradient-based\n",
      "2024-06-13 01:10:05 [DEBUG] idaes.solve.fs.M101.vapor_recycle_state: tol=1e-06\n",
      "2024-06-13 01:10:05 [DEBUG] idaes.solve.fs.M101.vapor_recycle_state: max_iter=200\n",
      "2024-06-13 01:10:05 [DEBUG] idaes.solve.fs.M101.vapor_recycle_state: \n",
      "2024-06-13 01:10:05 [DEBUG] idaes.solve.fs.M101.vapor_recycle_state: \n",
      "2024-06-13 01:10:05 [DEBUG] idaes.solve.fs.M101.vapor_recycle_state: ******************************************************************************\n",
      "2024-06-13 01:10:05 [DEBUG] idaes.solve.fs.M101.vapor_recycle_state: This program contains Ipopt, a library for large-scale nonlinear optimization.\n",
      "2024-06-13 01:10:05 [DEBUG] idaes.solve.fs.M101.vapor_recycle_state:  Ipopt is released as open source code under the Eclipse Public License (EPL).\n",
      "2024-06-13 01:10:05 [DEBUG] idaes.solve.fs.M101.vapor_recycle_state:          For more information visit http://projects.coin-or.org/Ipopt\n",
      "2024-06-13 01:10:05 [DEBUG] idaes.solve.fs.M101.vapor_recycle_state: \n",
      "2024-06-13 01:10:05 [DEBUG] idaes.solve.fs.M101.vapor_recycle_state: This version of Ipopt was compiled from source code available at\n",
      "2024-06-13 01:10:05 [DEBUG] idaes.solve.fs.M101.vapor_recycle_state:     https://github.com/IDAES/Ipopt as part of the Institute for the Design of\n",
      "2024-06-13 01:10:05 [DEBUG] idaes.solve.fs.M101.vapor_recycle_state:     Advanced Energy Systems Process Systems Engineering Framework (IDAES PSE\n",
      "2024-06-13 01:10:05 [DEBUG] idaes.solve.fs.M101.vapor_recycle_state:     Framework) Copyright (c) 2018-2019. See https://github.com/IDAES/idaes-pse.\n",
      "2024-06-13 01:10:05 [DEBUG] idaes.solve.fs.M101.vapor_recycle_state: \n",
      "2024-06-13 01:10:05 [DEBUG] idaes.solve.fs.M101.vapor_recycle_state: This version of Ipopt was compiled using HSL, a collection of Fortran codes\n",
      "2024-06-13 01:10:05 [DEBUG] idaes.solve.fs.M101.vapor_recycle_state:     for large-scale scientific computation.  All technical papers, sales and\n",
      "2024-06-13 01:10:05 [DEBUG] idaes.solve.fs.M101.vapor_recycle_state:     publicity material resulting from use of the HSL codes within IPOPT must\n",
      "2024-06-13 01:10:05 [DEBUG] idaes.solve.fs.M101.vapor_recycle_state:     contain the following acknowledgement:\n",
      "2024-06-13 01:10:05 [DEBUG] idaes.solve.fs.M101.vapor_recycle_state:         HSL, a collection of Fortran codes for large-scale scientific\n",
      "2024-06-13 01:10:05 [DEBUG] idaes.solve.fs.M101.vapor_recycle_state:         computation. See http://www.hsl.rl.ac.uk.\n",
      "2024-06-13 01:10:05 [DEBUG] idaes.solve.fs.M101.vapor_recycle_state: ******************************************************************************\n",
      "2024-06-13 01:10:05 [DEBUG] idaes.solve.fs.M101.vapor_recycle_state: \n",
      "2024-06-13 01:10:05 [DEBUG] idaes.solve.fs.M101.vapor_recycle_state: This is Ipopt version 3.13.2, running with linear solver ma27.\n",
      "2024-06-13 01:10:05 [DEBUG] idaes.solve.fs.M101.vapor_recycle_state: \n",
      "2024-06-13 01:10:05 [DEBUG] idaes.solve.fs.M101.vapor_recycle_state: Number of nonzeros in equality constraint Jacobian...:       18\n",
      "2024-06-13 01:10:05 [DEBUG] idaes.solve.fs.M101.vapor_recycle_state: Number of nonzeros in inequality constraint Jacobian.:        0\n",
      "2024-06-13 01:10:05 [DEBUG] idaes.solve.fs.M101.vapor_recycle_state: Number of nonzeros in Lagrangian Hessian.............:        0\n",
      "2024-06-13 01:10:05 [DEBUG] idaes.solve.fs.M101.vapor_recycle_state: \n",
      "2024-06-13 01:10:05 [DEBUG] idaes.solve.fs.M101.vapor_recycle_state: Total number of variables............................:       10\n",
      "2024-06-13 01:10:05 [DEBUG] idaes.solve.fs.M101.vapor_recycle_state:                      variables with only lower bounds:        0\n",
      "2024-06-13 01:10:05 [DEBUG] idaes.solve.fs.M101.vapor_recycle_state:                 variables with lower and upper bounds:        0\n",
      "2024-06-13 01:10:05 [DEBUG] idaes.solve.fs.M101.vapor_recycle_state:                      variables with only upper bounds:        0\n",
      "2024-06-13 01:10:05 [DEBUG] idaes.solve.fs.M101.vapor_recycle_state: Total number of equality constraints.................:       10\n",
      "2024-06-13 01:10:05 [DEBUG] idaes.solve.fs.M101.vapor_recycle_state: Total number of inequality constraints...............:        0\n",
      "2024-06-13 01:10:05 [DEBUG] idaes.solve.fs.M101.vapor_recycle_state:         inequality constraints with only lower bounds:        0\n",
      "2024-06-13 01:10:05 [DEBUG] idaes.solve.fs.M101.vapor_recycle_state:    inequality constraints with lower and upper bounds:        0\n",
      "2024-06-13 01:10:05 [DEBUG] idaes.solve.fs.M101.vapor_recycle_state:         inequality constraints with only upper bounds:        0\n",
      "2024-06-13 01:10:05 [DEBUG] idaes.solve.fs.M101.vapor_recycle_state: \n",
      "2024-06-13 01:10:05 [DEBUG] idaes.solve.fs.M101.vapor_recycle_state: iter    objective    inf_pr   inf_du lg(mu)  ||d||  lg(rg) alpha_du alpha_pr  ls\n",
      "2024-06-13 01:10:05 [DEBUG] idaes.solve.fs.M101.vapor_recycle_state:    0  0.0000000e+00 7.00e+08 0.00e+00  -1.0 0.00e+00    -  0.00e+00 0.00e+00   0\n",
      "2024-06-13 01:10:05 [DEBUG] idaes.solve.fs.M101.vapor_recycle_state:    1  0.0000000e+00 3.63e-08 0.00e+00  -1.0 7.00e+05    -  1.00e+00 1.00e+00h  1\n",
      "2024-06-13 01:10:05 [DEBUG] idaes.solve.fs.M101.vapor_recycle_state: \n",
      "2024-06-13 01:10:05 [DEBUG] idaes.solve.fs.M101.vapor_recycle_state: Number of Iterations....: 1\n",
      "2024-06-13 01:10:05 [DEBUG] idaes.solve.fs.M101.vapor_recycle_state: \n",
      "2024-06-13 01:10:05 [DEBUG] idaes.solve.fs.M101.vapor_recycle_state:                                    (scaled)                 (unscaled)\n",
      "2024-06-13 01:10:05 [DEBUG] idaes.solve.fs.M101.vapor_recycle_state: Objective...............:   0.0000000000000000e+00    0.0000000000000000e+00\n",
      "2024-06-13 01:10:05 [DEBUG] idaes.solve.fs.M101.vapor_recycle_state: Dual infeasibility......:   0.0000000000000000e+00    0.0000000000000000e+00\n",
      "2024-06-13 01:10:05 [DEBUG] idaes.solve.fs.M101.vapor_recycle_state: Constraint violation....:   3.6321580410003665e-09    3.6321580410003662e-08\n",
      "2024-06-13 01:10:05 [DEBUG] idaes.solve.fs.M101.vapor_recycle_state: Complementarity.........:   0.0000000000000000e+00    0.0000000000000000e+00\n",
      "2024-06-13 01:10:05 [DEBUG] idaes.solve.fs.M101.vapor_recycle_state: Overall NLP error.......:   3.6321580410003665e-09    3.6321580410003662e-08\n",
      "2024-06-13 01:10:05 [DEBUG] idaes.solve.fs.M101.vapor_recycle_state: \n",
      "2024-06-13 01:10:05 [DEBUG] idaes.solve.fs.M101.vapor_recycle_state: \n",
      "2024-06-13 01:10:05 [DEBUG] idaes.solve.fs.M101.vapor_recycle_state: Number of objective function evaluations             = 2\n",
      "2024-06-13 01:10:05 [DEBUG] idaes.solve.fs.M101.vapor_recycle_state: Number of objective gradient evaluations             = 2\n",
      "2024-06-13 01:10:05 [DEBUG] idaes.solve.fs.M101.vapor_recycle_state: Number of equality constraint evaluations            = 2\n",
      "2024-06-13 01:10:05 [DEBUG] idaes.solve.fs.M101.vapor_recycle_state: Number of inequality constraint evaluations          = 0\n",
      "2024-06-13 01:10:05 [DEBUG] idaes.solve.fs.M101.vapor_recycle_state: Number of equality constraint Jacobian evaluations   = 2\n",
      "2024-06-13 01:10:05 [DEBUG] idaes.solve.fs.M101.vapor_recycle_state: Number of inequality constraint Jacobian evaluations = 0\n",
      "2024-06-13 01:10:05 [DEBUG] idaes.solve.fs.M101.vapor_recycle_state: Number of Lagrangian Hessian evaluations             = 1\n",
      "2024-06-13 01:10:05 [DEBUG] idaes.solve.fs.M101.vapor_recycle_state: Total CPU secs in IPOPT (w/o function evaluations)   =      0.000\n",
      "2024-06-13 01:10:05 [DEBUG] idaes.solve.fs.M101.vapor_recycle_state: Total CPU secs in NLP function evaluations           =      0.000\n",
      "2024-06-13 01:10:05 [DEBUG] idaes.solve.fs.M101.vapor_recycle_state: \n",
      "2024-06-13 01:10:05 [DEBUG] idaes.solve.fs.M101.vapor_recycle_state: EXIT: Optimal Solution Found.\n",
      "2024-06-13 01:10:05 [INFO] idaes.init.fs.M101.vapor_recycle_state: Initialization Complete\n",
      "2024-06-13 01:10:05 [INFO] idaes.init.fs.M101.mixed_state: Initialization Step 1 - Dew and bubble points calculation completed.\n",
      "2024-06-13 01:10:05 [INFO] idaes.init.fs.M101.mixed_state: Initialization Step 2 - Equilibrium temperature  calculation completed.\n",
      "2024-06-13 01:10:05 [DEBUG] idaes.solve.fs.M101.mixed_state: Ipopt 3.13.2: nlp_scaling_method=gradient-based\n",
      "2024-06-13 01:10:05 [DEBUG] idaes.solve.fs.M101.mixed_state: tol=1e-06\n",
      "2024-06-13 01:10:05 [DEBUG] idaes.solve.fs.M101.mixed_state: max_iter=200\n",
      "2024-06-13 01:10:05 [DEBUG] idaes.solve.fs.M101.mixed_state: \n",
      "2024-06-13 01:10:05 [DEBUG] idaes.solve.fs.M101.mixed_state: \n",
      "2024-06-13 01:10:05 [DEBUG] idaes.solve.fs.M101.mixed_state: ******************************************************************************\n",
      "2024-06-13 01:10:05 [DEBUG] idaes.solve.fs.M101.mixed_state: This program contains Ipopt, a library for large-scale nonlinear optimization.\n",
      "2024-06-13 01:10:05 [DEBUG] idaes.solve.fs.M101.mixed_state:  Ipopt is released as open source code under the Eclipse Public License (EPL).\n",
      "2024-06-13 01:10:05 [DEBUG] idaes.solve.fs.M101.mixed_state:          For more information visit http://projects.coin-or.org/Ipopt\n",
      "2024-06-13 01:10:05 [DEBUG] idaes.solve.fs.M101.mixed_state: \n",
      "2024-06-13 01:10:05 [DEBUG] idaes.solve.fs.M101.mixed_state: This version of Ipopt was compiled from source code available at\n",
      "2024-06-13 01:10:05 [DEBUG] idaes.solve.fs.M101.mixed_state:     https://github.com/IDAES/Ipopt as part of the Institute for the Design of\n",
      "2024-06-13 01:10:05 [DEBUG] idaes.solve.fs.M101.mixed_state:     Advanced Energy Systems Process Systems Engineering Framework (IDAES PSE\n",
      "2024-06-13 01:10:05 [DEBUG] idaes.solve.fs.M101.mixed_state:     Framework) Copyright (c) 2018-2019. See https://github.com/IDAES/idaes-pse.\n",
      "2024-06-13 01:10:05 [DEBUG] idaes.solve.fs.M101.mixed_state: \n",
      "2024-06-13 01:10:05 [DEBUG] idaes.solve.fs.M101.mixed_state: This version of Ipopt was compiled using HSL, a collection of Fortran codes\n",
      "2024-06-13 01:10:05 [DEBUG] idaes.solve.fs.M101.mixed_state:     for large-scale scientific computation.  All technical papers, sales and\n",
      "2024-06-13 01:10:05 [DEBUG] idaes.solve.fs.M101.mixed_state:     publicity material resulting from use of the HSL codes within IPOPT must\n",
      "2024-06-13 01:10:05 [DEBUG] idaes.solve.fs.M101.mixed_state:     contain the following acknowledgement:\n",
      "2024-06-13 01:10:05 [DEBUG] idaes.solve.fs.M101.mixed_state:         HSL, a collection of Fortran codes for large-scale scientific\n",
      "2024-06-13 01:10:05 [DEBUG] idaes.solve.fs.M101.mixed_state:         computation. See http://www.hsl.rl.ac.uk.\n",
      "2024-06-13 01:10:05 [DEBUG] idaes.solve.fs.M101.mixed_state: ******************************************************************************\n",
      "2024-06-13 01:10:05 [DEBUG] idaes.solve.fs.M101.mixed_state: \n",
      "2024-06-13 01:10:05 [DEBUG] idaes.solve.fs.M101.mixed_state: This is Ipopt version 3.13.2, running with linear solver ma27.\n",
      "2024-06-13 01:10:05 [DEBUG] idaes.solve.fs.M101.mixed_state: \n",
      "2024-06-13 01:10:05 [DEBUG] idaes.solve.fs.M101.mixed_state: Number of nonzeros in equality constraint Jacobian...:       18\n",
      "2024-06-13 01:10:05 [DEBUG] idaes.solve.fs.M101.mixed_state: Number of nonzeros in inequality constraint Jacobian.:        0\n",
      "2024-06-13 01:10:05 [DEBUG] idaes.solve.fs.M101.mixed_state: Number of nonzeros in Lagrangian Hessian.............:        0\n",
      "2024-06-13 01:10:05 [DEBUG] idaes.solve.fs.M101.mixed_state: \n",
      "2024-06-13 01:10:05 [DEBUG] idaes.solve.fs.M101.mixed_state: Total number of variables............................:       10\n",
      "2024-06-13 01:10:05 [DEBUG] idaes.solve.fs.M101.mixed_state:                      variables with only lower bounds:        0\n",
      "2024-06-13 01:10:05 [DEBUG] idaes.solve.fs.M101.mixed_state:                 variables with lower and upper bounds:        0\n",
      "2024-06-13 01:10:05 [DEBUG] idaes.solve.fs.M101.mixed_state:                      variables with only upper bounds:        0\n",
      "2024-06-13 01:10:05 [DEBUG] idaes.solve.fs.M101.mixed_state: Total number of equality constraints.................:       10\n",
      "2024-06-13 01:10:05 [DEBUG] idaes.solve.fs.M101.mixed_state: Total number of inequality constraints...............:        0\n",
      "2024-06-13 01:10:05 [DEBUG] idaes.solve.fs.M101.mixed_state:         inequality constraints with only lower bounds:        0\n",
      "2024-06-13 01:10:05 [DEBUG] idaes.solve.fs.M101.mixed_state:    inequality constraints with lower and upper bounds:        0\n",
      "2024-06-13 01:10:05 [DEBUG] idaes.solve.fs.M101.mixed_state:         inequality constraints with only upper bounds:        0\n",
      "2024-06-13 01:10:05 [DEBUG] idaes.solve.fs.M101.mixed_state: \n",
      "2024-06-13 01:10:05 [DEBUG] idaes.solve.fs.M101.mixed_state: iter    objective    inf_pr   inf_du lg(mu)  ||d||  lg(rg) alpha_du alpha_pr  ls\n",
      "2024-06-13 01:10:05 [DEBUG] idaes.solve.fs.M101.mixed_state:    0  0.0000000e+00 7.00e+08 0.00e+00  -1.0 0.00e+00    -  0.00e+00 0.00e+00   0\n",
      "2024-06-13 01:10:05 [DEBUG] idaes.solve.fs.M101.mixed_state:    1  0.0000000e+00 1.72e-08 0.00e+00  -1.0 7.00e+05    -  1.00e+00 1.00e+00h  1\n",
      "2024-06-13 01:10:05 [DEBUG] idaes.solve.fs.M101.mixed_state: \n",
      "2024-06-13 01:10:05 [DEBUG] idaes.solve.fs.M101.mixed_state: Number of Iterations....: 1\n",
      "2024-06-13 01:10:05 [DEBUG] idaes.solve.fs.M101.mixed_state: \n",
      "2024-06-13 01:10:05 [DEBUG] idaes.solve.fs.M101.mixed_state:                                    (scaled)                 (unscaled)\n",
      "2024-06-13 01:10:05 [DEBUG] idaes.solve.fs.M101.mixed_state: Objective...............:   0.0000000000000000e+00    0.0000000000000000e+00\n",
      "2024-06-13 01:10:05 [DEBUG] idaes.solve.fs.M101.mixed_state: Dual infeasibility......:   0.0000000000000000e+00    0.0000000000000000e+00\n",
      "2024-06-13 01:10:05 [DEBUG] idaes.solve.fs.M101.mixed_state: Constraint violation....:   1.7229467630386353e-09    1.7229467630386353e-08\n",
      "2024-06-13 01:10:05 [DEBUG] idaes.solve.fs.M101.mixed_state: Complementarity.........:   0.0000000000000000e+00    0.0000000000000000e+00\n",
      "2024-06-13 01:10:05 [DEBUG] idaes.solve.fs.M101.mixed_state: Overall NLP error.......:   1.7229467630386353e-09    1.7229467630386353e-08\n",
      "2024-06-13 01:10:05 [DEBUG] idaes.solve.fs.M101.mixed_state: \n",
      "2024-06-13 01:10:05 [DEBUG] idaes.solve.fs.M101.mixed_state: \n",
      "2024-06-13 01:10:05 [DEBUG] idaes.solve.fs.M101.mixed_state: Number of objective function evaluations             = 2\n",
      "2024-06-13 01:10:05 [DEBUG] idaes.solve.fs.M101.mixed_state: Number of objective gradient evaluations             = 2\n",
      "2024-06-13 01:10:05 [DEBUG] idaes.solve.fs.M101.mixed_state: Number of equality constraint evaluations            = 2\n",
      "2024-06-13 01:10:05 [DEBUG] idaes.solve.fs.M101.mixed_state: Number of inequality constraint evaluations          = 0\n",
      "2024-06-13 01:10:05 [DEBUG] idaes.solve.fs.M101.mixed_state: Number of equality constraint Jacobian evaluations   = 2\n",
      "2024-06-13 01:10:05 [DEBUG] idaes.solve.fs.M101.mixed_state: Number of inequality constraint Jacobian evaluations = 0\n",
      "2024-06-13 01:10:05 [DEBUG] idaes.solve.fs.M101.mixed_state: Number of Lagrangian Hessian evaluations             = 1\n",
      "2024-06-13 01:10:05 [DEBUG] idaes.solve.fs.M101.mixed_state: Total CPU secs in IPOPT (w/o function evaluations)   =      0.000\n",
      "2024-06-13 01:10:05 [DEBUG] idaes.solve.fs.M101.mixed_state: Total CPU secs in NLP function evaluations           =      0.000\n",
      "2024-06-13 01:10:05 [DEBUG] idaes.solve.fs.M101.mixed_state: \n",
      "2024-06-13 01:10:05 [DEBUG] idaes.solve.fs.M101.mixed_state: EXIT: Optimal Solution Found.\n",
      "2024-06-13 01:10:05 [INFO] idaes.init.fs.M101.mixed_state: Initialization Complete\n",
      "2024-06-13 01:10:05 [DEBUG] idaes.solve.fs.M101: Ipopt 3.13.2: nlp_scaling_method=gradient-based\n",
      "2024-06-13 01:10:05 [DEBUG] idaes.solve.fs.M101: tol=1e-06\n",
      "2024-06-13 01:10:05 [DEBUG] idaes.solve.fs.M101: max_iter=200\n",
      "2024-06-13 01:10:05 [DEBUG] idaes.solve.fs.M101: \n",
      "2024-06-13 01:10:05 [DEBUG] idaes.solve.fs.M101: \n",
      "2024-06-13 01:10:05 [DEBUG] idaes.solve.fs.M101: ******************************************************************************\n",
      "2024-06-13 01:10:05 [DEBUG] idaes.solve.fs.M101: This program contains Ipopt, a library for large-scale nonlinear optimization.\n",
      "2024-06-13 01:10:05 [DEBUG] idaes.solve.fs.M101:  Ipopt is released as open source code under the Eclipse Public License (EPL).\n",
      "2024-06-13 01:10:05 [DEBUG] idaes.solve.fs.M101:          For more information visit http://projects.coin-or.org/Ipopt\n",
      "2024-06-13 01:10:05 [DEBUG] idaes.solve.fs.M101: \n",
      "2024-06-13 01:10:05 [DEBUG] idaes.solve.fs.M101: This version of Ipopt was compiled from source code available at\n",
      "2024-06-13 01:10:05 [DEBUG] idaes.solve.fs.M101:     https://github.com/IDAES/Ipopt as part of the Institute for the Design of\n",
      "2024-06-13 01:10:05 [DEBUG] idaes.solve.fs.M101:     Advanced Energy Systems Process Systems Engineering Framework (IDAES PSE\n",
      "2024-06-13 01:10:05 [DEBUG] idaes.solve.fs.M101:     Framework) Copyright (c) 2018-2019. See https://github.com/IDAES/idaes-pse.\n",
      "2024-06-13 01:10:05 [DEBUG] idaes.solve.fs.M101: \n",
      "2024-06-13 01:10:05 [DEBUG] idaes.solve.fs.M101: This version of Ipopt was compiled using HSL, a collection of Fortran codes\n",
      "2024-06-13 01:10:05 [DEBUG] idaes.solve.fs.M101:     for large-scale scientific computation.  All technical papers, sales and\n",
      "2024-06-13 01:10:05 [DEBUG] idaes.solve.fs.M101:     publicity material resulting from use of the HSL codes within IPOPT must\n",
      "2024-06-13 01:10:05 [DEBUG] idaes.solve.fs.M101:     contain the following acknowledgement:\n",
      "2024-06-13 01:10:05 [DEBUG] idaes.solve.fs.M101:         HSL, a collection of Fortran codes for large-scale scientific\n",
      "2024-06-13 01:10:05 [DEBUG] idaes.solve.fs.M101:         computation. See http://www.hsl.rl.ac.uk.\n",
      "2024-06-13 01:10:05 [DEBUG] idaes.solve.fs.M101: ******************************************************************************\n",
      "2024-06-13 01:10:05 [DEBUG] idaes.solve.fs.M101: \n",
      "2024-06-13 01:10:05 [DEBUG] idaes.solve.fs.M101: This is Ipopt version 3.13.2, running with linear solver ma27.\n",
      "2024-06-13 01:10:05 [DEBUG] idaes.solve.fs.M101: \n",
      "2024-06-13 01:10:05 [DEBUG] idaes.solve.fs.M101: Number of nonzeros in equality constraint Jacobian...:      117\n",
      "2024-06-13 01:10:05 [DEBUG] idaes.solve.fs.M101: Number of nonzeros in inequality constraint Jacobian.:        0\n",
      "2024-06-13 01:10:05 [DEBUG] idaes.solve.fs.M101: Number of nonzeros in Lagrangian Hessian.............:       65\n",
      "2024-06-13 01:10:05 [DEBUG] idaes.solve.fs.M101: \n",
      "2024-06-13 01:10:05 [DEBUG] idaes.solve.fs.M101: Total number of variables............................:       53\n",
      "2024-06-13 01:10:05 [DEBUG] idaes.solve.fs.M101:                      variables with only lower bounds:        0\n",
      "2024-06-13 01:10:05 [DEBUG] idaes.solve.fs.M101:                 variables with lower and upper bounds:       10\n",
      "2024-06-13 01:10:05 [DEBUG] idaes.solve.fs.M101:                      variables with only upper bounds:        0\n",
      "2024-06-13 01:10:05 [DEBUG] idaes.solve.fs.M101: Total number of equality constraints.................:       53\n",
      "2024-06-13 01:10:05 [DEBUG] idaes.solve.fs.M101: Total number of inequality constraints...............:        0\n",
      "2024-06-13 01:10:05 [DEBUG] idaes.solve.fs.M101:         inequality constraints with only lower bounds:        0\n",
      "2024-06-13 01:10:05 [DEBUG] idaes.solve.fs.M101:    inequality constraints with lower and upper bounds:        0\n",
      "2024-06-13 01:10:05 [DEBUG] idaes.solve.fs.M101:         inequality constraints with only upper bounds:        0\n",
      "2024-06-13 01:10:05 [DEBUG] idaes.solve.fs.M101: \n",
      "2024-06-13 01:10:05 [DEBUG] idaes.solve.fs.M101: iter    objective    inf_pr   inf_du lg(mu)  ||d||  lg(rg) alpha_du alpha_pr  ls\n",
      "2024-06-13 01:10:05 [DEBUG] idaes.solve.fs.M101:    0  0.0000000e+00 3.50e+05 0.00e+00  -1.0 0.00e+00    -  0.00e+00 0.00e+00   0\n",
      "2024-06-13 01:10:05 [DEBUG] idaes.solve.fs.M101:    1  0.0000000e+00 2.80e+03 2.76e+00  -1.0 3.50e+05    -  9.85e-01 9.92e-01h  1\n",
      "2024-06-13 01:10:05 [DEBUG] idaes.solve.fs.M101:    2  0.0000000e+00 3.49e+00 1.01e+01  -1.0 2.80e+03    -  9.90e-01 1.00e+00h  1\n",
      "2024-06-13 01:10:05 [DEBUG] idaes.solve.fs.M101:    3  0.0000000e+00 5.90e-05 3.59e+01  -1.0 3.24e-02    -  9.91e-01 1.00e+00h  1\n",
      "2024-06-13 01:10:05 [DEBUG] idaes.solve.fs.M101:    4  0.0000000e+00 7.45e-09 2.08e-13  -1.0 5.90e-05    -  1.00e+00 1.00e+00h  1\n",
      "2024-06-13 01:10:05 [DEBUG] idaes.solve.fs.M101: \n",
      "2024-06-13 01:10:05 [DEBUG] idaes.solve.fs.M101: Number of Iterations....: 4\n",
      "2024-06-13 01:10:05 [DEBUG] idaes.solve.fs.M101: \n",
      "2024-06-13 01:10:05 [DEBUG] idaes.solve.fs.M101:                                    (scaled)                 (unscaled)\n",
      "2024-06-13 01:10:05 [DEBUG] idaes.solve.fs.M101: Objective...............:   0.0000000000000000e+00    0.0000000000000000e+00\n",
      "2024-06-13 01:10:05 [DEBUG] idaes.solve.fs.M101: Dual infeasibility......:   0.0000000000000000e+00    0.0000000000000000e+00\n",
      "2024-06-13 01:10:05 [DEBUG] idaes.solve.fs.M101: Constraint violation....:   2.9103830456733704e-11    7.4505805969238281e-09\n",
      "2024-06-13 01:10:05 [DEBUG] idaes.solve.fs.M101: Complementarity.........:   0.0000000000000000e+00    0.0000000000000000e+00\n",
      "2024-06-13 01:10:05 [DEBUG] idaes.solve.fs.M101: Overall NLP error.......:   2.9103830456733704e-11    7.4505805969238281e-09\n",
      "2024-06-13 01:10:05 [DEBUG] idaes.solve.fs.M101: \n",
      "2024-06-13 01:10:05 [DEBUG] idaes.solve.fs.M101: \n",
      "2024-06-13 01:10:05 [DEBUG] idaes.solve.fs.M101: Number of objective function evaluations             = 5\n",
      "2024-06-13 01:10:05 [DEBUG] idaes.solve.fs.M101: Number of objective gradient evaluations             = 5\n",
      "2024-06-13 01:10:05 [DEBUG] idaes.solve.fs.M101: Number of equality constraint evaluations            = 5\n",
      "2024-06-13 01:10:05 [DEBUG] idaes.solve.fs.M101: Number of inequality constraint evaluations          = 0\n",
      "2024-06-13 01:10:05 [DEBUG] idaes.solve.fs.M101: Number of equality constraint Jacobian evaluations   = 5\n",
      "2024-06-13 01:10:05 [DEBUG] idaes.solve.fs.M101: Number of inequality constraint Jacobian evaluations = 0\n",
      "2024-06-13 01:10:05 [DEBUG] idaes.solve.fs.M101: Number of Lagrangian Hessian evaluations             = 4\n",
      "2024-06-13 01:10:05 [DEBUG] idaes.solve.fs.M101: Total CPU secs in IPOPT (w/o function evaluations)   =      0.000\n",
      "2024-06-13 01:10:05 [DEBUG] idaes.solve.fs.M101: Total CPU secs in NLP function evaluations           =      0.000\n",
      "2024-06-13 01:10:05 [DEBUG] idaes.solve.fs.M101: \n",
      "2024-06-13 01:10:05 [DEBUG] idaes.solve.fs.M101: EXIT: Optimal Solution Found.\n",
      "2024-06-13 01:10:05 [INFO] idaes.init.fs.M101: Initialization Complete: optimal - Optimal Solution Found\n",
      "fs.H101\n",
      "2024-06-13 01:10:05 [INFO] idaes.init.fs.H101: Step 1: preparation complete.\n",
      "2024-06-13 01:10:05 [INFO] idaes.init.fs.H101.control_volume.properties_in: Initialization Step 1 - Dew and bubble points calculation completed.\n",
      "2024-06-13 01:10:05 [INFO] idaes.init.fs.H101.control_volume.properties_in: Initialization Step 2 - Equilibrium temperature  calculation completed.\n",
      "2024-06-13 01:10:05 [DEBUG] idaes.solve.fs.H101.control_volume.properties_in: WARNING: model contains export suffix 'scaling_factor' that contains 2\n",
      "2024-06-13 01:10:05 [DEBUG] idaes.solve.fs.H101.control_volume.properties_in: component keys that are not exported as part of the NL file.  Skipping.\n",
      "2024-06-13 01:10:05 [DEBUG] idaes.solve.fs.H101.control_volume.properties_in: WARNING: model contains export suffix 'scaling_factor' that contains 25 keys\n",
      "2024-06-13 01:10:05 [DEBUG] idaes.solve.fs.H101.control_volume.properties_in: that are not Var, Constraint, Objective, or the model.  Skipping.\n",
      "2024-06-13 01:10:06 [DEBUG] idaes.solve.fs.H101.control_volume.properties_in: Ipopt 3.13.2: nlp_scaling_method=gradient-based\n",
      "2024-06-13 01:10:06 [DEBUG] idaes.solve.fs.H101.control_volume.properties_in: tol=1e-06\n",
      "2024-06-13 01:10:06 [DEBUG] idaes.solve.fs.H101.control_volume.properties_in: max_iter=200\n",
      "2024-06-13 01:10:06 [DEBUG] idaes.solve.fs.H101.control_volume.properties_in: \n",
      "2024-06-13 01:10:06 [DEBUG] idaes.solve.fs.H101.control_volume.properties_in: \n",
      "2024-06-13 01:10:06 [DEBUG] idaes.solve.fs.H101.control_volume.properties_in: ******************************************************************************\n",
      "2024-06-13 01:10:06 [DEBUG] idaes.solve.fs.H101.control_volume.properties_in: This program contains Ipopt, a library for large-scale nonlinear optimization.\n",
      "2024-06-13 01:10:06 [DEBUG] idaes.solve.fs.H101.control_volume.properties_in:  Ipopt is released as open source code under the Eclipse Public License (EPL).\n",
      "2024-06-13 01:10:06 [DEBUG] idaes.solve.fs.H101.control_volume.properties_in:          For more information visit http://projects.coin-or.org/Ipopt\n",
      "2024-06-13 01:10:06 [DEBUG] idaes.solve.fs.H101.control_volume.properties_in: \n",
      "2024-06-13 01:10:06 [DEBUG] idaes.solve.fs.H101.control_volume.properties_in: This version of Ipopt was compiled from source code available at\n",
      "2024-06-13 01:10:06 [DEBUG] idaes.solve.fs.H101.control_volume.properties_in:     https://github.com/IDAES/Ipopt as part of the Institute for the Design of\n",
      "2024-06-13 01:10:06 [DEBUG] idaes.solve.fs.H101.control_volume.properties_in:     Advanced Energy Systems Process Systems Engineering Framework (IDAES PSE\n",
      "2024-06-13 01:10:06 [DEBUG] idaes.solve.fs.H101.control_volume.properties_in:     Framework) Copyright (c) 2018-2019. See https://github.com/IDAES/idaes-pse.\n",
      "2024-06-13 01:10:06 [DEBUG] idaes.solve.fs.H101.control_volume.properties_in: \n",
      "2024-06-13 01:10:06 [DEBUG] idaes.solve.fs.H101.control_volume.properties_in: This version of Ipopt was compiled using HSL, a collection of Fortran codes\n",
      "2024-06-13 01:10:06 [DEBUG] idaes.solve.fs.H101.control_volume.properties_in:     for large-scale scientific computation.  All technical papers, sales and\n",
      "2024-06-13 01:10:06 [DEBUG] idaes.solve.fs.H101.control_volume.properties_in:     publicity material resulting from use of the HSL codes within IPOPT must\n",
      "2024-06-13 01:10:06 [DEBUG] idaes.solve.fs.H101.control_volume.properties_in:     contain the following acknowledgement:\n",
      "2024-06-13 01:10:06 [DEBUG] idaes.solve.fs.H101.control_volume.properties_in:         HSL, a collection of Fortran codes for large-scale scientific\n",
      "2024-06-13 01:10:06 [DEBUG] idaes.solve.fs.H101.control_volume.properties_in:         computation. See http://www.hsl.rl.ac.uk.\n",
      "2024-06-13 01:10:06 [DEBUG] idaes.solve.fs.H101.control_volume.properties_in: ******************************************************************************\n",
      "2024-06-13 01:10:06 [DEBUG] idaes.solve.fs.H101.control_volume.properties_in: \n",
      "2024-06-13 01:10:06 [DEBUG] idaes.solve.fs.H101.control_volume.properties_in: This is Ipopt version 3.13.2, running with linear solver ma27.\n",
      "2024-06-13 01:10:06 [DEBUG] idaes.solve.fs.H101.control_volume.properties_in: \n",
      "2024-06-13 01:10:06 [DEBUG] idaes.solve.fs.H101.control_volume.properties_in: Number of nonzeros in equality constraint Jacobian...:       18\n",
      "2024-06-13 01:10:06 [DEBUG] idaes.solve.fs.H101.control_volume.properties_in: Number of nonzeros in inequality constraint Jacobian.:        0\n",
      "2024-06-13 01:10:06 [DEBUG] idaes.solve.fs.H101.control_volume.properties_in: Number of nonzeros in Lagrangian Hessian.............:        0\n",
      "2024-06-13 01:10:06 [DEBUG] idaes.solve.fs.H101.control_volume.properties_in: \n",
      "2024-06-13 01:10:06 [DEBUG] idaes.solve.fs.H101.control_volume.properties_in: Total number of variables............................:       10\n",
      "2024-06-13 01:10:06 [DEBUG] idaes.solve.fs.H101.control_volume.properties_in:                      variables with only lower bounds:        0\n",
      "2024-06-13 01:10:06 [DEBUG] idaes.solve.fs.H101.control_volume.properties_in:                 variables with lower and upper bounds:        0\n",
      "2024-06-13 01:10:06 [DEBUG] idaes.solve.fs.H101.control_volume.properties_in:                      variables with only upper bounds:        0\n",
      "2024-06-13 01:10:06 [DEBUG] idaes.solve.fs.H101.control_volume.properties_in: Total number of equality constraints.................:       10\n",
      "2024-06-13 01:10:06 [DEBUG] idaes.solve.fs.H101.control_volume.properties_in: Total number of inequality constraints...............:        0\n",
      "2024-06-13 01:10:06 [DEBUG] idaes.solve.fs.H101.control_volume.properties_in:         inequality constraints with only lower bounds:        0\n",
      "2024-06-13 01:10:06 [DEBUG] idaes.solve.fs.H101.control_volume.properties_in:    inequality constraints with lower and upper bounds:        0\n",
      "2024-06-13 01:10:06 [DEBUG] idaes.solve.fs.H101.control_volume.properties_in:         inequality constraints with only upper bounds:        0\n",
      "2024-06-13 01:10:06 [DEBUG] idaes.solve.fs.H101.control_volume.properties_in: \n",
      "2024-06-13 01:10:06 [DEBUG] idaes.solve.fs.H101.control_volume.properties_in: iter    objective    inf_pr   inf_du lg(mu)  ||d||  lg(rg) alpha_du alpha_pr  ls\n",
      "2024-06-13 01:10:06 [DEBUG] idaes.solve.fs.H101.control_volume.properties_in:    0  0.0000000e+00 6.00e+05 0.00e+00  -1.0 0.00e+00    -  0.00e+00 0.00e+00   0\n",
      "2024-06-13 01:10:06 [DEBUG] idaes.solve.fs.H101.control_volume.properties_in:    1  0.0000000e+00 2.33e-10 0.00e+00  -1.0 1.61e+03    -  1.00e+00 1.00e+00h  1\n",
      "2024-06-13 01:10:06 [DEBUG] idaes.solve.fs.H101.control_volume.properties_in: \n",
      "2024-06-13 01:10:06 [DEBUG] idaes.solve.fs.H101.control_volume.properties_in: Number of Iterations....: 1\n",
      "2024-06-13 01:10:06 [DEBUG] idaes.solve.fs.H101.control_volume.properties_in: \n",
      "2024-06-13 01:10:06 [DEBUG] idaes.solve.fs.H101.control_volume.properties_in:                                    (scaled)                 (unscaled)\n",
      "2024-06-13 01:10:06 [DEBUG] idaes.solve.fs.H101.control_volume.properties_in: Objective...............:   0.0000000000000000e+00    0.0000000000000000e+00\n",
      "2024-06-13 01:10:06 [DEBUG] idaes.solve.fs.H101.control_volume.properties_in: Dual infeasibility......:   0.0000000000000000e+00    0.0000000000000000e+00\n",
      "2024-06-13 01:10:06 [DEBUG] idaes.solve.fs.H101.control_volume.properties_in: Constraint violation....:   2.3283064365386964e-11    2.3283064365386963e-10\n",
      "2024-06-13 01:10:06 [DEBUG] idaes.solve.fs.H101.control_volume.properties_in: Complementarity.........:   0.0000000000000000e+00    0.0000000000000000e+00\n",
      "2024-06-13 01:10:06 [DEBUG] idaes.solve.fs.H101.control_volume.properties_in: Overall NLP error.......:   2.3283064365386964e-11    2.3283064365386963e-10\n",
      "2024-06-13 01:10:06 [DEBUG] idaes.solve.fs.H101.control_volume.properties_in: \n",
      "2024-06-13 01:10:06 [DEBUG] idaes.solve.fs.H101.control_volume.properties_in: \n",
      "2024-06-13 01:10:06 [DEBUG] idaes.solve.fs.H101.control_volume.properties_in: Number of objective function evaluations             = 2\n",
      "2024-06-13 01:10:06 [DEBUG] idaes.solve.fs.H101.control_volume.properties_in: Number of objective gradient evaluations             = 2\n",
      "2024-06-13 01:10:06 [DEBUG] idaes.solve.fs.H101.control_volume.properties_in: Number of equality constraint evaluations            = 2\n",
      "2024-06-13 01:10:06 [DEBUG] idaes.solve.fs.H101.control_volume.properties_in: Number of inequality constraint evaluations          = 0\n",
      "2024-06-13 01:10:06 [DEBUG] idaes.solve.fs.H101.control_volume.properties_in: Number of equality constraint Jacobian evaluations   = 2\n",
      "2024-06-13 01:10:06 [DEBUG] idaes.solve.fs.H101.control_volume.properties_in: Number of inequality constraint Jacobian evaluations = 0\n",
      "2024-06-13 01:10:06 [DEBUG] idaes.solve.fs.H101.control_volume.properties_in: Number of Lagrangian Hessian evaluations             = 1\n",
      "2024-06-13 01:10:06 [DEBUG] idaes.solve.fs.H101.control_volume.properties_in: Total CPU secs in IPOPT (w/o function evaluations)   =      0.000\n",
      "2024-06-13 01:10:06 [DEBUG] idaes.solve.fs.H101.control_volume.properties_in: Total CPU secs in NLP function evaluations           =      0.000\n",
      "2024-06-13 01:10:06 [DEBUG] idaes.solve.fs.H101.control_volume.properties_in: \n",
      "2024-06-13 01:10:06 [DEBUG] idaes.solve.fs.H101.control_volume.properties_in: EXIT: Optimal Solution Found.\n",
      "2024-06-13 01:10:06 [INFO] idaes.init.fs.H101.control_volume.properties_in: Initialization Complete\n",
      "2024-06-13 01:10:06 [INFO] idaes.init.fs.H101.control_volume.properties_out: Initialization Step 1 - Dew and bubble points calculation completed.\n",
      "2024-06-13 01:10:06 [INFO] idaes.init.fs.H101.control_volume.properties_out: Initialization Step 2 - Equilibrium temperature  calculation completed.\n",
      "2024-06-13 01:10:06 [DEBUG] idaes.solve.fs.H101.control_volume.properties_out: WARNING: model contains export suffix 'scaling_factor' that contains 2\n",
      "2024-06-13 01:10:06 [DEBUG] idaes.solve.fs.H101.control_volume.properties_out: component keys that are not exported as part of the NL file.  Skipping.\n",
      "2024-06-13 01:10:06 [DEBUG] idaes.solve.fs.H101.control_volume.properties_out: WARNING: model contains export suffix 'scaling_factor' that contains 25 keys\n",
      "2024-06-13 01:10:06 [DEBUG] idaes.solve.fs.H101.control_volume.properties_out: that are not Var, Constraint, Objective, or the model.  Skipping.\n",
      "2024-06-13 01:10:06 [DEBUG] idaes.solve.fs.H101.control_volume.properties_out: Ipopt 3.13.2: nlp_scaling_method=gradient-based\n",
      "2024-06-13 01:10:06 [DEBUG] idaes.solve.fs.H101.control_volume.properties_out: tol=1e-06\n",
      "2024-06-13 01:10:06 [DEBUG] idaes.solve.fs.H101.control_volume.properties_out: max_iter=200\n",
      "2024-06-13 01:10:06 [DEBUG] idaes.solve.fs.H101.control_volume.properties_out: \n",
      "2024-06-13 01:10:06 [DEBUG] idaes.solve.fs.H101.control_volume.properties_out: \n",
      "2024-06-13 01:10:06 [DEBUG] idaes.solve.fs.H101.control_volume.properties_out: ******************************************************************************\n",
      "2024-06-13 01:10:06 [DEBUG] idaes.solve.fs.H101.control_volume.properties_out: This program contains Ipopt, a library for large-scale nonlinear optimization.\n",
      "2024-06-13 01:10:06 [DEBUG] idaes.solve.fs.H101.control_volume.properties_out:  Ipopt is released as open source code under the Eclipse Public License (EPL).\n",
      "2024-06-13 01:10:06 [DEBUG] idaes.solve.fs.H101.control_volume.properties_out:          For more information visit http://projects.coin-or.org/Ipopt\n",
      "2024-06-13 01:10:06 [DEBUG] idaes.solve.fs.H101.control_volume.properties_out: \n",
      "2024-06-13 01:10:06 [DEBUG] idaes.solve.fs.H101.control_volume.properties_out: This version of Ipopt was compiled from source code available at\n",
      "2024-06-13 01:10:06 [DEBUG] idaes.solve.fs.H101.control_volume.properties_out:     https://github.com/IDAES/Ipopt as part of the Institute for the Design of\n",
      "2024-06-13 01:10:06 [DEBUG] idaes.solve.fs.H101.control_volume.properties_out:     Advanced Energy Systems Process Systems Engineering Framework (IDAES PSE\n",
      "2024-06-13 01:10:06 [DEBUG] idaes.solve.fs.H101.control_volume.properties_out:     Framework) Copyright (c) 2018-2019. See https://github.com/IDAES/idaes-pse.\n",
      "2024-06-13 01:10:06 [DEBUG] idaes.solve.fs.H101.control_volume.properties_out: \n",
      "2024-06-13 01:10:06 [DEBUG] idaes.solve.fs.H101.control_volume.properties_out: This version of Ipopt was compiled using HSL, a collection of Fortran codes\n",
      "2024-06-13 01:10:06 [DEBUG] idaes.solve.fs.H101.control_volume.properties_out:     for large-scale scientific computation.  All technical papers, sales and\n",
      "2024-06-13 01:10:06 [DEBUG] idaes.solve.fs.H101.control_volume.properties_out:     publicity material resulting from use of the HSL codes within IPOPT must\n",
      "2024-06-13 01:10:06 [DEBUG] idaes.solve.fs.H101.control_volume.properties_out:     contain the following acknowledgement:\n",
      "2024-06-13 01:10:06 [DEBUG] idaes.solve.fs.H101.control_volume.properties_out:         HSL, a collection of Fortran codes for large-scale scientific\n",
      "2024-06-13 01:10:06 [DEBUG] idaes.solve.fs.H101.control_volume.properties_out:         computation. See http://www.hsl.rl.ac.uk.\n",
      "2024-06-13 01:10:06 [DEBUG] idaes.solve.fs.H101.control_volume.properties_out: ******************************************************************************\n",
      "2024-06-13 01:10:06 [DEBUG] idaes.solve.fs.H101.control_volume.properties_out: \n",
      "2024-06-13 01:10:06 [DEBUG] idaes.solve.fs.H101.control_volume.properties_out: This is Ipopt version 3.13.2, running with linear solver ma27.\n",
      "2024-06-13 01:10:06 [DEBUG] idaes.solve.fs.H101.control_volume.properties_out: \n",
      "2024-06-13 01:10:06 [DEBUG] idaes.solve.fs.H101.control_volume.properties_out: Number of nonzeros in equality constraint Jacobian...:       31\n",
      "2024-06-13 01:10:06 [DEBUG] idaes.solve.fs.H101.control_volume.properties_out: Number of nonzeros in inequality constraint Jacobian.:        0\n",
      "2024-06-13 01:10:06 [DEBUG] idaes.solve.fs.H101.control_volume.properties_out: Number of nonzeros in Lagrangian Hessian.............:       11\n",
      "2024-06-13 01:10:06 [DEBUG] idaes.solve.fs.H101.control_volume.properties_out: \n",
      "2024-06-13 01:10:06 [DEBUG] idaes.solve.fs.H101.control_volume.properties_out: Total number of variables............................:       17\n",
      "2024-06-13 01:10:06 [DEBUG] idaes.solve.fs.H101.control_volume.properties_out:                      variables with only lower bounds:        0\n",
      "2024-06-13 01:10:06 [DEBUG] idaes.solve.fs.H101.control_volume.properties_out:                 variables with lower and upper bounds:        0\n",
      "2024-06-13 01:10:06 [DEBUG] idaes.solve.fs.H101.control_volume.properties_out:                      variables with only upper bounds:        0\n",
      "2024-06-13 01:10:06 [DEBUG] idaes.solve.fs.H101.control_volume.properties_out: Total number of equality constraints.................:       17\n",
      "2024-06-13 01:10:06 [DEBUG] idaes.solve.fs.H101.control_volume.properties_out: Total number of inequality constraints...............:        0\n",
      "2024-06-13 01:10:06 [DEBUG] idaes.solve.fs.H101.control_volume.properties_out:         inequality constraints with only lower bounds:        0\n",
      "2024-06-13 01:10:06 [DEBUG] idaes.solve.fs.H101.control_volume.properties_out:    inequality constraints with lower and upper bounds:        0\n",
      "2024-06-13 01:10:06 [DEBUG] idaes.solve.fs.H101.control_volume.properties_out:         inequality constraints with only upper bounds:        0\n",
      "2024-06-13 01:10:06 [DEBUG] idaes.solve.fs.H101.control_volume.properties_out: \n",
      "2024-06-13 01:10:06 [DEBUG] idaes.solve.fs.H101.control_volume.properties_out: iter    objective    inf_pr   inf_du lg(mu)  ||d||  lg(rg) alpha_du alpha_pr  ls\n",
      "2024-06-13 01:10:06 [DEBUG] idaes.solve.fs.H101.control_volume.properties_out:    0  0.0000000e+00 1.27e-09 0.00e+00  -1.0 0.00e+00    -  0.00e+00 0.00e+00   0\n",
      "2024-06-13 01:10:06 [DEBUG] idaes.solve.fs.H101.control_volume.properties_out: \n",
      "2024-06-13 01:10:06 [DEBUG] idaes.solve.fs.H101.control_volume.properties_out: Number of Iterations....: 0\n",
      "2024-06-13 01:10:06 [DEBUG] idaes.solve.fs.H101.control_volume.properties_out: \n",
      "2024-06-13 01:10:06 [DEBUG] idaes.solve.fs.H101.control_volume.properties_out:                                    (scaled)                 (unscaled)\n",
      "2024-06-13 01:10:06 [DEBUG] idaes.solve.fs.H101.control_volume.properties_out: Objective...............:   0.0000000000000000e+00    0.0000000000000000e+00\n",
      "2024-06-13 01:10:06 [DEBUG] idaes.solve.fs.H101.control_volume.properties_out: Dual infeasibility......:   0.0000000000000000e+00    0.0000000000000000e+00\n",
      "2024-06-13 01:10:06 [DEBUG] idaes.solve.fs.H101.control_volume.properties_out: Constraint violation....:   1.2664713722188026e-09    1.2664713722188026e-09\n",
      "2024-06-13 01:10:06 [DEBUG] idaes.solve.fs.H101.control_volume.properties_out: Complementarity.........:   0.0000000000000000e+00    0.0000000000000000e+00\n",
      "2024-06-13 01:10:06 [DEBUG] idaes.solve.fs.H101.control_volume.properties_out: Overall NLP error.......:   1.2664713722188026e-09    1.2664713722188026e-09\n",
      "2024-06-13 01:10:06 [DEBUG] idaes.solve.fs.H101.control_volume.properties_out: \n",
      "2024-06-13 01:10:06 [DEBUG] idaes.solve.fs.H101.control_volume.properties_out: \n",
      "2024-06-13 01:10:06 [DEBUG] idaes.solve.fs.H101.control_volume.properties_out: Number of objective function evaluations             = 1\n",
      "2024-06-13 01:10:06 [DEBUG] idaes.solve.fs.H101.control_volume.properties_out: Number of objective gradient evaluations             = 1\n",
      "2024-06-13 01:10:06 [DEBUG] idaes.solve.fs.H101.control_volume.properties_out: Number of equality constraint evaluations            = 1\n",
      "2024-06-13 01:10:06 [DEBUG] idaes.solve.fs.H101.control_volume.properties_out: Number of inequality constraint evaluations          = 0\n",
      "2024-06-13 01:10:06 [DEBUG] idaes.solve.fs.H101.control_volume.properties_out: Number of equality constraint Jacobian evaluations   = 1\n",
      "2024-06-13 01:10:06 [DEBUG] idaes.solve.fs.H101.control_volume.properties_out: Number of inequality constraint Jacobian evaluations = 0\n",
      "2024-06-13 01:10:06 [DEBUG] idaes.solve.fs.H101.control_volume.properties_out: Number of Lagrangian Hessian evaluations             = 0\n",
      "2024-06-13 01:10:06 [DEBUG] idaes.solve.fs.H101.control_volume.properties_out: Total CPU secs in IPOPT (w/o function evaluations)   =      0.000\n",
      "2024-06-13 01:10:06 [DEBUG] idaes.solve.fs.H101.control_volume.properties_out: Total CPU secs in NLP function evaluations           =      0.000\n",
      "2024-06-13 01:10:06 [DEBUG] idaes.solve.fs.H101.control_volume.properties_out: \n",
      "2024-06-13 01:10:06 [DEBUG] idaes.solve.fs.H101.control_volume.properties_out: EXIT: Optimal Solution Found.\n",
      "2024-06-13 01:10:06 [INFO] idaes.init.fs.H101.control_volume.properties_out: Initialization Complete\n",
      "2024-06-13 01:10:06 [INFO] idaes.init.fs.H101.control_volume: Control volume properties initialization complete\n",
      "2024-06-13 01:10:06 [INFO] idaes.init.fs.H101.control_volume: Control volume reactions initialization complete\n",
      "2024-06-13 01:10:06 [DEBUG] idaes.solve.fs.H101: WARNING: model contains export suffix 'scaling_factor' that contains 3\n",
      "2024-06-13 01:10:06 [DEBUG] idaes.solve.fs.H101: component keys that are not exported as part of the NL file.  Skipping.\n",
      "2024-06-13 01:10:06 [DEBUG] idaes.solve.fs.H101: WARNING: model contains export suffix 'scaling_factor' that contains 50 keys\n",
      "2024-06-13 01:10:06 [DEBUG] idaes.solve.fs.H101: that are not Var, Constraint, Objective, or the model.  Skipping.\n",
      "2024-06-13 01:10:06 [DEBUG] idaes.solve.fs.H101: Ipopt 3.13.2: nlp_scaling_method=gradient-based\n",
      "2024-06-13 01:10:06 [DEBUG] idaes.solve.fs.H101: tol=1e-06\n",
      "2024-06-13 01:10:06 [DEBUG] idaes.solve.fs.H101: max_iter=200\n",
      "2024-06-13 01:10:06 [DEBUG] idaes.solve.fs.H101: \n",
      "2024-06-13 01:10:06 [DEBUG] idaes.solve.fs.H101: \n",
      "2024-06-13 01:10:06 [DEBUG] idaes.solve.fs.H101: ******************************************************************************\n",
      "2024-06-13 01:10:06 [DEBUG] idaes.solve.fs.H101: This program contains Ipopt, a library for large-scale nonlinear optimization.\n",
      "2024-06-13 01:10:06 [DEBUG] idaes.solve.fs.H101:  Ipopt is released as open source code under the Eclipse Public License (EPL).\n",
      "2024-06-13 01:10:06 [DEBUG] idaes.solve.fs.H101:          For more information visit http://projects.coin-or.org/Ipopt\n",
      "2024-06-13 01:10:06 [DEBUG] idaes.solve.fs.H101: \n",
      "2024-06-13 01:10:06 [DEBUG] idaes.solve.fs.H101: This version of Ipopt was compiled from source code available at\n",
      "2024-06-13 01:10:06 [DEBUG] idaes.solve.fs.H101:     https://github.com/IDAES/Ipopt as part of the Institute for the Design of\n",
      "2024-06-13 01:10:06 [DEBUG] idaes.solve.fs.H101:     Advanced Energy Systems Process Systems Engineering Framework (IDAES PSE\n",
      "2024-06-13 01:10:06 [DEBUG] idaes.solve.fs.H101:     Framework) Copyright (c) 2018-2019. See https://github.com/IDAES/idaes-pse.\n",
      "2024-06-13 01:10:06 [DEBUG] idaes.solve.fs.H101: \n",
      "2024-06-13 01:10:06 [DEBUG] idaes.solve.fs.H101: This version of Ipopt was compiled using HSL, a collection of Fortran codes\n",
      "2024-06-13 01:10:06 [DEBUG] idaes.solve.fs.H101:     for large-scale scientific computation.  All technical papers, sales and\n",
      "2024-06-13 01:10:06 [DEBUG] idaes.solve.fs.H101:     publicity material resulting from use of the HSL codes within IPOPT must\n",
      "2024-06-13 01:10:06 [DEBUG] idaes.solve.fs.H101:     contain the following acknowledgement:\n",
      "2024-06-13 01:10:06 [DEBUG] idaes.solve.fs.H101:         HSL, a collection of Fortran codes for large-scale scientific\n",
      "2024-06-13 01:10:06 [DEBUG] idaes.solve.fs.H101:         computation. See http://www.hsl.rl.ac.uk.\n",
      "2024-06-13 01:10:06 [DEBUG] idaes.solve.fs.H101: ******************************************************************************\n",
      "2024-06-13 01:10:06 [DEBUG] idaes.solve.fs.H101: \n",
      "2024-06-13 01:10:06 [DEBUG] idaes.solve.fs.H101: This is Ipopt version 3.13.2, running with linear solver ma27.\n",
      "2024-06-13 01:10:06 [DEBUG] idaes.solve.fs.H101: \n",
      "2024-06-13 01:10:06 [DEBUG] idaes.solve.fs.H101: Number of nonzeros in equality constraint Jacobian...:      124\n",
      "2024-06-13 01:10:06 [DEBUG] idaes.solve.fs.H101: Number of nonzeros in inequality constraint Jacobian.:        0\n",
      "2024-06-13 01:10:06 [DEBUG] idaes.solve.fs.H101: Number of nonzeros in Lagrangian Hessian.............:      115\n",
      "2024-06-13 01:10:06 [DEBUG] idaes.solve.fs.H101: \n",
      "2024-06-13 01:10:06 [DEBUG] idaes.solve.fs.H101: Total number of variables............................:       41\n",
      "2024-06-13 01:10:06 [DEBUG] idaes.solve.fs.H101:                      variables with only lower bounds:        0\n",
      "2024-06-13 01:10:06 [DEBUG] idaes.solve.fs.H101:                 variables with lower and upper bounds:        9\n",
      "2024-06-13 01:10:06 [DEBUG] idaes.solve.fs.H101:                      variables with only upper bounds:        0\n",
      "2024-06-13 01:10:06 [DEBUG] idaes.solve.fs.H101: Total number of equality constraints.................:       41\n",
      "2024-06-13 01:10:06 [DEBUG] idaes.solve.fs.H101: Total number of inequality constraints...............:        0\n",
      "2024-06-13 01:10:06 [DEBUG] idaes.solve.fs.H101:         inequality constraints with only lower bounds:        0\n",
      "2024-06-13 01:10:06 [DEBUG] idaes.solve.fs.H101:    inequality constraints with lower and upper bounds:        0\n",
      "2024-06-13 01:10:06 [DEBUG] idaes.solve.fs.H101:         inequality constraints with only upper bounds:        0\n",
      "2024-06-13 01:10:06 [DEBUG] idaes.solve.fs.H101: \n",
      "2024-06-13 01:10:06 [DEBUG] idaes.solve.fs.H101: iter    objective    inf_pr   inf_du lg(mu)  ||d||  lg(rg) alpha_du alpha_pr  ls\n",
      "2024-06-13 01:10:06 [DEBUG] idaes.solve.fs.H101:    0  0.0000000e+00 1.24e+05 0.00e+00  -1.0 0.00e+00    -  0.00e+00 0.00e+00   0\n",
      "2024-06-13 01:10:06 [DEBUG] idaes.solve.fs.H101:    1  0.0000000e+00 1.22e+05 2.72e+00  -1.0 7.31e+06    -  7.36e-02 5.80e-02h  1\n",
      "2024-06-13 01:10:06 [DEBUG] idaes.solve.fs.H101:    2  0.0000000e+00 1.22e+05 6.52e+03  -1.0 6.71e+06    -  7.58e-01 3.80e-04h  1\n",
      "2024-06-13 01:10:06 [DEBUG] idaes.solve.fs.H101:    3r 0.0000000e+00 1.22e+05 1.00e+03   1.3 0.00e+00    -  0.00e+00 4.72e-07R  4\n",
      "2024-06-13 01:10:06 [DEBUG] idaes.solve.fs.H101:    4r 0.0000000e+00 1.60e+05 9.98e+02   1.3 4.50e+04    -  6.69e-03 9.00e-04f  1\n",
      "2024-06-13 01:10:06 [DEBUG] idaes.solve.fs.H101:    5r 0.0000000e+00 1.67e+05 9.97e+02   1.3 1.58e+04    -  4.35e-03 5.26e-04f  1\n",
      "2024-06-13 01:10:06 [DEBUG] idaes.solve.fs.H101:    6r 0.0000000e+00 1.65e+05 9.94e+02   1.3 1.65e+04    -  1.33e-02 3.10e-03f  1\n",
      "2024-06-13 01:10:06 [DEBUG] idaes.solve.fs.H101:    7r 0.0000000e+00 1.56e+05 9.89e+02   1.3 1.67e+04    -  1.51e-04 5.27e-03f  1\n",
      "2024-06-13 01:10:06 [DEBUG] idaes.solve.fs.H101:    8r 0.0000000e+00 1.54e+05 7.02e+03   1.3 1.74e+04    -  1.27e-01 3.27e-02f  1\n",
      "2024-06-13 01:10:06 [DEBUG] idaes.solve.fs.H101:    9r 0.0000000e+00 1.40e+05 6.59e+03   1.3 1.76e+04    -  9.71e-02 9.38e-02f  1\n",
      "2024-06-13 01:10:06 [DEBUG] idaes.solve.fs.H101: iter    objective    inf_pr   inf_du lg(mu)  ||d||  lg(rg) alpha_du alpha_pr  ls\n",
      "2024-06-13 01:10:06 [DEBUG] idaes.solve.fs.H101:   10r 0.0000000e+00 1.37e+05 4.78e+03   1.3 9.31e+00   2.0 2.62e-01 2.39e-02f  1\n",
      "2024-06-13 01:10:06 [DEBUG] idaes.solve.fs.H101:   11r 0.0000000e+00 1.66e+05 4.44e+03   1.3 2.05e+05    -  5.52e-04 1.56e-03f  1\n",
      "2024-06-13 01:10:06 [DEBUG] idaes.solve.fs.H101:   12r 0.0000000e+00 2.08e+05 2.70e+04   1.3 7.30e+00   1.5 8.01e-01 7.97e-02f  1\n",
      "2024-06-13 01:10:06 [DEBUG] idaes.solve.fs.H101:   13r 0.0000000e+00 1.77e+05 2.19e+04   1.3 2.03e+01   1.0 6.45e-01 2.88e-01f  1\n",
      "2024-06-13 01:10:06 [DEBUG] idaes.solve.fs.H101:   14r 0.0000000e+00 1.72e+05 2.05e+04   1.3 1.25e+04    -  6.03e-02 6.19e-02f  1\n",
      "2024-06-13 01:10:06 [DEBUG] idaes.solve.fs.H101:   15r 0.0000000e+00 1.52e+05 2.07e+04   1.3 1.16e+04    -  9.93e-01 2.45e-01f  1\n",
      "2024-06-13 01:10:06 [DEBUG] idaes.solve.fs.H101:   16r 0.0000000e+00 1.50e+05 6.83e+03   1.3 8.15e+02    -  1.00e+00 4.12e-02f  1\n",
      "2024-06-13 01:10:06 [DEBUG] idaes.solve.fs.H101:   17r 0.0000000e+00 8.49e+04 4.09e+01   1.3 2.20e+02    -  1.00e+00 1.00e+00f  1\n",
      "2024-06-13 01:10:06 [DEBUG] idaes.solve.fs.H101:   18r 0.0000000e+00 9.09e+04 1.46e+02  -0.8 1.73e+02    -  9.54e-01 8.47e-01f  1\n",
      "2024-06-13 01:10:06 [DEBUG] idaes.solve.fs.H101:   19r 0.0000000e+00 9.27e+04 8.88e+03  -0.8 4.56e+03    -  9.63e-01 3.16e-01f  1\n",
      "2024-06-13 01:10:06 [DEBUG] idaes.solve.fs.H101: iter    objective    inf_pr   inf_du lg(mu)  ||d||  lg(rg) alpha_du alpha_pr  ls\n",
      "2024-06-13 01:10:06 [DEBUG] idaes.solve.fs.H101:   20r 0.0000000e+00 9.60e+04 1.27e+04  -0.8 2.09e+03    -  1.00e+00 9.46e-02f  1\n",
      "2024-06-13 01:10:06 [DEBUG] idaes.solve.fs.H101:   21r 0.0000000e+00 1.11e+05 1.34e+03  -0.8 1.89e+03    -  1.00e+00 9.23e-01f  1\n",
      "2024-06-13 01:10:06 [DEBUG] idaes.solve.fs.H101:   22r 0.0000000e+00 1.14e+05 1.35e+01  -0.8 1.47e+02    -  1.00e+00 1.00e+00f  1\n",
      "2024-06-13 01:10:06 [DEBUG] idaes.solve.fs.H101:   23r 0.0000000e+00 1.15e+05 5.62e+01  -0.8 6.23e+01    -  1.00e+00 1.00e+00f  1\n",
      "2024-06-13 01:10:06 [DEBUG] idaes.solve.fs.H101:   24r 0.0000000e+00 1.15e+05 2.02e+01  -0.8 1.84e+01    -  1.00e+00 5.00e-01f  2\n",
      "2024-06-13 01:10:06 [DEBUG] idaes.solve.fs.H101:   25r 0.0000000e+00 1.15e+05 9.78e-01  -0.8 1.00e+01    -  1.00e+00 1.00e+00h  1\n",
      "2024-06-13 01:10:06 [DEBUG] idaes.solve.fs.H101:   26r 0.0000000e+00 1.17e+05 5.94e+01  -2.3 5.91e+01    -  1.00e+00 8.51e-01f  1\n",
      "2024-06-13 01:10:06 [DEBUG] idaes.solve.fs.H101:   27r 0.0000000e+00 1.06e+05 3.43e+03  -2.3 1.48e+04    -  5.76e-01 4.42e-01f  1\n",
      "2024-06-13 01:10:06 [DEBUG] idaes.solve.fs.H101:   28r 0.0000000e+00 9.12e+04 5.08e+02  -2.3 2.47e-02   0.6 2.68e-01 8.50e-01f  1\n",
      "2024-06-13 01:10:06 [DEBUG] idaes.solve.fs.H101:   29r 0.0000000e+00 8.81e+04 7.03e+00  -2.3 7.51e-02   0.1 1.00e+00 1.00e+00f  1\n",
      "2024-06-13 01:10:06 [DEBUG] idaes.solve.fs.H101: iter    objective    inf_pr   inf_du lg(mu)  ||d||  lg(rg) alpha_du alpha_pr  ls\n",
      "2024-06-13 01:10:06 [DEBUG] idaes.solve.fs.H101:   30r 0.0000000e+00 8.65e+04 1.13e+01  -2.3 2.13e-01  -0.4 1.00e+00 1.00e+00f  1\n",
      "2024-06-13 01:10:06 [DEBUG] idaes.solve.fs.H101:   31r 0.0000000e+00 8.18e+04 4.16e+01  -2.3 5.49e-01  -0.9 1.00e+00 1.00e+00f  1\n",
      "2024-06-13 01:10:06 [DEBUG] idaes.solve.fs.H101:   32r 0.0000000e+00 7.34e+04 1.20e+02  -2.3 1.21e+00  -1.3 1.00e+00 1.00e+00f  1\n",
      "2024-06-13 01:10:06 [DEBUG] idaes.solve.fs.H101:   33r 0.0000000e+00 6.13e+04 1.58e+02  -2.3 2.34e+00  -1.8 1.00e+00 1.00e+00f  1\n",
      "2024-06-13 01:10:06 [DEBUG] idaes.solve.fs.H101:   34r 0.0000000e+00 4.04e+04 8.49e+00  -2.3 4.66e+00  -2.3 1.00e+00 1.00e+00f  1\n",
      "2024-06-13 01:10:06 [DEBUG] idaes.solve.fs.H101:   35r 0.0000000e+00 3.17e+04 4.38e+01  -2.3 2.24e+00  -1.9 1.00e+00 1.00e+00f  1\n",
      "2024-06-13 01:10:06 [DEBUG] idaes.solve.fs.H101:   36r 0.0000000e+00 3.43e+04 8.05e+03  -2.3 4.10e+02  -2.3 2.66e-02 2.03e-02f  1\n",
      "2024-06-13 01:10:06 [DEBUG] idaes.solve.fs.H101:   37r 0.0000000e+00 4.06e+04 5.06e+03  -2.3 3.76e-01  -0.1 6.95e-01 1.02e-01f  1\n",
      "2024-06-13 01:10:06 [DEBUG] idaes.solve.fs.H101:   38r 0.0000000e+00 3.87e+04 3.60e+03  -2.3 7.50e+03    -  2.24e-02 1.77e-01h  1\n",
      "2024-06-13 01:10:06 [DEBUG] idaes.solve.fs.H101:   39r 0.0000000e+00 3.87e+04 3.36e+03  -2.3 1.55e-01  -0.6 2.82e-01 2.11e-02h  1\n",
      "2024-06-13 01:10:06 [DEBUG] idaes.solve.fs.H101: iter    objective    inf_pr   inf_du lg(mu)  ||d||  lg(rg) alpha_du alpha_pr  ls\n",
      "2024-06-13 01:10:06 [DEBUG] idaes.solve.fs.H101:   40r 0.0000000e+00 3.83e+04 3.59e+03  -2.3 1.49e+03    -  1.64e-03 1.79e-02h  2\n",
      "2024-06-13 01:10:06 [DEBUG] idaes.solve.fs.H101:   41r 0.0000000e+00 3.83e+04 5.56e+03  -2.3 1.74e+00  -1.1 3.80e-01 1.77e-03h  2\n",
      "2024-06-13 01:10:06 [DEBUG] idaes.solve.fs.H101:   42r 0.0000000e+00 4.20e+04 2.41e+03  -2.3 2.48e+00  -1.5 9.61e-01 3.36e-01h  1\n",
      "2024-06-13 01:10:06 [DEBUG] idaes.solve.fs.H101:   43r 0.0000000e+00 3.40e+04 1.18e+03  -2.3 5.21e+00  -2.0 1.26e-01 3.72e-01h  1\n",
      "2024-06-13 01:10:06 [DEBUG] idaes.solve.fs.H101:   44r 0.0000000e+00 2.80e+04 8.15e+02  -2.3 5.40e+00  -2.5 4.65e-01 3.62e-01f  1\n",
      "2024-06-13 01:10:06 [DEBUG] idaes.solve.fs.H101:   45r 0.0000000e+00 9.93e+03 3.76e+02  -2.3 8.63e+00  -3.0 7.38e-01 1.00e+00f  1\n",
      "2024-06-13 01:10:06 [DEBUG] idaes.solve.fs.H101:   46r 0.0000000e+00 8.97e+03 1.28e+03  -2.3 6.28e+03    -  1.05e-01 5.53e-03f  3\n",
      "2024-06-13 01:10:06 [DEBUG] idaes.solve.fs.H101:   47r 0.0000000e+00 8.97e+03 1.29e+03  -2.3 6.74e+03    -  3.07e-03 3.20e-06f 15\n",
      "2024-06-13 01:10:06 [DEBUG] idaes.solve.fs.H101:   48r 0.0000000e+00 9.23e+03 8.18e+02  -2.3 2.35e+01  -3.5 1.00e+00 9.61e-03f  2\n",
      "2024-06-13 01:10:06 [DEBUG] idaes.solve.fs.H101:   49r 0.0000000e+00 6.55e+03 3.52e+03  -2.3 6.87e+03    -  6.79e-01 8.84e-02f  2\n",
      "2024-06-13 01:10:06 [DEBUG] idaes.solve.fs.H101: iter    objective    inf_pr   inf_du lg(mu)  ||d||  lg(rg) alpha_du alpha_pr  ls\n",
      "2024-06-13 01:10:06 [DEBUG] idaes.solve.fs.H101:   50r 0.0000000e+00 5.82e+03 5.45e+03  -2.3 6.34e+03    -  9.07e-01 1.73e-02f  6\n",
      "2024-06-13 01:10:06 [DEBUG] idaes.solve.fs.H101:   51r 0.0000000e+00 5.61e+04 4.13e+04  -2.3 6.23e+03    -  1.00e+00 1.00e+00f  1\n",
      "2024-06-13 01:10:07 [DEBUG] idaes.solve.fs.H101:   52r 0.0000000e+00 3.93e+04 2.84e+04  -2.3 2.03e+01    -  3.02e-01 7.43e-02h  1\n",
      "2024-06-13 01:10:07 [DEBUG] idaes.solve.fs.H101:   53r 0.0000000e+00 9.72e+03 4.61e+03  -2.3 7.84e+00    -  1.00e+00 9.13e-01h  1\n",
      "2024-06-13 01:10:07 [DEBUG] idaes.solve.fs.H101:   54r 0.0000000e+00 7.04e+03 6.47e+04  -2.3 1.09e+00    -  1.45e-01 1.00e+00f  1\n",
      "2024-06-13 01:10:07 [DEBUG] idaes.solve.fs.H101:   55r 0.0000000e+00 3.04e+03 4.97e+04  -2.3 2.17e+00    -  1.00e+00 3.12e-01f  2\n",
      "2024-06-13 01:10:07 [DEBUG] idaes.solve.fs.H101:   56r 0.0000000e+00 1.05e+03 2.83e+03  -2.3 4.32e-01    -  1.00e+00 1.00e+00f  1\n",
      "2024-06-13 01:10:07 [DEBUG] idaes.solve.fs.H101:   57r 0.0000000e+00 6.37e+02 8.71e+03  -2.3 1.21e+00    -  1.00e+00 1.00e+00f  1\n",
      "2024-06-13 01:10:07 [DEBUG] idaes.solve.fs.H101:   58r 0.0000000e+00 1.18e+02 5.40e+01  -2.3 6.45e-01    -  1.00e+00 1.00e+00h  1\n",
      "2024-06-13 01:10:07 [DEBUG] idaes.solve.fs.H101:   59r 0.0000000e+00 8.90e+01 3.80e+00  -2.3 8.08e-02    -  1.00e+00 1.00e+00h  1\n",
      "2024-06-13 01:10:07 [DEBUG] idaes.solve.fs.H101: iter    objective    inf_pr   inf_du lg(mu)  ||d||  lg(rg) alpha_du alpha_pr  ls\n",
      "2024-06-13 01:10:07 [DEBUG] idaes.solve.fs.H101:   60r 0.0000000e+00 8.76e+01 5.14e-04  -2.3 1.20e-03    -  1.00e+00 1.00e+00h  1\n",
      "2024-06-13 01:10:07 [DEBUG] idaes.solve.fs.H101:   61r 0.0000000e+00 8.09e+02 2.01e+02  -5.2 4.04e+00    -  1.00e+00 8.84e-01f  1\n",
      "2024-06-13 01:10:07 [DEBUG] idaes.solve.fs.H101:   62r 0.0000000e+00 7.47e+01 9.75e+01  -5.2 4.78e+05    -  9.48e-01 9.46e-01f  1\n",
      "2024-06-13 01:10:07 [DEBUG] idaes.solve.fs.H101:   63r 0.0000000e+00 2.13e+01 5.43e+01  -5.2 2.63e+04    -  1.00e+00 1.00e+00h  1\n",
      "2024-06-13 01:10:07 [DEBUG] idaes.solve.fs.H101:   64r 0.0000000e+00 3.03e+01 5.10e+01  -5.2 2.02e+00    -  1.00e+00 1.00e+00h  1\n",
      "2024-06-13 01:10:07 [DEBUG] idaes.solve.fs.H101:   65r 0.0000000e+00 1.64e+01 1.43e+00  -5.2 1.30e-01    -  1.00e+00 1.00e+00h  1\n",
      "2024-06-13 01:10:07 [DEBUG] idaes.solve.fs.H101:   66r 0.0000000e+00 1.64e+01 1.26e-03  -5.2 2.28e-03    -  1.00e+00 1.00e+00h  1\n",
      "2024-06-13 01:10:07 [DEBUG] idaes.solve.fs.H101: \n",
      "2024-06-13 01:10:07 [DEBUG] idaes.solve.fs.H101: Number of Iterations....: 66\n",
      "2024-06-13 01:10:07 [DEBUG] idaes.solve.fs.H101: \n",
      "2024-06-13 01:10:07 [DEBUG] idaes.solve.fs.H101:                                    (scaled)                 (unscaled)\n",
      "2024-06-13 01:10:07 [DEBUG] idaes.solve.fs.H101: Objective...............:   0.0000000000000000e+00    0.0000000000000000e+00\n",
      "2024-06-13 01:10:07 [DEBUG] idaes.solve.fs.H101: Dual infeasibility......:   5.1307918174926586e-04    5.1307918174926586e-04\n",
      "2024-06-13 01:10:07 [DEBUG] idaes.solve.fs.H101: Constraint violation....:   1.0701662731563832e-01    1.6420721299302556e+01\n",
      "2024-06-13 01:10:07 [DEBUG] idaes.solve.fs.H101: Complementarity.........:   6.8754760932927719e-06    6.8754760932927719e-06\n",
      "2024-06-13 01:10:07 [DEBUG] idaes.solve.fs.H101: Overall NLP error.......:   1.0701662731563832e-01    1.6420721299302556e+01\n",
      "2024-06-13 01:10:07 [DEBUG] idaes.solve.fs.H101: \n",
      "2024-06-13 01:10:07 [DEBUG] idaes.solve.fs.H101: \n",
      "2024-06-13 01:10:07 [DEBUG] idaes.solve.fs.H101: Number of objective function evaluations             = 110\n",
      "2024-06-13 01:10:07 [DEBUG] idaes.solve.fs.H101: Number of objective gradient evaluations             = 5\n",
      "2024-06-13 01:10:07 [DEBUG] idaes.solve.fs.H101: Number of equality constraint evaluations            = 110\n",
      "2024-06-13 01:10:07 [DEBUG] idaes.solve.fs.H101: Number of inequality constraint evaluations          = 0\n",
      "2024-06-13 01:10:07 [DEBUG] idaes.solve.fs.H101: Number of equality constraint Jacobian evaluations   = 69\n",
      "2024-06-13 01:10:07 [DEBUG] idaes.solve.fs.H101: Number of inequality constraint Jacobian evaluations = 0\n",
      "2024-06-13 01:10:07 [DEBUG] idaes.solve.fs.H101: Number of Lagrangian Hessian evaluations             = 67\n",
      "2024-06-13 01:10:07 [DEBUG] idaes.solve.fs.H101: Total CPU secs in IPOPT (w/o function evaluations)   =      0.045\n",
      "2024-06-13 01:10:07 [DEBUG] idaes.solve.fs.H101: Total CPU secs in NLP function evaluations           =      0.000\n",
      "2024-06-13 01:10:07 [DEBUG] idaes.solve.fs.H101: \n",
      "2024-06-13 01:10:07 [DEBUG] idaes.solve.fs.H101: EXIT: Converged to a point of local infeasibility. Problem may be infeasible.\n",
      "2024-06-13 01:10:07 [DEBUG] idaes.solve.fs.H101: WARNING: Loading a SolverResults object with a warning status into\n",
      "2024-06-13 01:10:07 [DEBUG] idaes.solve.fs.H101: model.name=\"fs.H101\";\n",
      "2024-06-13 01:10:07 [DEBUG] idaes.solve.fs.H101:     - termination condition: infeasible\n",
      "2024-06-13 01:10:07 [DEBUG] idaes.solve.fs.H101:     - message from solver: Ipopt 3.13.2\\x3a Converged to a locally infeasible\n",
      "2024-06-13 01:10:07 [DEBUG] idaes.solve.fs.H101:       point. Problem may be infeasible.\n",
      "2024-06-13 01:10:07 [INFO] idaes.init.fs.H101: Control volume initialization infeasible - Converged to a locally infeasible point. Problem may be infeasible..\n",
      "2024-06-13 01:10:07 [INFO] idaes.init.fs.H101: Step 2: sub-model initialization complete.\n",
      "2024-06-13 01:10:07 [INFO] idaes.init.fs.H101: Step 3: full model initialization infeasible - Converged to a locally infeasible point. Problem may be infeasible..\n",
      "2024-06-13 01:10:07 [INFO] idaes.init.fs.H101: Step 4: clean up completed.\n"
     ]
    },
    {
     "ename": "InitializationError",
     "evalue": "fs.H101 failed to initialize successfully: solver did not return optimal termination. Please check the output logs for more information.",
     "output_type": "error",
     "traceback": [
      "\u001b[1;31m---------------------------------------------------------------------------\u001b[0m",
      "\u001b[1;31mInitializationError\u001b[0m                       Traceback (most recent call last)",
      "Cell \u001b[1;32mIn[47], line 1\u001b[0m\n\u001b[1;32m----> 1\u001b[0m \u001b[43mseq\u001b[49m\u001b[38;5;241;43m.\u001b[39;49m\u001b[43mrun\u001b[49m\u001b[43m(\u001b[49m\u001b[43mm\u001b[49m\u001b[43m,\u001b[49m\u001b[43m \u001b[49m\u001b[43mfunction\u001b[49m\u001b[43m)\u001b[49m\n",
      "File \u001b[1;32mc:\\Users\\javal.vyas\\AppData\\Local\\anaconda3\\envs\\idaes-pse\\lib\\site-packages\\pyomo\\network\\decomposition.py:296\u001b[0m, in \u001b[0;36mSequentialDecomposition.run\u001b[1;34m(self, model, function)\u001b[0m\n\u001b[0;32m    293\u001b[0m \u001b[38;5;28mself\u001b[39m\u001b[38;5;241m.\u001b[39mcache\u001b[38;5;241m.\u001b[39mclear()\n\u001b[0;32m    295\u001b[0m \u001b[38;5;28;01mtry\u001b[39;00m:\n\u001b[1;32m--> 296\u001b[0m     \u001b[38;5;28;01mreturn\u001b[39;00m \u001b[38;5;28;43mself\u001b[39;49m\u001b[38;5;241;43m.\u001b[39;49m\u001b[43m_run_impl\u001b[49m\u001b[43m(\u001b[49m\u001b[43mmodel\u001b[49m\u001b[43m,\u001b[49m\u001b[43m \u001b[49m\u001b[43mfunction\u001b[49m\u001b[43m)\u001b[49m\n\u001b[0;32m    297\u001b[0m \u001b[38;5;28;01mfinally\u001b[39;00m:\n\u001b[0;32m    298\u001b[0m     \u001b[38;5;66;03m# Cleanup\u001b[39;00m\n\u001b[0;32m    299\u001b[0m     \u001b[38;5;28mself\u001b[39m\u001b[38;5;241m.\u001b[39mcache\u001b[38;5;241m.\u001b[39mclear()\n",
      "File \u001b[1;32mc:\\Users\\javal.vyas\\AppData\\Local\\anaconda3\\envs\\idaes-pse\\lib\\site-packages\\pyomo\\network\\decomposition.py:361\u001b[0m, in \u001b[0;36mSequentialDecomposition._run_impl\u001b[1;34m(self, model, function)\u001b[0m\n\u001b[0;32m    359\u001b[0m     kwds[\u001b[38;5;124m\"\u001b[39m\u001b[38;5;124maccel_min\u001b[39m\u001b[38;5;124m\"\u001b[39m] \u001b[38;5;241m=\u001b[39m \u001b[38;5;28mself\u001b[39m\u001b[38;5;241m.\u001b[39moptions[\u001b[38;5;124m\"\u001b[39m\u001b[38;5;124maccel_min\u001b[39m\u001b[38;5;124m\"\u001b[39m]\n\u001b[0;32m    360\u001b[0m     kwds[\u001b[38;5;124m\"\u001b[39m\u001b[38;5;124maccel_max\u001b[39m\u001b[38;5;124m\"\u001b[39m] \u001b[38;5;241m=\u001b[39m \u001b[38;5;28mself\u001b[39m\u001b[38;5;241m.\u001b[39moptions[\u001b[38;5;124m\"\u001b[39m\u001b[38;5;124maccel_max\u001b[39m\u001b[38;5;124m\"\u001b[39m]\n\u001b[1;32m--> 361\u001b[0m     \u001b[38;5;28mself\u001b[39m\u001b[38;5;241m.\u001b[39msolve_tear_wegstein(\u001b[38;5;241m*\u001b[39m\u001b[38;5;241m*\u001b[39mkwds)\n\u001b[0;32m    363\u001b[0m \u001b[38;5;28;01melse\u001b[39;00m:\n\u001b[0;32m    364\u001b[0m     \u001b[38;5;28;01mraise\u001b[39;00m \u001b[38;5;167;01mValueError\u001b[39;00m(\u001b[38;5;124m\"\u001b[39m\u001b[38;5;124mInvalid tear_method \u001b[39m\u001b[38;5;124m'\u001b[39m\u001b[38;5;132;01m%s\u001b[39;00m\u001b[38;5;124m'\u001b[39m\u001b[38;5;124m\"\u001b[39m \u001b[38;5;241m%\u001b[39m (tear_method,))\n",
      "File \u001b[1;32mc:\\Users\\javal.vyas\\AppData\\Local\\anaconda3\\envs\\idaes-pse\\lib\\site-packages\\pyomo\\network\\foqus_graph.py:226\u001b[0m, in \u001b[0;36mFOQUSGraph.solve_tear_wegstein\u001b[1;34m(self, G, order, function, tears, outEdges, iterLim, tol, tol_type, report_diffs, accel_min, accel_max)\u001b[0m\n\u001b[0;32m    223\u001b[0m itercount \u001b[38;5;241m+\u001b[39m\u001b[38;5;241m=\u001b[39m \u001b[38;5;241m1\u001b[39m\n\u001b[0;32m    225\u001b[0m logger\u001b[38;5;241m.\u001b[39minfo(\u001b[38;5;124m\"\u001b[39m\u001b[38;5;124mRunning Wegstein iteration \u001b[39m\u001b[38;5;132;01m%s\u001b[39;00m\u001b[38;5;124m\"\u001b[39m \u001b[38;5;241m%\u001b[39m itercount)\n\u001b[1;32m--> 226\u001b[0m \u001b[38;5;28;43mself\u001b[39;49m\u001b[38;5;241;43m.\u001b[39;49m\u001b[43mrun_order\u001b[49m\u001b[43m(\u001b[49m\u001b[43mG\u001b[49m\u001b[43m,\u001b[49m\u001b[43m \u001b[49m\u001b[43morder\u001b[49m\u001b[43m,\u001b[49m\u001b[43m \u001b[49m\u001b[43mfunction\u001b[49m\u001b[43m,\u001b[49m\u001b[43m \u001b[49m\u001b[43mignore\u001b[49m\u001b[43m)\u001b[49m\n\u001b[0;32m    228\u001b[0m gofx \u001b[38;5;241m=\u001b[39m \u001b[38;5;28mself\u001b[39m\u001b[38;5;241m.\u001b[39mgenerate_gofx(G, tears)\n\u001b[0;32m    230\u001b[0m err \u001b[38;5;241m=\u001b[39m \u001b[38;5;28mself\u001b[39m\u001b[38;5;241m.\u001b[39mcompute_err(gofx, x, tol_type)\n",
      "File \u001b[1;32mc:\\Users\\javal.vyas\\AppData\\Local\\anaconda3\\envs\\idaes-pse\\lib\\site-packages\\pyomo\\network\\decomposition.py:407\u001b[0m, in \u001b[0;36mSequentialDecomposition.run_order\u001b[1;34m(self, G, order, function, ignore, use_guesses)\u001b[0m\n\u001b[0;32m    404\u001b[0m         \u001b[38;5;28mself\u001b[39m\u001b[38;5;241m.\u001b[39mload_guesses(guesses, port, fixed_ins)\n\u001b[0;32m    405\u001b[0m     \u001b[38;5;28mself\u001b[39m\u001b[38;5;241m.\u001b[39mload_values(port, default, fixed_ins, use_guesses)\n\u001b[1;32m--> 407\u001b[0m \u001b[43mfunction\u001b[49m\u001b[43m(\u001b[49m\u001b[43munit\u001b[49m\u001b[43m)\u001b[49m\n\u001b[0;32m    409\u001b[0m \u001b[38;5;66;03m# free the inputs that were not already fixed\u001b[39;00m\n\u001b[0;32m    410\u001b[0m \u001b[38;5;28;01mfor\u001b[39;00m var \u001b[38;5;129;01min\u001b[39;00m fixed_ins:\n",
      "Cell \u001b[1;32mIn[46], line 5\u001b[0m, in \u001b[0;36mfunction\u001b[1;34m(unit)\u001b[0m\n\u001b[0;32m      3\u001b[0m \u001b[38;5;66;03m# if unit.name != 'fs.translator':\u001b[39;00m\n\u001b[0;32m      4\u001b[0m initializer \u001b[38;5;241m=\u001b[39m unit\u001b[38;5;241m.\u001b[39mdefault_initializer()\n\u001b[1;32m----> 5\u001b[0m \u001b[43minitializer\u001b[49m\u001b[38;5;241;43m.\u001b[39;49m\u001b[43minitialize\u001b[49m\u001b[43m(\u001b[49m\u001b[43munit\u001b[49m\u001b[43m,\u001b[49m\u001b[43m \u001b[49m\u001b[43moutput_level\u001b[49m\u001b[38;5;241;43m=\u001b[39;49m\u001b[43midaeslog\u001b[49m\u001b[38;5;241;43m.\u001b[39;49m\u001b[43mDEBUG\u001b[49m\u001b[43m)\u001b[49m\n",
      "File \u001b[1;32mc:\\users\\javal.vyas\\desktop\\github\\idaes-pse\\idaes\\core\\initialization\\initializer_base.py:201\u001b[0m, in \u001b[0;36mInitializerBase.initialize\u001b[1;34m(self, model, initial_guesses, json_file, output_level, exclude_unused_vars)\u001b[0m\n\u001b[0;32m    198\u001b[0m     \u001b[38;5;28mself\u001b[39m\u001b[38;5;241m.\u001b[39m_local_logger_level \u001b[38;5;241m=\u001b[39m \u001b[38;5;28;01mNone\u001b[39;00m\n\u001b[0;32m    200\u001b[0m \u001b[38;5;66;03m# 7. Check convergence\u001b[39;00m\n\u001b[1;32m--> 201\u001b[0m \u001b[38;5;28;01mreturn\u001b[39;00m \u001b[38;5;28;43mself\u001b[39;49m\u001b[38;5;241;43m.\u001b[39;49m\u001b[43mpostcheck\u001b[49m\u001b[43m(\u001b[49m\n\u001b[0;32m    202\u001b[0m \u001b[43m    \u001b[49m\u001b[43mmodel\u001b[49m\u001b[43m,\u001b[49m\u001b[43m \u001b[49m\u001b[43mresults_obj\u001b[49m\u001b[38;5;241;43m=\u001b[39;49m\u001b[43mresults\u001b[49m\u001b[43m,\u001b[49m\u001b[43m \u001b[49m\u001b[43mexclude_unused_vars\u001b[49m\u001b[38;5;241;43m=\u001b[39;49m\u001b[43mexclude_unused_vars\u001b[49m\n\u001b[0;32m    203\u001b[0m \u001b[43m\u001b[49m\u001b[43m)\u001b[49m\n",
      "File \u001b[1;32mc:\\users\\javal.vyas\\desktop\\github\\idaes-pse\\idaes\\core\\initialization\\initializer_base.py:378\u001b[0m, in \u001b[0;36mInitializerBase.postcheck\u001b[1;34m(self, model, results_obj, exclude_unused_vars)\u001b[0m\n\u001b[0;32m    375\u001b[0m     \u001b[38;5;28;01mif\u001b[39;00m \u001b[38;5;129;01mnot\u001b[39;00m \u001b[38;5;28mself\u001b[39m\u001b[38;5;241m.\u001b[39msummary[model][\u001b[38;5;124m\"\u001b[39m\u001b[38;5;124msolver_status\u001b[39m\u001b[38;5;124m\"\u001b[39m]:\n\u001b[0;32m    376\u001b[0m         \u001b[38;5;66;03m# Final solver call did not return optimal\u001b[39;00m\n\u001b[0;32m    377\u001b[0m         \u001b[38;5;28mself\u001b[39m\u001b[38;5;241m.\u001b[39m_update_summary(model, \u001b[38;5;124m\"\u001b[39m\u001b[38;5;124mstatus\u001b[39m\u001b[38;5;124m\"\u001b[39m, InitializationStatus\u001b[38;5;241m.\u001b[39mFailed)\n\u001b[1;32m--> 378\u001b[0m         \u001b[38;5;28;01mraise\u001b[39;00m InitializationError(\n\u001b[0;32m    379\u001b[0m             \u001b[38;5;124mf\u001b[39m\u001b[38;5;124m\"\u001b[39m\u001b[38;5;132;01m{\u001b[39;00mmodel\u001b[38;5;241m.\u001b[39mname\u001b[38;5;132;01m}\u001b[39;00m\u001b[38;5;124m failed to initialize successfully: solver did not return \u001b[39m\u001b[38;5;124m\"\u001b[39m\n\u001b[0;32m    380\u001b[0m             \u001b[38;5;124m\"\u001b[39m\u001b[38;5;124moptimal termination. Please check the output logs for more information.\u001b[39m\u001b[38;5;124m\"\u001b[39m\n\u001b[0;32m    381\u001b[0m         )\n\u001b[0;32m    382\u001b[0m \u001b[38;5;28;01melse\u001b[39;00m:\n\u001b[0;32m    383\u001b[0m     \u001b[38;5;66;03m# Need to manually check initialization\u001b[39;00m\n\u001b[0;32m    384\u001b[0m     \u001b[38;5;66;03m# First, check that all Vars have values\u001b[39;00m\n\u001b[0;32m    385\u001b[0m     \u001b[38;5;28;01mif\u001b[39;00m exclude_unused_vars:\n\u001b[0;32m    386\u001b[0m         \u001b[38;5;66;03m# Need to get set of Vars in active constraints\u001b[39;00m\n",
      "\u001b[1;31mInitializationError\u001b[0m: fs.H101 failed to initialize successfully: solver did not return optimal termination. Please check the output logs for more information."
     ]
    }
   ],
   "source": [
    "seq.run(m, function)"
   ]
  },
  {
   "cell_type": "code",
   "execution_count": null,
   "metadata": {},
   "outputs": [
    {
     "name": "stdout",
     "output_type": "stream",
     "text": [
      "WARNING: model contains export suffix 'scaling_factor' that contains 11\n",
      "component keys that are not exported as part of the NL file.  Skipping.\n",
      "WARNING: model contains export suffix 'scaling_factor' that contains 50 keys\n",
      "that are not Var, Constraint, Objective, or the model.  Skipping.\n"
     ]
    },
    {
     "name": "stdout",
     "output_type": "stream",
     "text": [
      "====================================================================================\n",
      "Model Statistics\n",
      "\n",
      "    Jacobian Condition Number: 1.450E+19\n",
      "\n",
      "------------------------------------------------------------------------------------\n",
      "3 WARNINGS\n",
      "\n",
      "    WARNING: 6 Constraints with large residuals (>1.0E-05)\n",
      "    WARNING: 4 Variables with extreme Jacobian values (<1.0E-08 or >1.0E+08)\n",
      "    WARNING: 2 Constraints with extreme Jacobian values (<1.0E-08 or >1.0E+08)\n",
      "\n",
      "------------------------------------------------------------------------------------\n",
      "6 Cautions\n",
      "\n",
      "    Caution: 8 Variables with value close to their bounds (abs=1.0E-04, rel=1.0E-04)\n",
      "    Caution: 4 Variables with value close to zero (tol=1.0E-08)\n",
      "    Caution: 26 Variables with extreme value (<1.0E-04 or >1.0E+04)\n",
      "    Caution: 10 Variables with extreme Jacobian values (<1.0E-04 or >1.0E+04)\n",
      "    Caution: 6 Constraints with extreme Jacobian values (<1.0E-04 or >1.0E+04)\n",
      "    Caution: 45 extreme Jacobian Entries (<1.0E-04 or >1.0E+04)\n",
      "\n",
      "------------------------------------------------------------------------------------\n",
      "Suggested next steps:\n",
      "\n",
      "    display_constraints_with_large_residuals()\n",
      "    compute_infeasibility_explanation()\n",
      "    display_variables_with_extreme_jacobians()\n",
      "    display_constraints_with_extreme_jacobians()\n",
      "\n",
      "====================================================================================\n"
     ]
    }
   ],
   "source": [
    "from idaes.core.util import DiagnosticsToolbox\n",
    "\n",
    "dt=DiagnosticsToolbox(m.fs.H101)\n",
    "dt.report_numerical_issues()"
   ]
  },
  {
   "cell_type": "code",
   "execution_count": null,
   "metadata": {},
   "outputs": [
    {
     "name": "stdout",
     "output_type": "stream",
     "text": [
      "====================================================================================\n",
      "The following constraint(s) have large residuals (>1.0E-05):\n",
      "\n",
      "    fs.H101.control_volume.properties_out[0.0]._teq_constraint: 1.07017E-01\n",
      "    fs.H101.control_volume.properties_out[0.0].equilibrium_constraint[benzene]: 8.29248E-02\n",
      "    fs.H101.control_volume.properties_out[0.0].equilibrium_constraint[toluene]: 2.02254E-01\n",
      "    fs.H101.control_volume.properties_out[0.0].equilibrium_constraint[methane]: 1.22213E-01\n",
      "    fs.H101.control_volume.properties_out[0.0].equilibrium_constraint[hydrogen]: 1.24604E-01\n",
      "    fs.H101.control_volume.properties_out[0.0].eq_enth_mol_phase[Liq]: 1.64207E+01\n",
      "\n",
      "====================================================================================\n"
     ]
    }
   ],
   "source": [
    "dt.display_constraints_with_large_residuals()"
   ]
  },
  {
   "cell_type": "code",
   "execution_count": null,
   "metadata": {},
   "outputs": [
    {
     "name": "stdout",
     "output_type": "stream",
     "text": [
      "WARNING: model contains export suffix 'scaling_factor' that contains 11\n",
      "component keys that are not exported as part of the NL file.  Skipping.\n",
      "WARNING: model contains export suffix 'scaling_factor' that contains 50 keys\n",
      "that are not Var, Constraint, Objective, or the model.  Skipping.\n"
     ]
    },
    {
     "name": "stdout",
     "output_type": "stream",
     "text": [
      "====================================================================================\n",
      "The following variable(s) are associated with extreme Jacobian values (<1.0E-04 or>1.0E+04):\n",
      "\n",
      "    fs.H101.control_volume.properties_out[0.0].flow_mol_phase_comp[Liq,benzene]: 2.201E+11\n",
      "    fs.H101.control_volume.properties_out[0.0].flow_mol_phase_comp[Liq,methane]: 6.982E+10\n",
      "    fs.H101.control_volume.properties_out[0.0].flow_mol_phase_comp[Liq,hydrogen]: 6.982E+10\n",
      "    fs.H101.control_volume.properties_out[0.0].flow_mol_phase_comp[Liq,toluene]: 2.645E+10\n",
      "    fs.H101.control_volume.properties_out[0.0].pressure_sat[hydrogen]: 8.904E-07\n",
      "    fs.H101.control_volume.properties_out[0.0].pressure_sat[methane]: 2.269E-06\n",
      "    fs.H101.control_volume.properties_out[0.0].flow_mol_phase_comp[Vap,benzene]: 4.001E+05\n",
      "    fs.H101.control_volume.properties_out[0.0].flow_mol_phase_comp[Vap,toluene]: 2.580E+05\n",
      "    fs.H101.control_volume.properties_out[0.0].flow_mol_phase_comp[Vap,hydrogen]: 1.307E+05\n",
      "    fs.H101.control_volume.properties_out[0.0].flow_mol_phase_comp[Vap,methane]: 1.307E+05\n",
      "\n",
      "====================================================================================\n"
     ]
    }
   ],
   "source": [
    "dt.display_variables_with_extreme_jacobians()"
   ]
  },
  {
   "cell_type": "code",
   "execution_count": null,
   "metadata": {},
   "outputs": [
    {
     "name": "stdout",
     "output_type": "stream",
     "text": [
      "{Member of flow_mol_phase_comp} : Phase-component molar flow rates\n",
      "    Size=8, Index=fs.BTHM_params.phase_list*fs.BTHM_params.component_list, Units=mol/s\n",
      "    Key                : Lower : Value                  : Upper : Fixed : Stale : Domain\n",
      "    ('Liq', 'benzene') : 1e-12 : 4.1400433243229404e-08 :   100 : False :  True :  Reals\n"
     ]
    }
   ],
   "source": [
    "m.fs.H101.control_volume.properties_out[0.0].flow_mol_phase_comp['Liq','benzene'].pprint()"
   ]
  },
  {
   "cell_type": "code",
   "execution_count": null,
   "metadata": {},
   "outputs": [
    {
     "name": "stdout",
     "output_type": "stream",
     "text": [
      "{Member of properties_out} : Material properties at outlet\n",
      "    Size=1, Index=fs._time, Active=True\n",
      "    fs.H101.control_volume.properties_out[0.0] : Active=True\n",
      "        3 Param Declarations\n",
      "            eps_1 : Smoothing parameter for Teq\n",
      "                Size=1, Index=None, Domain=Any, Default=0.01, Mutable=True, Units=K\n",
      "                Key  : Value\n",
      "                None :  0.01\n",
      "            eps_2 : Smoothing parameter for Teq\n",
      "                Size=1, Index=None, Domain=Any, Default=0.0005, Mutable=True, Units=K\n",
      "                Key  : Value\n",
      "                None : 0.0005\n",
      "            temperature_bubble : Bubble point temperature\n",
      "                Size=1, Index=None, Domain=Any, Default=None, Mutable=True, Units=K\n",
      "                Key  : Value\n",
      "                None :  33.0\n",
      "\n",
      "        9 Var Declarations\n",
      "            _t1 : Intermediate temperature for calculating Teq\n",
      "                Size=1, Index=None, Units=K\n",
      "                Key  : Lower : Value             : Upper : Fixed : Stale : Domain\n",
      "                None :  None : 600.0000000440917 :  None : False :  True :  Reals\n",
      "            _teq : Temperature for calculating phase equilibrium\n",
      "                Size=1, Index=None, Units=K\n",
      "                Key  : Lower : Value              : Upper : Fixed : Stale : Domain\n",
      "                None :  None : 401.33706934536684 :  None : False :  True :  Reals\n",
      "            enth_mol_phase : Phase molar specific enthalpies\n",
      "                Size=2, Index=fs.BTHM_params.phase_list, Units=J/mol\n",
      "                Key : Lower : Value             : Upper : Fixed : Stale : Domain\n",
      "                Liq :  None : 65581.41567348412 :  None : False :  True :  Reals\n",
      "                Vap :  None :  36848.1121817517 :  None : False :  True :  Reals\n",
      "            enth_mol_phase_comp : Phase-component molar specific enthalpies\n",
      "                Size=8, Index=fs.BTHM_params.phase_list*fs.BTHM_params.component_list, Units=J/mol\n",
      "                Key                 : Lower : Value                  : Upper : Fixed : Stale : Domain\n",
      "                 ('Liq', 'benzene') :  None :        56825.818946131 :  None : False :  True :  Reals\n",
      "                ('Liq', 'hydrogen') :  None :   3.03795954515525e-22 :  None : False :  True :  Reals\n",
      "                 ('Liq', 'methane') :  None : 2.9797760511576484e-22 :  None : False :  True :  Reals\n",
      "                 ('Liq', 'toluene') :  None :      65554.90548557646 :  None : False :  True :  Reals\n",
      "                 ('Vap', 'benzene') :  None :       70982.1937493005 :  None : False :  True :  Reals\n",
      "                ('Vap', 'hydrogen') :  None :      8809.610210110926 :  None : False :  True :  Reals\n",
      "                 ('Vap', 'methane') :  None :     13288.690957398636 :  None : False :  True :  Reals\n",
      "                 ('Vap', 'toluene') :  None :      84411.90574416363 :  None : False :  True :  Reals\n",
      "            flow_mol_phase_comp : Phase-component molar flow rates\n",
      "                Size=8, Index=fs.BTHM_params.phase_list*fs.BTHM_params.component_list, Units=mol/s\n",
      "                Key                 : Lower : Value                  : Upper : Fixed : Stale : Domain\n",
      "                 ('Liq', 'benzene') : 1e-12 : 4.1400433243229404e-08 :   100 : False :  True :  Reals\n",
      "                ('Liq', 'hydrogen') : 1e-12 : 2.1038699269756068e-07 :   100 : False :  True :  Reals\n",
      "                 ('Liq', 'methane') : 1e-12 :  2.063501912736887e-07 :   100 : False :  True :  Reals\n",
      "                 ('Liq', 'toluene') : 1e-12 : 1.2302970676891277e-06 :   100 : False :  True :  Reals\n",
      "                 ('Vap', 'benzene') : 1e-12 :   0.022826104719964203 :   100 : False :  True :  Reals\n",
      "                ('Vap', 'hydrogen') : 1e-12 :     0.3600322807480648 :   100 : False :  True :  Reals\n",
      "                 ('Vap', 'methane') : 1e-12 :    0.21604288971090133 :   100 : False :  True :  Reals\n",
      "                 ('Vap', 'toluene') : 1e-12 :    0.30286615207103784 :   100 : False :  True :  Reals\n",
      "            pressure : State pressure\n",
      "                Size=1, Index=None, Units=Pa\n",
      "                Key  : Lower  : Value              : Upper   : Fixed : Stale : Domain\n",
      "                None : 100000 : 349999.99933654314 : 1000000 : False :  True : NonNegativeReals\n",
      "            pressure_sat : Vapor pressure\n",
      "                Size=4, Index=fs.BTHM_params.component_list, Units=Pa\n",
      "                Key      : Lower : Value              : Upper : Fixed : Stale : Domain\n",
      "                 benzene :  None :  361317.2939916785 :  None : False :  True :  Reals\n",
      "                hydrogen :  None : 199528843.71925968 :  None : False :  True :  Reals\n",
      "                 methane :  None :  76707948.34378181 :  None : False :  True :  Reals\n",
      "                 toluene :  None : 161324.10438830906 :  None : False :  True :  Reals\n",
      "            temperature : State temperature\n",
      "                Size=1, Index=None, Units=K\n",
      "                Key  : Lower : Value : Upper : Fixed : Stale : Domain\n",
      "                None :   298 :   600 :  1000 :  True : False : NonNegativeReals\n",
      "            temperature_dew : Dew point temperature\n",
      "                Size=1, Index=None, Units=K\n",
      "                Key  : Lower : Value              : Upper : Fixed : Stale : Domain\n",
      "                None :  None : 390.63540661410156 :  None : False :  True :  Reals\n",
      "\n",
      "        9 Expression Declarations\n",
      "            _p_sat_dewT : Size=4, Index=fs.BTHM_params.component_list\n",
      "                Key      : Expression\n",
      "                 benzene : 100000.0*Pa*10**(fs.BTHM_params.pressure_sat_coeff_A[benzene] - fs.BTHM_params.pressure_sat_coeff_B[benzene]/(fs.H101.control_volume.properties_out[0.0].temperature_dew + fs.BTHM_params.pressure_sat_coeff_C[benzene]))\n",
      "                hydrogen : 100000.0*Pa*10**(fs.BTHM_params.pressure_sat_coeff_A[hydrogen] - fs.BTHM_params.pressure_sat_coeff_B[hydrogen]/(fs.H101.control_volume.properties_out[0.0].temperature_dew + fs.BTHM_params.pressure_sat_coeff_C[hydrogen]))\n",
      "                 methane : 100000.0*Pa*10**(fs.BTHM_params.pressure_sat_coeff_A[methane] - fs.BTHM_params.pressure_sat_coeff_B[methane]/(fs.H101.control_volume.properties_out[0.0].temperature_dew + fs.BTHM_params.pressure_sat_coeff_C[methane]))\n",
      "                 toluene : 100000.0*Pa*10**(fs.BTHM_params.pressure_sat_coeff_A[toluene] - fs.BTHM_params.pressure_sat_coeff_B[toluene]/(fs.H101.control_volume.properties_out[0.0].temperature_dew + fs.BTHM_params.pressure_sat_coeff_C[toluene]))\n",
      "            _tr_eq : Component reduced temperatures\n",
      "                Size=4, Index=fs.BTHM_params.component_list\n",
      "                Key      : Expression\n",
      "                 benzene :  1/fs.BTHM_params.temperature_crit[benzene]*fs.H101.control_volume.properties_out[0.0]._teq\n",
      "                hydrogen : 1/fs.BTHM_params.temperature_crit[hydrogen]*fs.H101.control_volume.properties_out[0.0]._teq\n",
      "                 methane :  1/fs.BTHM_params.temperature_crit[methane]*fs.H101.control_volume.properties_out[0.0]._teq\n",
      "                 toluene :  1/fs.BTHM_params.temperature_crit[toluene]*fs.H101.control_volume.properties_out[0.0]._teq\n",
      "            enthalpy_flow_terms : Size=2, Index=fs.BTHM_params.phase_list\n",
      "                Key : Expression\n",
      "                Liq : (fs.H101.control_volume.properties_out[0.0].flow_mol_phase_comp[Liq,benzene] + fs.H101.control_volume.properties_out[0.0].flow_mol_phase_comp[Liq,toluene] + fs.H101.control_volume.properties_out[0.0].flow_mol_phase_comp[Liq,methane] + fs.H101.control_volume.properties_out[0.0].flow_mol_phase_comp[Liq,hydrogen])*fs.H101.control_volume.properties_out[0.0].enth_mol_phase[Liq]\n",
      "                Vap : (fs.H101.control_volume.properties_out[0.0].flow_mol_phase_comp[Vap,benzene] + fs.H101.control_volume.properties_out[0.0].flow_mol_phase_comp[Vap,toluene] + fs.H101.control_volume.properties_out[0.0].flow_mol_phase_comp[Vap,methane] + fs.H101.control_volume.properties_out[0.0].flow_mol_phase_comp[Vap,hydrogen])*fs.H101.control_volume.properties_out[0.0].enth_mol_phase[Vap]\n",
      "            flow_mol : Total molar flowrate\n",
      "                Size=1, Index=None\n",
      "                Key  : Expression\n",
      "                None : fs.H101.control_volume.properties_out[0.0].flow_mol_phase_comp[Liq,benzene] + fs.H101.control_volume.properties_out[0.0].flow_mol_phase_comp[Vap,benzene] + fs.H101.control_volume.properties_out[0.0].flow_mol_phase_comp[Liq,toluene] + fs.H101.control_volume.properties_out[0.0].flow_mol_phase_comp[Vap,toluene] + fs.H101.control_volume.properties_out[0.0].flow_mol_phase_comp[Liq,methane] + fs.H101.control_volume.properties_out[0.0].flow_mol_phase_comp[Vap,methane] + fs.H101.control_volume.properties_out[0.0].flow_mol_phase_comp[Liq,hydrogen] + fs.H101.control_volume.properties_out[0.0].flow_mol_phase_comp[Vap,hydrogen]\n",
      "            flow_mol_phase : Phase molar flow rates\n",
      "                Size=2, Index=fs.BTHM_params.phase_list\n",
      "                Key : Expression\n",
      "                Liq : fs.H101.control_volume.properties_out[0.0].flow_mol_phase_comp[Liq,benzene] + fs.H101.control_volume.properties_out[0.0].flow_mol_phase_comp[Liq,toluene] + fs.H101.control_volume.properties_out[0.0].flow_mol_phase_comp[Liq,methane] + fs.H101.control_volume.properties_out[0.0].flow_mol_phase_comp[Liq,hydrogen]\n",
      "                Vap : fs.H101.control_volume.properties_out[0.0].flow_mol_phase_comp[Vap,benzene] + fs.H101.control_volume.properties_out[0.0].flow_mol_phase_comp[Vap,toluene] + fs.H101.control_volume.properties_out[0.0].flow_mol_phase_comp[Vap,methane] + fs.H101.control_volume.properties_out[0.0].flow_mol_phase_comp[Vap,hydrogen]\n",
      "            fug_phase_comp : Size=8, Index=fs.BTHM_params.phase_list*fs.BTHM_params.component_list\n",
      "                Key                 : Expression\n",
      "                 ('Liq', 'benzene') : fs.H101.control_volume.properties_out[0.0].pressure_sat[benzene]*(fs.H101.control_volume.properties_out[0.0].flow_mol_phase_comp[Liq,benzene]/(fs.H101.control_volume.properties_out[0.0].flow_mol_phase_comp[Liq,benzene] + fs.H101.control_volume.properties_out[0.0].flow_mol_phase_comp[Liq,toluene] + fs.H101.control_volume.properties_out[0.0].flow_mol_phase_comp[Liq,methane] + fs.H101.control_volume.properties_out[0.0].flow_mol_phase_comp[Liq,hydrogen]))\n",
      "                ('Liq', 'hydrogen') : fs.H101.control_volume.properties_out[0.0].mole_frac_phase_comp[Liq,hydrogen]\n",
      "                 ('Liq', 'methane') : fs.H101.control_volume.properties_out[0.0].mole_frac_phase_comp[Liq,methane]\n",
      "                 ('Liq', 'toluene') : fs.H101.control_volume.properties_out[0.0].pressure_sat[toluene]*(fs.H101.control_volume.properties_out[0.0].flow_mol_phase_comp[Liq,toluene]/(fs.H101.control_volume.properties_out[0.0].flow_mol_phase_comp[Liq,benzene] + fs.H101.control_volume.properties_out[0.0].flow_mol_phase_comp[Liq,toluene] + fs.H101.control_volume.properties_out[0.0].flow_mol_phase_comp[Liq,methane] + fs.H101.control_volume.properties_out[0.0].flow_mol_phase_comp[Liq,hydrogen]))\n",
      "                 ('Vap', 'benzene') : (fs.H101.control_volume.properties_out[0.0].flow_mol_phase_comp[Vap,benzene]/(fs.H101.control_volume.properties_out[0.0].flow_mol_phase_comp[Vap,benzene] + fs.H101.control_volume.properties_out[0.0].flow_mol_phase_comp[Vap,toluene] + fs.H101.control_volume.properties_out[0.0].flow_mol_phase_comp[Vap,methane] + fs.H101.control_volume.properties_out[0.0].flow_mol_phase_comp[Vap,hydrogen]))*fs.H101.control_volume.properties_out[0.0].pressure\n",
      "                ('Vap', 'hydrogen') : 1e-06\n",
      "                 ('Vap', 'methane') : 1e-06\n",
      "                 ('Vap', 'toluene') : (fs.H101.control_volume.properties_out[0.0].flow_mol_phase_comp[Vap,toluene]/(fs.H101.control_volume.properties_out[0.0].flow_mol_phase_comp[Vap,benzene] + fs.H101.control_volume.properties_out[0.0].flow_mol_phase_comp[Vap,toluene] + fs.H101.control_volume.properties_out[0.0].flow_mol_phase_comp[Vap,methane] + fs.H101.control_volume.properties_out[0.0].flow_mol_phase_comp[Vap,hydrogen]))*fs.H101.control_volume.properties_out[0.0].pressure\n",
      "            material_flow_terms : Size=8, Index=fs.BTHM_params.phase_list*fs.BTHM_params.component_list\n",
      "                Key                 : Expression\n",
      "                 ('Liq', 'benzene') :  fs.H101.control_volume.properties_out[0.0].flow_mol_phase_comp[Liq,benzene]\n",
      "                ('Liq', 'hydrogen') : fs.H101.control_volume.properties_out[0.0].flow_mol_phase_comp[Liq,hydrogen]\n",
      "                 ('Liq', 'methane') :  fs.H101.control_volume.properties_out[0.0].flow_mol_phase_comp[Liq,methane]\n",
      "                 ('Liq', 'toluene') :  fs.H101.control_volume.properties_out[0.0].flow_mol_phase_comp[Liq,toluene]\n",
      "                 ('Vap', 'benzene') :  fs.H101.control_volume.properties_out[0.0].flow_mol_phase_comp[Vap,benzene]\n",
      "                ('Vap', 'hydrogen') : fs.H101.control_volume.properties_out[0.0].flow_mol_phase_comp[Vap,hydrogen]\n",
      "                 ('Vap', 'methane') :  fs.H101.control_volume.properties_out[0.0].flow_mol_phase_comp[Vap,methane]\n",
      "                 ('Vap', 'toluene') :  fs.H101.control_volume.properties_out[0.0].flow_mol_phase_comp[Vap,toluene]\n",
      "            mole_frac_comp : Mixture mole fractions\n",
      "                Size=4, Index=fs.BTHM_params.component_list\n",
      "                Key      : Expression\n",
      "                 benzene : (fs.H101.control_volume.properties_out[0.0].flow_mol_phase_comp[Liq,benzene] + fs.H101.control_volume.properties_out[0.0].flow_mol_phase_comp[Vap,benzene])/(fs.H101.control_volume.properties_out[0.0].flow_mol_phase_comp[Liq,benzene] + fs.H101.control_volume.properties_out[0.0].flow_mol_phase_comp[Vap,benzene] + fs.H101.control_volume.properties_out[0.0].flow_mol_phase_comp[Liq,toluene] + fs.H101.control_volume.properties_out[0.0].flow_mol_phase_comp[Vap,toluene] + fs.H101.control_volume.properties_out[0.0].flow_mol_phase_comp[Liq,methane] + fs.H101.control_volume.properties_out[0.0].flow_mol_phase_comp[Vap,methane] + fs.H101.control_volume.properties_out[0.0].flow_mol_phase_comp[Liq,hydrogen] + fs.H101.control_volume.properties_out[0.0].flow_mol_phase_comp[Vap,hydrogen])\n",
      "                hydrogen : (fs.H101.control_volume.properties_out[0.0].flow_mol_phase_comp[Liq,hydrogen] + fs.H101.control_volume.properties_out[0.0].flow_mol_phase_comp[Vap,hydrogen])/(fs.H101.control_volume.properties_out[0.0].flow_mol_phase_comp[Liq,benzene] + fs.H101.control_volume.properties_out[0.0].flow_mol_phase_comp[Vap,benzene] + fs.H101.control_volume.properties_out[0.0].flow_mol_phase_comp[Liq,toluene] + fs.H101.control_volume.properties_out[0.0].flow_mol_phase_comp[Vap,toluene] + fs.H101.control_volume.properties_out[0.0].flow_mol_phase_comp[Liq,methane] + fs.H101.control_volume.properties_out[0.0].flow_mol_phase_comp[Vap,methane] + fs.H101.control_volume.properties_out[0.0].flow_mol_phase_comp[Liq,hydrogen] + fs.H101.control_volume.properties_out[0.0].flow_mol_phase_comp[Vap,hydrogen])\n",
      "                 methane : (fs.H101.control_volume.properties_out[0.0].flow_mol_phase_comp[Liq,methane] + fs.H101.control_volume.properties_out[0.0].flow_mol_phase_comp[Vap,methane])/(fs.H101.control_volume.properties_out[0.0].flow_mol_phase_comp[Liq,benzene] + fs.H101.control_volume.properties_out[0.0].flow_mol_phase_comp[Vap,benzene] + fs.H101.control_volume.properties_out[0.0].flow_mol_phase_comp[Liq,toluene] + fs.H101.control_volume.properties_out[0.0].flow_mol_phase_comp[Vap,toluene] + fs.H101.control_volume.properties_out[0.0].flow_mol_phase_comp[Liq,methane] + fs.H101.control_volume.properties_out[0.0].flow_mol_phase_comp[Vap,methane] + fs.H101.control_volume.properties_out[0.0].flow_mol_phase_comp[Liq,hydrogen] + fs.H101.control_volume.properties_out[0.0].flow_mol_phase_comp[Vap,hydrogen])\n",
      "                 toluene : (fs.H101.control_volume.properties_out[0.0].flow_mol_phase_comp[Liq,toluene] + fs.H101.control_volume.properties_out[0.0].flow_mol_phase_comp[Vap,toluene])/(fs.H101.control_volume.properties_out[0.0].flow_mol_phase_comp[Liq,benzene] + fs.H101.control_volume.properties_out[0.0].flow_mol_phase_comp[Vap,benzene] + fs.H101.control_volume.properties_out[0.0].flow_mol_phase_comp[Liq,toluene] + fs.H101.control_volume.properties_out[0.0].flow_mol_phase_comp[Vap,toluene] + fs.H101.control_volume.properties_out[0.0].flow_mol_phase_comp[Liq,methane] + fs.H101.control_volume.properties_out[0.0].flow_mol_phase_comp[Vap,methane] + fs.H101.control_volume.properties_out[0.0].flow_mol_phase_comp[Liq,hydrogen] + fs.H101.control_volume.properties_out[0.0].flow_mol_phase_comp[Vap,hydrogen])\n",
      "            mole_frac_phase_comp : Phase mole fractions\n",
      "                Size=8, Index=fs.BTHM_params.phase_list*fs.BTHM_params.component_list\n",
      "                Key                 : Expression\n",
      "                 ('Liq', 'benzene') : fs.H101.control_volume.properties_out[0.0].flow_mol_phase_comp[Liq,benzene]/(fs.H101.control_volume.properties_out[0.0].flow_mol_phase_comp[Liq,benzene] + fs.H101.control_volume.properties_out[0.0].flow_mol_phase_comp[Liq,toluene] + fs.H101.control_volume.properties_out[0.0].flow_mol_phase_comp[Liq,methane] + fs.H101.control_volume.properties_out[0.0].flow_mol_phase_comp[Liq,hydrogen])\n",
      "                ('Liq', 'hydrogen') : fs.H101.control_volume.properties_out[0.0].flow_mol_phase_comp[Liq,hydrogen]/(fs.H101.control_volume.properties_out[0.0].flow_mol_phase_comp[Liq,benzene] + fs.H101.control_volume.properties_out[0.0].flow_mol_phase_comp[Liq,toluene] + fs.H101.control_volume.properties_out[0.0].flow_mol_phase_comp[Liq,methane] + fs.H101.control_volume.properties_out[0.0].flow_mol_phase_comp[Liq,hydrogen])\n",
      "                 ('Liq', 'methane') : fs.H101.control_volume.properties_out[0.0].flow_mol_phase_comp[Liq,methane]/(fs.H101.control_volume.properties_out[0.0].flow_mol_phase_comp[Liq,benzene] + fs.H101.control_volume.properties_out[0.0].flow_mol_phase_comp[Liq,toluene] + fs.H101.control_volume.properties_out[0.0].flow_mol_phase_comp[Liq,methane] + fs.H101.control_volume.properties_out[0.0].flow_mol_phase_comp[Liq,hydrogen])\n",
      "                 ('Liq', 'toluene') : fs.H101.control_volume.properties_out[0.0].flow_mol_phase_comp[Liq,toluene]/(fs.H101.control_volume.properties_out[0.0].flow_mol_phase_comp[Liq,benzene] + fs.H101.control_volume.properties_out[0.0].flow_mol_phase_comp[Liq,toluene] + fs.H101.control_volume.properties_out[0.0].flow_mol_phase_comp[Liq,methane] + fs.H101.control_volume.properties_out[0.0].flow_mol_phase_comp[Liq,hydrogen])\n",
      "                 ('Vap', 'benzene') : fs.H101.control_volume.properties_out[0.0].flow_mol_phase_comp[Vap,benzene]/(fs.H101.control_volume.properties_out[0.0].flow_mol_phase_comp[Vap,benzene] + fs.H101.control_volume.properties_out[0.0].flow_mol_phase_comp[Vap,toluene] + fs.H101.control_volume.properties_out[0.0].flow_mol_phase_comp[Vap,methane] + fs.H101.control_volume.properties_out[0.0].flow_mol_phase_comp[Vap,hydrogen])\n",
      "                ('Vap', 'hydrogen') : fs.H101.control_volume.properties_out[0.0].flow_mol_phase_comp[Vap,hydrogen]/(fs.H101.control_volume.properties_out[0.0].flow_mol_phase_comp[Vap,benzene] + fs.H101.control_volume.properties_out[0.0].flow_mol_phase_comp[Vap,toluene] + fs.H101.control_volume.properties_out[0.0].flow_mol_phase_comp[Vap,methane] + fs.H101.control_volume.properties_out[0.0].flow_mol_phase_comp[Vap,hydrogen])\n",
      "                 ('Vap', 'methane') : fs.H101.control_volume.properties_out[0.0].flow_mol_phase_comp[Vap,methane]/(fs.H101.control_volume.properties_out[0.0].flow_mol_phase_comp[Vap,benzene] + fs.H101.control_volume.properties_out[0.0].flow_mol_phase_comp[Vap,toluene] + fs.H101.control_volume.properties_out[0.0].flow_mol_phase_comp[Vap,methane] + fs.H101.control_volume.properties_out[0.0].flow_mol_phase_comp[Vap,hydrogen])\n",
      "                 ('Vap', 'toluene') : fs.H101.control_volume.properties_out[0.0].flow_mol_phase_comp[Vap,toluene]/(fs.H101.control_volume.properties_out[0.0].flow_mol_phase_comp[Vap,benzene] + fs.H101.control_volume.properties_out[0.0].flow_mol_phase_comp[Vap,toluene] + fs.H101.control_volume.properties_out[0.0].flow_mol_phase_comp[Vap,methane] + fs.H101.control_volume.properties_out[0.0].flow_mol_phase_comp[Vap,hydrogen])\n",
      "\n",
      "        7 Constraint Declarations\n",
      "            _t1_constraint : Size=1, Index=None, Active=True\n",
      "                Key  : Lower : Body                                                                                                                                                                                                                                                                                                                                                                           : Upper : Active\n",
      "                None :   0.0 : (fs.H101.control_volume.properties_out[0.0]._t1 - 0.5*(fs.H101.control_volume.properties_out[0.0].temperature + fs.H101.control_volume.properties_out[0.0].temperature_bubble + sqrt((fs.H101.control_volume.properties_out[0.0].temperature - fs.H101.control_volume.properties_out[0.0].temperature_bubble)**2 + fs.H101.control_volume.properties_out[0.0].eps_1**2)))*0.01 :   0.0 :   True\n",
      "            _teq_constraint : Size=1, Index=None, Active=True\n",
      "                Key  : Lower : Body                                                                                                                                                                                                                                                                                                                                                      : Upper : Active\n",
      "                None :   0.0 : (fs.H101.control_volume.properties_out[0.0]._teq - 0.5*(fs.H101.control_volume.properties_out[0.0]._t1 + fs.H101.control_volume.properties_out[0.0].temperature_dew - sqrt((fs.H101.control_volume.properties_out[0.0]._t1 - fs.H101.control_volume.properties_out[0.0].temperature_dew)**2 + fs.H101.control_volume.properties_out[0.0].eps_2**2)))*0.01 :   0.0 :   True\n",
      "            eq_enth_mol_phase : Size=2, Index=fs.BTHM_params.phase_list, Active=True\n",
      "                Key : Lower : Body                                                                                                                                                                                                                                                                                                                                                                                                                                                                                                                                                                                                                                                                                                                                                                                                                                                                                                                                                                                                                                                                                                                                                                                                                                                                                                                                                                                                                                                                                                                                                                                                                                                                                                                                                                                                                                                                                                                                                                                                                            : Upper : Active\n",
      "                Liq :   0.0 :  (fs.H101.control_volume.properties_out[0.0].enth_mol_phase[Liq] - (fs.H101.control_volume.properties_out[0.0].enth_mol_phase_comp[Liq,benzene]*(fs.H101.control_volume.properties_out[0.0].flow_mol_phase_comp[Liq,benzene]/(fs.H101.control_volume.properties_out[0.0].flow_mol_phase_comp[Liq,benzene] + fs.H101.control_volume.properties_out[0.0].flow_mol_phase_comp[Liq,toluene] + fs.H101.control_volume.properties_out[0.0].flow_mol_phase_comp[Liq,methane] + fs.H101.control_volume.properties_out[0.0].flow_mol_phase_comp[Liq,hydrogen])) + fs.H101.control_volume.properties_out[0.0].enth_mol_phase_comp[Liq,toluene]*(fs.H101.control_volume.properties_out[0.0].flow_mol_phase_comp[Liq,toluene]/(fs.H101.control_volume.properties_out[0.0].flow_mol_phase_comp[Liq,benzene] + fs.H101.control_volume.properties_out[0.0].flow_mol_phase_comp[Liq,toluene] + fs.H101.control_volume.properties_out[0.0].flow_mol_phase_comp[Liq,methane] + fs.H101.control_volume.properties_out[0.0].flow_mol_phase_comp[Liq,hydrogen])) + fs.H101.control_volume.properties_out[0.0].enth_mol_phase_comp[Liq,methane]*(fs.H101.control_volume.properties_out[0.0].flow_mol_phase_comp[Liq,methane]/(fs.H101.control_volume.properties_out[0.0].flow_mol_phase_comp[Liq,benzene] + fs.H101.control_volume.properties_out[0.0].flow_mol_phase_comp[Liq,toluene] + fs.H101.control_volume.properties_out[0.0].flow_mol_phase_comp[Liq,methane] + fs.H101.control_volume.properties_out[0.0].flow_mol_phase_comp[Liq,hydrogen])) + fs.H101.control_volume.properties_out[0.0].enth_mol_phase_comp[Liq,hydrogen]*(fs.H101.control_volume.properties_out[0.0].flow_mol_phase_comp[Liq,hydrogen]/(fs.H101.control_volume.properties_out[0.0].flow_mol_phase_comp[Liq,benzene] + fs.H101.control_volume.properties_out[0.0].flow_mol_phase_comp[Liq,toluene] + fs.H101.control_volume.properties_out[0.0].flow_mol_phase_comp[Liq,methane] + fs.H101.control_volume.properties_out[0.0].flow_mol_phase_comp[Liq,hydrogen]))))*0.001 :   0.0 :   True\n",
      "                Vap :   0.0 : (fs.H101.control_volume.properties_out[0.0].enth_mol_phase[Vap] - (fs.H101.control_volume.properties_out[0.0].enth_mol_phase_comp[Vap,benzene]*(fs.H101.control_volume.properties_out[0.0].flow_mol_phase_comp[Vap,benzene]/(fs.H101.control_volume.properties_out[0.0].flow_mol_phase_comp[Vap,benzene] + fs.H101.control_volume.properties_out[0.0].flow_mol_phase_comp[Vap,toluene] + fs.H101.control_volume.properties_out[0.0].flow_mol_phase_comp[Vap,methane] + fs.H101.control_volume.properties_out[0.0].flow_mol_phase_comp[Vap,hydrogen])) + fs.H101.control_volume.properties_out[0.0].enth_mol_phase_comp[Vap,toluene]*(fs.H101.control_volume.properties_out[0.0].flow_mol_phase_comp[Vap,toluene]/(fs.H101.control_volume.properties_out[0.0].flow_mol_phase_comp[Vap,benzene] + fs.H101.control_volume.properties_out[0.0].flow_mol_phase_comp[Vap,toluene] + fs.H101.control_volume.properties_out[0.0].flow_mol_phase_comp[Vap,methane] + fs.H101.control_volume.properties_out[0.0].flow_mol_phase_comp[Vap,hydrogen])) + fs.H101.control_volume.properties_out[0.0].enth_mol_phase_comp[Vap,methane]*(fs.H101.control_volume.properties_out[0.0].flow_mol_phase_comp[Vap,methane]/(fs.H101.control_volume.properties_out[0.0].flow_mol_phase_comp[Vap,benzene] + fs.H101.control_volume.properties_out[0.0].flow_mol_phase_comp[Vap,toluene] + fs.H101.control_volume.properties_out[0.0].flow_mol_phase_comp[Vap,methane] + fs.H101.control_volume.properties_out[0.0].flow_mol_phase_comp[Vap,hydrogen])) + fs.H101.control_volume.properties_out[0.0].enth_mol_phase_comp[Vap,hydrogen]*(fs.H101.control_volume.properties_out[0.0].flow_mol_phase_comp[Vap,hydrogen]/(fs.H101.control_volume.properties_out[0.0].flow_mol_phase_comp[Vap,benzene] + fs.H101.control_volume.properties_out[0.0].flow_mol_phase_comp[Vap,toluene] + fs.H101.control_volume.properties_out[0.0].flow_mol_phase_comp[Vap,methane] + fs.H101.control_volume.properties_out[0.0].flow_mol_phase_comp[Vap,hydrogen]))))*0.0001 :   0.0 :   True\n",
      "            eq_enth_mol_phase_comp : Size=8, Index=fs.BTHM_params.phase_list*fs.BTHM_params.component_list, Active=True\n",
      "                Key                 : Lower : Body                                                                                                                                                                                                                                                                                                                                                                                                                                                                                                                                                                                                                                                                                                                                                                                                                  : Upper : Active\n",
      "                 ('Liq', 'benzene') :   0.0 :                                  1000.0*fs.H101.control_volume.properties_out[0.0].enth_mol_phase_comp[Liq,benzene] - (fs.BTHM_params.cp_ig_5[Liq,benzene]/5*(fs.H101.control_volume.properties_out[0.0].temperature**5 - fs.BTHM_params.temperature_ref**5) + fs.BTHM_params.cp_ig_4[Liq,benzene]/4*(fs.H101.control_volume.properties_out[0.0].temperature**4 - fs.BTHM_params.temperature_ref**4) + fs.BTHM_params.cp_ig_3[Liq,benzene]/3*(fs.H101.control_volume.properties_out[0.0].temperature**3 - fs.BTHM_params.temperature_ref**3) + fs.BTHM_params.cp_ig_2[Liq,benzene]/2*(fs.H101.control_volume.properties_out[0.0].temperature**2 - fs.BTHM_params.temperature_ref**2) + fs.BTHM_params.cp_ig_1[Liq,benzene]*(fs.H101.control_volume.properties_out[0.0].temperature - fs.BTHM_params.temperature_ref)) :   0.0 :   True\n",
      "                ('Liq', 'hydrogen') :   0.0 :                            1000.0*fs.H101.control_volume.properties_out[0.0].enth_mol_phase_comp[Liq,hydrogen] - (fs.BTHM_params.cp_ig_5[Liq,hydrogen]/5*(fs.H101.control_volume.properties_out[0.0].temperature**5 - fs.BTHM_params.temperature_ref**5) + fs.BTHM_params.cp_ig_4[Liq,hydrogen]/4*(fs.H101.control_volume.properties_out[0.0].temperature**4 - fs.BTHM_params.temperature_ref**4) + fs.BTHM_params.cp_ig_3[Liq,hydrogen]/3*(fs.H101.control_volume.properties_out[0.0].temperature**3 - fs.BTHM_params.temperature_ref**3) + fs.BTHM_params.cp_ig_2[Liq,hydrogen]/2*(fs.H101.control_volume.properties_out[0.0].temperature**2 - fs.BTHM_params.temperature_ref**2) + fs.BTHM_params.cp_ig_1[Liq,hydrogen]*(fs.H101.control_volume.properties_out[0.0].temperature - fs.BTHM_params.temperature_ref)) :   0.0 :   True\n",
      "                 ('Liq', 'methane') :   0.0 :                                  1000.0*fs.H101.control_volume.properties_out[0.0].enth_mol_phase_comp[Liq,methane] - (fs.BTHM_params.cp_ig_5[Liq,methane]/5*(fs.H101.control_volume.properties_out[0.0].temperature**5 - fs.BTHM_params.temperature_ref**5) + fs.BTHM_params.cp_ig_4[Liq,methane]/4*(fs.H101.control_volume.properties_out[0.0].temperature**4 - fs.BTHM_params.temperature_ref**4) + fs.BTHM_params.cp_ig_3[Liq,methane]/3*(fs.H101.control_volume.properties_out[0.0].temperature**3 - fs.BTHM_params.temperature_ref**3) + fs.BTHM_params.cp_ig_2[Liq,methane]/2*(fs.H101.control_volume.properties_out[0.0].temperature**2 - fs.BTHM_params.temperature_ref**2) + fs.BTHM_params.cp_ig_1[Liq,methane]*(fs.H101.control_volume.properties_out[0.0].temperature - fs.BTHM_params.temperature_ref)) :   0.0 :   True\n",
      "                 ('Liq', 'toluene') :   0.0 :                                  1000.0*fs.H101.control_volume.properties_out[0.0].enth_mol_phase_comp[Liq,toluene] - (fs.BTHM_params.cp_ig_5[Liq,toluene]/5*(fs.H101.control_volume.properties_out[0.0].temperature**5 - fs.BTHM_params.temperature_ref**5) + fs.BTHM_params.cp_ig_4[Liq,toluene]/4*(fs.H101.control_volume.properties_out[0.0].temperature**4 - fs.BTHM_params.temperature_ref**4) + fs.BTHM_params.cp_ig_3[Liq,toluene]/3*(fs.H101.control_volume.properties_out[0.0].temperature**3 - fs.BTHM_params.temperature_ref**3) + fs.BTHM_params.cp_ig_2[Liq,toluene]/2*(fs.H101.control_volume.properties_out[0.0].temperature**2 - fs.BTHM_params.temperature_ref**2) + fs.BTHM_params.cp_ig_1[Liq,toluene]*(fs.H101.control_volume.properties_out[0.0].temperature - fs.BTHM_params.temperature_ref)) :   0.0 :   True\n",
      "                 ('Vap', 'benzene') :   0.0 :        fs.H101.control_volume.properties_out[0.0].enth_mol_phase_comp[Vap,benzene] - (fs.BTHM_params.cp_ig_5[Vap,benzene]/5*(fs.H101.control_volume.properties_out[0.0].temperature**5 - fs.BTHM_params.temperature_ref**5) + fs.BTHM_params.cp_ig_4[Vap,benzene]/4*(fs.H101.control_volume.properties_out[0.0].temperature**4 - fs.BTHM_params.temperature_ref**4) + fs.BTHM_params.cp_ig_3[Vap,benzene]/3*(fs.H101.control_volume.properties_out[0.0].temperature**3 - fs.BTHM_params.temperature_ref**3) + fs.BTHM_params.cp_ig_2[Vap,benzene]/2*(fs.H101.control_volume.properties_out[0.0].temperature**2 - fs.BTHM_params.temperature_ref**2) + fs.BTHM_params.cp_ig_1[Vap,benzene]*(fs.H101.control_volume.properties_out[0.0].temperature - fs.BTHM_params.temperature_ref) + fs.BTHM_params.dh_vap[benzene]) :   0.0 :   True\n",
      "                ('Vap', 'hydrogen') :   0.0 : fs.H101.control_volume.properties_out[0.0].enth_mol_phase_comp[Vap,hydrogen] - (fs.BTHM_params.cp_ig_5[Vap,hydrogen]/5*(fs.H101.control_volume.properties_out[0.0].temperature**5 - fs.BTHM_params.temperature_ref**5) + fs.BTHM_params.cp_ig_4[Vap,hydrogen]/4*(fs.H101.control_volume.properties_out[0.0].temperature**4 - fs.BTHM_params.temperature_ref**4) + fs.BTHM_params.cp_ig_3[Vap,hydrogen]/3*(fs.H101.control_volume.properties_out[0.0].temperature**3 - fs.BTHM_params.temperature_ref**3) + fs.BTHM_params.cp_ig_2[Vap,hydrogen]/2*(fs.H101.control_volume.properties_out[0.0].temperature**2 - fs.BTHM_params.temperature_ref**2) + fs.BTHM_params.cp_ig_1[Vap,hydrogen]*(fs.H101.control_volume.properties_out[0.0].temperature - fs.BTHM_params.temperature_ref) + fs.BTHM_params.dh_vap[hydrogen]) :   0.0 :   True\n",
      "                 ('Vap', 'methane') :   0.0 :        fs.H101.control_volume.properties_out[0.0].enth_mol_phase_comp[Vap,methane] - (fs.BTHM_params.cp_ig_5[Vap,methane]/5*(fs.H101.control_volume.properties_out[0.0].temperature**5 - fs.BTHM_params.temperature_ref**5) + fs.BTHM_params.cp_ig_4[Vap,methane]/4*(fs.H101.control_volume.properties_out[0.0].temperature**4 - fs.BTHM_params.temperature_ref**4) + fs.BTHM_params.cp_ig_3[Vap,methane]/3*(fs.H101.control_volume.properties_out[0.0].temperature**3 - fs.BTHM_params.temperature_ref**3) + fs.BTHM_params.cp_ig_2[Vap,methane]/2*(fs.H101.control_volume.properties_out[0.0].temperature**2 - fs.BTHM_params.temperature_ref**2) + fs.BTHM_params.cp_ig_1[Vap,methane]*(fs.H101.control_volume.properties_out[0.0].temperature - fs.BTHM_params.temperature_ref) + fs.BTHM_params.dh_vap[methane]) :   0.0 :   True\n",
      "                 ('Vap', 'toluene') :   0.0 :        fs.H101.control_volume.properties_out[0.0].enth_mol_phase_comp[Vap,toluene] - (fs.BTHM_params.cp_ig_5[Vap,toluene]/5*(fs.H101.control_volume.properties_out[0.0].temperature**5 - fs.BTHM_params.temperature_ref**5) + fs.BTHM_params.cp_ig_4[Vap,toluene]/4*(fs.H101.control_volume.properties_out[0.0].temperature**4 - fs.BTHM_params.temperature_ref**4) + fs.BTHM_params.cp_ig_3[Vap,toluene]/3*(fs.H101.control_volume.properties_out[0.0].temperature**3 - fs.BTHM_params.temperature_ref**3) + fs.BTHM_params.cp_ig_2[Vap,toluene]/2*(fs.H101.control_volume.properties_out[0.0].temperature**2 - fs.BTHM_params.temperature_ref**2) + fs.BTHM_params.cp_ig_1[Vap,toluene]*(fs.H101.control_volume.properties_out[0.0].temperature - fs.BTHM_params.temperature_ref) + fs.BTHM_params.dh_vap[toluene]) :   0.0 :   True\n",
      "            eq_pressure_sat : Size=4, Index=fs.BTHM_params.component_list, Active=True\n",
      "                Key      : Lower                                           : Body                                                                                                                                                                                                                                    : Upper                                           : Active\n",
      "                 benzene :  - fs.BTHM_params.pressure_sat_coeff_B[benzene] :    (log10(1/Pa*1e-05*fs.H101.control_volume.properties_out[0.0].pressure_sat[benzene]) - fs.BTHM_params.pressure_sat_coeff_A[benzene])*(fs.H101.control_volume.properties_out[0.0]._teq + fs.BTHM_params.pressure_sat_coeff_C[benzene]) :  - fs.BTHM_params.pressure_sat_coeff_B[benzene] :   True\n",
      "                hydrogen : - fs.BTHM_params.pressure_sat_coeff_B[hydrogen] : (log10(1/Pa*1e-05*fs.H101.control_volume.properties_out[0.0].pressure_sat[hydrogen]) - fs.BTHM_params.pressure_sat_coeff_A[hydrogen])*(fs.H101.control_volume.properties_out[0.0]._teq + fs.BTHM_params.pressure_sat_coeff_C[hydrogen]) : - fs.BTHM_params.pressure_sat_coeff_B[hydrogen] :   True\n",
      "                 methane :  - fs.BTHM_params.pressure_sat_coeff_B[methane] :    (log10(1/Pa*1e-05*fs.H101.control_volume.properties_out[0.0].pressure_sat[methane]) - fs.BTHM_params.pressure_sat_coeff_A[methane])*(fs.H101.control_volume.properties_out[0.0]._teq + fs.BTHM_params.pressure_sat_coeff_C[methane]) :  - fs.BTHM_params.pressure_sat_coeff_B[methane] :   True\n",
      "                 toluene :  - fs.BTHM_params.pressure_sat_coeff_B[toluene] :    (log10(1/Pa*1e-05*fs.H101.control_volume.properties_out[0.0].pressure_sat[toluene]) - fs.BTHM_params.pressure_sat_coeff_A[toluene])*(fs.H101.control_volume.properties_out[0.0]._teq + fs.BTHM_params.pressure_sat_coeff_C[toluene]) :  - fs.BTHM_params.pressure_sat_coeff_B[toluene] :   True\n",
      "            eq_temperature_dew : Size=1, Index=None, Active=True\n",
      "                Key  : Lower : Body                                                                                                                                                                                                                                                                                                                                                                                                                                                                                                                                                                                                                                                                                                                                                                                                                                                                                                                                                                                                                                                                                                                                                                                                                                                                                                                                                                                                                                                                                                                                                                                                                                                                                                                                                                                                                                                                                                                                                                                                                                                                                                                                                : Upper : Active\n",
      "                None :   0.0 : fs.H101.control_volume.properties_out[0.0].pressure*(((fs.H101.control_volume.properties_out[0.0].flow_mol_phase_comp[Liq,toluene] + fs.H101.control_volume.properties_out[0.0].flow_mol_phase_comp[Vap,toluene])/(fs.H101.control_volume.properties_out[0.0].flow_mol_phase_comp[Liq,benzene] + fs.H101.control_volume.properties_out[0.0].flow_mol_phase_comp[Vap,benzene] + fs.H101.control_volume.properties_out[0.0].flow_mol_phase_comp[Liq,toluene] + fs.H101.control_volume.properties_out[0.0].flow_mol_phase_comp[Vap,toluene] + fs.H101.control_volume.properties_out[0.0].flow_mol_phase_comp[Liq,methane] + fs.H101.control_volume.properties_out[0.0].flow_mol_phase_comp[Vap,methane] + fs.H101.control_volume.properties_out[0.0].flow_mol_phase_comp[Liq,hydrogen] + fs.H101.control_volume.properties_out[0.0].flow_mol_phase_comp[Vap,hydrogen]))/(100000.0*Pa*10**(fs.BTHM_params.pressure_sat_coeff_A[toluene] - fs.BTHM_params.pressure_sat_coeff_B[toluene]/(fs.H101.control_volume.properties_out[0.0].temperature_dew + fs.BTHM_params.pressure_sat_coeff_C[toluene]))) + ((fs.H101.control_volume.properties_out[0.0].flow_mol_phase_comp[Liq,benzene] + fs.H101.control_volume.properties_out[0.0].flow_mol_phase_comp[Vap,benzene])/(fs.H101.control_volume.properties_out[0.0].flow_mol_phase_comp[Liq,benzene] + fs.H101.control_volume.properties_out[0.0].flow_mol_phase_comp[Vap,benzene] + fs.H101.control_volume.properties_out[0.0].flow_mol_phase_comp[Liq,toluene] + fs.H101.control_volume.properties_out[0.0].flow_mol_phase_comp[Vap,toluene] + fs.H101.control_volume.properties_out[0.0].flow_mol_phase_comp[Liq,methane] + fs.H101.control_volume.properties_out[0.0].flow_mol_phase_comp[Vap,methane] + fs.H101.control_volume.properties_out[0.0].flow_mol_phase_comp[Liq,hydrogen] + fs.H101.control_volume.properties_out[0.0].flow_mol_phase_comp[Vap,hydrogen]))/(100000.0*Pa*10**(fs.BTHM_params.pressure_sat_coeff_A[benzene] - fs.BTHM_params.pressure_sat_coeff_B[benzene]/(fs.H101.control_volume.properties_out[0.0].temperature_dew + fs.BTHM_params.pressure_sat_coeff_C[benzene])))) - 1 :   0.0 :   True\n",
      "            equilibrium_constraint : Size=4, Index=fs.BTHM_params.component_list, Active=True\n",
      "                Key      : Lower : Body                                                                                                                                                                                                                                                                                                                                                                                                                                                                                                                                                                                                                                                                                                                                                                                                                                                                                                                                     : Upper : Active\n",
      "                 benzene :   0.0 : (fs.H101.control_volume.properties_out[0.0].pressure_sat[benzene]*(fs.H101.control_volume.properties_out[0.0].flow_mol_phase_comp[Liq,benzene]/(fs.H101.control_volume.properties_out[0.0].flow_mol_phase_comp[Liq,benzene] + fs.H101.control_volume.properties_out[0.0].flow_mol_phase_comp[Liq,toluene] + fs.H101.control_volume.properties_out[0.0].flow_mol_phase_comp[Liq,methane] + fs.H101.control_volume.properties_out[0.0].flow_mol_phase_comp[Liq,hydrogen]))) - ((fs.H101.control_volume.properties_out[0.0].flow_mol_phase_comp[Vap,benzene]/(fs.H101.control_volume.properties_out[0.0].flow_mol_phase_comp[Vap,benzene] + fs.H101.control_volume.properties_out[0.0].flow_mol_phase_comp[Vap,toluene] + fs.H101.control_volume.properties_out[0.0].flow_mol_phase_comp[Vap,methane] + fs.H101.control_volume.properties_out[0.0].flow_mol_phase_comp[Vap,hydrogen]))*fs.H101.control_volume.properties_out[0.0].pressure) :   0.0 :   True\n",
      "                hydrogen :   0.0 :                                                                                                                                                                                                                                                                                                                                                                                                                                                                                                                        ((fs.H101.control_volume.properties_out[0.0].flow_mol_phase_comp[Liq,hydrogen]/(fs.H101.control_volume.properties_out[0.0].flow_mol_phase_comp[Liq,benzene] + fs.H101.control_volume.properties_out[0.0].flow_mol_phase_comp[Liq,toluene] + fs.H101.control_volume.properties_out[0.0].flow_mol_phase_comp[Liq,methane] + fs.H101.control_volume.properties_out[0.0].flow_mol_phase_comp[Liq,hydrogen]))) - 1e-06 :   0.0 :   True\n",
      "                 methane :   0.0 :                                                                                                                                                                                                                                                                                                                                                                                                                                                                                                                         ((fs.H101.control_volume.properties_out[0.0].flow_mol_phase_comp[Liq,methane]/(fs.H101.control_volume.properties_out[0.0].flow_mol_phase_comp[Liq,benzene] + fs.H101.control_volume.properties_out[0.0].flow_mol_phase_comp[Liq,toluene] + fs.H101.control_volume.properties_out[0.0].flow_mol_phase_comp[Liq,methane] + fs.H101.control_volume.properties_out[0.0].flow_mol_phase_comp[Liq,hydrogen]))) - 1e-06 :   0.0 :   True\n",
      "                 toluene :   0.0 : (fs.H101.control_volume.properties_out[0.0].pressure_sat[toluene]*(fs.H101.control_volume.properties_out[0.0].flow_mol_phase_comp[Liq,toluene]/(fs.H101.control_volume.properties_out[0.0].flow_mol_phase_comp[Liq,benzene] + fs.H101.control_volume.properties_out[0.0].flow_mol_phase_comp[Liq,toluene] + fs.H101.control_volume.properties_out[0.0].flow_mol_phase_comp[Liq,methane] + fs.H101.control_volume.properties_out[0.0].flow_mol_phase_comp[Liq,hydrogen]))) - ((fs.H101.control_volume.properties_out[0.0].flow_mol_phase_comp[Vap,toluene]/(fs.H101.control_volume.properties_out[0.0].flow_mol_phase_comp[Vap,benzene] + fs.H101.control_volume.properties_out[0.0].flow_mol_phase_comp[Vap,toluene] + fs.H101.control_volume.properties_out[0.0].flow_mol_phase_comp[Vap,methane] + fs.H101.control_volume.properties_out[0.0].flow_mol_phase_comp[Vap,hydrogen]))*fs.H101.control_volume.properties_out[0.0].pressure) :   0.0 :   True\n",
      "\n",
      "        2 Suffix Declarations\n",
      "            constraint_transformed_scaling_factor : Direction=LOCAL, Datatype=FLOAT\n",
      "                Key                                                               : Value\n",
      "                        fs.H101.control_volume.properties_out[0.0]._t1_constraint :   0.01\n",
      "                       fs.H101.control_volume.properties_out[0.0]._teq_constraint :   0.01\n",
      "                fs.H101.control_volume.properties_out[0.0].eq_enth_mol_phase[Liq] :  0.001\n",
      "                fs.H101.control_volume.properties_out[0.0].eq_enth_mol_phase[Vap] : 0.0001\n",
      "            scaling_factor : Direction=EXPORT, Datatype=FLOAT\n",
      "                Key                                                                           : Value\n",
      "                                               fs.H101.control_volume.properties_out[0.0]._t1 :   0.01\n",
      "                                              fs.H101.control_volume.properties_out[0.0]._teq :   0.01\n",
      "                               fs.H101.control_volume.properties_out[0.0].enth_mol_phase[Liq] :  0.001\n",
      "                               fs.H101.control_volume.properties_out[0.0].enth_mol_phase[Vap] : 0.0001\n",
      "                          fs.H101.control_volume.properties_out[0.0].enthalpy_flow_terms[Liq] :   0.01\n",
      "                          fs.H101.control_volume.properties_out[0.0].enthalpy_flow_terms[Vap] :   0.01\n",
      "                                          fs.H101.control_volume.properties_out[0.0].flow_mol : 1000.0\n",
      "                               fs.H101.control_volume.properties_out[0.0].flow_mol_phase[Liq] : 1000.0\n",
      "                               fs.H101.control_volume.properties_out[0.0].flow_mol_phase[Vap] : 1000.0\n",
      "                  fs.H101.control_volume.properties_out[0.0].flow_mol_phase_comp[Liq,benzene] :      1\n",
      "                 fs.H101.control_volume.properties_out[0.0].flow_mol_phase_comp[Liq,hydrogen] :      1\n",
      "                  fs.H101.control_volume.properties_out[0.0].flow_mol_phase_comp[Liq,methane] :      1\n",
      "                  fs.H101.control_volume.properties_out[0.0].flow_mol_phase_comp[Liq,toluene] :      1\n",
      "                  fs.H101.control_volume.properties_out[0.0].flow_mol_phase_comp[Vap,benzene] :      1\n",
      "                 fs.H101.control_volume.properties_out[0.0].flow_mol_phase_comp[Vap,hydrogen] :      1\n",
      "                  fs.H101.control_volume.properties_out[0.0].flow_mol_phase_comp[Vap,methane] :      1\n",
      "                  fs.H101.control_volume.properties_out[0.0].flow_mol_phase_comp[Vap,toluene] :      1\n",
      "                  fs.H101.control_volume.properties_out[0.0].material_flow_terms[Liq,benzene] : 1000.0\n",
      "                 fs.H101.control_volume.properties_out[0.0].material_flow_terms[Liq,hydrogen] : 1000.0\n",
      "                  fs.H101.control_volume.properties_out[0.0].material_flow_terms[Liq,methane] : 1000.0\n",
      "                  fs.H101.control_volume.properties_out[0.0].material_flow_terms[Liq,toluene] : 1000.0\n",
      "                  fs.H101.control_volume.properties_out[0.0].material_flow_terms[Vap,benzene] : 1000.0\n",
      "                 fs.H101.control_volume.properties_out[0.0].material_flow_terms[Vap,hydrogen] : 1000.0\n",
      "                  fs.H101.control_volume.properties_out[0.0].material_flow_terms[Vap,methane] : 1000.0\n",
      "                  fs.H101.control_volume.properties_out[0.0].material_flow_terms[Vap,toluene] : 1000.0\n",
      "                           fs.H101.control_volume.properties_out[0.0].mole_frac_comp[benzene] :   10.0\n",
      "                          fs.H101.control_volume.properties_out[0.0].mole_frac_comp[hydrogen] :   10.0\n",
      "                           fs.H101.control_volume.properties_out[0.0].mole_frac_comp[methane] :   10.0\n",
      "                           fs.H101.control_volume.properties_out[0.0].mole_frac_comp[toluene] :   10.0\n",
      "                 fs.H101.control_volume.properties_out[0.0].mole_frac_phase_comp[Liq,benzene] :   10.0\n",
      "                fs.H101.control_volume.properties_out[0.0].mole_frac_phase_comp[Liq,hydrogen] :   10.0\n",
      "                 fs.H101.control_volume.properties_out[0.0].mole_frac_phase_comp[Liq,methane] :   10.0\n",
      "                 fs.H101.control_volume.properties_out[0.0].mole_frac_phase_comp[Liq,toluene] :   10.0\n",
      "                 fs.H101.control_volume.properties_out[0.0].mole_frac_phase_comp[Vap,benzene] :   10.0\n",
      "                fs.H101.control_volume.properties_out[0.0].mole_frac_phase_comp[Vap,hydrogen] :   10.0\n",
      "                 fs.H101.control_volume.properties_out[0.0].mole_frac_phase_comp[Vap,methane] :   10.0\n",
      "                 fs.H101.control_volume.properties_out[0.0].mole_frac_phase_comp[Vap,toluene] :   10.0\n",
      "                                          fs.H101.control_volume.properties_out[0.0].pressure :  1e-05\n",
      "                             fs.H101.control_volume.properties_out[0.0].pressure_sat[benzene] :  1e-05\n",
      "                            fs.H101.control_volume.properties_out[0.0].pressure_sat[hydrogen] :  1e-05\n",
      "                             fs.H101.control_volume.properties_out[0.0].pressure_sat[methane] :  1e-05\n",
      "                             fs.H101.control_volume.properties_out[0.0].pressure_sat[toluene] :  1e-05\n",
      "                                       fs.H101.control_volume.properties_out[0.0].temperature :   0.01\n",
      "                                   fs.H101.control_volume.properties_out[0.0].temperature_dew :   0.01\n",
      "\n",
      "        30 Declarations: flow_mol_phase_comp pressure temperature flow_mol_phase flow_mol mole_frac_phase_comp mole_frac_comp _teq _t1 eps_1 eps_2 _t1_constraint temperature_bubble _teq_constraint temperature_dew _p_sat_dewT eq_temperature_dew _tr_eq equilibrium_constraint fug_phase_comp pressure_sat eq_pressure_sat material_flow_terms enthalpy_flow_terms enth_mol_phase eq_enth_mol_phase enth_mol_phase_comp eq_enth_mol_phase_comp scaling_factor constraint_transformed_scaling_factor\n"
     ]
    }
   ],
   "source": [
    "m.fs.H101.control_volume.properties_out[0.0].pprint()"
   ]
  },
  {
   "cell_type": "code",
   "execution_count": null,
   "metadata": {},
   "outputs": [
    {
     "name": "stdout",
     "output_type": "stream",
     "text": [
      "eq_total : Size=1, Index=None, Active=True\n",
      "    Key  : Lower : Body                                                                                                                                                       : Upper : Active\n",
      "    None :   0.0 : fs.translator.properties_out[0.0].flow_mol_phase[Liq] + fs.translator.properties_out[0.0].flow_mol_phase[Vap] - fs.translator.properties_out[0.0].flow_mol :   0.0 :   True\n"
     ]
    }
   ],
   "source": [
    "m.fs.translator.properties_out[0.0].eq_total.pprint()"
   ]
  },
  {
   "cell_type": "code",
   "execution_count": null,
   "metadata": {},
   "outputs": [
    {
     "name": "stdout",
     "output_type": "stream",
     "text": [
      "{Member of flow_mol_phase} : Size=2, Index=fs.BT_params.phase_list, Units=mol/s\n",
      "    Key : Lower : Value              : Upper : Fixed : Stale : Domain\n",
      "    Liq :  None : -8293840409087.352 :  None : False :  True :  Reals\n"
     ]
    }
   ],
   "source": [
    "m.fs.translator.properties_out[0.0].flow_mol_phase['Liq'].pprint()"
   ]
  },
  {
   "cell_type": "code",
   "execution_count": null,
   "metadata": {},
   "outputs": [
    {
     "name": "stdout",
     "output_type": "stream",
     "text": [
      "{Member of flow_mol_phase} : Size=2, Index=fs.BT_params.phase_list, Units=mol/s\n",
      "    Key : Lower : Value            : Upper : Fixed : Stale : Domain\n",
      "    Vap :  None : 8293840409087.62 :  None : False :  True :  Reals\n"
     ]
    }
   ],
   "source": [
    "m.fs.translator.properties_out[0.0].flow_mol_phase['Vap'].pprint()"
   ]
  },
  {
   "cell_type": "code",
   "execution_count": null,
   "metadata": {},
   "outputs": [
    {
     "name": "stdout",
     "output_type": "stream",
     "text": [
      "flow_mol : Total molar flowrate [mol/s]\n",
      "    Size=1, Index=None, Units=mol/s\n",
      "    Key  : Lower : Value               : Upper : Fixed : Stale : Domain\n",
      "    None :     0 : 0.26800060939236725 :  None : False :  True : NonNegativeReals\n"
     ]
    }
   ],
   "source": [
    "m.fs.translator.properties_out[0.0].flow_mol.pprint()"
   ]
  },
  {
   "cell_type": "code",
   "execution_count": null,
   "metadata": {},
   "outputs": [
    {
     "name": "stdout",
     "output_type": "stream",
     "text": [
      "eq_total_flow : Size=1, Index=None, Active=True\n",
      "    Key  : Lower : Body                                                                                                                                                                                 : Upper : Active\n",
      "    None :   0.0 : fs.translator.properties_out[0.0].flow_mol - (fs.translator.properties_in[0.0].flow_mol_phase_comp[Liq,benzene] + fs.translator.properties_in[0.0].flow_mol_phase_comp[Liq,toluene]) :   0.0 :   True\n"
     ]
    }
   ],
   "source": [
    "m.fs.translator.eq_total_flow.pprint()"
   ]
  },
  {
   "cell_type": "code",
   "execution_count": null,
   "metadata": {},
   "outputs": [
    {
     "name": "stdout",
     "output_type": "stream",
     "text": [
      "flow_mol : Total molar flowrate [mol/s]\n",
      "    Size=1, Index=None, Units=mol/s\n",
      "    Key  : Lower : Value               : Upper : Fixed : Stale : Domain\n",
      "    None :     0 : 0.26800060939236725 :  None : False :  True : NonNegativeReals\n"
     ]
    }
   ],
   "source": [
    "m.fs.translator.properties_out[0.0].flow_mol.pprint()"
   ]
  },
  {
   "cell_type": "code",
   "execution_count": null,
   "metadata": {},
   "outputs": [
    {
     "name": "stdout",
     "output_type": "stream",
     "text": [
      "{Member of flow_mol_phase_comp} : Phase-component molar flow rates\n",
      "    Size=8, Index=fs.BTHM_params.phase_list*fs.BTHM_params.component_list, Units=mol/s\n",
      "    Key                : Lower : Value               : Upper : Fixed : Stale : Domain\n",
      "    ('Liq', 'benzene') : 1e-12 : 0.19654395542862088 :   100 :  True : False :  Reals\n"
     ]
    }
   ],
   "source": [
    "m.fs.translator.properties_in[0.0].flow_mol_phase_comp['Liq','benzene'].pprint()"
   ]
  },
  {
   "cell_type": "code",
   "execution_count": null,
   "metadata": {},
   "outputs": [
    {
     "name": "stdout",
     "output_type": "stream",
     "text": [
      "{Member of properties_out} : Material properties in outgoing stream\n",
      "    Size=1, Index=fs._time, Active=True\n",
      "    fs.translator.properties_out[0.0] : Active=True\n",
      "        2 Param Declarations\n",
      "            eps_1 : Smoothing parameter for equilibrium temperature\n",
      "                Size=1, Index=None, Domain=Any, Default=0.01, Mutable=True, Units=K\n",
      "                Key  : Value\n",
      "                None :  0.01\n",
      "            eps_2 : Smoothing parameter for equilibrium temperature\n",
      "                Size=1, Index=None, Domain=Any, Default=0.0005, Mutable=True, Units=K\n",
      "                Key  : Value\n",
      "                None : 0.0005\n",
      "\n",
      "        11 Var Declarations\n",
      "            _t1 : Intermediate temperature for calculating the equilibrium temperature\n",
      "                Size=1, Index=None, Units=K\n",
      "                Key  : Lower : Value              : Upper : Fixed : Stale : Domain\n",
      "                None :  None : 406.75543755786606 :  None : False :  True :  Reals\n",
      "            _temperature_equilibrium : Temperature for calculating phase equilibrium\n",
      "                Size=1, Index=None, Units=K\n",
      "                Key  : Lower : Value             : Upper : Fixed : Stale : Domain\n",
      "                None :  None : 406.7554375459401 :  None : False :  True :  Reals\n",
      "            flow_mol : Total molar flowrate [mol/s]\n",
      "                Size=1, Index=None, Units=mol/s\n",
      "                Key  : Lower : Value               : Upper : Fixed : Stale : Domain\n",
      "                None :     0 : 0.26800060939236725 :  None : False :  True : NonNegativeReals\n",
      "            flow_mol_phase : Size=2, Index=fs.BT_params.phase_list, Units=mol/s\n",
      "                Key : Lower : Value              : Upper : Fixed : Stale : Domain\n",
      "                Liq :  None : -8293840409087.352 :  None : False :  True :  Reals\n",
      "                Vap :  None :   8293840409087.62 :  None : False :  True :  Reals\n",
      "            mole_frac_comp : Mixture mole fraction\n",
      "                Size=2, Index=fs.BT_params.component_list\n",
      "                Key     : Lower : Value              : Upper : Fixed : Stale : Domain\n",
      "                benzene :     0 : 0.7333698336978003 :     1 : False :  True :  Reals\n",
      "                toluene :     0 : 0.2666281663036219 :     1 : False :  True :  Reals\n",
      "            mole_frac_phase_comp : Size=4, Index=fs.BT_params._phase_component_set\n",
      "                Key                : Lower : Value                  : Upper : Fixed : Stale : Domain\n",
      "                ('Liq', 'benzene') :     0 : 3.4377766569886393e-13 :     1 : False :  True :  Reals\n",
      "                ('Liq', 'toluene') :     0 : 1.3715945075993129e-15 :     1 : False :  True :  Reals\n",
      "                ('Vap', 'benzene') :     0 : 3.6747519936801227e-13 :     1 : False :  True :  Reals\n",
      "                ('Vap', 'toluene') :     0 :  9.987206519164467e-15 :     1 : False :  True :  Reals\n",
      "            pressure : State pressure [Pa]\n",
      "                Size=1, Index=None, Units=Pa\n",
      "                Key  : Lower : Value              : Upper : Fixed : Stale : Domain\n",
      "                None :     0 : 349999.99999909924 :  None : False :  True : NonNegativeReals\n",
      "            pressure_sat_comp : vapor pressure\n",
      "                Size=2, Index=fs.BT_params.component_list, Units=Pa\n",
      "                Key     : Lower : Value              : Upper : Fixed : Stale : Domain\n",
      "                benzene :  None :  409640.6695274224 :  None : False :  True :  Reals\n",
      "                toluene :  None : 185958.94528677178 :  None : False :  True :  Reals\n",
      "            temperature : State temperature [K]\n",
      "                Size=1, Index=None, Units=K\n",
      "                Key  : Lower : Value : Upper : Fixed : Stale : Domain\n",
      "                None :     0 : 325.0 :  None : False :  True : NonNegativeReals\n",
      "            temperature_bubble : Bubble point temperature (K)\n",
      "                Size=1, Index=None, Units=K\n",
      "                Key  : Lower : Value            : Upper : Fixed : Stale : Domain\n",
      "                None :  None : 406.755437252076 :  None : False :  True :  Reals\n",
      "            temperature_dew : Dew point temperature (K)\n",
      "                Size=1, Index=None, Units=K\n",
      "                Key  : Lower : Value              : Upper : Fixed : Stale : Domain\n",
      "                None :  None : 411.99609050155345 :  None : False :  True :  Reals\n",
      "\n",
      "        4 Expression Declarations\n",
      "            _p_sat_bubbleT : Size=2, Index=fs.BT_params.component_list\n",
      "                Key     : Expression\n",
      "                benzene : fs.BT_params.pressure_critical[benzene]*exp((-6.98273*(1 - 1/fs.BT_params.temperature_critical[benzene]*fs.translator.properties_out[0.0].temperature_bubble) + 1.33213*(1 - 1/fs.BT_params.temperature_critical[benzene]*fs.translator.properties_out[0.0].temperature_bubble)**1.5 - 2.62863*(1 - 1/fs.BT_params.temperature_critical[benzene]*fs.translator.properties_out[0.0].temperature_bubble)**3 - 3.33399*(1 - 1/fs.BT_params.temperature_critical[benzene]*fs.translator.properties_out[0.0].temperature_bubble)**6)/(1 - (1 - 1/fs.BT_params.temperature_critical[benzene]*fs.translator.properties_out[0.0].temperature_bubble)))\n",
      "                toluene : fs.BT_params.pressure_critical[toluene]*exp((-7.28607*(1 - 1/fs.BT_params.temperature_critical[toluene]*fs.translator.properties_out[0.0].temperature_bubble) + 1.38091*(1 - 1/fs.BT_params.temperature_critical[toluene]*fs.translator.properties_out[0.0].temperature_bubble)**1.5 - 2.83433*(1 - 1/fs.BT_params.temperature_critical[toluene]*fs.translator.properties_out[0.0].temperature_bubble)**3 - 2.79168*(1 - 1/fs.BT_params.temperature_critical[toluene]*fs.translator.properties_out[0.0].temperature_bubble)**6)/(1 - (1 - 1/fs.BT_params.temperature_critical[toluene]*fs.translator.properties_out[0.0].temperature_bubble)))\n",
      "            _p_sat_dewT : Size=2, Index=fs.BT_params.component_list\n",
      "                Key     : Expression\n",
      "                benzene : fs.BT_params.pressure_critical[benzene]*exp((-6.98273*(1 - 1/fs.BT_params.temperature_critical[benzene]*fs.translator.properties_out[0.0].temperature_dew) + 1.33213*(1 - 1/fs.BT_params.temperature_critical[benzene]*fs.translator.properties_out[0.0].temperature_dew)**1.5 - 2.62863*(1 - 1/fs.BT_params.temperature_critical[benzene]*fs.translator.properties_out[0.0].temperature_dew)**3 - 3.33399*(1 - 1/fs.BT_params.temperature_critical[benzene]*fs.translator.properties_out[0.0].temperature_dew)**6)/(1 - (1 - 1/fs.BT_params.temperature_critical[benzene]*fs.translator.properties_out[0.0].temperature_dew)))\n",
      "                toluene : fs.BT_params.pressure_critical[toluene]*exp((-7.28607*(1 - 1/fs.BT_params.temperature_critical[toluene]*fs.translator.properties_out[0.0].temperature_dew) + 1.38091*(1 - 1/fs.BT_params.temperature_critical[toluene]*fs.translator.properties_out[0.0].temperature_dew)**1.5 - 2.83433*(1 - 1/fs.BT_params.temperature_critical[toluene]*fs.translator.properties_out[0.0].temperature_dew)**3 - 2.79168*(1 - 1/fs.BT_params.temperature_critical[toluene]*fs.translator.properties_out[0.0].temperature_dew)**6)/(1 - (1 - 1/fs.BT_params.temperature_critical[toluene]*fs.translator.properties_out[0.0].temperature_dew)))\n",
      "            _reduced_temp : Size=2, Index=fs.BT_params.component_list\n",
      "                Key     : Expression\n",
      "                benzene : (fs.BT_params.temperature_critical[benzene] - fs.translator.properties_out[0.0]._temperature_equilibrium)/fs.BT_params.temperature_critical[benzene]\n",
      "                toluene : (fs.BT_params.temperature_critical[toluene] - fs.translator.properties_out[0.0]._temperature_equilibrium)/fs.BT_params.temperature_critical[toluene]\n",
      "            fug_phase_comp : Size=4, Index=fs.BT_params.phase_list*fs.BT_params.component_list\n",
      "                Key                : Expression\n",
      "                ('Liq', 'benzene') : fs.translator.properties_out[0.0].mole_frac_phase_comp[Liq,benzene]*fs.translator.properties_out[0.0].pressure_sat_comp[benzene]\n",
      "                ('Liq', 'toluene') : fs.translator.properties_out[0.0].mole_frac_phase_comp[Liq,toluene]*fs.translator.properties_out[0.0].pressure_sat_comp[toluene]\n",
      "                ('Vap', 'benzene') :                   fs.translator.properties_out[0.0].mole_frac_phase_comp[Vap,benzene]*fs.translator.properties_out[0.0].pressure\n",
      "                ('Vap', 'toluene') :                   fs.translator.properties_out[0.0].mole_frac_phase_comp[Vap,toluene]*fs.translator.properties_out[0.0].pressure\n",
      "\n",
      "        9 Constraint Declarations\n",
      "            _t1_constraint : Size=1, Index=None, Active=True\n",
      "                Key  : Lower : Body                                                                                                                                                                                                                                                                                                              : Upper : Active\n",
      "                None :   0.0 : fs.translator.properties_out[0.0]._t1 - 0.5*(fs.translator.properties_out[0.0].temperature + fs.translator.properties_out[0.0].temperature_bubble + sqrt((fs.translator.properties_out[0.0].temperature - fs.translator.properties_out[0.0].temperature_bubble)**2 + fs.translator.properties_out[0.0].eps_1**2)) :   0.0 :   True\n",
      "            _teq_constraint : Size=1, Index=None, Active=True\n",
      "                Key  : Lower : Body                                                                                                                                                                                                                                                                                                             : Upper : Active\n",
      "                None :   0.0 : fs.translator.properties_out[0.0]._temperature_equilibrium - 0.5*(fs.translator.properties_out[0.0]._t1 + fs.translator.properties_out[0.0].temperature_dew - sqrt((fs.translator.properties_out[0.0]._t1 - fs.translator.properties_out[0.0].temperature_dew)**2 + fs.translator.properties_out[0.0].eps_2**2)) :   0.0 :   True\n",
      "            eq_P_vap : Size=2, Index=fs.BT_params.component_list, Active=True\n",
      "                Key     : Lower : Body                                                                                                                                                                                                                                                                                                                                                                                                                                                                                                                                                                                                                                                                                                                                                                                                                                                                                                                                                       : Upper : Active\n",
      "                benzene :   0.0 : (1 - ((fs.BT_params.temperature_critical[benzene] - fs.translator.properties_out[0.0]._temperature_equilibrium)/fs.BT_params.temperature_critical[benzene]))*log(1/fs.BT_params.pressure_critical[benzene]*fs.translator.properties_out[0.0].pressure_sat_comp[benzene]) - (-6.98273*((fs.BT_params.temperature_critical[benzene] - fs.translator.properties_out[0.0]._temperature_equilibrium)/fs.BT_params.temperature_critical[benzene]) + 1.33213*((fs.BT_params.temperature_critical[benzene] - fs.translator.properties_out[0.0]._temperature_equilibrium)/fs.BT_params.temperature_critical[benzene])**1.5 - 2.62863*((fs.BT_params.temperature_critical[benzene] - fs.translator.properties_out[0.0]._temperature_equilibrium)/fs.BT_params.temperature_critical[benzene])**3 - 3.33399*((fs.BT_params.temperature_critical[benzene] - fs.translator.properties_out[0.0]._temperature_equilibrium)/fs.BT_params.temperature_critical[benzene])**6) :   0.0 :   True\n",
      "                toluene :   0.0 : (1 - ((fs.BT_params.temperature_critical[toluene] - fs.translator.properties_out[0.0]._temperature_equilibrium)/fs.BT_params.temperature_critical[toluene]))*log(1/fs.BT_params.pressure_critical[toluene]*fs.translator.properties_out[0.0].pressure_sat_comp[toluene]) - (-7.28607*((fs.BT_params.temperature_critical[toluene] - fs.translator.properties_out[0.0]._temperature_equilibrium)/fs.BT_params.temperature_critical[toluene]) + 1.38091*((fs.BT_params.temperature_critical[toluene] - fs.translator.properties_out[0.0]._temperature_equilibrium)/fs.BT_params.temperature_critical[toluene])**1.5 - 2.83433*((fs.BT_params.temperature_critical[toluene] - fs.translator.properties_out[0.0]._temperature_equilibrium)/fs.BT_params.temperature_critical[toluene])**3 - 2.79168*((fs.BT_params.temperature_critical[toluene] - fs.translator.properties_out[0.0]._temperature_equilibrium)/fs.BT_params.temperature_critical[toluene])**6) :   0.0 :   True\n",
      "            eq_comp : Size=2, Index=fs.BT_params.component_list, Active=True\n",
      "                Key     : Lower : Body                                                                                                                                                                                                                                                                                                                                                           : Upper : Active\n",
      "                benzene :   0.0 : fs.translator.properties_out[0.0].flow_mol*fs.translator.properties_out[0.0].mole_frac_comp[benzene] - (fs.translator.properties_out[0.0].flow_mol_phase[Liq]*fs.translator.properties_out[0.0].mole_frac_phase_comp[Liq,benzene] + fs.translator.properties_out[0.0].flow_mol_phase[Vap]*fs.translator.properties_out[0.0].mole_frac_phase_comp[Vap,benzene]) :   0.0 :   True\n",
      "                toluene :   0.0 : fs.translator.properties_out[0.0].flow_mol*fs.translator.properties_out[0.0].mole_frac_comp[toluene] - (fs.translator.properties_out[0.0].flow_mol_phase[Liq]*fs.translator.properties_out[0.0].mole_frac_phase_comp[Liq,toluene] + fs.translator.properties_out[0.0].flow_mol_phase[Vap]*fs.translator.properties_out[0.0].mole_frac_phase_comp[Vap,toluene]) :   0.0 :   True\n",
      "            eq_phase_equilibrium : Size=2, Index=fs.BT_params.component_list, Active=True\n",
      "                Key     : Lower : Body                                                                                                                                                                                                                                                  : Upper : Active\n",
      "                benzene :   0.0 : (fs.translator.properties_out[0.0].mole_frac_phase_comp[Vap,benzene]*fs.translator.properties_out[0.0].pressure) - (fs.translator.properties_out[0.0].mole_frac_phase_comp[Liq,benzene]*fs.translator.properties_out[0.0].pressure_sat_comp[benzene]) :   0.0 :   True\n",
      "                toluene :   0.0 : (fs.translator.properties_out[0.0].mole_frac_phase_comp[Vap,toluene]*fs.translator.properties_out[0.0].pressure) - (fs.translator.properties_out[0.0].mole_frac_phase_comp[Liq,toluene]*fs.translator.properties_out[0.0].pressure_sat_comp[toluene]) :   0.0 :   True\n",
      "            eq_sum_mol_frac : Size=1, Index=None, Active=True\n",
      "                Key  : Lower : Body                                                                                                                                                                                                                                                                                    : Upper : Active\n",
      "                None :   0.0 : fs.translator.properties_out[0.0].mole_frac_phase_comp[Liq,benzene] + fs.translator.properties_out[0.0].mole_frac_phase_comp[Liq,toluene] - (fs.translator.properties_out[0.0].mole_frac_phase_comp[Vap,benzene] + fs.translator.properties_out[0.0].mole_frac_phase_comp[Vap,toluene]) :   0.0 :   True\n",
      "            eq_temperature_bubble : Size=1, Index=None, Active=True\n",
      "                Key  : Lower : Body                                                                                                                                                                                                                                                                                                                                                                                                                                                                                                                                                                                                                                                                                                                                                                                                                                                                                                                                                                                                                                                                                                                                                                                                                                                                                                                                                                                                                                                                 : Upper : Active\n",
      "                None :   0.0 : fs.translator.properties_out[0.0].mole_frac_comp[benzene]*(fs.BT_params.pressure_critical[benzene]*exp((-6.98273*(1 - 1/fs.BT_params.temperature_critical[benzene]*fs.translator.properties_out[0.0].temperature_bubble) + 1.33213*(1 - 1/fs.BT_params.temperature_critical[benzene]*fs.translator.properties_out[0.0].temperature_bubble)**1.5 - 2.62863*(1 - 1/fs.BT_params.temperature_critical[benzene]*fs.translator.properties_out[0.0].temperature_bubble)**3 - 3.33399*(1 - 1/fs.BT_params.temperature_critical[benzene]*fs.translator.properties_out[0.0].temperature_bubble)**6)/(1 - (1 - 1/fs.BT_params.temperature_critical[benzene]*fs.translator.properties_out[0.0].temperature_bubble)))) + fs.translator.properties_out[0.0].mole_frac_comp[toluene]*(fs.BT_params.pressure_critical[toluene]*exp((-7.28607*(1 - 1/fs.BT_params.temperature_critical[toluene]*fs.translator.properties_out[0.0].temperature_bubble) + 1.38091*(1 - 1/fs.BT_params.temperature_critical[toluene]*fs.translator.properties_out[0.0].temperature_bubble)**1.5 - 2.83433*(1 - 1/fs.BT_params.temperature_critical[toluene]*fs.translator.properties_out[0.0].temperature_bubble)**3 - 2.79168*(1 - 1/fs.BT_params.temperature_critical[toluene]*fs.translator.properties_out[0.0].temperature_bubble)**6)/(1 - (1 - 1/fs.BT_params.temperature_critical[toluene]*fs.translator.properties_out[0.0].temperature_bubble)))) - fs.translator.properties_out[0.0].pressure :   0.0 :   True\n",
      "            eq_temperature_dew : Size=1, Index=None, Active=True\n",
      "                Key  : Lower : Body                                                                                                                                                                                                                                                                                                                                                                                                                                                                                                                                                                                                                                                                                                                                                                                                                                                                                                                                                                                                                                                                                                                                                                                                                                                                                                                                                                                                                                       : Upper : Active\n",
      "                None :   0.0 : fs.translator.properties_out[0.0].pressure*(fs.translator.properties_out[0.0].mole_frac_comp[benzene]/(fs.BT_params.pressure_critical[benzene]*exp((-6.98273*(1 - 1/fs.BT_params.temperature_critical[benzene]*fs.translator.properties_out[0.0].temperature_dew) + 1.33213*(1 - 1/fs.BT_params.temperature_critical[benzene]*fs.translator.properties_out[0.0].temperature_dew)**1.5 - 2.62863*(1 - 1/fs.BT_params.temperature_critical[benzene]*fs.translator.properties_out[0.0].temperature_dew)**3 - 3.33399*(1 - 1/fs.BT_params.temperature_critical[benzene]*fs.translator.properties_out[0.0].temperature_dew)**6)/(1 - (1 - 1/fs.BT_params.temperature_critical[benzene]*fs.translator.properties_out[0.0].temperature_dew)))) + fs.translator.properties_out[0.0].mole_frac_comp[toluene]/(fs.BT_params.pressure_critical[toluene]*exp((-7.28607*(1 - 1/fs.BT_params.temperature_critical[toluene]*fs.translator.properties_out[0.0].temperature_dew) + 1.38091*(1 - 1/fs.BT_params.temperature_critical[toluene]*fs.translator.properties_out[0.0].temperature_dew)**1.5 - 2.83433*(1 - 1/fs.BT_params.temperature_critical[toluene]*fs.translator.properties_out[0.0].temperature_dew)**3 - 2.79168*(1 - 1/fs.BT_params.temperature_critical[toluene]*fs.translator.properties_out[0.0].temperature_dew)**6)/(1 - (1 - 1/fs.BT_params.temperature_critical[toluene]*fs.translator.properties_out[0.0].temperature_dew))))) - 1 :   0.0 :   True\n",
      "            eq_total : Size=1, Index=None, Active=True\n",
      "                Key  : Lower : Body                                                                                                                                                       : Upper : Active\n",
      "                None :   0.0 : fs.translator.properties_out[0.0].flow_mol_phase[Liq] + fs.translator.properties_out[0.0].flow_mol_phase[Vap] - fs.translator.properties_out[0.0].flow_mol :   0.0 :   True\n",
      "\n",
      "        26 Declarations: flow_mol mole_frac_comp pressure temperature flow_mol_phase mole_frac_phase_comp eq_total eq_comp eq_sum_mol_frac _temperature_equilibrium _t1 eps_1 eps_2 _t1_constraint temperature_bubble _p_sat_bubbleT eq_temperature_bubble _teq_constraint temperature_dew _p_sat_dewT eq_temperature_dew eq_phase_equilibrium fug_phase_comp pressure_sat_comp _reduced_temp eq_P_vap\n"
     ]
    }
   ],
   "source": [
    "m.fs.translator.properties_out[0.0].pprint()"
   ]
  },
  {
   "cell_type": "code",
   "execution_count": null,
   "metadata": {},
   "outputs": [
    {
     "name": "stdout",
     "output_type": "stream",
     "text": [
      "====================================================================================\n",
      "The following variable(s) are associated with extreme Jacobian values (<1.0E-04 or>1.0E+04):\n",
      "\n",
      "    fs.translator.properties_out[0.0].mole_frac_phase_comp[Vap,benzene]: 8.294E+12\n",
      "    fs.translator.properties_out[0.0].mole_frac_phase_comp[Vap,toluene]: 8.294E+12\n",
      "    fs.translator.properties_out[0.0].mole_frac_phase_comp[Liq,benzene]: 8.294E+12\n",
      "    fs.translator.properties_out[0.0].mole_frac_phase_comp[Liq,toluene]: 8.294E+12\n",
      "    fs.translator.properties_out[0.0].pressure_sat_comp[benzene]: 1.766E-06\n",
      "    fs.translator.properties_out[0.0].mole_frac_comp[benzene]: 4.096E+05\n",
      "    fs.translator.properties_out[0.0].pressure_sat_comp[toluene]: 3.696E-06\n",
      "    fs.translator.properties_out[0.0].mole_frac_comp[toluene]: 1.860E+05\n",
      "\n",
      "====================================================================================\n"
     ]
    }
   ],
   "source": [
    "dt.display_variables_with_extreme_jacobians()"
   ]
  },
  {
   "cell_type": "code",
   "execution_count": null,
   "metadata": {},
   "outputs": [
    {
     "name": "stdout",
     "output_type": "stream",
     "text": [
      "====================================================================================\n",
      "The following constraint(s) are associated with extreme Jacobian values (<1.0E-04 or>1.0E+04):\n",
      "\n",
      "    fs.translator.properties_out[0.0].eq_comp[benzene]: 1.173E+13\n",
      "    fs.translator.properties_out[0.0].eq_comp[toluene]: 1.173E+13\n",
      "    fs.translator.properties_out[0.0].eq_phase_equilibrium[benzene]: 5.388E+05\n",
      "    fs.translator.properties_out[0.0].eq_temperature_bubble: 4.499E+05\n",
      "    fs.translator.properties_out[0.0].eq_phase_equilibrium[toluene]: 3.963E+05\n",
      "\n",
      "====================================================================================\n"
     ]
    }
   ],
   "source": [
    "dt.display_constraints_with_extreme_jacobians()"
   ]
  },
  {
   "cell_type": "markdown",
   "metadata": {},
   "source": [
    "<div class=\"alert alert-block alert-info\">\n",
    "<b>Inline Exercise:</b>\n",
    "We have now initialized the flowsheet. Let us run the flowsheet in a simulation mode to look at the results. \n",
    "</div>"
   ]
  },
  {
   "cell_type": "code",
   "execution_count": null,
   "metadata": {},
   "outputs": [],
   "source": [
    "# Create the solver object\n",
    "solver = get_solver()\n",
    "\n",
    "# Solve the model\n",
    "results = solver.solve(m, tee=True)"
   ]
  },
  {
   "cell_type": "code",
   "execution_count": null,
   "metadata": {
    "tags": [
     "testing"
    ]
   },
   "outputs": [],
   "source": [
    "# Check solver solve status\n",
    "from pyomo.environ import TerminationCondition\n",
    "\n",
    "assert results.solver.termination_condition == TerminationCondition.optimal"
   ]
  },
  {
   "cell_type": "markdown",
   "metadata": {},
   "source": [
    "### Add distillation column \n",
    "\n",
    "As mentioned earlier, the `SequentialDecomposition` tool currently does not support the distillation column model. Thus, we have not included the distillation column in the flowsheet. Now that we have a converged flowsheet, we will add the distillation column and simulate the entire flowsheet. \n",
    "\n",
    "In the following, we will\n",
    "- Add the distillation column \n",
    "- Connect it to the heater \n",
    "- Add the necessary equality constraints\n",
    "- Propagate the state variable information from the outlet of the heater to the inlet of the distillation column \n",
    "- Fix the degrees of freedom of the distillation block (reflux ratio, boilup ratio, and condenser pressure)\n",
    "- Scale the control volume heat variables to help convergence\n",
    "- Initialize the distillation block.\n",
    "\n"
   ]
  },
  {
   "cell_type": "code",
   "execution_count": null,
   "metadata": {},
   "outputs": [],
   "source": [
    "# Add distillation column to the flowsheet\n",
    "m.fs.D101 = TrayColumn(\n",
    "    number_of_trays=10,\n",
    "    feed_tray_location=5,\n",
    "    condenser_type=CondenserType.totalCondenser,\n",
    "    condenser_temperature_spec=TemperatureSpec.atBubblePoint,\n",
    "    property_package=m.fs.BT_params,\n",
    ")\n",
    "\n",
    "# Connect the outlet from the heater H102 to the distillation column\n",
    "m.fs.s11 = Arc(source=m.fs.H102.outlet, destination=m.fs.D101.feed)\n",
    "\n",
    "# Add the necessary equality constraints\n",
    "TransformationFactory(\"network.expand_arcs\").apply_to(m)\n",
    "\n",
    "# Propagate the state\n",
    "propagate_state(m.fs.s11)\n",
    "\n",
    "# Fix the reflux ratio, boilup ratio, and the condenser pressure\n",
    "m.fs.D101.condenser.reflux_ratio.fix(0.5)\n",
    "m.fs.D101.reboiler.boilup_ratio.fix(0.5)\n",
    "m.fs.D101.condenser.condenser_pressure.fix(150000)\n",
    "\n",
    "# set scaling factors\n",
    "# Set scaling factors for heat duty\n",
    "iscale.set_scaling_factor(m.fs.D101.condenser.control_volume.heat, 1e-2)\n",
    "iscale.set_scaling_factor(m.fs.D101.reboiler.control_volume.heat, 1e-2)\n",
    "\n",
    "# Set the scaling factors for the remaining variables and all constraints\n",
    "iscale.calculate_scaling_factors(m.fs.D101)\n",
    "\n",
    "# Initialize the distillation column\n",
    "m.fs.D101.initialize(outlvl=idaeslog.INFO)"
   ]
  },
  {
   "cell_type": "markdown",
   "metadata": {},
   "source": [
    "## Adding expressions to compute capital and operating costs\n",
    "\n",
    "In this section, we will add a few Expressions that allow us to evaluate the performance. Expressions provide a convenient way of calculating certain values that are a function of the variables defined in the model. For more details on Expressions, please refer to: https://pyomo.readthedocs.io/en/stable/pyomo_modeling_components/Expressions.html"
   ]
  },
  {
   "cell_type": "code",
   "execution_count": null,
   "metadata": {},
   "outputs": [],
   "source": [
    "# Expression to compute the total cooling cost\n",
    "m.fs.cooling_cost = Expression(\n",
    "    expr=0.25e-7 * (-m.fs.F101.heat_duty[0])\n",
    "    + 0.2e-7 * (-m.fs.D101.condenser.heat_duty[0])\n",
    ")\n",
    "\n",
    "# Expression to compute the total heating cost\n",
    "m.fs.heating_cost = Expression(\n",
    "    expr=2.2e-7 * m.fs.H101.heat_duty[0]\n",
    "    + 1.2e-7 * m.fs.H102.heat_duty[0]\n",
    "    + 1.9e-7 * m.fs.D101.reboiler.heat_duty[0]\n",
    ")\n",
    "\n",
    "# Expression to compute the total operating cost\n",
    "m.fs.operating_cost = Expression(\n",
    "    expr=(3600 * 24 * 365 * (m.fs.heating_cost + m.fs.cooling_cost))\n",
    ")\n",
    "\n",
    "# Expression to compute the total capital cost\n",
    "m.fs.capital_cost = Expression(expr=1e5 * m.fs.R101.volume[0])"
   ]
  },
  {
   "cell_type": "markdown",
   "metadata": {},
   "source": [
    "### Solve the entire flowsheet"
   ]
  },
  {
   "cell_type": "code",
   "execution_count": null,
   "metadata": {
    "tags": [
     "testing"
    ]
   },
   "outputs": [],
   "source": [
    "# Check that the degrees of freedom is zero\n",
    "assert degrees_of_freedom(m) == 0"
   ]
  },
  {
   "cell_type": "code",
   "execution_count": null,
   "metadata": {},
   "outputs": [],
   "source": [
    "solver.solve(m, tee=True)"
   ]
  },
  {
   "cell_type": "code",
   "execution_count": null,
   "metadata": {
    "tags": [
     "testing"
    ]
   },
   "outputs": [],
   "source": [
    "# Check solver solve status\n",
    "from pyomo.environ import TerminationCondition\n",
    "\n",
    "assert results.solver.termination_condition == TerminationCondition.optimal"
   ]
  },
  {
   "cell_type": "markdown",
   "metadata": {},
   "source": [
    "## Analyze the Results of the Square Problem\n",
    "\n",
    "How much is the total cost (operating cost + capital cost), operating cost, capital cost, benzene purity in the distillate from the distilation column, and conversion of toluene in the reactor?"
   ]
  },
  {
   "cell_type": "code",
   "execution_count": null,
   "metadata": {},
   "outputs": [],
   "source": [
    "print(\"total cost = $\", value(m.fs.capital_cost) + value(m.fs.operating_cost))\n",
    "print(\"operating cost = $\", value(m.fs.operating_cost))\n",
    "print(\"capital cost = $\", value(m.fs.capital_cost))\n",
    "print()\n",
    "print(\n",
    "    \"Distillate flowrate = \",\n",
    "    value(m.fs.D101.condenser.distillate.flow_mol[0]()),\n",
    "    \"mol/s\",\n",
    ")\n",
    "print(\n",
    "    \"Benzene purity = \",\n",
    "    100 * value(m.fs.D101.condenser.distillate.mole_frac_comp[0, \"benzene\"]),\n",
    "    \"%\",\n",
    ")\n",
    "print(\"Residue flowrate = \", value(m.fs.D101.reboiler.bottoms.flow_mol[0]()), \"mol/s\")\n",
    "print(\n",
    "    \"Toluene purity = \",\n",
    "    100 * value(m.fs.D101.reboiler.bottoms.mole_frac_comp[0, \"toluene\"]),\n",
    "    \"%\",\n",
    ")\n",
    "print()\n",
    "print(\"Conversion = \", 100 * value(m.fs.R101.conversion), \"%\")\n",
    "print()\n",
    "print(\n",
    "    \"Overhead benzene loss in F101 = \",\n",
    "    100\n",
    "    * value(m.fs.F101.vap_outlet.flow_mol_phase_comp[0, \"Vap\", \"benzene\"])\n",
    "    / value(m.fs.R101.outlet.flow_mol_phase_comp[0, \"Vap\", \"benzene\"]),\n",
    "    \"%\",\n",
    ")"
   ]
  },
  {
   "cell_type": "code",
   "execution_count": null,
   "metadata": {
    "tags": [
     "testing"
    ]
   },
   "outputs": [],
   "source": [
    "import pytest\n",
    "\n",
    "print(value(m.fs.operating_cost))\n",
    "assert value(m.fs.operating_cost) == pytest.approx(427596.731, abs=100)\n",
    "print(value(m.fs.capital_cost))\n",
    "assert value(m.fs.capital_cost) == pytest.approx(14704.740, abs=100)"
   ]
  },
  {
   "cell_type": "markdown",
   "metadata": {},
   "source": [
    "Get the state of the streams entering and leaving the reactor R101"
   ]
  },
  {
   "cell_type": "code",
   "execution_count": null,
   "metadata": {},
   "outputs": [],
   "source": [
    "m.fs.R101.report()"
   ]
  },
  {
   "cell_type": "markdown",
   "metadata": {},
   "source": [
    "Get the state of the streams entering and leaving the reactor R101"
   ]
  },
  {
   "cell_type": "code",
   "execution_count": null,
   "metadata": {},
   "outputs": [],
   "source": [
    "m.fs.F101.report()"
   ]
  },
  {
   "cell_type": "markdown",
   "metadata": {},
   "source": [
    "Next, let's look at how much benzene we are losing with the light gases out of F101. IDAES has tools for creating stream tables based on the `Arcs` and/or `Ports` in a flowsheet. Let us create and print a simple stream table showing the stream leaving the reactor and the vapor stream from F101.\n",
    "\n",
    "<div class=\"alert alert-block alert-info\">\n",
    "<b>Inline Exercise:</b>\n",
    "How much benzene are we losing in the F101 vapor outlet stream?\n",
    "</div>"
   ]
  },
  {
   "cell_type": "code",
   "execution_count": null,
   "metadata": {},
   "outputs": [],
   "source": [
    "from idaes.core.util.tables import (\n",
    "    create_stream_table_dataframe,\n",
    "    stream_table_dataframe_to_string,\n",
    ")\n",
    "\n",
    "st = create_stream_table_dataframe({\"Reactor\": m.fs.s05, \"Light Gases\": m.fs.s06})\n",
    "print(stream_table_dataframe_to_string(st))"
   ]
  },
  {
   "cell_type": "markdown",
   "metadata": {},
   "source": [
    "<div class=\"alert alert-block alert-info\">\n",
    "<b>Inline Exercise:</b>\n",
    "You can query additional variables here if you like. \n",
    "\n",
    "Use Shift+Enter to run the cell once you have typed in your code. \n",
    "</div>"
   ]
  },
  {
   "cell_type": "markdown",
   "metadata": {},
   "source": [
    "# Optimization\n",
    "\n",
    "\n",
    "We saw from the results above that the total operating cost for the base case was $442,297 per year. We are producing 0.162 mol/s of benzene at a purity of 89.5%. However, we are losing around 43.3% of benzene in F101 vapor outlet stream. \n",
    "\n",
    "Let us try to minimize this cost such that:\n",
    "- we are producing at least 0.18 mol/s of benzene as distillate i.e. our product stream\n",
    "- purity of benzene i.e. the mole fraction of benzene in the distillate is at least 99%\n",
    "- restricting the benzene loss in F101 vapor outlet to less than 20%\n",
    "\n",
    "For this problem, our decision variables are as follows:\n",
    "- H101 outlet temperature\n",
    "- R101 outlet temperature\n",
    "- F101 outlet temperature\n",
    "- H102 outlet temperature\n",
    "- Condenser pressure\n",
    "- reflux ratio\n",
    "- boilup ratio\n"
   ]
  },
  {
   "cell_type": "markdown",
   "metadata": {},
   "source": [
    "Let us declare our objective function for this problem. "
   ]
  },
  {
   "cell_type": "code",
   "execution_count": null,
   "metadata": {},
   "outputs": [],
   "source": [
    "m.fs.objective = Objective(expr=m.fs.operating_cost + m.fs.capital_cost)"
   ]
  },
  {
   "cell_type": "markdown",
   "metadata": {},
   "source": [
    "Now, we need to unfix the decision variables as we had solved a square problem (degrees of freedom = 0) until now. "
   ]
  },
  {
   "cell_type": "code",
   "execution_count": null,
   "metadata": {},
   "outputs": [],
   "source": [
    "m.fs.H101.outlet.temperature.unfix()\n",
    "m.fs.R101.conversion.unfix()\n",
    "m.fs.F101.vap_outlet.temperature.unfix()\n",
    "m.fs.D101.condenser.condenser_pressure.unfix()\n",
    "m.fs.D101.condenser.reflux_ratio.unfix()\n",
    "m.fs.D101.reboiler.boilup_ratio.unfix()"
   ]
  },
  {
   "cell_type": "markdown",
   "metadata": {},
   "source": [
    "<div class=\"alert alert-block alert-info\">\n",
    "<b>Inline Exercise:</b>\n",
    "Let us now unfix the remaining variable: the temperature of the outlet from H102\n",
    "\n",
    "Use Shift+Enter to run the cell once you have typed in your code. \n",
    "</div>\n",
    "\n"
   ]
  },
  {
   "cell_type": "code",
   "execution_count": null,
   "metadata": {
    "tags": [
     "exercise"
    ]
   },
   "outputs": [],
   "source": [
    "# Todo: Unfix the temperature of the outlet from H102"
   ]
  },
  {
   "cell_type": "code",
   "execution_count": null,
   "metadata": {
    "tags": [
     "solution"
    ]
   },
   "outputs": [],
   "source": [
    "# Todo: Unfix the temperature of the outlet from H102\n",
    "m.fs.H102.outlet.temperature.unfix()"
   ]
  },
  {
   "cell_type": "markdown",
   "metadata": {},
   "source": [
    "Next, we need to set bounds on these decision variables to values shown below:\n",
    "\n",
    " - H101 outlet temperature [500, 600] K\n",
    " - R101 outlet temperature [600, 900] K\n",
    " - F101 outlet temperature [298, 450] K\n",
    " - H102 outlet temperature [350, 400] K\n",
    " - D101 condenser pressure [101325, 150000] Pa\n",
    " - D101 reflux ratio [0.1, 5]\n",
    " - D101 boilup ratio [0.1, 5]"
   ]
  },
  {
   "cell_type": "code",
   "execution_count": null,
   "metadata": {},
   "outputs": [],
   "source": [
    "# Set bounds on the temperature of the outlet from H101\n",
    "m.fs.H101.outlet.temperature[0].setlb(500)\n",
    "m.fs.H101.outlet.temperature[0].setub(600)\n",
    "\n",
    "# Set bounds on the temperature of the outlet from R101\n",
    "m.fs.R101.outlet.temperature[0].setlb(600)\n",
    "m.fs.R101.outlet.temperature[0].setub(900)\n",
    "\n",
    "# Set bounds on the volume of the reactor R101\n",
    "m.fs.R101.volume[0].setlb(0)\n",
    "\n",
    "# Set bounds on the temperature of the vapor outlet from F101\n",
    "m.fs.F101.vap_outlet.temperature[0].setlb(298)\n",
    "m.fs.F101.vap_outlet.temperature[0].setub(450.0)\n",
    "\n",
    "# Set bounds on the temperature of the outlet from H102\n",
    "m.fs.H102.outlet.temperature[0].setlb(350)\n",
    "m.fs.H102.outlet.temperature[0].setub(400)\n",
    "\n",
    "# Set bounds on the pressure inside the condenser\n",
    "m.fs.D101.condenser.condenser_pressure.setlb(101325)\n",
    "m.fs.D101.condenser.condenser_pressure.setub(150000)"
   ]
  },
  {
   "cell_type": "markdown",
   "metadata": {},
   "source": [
    "<div class=\"alert alert-block alert-info\">\n",
    "<b>Inline Exercise:</b>\n",
    "Now, set the bounds for the D101 reflux ratio and boilup ratio.\n",
    "\n",
    "Use Shift+Enter to run the cell once you have typed in your code. \n",
    "</div>"
   ]
  },
  {
   "cell_type": "code",
   "execution_count": null,
   "metadata": {
    "tags": [
     "exercise"
    ]
   },
   "outputs": [],
   "source": [
    "# Todo: Set bounds on the reflux ratio\n",
    "\n",
    "\n",
    "# Todo: Set bounds on the boilup ratio"
   ]
  },
  {
   "cell_type": "code",
   "execution_count": null,
   "metadata": {
    "tags": [
     "solution"
    ]
   },
   "outputs": [],
   "source": [
    "# Todo: Set bounds on the reflux ratio\n",
    "m.fs.D101.condenser.reflux_ratio.setlb(0.1)\n",
    "m.fs.D101.condenser.reflux_ratio.setub(5)\n",
    "\n",
    "# Todo: Set bounds on the boilup ratio\n",
    "m.fs.D101.reboiler.boilup_ratio.setlb(0.1)\n",
    "m.fs.D101.reboiler.boilup_ratio.setub(5)"
   ]
  },
  {
   "cell_type": "markdown",
   "metadata": {},
   "source": [
    "Now, the only things left to define are our constraints on overhead loss in F101, distillate flowrate and its purity. Let us first look at defining a constraint for the overhead loss in F101 where we are restricting the benzene leaving the vapor stream to less than 20 % of the benzene available in the reactor outlet. "
   ]
  },
  {
   "cell_type": "code",
   "execution_count": null,
   "metadata": {},
   "outputs": [],
   "source": [
    "# Ensure that the overhead loss of benzene from F101 <= 20%\n",
    "m.fs.overhead_loss = Constraint(\n",
    "    expr=m.fs.F101.vap_outlet.flow_mol_phase_comp[0, \"Vap\", \"benzene\"]\n",
    "    <= 0.20 * m.fs.R101.outlet.flow_mol_phase_comp[0, \"Vap\", \"benzene\"]\n",
    ")"
   ]
  },
  {
   "cell_type": "markdown",
   "metadata": {},
   "source": [
    "<div class=\"alert alert-block alert-info\">\n",
    "<b>Inline Exercise:</b>\n",
    "Now, add the constraint such that we are producing at least 0.18 mol/s of benzene in the product stream which is the distillate of D101. Let us name this constraint as m.fs.product_flow. \n",
    "\n",
    "Use Shift+Enter to run the cell once you have typed in your code. \n",
    "</div>"
   ]
  },
  {
   "cell_type": "code",
   "execution_count": null,
   "metadata": {
    "tags": [
     "exercise"
    ]
   },
   "outputs": [],
   "source": [
    "# Todo: Add minimum product flow constraint"
   ]
  },
  {
   "cell_type": "code",
   "execution_count": null,
   "metadata": {
    "tags": [
     "solution"
    ]
   },
   "outputs": [],
   "source": [
    "# Todo: Add minimum product flow constraint\n",
    "m.fs.product_flow = Constraint(expr=m.fs.D101.condenser.distillate.flow_mol[0] >= 0.18)"
   ]
  },
  {
   "cell_type": "markdown",
   "metadata": {},
   "source": [
    "Let us add the final constraint on product purity or the mole fraction of benzene in the distillate such that it is at least greater than 99%. "
   ]
  },
  {
   "cell_type": "code",
   "execution_count": null,
   "metadata": {},
   "outputs": [],
   "source": [
    "m.fs.product_purity = Constraint(\n",
    "    expr=m.fs.D101.condenser.distillate.mole_frac_comp[0, \"benzene\"] >= 0.99\n",
    ")"
   ]
  },
  {
   "cell_type": "markdown",
   "metadata": {},
   "source": [
    "\n",
    "We have now defined the optimization problem and we are now ready to solve this problem. \n",
    "\n",
    "\n"
   ]
  },
  {
   "cell_type": "code",
   "execution_count": null,
   "metadata": {},
   "outputs": [],
   "source": [
    "results = solver.solve(m, tee=True)"
   ]
  },
  {
   "cell_type": "code",
   "execution_count": null,
   "metadata": {
    "tags": [
     "testing"
    ]
   },
   "outputs": [],
   "source": [
    "# Check solver solve status\n",
    "from pyomo.environ import TerminationCondition\n",
    "\n",
    "assert results.solver.termination_condition == TerminationCondition.optimal"
   ]
  },
  {
   "cell_type": "markdown",
   "metadata": {},
   "source": [
    "## Optimization Results\n",
    "\n",
    "Display the results and product specifications"
   ]
  },
  {
   "cell_type": "code",
   "execution_count": null,
   "metadata": {},
   "outputs": [],
   "source": [
    "print(\"total cost = $\", value(m.fs.capital_cost) + value(m.fs.operating_cost))\n",
    "print(\"operating cost = $\", value(m.fs.operating_cost))\n",
    "print(\"capital cost = $\", value(m.fs.capital_cost))\n",
    "print()\n",
    "print(\n",
    "    \"Distillate flowrate = \",\n",
    "    value(m.fs.D101.condenser.distillate.flow_mol[0]()),\n",
    "    \"mol/s\",\n",
    ")\n",
    "print(\n",
    "    \"Benzene purity = \",\n",
    "    100 * value(m.fs.D101.condenser.distillate.mole_frac_comp[0, \"benzene\"]),\n",
    "    \"%\",\n",
    ")\n",
    "print(\"Residue flowrate = \", value(m.fs.D101.reboiler.bottoms.flow_mol[0]()), \"mol/s\")\n",
    "print(\n",
    "    \"Toluene purity = \",\n",
    "    100 * value(m.fs.D101.reboiler.bottoms.mole_frac_comp[0, \"toluene\"]),\n",
    "    \"%\",\n",
    ")\n",
    "print()\n",
    "print(\"Conversion = \", 100 * value(m.fs.R101.conversion), \"%\")\n",
    "print()\n",
    "print(\n",
    "    \"Overhead benzene loss in F101 = \",\n",
    "    100\n",
    "    * value(m.fs.F101.vap_outlet.flow_mol_phase_comp[0, \"Vap\", \"benzene\"])\n",
    "    / value(m.fs.R101.outlet.flow_mol_phase_comp[0, \"Vap\", \"benzene\"]),\n",
    "    \"%\",\n",
    ")"
   ]
  },
  {
   "cell_type": "code",
   "execution_count": null,
   "metadata": {
    "tags": [
     "testing"
    ]
   },
   "outputs": [],
   "source": [
    "import pytest\n",
    "\n",
    "print(value(m.fs.operating_cost))\n",
    "print(value(m.fs.capital_cost))\n",
    "\n",
    "assert value(m.fs.operating_cost) == pytest.approx(408883.531, abs=100)\n",
    "assert value(m.fs.capital_cost) == pytest.approx(29956.367, abs=100)"
   ]
  },
  {
   "cell_type": "markdown",
   "metadata": {},
   "source": [
    "Display optimal values for the decision variables"
   ]
  },
  {
   "cell_type": "code",
   "execution_count": null,
   "metadata": {},
   "outputs": [],
   "source": [
    "print(\"Optimal Values\")\n",
    "print()\n",
    "\n",
    "print(\"H101 outlet temperature = \", value(m.fs.H101.outlet.temperature[0]), \"K\")\n",
    "\n",
    "print()\n",
    "print(\"R101 outlet temperature = \", value(m.fs.R101.outlet.temperature[0]), \"K\")\n",
    "\n",
    "print()\n",
    "print(\"F101 outlet temperature = \", value(m.fs.F101.vap_outlet.temperature[0]), \"K\")\n",
    "\n",
    "print()\n",
    "print(\"H102 outlet temperature = \", value(m.fs.H102.outlet.temperature[0]), \"K\")"
   ]
  },
  {
   "cell_type": "markdown",
   "metadata": {},
   "source": [
    "### Key Takeaways\n",
    "\n",
    "Observe that the optimization was able to reduce the yearly operating cost from \\\\$427,593 to \\\\$408,342 (~4.5%). However, the amortized capital cost more than doubled from \\\\$14,704 to \\\\$29,927 due to the need to increase the conversion in the reactor (from 75% to 93%) to meet the production and purity constraints. \n",
    "\n",
    "Further, observe that the product flow rate and product purity are at their minimum values (0.18 mol/s and 99%, respectively). This is expected as increasing recovery would require more energy and cost to purify the product.\n",
    "\n",
    "\n",
    "Finally, observe that the operating temperature of the flash (F101) is almost at its lower bound. This helps in minimizing the amount of benzene in the vapor stream leaving the flash."
   ]
  }
 ],
 "metadata": {
  "celltoolbar": "Tags",
  "kernelspec": {
   "display_name": "Python 3 (ipykernel)",
   "language": "python",
   "name": "python3"
  },
  "language_info": {
   "codemirror_mode": {
    "name": "ipython",
    "version": 3
   },
   "file_extension": ".py",
   "mimetype": "text/x-python",
   "name": "python",
   "nbconvert_exporter": "python",
   "pygments_lexer": "ipython3",
   "version": "3.10.14"
  }
 },
 "nbformat": 4,
 "nbformat_minor": 4
}
