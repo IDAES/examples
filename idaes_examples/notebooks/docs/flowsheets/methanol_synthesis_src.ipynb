{
 "cells": [
  {
   "cell_type": "code",
   "execution_count": null,
   "id": "4d43687a",
   "metadata": {
    "tags": [
     "header",
     "hide-cell"
    ]
   },
   "outputs": [],
   "source": [
    "###############################################################################\n",
    "# The Institute for the Design of Advanced Energy Systems Integrated Platform\n",
    "# Framework (IDAES IP) was produced under the DOE Institute for the\n",
    "# Design of Advanced Energy Systems (IDAES).\n",
    "#\n",
    "# Copyright (c) 2018-2023 by the software owners: The Regents of the\n",
    "# University of California, through Lawrence Berkeley National Laboratory,\n",
    "# National Technology & Engineering Solutions of Sandia, LLC, Carnegie Mellon\n",
    "# University, West Virginia University Research Corporation, et al.\n",
    "# All rights reserved.  Please see the files COPYRIGHT.md and LICENSE.md\n",
    "# for full copyright and license information.\n",
    "###############################################################################"
   ]
  },
  {
   "cell_type": "markdown",
   "metadata": {},
   "source": [
    "# Methanol Synthesis Flowsheet Example\n",
    "\n",
    "The purpose of this notebook is to demonstrate flowsheet synthesis integrating IDAES modeling tools, including the Unit Model Library, Property and Reaction Framework, IDAES scaling tools and the Process Costing Framework. The example leverages imports from external flowsheet scripts, and demonstrates implementation of separate VLE and vapor-only property packages to reduce model complexity where applicable.\n",
    "\n",
    "## Simplified Hydrogen Reformation System\n",
    "\n",
    "This example demonstrates a steady-state model of methanol synthesis from hydrogen and carbon monoxide. To simulate relevant natural gas components, the reactant vapors are mixed stoichiometrically and brought to optimal reaction conditions prior to entering the gas-phase reactor. Vapor liquid equilibrium is mainly applicable in the post-reactor Flash unit for methanol recovery, and is accounted for by separate vapor and VLE thermophysical property packages. See `methanol_flowsheet.py` for more information on how to assemble the flowsheet, as well as [idaes_examples.mod.methanol.methanol_ideal_VLE.py](https://github.com/IDAES/examples-pse/tree/main/pkg/idaes_examples/common/methanol/methanol_ideal_VLE.py), [idaes_examples.mod.methanol.methanol_ideal_vapor](https://github.com/IDAES/examples-pse/tree/main/pkg/idaes_examples/common/methanol/methanol_ideal_vapor.py) and [idaes_examples.mod.methanol.methanol_reactions](https://github.com/IDAES/examples-pse/tree/main/pkg/idaes_examples/common/methanol/methanol_reactions.py) for more information on the thermophyscial and reaction properties.\n",
    "\n",
    "This example is a reasonable approximation for gas-phase methanol synthesis systems and does not represent any particular chemical process. To simplify the system and increase tractability, hydrogen and carbon monoxide feeds are considered in lieu of multi-step mechanisms for carbon dioxide conversion to methanol. General process descriptions for gas-phase synthesis, as well as thermophysical and reaction properties for carbon monoxide hydrogenation, were taken from the following publication:\n",
    "\n",
    "Nieminen, H.; Laari, A.; Koiranen, T. CO2 Hydrogenation to Methanol by a Liquid-Phase Process with Alcoholic Solvents: A Techno-Economic Analysis. Processes 2019, 7, 405. https://doi.org/10.3390/pr7070405"
   ]
  },
  {
   "cell_type": "markdown",
   "metadata": {},
   "source": [
    "## 1. Introduction\n",
    "\n",
    "This example demonstrates a simulation of methanol synthesis from hydrogen and carbon monoxide. Each methanol flowsheet module includes several built-in methods. This notebook demonstrates building the flowsheet, implementing model scaling, initialization and solving a square problem, costing and final constrainted optimization.\n",
    "\n",
    "The ```build_model()``` method creates the Pyomo concrete model and builds the flowsheet by importing thermophysical and reaction properties and unit models and defining stream connections between these units. This method also implements appropriate default scaling on state and property variables.\n",
    "\n",
    "The ```set_inputs()``` method adds the appropriate initial specifications on the feed streams and unit operations. Specifications upstream of the reactor largely remain fixed throughout the optimization.\n",
    "\n",
    "The ```scale_flowsheet()``` method implements generic variable, unit model state variable, unit model constraint and Arc equality constraint scaling via IDAES scaling tools. Scaling factors are hard-coded in the flowsheet scripts to adjust for order of magnitude factors in appropriate constraints and simplify numerical solver calculations.\n",
    "\n",
    "The ```initialize_flowsheet()``` method uses the initial guess to initialize the models sequentially, solving each unit and propagating the results to the outlet stream to converge the next unit more quickly. This occurs just before the flowsheet-level solver call.\n",
    "\n",
    "The ```add_costing()``` method creates new variables and constraints related to unit model capital cost and operating cost calculations, and defines an objective function for the process economics. This method is called after the flowsheet-level solver call, and the flowsheet is resolved once costing is added. Capital costs are estimated using built-in costing methods within IDAES, and operating costs are estimated from a combination of known cost coefficients and surrogate models.\n",
    "\n",
    "The ```report()``` method displays relevant model results after the flowsheet has been fully solved."
   ]
  },
  {
   "cell_type": "markdown",
   "metadata": {},
   "source": [
    "# 2. Problem Statement \n",
    "\n",
    "For given raw material flows and optimal reactor conditions, we will calculate the extent of reaction, relevant process results including reactor duty and turbine duty, methanol recovery, and relevant economic results including annual revenue.\n",
    "\n",
    "## 2.1. Main Inputs: \n",
    "- Raw material inlets (F - mol/s, P - Pa, h - j/mol, x - mole fraction)\n",
    "- Pre-reactor compressor outlet pressure (Pa)\n",
    "- Pre-reactor heater outlet temperature (K)\n",
    "\n",
    "## 2.2. Main Outputs:\n",
    "- Extent of reaction (mol/s)\n",
    "- Reactor duty (W)\n",
    "- Turbine duty (W)\n",
    "- Methanol recovery (%)\n",
    "- Annual revenue (USD/year)"
   ]
  },
  {
   "cell_type": "code",
   "execution_count": 1,
   "metadata": {},
   "outputs": [],
   "source": [
    "from IPython.display import Image\n",
    "\n",
    "Image(\"methanol_flowsheet.png\")"
   ]
  },
  {
   "cell_type": "markdown",
   "metadata": {},
   "source": [
    "# 3. Import and Solve Flowsheet\n",
    "## 3.1 Import Pyomo and IDAES Libraries"
   ]
  },
  {
   "cell_type": "markdown",
   "metadata": {},
   "source": [
    "First, let's import the relevant Pyomo and IDAES Libraries:"
   ]
  },
  {
   "cell_type": "code",
   "execution_count": 2,
   "metadata": {},
   "outputs": [],
   "source": [
    "import pytest\n",
    "import os\n",
    "\n",
    "# Import Pyomo libraries\n",
    "from pyomo.environ import (\n",
    "    Constraint,\n",
    "    Objective,\n",
    "    Var,\n",
    "    Expression,\n",
    "    Param,\n",
    "    ConcreteModel,\n",
    "    TransformationFactory,\n",
    "    value,\n",
    "    maximize,\n",
    "    units as pyunits,\n",
    ")\n",
    "from pyomo.environ import TerminationCondition\n",
    "from pyomo.network import Arc\n",
    "\n",
    "# Import IDAES core libraries\n",
    "from idaes.core import FlowsheetBlock\n",
    "from idaes.core.solvers import get_solver\n",
    "from idaes.core.util import scaling as iscale\n",
    "from idaes.core.util.model_statistics import degrees_of_freedom\n",
    "from idaes.core.util.initialization import propagate_state\n",
    "\n",
    "# Import required property modules\n",
    "from idaes.models.properties.modular_properties.base.generic_property import (\n",
    "    GenericParameterBlock,\n",
    ")\n",
    "from idaes.models.properties.modular_properties.base.generic_reaction import (\n",
    "    GenericReactionParameterBlock,\n",
    ")\n",
    "\n",
    "from idaes_examples.mod.methanol import methanol_ideal_VLE as thermo_props_VLE\n",
    "from idaes_examples.mod.methanol import methanol_ideal_vapor as thermo_props_vapor\n",
    "from idaes_examples.mod.methanol import methanol_reactions as reaction_props\n",
    "\n",
    "from idaes.models.unit_models import (\n",
    "    Feed,\n",
    "    Mixer,\n",
    "    Heater,\n",
    "    Compressor,\n",
    "    Turbine,\n",
    "    StoichiometricReactor,\n",
    "    Flash,\n",
    "    Product,\n",
    ")\n",
    "from idaes.models.unit_models.mixer import MomentumMixingType\n",
    "from idaes.models.unit_models.pressure_changer import ThermodynamicAssumption\n",
    "from idaes.core import UnitModelCostingBlock\n",
    "from idaes.models.costing.SSLW import SSLWCosting\n",
    "\n",
    "# import flowsheet functions\n",
    "from methanol_flowsheet import (\n",
    "    build_model,\n",
    "    set_inputs,\n",
    "    scale_flowsheet,\n",
    "    initialize_flowsheet,\n",
    "    add_costing,\n",
    "    report,\n",
    ")"
   ]
  },
  {
   "cell_type": "markdown",
   "metadata": {},
   "source": [
    "## 3.2 Build and Solve Flowsheet\n",
    "The methanol flowsheet methods are called sequentially below, following the workflow contained in the ```main()``` method in `methanol_flowsheet.py`. First, let's set the solver options. IDAES contains a default solver `get_solver` which calls IPOPT using standard settings, and we set an iteration cap of 100 to catch nonconverging solver runs."
   ]
  },
  {
   "cell_type": "code",
   "execution_count": 3,
   "metadata": {},
   "outputs": [],
   "source": [
    "# Set solver options\n",
    "solver = get_solver()  # IPOPT\n",
    "optarg = {\"tol\": 1e-6, \"max_iter\": 100}\n",
    "solver.options = optarg"
   ]
  },
  {
   "cell_type": "markdown",
   "metadata": {},
   "source": [
    "Next, we will build and solve the initial flowsheet using imported flowsheet methods - see `methanol_flowsheet.py` for complete method scripts.\n",
    "\n",
    "In the code below, we first define a Pyomo model object and build the model by defining each unit block with relevant property packages. As mentioned earlier, only the Flash unit (and the liquid outlet Product block) employ the VLE property package to ensure fast convergence of vapor-only processes.\n",
    "\n",
    "The process inputs are set for stoichiometric hydrogen and carbon monoxide feeds according to the process diagram in section 2.2. In the output below, the script returns the expected degrees of freedom for the model for each unit (compressor pressure change, heater duty, reactor duty and conversion, turbine pressure change and efficiency, cooler duty and flash duty and pressure change) and the actual model degrees of freedom before input specification, after the feed inputs are specified (flow, enthalpy, pressure, and composition for each feed) and after the unit model inputs are specified.\n",
    "\n",
    "After setting process inputs, we have a square problem for initialization. Here, we first implement IDAES scaling tools to create a more tractable problem during the solve step, and then sequentially initialize and propagate results from each unit block. As expected, the model only performs dew and bubble point calculations for the Flash and CH3OH product blocks where liquid phases are present and we obtain a square, solved problem:"
   ]
  },
  {
   "cell_type": "code",
   "execution_count": 4,
   "metadata": {
    "scrolled": false
   },
   "outputs": [],
   "source": [
    "# Build and solve flowsheet\n",
    "m = ConcreteModel()\n",
    "build_model(m)  # build flowsheet by adding unit models and property packages\n",
    "set_inputs(m)  # unit and stream specifications\n",
    "scale_flowsheet(m)  # flowsheet and unit model level scaling\n",
    "initialize_flowsheet(m)  # rigorous initialization scheme\n",
    "\n",
    "print(\"DOF before solve: \", degrees_of_freedom(m))\n",
    "print()\n",
    "print(\"Solving initial problem...\")\n",
    "\n",
    "results = solver.solve(m, tee=True)  # initial square problem solve"
   ]
  },
  {
   "cell_type": "code",
   "execution_count": 5,
   "metadata": {
    "tags": [
     "testing"
    ]
   },
   "outputs": [],
   "source": [
    "# check optimal termination\n",
    "assert results.solver.termination_condition == TerminationCondition.optimal"
   ]
  },
  {
   "cell_type": "markdown",
   "metadata": {},
   "source": [
    "## 3.3 Flowsheet Costing and Optimization\n",
    "Now that we have a well-initialized and solved flowsheet, we can add process economics and optimize the revenue. We utilize IDAES costing tools to calculate reactor and flash vessel capital cost, and implement surrogate models to account for heat exchanger capital costs. Additional, we calculate reactor operating costs as a function of conversion and assume constant rates for electricity, heating and cooling costs. Capital costs are annualized over 15 years, and revenue is determined from total liquid methanol sales, operating costs, annualized capital costs and feed raw material costs. The flowsheet report method returns key process results, including a check on the reaction stoichiometry, relevant duty and state variable values, economic results, and stream tables for feed and product streams:"
   ]
  },
  {
   "cell_type": "code",
   "execution_count": 6,
   "metadata": {
    "scrolled": false
   },
   "outputs": [],
   "source": [
    "add_costing(m)  # re-solve with costing equations\n",
    "print()\n",
    "print(\"Solving with costing...\")\n",
    "results2 = solver.solve(m, tee=True)\n",
    "\n",
    "print(\"Initial solution process results:\")\n",
    "report(m)  # display initial solution results"
   ]
  },
  {
   "cell_type": "code",
   "execution_count": 7,
   "metadata": {
    "tags": [
     "testing"
    ]
   },
   "outputs": [],
   "source": [
    "# check optimal termination\n",
    "assert results2.solver.termination_condition == TerminationCondition.optimal"
   ]
  },
  {
   "cell_type": "markdown",
   "metadata": {},
   "source": [
    "Finally, let's unfix some specifications and determine an optimal revenue. We set bounds on our decision variables to constrain our objective to physical and economically sensible solutions. The pre-reactor section mixes the feeds and brings the reactants to optimal temperature and pressure, and we only unfix downstream unit specifications:"
   ]
  },
  {
   "cell_type": "code",
   "execution_count": 8,
   "metadata": {
    "scrolled": false
   },
   "outputs": [],
   "source": [
    "# Set up Optimization Problem (Maximize Revenue)\n",
    "# keep process pre-reaction fixed and unfix some post-process specs\n",
    "m.fs.R101.conversion.unfix()\n",
    "m.fs.R101.conversion_lb = Constraint(expr=m.fs.R101.conversion >= 0.75)\n",
    "m.fs.R101.conversion_ub = Constraint(expr=m.fs.R101.conversion <= 0.85)\n",
    "m.fs.R101.outlet_temp.deactivate()\n",
    "m.fs.R101.outlet_t_lb = Constraint(\n",
    "    expr=m.fs.R101.control_volume.properties_out[0.0].temperature >= 405 * pyunits.K\n",
    ")\n",
    "m.fs.R101.outlet_t_ub = Constraint(\n",
    "    expr=m.fs.R101.control_volume.properties_out[0.0].temperature <= 505 * pyunits.K\n",
    ")\n",
    "\n",
    "# Optimize turbine work (or delta P)\n",
    "m.fs.T101.deltaP.unfix()  # optimize turbine work recovery/pressure drop\n",
    "m.fs.T101.outlet_p_lb = Constraint(\n",
    "    expr=m.fs.T101.outlet.pressure[0] >= 10e5 * pyunits.Pa\n",
    ")\n",
    "m.fs.T101.outlet_p_ub = Constraint(\n",
    "    expr=m.fs.T101.outlet.pressure[0] <= 51e5 * 0.8 * pyunits.Pa\n",
    ")\n",
    "\n",
    "# Optimize Cooler outlet temperature - unfix cooler outlet temperature\n",
    "m.fs.H102.outlet_temp.deactivate()\n",
    "m.fs.H102.outlet_t_lb = Constraint(\n",
    "    expr=m.fs.H102.control_volume.properties_out[0.0].temperature\n",
    "    >= 407.15 * 0.8 * pyunits.K\n",
    ")\n",
    "m.fs.H102.outlet_t_ub = Constraint(\n",
    "    expr=m.fs.H102.control_volume.properties_out[0.0].temperature <= 480 * pyunits.K\n",
    ")\n",
    "\n",
    "m.fs.F101.deltaP.unfix()  # allow pressure change in streams\n",
    "\n",
    "m.fs.F101.isothermal = Constraint(\n",
    "    expr=m.fs.F101.control_volume.properties_out[0].temperature\n",
    "    == m.fs.F101.control_volume.properties_in[0].temperature\n",
    ")\n",
    "\n",
    "print()\n",
    "print(\"Solving optimization problem...\")\n",
    "opt_res = solver.solve(m, tee=True)\n",
    "\n",
    "print(\"Optimal solution process results:\")\n",
    "report(m)"
   ]
  },
  {
   "cell_type": "markdown",
   "metadata": {},
   "source": [
    "As expected, the process achieves a much greater revenue as a result of increasing conversion and lowering the inlet temperature to the Flash unit to encourage methanol recovery in the liquid phase. The results show a slight increase in equipment and operating costs from these changes, as well as a small loss of methanol in the exhuast."
   ]
  },
  {
   "cell_type": "code",
   "execution_count": 9,
   "metadata": {
    "tags": [
     "testing"
    ]
   },
   "outputs": [],
   "source": [
    "# testing model results\n",
    "assert opt_res.solver.termination_condition == TerminationCondition.optimal\n",
    "\n",
    "assert value(m.fs.R101.rate_reaction_extent[0, \"R1\"]) == pytest.approx(\n",
    "    269.2805, rel=1e-5\n",
    ")\n",
    "assert value(m.fs.R101.heat_duty[0]) / 1e6 == pytest.approx(-51.3636, rel=1e-5)\n",
    "assert value(m.fs.T101.work_isentropic[0]) / 1e6 == pytest.approx(-1.9905, rel=1e-5)\n",
    "assert value(m.fs.F101.recovery * 100) == pytest.approx(92.8036, rel=1e-5)\n",
    "assert value(m.fs.objective) / 1e6 == pytest.approx(77.7005, rel=1e-5)"
   ]
  },
  {
   "cell_type": "markdown",
   "metadata": {},
   "source": [
    "# 4. Problem Statement  - Analyzing Benefit of Recycling Flash Vapor\n",
    "\n",
    "To increase the efficiency of the process as well as overall methanol production and revenue, we can add a recycle stream to send most of the Flash vapor back to the start of the process. This will reduce methanol loss in the exhaust and increase feed utilization, resulting in increased operating costs and increased production (revenue) at the same conversion. Note that for conversions less than 100%, a simulation with no purge will never converge due to accumulation of gases within the system. Therefore, to ensure we close the mass balance we set a lower bound at 10% purge from the Flash vapor to the exhaust. We expect to see a marginal increase in operating costs due to increased flow, and a much larger increase in overall production resulting in a higher total revenue.\n",
    "\n",
    "By adding a recycle to the flowsheet, we significantly decrease the tractability of the problem and require a better initial guess. The SequentialDecomposition algorithm automatically determines a stream to *tear*, or use to break the solve loop, and iterates from a set of user-supplied initial guesses until converging on the optimal solution. The code below calls an initialization method to automatically determine the tear stream. See the initialization method of `methanol_flowsheet_w_recycle.py` for further details Sequential Decomposition scheme.\n",
    "\n",
    "For given raw material flows and optimal reactor conditions, we will calculate the extent of reaction, relevant process results including reactor duty and turbine duty, methanol recovery, and relevant economic results including annual revenue.\n",
    "\n",
    "## 4.1. Main Inputs: \n",
    "- Raw material inlets (F - mol/s, P - Pa, h - j/mol, x - mole fraction)\n",
    "- Pre-reactor compressor outlet pressure (Pa)\n",
    "- Pre-reactor heater outlet temperature (K)\n",
    "\n",
    "## 4.2. Main Outputs:\n",
    "- Extent of reaction (mol/s)\n",
    "- Reactor duty (W)\n",
    "- Compressor duty (W)\n",
    "- Turbine duty (W)\n",
    "- Methanol recovery (%)\n",
    "- Purge percentage (%)\n",
    "- Annual revenue (USD/year)"
   ]
  },
  {
   "cell_type": "code",
   "execution_count": 10,
   "metadata": {},
   "outputs": [],
   "source": [
    "from IPython.display import Image\n",
    "\n",
    "Image(\"methanol_flowsheet_recycle.png\")"
   ]
  },
  {
   "cell_type": "markdown",
   "metadata": {},
   "source": [
    "# 5. Import and Solve Recycle Flowsheet\n",
    "## 5.1 Import Pyomo and IDAES Libraries\n",
    "As we are rebuilding the model, we need to import require Pyomo and IDAES libraries:"
   ]
  },
  {
   "cell_type": "code",
   "execution_count": 11,
   "metadata": {},
   "outputs": [],
   "source": [
    "import pytest\n",
    "import os\n",
    "\n",
    "# Import Pyomo libraries\n",
    "from pyomo.environ import (\n",
    "    Constraint,\n",
    "    Objective,\n",
    "    Var,\n",
    "    Expression,\n",
    "    Param,\n",
    "    ConcreteModel,\n",
    "    TransformationFactory,\n",
    "    value,\n",
    "    maximize,\n",
    "    units as pyunits,\n",
    ")\n",
    "from pyomo.environ import TerminationCondition\n",
    "from pyomo.network import Arc, SequentialDecomposition\n",
    "\n",
    "# Import IDAES core libraries\n",
    "from idaes.core import FlowsheetBlock\n",
    "from idaes.core.solvers import get_solver\n",
    "from idaes.core.util import scaling as iscale\n",
    "from idaes.core.util.model_statistics import degrees_of_freedom\n",
    "from idaes.core.util.initialization import propagate_state\n",
    "\n",
    "# Import required models\n",
    "\n",
    "from idaes.models.properties.modular_properties.base.generic_property import (\n",
    "    GenericParameterBlock,\n",
    ")\n",
    "from idaes.models.properties.modular_properties.base.generic_reaction import (\n",
    "    GenericReactionParameterBlock,\n",
    ")\n",
    "\n",
    "from idaes_examples.mod.methanol import methanol_ideal_VLE as thermo_props_VLE\n",
    "from idaes_examples.mod.methanol import methanol_ideal_vapor as thermo_props_vapor\n",
    "from idaes_examples.mod.methanol import methanol_reactions as reaction_props\n",
    "\n",
    "from idaes.models.unit_models import (\n",
    "    Feed,\n",
    "    Mixer,\n",
    "    Heater,\n",
    "    Compressor,\n",
    "    Turbine,\n",
    "    StoichiometricReactor,\n",
    "    Flash,\n",
    "    Separator as Splitter,\n",
    "    Product,\n",
    ")\n",
    "from idaes.models.unit_models.mixer import MomentumMixingType\n",
    "from idaes.models.unit_models.pressure_changer import ThermodynamicAssumption\n",
    "from idaes.core import UnitModelCostingBlock\n",
    "from idaes.models.costing.SSLW import SSLWCosting\n",
    "import idaes.logger as idaeslog\n",
    "\n",
    "# import flowsheet functions\n",
    "from methanol_flowsheet_w_recycle import (\n",
    "    build_model,\n",
    "    set_inputs,\n",
    "    scale_flowsheet,\n",
    "    initialize_flowsheet,\n",
    "    add_costing,\n",
    "    report,\n",
    ")"
   ]
  },
  {
   "cell_type": "markdown",
   "metadata": {},
   "source": [
    "## 5.2 Build and Solve Recycle Flowsheet\n",
    "As before, we will first build the flowsheet, set required inputs, initialize and solve a square problem. Recycling methanol to pre-reactor blocks complicates VLE calculations, and limiting VLE calculations to the Flash unit and liquid Product block greatly increases tractability during initialization. All initial feed and unit specifications are identical to the non-recycle case; the Sequential Decomposition algorithm automatically selects the compressor feed as the tear stream and uses \"no recycle\" results as a first guess. In the output below, the solver solves all units and then resolves select blocks with updated inlet results, followed by a full flowsheet solve:"
   ]
  },
  {
   "cell_type": "code",
   "execution_count": 12,
   "metadata": {
    "scrolled": false
   },
   "outputs": [],
   "source": [
    "# Build and solve flowsheet\n",
    "solver = get_solver()  # IPOPT\n",
    "optarg = {\"tol\": 1e-6, \"max_iter\": 100}\n",
    "solver.options = optarg\n",
    "\n",
    "m = ConcreteModel()  # create a new model so we may reference 'm' below\n",
    "build_model(m)  # build flowsheet\n",
    "set_inputs(m)  # unit and stream specifications\n",
    "scale_flowsheet(m)  # flowsheet and unit model level scaling\n",
    "\n",
    "# let the solver determine the tear stream\n",
    "initialize_flowsheet(m)  # rigorous initialization scheme\n",
    "\n",
    "print(\"DOF before solve: \", degrees_of_freedom(m))\n",
    "print()\n",
    "print(\"Solving initial problem...\")\n",
    "results = solver.solve(m, tee=True)"
   ]
  },
  {
   "cell_type": "code",
   "execution_count": 13,
   "metadata": {
    "tags": [
     "testing"
    ]
   },
   "outputs": [],
   "source": [
    "# check optimal termination\n",
    "assert results.solver.termination_condition == TerminationCondition.optimal"
   ]
  },
  {
   "cell_type": "markdown",
   "metadata": {},
   "source": [
    "## 5.3 Flowsheet Costing and Optimization\n",
    "Now that we have a well-initialized and solved flowsheet, we can add process economics and optimize the revenue. We utilize IDAES costing tools to calculate reactor and flash vessel capital cost, and implement surrogate models to account for heat exchanger capital costs, reactor operating costs and utility costs for heating, cooling and electricity. As before, revenue is determined from total liquid methanol sales, operating costs, annualized capital costs and feed raw material costs. The flowsheet report method returns key process results, which are updated for new results with the prescence of a recycle stream:"
   ]
  },
  {
   "cell_type": "code",
   "execution_count": 14,
   "metadata": {
    "scrolled": false
   },
   "outputs": [],
   "source": [
    "add_costing(m)  # re-solve with costing equations\n",
    "print()\n",
    "results2 = solver.solve(m, tee=True)\n",
    "\n",
    "print(\"Initial solution process results:\")\n",
    "report(m)  # display initial solution results"
   ]
  },
  {
   "cell_type": "code",
   "execution_count": 15,
   "metadata": {
    "tags": [
     "testing"
    ]
   },
   "outputs": [],
   "source": [
    "# check optimal termination\n",
    "assert results2.solver.termination_condition == TerminationCondition.optimal"
   ]
  },
  {
   "cell_type": "markdown",
   "metadata": {},
   "source": [
    "Finally, let's unfix some specifications and determine an optimal revenue. We set bounds on our decision variables to constrain our objective to physical and economically sensible solutions, including a purge between 10-50% of flash vapor. The pre-reactor section mixes the feeds and brings the reactants to optimal temperature and pressure, and we only unfix downstream unit specifications:"
   ]
  },
  {
   "cell_type": "code",
   "execution_count": 16,
   "metadata": {
    "scrolled": false
   },
   "outputs": [],
   "source": [
    "# Set up Optimization Problem (Maximize Revenue)\n",
    "# keep process pre-reaction fixed and unfix some post-process specs\n",
    "m.fs.R101.conversion.unfix()\n",
    "m.fs.R101.conversion_lb = Constraint(expr=m.fs.R101.conversion >= 0.75)\n",
    "m.fs.R101.conversion_ub = Constraint(expr=m.fs.R101.conversion <= 0.85)\n",
    "m.fs.R101.outlet_temp.deactivate()\n",
    "m.fs.R101.outlet_t_lb = Constraint(\n",
    "    expr=m.fs.R101.control_volume.properties_out[0.0].temperature >= 405 * pyunits.K\n",
    ")\n",
    "m.fs.R101.outlet_t_ub = Constraint(\n",
    "    expr=m.fs.R101.control_volume.properties_out[0.0].temperature <= 505 * pyunits.K\n",
    ")\n",
    "\n",
    "# Optimize turbine work (or delta P)\n",
    "m.fs.T101.deltaP.unfix()  # optimize turbine work recovery/pressure drop\n",
    "m.fs.T101.outlet_p_lb = Constraint(\n",
    "    expr=m.fs.T101.outlet.pressure[0] >= 10e5 * pyunits.Pa\n",
    ")\n",
    "m.fs.T101.outlet_p_ub = Constraint(\n",
    "    expr=m.fs.T101.outlet.pressure[0] <= 51e5 * 0.8 * pyunits.Pa\n",
    ")\n",
    "\n",
    "# Optimize Cooler outlet temperature - unfix cooler outlet temperature\n",
    "m.fs.H102.outlet_temp.deactivate()\n",
    "m.fs.H102.outlet_t_lb = Constraint(\n",
    "    expr=m.fs.H102.control_volume.properties_out[0.0].temperature\n",
    "    >= 407.15 * 0.8 * pyunits.K\n",
    ")\n",
    "m.fs.H102.outlet_t_ub = Constraint(\n",
    "    expr=m.fs.H102.control_volume.properties_out[0.0].temperature <= 480 * pyunits.K\n",
    ")\n",
    "\n",
    "m.fs.F101.deltaP.unfix()  # allow pressure change in streams\n",
    "\n",
    "m.fs.F101.isothermal = Constraint(\n",
    "    expr=m.fs.F101.control_volume.properties_out[0].temperature\n",
    "    == m.fs.F101.control_volume.properties_in[0].temperature\n",
    ")\n",
    "\n",
    "m.fs.S101.split_fraction[0, \"purge\"].unfix()  # allow some gas recycle\n",
    "m.fs.S101.split_fraction_lb = Constraint(\n",
    "    expr=m.fs.S101.split_fraction[0, \"purge\"] >= 0.10\n",
    ")  # min 10% purge\n",
    "m.fs.S101.split_fraction_ub = Constraint(\n",
    "    expr=m.fs.S101.split_fraction[0, \"purge\"] <= 0.50\n",
    ")  # max 50% purge\n",
    "\n",
    "print()\n",
    "print(\"Solving optimization problem...\")\n",
    "opt_res = solver.solve(m, tee=True)\n",
    "\n",
    "print(\"Optimal solution process results:\")\n",
    "report(m)"
   ]
  },
  {
   "cell_type": "markdown",
   "metadata": {},
   "source": [
    "As expected, recycling methanol and gases from the flash vapor achieves much greater methanol production, and process cost increases are small compared to the increase in revenue. Note that the reaction conversion and flash inlet temperature did not change, and we obtain the same percentage methanol recovery. We can see in the stream tables that far more of the inlet material exits as methanol than in the non-recycle process (note that we do not have a mole balance due to the reaction stoichiometry). The results show a slight increase in equipment and operating costs from increased throughput on each unit."
   ]
  },
  {
   "cell_type": "code",
   "execution_count": 17,
   "metadata": {
    "tags": [
     "testing"
    ]
   },
   "outputs": [],
   "source": [
    "# testing model results\n",
    "assert opt_res.solver.termination_condition == TerminationCondition.optimal\n",
    "\n",
    "assert value(m.fs.R101.rate_reaction_extent[0, \"R1\"]) == pytest.approx(\n",
    "    311.3070, rel=1e-5\n",
    ")\n",
    "assert value(m.fs.R101.heat_duty[0]) / 1e6 == pytest.approx(-59.3402, rel=1e-5)\n",
    "assert value(m.fs.C101.work_mechanical[0]) / 1e6 == pytest.approx(0, abs=1e-5)\n",
    "assert value(m.fs.T101.work_isentropic[0]) / 1e6 == pytest.approx(-2.4913, rel=1e-5)\n",
    "assert value(m.fs.F101.recovery * 100) == pytest.approx(92.0589, rel=1e-5)\n",
    "assert value(m.fs.S101.split_fraction[0, \"purge\"] * 100) == pytest.approx(\n",
    "    10.0000, rel=1e-5\n",
    ")\n",
    "assert value(m.fs.objective) / 1e6 == pytest.approx(104.2789, rel=1e-5)"
   ]
  },
  {
   "cell_type": "markdown",
   "metadata": {},
   "source": [
    "# 6. Summary\n",
    "The present example demonstrates building, initializing and optimizing a methanol synthesis problem in IDAES. The imported scripts implement models from the IDAES pre-defined unit model library, the IDAES Property and Reaction Framework, targeted thermophysical properties for specific unit blocks, Pyomo's Sequential Decomposition methods, the IDAES Costing Framework for capital cost calculations, and integration of custom surrogate expressions for operating cost calculations. The methanol synthesis flowsheet methods may be imported into any external script, and users may build, initialize and optimize the entire model via the `main()` method in each flowsheet."
   ]
  },
  {
   "cell_type": "code",
   "execution_count": null,
   "metadata": {},
   "outputs": [],
   "source": []
  }
 ],
 "metadata": {
  "celltoolbar": "Tags",
  "kernelspec": {
   "display_name": "Python 3 (ipykernel)",
   "language": "python",
   "name": "python3"
  },
  "language_info": {
   "codemirror_mode": {
    "name": "ipython",
    "version": 3
   },
   "file_extension": ".py",
   "mimetype": "text/x-python",
   "name": "python",
   "nbconvert_exporter": "python",
   "pygments_lexer": "ipython3",
   "version": "3.8.12"
  }
 },
 "nbformat": 4,
 "nbformat_minor": 4
}
