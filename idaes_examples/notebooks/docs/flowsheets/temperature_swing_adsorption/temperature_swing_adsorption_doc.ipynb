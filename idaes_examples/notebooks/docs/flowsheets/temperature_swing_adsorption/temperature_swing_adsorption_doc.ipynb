{
  "cells": [
    {
      "cell_type": "code",
      "execution_count": 1,
      "metadata": {
        "tags": [
          "header",
          "hide-cell"
        ]
      },
      "outputs": [],
      "source": [
        "###############################################################################\n",
        "# The Institute for the Design of Advanced Energy Systems Integrated Platform\n",
        "# Framework (IDAES IP) was produced under the DOE Institute for the\n",
        "# Design of Advanced Energy Systems (IDAES).\n",
        "#\n",
        "# Copyright (c) 2018-2023 by the software owners: The Regents of the\n",
        "# University of California, through Lawrence Berkeley National Laboratory,\n",
        "# National Technology & Engineering Solutions of Sandia, LLC, Carnegie Mellon\n",
        "# University, West Virginia University Research Corporation, et al.\n",
        "# All rights reserved.  Please see the files COPYRIGHT.md and LICENSE.md\n",
        "# for full copyright and license information.\n",
        "###############################################################################"
      ]
    },
    {
      "cell_type": "markdown",
      "metadata": {},
      "source": [
        "\n",
        "# TSA Adsorption Cycle for Carbon Capture\n",
        "\n",
        "\n",
        "Maintainer: Daison Yancy Caballero and Alexander Noring  \n",
        "Author: Daison Yancy Caballero and Alexander Noring  \n",
        "Updated: 2023-11-13  \n",
        "\n",
        "## Learning outcomes\n",
        "\n",
        "\n",
        "- Demonstrate the use of the IDAES fixed bed temperature swing adsorption (TSA) 0D unit model\n",
        "- Initialize the IDAES fixed bed TSA 0D unit model\n",
        "- Simulate the IDAES fixed bed TSA 0D unit model by solving a square problem\n",
        "- Generate and analyze results\n",
        "\n",
        "\n",
        "## Problem Statement\n",
        "\n",
        "This Jupyter notebook shows the simulation of a fixed bed TSA cycle for carbon capture by using the fixed bed TSA 0D unit model in IDAES. The fixed bed TSA model consists of a 0D equilibrium-based shortcut model composed of four steps a) heating, b) cooling, c) pressurization, and d) adsorption. Note that the equations in the IDAES fixed bed TSA 0D unit model and the input specifications used in this tutorial for the feed stream have been taken from <a href=\"https://pubs.acs.org/doi/abs/10.1021/ie5048829\">Joss et al. 2015</a>.\n",
        "\n",
        "\n",
        "#### A diagram of the TSA adsorption cycle is given below: \n",
        "\n",
        "![](tsa_cycle.svg)\n"
      ]
    },
    {
      "cell_type": "markdown",
      "metadata": {},
      "source": [
        "# Step 1: Import Libraries"
      ]
    },
    {
      "cell_type": "markdown",
      "metadata": {},
      "source": [
        "### Import Pyomo pakages \n",
        "\n",
        "We will need the following components from the pyomo libraries.\n",
        "\n",
        "- ConcreteModel (to create the Pyomo model that will contain the IDAES flowsheet)\n",
        "- TransformationFactory (to apply certain transformations)\n",
        "- SolverFactory (to set up the solver that will solve the problem)\n",
        "- Constraint (to write constraints)\n",
        "- Var (to declare variables)\n",
        "- Objective (to declare an objective function)\n",
        "- minimize (to minimize an objective function)\n",
        "- value (to return the numerical value of an Pyomo objects such as variables, constraints or expressions)\n",
        "- units (to handle units in Pyomo and IDAES)\n",
        "- check_optimal_termination (this method returns the solution status from solver)\n",
        "\n",
        "For further details on these components, please refer to the <a href=\"https://pyomo.readthedocs.io/en/latest/\">Pyomo documentation</a>:"
      ]
    },
    {
      "cell_type": "code",
      "execution_count": 2,
      "metadata": {},
      "outputs": [],
      "source": [
        "# python libraries\n",
        "import os\n",
        "\n",
        "# pyomo libraries\n",
        "from pyomo.environ import (\n",
        "    ConcreteModel,\n",
        "    TransformationFactory,\n",
        "    SolverFactory,\n",
        "    Constraint,\n",
        "    Var,\n",
        "    Objective,\n",
        "    minimize,\n",
        "    value,\n",
        "    units,\n",
        "    check_optimal_termination,\n",
        ")"
      ]
    },
    {
      "cell_type": "markdown",
      "metadata": {},
      "source": [
        "### Import IDAES core components\n",
        "\n",
        "To build, initialize, and solve IDAES flowsheets we will need the following core components/utilities:\n",
        "\n",
        "- FlowsheetBlock (the flowsheet block contains idaes properties, time, and unit models)\n",
        "- degrees_of_freedom (useful for debugging, this method returns the DOF of the model)\n",
        "- FixedBedTSA0D (fixed bed TSA model unit model)\n",
        "- util (some utility functions in IDAES)\n",
        "- idaeslog (it's used to set output messages like warnings or errors)\n",
        "\n",
        "For further details on these components, please refer to the <a href=\"https://idaes-pse.readthedocs.io/en/latest/\">IDAES documentation</a>:"
      ]
    },
    {
      "cell_type": "code",
      "execution_count": 3,
      "metadata": {},
      "outputs": [],
      "source": [
        "# import IDAES core libraries \n",
        "from idaes.core import FlowsheetBlock\n",
        "from idaes.core.util.model_statistics import degrees_of_freedom\n",
        "import idaes.core.util as iutil\n",
        "import idaes.logger as idaeslog\n",
        "\n",
        "# import tsa unit model\n",
        "from idaes.models_extra.temperature_swing_adsorption import (\n",
        "    FixedBedTSA0D,\n",
        "    FixedBedTSA0DInitializer,\n",
        "    Adsorbent,\n",
        ")\n",
        "from idaes.models_extra.temperature_swing_adsorption.util import tsa_summary, plot_tsa_profiles"
      ]
    },
    {
      "cell_type": "markdown",
      "metadata": {},
      "source": [
        "## Step 2:  Constructing the Flowsheet\n",
        "\n",
        "First, let's create a ConcreteModel and attach the flowsheet block to it."
      ]
    },
    {
      "cell_type": "code",
      "execution_count": 4,
      "metadata": {},
      "outputs": [],
      "source": [
        "# create concret model\n",
        "m = ConcreteModel()\n",
        "\n",
        "# create flowsheet\n",
        "m.fs = FlowsheetBlock(dynamic=False)"
      ]
    },
    {
      "cell_type": "markdown",
      "metadata": {},
      "source": [
        "### 2.1: Adding the TSA Unit Model\n",
        "\n",
        "Now, we will be adding the fixed bed temperature swing adsorption (TSA) cycle model (assigned a name tsa).\n",
        "\n",
        "The TSA unit model builds variables, constraints and expressions for a solid sorbent based TSA capture system. This IDAES model can take up to 11 config arguments:\n",
        "\n",
        "1. `dynamic`: to set up the model as steady state. The IDAES fixed bed TSA 0D\n",
        "   unit model only supports steady state as the dynamic nature of the adsorption\n",
        "   cycle is handled in internal blocks for each cycle step of the unit. This\n",
        "   config argument is used to enable the TSA unit model to connect with other\n",
        "   IDAES unit models.\n",
        "2. `adsorbent`: to set up the adsorbent to be used in the fixed bed TSA system. \n",
        "   Supported values currently are `Adsorbent.zeolite_13x`, `Adsorbent.mmen_mg_mof_74`, and `Adsorbent.polystyrene_amine`.\n",
        "3. `number_of_beds`: to set up the number of beds to be used in the unit model.\n",
        "   This config argument accepts either an `int` (model assumes a fixed number     of beds) or `None` (model calculates the number of beds).\n",
        "4. `compressor`: indicates whether a compressor unit should be added to the\n",
        "   fixed bed TSA system to calculate the energy required to overcome\n",
        "   the pressure drop in the system. Supported values are `True` and `False`.\n",
        "5. `compressor_properties`: indicates a property package to use in the compressor unit model.\n",
        "6. `steam_calculation`: indicates whether a method to estimate the steam flow rate\n",
        "   required in the desorption step should be included. Supported values are: `SteamCalculationType.none`,\n",
        "   steam calculation method is not included. `SteamCalculationType.simplified`, a surrogate model is used\n",
        "   to estimate the mass flow rate of steam. `SteamCalculationType.rigorous`, a heater unit model is\n",
        "   included in the TSA system assuming total saturation.\n",
        "7. `steam_properties`: indicates a property package to use for rigorous steam calculations. Currently, only the iapws95 property package is supported.\n",
        "8. `transformation_method`: to set up the discretization method to be use for the time\n",
        "   domain. The discretization method must be a method recognized by the\n",
        "   Pyomo `TransformationFactory`. Supported values are `dae.finite_difference` and\n",
        "   `dae.collocation`.\n",
        "9. `transformation_scheme`: to set up the scheme to use when discretizing the time domain.\n",
        "   Supported values are: `TransformationScheme.backward` and `TransformationScheme.forward` for finite difference transformation\n",
        "   method. `TransformationScheme.lagrangeRadau` for collocation transformation method.\n",
        "10. `finite_elements`: to set up the number of finite elements to use when discretizing\n",
        "   the time domain.\n",
        "11. `collocation_points`: to set up the number of collocation points to use per finite element\n",
        "    when the discretization method is `dae.collocation`.\n",
        "  \n",
        "<div class=\"alert alert-block alert-info\">\n",
        "<b>Note:</b>  a default value defined in the IDAES unit class is used for\n",
        "    a config argument when no value is passed in the time the unit model\n",
        "    is called.\n",
        "</div>"
      ]
    },
    {
      "cell_type": "code",
      "execution_count": 5,
      "metadata": {},
      "outputs": [],
      "source": [
        "# add tsa unit\n",
        "m.fs.tsa = FixedBedTSA0D(\n",
        "    adsorbent=Adsorbent.zeolite_13x,\n",
        "    number_of_beds=1)"
      ]
    },
    {
      "cell_type": "markdown",
      "metadata": {},
      "source": [
        "### 2.2: Fix Specifications of Feed Stream in TSA Unit\n",
        "\n",
        "The inlet specifications of the TSA unit are fixed to match the exhaust gas stream (stream 8) of <a href=\"https://pubs.acs.org/doi/abs/10.1021/ie5048829\">case B31B in the NETL baseline report</a>, which is a exhaust gas stream after 90% carbon capture by means of a solvent-based capture system."
      ]
    },
    {
      "cell_type": "code",
      "execution_count": 6,
      "metadata": {},
      "outputs": [],
      "source": [
        "# fix inlet conditions of tsa unit - baseline case from Joss et al. 2015\n",
        "flue_gas = {\n",
        "    \"flow_mol_comp\": {\n",
        "        \"H2O\": 0.0,\n",
        "        \"CO2\": 0.00960*0.12,\n",
        "        \"N2\": 0.00960*0.88,\n",
        "        \"O2\": 0.0},\n",
        "    \"temperature\": 300.0,\n",
        "    \"pressure\": 1.0e5}\n",
        "for i in m.fs.tsa.component_list:\n",
        "    m.fs.tsa.inlet.flow_mol_comp[:, i].fix(flue_gas[\"flow_mol_comp\"][i])\n",
        "m.fs.tsa.inlet.temperature.fix(flue_gas[\"temperature\"])\n",
        "m.fs.tsa.inlet.pressure.fix(flue_gas[\"pressure\"])"
      ]
    },
    {
      "cell_type": "markdown",
      "metadata": {},
      "source": [
        "### 2.3: Fix DOF of TSA unit\n",
        "\n",
        "The degrees of freedom of the TSA unit model are: adsorption and desorption temperatures, temperatures of heating and cooling fluids, column diameter, and column  height. These variables must be fixed to solve a square problem."
      ]
    },
    {
      "cell_type": "code",
      "execution_count": 7,
      "metadata": {},
      "outputs": [
        {
          "name": "stdout",
          "output_type": "stream",
          "text": [
            "The DOF of the TSA unit is 0\n"
          ]
        }
      ],
      "source": [
        "# fix design and operating variables of tsa unit - baseline case from Joss et al. 2015\n",
        "m.fs.tsa.temperature_desorption.fix(430)\n",
        "m.fs.tsa.temperature_adsorption.fix(310)\n",
        "m.fs.tsa.temperature_heating.fix(440)\n",
        "m.fs.tsa.temperature_cooling.fix(300)\n",
        "m.fs.tsa.bed_diameter.fix(3/100)\n",
        "m.fs.tsa.bed_height.fix(1.2)\n",
        "\n",
        "\n",
        "# check the degrees of freedom\n",
        "DOF = degrees_of_freedom(m)\n",
        "print(f\"The DOF of the TSA unit is {DOF}\")"
      ]
    },
    {
      "cell_type": "markdown",
      "metadata": {},
      "source": [
        "### 2.4: Scaling Unit Models\n",
        "\n",
        "Creating well scaled models is important for increasing the efficiency and reliability of solvers. Depending on unit models, variables and constraints are often badly scaled. IDAES unit models contain a method to scale variables and constraints to improve solver convergence. To apply the scaled factors defined in each unit model, we need to call the IDAES method `calculate_scaling_factors` in `idaes.core.util.scaling`."
      ]
    },
    {
      "cell_type": "code",
      "execution_count": 8,
      "metadata": {},
      "outputs": [],
      "source": [
        "# scaling factors\n",
        "iutil.scaling.calculate_scaling_factors(m.fs.tsa)"
      ]
    },
    {
      "cell_type": "markdown",
      "metadata": {},
      "source": [
        "### 2.5: Define  Solver and Solver Options\n",
        "\n",
        "We select the solver that we will be using to initialize and solve the flowsheet."
      ]
    },
    {
      "cell_type": "code",
      "execution_count": 9,
      "metadata": {},
      "outputs": [],
      "source": [
        "# define solver options\n",
        "solver_options = {\n",
        "    \"nlp_scaling_method\": \"user-scaling\",\n",
        "    \"tol\": 1e-6,\n",
        "    }"
      ]
    },
    {
      "cell_type": "markdown",
      "metadata": {},
      "source": [
        "### 2.6: Initialization of Unit Models\n",
        "\n",
        "IDAES includes pre-written initialization routines for all unit models. To initialize the TSA unit model, call the method `m.fs.tsa.initialize()`.\n",
        "\n",
        "<div class=\"alert alert-block alert-info\">\n",
        "<b>Note:</b> initialize methods in IDAES unit models solve a square problem,\n",
        "    so the user needs to be sure that the degrees of freedom of the unit being\n",
        "    initialized are zero.\n",
        "</div>"
      ]
    },
    {
      "cell_type": "code",
      "execution_count": 10,
      "metadata": {},
      "outputs": [
        {
          "name": "stdout",
          "output_type": "stream",
          "text": [
            "2023-10-26 15:28:28 [INFO] idaes.init.fs.tsa: Starting fixed bed TSA initialization\n",
            "2023-10-26 15:28:45 [INFO] idaes.init.fs.tsa.heating: Starting initialization of heating step.\n",
            "2023-10-26 15:28:47 [INFO] idaes.init.fs.tsa.heating: Initialization of heating step completed optimal - Optimal Solution Found.\n",
            "2023-10-26 15:29:01 [INFO] idaes.init.fs.tsa.cooling: Starting initialization of cooling step.\n",
            "2023-10-26 15:29:03 [INFO] idaes.init.fs.tsa.cooling: Initialization of cooling step completed optimal - Optimal Solution Found.\n",
            "2023-10-26 15:29:03 [INFO] idaes.init.fs.tsa.pressurization: Starting initialization of pressurization step.\n",
            "2023-10-26 15:29:03 [INFO] idaes.init.fs.tsa.pressurization: Initialization of pressurization step completed optimal - Optimal Solution Found.\n",
            "2023-10-26 15:29:03 [INFO] idaes.init.fs.tsa.adsorption: Starting initialization of adsorption step.\n",
            "2023-10-26 15:29:04 [INFO] idaes.init.fs.tsa.adsorption: Initialization of adsorption step completed optimal - Optimal Solution Found.\n",
            "2023-10-26 15:29:13 [INFO] idaes.init.fs.tsa: Initialization of fixed bed TSA model completed optimal - Optimal Solution Found.\n"
          ]
        }
      ],
      "source": [
        "# initialize tsa unit\n",
        "initializer = FixedBedTSA0DInitializer(\n",
        "    output_level=idaeslog.INFO,\n",
        "    solver_options=solver_options)\n",
        "initializer.initialize(m.fs.tsa)"
      ]
    },
    {
      "cell_type": "markdown",
      "metadata": {},
      "source": [
        "## Step 3:  Solve the TSA Unit Model\n",
        "\n",
        "Now, we can simulate the TSA unit model by solving a square problem. For this, we need to set up the solver by using the Pyomo component `SolverFactory`. We will be using the solver and solver options defined during the initialization."
      ]
    },
    {
      "cell_type": "code",
      "execution_count": 11,
      "metadata": {},
      "outputs": [
        {
          "name": "stdout",
          "output_type": "stream",
          "text": [
            "WARNING: model contains export suffix 'fs.tsa.cooling.scaling_factor' that\n",
            "contains 4 component keys that are not exported as part of the NL file.\n",
            "Skipping.\n",
            "WARNING: model contains export suffix 'fs.tsa.heating.scaling_factor' that\n",
            "contains 2 component keys that are not exported as part of the NL file.\n",
            "Skipping.\n",
            "WARNING: model contains export suffix 'fs.tsa.scaling_factor' that contains 12\n",
            "component keys that are not exported as part of the NL file.  Skipping.\n",
            "Ipopt 3.13.2: nlp_scaling_method=user-scaling\n",
            "tol=1e-06\n",
            "\n",
            "\n",
            "******************************************************************************\n",
            "This program contains Ipopt, a library for large-scale nonlinear optimization.\n",
            " Ipopt is released as open source code under the Eclipse Public License (EPL).\n",
            "         For more information visit http://projects.coin-or.org/Ipopt\n",
            "\n",
            "This version of Ipopt was compiled from source code available at\n",
            "    https://github.com/IDAES/Ipopt as part of the Institute for the Design of\n",
            "    Advanced Energy Systems Process Systems Engineering Framework (IDAES PSE\n",
            "    Framework) Copyright (c) 2018-2019. See https://github.com/IDAES/idaes-pse.\n",
            "\n",
            "This version of Ipopt was compiled using HSL, a collection of Fortran codes\n",
            "    for large-scale scientific computation.  All technical papers, sales and\n",
            "    publicity material resulting from use of the HSL codes within IPOPT must\n",
            "    contain the following acknowledgement:\n",
            "        HSL, a collection of Fortran codes for large-scale scientific\n",
            "        computation. See http://www.hsl.rl.ac.uk.\n",
            "******************************************************************************\n",
            "\n",
            "This is Ipopt version 3.13.2, running with linear solver ma27.\n",
            "\n",
            "Number of nonzeros in equality constraint Jacobian...:    19132\n",
            "Number of nonzeros in inequality constraint Jacobian.:        0\n",
            "Number of nonzeros in Lagrangian Hessian.............:    70375\n",
            "\n",
            "Total number of variables............................:     2815\n",
            "                     variables with only lower bounds:        5\n",
            "                variables with lower and upper bounds:      605\n",
            "                     variables with only upper bounds:        1\n",
            "Total number of equality constraints.................:     2815\n",
            "Total number of inequality constraints...............:        0\n",
            "        inequality constraints with only lower bounds:        0\n",
            "   inequality constraints with lower and upper bounds:        0\n",
            "        inequality constraints with only upper bounds:        0\n",
            "\n",
            "iter    objective    inf_pr   inf_du lg(mu)  ||d||  lg(rg) alpha_du alpha_pr  ls\n",
            "   0  0.0000000e+00 3.63e+01 1.00e+00  -1.0 0.00e+00    -  0.00e+00 0.00e+00   0\n",
            "   1  0.0000000e+00 1.06e+00 3.00e+03  -1.0 4.96e+00    -  9.90e-01 9.90e-01h  1\n",
            "   2  0.0000000e+00 4.90e-03 4.83e+03  -1.0 4.91e+00    -  9.90e-01 9.96e-01h  1\n",
            "   3  0.0000000e+00 2.44e-07 4.53e+00  -1.0 2.25e-02    -  1.00e+00 1.00e+00h  1\n",
            "\n",
            "Number of Iterations....: 3\n",
            "\n",
            "                                   (scaled)                 (unscaled)\n",
            "Objective...............:   0.0000000000000000e+00    0.0000000000000000e+00\n",
            "Dual infeasibility......:   0.0000000000000000e+00    0.0000000000000000e+00\n",
            "Constraint violation....:   1.0710209608078003e-07    2.4400780240796394e-07\n",
            "Complementarity.........:   0.0000000000000000e+00    0.0000000000000000e+00\n",
            "Overall NLP error.......:   1.0710209608078003e-07    2.4400780240796394e-07\n",
            "\n",
            "\n",
            "Number of objective function evaluations             = 4\n",
            "Number of objective gradient evaluations             = 4\n",
            "Number of equality constraint evaluations            = 4\n",
            "Number of inequality constraint evaluations          = 0\n",
            "Number of equality constraint Jacobian evaluations   = 4\n",
            "Number of inequality constraint Jacobian evaluations = 0\n",
            "Number of Lagrangian Hessian evaluations             = 3\n",
            "Total CPU secs in IPOPT (w/o function evaluations)   =      3.208\n",
            "Total CPU secs in NLP function evaluations           =      0.089\n",
            "\n",
            "EXIT: Optimal Solution Found.\n"
          ]
        }
      ],
      "source": [
        "# set up solver to solve flowsheet\n",
        "solver = SolverFactory(\"ipopt\")\n",
        "solver.options = solver_options\n",
        "\n",
        "# solve flowsheet\n",
        "results = solver.solve(m, tee=True)"
      ]
    },
    {
      "cell_type": "markdown",
      "metadata": {},
      "source": [
        "## Step 4:  Viewing the Simulation Results\n",
        "\n",
        "We will call some utility methods defined in the TSA unit model to get displayed some key variables."
      ]
    },
    {
      "cell_type": "code",
      "execution_count": 13,
      "metadata": {},
      "outputs": [
        {
          "name": "stdout",
          "output_type": "stream",
          "text": [
            "\n",
            "====================================================================================\n",
            "Summary - tsa\n",
            "------------------------------------------------------------------------------------                                                                  Value  \n",
            "    Adsorption temperature [K]                                     310.00\n",
            "    Desorption temperature [K]                                     430.00\n",
            "    Heating temperature [K]                                        440.00\n",
            "    Cooling temperature [K]                                        300.00\n",
            "    Column diameter [m]                                          0.030000\n",
            "    Column length [m]                                              1.2000\n",
            "    Column volume [m3]                                         0.00084823\n",
            "    CO2 mole fraction at feed [%]                                  12.000\n",
            "    Feed flow rate [mol/s]                                      0.0096000\n",
            "    Feed velocity [m/s]                                           0.50008\n",
            "    Minimum fluidization velocity [m/s]                            1.5207\n",
            "    Time of heating step [h]                                      0.37030\n",
            "    Time of cooling step [h]                                      0.20826\n",
            "    Time of pressurization step [h]                             0.0051098\n",
            "    Time of adsorption step [h]                                   0.25221\n",
            "    Cycle time [h]                                                0.83588\n",
            "    Purity [-]                                                    0.90219\n",
            "    Recovery [-]                                                  0.89873\n",
            "    Productivity [kg CO2/ton/h]                                    84.085\n",
            "    Specific energy [MJ/kg CO2]                                    3.6532\n",
            "    Heat duty per bed [MW]                                     5.1244e-05\n",
            "    Heat duty total [MW]                                       0.00016646\n",
            "    Pressure drop [Pa]                                             5263.6\n",
            "    Number of beds                                                 3.2484\n",
            "    CO2 captured in one cycle per bed [kg/cycle]                 0.042210\n",
            "    Cycles per year                                                10480.\n",
            "    Total CO2 captured per year [tonne/year]                       1.4369\n",
            "    Amount of flue gas processed per year [Gmol/year]          0.00030275\n",
            "    Amount of flue gas processed per year (target) [Gmol/year] 0.00030275\n",
            "    Amount of CO2 to atmosphere [mol/s]                        0.00011667\n",
            "    Concentration of CO2 emitted to atmosphere [ppm]               13803.\n",
            "====================================================================================\n"
          ]
        }
      ],
      "source": [
        "# summary tsa\n",
        "tsa_summary(m.fs.tsa)\n"
      ]
    },
    {
      "cell_type": "markdown",
      "metadata": {},
      "source": [
        "## Step 5:  Plotting Profiles\n",
        "\n",
        "Call plots method in the FixedBedTSA0D model to generate profiles of temperature, pressure and $\\mathrm{CO_{2}}$ concentration at the outlet of the column."
      ]
    },
    {
      "cell_type": "code",
      "execution_count": 15,
      "metadata": {},
      "outputs": [
        {
          "data": {
            "image/png": "[encoded data removed]",
            "text/plain": [
              "<Figure size 500x800 with 3 Axes>"
            ]
          },
          "metadata": {},
          "output_type": "display_data"
        }
      ],
      "source": [
        "# profiles\n",
        "plot_tsa_profiles(m.fs.tsa)\n"
      ]
    },
    {
      "cell_type": "code",
      "execution_count": null,
      "metadata": {},
      "outputs": [],
      "source": []
    }
  ],
  "metadata": {
    "celltoolbar": "Tags",
    "kernelspec": {
      "display_name": "Python 3 (ipykernel)",
      "language": "python",
      "name": "python3"
    },
    "language_info": {
      "codemirror_mode": {
        "name": "ipython",
        "version": 3
      },
      "file_extension": ".py",
      "mimetype": "text/x-python",
      "name": "python",
      "nbconvert_exporter": "python",
      "pygments_lexer": "ipython3",
      "version": "3.10.6"
    }
  },
  "nbformat": 4,
  "nbformat_minor": 3
}