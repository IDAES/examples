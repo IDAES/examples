{
 "cells": [
  {
   "cell_type": "code",
   "execution_count": null,
   "metadata": {
    "tags": [
     "header",
     "hide-cell"
    ]
   },
   "outputs": [],
   "source": [
    "###############################################################################\n",
    "# The Institute for the Design of Advanced Energy Systems Integrated Platform\n",
    "# Framework (IDAES IP) was produced under the DOE Institute for the\n",
    "# Design of Advanced Energy Systems (IDAES).\n",
    "#\n",
    "# Copyright (c) 2018-2023 by the software owners: The Regents of the\n",
    "# University of California, through Lawrence Berkeley National Laboratory,\n",
    "# National Technology & Engineering Solutions of Sandia, LLC, Carnegie Mellon\n",
    "# University, West Virginia University Research Corporation, et al.\n",
    "# All rights reserved.  Please see the files COPYRIGHT.md and LICENSE.md\n",
    "# for full copyright and license information.\n",
    "###############################################################################"
   ]
  },
  {
   "cell_type": "markdown",
   "metadata": {},
   "source": [
    "\n",
    "# HDA Flowsheet Costing\n",
    "\n",
    "\n",
    "## Note\n",
    "\n",
    "This example will demonstrate adding capital and operating costs to the two HDA examples, the basic [HDA with Flash](../tut/hda_flowsheet_solution.ipynb) and a comparison with the HDA with Distillation.\n",
    "\n",
    "\n",
    "## Learning outcomes\n",
    "\n",
    "- Import external pre-built steady-state flowsheets using the IDAES unit model library\n",
    "- Define and add costing blocks using the IDAES Process Costing Framework\n",
    "- Fomulate and solve a process economics optimization problem\n",
    "    - Defining an objective function\n",
    "    - Setting variable bounds\n",
    "    - Adding additional constraints \n",
    "\n",
    "\n",
    "## Problem Statement\n",
    "\n",
    "Hydrodealkylation is a chemical reaction that often involves reacting\n",
    "an aromatic hydrocarbon in the presence of hydrogen gas to form a\n",
    "simpler aromatic hydrocarbon devoid of functional groups. In this\n",
    "example, toluene will be reacted with hydrogen gas at high temperatures\n",
    " to form benzene via the following reaction:\n",
    "\n",
    "**C<sub>6</sub>H<sub>5</sub>CH<sub>3</sub> + H<sub>2</sub> → C<sub>6</sub>H<sub>6</sub> + CH<sub>4</sub>**\n",
    "\n",
    "\n",
    "This reaction is often accompanied by an equilibrium side reaction\n",
    "which forms diphenyl, which we will neglect for this example.\n",
    "\n",
    "This example is based on the 1967 AIChE Student Contest problem as\n",
    "present by Douglas, J.M., Chemical  Design of Chemical Processes, 1988,\n",
    "McGraw-Hill.\n",
    "\n",
    "Users may refer to the prior examples linked at the top of this notebook for detailed process descriptions of the two HDA configurations. As before, the properties required for this module are defined in\n",
    "\n",
    "- `hda_ideal_VLE.py`\n",
    "- `idaes.models.properties.activity_coeff_models.BTX_activity_coeff_VLE`\n",
    "- `hda_reaction.py`\n",
    "\n",
    "Additionally, we will be importing externally-defined flowsheets for the two HDA configurations from\n",
    "\n",
    "- `hda_flowsheets_for_costing_notebook.py`"
   ]
  },
  {
   "cell_type": "markdown",
   "metadata": {},
   "source": [
    "## Import and run HDA Flowsheets\n",
    "First, we will generate solved flowsheets for each HDA model. The external scripts build and set inputs for the flowsheets, initialize unit models and streams, and solve the flowsheets before returning the model objects. Note that the HDA flowsheets contain all unit models and stream connections, and no costing equations."
   ]
  },
  {
   "cell_type": "markdown",
   "metadata": {},
   "source": [
    "The flowsheet utilizes the Wegstein method to iteratively solve circular dependencies such as recycle streams, and is intended to approach a feasible solution. As such, the calls below will fail to converge after 3 iterations and pass to IPOPT to obtain an optimal solution as expected:"
   ]
  },
  {
   "cell_type": "code",
   "execution_count": 1,
   "metadata": {
    "scrolled": true
   },
   "outputs": [],
   "source": [
    "# Source file for prebuilt flowsheets\n",
    "from hda_flowsheets_for_costing_notebook import hda_with_flash\n",
    "\n",
    "# Build hda model with second flash unit and return model object\n",
    "m = hda_with_flash(tee=True)"
   ]
  },
  {
   "cell_type": "markdown",
   "metadata": {},
   "source": [
    "## IDAES Process Costing Framework\n",
    "IDAES provides a library of capital costing correlations based on those in the following source:\n",
    "\n",
    "*Process and Product Design Principles: Synthesis, Analysis, and Evaluation*. Seider, Seader, Lewin, Windagdo, 3rd Ed. John Wiley and Sons Chapter 22. Cost Accounting and Capital Cost Estimation 22.2 Cost Indexes and Capital Investment.\n",
    "\n",
    "Currently, IDAES supports calculation of capital costing for a wide array of unit operations, vesseel sizing and material properties, and specific unit options such as column tray types and heat exchanger configurations. Users may find further information on specific costing methods and options in the IDAES Process Costing Framework documentation (link pending).\n"
   ]
  },
  {
   "cell_type": "markdown",
   "metadata": {},
   "source": [
    "## Add Operating Cost Equations\n",
    "Before adding capital costing blocks, we will add operating cost equations taken from the basic [HDA with Flash](../tut/hda_flowsheet_solution.ipynb) and the HDA with Distillation examples. The examples assume constant cooling and heating coefficients over an annual cost basis. The IDAES Generic Costing Framework does not currently support variable cost calculations."
   ]
  },
  {
   "cell_type": "code",
   "execution_count": 2,
   "metadata": {},
   "outputs": [],
   "source": [
    "# Required imports\n",
    "from pyomo.environ import Expression\n",
    "\n",
    "# Operating costs for HDA with second flash (model m)\n",
    "m.fs.cooling_cost = Expression(\n",
    "    expr=0.212e-7 * (-m.fs.F101.heat_duty[0]) + 0.212e-7 * (-m.fs.R101.heat_duty[0])\n",
    ")\n",
    "m.fs.heating_cost = Expression(\n",
    "    expr=2.2e-7 * m.fs.H101.heat_duty[0] + 1.9e-7 * m.fs.F102.heat_duty[0]\n",
    ")\n",
    "m.fs.operating_cost = Expression(\n",
    "    expr=(3600 * 24 * 365 * (m.fs.heating_cost + m.fs.cooling_cost))\n",
    ")"
   ]
  },
  {
   "cell_type": "markdown",
   "metadata": {},
   "source": [
    "## Add Capital Costing\n",
    "Below, we will add add capital costing blocks to the imported flowsheets and evaluate the economic impact of replacing the second Flash with a Distillation column. First, let's import and define the main flowsheet costing block:"
   ]
  },
  {
   "cell_type": "code",
   "execution_count": 3,
   "metadata": {},
   "outputs": [],
   "source": [
    "# Import costing methods - classes, heaters, vessels, compressors, columns\n",
    "from idaes.models.costing.SSLW import (\n",
    "    SSLWCosting,\n",
    "    SSLWCostingData,\n",
    ")\n",
    "from idaes.core import UnitModelCostingBlock\n",
    "\n",
    "# Costing block\n",
    "m.fs.costing = SSLWCosting()"
   ]
  },
  {
   "cell_type": "markdown",
   "metadata": {},
   "source": [
    "Next, we will build the relevant costing blocks for the equipment we wish to cost. Note how the costing block, methods and flags are passed as arguments in the costing block call itself. Each unit model will have a single costing block, but each flowsheet model (m and n) will also have a single costing block for flowsheet-level properties.\n",
    "\n",
    "Users should note that IDAES costing methods support a wide array of heating sources (e.g. fired, steam boiler, hot water) and do not support direct capital costing of coolers. If users wish to cost Heater units acting as coolers, it is necessary to cost a \"dummy\" [0D shell and tube exchanger](https://idaes-pse.readthedocs.io/en/stable/reference_guides/model_libraries/generic/unit_models/heat_exchanger.html) with appropriate aliased hot stream properties and proper cooling water properties. This is not demonstrated here, as the HDA examples take advantage of Flash and Condenser operations to recover liquid product.\n",
    "\n",
    "Capital costing is independent of unit model connections, and building cost equations may be done piecewise in this fashion. Default options are passed explicitly to demonstrate proper syntax and usage. Now that all required properties are defined, let's cost our models connecting costing blocks, methods and unit models in each flowsheet."
   ]
  },
  {
   "cell_type": "markdown",
   "metadata": {},
   "source": [
    "### Flexibility of Costing Block Definitions\n",
    "IDAES supports many ways to define batches of costing blocks, and several are shown in the example. Users may employ whichever method fits their modeling needs for explicit or concise code. In the code below, note how the unit model itself is never passed to the costing method; when the full model is executed, the costing block will automatically connect its parent block with child equation blocks.\n",
    "\n",
    "`Compressor` unit models with isothermal or adiabatic thermodynamics are too simple to cost and are therefore excluded from the economic analysis."
   ]
  },
  {
   "cell_type": "markdown",
   "metadata": {},
   "source": [
    "Let's define costing for the heater unit:"
   ]
  },
  {
   "cell_type": "code",
   "execution_count": 4,
   "metadata": {},
   "outputs": [],
   "source": [
    "from idaes.models.costing.SSLW import (\n",
    "    HeaterMaterial,\n",
    "    HeaterSource,\n",
    ")\n",
    "\n",
    "# Costing for heater - m.fs.H101\n",
    "m.fs.H101.costing = UnitModelCostingBlock(\n",
    "    flowsheet_costing_block=m.fs.costing,\n",
    "    costing_method=SSLWCostingData.cost_fired_heater,\n",
    "    costing_method_arguments={\n",
    "        \"material_type\": HeaterMaterial.CarbonSteel,\n",
    "        \"heat_source\": HeaterSource.Fuel,\n",
    "    },\n",
    ")"
   ]
  },
  {
   "cell_type": "markdown",
   "metadata": {},
   "source": [
    "The costing module provides a `unit_mapping` dictionary linking generic unit model classes with recommended costing methods. In this example, StoichiometricReactor and Flash vessels utilize different vessel costing methods with similar arguments. The diameter and length attributes need to exist in order to cost vessel sizing and material requirements, and we add them if they don't exist already. The `unit_mapping` method provides an opportunity to automatically select the correct vessel orientation (vertical or horizontal) based on the unit type; passing a `StoichiometricReactor` or `PFR` class object will call the `cost_horizontal_vessel` method, while passing a `Flash` or `CSTR` class object will call the `cost_vertical_vessel` method.\n",
    "\n",
    "All vessels are assigned costing succintly via a loop below - users may define each block individually if desired:"
   ]
  },
  {
   "cell_type": "code",
   "execution_count": 5,
   "metadata": {},
   "outputs": [],
   "source": [
    "from idaes.models.costing.SSLW import (\n",
    "    VesselMaterial,\n",
    "    TrayType,\n",
    "    TrayMaterial,\n",
    ")\n",
    "\n",
    "from idaes.core.util.constants import Constants\n",
    "from pyomo.environ import Var, Constraint, units as pyunits, Param, value\n",
    "from idaes.models.unit_models import StoichiometricReactor, Flash\n",
    "\n",
    "# Map unit models to unit classes\n",
    "# Will pass to unit_mapping which calls costing methods based on unit class\n",
    "unit_class_mapping = {\n",
    "    m.fs.R101: StoichiometricReactor,\n",
    "    m.fs.F101: Flash,\n",
    "    m.fs.F102: Flash,\n",
    "}\n",
    "\n",
    "# Costing for vessels - m.fs.R101, m.fs.F101, m.fs.F102\n",
    "\n",
    "# Loop over units\n",
    "for unit in [m.fs.R101, m.fs.F101, m.fs.F102]:\n",
    "    # Get correct unit class for unit model\n",
    "    unit_class = unit_class_mapping[unit]\n",
    "\n",
    "    # Add dimension variables and constraint if they don't exist\n",
    "    if not hasattr(unit, \"diameter\"):\n",
    "        unit.diameter = Var(initialize=1, units=pyunits.m)\n",
    "    if not hasattr(unit, \"length\"):\n",
    "        unit.length = Var(initialize=1, units=pyunits.m)\n",
    "    if hasattr(unit, \"volume\"):  # if volume exists, set diameter from volume\n",
    "        unit.volume_eq = Constraint(\n",
    "            expr=unit.volume[0]\n",
    "            == unit.length * unit.diameter**2 * 0.25 * Constants.pi\n",
    "        )\n",
    "    else:  # fix diameter directly\n",
    "        unit.diameter.fix(0.2214 * pyunits.m)\n",
    "    # Either way, fix L/D to calculate L from D\n",
    "    unit.L_over_D = Constraint(expr=unit.length == 3 * unit.diameter)\n",
    "\n",
    "    # Define vessel costing\n",
    "    unit.costing = UnitModelCostingBlock(\n",
    "        flowsheet_costing_block=unit.parent_block().costing,  # e.g. m.fs.R101.costing\n",
    "        costing_method=SSLWCostingData.unit_mapping[\n",
    "            unit_class\n",
    "        ],  # e.g. cost_vertical_vessel()\n",
    "        costing_method_arguments={\n",
    "            \"material_type\": VesselMaterial.CarbonSteel,\n",
    "            \"shell_thickness\": 1.25 * pyunits.inch,\n",
    "        },\n",
    "    )"
   ]
  },
  {
   "cell_type": "markdown",
   "metadata": {},
   "source": [
    "## Solve Flowsheet Costing Blocks\n",
    "Now, we may solve the full flowsheet for all costing blocks:"
   ]
  },
  {
   "cell_type": "code",
   "execution_count": 6,
   "metadata": {},
   "outputs": [],
   "source": [
    "# Eefine solver\n",
    "from idaes.core.solvers import get_solver\n",
    "\n",
    "solver = get_solver()\n",
    "\n",
    "# Check that the degrees of freedom is zero\n",
    "from idaes.core.util.model_statistics import degrees_of_freedom\n",
    "\n",
    "assert degrees_of_freedom(m) == 0"
   ]
  },
  {
   "cell_type": "code",
   "execution_count": 7,
   "metadata": {},
   "outputs": [],
   "source": [
    "# Check physical units consistency, solve and check solver status\n",
    "from pyomo.environ import TerminationCondition\n",
    "from pyomo.util.check_units import assert_units_consistent\n",
    "\n",
    "assert_units_consistent(m)\n",
    "results = solver.solve(m, tee=True, symbolic_solver_labels=True)\n",
    "assert results.solver.termination_condition == TerminationCondition.optimal"
   ]
  },
  {
   "cell_type": "markdown",
   "metadata": {},
   "source": [
    "For comparison, we will call and build the HDA flowsheet replacing the second `Flash` with a `TrayColumn` distillation unit model. The flowsheet costing occurs in the external script `hda_flowsheets_for_costing_notebook.py` and is not shown here:"
   ]
  },
  {
   "cell_type": "code",
   "execution_count": 8,
   "metadata": {
    "scrolled": true
   },
   "outputs": [],
   "source": [
    "from pyomo.common.log import LoggingIntercept\n",
    "import logging\n",
    "from io import StringIO\n",
    "\n",
    "stream = StringIO()\n",
    "with LoggingIntercept(stream, \"idaes\", logging.WARNING):\n",
    "    # Source file for prebuilt flowsheets\n",
    "    from hda_flowsheets_for_costing_notebook import hda_with_distillation\n",
    "\n",
    "    # Build hda model with distillation column and return model object\n",
    "    n = hda_with_distillation(tee=False)"
   ]
  },
  {
   "cell_type": "markdown",
   "metadata": {},
   "source": [
    "## Results Comparison and Visualization\n",
    "For the two flowsheets above, let's sum the total operating and capital costs of each scenario. We will display overall process economics results and compare the two flowsheets:"
   ]
  },
  {
   "cell_type": "code",
   "execution_count": 9,
   "metadata": {},
   "outputs": [],
   "source": [
    "# Imports and data gathering\n",
    "from matplotlib import pyplot as plt\n",
    "\n",
    "plt.style.use(\"dark_background\")  # if using browser in dark mode, uncomment this line\n",
    "import numpy as np\n",
    "import pandas as pd\n",
    "\n",
    "# Automatically get units that we costed - this will exclude C101 for both flowsheets\n",
    "\n",
    "two_flash_unitlist = [\n",
    "    getattr(m.fs, unit) for unit in dir(m.fs) if hasattr(getattr(m.fs, unit), \"costing\")\n",
    "]\n",
    "distillation_unitlist = [\n",
    "    getattr(n.fs, unit) for unit in dir(n.fs) if hasattr(getattr(n.fs, unit), \"costing\")\n",
    "]"
   ]
  },
  {
   "cell_type": "code",
   "execution_count": 10,
   "metadata": {},
   "outputs": [],
   "source": [
    "# Compare equipment purchase costs (actual capital costs)\n",
    "\n",
    "two_flash_capcost = {\n",
    "    unit.name: value(unit.costing.capital_cost / 1e3) for unit in two_flash_unitlist\n",
    "}\n",
    "distillation_capcost = {\n",
    "    unit.name: value(unit.costing.capital_cost / 1e3) for unit in distillation_unitlist\n",
    "}\n",
    "\n",
    "two_flash_capdf = pd.DataFrame(\n",
    "    list(two_flash_capcost.items()), columns=[\"Equipment\", \"Two Flash\"]\n",
    ").set_index(\"Equipment\")\n",
    "distillation_capdf = pd.DataFrame(\n",
    "    list(distillation_capcost.items()), columns=[\"Equipment\", \"Distillation\"]\n",
    ").set_index(\"Equipment\")\n",
    "\n",
    "# Add dataframes, merge same indices, replace NaNs with 0s, and transpose\n",
    "capcosts = two_flash_capdf.add(distillation_capdf, fill_value=0).fillna(0).transpose()\n",
    "\n",
    "# Sort according to an easier order to view\n",
    "capcosts = capcosts[[\"fs.H101\", \"fs.R101\", \"fs.F101\", \"fs.F102\", \"fs.D101\", \"fs.H102\"]]\n",
    "\n",
    "print(\"Costs in $1000:\")\n",
    "display(capcosts)  # view dataframe before plotting\n",
    "\n",
    "capplot = capcosts.plot(\n",
    "    kind=\"bar\", stacked=True, title=\"HDA Total Capital Costs\", ylabel=\"$1000\"\n",
    ")"
   ]
  },
  {
   "cell_type": "code",
   "execution_count": 11,
   "metadata": {},
   "outputs": [],
   "source": [
    "# Compare operating costs (per year)\n",
    "\n",
    "two_flash_opcost = {\n",
    "    \"cooling\": value(3600 * 24 * 365 * m.fs.cooling_cost / 1e3),\n",
    "    \"heating\": value(3600 * 24 * 365 * m.fs.heating_cost / 1e3),\n",
    "}\n",
    "distillation_opcost = {\n",
    "    \"cooling\": value(3600 * 24 * 365 * n.fs.cooling_cost / 1e3),\n",
    "    \"heating\": value(3600 * 24 * 365 * n.fs.heating_cost / 1e3),\n",
    "}\n",
    "\n",
    "two_flash_opdf = pd.DataFrame(\n",
    "    list(two_flash_opcost.items()), columns=[\"Utilities\", \"Two Flash\"]\n",
    ").set_index(\"Utilities\")\n",
    "distillation_opdf = pd.DataFrame(\n",
    "    list(distillation_opcost.items()), columns=[\"Utilities\", \"Distillation\"]\n",
    ").set_index(\"Utilities\")\n",
    "\n",
    "# Add dataframes, merge same indices, replace NaNs with 0s, and transpose\n",
    "opcosts = two_flash_opdf.add(distillation_opdf, fill_value=0).fillna(0).transpose()\n",
    "\n",
    "print(\"Costs in $1000:\")\n",
    "display(opcosts)  # view dataframe before plotting\n",
    "\n",
    "opplot = opcosts.plot(\n",
    "    kind=\"bar\", stacked=True, title=\"HDA Operating Costs\", ylabel=\"$1000/year\"\n",
    ")"
   ]
  },
  {
   "cell_type": "code",
   "execution_count": 12,
   "metadata": {},
   "outputs": [],
   "source": [
    "# Compare total costs (capital costs and operating costs)\n",
    "\n",
    "two_flash_totcost = {\n",
    "    \"capital\": sum(two_flash_capcost[idx] for idx in two_flash_capcost),\n",
    "    \"operating\": value(m.fs.operating_cost) / 1e3,\n",
    "}\n",
    "distillation_totcost = {\n",
    "    \"capital\": sum(distillation_capcost[idx] for idx in distillation_capcost),\n",
    "    \"operating\": value(n.fs.operating_cost) / 1e3,\n",
    "}\n",
    "\n",
    "two_flash_totdf = pd.DataFrame(\n",
    "    list(two_flash_totcost.items()), columns=[\"Costs\", \"Two Flash\"]\n",
    ").set_index(\"Costs\")\n",
    "distillation_totdf = pd.DataFrame(\n",
    "    list(distillation_totcost.items()), columns=[\"Costs\", \"Distillation\"]\n",
    ").set_index(\"Costs\")\n",
    "\n",
    "# Add dataframes, merge same indices, replace NaNs with 0s, and transpose\n",
    "totcosts = two_flash_totdf.add(distillation_totdf, fill_value=0).fillna(0).transpose()\n",
    "\n",
    "print(\"Costs in $1000:\")\n",
    "display(totcosts)  # view dataframe before plotting\n",
    "\n",
    "totplot = totcosts.plot(\n",
    "    kind=\"bar\", stacked=True, title=\"HDA Total Plant Cost (TPC)\", ylabel=\"$1000/year\"\n",
    ")"
   ]
  },
  {
   "cell_type": "markdown",
   "metadata": {},
   "source": [
    "Finally, let's compare the total costs on a production basis. This will account for the greater efficiency provided by the distillation column relative to the less-expensive second flash unit:"
   ]
  },
  {
   "cell_type": "code",
   "execution_count": 13,
   "metadata": {},
   "outputs": [],
   "source": [
    "two_flash_cost = value(1e3 * sum(two_flash_totcost[idx] for idx in two_flash_totcost))\n",
    "two_flash_prod = value(\n",
    "    m.fs.F102.vap_outlet.flow_mol_phase_comp[0, \"Vap\", \"benzene\"] * 365 * 24 * 3600\n",
    ")\n",
    "distillation_cost = value(\n",
    "    1e3 * sum(distillation_totcost[idx] for idx in distillation_totcost)\n",
    ")\n",
    "distillation_prod = value(n.fs.D101.condenser.distillate.flow_mol[0] * 365 * 24 * 3600)\n",
    "\n",
    "print(\n",
    "    f\"Two flash case over one year: ${two_flash_cost/1e3:0.0f}K / {two_flash_prod/1e3:0.0f} kmol benzene = ${two_flash_cost/(two_flash_prod/1e3):0.2f} per kmol benzene produced\"\n",
    ")\n",
    "print(\n",
    "    f\"Distillation case over one year: ${distillation_cost/1e3:0.0f}K / {distillation_prod/1e3:0.0f} kmol benzene = ${distillation_cost/(distillation_prod/1e3):0.2f} per kmol benzene produced\"\n",
    ")"
   ]
  },
  {
   "cell_type": "markdown",
   "metadata": {},
   "source": [
    "# Summary\n",
    "In this example, IDAES Process Costing Framework methods were applied to two HDA flowsheets for capital cost estimation. The costing blocks calls showcased multiple methods to define unit costing, demonstrating the flexibility and best practice of the costing framework. In the basic examples, the two-flash HDA did not include costing and the distillation HDA estimated a reactor capital cost comprising 3.3% of the total plant cost (TPC). With more rigorous costing, IDAES obtained total capital costs of 8.5% TPC (two flash HDA) and 9.6% (distillation HDA) and better modeled the impact of equipment cost on process economics. As printed above, the IDAES Process Costing Framework confirmed that replacing the second flash drum with a distillation column results in increased equipment costs, increased production and decreased cost per unit product."
   ]
  }
 ],
 "metadata": {
  "celltoolbar": "Tags",
  "kernelspec": {
   "display_name": "Python 3 (ipykernel)",
   "language": "python",
   "name": "python3"
  },
  "language_info": {
   "codemirror_mode": {
    "name": "ipython",
    "version": 3
   },
   "file_extension": ".py",
   "mimetype": "text/x-python",
   "name": "python",
   "nbconvert_exporter": "python",
   "pygments_lexer": "ipython3",
   "version": "3.8.12"
  }
 },
 "nbformat": 4,
 "nbformat_minor": 4
}
