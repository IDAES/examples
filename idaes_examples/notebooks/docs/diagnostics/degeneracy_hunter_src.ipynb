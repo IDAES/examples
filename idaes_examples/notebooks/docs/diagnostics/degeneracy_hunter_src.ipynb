{
 "cells": [
  {
   "cell_type": "code",
   "execution_count": null,
   "id": "cff6277c",
   "metadata": {
    "tags": [
     "header",
     "hide-cell"
    ]
   },
   "outputs": [],
   "source": [
    "###############################################################################\n",
    "# The Institute for the Design of Advanced Energy Systems Integrated Platform\n",
    "# Framework (IDAES IP) was produced under the DOE Institute for the\n",
    "# Design of Advanced Energy Systems (IDAES).\n",
    "#\n",
    "# Copyright (c) 2018-2023 by the software owners: The Regents of the\n",
    "# University of California, through Lawrence Berkeley National Laboratory,\n",
    "# National Technology & Engineering Solutions of Sandia, LLC, Carnegie Mellon\n",
    "# University, West Virginia University Research Corporation, et al.\n",
    "# All rights reserved.  Please see the files COPYRIGHT.md and LICENSE.md\n",
    "# for full copyright and license information.\n",
    "###############################################################################"
   ]
  },
  {
   "cell_type": "markdown",
   "metadata": {},
   "source": [
    "# Degeneracy Hunter Examples\n",
    "\n",
    "Created by Prof. Alex Dowling (adowling@nd.edu) at the University of Notre Dame.\n",
    "\n",
    "This notebook shows how to use the following Degeneracy Hunter features using two motivating examples:\n",
    "* Inspect constraint violations and bounds of a Pyomo model\n",
    "* Compute the Irreducible Degenerate Set (IDS) for a Pyomo model\n",
    "* Demonstrates the Ipopt performance benefits from removing a single redundant constraint\n",
    "\n",
    "   "
   ]
  },
  {
   "cell_type": "markdown",
   "metadata": {},
   "source": [
    "##  Setup\n",
    "\n",
    "We start by importing Pyomo and Degeneracy Hunter."
   ]
  },
  {
   "cell_type": "code",
   "execution_count": 1,
   "metadata": {},
   "outputs": [],
   "source": [
    "import pyomo.environ as pyo\n",
    "\n",
    "from idaes.core.util.model_diagnostics import DegeneracyHunter"
   ]
  },
  {
   "cell_type": "markdown",
   "metadata": {},
   "source": [
    "## Example 1: Well-Behaved Nonlinear Program"
   ]
  },
  {
   "cell_type": "markdown",
   "metadata": {},
   "source": [
    "Consider the following \"well-behaved\" nonlinear optimization problem."
   ]
  },
  {
   "cell_type": "markdown",
   "metadata": {},
   "source": [
    "$$\\begin{align*} \\min_{\\mathbf{x}} \\quad & \\sum_{i=\\{0,...,4\\}} x_i^2\\\\\n",
    "\\mathrm{s.t.} \\quad & x_0 + x_1 - x_3 \\geq 10 \\\\\n",
    "& x_0 \\times x_3 + x_1 \\geq 0 \\\\\n",
    "& x_4 \\times x_3 + x_0 \\times x_3 + x_4 = 0\n",
    "\\end{align*} $$"
   ]
  },
  {
   "cell_type": "markdown",
   "metadata": {},
   "source": [
    "This problem is feasible, well-initialized, and standard constraint qualifications hold. As expected, we have no trouble solving this problem."
   ]
  },
  {
   "cell_type": "markdown",
   "metadata": {},
   "source": [
    "### Define the model in Pyomo"
   ]
  },
  {
   "cell_type": "markdown",
   "metadata": {},
   "source": [
    "We start by defining the optimization problem in Pyomo."
   ]
  },
  {
   "cell_type": "code",
   "execution_count": 2,
   "metadata": {},
   "outputs": [],
   "source": [
    "m = pyo.ConcreteModel()\n",
    "\n",
    "m.I = pyo.Set(initialize=[i for i in range(5)])\n",
    "\n",
    "m.x = pyo.Var(m.I, bounds=(-10, 10), initialize=1.0)\n",
    "\n",
    "m.con1 = pyo.Constraint(expr=m.x[0] + m.x[1] - m.x[3] >= 10)\n",
    "m.con2 = pyo.Constraint(expr=m.x[0] * m.x[3] + m.x[1] >= 0)\n",
    "m.con3 = pyo.Constraint(expr=m.x[4] * m.x[3] + m.x[0] * m.x[3] - m.x[4] == 0)\n",
    "\n",
    "m.obj = pyo.Objective(expr=sum(m.x[i] ** 2 for i in m.I))\n",
    "\n",
    "m.pprint()"
   ]
  },
  {
   "cell_type": "markdown",
   "metadata": {},
   "source": [
    "### Evaluate the initial point"
   ]
  },
  {
   "cell_type": "markdown",
   "metadata": {},
   "source": [
    "Initialization is extremely important for nonlinear optimization problems. By setting the Ipopt option `max_iter` to zero, we can inspect the initial point."
   ]
  },
  {
   "cell_type": "code",
   "execution_count": 3,
   "metadata": {},
   "outputs": [],
   "source": [
    "# Specify Ipopt as the solver\n",
    "opt = pyo.SolverFactory(\"ipopt\")\n",
    "\n",
    "# Specifying an iteration limit of 0 allows us to inspect the initial point\n",
    "opt.options[\"max_iter\"] = 0\n",
    "\n",
    "# \"Solving\" the model with an iteration limit of 0 load the initial point and applies\n",
    "# any preprocessors (e.g., enforces bounds)\n",
    "opt.solve(m, tee=True)\n",
    "\n",
    "# Create Degeneracy Hunter object\n",
    "# The Degeneracy Hunter algorithm needs a MILP solver\n",
    "# Here we specify CBC, an open source solver\n",
    "dh = DegeneracyHunter(m, solver=pyo.SolverFactory(\"cbc\"))"
   ]
  },
  {
   "cell_type": "markdown",
   "metadata": {},
   "source": [
    "We expect the exit status `Maximum Number of Iterations Exceeded` because we told Ipopt to take zero iterations (only evaluate the initial point)."
   ]
  },
  {
   "cell_type": "markdown",
   "metadata": {},
   "source": [
    "### Identify the constraint residuals larger than 0.1"
   ]
  },
  {
   "cell_type": "markdown",
   "metadata": {},
   "source": [
    "When developing nonlinear optimization models, one often wants to know: \"what constraints are violated at the initial point (or more generally the point the solver terminated) within a given tolerance?\" Degeneracy Hunter makes this very easy by provided a simple interface to several IDAES utility functions.\n",
    "\n",
    "The following line of code will print out all constraints with residuals larger than `0.1`:"
   ]
  },
  {
   "cell_type": "code",
   "execution_count": 4,
   "metadata": {},
   "outputs": [],
   "source": [
    "dh.check_residuals(tol=0.1)"
   ]
  },
  {
   "cell_type": "markdown",
   "metadata": {},
   "source": [
    "Important: Ipopt does several preprocessing steps when we executed it with zero iterations. When checking the initial point, it is strongly recommended to call Ipopt with zero iterations first. Otherwise, you will not be analyzing the initial point Ipopt starts with."
   ]
  },
  {
   "cell_type": "markdown",
   "metadata": {},
   "source": [
    "### Identify all variables within 1 of their bounds"
   ]
  },
  {
   "cell_type": "markdown",
   "metadata": {},
   "source": [
    "Another common question when developing optimization models is, \"Which variables are within their bounds by a given tolerance?\" Below is the syntax:"
   ]
  },
  {
   "cell_type": "code",
   "execution_count": 5,
   "metadata": {},
   "outputs": [],
   "source": [
    "dh.check_variable_bounds(tol=1.0)"
   ]
  },
  {
   "cell_type": "markdown",
   "metadata": {},
   "source": [
    "### Solve the optimization problem"
   ]
  },
  {
   "cell_type": "markdown",
   "metadata": {},
   "source": [
    "Now we can solve the optimization problem. We first set the number of iterations to 50 and then resolve with Ipopt."
   ]
  },
  {
   "cell_type": "code",
   "execution_count": 6,
   "metadata": {},
   "outputs": [],
   "source": [
    "opt.options[\"max_iter\"] = 50\n",
    "opt.solve(m, tee=True)"
   ]
  },
  {
   "cell_type": "markdown",
   "metadata": {},
   "source": [
    "As expected, Ipopt has no trouble solving this optimization problem."
   ]
  },
  {
   "cell_type": "markdown",
   "metadata": {},
   "source": [
    "### Check if any constraint residuals are large than 1E-14"
   ]
  },
  {
   "cell_type": "markdown",
   "metadata": {},
   "source": [
    "Let's now inspect the new solution to see which (if any) constraints have residuals larger than 10$^{-14}$."
   ]
  },
  {
   "cell_type": "code",
   "execution_count": 7,
   "metadata": {},
   "outputs": [],
   "source": [
    "dh.check_residuals(tol=1e-14)"
   ]
  },
  {
   "cell_type": "markdown",
   "metadata": {},
   "source": [
    "As expected, all of the constraints are satisfied, even with this fairly tight tolerance."
   ]
  },
  {
   "cell_type": "markdown",
   "metadata": {},
   "source": [
    "### Identify all variables within 1E-5 of their bounds"
   ]
  },
  {
   "cell_type": "markdown",
   "metadata": {},
   "source": [
    "Finally, let's check if any of the variables are near their bounds at the new solution."
   ]
  },
  {
   "cell_type": "code",
   "execution_count": 8,
   "metadata": {},
   "outputs": [],
   "source": [
    "dh.check_variable_bounds(tol=1e-5)"
   ]
  },
  {
   "cell_type": "markdown",
   "metadata": {},
   "source": [
    "Great, no variables are near their bounds. If a variable was at its bound, it is important the inspect the model and confirm the bound is physically sensible/what you intended."
   ]
  },
  {
   "cell_type": "markdown",
   "metadata": {},
   "source": [
    "### Check the rank of the constraint Jacobian at the solution"
   ]
  },
  {
   "cell_type": "markdown",
   "metadata": {},
   "source": [
    "The main feature of Degeneracy Hunter is to check if an optimization problem is poorly formulated. Let's see what happens when we check the rank on a carefully formulated optimization problem:"
   ]
  },
  {
   "cell_type": "code",
   "execution_count": 9,
   "metadata": {},
   "outputs": [],
   "source": [
    "dh.check_rank_equality_constraints()"
   ]
  },
  {
   "cell_type": "markdown",
   "metadata": {},
   "source": [
    "## Example 2: Linear Program with Redundant Equality Constraints"
   ]
  },
  {
   "cell_type": "markdown",
   "metadata": {},
   "source": [
    "Now let's apply Degeneracy Hunter to a poorly formulated optimization problem:\n",
    "\n",
    "$$\\begin{align*} \\min_{\\mathbf{x}} \\quad & \\sum_{i=\\{1,...,3\\}} x_i \\\\\n",
    "\\mathrm{s.t.}~~& x_1 + x_2 \\geq 1 \\\\\n",
    "& x_1 + x_2 + x_3 = 1 \\\\\n",
    "& x_2 - 2 x_3 \\leq 1 \\\\\n",
    "& x_1 + x_3 \\geq 1 \\\\\n",
    "& x_1 + x_2 + x_3 = 1 \\\\\n",
    "\\end{align*} $$\n",
    "\n",
    "\n",
    "Notice the two equality constraints are redundant. This means the constraint qualifications (e.g., LICQ) do not hold which has three important implications:\n",
    "1. The optimal solution may not be mathematically well-defined (e.g., the dual variables are not unique)\n",
    "2. The calculations performed by the optimization solver may become numerically poorly scaled\n",
    "3. Theoretical convergence properties of optimization algorithms may not hold\n",
    "\n",
    "The absolute best defense against this is to detect degenerate equations and reformulate the model to remove them; this is the primary purpose of Degeneracy Hunter. Let's see it in action."
   ]
  },
  {
   "cell_type": "markdown",
   "metadata": {},
   "source": [
    "### Define the model in Pyomo"
   ]
  },
  {
   "cell_type": "code",
   "execution_count": 10,
   "metadata": {},
   "outputs": [],
   "source": [
    "def example2(with_degenerate_constraint=True):\n",
    "    \"\"\"Create the Pyomo model for Example 2\n",
    "\n",
    "    Arguments:\n",
    "        with_degenerate_constraint: Boolean, if True, include the redundant linear constraint\n",
    "\n",
    "    Returns:\n",
    "        m2: Pyomo model\n",
    "    \"\"\"\n",
    "\n",
    "    m2 = pyo.ConcreteModel()\n",
    "\n",
    "    m2.I = pyo.Set(initialize=[i for i in range(1, 4)])\n",
    "\n",
    "    m2.x = pyo.Var(m2.I, bounds=(0, 5), initialize=1.0)\n",
    "\n",
    "    m2.con1 = pyo.Constraint(expr=m2.x[1] + m2.x[2] >= 1)\n",
    "    m2.con2 = pyo.Constraint(expr=m2.x[1] + m2.x[2] + m2.x[3] == 1)\n",
    "    m2.con3 = pyo.Constraint(expr=m2.x[2] - 2 * m2.x[3] <= 1)\n",
    "    m2.con4 = pyo.Constraint(expr=m2.x[1] + m2.x[3] >= 1)\n",
    "\n",
    "    if with_degenerate_constraint:\n",
    "        m2.con5 = pyo.Constraint(expr=m2.x[1] + m2.x[2] + m2.x[3] == 1)\n",
    "\n",
    "    m2.obj = pyo.Objective(expr=sum(m2.x[i] for i in m2.I))\n",
    "\n",
    "    m2.pprint()\n",
    "\n",
    "    return m2\n",
    "\n",
    "\n",
    "# Create the Pyomo model for Example 2 including the redundant constraint\n",
    "m2 = example2()"
   ]
  },
  {
   "cell_type": "markdown",
   "metadata": {},
   "source": [
    "### Evaluate the initial point"
   ]
  },
  {
   "cell_type": "code",
   "execution_count": 11,
   "metadata": {},
   "outputs": [],
   "source": [
    "# Specifying an iteration limit of 0 allows us to inspect the initial point\n",
    "opt.options[\"max_iter\"] = 0\n",
    "\n",
    "# \"Solving\" the model with an iteration limit of 0 load the initial point and applies\n",
    "# any preprocessors (e.g., enforces bounds)\n",
    "opt.solve(m2, tee=True)\n",
    "\n",
    "# Create Degeneracy Hunter object\n",
    "# The Degeneracy Hunter algorithm needs a MILP solver\n",
    "# Here we specify CBC, an open source solver\n",
    "dh2 = DegeneracyHunter(m2, solver=pyo.SolverFactory(\"cbc\"))"
   ]
  },
  {
   "cell_type": "markdown",
   "metadata": {},
   "source": [
    "### Identify constraints with residuals greater than 0.1 at the initial point"
   ]
  },
  {
   "cell_type": "code",
   "execution_count": 12,
   "metadata": {},
   "outputs": [],
   "source": [
    "dh2.check_residuals(tol=0.1)"
   ]
  },
  {
   "cell_type": "markdown",
   "metadata": {},
   "source": [
    "### Solve the optimization problem and extract the solution"
   ]
  },
  {
   "cell_type": "markdown",
   "metadata": {},
   "source": [
    "Now let's solve the optimization problem."
   ]
  },
  {
   "cell_type": "code",
   "execution_count": 13,
   "metadata": {},
   "outputs": [],
   "source": [
    "opt.options[\"max_iter\"] = 50\n",
    "opt.solve(m2, tee=True)\n",
    "\n",
    "for i in m2.I:\n",
    "    print(\"x[\", i, \"]=\", m2.x[i]())"
   ]
  },
  {
   "cell_type": "markdown",
   "metadata": {},
   "source": [
    "We got lucky here. Ipopt implements several algorithmic and numerical safeguards to handle (mildy) degenerate equations. Nevertheless, notice the last column of the Ipopt output labeled `ls`. This is the number of linesearch evaluations. For iterations 0 to 11, `ls` is 1, which means Ipopt is taking full steps. For iterations 12 to 16, however, `ls` is greater than 20. This means Ipopt is struggling (a little) to converge to the solution."
   ]
  },
  {
   "cell_type": "markdown",
   "metadata": {},
   "source": [
    "### Check the rank of the Jacobian of the equality constraints"
   ]
  },
  {
   "cell_type": "code",
   "execution_count": 14,
   "metadata": {},
   "outputs": [],
   "source": [
    "n_deficient = dh2.check_rank_equality_constraints()"
   ]
  },
  {
   "cell_type": "markdown",
   "metadata": {},
   "source": [
    "A singular value near 0 indicates the Jacobian of the equality constraints is rank deficient. For each near-zero singular value, there is likely one degenerate constraint."
   ]
  },
  {
   "cell_type": "markdown",
   "metadata": {},
   "source": [
    "### Identify candidate degenerate constraints"
   ]
  },
  {
   "cell_type": "markdown",
   "metadata": {},
   "source": [
    "Degeneracy Hunter first identifies candidate degenerate equations."
   ]
  },
  {
   "cell_type": "code",
   "execution_count": 15,
   "metadata": {},
   "outputs": [],
   "source": [
    "ds2 = dh2.find_candidate_equations(verbose=True, tee=True)"
   ]
  },
  {
   "cell_type": "markdown",
   "metadata": {},
   "source": [
    "### Find irreducible degenerate sets (IDS)"
   ]
  },
  {
   "cell_type": "markdown",
   "metadata": {},
   "source": [
    "Next, Degeneracy Hunter enumerates through the candidate equations. For each candidate equation, Degenerate Hunter solves a MILP to compute the irreducible degenerate set that must contain the candidate equation."
   ]
  },
  {
   "cell_type": "code",
   "execution_count": 16,
   "metadata": {},
   "outputs": [],
   "source": [
    "ids = dh2.find_irreducible_degenerate_sets(verbose=True)"
   ]
  },
  {
   "cell_type": "markdown",
   "metadata": {},
   "source": [
    "### Reformulate Example 2"
   ]
  },
  {
   "cell_type": "markdown",
   "metadata": {},
   "source": [
    "Now let's reformulate the model by skipping/removing the redundant equality constraint:\n",
    "\n",
    "$$\\begin{align*} \\min_{\\mathbf{x}} \\quad & \\sum_{i=\\{1,...,3\\}} x_i \\\\\n",
    "\\mathrm{s.t.}~~& x_1 + x_2 \\geq 1 \\\\\n",
    "& x_1 + x_2 + x_3 = 1 \\\\\n",
    "& x_2 - 2 x_3 \\leq 1 \\\\\n",
    "& x_1 + x_3 \\geq 1\n",
    "\\end{align*} $$"
   ]
  },
  {
   "cell_type": "code",
   "execution_count": 17,
   "metadata": {},
   "outputs": [],
   "source": [
    "m2b = example2(with_degenerate_constraint=False)"
   ]
  },
  {
   "cell_type": "markdown",
   "metadata": {},
   "source": [
    "### Solve the reformulated model"
   ]
  },
  {
   "cell_type": "code",
   "execution_count": 18,
   "metadata": {},
   "outputs": [],
   "source": [
    "opt.options[\"max_iter\"] = 50\n",
    "opt.solve(m2b, tee=True)\n",
    "\n",
    "for i in m2b.I:\n",
    "    print(\"x[\", i, \"]=\", m.x[i]())"
   ]
  },
  {
   "cell_type": "markdown",
   "metadata": {},
   "source": [
    "We get the same answer as before, but careful inspection of the Ipopt output reveals a subtle improvement. Notice `ls` is only 1 or 2 for all of the iterations, in contrast to more than 20 for the original model. This means Ipopt is taking (nearly) full steps for all iterations.\n",
    "\n",
    "Let's also compare the number of function evaluations.\n",
    "\n",
    "Original model (using Ipopt 3.13.2 with `ma27`):\n",
    "```\n",
    "Number of objective function evaluations             = 111\n",
    "Number of objective gradient evaluations             = 17\n",
    "Number of equality constraint evaluations            = 111\n",
    "Number of inequality constraint evaluations          = 111\n",
    "Number of equality constraint Jacobian evaluations   = 17\n",
    "Number of inequality constraint Jacobian evaluations = 17\n",
    "Number of Lagrangian Hessian evaluations             = 16\n",
    "```\n",
    "\n",
    "Reformulated model (using Ipopt 3.13.2 with `ma27`):\n",
    "```\n",
    "Number of objective function evaluations             = 23\n",
    "Number of objective gradient evaluations             = 18\n",
    "Number of equality constraint evaluations            = 23\n",
    "Number of inequality constraint evaluations          = 23\n",
    "Number of equality constraint Jacobian evaluations   = 18\n",
    "Number of inequality constraint Jacobian evaluations = 18\n",
    "Number of Lagrangian Hessian evaluations             = 17\n",
    "```\n",
    "\n",
    "Removing a **single redundant constraint** reduced the number of objective and constraint evaluations by a **factor of 5**!\n",
    "\n",
    "Often degenerate equations have a much worse impact on large-scale problems; for example, degenerate equations can cause Ipopt to require many more iterations or terminate at an infeasible point.\n"
   ]
  },
  {
   "cell_type": "code",
   "execution_count": null,
   "metadata": {},
   "outputs": [],
   "source": []
  }
 ],
 "metadata": {
  "kernelspec": {
   "display_name": "Python 3 (ipykernel)",
   "language": "python",
   "name": "python3"
  },
  "language_info": {
   "codemirror_mode": {
    "name": "ipython",
    "version": 3
   },
   "file_extension": ".py",
   "mimetype": "text/x-python",
   "name": "python",
   "nbconvert_exporter": "python",
   "pygments_lexer": "ipython3",
   "version": "3.9.6"
  }
 },
 "nbformat": 4,
 "nbformat_minor": 4
}
