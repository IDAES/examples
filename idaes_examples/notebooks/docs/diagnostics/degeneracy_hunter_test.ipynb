{
  "cells": [
    {
      "cell_type": "code",
      "execution_count": 1,
      "metadata": {
        "tags": [
          "header",
          "hide-cell"
        ]
      },
      "outputs": [],
      "source": [
        "###############################################################################\n",
        "# The Institute for the Design of Advanced Energy Systems Integrated Platform\n",
        "# Framework (IDAES IP) was produced under the DOE Institute for the\n",
        "# Design of Advanced Energy Systems (IDAES).\n",
        "#\n",
        "# Copyright (c) 2018-2025 by the software owners: The Regents of the\n",
        "# University of California, through Lawrence Berkeley National Laboratory,\n",
        "# National Technology & Engineering Solutions of Sandia, LLC, Carnegie Mellon\n",
        "# University, West Virginia University Research Corporation, et al.\n",
        "# All rights reserved.  Please see the files COPYRIGHT.md and LICENSE.md\n",
        "# for full copyright and license information.\n",
        "#\n",
        "###############################################################################"
      ]
    },
    {
      "cell_type": "markdown",
      "metadata": {},
      "source": [
        "# Degeneracy Hunter Examples\n",
        "Author: Prof. Alex Dowling (adowling@nd.edu), University of Notre Dame  \n",
        "Maintainer: Andrew Lee  \n",
        "Updated: 2023-06-01  \n",
        "\n",
        "> Alexander W. Dowling and Lorenz T. Biegler (2015). Degeneracy Hunter: An Algorithm for Determining Irreducible Sets of Degenerate Constraints in Mathematical Programs. 12th International Symposium on Process Systems Engineering and 25th European Symposium on Computer Aided Process Engineering. Ed. by Krist V. Gernaey, Jakob K. Huusom, and Raqul Gani. Computer-Aided Chemical Engineering, Vol. 37, p. 809 \u2013 814. [link to PDF](https://dowlinglab.nd.edu/assets/447116/2015_degeneracy_hunter_an_algorithm_for_determining_irreducible_sets_of_degenerate_constraints_in_mathematical_prog.pdf)\n",
        "\n",
        "This notebook shows how to use the Degeneracy Hunter tool which is part of the IDAES Diagnostics Toolbox features using two motivating examples:\n",
        "\n",
        "* Inspect constraint violations and bounds of a Pyomo model\n",
        "* Compute the Irreducible Degenerate Set (IDS) for a Pyomo model\n",
        "* Demonstrates the performance benefits in Ipopt from removing a single redundant constraint\n",
        "\n",
        "<div class=\"alert alert-block alert-warning\">\n",
        "<b>Note:</b>\n",
        "Degeneracy Hunter requires a suitable MILP solver. This example uses the open-source solver SCIP (https://scipopt.org/), however users may specify another solver of their choice if they have one available.\n",
        "</div>\n",
        "\n",
        "## What does Degeneracy Mean?\n",
        "\n",
        "In simple terms, a degenerate model contains one or more constraints that do not add any additional information that is not already included in other constraints in the model. The simplest example of this is the case where a constraint in the model is duplicated. For example, consider the model below:\n",
        "\n",
        "$$\\begin{align*}\n",
        "& x_1 + x_2 = 1 \\\\\n",
        "& x_1 + x_2 = 1 \\\\\n",
        "\\end{align*} $$\n",
        "\n",
        "Notice the two equality constraints are identical and thus redundant. This means the constraint qualifications that solvers rely on (e.g., [Linear Independence Constraint Qualification or LICQ](https://en.wikipedia.org/wiki/Karush%E2%80%93Kuhn%E2%80%93Tucker_conditions#Regularity_conditions_(or_constraint_qualifications))) do not hold which has three important implications:\n",
        "\n",
        "1. The optimal solution may not be mathematically well-defined (e.g., the dual variables are not unique)\n",
        "2. The calculations performed by the optimization solver may become numerically poorly scaled\n",
        "3. Theoretical convergence properties of optimization algorithms may not hold\n",
        "\n",
        "Put another way, for a deterministic (square) problem we required that the number of equality constraints be equal to the number of free variables. In this case, there appear to be two equality constraints but in reality there is effectively only one as the two constraints are the same. Thus, the problem is not well defined and there exist a family of solutions that can satisfy the constraints given; any combination of values for ``x1`` and ``x2`` that sum to one will satisfy the constraints as written.\n",
        "\n",
        "In practice, degeneracies are rarely as straight-forward as a duplicated constraint. A more common occurrence is a set of linearly dependent constraints; that is a system of constraints where one constraint in the set can be formed by a linear combination of other constraints in the set. For example:\n",
        "\n",
        "$$\\begin{align*}\n",
        "& x_1 + x_2 + x_3 = 1 \\\\\n",
        "& 2x_1 + 2x_2 + 2x_3 = 2 \\\\\n",
        "\\end{align*} $$\n",
        "\n",
        "Here, the second constraint can be formed by multiplying the first constraint by two. Another common example of linearly dependent constraints is the combination of a set of material balances for all components in a system and an overall material balance. In this case, the overall material balances can be formed by adding all the individual component balances together. Depending on the number of components being modeled, this system of constraints can be quite large, but the end result is the same; the model effectively has one less constraint than it would appear to have.\n",
        "\n",
        "The absolute best defense against this is to detect degenerate equations and reformulate the model to remove them; this is the purpose of Degeneracy Hunter. Let's see it in action."
      ]
    },
    {
      "cell_type": "markdown",
      "metadata": {},
      "source": [
        "##  Setup\n",
        "\n",
        "We start by importing Pyomo and the IDAES Diagnostics Toolbox."
      ]
    },
    {
      "cell_type": "code",
      "execution_count": 2,
      "metadata": {},
      "outputs": [],
      "source": [
        "import pyomo.environ as pyo\n",
        "\n",
        "from idaes.core.util.model_diagnostics import DiagnosticsToolbox"
      ]
    },
    {
      "cell_type": "code",
      "execution_count": 3,
      "metadata": {
        "tags": [
          "testing"
        ]
      },
      "outputs": [],
      "source": [
        "from idaes.core.util.testing import _enable_scip_solver_for_testing\n",
        "\n",
        "scip_solver = pyo.SolverFactory(\"scip\")\n",
        "if not scip_solver.available():\n",
        "    _enable_scip_solver_for_testing()\n",
        "assert scip_solver.available()"
      ]
    },
    {
      "cell_type": "markdown",
      "metadata": {},
      "source": [
        "## Example: Linear Program with Redundant Equality Constraints"
      ]
    },
    {
      "cell_type": "markdown",
      "metadata": {},
      "source": [
        "Let's apply these tools to a poorly formulated optimization problem:\n",
        "\n",
        "$$\\begin{align*} \\min_{\\mathbf{x}} \\quad & \\sum_{i=\\{1,...,3\\}} x_i \\\\\n",
        "\\mathrm{s.t.}~~& x_1 + x_2 \\geq 1 \\\\\n",
        "& x_1 + x_2 + x_3 = 1 \\\\\n",
        "& x_2 - 2 x_3 \\leq 1 \\\\\n",
        "& x_1 + x_3 \\geq 1 \\\\\n",
        "& x_1 + x_2 + x_3 = 1 \\\\\n",
        "\\end{align*} $$\n",
        "\n",
        "As you can see, this is similar to our example above with duplicated equality constraints.\n",
        "\n",
        "The cell below shows how to construct this model in Pyomo."
      ]
    },
    {
      "cell_type": "code",
      "execution_count": 4,
      "metadata": {},
      "outputs": [],
      "source": [
        "def build_example(include_redundant_constraint=True):\n",
        "    m = pyo.ConcreteModel()\n",
        "\n",
        "    m.I = pyo.Set(initialize=[i for i in range(1, 4)])\n",
        "\n",
        "    m.x = pyo.Var(m.I, bounds=(0, 5), initialize=1.0)\n",
        "\n",
        "    m.con1 = pyo.Constraint(expr=m.x[1] + m.x[2] >= 1)\n",
        "    m.con2 = pyo.Constraint(expr=m.x[1] + m.x[2] + m.x[3] == 1)\n",
        "    m.con3 = pyo.Constraint(expr=m.x[2] - 2 * m.x[3] <= 1)\n",
        "    m.con4 = pyo.Constraint(expr=m.x[1] + m.x[3] >= 1)\n",
        "\n",
        "    if include_redundant_constraint:\n",
        "        m.con5 = pyo.Constraint(expr=m.x[1] + m.x[2] + m.x[3] == 1)\n",
        "\n",
        "    m.obj = pyo.Objective(expr=sum(m.x[i] for i in m.I))\n",
        "\n",
        "    return m\n",
        "\n",
        "\n",
        "m = build_example()"
      ]
    },
    {
      "cell_type": "markdown",
      "metadata": {},
      "source": [
        "### Check for Structural Issues\n",
        "\n",
        "Before we try to solve the model, the first thing we should do is use the Diagnostics Toolbox to check for any structural issues in our model. The cell below creates an instance of the Diagnostics Toolbox and calls the ``report_structural_issues`` method."
      ]
    },
    {
      "cell_type": "code",
      "execution_count": 5,
      "metadata": {},
      "outputs": [],
      "source": [
        "dt = DiagnosticsToolbox(m)\n",
        "dt.report_structural_issues()"
      ]
    },
    {
      "cell_type": "markdown",
      "metadata": {},
      "source": [
        "As you can see, the toolbox is reporting one degree of freedom and a structural singularity. In this case, these are both expected as we are trying to solve an optimization problem with one degree of freedom so we can move on to the next step. \n",
        "\n",
        "### Evaluate the initial point\n",
        "\n",
        "Before we try to solve our degenerate model, it can often be useful to check the state of the model at the initial step seen by the solver. The cell below creates an instance of Ipopt and sets the iteration limit to 0 so that it terminates at the initial condition."
      ]
    },
    {
      "cell_type": "code",
      "execution_count": 6,
      "metadata": {},
      "outputs": [],
      "source": [
        "solver = pyo.SolverFactory(\"ipopt\")\n",
        "\n",
        "# Specifying an iteration limit of 0 allows us to inspect the initial point\n",
        "solver.options[\"max_iter\"] = 0\n",
        "\n",
        "# \"Solving\" the model with an iteration limit of 0 load the initial point and applies\n",
        "# any preprocessors (e.g., enforces bounds)\n",
        "solver.solve(m, tee=True)"
      ]
    },
    {
      "cell_type": "markdown",
      "metadata": {},
      "source": [
        "### Identify constraints with large residuals at the initial point\n",
        "\n",
        "With the solution at the initial point, we can then use the Diagnostics Toolbox to check the residuals of all constraints at the initial point."
      ]
    },
    {
      "cell_type": "code",
      "execution_count": 7,
      "metadata": {},
      "outputs": [],
      "source": [
        "# Check for large residuals\n",
        "dt.display_constraints_with_large_residuals()"
      ]
    },
    {
      "cell_type": "markdown",
      "metadata": {},
      "source": [
        "We can also check for variables which are close to (or outside of) their bounds."
      ]
    },
    {
      "cell_type": "code",
      "execution_count": 8,
      "metadata": {},
      "outputs": [],
      "source": [
        "dt.display_variables_near_bounds()"
      ]
    },
    {
      "cell_type": "markdown",
      "metadata": {},
      "source": [
        "### Solve the optimization problem and extract the solution\n",
        "\n",
        "There appear to be no significant issues at the initial point, so let us move on to solving the optimization problem."
      ]
    },
    {
      "cell_type": "code",
      "execution_count": 9,
      "metadata": {},
      "outputs": [],
      "source": [
        "solver.options[\"max_iter\"] = 50\n",
        "solver.solve(m, tee=True)"
      ]
    },
    {
      "cell_type": "markdown",
      "metadata": {},
      "source": [
        "We got lucky here. Ipopt implements several algorithmic and numerical safeguards to handle (mildy) degenerate equations. Nevertheless, notice the last column of the Ipopt output labeled `ls`. This is the number of line search evaluations. For iterations 0 to 11, `ls` is 1, which means Ipopt is taking full steps. For iterations 12 to 16, however, `ls` is greater than 20. This means Ipopt is struggling (a little) to converge to the solution.\n",
        "\n",
        "The cell below shows the values of the variables at the solution."
      ]
    },
    {
      "cell_type": "code",
      "execution_count": 10,
      "metadata": {},
      "outputs": [],
      "source": [
        "m.x.display()"
      ]
    },
    {
      "cell_type": "markdown",
      "metadata": {},
      "source": [
        "### Check the rank of the Jacobian of the equality constraints\n",
        "\n",
        "One way to check for the presence of degenerate equations is to calculate the rank of the Jacobian matrix of the equality constraints. A singular value near 0 indicates the Jacobian is rank deficient, and for each near-zero singular value there is likely one degenerate constraint.\n",
        "\n",
        "The Diagnostics Toolbox contains a Singular Value Decomposition (SVD) toolbox which can be used to determine the number of small singular values in the Jacobian for a model as shown below."
      ]
    },
    {
      "cell_type": "code",
      "execution_count": 11,
      "metadata": {},
      "outputs": [],
      "source": [
        "svd = dt.prepare_svd_toolbox()\n",
        "svd.display_rank_of_equality_constraints()"
      ]
    },
    {
      "cell_type": "markdown",
      "metadata": {},
      "source": [
        "As can be seen above, there is one singular value less than 1e-6, suggesting we have one degenerate constraint."
      ]
    },
    {
      "cell_type": "markdown",
      "metadata": {},
      "source": [
        "### Finding Irreducible Degenerate Sets (IDS)\n",
        "\n",
        "Next, we can use Degeneracy Hunter to identify irreducible degenerate sets; that is, the smallest set of constraints that contain a redundant constraint.\n",
        "\n",
        "Degeneracy Hunter first identifies candidate degenerate equations by solving a mixed integer linear program (MILP). It then iterates through the candidate equations and solves a second MILP for each to compute the irreducible degenerate set that must contain the candidate equation.\n",
        "\n",
        "<div class=\"alert alert-block alert-warning\">\n",
        "<b>Note:</b>\n",
        "Degeneracy Hunter requires a suitable MILP solver, users can specify their solver of choice via a configuration argument. The default option is SCIP (https://scipopt.org/) which is an open-source solver.\n",
        "</div>\n",
        "\n",
        "The cell below shows how to create an instance of Degeneracy Hunter and generate a report of the irreducible degenerate sets."
      ]
    },
    {
      "cell_type": "code",
      "execution_count": 12,
      "metadata": {},
      "outputs": [],
      "source": [
        "dh = dt.prepare_degeneracy_hunter()\n",
        "dh.report_irreducible_degenerate_sets()"
      ]
    },
    {
      "cell_type": "markdown",
      "metadata": {},
      "source": [
        "As can be seen above, Degeneracy Hunter identified two constraints as potentially redundant (the duplicate constraints ``con2`` and ``con5``). Degeneracy Hunter then reports an Irreducible Degenerate Set for each of these constraints, which in the case as identical. More complex models may have partially overlapping IDS's.\n",
        "\n",
        "These results show us that ``con2`` and ``con5`` are mutually redundant; i.e., we can eliminate one of these with no effect on the model solution."
      ]
    },
    {
      "cell_type": "markdown",
      "metadata": {},
      "source": [
        "### Reformulate Model to Remove Redundant Constraint\n",
        "\n",
        "Now let's reformulate the model by removing the redundant equality constraint ``con5`` and solve the reformulated model."
      ]
    },
    {
      "cell_type": "code",
      "execution_count": 13,
      "metadata": {},
      "outputs": [],
      "source": [
        "m2 = build_example(include_redundant_constraint=False)\n",
        "\n",
        "solver.solve(m2, tee=True)"
      ]
    },
    {
      "cell_type": "markdown",
      "metadata": {},
      "source": [
        "First, let us check to see if the optimal solution has changed."
      ]
    },
    {
      "cell_type": "code",
      "execution_count": 14,
      "metadata": {},
      "outputs": [],
      "source": [
        "m2.x.display()"
      ]
    },
    {
      "cell_type": "markdown",
      "metadata": {},
      "source": [
        "We get the same answer as before, but careful inspection of the Ipopt output reveals a subtle improvement. Notice `ls` is only 1 or 2 for all of the iterations, in contrast to more than 20 for the original model. This means Ipopt is taking (nearly) full steps for all iterations.\n",
        "\n",
        "Let's also compare the number of function evaluations.\n",
        "\n",
        "Original model (using Ipopt 3.13.2 with `ma27`):\n",
        "```\n",
        "Number of objective function evaluations             = 111\n",
        "Number of objective gradient evaluations             = 17\n",
        "Number of equality constraint evaluations            = 111\n",
        "Number of inequality constraint evaluations          = 111\n",
        "Number of equality constraint Jacobian evaluations   = 17\n",
        "Number of inequality constraint Jacobian evaluations = 17\n",
        "Number of Lagrangian Hessian evaluations             = 16\n",
        "```\n",
        "\n",
        "Reformulated model (using Ipopt 3.13.2 with `ma27`):\n",
        "```\n",
        "Number of objective function evaluations             = 23\n",
        "Number of objective gradient evaluations             = 18\n",
        "Number of equality constraint evaluations            = 23\n",
        "Number of inequality constraint evaluations          = 23\n",
        "Number of equality constraint Jacobian evaluations   = 18\n",
        "Number of inequality constraint Jacobian evaluations = 18\n",
        "Number of Lagrangian Hessian evaluations             = 17\n",
        "```\n",
        "\n",
        "Removing a **single redundant constraint** reduced the number of objective and constraint evaluations by a **factor of 5**!\n",
        "\n",
        "Often degenerate equations have a much worse impact on large-scale problems; for example, degenerate equations can cause Ipopt to require many more iterations or terminate at an infeasible point.\n"
      ]
    },
    {
      "cell_type": "code",
      "execution_count": 15,
      "metadata": {
        "tags": [
          "testing"
        ]
      },
      "outputs": [],
      "source": [
        "import pytest\n",
        "\n",
        "assert pyo.value(m2.x[1]) == pytest.approx(1, rel=1e-6)\n",
        "assert pyo.value(m2.x[2]) == pytest.approx(0, abs=1e-6)\n",
        "assert pyo.value(m2.x[3]) == pytest.approx(0, abs=1e-6)"
      ]
    }
  ],
  "metadata": {
    "celltoolbar": "Tags",
    "kernelspec": {
      "display_name": "Python 3 (ipykernel)",
      "language": "python",
      "name": "python3"
    },
    "language_info": {
      "codemirror_mode": {
        "name": "ipython",
        "version": 3
      },
      "file_extension": ".py",
      "mimetype": "text/x-python",
      "name": "python",
      "nbconvert_exporter": "python",
      "pygments_lexer": "ipython3",
      "version": "3.11.5"
    }
  },
  "nbformat": 4,
  "nbformat_minor": 3
}