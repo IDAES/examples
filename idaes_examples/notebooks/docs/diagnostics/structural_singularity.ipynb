{
 "cells": [
  {
   "cell_type": "markdown",
   "id": "86cdef66",
   "metadata": {},
   "source": [
    "Debugging a structural singularity\n",
    "===========================\n",
    "\n",
    "In this tutorial, we will use the [IDAES Diagnostics Toolbox](https://idaes-pse.readthedocs.io/en/2.4.0/explanations/model_diagnostics/index.html#diagnostics-toolbox)\n",
    "to diagnose and fix a structural singularity that is preventing us from solving an optimization problem."
   ]
  },
  {
   "cell_type": "markdown",
   "id": "f456b3f7",
   "metadata": {},
   "source": [
    "## Construct our model\n",
    "\n",
    "Suppose a collaborator has given us a model to work with. They give us a square model and tell us what the degrees of freedom are. We construct an optimization problem and try to solve it. In this tutorial, we don't want to worry too much about the details that go into constructing the model. This has been provided in the `model.py` file.\n",
    "\n",
    "### Model details (OKAY TO SKIP)\n",
    "\n",
    "The model we are trying to optimize is a dynamic model of a moving bed chemical looping combustion reactor. The model has been described by [Okoli et al.][1] and [Parker and Biegler][2]. This is a gas-solid reactor with counter-current flow. The degrees of freedom are gas and solid inlet flow rates, and we are trying to minimize the deviation from a desired operating point via a least-squares objective function.\n",
    "\n",
    "[1]: https://www.sciencedirect.com/science/article/pii/S0032591019302803\n",
    "[2]: https://www.sciencedirect.com/science/article/pii/S2405896322008825\n",
    "\n",
    "Again, we don't want to worry too much about the model. The `make_model` function will construct the optimization problem that we want to solve, and whenever we do something model-specific, we will explicitly make note of it."
   ]
  },
  {
   "cell_type": "markdown",
   "id": "c276aa4a",
   "metadata": {},
   "source": [
    "Trying to solve the original model\n",
    "---------------------------------------\n",
    "\n",
    "With that out of the way, let's construct the model and try to solve it!"
   ]
  },
  {
   "cell_type": "code",
   "execution_count": null,
   "id": "201f63f2",
   "metadata": {},
   "outputs": [],
   "source": [
    "from workspace.diagnostics.struct_example.model import make_model\n",
    "\n",
    "# This constructs a dynamic model with degrees of freedom and an objective function.\n",
    "model = make_model()"
   ]
  },
  {
   "cell_type": "markdown",
   "id": "2cac2868",
   "metadata": {},
   "source": [
    "Before trying to solve the model, let's make sure it conforms to our expectiations, i.e. it (a) has degrees of freedom and (b) is well-initialized to a feasible point."
   ]
  },
  {
   "cell_type": "code",
   "execution_count": null,
   "id": "8133d68f",
   "metadata": {},
   "outputs": [],
   "source": [
    "# Import some useful utilities from the model_statistics module.\n",
    "# Degrees of freedom and constraint residuals are always good things to check before\n",
    "# trying to solve a simulation or optimization problem.\n",
    "from idaes.core.util.model_statistics import degrees_of_freedom, large_residuals_set\n",
    "\n",
    "dof = degrees_of_freedom(model)\n",
    "print(f\"Degrees of freeom: {dof}\")\n",
    "has_large_residuals = bool(large_residuals_set(model, tol=1e-5))\n",
    "print(f\"Has large residuals? {has_large_residuals}\")"
   ]
  },
  {
   "cell_type": "markdown",
   "id": "86e1a118",
   "metadata": {},
   "source": [
    "Looks good so far. Let's try to solve."
   ]
  },
  {
   "cell_type": "code",
   "execution_count": null,
   "id": "7b8ddf55",
   "metadata": {},
   "outputs": [],
   "source": [
    "# Import pyomo.environ for access to solvers\n",
    "import pyomo.environ as pyo\n",
    "\n",
    "solver = pyo.SolverFactory(\"ipopt\")\n",
    "solver.options[\"max_iter\"] = 20\n",
    "solver.options[\"print_user_options\"] = \"yes\"\n",
    "with open(\"ipopt.opt\", \"w\") as f:\n",
    "    # This option is only available through an Ipopt options file...\n",
    "    f.write(\"print_info_string yes\\n\")\n",
    "solver.solve(model, tee=True)"
   ]
  },
  {
   "cell_type": "markdown",
   "id": "d3513d46",
   "metadata": {},
   "source": [
    "Ipopt fails to solve the optimization problem... You can try increasing the iteration limit, but it is very unlikely that this model will ever solve. A telltale sign that something is wrong with our model is the persistence of regularization coefficients, that is, numbers in the `lg(rg)` column. These coefficients can have multiple causes. One is that the Hessian of the Lagrangian (after barrier correction) is not positive definite. Another is that the equality constraint Jacobian is not full row rank. We have set the `print_info_string` option in Ipopt to display \"diagnostic tags\" to help interpret these regularization coefficients. The \"L\" diagnostic tag, which appears repeatedly, indicates that the Jacobian is row rank-deficient. For more information on Ipopt diagnostic tags, see the Ipopt [documentation](https://coin-or.github.io/Ipopt/OUTPUT.html)."
   ]
  },
  {
   "cell_type": "markdown",
   "id": "b01c2de5",
   "metadata": {},
   "source": [
    "# Debugging the original model\n",
    "\n",
    "Let's run the diagnostics toolbox on the model and see what it has to say.\n",
    "\n",
    "For good practice, we'll first make sure the model we're debugging is square. Remember that we're assuming we already know how to toggle degrees of freedom in our model."
   ]
  },
  {
   "cell_type": "code",
   "execution_count": null,
   "id": "107471c0",
   "metadata": {},
   "outputs": [],
   "source": [
    "# Fix gas and solid flow rates at their respective inlets\n",
    "model.fs.MB.gas_phase.properties[:, 0].flow_mol.fix()\n",
    "model.fs.MB.solid_phase.properties[:, 1].flow_mass.fix()\n",
    "# Part of our optimization problem was a set of constraints to enforce piecewise\n",
    "# constant control inputs. We need to deactivate these as well.\n",
    "model.piecewise_constant_constraints.deactivate()"
   ]
  },
  {
   "cell_type": "markdown",
   "id": "36f82a0a",
   "metadata": {},
   "source": [
    "Now we can run the diagnostics toolbox."
   ]
  },
  {
   "cell_type": "code",
   "execution_count": null,
   "id": "e7667a9f",
   "metadata": {},
   "outputs": [],
   "source": [
    "from idaes.core.util.model_diagnostics import DiagnosticsToolbox\n",
    "\n",
    "dt = DiagnosticsToolbox(model)\n",
    "dt.report_structural_issues()"
   ]
  },
  {
   "cell_type": "markdown",
   "id": "3b4530cf",
   "metadata": {},
   "source": [
    "Let's look at the warnings we got:\n",
    "- Inconsistent units\n",
    "- Structural singularity\n",
    "- Potential evaluation errors\n",
    "\n",
    "We'll ignore the inconsistent units. The property package and unit model here were extracted from IDAES 1.7, before we rigorously enforced that all models use units. Potential evaluation errors may be worth looking into, but looking at the solver log above, we don't notice many evaluation errors. The structural singularity looks like the most promising avenue to debug, especially as the Ipopt log displays persistent regularization coefficients.\n",
    "\n",
    "Let's follow the toolbox's advice and display the under and over-constrained sets."
   ]
  },
  {
   "cell_type": "code",
   "execution_count": null,
   "id": "9976bc61",
   "metadata": {},
   "outputs": [],
   "source": [
    "dt.display_underconstrained_set()\n",
    "dt.display_overconstrained_set()"
   ]
  },
  {
   "cell_type": "markdown",
   "id": "eb67e99c",
   "metadata": {},
   "source": [
    "## Over and under-constrained subsystems\n",
    "\n",
    "Structural singularities are characterized by the [Dulmage-Mendelson decomposition][3], which partitions a system into minimal over and under-constrained subsystems. These subsystems contain the potentially unmatched constraints and variables, respectively. Here, \"unmatched\" effectively means \"causing a singularity\". [Pothen and Fan][4] give a good overview of the Dulmage-Mendelsohn decomposition and [Parker et al.][5] give several examples.\n",
    "\n",
    "[3]: https://www.cambridge.org/core/journals/canadian-journal-of-mathematics/article/coverings-of-bipartite-graphs/413735C5888AB542B92D0C4F402800B1\n",
    "[4]: https://dl.acm.org/doi/10.1145/98267.98287\n",
    "[5]: https://www.sciencedirect.com/science/article/pii/S0098135423002533\n",
    "\n",
    "The most straightforward way to fix a structural singularity is to fix variables that are in the under-constrained system and deactivate constraints in the over-constrained subsystem. However, this may not be applicable for every model. For example, we may need to add variables and constraints instead. What over and under-constrained subsystems are telling us is that something is wrong with our modeling assumptions. The particular fix that is appropriate will depend heavily on the model.\n",
    "\n",
    "If the above output gives us any clues, we can go ahead an start trying to fix things. However, suppose it doesn't. A good strategy is to try to break down the model into smaller, square subsystems that we think should be nonsingular. For a dynamic model like this one, a good candidate is the subsystem of variables and equations at each point in time."
   ]
  },
  {
   "cell_type": "code",
   "execution_count": null,
   "id": "ea05b00e",
   "metadata": {},
   "outputs": [],
   "source": [
    "# We've included a utility function to extract the subsystem of variables and equations\n",
    "# at a specified point in time. If you are dealing with a process flowsheet, here you\n",
    "# may want to exact each unit model individually.\n",
    "from workspace.diagnostics.struct_example.util import get_subsystem_at_time\n",
    "from pyomo.util.subsystems import TemporarySubsystemManager\n",
    "\n",
    "# Let's start with t=0. Really, we'd probably want to do this in a loop and try all time points.\n",
    "t0 = model.fs.time.first()\n",
    "t_block, inputs = get_subsystem_at_time(model, model.fs.time, t0)\n",
    "# We'll temporarily fix the \"inputs\" to make sure we have a square system while debugging\n",
    "with TemporarySubsystemManager(to_fix=inputs):\n",
    "    dt = DiagnosticsToolbox(t_block)\n",
    "    dt.report_structural_issues()\n",
    "    dt.display_underconstrained_set()\n",
    "    dt.display_overconstrained_set()"
   ]
  },
  {
   "cell_type": "markdown",
   "id": "986b5113",
   "metadata": {},
   "source": [
    "These over and under-constrained subsystems aren't much smaller, but now the over-constrained system decomposes into 10 small, independent blocks. These should be easier to debug.\n",
    "\n",
    "## Debugging the over-constrained subsystem\n",
    "\n",
    "To debug the over-constrained subsystem, we look for a constraint that is not calculating any of the variables in the subsystem. The \"odd constraint out\" here seems to be the mass fraction sum. This must \"solve for\" one of the mass fractions, which means one of the `material_holdup_calculation` equations must \"solve for\" particle density rather than mass fraction. If we want to see what variables are contained in one of these constraints, we can always `pprint` it:"
   ]
  },
  {
   "cell_type": "code",
   "execution_count": null,
   "id": "4029972c",
   "metadata": {},
   "outputs": [],
   "source": [
    "model.fs.MB.solid_phase.material_holdup_calculation[0, 0.9, \"Sol\", \"Fe3O4\"].pprint()"
   ]
  },
  {
   "cell_type": "markdown",
   "id": "a11d6609",
   "metadata": {},
   "source": [
    "If one of these `material_holdup_calculation` equations is solving for particle density, then that means that `density_particle_constraint` is not actually solving for density.  Maybe `density_particle_constraint` is over-determining our system?"
   ]
  },
  {
   "cell_type": "code",
   "execution_count": null,
   "id": "d1836161",
   "metadata": {},
   "outputs": [],
   "source": [
    "model.fs.MB.solid_phase.properties[0, 0.9].density_particle_constraint.pprint()"
   ]
  },
  {
   "cell_type": "markdown",
   "id": "c8e9abf7",
   "metadata": {},
   "source": [
    "But this looks like a very reasonable constraint. After some thought, which admittedly requires some knowledge of the process we are modeling, we decide that the right approach is to make particle porosity a variable. We have assumed that porosity is constant, but this overconstrained subsystem is telling us that this assumption is not valid.\n",
    "\n",
    "## Debugging the under-constrained subsystem\n",
    "\n",
    "The under-constrained system does not decompose into independent subsystems, making it more difficult to debug. However, by inspection, we notice that the same constraints and variables seem to be repeated at each point in the length domain. For each point in space, the \"odd variable out\" seems to be the total flow rate `flow_mass`. Using some intuition about this particular process model, we may conclude that this variable should be calculated from the solid phase velocity, which is constant. We expect an equation that looks like\n",
    "```\n",
    "flow_mass == velocity * area * density\n",
    "```\n",
    "\n",
    "But this equation isn't here... so we need to add it.\n",
    "\n",
    "## Fixing the model\n",
    "\n",
    "We'll start by creating a fresh copy of the model, so we don't accidentally rely on Ipopt's point of termination."
   ]
  },
  {
   "cell_type": "code",
   "execution_count": null,
   "id": "01cd1929",
   "metadata": {},
   "outputs": [],
   "source": [
    "model2 = make_model()\n",
    "# Make the model square while we try to fix the structural singularity\n",
    "model2.fs.MB.gas_phase.properties[:, 0].flow_mol.fix()\n",
    "model2.fs.MB.solid_phase.properties[:, 1].flow_mass.fix()\n",
    "model2.piecewise_constant_constraints.deactivate()"
   ]
  },
  {
   "cell_type": "markdown",
   "id": "565599a6",
   "metadata": {},
   "source": [
    "## Adding a new particle porosity variable"
   ]
  },
  {
   "cell_type": "code",
   "execution_count": null,
   "id": "479f3067",
   "metadata": {},
   "outputs": [],
   "source": [
    "model2.fs.MB.particle_porosity = pyo.Var(\n",
    "    model2.fs.time, model2.fs.MB.length_domain, initialize=model2.fs.solid_properties.particle_porosity.value\n",
    ")"
   ]
  },
  {
   "cell_type": "markdown",
   "id": "b614d7a0",
   "metadata": {},
   "source": [
    "Now we need to replace the old particle porosity parameter with this new variable. Luckily, the old parameter is actually implemented as a fixed variable, so we can easily identify all the constraints it participates in with `IncidenceGraphInterface`:"
   ]
  },
  {
   "cell_type": "code",
   "execution_count": null,
   "id": "4d45b4a9",
   "metadata": {},
   "outputs": [],
   "source": [
    "from pyomo.contrib.incidence_analysis import IncidenceGraphInterface\n",
    "\n",
    "igraph = IncidenceGraphInterface(model2, include_fixed=True)\n",
    "porosity_param = model2.fs.solid_properties.particle_porosity\n",
    "print(f\"Constraints containing {porosity_param.name}:\")\n",
    "for con in igraph.get_adjacent_to(porosity_param):\n",
    "    print(f\"  {con.name}\")"
   ]
  },
  {
   "cell_type": "markdown",
   "id": "0e6fee8f",
   "metadata": {},
   "source": [
    "Particle porosity only appears in two constraints: the density constraint we saw above, and the reaction rate equation. We can replace particle porosity in these constraints using Pyomo's `replace_expressions` function:"
   ]
  },
  {
   "cell_type": "code",
   "execution_count": null,
   "id": "4d62bd7a",
   "metadata": {},
   "outputs": [],
   "source": [
    "from pyomo.core.expr import replace_expressions\n",
    "\n",
    "for t, x in model2.fs.time * model2.fs.MB.length_domain:\n",
    "    substitution_map = {id(porosity_param): model2.fs.MB.particle_porosity[t, x]}\n",
    "    sp = model2.fs.MB.solid_phase\n",
    "    cons = [sp.properties[t, x].density_particle_constraint, sp.reactions[t, x].gen_rate_expression[\"R1\"]]\n",
    "    for con in cons:\n",
    "        con.set_value(replace_expressions(con.expr, substitution_map, descend_into_named_expressions=True))"
   ]
  },
  {
   "cell_type": "markdown",
   "id": "cff3dc24",
   "metadata": {},
   "source": [
    "We have added a new `particle_porosity` variable, and are using it in the relevant locations. Now we can move on to adding the missing constraint.\n",
    "\n",
    "## Adding a new density-flow rate constraint"
   ]
  },
  {
   "cell_type": "code",
   "execution_count": null,
   "id": "2cd11e5d",
   "metadata": {},
   "outputs": [],
   "source": [
    "@model2.fs.MB.Constraint(model2.fs.time, model2.fs.MB.length_domain)\n",
    "def density_flowrate_constraint(mb, t, x):\n",
    "    return (\n",
    "        mb.velocity_superficial_solid[t] * mb.bed_area\n",
    "        * mb.solid_phase.properties[t, x].dens_mass_particle\n",
    "        == mb.solid_phase.properties[t, x].flow_mass\n",
    "    )"
   ]
  },
  {
   "cell_type": "markdown",
   "id": "eca5108e",
   "metadata": {},
   "source": [
    "## Testing the new model\n",
    "\n",
    "Let's see if these changes have fixed our model."
   ]
  },
  {
   "cell_type": "code",
   "execution_count": null,
   "id": "dc391ba8",
   "metadata": {},
   "outputs": [],
   "source": [
    "# Construct a new diagnostics toolbox\n",
    "dt = DiagnosticsToolbox(model2)\n",
    "dt.report_structural_issues()"
   ]
  },
  {
   "cell_type": "markdown",
   "id": "de070064",
   "metadata": {},
   "source": [
    "The structural singularity seems to be gone! Let's unfix our degrees of freedom and see if we can solve."
   ]
  },
  {
   "cell_type": "code",
   "execution_count": null,
   "id": "fc14d9e2",
   "metadata": {},
   "outputs": [],
   "source": [
    "model2.fs.MB.gas_phase.properties[:, 0].flow_mol.unfix()\n",
    "model2.fs.MB.gas_phase.properties[0, 0].flow_mol.fix()\n",
    "model2.fs.MB.solid_phase.properties[:, 1].flow_mass.unfix()\n",
    "model2.fs.MB.solid_phase.properties[0, 1].flow_mass.fix()\n",
    "model2.piecewise_constant_constraints.activate()\n",
    "\n",
    "solver.solve(model2, tee=True)"
   ]
  },
  {
   "cell_type": "markdown",
   "id": "fd8748b9",
   "metadata": {},
   "source": [
    "This doesn't look much better. Let's check the diagnostics toolbox for numerical issues?"
   ]
  },
  {
   "cell_type": "code",
   "execution_count": null,
   "id": "199e993e",
   "metadata": {},
   "outputs": [],
   "source": [
    "model2.fs.MB.gas_phase.properties[:, 0].flow_mol.fix()\n",
    "model2.fs.MB.solid_phase.properties[:, 1].flow_mass.fix()\n",
    "model2.piecewise_constant_constraints.deactivate()\n",
    "from idaes.core.util.model_diagnostics import check_parallel_jacobian\n",
    "parallel = check_parallel_jacobian(model2, tolerance=1e-8, direction=\"row\")\n",
    "print(\"Parallel constraints\")\n",
    "print(\"--------------------\")\n",
    "for con1, con2 in parallel:\n",
    "    print(f\"{con1.name}, {con2.name}\")"
   ]
  },
  {
   "cell_type": "markdown",
   "id": "a2040b5b",
   "metadata": {},
   "source": [
    "Looks like we have \"parallel constraints\", which are another form of singularity. `density_flowrate_constraint` is the constraint that we added. What is `solid_super_vel`?"
   ]
  },
  {
   "cell_type": "code",
   "execution_count": null,
   "id": "391066d4",
   "metadata": {},
   "outputs": [],
   "source": [
    "model2.fs.MB.solid_super_vel[0].pprint()"
   ]
  },
  {
   "cell_type": "markdown",
   "id": "0559c8c4",
   "metadata": {},
   "source": [
    "This is the same as the constraint we just added! Looks like that constraint already existed at the solid inlet. We can easily deactivate the new constraints at this point in the length domain:"
   ]
  },
  {
   "cell_type": "code",
   "execution_count": null,
   "id": "8f086a50",
   "metadata": {},
   "outputs": [],
   "source": [
    "model2.fs.MB.density_flowrate_constraint[:, 1.0].deactivate();"
   ]
  },
  {
   "cell_type": "markdown",
   "id": "9d257074",
   "metadata": {},
   "source": [
    "But now we have removed constraints from a square model, and expect to have degrees of freedom. Let's see what the diagnostics toolbox has to say."
   ]
  },
  {
   "cell_type": "code",
   "execution_count": null,
   "id": "c1af8b6c",
   "metadata": {},
   "outputs": [],
   "source": [
    "dt = DiagnosticsToolbox(model2)\n",
    "dt.report_structural_issues()"
   ]
  },
  {
   "cell_type": "markdown",
   "id": "0b27aee5",
   "metadata": {},
   "source": [
    "But this doesn't help us very much. We have some extraneous degrees of freedom, but with 8881 variables in the under-constrained subsystem, it will be difficult to tell what they are. After some thought (and model-specific intuition), we land on the conclusion that maybe we need to fix particle porosity at the solid inlet. Here, total flow rate is specified, and the `solid_super_vel` equation is using it to compute velocity. So we need `dens_mass_particle` to be known, which means we need `particle_porosity` to be fixed."
   ]
  },
  {
   "cell_type": "code",
   "execution_count": null,
   "id": "656ae921",
   "metadata": {},
   "outputs": [],
   "source": [
    "model2.fs.MB.particle_porosity[:, 1.0].fix();"
   ]
  },
  {
   "cell_type": "markdown",
   "id": "cbb89807",
   "metadata": {},
   "source": [
    "Let's run the diagnostics toolbox as a sanity check."
   ]
  },
  {
   "cell_type": "code",
   "execution_count": null,
   "id": "6cf86e28",
   "metadata": {},
   "outputs": [],
   "source": [
    "dt = DiagnosticsToolbox(model2)\n",
    "dt.report_structural_issues()"
   ]
  },
  {
   "cell_type": "markdown",
   "id": "016f8799",
   "metadata": {},
   "source": [
    "Looks good! Now we can release our degrees of freedom and try to solve again."
   ]
  },
  {
   "cell_type": "code",
   "execution_count": null,
   "id": "a2f83e2e",
   "metadata": {},
   "outputs": [],
   "source": [
    "model2.fs.MB.gas_phase.properties[:, 0].flow_mol.unfix()\n",
    "model2.fs.MB.gas_phase.properties[0, 0].flow_mol.fix()\n",
    "model2.fs.MB.solid_phase.properties[:, 1].flow_mass.unfix()\n",
    "model2.fs.MB.solid_phase.properties[0, 1].flow_mass.fix()\n",
    "model2.piecewise_constant_constraints.activate()\n",
    "\n",
    "solver.solve(model2, tee=True)"
   ]
  },
  {
   "cell_type": "markdown",
   "id": "b8587acd",
   "metadata": {},
   "source": [
    "It worked! For the simple optimization problem we have set up, this solve looks a lot more like what we expect."
   ]
  },
  {
   "cell_type": "markdown",
   "id": "33983d41",
   "metadata": {},
   "source": [
    "### References\n",
    "\n",
    "[[1]] Okoli et al., \"A framework for the optimization of chemical looping combustion processes\". *Powder Tech*, 2020.\n",
    "\n",
    "[[2]] Parker and Biegler, \"Dynamic modeling and nonlinear model predictive control of a moving bed chemical looping combustion reactor\". *IFAC PapersOnline*, 2022.\n",
    "\n",
    "[[3]] Dulmage and Mendelsohn, \"Coverings of bipartite graphs\". *Can J. Math.*, 1958.\n",
    "\n",
    "[[4]] Pothen and Fan, \"Computing the block triangular form of a sparse matrix\". *ACM Trans. Math. Softw.*, 1990.\n",
    "\n",
    "[[5]] Parker et al., \"Applications of the Dulmage-Mendelsohn decomposition for debugging nonlinear optimization problems\". *Comp. Chem. Eng.*, 2023.\n",
    "\n",
    "[1]: https://www.sciencedirect.com/science/article/pii/S0032591019302803\n",
    "[2]: https://www.sciencedirect.com/science/article/pii/S2405896322008825\n",
    "[3]: https://www.cambridge.org/core/journals/canadian-journal-of-mathematics/article/coverings-of-bipartite-graphs/413735C5888AB542B92D0C4F402800B1\n",
    "[4]: https://dl.acm.org/doi/10.1145/98267.98287\n",
    "[5]: https://www.sciencedirect.com/science/article/pii/S0098135423002533\n"
   ]
  }
 ],
 "metadata": {
  "kernelspec": {
   "display_name": "Python 3 (ipykernel)",
   "language": "python",
   "name": "python3"
  },
  "language_info": {
   "codemirror_mode": {
    "name": "ipython",
    "version": 3
   },
   "file_extension": ".py",
   "mimetype": "text/x-python",
   "name": "python",
   "nbconvert_exporter": "python",
   "pygments_lexer": "ipython3",
   "version": "3.9.6"
  }
 },
 "nbformat": 4,
 "nbformat_minor": 5
}
