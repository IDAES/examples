{
 "cells": [
  {
   "cell_type": "code",
   "execution_count": null,
   "id": "a261df3e-3957-4a85-ac6d-1bbe9eb053f8",
   "metadata": {},
   "outputs": [],
   "source": [
    "###############################################################################\n",
    "# The Institute for the Design of Advanced Energy Systems Integrated Platform\n",
    "# Framework (IDAES IP) was produced under the DOE Institute for the\n",
    "# Design of Advanced Energy Systems (IDAES).\n",
    "#\n",
    "# Copyright (c) 2018-2023 by the software owners: The Regents of the\n",
    "# University of California, through Lawrence Berkeley National Laboratory,\n",
    "# National Technology & Engineering Solutions of Sandia, LLC, Carnegie Mellon\n",
    "# University, West Virginia University Research Corporation, et al.\n",
    "# All rights reserved.  Please see the files COPYRIGHT.md and LICENSE.md\n",
    "# for full copyright and license information.\n",
    "###############################################################################"
   ]
  },
  {
   "cell_type": "markdown",
   "id": "86cdef66",
   "metadata": {},
   "source": [
    "Debugging a Structural Singularity\n",
    "===========================\n",
    "Author: Robert Parker\\\n",
    "Maintainer: Robert Parker\\\n",
    "Updated: 2024-06-10\n",
    "\n",
    "In this tutorial, we will use the [IDAES Diagnostics Toolbox](https://idaes-pse.readthedocs.io/en/2.4.0/explanations/model_diagnostics/index.html#diagnostics-toolbox)\n",
    "to diagnose and fix a structural singularity that is preventing us from solving an optimization problem."
   ]
  },
  {
   "cell_type": "markdown",
   "id": "f456b3f7",
   "metadata": {
    "jp-MarkdownHeadingCollapsed": true
   },
   "source": [
    "# Constructing the model\n",
    "\n",
    "Suppose a collaborator has given us a model to work with. They give us a square model and tell us what the degrees of freedom are. We construct an optimization problem and try to solve it. In this tutorial, we don't want to worry too much about the details that go into constructing the model. This has been provided in the `idaes_examples.mod.diagnostics.gas_solid_contactors.model` module.\n",
    "\n",
    "## Model details (OKAY TO SKIP)\n",
    "\n",
    "The model we are trying to optimize is a dynamic model of a moving bed chemical looping combustion reactor. The model has been described by [Okoli et al.][1] and [Parker and Biegler][2]. This is a gas-solid reactor with counter-current flow. The degrees of freedom are gas and solid inlet flow rates, and we are trying to minimize the deviation from a desired operating point via a least-squares objective function.\n",
    "\n",
    "[1]: https://www.sciencedirect.com/science/article/pii/S0032591019302803\n",
    "[2]: https://www.sciencedirect.com/science/article/pii/S2405896322008825\n",
    "\n",
    "Again, we don't want to worry too much about the model. The `make_model` function will construct the optimization problem that we want to solve, and whenever we do something model-specific, we will explicitly make note of it."
   ]
  },
  {
   "cell_type": "markdown",
   "id": "c276aa4a",
   "metadata": {},
   "source": [
    "# Trying to solve the original model\n",
    "\n",
    "With that out of the way, let's construct the model and try to solve it!"
   ]
  },
  {
   "cell_type": "code",
   "execution_count": null,
   "id": "201f63f2",
   "metadata": {},
   "outputs": [],
   "source": [
    "from idaes_examples.mod.diagnostics.gas_solid_contactors.model import make_model\n",
    "import logging\n",
    "\n",
    "# We'll turn off IDAES logging. This is not recommended in general, but this is an old model\n",
    "# (from IDAES 1.7) that has been ported to work with the current version of IDAES. It generates\n",
    "# a lot of warnings.\n",
    "logging.getLogger(\"idaes\").setLevel(logging.CRITICAL)\n",
    "# We'll also turn off Pyomo logging. This will suppress unit inconsistency warnings later,\n",
    "# which otherwise flood our console and slow down this notebook. We have unit inconsistencies\n",
    "# as, in IDAES 1.7, we didn't rigorously enforce that models use units.\n",
    "logging.getLogger(\"pyomo\").setLevel(logging.CRITICAL)\n",
    "\n",
    "# This constructs a dynamic model with degrees of freedom and an objective function.\n",
    "model = make_model()"
   ]
  },
  {
   "cell_type": "markdown",
   "id": "2cac2868",
   "metadata": {},
   "source": [
    "Before trying to solve the model, let's make sure it conforms to our expectations, i.e. it (a) has degrees of freedom and (b) is well-initialized to a feasible point."
   ]
  },
  {
   "cell_type": "code",
   "execution_count": null,
   "id": "8133d68f",
   "metadata": {},
   "outputs": [],
   "source": [
    "# Import some useful utilities from the model_statistics module.\n",
    "# Degrees of freedom and constraint residuals are always good things to check before\n",
    "# trying to solve a simulation or optimization problem.\n",
    "from idaes.core.util.model_statistics import degrees_of_freedom, large_residuals_set\n",
    "\n",
    "dof = degrees_of_freedom(model)\n",
    "print(f\"Degrees of freedom: {dof}\")\n",
    "has_large_residuals = bool(large_residuals_set(model, tol=1e-5))\n",
    "print(f\"Has large residuals: {has_large_residuals}\")"
   ]
  },
  {
   "cell_type": "markdown",
   "id": "86e1a118",
   "metadata": {},
   "source": [
    "In the above `make_model` function, the model has been \"solved\" to arrive at a feasible point, then degrees of freedom have been unfixed and an objective function has been added to give us an optimization problem. This looks good so far, so let's try to solve the optimization problem."
   ]
  },
  {
   "cell_type": "code",
   "execution_count": null,
   "id": "7b8ddf55",
   "metadata": {},
   "outputs": [],
   "source": [
    "# Import pyomo.environ for access to solvers\n",
    "import pyomo.environ as pyo\n",
    "\n",
    "solver = pyo.SolverFactory(\"ipopt\")\n",
    "solver.options[\"max_iter\"] = 20\n",
    "solver.options[\"print_user_options\"] = \"yes\"\n",
    "solver.options[\"OF_print_info_string\"] = \"yes\"\n",
    "res = solver.solve(model, tee=True)\n",
    "print(f\"Converged successfully: {pyo.check_optimal_termination(res)}\")"
   ]
  },
  {
   "cell_type": "markdown",
   "id": "d3513d46",
   "metadata": {},
   "source": [
    "IPOPT fails to solve the optimization problem... You can try increasing the iteration limit, but it is very unlikely that this model will ever solve. A telltale sign that something is wrong with our model is the persistence of regularization coefficients, that is, numbers in the `lg(rg)` column of the IPOPT log. These coefficients can have multiple causes. One is that the constraint Jacobian (partial derivative matrix) is singular, which indicates a problem with our model. We have set the `print_info_string` option in IPOPT to display \"diagnostic tags\" to help interpret these regularization coefficients. The \"L\" and \"l\" diagnostic tags, which appear repeatedly, indicate that the Jacobian is singular. For more information on IPOPT diagnostic tags, see the IPOPT [documentation](https://coin-or.github.io/Ipopt/OUTPUT.html)."
   ]
  },
  {
   "cell_type": "markdown",
   "id": "b01c2de5",
   "metadata": {},
   "source": [
    "# Debugging the original model\n",
    "\n",
    "Let's run the diagnostics toolbox on the model and see what it has to say.\n",
    "\n",
    "For good practice, we'll first make sure the model we're debugging is square. Remember that we're assuming we already know how to toggle degrees of freedom in our model."
   ]
  },
  {
   "cell_type": "code",
   "execution_count": null,
   "id": "107471c0",
   "metadata": {},
   "outputs": [],
   "source": [
    "# Fix gas and solid flow rates at their respective inlets\n",
    "model.fs.MB.gas_phase.properties[:, 0].flow_mol.fix()\n",
    "model.fs.MB.solid_phase.properties[:, 1].flow_mass.fix()\n",
    "# Part of our optimization problem was a set of constraints to enforce piecewise\n",
    "# constant control inputs. We need to deactivate these as well.\n",
    "model.piecewise_constant_constraints.deactivate()"
   ]
  },
  {
   "cell_type": "markdown",
   "id": "36f82a0a",
   "metadata": {},
   "source": [
    "Now we can run the diagnostics toolbox."
   ]
  },
  {
   "cell_type": "code",
   "execution_count": null,
   "id": "e7667a9f",
   "metadata": {},
   "outputs": [],
   "source": [
    "from idaes.core.util.model_diagnostics import DiagnosticsToolbox\n",
    "\n",
    "dt = DiagnosticsToolbox(model)\n",
    "dt.report_structural_issues()"
   ]
  },
  {
   "cell_type": "markdown",
   "id": "3b4530cf",
   "metadata": {},
   "source": [
    "Let's look at the warnings we got:\n",
    "- Inconsistent units\n",
    "- Structural singularity\n",
    "- Potential evaluation errors\n",
    "\n",
    "We'll ignore the inconsistent units. The property package and unit model here were extracted from IDAES 1.7, before we rigorously enforced that all models use units. The potential evaluation errors we see here may be worth looking into, but looking at the failing IPOPT log above, we don't notice any evaluation errors. (If evaluation errors occurred in IPOPT, we would see a message like \"Error in AMPL evaluation\" in the IPOPT iteration log, which we don't see here.) The structural singularity looks like the most promising avenue to debug, especially as the IPOPT log displays persistent regularization coefficients that appear to be caused by a singular Jacobian.\n",
    "\n",
    "Let's follow the toolbox's advice and display the under and over-constrained sets."
   ]
  },
  {
   "cell_type": "code",
   "execution_count": null,
   "id": "9976bc61",
   "metadata": {},
   "outputs": [],
   "source": [
    "dt.display_underconstrained_set()\n",
    "dt.display_overconstrained_set()"
   ]
  },
  {
   "cell_type": "markdown",
   "id": "eb67e99c",
   "metadata": {},
   "source": [
    "## Over and under-constrained subsystems\n",
    "\n",
    "Structural singularities are characterized by the [Dulmage-Mendelson decomposition][3], which partitions a system into minimal over and under-constrained subsystems. These subsystems contain the potentially unmatched constraints and variables, respectively. Here, \"unmatched\" effectively means \"causing a singularity\". [Pothen and Fan][4] give a good overview of the Dulmage-Mendelsohn decomposition and [Parker et al.][5] give several examples.\n",
    "\n",
    "[3]: https://www.cambridge.org/core/journals/canadian-journal-of-mathematics/article/coverings-of-bipartite-graphs/413735C5888AB542B92D0C4F402800B1\n",
    "[4]: https://dl.acm.org/doi/10.1145/98267.98287\n",
    "[5]: https://www.sciencedirect.com/science/article/pii/S0098135423002533\n",
    "\n",
    "The most straightforward way to fix a structural singularity is to fix variables that are in the under-constrained system and deactivate constraints in the over-constrained subsystem. However, this may not be applicable for every model. For example, we may need to add variables and constraints instead. What over and under-constrained subsystems are telling us is that something is wrong with our modeling assumptions. The particular fix that is appropriate will depend heavily on the model.\n",
    "\n",
    "If the above output gives us any clues, we can go ahead and start trying to fix things. However, suppose it doesn't. A good strategy is to try to break down the model into smaller, square subsystems that we think should be nonsingular. For a dynamic model like this one, a good candidate is the subsystem of variables and equations at each point in time."
   ]
  },
  {
   "cell_type": "code",
   "execution_count": null,
   "id": "ea05b00e",
   "metadata": {},
   "outputs": [],
   "source": [
    "# We've included a utility function to extract the subsystem of variables and equations\n",
    "# at a specified point in time. If you are dealing with a process flowsheet, here you\n",
    "# may want to extract each unit model individually.\n",
    "from idaes_examples.mod.diagnostics.util import get_subsystem_at_time\n",
    "\n",
    "# TemporarySubsystemManager is used to temporarily fix some variables to make sure\n",
    "# we're debugging a square subsystem.\n",
    "from pyomo.util.subsystems import TemporarySubsystemManager\n",
    "\n",
    "# Let's start with t=0. Really, we'd probably want to do this in a loop and try all time points.\n",
    "t0 = model.fs.time.first()\n",
    "t_block, inputs = get_subsystem_at_time(model, model.fs.time, t0)\n",
    "# We'll temporarily fix the \"inputs\" to make sure we have a square system while debugging\n",
    "with TemporarySubsystemManager(to_fix=inputs):\n",
    "    dt = DiagnosticsToolbox(t_block)\n",
    "    dt.report_structural_issues()\n",
    "    dt.display_underconstrained_set()\n",
    "    dt.display_overconstrained_set()"
   ]
  },
  {
   "cell_type": "markdown",
   "id": "986b5113",
   "metadata": {},
   "source": [
    "These over and under-constrained subsystems aren't much smaller, but now the over-constrained system decomposes into 10 small, independent blocks. These should be easier to debug.\n",
    "\n",
    "## Debugging the over-constrained subsystem\n",
    "\n",
    "To debug the over-constrained subsystem, we look for a constraint that is not calculating any of the variables in the subsystem. The \"odd constraint out\" here seems to be the mass fraction sum, `sum_component_eqn`. This must \"solve for\" one of the mass fractions, which means one of the `material_holdup_calculation` equations must \"solve for\" particle density rather than mass fraction. If we want to see what variables are contained in one of these constraints, we can always `pprint` it:"
   ]
  },
  {
   "cell_type": "code",
   "execution_count": null,
   "id": "4029972c",
   "metadata": {},
   "outputs": [],
   "source": [
    "model.fs.MB.solid_phase.properties[0, 0.9].sum_component_eqn.pprint()\n",
    "model.fs.MB.solid_phase.material_holdup_calculation[0, 0.9, \"Sol\", \"Fe3O4\"].pprint()"
   ]
  },
  {
   "cell_type": "markdown",
   "id": "a11d6609",
   "metadata": {},
   "source": [
    "If one of these `material_holdup_calculation` equations is solving for particle density, then that means that `density_particle_constraint` is not actually solving for density.  Maybe `density_particle_constraint` is over-determining our system?"
   ]
  },
  {
   "cell_type": "code",
   "execution_count": null,
   "id": "d1836161",
   "metadata": {},
   "outputs": [],
   "source": [
    "model.fs.MB.solid_phase.properties[0, 0.9].density_particle_constraint.pprint()"
   ]
  },
  {
   "cell_type": "markdown",
   "id": "c8e9abf7",
   "metadata": {},
   "source": [
    "But this looks like a very reasonable constraint. After some thought, which admittedly requires some knowledge of the process we are modeling, we decide that the right approach is to make particle porosity a variable. We have assumed that porosity is constant, but this overconstrained subsystem is telling us that this assumption is not valid.\n",
    "\n",
    "### How did we figure this out? (OKAY TO SKIP)\n",
    "Adding a variable (including by unfixing a parameter) to an over-constraining constraint will often remove that constraint from the over-constrained subsystem. But how did we know that this was the right thing to do? If you just care about using the diagnostics toolbox to extract as much information about a singularity as possible, you can skip this section. But if you are curious how we determined that particle porosity should not be constant, read on.\n",
    "\n",
    "`dens_mass_skeletal` is determined purely by the composition of solid, which is made up of Fe<sub>2</sub>O<sub>3</sub>, Fe<sub>3</sub>O<sub>4</sub>, and inert Ti<sub>2</sub>O<sub>3</sub>. We can view the `density_skeletal_constraint` as follows:"
   ]
  },
  {
   "cell_type": "code",
   "execution_count": null,
   "id": "5c13a3a8-8e77-498d-b6fe-ad1f88413cbf",
   "metadata": {},
   "outputs": [],
   "source": [
    "model.fs.MB.solid_phase.properties[0, 0.9].density_skeletal_constraint.pprint()"
   ]
  },
  {
   "cell_type": "markdown",
   "id": "c42000a6-e0f1-4118-b67f-d878bcf777a2",
   "metadata": {},
   "source": [
    "If we assume a constant particle porosity, this gives us a particle porosity that is also uniquely determined by the solid composition by the above `density_particle_constraint`:\n",
    "```\n",
    "dens_mass_particle = (1 - porosity) * dens_mass_skeletal\n",
    "```\n",
    "But the composition of the solid is determined by the (somewhat misnamed) `material_holdup_calculation` constraints. While the name of these constraints implies they \"calculate holdups,\" material holdups at $t=0$ are fixed as initial conditions (because holdups are the differential variables with respect to time in this model). At other time points, we assume that holdups are specified by differential and discretization equations of the model. This means that the `material_holdup_calculation` constraints actually calculate the solid phase mass fractions *from* the holdups. But as we hinted at above, the 4-by-4 system of holdup calculation constraints, `sum_component_eqn` (which simply constrains the sum of mass fractions to be one), mass fractions, and `dens_mass_particle`, uniquely solve for `dens_mass_particle` *as well as* the mass fractions. But if the holdup variables can be used to solve for the mass fractions, they *also* solve  for `dens_mass_skeletal`. So both sides of `density_particle_constraint` are already uniquely determined! This implies that we don't need this constraint at all, but we also know that this constraint has to hold. Something has to give. With this in mind, we actually have several options for how to resolve this overspecification:\n",
    "1. Remove `density_particle_constraint`. Then we would have `dens_mass_particle` and `dens_mass_skeletal`, with no relationship between them. This would leave us with a mathematically sound model, but with densities that contradict constant particle porosity that we have assumed (which is used elsewhere in the reaction rate calculation equations).\n",
    "2. Remove the constraints that calculate skeletal density from composition.\n",
    "3. Relax particle porosity from a parameter to a variable.\n",
    "\n",
    "Options 2 and 3 are equally valid. We've chosen option 3, meaning we assume that the particle \"evolves\" with a density that is well determined from its constituent species, rather than changing density to accommodate whatever mass it accumulates via reaction without altering its volume. This exercise should remind us that all mathematical modeling is somewhat of an art. In the process of choosing the \"least bad\" model, it is fairly easy to over or under-specify something by making the wrong combination of assumptions, and the Dulmage-Mendelsohn decomposition is a great tool for detecting when this has happened.\n",
    "\n",
    "## Debugging the under-constrained subsystem\n",
    "\n",
    "The under-constrained system does not decompose into independent subsystems, making it more difficult to debug. However, by inspection, we notice that the same constraints and variables seem to be repeated at each point in the length domain. For each point in space, the \"odd variable out\" seems to be the total flow rate `flow_mass`. Using some intuition about this particular process model, we may conclude that this variable should be calculated from the solid phase velocity, which is constant. We expect an equation that looks like\n",
    "```\n",
    "flow_mass == velocity * area * density\n",
    "```\n",
    "\n",
    "But this equation isn't here... so we need to add it.\n",
    "\n",
    "# Fixing the model\n",
    "\n",
    "We'll start by creating a fresh copy of the model, so we don't accidentally rely on IPOPT's point of termination."
   ]
  },
  {
   "cell_type": "code",
   "execution_count": null,
   "id": "01cd1929",
   "metadata": {},
   "outputs": [],
   "source": [
    "model2 = make_model()\n",
    "# Make the model square while we try to fix the structural singularity\n",
    "model2.fs.MB.gas_phase.properties[:, 0].flow_mol.fix()\n",
    "model2.fs.MB.solid_phase.properties[:, 1].flow_mass.fix()\n",
    "model2.piecewise_constant_constraints.deactivate()"
   ]
  },
  {
   "cell_type": "markdown",
   "id": "565599a6",
   "metadata": {},
   "source": [
    "## Adding a new particle porosity variable"
   ]
  },
  {
   "cell_type": "code",
   "execution_count": null,
   "id": "479f3067",
   "metadata": {},
   "outputs": [],
   "source": [
    "model2.fs.MB.particle_porosity = pyo.Var(\n",
    "    model2.fs.time,\n",
    "    model2.fs.MB.length_domain,\n",
    "    initialize=model2.fs.solid_properties.particle_porosity.value,\n",
    ")"
   ]
  },
  {
   "cell_type": "markdown",
   "id": "b614d7a0",
   "metadata": {},
   "source": [
    "Now we need to replace the old particle porosity parameter with this new variable. Luckily, the old parameter is actually implemented as a fixed variable, so we can easily identify all the constraints it participates in with `IncidenceGraphInterface`:"
   ]
  },
  {
   "cell_type": "code",
   "execution_count": null,
   "id": "4d45b4a9",
   "metadata": {},
   "outputs": [],
   "source": [
    "from pyomo.contrib.incidence_analysis import IncidenceGraphInterface\n",
    "\n",
    "igraph = IncidenceGraphInterface(model2, include_fixed=True)\n",
    "porosity_param = model2.fs.solid_properties.particle_porosity\n",
    "print(f\"Constraints containing {porosity_param.name}:\")\n",
    "for con in igraph.get_adjacent_to(porosity_param):\n",
    "    print(f\"  {con.name}\")"
   ]
  },
  {
   "cell_type": "markdown",
   "id": "0e6fee8f",
   "metadata": {},
   "source": [
    "Particle porosity only appears in two constraints: the density constraint we saw above, and the reaction rate equation. We can replace particle porosity in these constraints using Pyomo's `replace_expressions` function:"
   ]
  },
  {
   "cell_type": "code",
   "execution_count": null,
   "id": "4d62bd7a",
   "metadata": {},
   "outputs": [],
   "source": [
    "from pyomo.core.expr import replace_expressions\n",
    "\n",
    "for t, x in model2.fs.time * model2.fs.MB.length_domain:\n",
    "    substitution_map = {id(porosity_param): model2.fs.MB.particle_porosity[t, x]}\n",
    "    sp = model2.fs.MB.solid_phase\n",
    "    cons = [\n",
    "        sp.properties[t, x].density_particle_constraint,\n",
    "        sp.reactions[t, x].gen_rate_expression[\"R1\"],\n",
    "    ]\n",
    "    for con in cons:\n",
    "        con.set_value(\n",
    "            replace_expressions(\n",
    "                con.expr, substitution_map, descend_into_named_expressions=True\n",
    "            )\n",
    "        )"
   ]
  },
  {
   "cell_type": "markdown",
   "id": "cff3dc24",
   "metadata": {},
   "source": [
    "We have added a new `particle_porosity` variable, and are using it in the relevant locations. Now we can move on to adding the missing constraint.\n",
    "\n",
    "## Adding a new density-flow rate constraint"
   ]
  },
  {
   "cell_type": "code",
   "execution_count": null,
   "id": "2cd11e5d",
   "metadata": {},
   "outputs": [],
   "source": [
    "@model2.fs.MB.Constraint(model2.fs.time, model2.fs.MB.length_domain)\n",
    "def density_flowrate_constraint(mb, t, x):\n",
    "    return (\n",
    "        mb.velocity_superficial_solid[t]\n",
    "        * mb.bed_area\n",
    "        * mb.solid_phase.properties[t, x].dens_mass_particle\n",
    "        == mb.solid_phase.properties[t, x].flow_mass\n",
    "    )"
   ]
  },
  {
   "cell_type": "markdown",
   "id": "eca5108e",
   "metadata": {},
   "source": [
    "## Testing the new model\n",
    "\n",
    "Let's see if these changes have fixed our model."
   ]
  },
  {
   "cell_type": "code",
   "execution_count": null,
   "id": "dc391ba8",
   "metadata": {},
   "outputs": [],
   "source": [
    "# Construct a new diagnostics toolbox\n",
    "dt = DiagnosticsToolbox(model2)\n",
    "dt.report_structural_issues()"
   ]
  },
  {
   "cell_type": "markdown",
   "id": "de070064",
   "metadata": {},
   "source": [
    "The structural singularity seems to be gone! Let's unfix our degrees of freedom and see if we can solve."
   ]
  },
  {
   "cell_type": "code",
   "execution_count": null,
   "id": "fc14d9e2",
   "metadata": {},
   "outputs": [],
   "source": [
    "model2.fs.MB.gas_phase.properties[:, 0].flow_mol.unfix()\n",
    "model2.fs.MB.gas_phase.properties[0, 0].flow_mol.fix()\n",
    "model2.fs.MB.solid_phase.properties[:, 1].flow_mass.unfix()\n",
    "model2.fs.MB.solid_phase.properties[0, 1].flow_mass.fix()\n",
    "model2.piecewise_constant_constraints.activate()\n",
    "\n",
    "res = solver.solve(model2, tee=True)\n",
    "print(f\"Converged successfully: {pyo.check_optimal_termination(res)}\")"
   ]
  },
  {
   "cell_type": "markdown",
   "id": "fd8748b9",
   "metadata": {},
   "source": [
    "This doesn't look much better. What's going on? I thought we just fixed the issue?\n",
    "\n",
    "# Debugging the model, take two\n",
    "\n",
    "Let's check the diagnostics toolbox for numerical issues."
   ]
  },
  {
   "cell_type": "code",
   "execution_count": null,
   "id": "199e993e",
   "metadata": {},
   "outputs": [],
   "source": [
    "model2.fs.MB.gas_phase.properties[:, 0].flow_mol.fix()\n",
    "model2.fs.MB.solid_phase.properties[:, 1].flow_mass.fix()\n",
    "model2.piecewise_constant_constraints.deactivate()\n",
    "dt.report_numerical_issues()"
   ]
  },
  {
   "cell_type": "markdown",
   "id": "a2040b5b",
   "metadata": {},
   "source": [
    "Looks like we have \"parallel constraints\", which are another form of singularity. Let's follow the toolbox's advice to see what they are."
   ]
  },
  {
   "cell_type": "code",
   "execution_count": null,
   "id": "b8c21fd9-510c-455d-9360-9005710986b6",
   "metadata": {},
   "outputs": [],
   "source": [
    "dt.display_near_parallel_constraints()"
   ]
  },
  {
   "cell_type": "markdown",
   "id": "e2b8d8d3-344f-496e-9128-0aac83a445d1",
   "metadata": {},
   "source": [
    "`density_flowrate_constraint` is the constraint that we added. What is `solid_super_vel`?"
   ]
  },
  {
   "cell_type": "code",
   "execution_count": null,
   "id": "f845733e-a315-4833-b0a9-012cc75a3e48",
   "metadata": {},
   "outputs": [],
   "source": [
    "model2.fs.MB.solid_super_vel[0].pprint()"
   ]
  },
  {
   "cell_type": "markdown",
   "id": "0559c8c4",
   "metadata": {},
   "source": [
    "This is the same as the constraint we just added! Looks like that constraint already existed at the solid inlet. We can easily deactivate the new constraints at this point in the length domain:"
   ]
  },
  {
   "cell_type": "code",
   "execution_count": null,
   "id": "8f086a50",
   "metadata": {},
   "outputs": [],
   "source": [
    "model2.fs.MB.density_flowrate_constraint[:, 1.0].deactivate();"
   ]
  },
  {
   "cell_type": "markdown",
   "id": "9d257074",
   "metadata": {},
   "source": [
    "But now we have removed constraints from a square model, and expect to have degrees of freedom. Let's see what the diagnostics toolbox has to say."
   ]
  },
  {
   "cell_type": "code",
   "execution_count": null,
   "id": "c1af8b6c",
   "metadata": {},
   "outputs": [],
   "source": [
    "dt = DiagnosticsToolbox(model2)\n",
    "dt.report_structural_issues()"
   ]
  },
  {
   "cell_type": "markdown",
   "id": "0b27aee5",
   "metadata": {},
   "source": [
    "But this doesn't help us very much. We have some extraneous degrees of freedom, but with 8881 variables in the under-constrained subsystem, it will be difficult to tell what they are. After some thought (and model-specific intuition), we land on the conclusion that maybe we need to fix particle porosity at the solid inlet. Here, total flow rate is specified, and the `solid_super_vel` equation is using it to compute velocity. So we need `dens_mass_particle` to be known, which means we need `particle_porosity` to be fixed."
   ]
  },
  {
   "cell_type": "code",
   "execution_count": null,
   "id": "656ae921",
   "metadata": {},
   "outputs": [],
   "source": [
    "model2.fs.MB.particle_porosity[:, 1.0].fix();"
   ]
  },
  {
   "cell_type": "markdown",
   "id": "cbb89807",
   "metadata": {},
   "source": [
    "Let's run the diagnostics toolbox as a sanity check."
   ]
  },
  {
   "cell_type": "code",
   "execution_count": null,
   "id": "6cf86e28",
   "metadata": {},
   "outputs": [],
   "source": [
    "dt = DiagnosticsToolbox(model2)\n",
    "dt.report_structural_issues()\n",
    "dt.report_numerical_issues()"
   ]
  },
  {
   "cell_type": "markdown",
   "id": "016f8799",
   "metadata": {},
   "source": [
    "Looks good! Now we can release our degrees of freedom and try to solve again."
   ]
  },
  {
   "cell_type": "code",
   "execution_count": null,
   "id": "a2f83e2e",
   "metadata": {},
   "outputs": [],
   "source": [
    "model2.fs.MB.gas_phase.properties[:, 0].flow_mol.unfix()\n",
    "model2.fs.MB.gas_phase.properties[0, 0].flow_mol.fix()\n",
    "model2.fs.MB.solid_phase.properties[:, 1].flow_mass.unfix()\n",
    "model2.fs.MB.solid_phase.properties[0, 1].flow_mass.fix()\n",
    "model2.piecewise_constant_constraints.activate()\n",
    "\n",
    "res = solver.solve(model2, tee=True)\n",
    "print(f\"Converged successfully: {pyo.check_optimal_termination(res)}\")"
   ]
  },
  {
   "cell_type": "markdown",
   "id": "b8587acd",
   "metadata": {},
   "source": [
    "It worked! For the simple optimization problem we have set up, this solve looks a lot more like what we expect.\n",
    "\n",
    "# Takeaways from this tutorial\n",
    "What have we learned?\n",
    "1. IPOPT using non-zero regularization coefficients hints at a singular Jacobian (especially when \"L\"/\"l\" diagnostic tags are present).\n",
    "2. When this happens, start by calling `report_structural_issues` to check for a structural singularity. If this looks good, call `report_numerical_issues` to check for a numerical singularity.\n",
    "3. When debugging a structural singularity, decomposing a problem into subsystems that each should be nonsingular (e.g. unit models or points in time) is very useful.\n",
    "4. The solution to a structural singularity is often to relax a fixed parameter, add a constraint that was forgotten, remove a constraint that was redundant, or fix an extraneous degree of freedom.\n",
    "5. Model-specific intuition is usually necessary to diagnose and fix modeling issues. (If you're an algorithm developer, learn about the models you're using! If you don't understand your models, you don't understand your algorithms!)\n",
    "6. A modeling issue doesn't necessarily have a unique solution. This is especially true when the issue involves invalid assumptions.\n",
    "7. Debugging is an iterative process &mdash; fixing one issue can introduce another."
   ]
  },
  {
   "cell_type": "markdown",
   "id": "33983d41",
   "metadata": {},
   "source": [
    "# References\n",
    "\n",
    "[[1]] Okoli et al., \"A framework for the optimization of chemical looping combustion processes\". *Powder Tech*, 2020.\n",
    "\n",
    "[[2]] Parker and Biegler, \"Dynamic modeling and nonlinear model predictive control of a moving bed chemical looping combustion reactor\". *IFAC PapersOnline*, 2022.\n",
    "\n",
    "[[3]] Dulmage and Mendelsohn, \"Coverings of bipartite graphs\". *Can J. Math.*, 1958.\n",
    "\n",
    "[[4]] Pothen and Fan, \"Computing the block triangular form of a sparse matrix\". *ACM Trans. Math. Softw.*, 1990.\n",
    "\n",
    "[[5]] Parker et al., \"Applications of the Dulmage-Mendelsohn decomposition for debugging nonlinear optimization problems\". *Comp. Chem. Eng.*, 2023.\n",
    "\n",
    "[1]: https://www.sciencedirect.com/science/article/pii/S0032591019302803\n",
    "[2]: https://www.sciencedirect.com/science/article/pii/S2405896322008825\n",
    "[3]: https://www.cambridge.org/core/journals/canadian-journal-of-mathematics/article/coverings-of-bipartite-graphs/413735C5888AB542B92D0C4F402800B1\n",
    "[4]: https://dl.acm.org/doi/10.1145/98267.98287\n",
    "[5]: https://www.sciencedirect.com/science/article/pii/S0098135423002533\n"
   ]
  }
 ],
 "metadata": {
  "kernelspec": {
   "display_name": "Python 3 (ipykernel)",
   "language": "python",
   "name": "python3"
  },
  "language_info": {
   "codemirror_mode": {
    "name": "ipython",
    "version": 3
   },
   "file_extension": ".py",
   "mimetype": "text/x-python",
   "name": "python",
   "nbconvert_exporter": "python",
   "pygments_lexer": "ipython3",
   "version": "3.12.3"
  }
 },
 "nbformat": 4,
 "nbformat_minor": 5
}
