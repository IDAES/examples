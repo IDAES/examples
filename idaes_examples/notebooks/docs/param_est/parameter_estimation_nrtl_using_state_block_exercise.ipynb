{
 "cells": [
  {
   "cell_type": "code",
   "execution_count": 1,
   "metadata": {
    "tags": [
     "header",
     "hide-cell"
    ]
   },
   "outputs": [],
   "source": [
    "###############################################################################\n",
    "# The Institute for the Design of Advanced Energy Systems Integrated Platform\n",
    "# Framework (IDAES IP) was produced under the DOE Institute for the\n",
    "# Design of Advanced Energy Systems (IDAES).\n",
    "#\n",
    "# Copyright (c) 2018-2023 by the software owners: The Regents of the\n",
    "# University of California, through Lawrence Berkeley National Laboratory,\n",
    "# National Technology & Engineering Solutions of Sandia, LLC, Carnegie Mellon\n",
    "# University, West Virginia University Research Corporation, et al.\n",
    "# All rights reserved.  Please see the files COPYRIGHT.md and LICENSE.md\n",
    "# for full copyright and license information.\n",
    "###############################################################################"
   ]
  },
  {
   "cell_type": "markdown",
   "metadata": {},
   "source": [
    "# Parameter Estimation Using the NRTL State Block\n",
    "\n",
    "Author: Jaffer Ghouse  \n",
    "Maintainer: Andrew Lee  \n",
    "Updated: 2023-06-01  \n",
    "\n",
    "In this module, we use Pyomo's `parmest` tool in conjunction with IDAES models for parameter estimation. We demonstrate these tools by estimating the parameters associated with the NRTL property model for a benzene-toluene mixture. The NRTL model has 2 sets of parameters: the non-randomness parameter (`alpha_ij`) and the binary interaction parameter (`tau_ij`), where `i` and `j` are the pure component species. In this example, we only estimate the binary interaction parameter (`tau_ij`) for a given dataset. When estimating parameters associated with the property package, IDAES provides the flexibility of doing the parameter estimation by just using the state block or by using a unit model with a specified property package. This module will demonstrate parameter estimation by using only the state block. \n",
    "\n",
    "We will complete the following tasks:\n",
    "* Set up a method to return an initialized model\n",
    "* Set up the parameter estimation problem using `parmest`\n",
    "* Analyze the results\n",
    "* Demonstrate advanced features using `parmest`\n",
    "\n",
    "## Key links to documentation:\n",
    "* NRTL Model - https://idaes-pse.readthedocs.io/en/stable/reference_guides/model_libraries/generic/property_models/activity_coefficient.html\n",
    "* parmest - https://pyomo.readthedocs.io/en/stable/contributed_packages/parmest/index.html\n"
   ]
  },
  {
   "cell_type": "markdown",
   "metadata": {},
   "source": [
    "<div class=\"alert alert-block alert-info\">\n",
    "<b>Inline Exercise:</b>\n",
    "import `ConcreteModel` from Pyomo and `FlowsheetBlock` from IDAES. \n",
    "</div>"
   ]
  },
  {
   "cell_type": "code",
   "execution_count": 2,
   "metadata": {
    "tags": [
     "exercise"
    ]
   },
   "outputs": [],
   "source": [
    "# Todo: import ConcreteModel from pyomo.environ\n",
    "\n",
    "# Todo: import FlowsheetBlock from idaes.core"
   ]
  },
  {
   "cell_type": "markdown",
   "metadata": {},
   "source": [
    "In the next cell, we import the parameter block used in this module and the idaes logger. "
   ]
  },
  {
   "cell_type": "code",
   "execution_count": 3,
   "metadata": {
    "tags": []
   },
   "outputs": [],
   "source": [
    "from idaes.models.properties.activity_coeff_models.BTX_activity_coeff_VLE import (\n",
    "    BTXParameterBlock,\n",
    ")\n",
    "import idaes.logger as idaeslog"
   ]
  },
  {
   "cell_type": "markdown",
   "metadata": {},
   "source": [
    "In the next cell, we import `parmest` from Pyomo and the `pandas` package. We need `pandas` as `parmest` uses `pandas.dataframe` for handling the input data and the results."
   ]
  },
  {
   "cell_type": "code",
   "execution_count": 4,
   "metadata": {
    "tags": []
   },
   "outputs": [],
   "source": [
    "import pyomo.contrib.parmest.parmest as parmest\n",
    "import pandas as pd"
   ]
  },
  {
   "cell_type": "markdown",
   "metadata": {},
   "source": [
    "## Setting up an initialized model\n",
    "\n",
    "We need to provide a method that returns an initialized model to the `parmest` tool in Pyomo."
   ]
  },
  {
   "cell_type": "markdown",
   "metadata": {},
   "source": [
    "<div class=\"alert alert-block alert-info\">\n",
    "<b>Inline Exercise:</b>\n",
    "Using what you have learned from previous modules, fill in the missing code below to return an initialized IDAES model. \n",
    "</div>"
   ]
  },
  {
   "cell_type": "code",
   "execution_count": 5,
   "metadata": {
    "tags": [
     "exercise"
    ]
   },
   "outputs": [],
   "source": [
    "def NRTL_model(data):\n",
    "\n",
    "    # Todo: Create a ConcreteModel object\n",
    "\n",
    "    # Todo: Create FlowsheetBlock object\n",
    "\n",
    "    # Todo: Create a properties parameter object with the following options:\n",
    "    # \"valid_phase\": ('Liq', 'Vap')\n",
    "    # \"activity_coeff_model\": 'NRTL'\n",
    "\n",
    "    m.fs.state_block = m.fs.properties.build_state_block(defined_state=True)\n",
    "\n",
    "    # Fix the state variables on the state block\n",
    "    # hint: state variables exist on the state block i.e. on m.fs.state_block\n",
    "    m.fs.state_block.flow_mol.fix(1)\n",
    "    m.fs.state_block.temperature.fix(368)\n",
    "    m.fs.state_block.pressure.fix(101325)\n",
    "    m.fs.state_block.mole_frac_comp[\"benzene\"].fix(0.5)\n",
    "    m.fs.state_block.mole_frac_comp[\"toluene\"].fix(0.5)\n",
    "\n",
    "    # Fix NRTL specific parameters.\n",
    "\n",
    "    # non-randomness parameter - alpha_ij (set at 0.3, 0 if i=j)\n",
    "    m.fs.properties.alpha[\"benzene\", \"benzene\"].fix(0)\n",
    "    m.fs.properties.alpha[\"benzene\", \"toluene\"].fix(0.3)\n",
    "    m.fs.properties.alpha[\"toluene\", \"toluene\"].fix(0)\n",
    "    m.fs.properties.alpha[\"toluene\", \"benzene\"].fix(0.3)\n",
    "\n",
    "    # binary interaction parameter - tau_ij (0 if i=j, else to be estimated later but fixing to initialize)\n",
    "    m.fs.properties.tau[\"benzene\", \"benzene\"].fix(0)\n",
    "    m.fs.properties.tau[\"benzene\", \"toluene\"].fix(-0.9)\n",
    "    m.fs.properties.tau[\"toluene\", \"toluene\"].fix(0)\n",
    "    m.fs.properties.tau[\"toluene\", \"benzene\"].fix(1.4)\n",
    "\n",
    "    # Initialize the flash unit\n",
    "    m.fs.state_block.initialize(outlvl=idaeslog.INFO)\n",
    "\n",
    "    # Fix at actual temperature\n",
    "    if isinstance(data, dict) or isinstance(data, pd.Series):\n",
    "        m.fs.state_block.temperature.fix(float(data[\"temperature\"]))\n",
    "    elif isinstance(data, pd.DataFrame):\n",
    "        m.fs.state_block.temperature.fix(float(data.iloc[0][\"temperature\"]))\n",
    "    else:\n",
    "        raise ValueError(\"Unrecognized data type.\") \n",
    "\n",
    "    # Set bounds on variables to be estimated\n",
    "    m.fs.properties.tau[\"benzene\", \"toluene\"].setlb(-5)\n",
    "    m.fs.properties.tau[\"benzene\", \"toluene\"].setub(5)\n",
    "\n",
    "    m.fs.properties.tau[\"toluene\", \"benzene\"].setlb(-5)\n",
    "    m.fs.properties.tau[\"toluene\", \"benzene\"].setub(5)\n",
    "\n",
    "    # Return initialized flash model\n",
    "    return m"
   ]
  },
  {
   "cell_type": "markdown",
   "metadata": {},
   "source": [
    "## Parameter estimation using parmest"
   ]
  },
  {
   "cell_type": "markdown",
   "metadata": {},
   "source": [
    "In addition to providing a method to return an initialized model, the `parmest` tool needs the following:\n",
    "\n",
    "* List of variable names to be estimated\n",
    "* Dataset\n",
    "* Expression to compute the sum of squared errors\n"
   ]
  },
  {
   "cell_type": "markdown",
   "metadata": {},
   "source": [
    "In this example, we only estimate the binary interaction parameter (`tau_ij`). Given that this variable is usually indexed as `tau_ij = Var(component_list, component_list)`, there are 2*2=4 degrees of freedom. However, when i=j, the binary interaction parameter is 0. Therefore, in this problem, we estimate the binary interaction parameter for the following variables only:\n",
    "\n",
    "* fs.properties.tau['benzene', 'toluene']\n",
    "* fs.properties.tau['toluene', 'benzene']\n",
    "\n",
    "<div class=\"alert alert-block alert-info\">\n",
    "<b>Inline Exercise:</b>\n",
    "Create a list called `variable_name` with the above-mentioned variables declared as strings.\n",
    "</div>"
   ]
  },
  {
   "cell_type": "code",
   "execution_count": 6,
   "metadata": {
    "tags": [
     "exercise"
    ]
   },
   "outputs": [],
   "source": [
    "# Todo: Create a list of vars to estimate"
   ]
  },
  {
   "cell_type": "markdown",
   "metadata": {},
   "source": [
    "Pyomo's `parmest` tool supports the following data formats:\n",
    "- pandas dataframe\n",
    "- list of dictionaries\n",
    "- list of json file names.\n",
    "\n",
    "Please see the documentation for more details. \n",
    "\n",
    "For this example, we load data from the csv file `BT_NRTL_dataset.csv`. The dataset consists of fifty data points which provide the mole fraction of benzene in the vapor and liquid phase as a function of temperature. "
   ]
  },
  {
   "cell_type": "code",
   "execution_count": 7,
   "metadata": {
    "tags": []
   },
   "outputs": [
    {
     "data": {
      "text/html": [
       "<div>\n",
       "<style scoped>\n",
       "    .dataframe tbody tr th:only-of-type {\n",
       "        vertical-align: middle;\n",
       "    }\n",
       "\n",
       "    .dataframe tbody tr th {\n",
       "        vertical-align: top;\n",
       "    }\n",
       "\n",
       "    .dataframe thead th {\n",
       "        text-align: right;\n",
       "    }\n",
       "</style>\n",
       "<table border=\"1\" class=\"dataframe\">\n",
       "  <thead>\n",
       "    <tr style=\"text-align: right;\">\n",
       "      <th></th>\n",
       "      <th>temperature</th>\n",
       "      <th>liq_benzene</th>\n",
       "      <th>vap_benzene</th>\n",
       "    </tr>\n",
       "  </thead>\n",
       "  <tbody>\n",
       "    <tr>\n",
       "      <th>0</th>\n",
       "      <td>365.500000</td>\n",
       "      <td>0.480953</td>\n",
       "      <td>0.692110</td>\n",
       "    </tr>\n",
       "    <tr>\n",
       "      <th>1</th>\n",
       "      <td>365.617647</td>\n",
       "      <td>0.462444</td>\n",
       "      <td>0.667699</td>\n",
       "    </tr>\n",
       "    <tr>\n",
       "      <th>2</th>\n",
       "      <td>365.735294</td>\n",
       "      <td>0.477984</td>\n",
       "      <td>0.692441</td>\n",
       "    </tr>\n",
       "    <tr>\n",
       "      <th>3</th>\n",
       "      <td>365.852941</td>\n",
       "      <td>0.440547</td>\n",
       "      <td>0.640336</td>\n",
       "    </tr>\n",
       "    <tr>\n",
       "      <th>4</th>\n",
       "      <td>365.970588</td>\n",
       "      <td>0.427421</td>\n",
       "      <td>0.623328</td>\n",
       "    </tr>\n",
       "    <tr>\n",
       "      <th>5</th>\n",
       "      <td>366.088235</td>\n",
       "      <td>0.442725</td>\n",
       "      <td>0.647796</td>\n",
       "    </tr>\n",
       "    <tr>\n",
       "      <th>6</th>\n",
       "      <td>366.205882</td>\n",
       "      <td>0.434374</td>\n",
       "      <td>0.637691</td>\n",
       "    </tr>\n",
       "    <tr>\n",
       "      <th>7</th>\n",
       "      <td>366.323529</td>\n",
       "      <td>0.444642</td>\n",
       "      <td>0.654933</td>\n",
       "    </tr>\n",
       "    <tr>\n",
       "      <th>8</th>\n",
       "      <td>366.441176</td>\n",
       "      <td>0.427132</td>\n",
       "      <td>0.631229</td>\n",
       "    </tr>\n",
       "    <tr>\n",
       "      <th>9</th>\n",
       "      <td>366.558824</td>\n",
       "      <td>0.446301</td>\n",
       "      <td>0.661743</td>\n",
       "    </tr>\n",
       "    <tr>\n",
       "      <th>10</th>\n",
       "      <td>366.676471</td>\n",
       "      <td>0.438004</td>\n",
       "      <td>0.651591</td>\n",
       "    </tr>\n",
       "    <tr>\n",
       "      <th>11</th>\n",
       "      <td>366.794118</td>\n",
       "      <td>0.425320</td>\n",
       "      <td>0.634814</td>\n",
       "    </tr>\n",
       "    <tr>\n",
       "      <th>12</th>\n",
       "      <td>366.911765</td>\n",
       "      <td>0.439435</td>\n",
       "      <td>0.658047</td>\n",
       "    </tr>\n",
       "    <tr>\n",
       "      <th>13</th>\n",
       "      <td>367.029412</td>\n",
       "      <td>0.435655</td>\n",
       "      <td>0.654539</td>\n",
       "    </tr>\n",
       "    <tr>\n",
       "      <th>14</th>\n",
       "      <td>367.147059</td>\n",
       "      <td>0.401350</td>\n",
       "      <td>0.604987</td>\n",
       "    </tr>\n",
       "    <tr>\n",
       "      <th>15</th>\n",
       "      <td>367.264706</td>\n",
       "      <td>0.397862</td>\n",
       "      <td>0.601703</td>\n",
       "    </tr>\n",
       "    <tr>\n",
       "      <th>16</th>\n",
       "      <td>367.382353</td>\n",
       "      <td>0.415821</td>\n",
       "      <td>0.630930</td>\n",
       "    </tr>\n",
       "    <tr>\n",
       "      <th>17</th>\n",
       "      <td>367.500000</td>\n",
       "      <td>0.420667</td>\n",
       "      <td>0.640380</td>\n",
       "    </tr>\n",
       "    <tr>\n",
       "      <th>18</th>\n",
       "      <td>367.617647</td>\n",
       "      <td>0.391683</td>\n",
       "      <td>0.598214</td>\n",
       "    </tr>\n",
       "    <tr>\n",
       "      <th>19</th>\n",
       "      <td>367.735294</td>\n",
       "      <td>0.404903</td>\n",
       "      <td>0.620432</td>\n",
       "    </tr>\n",
       "    <tr>\n",
       "      <th>20</th>\n",
       "      <td>367.852941</td>\n",
       "      <td>0.409563</td>\n",
       "      <td>0.629626</td>\n",
       "    </tr>\n",
       "    <tr>\n",
       "      <th>21</th>\n",
       "      <td>367.970588</td>\n",
       "      <td>0.389488</td>\n",
       "      <td>0.600722</td>\n",
       "    </tr>\n",
       "    <tr>\n",
       "      <th>22</th>\n",
       "      <td>368.000000</td>\n",
       "      <td>0.396789</td>\n",
       "      <td>0.612483</td>\n",
       "    </tr>\n",
       "    <tr>\n",
       "      <th>23</th>\n",
       "      <td>368.088235</td>\n",
       "      <td>0.398162</td>\n",
       "      <td>0.616106</td>\n",
       "    </tr>\n",
       "    <tr>\n",
       "      <th>24</th>\n",
       "      <td>368.205882</td>\n",
       "      <td>0.362340</td>\n",
       "      <td>0.562505</td>\n",
       "    </tr>\n",
       "    <tr>\n",
       "      <th>25</th>\n",
       "      <td>368.323529</td>\n",
       "      <td>0.386958</td>\n",
       "      <td>0.602680</td>\n",
       "    </tr>\n",
       "    <tr>\n",
       "      <th>26</th>\n",
       "      <td>368.441176</td>\n",
       "      <td>0.363643</td>\n",
       "      <td>0.568210</td>\n",
       "    </tr>\n",
       "    <tr>\n",
       "      <th>27</th>\n",
       "      <td>368.558824</td>\n",
       "      <td>0.368118</td>\n",
       "      <td>0.577072</td>\n",
       "    </tr>\n",
       "    <tr>\n",
       "      <th>28</th>\n",
       "      <td>368.676471</td>\n",
       "      <td>0.384098</td>\n",
       "      <td>0.604078</td>\n",
       "    </tr>\n",
       "    <tr>\n",
       "      <th>29</th>\n",
       "      <td>368.794118</td>\n",
       "      <td>0.353605</td>\n",
       "      <td>0.557925</td>\n",
       "    </tr>\n",
       "    <tr>\n",
       "      <th>30</th>\n",
       "      <td>368.911765</td>\n",
       "      <td>0.346474</td>\n",
       "      <td>0.548445</td>\n",
       "    </tr>\n",
       "    <tr>\n",
       "      <th>31</th>\n",
       "      <td>369.029412</td>\n",
       "      <td>0.350741</td>\n",
       "      <td>0.556996</td>\n",
       "    </tr>\n",
       "    <tr>\n",
       "      <th>32</th>\n",
       "      <td>369.147059</td>\n",
       "      <td>0.362347</td>\n",
       "      <td>0.577286</td>\n",
       "    </tr>\n",
       "    <tr>\n",
       "      <th>33</th>\n",
       "      <td>369.264706</td>\n",
       "      <td>0.362578</td>\n",
       "      <td>0.579519</td>\n",
       "    </tr>\n",
       "    <tr>\n",
       "      <th>34</th>\n",
       "      <td>369.382353</td>\n",
       "      <td>0.340765</td>\n",
       "      <td>0.546411</td>\n",
       "    </tr>\n",
       "    <tr>\n",
       "      <th>35</th>\n",
       "      <td>369.500000</td>\n",
       "      <td>0.337462</td>\n",
       "      <td>0.542857</td>\n",
       "    </tr>\n",
       "    <tr>\n",
       "      <th>36</th>\n",
       "      <td>369.617647</td>\n",
       "      <td>0.355729</td>\n",
       "      <td>0.574083</td>\n",
       "    </tr>\n",
       "    <tr>\n",
       "      <th>37</th>\n",
       "      <td>369.735294</td>\n",
       "      <td>0.348679</td>\n",
       "      <td>0.564513</td>\n",
       "    </tr>\n",
       "    <tr>\n",
       "      <th>38</th>\n",
       "      <td>369.852941</td>\n",
       "      <td>0.338187</td>\n",
       "      <td>0.549284</td>\n",
       "    </tr>\n",
       "    <tr>\n",
       "      <th>39</th>\n",
       "      <td>369.970588</td>\n",
       "      <td>0.324360</td>\n",
       "      <td>0.528514</td>\n",
       "    </tr>\n",
       "    <tr>\n",
       "      <th>40</th>\n",
       "      <td>370.088235</td>\n",
       "      <td>0.310753</td>\n",
       "      <td>0.507964</td>\n",
       "    </tr>\n",
       "    <tr>\n",
       "      <th>41</th>\n",
       "      <td>370.205882</td>\n",
       "      <td>0.311037</td>\n",
       "      <td>0.510055</td>\n",
       "    </tr>\n",
       "    <tr>\n",
       "      <th>42</th>\n",
       "      <td>370.323529</td>\n",
       "      <td>0.311263</td>\n",
       "      <td>0.512055</td>\n",
       "    </tr>\n",
       "    <tr>\n",
       "      <th>43</th>\n",
       "      <td>370.441176</td>\n",
       "      <td>0.308081</td>\n",
       "      <td>0.508437</td>\n",
       "    </tr>\n",
       "    <tr>\n",
       "      <th>44</th>\n",
       "      <td>370.558824</td>\n",
       "      <td>0.308224</td>\n",
       "      <td>0.510293</td>\n",
       "    </tr>\n",
       "    <tr>\n",
       "      <th>45</th>\n",
       "      <td>370.676471</td>\n",
       "      <td>0.318148</td>\n",
       "      <td>0.528399</td>\n",
       "    </tr>\n",
       "    <tr>\n",
       "      <th>46</th>\n",
       "      <td>370.794118</td>\n",
       "      <td>0.308334</td>\n",
       "      <td>0.513728</td>\n",
       "    </tr>\n",
       "    <tr>\n",
       "      <th>47</th>\n",
       "      <td>370.911765</td>\n",
       "      <td>0.317937</td>\n",
       "      <td>0.531410</td>\n",
       "    </tr>\n",
       "    <tr>\n",
       "      <th>48</th>\n",
       "      <td>371.029412</td>\n",
       "      <td>0.289149</td>\n",
       "      <td>0.484824</td>\n",
       "    </tr>\n",
       "    <tr>\n",
       "      <th>49</th>\n",
       "      <td>371.147059</td>\n",
       "      <td>0.298637</td>\n",
       "      <td>0.502318</td>\n",
       "    </tr>\n",
       "  </tbody>\n",
       "</table>\n",
       "</div>"
      ],
      "text/plain": [
       "    temperature  liq_benzene  vap_benzene\n",
       "0    365.500000     0.480953     0.692110\n",
       "1    365.617647     0.462444     0.667699\n",
       "2    365.735294     0.477984     0.692441\n",
       "3    365.852941     0.440547     0.640336\n",
       "4    365.970588     0.427421     0.623328\n",
       "5    366.088235     0.442725     0.647796\n",
       "6    366.205882     0.434374     0.637691\n",
       "7    366.323529     0.444642     0.654933\n",
       "8    366.441176     0.427132     0.631229\n",
       "9    366.558824     0.446301     0.661743\n",
       "10   366.676471     0.438004     0.651591\n",
       "11   366.794118     0.425320     0.634814\n",
       "12   366.911765     0.439435     0.658047\n",
       "13   367.029412     0.435655     0.654539\n",
       "14   367.147059     0.401350     0.604987\n",
       "15   367.264706     0.397862     0.601703\n",
       "16   367.382353     0.415821     0.630930\n",
       "17   367.500000     0.420667     0.640380\n",
       "18   367.617647     0.391683     0.598214\n",
       "19   367.735294     0.404903     0.620432\n",
       "20   367.852941     0.409563     0.629626\n",
       "21   367.970588     0.389488     0.600722\n",
       "22   368.000000     0.396789     0.612483\n",
       "23   368.088235     0.398162     0.616106\n",
       "24   368.205882     0.362340     0.562505\n",
       "25   368.323529     0.386958     0.602680\n",
       "26   368.441176     0.363643     0.568210\n",
       "27   368.558824     0.368118     0.577072\n",
       "28   368.676471     0.384098     0.604078\n",
       "29   368.794118     0.353605     0.557925\n",
       "30   368.911765     0.346474     0.548445\n",
       "31   369.029412     0.350741     0.556996\n",
       "32   369.147059     0.362347     0.577286\n",
       "33   369.264706     0.362578     0.579519\n",
       "34   369.382353     0.340765     0.546411\n",
       "35   369.500000     0.337462     0.542857\n",
       "36   369.617647     0.355729     0.574083\n",
       "37   369.735294     0.348679     0.564513\n",
       "38   369.852941     0.338187     0.549284\n",
       "39   369.970588     0.324360     0.528514\n",
       "40   370.088235     0.310753     0.507964\n",
       "41   370.205882     0.311037     0.510055\n",
       "42   370.323529     0.311263     0.512055\n",
       "43   370.441176     0.308081     0.508437\n",
       "44   370.558824     0.308224     0.510293\n",
       "45   370.676471     0.318148     0.528399\n",
       "46   370.794118     0.308334     0.513728\n",
       "47   370.911765     0.317937     0.531410\n",
       "48   371.029412     0.289149     0.484824\n",
       "49   371.147059     0.298637     0.502318"
      ]
     },
     "metadata": {},
     "output_type": "display_data"
    }
   ],
   "source": [
    "# Load data from csv\n",
    "data = pd.read_csv(\"BT_NRTL_dataset.csv\")\n",
    "\n",
    "# Display the dataset\n",
    "display(data)"
   ]
  },
  {
   "cell_type": "markdown",
   "metadata": {},
   "source": [
    "We need to provide a method to return an expression to compute the sum of squared errors that will be used as the objective in solving the parameter estimation problem. For this problem, the error will be computed for the mole fraction of benzene in the vapor and liquid phase between the model prediction and data. \n",
    "\n",
    "<div class=\"alert alert-block alert-info\">\n",
    "<b>Inline Exercise:</b>\n",
    "Complete the following cell by adding an expression to compute the sum of square errors. \n",
    "</div>"
   ]
  },
  {
   "cell_type": "code",
   "execution_count": 8,
   "metadata": {
    "tags": [
     "exercise"
    ]
   },
   "outputs": [],
   "source": [
    "# Create method to return an expression that computes the sum of squared error\n",
    "def SSE(m, data):\n",
    "    # Todo: Add expression for computing the sum of squared errors in mole fraction of benzene in the liquid\n",
    "    # and vapor phase. For example, the squared error for the vapor phase is:\n",
    "    # (float(data[\"vap_benzene\"]) - m.fs.state_block.mole_frac_phase_comp[\"Vap\", \"benzene\"])**2\n",
    "\n",
    "    return expr * 1e4"
   ]
  },
  {
   "cell_type": "markdown",
   "metadata": {},
   "source": [
    "<div class=\"alert alert-block alert-warning\">\n",
    "<b>Note:</b>\n",
    "Notice that we have scaled the expression up by a factor of 10000 as the SSE computed here will be an extremely small number given that we are using the difference in mole fraction in our expression. This will help in using a well-scaled objective to improve solve robustness when using IPOPT. \n",
    "</div>\n"
   ]
  },
  {
   "cell_type": "markdown",
   "metadata": {},
   "source": [
    "We are now ready to set up the parameter estimation problem. We will create a parameter estimation object called `pest`. As shown below, we pass the method that returns an initialized model, data, variable_name, and the SSE expression to the Estimator method. `tee=True` will print the solver output after solving the parameter estimation problem.  "
   ]
  },
  {
   "cell_type": "code",
   "execution_count": 9,
   "metadata": {},
   "outputs": [
    {
     "ename": "NameError",
     "evalue": "name 'variable_name' is not defined",
     "output_type": "error",
     "traceback": [
      "\u001b[1;31m---------------------------------------------------------------------------\u001b[0m",
      "\u001b[1;31mNameError\u001b[0m                                 Traceback (most recent call last)",
      "Cell \u001b[1;32mIn[9], line 5\u001b[0m\n\u001b[0;32m      3\u001b[0m idaeslog\u001b[38;5;241m.\u001b[39mgetIdaesLogger(\u001b[38;5;124m\"\u001b[39m\u001b[38;5;124mcore.property_meta\u001b[39m\u001b[38;5;124m\"\u001b[39m)\u001b[38;5;241m.\u001b[39msetLevel(logging\u001b[38;5;241m.\u001b[39mERROR)\n\u001b[0;32m      4\u001b[0m \u001b[38;5;66;03m# Initialize a parameter estimation object\u001b[39;00m\n\u001b[1;32m----> 5\u001b[0m pest \u001b[38;5;241m=\u001b[39m parmest\u001b[38;5;241m.\u001b[39mEstimator(NRTL_model, data, \u001b[43mvariable_name\u001b[49m, SSE, tee\u001b[38;5;241m=\u001b[39m\u001b[38;5;28;01mTrue\u001b[39;00m)\n\u001b[0;32m      7\u001b[0m \u001b[38;5;66;03m# Run parameter estimation using all data\u001b[39;00m\n\u001b[0;32m      8\u001b[0m obj_value, parameters \u001b[38;5;241m=\u001b[39m pest\u001b[38;5;241m.\u001b[39mtheta_est()\n",
      "\u001b[1;31mNameError\u001b[0m: name 'variable_name' is not defined"
     ]
    }
   ],
   "source": [
    "import logging\n",
    "\n",
    "idaeslog.getIdaesLogger(\"core.property_meta\").setLevel(logging.ERROR)\n",
    "# Initialize a parameter estimation object\n",
    "pest = parmest.Estimator(NRTL_model, data, variable_name, SSE, tee=True)\n",
    "\n",
    "# Run parameter estimation using all data\n",
    "obj_value, parameters = pest.theta_est()"
   ]
  },
  {
   "cell_type": "markdown",
   "metadata": {},
   "source": [
    "You will notice that the resulting parameter estimation problem will have 1102 variables and 1100 constraints. Let us display the results by running the next cell. "
   ]
  },
  {
   "cell_type": "code",
   "execution_count": null,
   "metadata": {},
   "outputs": [],
   "source": [
    "print(\"The SSE at the optimal solution is %0.6f\" % (obj_value * 1e-4))\n",
    "print()\n",
    "print(\"The values for the parameters are as follows:\")\n",
    "for k, v in parameters.items():\n",
    "    print(k, \"=\", v)"
   ]
  },
  {
   "cell_type": "markdown",
   "metadata": {},
   "source": [
    "Using the data that was provided, we have estimated the binary interaction parameters in the NRTL model for a benzene-toluene mixture. Although the dataset that was provided was temperature dependent, in this example we have estimated a single value that fits best for all temperatures."
   ]
  },
  {
   "cell_type": "markdown",
   "metadata": {},
   "source": [
    "### Advanced options for parmest: bootstrapping\n",
    "\n"
   ]
  },
  {
   "cell_type": "markdown",
   "metadata": {},
   "source": [
    "Pyomo's `parmest` tool allows for bootstrapping where the parameter estimation is repeated over `n` samples with resampling from the original data set. Parameter estimation with bootstrap resampling can be used to identify confidence regions around each parameter estimate.  This analysis can be slow given the increased number of model instances that need to be solved. Please refer to https://pyomo.readthedocs.io/en/stable/contributed_packages/parmest/driver.html for more details. \n",
    "\n",
    "For the example above, the bootstrapping can be run by uncommenting the code in the following cell:"
   ]
  },
  {
   "cell_type": "code",
   "execution_count": null,
   "metadata": {},
   "outputs": [],
   "source": [
    "# Run parameter estimation using bootstrap resample of the data (10 samples),\n",
    "# plot results along with confidence regions\n",
    "\n",
    "# Uncomment the following code:\n",
    "# bootstrap_theta = pest.theta_est_bootstrap(4)\n",
    "# display(bootstrap_theta)"
   ]
  }
 ],
 "metadata": {
  "celltoolbar": "Tags",
  "kernelspec": {
   "display_name": "Python 3 (ipykernel)",
   "language": "python",
   "name": "python3"
  },
  "language_info": {
   "codemirror_mode": {
    "name": "ipython",
    "version": 3
   },
   "file_extension": ".py",
   "mimetype": "text/x-python",
   "name": "python",
   "nbconvert_exporter": "python",
   "pygments_lexer": "ipython3",
   "version": "3.8.19"
  }
 },
 "nbformat": 4,
 "nbformat_minor": 4
}
