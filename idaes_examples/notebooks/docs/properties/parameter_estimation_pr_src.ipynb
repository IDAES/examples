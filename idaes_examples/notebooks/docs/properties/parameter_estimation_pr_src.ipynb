{
 "cells": [
  {
   "cell_type": "code",
   "execution_count": null,
   "id": "6deb7578",
   "metadata": {
    "tags": [
     "header",
     "hide-cell"
    ]
   },
   "outputs": [],
   "source": [
    "###############################################################################\n",
    "# The Institute for the Design of Advanced Energy Systems Integrated Platform\n",
    "# Framework (IDAES IP) was produced under the DOE Institute for the\n",
    "# Design of Advanced Energy Systems (IDAES).\n",
    "#\n",
    "# Copyright (c) 2018-2023 by the software owners: The Regents of the\n",
    "# University of California, through Lawrence Berkeley National Laboratory,\n",
    "# National Technology & Engineering Solutions of Sandia, LLC, Carnegie Mellon\n",
    "# University, West Virginia University Research Corporation, et al.\n",
    "# All rights reserved.  Please see the files COPYRIGHT.md and LICENSE.md\n",
    "# for full copyright and license information.\n",
    "###############################################################################"
   ]
  },
  {
   "cell_type": "markdown",
   "metadata": {},
   "source": [
    "# Using Parameter Estimation with Modular Property Packages"
   ]
  },
  {
   "cell_type": "markdown",
   "metadata": {},
   "source": [
    "## 1. Introduction\n",
    "\n",
    "This Jupyter Notebook estimates binary interaction parameters for a CO$_2$-Ionic liquid property package. A property package has been created for CO$_2$-[bmim][PF6]. We will utilize Pyomo's `parmest` tool in conjuction with IDAES models for parameter estimation. We demonstrate these tools by estimating the parameters associated with the Peng-Robinson property model for a benzene-toluene mixture. The Peng-Robinson EOS the binary interaction parameter (kappa_ij). When estimating parameters associated with the property package, IDAES provides the flexibility of doing the parameter estimation by just using the state block or by using a unit model with a specified property package. This module will demonstrate parameter estimation by using the flash unit model with a Modular Property Package.\n",
    "\n",
    "### 1.1 Tutorial objectives\n",
    "\n",
    "* Utilize the Modular Property Package framework, which provides a flexible platform for users to build property packages by calling upon libraries of modular sub-models to build up complex property calculations with the least effort possible.\n",
    "* Set up a method to return an initialized model\n",
    "* Set up the parameter estimation problem using `parmest`"
   ]
  },
  {
   "cell_type": "markdown",
   "metadata": {},
   "source": [
    "## 2. Problem Statement\n",
    "\n",
    "### 2.1 Importing Pyomo and IDAES model and flowsheet components.\n",
    "\n",
    "In the next cell, we will be importing the necessary components from Pyomo and IDAES."
   ]
  },
  {
   "cell_type": "code",
   "execution_count": 1,
   "metadata": {},
   "outputs": [],
   "source": [
    "# Import objects from pyomo package\n",
    "from pyomo.environ import ConcreteModel, SolverFactory, units as pyunits\n",
    "\n",
    "# Import the main FlowsheetBlock from IDAES. The flowsheet block will contain the unit model\n",
    "from idaes.core import FlowsheetBlock\n",
    "\n",
    "# Import idaes logger to set output levels\n",
    "import idaes.logger as idaeslog\n",
    "\n",
    "# Import Flash unit model from idaes.models.unit_models\n",
    "from idaes.models.unit_models import Flash"
   ]
  },
  {
   "cell_type": "markdown",
   "metadata": {},
   "source": [
    "### 2.2 Import parmest "
   ]
  },
  {
   "cell_type": "code",
   "execution_count": 2,
   "metadata": {},
   "outputs": [],
   "source": [
    "import pyomo.contrib.parmest.parmest as parmest"
   ]
  },
  {
   "cell_type": "markdown",
   "metadata": {},
   "source": [
    "### 2.3 Import the Modular Property framework"
   ]
  },
  {
   "cell_type": "code",
   "execution_count": 3,
   "metadata": {},
   "outputs": [],
   "source": [
    "from idaes.models.properties.modular_properties.examples.CO2_bmimPF6_PR import (\n",
    "    configuration,\n",
    ")\n",
    "\n",
    "from idaes.models.properties.modular_properties import GenericParameterBlock"
   ]
  },
  {
   "cell_type": "markdown",
   "metadata": {},
   "source": [
    "### 2.4 Import data\n",
    "\n",
    "In the next cell, we will be importing `pandas` and the `.csv` file with preassure and composition data. For this example, we load data from the csv file CO2_IL_298.csv. The dataset consists of ninteen data points which provide the mole fraction of [bmim][PF6] and carbon dioxide and the pressure at three different temperatures."
   ]
  },
  {
   "cell_type": "code",
   "execution_count": 4,
   "metadata": {},
   "outputs": [],
   "source": [
    "import pandas as pd\n",
    "\n",
    "# Load data from csv\n",
    "data = pd.read_csv(\"CO2_IL_298.csv\")"
   ]
  },
  {
   "cell_type": "markdown",
   "metadata": {},
   "source": [
    "## 3.0 Setting up an initialized model\n",
    "\n",
    "We need to provide a method that returns an initialized model to the `parmest` tool in Pyomo.\n",
    "\n",
    "How we build the model will depend on the data we provided in the data dataframe from pir .csv file.\n",
    "\n",
    "In this case we have data on the liquid mixture, the temperature and the pressure. We will fix the temperature, mole franction in the liquid phase, and the mole fraction of the inlet. "
   ]
  },
  {
   "cell_type": "code",
   "execution_count": 5,
   "metadata": {},
   "outputs": [],
   "source": [
    "def PR_model(data):\n",
    "\n",
    "    m = ConcreteModel()\n",
    "\n",
    "    m.fs = FlowsheetBlock(dynamic=False)\n",
    "\n",
    "    m.fs.properties = GenericParameterBlock(**configuration)\n",
    "\n",
    "    m.fs.state_block = m.fs.properties.build_state_block([1], defined_state=True)\n",
    "\n",
    "    m.fs.state_block[1].flow_mol.fix(1)\n",
    "    x = float(data[\"x_carbon_dioxide\"]) + 0.5\n",
    "    m.fs.state_block[1].temperature.fix(float(data[\"temperature\"]))\n",
    "    m.fs.state_block[1].pressure.fix(float(data[\"pressure\"]))\n",
    "    m.fs.state_block[1].mole_frac_comp[\"bmimPF6\"].fix(1 - x)\n",
    "    m.fs.state_block[1].mole_frac_comp[\"carbon_dioxide\"].fix(x)\n",
    "\n",
    "    # parameter - kappa_ij (set at 0.3, 0 if i=j)\n",
    "    m.fs.properties.PR_kappa[\"bmimPF6\", \"bmimPF6\"].fix(0)\n",
    "    m.fs.properties.PR_kappa[\"bmimPF6\", \"carbon_dioxide\"].fix(-0.047)\n",
    "    m.fs.properties.PR_kappa[\"carbon_dioxide\", \"carbon_dioxide\"].fix(0)\n",
    "    m.fs.properties.PR_kappa[\"carbon_dioxide\", \"bmimPF6\"].fix(0.002)\n",
    "\n",
    "    # Initialize the flash unit\n",
    "    m.fs.state_block.initialize(outlvl=idaeslog.INFO)\n",
    "\n",
    "    # Fix the state variables on the state block\n",
    "    m.fs.state_block[1].pressure.unfix()\n",
    "    m.fs.state_block[1].temperature.fix(float(data[\"temperature\"]))\n",
    "    m.fs.state_block[1].mole_frac_phase_comp[\"Liq\", \"bmimPF6\"].fix(\n",
    "        float(data[\"x_bmimPF6\"])\n",
    "    )\n",
    "    m.fs.state_block[1].mole_frac_phase_comp[\"Liq\", \"carbon_dioxide\"].fix(\n",
    "        float(data[\"x_carbon_dioxide\"])\n",
    "    )\n",
    "    m.fs.state_block[1].mole_frac_comp[\"bmimPF6\"].fix(float(data[\"x_bmimPF6\"]))\n",
    "    m.fs.state_block[1].mole_frac_comp[\"carbon_dioxide\"].unfix()\n",
    "    # Set bounds on variables to be estimated\n",
    "    m.fs.properties.PR_kappa[\"bmimPF6\", \"carbon_dioxide\"].setlb(-5)\n",
    "    m.fs.properties.PR_kappa[\"bmimPF6\", \"carbon_dioxide\"].setub(5)\n",
    "\n",
    "    m.fs.properties.PR_kappa[\"carbon_dioxide\", \"bmimPF6\"].setlb(-5)\n",
    "    m.fs.properties.PR_kappa[\"carbon_dioxide\", \"bmimPF6\"].setub(5)\n",
    "\n",
    "    # Return initialized flash model\n",
    "    return m"
   ]
  },
  {
   "cell_type": "markdown",
   "metadata": {},
   "source": [
    "### 3.1 Solving square problem"
   ]
  },
  {
   "cell_type": "code",
   "execution_count": 6,
   "metadata": {
    "scrolled": false
   },
   "outputs": [],
   "source": [
    "from idaes.core.util.model_statistics import degrees_of_freedom\n",
    "import pytest\n",
    "\n",
    "test_data = {\n",
    "    \"temperature\": 298,\n",
    "    \"pressure\": 812323,\n",
    "    \"x_bmimPF6\": 0.86,\n",
    "    \"x_carbon_dioxide\": 0.14,\n",
    "}\n",
    "\n",
    "m = PR_model(test_data)\n",
    "\n",
    "# Check that degrees of freedom is 0\n",
    "assert degrees_of_freedom(m) == 0"
   ]
  },
  {
   "cell_type": "markdown",
   "metadata": {},
   "source": [
    "## 4.0 Parameter estimation using parmest \n",
    "\n",
    "### 4.1 List of variable names to be estimated\n",
    "\n",
    "Create a list of vars to estimate"
   ]
  },
  {
   "cell_type": "code",
   "execution_count": 7,
   "metadata": {},
   "outputs": [],
   "source": [
    "variable_name = [\n",
    "    \"fs.properties.PR_kappa['bmimPF6', 'carbon_dioxide']\",\n",
    "    \"fs.properties.PR_kappa['carbon_dioxide', 'bmimPF6']\",\n",
    "]"
   ]
  },
  {
   "cell_type": "markdown",
   "metadata": {},
   "source": [
    "### 4.2 Create method to return an expression that computes the sum of squared error\n",
    "\n",
    "We need to provide a method to return an expression to compute the sum of squared errors that will be used as the objective in solving the parameter estimation problem. For this problem, the error will be computed for the pressure."
   ]
  },
  {
   "cell_type": "code",
   "execution_count": 8,
   "metadata": {},
   "outputs": [],
   "source": [
    "def SSE(m, data):\n",
    "    expr = (float(data[\"pressure\"]) - m.fs.state_block[1].pressure) ** 2\n",
    "    return expr * 1e-7"
   ]
  },
  {
   "cell_type": "markdown",
   "metadata": {},
   "source": [
    "### 4.3 Run the parameter estimation\n",
    "\n",
    "We are now ready to set up the parameter estimation problem. We will create a parameter estimation object called pest. As shown below, we pass the method that returns an initialized model, data, variable_name, and the SSE expression to the Estimator method. tee=True will print the solver output after solving the parameter estimation problem."
   ]
  },
  {
   "cell_type": "code",
   "execution_count": 9,
   "metadata": {
    "scrolled": false
   },
   "outputs": [],
   "source": [
    "pest = parmest.Estimator(PR_model, data, variable_name, SSE, tee=True)\n",
    "\n",
    "obj_value, parameters = pest.theta_est()"
   ]
  },
  {
   "cell_type": "markdown",
   "metadata": {},
   "source": [
    "## 5.0 Display results\n",
    "\n",
    "Let us display the results by running the next cell."
   ]
  },
  {
   "cell_type": "code",
   "execution_count": 10,
   "metadata": {},
   "outputs": [],
   "source": [
    "print(\"The SSE at the optimal solution is %0.6f\" % obj_value)\n",
    "print()\n",
    "print(\"The values for the parameters are as follows:\")\n",
    "for k, v in parameters.items():\n",
    "    print(k, \"=\", v)"
   ]
  },
  {
   "cell_type": "markdown",
   "metadata": {},
   "source": [
    "Now we can use this parameters and include them in the configuration dictionary. We can also use `m.fs.properties = GenericParameterBlock(**configuration)` to solve unit models."
   ]
  },
  {
   "cell_type": "code",
   "execution_count": null,
   "metadata": {},
   "outputs": [],
   "source": []
  }
 ],
 "metadata": {
  "kernelspec": {
   "display_name": "Python 3 (ipykernel)",
   "language": "python",
   "name": "python3"
  },
  "language_info": {
   "codemirror_mode": {
    "name": "ipython",
    "version": 3
   },
   "file_extension": ".py",
   "mimetype": "text/x-python",
   "name": "python",
   "nbconvert_exporter": "python",
   "pygments_lexer": "ipython3",
   "version": "3.9.12"
  }
 },
 "nbformat": 4,
 "nbformat_minor": 4
}
