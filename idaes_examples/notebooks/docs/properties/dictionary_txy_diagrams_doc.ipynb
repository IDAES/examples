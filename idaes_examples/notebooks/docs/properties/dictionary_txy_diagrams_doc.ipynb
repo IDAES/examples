{
 "cells": [
  {
   "cell_type": "code",
   "execution_count": 1,
   "metadata": {
    "tags": [
     "header",
     "hide-cell"
    ]
   },
   "outputs": [],
   "source": [
    "###############################################################################\n",
    "# The Institute for the Design of Advanced Energy Systems Integrated Platform\n",
    "# Framework (IDAES IP) was produced under the DOE Institute for the\n",
    "# Design of Advanced Energy Systems (IDAES).\n",
    "#\n",
    "# Copyright (c) 2018-2023 by the software owners: The Regents of the\n",
    "# University of California, through Lawrence Berkeley National Laboratory,\n",
    "# National Technology & Engineering Solutions of Sandia, LLC, Carnegie Mellon\n",
    "# University, West Virginia University Research Corporation, et al.\n",
    "# All rights reserved.  Please see the files COPYRIGHT.md and LICENSE.md\n",
    "# for full copyright and license information.\n",
    "###############################################################################"
   ]
  },
  {
   "cell_type": "markdown",
   "metadata": {},
   "source": [
    "# Create a dictionary and use Txy diagrams\n",
    "Author: Alejandro Garciadego  \n",
    "Maintainer: Andrew Lee  \n",
    "Updated: 2023-06-01  \n",
    "## 1. Introduction\n",
    "\n",
    "This notebook will do two essential things. The first is to create a property package dictionary for the Modular Property Package Framework and utilized the T-x-y diagrams for the properties. This dictionary will include parameters necessary for the sub-libraries of the property package. For example, it has critical properties required for vapor-liquid equilibrium and heat capacity parameters to calculate enthalpy and entropy. The property parameter dictionary can be later used to generate models and flowsheets.\n",
    "\n",
    "Secondly, we will utilize this dictionary to create a model and print a T-x-y diagram using IDAES.\n",
    "\n",
    "### 1.1 Tutorial objectives\n",
    "\n",
    "The goals of this tutorial are:\n",
    "\n",
    "* Create a parameter block directly on a jupyter notebook.\n",
    "* Utilize the Modular Property Package, which provides a flexible platform for users to build property packages by calling upon libraries of modular sub-models to build up complex property calculations with the least effort possible.\n",
    "* Demonstrate the use of Txy diagrams in the IDAES utilities."
   ]
  },
  {
   "cell_type": "markdown",
   "metadata": {},
   "source": [
    "## 2. Problem Statement\n",
    "\n",
    "### 2.1 Setting up the problem in IDAES\n",
    "\n",
    "In the next cell, we will be importing the necessary components from Pyomo and IDAES."
   ]
  },
  {
   "cell_type": "code",
   "execution_count": 2,
   "metadata": {},
   "outputs": [],
   "source": [
    "# Import objects from pyomo package\n",
    "from pyomo.environ import ConcreteModel\n",
    "\n",
    "# Import idaes logger to set output levels\n",
    "import idaes.logger as idaeslog\n",
    "\n",
    "# Import the Modular Parameter Block\n",
    "from idaes.models.properties.modular_properties import GenericParameterBlock"
   ]
  },
  {
   "cell_type": "markdown",
   "metadata": {},
   "source": [
    "### 2.2 Importing property sub-libraries\n",
    "\n",
    "The IDAES Modular Property Package calls upon libraries of modular sub-models to build up complex property calculations with the least effort possible. We have to import these libraries."
   ]
  },
  {
   "cell_type": "code",
   "execution_count": 3,
   "metadata": {},
   "outputs": [],
   "source": [
    "# Import Python libraries\n",
    "import logging\n",
    "\n",
    "# Import Pyomo units\n",
    "from pyomo.environ import units as pyunits\n",
    "\n",
    "# Import IDAES cores\n",
    "from idaes.core import LiquidPhase, VaporPhase, Component\n",
    "\n",
    "from idaes.models.properties.modular_properties.state_definitions import FTPx\n",
    "from idaes.models.properties.modular_properties.eos.ideal import Ideal\n",
    "from idaes.models.properties.modular_properties.phase_equil import SmoothVLE\n",
    "from idaes.models.properties.modular_properties.phase_equil.bubble_dew import (\n",
    "    IdealBubbleDew,\n",
    ")\n",
    "from idaes.models.properties.modular_properties.phase_equil.forms import fugacity\n",
    "\n",
    "from idaes.models.properties.modular_properties.pure import Perrys\n",
    "from idaes.models.properties.modular_properties.pure import RPP4"
   ]
  },
  {
   "cell_type": "markdown",
   "metadata": {},
   "source": [
    "### 2.3 Creating a Modular Property Parameter block\n",
    "\n",
    "The next step is to give all the parameter information required for the sub-libraries. Here we will specify the base units of our model, the bounds on the state properties and the reference conditions of our properties."
   ]
  },
  {
   "cell_type": "code",
   "execution_count": 4,
   "metadata": {},
   "outputs": [],
   "source": [
    "configuration = {\n",
    "    # Specifying components\n",
    "    \"components\": {\n",
    "        \"benzene\": {\n",
    "            \"type\": Component,\n",
    "            \"elemental_composition\": {\"C\": 6, \"H\": 6},\n",
    "            \"dens_mol_liq_comp\": Perrys,\n",
    "            \"enth_mol_liq_comp\": Perrys,\n",
    "            \"enth_mol_ig_comp\": RPP4,\n",
    "            \"pressure_sat_comp\": RPP4,\n",
    "            \"phase_equilibrium_form\": {(\"Vap\", \"Liq\"): fugacity},\n",
    "            \"parameter_data\": {\n",
    "                \"mw\": (78.1136e-3, pyunits.kg / pyunits.mol),  # [1]\n",
    "                \"pressure_crit\": (48.9e5, pyunits.Pa),  # [1]\n",
    "                \"temperature_crit\": (562.2, pyunits.K),  # [1]\n",
    "                \"dens_mol_liq_comp_coeff\": {\n",
    "                    \"eqn_type\": 1,\n",
    "                    \"1\": (1.0162, pyunits.kmol * pyunits.m**-3),  # [2] pg. 2-98\n",
    "                    \"2\": (0.2655, None),\n",
    "                    \"3\": (562.16, pyunits.K),\n",
    "                    \"4\": (0.28212, None),\n",
    "                },\n",
    "                \"cp_mol_ig_comp_coeff\": {\n",
    "                    \"A\": (-3.392e1, pyunits.J / pyunits.mol / pyunits.K),  # [1]\n",
    "                    \"B\": (4.739e-1, pyunits.J / pyunits.mol / pyunits.K**2),\n",
    "                    \"C\": (-3.017e-4, pyunits.J / pyunits.mol / pyunits.K**3),\n",
    "                    \"D\": (7.130e-8, pyunits.J / pyunits.mol / pyunits.K**4),\n",
    "                },\n",
    "                \"cp_mol_liq_comp_coeff\": {\n",
    "                    \"1\": (1.29e2, pyunits.J / pyunits.kmol / pyunits.K),  # [2]\n",
    "                    \"2\": (-1.7e-1, pyunits.J / pyunits.kmol / pyunits.K**2),\n",
    "                    \"3\": (6.48e-4, pyunits.J / pyunits.kmol / pyunits.K**3),\n",
    "                    \"4\": (0, pyunits.J / pyunits.kmol / pyunits.K**4),\n",
    "                    \"5\": (0, pyunits.J / pyunits.kmol / pyunits.K**5),\n",
    "                },\n",
    "                \"enth_mol_form_liq_comp_ref\": (49.0e3, pyunits.J / pyunits.mol),  # [3]\n",
    "                \"enth_mol_form_vap_comp_ref\": (82.9e3, pyunits.J / pyunits.mol),  # [3]\n",
    "                \"pressure_sat_comp_coeff\": {\n",
    "                    \"A\": (-6.98273, None),  # [1]\n",
    "                    \"B\": (1.33213, None),\n",
    "                    \"C\": (-2.62863, None),\n",
    "                    \"D\": (-3.33399, None),\n",
    "                },\n",
    "            },\n",
    "        },\n",
    "        \"toluene\": {\n",
    "            \"type\": Component,\n",
    "            \"elemental_composition\": {\"C\": 7, \"H\": 8},\n",
    "            \"dens_mol_liq_comp\": Perrys,\n",
    "            \"enth_mol_liq_comp\": Perrys,\n",
    "            \"enth_mol_ig_comp\": RPP4,\n",
    "            \"pressure_sat_comp\": RPP4,\n",
    "            \"phase_equilibrium_form\": {(\"Vap\", \"Liq\"): fugacity},\n",
    "            \"parameter_data\": {\n",
    "                \"mw\": (92.1405e-3, pyunits.kg / pyunits.mol),  # [1]\n",
    "                \"pressure_crit\": (41e5, pyunits.Pa),  # [1]\n",
    "                \"temperature_crit\": (591.8, pyunits.K),  # [1]\n",
    "                \"dens_mol_liq_comp_coeff\": {\n",
    "                    \"eqn_type\": 1,\n",
    "                    \"1\": (0.8488, pyunits.kmol * pyunits.m**-3),  # [2] pg. 2-98\n",
    "                    \"2\": (0.26655, None),\n",
    "                    \"3\": (591.8, pyunits.K),\n",
    "                    \"4\": (0.2878, None),\n",
    "                },\n",
    "                \"cp_mol_ig_comp_coeff\": {\n",
    "                    \"A\": (-2.435e1, pyunits.J / pyunits.mol / pyunits.K),  # [1]\n",
    "                    \"B\": (5.125e-1, pyunits.J / pyunits.mol / pyunits.K**2),\n",
    "                    \"C\": (-2.765e-4, pyunits.J / pyunits.mol / pyunits.K**3),\n",
    "                    \"D\": (4.911e-8, pyunits.J / pyunits.mol / pyunits.K**4),\n",
    "                },\n",
    "                \"cp_mol_liq_comp_coeff\": {\n",
    "                    \"1\": (1.40e2, pyunits.J / pyunits.kmol / pyunits.K),  # [2]\n",
    "                    \"2\": (-1.52e-1, pyunits.J / pyunits.kmol / pyunits.K**2),\n",
    "                    \"3\": (6.95e-4, pyunits.J / pyunits.kmol / pyunits.K**3),\n",
    "                    \"4\": (0, pyunits.J / pyunits.kmol / pyunits.K**4),\n",
    "                    \"5\": (0, pyunits.J / pyunits.kmol / pyunits.K**5),\n",
    "                },\n",
    "                \"enth_mol_form_liq_comp_ref\": (12.0e3, pyunits.J / pyunits.mol),  # [3]\n",
    "                \"enth_mol_form_vap_comp_ref\": (50.1e3, pyunits.J / pyunits.mol),  # [3]\n",
    "                \"pressure_sat_comp_coeff\": {\n",
    "                    \"A\": (-7.28607, None),  # [1]\n",
    "                    \"B\": (1.38091, None),\n",
    "                    \"C\": (-2.83433, None),\n",
    "                    \"D\": (-2.79168, None),\n",
    "                },\n",
    "            },\n",
    "        },\n",
    "    },\n",
    "    # Specifying phases\n",
    "    \"phases\": {\n",
    "        \"Liq\": {\"type\": LiquidPhase, \"equation_of_state\": Ideal},\n",
    "        \"Vap\": {\"type\": VaporPhase, \"equation_of_state\": Ideal},\n",
    "    },\n",
    "    # Set base units of measurement\n",
    "    \"base_units\": {\n",
    "        \"time\": pyunits.s,\n",
    "        \"length\": pyunits.m,\n",
    "        \"mass\": pyunits.kg,\n",
    "        \"amount\": pyunits.mol,\n",
    "        \"temperature\": pyunits.K,\n",
    "    },\n",
    "    # Specifying state definition\n",
    "    \"state_definition\": FTPx,\n",
    "    \"state_bounds\": {\n",
    "        \"flow_mol\": (0, 100, 1000, pyunits.mol / pyunits.s),\n",
    "        \"temperature\": (150, 300, 450, pyunits.K),\n",
    "        \"pressure\": (5e4, 1e5, 1e6, pyunits.Pa),\n",
    "    },\n",
    "    \"pressure_ref\": (1e5, pyunits.Pa),\n",
    "    \"temperature_ref\": (300, pyunits.K),\n",
    "    # Defining phase equilibria\n",
    "    \"phases_in_equilibrium\": [(\"Vap\", \"Liq\")],\n",
    "    \"phase_equilibrium_state\": {(\"Vap\", \"Liq\"): SmoothVLE},\n",
    "    \"bubble_dew_method\": IdealBubbleDew,\n",
    "    \"default_scaling_factors\": {\"mole_frac_comp[benzene]\": 1},\n",
    "}"
   ]
  },
  {
   "cell_type": "markdown",
   "metadata": {},
   "source": [
    "### 2.4 Building the model\n",
    "\n",
    "In the next cell, we will first create a model and attach a the property package. "
   ]
  },
  {
   "cell_type": "code",
   "execution_count": 5,
   "metadata": {},
   "outputs": [],
   "source": [
    "# Create the ConcreteModel\n",
    "model = ConcreteModel()\n",
    "\n",
    "# Attach the property package to the model\n",
    "model.params = GenericParameterBlock(**configuration)"
   ]
  },
  {
   "cell_type": "markdown",
   "metadata": {},
   "source": [
    "## 3.0 Creating Txy diagrams\n",
    "\n",
    "### 3.1 Import the TXY_diagram function "
   ]
  },
  {
   "cell_type": "code",
   "execution_count": 6,
   "metadata": {},
   "outputs": [],
   "source": [
    "from idaes.core.util.phase_equilibria import Txy_diagram"
   ]
  },
  {
   "cell_type": "markdown",
   "metadata": {},
   "source": [
    "### 3.2 Calling the function"
   ]
  },
  {
   "cell_type": "markdown",
   "metadata": {},
   "source": [
    "There will be a WARNING from missing scaling factors. This is normal as the Txy diagram function does not know the state definition being used. To learn more about the sacling factor be sure to reed the documentation/examples of the scaling tools."
   ]
  },
  {
   "cell_type": "code",
   "execution_count": 7,
   "metadata": {},
   "outputs": [
    {
     "name": "stdout",
     "output_type": "stream",
     "text": [
      "2023-11-02 10:25:15 [WARNING] idaes.core.util.scaling: Missing scaling factor for props[1].mole_frac_comp\n"
     ]
    },
    {
     "name": "stdout",
     "output_type": "stream",
     "text": [
      "2023-11-02 10:25:15 [WARNING] idaes.core.util.scaling: Missing scaling factor for props[1].mole_frac_comp\n"
     ]
    },
    {
     "name": "stdout",
     "output_type": "stream",
     "text": [
      "2023-11-02 10:25:15 [INFO] idaes.init.props: Property package initialization: optimal - Optimal Solution Found.\n"
     ]
    },
    {
     "name": "stdout",
     "output_type": "stream",
     "text": [
      "WARNING: model contains export suffix 'props[1].scaling_factor' that contains\n",
      "9 component keys that are not exported as part of the NL file.  Skipping.\n"
     ]
    },
    {
     "name": "stdout",
     "output_type": "stream",
     "text": [
      "Case: 1 Optimal. benzene x = 0.99\n",
      "WARNING: model contains export suffix 'props[1].scaling_factor' that contains\n",
      "9 component keys that are not exported as part of the NL file.  Skipping.\n"
     ]
    },
    {
     "name": "stdout",
     "output_type": "stream",
     "text": [
      "Case: 2 Optimal. benzene x = 0.95\n",
      "WARNING: model contains export suffix 'props[1].scaling_factor' that contains\n",
      "9 component keys that are not exported as part of the NL file.  Skipping.\n"
     ]
    },
    {
     "name": "stdout",
     "output_type": "stream",
     "text": [
      "Case: 3 Optimal. benzene x = 0.91\n",
      "WARNING: model contains export suffix 'props[1].scaling_factor' that contains\n",
      "9 component keys that are not exported as part of the NL file.  Skipping.\n"
     ]
    },
    {
     "name": "stdout",
     "output_type": "stream",
     "text": [
      "Case: 4 Optimal. benzene x = 0.87\n",
      "WARNING: model contains export suffix 'props[1].scaling_factor' that contains\n",
      "9 component keys that are not exported as part of the NL file.  Skipping.\n"
     ]
    },
    {
     "name": "stdout",
     "output_type": "stream",
     "text": [
      "Case: 5 Optimal. benzene x = 0.83\n",
      "WARNING: model contains export suffix 'props[1].scaling_factor' that contains\n",
      "9 component keys that are not exported as part of the NL file.  Skipping.\n"
     ]
    },
    {
     "name": "stdout",
     "output_type": "stream",
     "text": [
      "Case: 6 Optimal. benzene x = 0.79\n",
      "WARNING: model contains export suffix 'props[1].scaling_factor' that contains\n",
      "9 component keys that are not exported as part of the NL file.  Skipping.\n"
     ]
    },
    {
     "name": "stdout",
     "output_type": "stream",
     "text": [
      "Case: 7 Optimal. benzene x = 0.74"
     ]
    },
    {
     "name": "stdout",
     "output_type": "stream",
     "text": [
      "\n",
      "WARNING: model contains export suffix 'props[1].scaling_factor' that contains\n",
      "9 component keys that are not exported as part of the NL file.  Skipping.\n"
     ]
    },
    {
     "name": "stdout",
     "output_type": "stream",
     "text": [
      "Case: 8 Optimal. benzene x = 0.70\n",
      "WARNING: model contains export suffix 'props[1].scaling_factor' that contains\n",
      "9 component keys that are not exported as part of the NL file.  Skipping.\n"
     ]
    },
    {
     "name": "stdout",
     "output_type": "stream",
     "text": [
      "Case: 9 Optimal. benzene x = 0.66\n",
      "WARNING: model contains export suffix 'props[1].scaling_factor' that contains\n",
      "9 component keys that are not exported as part of the NL file.  Skipping.\n"
     ]
    },
    {
     "name": "stdout",
     "output_type": "stream",
     "text": [
      "Case: 10 Optimal. benzene x = 0.62\n",
      "WARNING: model contains export suffix 'props[1].scaling_factor' that contains\n",
      "9 component keys that are not exported as part of the NL file.  Skipping.\n"
     ]
    },
    {
     "name": "stdout",
     "output_type": "stream",
     "text": [
      "Case: 11 Optimal. benzene x = 0.58\n",
      "WARNING: model contains export suffix 'props[1].scaling_factor' that contains\n",
      "9 component keys that are not exported as part of the NL file.  Skipping.\n"
     ]
    },
    {
     "name": "stdout",
     "output_type": "stream",
     "text": [
      "Case: 12 Optimal. benzene x = 0.54\n",
      "WARNING: model contains export suffix 'props[1].scaling_factor' that contains\n",
      "9 component keys that are not exported as part of the NL file.  Skipping.\n"
     ]
    },
    {
     "name": "stdout",
     "output_type": "stream",
     "text": [
      "Case: 13 Optimal. benzene x = 0.50\n",
      "WARNING: model contains export suffix 'props[1].scaling_factor' that contains\n",
      "9 component keys that are not exported as part of the NL file.  Skipping.\n"
     ]
    },
    {
     "name": "stdout",
     "output_type": "stream",
     "text": [
      "Case: 14 Optimal. benzene x = 0.46\n",
      "WARNING: model contains export suffix 'props[1].scaling_factor' that contains\n",
      "9 component keys that are not exported as part of the NL file.  Skipping.\n"
     ]
    },
    {
     "name": "stdout",
     "output_type": "stream",
     "text": [
      "Case: 15 Optimal. benzene x = 0.42\n",
      "WARNING: model contains export suffix 'props[1].scaling_factor' that contains\n",
      "9 component keys that are not exported as part of the NL file.  Skipping.\n"
     ]
    },
    {
     "name": "stdout",
     "output_type": "stream",
     "text": [
      "Case: 16 Optimal. benzene x = 0.38\n",
      "WARNING: model contains export suffix 'props[1].scaling_factor' that contains\n",
      "9 component keys that are not exported as part of the NL file.  Skipping.\n"
     ]
    },
    {
     "name": "stdout",
     "output_type": "stream",
     "text": [
      "Case: 17 Optimal. benzene x = 0.34\n",
      "WARNING: model contains export suffix 'props[1].scaling_factor' that contains\n",
      "9 component keys that are not exported as part of the NL file.  Skipping.\n"
     ]
    },
    {
     "name": "stdout",
     "output_type": "stream",
     "text": [
      "Case: 18 Optimal. benzene x = 0.30\n",
      "WARNING: model contains export suffix 'props[1].scaling_factor' that contains\n",
      "9 component keys that are not exported as part of the NL file.  Skipping.\n"
     ]
    },
    {
     "name": "stdout",
     "output_type": "stream",
     "text": [
      "Case: 19 Optimal. benzene x = 0.26\n",
      "WARNING: model contains export suffix 'props[1].scaling_factor' that contains\n",
      "9 component keys that are not exported as part of the NL file.  Skipping.\n"
     ]
    },
    {
     "name": "stdout",
     "output_type": "stream",
     "text": [
      "Case: 20 Optimal. benzene x = 0.21\n",
      "WARNING: model contains export suffix 'props[1].scaling_factor' that contains\n",
      "9 component keys that are not exported as part of the NL file.  Skipping.\n"
     ]
    },
    {
     "name": "stdout",
     "output_type": "stream",
     "text": [
      "Case: 21 Optimal. benzene x = 0.17\n",
      "WARNING: model contains export suffix 'props[1].scaling_factor' that contains\n",
      "9 component keys that are not exported as part of the NL file.  Skipping.\n"
     ]
    },
    {
     "name": "stdout",
     "output_type": "stream",
     "text": [
      "Case: 22 Optimal. benzene x = 0.13\n",
      "WARNING: model contains export suffix 'props[1].scaling_factor' that contains\n",
      "9 component keys that are not exported as part of the NL file.  Skipping.\n"
     ]
    },
    {
     "name": "stdout",
     "output_type": "stream",
     "text": [
      "Case: 23 Optimal. benzene x = 0.09\n"
     ]
    },
    {
     "name": "stdout",
     "output_type": "stream",
     "text": [
      "WARNING: model contains export suffix 'props[1].scaling_factor' that contains\n",
      "9 component keys that are not exported as part of the NL file.  Skipping.\n"
     ]
    },
    {
     "name": "stdout",
     "output_type": "stream",
     "text": [
      "Case: 24 Optimal. benzene x = 0.05"
     ]
    },
    {
     "name": "stdout",
     "output_type": "stream",
     "text": [
      "\n",
      "WARNING: model contains export suffix 'props[1].scaling_factor' that contains\n",
      "9 component keys that are not exported as part of the NL file.  Skipping.\n"
     ]
    },
    {
     "name": "stdout",
     "output_type": "stream",
     "text": [
      "Case: 25 Optimal. benzene x = 0.01\n"
     ]
    },
    {
     "data": {
      "image/png": "[encoded data removed]",
      "text/plain": [
       "<Figure size 1200x800 with 1 Axes>"
      ]
     },
     "metadata": {
      "filenames": {
       "image/png": "C:\\Users\\dkgun\\src\\dangunter\\examples\\idaes_examples\\notebooks\\_build\\jupyter_execute\\docs\\properties\\dictionary_txy_diagrams_doc_14_32.png"
      }
     },
     "output_type": "display_data"
    }
   ],
   "source": [
    "Txy_diagram(\n",
    "    model,\n",
    "    \"benzene\",\n",
    "    \"toluene\",\n",
    "    101325,\n",
    "    num_points=25,\n",
    "    temperature=150.15,\n",
    "    figure_name=None,\n",
    "    print_legend=True,\n",
    "    include_pressure=False,\n",
    "    print_level=idaeslog.CRITICAL,\n",
    "    solver_op={\"tol\": 1e-6},\n",
    ")"
   ]
  },
  {
   "cell_type": "markdown",
   "metadata": {},
   "source": [
    "You can add precision to the plot by increasing the num_points, include a firgure_name in order to save figure in a file or include the pressure in the plot. You can also include more information from the solver by changing the print_level."
   ]
  }
 ],
 "metadata": {
  "kernelspec": {
   "display_name": "Python 3 (ipykernel)",
   "language": "python",
   "name": "python3"
  },
  "language_info": {
   "codemirror_mode": {
    "name": "ipython",
    "version": 3
   },
   "file_extension": ".py",
   "mimetype": "text/x-python",
   "name": "python",
   "nbconvert_exporter": "python",
   "pygments_lexer": "ipython3",
   "version": "3.11.5"
  }
 },
 "nbformat": 4,
 "nbformat_minor": 3
}