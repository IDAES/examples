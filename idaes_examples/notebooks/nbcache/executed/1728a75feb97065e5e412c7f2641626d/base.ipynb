{
 "cells": [
  {
   "cell_type": "code",
   "execution_count": 1,
   "id": "9363d024",
   "metadata": {
    "tags": [
     "header",
     "hide-cell"
    ]
   },
   "outputs": [],
   "source": [
    "###############################################################################\n",
    "# The Institute for the Design of Advanced Energy Systems Integrated Platform\n",
    "# Framework (IDAES IP) was produced under the DOE Institute for the\n",
    "# Design of Advanced Energy Systems (IDAES).\n",
    "#\n",
    "# Copyright (c) 2018-2023 by the software owners: The Regents of the\n",
    "# University of California, through Lawrence Berkeley National Laboratory,\n",
    "# National Technology & Engineering Solutions of Sandia, LLC, Carnegie Mellon\n",
    "# University, West Virginia University Research Corporation, et al.\n",
    "# All rights reserved.  Please see the files COPYRIGHT.md and LICENSE.md\n",
    "# for full copyright and license information.\n",
    "###############################################################################"
   ]
  },
  {
   "cell_type": "code",
   "execution_count": 2,
   "metadata": {},
   "outputs": [],
   "source": [
    "from pyomo.environ import (\n",
    "    Constraint,\n",
    "    Var,\n",
    "    ConcreteModel,\n",
    "    Expression,\n",
    "    Objective,\n",
    "    TransformationFactory,\n",
    "    value,\n",
    "    units as pyunits,\n",
    ")\n",
    "from pyomo.network import Arc\n",
    "\n",
    "from idaes.core import FlowsheetBlock\n",
    "from idaes.models.properties.modular_properties.base.generic_property import (\n",
    "    GenericParameterBlock,\n",
    ")\n",
    "from idaes.models.properties.modular_properties.base.generic_reaction import (\n",
    "    GenericReactionParameterBlock,\n",
    ")\n",
    "from idaes.models.unit_models import (\n",
    "    Feed,\n",
    "    Mixer,\n",
    "    Compressor,\n",
    "    Heater,\n",
    "    EquilibriumReactor,\n",
    "    Product,\n",
    ")\n",
    "\n",
    "from idaes.core.solvers import get_solver\n",
    "from idaes.core.util.model_statistics import degrees_of_freedom\n",
    "from idaes.core.util.initialization import propagate_state"
   ]
  },
  {
   "cell_type": "code",
   "execution_count": 3,
   "metadata": {},
   "outputs": [],
   "source": [
    "from idaes.models_extra.power_generation.properties.natural_gas_PR import get_prop\n",
    "import msr_reaction as reaction_props"
   ]
  },
  {
   "cell_type": "code",
   "execution_count": 4,
   "metadata": {},
   "outputs": [],
   "source": [
    "m = ConcreteModel()\n",
    "m.fs = FlowsheetBlock(dynamic=False)"
   ]
  },
  {
   "cell_type": "code",
   "execution_count": 5,
   "metadata": {
    "scrolled": true
   },
   "outputs": [],
   "source": [
    "thermo_props_config_dict = get_prop(components=[\"CH4\", \"H2O\", \"H2\", \"CO\", \"CO2\"])\n",
    "m.fs.thermo_params = GenericParameterBlock(**thermo_props_config_dict)\n",
    "m.fs.reaction_params = GenericReactionParameterBlock(\n",
    "    property_package=m.fs.thermo_params, **reaction_props.config_dict\n",
    ")"
   ]
  },
  {
   "cell_type": "code",
   "execution_count": 6,
   "metadata": {
    "scrolled": true
   },
   "outputs": [],
   "source": [
    "m.fs.CH4 = Feed(property_package=m.fs.thermo_params)\n",
    "m.fs.H2O = Feed(property_package=m.fs.thermo_params)\n",
    "m.fs.PROD = Product(property_package=m.fs.thermo_params)\n",
    "m.fs.M101 = Mixer(\n",
    "    property_package=m.fs.thermo_params, inlet_list=[\"methane_feed\", \"steam_feed\"]\n",
    ")\n",
    "m.fs.H101 = Heater(\n",
    "    property_package=m.fs.thermo_params,\n",
    "    has_pressure_change=False,\n",
    "    has_phase_equilibrium=False,\n",
    ")\n",
    "m.fs.C101 = Compressor(property_package=m.fs.thermo_params)"
   ]
  },
  {
   "cell_type": "code",
   "execution_count": 7,
   "metadata": {
    "scrolled": false
   },
   "outputs": [],
   "source": [
    "m.fs.R101 = EquilibriumReactor(\n",
    "    property_package=m.fs.thermo_params,\n",
    "    reaction_package=m.fs.reaction_params,\n",
    "    has_equilibrium_reactions=True,\n",
    "    has_rate_reactions=False,\n",
    "    has_heat_of_reaction=True,\n",
    "    has_heat_transfer=True,\n",
    "    has_pressure_change=False,\n",
    "    has_phase_equilibrium=True,\n",
    ")"
   ]
  },
  {
   "cell_type": "code",
   "execution_count": 8,
   "metadata": {},
   "outputs": [],
   "source": [
    "m.fs.s01 = Arc(source=m.fs.CH4.outlet, destination=m.fs.M101.methane_feed)\n",
    "m.fs.s02 = Arc(source=m.fs.H2O.outlet, destination=m.fs.M101.steam_feed)\n",
    "m.fs.s03 = Arc(source=m.fs.M101.outlet, destination=m.fs.C101.inlet)\n",
    "m.fs.s04 = Arc(source=m.fs.C101.outlet, destination=m.fs.H101.inlet)\n",
    "m.fs.s05 = Arc(source=m.fs.H101.outlet, destination=m.fs.R101.inlet)\n",
    "m.fs.s06 = Arc(source=m.fs.R101.outlet, destination=m.fs.PROD.inlet)"
   ]
  },
  {
   "cell_type": "code",
   "execution_count": 9,
   "metadata": {},
   "outputs": [],
   "source": [
    "TransformationFactory(\"network.expand_arcs\").apply_to(m)"
   ]
  },
  {
   "cell_type": "code",
   "execution_count": 10,
   "metadata": {},
   "outputs": [],
   "source": [
    "m.fs.hyd_prod = Expression(\n",
    "    expr=pyunits.convert(\n",
    "        m.fs.PROD.inlet.flow_mol[0]\n",
    "        * m.fs.PROD.inlet.mole_frac_comp[0, \"H2\"]\n",
    "        * m.fs.thermo_params.H2.mw,  # MW defined in properties as kg/mol\n",
    "        to_units=pyunits.Mlb / pyunits.yr,\n",
    "    )\n",
    ")  # converting kg/s to MM lb/year"
   ]
  },
  {
   "cell_type": "code",
   "execution_count": 11,
   "metadata": {},
   "outputs": [],
   "source": [
    "m.fs.cooling_cost = Expression(\n",
    "    expr=2.12e-8 * (m.fs.R101.heat_duty[0])\n",
    ")  # the reaction is endothermic, so R101 duty is positive\n",
    "m.fs.heating_cost = Expression(\n",
    "    expr=2.2e-7 * m.fs.H101.heat_duty[0]\n",
    ")  # the stream must be heated to T_rxn, so H101 duty is positive\n",
    "m.fs.compression_cost = Expression(\n",
    "    expr=1.2e-6 * m.fs.C101.work_isentropic[0]\n",
    ")  # the stream must be pressurized, so the C101 work is positive\n",
    "m.fs.operating_cost = Expression(\n",
    "    expr=(3600 * 8000 * (m.fs.heating_cost + m.fs.cooling_cost + m.fs.compression_cost))\n",
    ")"
   ]
  },
  {
   "cell_type": "code",
   "execution_count": 12,
   "metadata": {
    "scrolled": true
   },
   "outputs": [
    {
     "name": "stdout",
     "output_type": "stream",
     "text": [
      "20\n"
     ]
    }
   ],
   "source": [
    "print(degrees_of_freedom(m))"
   ]
  },
  {
   "cell_type": "code",
   "execution_count": 13,
   "metadata": {},
   "outputs": [],
   "source": [
    "m.fs.CH4.outlet.mole_frac_comp[0, \"CH4\"].fix(1)\n",
    "m.fs.CH4.outlet.mole_frac_comp[0, \"H2O\"].fix(1e-5)\n",
    "m.fs.CH4.outlet.mole_frac_comp[0, \"H2\"].fix(1e-5)\n",
    "m.fs.CH4.outlet.mole_frac_comp[0, \"CO\"].fix(1e-5)\n",
    "m.fs.CH4.outlet.mole_frac_comp[0, \"CO2\"].fix(1e-5)\n",
    "m.fs.CH4.outlet.flow_mol.fix(75 * pyunits.mol / pyunits.s)\n",
    "m.fs.CH4.outlet.temperature.fix(298.15 * pyunits.K)\n",
    "m.fs.CH4.outlet.pressure.fix(1e5 * pyunits.Pa)\n",
    "\n",
    "m.fs.H2O.outlet.mole_frac_comp[0, \"CH4\"].fix(1e-5)\n",
    "m.fs.H2O.outlet.mole_frac_comp[0, \"H2O\"].fix(1)\n",
    "m.fs.H2O.outlet.mole_frac_comp[0, \"H2\"].fix(1e-5)\n",
    "m.fs.H2O.outlet.mole_frac_comp[0, \"CO\"].fix(1e-5)\n",
    "m.fs.H2O.outlet.mole_frac_comp[0, \"CO2\"].fix(1e-5)\n",
    "m.fs.H2O.outlet.flow_mol.fix(234 * pyunits.mol / pyunits.s)\n",
    "m.fs.H2O.outlet.temperature.fix(373.15 * pyunits.K)\n",
    "m.fs.H2O.outlet.pressure.fix(1e5 * pyunits.Pa)"
   ]
  },
  {
   "cell_type": "code",
   "execution_count": 14,
   "metadata": {},
   "outputs": [],
   "source": [
    "m.fs.C101.outlet.pressure.fix(pyunits.convert(2 * pyunits.bar, to_units=pyunits.Pa))\n",
    "m.fs.C101.efficiency_isentropic.fix(0.90)\n",
    "m.fs.H101.outlet.temperature.fix(500 * pyunits.K)"
   ]
  },
  {
   "cell_type": "code",
   "execution_count": 15,
   "metadata": {},
   "outputs": [],
   "source": [
    "m.fs.R101.conversion = Var(\n",
    "    initialize=0.80, bounds=(0, 1), units=pyunits.dimensionless\n",
    ")  # fraction\n",
    "\n",
    "m.fs.R101.conv_constraint = Constraint(\n",
    "    expr=m.fs.R101.conversion\n",
    "    * m.fs.R101.inlet.flow_mol[0]\n",
    "    * m.fs.R101.inlet.mole_frac_comp[0, \"CH4\"]\n",
    "    == (\n",
    "        m.fs.R101.inlet.flow_mol[0] * m.fs.R101.inlet.mole_frac_comp[0, \"CH4\"]\n",
    "        - m.fs.R101.outlet.flow_mol[0] * m.fs.R101.outlet.mole_frac_comp[0, \"CH4\"]\n",
    "    )\n",
    ")\n",
    "\n",
    "m.fs.R101.conversion.fix(0.80)"
   ]
  },
  {
   "cell_type": "code",
   "execution_count": 16,
   "metadata": {},
   "outputs": [
    {
     "name": "stdout",
     "output_type": "stream",
     "text": [
      "0\n"
     ]
    }
   ],
   "source": [
    "print(degrees_of_freedom(m))"
   ]
  },
  {
   "cell_type": "code",
   "execution_count": 17,
   "metadata": {},
   "outputs": [
    {
     "name": "stdout",
     "output_type": "stream",
     "text": [
      "2023-02-18 12:07:08 [INFO] idaes.init.fs.CH4.properties: Starting initialization\n"
     ]
    },
    {
     "name": "stdout",
     "output_type": "stream",
     "text": [
      "2023-02-18 12:07:08 [INFO] idaes.init.fs.CH4.properties: Property initialization: optimal - Optimal Solution Found.\n"
     ]
    },
    {
     "name": "stdout",
     "output_type": "stream",
     "text": [
      "2023-02-18 12:07:08 [INFO] idaes.init.fs.CH4.properties: Property package initialization: optimal - Optimal Solution Found.\n"
     ]
    },
    {
     "name": "stdout",
     "output_type": "stream",
     "text": [
      "2023-02-18 12:07:08 [INFO] idaes.init.fs.CH4: Initialization Complete.\n"
     ]
    },
    {
     "name": "stdout",
     "output_type": "stream",
     "text": [
      "2023-02-18 12:07:08 [INFO] idaes.init.fs.H2O.properties: Starting initialization\n"
     ]
    },
    {
     "name": "stdout",
     "output_type": "stream",
     "text": [
      "2023-02-18 12:07:08 [INFO] idaes.init.fs.H2O.properties: Property initialization: optimal - Optimal Solution Found.\n"
     ]
    },
    {
     "name": "stdout",
     "output_type": "stream",
     "text": [
      "2023-02-18 12:07:08 [INFO] idaes.init.fs.H2O.properties: Property package initialization: optimal - Optimal Solution Found.\n"
     ]
    },
    {
     "name": "stdout",
     "output_type": "stream",
     "text": [
      "2023-02-18 12:07:08 [INFO] idaes.init.fs.H2O: Initialization Complete.\n"
     ]
    },
    {
     "name": "stdout",
     "output_type": "stream",
     "text": [
      "2023-02-18 12:07:08 [INFO] idaes.init.fs.M101.methane_feed_state: Starting initialization\n"
     ]
    },
    {
     "name": "stdout",
     "output_type": "stream",
     "text": [
      "2023-02-18 12:07:09 [INFO] idaes.init.fs.M101.methane_feed_state: Property initialization: optimal - Optimal Solution Found.\n"
     ]
    },
    {
     "name": "stdout",
     "output_type": "stream",
     "text": [
      "2023-02-18 12:07:09 [INFO] idaes.init.fs.M101.steam_feed_state: Starting initialization\n"
     ]
    },
    {
     "name": "stdout",
     "output_type": "stream",
     "text": [
      "2023-02-18 12:07:09 [INFO] idaes.init.fs.M101.steam_feed_state: Property initialization: optimal - Optimal Solution Found.\n"
     ]
    },
    {
     "name": "stdout",
     "output_type": "stream",
     "text": [
      "2023-02-18 12:07:09 [INFO] idaes.init.fs.M101.mixed_state: Starting initialization\n"
     ]
    },
    {
     "name": "stdout",
     "output_type": "stream",
     "text": [
      "2023-02-18 12:07:09 [INFO] idaes.init.fs.M101.mixed_state: Property initialization: optimal - Optimal Solution Found.\n"
     ]
    },
    {
     "name": "stdout",
     "output_type": "stream",
     "text": [
      "2023-02-18 12:07:09 [INFO] idaes.init.fs.M101.mixed_state: Property package initialization: optimal - Optimal Solution Found.\n"
     ]
    },
    {
     "name": "stdout",
     "output_type": "stream",
     "text": [
      "2023-02-18 12:07:09 [INFO] idaes.init.fs.M101: Initialization Complete: optimal - Optimal Solution Found\n"
     ]
    },
    {
     "name": "stdout",
     "output_type": "stream",
     "text": [
      "2023-02-18 12:07:09 [INFO] idaes.init.fs.C101.control_volume.properties_in: Starting initialization\n"
     ]
    },
    {
     "name": "stdout",
     "output_type": "stream",
     "text": [
      "2023-02-18 12:07:09 [INFO] idaes.init.fs.C101.control_volume.properties_in: Property initialization: optimal - Optimal Solution Found.\n"
     ]
    },
    {
     "name": "stdout",
     "output_type": "stream",
     "text": [
      "2023-02-18 12:07:09 [INFO] idaes.init.fs.C101.control_volume.properties_out: Starting initialization\n"
     ]
    },
    {
     "name": "stdout",
     "output_type": "stream",
     "text": [
      "2023-02-18 12:07:09 [INFO] idaes.init.fs.C101.control_volume.properties_out: Property initialization: optimal - Optimal Solution Found.\n"
     ]
    },
    {
     "name": "stdout",
     "output_type": "stream",
     "text": [
      "2023-02-18 12:07:09 [INFO] idaes.init.fs.C101.control_volume.properties_out: Property package initialization: optimal - Optimal Solution Found.\n"
     ]
    },
    {
     "name": "stdout",
     "output_type": "stream",
     "text": [
      "2023-02-18 12:07:09 [INFO] idaes.init.fs.C101.properties_isentropic: Starting initialization\n"
     ]
    },
    {
     "name": "stdout",
     "output_type": "stream",
     "text": [
      "2023-02-18 12:07:09 [INFO] idaes.init.fs.C101.properties_isentropic: Property initialization: optimal - Optimal Solution Found.\n"
     ]
    },
    {
     "name": "stdout",
     "output_type": "stream",
     "text": [
      "2023-02-18 12:07:09 [INFO] idaes.init.fs.C101.properties_isentropic: Property package initialization: optimal - Optimal Solution Found.\n"
     ]
    },
    {
     "name": "stdout",
     "output_type": "stream",
     "text": [
      "2023-02-18 12:07:10 [INFO] idaes.init.fs.C101: Initialization Complete: optimal - Optimal Solution Found\n"
     ]
    },
    {
     "name": "stdout",
     "output_type": "stream",
     "text": [
      "2023-02-18 12:07:10 [INFO] idaes.init.fs.H101.control_volume.properties_in: Starting initialization\n"
     ]
    },
    {
     "name": "stdout",
     "output_type": "stream",
     "text": [
      "2023-02-18 12:07:10 [INFO] idaes.init.fs.H101.control_volume.properties_in: Property initialization: optimal - Optimal Solution Found.\n"
     ]
    },
    {
     "name": "stdout",
     "output_type": "stream",
     "text": [
      "2023-02-18 12:07:10 [INFO] idaes.init.fs.H101.control_volume.properties_out: Starting initialization\n"
     ]
    },
    {
     "name": "stdout",
     "output_type": "stream",
     "text": [
      "2023-02-18 12:07:10 [INFO] idaes.init.fs.H101.control_volume.properties_out: Property initialization: optimal - Optimal Solution Found.\n"
     ]
    },
    {
     "name": "stdout",
     "output_type": "stream",
     "text": [
      "2023-02-18 12:07:10 [INFO] idaes.init.fs.H101.control_volume: Initialization Complete\n"
     ]
    },
    {
     "name": "stdout",
     "output_type": "stream",
     "text": [
      "2023-02-18 12:07:10 [INFO] idaes.init.fs.H101: Initialization Complete: optimal - Optimal Solution Found\n"
     ]
    },
    {
     "name": "stdout",
     "output_type": "stream",
     "text": [
      "2023-02-18 12:07:10 [INFO] idaes.init.fs.R101.control_volume.properties_in: Starting initialization\n"
     ]
    },
    {
     "name": "stdout",
     "output_type": "stream",
     "text": [
      "2023-02-18 12:07:10 [INFO] idaes.init.fs.R101.control_volume.properties_in: Property initialization: optimal - Optimal Solution Found.\n"
     ]
    },
    {
     "name": "stdout",
     "output_type": "stream",
     "text": [
      "2023-02-18 12:07:10 [INFO] idaes.init.fs.R101.control_volume.properties_out: Starting initialization\n"
     ]
    },
    {
     "name": "stdout",
     "output_type": "stream",
     "text": [
      "2023-02-18 12:07:10 [INFO] idaes.init.fs.R101.control_volume.properties_out: Property initialization: optimal - Optimal Solution Found.\n"
     ]
    },
    {
     "name": "stdout",
     "output_type": "stream",
     "text": [
      "2023-02-18 12:07:10 [INFO] idaes.init.fs.R101.control_volume.reactions: Initialization Complete.\n"
     ]
    },
    {
     "name": "stdout",
     "output_type": "stream",
     "text": [
      "2023-02-18 12:07:10 [INFO] idaes.init.fs.R101.control_volume: Initialization Complete\n"
     ]
    },
    {
     "name": "stdout",
     "output_type": "stream",
     "text": [
      "2023-02-18 12:07:10 [INFO] idaes.init.fs.R101: Initialization Complete: optimal - Optimal Solution Found\n"
     ]
    },
    {
     "name": "stdout",
     "output_type": "stream",
     "text": [
      "2023-02-18 12:07:10 [INFO] idaes.init.fs.PROD.properties: Starting initialization\n"
     ]
    },
    {
     "name": "stdout",
     "output_type": "stream",
     "text": [
      "2023-02-18 12:07:10 [INFO] idaes.init.fs.PROD.properties: Property initialization: optimal - Optimal Solution Found.\n"
     ]
    },
    {
     "name": "stdout",
     "output_type": "stream",
     "text": [
      "2023-02-18 12:07:10 [INFO] idaes.init.fs.PROD.properties: Property package initialization: optimal - Optimal Solution Found.\n"
     ]
    },
    {
     "name": "stdout",
     "output_type": "stream",
     "text": [
      "2023-02-18 12:07:10 [INFO] idaes.init.fs.PROD: Initialization Complete.\n"
     ]
    }
   ],
   "source": [
    "# Initialize and solve each unit operation\n",
    "m.fs.CH4.initialize()\n",
    "propagate_state(arc=m.fs.s01)\n",
    "\n",
    "m.fs.H2O.initialize()\n",
    "propagate_state(arc=m.fs.s02)\n",
    "\n",
    "m.fs.M101.initialize()\n",
    "propagate_state(arc=m.fs.s03)\n",
    "\n",
    "m.fs.C101.initialize()\n",
    "propagate_state(arc=m.fs.s04)\n",
    "\n",
    "m.fs.H101.initialize()\n",
    "propagate_state(arc=m.fs.s05)\n",
    "\n",
    "m.fs.R101.initialize()\n",
    "propagate_state(arc=m.fs.s06)\n",
    "\n",
    "m.fs.PROD.initialize()\n",
    "\n",
    "# set solver\n",
    "solver = get_solver()"
   ]
  },
  {
   "cell_type": "code",
   "execution_count": 18,
   "metadata": {
    "scrolled": true
   },
   "outputs": [
    {
     "name": "stdout",
     "output_type": "stream",
     "text": [
      "Ipopt 3.13.2: nlp_scaling_method=gradient-based\n",
      "tol=1e-06\n",
      "\n",
      "\n",
      "******************************************************************************\n",
      "This program contains Ipopt, a library for large-scale nonlinear optimization.\n",
      " Ipopt is released as open source code under the Eclipse Public License (EPL).\n",
      "         For more information visit http://projects.coin-or.org/Ipopt\n",
      "\n",
      "This version of Ipopt was compiled from source code available at\n",
      "    https://github.com/IDAES/Ipopt as part of the Institute for the Design of\n",
      "    Advanced Energy Systems Process Systems Engineering Framework (IDAES PSE\n",
      "    Framework) Copyright (c) 2018-2019. See https://github.com/IDAES/idaes-pse.\n",
      "\n",
      "This version of Ipopt was compiled using HSL, a collection of Fortran codes\n",
      "    for large-scale scientific computation.  All technical papers, sales and\n",
      "    publicity material resulting from use of the HSL codes within IPOPT must\n",
      "    contain the following acknowledgement:\n",
      "        HSL, a collection of Fortran codes for large-scale scientific\n",
      "        computation. See http://www.hsl.rl.ac.uk.\n",
      "******************************************************************************\n",
      "\n",
      "This is Ipopt version 3.13.2, running with linear solver ma27.\n",
      "\n",
      "Number of nonzeros in equality constraint Jacobian...:      562\n",
      "Number of nonzeros in inequality constraint Jacobian.:        0\n",
      "Number of nonzeros in Lagrangian Hessian.............:      477\n",
      "\n",
      "Total number of variables............................:      204\n",
      "                     variables with only lower bounds:       13\n",
      "                variables with lower and upper bounds:      174\n",
      "                     variables with only upper bounds:        0\n",
      "Total number of equality constraints.................:      204\n",
      "Total number of inequality constraints...............:        0\n",
      "        inequality constraints with only lower bounds:        0\n",
      "   inequality constraints with lower and upper bounds:        0\n",
      "        inequality constraints with only upper bounds:        0\n",
      "\n",
      "iter    objective    inf_pr   inf_du lg(mu)  ||d||  lg(rg) alpha_du alpha_pr  ls\n",
      "   0  0.0000000e+00 1.49e+06 1.00e+00  -1.0 0.00e+00    -  0.00e+00 0.00e+00   0\n",
      "   1  0.0000000e+00 1.35e+04 2.00e-01  -1.0 3.59e+00    -  9.90e-01 9.91e-01h  1\n",
      "   2  0.0000000e+00 3.59e-04 9.99e+00  -1.0 3.56e+00    -  9.90e-01 1.00e+00h  1\n",
      "   3  0.0000000e+00 2.49e-08 8.98e+01  -1.0 2.91e-04    -  9.90e-01 1.00e+00h  1\n",
      "\n",
      "Number of Iterations....: 3\n",
      "\n",
      "                                   (scaled)                 (unscaled)\n",
      "Objective...............:   0.0000000000000000e+00    0.0000000000000000e+00\n",
      "Dual infeasibility......:   0.0000000000000000e+00    0.0000000000000000e+00\n",
      "Constraint violation....:   2.8421709430404007e-14    2.4912878870964050e-08\n",
      "Complementarity.........:   0.0000000000000000e+00    0.0000000000000000e+00\n",
      "Overall NLP error.......:   2.8421709430404007e-14    2.4912878870964050e-08\n",
      "\n",
      "\n",
      "Number of objective function evaluations             = 4\n",
      "Number of objective gradient evaluations             = 4\n",
      "Number of equality constraint evaluations            = 4\n",
      "Number of inequality constraint evaluations          = 0\n",
      "Number of equality constraint Jacobian evaluations   = 4\n",
      "Number of inequality constraint Jacobian evaluations = 0\n",
      "Number of Lagrangian Hessian evaluations             = 3\n",
      "Total CPU secs in IPOPT (w/o function evaluations)   =      0.006\n",
      "Total CPU secs in NLP function evaluations           =      0.000\n",
      "\n",
      "EXIT: Optimal Solution Found.\n"
     ]
    }
   ],
   "source": [
    "# Solve the model\n",
    "results = solver.solve(m, tee=True)"
   ]
  },
  {
   "cell_type": "code",
   "execution_count": 19,
   "metadata": {},
   "outputs": [
    {
     "name": "stdout",
     "output_type": "stream",
     "text": [
      "operating cost = $45.933 million per year\n"
     ]
    }
   ],
   "source": [
    "print(f\"operating cost = ${value(m.fs.operating_cost)/1e6:0.3f} million per year\")"
   ]
  },
  {
   "cell_type": "code",
   "execution_count": 20,
   "metadata": {},
   "outputs": [
    {
     "name": "stdout",
     "output_type": "stream",
     "text": [
      "\n",
      "====================================================================================\n",
      "Unit : fs.R101                                                             Time: 0.0\n",
      "------------------------------------------------------------------------------------\n",
      "    Unit Performance\n",
      "\n",
      "    Variables: \n",
      "\n",
      "    Key       : Value      : Units : Fixed : Bounds\n",
      "    Heat Duty : 2.7605e+07 :  watt : False : (None, None)\n",
      "\n",
      "------------------------------------------------------------------------------------\n",
      "    Stream Table\n",
      "                                Units         Inlet     Outlet  \n",
      "    Total Molar Flowrate     mole / second     309.01     429.02\n",
      "    Total Mole Fraction CH4  dimensionless    0.24272   0.034965\n",
      "    Total Mole Fraction H2O  dimensionless    0.75725    0.31487\n",
      "    Total Mole Fraction H2   dimensionless 9.9996e-06    0.51029\n",
      "    Total Mole Fraction CO   dimensionless 9.9996e-06   0.049157\n",
      "    Total Mole Fraction CO2  dimensionless 9.9996e-06   0.090717\n",
      "    Temperature                     kelvin     500.00     868.56\n",
      "    Pressure                        pascal 2.0000e+05 2.0000e+05\n",
      "====================================================================================\n",
      "\n",
      "Conversion achieved = 80.0%\n"
     ]
    }
   ],
   "source": [
    "m.fs.R101.report()\n",
    "\n",
    "print()\n",
    "print(f\"Conversion achieved = {value(m.fs.R101.conversion):.1%}\")"
   ]
  },
  {
   "cell_type": "code",
   "execution_count": 21,
   "metadata": {},
   "outputs": [],
   "source": [
    "m.fs.objective = Objective(expr=m.fs.operating_cost)"
   ]
  },
  {
   "cell_type": "code",
   "execution_count": 22,
   "metadata": {},
   "outputs": [],
   "source": [
    "m.fs.R101.conversion.fix(0.90)\n",
    "\n",
    "m.fs.C101.outlet.pressure.unfix()\n",
    "m.fs.C101.outlet.pressure[0].setlb(\n",
    "    pyunits.convert(2 * pyunits.bar, to_units=pyunits.Pa)\n",
    ")  # pressurize to at least 2 bar\n",
    "m.fs.C101.outlet.pressure[0].setub(\n",
    "    pyunits.convert(10 * pyunits.bar, to_units=pyunits.Pa)\n",
    ")  # at most, pressurize to 10 bar\n",
    "\n",
    "m.fs.H101.outlet.temperature.unfix()\n",
    "m.fs.H101.heat_duty[0].setlb(\n",
    "    0 * pyunits.J / pyunits.s\n",
    ")  # outlet temperature is equal to or greater than inlet temperature\n",
    "m.fs.H101.outlet.temperature[0].setub(1000 * pyunits.K)  # at most, heat to 1000 K"
   ]
  },
  {
   "cell_type": "code",
   "execution_count": 23,
   "metadata": {
    "scrolled": true
   },
   "outputs": [
    {
     "name": "stdout",
     "output_type": "stream",
     "text": [
      "Ipopt 3.13.2: nlp_scaling_method=gradient-based\n",
      "tol=1e-06\n"
     ]
    },
    {
     "name": "stdout",
     "output_type": "stream",
     "text": [
      "\n",
      "\n",
      "******************************************************************************\n",
      "This program contains Ipopt, a library for large-scale nonlinear optimization.\n",
      " Ipopt is released as open source code under the Eclipse Public License (EPL).\n",
      "         For more information visit http://projects.coin-or.org/Ipopt\n",
      "\n",
      "This version of Ipopt was compiled from source code available at\n",
      "    https://github.com/IDAES/Ipopt as part of the Institute for the Design of\n",
      "    Advanced Energy Systems Process Systems Engineering Framework (IDAES PSE\n",
      "    Framework) Copyright (c) 2018-2019. See https://github.com/IDAES/idaes-pse.\n",
      "\n",
      "This version of Ipopt was compiled using HSL, a collection of Fortran codes\n",
      "    for large-scale scientific computation.  All technical papers, sales and\n",
      "    publicity material resulting from use of the HSL codes within IPOPT must\n",
      "    contain the following acknowledgement:\n",
      "        HSL, a collection of Fortran codes for large-scale scientific\n",
      "        computation. See http://www.hsl.rl.ac.uk.\n",
      "******************************************************************************\n",
      "\n",
      "This is Ipopt version 3.13.2, running with linear solver ma27.\n",
      "\n",
      "Number of nonzeros in equality constraint Jacobian...:      569\n",
      "Number of nonzeros in inequality constraint Jacobian.:        0\n",
      "Number of nonzeros in Lagrangian Hessian.............:      493\n",
      "\n",
      "Total number of variables............................:      206\n",
      "                     variables with only lower bounds:       14\n",
      "                variables with lower and upper bounds:      176\n",
      "                     variables with only upper bounds:        0\n",
      "Total number of equality constraints.................:      204\n",
      "Total number of inequality constraints...............:        0\n",
      "        inequality constraints with only lower bounds:        0\n",
      "   inequality constraints with lower and upper bounds:        0\n",
      "        inequality constraints with only upper bounds:        0\n",
      "\n",
      "iter    objective    inf_pr   inf_du lg(mu)  ||d||  lg(rg) alpha_du alpha_pr  ls\n",
      "   0  4.5933014e+07 1.49e+06 3.46e+01  -1.0 0.00e+00    -  0.00e+00 0.00e+00   0\n",
      "   1  4.5420427e+07 1.49e+06 1.33e+03  -1.0 1.08e+07    -  4.58e-01 5.96e-03f  1\n",
      "   2  4.2830345e+07 8.68e+05 6.47e+06  -1.0 5.32e+06    -  8.03e-01 4.18e-01f  1\n",
      "   3  4.3111576e+07 1.26e+05 1.06e+07  -1.0 2.54e+06    -  9.54e-01 8.85e-01h  1\n",
      "   4  4.3307552e+07 2.24e+03 3.12e+05  -1.0 3.51e+05    -  9.89e-01 9.86e-01h  1\n",
      "   5  4.3309118e+07 2.20e+01 3.08e+03  -1.0 2.69e+03    -  9.90e-01 9.90e-01h  1\n",
      "   6  4.3309131e+07 5.79e-06 3.84e+01  -1.0 2.31e+01    -  9.92e-01 1.00e+00h  1\n",
      "   7  4.3309131e+07 7.77e-09 1.30e-06  -2.5 1.97e-02    -  1.00e+00 1.00e+00f  1\n",
      "   8  4.3309131e+07 2.20e-08 1.95e-06  -3.8 5.56e-04    -  1.00e+00 1.00e+00f  1\n",
      "   9  4.3309131e+07 1.79e-08 1.27e-06  -5.7 3.08e-05    -  1.00e+00 1.00e+00f  1\n",
      "iter    objective    inf_pr   inf_du lg(mu)  ||d||  lg(rg) alpha_du alpha_pr  ls\n",
      "  10  4.3309131e+07 5.88e-09 1.09e-06  -7.0 3.56e-07    -  1.00e+00 1.00e+00f  1\n",
      "\n",
      "Number of Iterations....: 10\n",
      "\n",
      "                                   (scaled)                 (unscaled)\n",
      "Objective...............:   4.3309130854568668e+07    4.3309130854568668e+07\n",
      "Dual infeasibility......:   1.0873799957492332e-06    1.0873799957492332e-06\n",
      "Constraint violation....:   1.4551915228366852e-11    5.8780968648563987e-09\n",
      "Complementarity.........:   9.0909090913936446e-08    9.0909090913936446e-08\n",
      "Overall NLP error.......:   9.0909090913936446e-08    1.0873799957492332e-06\n",
      "\n",
      "\n",
      "Number of objective function evaluations             = 11\n",
      "Number of objective gradient evaluations             = 11\n",
      "Number of equality constraint evaluations            = 11\n",
      "Number of inequality constraint evaluations          = 0\n",
      "Number of equality constraint Jacobian evaluations   = 11\n",
      "Number of inequality constraint Jacobian evaluations = 0\n",
      "Number of Lagrangian Hessian evaluations             = 10\n",
      "Total CPU secs in IPOPT (w/o function evaluations)   =      0.000\n",
      "Total CPU secs in NLP function evaluations           =      0.009\n",
      "\n",
      "EXIT: Optimal Solution Found.\n"
     ]
    }
   ],
   "source": [
    "results = solver.solve(m, tee=True)"
   ]
  },
  {
   "cell_type": "code",
   "execution_count": 24,
   "metadata": {},
   "outputs": [
    {
     "name": "stdout",
     "output_type": "stream",
     "text": [
      "operating cost = $43.309 million per year\n",
      "\n",
      "Compressor results\n",
      "\n",
      "====================================================================================\n",
      "Unit : fs.C101                                                             Time: 0.0\n",
      "------------------------------------------------------------------------------------\n",
      "    Unit Performance\n",
      "\n",
      "    Variables: \n",
      "\n",
      "    Key                   : Value      : Units         : Fixed : Bounds\n",
      "    Isentropic Efficiency :    0.90000 : dimensionless :  True : (None, None)\n",
      "          Mechanical Work : 7.5471e+05 :          watt : False : (None, None)\n",
      "          Pressure Change : 1.0000e+05 :        pascal : False : (None, None)\n",
      "           Pressure Ratio :     2.0000 : dimensionless : False : (None, None)\n",
      "\n",
      "------------------------------------------------------------------------------------\n",
      "    Stream Table\n",
      "                                Units         Inlet     Outlet  \n",
      "    Total Molar Flowrate     mole / second     309.01     309.01\n",
      "    Total Mole Fraction CH4  dimensionless    0.24272    0.24272\n",
      "    Total Mole Fraction H2O  dimensionless    0.75725    0.75725\n",
      "    Total Mole Fraction H2   dimensionless 9.9996e-06 9.9996e-06\n",
      "    Total Mole Fraction CO   dimensionless 9.9996e-06 9.9996e-06\n",
      "    Total Mole Fraction CO2  dimensionless 9.9996e-06 9.9996e-06\n",
      "    Temperature                     kelvin     353.80     423.34\n",
      "    Pressure                        pascal 1.0000e+05 2.0000e+05\n",
      "====================================================================================\n",
      "\n",
      "Heater results\n",
      "\n",
      "====================================================================================\n",
      "Unit : fs.H101                                                             Time: 0.0\n",
      "------------------------------------------------------------------------------------\n",
      "    Unit Performance\n",
      "\n",
      "    Variables: \n",
      "\n",
      "    Key       : Value      : Units : Fixed : Bounds\n",
      "    Heat Duty : 5.8781e-09 :  watt : False : (0, None)\n",
      "\n",
      "------------------------------------------------------------------------------------\n",
      "    Stream Table\n",
      "                                Units         Inlet     Outlet  \n",
      "    Total Molar Flowrate     mole / second     309.01     309.01\n",
      "    Total Mole Fraction CH4  dimensionless    0.24272    0.24272\n",
      "    Total Mole Fraction H2O  dimensionless    0.75725    0.75725\n",
      "    Total Mole Fraction H2   dimensionless 9.9996e-06 9.9996e-06\n",
      "    Total Mole Fraction CO   dimensionless 9.9996e-06 9.9996e-06\n",
      "    Total Mole Fraction CO2  dimensionless 9.9996e-06 9.9996e-06\n",
      "    Temperature                     kelvin     423.34     423.34\n",
      "    Pressure                        pascal 2.0000e+05 2.0000e+05\n",
      "====================================================================================\n",
      "\n",
      "Equilibrium reactor results\n",
      "\n",
      "====================================================================================\n",
      "Unit : fs.R101                                                             Time: 0.0\n",
      "------------------------------------------------------------------------------------\n",
      "    Unit Performance\n",
      "\n",
      "    Variables: \n",
      "\n",
      "    Key       : Value      : Units : Fixed : Bounds\n",
      "    Heat Duty : 3.2486e+07 :  watt : False : (None, None)\n",
      "\n",
      "------------------------------------------------------------------------------------\n",
      "    Stream Table\n",
      "                                Units         Inlet     Outlet  \n",
      "    Total Molar Flowrate     mole / second     309.01     444.02\n",
      "    Total Mole Fraction CH4  dimensionless    0.24272   0.016892\n",
      "    Total Mole Fraction H2O  dimensionless    0.75725    0.29075\n",
      "    Total Mole Fraction H2   dimensionless 9.9996e-06    0.54032\n",
      "    Total Mole Fraction CO   dimensionless 9.9996e-06   0.067801\n",
      "    Total Mole Fraction CO2  dimensionless 9.9996e-06   0.084239\n",
      "    Temperature                     kelvin     423.34     910.04\n",
      "    Pressure                        pascal 2.0000e+05 2.0000e+05\n",
      "====================================================================================\n"
     ]
    }
   ],
   "source": [
    "print(f\"operating cost = ${value(m.fs.operating_cost)/1e6:0.3f} million per year\")\n",
    "\n",
    "print()\n",
    "print(\"Compressor results\")\n",
    "\n",
    "m.fs.C101.report()\n",
    "\n",
    "print()\n",
    "print(\"Heater results\")\n",
    "\n",
    "m.fs.H101.report()\n",
    "\n",
    "print()\n",
    "print(\"Equilibrium reactor results\")\n",
    "\n",
    "m.fs.R101.report()"
   ]
  },
  {
   "cell_type": "code",
   "execution_count": 25,
   "metadata": {},
   "outputs": [
    {
     "name": "stdout",
     "output_type": "stream",
     "text": [
      "Optimal Values\n",
      "\n",
      "C101 outlet pressure = 0.200 MPa\n",
      "\n",
      "C101 outlet temperature = 423.345 K\n",
      "\n",
      "H101 outlet temperature = 423.345 K\n",
      "\n",
      "R101 outlet temperature = 910.044 K\n",
      "\n",
      "Hydrogen produced = 33.648 MM lb/year\n",
      "\n",
      "Conversion achieved = 90.0%\n"
     ]
    }
   ],
   "source": [
    "print(\"Optimal Values\")\n",
    "print()\n",
    "\n",
    "print(f\"C101 outlet pressure = {value(m.fs.C101.outlet.pressure[0])/1E6:0.3f} MPa\")\n",
    "print()\n",
    "\n",
    "print(f\"C101 outlet temperature = {value(m.fs.C101.outlet.temperature[0]):0.3f} K\")\n",
    "print()\n",
    "\n",
    "print(f\"H101 outlet temperature = {value(m.fs.H101.outlet.temperature[0]):0.3f} K\")\n",
    "\n",
    "print()\n",
    "print(f\"R101 outlet temperature = {value(m.fs.R101.outlet.temperature[0]):0.3f} K\")\n",
    "\n",
    "print()\n",
    "print(f\"Hydrogen produced = {value(m.fs.hyd_prod):0.3f} MM lb/year\")\n",
    "\n",
    "print()\n",
    "print(f\"Conversion achieved = {value(m.fs.R101.conversion):.1%}\")"
   ]
  },
  {
   "cell_type": "code",
   "execution_count": null,
   "metadata": {},
   "outputs": [],
   "source": []
  }
 ],
 "metadata": {
  "celltoolbar": "Tags",
  "kernelspec": {
   "display_name": "Python 3 (ipykernel)",
   "language": "python",
   "name": "python3"
  },
  "language_info": {
   "codemirror_mode": {
    "name": "ipython",
    "version": 3
   },
   "file_extension": ".py",
   "mimetype": "text/x-python",
   "name": "python",
   "nbconvert_exporter": "python",
   "pygments_lexer": "ipython3",
   "version": "3.10.0"
  }
 },
 "nbformat": 4,
 "nbformat_minor": 4
}