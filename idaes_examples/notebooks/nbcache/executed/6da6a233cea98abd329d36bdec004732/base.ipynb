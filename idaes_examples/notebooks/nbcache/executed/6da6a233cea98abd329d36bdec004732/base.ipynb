{
 "cells": [
  {
   "cell_type": "code",
   "execution_count": 1,
   "id": "51e154a8",
   "metadata": {
    "tags": [
     "header",
     "hide-cell"
    ]
   },
   "outputs": [],
   "source": [
    "###############################################################################\n",
    "# The Institute for the Design of Advanced Energy Systems Integrated Platform\n",
    "# Framework (IDAES IP) was produced under the DOE Institute for the\n",
    "# Design of Advanced Energy Systems (IDAES).\n",
    "#\n",
    "# Copyright (c) 2018-2023 by the software owners: The Regents of the\n",
    "# University of California, through Lawrence Berkeley National Laboratory,\n",
    "# National Technology & Engineering Solutions of Sandia, LLC, Carnegie Mellon\n",
    "# University, West Virginia University Research Corporation, et al.\n",
    "# All rights reserved.  Please see the files COPYRIGHT.md and LICENSE.md\n",
    "# for full copyright and license information.\n",
    "###############################################################################"
   ]
  },
  {
   "cell_type": "code",
   "execution_count": 2,
   "metadata": {},
   "outputs": [],
   "source": [
    "# Import Pyomo libraries\n",
    "from pyomo.environ import Constraint, exp, Param, Set, units as pyunits, Var\n",
    "\n",
    "# Import IDAES cores\n",
    "from idaes.core import (\n",
    "    declare_process_block_class,\n",
    "    MaterialFlowBasis,\n",
    "    ReactionParameterBlock,\n",
    "    ReactionBlockDataBase,\n",
    "    ReactionBlockBase,\n",
    ")\n",
    "from idaes.core.util.constants import Constants as const\n",
    "import idaes.logger as idaeslog"
   ]
  },
  {
   "cell_type": "code",
   "execution_count": 3,
   "metadata": {},
   "outputs": [],
   "source": [
    "units_metadata = {\n",
    "    \"time\": pyunits.s,\n",
    "    \"length\": pyunits.m,\n",
    "    \"mass\": pyunits.kg,\n",
    "    \"amount\": pyunits.mol,\n",
    "    \"temperature\": pyunits.K,\n",
    "}\n",
    "\n",
    "properties_metadata = {\n",
    "    \"k_rxn\": {\"method\": None},\n",
    "    \"k_eq\": {\"method\": None},\n",
    "    \"reaction_rate\": {\"method\": None},\n",
    "}"
   ]
  },
  {
   "cell_type": "code",
   "execution_count": 4,
   "metadata": {},
   "outputs": [],
   "source": [
    "def define_kinetic_reactions(self):\n",
    "    # Rate Reaction Index\n",
    "    self.rate_reaction_idx = Set(initialize=[\"R1\"])\n",
    "\n",
    "    # Rate Reaction Stoichiometry\n",
    "    self.rate_reaction_stoichiometry = {\n",
    "        (\"R1\", \"Vap\", \"benzene\"): 1,\n",
    "        (\"R1\", \"Vap\", \"toluene\"): -1,\n",
    "        (\"R1\", \"Vap\", \"hydrogen\"): -1,\n",
    "        (\"R1\", \"Vap\", \"methane\"): 1,\n",
    "        (\"R1\", \"Vap\", \"diphenyl\"): 0,\n",
    "    }"
   ]
  },
  {
   "cell_type": "code",
   "execution_count": 5,
   "metadata": {},
   "outputs": [],
   "source": [
    "def define_equilibrium_reactions(self):\n",
    "    # Equilibrium Reaction Index\n",
    "    self.equilibrium_reaction_idx = Set(initialize=[\"E1\"])\n",
    "\n",
    "    # Equilibrium Reaction Stoichiometry\n",
    "    self.equilibrium_reaction_stoichiometry = {\n",
    "        (\"E1\", \"Vap\", \"benzene\"): -2,\n",
    "        (\"E1\", \"Vap\", \"toluene\"): 0,\n",
    "        (\"E1\", \"Vap\", \"hydrogen\"): 1,\n",
    "        (\"E1\", \"Vap\", \"methane\"): 0,\n",
    "        (\"E1\", \"Vap\", \"diphenyl\"): 1,\n",
    "    }"
   ]
  },
  {
   "cell_type": "code",
   "execution_count": 6,
   "metadata": {},
   "outputs": [],
   "source": [
    "def define_parameters(self):\n",
    "    # Arrhenius Constant\n",
    "    self.arrhenius = Param(\n",
    "        default=1.25e-9,\n",
    "        doc=\"Arrhenius constant\",\n",
    "        units=pyunits.mol / pyunits.m**3 / pyunits.s / pyunits.Pa**2,\n",
    "    )\n",
    "\n",
    "    # Activation Energy\n",
    "    self.energy_activation = Param(\n",
    "        default=3800, doc=\"Activation energy\", units=pyunits.J / pyunits.mol\n",
    "    )"
   ]
  },
  {
   "cell_type": "code",
   "execution_count": 7,
   "metadata": {},
   "outputs": [],
   "source": [
    "@declare_process_block_class(\"HDAReactionParameterBlock\")\n",
    "class HDAReactionParameterData(ReactionParameterBlock):\n",
    "    \"\"\"\n",
    "    Reaction Parameter Block Class\n",
    "    \"\"\"\n",
    "\n",
    "    def build(self):\n",
    "        \"\"\"\n",
    "        Callable method for Block construction.\n",
    "        \"\"\"\n",
    "        super(HDAReactionParameterData, self).build()\n",
    "\n",
    "        self._reaction_block_class = HDAReactionBlock\n",
    "\n",
    "        define_kinetic_reactions(self)\n",
    "        define_equilibrium_reactions(self)\n",
    "        define_parameters(self)\n",
    "\n",
    "    @classmethod\n",
    "    def define_metadata(cls, obj):\n",
    "        obj.add_properties(properties_metadata)\n",
    "        obj.add_default_units(units_metadata)"
   ]
  },
  {
   "cell_type": "code",
   "execution_count": 8,
   "metadata": {},
   "outputs": [],
   "source": [
    "def define_variables_and_parameters(self):\n",
    "    self.k_rxn = Var(\n",
    "        initialize=7e-10,\n",
    "        doc=\"Rate constant\",\n",
    "        units=pyunits.mol / pyunits.m**3 / pyunits.s / pyunits.Pa**2,\n",
    "    )\n",
    "\n",
    "    self.reaction_rate = Var(\n",
    "        self.params.rate_reaction_idx,\n",
    "        initialize=0,\n",
    "        doc=\"Rate of reaction\",\n",
    "        units=pyunits.mol / pyunits.m**3 / pyunits.s,\n",
    "    )\n",
    "\n",
    "    self.k_eq = Param(initialize=10000, doc=\"Equlibrium constant\", units=pyunits.Pa)"
   ]
  },
  {
   "cell_type": "code",
   "execution_count": 9,
   "metadata": {},
   "outputs": [],
   "source": [
    "def define_rate_expression(self):\n",
    "    self.arrhenius_equation = Constraint(\n",
    "        expr=self.k_rxn\n",
    "        == self.params.arrhenius\n",
    "        * exp(\n",
    "            -self.params.energy_activation\n",
    "            / (const.gas_constant * self.state_ref.temperature)\n",
    "        )\n",
    "    )\n",
    "\n",
    "    def rate_rule(b, r):\n",
    "        return b.reaction_rate[r] == (\n",
    "            b.k_rxn\n",
    "            * b.state_ref.mole_frac_comp[\"toluene\"]\n",
    "            * b.state_ref.mole_frac_comp[\"hydrogen\"]\n",
    "            * b.state_ref.pressure**2\n",
    "        )\n",
    "\n",
    "    self.rate_expression = Constraint(self.params.rate_reaction_idx, rule=rate_rule)"
   ]
  },
  {
   "cell_type": "code",
   "execution_count": 10,
   "metadata": {},
   "outputs": [],
   "source": [
    "def define_equilibrium_expression(self):\n",
    "    self.equilibrium_constraint = Constraint(\n",
    "        expr=self.k_eq\n",
    "        * self.state_ref.mole_frac_comp[\"benzene\"]\n",
    "        * self.state_ref.pressure\n",
    "        == self.state_ref.mole_frac_comp[\"diphenyl\"]\n",
    "        * self.state_ref.mole_frac_comp[\"hydrogen\"]\n",
    "        * self.state_ref.pressure**2\n",
    "    )"
   ]
  },
  {
   "cell_type": "code",
   "execution_count": 11,
   "metadata": {},
   "outputs": [],
   "source": [
    "class _HDAReactionBlock(ReactionBlockBase):\n",
    "    def initialize(blk, outlvl=idaeslog.NOTSET, **kwargs):\n",
    "        init_log = idaeslog.getInitLogger(blk.name, outlvl, tag=\"properties\")\n",
    "        init_log.info(\"Initialization Complete.\")\n",
    "\n",
    "\n",
    "@declare_process_block_class(\"HDAReactionBlock\", block_class=_HDAReactionBlock)\n",
    "class HDAReactionBlockData(ReactionBlockDataBase):\n",
    "    def build(self):\n",
    "\n",
    "        super(HDAReactionBlockData, self).build()\n",
    "\n",
    "        define_variables_and_parameters(self)\n",
    "        define_rate_expression(self)\n",
    "        define_equilibrium_expression(self)\n",
    "\n",
    "    def get_reaction_rate_basis(b):\n",
    "        return MaterialFlowBasis.molar"
   ]
  },
  {
   "cell_type": "code",
   "execution_count": 12,
   "metadata": {},
   "outputs": [],
   "source": [
    "from pyomo.environ import ConcreteModel\n",
    "from pyomo.util.check_units import assert_units_consistent\n",
    "\n",
    "from idaes.core import FlowsheetBlock\n",
    "from idaes.core.solvers import get_solver\n",
    "from idaes.models.unit_models import CSTR\n",
    "\n",
    "from thermophysical_property_example import HDAParameterBlock\n",
    "\n",
    "from idaes.core.util.model_statistics import degrees_of_freedom"
   ]
  },
  {
   "cell_type": "code",
   "execution_count": 13,
   "metadata": {},
   "outputs": [],
   "source": [
    "m = ConcreteModel()\n",
    "\n",
    "m.fs = FlowsheetBlock(dynamic=False)\n",
    "\n",
    "m.fs.thermo_params = HDAParameterBlock()\n",
    "m.fs.reaction_params = HDAReactionParameterBlock(property_package=m.fs.thermo_params)\n",
    "\n",
    "m.fs.reactor = CSTR(\n",
    "    property_package=m.fs.thermo_params,\n",
    "    reaction_package=m.fs.reaction_params,\n",
    "    has_equilibrium_reactions=True,\n",
    ")"
   ]
  },
  {
   "cell_type": "code",
   "execution_count": 14,
   "metadata": {},
   "outputs": [
    {
     "name": "stdout",
     "output_type": "stream",
     "text": [
      "Degrees of Freedom:  9\n"
     ]
    }
   ],
   "source": [
    "print(\"Degrees of Freedom: \", degrees_of_freedom(m))"
   ]
  },
  {
   "cell_type": "code",
   "execution_count": 15,
   "metadata": {},
   "outputs": [
    {
     "name": "stdout",
     "output_type": "stream",
     "text": [
      "Degrees of Freedom:  0\n"
     ]
    }
   ],
   "source": [
    "m.fs.reactor.inlet.flow_mol.fix(100)\n",
    "m.fs.reactor.inlet.temperature.fix(500)\n",
    "m.fs.reactor.inlet.pressure.fix(350000)\n",
    "m.fs.reactor.inlet.mole_frac_comp[0, \"benzene\"].fix(0.1)\n",
    "m.fs.reactor.inlet.mole_frac_comp[0, \"toluene\"].fix(0.4)\n",
    "m.fs.reactor.inlet.mole_frac_comp[0, \"hydrogen\"].fix(0.4)\n",
    "m.fs.reactor.inlet.mole_frac_comp[0, \"methane\"].fix(0.1)\n",
    "m.fs.reactor.inlet.mole_frac_comp[0, \"diphenyl\"].fix(0.0)\n",
    "\n",
    "m.fs.reactor.volume.fix(1)\n",
    "\n",
    "print(\"Degrees of Freedom: \", degrees_of_freedom(m))"
   ]
  },
  {
   "cell_type": "code",
   "execution_count": 16,
   "metadata": {},
   "outputs": [
    {
     "name": "stdout",
     "output_type": "stream",
     "text": [
      "2023-02-18 12:05:03 [INFO] idaes.init.fs.reactor.control_volume.properties_in: Properties Initialized optimal - Optimal Solution Found.\n"
     ]
    },
    {
     "name": "stdout",
     "output_type": "stream",
     "text": [
      "2023-02-18 12:05:03 [INFO] idaes.init.fs.reactor.control_volume.properties_out: Properties Initialized optimal - Optimal Solution Found.\n"
     ]
    },
    {
     "name": "stdout",
     "output_type": "stream",
     "text": [
      "2023-02-18 12:05:03 [INFO] idaes.init.fs.reactor.control_volume.reactions: Initialization Complete.\n"
     ]
    },
    {
     "name": "stdout",
     "output_type": "stream",
     "text": [
      "2023-02-18 12:05:03 [INFO] idaes.init.fs.reactor.control_volume: Initialization Complete\n"
     ]
    },
    {
     "name": "stdout",
     "output_type": "stream",
     "text": [
      "2023-02-18 12:05:03 [INFO] idaes.init.fs.reactor: Initialization Complete: optimal - Optimal Solution Found\n"
     ]
    },
    {
     "name": "stdout",
     "output_type": "stream",
     "text": [
      "Ipopt 3.13.2: nlp_scaling_method=gradient-based\n",
      "tol=1e-06\n",
      "\n",
      "\n",
      "******************************************************************************\n",
      "This program contains Ipopt, a library for large-scale nonlinear optimization.\n",
      " Ipopt is released as open source code under the Eclipse Public License (EPL).\n",
      "         For more information visit http://projects.coin-or.org/Ipopt\n",
      "\n",
      "This version of Ipopt was compiled from source code available at\n",
      "    https://github.com/IDAES/Ipopt as part of the Institute for the Design of\n",
      "    Advanced Energy Systems Process Systems Engineering Framework (IDAES PSE\n",
      "    Framework) Copyright (c) 2018-2019. See https://github.com/IDAES/idaes-pse.\n",
      "\n",
      "This version of Ipopt was compiled using HSL, a collection of Fortran codes\n",
      "    for large-scale scientific computation.  All technical papers, sales and\n",
      "    publicity material resulting from use of the HSL codes within IPOPT must\n",
      "    contain the following acknowledgement:\n",
      "        HSL, a collection of Fortran codes for large-scale scientific\n",
      "        computation. See http://www.hsl.rl.ac.uk.\n",
      "******************************************************************************\n",
      "\n",
      "This is Ipopt version 3.13.2, running with linear solver ma27.\n",
      "\n",
      "Number of nonzeros in equality constraint Jacobian...:       67\n",
      "Number of nonzeros in inequality constraint Jacobian.:        0\n",
      "Number of nonzeros in Lagrangian Hessian.............:       36\n",
      "\n",
      "Total number of variables............................:       24\n",
      "                     variables with only lower bounds:        5\n",
      "                variables with lower and upper bounds:        3\n",
      "                     variables with only upper bounds:        0\n",
      "Total number of equality constraints.................:       24\n",
      "Total number of inequality constraints...............:        0\n",
      "        inequality constraints with only lower bounds:        0\n",
      "   inequality constraints with lower and upper bounds:        0\n",
      "        inequality constraints with only upper bounds:        0\n",
      "\n",
      "iter    objective    inf_pr   inf_du lg(mu)  ||d||  lg(rg) alpha_du alpha_pr  ls\n",
      "   0  0.0000000e+00 1.30e-08 1.00e+00  -1.0 0.00e+00    -  0.00e+00 0.00e+00   0\n"
     ]
    },
    {
     "name": "stdout",
     "output_type": "stream",
     "text": [
      "\n",
      "Number of Iterations....: 0\n",
      "\n",
      "                                   (scaled)                 (unscaled)\n",
      "Objective...............:   0.0000000000000000e+00    0.0000000000000000e+00\n",
      "Dual infeasibility......:   0.0000000000000000e+00    0.0000000000000000e+00\n",
      "Constraint violation....:   7.9734232250544974e-12    1.3038516044616698e-08\n",
      "Complementarity.........:   0.0000000000000000e+00    0.0000000000000000e+00\n",
      "Overall NLP error.......:   7.9734232250544974e-12    1.3038516044616698e-08\n",
      "\n",
      "\n",
      "Number of objective function evaluations             = 1\n",
      "Number of objective gradient evaluations             = 1\n",
      "Number of equality constraint evaluations            = 1\n",
      "Number of inequality constraint evaluations          = 0\n",
      "Number of equality constraint Jacobian evaluations   = 1\n",
      "Number of inequality constraint Jacobian evaluations = 0\n",
      "Number of Lagrangian Hessian evaluations             = 0\n",
      "Total CPU secs in IPOPT (w/o function evaluations)   =      0.001\n",
      "Total CPU secs in NLP function evaluations           =      0.000\n",
      "\n",
      "EXIT: Optimal Solution Found.\n"
     ]
    }
   ],
   "source": [
    "m.fs.reactor.initialize(\n",
    "    state_args={\n",
    "        \"flow_mol\": 100,\n",
    "        \"mole_frac_comp\": {\n",
    "            \"benzene\": 0.15,\n",
    "            \"toluene\": 0.35,\n",
    "            \"hydrogen\": 0.35,\n",
    "            \"methane\": 0.15,\n",
    "            \"diphenyl\": 0.01,\n",
    "        },\n",
    "        \"temperature\": 600,\n",
    "        \"pressure\": 350000,\n",
    "    }\n",
    ")\n",
    "\n",
    "solver = get_solver()\n",
    "results = solver.solve(m, tee=True)"
   ]
  },
  {
   "cell_type": "code",
   "execution_count": 17,
   "metadata": {},
   "outputs": [
    {
     "name": "stdout",
     "output_type": "stream",
     "text": [
      "\n",
      "====================================================================================\n",
      "Unit : fs.reactor                                                          Time: 0.0\n",
      "------------------------------------------------------------------------------------\n",
      "    Unit Performance\n",
      "\n",
      "    Variables: \n",
      "\n",
      "    Key    : Value  : Units      : Fixed : Bounds\n",
      "    Volume : 1.0000 : meter ** 3 :  True : (None, None)\n",
      "\n",
      "------------------------------------------------------------------------------------\n",
      "    Stream Table\n",
      "                                Units         Inlet     Outlet  \n",
      "    flow_mol                 mole / second     100.00     100.00\n",
      "    mole_frac_comp benzene   dimensionless    0.10000    0.15963\n",
      "    mole_frac_comp toluene   dimensionless    0.40000    0.31243\n",
      "    mole_frac_comp methane   dimensionless    0.10000    0.18757\n",
      "    mole_frac_comp hydrogen  dimensionless    0.40000    0.32640\n",
      "    mole_frac_comp diphenyl  dimensionless     0.0000   0.013973\n",
      "    temperature                     kelvin     500.00     790.21\n",
      "    pressure                        pascal 3.5000e+05 3.5000e+05\n",
      "====================================================================================\n"
     ]
    }
   ],
   "source": [
    "m.fs.reactor.report()"
   ]
  },
  {
   "cell_type": "code",
   "execution_count": 18,
   "metadata": {},
   "outputs": [],
   "source": [
    "assert_units_consistent(m)"
   ]
  }
 ],
 "metadata": {
  "celltoolbar": "Tags",
  "kernelspec": {
   "display_name": "Python 3 (ipykernel)",
   "language": "python",
   "name": "python3"
  },
  "language_info": {
   "codemirror_mode": {
    "name": "ipython",
    "version": 3
   },
   "file_extension": ".py",
   "mimetype": "text/x-python",
   "name": "python",
   "nbconvert_exporter": "python",
   "pygments_lexer": "ipython3",
   "version": "3.10.0"
  }
 },
 "nbformat": 4,
 "nbformat_minor": 4
}