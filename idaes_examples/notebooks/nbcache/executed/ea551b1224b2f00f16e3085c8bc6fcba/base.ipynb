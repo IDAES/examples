{
 "cells": [
  {
   "cell_type": "code",
   "execution_count": 1,
   "id": "eeb0f473",
   "metadata": {
    "tags": [
     "header",
     "hide-cell"
    ]
   },
   "outputs": [],
   "source": [
    "###############################################################################\n",
    "# The Institute for the Design of Advanced Energy Systems Integrated Platform\n",
    "# Framework (IDAES IP) was produced under the DOE Institute for the\n",
    "# Design of Advanced Energy Systems (IDAES).\n",
    "#\n",
    "# Copyright (c) 2018-2023 by the software owners: The Regents of the\n",
    "# University of California, through Lawrence Berkeley National Laboratory,\n",
    "# National Technology & Engineering Solutions of Sandia, LLC, Carnegie Mellon\n",
    "# University, West Virginia University Research Corporation, et al.\n",
    "# All rights reserved.  Please see the files COPYRIGHT.md and LICENSE.md\n",
    "# for full copyright and license information.\n",
    "###############################################################################"
   ]
  },
  {
   "cell_type": "code",
   "execution_count": 2,
   "id": "9ea6722e",
   "metadata": {},
   "outputs": [],
   "source": [
    "import visualizer_tutorial as vistut\n",
    "\n",
    "vistut.quiet()  # turn off default logging and most warnings\n",
    "from idaes.core.util.model_statistics import degrees_of_freedom\n",
    "from IPython.display import Markdown"
   ]
  },
  {
   "cell_type": "code",
   "execution_count": 3,
   "id": "04a8f5b7",
   "metadata": {},
   "outputs": [
    {
     "data": {
      "text/markdown": [
       "## Create an IDAES flowsheet for hydrodealkylation (HDA)\n",
       "### About HDA\n",
       "\n",
       "Hydrodealkylation (HDA) is a chemical reaction that often involves reacting\n",
       "an aromatic hydrocarbon in the presence of hydrogen gas to form a\n",
       "simpler aromatic hydrocarbon devoid of functional groups. In this\n",
       "example, toluene will be reacted with hydrogen gas at high temperatures\n",
       "to form benzene via the following reaction:\n",
       "\n",
       "**C<sub>6</sub>H<sub>5</sub>CH<sub>3</sub> + H<sub>2</sub> → C<sub>6</sub>H<sub>6</sub> + CH<sub>4</sub>**\n",
       "\n",
       "This reaction is often accompanied by an equilibrium side reaction\n",
       "which forms diphenyl, which we will not cover in this example.\n",
       "\n",
       "### References\n",
       "\n",
       "This example is based on the 1967 AIChE Student Contest problem as\n",
       "present by Douglas, J.M., Chemical  Design of Chemical Processes, 1988,\n",
       "McGraw-Hill.\n"
      ],
      "text/plain": [
       "<IPython.core.display.Markdown object>"
      ]
     },
     "metadata": {},
     "output_type": "display_data"
    },
    {
     "name": "stdout",
     "output_type": "stream",
     "text": [
      "DOF = 0\n"
     ]
    }
   ],
   "source": [
    "# use the pre-defined function to create the flowsheet\n",
    "model = vistut.create_model()\n",
    "\n",
    "# description of the flowsheet we created\n",
    "display(Markdown(vistut.function_markdown(vistut.create_model)))\n",
    "\n",
    "vistut.quiet()\n",
    "\n",
    "# initialize the flowsheet as a square problem (dof=0)\n",
    "vistut.initialize_model(model)\n",
    "\n",
    "# verify that there are zero degrees of freedom\n",
    "print(f\"DOF = {degrees_of_freedom(model)}\")"
   ]
  },
  {
   "cell_type": "code",
   "execution_count": 4,
   "id": "e1db6109",
   "metadata": {},
   "outputs": [],
   "source": [
    "# Add a second flash unit\n",
    "from idaes.models.unit_models import Flash\n",
    "from pyomo.network import Arc\n",
    "from pyomo.environ import Expression, TransformationFactory\n",
    "\n",
    "m = model  # alias\n",
    "m.fs.F102 = Flash(\n",
    "    property_package=m.fs.thermo_params,\n",
    "    has_heat_transfer=True,\n",
    "    has_pressure_change=True,\n",
    ")\n",
    "# connect to 1st flash unit\n",
    "m.fs.s10 = Arc(source=m.fs.F101.liq_outlet, destination=m.fs.F102.inlet)\n",
    "# update expressions for purity and cost\n",
    "m.fs.purity = Expression(\n",
    "    expr=m.fs.F102.vap_outlet.flow_mol_phase_comp[0, \"Vap\", \"benzene\"]\n",
    "    / (\n",
    "        m.fs.F102.vap_outlet.flow_mol_phase_comp[0, \"Vap\", \"benzene\"]\n",
    "        + m.fs.F102.vap_outlet.flow_mol_phase_comp[0, \"Vap\", \"toluene\"]\n",
    "    )\n",
    ")\n",
    "m.fs.heating_cost = Expression(\n",
    "    expr=2.2e-7 * m.fs.H101.heat_duty[0] + 1.9e-7 * m.fs.F102.heat_duty[0]\n",
    ")\n",
    "# fix unit output and pressure drop\n",
    "m.fs.F102.vap_outlet.temperature.fix(375)\n",
    "m.fs.F102.deltaP.fix(-200000)\n",
    "\n",
    "# expand arcs\n",
    "TransformationFactory(\"network.expand_arcs\").apply_to(m)\n",
    "# re-initialize\n",
    "_ = vistut.initialize_model(m)"
   ]
  },
  {
   "cell_type": "code",
   "execution_count": 5,
   "id": "66b84237",
   "metadata": {},
   "outputs": [],
   "source": [
    "# v model.fs.visualize(\"Hydrodealkylation-new\")"
   ]
  },
  {
   "cell_type": "code",
   "execution_count": 6,
   "id": "e9166c3a",
   "metadata": {},
   "outputs": [
    {
     "name": "stdout",
     "output_type": "stream",
     "text": [
      "Started visualization server\n",
      "Loading saved flowsheet from 'HDA_solved.json'\n",
      "Saving flowsheet to default file 'HDA_solved.json' in current directory (C:\\Users\\dang\\src\\idaes\\dangunter\\idaes-examples\\idaes_examples\\notebooks\\docs\\tut)\n",
      "_build_abstract_layout - node_name: hydrogen_feed_1\n",
      "_build_abstract_layout - node_name: toluene_feed_1\n",
      "_build_abstract_layout - node_name: M101\n",
      "_build_abstract_layout - node_name: H101\n",
      "_build_abstract_layout - node_name: R101\n",
      "_build_abstract_layout - node_name: F101\n",
      "_build_abstract_layout - node_name: S101\n",
      "_build_abstract_layout - node_name: F102\n",
      "_build_abstract_layout - node_name: C101\n",
      "_build_abstract_layout - node_name: vap_outlet_1\n",
      "_build_abstract_layout - node_name: liq_outlet_1\n"
     ]
    },
    {
     "name": "stdout",
     "output_type": "stream",
     "text": [
      "Flowsheet visualization at: http://localhost:49310/app?id=HDA_solved\n"
     ]
    }
   ],
   "source": [
    "# Create the solver object\n",
    "from pyomo.environ import SolverFactory\n",
    "\n",
    "solver = SolverFactory(\"ipopt\")\n",
    "solver.options = {\"tol\": 1e-6, \"max_iter\": 5000}\n",
    "\n",
    "# Solve the model\n",
    "results = solver.solve(model, tee=False)\n",
    "\n",
    "# Open a second window\n",
    "model.fs.visualize(\"HDA_solved\")"
   ]
  },
  {
   "cell_type": "code",
   "execution_count": null,
   "id": "a3e6077d",
   "metadata": {},
   "outputs": [],
   "source": []
  }
 ],
 "metadata": {
  "kernelspec": {
   "display_name": "Python 3 (ipykernel)",
   "language": "python",
   "name": "python3"
  },
  "language_info": {
   "codemirror_mode": {
    "name": "ipython",
    "version": 3
   },
   "file_extension": ".py",
   "mimetype": "text/x-python",
   "name": "python",
   "nbconvert_exporter": "python",
   "pygments_lexer": "ipython3",
   "version": "3.10.0"
  }
 },
 "nbformat": 4,
 "nbformat_minor": 5
}