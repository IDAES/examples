{
 "cells": [
  {
   "cell_type": "code",
   "execution_count": 1,
   "id": "f342df85",
   "metadata": {
    "tags": [
     "header",
     "hide-cell"
    ]
   },
   "outputs": [],
   "source": [
    "###############################################################################\n",
    "# The Institute for the Design of Advanced Energy Systems Integrated Platform\n",
    "# Framework (IDAES IP) was produced under the DOE Institute for the\n",
    "# Design of Advanced Energy Systems (IDAES).\n",
    "#\n",
    "# Copyright (c) 2018-2023 by the software owners: The Regents of the\n",
    "# University of California, through Lawrence Berkeley National Laboratory,\n",
    "# National Technology & Engineering Solutions of Sandia, LLC, Carnegie Mellon\n",
    "# University, West Virginia University Research Corporation, et al.\n",
    "# All rights reserved.  Please see the files COPYRIGHT.md and LICENSE.md\n",
    "# for full copyright and license information.\n",
    "###############################################################################"
   ]
  },
  {
   "cell_type": "code",
   "execution_count": 2,
   "metadata": {},
   "outputs": [],
   "source": [
    "# Import components from Pyomo\n",
    "from pyomo.environ import (\n",
    "    Constraint,\n",
    "    Expression,\n",
    "    Reference,\n",
    "    Param,\n",
    "    units as pyunits,\n",
    "    Var,\n",
    ")\n",
    "\n",
    "# Import IDAES cores\n",
    "from idaes.core import (\n",
    "    declare_process_block_class,\n",
    "    MaterialFlowBasis,\n",
    "    PhysicalParameterBlock,\n",
    "    StateBlockData,\n",
    "    StateBlock,\n",
    "    MaterialBalanceType,\n",
    "    EnergyBalanceType,\n",
    "    Component,\n",
    "    VaporPhase,\n",
    ")\n",
    "from idaes.core.solvers import get_solver\n",
    "from idaes.core.util.initialization import (\n",
    "    fix_state_vars,\n",
    "    revert_state_vars,\n",
    "    solve_indexed_blocks,\n",
    ")\n",
    "from idaes.core.util.model_statistics import (\n",
    "    degrees_of_freedom,\n",
    "    number_unfixed_variables,\n",
    ")\n",
    "from idaes.core.util.constants import Constants as const\n",
    "import idaes.logger as idaeslog"
   ]
  },
  {
   "cell_type": "code",
   "execution_count": 3,
   "metadata": {},
   "outputs": [],
   "source": [
    "units_metadata = {\n",
    "    \"time\": pyunits.s,\n",
    "    \"length\": pyunits.m,\n",
    "    \"mass\": pyunits.kg,\n",
    "    \"amount\": pyunits.mol,\n",
    "    \"temperature\": pyunits.K,\n",
    "}"
   ]
  },
  {
   "cell_type": "code",
   "execution_count": 4,
   "metadata": {},
   "outputs": [],
   "source": [
    "properties_metadata = {\n",
    "    \"flow_mol\": {\"method\": None},\n",
    "    \"mole_frac_comp\": {\"method\": None},\n",
    "    \"temperature\": {\"method\": None},\n",
    "    \"pressure\": {\"method\": None},\n",
    "    \"mw_comp\": {\"method\": None},\n",
    "    \"dens_mol\": {\"method\": None},\n",
    "    \"enth_mol\": {\"method\": \"_enth_mol\"},\n",
    "}"
   ]
  },
  {
   "cell_type": "code",
   "execution_count": 5,
   "metadata": {},
   "outputs": [],
   "source": [
    "def define_components_and_phases(self):\n",
    "    # Define Component objects for all species\n",
    "    self.benzene = Component()\n",
    "    self.toluene = Component()\n",
    "    self.methane = Component()\n",
    "    self.hydrogen = Component()\n",
    "    self.diphenyl = Component()\n",
    "\n",
    "    # Define Phase objects for all phases\n",
    "    self.Vap = VaporPhase()"
   ]
  },
  {
   "cell_type": "code",
   "execution_count": 6,
   "metadata": {},
   "outputs": [],
   "source": [
    "def define_basic_parameters(self):\n",
    "    # Thermodynamic reference state\n",
    "    self.pressure_ref = Param(\n",
    "        mutable=True, default=101325, units=pyunits.Pa, doc=\"Reference pressure\"\n",
    "    )\n",
    "    self.temperature_ref = Param(\n",
    "        mutable=True, default=298.15, units=pyunits.K, doc=\"Reference temperature\"\n",
    "    )\n",
    "\n",
    "    self.mw_comp = Param(\n",
    "        self.component_list,\n",
    "        mutable=False,\n",
    "        initialize={\n",
    "            \"benzene\": 78.1136e-3,\n",
    "            \"toluene\": 92.1405e-3,\n",
    "            \"hydrogen\": 2.016e-3,\n",
    "            \"methane\": 16.043e-3,\n",
    "            \"diphenyl\": 154.212e-4,\n",
    "        },\n",
    "        units=pyunits.kg / pyunits.mol,\n",
    "        doc=\"Molecular weight\",\n",
    "    )"
   ]
  },
  {
   "cell_type": "code",
   "execution_count": 7,
   "metadata": {},
   "outputs": [],
   "source": [
    "def define_specific_heat_parameters(self):\n",
    "    # Constants for specific heat capacity, enthalpy\n",
    "    self.cp_mol_ig_comp_coeff_A = Var(\n",
    "        self.component_list,\n",
    "        initialize={\n",
    "            \"benzene\": -3.392e1,\n",
    "            \"toluene\": -2.435e1,\n",
    "            \"hydrogen\": 2.714e1,\n",
    "            \"methane\": 1.925e1,\n",
    "            \"diphenyl\": -9.707e1,\n",
    "        },\n",
    "        units=pyunits.J / pyunits.mol / pyunits.K,\n",
    "        doc=\"Parameter A for ideal gas molar heat capacity\",\n",
    "    )\n",
    "    self.cp_mol_ig_comp_coeff_A.fix()\n",
    "\n",
    "    self.cp_mol_ig_comp_coeff_B = Var(\n",
    "        self.component_list,\n",
    "        initialize={\n",
    "            \"benzene\": 4.739e-1,\n",
    "            \"toluene\": 5.125e-1,\n",
    "            \"hydrogen\": 9.274e-3,\n",
    "            \"methane\": 5.213e-2,\n",
    "            \"diphenyl\": 1.106e0,\n",
    "        },\n",
    "        units=pyunits.J / pyunits.mol / pyunits.K**2,\n",
    "        doc=\"Parameter B for ideal gas molar heat capacity\",\n",
    "    )\n",
    "    self.cp_mol_ig_comp_coeff_B.fix()\n",
    "\n",
    "    self.cp_mol_ig_comp_coeff_C = Var(\n",
    "        self.component_list,\n",
    "        initialize={\n",
    "            \"benzene\": -3.017e-4,\n",
    "            \"toluene\": -2.765e-4,\n",
    "            \"hydrogen\": -1.381e-5,\n",
    "            \"methane\": -8.855e-4,\n",
    "            \"diphenyl\": -8.855e-4,\n",
    "        },\n",
    "        units=pyunits.J / pyunits.mol / pyunits.K**3,\n",
    "        doc=\"Parameter C for ideal gas molar heat capacity\",\n",
    "    )\n",
    "    self.cp_mol_ig_comp_coeff_C.fix()\n",
    "\n",
    "    self.cp_mol_ig_comp_coeff_D = Var(\n",
    "        self.component_list,\n",
    "        initialize={\n",
    "            \"benzene\": 7.130e-8,\n",
    "            \"toluene\": 4.911e-8,\n",
    "            \"hydrogen\": 7.645e-9,\n",
    "            \"methane\": -1.132e-8,\n",
    "            \"diphenyl\": 2.790e-7,\n",
    "        },\n",
    "        units=pyunits.J / pyunits.mol / pyunits.K**4,\n",
    "        doc=\"Parameter D for ideal gas molar heat capacity\",\n",
    "    )\n",
    "    self.cp_mol_ig_comp_coeff_D.fix()\n",
    "\n",
    "    self.enth_mol_form_vap_comp_ref = Var(\n",
    "        self.component_list,\n",
    "        initialize={\n",
    "            \"benzene\": -82.9e3,\n",
    "            \"toluene\": -50.1e3,\n",
    "            \"hydrogen\": 0,\n",
    "            \"methane\": -75e3,\n",
    "            \"diphenyl\": -180e3,\n",
    "        },\n",
    "        units=pyunits.J / pyunits.mol,\n",
    "        doc=\"Standard heat of formation at reference state\",\n",
    "    )\n",
    "    self.enth_mol_form_vap_comp_ref.fix()"
   ]
  },
  {
   "cell_type": "code",
   "execution_count": 8,
   "metadata": {},
   "outputs": [],
   "source": [
    "@declare_process_block_class(\"HDAParameterBlock\")\n",
    "class HDAParameterData(PhysicalParameterBlock):\n",
    "    CONFIG = PhysicalParameterBlock.CONFIG()\n",
    "\n",
    "    def build(self):\n",
    "        \"\"\"\n",
    "        Callable method for Block construction.\n",
    "        \"\"\"\n",
    "        super(HDAParameterData, self).build()\n",
    "\n",
    "        self._state_block_class = HDAStateBlock\n",
    "\n",
    "        define_components_and_phases(self)\n",
    "        define_basic_parameters(self)\n",
    "        define_specific_heat_parameters(self)\n",
    "\n",
    "    @classmethod\n",
    "    def define_metadata(cls, obj):\n",
    "        \"\"\"Define properties supported and units.\"\"\"\n",
    "        obj.add_properties(properties_metadata)\n",
    "\n",
    "        obj.add_default_units(units_metadata)"
   ]
  },
  {
   "cell_type": "code",
   "execution_count": 9,
   "metadata": {},
   "outputs": [],
   "source": [
    "def add_state_variables(self):\n",
    "    self.flow_mol = Var(\n",
    "        initialize=1,\n",
    "        bounds=(1e-8, 1000),\n",
    "        units=pyunits.mol / pyunits.s,\n",
    "        doc=\"Molar flow rate\",\n",
    "    )\n",
    "    self.mole_frac_comp = Var(\n",
    "        self.component_list,\n",
    "        initialize=0.2,\n",
    "        bounds=(0, None),\n",
    "        units=pyunits.dimensionless,\n",
    "        doc=\"Component mole fractions\",\n",
    "    )\n",
    "    self.pressure = Var(\n",
    "        initialize=101325,\n",
    "        bounds=(101325, 400000),\n",
    "        units=pyunits.Pa,\n",
    "        doc=\"State pressure\",\n",
    "    )\n",
    "    self.temperature = Var(\n",
    "        initialize=298.15,\n",
    "        bounds=(298.15, 1500),\n",
    "        units=pyunits.K,\n",
    "        doc=\"State temperature\",\n",
    "    )"
   ]
  },
  {
   "cell_type": "code",
   "execution_count": 10,
   "metadata": {},
   "outputs": [],
   "source": [
    "def return_state_var_dict(self):\n",
    "    return {\n",
    "        \"flow_mol\": self.flow_mol,\n",
    "        \"mole_frac_comp\": self.mole_frac_comp,\n",
    "        \"temperature\": self.temperature,\n",
    "        \"pressure\": self.pressure,\n",
    "    }"
   ]
  },
  {
   "cell_type": "code",
   "execution_count": 11,
   "metadata": {},
   "outputs": [],
   "source": [
    "def add_molecular_weight_and_density(self):\n",
    "    self.mw_comp = Reference(self.params.mw_comp)\n",
    "\n",
    "    self.dens_mol = Var(\n",
    "        initialize=1, units=pyunits.mol / pyunits.m**3, doc=\"Mixture density\"\n",
    "    )\n",
    "\n",
    "    self.ideal_gas_eq = Constraint(\n",
    "        expr=self.pressure == const.gas_constant * self.temperature * self.dens_mol\n",
    "    )"
   ]
  },
  {
   "cell_type": "code",
   "execution_count": 12,
   "metadata": {},
   "outputs": [],
   "source": [
    "def add_enth_mol(self):\n",
    "    def enth_rule(b):\n",
    "        params = self.params\n",
    "        T = self.temperature\n",
    "        Tr = params.temperature_ref\n",
    "        return sum(\n",
    "            self.mole_frac_comp[j]\n",
    "            * (\n",
    "                (params.cp_mol_ig_comp_coeff_D[j] / 4) * (T**4 - Tr**4)\n",
    "                + (params.cp_mol_ig_comp_coeff_C[j] / 3) * (T**3 - Tr**3)\n",
    "                + (params.cp_mol_ig_comp_coeff_B[j] / 2) * (T**2 - Tr**2)\n",
    "                + params.cp_mol_ig_comp_coeff_A[j] * (T - Tr)\n",
    "                + params.enth_mol_form_vap_comp_ref[j]\n",
    "            )\n",
    "            for j in self.component_list\n",
    "        )\n",
    "\n",
    "    self.enth_mol = Expression(rule=enth_rule)"
   ]
  },
  {
   "cell_type": "code",
   "execution_count": 13,
   "metadata": {},
   "outputs": [],
   "source": [
    "def add_mole_fraction_constraint(self):\n",
    "    if self.config.defined_state is False:\n",
    "        self.mole_fraction_constraint = Constraint(\n",
    "            expr=1e3 == sum(1e3 * self.mole_frac_comp[j] for j in self.component_list)\n",
    "        )"
   ]
  },
  {
   "cell_type": "code",
   "execution_count": 14,
   "metadata": {},
   "outputs": [],
   "source": [
    "def prepare_state(blk, state_args, state_vars_fixed):\n",
    "    # Fix state variables if not already fixed\n",
    "    if state_vars_fixed is False:\n",
    "        flags = fix_state_vars(blk, state_args)\n",
    "    else:\n",
    "        flags = None\n",
    "\n",
    "    # Deactivate sum of mole fractions constraint\n",
    "    for k in blk.keys():\n",
    "        if blk[k].config.defined_state is False:\n",
    "            blk[k].mole_fraction_constraint.deactivate()\n",
    "\n",
    "    # Check that degrees of freedom are zero after fixing state vars\n",
    "    for k in blk.keys():\n",
    "        if degrees_of_freedom(blk[k]) != 0:\n",
    "            raise Exception(\n",
    "                \"State vars fixed but degrees of freedom \"\n",
    "                \"for state block is not zero during \"\n",
    "                \"initialization.\"\n",
    "            )\n",
    "\n",
    "    return flags"
   ]
  },
  {
   "cell_type": "code",
   "execution_count": 15,
   "metadata": {},
   "outputs": [],
   "source": [
    "def initialize_state(blk, solver, init_log, solve_log):\n",
    "    # Check that there is something to solve for\n",
    "    free_vars = 0\n",
    "    for k in blk.keys():\n",
    "        free_vars += number_unfixed_variables(blk[k])\n",
    "    if free_vars > 0:\n",
    "        # If there are free variables, call the solver to initialize\n",
    "        try:\n",
    "            with idaeslog.solver_log(solve_log, idaeslog.DEBUG) as slc:\n",
    "                res = solve_indexed_blocks(solver, [blk], tee=True)  # slc.tee)\n",
    "        except:\n",
    "            res = None\n",
    "    else:\n",
    "        res = None\n",
    "\n",
    "    init_log.info(\"Properties Initialized {}.\".format(idaeslog.condition(res)))"
   ]
  },
  {
   "cell_type": "code",
   "execution_count": 16,
   "metadata": {},
   "outputs": [],
   "source": [
    "def restore_state(blk, flags, hold_state):\n",
    "    # Return state to initial conditions\n",
    "    if hold_state is True:\n",
    "        return flags\n",
    "    else:\n",
    "        blk.release_state(flags)"
   ]
  },
  {
   "cell_type": "code",
   "execution_count": 17,
   "metadata": {},
   "outputs": [],
   "source": [
    "def unfix_state(blk, flags, outlvl):\n",
    "    init_log = idaeslog.getInitLogger(blk.name, outlvl, tag=\"properties\")\n",
    "\n",
    "    # Reactivate sum of mole fractions constraint\n",
    "    for k in blk.keys():\n",
    "        if blk[k].config.defined_state is False:\n",
    "            blk[k].mole_fraction_constraint.activate()\n",
    "\n",
    "    if flags is not None:\n",
    "        # Unfix state variables\n",
    "        revert_state_vars(blk, flags)\n",
    "\n",
    "    init_log.info_high(\"State Released.\")"
   ]
  },
  {
   "cell_type": "code",
   "execution_count": 18,
   "metadata": {},
   "outputs": [],
   "source": [
    "class _HDAStateBlock(StateBlock):\n",
    "    def initialize(\n",
    "        blk,\n",
    "        state_args=None,\n",
    "        state_vars_fixed=False,\n",
    "        hold_state=False,\n",
    "        outlvl=idaeslog.NOTSET,\n",
    "        solver=None,\n",
    "        optarg=None,\n",
    "    ):\n",
    "\n",
    "        init_log = idaeslog.getInitLogger(blk.name, outlvl, tag=\"properties\")\n",
    "        solve_log = idaeslog.getSolveLogger(blk.name, outlvl, tag=\"properties\")\n",
    "\n",
    "        # Create solver\n",
    "        solver_obj = get_solver(solver, optarg)\n",
    "\n",
    "        flags = prepare_state(blk, state_args, state_vars_fixed)\n",
    "        initialize_state(blk, solver_obj, init_log, solve_log)\n",
    "        restore_state(blk, flags, hold_state)\n",
    "\n",
    "        init_log.info(\"Initialization Complete\")\n",
    "\n",
    "    def release_state(blk, flags, outlvl=idaeslog.NOTSET):\n",
    "        unfix_state(blk, flags, outlvl)"
   ]
  },
  {
   "cell_type": "code",
   "execution_count": 19,
   "metadata": {},
   "outputs": [],
   "source": [
    "@declare_process_block_class(\"HDAStateBlock\", block_class=_HDAStateBlock)\n",
    "class HDAStateBlockData(StateBlockData):\n",
    "    \"\"\"\n",
    "    Example property package for an ideal gas containing benzene, toluene\n",
    "    hydrogen, methane and diphenyl.\n",
    "    \"\"\"\n",
    "\n",
    "    def build(self):\n",
    "        \"\"\"Callable method for Block construction.\"\"\"\n",
    "        super(HDAStateBlockData, self).build()\n",
    "\n",
    "        add_state_variables(self)\n",
    "        add_mole_fraction_constraint(self)\n",
    "        add_molecular_weight_and_density(self)\n",
    "\n",
    "    def _enth_mol(self):\n",
    "        add_enth_mol(self)\n",
    "\n",
    "    def define_state_vars(self):\n",
    "        return return_state_var_dict(self)\n",
    "\n",
    "    def get_material_flow_terms(self, p, j):\n",
    "        return self.flow_mol * self.mole_frac_comp[j]\n",
    "\n",
    "    def get_enthalpy_flow_terms(self, p):\n",
    "        \"\"\"Create enthalpy flow terms.\"\"\"\n",
    "        return self.flow_mol * self.enth_mol\n",
    "\n",
    "    def default_material_balance_type(self):\n",
    "        return MaterialBalanceType.componentPhase\n",
    "\n",
    "    def default_energy_balance_type(self):\n",
    "        return EnergyBalanceType.enthalpyTotal\n",
    "\n",
    "    def get_material_flow_basis(self):\n",
    "        return MaterialFlowBasis.molar"
   ]
  },
  {
   "cell_type": "code",
   "execution_count": 20,
   "metadata": {},
   "outputs": [],
   "source": [
    "from pyomo.environ import ConcreteModel\n",
    "from idaes.core import FlowsheetBlock"
   ]
  },
  {
   "cell_type": "code",
   "execution_count": 21,
   "metadata": {},
   "outputs": [],
   "source": [
    "m = ConcreteModel()\n",
    "\n",
    "m.fs = FlowsheetBlock(dynamic=False)\n",
    "\n",
    "m.fs.thermo_props = HDAParameterBlock()\n",
    "\n",
    "m.fs.state = m.fs.thermo_props.build_state_block(m.fs.config.time, defined_state=True)"
   ]
  },
  {
   "cell_type": "code",
   "execution_count": 22,
   "metadata": {},
   "outputs": [
    {
     "name": "stdout",
     "output_type": "stream",
     "text": [
      "Block fs.state[0.0]\n",
      "\n",
      "  Variables:\n",
      "    flow_mol : Molar flow rate\n",
      "        Size=1, Index=None, Units=mol/s\n",
      "        Key  : Lower : Value : Upper : Fixed : Stale : Domain\n",
      "        None : 1e-08 :     1 :  1000 : False : False :  Reals\n",
      "    mole_frac_comp : Component mole fractions\n",
      "        Size=5, Index=fs.thermo_props.component_list, Units=dimensionless\n",
      "        Key      : Lower : Value : Upper : Fixed : Stale : Domain\n",
      "         benzene :     0 :   0.2 :  None : False : False :  Reals\n",
      "        diphenyl :     0 :   0.2 :  None : False : False :  Reals\n",
      "        hydrogen :     0 :   0.2 :  None : False : False :  Reals\n",
      "         methane :     0 :   0.2 :  None : False : False :  Reals\n",
      "         toluene :     0 :   0.2 :  None : False : False :  Reals\n",
      "    pressure : State pressure\n",
      "        Size=1, Index=None, Units=Pa\n",
      "        Key  : Lower  : Value  : Upper  : Fixed : Stale : Domain\n",
      "        None : 101325 : 101325 : 400000 : False : False :  Reals\n",
      "    temperature : State temperature\n",
      "        Size=1, Index=None, Units=K\n",
      "        Key  : Lower  : Value  : Upper : Fixed : Stale : Domain\n",
      "        None : 298.15 : 298.15 :  1500 : False : False :  Reals\n",
      "    dens_mol : Mixture density\n",
      "        Size=1, Index=None, Units=mol/m**3\n",
      "        Key  : Lower : Value : Upper : Fixed : Stale : Domain\n",
      "        None :  None :     1 :  None : False : False :  Reals\n",
      "\n",
      "  Objectives:\n",
      "    None\n",
      "\n",
      "  Constraints:\n",
      "    ideal_gas_eq : Size=1\n",
      "        Key  : Lower : Body             : Upper\n",
      "        None :   0.0 : 98846.0429704433 :   0.0\n"
     ]
    }
   ],
   "source": [
    "m.fs.state.display()"
   ]
  },
  {
   "cell_type": "code",
   "execution_count": 23,
   "metadata": {},
   "outputs": [
    {
     "name": "stdout",
     "output_type": "stream",
     "text": [
      "Degrees of freedom:  2\n"
     ]
    }
   ],
   "source": [
    "print(\"Degrees of freedom: \", degrees_of_freedom(m))"
   ]
  },
  {
   "cell_type": "code",
   "execution_count": 24,
   "metadata": {},
   "outputs": [],
   "source": [
    "m.fs.state[0].flow_mol.fix(100)\n",
    "m.fs.state[0].temperature.fix(500)\n",
    "m.fs.state[0].pressure.fix(350000)\n",
    "m.fs.state[0].mole_frac_comp[\"benzene\"].fix(0.1)\n",
    "m.fs.state[0].mole_frac_comp[\"toluene\"].fix(0.4)\n",
    "m.fs.state[0].mole_frac_comp[\"hydrogen\"].fix(0.4)\n",
    "m.fs.state[0].mole_frac_comp[\"methane\"].fix(0.1)\n",
    "m.fs.state[0].mole_frac_comp[\"diphenyl\"].fix(0.0)"
   ]
  },
  {
   "cell_type": "code",
   "execution_count": 25,
   "metadata": {},
   "outputs": [
    {
     "name": "stdout",
     "output_type": "stream",
     "text": [
      "Degrees of freedom:  0\n"
     ]
    }
   ],
   "source": [
    "print(\"Degrees of freedom: \", degrees_of_freedom(m))"
   ]
  },
  {
   "cell_type": "code",
   "execution_count": 26,
   "metadata": {},
   "outputs": [
    {
     "name": "stdout",
     "output_type": "stream",
     "text": [
      "2023-02-18 11:54:45 [INFO] idaes.init.fs.state: Properties Initialized optimal - Optimal Solution Found.\n"
     ]
    },
    {
     "name": "stdout",
     "output_type": "stream",
     "text": [
      "2023-02-18 11:54:45 [INFO] idaes.init.fs.state: Initialization Complete\n"
     ]
    },
    {
     "name": "stdout",
     "output_type": "stream",
     "text": [
      "dens_mol : Mixture density\n",
      "    Size=1, Index=None, Units=mol/m**3\n",
      "    Key  : Lower : Value             : Upper : Fixed : Stale : Domain\n",
      "    None :  None : 84.19064853145991 :  None : False : False :  Reals\n"
     ]
    }
   ],
   "source": [
    "m.fs.state.initialize()\n",
    "\n",
    "m.fs.state[0].dens_mol.display()"
   ]
  },
  {
   "cell_type": "code",
   "execution_count": 27,
   "metadata": {},
   "outputs": [
    {
     "name": "stdout",
     "output_type": "stream",
     "text": [
      "enth_mol : Size=1\n",
      "    Key  : Value\n",
      "    None : -22169.95123146947\n"
     ]
    }
   ],
   "source": [
    "m.fs.state[0].enth_mol.display()"
   ]
  },
  {
   "cell_type": "code",
   "execution_count": 28,
   "metadata": {},
   "outputs": [],
   "source": [
    "from pyomo.util.check_units import assert_units_consistent\n",
    "\n",
    "assert_units_consistent(m)"
   ]
  },
  {
   "cell_type": "code",
   "execution_count": 29,
   "metadata": {},
   "outputs": [],
   "source": [
    "# Import Modular Property Framework Libraries\n",
    "from idaes.core import VaporPhase, Component\n",
    "\n",
    "from idaes.models.properties.modular_properties.state_definitions import FTPx\n",
    "from idaes.models.properties.modular_properties.eos.ideal import Ideal\n",
    "\n",
    "import idaes.models.properties.modular_properties.pure.RPP3 as RPP\n",
    "\n",
    "# Build configuration dictionary\n",
    "configuration = {\n",
    "    # Specifying components\n",
    "    \"components\": {\n",
    "        \"benzene\": {\n",
    "            \"type\": Component,\n",
    "            \"enth_mol_ig_comp\": RPP,\n",
    "            \"parameter_data\": {\n",
    "                \"mw\": (78.1136e-3, pyunits.kg / pyunits.mol),\n",
    "                \"cp_mol_ig_comp_coeff\": {\n",
    "                    \"A\": (-3.392e1, pyunits.J / pyunits.mol / pyunits.K),\n",
    "                    \"B\": (4.739e-1, pyunits.J / pyunits.mol / pyunits.K**2),\n",
    "                    \"C\": (-3.017e-4, pyunits.J / pyunits.mol / pyunits.K**3),\n",
    "                    \"D\": (7.130e-8, pyunits.J / pyunits.mol / pyunits.K**4),\n",
    "                },\n",
    "                \"enth_mol_form_vap_comp_ref\": (82.9e3, pyunits.J / pyunits.mol),\n",
    "            },\n",
    "        },\n",
    "        \"toluene\": {\n",
    "            \"type\": Component,\n",
    "            \"enth_mol_ig_comp\": RPP,\n",
    "            \"parameter_data\": {\n",
    "                \"mw\": (92.1405e-3, pyunits.kg / pyunits.mol),\n",
    "                \"cp_mol_ig_comp_coeff\": {\n",
    "                    \"A\": (-2.435e1, pyunits.J / pyunits.mol / pyunits.K),\n",
    "                    \"B\": (5.125e-1, pyunits.J / pyunits.mol / pyunits.K**2),\n",
    "                    \"C\": (-2.765e-4, pyunits.J / pyunits.mol / pyunits.K**3),\n",
    "                    \"D\": (4.911e-8, pyunits.J / pyunits.mol / pyunits.K**4),\n",
    "                },\n",
    "                \"enth_mol_form_vap_comp_ref\": (50.1e3, pyunits.J / pyunits.mol),\n",
    "            },\n",
    "        },\n",
    "        \"hydrogen\": {\n",
    "            \"type\": Component,\n",
    "            \"enth_mol_ig_comp\": RPP,\n",
    "            \"parameter_data\": {\n",
    "                \"mw\": (2.016e-3, pyunits.kg / pyunits.mol),\n",
    "                \"cp_mol_ig_comp_coeff\": {\n",
    "                    \"A\": (2.714e1, pyunits.J / pyunits.mol / pyunits.K),\n",
    "                    \"B\": (9.274e-3, pyunits.J / pyunits.mol / pyunits.K**2),\n",
    "                    \"C\": (-1.381e-5, pyunits.J / pyunits.mol / pyunits.K**3),\n",
    "                    \"D\": (7.645e-9, pyunits.J / pyunits.mol / pyunits.K**4),\n",
    "                },\n",
    "                \"enth_mol_form_vap_comp_ref\": (0, pyunits.J / pyunits.mol),\n",
    "            },\n",
    "        },\n",
    "        \"methane\": {\n",
    "            \"type\": Component,\n",
    "            \"enth_mol_ig_comp\": RPP,\n",
    "            \"parameter_data\": {\n",
    "                \"mw\": (16.043e-3, pyunits.kg / pyunits.mol),\n",
    "                \"cp_mol_ig_comp_coeff\": {\n",
    "                    \"A\": (1.925e1, pyunits.J / pyunits.mol / pyunits.K),\n",
    "                    \"B\": (5.213e-2, pyunits.J / pyunits.mol / pyunits.K**2),\n",
    "                    \"C\": (-8.855e-4, pyunits.J / pyunits.mol / pyunits.K**3),\n",
    "                    \"D\": (-1.132e-8, pyunits.J / pyunits.mol / pyunits.K**4),\n",
    "                },\n",
    "                \"enth_mol_form_vap_comp_ref\": (-75e3, pyunits.J / pyunits.mol),\n",
    "            },\n",
    "        },\n",
    "        \"diphenyl\": {\n",
    "            \"type\": Component,\n",
    "            \"enth_mol_ig_comp\": RPP,\n",
    "            \"parameter_data\": {\n",
    "                \"mw\": (154.212e-4, pyunits.kg / pyunits.mol),\n",
    "                \"cp_mol_ig_comp_coeff\": {\n",
    "                    \"A\": (-9.707e1, pyunits.J / pyunits.mol / pyunits.K),\n",
    "                    \"B\": (1.106e0, pyunits.J / pyunits.mol / pyunits.K**2),\n",
    "                    \"C\": (-8.855e-4, pyunits.J / pyunits.mol / pyunits.K**3),\n",
    "                    \"D\": (2.790e-7, pyunits.J / pyunits.mol / pyunits.K**4),\n",
    "                },\n",
    "                \"enth_mol_form_vap_comp_ref\": (-180e3, pyunits.J / pyunits.mol),\n",
    "            },\n",
    "        },\n",
    "    },\n",
    "    # Specifying phases\n",
    "    \"phases\": {\"Vap\": {\"type\": VaporPhase, \"equation_of_state\": Ideal}},\n",
    "    # Set base units of measurement\n",
    "    \"base_units\": {\n",
    "        \"time\": pyunits.s,\n",
    "        \"length\": pyunits.m,\n",
    "        \"mass\": pyunits.kg,\n",
    "        \"amount\": pyunits.mol,\n",
    "        \"temperature\": pyunits.K,\n",
    "    },\n",
    "    # Specifying state definition\n",
    "    \"state_definition\": FTPx,\n",
    "    \"state_bounds\": {\n",
    "        \"flow_mol\": (1e-8, 1, 1000, pyunits.mol / pyunits.s),\n",
    "        \"temperature\": (298.15, 298.15, 1500, pyunits.K),\n",
    "        \"pressure\": (101325, 101325, 400000, pyunits.Pa),\n",
    "    },\n",
    "    \"pressure_ref\": (101325, pyunits.Pa),\n",
    "    \"temperature_ref\": (298.15, pyunits.K),\n",
    "}"
   ]
  }
 ],
 "metadata": {
  "celltoolbar": "Tags",
  "kernelspec": {
   "display_name": "Python 3 (ipykernel)",
   "language": "python",
   "name": "python3"
  },
  "language_info": {
   "codemirror_mode": {
    "name": "ipython",
    "version": 3
   },
   "file_extension": ".py",
   "mimetype": "text/x-python",
   "name": "python",
   "nbconvert_exporter": "python",
   "pygments_lexer": "ipython3",
   "version": "3.10.0"
  }
 },
 "nbformat": 4,
 "nbformat_minor": 4
}