{
 "cells": [
  {
   "cell_type": "code",
   "execution_count": 1,
   "id": "f14c9721",
   "metadata": {
    "tags": [
     "header",
     "hide-cell"
    ]
   },
   "outputs": [],
   "source": [
    "###############################################################################\n",
    "# The Institute for the Design of Advanced Energy Systems Integrated Platform\n",
    "# Framework (IDAES IP) was produced under the DOE Institute for the\n",
    "# Design of Advanced Energy Systems (IDAES).\n",
    "#\n",
    "# Copyright (c) 2018-2023 by the software owners: The Regents of the\n",
    "# University of California, through Lawrence Berkeley National Laboratory,\n",
    "# National Technology & Engineering Solutions of Sandia, LLC, Carnegie Mellon\n",
    "# University, West Virginia University Research Corporation, et al.\n",
    "# All rights reserved.  Please see the files COPYRIGHT.md and LICENSE.md\n",
    "# for full copyright and license information.\n",
    "###############################################################################"
   ]
  },
  {
   "cell_type": "code",
   "execution_count": 2,
   "metadata": {},
   "outputs": [],
   "source": [
    "from pyomo.environ import (\n",
    "    Constraint,\n",
    "    Var,\n",
    "    ConcreteModel,\n",
    "    Expression,\n",
    "    Objective,\n",
    "    TransformationFactory,\n",
    "    value,\n",
    "    units as pyunits,\n",
    ")\n",
    "from pyomo.network import Arc\n",
    "\n",
    "from idaes.core import FlowsheetBlock\n",
    "from idaes.models.properties.modular_properties.base.generic_property import (\n",
    "    GenericParameterBlock,\n",
    ")\n",
    "from idaes.models.properties.modular_properties.base.generic_reaction import (\n",
    "    GenericReactionParameterBlock,\n",
    ")\n",
    "from idaes.models.unit_models import Feed, Mixer, Heater, StoichiometricReactor, Product\n",
    "\n",
    "from idaes.core.solvers import get_solver\n",
    "from idaes.core.util.model_statistics import degrees_of_freedom\n",
    "from idaes.core.util.initialization import propagate_state"
   ]
  },
  {
   "cell_type": "code",
   "execution_count": 3,
   "metadata": {},
   "outputs": [],
   "source": [
    "import egprod_ideal as thermo_props\n",
    "import egprod_reaction as reaction_props"
   ]
  },
  {
   "cell_type": "code",
   "execution_count": 4,
   "metadata": {},
   "outputs": [],
   "source": [
    "m = ConcreteModel()\n",
    "m.fs = FlowsheetBlock(dynamic=False)"
   ]
  },
  {
   "cell_type": "code",
   "execution_count": 5,
   "metadata": {
    "scrolled": true
   },
   "outputs": [],
   "source": [
    "m.fs.thermo_params = GenericParameterBlock(**thermo_props.config_dict)\n",
    "m.fs.reaction_params = GenericReactionParameterBlock(\n",
    "    property_package=m.fs.thermo_params, **reaction_props.config_dict\n",
    ")"
   ]
  },
  {
   "cell_type": "code",
   "execution_count": 6,
   "metadata": {
    "scrolled": true
   },
   "outputs": [],
   "source": [
    "m.fs.OXIDE = Feed(property_package=m.fs.thermo_params)\n",
    "m.fs.ACID = Feed(property_package=m.fs.thermo_params)\n",
    "m.fs.PROD = Product(property_package=m.fs.thermo_params)\n",
    "m.fs.M101 = Mixer(\n",
    "    property_package=m.fs.thermo_params, inlet_list=[\"reagent_feed\", \"catalyst_feed\"]\n",
    ")\n",
    "m.fs.H101 = Heater(\n",
    "    property_package=m.fs.thermo_params,\n",
    "    has_pressure_change=False,\n",
    "    has_phase_equilibrium=False,\n",
    ")"
   ]
  },
  {
   "cell_type": "code",
   "execution_count": 7,
   "metadata": {
    "scrolled": false
   },
   "outputs": [],
   "source": [
    "m.fs.R101 = StoichiometricReactor(\n",
    "    property_package=m.fs.thermo_params,\n",
    "    reaction_package=m.fs.reaction_params,\n",
    "    has_heat_of_reaction=True,\n",
    "    has_heat_transfer=True,\n",
    "    has_pressure_change=False,\n",
    ")"
   ]
  },
  {
   "cell_type": "code",
   "execution_count": 8,
   "metadata": {},
   "outputs": [],
   "source": [
    "m.fs.s01 = Arc(source=m.fs.OXIDE.outlet, destination=m.fs.M101.reagent_feed)\n",
    "m.fs.s02 = Arc(source=m.fs.ACID.outlet, destination=m.fs.M101.catalyst_feed)\n",
    "m.fs.s03 = Arc(source=m.fs.M101.outlet, destination=m.fs.H101.inlet)\n",
    "m.fs.s04 = Arc(source=m.fs.H101.outlet, destination=m.fs.R101.inlet)\n",
    "m.fs.s05 = Arc(source=m.fs.R101.outlet, destination=m.fs.PROD.inlet)"
   ]
  },
  {
   "cell_type": "code",
   "execution_count": 9,
   "metadata": {},
   "outputs": [],
   "source": [
    "TransformationFactory(\"network.expand_arcs\").apply_to(m)"
   ]
  },
  {
   "cell_type": "code",
   "execution_count": 10,
   "metadata": {},
   "outputs": [],
   "source": [
    "m.fs.eg_prod = Expression(\n",
    "    expr=pyunits.convert(\n",
    "        m.fs.PROD.inlet.flow_mol_phase_comp[0, \"Liq\", \"ethylene_glycol\"]\n",
    "        * m.fs.thermo_params.ethylene_glycol.mw,  # MW defined in properties as kg/mol\n",
    "        to_units=pyunits.Mlb / pyunits.yr,\n",
    "    )\n",
    ")  # converting kg/s to MM lb/year"
   ]
  },
  {
   "cell_type": "code",
   "execution_count": 11,
   "metadata": {},
   "outputs": [],
   "source": [
    "m.fs.cooling_cost = Expression(\n",
    "    expr=2.12e-8 * (-m.fs.R101.heat_duty[0])\n",
    ")  # the reaction is exothermic, so R101 duty is negative\n",
    "m.fs.heating_cost = Expression(\n",
    "    expr=2.2e-7 * m.fs.H101.heat_duty[0]\n",
    ")  # the stream must be heated to T_rxn, so H101 duty is positive\n",
    "m.fs.operating_cost = Expression(\n",
    "    expr=(3600 * 8000 * (m.fs.heating_cost + m.fs.cooling_cost))\n",
    ")"
   ]
  },
  {
   "cell_type": "code",
   "execution_count": 12,
   "metadata": {
    "scrolled": true
   },
   "outputs": [
    {
     "name": "stdout",
     "output_type": "stream",
     "text": [
      "15\n"
     ]
    }
   ],
   "source": [
    "print(degrees_of_freedom(m))"
   ]
  },
  {
   "cell_type": "code",
   "execution_count": 13,
   "metadata": {},
   "outputs": [],
   "source": [
    "m.fs.OXIDE.outlet.flow_mol_phase_comp[0, \"Liq\", \"ethylene_oxide\"].fix(\n",
    "    58.0 * pyunits.mol / pyunits.s\n",
    ")\n",
    "m.fs.OXIDE.outlet.flow_mol_phase_comp[0, \"Liq\", \"water\"].fix(\n",
    "    39.6 * pyunits.mol / pyunits.s\n",
    ")  # calculated from 16.1 mol EO / cudm in stream\n",
    "m.fs.OXIDE.outlet.flow_mol_phase_comp[0, \"Liq\", \"sulfuric_acid\"].fix(\n",
    "    1e-5 * pyunits.mol / pyunits.s\n",
    ")\n",
    "m.fs.OXIDE.outlet.flow_mol_phase_comp[0, \"Liq\", \"ethylene_glycol\"].fix(\n",
    "    1e-5 * pyunits.mol / pyunits.s\n",
    ")\n",
    "m.fs.OXIDE.outlet.temperature.fix(298.15 * pyunits.K)\n",
    "m.fs.OXIDE.outlet.pressure.fix(1e5 * pyunits.Pa)\n",
    "\n",
    "m.fs.ACID.outlet.flow_mol_phase_comp[0, \"Liq\", \"ethylene_oxide\"].fix(\n",
    "    1e-5 * pyunits.mol / pyunits.s\n",
    ")\n",
    "m.fs.ACID.outlet.flow_mol_phase_comp[0, \"Liq\", \"water\"].fix(\n",
    "    200 * pyunits.mol / pyunits.s\n",
    ")\n",
    "m.fs.ACID.outlet.flow_mol_phase_comp[0, \"Liq\", \"sulfuric_acid\"].fix(\n",
    "    0.334 * pyunits.mol / pyunits.s\n",
    ")  # calculated from 0.9 wt% SA in stream\n",
    "m.fs.ACID.outlet.flow_mol_phase_comp[0, \"Liq\", \"ethylene_glycol\"].fix(\n",
    "    1e-5 * pyunits.mol / pyunits.s\n",
    ")\n",
    "m.fs.ACID.outlet.temperature.fix(298.15 * pyunits.K)\n",
    "m.fs.ACID.outlet.pressure.fix(1e5 * pyunits.Pa)"
   ]
  },
  {
   "cell_type": "code",
   "execution_count": 14,
   "metadata": {},
   "outputs": [],
   "source": [
    "m.fs.H101.outlet.temperature.fix(328.15 * pyunits.K)"
   ]
  },
  {
   "cell_type": "code",
   "execution_count": 15,
   "metadata": {},
   "outputs": [],
   "source": [
    "m.fs.R101.conversion = Var(\n",
    "    initialize=0.80, bounds=(0, 1), units=pyunits.dimensionless\n",
    ")  # fraction\n",
    "\n",
    "m.fs.R101.conv_constraint = Constraint(\n",
    "    expr=m.fs.R101.conversion\n",
    "    * m.fs.R101.inlet.flow_mol_phase_comp[0, \"Liq\", \"ethylene_oxide\"]\n",
    "    == (\n",
    "        m.fs.R101.inlet.flow_mol_phase_comp[0, \"Liq\", \"ethylene_oxide\"]\n",
    "        - m.fs.R101.outlet.flow_mol_phase_comp[0, \"Liq\", \"ethylene_oxide\"]\n",
    "    )\n",
    ")\n",
    "\n",
    "m.fs.R101.conversion.fix(0.80)\n",
    "\n",
    "m.fs.R101.outlet.temperature.fix(328.15 * pyunits.K)  # equal inlet reactor temperature"
   ]
  },
  {
   "cell_type": "code",
   "execution_count": 16,
   "metadata": {},
   "outputs": [
    {
     "name": "stdout",
     "output_type": "stream",
     "text": [
      "0\n"
     ]
    }
   ],
   "source": [
    "print(degrees_of_freedom(m))"
   ]
  },
  {
   "cell_type": "code",
   "execution_count": 17,
   "metadata": {},
   "outputs": [
    {
     "name": "stdout",
     "output_type": "stream",
     "text": [
      "2023-02-18 12:05:09 [INFO] idaes.init.fs.OXIDE.properties: Starting initialization\n"
     ]
    },
    {
     "name": "stdout",
     "output_type": "stream",
     "text": [
      "2023-02-18 12:05:09 [INFO] idaes.init.fs.OXIDE.properties: Property initialization: optimal - Optimal Solution Found.\n"
     ]
    },
    {
     "name": "stdout",
     "output_type": "stream",
     "text": [
      "2023-02-18 12:05:09 [INFO] idaes.init.fs.OXIDE.properties: Property package initialization: optimal - Optimal Solution Found.\n"
     ]
    },
    {
     "name": "stdout",
     "output_type": "stream",
     "text": [
      "2023-02-18 12:05:09 [INFO] idaes.init.fs.OXIDE: Initialization Complete.\n"
     ]
    },
    {
     "name": "stdout",
     "output_type": "stream",
     "text": [
      "2023-02-18 12:05:09 [INFO] idaes.init.fs.ACID.properties: Starting initialization\n"
     ]
    },
    {
     "name": "stdout",
     "output_type": "stream",
     "text": [
      "2023-02-18 12:05:09 [INFO] idaes.init.fs.ACID.properties: Property initialization: optimal - Optimal Solution Found.\n"
     ]
    },
    {
     "name": "stdout",
     "output_type": "stream",
     "text": [
      "2023-02-18 12:05:09 [INFO] idaes.init.fs.ACID.properties: Property package initialization: optimal - Optimal Solution Found.\n"
     ]
    },
    {
     "name": "stdout",
     "output_type": "stream",
     "text": [
      "2023-02-18 12:05:09 [INFO] idaes.init.fs.ACID: Initialization Complete.\n"
     ]
    },
    {
     "name": "stdout",
     "output_type": "stream",
     "text": [
      "2023-02-18 12:05:09 [INFO] idaes.init.fs.M101.reagent_feed_state: Starting initialization\n"
     ]
    },
    {
     "name": "stdout",
     "output_type": "stream",
     "text": [
      "2023-02-18 12:05:10 [INFO] idaes.init.fs.M101.reagent_feed_state: Property initialization: optimal - Optimal Solution Found.\n"
     ]
    },
    {
     "name": "stdout",
     "output_type": "stream",
     "text": [
      "2023-02-18 12:05:10 [INFO] idaes.init.fs.M101.catalyst_feed_state: Starting initialization\n"
     ]
    },
    {
     "name": "stdout",
     "output_type": "stream",
     "text": [
      "2023-02-18 12:05:10 [INFO] idaes.init.fs.M101.catalyst_feed_state: Property initialization: optimal - Optimal Solution Found.\n"
     ]
    },
    {
     "name": "stdout",
     "output_type": "stream",
     "text": [
      "2023-02-18 12:05:10 [INFO] idaes.init.fs.M101.mixed_state: Starting initialization\n"
     ]
    },
    {
     "name": "stdout",
     "output_type": "stream",
     "text": [
      "2023-02-18 12:05:10 [INFO] idaes.init.fs.M101.mixed_state: Property initialization: optimal - Optimal Solution Found.\n"
     ]
    },
    {
     "name": "stdout",
     "output_type": "stream",
     "text": [
      "2023-02-18 12:05:10 [INFO] idaes.init.fs.M101.mixed_state: Property package initialization: optimal - Optimal Solution Found.\n"
     ]
    },
    {
     "name": "stdout",
     "output_type": "stream",
     "text": [
      "2023-02-18 12:05:10 [INFO] idaes.init.fs.M101: Initialization Complete: optimal - Optimal Solution Found\n"
     ]
    },
    {
     "name": "stdout",
     "output_type": "stream",
     "text": [
      "2023-02-18 12:05:10 [INFO] idaes.init.fs.H101.control_volume.properties_in: Starting initialization\n"
     ]
    },
    {
     "name": "stdout",
     "output_type": "stream",
     "text": [
      "2023-02-18 12:05:10 [INFO] idaes.init.fs.H101.control_volume.properties_in: Property initialization: optimal - Optimal Solution Found.\n"
     ]
    },
    {
     "name": "stdout",
     "output_type": "stream",
     "text": [
      "2023-02-18 12:05:10 [INFO] idaes.init.fs.H101.control_volume.properties_out: Starting initialization\n"
     ]
    },
    {
     "name": "stdout",
     "output_type": "stream",
     "text": [
      "2023-02-18 12:05:10 [INFO] idaes.init.fs.H101.control_volume.properties_out: Property initialization: optimal - Optimal Solution Found.\n"
     ]
    },
    {
     "name": "stdout",
     "output_type": "stream",
     "text": [
      "2023-02-18 12:05:10 [INFO] idaes.init.fs.H101.control_volume: Initialization Complete\n"
     ]
    },
    {
     "name": "stdout",
     "output_type": "stream",
     "text": [
      "2023-02-18 12:05:10 [INFO] idaes.init.fs.H101: Initialization Complete: optimal - Optimal Solution Found\n"
     ]
    },
    {
     "name": "stdout",
     "output_type": "stream",
     "text": [
      "2023-02-18 12:05:10 [INFO] idaes.init.fs.R101.control_volume.properties_in: Starting initialization\n"
     ]
    },
    {
     "name": "stdout",
     "output_type": "stream",
     "text": [
      "2023-02-18 12:05:10 [INFO] idaes.init.fs.R101.control_volume.properties_in: Property initialization: optimal - Optimal Solution Found.\n"
     ]
    },
    {
     "name": "stdout",
     "output_type": "stream",
     "text": [
      "2023-02-18 12:05:10 [INFO] idaes.init.fs.R101.control_volume.properties_out: Starting initialization\n"
     ]
    },
    {
     "name": "stdout",
     "output_type": "stream",
     "text": [
      "2023-02-18 12:05:11 [INFO] idaes.init.fs.R101.control_volume.properties_out: Property initialization: optimal - Optimal Solution Found.\n"
     ]
    },
    {
     "name": "stdout",
     "output_type": "stream",
     "text": [
      "2023-02-18 12:05:11 [INFO] idaes.init.fs.R101.control_volume.reactions: Initialization Complete.\n"
     ]
    },
    {
     "name": "stdout",
     "output_type": "stream",
     "text": [
      "2023-02-18 12:05:11 [INFO] idaes.init.fs.R101.control_volume: Initialization Complete\n"
     ]
    },
    {
     "name": "stdout",
     "output_type": "stream",
     "text": [
      "2023-02-18 12:05:11 [INFO] idaes.init.fs.R101: Initialization Complete: optimal - Optimal Solution Found\n"
     ]
    },
    {
     "name": "stdout",
     "output_type": "stream",
     "text": [
      "2023-02-18 12:05:11 [INFO] idaes.init.fs.PROD.properties: Starting initialization\n"
     ]
    },
    {
     "name": "stdout",
     "output_type": "stream",
     "text": [
      "2023-02-18 12:05:11 [INFO] idaes.init.fs.PROD.properties: Property initialization: optimal - Optimal Solution Found.\n"
     ]
    },
    {
     "name": "stdout",
     "output_type": "stream",
     "text": [
      "2023-02-18 12:05:11 [INFO] idaes.init.fs.PROD.properties: Property package initialization: optimal - Optimal Solution Found.\n"
     ]
    },
    {
     "name": "stdout",
     "output_type": "stream",
     "text": [
      "2023-02-18 12:05:11 [INFO] idaes.init.fs.PROD: Initialization Complete.\n"
     ]
    }
   ],
   "source": [
    "# Initialize and solve each unit operation\n",
    "m.fs.OXIDE.initialize()\n",
    "propagate_state(arc=m.fs.s01)\n",
    "\n",
    "m.fs.ACID.initialize()\n",
    "propagate_state(arc=m.fs.s01)\n",
    "\n",
    "m.fs.M101.initialize()\n",
    "propagate_state(arc=m.fs.s03)\n",
    "\n",
    "m.fs.H101.initialize()\n",
    "propagate_state(arc=m.fs.s04)\n",
    "\n",
    "m.fs.R101.initialize()\n",
    "propagate_state(arc=m.fs.s05)\n",
    "\n",
    "m.fs.PROD.initialize()\n",
    "\n",
    "# set solver\n",
    "solver = get_solver()"
   ]
  },
  {
   "cell_type": "code",
   "execution_count": 18,
   "metadata": {
    "scrolled": true
   },
   "outputs": [
    {
     "name": "stdout",
     "output_type": "stream",
     "text": [
      "Ipopt 3.13.2: nlp_scaling_method=gradient-based\n",
      "tol=1e-06\n",
      "\n",
      "\n",
      "******************************************************************************\n",
      "This program contains Ipopt, a library for large-scale nonlinear optimization.\n",
      " Ipopt is released as open source code under the Eclipse Public License (EPL).\n",
      "         For more information visit http://projects.coin-or.org/Ipopt\n",
      "\n",
      "This version of Ipopt was compiled from source code available at\n",
      "    https://github.com/IDAES/Ipopt as part of the Institute for the Design of\n",
      "    Advanced Energy Systems Process Systems Engineering Framework (IDAES PSE\n",
      "    Framework) Copyright (c) 2018-2019. See https://github.com/IDAES/idaes-pse.\n",
      "\n",
      "This version of Ipopt was compiled using HSL, a collection of Fortran codes\n",
      "    for large-scale scientific computation.  All technical papers, sales and\n",
      "    publicity material resulting from use of the HSL codes within IPOPT must\n",
      "    contain the following acknowledgement:\n",
      "        HSL, a collection of Fortran codes for large-scale scientific\n",
      "        computation. See http://www.hsl.rl.ac.uk.\n",
      "******************************************************************************\n",
      "\n",
      "This is Ipopt version 3.13.2, running with linear solver ma27.\n",
      "\n",
      "Number of nonzeros in equality constraint Jacobian...:      337\n",
      "Number of nonzeros in inequality constraint Jacobian.:        0\n",
      "Number of nonzeros in Lagrangian Hessian.............:      383\n",
      "\n",
      "Total number of variables............................:       95\n",
      "                     variables with only lower bounds:        0\n",
      "                variables with lower and upper bounds:       86\n",
      "                     variables with only upper bounds:        0\n",
      "Total number of equality constraints.................:       95\n",
      "Total number of inequality constraints...............:        0\n",
      "        inequality constraints with only lower bounds:        0\n",
      "   inequality constraints with lower and upper bounds:        0\n",
      "        inequality constraints with only upper bounds:        0\n",
      "\n",
      "iter    objective    inf_pr   inf_du lg(mu)  ||d||  lg(rg) alpha_du alpha_pr  ls\n",
      "   0  0.0000000e+00 1.30e+06 0.00e+00  -1.0 0.00e+00    -  0.00e+00 0.00e+00   0\n",
      "   1  0.0000000e+00 2.66e+06 1.28e+01  -1.0 9.75e+06    -  6.77e-02 9.90e-01h  1\n",
      "   2  0.0000000e+00 2.36e+04 2.90e+02  -1.0 9.75e+04    -  7.00e-01 9.90e-01h  1\n",
      "   3  0.0000000e+00 2.43e+02 1.44e+01  -1.0 9.74e+02    -  9.90e-01 9.90e-01h  1\n",
      "   4  0.0000000e+00 1.85e+00 3.18e+03  -1.0 9.62e+00    -  9.90e-01 9.92e-01h  1\n",
      "   5  0.0000000e+00 8.94e-08 3.34e+03  -1.0 7.33e-02    -  9.94e-01 1.00e+00h  1\n",
      "Cannot recompute multipliers for feasibility problem.  Error in eq_mult_calculator\n",
      "\n",
      "Number of Iterations....: 5\n",
      "\n",
      "                                   (scaled)                 (unscaled)\n",
      "Objective...............:   0.0000000000000000e+00    0.0000000000000000e+00\n",
      "Dual infeasibility......:   1.6686898422600192e+06    1.6686898422600192e+06\n",
      "Constraint violation....:   1.9895196601282805e-13    8.9406967163085938e-08\n",
      "Complementarity.........:   0.0000000000000000e+00    0.0000000000000000e+00\n",
      "Overall NLP error.......:   1.9895196601282805e-13    1.6686898422600192e+06\n",
      "\n",
      "\n",
      "Number of objective function evaluations             = 6\n",
      "Number of objective gradient evaluations             = 6\n",
      "Number of equality constraint evaluations            = 6\n",
      "Number of inequality constraint evaluations          = 0\n",
      "Number of equality constraint Jacobian evaluations   = 6\n",
      "Number of inequality constraint Jacobian evaluations = 0\n",
      "Number of Lagrangian Hessian evaluations             = 5\n",
      "Total CPU secs in IPOPT (w/o function evaluations)   =      0.002\n",
      "Total CPU secs in NLP function evaluations           =      0.001\n",
      "\n",
      "EXIT: Optimal Solution Found.\n"
     ]
    }
   ],
   "source": [
    "# Solve the model\n",
    "results = solver.solve(m, tee=True)"
   ]
  },
  {
   "cell_type": "code",
   "execution_count": 19,
   "metadata": {},
   "outputs": [
    {
     "name": "stdout",
     "output_type": "stream",
     "text": [
      "operating cost = $3.458 million per year\n"
     ]
    }
   ],
   "source": [
    "print(f\"operating cost = ${value(m.fs.operating_cost)/1e6:0.3f} million per year\")"
   ]
  },
  {
   "cell_type": "code",
   "execution_count": 20,
   "metadata": {},
   "outputs": [
    {
     "name": "stdout",
     "output_type": "stream",
     "text": [
      "\n",
      "====================================================================================\n",
      "Unit : fs.R101                                                             Time: 0.0\n",
      "------------------------------------------------------------------------------------\n",
      "    Unit Performance\n",
      "\n",
      "    Variables: \n",
      "\n",
      "    Key                  : Value       : Units         : Fixed : Bounds\n",
      "               Heat Duty : -5.6566e+06 :          watt : False : (None, None)\n",
      "    Reaction Extent [R1] :      46.400 : mole / second : False : (None, None)\n",
      "\n",
      "------------------------------------------------------------------------------------\n",
      "    Stream Table\n",
      "                                                  Units         Inlet     Outlet  \n",
      "    Molar Flowrate ('Liq', 'ethylene_oxide')   mole / second     58.000     11.600\n",
      "    Molar Flowrate ('Liq', 'water')            mole / second     239.60     193.20\n",
      "    Molar Flowrate ('Liq', 'sulfuric_acid')    mole / second    0.33401    0.33401\n",
      "    Molar Flowrate ('Liq', 'ethylene_glycol')  mole / second 2.0000e-05     46.400\n",
      "    Temperature                                       kelvin     328.15     328.15\n",
      "    Pressure                                          pascal 1.0000e+05 1.0000e+05\n",
      "====================================================================================\n",
      "\n",
      "Conversion achieved = 80.0%\n"
     ]
    }
   ],
   "source": [
    "m.fs.R101.report()\n",
    "\n",
    "print()\n",
    "print(f\"Conversion achieved = {value(m.fs.R101.conversion):.1%}\")"
   ]
  },
  {
   "cell_type": "code",
   "execution_count": 21,
   "metadata": {},
   "outputs": [],
   "source": [
    "m.fs.objective = Objective(expr=m.fs.operating_cost)"
   ]
  },
  {
   "cell_type": "code",
   "execution_count": 22,
   "metadata": {},
   "outputs": [],
   "source": [
    "m.fs.eg_prod_con = Constraint(\n",
    "    expr=m.fs.eg_prod >= 200 * pyunits.Mlb / pyunits.yr\n",
    ")  # MM lb/year\n",
    "m.fs.R101.conversion.fix(0.90)\n",
    "\n",
    "m.fs.H101.outlet.temperature.unfix()\n",
    "m.fs.H101.outlet.temperature[0].setlb(328.15 * pyunits.K)\n",
    "m.fs.H101.outlet.temperature[0].setub(\n",
    "    470.45 * pyunits.K\n",
    ")  # highest component boiling point (ethylene glycol)\n",
    "\n",
    "m.fs.R101.outlet.temperature.unfix()"
   ]
  },
  {
   "cell_type": "code",
   "execution_count": 23,
   "metadata": {
    "scrolled": true
   },
   "outputs": [
    {
     "name": "stdout",
     "output_type": "stream",
     "text": [
      "Ipopt 3.13.2: nlp_scaling_method=gradient-based\n",
      "tol=1e-06\n",
      "\n",
      "\n",
      "******************************************************************************\n",
      "This program contains Ipopt, a library for large-scale nonlinear optimization.\n",
      " Ipopt is released as open source code under the Eclipse Public License (EPL).\n",
      "         For more information visit http://projects.coin-or.org/Ipopt\n",
      "\n",
      "This version of Ipopt was compiled from source code available at\n",
      "    https://github.com/IDAES/Ipopt as part of the Institute for the Design of\n",
      "    Advanced Energy Systems Process Systems Engineering Framework (IDAES PSE\n",
      "    Framework) Copyright (c) 2018-2019. See https://github.com/IDAES/idaes-pse.\n",
      "\n",
      "This version of Ipopt was compiled using HSL, a collection of Fortran codes\n",
      "    for large-scale scientific computation.  All technical papers, sales and\n",
      "    publicity material resulting from use of the HSL codes within IPOPT must\n",
      "    contain the following acknowledgement:\n",
      "        HSL, a collection of Fortran codes for large-scale scientific\n",
      "        computation. See http://www.hsl.rl.ac.uk.\n",
      "******************************************************************************\n",
      "\n",
      "This is Ipopt version 3.13.2, running with linear solver ma27.\n",
      "\n",
      "Number of nonzeros in equality constraint Jacobian...:      341\n",
      "Number of nonzeros in inequality constraint Jacobian.:        1\n",
      "Number of nonzeros in Lagrangian Hessian.............:      403\n",
      "\n",
      "Total number of variables............................:       97\n",
      "                     variables with only lower bounds:        0\n",
      "                variables with lower and upper bounds:       88\n",
      "                     variables with only upper bounds:        0\n",
      "Total number of equality constraints.................:       95\n",
      "Total number of inequality constraints...............:        1\n",
      "        inequality constraints with only lower bounds:        1\n",
      "   inequality constraints with lower and upper bounds:        0\n",
      "        inequality constraints with only upper bounds:        0\n",
      "\n",
      "iter    objective    inf_pr   inf_du lg(mu)  ||d||  lg(rg) alpha_du alpha_pr  ls\n",
      "   0  3.4581399e+06 1.76e+06 6.34e+00  -1.0 0.00e+00    -  0.00e+00 0.00e+00   0\n",
      "   1  3.4605363e+06 1.75e+06 1.17e+01  -1.0 6.95e+05    -  7.82e-02 6.15e-03h  1\n",
      "   2  3.4956495e+06 1.61e+06 6.65e+01  -1.0 6.94e+05    -  1.27e-01 8.29e-02h  1\n",
      "   3  3.5669528e+06 1.31e+06 4.78e+02  -1.0 6.33e+05    -  1.61e-01 1.84e-01h  1\n",
      "   4  3.6648118e+06 9.11e+05 3.39e+02  -1.0 5.26e+05    -  9.11e-01 3.05e-01h  1\n",
      "   5  3.8858215e+06 1.14e+04 1.07e+01  -1.0 3.65e+05    -  9.88e-01 9.90e-01h  1\n",
      "   6  3.8880314e+06 1.02e+02 2.00e+00  -1.0 3.65e+03    -  9.90e-01 9.91e-01h  1\n",
      "   7  3.8880511e+06 4.13e-05 1.64e-03  -1.0 3.23e+01    -  1.00e+00 1.00e+00h  1\n",
      "   8  3.8880508e+06 2.06e-06 1.09e+01  -5.7 3.42e-01    -  1.00e+00 1.00e+00f  1\n",
      "   9  3.8880508e+06 2.05e-08 3.69e-07  -5.7 2.15e-05    -  1.00e+00 1.00e+00f  1\n",
      "iter    objective    inf_pr   inf_du lg(mu)  ||d||  lg(rg) alpha_du alpha_pr  ls\n",
      "  10  3.8880508e+06 4.66e-09 4.00e-07  -7.0 6.02e-06    -  1.00e+00 1.00e+00f  1\n",
      "\n",
      "Number of Iterations....: 10\n",
      "\n",
      "                                   (scaled)                 (unscaled)\n",
      "Objective...............:   3.8880508414204163e+06    3.8880508414204163e+06\n",
      "Dual infeasibility......:   4.0007411785832306e-07    4.0007411785832306e-07\n",
      "Constraint violation....:   7.1054273576010019e-15    4.6566128730773926e-09\n",
      "Complementarity.........:   9.0909183706024063e-08    9.0909183706024063e-08\n",
      "Overall NLP error.......:   9.0909183706024063e-08    4.0007411785832306e-07\n",
      "\n",
      "\n",
      "Number of objective function evaluations             = 11\n",
      "Number of objective gradient evaluations             = 11\n",
      "Number of equality constraint evaluations            = 11\n",
      "Number of inequality constraint evaluations          = 11\n",
      "Number of equality constraint Jacobian evaluations   = 11\n",
      "Number of inequality constraint Jacobian evaluations = 11\n",
      "Number of Lagrangian Hessian evaluations             = 10\n",
      "Total CPU secs in IPOPT (w/o function evaluations)   =      0.004\n",
      "Total CPU secs in NLP function evaluations           =      0.000\n",
      "\n",
      "EXIT: Optimal Solution Found.\n"
     ]
    }
   ],
   "source": [
    "results = solver.solve(m, tee=True)"
   ]
  },
  {
   "cell_type": "code",
   "execution_count": 24,
   "metadata": {},
   "outputs": [
    {
     "name": "stdout",
     "output_type": "stream",
     "text": [
      "operating cost = $3.888 million per year\n",
      "\n",
      "Heater results\n",
      "\n",
      "====================================================================================\n",
      "Unit : fs.H101                                                             Time: 0.0\n",
      "------------------------------------------------------------------------------------\n",
      "    Unit Performance\n",
      "\n",
      "    Variables: \n",
      "\n",
      "    Key       : Value  : Units : Fixed : Bounds\n",
      "    Heat Duty : 699.26 :  watt : False : (None, None)\n",
      "\n",
      "------------------------------------------------------------------------------------\n",
      "    Stream Table\n",
      "                                                  Units         Inlet     Outlet  \n",
      "    Molar Flowrate ('Liq', 'ethylene_oxide')   mole / second     58.000     58.000\n",
      "    Molar Flowrate ('Liq', 'water')            mole / second     239.60     239.60\n",
      "    Molar Flowrate ('Liq', 'sulfuric_acid')    mole / second    0.33401    0.33401\n",
      "    Molar Flowrate ('Liq', 'ethylene_glycol')  mole / second 2.0000e-05 2.0000e-05\n",
      "    Temperature                                       kelvin     298.15     328.15\n",
      "    Pressure                                          pascal 1.0000e+05 1.0000e+05\n",
      "====================================================================================\n",
      "\n",
      "Stoichiometric reactor results\n",
      "\n",
      "====================================================================================\n",
      "Unit : fs.R101                                                             Time: 0.0\n",
      "------------------------------------------------------------------------------------\n",
      "    Unit Performance\n",
      "\n",
      "    Variables: \n",
      "\n",
      "    Key                  : Value       : Units         : Fixed : Bounds\n",
      "               Heat Duty : -6.3608e+06 :          watt : False : (None, None)\n",
      "    Reaction Extent [R1] :      52.200 : mole / second : False : (None, None)\n",
      "\n",
      "------------------------------------------------------------------------------------\n",
      "    Stream Table\n",
      "                                                  Units         Inlet     Outlet  \n",
      "    Molar Flowrate ('Liq', 'ethylene_oxide')   mole / second     58.000     5.8000\n",
      "    Molar Flowrate ('Liq', 'water')            mole / second     239.60     187.40\n",
      "    Molar Flowrate ('Liq', 'sulfuric_acid')    mole / second    0.33401    0.33401\n",
      "    Molar Flowrate ('Liq', 'ethylene_glycol')  mole / second 2.0000e-05     52.200\n",
      "    Temperature                                       kelvin     328.15     450.00\n",
      "    Pressure                                          pascal 1.0000e+05 1.0000e+05\n",
      "====================================================================================\n"
     ]
    }
   ],
   "source": [
    "print(f\"operating cost = ${value(m.fs.operating_cost)/1e6:0.3f} million per year\")\n",
    "\n",
    "print()\n",
    "print(\"Heater results\")\n",
    "\n",
    "m.fs.H101.report()\n",
    "\n",
    "print()\n",
    "print(\"Stoichiometric reactor results\")\n",
    "\n",
    "m.fs.R101.report()"
   ]
  },
  {
   "cell_type": "code",
   "execution_count": 25,
   "metadata": {},
   "outputs": [
    {
     "name": "stdout",
     "output_type": "stream",
     "text": [
      "Optimal Values\n",
      "\n",
      "H101 outlet temperature = 328.150 K\n",
      "\n",
      "R101 outlet temperature = 450.000 K\n",
      "\n",
      "Ethylene glycol produced = 225.415 MM lb/year\n",
      "\n",
      "Conversion achieved = 90.0%\n"
     ]
    }
   ],
   "source": [
    "print(\"Optimal Values\")\n",
    "print()\n",
    "\n",
    "print(f\"H101 outlet temperature = {value(m.fs.H101.outlet.temperature[0]):0.3f} K\")\n",
    "\n",
    "print()\n",
    "print(f\"R101 outlet temperature = {value(m.fs.R101.outlet.temperature[0]):0.3f} K\")\n",
    "\n",
    "print()\n",
    "print(f\"Ethylene glycol produced = {value(m.fs.eg_prod):0.3f} MM lb/year\")\n",
    "\n",
    "print()\n",
    "print(f\"Conversion achieved = {value(m.fs.R101.conversion):.1%}\")"
   ]
  },
  {
   "cell_type": "code",
   "execution_count": null,
   "metadata": {},
   "outputs": [],
   "source": []
  }
 ],
 "metadata": {
  "celltoolbar": "Tags",
  "kernelspec": {
   "display_name": "Python 3 (ipykernel)",
   "language": "python",
   "name": "python3"
  },
  "language_info": {
   "codemirror_mode": {
    "name": "ipython",
    "version": 3
   },
   "file_extension": ".py",
   "mimetype": "text/x-python",
   "name": "python",
   "nbconvert_exporter": "python",
   "pygments_lexer": "ipython3",
   "version": "3.10.0"
  }
 },
 "nbformat": 4,
 "nbformat_minor": 4
}