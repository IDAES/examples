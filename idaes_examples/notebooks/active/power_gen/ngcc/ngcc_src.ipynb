{
 "cells": [
  {
   "cell_type": "code",
   "execution_count": 1,
   "id": "57e472cb",
   "metadata": {
    "tags": [
     "header",
     "hide-cell"
    ]
   },
   "outputs": [],
   "source": [
    "###############################################################################\n",
    "# The Institute for the Design of Advanced Energy Systems Integrated Platform\n",
    "# Framework (IDAES IP) was produced under the DOE Institute for the\n",
    "# Design of Advanced Energy Systems (IDAES).\n",
    "#\n",
    "# Copyright (c) 2018-2023 by the software owners: The Regents of the\n",
    "# University of California, through Lawrence Berkeley National Laboratory,\n",
    "# National Technology & Engineering Solutions of Sandia, LLC, Carnegie Mellon\n",
    "# University, West Virginia University Research Corporation, et al.\n",
    "# All rights reserved.  Please see the files COPYRIGHT.md and LICENSE.md\n",
    "# for full copyright and license information.\n",
    "###############################################################################"
   ]
  },
  {
   "cell_type": "markdown",
   "id": "a9d7e2e8-7f9c-470a-a3d7-610379b126c5",
   "metadata": {},
   "source": [
    "# NGCC Baseline and Turndown\n",
    "\n",
    "This notebook runs a series of net electric power outputs from 650 MW to 160 MW (about 100% to 25%) for an NGCC with 97% CO2 capture. The NGCC model is based on the NETL report \"Cost and Performance Baseline for Fossil Energy Plants Volume 1: Bituminous Coal and Natural Gas to Electricity.\" Sept 2019, Case B31B (https://www.netl.doe.gov/projects/files/CostAndPerformanceBaselineForFossilEnergyPlantsVol1BitumCoalAndNGtoElectBBRRev4-1_092419.pdf)."
   ]
  },
  {
   "cell_type": "markdown",
   "id": "5909e2f4-7e6b-4f4d-80f5-c0acf5e98b3a",
   "metadata": {},
   "source": [
    "## Imports\n",
    "\n",
    "Import the modules that will be used."
   ]
  },
  {
   "cell_type": "code",
   "execution_count": 2,
   "id": "0715f66d-7445-416d-ac0d-5f7b66109d02",
   "metadata": {},
   "outputs": [],
   "source": [
    "import os\n",
    "import numpy as np\n",
    "import pandas as pd\n",
    "from IPython.core.display import SVG\n",
    "import pyomo.environ as pyo\n",
    "import idaes\n",
    "from idaes.core.solvers import use_idaes_solver_configuration_defaults\n",
    "import idaes.core.util.scaling as iscale\n",
    "import idaes.core.util as iutil\n",
    "from idaes_examples.mod.power_gen import ngcc\n",
    "import pytest\n",
    "import logging\n",
    "\n",
    "logging.getLogger(\"pyomo\").setLevel(logging.ERROR)"
   ]
  },
  {
   "cell_type": "markdown",
   "id": "094039d1-7856-41ce-9f86-1155958475a7",
   "metadata": {},
   "source": [
    "## Make Output Directories\n",
    "\n",
    "This notebook can produce a large number of output files.  To make it easier to manage, some subdirectories are used to organize output.  This ensures that the directories exist."
   ]
  },
  {
   "cell_type": "code",
   "execution_count": 3,
   "id": "7f885223-7177-4844-8fbf-9345354e6c6a",
   "metadata": {},
   "outputs": [],
   "source": [
    "def make_directory(path):\n",
    "    \"\"\"Make a directory if it doesn't exist\"\"\"\n",
    "    try:\n",
    "        os.mkdir(path)\n",
    "    except FileExistsError:\n",
    "        pass\n",
    "\n",
    "\n",
    "make_directory(\"data\")\n",
    "make_directory(\"data_pfds\")\n",
    "make_directory(\"data_tabulated\")"
   ]
  },
  {
   "cell_type": "markdown",
   "id": "3e9853f8-2379-424b-9d15-684ed134dcdb",
   "metadata": {},
   "source": [
    "## Global Solver Settings\n",
    "\n",
    "Use the IDAES configuration system for solver settings. These will apply to all Ipopt instances created, including the ones created in initialization methods."
   ]
  },
  {
   "cell_type": "code",
   "execution_count": 4,
   "id": "e1bd4274-e84e-447f-a08a-df579e202552",
   "metadata": {},
   "outputs": [],
   "source": [
    "use_idaes_solver_configuration_defaults()\n",
    "idaes.cfg.ipopt.options.nlp_scaling_method = \"user-scaling\"\n",
    "idaes.cfg.ipopt.options.linear_solver = \"ma57\"\n",
    "idaes.cfg.ipopt.options.OF_ma57_automatic_scaling = \"yes\"\n",
    "idaes.cfg.ipopt.options.ma57_pivtol = 1e-5\n",
    "idaes.cfg.ipopt.options.ma57_pivtolmax = 0.1\n",
    "solver = pyo.SolverFactory(\"ipopt\")"
   ]
  },
  {
   "cell_type": "markdown",
   "id": "1b42f1c1-df27-4383-bb3f-89366e5b3631",
   "metadata": {},
   "source": [
    "## Create the NGCC model\n",
    "\n",
    "Create the NGCC model and initialize it or read the saved initialization if available.  The base initialized NGCC model is configured to match the baseline report with 90% capture using a Cansolv system."
   ]
  },
  {
   "cell_type": "code",
   "execution_count": 5,
   "id": "4be93945-9de6-44c7-8c30-3b824b086b72",
   "metadata": {},
   "outputs": [],
   "source": [
    "m = pyo.ConcreteModel()\n",
    "m.fs = ngcc.NgccFlowsheet(dynamic=False)\n",
    "iscale.calculate_scaling_factors(m)\n",
    "m.fs.initialize(\n",
    "    load_from=\"ngcc_init.json.gz\",\n",
    "    save_to=\"ngcc_init.json.gz\",\n",
    ")\n",
    "res = solver.solve(m, tee=True)"
   ]
  },
  {
   "cell_type": "markdown",
   "id": "07da5349-dfdb-4ba2-adbe-e1e585405d95",
   "metadata": {},
   "source": [
    "## Show PFDs with baseline results\n",
    "\n",
    "This displays PFDs in the notebook, and saves them to files.  The full NGCC model is too big to show well in a single PFD, so it is broken into the three main sections, gas turbine, heat recovery steam generator (HRSG), and steam turbine."
   ]
  },
  {
   "cell_type": "code",
   "execution_count": 6,
   "id": "7328df70-190f-4ff3-8992-e8c23fa646a6",
   "metadata": {},
   "outputs": [],
   "source": [
    "def display_pfd():\n",
    "    print(\"\\n\\nGas Turbine Section\\n\")\n",
    "    display(SVG(m.fs.gt.write_pfd()))\n",
    "    print(\"\\n\\nHRSG Section\\n\")\n",
    "    display(SVG(m.fs.hrsg.write_pfd()))\n",
    "    print(\"\\n\\nSteam Turbine Section\\n\")\n",
    "    display(SVG(m.fs.st.write_pfd()))\n",
    "\n",
    "\n",
    "display_pfd()\n",
    "\n",
    "m.fs.gt.write_pfd(fname=\"data_pfds/gt_baseline.svg\")\n",
    "m.fs.hrsg.write_pfd(fname=\"data_pfds/hrsg_baseline.svg\")\n",
    "m.fs.st.write_pfd(fname=\"data_pfds/st_baseline.svg\")"
   ]
  },
  {
   "cell_type": "markdown",
   "id": "8650f31c-7dc6-4514-bb79-431b6448bb0f",
   "metadata": {},
   "source": [
    "## Test key model outputs against NETL baseline"
   ]
  },
  {
   "cell_type": "code",
   "execution_count": 7,
   "id": "dbd2d895-d39b-4b9b-ae26-e88271794f9a",
   "metadata": {},
   "outputs": [],
   "source": [
    "# Assert results approximatly agree with baseline reoprt\n",
    "assert pyo.value(m.fs.net_power_mw[0]) == pytest.approx(646)\n",
    "assert pyo.value(m.fs.gross_power[0]) == pytest.approx(-690e6, rel=0.001)\n",
    "assert pyo.value(100 * m.fs.lhv_efficiency[0]) == pytest.approx(52.8, abs=0.1)\n",
    "assert pyo.value(\n",
    "    m.fs.total_variable_cost_rate[0] / m.fs.net_power_mw[0]\n",
    ") == pytest.approx(37.2799, rel=0.01)\n",
    "assert pyo.value(m.fs.fuel_cost_rate[0] / m.fs.net_power_mw[0]) == pytest.approx(\n",
    "    31.6462, rel=0.01\n",
    ")\n",
    "assert pyo.value(\n",
    "    m.fs.other_variable_cost_rate[0] / m.fs.net_power_mw[0]\n",
    ") == pytest.approx(5.63373, rel=0.01)\n",
    "assert pyo.value(m.fs.gt.gt_power[0]) == pytest.approx(-477e6, rel=0.001)"
   ]
  },
  {
   "cell_type": "code",
   "execution_count": 8,
   "id": "9bdbe1c9",
   "metadata": {},
   "outputs": [],
   "source": [
    "from matplotlib import pyplot as plt\n",
    "\n",
    "\n",
    "variables = [\"net_power\", \"gross_power\", \"gt_power\"]\n",
    "netl_baseline = [646, 690, 477]\n",
    "idaes_prediction = [\n",
    "    pyo.value(m.fs.net_power_mw[0]),\n",
    "    -pyo.value(m.fs.gross_power[0]) * 1e-6,\n",
    "    -pyo.value(m.fs.gt.gt_power[0]) * 1e-6,\n",
    "]\n",
    "\n",
    "label_location = np.arange(len(variables))\n",
    "\n",
    "width = 0.4\n",
    "\n",
    "fig, ax = plt.subplots()\n",
    "netl_data = ax.bar(variables, netl_baseline, label=\"NETL Baseline\")\n",
    "idaes_sim = ax.bar(\n",
    "    label_location + (width / 2), idaes_prediction, width, label=\"IDAES Prediction\"\n",
    ")\n",
    "\n",
    "ax.set_ylabel(\"Power (MW)\")\n",
    "ax.set_xticks(label_location)\n",
    "ax.set_xticklabels(variables)\n",
    "ax.legend()"
   ]
  },
  {
   "cell_type": "markdown",
   "id": "2f698f63-395b-47af-b15a-11a4521f5867",
   "metadata": {},
   "source": [
    "## Run turndown cases 5 MW interval\n",
    "\n",
    "Here we set the CO2 capture rate to 97% and set the specific reboiler duty to PZ advanced solvent system. The minimum power is 160 MW net, which corresponds to a bit under 25%.  This is roughly the minimum load for the NGCC modeled. Results are tabulated for tags in the tags_output tag group in a Pandas data frame. \n",
    "\n",
    "To run the series, change run_series to True.  Running the turndown series takes a while, unless previous saved results are available. "
   ]
  },
  {
   "cell_type": "code",
   "execution_count": 9,
   "id": "ac00b64f-087a-41da-ac62-c24d71f13de2",
   "metadata": {},
   "outputs": [],
   "source": [
    "run_series = False\n",
    "if run_series:\n",
    "    idaes.cfg.ipopt.options.tol = 1e-6\n",
    "    idaes.cfg.ipopt.options.max_iter = 50\n",
    "    solver = pyo.SolverFactory(\"ipopt\")\n",
    "\n",
    "    m.fs.cap_specific_reboiler_duty.fix(2.4e6)\n",
    "    m.fs.cap_fraction.fix(0.97)\n",
    "    powers = np.linspace(650, 160, int((650 - 160) / 5) + 1)\n",
    "    powers = list(powers)\n",
    "    powers.insert(1, 646)\n",
    "\n",
    "    df = pd.DataFrame(columns=m.fs.tags_output.table_heading())\n",
    "\n",
    "    for p in powers:\n",
    "        print(\"Simulation for net power = \", p)\n",
    "        fname = f\"data/ngcc_{int(p)}.json.gz\"\n",
    "        if os.path.exists(fname):\n",
    "            iutil.from_json(m, fname=fname, wts=iutil.StoreSpec(suffix=False))\n",
    "        else:\n",
    "            m.fs.net_power_mw.fix(p)\n",
    "            res = solver.solve(m, tee=False, symbolic_solver_labels=True)\n",
    "            if not pyo.check_optimal_termination(res):\n",
    "                break\n",
    "            iutil.to_json(m, fname=fname)\n",
    "        df.loc[m.fs.tags_output[\"net_power\"].value] = m.fs.tags_output.table_row(\n",
    "            numeric=True\n",
    "        )\n",
    "        if abs(p - 650) < 0.1:\n",
    "            m.fs.gt.streams_dataframe().to_csv(\n",
    "                \"data_tabulated/ngcc_stream_650mw_gt.csv\"\n",
    "            )\n",
    "            m.fs.st.steam_streams_dataframe().to_csv(\n",
    "                \"data_tabulated/ngcc_stream_650mw_st.csv\"\n",
    "            )\n",
    "            m.fs.hrsg.steam_streams_dataframe().to_csv(\n",
    "                \"data_tabulated/ngcc_stream_650mw_hrsg_steam.csv\"\n",
    "            )\n",
    "            m.fs.hrsg.flue_gas_streams_dataframe().to_csv(\n",
    "                \"data_tabulated/ngcc_stream_650mw_hrsg_gas.csv\"\n",
    "            )\n",
    "    df.to_csv(\"data_tabulated/ngcc.csv\")\n",
    "\n",
    "    # Display the results from the run stored in a pandas dataframe\n",
    "    pd.set_option(\"display.max_rows\", None)\n",
    "    pd.set_option(\"display.max_columns\", None)\n",
    "    display(df)\n",
    "\n",
    "    # Plot results\n",
    "    plt.plot(df[\"net_power (MW)\"], df[\"lhv_efficiency (%)\"])\n",
    "    plt.grid()\n",
    "    plt.xlabel(\"Net Power (MW)\")\n",
    "    plt.ylabel(\"LHV Efficiency (%)\")\n",
    "    plt.title(\"Net Power vs. Efficiency\")\n",
    "    plt.show()"
   ]
  },
  {
   "cell_type": "code",
   "execution_count": null,
   "id": "81822702-2056-478c-843e-ddcab4ec83a3",
   "metadata": {},
   "outputs": [],
   "source": []
  }
 ],
 "metadata": {
  "kernelspec": {
   "display_name": "Python 3 (ipykernel)",
   "language": "python",
   "name": "python3"
  },
  "language_info": {
   "codemirror_mode": {
    "name": "ipython",
    "version": 3
   },
   "file_extension": ".py",
   "mimetype": "text/x-python",
   "name": "python",
   "nbconvert_exporter": "python",
   "pygments_lexer": "ipython3",
   "version": "3.10.9"
  }
 },
 "nbformat": 4,
 "nbformat_minor": 5
}
