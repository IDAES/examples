{
 "cells": [
  {
   "cell_type": "code",
   "execution_count": 1,
   "metadata": {
    "tags": [
     "header",
     "hide-cell"
    ]
   },
   "outputs": [],
   "source": [
    "###############################################################################\n",
    "# Thee Institute for the Design of Advanced Energy Systems Integrated Platform\n",
    "# Framework (IDAES IP) was produced under the DOE Institute for the\n",
    "# Design of Advanced Energy Systems (IDAES).\n",
    "#\n",
    "# Copyright (c) 2018-2023 by the software owners: The Regents of the\n",
    "# University of California, through Lawrence Berkeley National Laboratory,\n",
    "# National Technology & Engineering Solutions of Sandia, LLC, Carnegie Mellon\n",
    "# University, West Virginia University Research Corporation, et al.\n",
    "# All rights reserved.  Please see the files COPYRIGHT.md and LICENSE.md\n",
    "# for full copyright and license information.\n",
    "###############################################################################"
   ]
  },
  {
   "cell_type": "markdown",
   "metadata": {},
   "source": [
    "# Jupyter Notebook Cell Tags tutorial\n",
    "\n",
    "This notebook is used to demonstrate how to use the IDAES-specific\n",
    "cell 'tags.\n",
    "\n",
    "## Viewing and setting tags\n",
    "\n",
    "To see the tags on the notebook cells, select \"View\" from the main Jupyter menu, navigate to the \"Cell toolbar\" sub-menu, and select \"Tags\". A new section should appear on each cell with the list of tags on the left and an \"Add tag\" button and textbox on the right.\n",
    "\n",
    "To add a new tag to the cell, simply type the tag name into the textbox on the right and click on \"Add tag\".\n",
    "\n",
    "To remove a tag, click the \"x\" next to the tag where it is displayed on the left.\n",
    "\n",
    "## Tour\n",
    "\n",
    "The remainder of this notebook provides a \"tour\" of the tags understood by the IDAES preprocessing step."
   ]
  },
  {
   "cell_type": "markdown",
   "metadata": {
    "tags": [
     "exercise"
    ]
   },
   "source": [
    "### Exercise cell\n",
    "This cell gives an exercise in a tutorial notebook.\n",
    "For example:\n",
    "* Write the Python code to calculate 2^10\n",
    "\n",
    "In an exercise notebook, the solution to this will not be shown."
   ]
  },
  {
   "cell_type": "code",
   "execution_count": null,
   "metadata": {
    "tags": [
     "exercise"
    ]
   },
   "outputs": [],
   "source": [
    "# Exercise cells can also be used to provide placheolders for the user\n",
    "# to type in a solution\n",
    "\n",
    "# Enter your solution here:"
   ]
  },
  {
   "cell_type": "code",
   "execution_count": 7,
   "metadata": {
    "tags": [
     "noauto"
    ]
   },
   "outputs": [],
   "source": [
    "# The 'noauto' tag means remove this cell for automatic runs,\n",
    "# i.e., creating documentation or running tests\n",
    "# This is useful for things like visualizations or opening new browser windows.\n",
    "import webbrowser\n",
    "\n",
    "status = webbrowser.open(\"https://www.google.com/\")"
   ]
  }
 ],
 "metadata": {
  "celltoolbar": "Tags",
  "kernelspec": {
   "display_name": "Python 3 (ipykernel)",
   "language": "python",
   "name": "python3"
  },
  "language_info": {
   "codemirror_mode": {
    "name": "ipython",
    "version": 3
   },
   "file_extension": ".py",
   "mimetype": "text/x-python",
   "name": "python",
   "nbconvert_exporter": "python",
   "pygments_lexer": "ipython3",
   "version": "3.10.9"
  }
 },
 "nbformat": 4,
 "nbformat_minor": 3
}
