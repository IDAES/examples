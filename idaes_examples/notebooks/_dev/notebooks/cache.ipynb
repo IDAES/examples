{
 "cells": [
  {
   "cell_type": "code",
   "execution_count": 24,
   "id": "0e880208-5302-4d45-a032-e8a133145195",
   "metadata": {
    "tags": []
   },
   "outputs": [],
   "source": [
    "from jupyter_cache import get_cache\n",
    "cache = get_cache(\"nbcache\")\n",
    "import nbformat as nbf\n",
    "from pathlib import Path"
   ]
  },
  {
   "cell_type": "code",
   "execution_count": 31,
   "id": "5c8ba78d-0d4f-4634-944e-47fba300fa11",
   "metadata": {
    "tags": []
   },
   "outputs": [],
   "source": [
    "from idaes_examples.util import find_notebooks, read_toc, Ext"
   ]
  },
  {
   "cell_type": "code",
   "execution_count": 30,
   "id": "ce3a5290-3ae0-48cb-a7ca-9fd01a82084c",
   "metadata": {
    "tags": []
   },
   "outputs": [
    {
     "data": {
      "text/plain": [
       "{'format': 'jb-book',\n",
       " 'parts': [{'caption': 'Testing',\n",
       "   'chapters': [{'file': 'ex/index',\n",
       "     'sections': [{'file': 'ex/notebook_tags_example_doc'}]}]}],\n",
       " 'root': 'index'}"
      ]
     },
     "execution_count": 30,
     "metadata": {},
     "output_type": "execute_result"
    }
   ],
   "source": [
    "toc = read_toc(Path(\".\"))\n",
    "toc"
   ]
  },
  {
   "cell_type": "code",
   "execution_count": 62,
   "id": "741d63bb-6be4-4683-a561-579eba61e0cf",
   "metadata": {
    "tags": []
   },
   "outputs": [],
   "source": [
    "def find_cb(path: Path, cache=None):\n",
    "    print(f\"Base notebook: {path}\")\n",
    "    name_base = path.stem[:-3]\n",
    "    count = 0\n",
    "    for ext in (Ext.DOC.value, Ext.TEST.value, Ext.EX.value, Ext.SOL.value, Ext.USER.value): \n",
    "        ext_name = name_base + ext + \".ipynb\"\n",
    "        ext_path = path.parent / ext_name\n",
    "        print(f\"{ext} notebook: {ext_path}\")\n",
    "        try:\n",
    "            node = nbf.read(ext_path, 4)\n",
    "            key, merged_nb = cache.merge_match_into_notebook(node)\n",
    "        except FileNotFoundError:\n",
    "            print(f\"{ext_path} not found\")\n",
    "        except KeyError:\n",
    "            print(f\"{ext_path} not matched in cache\")\n",
    "        else:\n",
    "            with open(ext_path, \"w\", encoding=\"utf-8\") as f:\n",
    "                nbf.write(merged_nb, f)\n",
    "            count += 1\n",
    "    return count"
   ]
  },
  {
   "cell_type": "code",
   "execution_count": 63,
   "id": "9f5254bb-234d-4470-a451-39c63e98849a",
   "metadata": {
    "tags": []
   },
   "outputs": [
    {
     "name": "stdout",
     "output_type": "stream",
     "text": [
      "Base notebook: ex\\notebook_tags_example_src.ipynb\n",
      "doc notebook: ex\\notebook_tags_example_doc.ipynb\n",
      "test notebook: ex\\notebook_tags_example_test.ipynb\n",
      "ex\\notebook_tags_example_test.ipynb not matched in cache\n",
      "exercise notebook: ex\\notebook_tags_example_exercise.ipynb\n",
      "ex\\notebook_tags_example_exercise.ipynb not matched in cache\n",
      "solution notebook: ex\\notebook_tags_example_solution.ipynb\n",
      "ex\\notebook_tags_example_solution.ipynb not matched in cache\n",
      "usr notebook: ex\\notebook_tags_example_usr.ipynb\n",
      "ex\\notebook_tags_example_usr.ipynb not matched in cache\n"
     ]
    },
    {
     "data": {
      "text/plain": [
       "{WindowsPath('ex/notebook_tags_example_src.ipynb'): 1}"
      ]
     },
     "execution_count": 63,
     "metadata": {},
     "output_type": "execute_result"
    }
   ],
   "source": [
    "find_notebooks(Path(\".\"), toc, find_cb, cache=cache)"
   ]
  },
  {
   "cell_type": "code",
   "execution_count": 39,
   "id": "e32f455d-7155-4c68-9b7c-2b0a47f240a1",
   "metadata": {
    "tags": []
   },
   "outputs": [],
   "source": [
    "p = Path(\"ex/notebook_tags_example_src.ipynb\")"
   ]
  },
  {
   "cell_type": "code",
   "execution_count": 66,
   "id": "798502ee-ef61-4f34-80f2-c8cea684a847",
   "metadata": {
    "tags": []
   },
   "outputs": [],
   "source": [
    "cache = get_cache(Path(\"what a day\"))"
   ]
  },
  {
   "cell_type": "code",
   "execution_count": 67,
   "id": "c20fb28a-e451-4af8-843a-ab96e49d83b9",
   "metadata": {
    "tags": []
   },
   "outputs": [
    {
     "data": {
      "text/plain": [
       "Engine(sqlite:///C:\\Users\\dkgun\\src\\dangunter\\idaes-examples\\idaes_examples\\notebooks\\_dev\\notebooks\\what a day\\global.db)"
      ]
     },
     "execution_count": 67,
     "metadata": {},
     "output_type": "execute_result"
    }
   ],
   "source": [
    "cache."
   ]
  },
  {
   "cell_type": "code",
   "execution_count": 42,
   "id": "f437f841-55c2-4085-b541-e3134f6e0752",
   "metadata": {
    "tags": []
   },
   "outputs": [
    {
     "data": {
      "text/plain": [
       "'notebook_tags_example_src'"
      ]
     },
     "execution_count": 42,
     "metadata": {},
     "output_type": "execute_result"
    }
   ],
   "source": [
    "p.stem"
   ]
  },
  {
   "cell_type": "code",
   "execution_count": 44,
   "id": "7c6ebe6a-e314-40ab-b638-97e4b275e696",
   "metadata": {
    "tags": []
   },
   "outputs": [
    {
     "data": {
      "text/plain": [
       "WindowsPath('ex/notebook_tags_example_src.ipynb')"
      ]
     },
     "execution_count": 44,
     "metadata": {},
     "output_type": "execute_result"
    }
   ],
   "source": [
    "p.parent / p.name"
   ]
  },
  {
   "cell_type": "code",
   "execution_count": null,
   "id": "72331b1e-b8bc-4af7-aaa9-55c9c043671f",
   "metadata": {},
   "outputs": [],
   "source": []
  }
 ],
 "metadata": {
  "kernelspec": {
   "display_name": "Python 3 (ipykernel)",
   "language": "python",
   "name": "python3"
  },
  "language_info": {
   "codemirror_mode": {
    "name": "ipython",
    "version": 3
   },
   "file_extension": ".py",
   "mimetype": "text/x-python",
   "name": "python",
   "nbconvert_exporter": "python",
   "pygments_lexer": "ipython3",
   "version": "3.10.9"
  }
 },
 "nbformat": 4,
 "nbformat_minor": 5
}
